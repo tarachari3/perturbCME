{
 "cells": [
  {
   "cell_type": "code",
   "execution_count": 1,
   "id": "89f87db3",
   "metadata": {
    "scrolled": true
   },
   "outputs": [
    {
     "name": "stderr",
     "output_type": "stream",
     "text": [
      "Updating HTML index of packages in '.Library'\n",
      "\n",
      "Making 'packages.html' ...\n",
      " done\n",
      "\n",
      "'getOption(\"repos\")' replaces Bioconductor standard repositories, see\n",
      "'help(\"repositories\", package = \"BiocManager\")' for details.\n",
      "Replacement repositories:\n",
      "    CRAN: https://cran.r-project.org\n",
      "\n",
      "Bioconductor version 3.18 (BiocManager 1.30.22), R 4.3.2 (2023-10-31)\n",
      "\n",
      "Installing package(s) 'BiocVersion', 'scater'\n",
      "\n",
      "also installing the dependencies ‘zlibbioc’, ‘bitops’, ‘XVector’, ‘sparseMatrixStats’, ‘RCurl’, ‘GenomeInfoDbData’, ‘abind’, ‘lambda.r’, ‘futile.options’, ‘sitmo’, ‘GenomicRanges’, ‘DelayedMatrixStats’, ‘Biobase’, ‘IRanges’, ‘GenomeInfoDb’, ‘S4Arrays’, ‘SparseArray’, ‘matrixStats’, ‘RcppHNSW’, ‘ScaledMatrix’, ‘irlba’, ‘rsvd’, ‘futile.logger’, ‘snow’, ‘BH’, ‘beeswarm’, ‘vipor’, ‘gridExtra’, ‘FNN’, ‘RcppAnnoy’, ‘RcppProgress’, ‘dqrng’, ‘Cairo’, ‘png’, ‘SingleCellExperiment’, ‘scuttle’, ‘BiocGenerics’, ‘S4Vectors’, ‘SummarizedExperiment’, ‘DelayedArray’, ‘MatrixGenerics’, ‘beachmat’, ‘BiocNeighbors’, ‘BiocSingular’, ‘BiocParallel’, ‘ggbeeswarm’, ‘viridis’, ‘Rtsne’, ‘RcppML’, ‘uwot’, ‘pheatmap’, ‘ggrepel’, ‘ggrastr’\n",
      "\n",
      "\n",
      "Updating HTML index of packages in '.Library'\n",
      "\n",
      "Making 'packages.html' ...\n",
      " done\n",
      "\n",
      "Old packages: 'curl', 'data.table', 'MASS'\n",
      "\n"
     ]
    }
   ],
   "source": [
    "if (!require(\"BiocManager\", quietly = TRUE))\n",
    "    install.packages(\"BiocManager\")\n",
    "\n",
    "BiocManager::install(\"scater\")\n",
    "install.packages('Seurat')"
   ]
  },
  {
   "cell_type": "code",
   "execution_count": null,
   "id": "65b74317",
   "metadata": {
    "scrolled": true
   },
   "outputs": [],
   "source": [
    "if (!requireNamespace(\"remotes\", quietly = TRUE)) {\n",
    "  install.packages(\"remotes\")\n",
    "}\n",
    "remotes::install_github(\"mojaveazure/seurat-disk\")"
   ]
  },
  {
   "cell_type": "code",
   "execution_count": null,
   "id": "d95d7389-e0dc-4158-a73d-9f95e5fbfbdb",
   "metadata": {},
   "outputs": [],
   "source": [
    "library(scater)\n",
    "library(Seurat)\n",
    "library(SeuratDisk)\n",
    "# library(SeuratData)\n",
    "library(patchwork)"
   ]
  },
  {
   "cell_type": "code",
   "execution_count": 2,
   "id": "c400cc41",
   "metadata": {},
   "outputs": [
    {
     "data": {
      "text/plain": [
       "Class: loom\n",
       "Filename: /home/tchari/counts/allen_bivi/loom/processed_allen_A08_raw.loom\n",
       "Access type: H5F_ACC_RDONLY\n",
       "Attributes: last_modified\n",
       "Listing:\n",
       "       name    obj_type dataset.dims dataset.type_class\n",
       "      attrs   H5I_GROUP         <NA>               <NA>\n",
       "  col_attrs   H5I_GROUP         <NA>               <NA>\n",
       " col_graphs   H5I_GROUP         <NA>               <NA>\n",
       "     layers   H5I_GROUP         <NA>               <NA>\n",
       "     matrix H5I_DATASET 5904 x 32285          H5T_FLOAT\n",
       "  row_attrs   H5I_GROUP         <NA>               <NA>\n",
       " row_graphs   H5I_GROUP         <NA>               <NA>"
      ]
     },
     "metadata": {},
     "output_type": "display_data"
    }
   ],
   "source": [
    "\n",
    "a08 <- Connect(filename = \"/home/tchari/counts/allen_bivi/loom/processed_allen_A08_raw.loom\", mode = \"r\")"
   ]
  },
  {
   "cell_type": "code",
   "execution_count": null,
   "id": "6b17270f-339a-46d2-a6a8-be7e29dd67de",
   "metadata": {},
   "outputs": [],
   "source": []
  },
  {
   "cell_type": "code",
   "execution_count": 18,
   "id": "21e1012b-a70d-472a-87b6-267419bbca72",
   "metadata": {},
   "outputs": [],
   "source": [
    "# gene list\n",
    "n_genes <- a08[['row_attrs']][['gene_name']][['dims']]\n",
    "gns <- a08[['row_attrs']][['gene_name']][1:n_genes]\n",
    "\n",
    "# cell ID list\n",
    "n_cells <- a08[['col_attrs']][['barcode']][['dims']]\n",
    "cellids <- a08[['col_attrs']][['barcode']][1:n_cells]\n",
    "\n",
    "# get raw counts matrix\n",
    "raw.cnts <- t(a08[[\"layers/unspliced\"]][,])\n",
    "colnames(raw.cnts) <- cellids\n",
    "# rownames(raw.cnts) <- gns"
   ]
  },
  {
   "cell_type": "code",
   "execution_count": 19,
   "id": "5b8e9521-6903-439c-80ec-90a6f07bb7f0",
   "metadata": {},
   "outputs": [],
   "source": [
    "metadata <- data.frame(\n",
    "    cellID = cellids\n",
    "    )\n",
    "rownames(metadata) <- cellids"
   ]
  },
  {
   "cell_type": "code",
   "execution_count": 20,
   "id": "f20e3488-8586-4013-bdaa-ea9d5ee0fa37",
   "metadata": {},
   "outputs": [
    {
     "name": "stderr",
     "output_type": "stream",
     "text": [
      "Warning message:\n",
      "“Data is of class matrix. Coercing to dgCMatrix.”\n"
     ]
    }
   ],
   "source": [
    "#as.data.frame(t(a08[[\"layers/unspliced\"]][,] ))\n",
    "\n",
    "\n",
    "s_obj <- CreateSeuratObject(counts = raw.cnts,\n",
    "                            project = \"fromLoom\",\n",
    "                            assay = \"URNA\",\n",
    "                            meta.data = metadata)"
   ]
  },
  {
   "cell_type": "code",
   "execution_count": 23,
   "id": "d8454b33-73dd-463d-8bbd-7c431c909d59",
   "metadata": {},
   "outputs": [
    {
     "name": "stderr",
     "output_type": "stream",
     "text": [
      "Warning message:\n",
      "“Data is of class matrix. Coercing to dgCMatrix.”\n"
     ]
    }
   ],
   "source": [
    "sraw.cnts <- t(a08[[\"layers/spliced\"]][,])\n",
    "colnames(sraw.cnts) <- cellids\n",
    "\n",
    "s_assay <- CreateAssay5Object(counts = sraw.cnts)\n",
    "\n",
    "s_obj[[\"SRNA\"]] <- s_assay"
   ]
  },
  {
   "cell_type": "code",
   "execution_count": 24,
   "id": "dce8061e-450a-467a-b275-f02c3d089bce",
   "metadata": {},
   "outputs": [
    {
     "data": {
      "text/html": [
       "<style>\n",
       ".list-inline {list-style: none; margin:0; padding: 0}\n",
       ".list-inline>li {display: inline-block}\n",
       ".list-inline>li:not(:last-child)::after {content: \"\\00b7\"; padding: 0 .5ex}\n",
       "</style>\n",
       "<ol class=list-inline><li>'URNA'</li><li>'SRNA'</li></ol>\n"
      ],
      "text/latex": [
       "\\begin{enumerate*}\n",
       "\\item 'URNA'\n",
       "\\item 'SRNA'\n",
       "\\end{enumerate*}\n"
      ],
      "text/markdown": [
       "1. 'URNA'\n",
       "2. 'SRNA'\n",
       "\n",
       "\n"
      ],
      "text/plain": [
       "[1] \"URNA\" \"SRNA\""
      ]
     },
     "metadata": {},
     "output_type": "display_data"
    }
   ],
   "source": [
    "Assays(s_obj)"
   ]
  },
  {
   "cell_type": "code",
   "execution_count": 25,
   "id": "7187ce57-b47a-4941-8e69-c9be962552b8",
   "metadata": {},
   "outputs": [],
   "source": [
    "a08$close_all()"
   ]
  },
  {
   "cell_type": "code",
   "execution_count": 29,
   "id": "5ea32382-29bc-40d2-801c-cb0531c060a8",
   "metadata": {
    "scrolled": true
   },
   "outputs": [
    {
     "name": "stderr",
     "output_type": "stream",
     "text": [
      "Normalizing layer: counts\n",
      "\n",
      "Finding variable features for layer counts\n",
      "\n",
      "Centering and scaling data matrix\n",
      "\n",
      "PC_ 1 \n",
      "Positive:  Feature18712, Feature4557, Feature1179, Feature25330, Feature18508, Feature15353, Feature29169, Feature6087, Feature10433, Feature24016 \n",
      "\t   Feature23056, Feature2070, Feature31029, Feature16451, Feature697, Feature7113, Feature2293, Feature29160, Feature7362, Feature12693 \n",
      "\t   Feature23338, Feature7126, Feature21608, Feature21840, Feature12343, Feature11406, Feature2493, Feature27801, Feature13683, Feature30577 \n",
      "Negative:  Feature2895, Feature7340, Feature17730, Feature29597, Feature23503, Feature16409, Feature18860, Feature22149, Feature5807, Feature22797 \n",
      "\t   Feature25791, Feature4598, Feature6197, Feature23146, Feature4117, Feature28198, Feature23489, Feature772, Feature28064, Feature14487 \n",
      "\t   Feature29246, Feature9908, Feature22708, Feature21288, Feature4866, Feature23078, Feature18251, Feature8530, Feature10584, Feature20988 \n",
      "PC_ 2 \n",
      "Positive:  Feature22821, Feature4205, Feature27240, Feature10165, Feature19440, Feature1287, Feature18370, Feature14564, Feature24803, Feature10259 \n",
      "\t   Feature19589, Feature23624, Feature28021, Feature1053, Feature19736, Feature577, Feature5955, Feature26139, Feature4204, Feature10483 \n",
      "\t   Feature10127, Feature20086, Feature23164, Feature23442, Feature518, Feature31140, Feature19723, Feature7621, Feature28803, Feature12218 \n",
      "Negative:  Feature19874, Feature8471, Feature8790, Feature11416, Feature2385, Feature28198, Feature23503, Feature27567, Feature2651, Feature18314 \n",
      "\t   Feature28895, Feature13839, Feature12365, Feature2477, Feature1338, Feature21317, Feature7553, Feature31091, Feature12414, Feature16327 \n",
      "\t   Feature22708, Feature21799, Feature4117, Feature5623, Feature11887, Feature2895, Feature1318, Feature14487, Feature13764, Feature23489 \n",
      "PC_ 3 \n",
      "Positive:  Feature27373, Feature12488, Feature29259, Feature25816, Feature620, Feature29445, Feature1073, Feature6199, Feature15857, Feature3970 \n",
      "\t   Feature12804, Feature27522, Feature15227, Feature2298, Feature18190, Feature23086, Feature28844, Feature13724, Feature25916, Feature17771 \n",
      "\t   Feature25065, Feature30847, Feature15513, Feature30694, Feature3869, Feature11675, Feature19360, Feature9884, Feature14500, Feature21587 \n",
      "Negative:  Feature23347, Feature2293, Feature10534, Feature4108, Feature7757, Feature4557, Feature18508, Feature27858, Feature31029, Feature19131 \n",
      "\t   Feature689, Feature15353, Feature21680, Feature24016, Feature29513, Feature5009, Feature25515, Feature25281, Feature2070, Feature27568 \n",
      "\t   Feature20304, Feature29169, Feature19898, Feature11167, Feature7126, Feature16451, Feature21817, Feature17987, Feature12693, Feature16894 \n",
      "PC_ 4 \n",
      "Positive:  Feature5786, Feature23485, Feature2321, Feature21583, Feature2725, Feature13677, Feature7489, Feature25784, Feature2789, Feature6012 \n",
      "\t   Feature25049, Feature4598, Feature15742, Feature28835, Feature21531, Feature1235, Feature29450, Feature6084, Feature695, Feature7356 \n",
      "\t   Feature21129, Feature14353, Feature550, Feature18250, Feature21715, Feature12058, Feature25610, Feature28803, Feature416, Feature2267 \n",
      "Negative:  Feature27568, Feature26139, Feature12872, Feature963, Feature14487, Feature5807, Feature12365, Feature22797, Feature16380, Feature15195 \n",
      "\t   Feature2481, Feature11388, Feature428, Feature18279, Feature27858, Feature27951, Feature15957, Feature17712, Feature19131, Feature19593 \n",
      "\t   Feature13839, Feature15441, Feature23208, Feature20580, Feature15508, Feature28895, Feature24663, Feature19898, Feature18138, Feature2450 \n",
      "PC_ 5 \n",
      "Positive:  Feature15232, Feature23023, Feature2231, Feature9884, Feature178, Feature23325, Feature16347, Feature7635, Feature17742, Feature19503 \n",
      "\t   Feature12274, Feature4001, Feature664, Feature15463, Feature28914, Feature12171, Feature23266, Feature23316, Feature5864, Feature8536 \n",
      "\t   Feature17958, Feature19868, Feature18338, Feature832, Feature27943, Feature19646, Feature7163, Feature12215, Feature12078, Feature17912 \n",
      "Negative:  Feature620, Feature29445, Feature12804, Feature17771, Feature15857, Feature25916, Feature19360, Feature25065, Feature27522, Feature3970 \n",
      "\t   Feature13602, Feature30694, Feature11675, Feature18066, Feature28844, Feature18190, Feature5781, Feature14745, Feature20283, Feature27039 \n",
      "\t   Feature25270, Feature26233, Feature29039, Feature10574, Feature986, Feature15227, Feature21740, Feature27914, Feature953, Feature16874 \n",
      "\n",
      "Normalizing layer: counts\n",
      "\n",
      "Finding variable features for layer counts\n",
      "\n",
      "Centering and scaling data matrix\n",
      "\n",
      "PC_ 1 \n",
      "Positive:  Feature23056, Feature16451, Feature15894, Feature15353, Feature21608, Feature1179, Feature25330, Feature29169, Feature4557, Feature24016 \n",
      "\t   Feature12138, Feature697, Feature2493, Feature11406, Feature1135, Feature30786, Feature27801, Feature10433, Feature125, Feature16532 \n",
      "\t   Feature29582, Feature31029, Feature19110, Feature12343, Feature29160, Feature7113, Feature24966, Feature2070, Feature23338, Feature17026 \n",
      "Negative:  Feature25858, Feature29276, Feature29014, Feature7168, Feature8596, Feature8500, Feature13693, Feature315, Feature6890, Feature204 \n",
      "\t   Feature23866, Feature18266, Feature25287, Feature17973, Feature491, Feature15558, Feature13744, Feature23184, Feature16524, Feature9965 \n",
      "\t   Feature2033, Feature24873, Feature19794, Feature15195, Feature29030, Feature15948, Feature29906, Feature24605, Feature4087, Feature10062 \n",
      "PC_ 2 \n",
      "Positive:  Feature11328, Feature19724, Feature23336, Feature4304, Feature16817, Feature28895, Feature21799, Feature28198, Feature9994, Feature21032 \n",
      "\t   Feature2385, Feature29527, Feature8471, Feature10584, Feature7553, Feature26206, Feature28799, Feature4866, Feature5091, Feature508 \n",
      "\t   Feature23693, Feature1338, Feature738, Feature6068, Feature3657, Feature14487, Feature7322, Feature19874, Feature18361, Feature20780 \n",
      "Negative:  Feature22821, Feature14564, Feature6097, Feature26139, Feature16671, Feature19736, Feature5955, Feature19440, Feature4466, Feature23164 \n",
      "\t   Feature4205, Feature4087, Feature27240, Feature10351, Feature19573, Feature11382, Feature17946, Feature23442, Feature7316, Feature10259 \n",
      "\t   Feature788, Feature3479, Feature10435, Feature23733, Feature15957, Feature19723, Feature10479, Feature3742, Feature19589, Feature19547 \n",
      "PC_ 3 \n",
      "Positive:  Feature5918, Feature16732, Feature25224, Feature21424, Feature24966, Feature6906, Feature15894, Feature21749, Feature21584, Feature7757 \n",
      "\t   Feature15353, Feature15889, Feature276, Feature17679, Feature16451, Feature4108, Feature24668, Feature10479, Feature4557, Feature19110 \n",
      "\t   Feature18402, Feature2452, Feature5955, Feature29169, Feature19131, Feature17758, Feature24016, Feature2424, Feature2493, Feature11406 \n",
      "Negative:  Feature769, Feature18190, Feature15513, Feature30694, Feature11353, Feature15603, Feature18066, Feature390, Feature25065, Feature21740 \n",
      "\t   Feature13602, Feature27522, Feature20116, Feature12804, Feature29259, Feature8616, Feature18439, Feature14769, Feature4278, Feature29039 \n",
      "\t   Feature9881, Feature10160, Feature14745, Feature27404, Feature29445, Feature27914, Feature16419, Feature27373, Feature28844, Feature25177 \n",
      "PC_ 4 \n",
      "Positive:  Feature12872, Feature14487, Feature428, Feature7322, Feature963, Feature2064, Feature12365, Feature18062, Feature19423, Feature9953 \n",
      "\t   Feature11382, Feature8530, Feature5807, Feature22797, Feature23184, Feature24883, Feature19131, Feature28895, Feature15508, Feature13446 \n",
      "\t   Feature16057, Feature8371, Feature15195, Feature26139, Feature19443, Feature3710, Feature933, Feature23658, Feature18112, Feature2481 \n",
      "Negative:  Feature21129, Feature5786, Feature8989, Feature7199, Feature695, Feature18108, Feature15742, Feature1235, Feature10237, Feature21531 \n",
      "\t   Feature21390, Feature25610, Feature5592, Feature30710, Feature16127, Feature25784, Feature4418, Feature4932, Feature28835, Feature16394 \n",
      "\t   Feature7489, Feature25049, Feature21120, Feature7136, Feature12058, Feature15329, Feature7553, Feature550, Feature2321, Feature8838 \n",
      "PC_ 5 \n",
      "Positive:  Feature18066, Feature25065, Feature12804, Feature20116, Feature30694, Feature27522, Feature13602, Feature18190, Feature14745, Feature14769 \n",
      "\t   Feature16419, Feature29445, Feature4993, Feature15237, Feature25982, Feature3536, Feature25177, Feature21740, Feature10248, Feature321 \n",
      "\t   Feature19830, Feature25722, Feature1433, Feature19774, Feature26230, Feature15399, Feature1134, Feature15405, Feature2634, Feature8519 \n",
      "Negative:  Feature18175, Feature3735, Feature5699, Feature23023, Feature28719, Feature15482, Feature12171, Feature15232, Feature15463, Feature23916 \n",
      "\t   Feature31287, Feature9940, Feature28811, Feature7347, Feature24794, Feature15642, Feature623, Feature27791, Feature178, Feature15221 \n",
      "\t   Feature8598, Feature26275, Feature15328, Feature12829, Feature19200, Feature21253, Feature23024, Feature11270, Feature17610, Feature23266 \n",
      "\n",
      "Warning message:\n",
      "“Key ‘PC_’ taken, using ‘spca_’ instead”\n"
     ]
    }
   ],
   "source": [
    "DefaultAssay(s_obj) <- 'URNA'\n",
    "s_obj <- NormalizeData(s_obj) \n",
    "s_obj <- FindVariableFeatures(s_obj) \n",
    "s_obj <- ScaleData(s_obj) \n",
    "s_obj <- RunPCA(s_obj,reduction.name = 'upca')\n",
    "\n",
    "DefaultAssay(s_obj) <- 'SRNA'\n",
    "s_obj <- NormalizeData(s_obj) \n",
    "s_obj <- FindVariableFeatures(s_obj)\n",
    "s_obj <- ScaleData(s_obj)\n",
    "s_obj <- RunPCA(s_obj,reduction.name = 'spca')\n"
   ]
  },
  {
   "cell_type": "code",
   "execution_count": 30,
   "id": "f028d277-28d9-4a54-a005-fc753f7a3053",
   "metadata": {},
   "outputs": [
    {
     "name": "stderr",
     "output_type": "stream",
     "text": [
      "Calculating cell-specific modality weights\n",
      "\n",
      "Finding 20 nearest neighbors for each modality.\n",
      "\n",
      "Calculating kernel bandwidths\n",
      "\n",
      "Warning message in FindMultiModalNeighbors(s_obj, reduction.list = list(\"upca\", :\n",
      "“The number of provided modality.weight.name is not equal to the number of modalities. URNA.weight SRNA.weight are used to store the modality weights”\n",
      "Finding multimodal neighbors\n",
      "\n",
      "Constructing multimodal KNN graph\n",
      "\n",
      "Constructing multimodal SNN graph\n",
      "\n"
     ]
    }
   ],
   "source": [
    "s_obj <- FindMultiModalNeighbors(\n",
    "  s_obj, reduction.list = list(\"upca\", \"spca\"), \n",
    "  dims.list = list(1:30, 1:18), modality.weight.name = \"RNA.weight\"\n",
    ")"
   ]
  },
  {
   "cell_type": "code",
   "execution_count": 31,
   "id": "c2c59ae5-0c68-436c-981a-ff62ee85f0a6",
   "metadata": {},
   "outputs": [
    {
     "data": {
      "text/plain": [
       "A Graph object containing 5904 cells"
      ]
     },
     "metadata": {},
     "output_type": "display_data"
    }
   ],
   "source": [
    "s_obj[[\"wknn\"]]"
   ]
  },
  {
   "cell_type": "code",
   "execution_count": 32,
   "id": "dcd12012-1a91-40cb-875d-73a7f23a2674",
   "metadata": {},
   "outputs": [],
   "source": [
    "#MAybe just run Leiden here + save results"
   ]
  },
  {
   "cell_type": "code",
   "execution_count": null,
   "id": "acdc7750-382a-4b4e-9cfe-9c064ff1697d",
   "metadata": {},
   "outputs": [],
   "source": []
  }
 ],
 "metadata": {
  "kernelspec": {
   "display_name": "R",
   "language": "R",
   "name": "ir"
  },
  "language_info": {
   "codemirror_mode": "r",
   "file_extension": ".r",
   "mimetype": "text/x-r-source",
   "name": "R",
   "pygments_lexer": "r",
   "version": "4.3.2"
  }
 },
 "nbformat": 4,
 "nbformat_minor": 5
}
