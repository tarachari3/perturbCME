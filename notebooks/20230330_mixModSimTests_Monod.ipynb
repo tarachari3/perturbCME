{
 "cells": [
  {
   "cell_type": "code",
   "execution_count": 254,
   "id": "6008cb49",
   "metadata": {},
   "outputs": [],
   "source": [
    "import numpy as np\n",
    "from numpy import matlib\n",
    "import matplotlib.pyplot as plt\n",
    "import scipy\n",
    "import matplotlib\n",
    "import tqdm\n",
    "from scipy import integrate, fft, sparse\n",
    "import pandas as pd\n",
    "import seaborn as sns\n",
    "import random\n",
    "import anndata\n",
    "import os"
   ]
  },
  {
   "cell_type": "code",
   "execution_count": 252,
   "id": "6b1e9713",
   "metadata": {},
   "outputs": [],
   "source": [
    "import sys\n",
    "import importlib\n",
    "sys.path.insert(0, '/home/tchari/monod/src/')"
   ]
  },
  {
   "cell_type": "code",
   "execution_count": 253,
   "id": "81b1681d",
   "metadata": {},
   "outputs": [],
   "source": [
    "import monod\n",
    "#importlib.reload(monod)\n",
    "from monod import preprocess, extract_data, cme_toolbox, inference, analysis, mminference"
   ]
  },
  {
   "cell_type": "code",
   "execution_count": null,
   "id": "bbdee650",
   "metadata": {},
   "outputs": [],
   "source": []
  },
  {
   "cell_type": "markdown",
   "id": "3d6266ae",
   "metadata": {},
   "source": [
    "## **Define Functions for Simulations**"
   ]
  },
  {
   "cell_type": "code",
   "execution_count": 79,
   "id": "f042c31d",
   "metadata": {},
   "outputs": [],
   "source": [
    "class BurstModel():\n",
    "    \"\"\"\n",
    "    This collection of convenience functions is placed in its own class mostly to avoid function name conflicts.\n",
    "    \"\"\"\n",
    "    def __init__(self,seq_model='None',quad_method='fixed_quad',fixed_quad_T=10,quad_order=60,quad_vec_T=np.inf):\n",
    "        self.seq_model = seq_model\n",
    "        self.quad_method = quad_method\n",
    "        self.fixed_quad_T = fixed_quad_T\n",
    "        self.quad_order = quad_order\n",
    "        self.quad_vec_T = quad_vec_T\n",
    "        \n",
    "    def burst_intfun(self, x, g, b, beta, gamma):\n",
    "        if np.isclose(beta, gamma):\n",
    "            c_1 = g[0]  \n",
    "            c_2 = x * beta * g[1]\n",
    "        else:\n",
    "            f = beta / (beta - gamma)\n",
    "            c_2 = g[1] * f\n",
    "            c_1 = g[0] - c_2\n",
    "\n",
    "        U = b * (np.exp(-beta * x) * c_1 + np.exp(-gamma * x) * c_2)\n",
    "        return U / (1 - U)    \n",
    "    \n",
    "    def eval_model_pgf(self, p_, g):\n",
    "        p = 10**p_\n",
    "        b, beta, gamma = p\n",
    "        fun = lambda x: self.burst_intfun(x, g, b, beta, gamma)\n",
    "        if self.quad_method == \"quad_vec\":\n",
    "            T = self.quad_vec_T * (1 / beta + 1 / gamma + 1)\n",
    "            gf = scipy.integrate.quad_vec(fun, 0, T)[0]\n",
    "        elif self.quad_method == \"fixed_quad\":\n",
    "            T = self.fixed_quad_T * (1 / beta + 1 / gamma + 1)\n",
    "            gf = scipy.integrate.fixed_quad(fun, 0, T, n=self.quad_order)[0]\n",
    "        else:\n",
    "            raise ValueError(\"Please use one of the specified quadrature methods.\")\n",
    "        return gf  # this is the log-generating function\n",
    "\n",
    "    def get_Pss(self, p, limits, samp=None):\n",
    "        u = []\n",
    "        mx = np.copy(limits)\n",
    "        mx[-1] = mx[-1] // 2 + 1\n",
    "        for i in range(len(mx)):\n",
    "            l = np.arange(mx[i])\n",
    "            u_ = np.exp(-2j * np.pi * l / limits[i]) - 1\n",
    "            u.append(u_)\n",
    "        g = np.meshgrid(*[u_ for u_ in u], indexing=\"ij\")\n",
    "        for i in range(len(mx)):\n",
    "            g[i] = g[i].flatten()\n",
    "        g = np.asarray(g)[:, :, None]\n",
    "\n",
    "        if self.seq_model == \"Bernoulli\":\n",
    "            g *= np.asarray(samp)[:, None, None]\n",
    "        elif self.seq_model == \"Poisson\":\n",
    "            g = np.exp((np.power(10, samp))[:, None, None] * g) - 1\n",
    "\n",
    "        gf = self.eval_model_pgf(p, g)\n",
    "        gf = np.exp(gf)\n",
    "        gf = gf.reshape(tuple(mx))\n",
    "        Pss = scipy.fft.irfftn(gf, s=tuple(limits))\n",
    "        Pss = np.abs(Pss) / np.sum(np.abs(Pss))\n",
    "        Pss = Pss.squeeze()\n",
    "        return Pss"
   ]
  },
  {
   "cell_type": "code",
   "execution_count": 80,
   "id": "1d9e4b33",
   "metadata": {},
   "outputs": [],
   "source": [
    "def sample_from_p(num_data_points, Pss):\n",
    "    mx = Pss.shape\n",
    "    p_flat = Pss.flatten()\n",
    "    x_N, x_M = np.arange(mx[0]), np.arange(mx[1])\n",
    "    X_N, X_M = np.meshgrid(x_N, x_M, indexing='ij')    # get grid of possible values\n",
    "    x_choices = np.arange(np.prod(mx))                 # represent each grid point as a point in a 1D vector\n",
    "    \n",
    "    samples = np.random.choice(x_choices, size=num_data_points, replace=True, p=p_flat)\n",
    "    d_N, d_M = X_N.flatten()[samples], X_M.flatten()[samples]    \n",
    "    return d_N, d_M"
   ]
  },
  {
   "cell_type": "code",
   "execution_count": 81,
   "id": "6503e771",
   "metadata": {},
   "outputs": [],
   "source": [
    "def get_logL_2d(data,model,bp,m_N,m_M,sr,mx,bp_is_bpn=True):\n",
    "    d0,d1=data\n",
    "    Pss = Pss_at_sr(model,bp,m_N,m_M,sr,mx,bp_is_bpn)\n",
    "    logL = np.sum(np.log(Pss[d0,d1]))\n",
    "    return logL\n",
    "\n",
    "def Pss_at_sr(model,bp,m_N,m_M,sr,mx,bp_is_bpn=True):\n",
    "#     print(bp_is_bpn)\n",
    "    if sr<1:\n",
    "        pn = 1\n",
    "        pm = sr\n",
    "    else:\n",
    "        pm = 1\n",
    "        pn = 1/sr\n",
    "    if bp_is_bpn:\n",
    "        b = bp/pn\n",
    "        beta = bp/m_N\n",
    "        gamma = b*pm/m_M\n",
    "    else:\n",
    "        b = bp/pm\n",
    "        gamma = bp/m_M\n",
    "        beta = b*pn/m_N\n",
    "    samp = [pn,pm]\n",
    "    p = np.log10([b,beta,gamma])\n",
    "    return model.get_Pss(p,mx,samp)"
   ]
  },
  {
   "cell_type": "markdown",
   "id": "84d82a9c",
   "metadata": {},
   "source": [
    "## **Generate Counts**"
   ]
  },
  {
   "cell_type": "code",
   "execution_count": 283,
   "id": "16f6a8d2",
   "metadata": {},
   "outputs": [],
   "source": [
    "#No. of cells per k cell 'type'\n",
    "n_cells = 500\n",
    "clus = 3"
   ]
  },
  {
   "cell_type": "code",
   "execution_count": 284,
   "id": "c2e2ec8a",
   "metadata": {},
   "outputs": [],
   "source": [
    "n_genes = 100\n",
    "num_marks = 10"
   ]
  },
  {
   "cell_type": "code",
   "execution_count": 285,
   "id": "115b228b",
   "metadata": {},
   "outputs": [
    {
     "data": {
      "text/html": [
       "<div>\n",
       "<style scoped>\n",
       "    .dataframe tbody tr th:only-of-type {\n",
       "        vertical-align: middle;\n",
       "    }\n",
       "\n",
       "    .dataframe tbody tr th {\n",
       "        vertical-align: top;\n",
       "    }\n",
       "\n",
       "    .dataframe thead th {\n",
       "        text-align: right;\n",
       "    }\n",
       "</style>\n",
       "<table border=\"1\" class=\"dataframe\">\n",
       "  <thead>\n",
       "    <tr style=\"text-align: right;\">\n",
       "      <th></th>\n",
       "      <th>0</th>\n",
       "      <th>1</th>\n",
       "      <th>2</th>\n",
       "      <th>3</th>\n",
       "      <th>4</th>\n",
       "      <th>5</th>\n",
       "      <th>6</th>\n",
       "      <th>7</th>\n",
       "      <th>8</th>\n",
       "      <th>9</th>\n",
       "      <th>...</th>\n",
       "      <th>39</th>\n",
       "      <th>40</th>\n",
       "      <th>41</th>\n",
       "      <th>42</th>\n",
       "      <th>43</th>\n",
       "      <th>44</th>\n",
       "      <th>45</th>\n",
       "      <th>46</th>\n",
       "      <th>47</th>\n",
       "      <th>48</th>\n",
       "    </tr>\n",
       "  </thead>\n",
       "  <tbody>\n",
       "    <tr>\n",
       "      <th>0</th>\n",
       "      <td>TNMD</td>\n",
       "      <td>14950</td>\n",
       "      <td>48</td>\n",
       "      <td>23</td>\n",
       "      <td>10</td>\n",
       "      <td>5</td>\n",
       "      <td>2</td>\n",
       "      <td>2</td>\n",
       "      <td>2</td>\n",
       "      <td>2</td>\n",
       "      <td>...</td>\n",
       "      <td>0</td>\n",
       "      <td>0</td>\n",
       "      <td>0</td>\n",
       "      <td>0</td>\n",
       "      <td>0</td>\n",
       "      <td>0</td>\n",
       "      <td>0</td>\n",
       "      <td>0</td>\n",
       "      <td>0</td>\n",
       "      <td>0</td>\n",
       "    </tr>\n",
       "    <tr>\n",
       "      <th>1</th>\n",
       "      <td>DPM1</td>\n",
       "      <td>23689</td>\n",
       "      <td>98</td>\n",
       "      <td>38</td>\n",
       "      <td>25</td>\n",
       "      <td>17</td>\n",
       "      <td>10</td>\n",
       "      <td>6</td>\n",
       "      <td>5</td>\n",
       "      <td>5</td>\n",
       "      <td>...</td>\n",
       "      <td>0</td>\n",
       "      <td>0</td>\n",
       "      <td>0</td>\n",
       "      <td>0</td>\n",
       "      <td>0</td>\n",
       "      <td>0</td>\n",
       "      <td>0</td>\n",
       "      <td>0</td>\n",
       "      <td>0</td>\n",
       "      <td>0</td>\n",
       "    </tr>\n",
       "    <tr>\n",
       "      <th>2</th>\n",
       "      <td>SCYL3</td>\n",
       "      <td>44637</td>\n",
       "      <td>132</td>\n",
       "      <td>51</td>\n",
       "      <td>20</td>\n",
       "      <td>13</td>\n",
       "      <td>9</td>\n",
       "      <td>7</td>\n",
       "      <td>6</td>\n",
       "      <td>4</td>\n",
       "      <td>...</td>\n",
       "      <td>0</td>\n",
       "      <td>0</td>\n",
       "      <td>0</td>\n",
       "      <td>0</td>\n",
       "      <td>0</td>\n",
       "      <td>0</td>\n",
       "      <td>0</td>\n",
       "      <td>0</td>\n",
       "      <td>0</td>\n",
       "      <td>0</td>\n",
       "    </tr>\n",
       "    <tr>\n",
       "      <th>3</th>\n",
       "      <td>TSPAN6</td>\n",
       "      <td>12884</td>\n",
       "      <td>43</td>\n",
       "      <td>18</td>\n",
       "      <td>13</td>\n",
       "      <td>8</td>\n",
       "      <td>3</td>\n",
       "      <td>2</td>\n",
       "      <td>2</td>\n",
       "      <td>1</td>\n",
       "      <td>...</td>\n",
       "      <td>0</td>\n",
       "      <td>0</td>\n",
       "      <td>0</td>\n",
       "      <td>0</td>\n",
       "      <td>0</td>\n",
       "      <td>0</td>\n",
       "      <td>0</td>\n",
       "      <td>0</td>\n",
       "      <td>0</td>\n",
       "      <td>0</td>\n",
       "    </tr>\n",
       "    <tr>\n",
       "      <th>4</th>\n",
       "      <td>FGR</td>\n",
       "      <td>23122</td>\n",
       "      <td>41</td>\n",
       "      <td>18</td>\n",
       "      <td>8</td>\n",
       "      <td>4</td>\n",
       "      <td>1</td>\n",
       "      <td>1</td>\n",
       "      <td>1</td>\n",
       "      <td>1</td>\n",
       "      <td>...</td>\n",
       "      <td>0</td>\n",
       "      <td>0</td>\n",
       "      <td>0</td>\n",
       "      <td>0</td>\n",
       "      <td>0</td>\n",
       "      <td>0</td>\n",
       "      <td>0</td>\n",
       "      <td>0</td>\n",
       "      <td>0</td>\n",
       "      <td>0</td>\n",
       "    </tr>\n",
       "  </tbody>\n",
       "</table>\n",
       "<p>5 rows × 49 columns</p>\n",
       "</div>"
      ],
      "text/plain": [
       "       0      1    2   3   4   5   6   7   8   9   ...  39  40  41  42  43  \\\n",
       "0    TNMD  14950   48  23  10   5   2   2   2   2  ...   0   0   0   0   0   \n",
       "1    DPM1  23689   98  38  25  17  10   6   5   5  ...   0   0   0   0   0   \n",
       "2   SCYL3  44637  132  51  20  13   9   7   6   4  ...   0   0   0   0   0   \n",
       "3  TSPAN6  12884   43  18  13   8   3   2   2   1  ...   0   0   0   0   0   \n",
       "4     FGR  23122   41  18   8   4   1   1   1   1  ...   0   0   0   0   0   \n",
       "\n",
       "   44  45  46  47  48  \n",
       "0   0   0   0   0   0  \n",
       "1   0   0   0   0   0  \n",
       "2   0   0   0   0   0  \n",
       "3   0   0   0   0   0  \n",
       "4   0   0   0   0   0  \n",
       "\n",
       "[5 rows x 49 columns]"
      ]
     },
     "execution_count": 285,
     "metadata": {},
     "output_type": "execute_result"
    }
   ],
   "source": [
    "transcriptome = pd.read_csv('/home/tchari/perturbCME/notebooks/gg_200525_genome_polyA_cum_3',delim_whitespace=True,header = None)\n",
    "transcriptome.head()"
   ]
  },
  {
   "cell_type": "code",
   "execution_count": 286,
   "id": "5a8b342c",
   "metadata": {},
   "outputs": [],
   "source": [
    "#Select gene lengths from human transcriptome\n",
    "gene_names = np.array(transcriptome[0])\n",
    "gene_lens = np.array(transcriptome[1])\n",
    "\n",
    "choices = random.sample(range(len(gene_names)), n_genes)\n",
    "names_sub = gene_names[choices]\n",
    "lens_sub = gene_lens[choices]"
   ]
  },
  {
   "cell_type": "code",
   "execution_count": 287,
   "id": "a3be5abd",
   "metadata": {},
   "outputs": [],
   "source": [
    "#For each gene set params (clus x n_genes x 6), use gene lens from transcriptome file + use same gene names \n",
    "params = np.zeros((clus,n_genes,6)) #b,k,beta,gamma,samp_n,samp_m\n",
    "for g in range(n_genes):\n",
    "    g_len = lens_sub[g]\n",
    "    params[:,g,0] = int(np.random.uniform(8,15))\n",
    "    params[:,g,1] = np.random.uniform(0.1,0.5)\n",
    "    params[:,g,2] = 1\n",
    "    params[:,g,3] = np.random.normal(0.8,0.1)\n",
    "    \n",
    "    params[:,g,4] = 10**(-7.157894736842105)*g_len\n",
    "    params[:,g,5] = 10**(-1.525)\n",
    "    \n",
    "\n",
    "\n",
    "#For each clus, select 10 unique markers, add noise to b (log10b)\n",
    "all_choices = np.random.choice(range(n_genes), num_marks*clus, replace=False)\n",
    "for c in range(clus):\n",
    "    marks = all_choices[c*num_marks:(c+1)*num_marks]\n",
    "    \n",
    "    params[c,marks,0] = 10**(np.log10(params[c,marks,0]) + np.random.normal(loc=1.0, scale = 0.1, size=len(marks))) #Only in burst size for now\n",
    "\n"
   ]
  },
  {
   "cell_type": "code",
   "execution_count": 288,
   "id": "5937a5e2",
   "metadata": {},
   "outputs": [],
   "source": [
    "#For each clus get n_cells samples + concat, \n",
    "all_counts = np.zeros((clus*n_cells,n_genes,2))\n",
    "for c in range(clus):\n",
    "    \n",
    "    for g in range(n_genes):\n",
    "        \n",
    "        b = params[c,g,0]\n",
    "        k = params[c,g,1]\n",
    "        beta = params[c,g,2]\n",
    "        gamma = params[c,g,3]\n",
    "        \n",
    "        samp = [params[c,g,4], params[c,g,5]]\n",
    "\n",
    "        p = np.log10(np.asarray([b,beta/k,gamma/k]))\n",
    "        burst_model = BurstModel('Poisson')\n",
    "\n",
    "        max_mean = b*k*np.asarray([1/beta,1/gamma])\n",
    "        max_std = np.sqrt(max_mean*(1+ b*np.asarray([1,beta/(beta+gamma)])))\n",
    "        max_domain = max_mean + 4*max_std\n",
    "        max_domain = [int(i) for i in max_domain]\n",
    "\n",
    "        Pss = burst_model.get_Pss(p,max_domain,samp)\n",
    "\n",
    "        #Get samples\n",
    "        all_counts[c*n_cells:(c+1)*n_cells,g,0] = sample_from_p(n_cells, Pss)[0]\n",
    "        all_counts[c*n_cells:(c+1)*n_cells,g,1] = sample_from_p(n_cells, Pss)[1]\n",
    "\n",
    "\n",
    "\n"
   ]
  },
  {
   "cell_type": "code",
   "execution_count": 289,
   "id": "9db23182",
   "metadata": {},
   "outputs": [],
   "source": [
    "# !mkdir ~/counts/mixMod_sims\n",
    "# !mkdir ~/counts/mixMod_sims/loom/"
   ]
  },
  {
   "cell_type": "markdown",
   "id": "6904ada2",
   "metadata": {},
   "source": [
    "**Save count matrices for Monod**"
   ]
  },
  {
   "cell_type": "code",
   "execution_count": 290,
   "id": "cece054d",
   "metadata": {},
   "outputs": [
    {
     "name": "stdout",
     "output_type": "stream",
     "text": [
      "Making Loom\n"
     ]
    },
    {
     "name": "stderr",
     "output_type": "stream",
     "text": [
      "/home/tchari/.local/lib/python3.7/site-packages/ipykernel_launcher.py:19: FutureWarning: X.dtype being converted to np.float32 from float64. In the next version of anndata (0.9) conversion will not be automatic. Pass dtype explicitly to avoid this warning. Pass `AnnData(X, dtype=X.dtype, ...)` to get the future behavour.\n"
     ]
    }
   ],
   "source": [
    "#And save clus labels for cells + barcodes for each cell in metadata + loom\n",
    "out_path = '/home/tchari/counts/mixMod_sims/loom/'\n",
    "U = all_counts[:,:,0]\n",
    "S = all_counts[:,:,1]\n",
    "geneNames = names_sub\n",
    "bars = [str(i) for i in range(n_cells*clus)]\n",
    "\n",
    "fname = out_path+'burst_mark_sim.loom'\n",
    "\n",
    "print('Making Loom')\n",
    "#Make loom of U/S\n",
    "retAdata = anndata.AnnData(\n",
    "\t\t\tX=sparse.csr_matrix(S),\n",
    "\t\t\tlayers={\n",
    "\t\t\t\t'spliced': sparse.csr_matrix(S),\n",
    "\t\t\t\t'unspliced': sparse.csr_matrix(U),\n",
    "\t\t\t},\n",
    "\t\t\tobs=pd.DataFrame({'barcode': np.array(bars)},index=np.array(bars)),\n",
    "\t\t\tvar=pd.DataFrame({'gene_name': geneNames},index=geneNames)\n",
    "\t\t)\n",
    "\n",
    "retAdata.write_loom(fname)\n"
   ]
  },
  {
   "cell_type": "code",
   "execution_count": 291,
   "id": "895d02bf",
   "metadata": {},
   "outputs": [],
   "source": [
    "#Check loom ok\n",
    "import loompy as lp\n",
    "ds = lp.connect('/home/tchari/counts/mixMod_sims/loom/burst_mark_sim.loom')"
   ]
  },
  {
   "cell_type": "code",
   "execution_count": 292,
   "id": "369fa565",
   "metadata": {},
   "outputs": [
    {
     "data": {
      "text/html": [
       "<p>100 rows, 1500 columns, 3 layers<br/>(showing up to 10x10)<br/>/home/tchari/counts/mixMod_sims/loom/burst_mark_sim.loom<br/>name: <em>20230330T224458.583949Z</em><br/>name: <em>3.0.0</em><br/><table><tr><td>&nbsp;</td><td>&nbsp;</td><td><strong>barcode</strong></td><td>0</td><td>1</td><td>2</td><td>3</td><td>4</td><td>5</td><td>6</td><td>7</td><td>8</td><td>9</td><td>...</td></tr><tr><td>&nbsp;</td><td>&nbsp;</td><td><strong>obs_names</strong></td><td>0</td><td>1</td><td>2</td><td>3</td><td>4</td><td>5</td><td>6</td><td>7</td><td>8</td><td>9</td><td>...</td></tr><tr><td><strong>gene_name</strong></td><td><strong>var_names</strong></td><td>&nbsp;</td><td>&nbsp;</td><td>&nbsp;</td><td>&nbsp;</td><td>&nbsp;</td><td>&nbsp;</td><td>&nbsp;</td><td>&nbsp;</td><td>&nbsp;</td><td>&nbsp;</td><td>&nbsp;</td><td>...</td></tr><tr><td>AC007274.3</td><td>AC007274.3</td><td>&nbsp;</td><td>5.0</td><td>0.0</td><td>3.0</td><td>2.0</td><td>0.0</td><td>7.0</td><td>3.0</td><td>4.0</td><td>5.0</td><td>1.0</td><td>...</td></tr><tr><td>SYNE4</td><td>SYNE4</td><td>&nbsp;</td><td>0.0</td><td>5.0</td><td>0.0</td><td>5.0</td><td>0.0</td><td>3.0</td><td>4.0</td><td>0.0</td><td>4.0</td><td>12.0</td><td>...</td></tr><tr><td>AP002800.2</td><td>AP002800.2</td><td>&nbsp;</td><td>1.0</td><td>14.0</td><td>16.0</td><td>22.0</td><td>0.0</td><td>16.0</td><td>5.0</td><td>9.0</td><td>13.0</td><td>0.0</td><td>...</td></tr><tr><td>AC010655.5</td><td>AC010655.5</td><td>&nbsp;</td><td>3.0</td><td>17.0</td><td>6.0</td><td>0.0</td><td>1.0</td><td>0.0</td><td>18.0</td><td>0.0</td><td>0.0</td><td>9.0</td><td>...</td></tr><tr><td>AC068725.1</td><td>AC068725.1</td><td>&nbsp;</td><td>15.0</td><td>8.0</td><td>12.0</td><td>2.0</td><td>1.0</td><td>13.0</td><td>0.0</td><td>9.0</td><td>0.0</td><td>7.0</td><td>...</td></tr><tr><td>IKBKE</td><td>IKBKE</td><td>&nbsp;</td><td>0.0</td><td>0.0</td><td>0.0</td><td>0.0</td><td>0.0</td><td>5.0</td><td>0.0</td><td>0.0</td><td>0.0</td><td>2.0</td><td>...</td></tr><tr><td>LINC01179</td><td>LINC01179</td><td>&nbsp;</td><td>0.0</td><td>0.0</td><td>0.0</td><td>3.0</td><td>0.0</td><td>20.0</td><td>0.0</td><td>13.0</td><td>0.0</td><td>0.0</td><td>...</td></tr><tr><td>AC011472.1</td><td>AC011472.1</td><td>&nbsp;</td><td>0.0</td><td>0.0</td><td>0.0</td><td>2.0</td><td>16.0</td><td>6.0</td><td>5.0</td><td>3.0</td><td>2.0</td><td>0.0</td><td>...</td></tr><tr><td>STT3A</td><td>STT3A</td><td>&nbsp;</td><td>0.0</td><td>2.0</td><td>0.0</td><td>0.0</td><td>0.0</td><td>2.0</td><td>4.0</td><td>5.0</td><td>0.0</td><td>9.0</td><td>...</td></tr><tr><td>BLID</td><td>BLID</td><td>&nbsp;</td><td>0.0</td><td>9.0</td><td>0.0</td><td>0.0</td><td>16.0</td><td>0.0</td><td>0.0</td><td>18.0</td><td>3.0</td><td>7.0</td><td>...</td></tr><tr><td>...</td><td>...</td><td>...</td><td>...</td><td>...</td><td>...</td><td>...</td><td>...</td><td>...</td><td>...</td><td>...</td><td>...</td><td>...</td><td>...</td></tr></table>"
      ],
      "text/plain": [
       "<loompy.loompy.LoomConnection at 0x7f608b50b590>"
      ]
     },
     "execution_count": 292,
     "metadata": {},
     "output_type": "execute_result"
    }
   ],
   "source": [
    "ds"
   ]
  },
  {
   "cell_type": "code",
   "execution_count": 293,
   "id": "2bbef1c0",
   "metadata": {},
   "outputs": [],
   "source": [
    "ds.close()"
   ]
  },
  {
   "cell_type": "code",
   "execution_count": 294,
   "id": "cdf16805",
   "metadata": {},
   "outputs": [
    {
     "data": {
      "text/plain": [
       "(3, 100, 6)"
      ]
     },
     "execution_count": 294,
     "metadata": {},
     "output_type": "execute_result"
    }
   ],
   "source": [
    "#All params from sim, for comparison to fits (for each gene)\n",
    "params.shape"
   ]
  },
  {
   "cell_type": "markdown",
   "id": "16f137ac",
   "metadata": {},
   "source": [
    "**Check clarity of assignment first**"
   ]
  },
  {
   "cell_type": "code",
   "execution_count": 389,
   "id": "37b65f6e",
   "metadata": {},
   "outputs": [],
   "source": [
    "\n",
    "concat_types = np.concatenate((np.mean(all_counts[0:500,:,:],axis=0),np.mean(all_counts[500:1000,:,:],axis=0),\n",
    "          np.mean(all_counts[1000:1500,:,:],axis=0)),axis=1)\n"
   ]
  },
  {
   "cell_type": "code",
   "execution_count": 390,
   "id": "8bcb5be3",
   "metadata": {},
   "outputs": [
    {
     "data": {
      "text/plain": [
       "[Text(1, 0.5, '74'),\n",
       " Text(1, 1.5, '15'),\n",
       " Text(1, 2.5, '48'),\n",
       " Text(1, 3.5, '11'),\n",
       " Text(1, 4.5, '33'),\n",
       " Text(1, 5.5, '94'),\n",
       " Text(1, 6.5, '40'),\n",
       " Text(1, 7.5, '86'),\n",
       " Text(1, 8.5, '19'),\n",
       " Text(1, 9.5, '73'),\n",
       " Text(1, 10.5, '27'),\n",
       " Text(1, 11.5, '96'),\n",
       " Text(1, 12.5, '17'),\n",
       " Text(1, 13.5, '69'),\n",
       " Text(1, 14.5, '45'),\n",
       " Text(1, 15.5, '65'),\n",
       " Text(1, 16.5, '36'),\n",
       " Text(1, 17.5, '88'),\n",
       " Text(1, 18.5, '0'),\n",
       " Text(1, 19.5, '4'),\n",
       " Text(1, 20.5, '12'),\n",
       " Text(1, 21.5, '13'),\n",
       " Text(1, 22.5, '39'),\n",
       " Text(1, 23.5, '67'),\n",
       " Text(1, 24.5, '82'),\n",
       " Text(1, 25.5, '58'),\n",
       " Text(1, 26.5, '81'),\n",
       " Text(1, 27.5, '85'),\n",
       " Text(1, 28.5, '53'),\n",
       " Text(1, 29.5, '60'),\n",
       " Text(1, 30.5, '42'),\n",
       " Text(1, 31.5, '46'),\n",
       " Text(1, 32.5, '24'),\n",
       " Text(1, 33.5, '43'),\n",
       " Text(1, 34.5, '7'),\n",
       " Text(1, 35.5, '41'),\n",
       " Text(1, 36.5, '10'),\n",
       " Text(1, 37.5, '57'),\n",
       " Text(1, 38.5, '83'),\n",
       " Text(1, 39.5, '5'),\n",
       " Text(1, 40.5, '50'),\n",
       " Text(1, 41.5, '80'),\n",
       " Text(1, 42.5, '25'),\n",
       " Text(1, 43.5, '54'),\n",
       " Text(1, 44.5, '37'),\n",
       " Text(1, 45.5, '56'),\n",
       " Text(1, 46.5, '72'),\n",
       " Text(1, 47.5, '97'),\n",
       " Text(1, 48.5, '62'),\n",
       " Text(1, 49.5, '6'),\n",
       " Text(1, 50.5, '28'),\n",
       " Text(1, 51.5, '9'),\n",
       " Text(1, 52.5, '18'),\n",
       " Text(1, 53.5, '68'),\n",
       " Text(1, 54.5, '93'),\n",
       " Text(1, 55.5, '52'),\n",
       " Text(1, 56.5, '75'),\n",
       " Text(1, 57.5, '14'),\n",
       " Text(1, 58.5, '30'),\n",
       " Text(1, 59.5, '1'),\n",
       " Text(1, 60.5, '31'),\n",
       " Text(1, 61.5, '20'),\n",
       " Text(1, 62.5, '71'),\n",
       " Text(1, 63.5, '59'),\n",
       " Text(1, 64.5, '87'),\n",
       " Text(1, 65.5, '49'),\n",
       " Text(1, 66.5, '92'),\n",
       " Text(1, 67.5, '64'),\n",
       " Text(1, 68.5, '32'),\n",
       " Text(1, 69.5, '47'),\n",
       " Text(1, 70.5, '44'),\n",
       " Text(1, 71.5, '90'),\n",
       " Text(1, 72.5, '3'),\n",
       " Text(1, 73.5, '29'),\n",
       " Text(1, 74.5, '63'),\n",
       " Text(1, 75.5, '2'),\n",
       " Text(1, 76.5, '61'),\n",
       " Text(1, 77.5, '35'),\n",
       " Text(1, 78.5, '91'),\n",
       " Text(1, 79.5, '79'),\n",
       " Text(1, 80.5, '23'),\n",
       " Text(1, 81.5, '70'),\n",
       " Text(1, 82.5, '38'),\n",
       " Text(1, 83.5, '84'),\n",
       " Text(1, 84.5, '26'),\n",
       " Text(1, 85.5, '66'),\n",
       " Text(1, 86.5, '51'),\n",
       " Text(1, 87.5, '99'),\n",
       " Text(1, 88.5, '34'),\n",
       " Text(1, 89.5, '98'),\n",
       " Text(1, 90.5, '76'),\n",
       " Text(1, 91.5, '77'),\n",
       " Text(1, 92.5, '22'),\n",
       " Text(1, 93.5, '89'),\n",
       " Text(1, 94.5, '55'),\n",
       " Text(1, 95.5, '95'),\n",
       " Text(1, 96.5, '8'),\n",
       " Text(1, 97.5, '21'),\n",
       " Text(1, 98.5, '16'),\n",
       " Text(1, 99.5, '78')]"
      ]
     },
     "execution_count": 390,
     "metadata": {},
     "output_type": "execute_result"
    },
    {
     "data": {
      "image/png": "[encoded data removed]",
      "text/plain": [
       "<Figure size 720x720 with 4 Axes>"
      ]
     },
     "metadata": {
      "needs_background": "light"
     },
     "output_type": "display_data"
    }
   ],
   "source": [
    "g = sns.clustermap(np.log(concat_types),yticklabels=True)\n",
    "g.ax_heatmap.set_yticklabels(g.ax_heatmap.get_ymajorticklabels(), fontsize = 7)\n"
   ]
  },
  {
   "cell_type": "code",
   "execution_count": null,
   "id": "64ea5ca2",
   "metadata": {},
   "outputs": [],
   "source": []
  },
  {
   "cell_type": "markdown",
   "id": "f40c73b5",
   "metadata": {},
   "source": [
    "## **Run Inference**"
   ]
  },
  {
   "cell_type": "code",
   "execution_count": 295,
   "id": "2cbaaf38",
   "metadata": {},
   "outputs": [],
   "source": [
    "#Save cell cluster assigns and marker genes\n",
    "true_clus = []\n",
    "true_marks = []\n",
    "for i in range(clus):\n",
    "    true_clus += [list(np.array(bars)[i*n_cells:(i+1)*n_cells])]\n",
    "    true_marks += [list(all_choices[i*num_marks:(i+1)*num_marks])]\n",
    "    \n"
   ]
  },
  {
   "cell_type": "code",
   "execution_count": 296,
   "id": "b5d77c2c",
   "metadata": {},
   "outputs": [
    {
     "data": {
      "text/html": [
       "<div>\n",
       "<style scoped>\n",
       "    .dataframe tbody tr th:only-of-type {\n",
       "        vertical-align: middle;\n",
       "    }\n",
       "\n",
       "    .dataframe tbody tr th {\n",
       "        vertical-align: top;\n",
       "    }\n",
       "\n",
       "    .dataframe thead th {\n",
       "        text-align: right;\n",
       "    }\n",
       "</style>\n",
       "<table border=\"1\" class=\"dataframe\">\n",
       "  <thead>\n",
       "    <tr style=\"text-align: right;\">\n",
       "      <th></th>\n",
       "      <th>clus</th>\n",
       "      <th>cells</th>\n",
       "      <th>marks</th>\n",
       "    </tr>\n",
       "  </thead>\n",
       "  <tbody>\n",
       "    <tr>\n",
       "      <th>0</th>\n",
       "      <td>0</td>\n",
       "      <td>[0, 1, 2, 3, 4, 5, 6, 7, 8, 9, 10, 11, 12, 13,...</td>\n",
       "      <td>[94, 11, 33, 48, 19, 40, 86, 74, 73, 15]</td>\n",
       "    </tr>\n",
       "    <tr>\n",
       "      <th>1</th>\n",
       "      <td>1</td>\n",
       "      <td>[500, 501, 502, 503, 504, 505, 506, 507, 508, ...</td>\n",
       "      <td>[21, 78, 16, 95, 55, 77, 89, 76, 22, 8]</td>\n",
       "    </tr>\n",
       "    <tr>\n",
       "      <th>2</th>\n",
       "      <td>2</td>\n",
       "      <td>[1000, 1001, 1002, 1003, 1004, 1005, 1006, 100...</td>\n",
       "      <td>[65, 88, 27, 17, 96, 4, 36, 45, 69, 0]</td>\n",
       "    </tr>\n",
       "  </tbody>\n",
       "</table>\n",
       "</div>"
      ],
      "text/plain": [
       "   clus                                              cells  \\\n",
       "0     0  [0, 1, 2, 3, 4, 5, 6, 7, 8, 9, 10, 11, 12, 13,...   \n",
       "1     1  [500, 501, 502, 503, 504, 505, 506, 507, 508, ...   \n",
       "2     2  [1000, 1001, 1002, 1003, 1004, 1005, 1006, 100...   \n",
       "\n",
       "                                      marks  \n",
       "0  [94, 11, 33, 48, 19, 40, 86, 74, 73, 15]  \n",
       "1   [21, 78, 16, 95, 55, 77, 89, 76, 22, 8]  \n",
       "2    [65, 88, 27, 17, 96, 4, 36, 45, 69, 0]  "
      ]
     },
     "execution_count": 296,
     "metadata": {},
     "output_type": "execute_result"
    }
   ],
   "source": [
    "true = pd.DataFrame()\n",
    "true['clus'] = range(clus)\n",
    "true['cells'] = true_clus\n",
    "true['marks'] = true_marks\n",
    "true.head()"
   ]
  },
  {
   "cell_type": "code",
   "execution_count": 297,
   "id": "1aab7461",
   "metadata": {},
   "outputs": [
    {
     "name": "stdout",
     "output_type": "stream",
     "text": [
      "dataset_meta:  ['burst_mark_sim']\n",
      "\n",
      "dataset_names:  ['burst_mark_sim_20230330']\n",
      "len(dataset_names):  1\n",
      "\n",
      "loom_filepaths:  ['/home/tchari/counts/mixMod_sims/loom/burst_mark_sim.loom']\n"
     ]
    }
   ],
   "source": [
    "dataset_meta = ['burst_mark_sim']\n",
    "print('dataset_meta: ', dataset_meta)\n",
    "print()\n",
    "\n",
    "\n",
    "\n",
    "cluster_names = []\n",
    "dataset_names = ['burst_mark_sim_'+'20230330']   #To save\n",
    "print('dataset_names: ', dataset_names)\n",
    "print('len(dataset_names): ',len(dataset_names))\n",
    "print()\n",
    "\n",
    "raw_data_locations = ['burst_mark_sim']\n",
    "transcriptome_filepath = '/home/tchari/perturbCME/notebooks/gg_200525_genome_polyA_cum_3'\n",
    "\n",
    "spliced_layer = 'spliced'\n",
    "unspliced_layer = 'unspliced'\n",
    "gene_attr = 'gene_name'\n",
    "cell_attr = 'barcode'\n",
    "\n",
    "attribute_names=[(unspliced_layer,spliced_layer),gene_attr,cell_attr]\n",
    "\n",
    "loom_filepaths = ['/home/tchari/counts/mixMod_sims/loom/'+x+'.loom' for x in raw_data_locations] \n",
    "print('loom_filepaths: ',loom_filepaths)\n",
    "\n",
    "n_datasets = len(loom_filepaths)"
   ]
  },
  {
   "cell_type": "code",
   "execution_count": 298,
   "id": "2a29a449",
   "metadata": {},
   "outputs": [
    {
     "name": "stdout",
     "output_type": "stream",
     "text": [
      "Dataset burst_mark_sim. \n",
      "\t1500 barcodes in loom, 1419 pass filter. 1500 in annotations; of these, 1500 in loom and 1419 in filtered loom.\n",
      "\tAll: 1500 cells in annotations. 1500 in loom. 1419 pass filter.\n",
      "mkdir: cannot create directory ‘./figs’: File exists\r\n"
     ]
    },
    {
     "data": {
      "image/png": "[encoded data removed]",
      "text/plain": [
       "<Figure size 1080x360 with 2 Axes>"
      ]
     },
     "metadata": {
      "needs_background": "light"
     },
     "output_type": "display_data"
    }
   ],
   "source": [
    "#MAYBE SKIP FILTER FOR NOW\n",
    "cf = []\n",
    "thr_lb = [1e3]*len(dataset_meta)*2\n",
    "\n",
    "fig1,ax1 = plt.subplots(1,len(dataset_meta)*2,figsize=(15,5))\n",
    "\n",
    "for k in range(len(dataset_meta)):\n",
    "    filename = loom_filepaths[k]\n",
    "    dataset_name = raw_data_locations[k]\n",
    "    \n",
    "    with lp.connect(filename,mode='r') as ds:\n",
    "        S = ds.layers[spliced_layer][:]\n",
    "        U = ds.layers[unspliced_layer][:]\n",
    "        gene_names = ds.ra[gene_attr]\n",
    "        bcs = ds.ca[cell_attr]\n",
    "        cells = S.shape[1]\n",
    "        monod.preprocess.knee_plot(S+U,ax1[k],viz=True,thr=thr_lb[k])\n",
    "        cf_ = ((S+U).sum(0)>thr_lb[k])\n",
    "        \n",
    "        n_annot_bcs = len(bcs)\n",
    "        annot_bcs_in_loom = len(bcs)\n",
    "        annot_bcs_in_filt_loom = cf_.sum()\n",
    "        print(f'Dataset {dataset_name}. \\n\\t{len(bcs)} barcodes in loom, {cf_.sum()} pass filter. {n_annot_bcs} in annotations; of these, {annot_bcs_in_loom} in loom and {annot_bcs_in_filt_loom} in filtered loom.')\n",
    "        \n",
    "        #if k==0:\n",
    "        #for subcluster in subcluster_names:\n",
    "        subcluster = 'All'\n",
    "        annot_bcs = bars\n",
    "        cf.append(np.isin(bcs,annot_bcs) & cf_)\n",
    "        print(f'\\t{subcluster}: {len(annot_bcs)} cells in annotations. {np.isin(bcs,annot_bcs).sum()} in loom. {cf[-1].sum()} pass filter.')\n",
    "\n",
    "\n",
    "\n",
    "    ax1[k].set_title(dataset_name)\n",
    "    \n",
    "!mkdir ./figs    \n",
    "fig_dir = './figs/'\n",
    "fig_string = fig_dir + 'kneeplots_burst_mark_sim_forMM.png'\n",
    "fig1.tight_layout()\n",
    "plt.savefig(fig_string,dpi=450)"
   ]
  },
  {
   "cell_type": "code",
   "execution_count": 299,
   "id": "1982d4ad",
   "metadata": {},
   "outputs": [],
   "source": [
    "import logging, sys\n",
    "logging.basicConfig(stream=sys.stdout)\n",
    "log = logging.getLogger()\n",
    "log.setLevel(logging.INFO)"
   ]
  },
  {
   "cell_type": "code",
   "execution_count": 300,
   "id": "798ac7f5",
   "metadata": {},
   "outputs": [],
   "source": [
    "#Define bounds, from 20220930_normanfit_monod.ipynb\n",
    "phys_lb = [-2.0, -1.8, -1.8 ] #-1.0, -1.8, -1.8\n",
    "phys_ub = [4.2, 2.5, 2.5] #4.2, 2.5, 3.5\n",
    "samp_lb = [-7.157894736842105, -1.525] #-7.5, -2\n",
    "samp_ub = [-7.157894736842105, -1.525] #-5.5, 0\n",
    "# gridsize = [5,6]\n",
    "gridsize = [1,1]\n"
   ]
  },
  {
   "cell_type": "code",
   "execution_count": 301,
   "id": "95f7de83",
   "metadata": {},
   "outputs": [
    {
     "data": {
      "text/plain": [
       "(array([  0.,   0.,   0.,   0.,   0., 100.,   0.,   0.,   0.,   0.]),\n",
       " array([-0.5, -0.4, -0.3, -0.2, -0.1,  0. ,  0.1,  0.2,  0.3,  0.4,  0.5]),\n",
       " <BarContainer object of 10 artists>)"
      ]
     },
     "execution_count": 301,
     "metadata": {},
     "output_type": "execute_result"
    },
    {
     "data": {
      "image/png": "[encoded data removed]",
      "text/plain": [
       "<Figure size 432x288 with 1 Axes>"
      ]
     },
     "metadata": {
      "needs_background": "light"
     },
     "output_type": "display_data"
    }
   ],
   "source": [
    "plt.hist(np.log10(params[1,:,2]))"
   ]
  },
  {
   "cell_type": "code",
   "execution_count": 302,
   "id": "e0a14c49",
   "metadata": {},
   "outputs": [],
   "source": [
    "k=3\n",
    "epochs=10"
   ]
  },
  {
   "cell_type": "code",
   "execution_count": 303,
   "id": "a53e3d6a",
   "metadata": {},
   "outputs": [
    {
     "name": "stdout",
     "output_type": "stream",
     "text": [
      "INFO:root:Beginning data preprocessing and filtering.\n",
      "INFO:root:Directory ./fits/gg_230330_025_burst_mark_sim_MM_k3_1 created.\n",
      "INFO:root:Dataset: burst_mark_sim_20230330\n",
      "INFO:root:1419 cells detected.\n",
      "INFO:root:100 features observed, 100 match genome annotations. 100 were unique.\n",
      "INFO:root:97 genes retained after expression filter.\n",
      "INFO:root:Directory ./fits/gg_230330_025_burst_mark_sim_MM_k3_1/burst_mark_sim_20230330 created.\n",
      "INFO:root:Total of 100 genes selected.\n",
      "WARNING:root:Selecting 100 genes required 0.0% dataset threshold.\n",
      "INFO:root:Directory ./fits/gg_230330_025_burst_mark_sim_MM_k3_1/diagnostic_figures created.\n"
     ]
    },
    {
     "data": {
      "image/png": "[encoded data removed]",
      "text/plain": [
       "<Figure size 864x288 with 2 Axes>"
      ]
     },
     "metadata": {
      "needs_background": "light"
     },
     "output_type": "display_data"
    }
   ],
   "source": [
    "dir_string,dataset_strings = monod.preprocess.construct_batch(loom_filepaths, \\\n",
    "                                             transcriptome_filepath, \\\n",
    "                                             dataset_names, \\\n",
    "                                             attribute_names=attribute_names,\\\n",
    "                                             batch_location='./fits',meta='burst_mark_sim_MM_k3',batch_id=1,\\\n",
    "                                             n_genes=100,exp_filter_threshold=None,cf=cf)"
   ]
  },
  {
   "cell_type": "code",
   "execution_count": 307,
   "id": "f683b526",
   "metadata": {},
   "outputs": [
    {
     "name": "stdout",
     "output_type": "stream",
     "text": [
      "INFO:root:Directory ./fits/gg_230330_025_burst_mark_sim_MM_k3_1/burst_mark_sim_20230330/Bursty_Poisson_1x1 already exists.\n",
      "INFO:root:Global inference parameters stored to ./fits/gg_230330_025_burst_mark_sim_MM_k3_1/burst_mark_sim_20230330/Bursty_Poisson_1x1/parameters.pr.\n",
      "INFO:root:Beginning data extraction.\n",
      "INFO:root:Dataset: burst_mark_sim_20230330\n",
      "INFO:root:100 features observed, 100 match genome annotations. 100 were unique.\n",
      "INFO:root:Gene list extracted from ./fits/gg_230330_025_burst_mark_sim_MM_k3_1/genes.csv.\n",
      "INFO:root:Directory ./fits/gg_230330_025_burst_mark_sim_MM_k3_1/burst_mark_sim_20230330/diagnostic_figures already exists.\n",
      "INFO:root:Search data stored to ./fits/gg_230330_025_burst_mark_sim_MM_k3_1/burst_mark_sim_20230330/raw.sd.\n",
      "INFO:root:Starting non-parallelized grid scan.\n",
      "INFO:root:M Step Initial Run: \n",
      "INFO:root:Starting parallelized MLE param fits for EM.\n"
     ]
    },
    {
     "name": "stderr",
     "output_type": "stream",
     "text": [
      "100%|██████████████████████████████████████████████████████████████████████████████████████████████████| 3/3 [07:21<00:00, 147.33s/it]"
     ]
    },
    {
     "name": "stdout",
     "output_type": "stream",
     "text": [
      "INFO:root:Parallelized MLE fits complete.\n",
      "INFO:root:EM Epoch 1/10: \n"
     ]
    },
    {
     "name": "stderr",
     "output_type": "stream",
     "text": [
      "\n"
     ]
    },
    {
     "name": "stdout",
     "output_type": "stream",
     "text": [
      "INFO:root:Starting parallelized MLE param fits for EM.\n"
     ]
    },
    {
     "name": "stderr",
     "output_type": "stream",
     "text": [
      "100%|██████████████████████████████████████████████████████████████████████████████████████████████████| 3/3 [06:36<00:00, 132.19s/it]"
     ]
    },
    {
     "name": "stdout",
     "output_type": "stream",
     "text": [
      "INFO:root:Parallelized MLE fits complete.\n",
      "mstep self.weights:  [0.34004218 0.45798473 0.20197309]\n",
      "logL:  -664.5770963971702\n",
      "INFO:root:EM Epoch 2/10: \n"
     ]
    },
    {
     "name": "stderr",
     "output_type": "stream",
     "text": [
      "\n"
     ]
    },
    {
     "name": "stdout",
     "output_type": "stream",
     "text": [
      "INFO:root:Starting parallelized MLE param fits for EM.\n"
     ]
    },
    {
     "name": "stderr",
     "output_type": "stream",
     "text": [
      "100%|██████████████████████████████████████████████████████████████████████████████████████████████████| 3/3 [08:18<00:00, 166.05s/it]"
     ]
    },
    {
     "name": "stdout",
     "output_type": "stream",
     "text": [
      "INFO:root:Parallelized MLE fits complete.\n",
      "mstep self.weights:  [0.50851615 0.32377812 0.16770573]\n",
      "logL:  -671.1041147948486\n",
      "INFO:root:EM Epoch 3/10: \n"
     ]
    },
    {
     "name": "stderr",
     "output_type": "stream",
     "text": [
      "\n"
     ]
    },
    {
     "name": "stdout",
     "output_type": "stream",
     "text": [
      "INFO:root:Starting parallelized MLE param fits for EM.\n"
     ]
    },
    {
     "name": "stderr",
     "output_type": "stream",
     "text": [
      "100%|██████████████████████████████████████████████████████████████████████████████████████████████████| 3/3 [06:49<00:00, 136.48s/it]"
     ]
    },
    {
     "name": "stdout",
     "output_type": "stream",
     "text": [
      "INFO:root:Parallelized MLE fits complete.\n",
      "mstep self.weights:  [0.5287686 0.1967576 0.2744738]\n",
      "logL:  -670.0567462019711\n",
      "INFO:root:EM Epoch 4/10: \n"
     ]
    },
    {
     "name": "stderr",
     "output_type": "stream",
     "text": [
      "\n"
     ]
    },
    {
     "name": "stdout",
     "output_type": "stream",
     "text": [
      "INFO:root:Starting parallelized MLE param fits for EM.\n"
     ]
    },
    {
     "name": "stderr",
     "output_type": "stream",
     "text": [
      "100%|██████████████████████████████████████████████████████████████████████████████████████████████████| 3/3 [06:50<00:00, 136.75s/it]"
     ]
    },
    {
     "name": "stdout",
     "output_type": "stream",
     "text": [
      "INFO:root:Parallelized MLE fits complete.\n",
      "mstep self.weights:  [0.40098319 0.26987612 0.32914069]\n",
      "logL:  -668.7684456827918\n",
      "INFO:root:EM Epoch 5/10: \n"
     ]
    },
    {
     "name": "stderr",
     "output_type": "stream",
     "text": [
      "\n"
     ]
    },
    {
     "name": "stdout",
     "output_type": "stream",
     "text": [
      "INFO:root:Starting parallelized MLE param fits for EM.\n"
     ]
    },
    {
     "name": "stderr",
     "output_type": "stream",
     "text": [
      "100%|██████████████████████████████████████████████████████████████████████████████████████████████████| 3/3 [07:57<00:00, 159.23s/it]"
     ]
    },
    {
     "name": "stdout",
     "output_type": "stream",
     "text": [
      "INFO:root:Parallelized MLE fits complete.\n",
      "mstep self.weights:  [0.3947386  0.30356014 0.30170126]\n",
      "logL:  -674.0314612029089\n",
      "INFO:root:EM Epoch 6/10: \n"
     ]
    },
    {
     "name": "stderr",
     "output_type": "stream",
     "text": [
      "\n"
     ]
    },
    {
     "name": "stdout",
     "output_type": "stream",
     "text": [
      "INFO:root:Starting parallelized MLE param fits for EM.\n"
     ]
    },
    {
     "name": "stderr",
     "output_type": "stream",
     "text": [
      "100%|██████████████████████████████████████████████████████████████████████████████████████████████████| 3/3 [08:22<00:00, 167.44s/it]"
     ]
    },
    {
     "name": "stdout",
     "output_type": "stream",
     "text": [
      "INFO:root:Parallelized MLE fits complete.\n",
      "mstep self.weights:  [0.44202604 0.36902373 0.18895023]\n",
      "logL:  -670.4174841463247\n",
      "INFO:root:EM Epoch 7/10: \n"
     ]
    },
    {
     "name": "stderr",
     "output_type": "stream",
     "text": [
      "\n"
     ]
    },
    {
     "name": "stdout",
     "output_type": "stream",
     "text": [
      "INFO:root:Starting parallelized MLE param fits for EM.\n"
     ]
    },
    {
     "name": "stderr",
     "output_type": "stream",
     "text": [
      "100%|██████████████████████████████████████████████████████████████████████████████████████████████████| 3/3 [05:15<00:00, 105.02s/it]"
     ]
    },
    {
     "name": "stdout",
     "output_type": "stream",
     "text": [
      "INFO:root:Parallelized MLE fits complete.\n",
      "mstep self.weights:  [0.46835854 0.38941134 0.14223012]\n",
      "logL:  -664.4399754367914\n",
      "INFO:root:EM Epoch 8/10: \n"
     ]
    },
    {
     "name": "stderr",
     "output_type": "stream",
     "text": [
      "\n"
     ]
    },
    {
     "name": "stdout",
     "output_type": "stream",
     "text": [
      "INFO:root:Starting parallelized MLE param fits for EM.\n"
     ]
    },
    {
     "name": "stderr",
     "output_type": "stream",
     "text": [
      "100%|███████████████████████████████████████████████████████████████████████████████████████████████████| 3/3 [03:34<00:00, 71.35s/it]"
     ]
    },
    {
     "name": "stdout",
     "output_type": "stream",
     "text": [
      "INFO:root:Parallelized MLE fits complete.\n",
      "mstep self.weights:  [0.43402964 0.34694208 0.21902828]\n",
      "logL:  -664.0920068528987\n",
      "INFO:root:EM Epoch 9/10: \n"
     ]
    },
    {
     "name": "stderr",
     "output_type": "stream",
     "text": [
      "\n"
     ]
    },
    {
     "name": "stdout",
     "output_type": "stream",
     "text": [
      "INFO:root:Starting parallelized MLE param fits for EM.\n"
     ]
    },
    {
     "name": "stderr",
     "output_type": "stream",
     "text": [
      "100%|██████████████████████████████████████████████████████████████████████████████████████████████████| 3/3 [06:20<00:00, 126.95s/it]"
     ]
    },
    {
     "name": "stdout",
     "output_type": "stream",
     "text": [
      "INFO:root:Parallelized MLE fits complete.\n",
      "mstep self.weights:  [0.4050004  0.31323311 0.28176649]\n",
      "logL:  -670.9846533502807\n",
      "INFO:root:EM Epoch 10/10: \n"
     ]
    },
    {
     "name": "stderr",
     "output_type": "stream",
     "text": [
      "\n"
     ]
    },
    {
     "name": "stdout",
     "output_type": "stream",
     "text": [
      "INFO:root:Starting parallelized MLE param fits for EM.\n"
     ]
    },
    {
     "name": "stderr",
     "output_type": "stream",
     "text": [
      "100%|███████████████████████████████████████████████████████████████████████████████████████████████████| 3/3 [04:59<00:00, 99.98s/it]"
     ]
    },
    {
     "name": "stdout",
     "output_type": "stream",
     "text": [
      "INFO:root:Parallelized MLE fits complete.\n",
      "mstep self.weights:  [0.35472757 0.3804633  0.26480913]\n",
      "logL:  -669.8839634180239\n",
      "INFO:root:Non-parallelized grid scan complete.\n"
     ]
    },
    {
     "name": "stderr",
     "output_type": "stream",
     "text": [
      "\n"
     ]
    },
    {
     "data": {
      "image/png": "[encoded data removed]",
      "text/plain": [
       "<Figure size 864x288 with 2 Axes>"
      ]
     },
     "metadata": {
      "needs_background": "light"
     },
     "output_type": "display_data"
    }
   ],
   "source": [
    "result_strings = []\n",
    "for i in range(0,1): #n_datasets\n",
    "    \n",
    "    fitmodel = monod.cme_toolbox.CMEModel('Bursty','Poisson')\n",
    "    \n",
    "    inference_parameters = monod.mminference.InferenceParameters(phys_lb,phys_ub,samp_lb,samp_ub,gridsize,\\\n",
    "                dataset_strings[i],fitmodel,k=k,epochs=epochs,use_lengths = True,\n",
    "                gradient_params = {'max_iterations':20,'init_pattern':'moments','num_restarts':1})\n",
    "    \n",
    "    search_data = monod.extract_data.extract_data(loom_filepaths[i], transcriptome_filepath, dataset_names[i],\n",
    "                dataset_strings[i], dir_string, dataset_attr_names=attribute_names,cf=cf[i])\n",
    "    \n",
    "    inference_parameters.fit_all_grid_points(50,search_data)\n"
   ]
  },
  {
   "cell_type": "code",
   "execution_count": 274,
   "id": "cd378703",
   "metadata": {},
   "outputs": [
    {
     "data": {
      "text/plain": [
       "['./fits/gg_230330_025_burst_mark_sim_MM_1/burst_mark_sim_20230330']"
      ]
     },
     "execution_count": 274,
     "metadata": {},
     "output_type": "execute_result"
    }
   ],
   "source": []
  },
  {
   "cell_type": "code",
   "execution_count": 355,
   "id": "bbc30db7",
   "metadata": {},
   "outputs": [],
   "source": [
    "import pickle \n",
    "with open(\"/home/tchari/perturbCME/notebooks/fits/gg_230330_025_burst_mark_sim_MM_k3_1/burst_mark_sim_20230330/Bursty_Poisson_1x1/grid_point_0.gp\", \"rb\") as ipfs:\n",
    "    grid_point_results_k3 = pickle.load(ipfs)\n",
    "    "
   ]
  },
  {
   "cell_type": "code",
   "execution_count": null,
   "id": "5990162c",
   "metadata": {},
   "outputs": [],
   "source": []
  },
  {
   "cell_type": "code",
   "execution_count": 371,
   "id": "4d94bdf9",
   "metadata": {},
   "outputs": [
    {
     "data": {
      "text/html": [
       "<div>\n",
       "<style scoped>\n",
       "    .dataframe tbody tr th:only-of-type {\n",
       "        vertical-align: middle;\n",
       "    }\n",
       "\n",
       "    .dataframe tbody tr th {\n",
       "        vertical-align: top;\n",
       "    }\n",
       "\n",
       "    .dataframe thead th {\n",
       "        text-align: right;\n",
       "    }\n",
       "</style>\n",
       "<table border=\"1\" class=\"dataframe\">\n",
       "  <thead>\n",
       "    <tr style=\"text-align: right;\">\n",
       "      <th></th>\n",
       "      <th>cluster</th>\n",
       "      <th>assign</th>\n",
       "    </tr>\n",
       "  </thead>\n",
       "  <tbody>\n",
       "    <tr>\n",
       "      <th>0</th>\n",
       "      <td>0</td>\n",
       "      <td>1</td>\n",
       "    </tr>\n",
       "    <tr>\n",
       "      <th>1</th>\n",
       "      <td>0</td>\n",
       "      <td>1</td>\n",
       "    </tr>\n",
       "    <tr>\n",
       "      <th>2</th>\n",
       "      <td>0</td>\n",
       "      <td>1</td>\n",
       "    </tr>\n",
       "    <tr>\n",
       "      <th>3</th>\n",
       "      <td>0</td>\n",
       "      <td>1</td>\n",
       "    </tr>\n",
       "    <tr>\n",
       "      <th>4</th>\n",
       "      <td>0</td>\n",
       "      <td>1</td>\n",
       "    </tr>\n",
       "  </tbody>\n",
       "</table>\n",
       "</div>"
      ],
      "text/plain": [
       "   cluster  assign\n",
       "0        0       1\n",
       "1        0       1\n",
       "2        0       1\n",
       "3        0       1\n",
       "4        0       1"
      ]
     },
     "execution_count": 371,
     "metadata": {},
     "output_type": "execute_result"
    }
   ],
   "source": [
    "cell_res = pd.DataFrame()\n",
    "assigns = grid_point_results_k3.assigns\n",
    "cluster = []\n",
    "assign = []\n",
    "for i in range(clus-1):\n",
    "    cluster += [i]*n_cells\n",
    "    assign += list(grid_point_results_k3.assigns[i*n_cells:(i+1)*n_cells])\n",
    "    \n",
    "cell_res['cluster'] = cluster\n",
    "cell_res['assign'] = assign\n",
    "cell_res.head()"
   ]
  },
  {
   "cell_type": "code",
   "execution_count": 373,
   "id": "a3da39ef",
   "metadata": {},
   "outputs": [
    {
     "data": {
      "text/plain": [
       "Text(0.5, 0, 'MM Assignment')"
      ]
     },
     "execution_count": 373,
     "metadata": {},
     "output_type": "execute_result"
    },
    {
     "data": {
      "image/png": "[encoded data removed]",
      "text/plain": [
       "<Figure size 432x288 with 1 Axes>"
      ]
     },
     "metadata": {
      "needs_background": "light"
     },
     "output_type": "display_data"
    }
   ],
   "source": [
    "sns.histplot(data=cell_res, x=\"assign\",hue='cluster', kde=True)\n",
    "plt.xlabel('MM Assignment')"
   ]
  },
  {
   "cell_type": "code",
   "execution_count": 324,
   "id": "1e51e8c5",
   "metadata": {},
   "outputs": [
    {
     "data": {
      "text/plain": [
       "Text(0, 0.5, 'NLL')"
      ]
     },
     "execution_count": 324,
     "metadata": {},
     "output_type": "execute_result"
    },
    {
     "data": {
      "image/png": "[encoded data removed]",
      "text/plain": [
       "<Figure size 432x288 with 1 Axes>"
      ]
     },
     "metadata": {
      "needs_background": "light"
     },
     "output_type": "display_data"
    }
   ],
   "source": [
    "plt.scatter(range(len(grid_point_results_k3.all_bounds)),-1*np.array(grid_point_results_k3.all_bounds))\n",
    "plt.xlabel('epoch')\n",
    "plt.ylabel('NLL')"
   ]
  },
  {
   "cell_type": "code",
   "execution_count": 374,
   "id": "71d30115",
   "metadata": {},
   "outputs": [
    {
     "data": {
      "text/plain": [
       "1902934.6881803519"
      ]
     },
     "execution_count": 374,
     "metadata": {},
     "output_type": "execute_result"
    }
   ],
   "source": [
    "grid_point_results_k3.aic #Compare with k = 2"
   ]
  },
  {
   "cell_type": "code",
   "execution_count": 375,
   "id": "f695bd2c",
   "metadata": {},
   "outputs": [
    {
     "data": {
      "text/plain": [
       "(100, 3, 3)"
      ]
     },
     "execution_count": 375,
     "metadata": {},
     "output_type": "execute_result"
    }
   ],
   "source": [
    "#Compare parameter fits, gene x param x k\n",
    "grid_point_results_k3.param_estimates.shape"
   ]
  },
  {
   "cell_type": "code",
   "execution_count": 383,
   "id": "4c486c65",
   "metadata": {},
   "outputs": [],
   "source": [
    "b0 = grid_point_results_k3.param_estimates[:,0,1]\n",
    "b1 = grid_point_results_k3.param_estimates[:,0,2]"
   ]
  },
  {
   "cell_type": "code",
   "execution_count": 384,
   "id": "8a5a9d06",
   "metadata": {},
   "outputs": [],
   "source": [
    "true_b0 = params[0,:,0]\n",
    "true_b1 = params[1,:,0]"
   ]
  },
  {
   "cell_type": "code",
   "execution_count": null,
   "id": "15879e0c",
   "metadata": {},
   "outputs": [],
   "source": []
  },
  {
   "cell_type": "code",
   "execution_count": 386,
   "id": "18c4efcc",
   "metadata": {},
   "outputs": [
    {
     "name": "stderr",
     "output_type": "stream",
     "text": [
      "/home/tchari/miniconda3/envs/py37/lib/python3.7/site-packages/seaborn/_decorators.py:43: FutureWarning: Pass the following variables as keyword args: x, y. From version 0.12, the only valid positional argument will be `data`, and passing other arguments without an explicit keyword will result in an error or misinterpretation.\n",
      "  FutureWarning\n"
     ]
    },
    {
     "data": {
      "text/plain": [
       "<AxesSubplot:>"
      ]
     },
     "execution_count": 386,
     "metadata": {},
     "output_type": "execute_result"
    },
    {
     "data": {
      "image/png": "[encoded data removed]",
      "text/plain": [
       "<Figure size 432x288 with 1 Axes>"
      ]
     },
     "metadata": {
      "needs_background": "light"
     },
     "output_type": "display_data"
    }
   ],
   "source": [
    "sns.scatterplot(b0,np.log10(true_b0))"
   ]
  },
  {
   "cell_type": "code",
   "execution_count": 387,
   "id": "a43878a9",
   "metadata": {},
   "outputs": [
    {
     "name": "stderr",
     "output_type": "stream",
     "text": [
      "/home/tchari/miniconda3/envs/py37/lib/python3.7/site-packages/seaborn/_decorators.py:43: FutureWarning: Pass the following variables as keyword args: x, y. From version 0.12, the only valid positional argument will be `data`, and passing other arguments without an explicit keyword will result in an error or misinterpretation.\n",
      "  FutureWarning\n"
     ]
    },
    {
     "data": {
      "text/plain": [
       "<AxesSubplot:>"
      ]
     },
     "execution_count": 387,
     "metadata": {},
     "output_type": "execute_result"
    },
    {
     "data": {
      "image/png": "[encoded data removed]",
      "text/plain": [
       "<Figure size 432x288 with 1 Axes>"
      ]
     },
     "metadata": {
      "needs_background": "light"
     },
     "output_type": "display_data"
    }
   ],
   "source": [
    "sns.scatterplot(b1,np.log10(true_b1))"
   ]
  },
  {
   "cell_type": "code",
   "execution_count": 85,
   "id": "182f9ce1",
   "metadata": {},
   "outputs": [],
   "source": [
    "#Init values per gene\n",
    "\n",
    "np.random.seed(42)\n",
    "\n",
    "b=10 #10\n",
    "k = 0.2 #0.2 \n",
    "beta = 1 #1\n",
    "gamma = 0.8 #0.8\n",
    "samp = [0.008,10**(-1.525)] #[0.4,0.5], from data 10**(-7.157894736842105)*len + 10**(-1.525) \n",
    "\n",
    "\n"
   ]
  },
  {
   "cell_type": "code",
   "execution_count": null,
   "id": "5b3b92dc",
   "metadata": {},
   "outputs": [],
   "source": []
  },
  {
   "cell_type": "code",
   "execution_count": 86,
   "id": "2da865ce",
   "metadata": {},
   "outputs": [
    {
     "name": "stdout",
     "output_type": "stream",
     "text": [
      "[20, 18]\n"
     ]
    }
   ],
   "source": [
    "#Get PSS for gene\n",
    "p = np.log10(np.asarray([b,beta/k,gamma/k]))\n",
    "burst_model = BurstModel('Poisson')\n",
    "\n",
    "max_mean = b*k*np.asarray([1/beta,1/gamma])\n",
    "max_std = np.sqrt(max_mean*(1+ b*np.asarray([1,beta/(beta+gamma)])))\n",
    "max_domain = max_mean + 4*max_std\n",
    "max_domain = [int(i) for i in max_domain]\n",
    "\n",
    "Pss = burst_model.get_Pss(p,max_domain,samp)\n",
    "\n",
    "#Get samples\n",
    "test = sample_from_p(100, Pss)\n"
   ]
  },
  {
   "cell_type": "code",
   "execution_count": 281,
   "id": "3505eb09",
   "metadata": {},
   "outputs": [
    {
     "data": {
      "text/plain": [
       "(1500, 100, 2)"
      ]
     },
     "execution_count": 281,
     "metadata": {},
     "output_type": "execute_result"
    }
   ],
   "source": [
    "all_counts.shape"
   ]
  },
  {
   "cell_type": "code",
   "execution_count": 187,
   "id": "d2d80558",
   "metadata": {},
   "outputs": [
    {
     "data": {
      "text/plain": [
       "array([16, 94, 30, 72, 63, 66, 62, 92, 26, 38, 73, 82, 40, 87, 42,  0,  5,\n",
       "        3, 59, 24, 61, 99, 44, 45, 88, 93, 13, 20, 37, 34])"
      ]
     },
     "execution_count": 187,
     "metadata": {},
     "output_type": "execute_result"
    }
   ],
   "source": [
    "all_choices"
   ]
  },
  {
   "cell_type": "code",
   "execution_count": 305,
   "id": "fe3956e5",
   "metadata": {},
   "outputs": [
    {
     "data": {
      "text/plain": [
       "Text(0, 0.5, 'Mature counts')"
      ]
     },
     "execution_count": 305,
     "metadata": {},
     "output_type": "execute_result"
    },
    {
     "data": {
      "image/png": "[encoded data removed]",
      "text/plain": [
       "<Figure size 432x288 with 1 Axes>"
      ]
     },
     "metadata": {
      "needs_background": "light"
     },
     "output_type": "display_data"
    }
   ],
   "source": [
    "plt.figure()\n",
    "test = all_counts[:,0]\n",
    "sns.kdeplot(x=test[:,0], y=test[:,1], cmap=\"viridis\", shade=True, thresh=0)\n",
    "plt.xlabel('Nascent counts')\n",
    "plt.ylabel('Mature counts')\n"
   ]
  },
  {
   "cell_type": "code",
   "execution_count": 331,
   "id": "85463879",
   "metadata": {},
   "outputs": [],
   "source": [
    "\n",
    "concat_types = np.concatenate((np.mean(all_counts[0:500,:,:],axis=0),np.mean(all_counts[500:1000,:,:],axis=0),\n",
    "          np.mean(all_counts[1000:1500,:,:],axis=0)),axis=1)\n"
   ]
  },
  {
   "cell_type": "code",
   "execution_count": 343,
   "id": "26152935",
   "metadata": {},
   "outputs": [
    {
     "data": {
      "text/plain": [
       "[Text(1, 0.5, '74'),\n",
       " Text(1, 1.5, '15'),\n",
       " Text(1, 2.5, '48'),\n",
       " Text(1, 3.5, '11'),\n",
       " Text(1, 4.5, '33'),\n",
       " Text(1, 5.5, '94'),\n",
       " Text(1, 6.5, '40'),\n",
       " Text(1, 7.5, '86'),\n",
       " Text(1, 8.5, '19'),\n",
       " Text(1, 9.5, '73'),\n",
       " Text(1, 10.5, '27'),\n",
       " Text(1, 11.5, '96'),\n",
       " Text(1, 12.5, '17'),\n",
       " Text(1, 13.5, '69'),\n",
       " Text(1, 14.5, '45'),\n",
       " Text(1, 15.5, '65'),\n",
       " Text(1, 16.5, '36'),\n",
       " Text(1, 17.5, '88'),\n",
       " Text(1, 18.5, '0'),\n",
       " Text(1, 19.5, '4'),\n",
       " Text(1, 20.5, '12'),\n",
       " Text(1, 21.5, '13'),\n",
       " Text(1, 22.5, '39'),\n",
       " Text(1, 23.5, '67'),\n",
       " Text(1, 24.5, '82'),\n",
       " Text(1, 25.5, '58'),\n",
       " Text(1, 26.5, '81'),\n",
       " Text(1, 27.5, '85'),\n",
       " Text(1, 28.5, '53'),\n",
       " Text(1, 29.5, '60'),\n",
       " Text(1, 30.5, '42'),\n",
       " Text(1, 31.5, '46'),\n",
       " Text(1, 32.5, '24'),\n",
       " Text(1, 33.5, '43'),\n",
       " Text(1, 34.5, '7'),\n",
       " Text(1, 35.5, '41'),\n",
       " Text(1, 36.5, '10'),\n",
       " Text(1, 37.5, '57'),\n",
       " Text(1, 38.5, '83'),\n",
       " Text(1, 39.5, '5'),\n",
       " Text(1, 40.5, '50'),\n",
       " Text(1, 41.5, '80'),\n",
       " Text(1, 42.5, '25'),\n",
       " Text(1, 43.5, '54'),\n",
       " Text(1, 44.5, '37'),\n",
       " Text(1, 45.5, '56'),\n",
       " Text(1, 46.5, '72'),\n",
       " Text(1, 47.5, '97'),\n",
       " Text(1, 48.5, '62'),\n",
       " Text(1, 49.5, '6'),\n",
       " Text(1, 50.5, '28'),\n",
       " Text(1, 51.5, '9'),\n",
       " Text(1, 52.5, '18'),\n",
       " Text(1, 53.5, '68'),\n",
       " Text(1, 54.5, '93'),\n",
       " Text(1, 55.5, '52'),\n",
       " Text(1, 56.5, '75'),\n",
       " Text(1, 57.5, '14'),\n",
       " Text(1, 58.5, '30'),\n",
       " Text(1, 59.5, '1'),\n",
       " Text(1, 60.5, '31'),\n",
       " Text(1, 61.5, '20'),\n",
       " Text(1, 62.5, '71'),\n",
       " Text(1, 63.5, '59'),\n",
       " Text(1, 64.5, '87'),\n",
       " Text(1, 65.5, '49'),\n",
       " Text(1, 66.5, '92'),\n",
       " Text(1, 67.5, '64'),\n",
       " Text(1, 68.5, '32'),\n",
       " Text(1, 69.5, '47'),\n",
       " Text(1, 70.5, '44'),\n",
       " Text(1, 71.5, '90'),\n",
       " Text(1, 72.5, '3'),\n",
       " Text(1, 73.5, '29'),\n",
       " Text(1, 74.5, '63'),\n",
       " Text(1, 75.5, '2'),\n",
       " Text(1, 76.5, '61'),\n",
       " Text(1, 77.5, '35'),\n",
       " Text(1, 78.5, '91'),\n",
       " Text(1, 79.5, '79'),\n",
       " Text(1, 80.5, '23'),\n",
       " Text(1, 81.5, '70'),\n",
       " Text(1, 82.5, '38'),\n",
       " Text(1, 83.5, '84'),\n",
       " Text(1, 84.5, '26'),\n",
       " Text(1, 85.5, '66'),\n",
       " Text(1, 86.5, '51'),\n",
       " Text(1, 87.5, '99'),\n",
       " Text(1, 88.5, '34'),\n",
       " Text(1, 89.5, '98'),\n",
       " Text(1, 90.5, '76'),\n",
       " Text(1, 91.5, '77'),\n",
       " Text(1, 92.5, '22'),\n",
       " Text(1, 93.5, '89'),\n",
       " Text(1, 94.5, '55'),\n",
       " Text(1, 95.5, '95'),\n",
       " Text(1, 96.5, '8'),\n",
       " Text(1, 97.5, '21'),\n",
       " Text(1, 98.5, '16'),\n",
       " Text(1, 99.5, '78')]"
      ]
     },
     "execution_count": 343,
     "metadata": {},
     "output_type": "execute_result"
    },
    {
     "data": {
      "image/png": "[encoded data removed]",
      "text/plain": [
       "<Figure size 720x720 with 4 Axes>"
      ]
     },
     "metadata": {
      "needs_background": "light"
     },
     "output_type": "display_data"
    }
   ],
   "source": [
    "#Make heatmap with markers\n",
    "\n",
    "g = sns.clustermap(np.log(concat_types),yticklabels=True)\n",
    "g.ax_heatmap.set_yticklabels(g.ax_heatmap.get_ymajorticklabels(), fontsize = 7)\n"
   ]
  },
  {
   "cell_type": "code",
   "execution_count": 344,
   "id": "662a958b",
   "metadata": {},
   "outputs": [
    {
     "data": {
      "text/plain": [
       "[Text(1, 0.5, '94'),\n",
       " Text(1, 1.5, '78'),\n",
       " Text(1, 2.5, '73'),\n",
       " Text(1, 3.5, '19'),\n",
       " Text(1, 4.5, '40'),\n",
       " Text(1, 5.5, '45'),\n",
       " Text(1, 6.5, '65'),\n",
       " Text(1, 7.5, '36'),\n",
       " Text(1, 8.5, '88'),\n",
       " Text(1, 9.5, '0'),\n",
       " Text(1, 10.5, '4'),\n",
       " Text(1, 11.5, '11'),\n",
       " Text(1, 12.5, '86'),\n",
       " Text(1, 13.5, '15'),\n",
       " Text(1, 14.5, '33'),\n",
       " Text(1, 15.5, '69'),\n",
       " Text(1, 16.5, '17'),\n",
       " Text(1, 17.5, '96'),\n",
       " Text(1, 18.5, '48'),\n",
       " Text(1, 19.5, '74'),\n",
       " Text(1, 20.5, '76'),\n",
       " Text(1, 21.5, '77'),\n",
       " Text(1, 22.5, '22'),\n",
       " Text(1, 23.5, '89'),\n",
       " Text(1, 24.5, '34'),\n",
       " Text(1, 25.5, '98'),\n",
       " Text(1, 26.5, '26'),\n",
       " Text(1, 27.5, '66'),\n",
       " Text(1, 28.5, '51'),\n",
       " Text(1, 29.5, '99'),\n",
       " Text(1, 30.5, '27'),\n",
       " Text(1, 31.5, '7'),\n",
       " Text(1, 32.5, '41'),\n",
       " Text(1, 33.5, '57'),\n",
       " Text(1, 34.5, '10'),\n",
       " Text(1, 35.5, '83'),\n",
       " Text(1, 36.5, '58'),\n",
       " Text(1, 37.5, '53'),\n",
       " Text(1, 38.5, '60'),\n",
       " Text(1, 39.5, '24'),\n",
       " Text(1, 40.5, '42'),\n",
       " Text(1, 41.5, '43'),\n",
       " Text(1, 42.5, '46'),\n",
       " Text(1, 43.5, '81'),\n",
       " Text(1, 44.5, '85'),\n",
       " Text(1, 45.5, '12'),\n",
       " Text(1, 46.5, '13'),\n",
       " Text(1, 47.5, '39'),\n",
       " Text(1, 48.5, '67'),\n",
       " Text(1, 49.5, '82'),\n",
       " Text(1, 50.5, '80'),\n",
       " Text(1, 51.5, '25'),\n",
       " Text(1, 52.5, '54'),\n",
       " Text(1, 53.5, '37'),\n",
       " Text(1, 54.5, '56'),\n",
       " Text(1, 55.5, '5'),\n",
       " Text(1, 56.5, '50'),\n",
       " Text(1, 57.5, '20'),\n",
       " Text(1, 58.5, '71'),\n",
       " Text(1, 59.5, '59'),\n",
       " Text(1, 60.5, '87'),\n",
       " Text(1, 61.5, '49'),\n",
       " Text(1, 62.5, '92'),\n",
       " Text(1, 63.5, '72'),\n",
       " Text(1, 64.5, '97'),\n",
       " Text(1, 65.5, '62'),\n",
       " Text(1, 66.5, '6'),\n",
       " Text(1, 67.5, '28'),\n",
       " Text(1, 68.5, '9'),\n",
       " Text(1, 69.5, '18'),\n",
       " Text(1, 70.5, '68'),\n",
       " Text(1, 71.5, '93'),\n",
       " Text(1, 72.5, '52'),\n",
       " Text(1, 73.5, '75'),\n",
       " Text(1, 74.5, '14'),\n",
       " Text(1, 75.5, '30'),\n",
       " Text(1, 76.5, '1'),\n",
       " Text(1, 77.5, '31'),\n",
       " Text(1, 78.5, '35'),\n",
       " Text(1, 79.5, '91'),\n",
       " Text(1, 80.5, '79'),\n",
       " Text(1, 81.5, '23'),\n",
       " Text(1, 82.5, '70'),\n",
       " Text(1, 83.5, '38'),\n",
       " Text(1, 84.5, '84'),\n",
       " Text(1, 85.5, '64'),\n",
       " Text(1, 86.5, '32'),\n",
       " Text(1, 87.5, '47'),\n",
       " Text(1, 88.5, '44'),\n",
       " Text(1, 89.5, '90'),\n",
       " Text(1, 90.5, '3'),\n",
       " Text(1, 91.5, '29'),\n",
       " Text(1, 92.5, '63'),\n",
       " Text(1, 93.5, '2'),\n",
       " Text(1, 94.5, '61'),\n",
       " Text(1, 95.5, '16'),\n",
       " Text(1, 96.5, '21'),\n",
       " Text(1, 97.5, '8'),\n",
       " Text(1, 98.5, '55'),\n",
       " Text(1, 99.5, '95')]"
      ]
     },
     "execution_count": 344,
     "metadata": {},
     "output_type": "execute_result"
    },
    {
     "data": {
      "image/png": "[encoded data removed]",
      "text/plain": [
       "<Figure size 720x720 with 4 Axes>"
      ]
     },
     "metadata": {
      "needs_background": "light"
     },
     "output_type": "display_data"
    }
   ],
   "source": [
    "g = sns.clustermap(concat_types,yticklabels=True)\n",
    "g.ax_heatmap.set_yticklabels(g.ax_heatmap.get_ymajorticklabels(), fontsize = 7)\n"
   ]
  },
  {
   "cell_type": "code",
   "execution_count": null,
   "id": "3dd9afe0",
   "metadata": {},
   "outputs": [],
   "source": []
  }
 ],
 "metadata": {
  "kernelspec": {
   "display_name": "Python 3 (ipykernel)",
   "language": "python",
   "name": "python3"
  },
  "language_info": {
   "codemirror_mode": {
    "name": "ipython",
    "version": 3
   },
   "file_extension": ".py",
   "mimetype": "text/x-python",
   "name": "python",
   "nbconvert_exporter": "python",
   "pygments_lexer": "ipython3",
   "version": "3.7.11"
  }
 },
 "nbformat": 4,
 "nbformat_minor": 5
}
