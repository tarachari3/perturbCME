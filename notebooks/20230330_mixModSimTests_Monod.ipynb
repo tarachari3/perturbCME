{
 "cells": [
  {
   "cell_type": "code",
   "execution_count": 1,
   "id": "0eee1379",
   "metadata": {},
   "outputs": [],
   "source": [
    "import numpy as np\n",
    "from numpy import matlib\n",
    "import matplotlib.pyplot as plt\n",
    "import scipy\n",
    "import matplotlib\n",
    "import tqdm\n",
    "from scipy import integrate, fft, sparse\n",
    "import pandas as pd\n",
    "import seaborn as sns\n",
    "import random\n",
    "import anndata\n",
    "import os"
   ]
  },
  {
   "cell_type": "code",
   "execution_count": 2,
   "id": "7f9f5cfe",
   "metadata": {},
   "outputs": [],
   "source": [
    "import sys\n",
    "import importlib\n",
    "sys.path.insert(0, '/home/tchari/monod/src/')"
   ]
  },
  {
   "cell_type": "code",
   "execution_count": 3,
   "id": "06b6c89f",
   "metadata": {},
   "outputs": [],
   "source": [
    "import monod\n",
    "#importlib.reload(monod)\n",
    "from monod import preprocess, extract_data, cme_toolbox, inference, analysis, mminference"
   ]
  },
  {
   "cell_type": "code",
   "execution_count": null,
   "id": "b308a4a0",
   "metadata": {},
   "outputs": [],
   "source": []
  },
  {
   "cell_type": "markdown",
   "id": "554ed702",
   "metadata": {},
   "source": [
    "## **Define Functions for Simulations**"
   ]
  },
  {
   "cell_type": "code",
   "execution_count": 4,
   "id": "7417d92c",
   "metadata": {},
   "outputs": [],
   "source": [
    "class BurstModel():\n",
    "    \"\"\"\n",
    "    This collection of convenience functions is placed in its own class mostly to avoid function name conflicts.\n",
    "    \"\"\"\n",
    "    def __init__(self,seq_model='None',quad_method='fixed_quad',fixed_quad_T=10,quad_order=60,quad_vec_T=np.inf):\n",
    "        self.seq_model = seq_model\n",
    "        self.quad_method = quad_method\n",
    "        self.fixed_quad_T = fixed_quad_T\n",
    "        self.quad_order = quad_order\n",
    "        self.quad_vec_T = quad_vec_T\n",
    "        \n",
    "    def burst_intfun(self, x, g, b, beta, gamma):\n",
    "        if np.isclose(beta, gamma):\n",
    "            c_1 = g[0]  \n",
    "            c_2 = x * beta * g[1]\n",
    "        else:\n",
    "            f = beta / (beta - gamma)\n",
    "            c_2 = g[1] * f\n",
    "            c_1 = g[0] - c_2\n",
    "\n",
    "        U = b * (np.exp(-beta * x) * c_1 + np.exp(-gamma * x) * c_2)\n",
    "        return U / (1 - U)    \n",
    "    \n",
    "    def eval_model_pgf(self, p_, g):\n",
    "        p = 10**p_\n",
    "        b, beta, gamma = p\n",
    "        fun = lambda x: self.burst_intfun(x, g, b, beta, gamma)\n",
    "        if self.quad_method == \"quad_vec\":\n",
    "            T = self.quad_vec_T * (1 / beta + 1 / gamma + 1)\n",
    "            gf = scipy.integrate.quad_vec(fun, 0, T)[0]\n",
    "        elif self.quad_method == \"fixed_quad\":\n",
    "            T = self.fixed_quad_T * (1 / beta + 1 / gamma + 1)\n",
    "            gf = scipy.integrate.fixed_quad(fun, 0, T, n=self.quad_order)[0]\n",
    "        else:\n",
    "            raise ValueError(\"Please use one of the specified quadrature methods.\")\n",
    "        return gf  # this is the log-generating function\n",
    "\n",
    "    def get_Pss(self, p, limits, samp=None):\n",
    "        u = []\n",
    "        mx = np.copy(limits)\n",
    "        mx[-1] = mx[-1] // 2 + 1\n",
    "        for i in range(len(mx)):\n",
    "            l = np.arange(mx[i])\n",
    "            u_ = np.exp(-2j * np.pi * l / limits[i]) - 1\n",
    "            u.append(u_)\n",
    "        g = np.meshgrid(*[u_ for u_ in u], indexing=\"ij\")\n",
    "        for i in range(len(mx)):\n",
    "            g[i] = g[i].flatten()\n",
    "        g = np.asarray(g)[:, :, None]\n",
    "\n",
    "        if self.seq_model == \"Bernoulli\":\n",
    "            g *= np.asarray(samp)[:, None, None]\n",
    "        elif self.seq_model == \"Poisson\":\n",
    "            g = np.exp((np.power(10, samp))[:, None, None] * g) - 1\n",
    "\n",
    "        gf = self.eval_model_pgf(p, g)\n",
    "        gf = np.exp(gf)\n",
    "        gf = gf.reshape(tuple(mx))\n",
    "        Pss = scipy.fft.irfftn(gf, s=tuple(limits))\n",
    "        Pss = np.abs(Pss) / np.sum(np.abs(Pss))\n",
    "        Pss = Pss.squeeze()\n",
    "        return Pss"
   ]
  },
  {
   "cell_type": "code",
   "execution_count": 5,
   "id": "96f3d267",
   "metadata": {},
   "outputs": [],
   "source": [
    "def sample_from_p(num_data_points, Pss):\n",
    "    mx = Pss.shape\n",
    "    p_flat = Pss.flatten()\n",
    "    x_N, x_M = np.arange(mx[0]), np.arange(mx[1])\n",
    "    X_N, X_M = np.meshgrid(x_N, x_M, indexing='ij')    # get grid of possible values\n",
    "    x_choices = np.arange(np.prod(mx))                 # represent each grid point as a point in a 1D vector\n",
    "    \n",
    "    samples = np.random.choice(x_choices, size=num_data_points, replace=True, p=p_flat)\n",
    "    d_N, d_M = X_N.flatten()[samples], X_M.flatten()[samples]    \n",
    "    return d_N, d_M"
   ]
  },
  {
   "cell_type": "markdown",
   "id": "15edf0de",
   "metadata": {},
   "source": [
    "## **Generate Counts**"
   ]
  },
  {
   "cell_type": "code",
   "execution_count": 207,
   "id": "0141ba54",
   "metadata": {},
   "outputs": [],
   "source": [
    "#No. of cells per k cell 'type'\n",
    "n_cells = 500\n",
    "clus = 3"
   ]
  },
  {
   "cell_type": "code",
   "execution_count": 208,
   "id": "f7260204",
   "metadata": {},
   "outputs": [],
   "source": [
    "n_genes = 100\n",
    "num_marks = 5"
   ]
  },
  {
   "cell_type": "code",
   "execution_count": 209,
   "id": "4bfd7858",
   "metadata": {},
   "outputs": [
    {
     "data": {
      "text/html": [
       "<div>\n",
       "<style scoped>\n",
       "    .dataframe tbody tr th:only-of-type {\n",
       "        vertical-align: middle;\n",
       "    }\n",
       "\n",
       "    .dataframe tbody tr th {\n",
       "        vertical-align: top;\n",
       "    }\n",
       "\n",
       "    .dataframe thead th {\n",
       "        text-align: right;\n",
       "    }\n",
       "</style>\n",
       "<table border=\"1\" class=\"dataframe\">\n",
       "  <thead>\n",
       "    <tr style=\"text-align: right;\">\n",
       "      <th></th>\n",
       "      <th>0</th>\n",
       "      <th>1</th>\n",
       "      <th>2</th>\n",
       "      <th>3</th>\n",
       "      <th>4</th>\n",
       "      <th>5</th>\n",
       "      <th>6</th>\n",
       "      <th>7</th>\n",
       "      <th>8</th>\n",
       "      <th>9</th>\n",
       "      <th>...</th>\n",
       "      <th>39</th>\n",
       "      <th>40</th>\n",
       "      <th>41</th>\n",
       "      <th>42</th>\n",
       "      <th>43</th>\n",
       "      <th>44</th>\n",
       "      <th>45</th>\n",
       "      <th>46</th>\n",
       "      <th>47</th>\n",
       "      <th>48</th>\n",
       "    </tr>\n",
       "  </thead>\n",
       "  <tbody>\n",
       "    <tr>\n",
       "      <th>0</th>\n",
       "      <td>TNMD</td>\n",
       "      <td>14950</td>\n",
       "      <td>48</td>\n",
       "      <td>23</td>\n",
       "      <td>10</td>\n",
       "      <td>5</td>\n",
       "      <td>2</td>\n",
       "      <td>2</td>\n",
       "      <td>2</td>\n",
       "      <td>2</td>\n",
       "      <td>...</td>\n",
       "      <td>0</td>\n",
       "      <td>0</td>\n",
       "      <td>0</td>\n",
       "      <td>0</td>\n",
       "      <td>0</td>\n",
       "      <td>0</td>\n",
       "      <td>0</td>\n",
       "      <td>0</td>\n",
       "      <td>0</td>\n",
       "      <td>0</td>\n",
       "    </tr>\n",
       "    <tr>\n",
       "      <th>1</th>\n",
       "      <td>DPM1</td>\n",
       "      <td>23689</td>\n",
       "      <td>98</td>\n",
       "      <td>38</td>\n",
       "      <td>25</td>\n",
       "      <td>17</td>\n",
       "      <td>10</td>\n",
       "      <td>6</td>\n",
       "      <td>5</td>\n",
       "      <td>5</td>\n",
       "      <td>...</td>\n",
       "      <td>0</td>\n",
       "      <td>0</td>\n",
       "      <td>0</td>\n",
       "      <td>0</td>\n",
       "      <td>0</td>\n",
       "      <td>0</td>\n",
       "      <td>0</td>\n",
       "      <td>0</td>\n",
       "      <td>0</td>\n",
       "      <td>0</td>\n",
       "    </tr>\n",
       "    <tr>\n",
       "      <th>2</th>\n",
       "      <td>SCYL3</td>\n",
       "      <td>44637</td>\n",
       "      <td>132</td>\n",
       "      <td>51</td>\n",
       "      <td>20</td>\n",
       "      <td>13</td>\n",
       "      <td>9</td>\n",
       "      <td>7</td>\n",
       "      <td>6</td>\n",
       "      <td>4</td>\n",
       "      <td>...</td>\n",
       "      <td>0</td>\n",
       "      <td>0</td>\n",
       "      <td>0</td>\n",
       "      <td>0</td>\n",
       "      <td>0</td>\n",
       "      <td>0</td>\n",
       "      <td>0</td>\n",
       "      <td>0</td>\n",
       "      <td>0</td>\n",
       "      <td>0</td>\n",
       "    </tr>\n",
       "    <tr>\n",
       "      <th>3</th>\n",
       "      <td>TSPAN6</td>\n",
       "      <td>12884</td>\n",
       "      <td>43</td>\n",
       "      <td>18</td>\n",
       "      <td>13</td>\n",
       "      <td>8</td>\n",
       "      <td>3</td>\n",
       "      <td>2</td>\n",
       "      <td>2</td>\n",
       "      <td>1</td>\n",
       "      <td>...</td>\n",
       "      <td>0</td>\n",
       "      <td>0</td>\n",
       "      <td>0</td>\n",
       "      <td>0</td>\n",
       "      <td>0</td>\n",
       "      <td>0</td>\n",
       "      <td>0</td>\n",
       "      <td>0</td>\n",
       "      <td>0</td>\n",
       "      <td>0</td>\n",
       "    </tr>\n",
       "    <tr>\n",
       "      <th>4</th>\n",
       "      <td>FGR</td>\n",
       "      <td>23122</td>\n",
       "      <td>41</td>\n",
       "      <td>18</td>\n",
       "      <td>8</td>\n",
       "      <td>4</td>\n",
       "      <td>1</td>\n",
       "      <td>1</td>\n",
       "      <td>1</td>\n",
       "      <td>1</td>\n",
       "      <td>...</td>\n",
       "      <td>0</td>\n",
       "      <td>0</td>\n",
       "      <td>0</td>\n",
       "      <td>0</td>\n",
       "      <td>0</td>\n",
       "      <td>0</td>\n",
       "      <td>0</td>\n",
       "      <td>0</td>\n",
       "      <td>0</td>\n",
       "      <td>0</td>\n",
       "    </tr>\n",
       "  </tbody>\n",
       "</table>\n",
       "<p>5 rows × 49 columns</p>\n",
       "</div>"
      ],
      "text/plain": [
       "       0      1    2   3   4   5   6   7   8   9   ...  39  40  41  42  43  \\\n",
       "0    TNMD  14950   48  23  10   5   2   2   2   2  ...   0   0   0   0   0   \n",
       "1    DPM1  23689   98  38  25  17  10   6   5   5  ...   0   0   0   0   0   \n",
       "2   SCYL3  44637  132  51  20  13   9   7   6   4  ...   0   0   0   0   0   \n",
       "3  TSPAN6  12884   43  18  13   8   3   2   2   1  ...   0   0   0   0   0   \n",
       "4     FGR  23122   41  18   8   4   1   1   1   1  ...   0   0   0   0   0   \n",
       "\n",
       "   44  45  46  47  48  \n",
       "0   0   0   0   0   0  \n",
       "1   0   0   0   0   0  \n",
       "2   0   0   0   0   0  \n",
       "3   0   0   0   0   0  \n",
       "4   0   0   0   0   0  \n",
       "\n",
       "[5 rows x 49 columns]"
      ]
     },
     "execution_count": 209,
     "metadata": {},
     "output_type": "execute_result"
    }
   ],
   "source": [
    "transcriptome = pd.read_csv('/home/tchari/perturbCME/notebooks/gg_200525_genome_polyA_cum_3',delim_whitespace=True,header = None)\n",
    "transcriptome.head()"
   ]
  },
  {
   "cell_type": "code",
   "execution_count": 210,
   "id": "f83af96a",
   "metadata": {},
   "outputs": [],
   "source": [
    "#Select gene lengths from human transcriptome\n",
    "gene_names = np.array(transcriptome[0])\n",
    "gene_lens = np.array(transcriptome[1])\n",
    "\n",
    "choices = random.sample(range(len(gene_names)), n_genes)\n",
    "names_sub = gene_names[choices]\n",
    "lens_sub = gene_lens[choices]"
   ]
  },
  {
   "cell_type": "code",
   "execution_count": 211,
   "id": "b4aee9ef",
   "metadata": {},
   "outputs": [],
   "source": [
    "#For each gene set params (clus x n_genes x 6), use gene lens from transcriptome file + use same gene names \n",
    "params = np.zeros((clus,n_genes,6)) #b,k,beta,gamma,samp_n,samp_m\n",
    "for g in range(n_genes):\n",
    "    g_len = lens_sub[g]\n",
    "    params[:,g,0] = int(np.random.uniform(8,12)) #b\n",
    "    params[:,g,1] = 1 #np.random.uniform(0.1,0.5) #k\n",
    "    params[:,g,2] = np.random.normal(2,0.1)  #beta\n",
    "    params[:,g,3] = np.random.normal(0.8,0.1) #gamma\n",
    "    \n",
    "    params[:,g,4] = 10**(-7.157894736842105)*g_len #C_nL\n",
    "    params[:,g,5] = 10**(-1.525) #lam_m\n",
    "    \n",
    "\n",
    "\n",
    "#For each clus, select num_marks unique markers, add noise to b (log10b)\n",
    "all_choices = np.random.choice(range(n_genes), num_marks*clus, replace=False)\n",
    "for c in range(clus):\n",
    "    marks = all_choices[c*num_marks:(c+1)*num_marks]\n",
    "    \n",
    "    params[c,marks,0] = 10**(np.log10(params[c,marks,0]) + np.random.normal(loc=1.0, scale = 0.1, size=len(marks))) #Only in burst size for now\n",
    "\n"
   ]
  },
  {
   "cell_type": "code",
   "execution_count": null,
   "id": "ccc177d7",
   "metadata": {},
   "outputs": [],
   "source": []
  },
  {
   "cell_type": "code",
   "execution_count": 308,
   "id": "7af57ee3",
   "metadata": {},
   "outputs": [
    {
     "name": "stdout",
     "output_type": "stream",
     "text": [
      "[ 4.92490843 13.35035579]\n",
      "[34, 55]\n",
      "[3.90303004 9.62653054]\n",
      "[27, 41]\n",
      "[ 5.27177405 12.84153095]\n",
      "[35, 53]\n",
      "[ 3.89483037 10.20852006]\n",
      "[27, 43]\n",
      "[ 5.28271396 12.7098817 ]\n",
      "[37, 54]\n",
      "[ 4.71607588 11.70260295]\n",
      "[33, 50]\n",
      "[ 5.1466726  14.24532269]\n",
      "[35, 57]\n",
      "[ 5.12097205 14.9898241 ]\n",
      "[35, 60]\n",
      "[ 4.05143737 11.00296244]\n",
      "[28, 45]\n",
      "[ 5.79333638 12.37206569]\n",
      "[39, 53]\n",
      "[ 5.322342   12.86202382]\n",
      "[35, 53]\n",
      "[3.90997718 9.23831393]\n",
      "[27, 40]\n",
      "[ 4.02873134 10.42297949]\n",
      "[28, 44]\n",
      "[ 5.87259269 15.7718007 ]\n",
      "[39, 63]\n",
      "[ 4.24307999 10.23827929]\n",
      "[30, 44]\n",
      "[ 5.66179698 15.40063015]\n",
      "[38, 62]\n",
      "[4.13493983 9.43428358]\n",
      "[28, 40]\n",
      "[ 4.96969791 11.13668287]\n",
      "[33, 47]\n",
      "[ 4.26952053 10.59176472]\n",
      "[29, 44]\n",
      "[ 4.74752087 15.00342627]\n",
      "[33, 60]\n",
      "[ 5.48899825 13.05704923]\n",
      "[37, 55]\n",
      "[ 5.68800021 15.70937729]\n",
      "[38, 63]\n",
      "[ 5.75523896 16.82026717]\n",
      "[38, 66]\n",
      "[ 5.01528737 13.73932827]\n",
      "[34, 56]\n",
      "[3.75687729 9.87433197]\n",
      "[27, 42]\n",
      "[ 4.44369239 11.5829337 ]\n",
      "[31, 48]\n",
      "[ 4.85195183 12.12222179]\n",
      "[34, 51]\n",
      "[ 4.91881012 14.50558348]\n",
      "[34, 58]\n",
      "[3.88280805 9.47161141]\n",
      "[27, 41]\n",
      "[ 4.32730884 12.16608502]\n",
      "[30, 50]\n",
      "[ 3.90911218 10.72208558]\n",
      "[27, 45]\n",
      "[ 5.06353593 13.48060962]\n",
      "[34, 55]\n",
      "[ 5.52235876 17.93746562]\n",
      "[38, 69]\n",
      "[ 4.30359439 10.75667748]\n",
      "[29, 44]\n",
      "[ 5.62189905 16.57985241]\n",
      "[38, 66]\n",
      "[ 4.28007788 10.2143744 ]\n",
      "[29, 43]\n",
      "[ 5.27002304 12.88683317]\n",
      "[37, 55]\n",
      "[ 5.07340978 13.07128771]\n",
      "[36, 56]\n",
      "[ 4.40693411 10.8761945 ]\n",
      "[30, 46]\n",
      "[ 5.9613782  11.11600136]\n",
      "[38, 47]\n",
      "[ 5.75665986 13.82273353]\n",
      "[39, 57]\n",
      "[ 4.99639662 14.52141258]\n",
      "[34, 58]\n",
      "[ 4.22771045 11.35129572]\n",
      "[30, 48]\n",
      "[ 5.06313679 13.85502331]\n",
      "[36, 58]\n",
      "[ 4.87072652 11.84713131]\n",
      "[32, 49]\n",
      "[4.03346431 8.80936372]\n",
      "[28, 39]\n",
      "[ 4.61065336 12.74003441]\n",
      "[31, 52]\n",
      "[ 4.75168564 11.84849239]\n",
      "[32, 49]\n",
      "[ 4.92546672 12.86719223]\n",
      "[35, 55]\n",
      "[ 5.42942724 13.26684877]\n",
      "[37, 56]\n",
      "[ 5.69283635 15.00582692]\n",
      "[38, 61]\n",
      "[3.66736875 8.57785136]\n",
      "[26, 38]\n",
      "[ 4.28309435 11.99269227]\n",
      "[30, 50]\n",
      "[ 5.79060548 14.32417991]\n",
      "[39, 59]\n",
      "[ 5.46999499 13.32439574]\n",
      "[37, 56]\n",
      "[ 4.77935759 14.4287461 ]\n",
      "[33, 58]\n",
      "[3.63085503 9.07859916]\n",
      "[26, 40]\n",
      "[ 5.1276415  15.72185304]\n",
      "[35, 62]\n",
      "[ 4.60384044 10.59214572]\n",
      "[31, 45]\n",
      "[4.96385496 9.61855242]\n",
      "[34, 43]\n",
      "[4.11963468 9.82985978]\n",
      "[28, 42]\n",
      "[ 5.01885358 12.62284786]\n",
      "[34, 53]\n",
      "[ 5.22507442 14.0954683 ]\n",
      "[36, 59]\n",
      "[3.73992424 8.45912384]\n",
      "[26, 38]\n",
      "[4.38500952 9.24973044]\n",
      "[30, 41]\n",
      "[ 5.52242364 17.92410963]\n",
      "[38, 69]\n",
      "[4.01387328 8.67298585]\n",
      "[28, 38]\n",
      "[ 4.1423615  13.30436447]\n",
      "[29, 54]\n",
      "[ 4.2034003  10.32212427]\n",
      "[30, 45]\n",
      "[ 43.93582083 117.04780705]\n",
      "[293, 464]\n",
      "[ 5.03144211 14.86456551]\n",
      "[34, 59]\n",
      "[ 5.76021136 14.71807073]\n",
      "[39, 60]\n",
      "[ 5.29382314 15.13329208]\n",
      "[35, 60]\n",
      "[ 4.60468358 12.21880877]\n",
      "[33, 52]\n",
      "[3.88848887 9.34374735]\n",
      "[27, 40]\n",
      "[ 66.78937953 200.4169724 ]\n",
      "[473, 810]\n",
      "[ 4.71860742 11.94266505]\n",
      "[32, 49]\n",
      "[ 5.41354142 13.50447646]\n",
      "[36, 55]\n",
      "[ 5.56186245 15.23823163]\n",
      "[38, 62]\n",
      "[27.56148903 64.6770931 ]\n",
      "[180, 261]\n",
      "[ 49.2776978  117.64678347]\n",
      "[334, 488]\n",
      "[ 4.65759007 10.87465438]\n",
      "[31, 46]\n",
      "[ 3.96449812 10.16676543]\n",
      "[27, 43]\n",
      "[ 5.26351309 13.83168932]\n",
      "[37, 58]\n",
      "[ 4.75945808 11.12559932]\n",
      "[33, 48]\n",
      "[ 4.12511941 10.22682936]\n",
      "[28, 43]\n",
      "[ 4.02503585 11.31809729]\n",
      "[28, 46]\n",
      "[ 4.5377744  11.10045278]\n",
      "[31, 47]\n",
      "[4.41236775 9.75179945]\n",
      "[29, 41]\n",
      "[ 4.09010469 10.72463374]\n",
      "[28, 44]\n",
      "[ 4.17748853 14.00463583]\n",
      "[28, 54]\n",
      "[3.92470243 8.92207722]\n",
      "[27, 39]\n",
      "[ 5.15814588 18.73211851]\n",
      "[35, 70]\n",
      "[ 5.10289892 12.72868142]\n",
      "[35, 53]\n",
      "[4.84134698 9.82512436]\n",
      "[34, 44]\n",
      "[ 5.03603653 13.36699267]\n",
      "[34, 55]\n",
      "[ 4.99285368 10.62885096]\n",
      "[34, 47]\n",
      "[ 4.07352465 10.16970801]\n",
      "[28, 43]\n",
      "[ 4.49554975 10.56946194]\n",
      "[31, 45]\n",
      "[ 54.01919968 143.40536342]\n",
      "[362, 571]\n",
      "[ 51.27315408 138.99037091]\n",
      "[344, 552]\n",
      "[3.90303004 9.62653054]\n",
      "[27, 41]\n",
      "[ 5.27177405 12.84153095]\n",
      "[35, 53]\n",
      "[ 3.89483037 10.20852006]\n",
      "[27, 43]\n",
      "[ 5.28271396 12.7098817 ]\n",
      "[37, 54]\n",
      "[ 4.71607588 11.70260295]\n",
      "[33, 50]\n",
      "[ 5.1466726  14.24532269]\n",
      "[35, 57]\n",
      "[ 5.12097205 14.9898241 ]\n",
      "[35, 60]\n",
      "[ 4.05143737 11.00296244]\n",
      "[28, 45]\n",
      "[ 5.79333638 12.37206569]\n",
      "[39, 53]\n",
      "[ 5.322342   12.86202382]\n",
      "[35, 53]\n",
      "[3.90997718 9.23831393]\n",
      "[27, 40]\n",
      "[ 4.02873134 10.42297949]\n",
      "[28, 44]\n",
      "[ 5.87259269 15.7718007 ]\n",
      "[39, 63]\n",
      "[ 4.24307999 10.23827929]\n",
      "[30, 44]\n",
      "[ 50.7512293  138.04820523]\n",
      "[335, 539]\n",
      "[4.13493983 9.43428358]\n",
      "[28, 40]\n",
      "[ 4.96969791 11.13668287]\n",
      "[33, 47]\n",
      "[ 4.26952053 10.59176472]\n",
      "[29, 44]\n",
      "[ 4.74752087 15.00342627]\n",
      "[33, 60]\n",
      "[ 5.48899825 13.05704923]\n",
      "[37, 55]\n",
      "[ 5.68800021 15.70937729]\n",
      "[38, 63]\n",
      "[ 5.75523896 16.82026717]\n",
      "[38, 66]\n",
      "[ 69.31310026 189.88252646]\n",
      "[462, 747]\n",
      "[3.75687729 9.87433197]\n",
      "[27, 42]\n",
      "[ 4.44369239 11.5829337 ]\n",
      "[31, 48]\n",
      "[ 4.85195183 12.12222179]\n",
      "[34, 51]\n",
      "[ 4.91881012 14.50558348]\n",
      "[34, 58]\n",
      "[3.88280805 9.47161141]\n",
      "[27, 41]\n",
      "[ 4.32730884 12.16608502]\n",
      "[30, 50]\n",
      "[ 3.90911218 10.72208558]\n",
      "[27, 45]\n",
      "[ 5.06353593 13.48060962]\n",
      "[34, 55]\n",
      "[ 5.52235876 17.93746562]\n",
      "[38, 69]\n",
      "[ 4.30359439 10.75667748]\n",
      "[29, 44]\n",
      "[ 5.62189905 16.57985241]\n",
      "[38, 66]\n",
      "[ 4.28007788 10.2143744 ]\n",
      "[29, 43]\n",
      "[ 5.27002304 12.88683317]\n",
      "[37, 55]\n",
      "[ 5.07340978 13.07128771]\n",
      "[36, 56]\n",
      "[ 4.40693411 10.8761945 ]\n",
      "[30, 46]\n",
      "[ 5.9613782  11.11600136]\n",
      "[38, 47]\n",
      "[ 5.75665986 13.82273353]\n",
      "[39, 57]\n",
      "[ 4.99639662 14.52141258]\n",
      "[34, 58]\n",
      "[ 4.22771045 11.35129572]\n",
      "[30, 48]\n",
      "[ 5.06313679 13.85502331]\n",
      "[36, 58]\n",
      "[ 4.87072652 11.84713131]\n",
      "[32, 49]\n",
      "[38.48554816 84.05508658]\n",
      "[256, 351]\n",
      "[ 4.61065336 12.74003441]\n",
      "[31, 52]\n",
      "[ 4.75168564 11.84849239]\n",
      "[32, 49]\n",
      "[ 4.92546672 12.86719223]\n",
      "[35, 55]\n",
      "[ 5.42942724 13.26684877]\n",
      "[37, 56]\n",
      "[ 5.69283635 15.00582692]\n",
      "[38, 61]\n",
      "[3.66736875 8.57785136]\n",
      "[26, 38]\n",
      "[ 4.28309435 11.99269227]\n",
      "[30, 50]\n",
      "[ 5.79060548 14.32417991]\n",
      "[39, 59]\n",
      "[ 5.46999499 13.32439574]\n",
      "[37, 56]\n",
      "[ 4.77935759 14.4287461 ]\n",
      "[33, 58]\n",
      "[3.63085503 9.07859916]\n",
      "[26, 40]\n",
      "[ 5.1276415  15.72185304]\n",
      "[35, 62]\n",
      "[ 4.60384044 10.59214572]\n",
      "[31, 45]\n",
      "[4.96385496 9.61855242]\n",
      "[34, 43]\n",
      "[4.11963468 9.82985978]\n",
      "[28, 42]\n",
      "[ 5.01885358 12.62284786]\n",
      "[34, 53]\n",
      "[ 5.22507442 14.0954683 ]\n",
      "[36, 59]\n",
      "[3.73992424 8.45912384]\n",
      "[26, 38]\n",
      "[4.38500952 9.24973044]\n",
      "[30, 41]\n",
      "[ 5.52242364 17.92410963]\n",
      "[38, 69]\n",
      "[4.01387328 8.67298585]\n",
      "[28, 38]\n",
      "[ 4.1423615  13.30436447]\n",
      "[29, 54]\n",
      "[ 4.2034003  10.32212427]\n",
      "[30, 45]\n",
      "[ 5.52241242 14.71205616]\n",
      "[38, 60]\n",
      "[ 5.03144211 14.86456551]\n",
      "[34, 59]\n",
      "[ 5.76021136 14.71807073]\n",
      "[39, 60]\n",
      "[ 5.29382314 15.13329208]\n",
      "[35, 60]\n",
      "[ 4.60468358 12.21880877]\n",
      "[33, 52]\n",
      "[3.88848887 9.34374735]\n",
      "[27, 40]\n",
      "[ 4.78793346 14.36730114]\n",
      "[35, 60]\n",
      "[ 4.71860742 11.94266505]\n",
      "[32, 49]\n",
      "[ 5.41354142 13.50447646]\n",
      "[36, 55]\n",
      "[ 5.56186245 15.23823163]\n",
      "[38, 62]\n",
      "[4.25113635 9.97591752]\n",
      "[28, 42]\n",
      "[ 5.31352864 12.68564849]\n",
      "[37, 54]\n",
      "[ 4.65759007 10.87465438]\n",
      "[31, 46]\n",
      "[ 3.96449812 10.16676543]\n",
      "[27, 43]\n",
      "[ 5.26351309 13.83168932]\n",
      "[37, 58]\n",
      "[ 4.75945808 11.12559932]\n",
      "[33, 48]\n",
      "[ 4.12511941 10.22682936]\n",
      "[28, 43]\n",
      "[ 4.02503585 11.31809729]\n",
      "[28, 46]\n",
      "[ 4.5377744  11.10045278]\n",
      "[31, 47]\n",
      "[4.41236775 9.75179945]\n",
      "[29, 41]\n",
      "[ 4.09010469 10.72463374]\n",
      "[28, 44]\n",
      "[ 4.17748853 14.00463583]\n",
      "[28, 54]\n",
      "[3.92470243 8.92207722]\n",
      "[27, 39]\n",
      "[ 5.15814588 18.73211851]\n",
      "[35, 70]\n",
      "[ 5.10289892 12.72868142]\n",
      "[35, 53]\n",
      "[4.84134698 9.82512436]\n",
      "[34, 44]\n",
      "[ 42.39111854 112.51740674]\n",
      "[282, 446]\n",
      "[ 4.99285368 10.62885096]\n",
      "[34, 47]\n",
      "[ 4.07352465 10.16970801]\n",
      "[28, 43]\n",
      "[ 4.49554975 10.56946194]\n",
      "[31, 45]\n",
      "[ 5.45973512 14.49401886]\n",
      "[37, 60]\n",
      "[ 4.92490843 13.35035579]\n",
      "[34, 55]\n",
      "[3.90303004 9.62653054]\n",
      "[27, 41]\n",
      "[ 5.27177405 12.84153095]\n",
      "[35, 53]\n",
      "[ 3.89483037 10.20852006]\n",
      "[27, 43]\n",
      "[ 5.28271396 12.7098817 ]\n",
      "[37, 54]\n",
      "[ 4.71607588 11.70260295]\n",
      "[33, 50]\n",
      "[ 5.1466726  14.24532269]\n",
      "[35, 57]\n",
      "[ 5.12097205 14.9898241 ]\n",
      "[35, 60]\n",
      "[ 4.05143737 11.00296244]\n",
      "[28, 45]\n",
      "[ 5.79333638 12.37206569]\n",
      "[39, 53]\n",
      "[ 5.322342   12.86202382]\n",
      "[35, 53]\n",
      "[3.90997718 9.23831393]\n",
      "[27, 40]\n",
      "[ 4.02873134 10.42297949]\n",
      "[28, 44]\n",
      "[ 5.87259269 15.7718007 ]\n",
      "[39, 63]\n",
      "[ 4.24307999 10.23827929]\n",
      "[30, 44]\n",
      "[ 5.66179698 15.40063015]\n",
      "[38, 62]\n",
      "[4.13493983 9.43428358]\n",
      "[28, 40]\n",
      "[ 57.37840711 128.58027485]\n",
      "[367, 515]\n",
      "[ 4.26952053 10.59176472]\n",
      "[29, 44]\n",
      "[ 4.74752087 15.00342627]\n",
      "[33, 60]\n",
      "[ 5.48899825 13.05704923]\n",
      "[37, 55]\n",
      "[ 5.68800021 15.70937729]\n",
      "[38, 63]\n",
      "[ 5.75523896 16.82026717]\n",
      "[38, 66]\n",
      "[ 5.01528737 13.73932827]\n",
      "[34, 56]\n",
      "[3.75687729 9.87433197]\n",
      "[27, 42]\n",
      "[ 4.44369239 11.5829337 ]\n",
      "[31, 48]\n",
      "[ 4.85195183 12.12222179]\n",
      "[34, 51]\n",
      "[ 4.91881012 14.50558348]\n",
      "[34, 58]\n",
      "[3.88280805 9.47161141]\n",
      "[27, 41]\n",
      "[ 4.32730884 12.16608502]\n",
      "[30, 50]\n",
      "[ 3.90911218 10.72208558]\n",
      "[27, 45]\n",
      "[ 5.06353593 13.48060962]\n",
      "[34, 55]\n",
      "[ 5.52235876 17.93746562]\n",
      "[38, 69]\n",
      "[ 4.30359439 10.75667748]\n",
      "[29, 44]\n",
      "[ 5.62189905 16.57985241]\n",
      "[38, 66]\n",
      "[ 4.28007788 10.2143744 ]\n",
      "[29, 43]\n",
      "[ 5.27002304 12.88683317]\n",
      "[37, 55]\n",
      "[ 5.07340978 13.07128771]\n",
      "[36, 56]\n",
      "[ 4.40693411 10.8761945 ]\n",
      "[30, 46]\n",
      "[ 5.9613782  11.11600136]\n",
      "[38, 47]\n",
      "[ 5.75665986 13.82273353]\n",
      "[39, 57]\n",
      "[ 4.99639662 14.52141258]\n",
      "[34, 58]\n",
      "[ 4.22771045 11.35129572]\n",
      "[30, 48]\n",
      "[ 5.06313679 13.85502331]\n",
      "[36, 58]\n",
      "[ 4.87072652 11.84713131]\n",
      "[32, 49]\n",
      "[4.03346431 8.80936372]\n",
      "[28, 39]\n",
      "[ 49.07246856 135.59573642]\n",
      "[324, 528]\n"
     ]
    },
    {
     "name": "stdout",
     "output_type": "stream",
     "text": [
      "[ 4.75168564 11.84849239]\n",
      "[32, 49]\n",
      "[ 49.10585537 128.28316917]\n",
      "[343, 534]\n",
      "[ 5.42942724 13.26684877]\n",
      "[37, 56]\n",
      "[ 5.69283635 15.00582692]\n",
      "[38, 61]\n",
      "[3.66736875 8.57785136]\n",
      "[26, 38]\n",
      "[ 4.28309435 11.99269227]\n",
      "[30, 50]\n",
      "[ 5.79060548 14.32417991]\n",
      "[39, 59]\n",
      "[ 5.46999499 13.32439574]\n",
      "[37, 56]\n",
      "[ 4.77935759 14.4287461 ]\n",
      "[33, 58]\n",
      "[3.63085503 9.07859916]\n",
      "[26, 40]\n",
      "[ 5.1276415  15.72185304]\n",
      "[35, 62]\n",
      "[ 4.60384044 10.59214572]\n",
      "[31, 45]\n",
      "[4.96385496 9.61855242]\n",
      "[34, 43]\n",
      "[4.11963468 9.82985978]\n",
      "[28, 42]\n",
      "[ 5.01885358 12.62284786]\n",
      "[34, 53]\n",
      "[ 5.22507442 14.0954683 ]\n",
      "[36, 59]\n",
      "[3.73992424 8.45912384]\n",
      "[26, 38]\n",
      "[4.38500952 9.24973044]\n",
      "[30, 41]\n",
      "[ 77.32663108 250.97875558]\n",
      "[515, 941]\n",
      "[4.01387328 8.67298585]\n",
      "[28, 38]\n",
      "[ 4.1423615  13.30436447]\n",
      "[29, 54]\n",
      "[ 4.2034003  10.32212427]\n",
      "[30, 45]\n",
      "[ 5.52241242 14.71205616]\n",
      "[38, 60]\n",
      "[ 5.03144211 14.86456551]\n",
      "[34, 59]\n",
      "[ 5.76021136 14.71807073]\n",
      "[39, 60]\n",
      "[ 5.29382314 15.13329208]\n",
      "[35, 60]\n",
      "[ 4.60468358 12.21880877]\n",
      "[33, 52]\n",
      "[3.88848887 9.34374735]\n",
      "[27, 40]\n",
      "[ 4.78793346 14.36730114]\n",
      "[35, 60]\n",
      "[ 4.71860742 11.94266505]\n",
      "[32, 49]\n",
      "[ 5.41354142 13.50447646]\n",
      "[36, 55]\n",
      "[ 5.56186245 15.23823163]\n",
      "[38, 62]\n",
      "[4.25113635 9.97591752]\n",
      "[28, 42]\n",
      "[ 5.31352864 12.68564849]\n",
      "[37, 54]\n",
      "[ 4.65759007 10.87465438]\n",
      "[31, 46]\n",
      "[ 3.96449812 10.16676543]\n",
      "[27, 43]\n",
      "[ 5.26351309 13.83168932]\n",
      "[37, 58]\n",
      "[39.3633275  92.01480551]\n",
      "[268, 386]\n",
      "[ 4.12511941 10.22682936]\n",
      "[28, 43]\n",
      "[ 4.02503585 11.31809729]\n",
      "[28, 46]\n",
      "[ 4.5377744  11.10045278]\n",
      "[31, 47]\n",
      "[4.41236775 9.75179945]\n",
      "[29, 41]\n",
      "[ 4.09010469 10.72463374]\n",
      "[28, 44]\n",
      "[ 4.17748853 14.00463583]\n",
      "[28, 54]\n",
      "[3.92470243 8.92207722]\n",
      "[27, 39]\n",
      "[ 5.15814588 18.73211851]\n",
      "[35, 70]\n",
      "[ 5.10289892 12.72868142]\n",
      "[35, 53]\n",
      "[4.84134698 9.82512436]\n",
      "[34, 44]\n",
      "[ 5.03603653 13.36699267]\n",
      "[34, 55]\n",
      "[ 4.99285368 10.62885096]\n",
      "[34, 47]\n",
      "[ 4.07352465 10.16970801]\n",
      "[28, 43]\n",
      "[ 4.49554975 10.56946194]\n",
      "[31, 45]\n",
      "[ 5.45973512 14.49401886]\n",
      "[37, 60]\n"
     ]
    }
   ],
   "source": [
    "#For each clus get n_cells samples + concat, \n",
    "all_counts = np.zeros((clus*n_cells,n_genes,2))\n",
    "for c in range(clus):\n",
    "    \n",
    "    for g in range(n_genes):\n",
    "        \n",
    "        b = params[c,g,0]\n",
    "        k = params[c,g,1]\n",
    "        beta = params[c,g,2]\n",
    "        gamma = params[c,g,3]\n",
    "        \n",
    "        samp = [params[c,g,4], params[c,g,5]]\n",
    "\n",
    "        p = np.log10(np.asarray([b,beta/k,gamma/k]))\n",
    "        burst_model = BurstModel('Poisson')\n",
    "\n",
    "        max_mean = b*k*np.asarray([1/beta,1/gamma]) #np.array(samp)*\n",
    "        max_std = np.sqrt(max_mean*(1+ b*np.asarray([1,beta/(beta+gamma)])))\n",
    "        \n",
    "        #max_std = np.sqrt(max_mean*(1+np.array(samp)+(np.array(samp)*b)*np.asarray([1,beta/(beta+gamma)])))\n",
    "        \n",
    "        max_domain = max_mean + 4*max_std\n",
    "        print(max_mean)\n",
    "        max_domain = [int(i) for i in max_domain]\n",
    "        print(max_domain)\n",
    "\n",
    "        Pss = burst_model.get_Pss(p,max_domain,samp)\n",
    "\n",
    "        #Get N and M count samples\n",
    "        sampled = sample_from_p(n_cells, Pss)\n",
    "        all_counts[c*n_cells:(c+1)*n_cells,g,0] = sampled[0]\n",
    "        all_counts[c*n_cells:(c+1)*n_cells,g,1] = sampled[1]\n",
    "\n",
    "\n",
    "\n"
   ]
  },
  {
   "cell_type": "code",
   "execution_count": 213,
   "id": "3f5bb69e",
   "metadata": {},
   "outputs": [],
   "source": [
    "\n",
    "concat_types = np.concatenate((np.mean(all_counts[0:500,:,:],axis=0),np.mean(all_counts[500:1000,:,:],axis=0),\n",
    "          np.mean(all_counts[1000:1500,:,:],axis=0)),axis=1)\n"
   ]
  },
  {
   "cell_type": "code",
   "execution_count": 214,
   "id": "ac7446c8",
   "metadata": {},
   "outputs": [
    {
     "data": {
      "text/plain": [
       "array([69, 79, 99, 75, 80, 95, 45, 23,  0, 15, 48, 46, 84, 65, 17])"
      ]
     },
     "execution_count": 214,
     "metadata": {},
     "output_type": "execute_result"
    }
   ],
   "source": [
    "#Which genes chosen as markers\n",
    "all_choices"
   ]
  },
  {
   "cell_type": "code",
   "execution_count": 215,
   "id": "5497ec01",
   "metadata": {
    "scrolled": true
   },
   "outputs": [
    {
     "data": {
      "text/plain": [
       "[Text(1, 0.5, '65'),\n",
       " Text(1, 1.5, '84'),\n",
       " Text(1, 2.5, '17'),\n",
       " Text(1, 3.5, '46'),\n",
       " Text(1, 4.5, '48'),\n",
       " Text(1, 5.5, '45'),\n",
       " Text(1, 6.5, '23'),\n",
       " Text(1, 7.5, '15'),\n",
       " Text(1, 8.5, '0'),\n",
       " Text(1, 9.5, '95'),\n",
       " Text(1, 10.5, '63'),\n",
       " Text(1, 11.5, '91'),\n",
       " Text(1, 12.5, '51'),\n",
       " Text(1, 13.5, '56'),\n",
       " Text(1, 14.5, '11'),\n",
       " Text(1, 15.5, '3'),\n",
       " Text(1, 16.5, '24'),\n",
       " Text(1, 17.5, '66'),\n",
       " Text(1, 18.5, '1'),\n",
       " Text(1, 19.5, '64'),\n",
       " Text(1, 20.5, '74'),\n",
       " Text(1, 21.5, '59'),\n",
       " Text(1, 22.5, '94'),\n",
       " Text(1, 23.5, '86'),\n",
       " Text(1, 24.5, '58'),\n",
       " Text(1, 25.5, '81'),\n",
       " Text(1, 26.5, '96'),\n",
       " Text(1, 27.5, '98'),\n",
       " Text(1, 28.5, '29'),\n",
       " Text(1, 29.5, '30'),\n",
       " Text(1, 30.5, '38'),\n",
       " Text(1, 31.5, '25'),\n",
       " Text(1, 32.5, '42'),\n",
       " Text(1, 33.5, '87'),\n",
       " Text(1, 34.5, '5'),\n",
       " Text(1, 35.5, '26'),\n",
       " Text(1, 36.5, '52'),\n",
       " Text(1, 37.5, '73'),\n",
       " Text(1, 38.5, '44'),\n",
       " Text(1, 39.5, '47'),\n",
       " Text(1, 40.5, '82'),\n",
       " Text(1, 41.5, '88'),\n",
       " Text(1, 42.5, '14'),\n",
       " Text(1, 43.5, '60'),\n",
       " Text(1, 44.5, '85'),\n",
       " Text(1, 45.5, '16'),\n",
       " Text(1, 46.5, '28'),\n",
       " Text(1, 47.5, '33'),\n",
       " Text(1, 48.5, '18'),\n",
       " Text(1, 49.5, '97'),\n",
       " Text(1, 50.5, '8'),\n",
       " Text(1, 51.5, '89'),\n",
       " Text(1, 52.5, '12'),\n",
       " Text(1, 53.5, '35'),\n",
       " Text(1, 54.5, '68'),\n",
       " Text(1, 55.5, '67'),\n",
       " Text(1, 56.5, '90'),\n",
       " Text(1, 57.5, '39'),\n",
       " Text(1, 58.5, '83'),\n",
       " Text(1, 59.5, '76'),\n",
       " Text(1, 60.5, '10'),\n",
       " Text(1, 61.5, '61'),\n",
       " Text(1, 62.5, '93'),\n",
       " Text(1, 63.5, '2'),\n",
       " Text(1, 64.5, '20'),\n",
       " Text(1, 65.5, '49'),\n",
       " Text(1, 66.5, '54'),\n",
       " Text(1, 67.5, '9'),\n",
       " Text(1, 68.5, '4'),\n",
       " Text(1, 69.5, '36'),\n",
       " Text(1, 70.5, '43'),\n",
       " Text(1, 71.5, '37'),\n",
       " Text(1, 72.5, '41'),\n",
       " Text(1, 73.5, '62'),\n",
       " Text(1, 74.5, '6'),\n",
       " Text(1, 75.5, '31'),\n",
       " Text(1, 76.5, '7'),\n",
       " Text(1, 77.5, '27'),\n",
       " Text(1, 78.5, '55'),\n",
       " Text(1, 79.5, '13'),\n",
       " Text(1, 80.5, '77'),\n",
       " Text(1, 81.5, '40'),\n",
       " Text(1, 82.5, '53'),\n",
       " Text(1, 83.5, '70'),\n",
       " Text(1, 84.5, '50'),\n",
       " Text(1, 85.5, '71'),\n",
       " Text(1, 86.5, '78'),\n",
       " Text(1, 87.5, '19'),\n",
       " Text(1, 88.5, '57'),\n",
       " Text(1, 89.5, '72'),\n",
       " Text(1, 90.5, '32'),\n",
       " Text(1, 91.5, '92'),\n",
       " Text(1, 92.5, '34'),\n",
       " Text(1, 93.5, '21'),\n",
       " Text(1, 94.5, '22'),\n",
       " Text(1, 95.5, '79'),\n",
       " Text(1, 96.5, '75'),\n",
       " Text(1, 97.5, '99'),\n",
       " Text(1, 98.5, '69'),\n",
       " Text(1, 99.5, '80')]"
      ]
     },
     "execution_count": 215,
     "metadata": {},
     "output_type": "execute_result"
    },
    {
     "data": {
      "image/png": "[encoded data removed]",
      "text/plain": [
       "<Figure size 720x720 with 4 Axes>"
      ]
     },
     "metadata": {
      "needs_background": "light"
     },
     "output_type": "display_data"
    }
   ],
   "source": [
    "#How separated are clusters by 'DE genes,', Shows N and M\n",
    "g = sns.clustermap(np.log(concat_types),yticklabels=True)\n",
    "g.ax_heatmap.set_yticklabels(g.ax_heatmap.get_ymajorticklabels(), fontsize = 7)\n"
   ]
  },
  {
   "cell_type": "code",
   "execution_count": 270,
   "id": "e12e06f3",
   "metadata": {},
   "outputs": [
    {
     "data": {
      "text/plain": [
       "Text(0, 0.5, 'Mature counts')"
      ]
     },
     "execution_count": 270,
     "metadata": {},
     "output_type": "execute_result"
    },
    {
     "data": {
      "image/png": "[encoded data removed]",
      "text/plain": [
       "<Figure size 432x288 with 1 Axes>"
      ]
     },
     "metadata": {
      "needs_background": "light"
     },
     "output_type": "display_data"
    }
   ],
   "source": [
    "plt.figure()\n",
    "test = all_counts[0:500,10]\n",
    "sns.kdeplot(x=test[:,0], y=test[:,1], cmap=\"viridis\", shade=True, thresh=0)\n",
    "plt.xlim(np.min(test[:,0])-5,np.max(test[:,0])+1)\n",
    "plt.ylim(np.min(test[:,1])-5,np.max(test[:,1])+1)\n",
    "plt.xlabel('Nascent counts')\n",
    "plt.ylabel('Mature counts')\n"
   ]
  },
  {
   "cell_type": "code",
   "execution_count": 217,
   "id": "8855067a",
   "metadata": {},
   "outputs": [
    {
     "data": {
      "text/plain": [
       "52.0"
      ]
     },
     "execution_count": 217,
     "metadata": {},
     "output_type": "execute_result"
    }
   ],
   "source": [
    "np.max(all_counts[:,10,1])"
   ]
  },
  {
   "cell_type": "code",
   "execution_count": 289,
   "id": "26133f04",
   "metadata": {},
   "outputs": [],
   "source": [
    "# !mkdir ~/counts/mixMod_sims\n",
    "# !mkdir ~/counts/mixMod_sims/loom/"
   ]
  },
  {
   "cell_type": "markdown",
   "id": "8704b939",
   "metadata": {},
   "source": [
    "**Save count matrices for Monod**"
   ]
  },
  {
   "cell_type": "code",
   "execution_count": null,
   "id": "e31c426a",
   "metadata": {},
   "outputs": [],
   "source": []
  },
  {
   "cell_type": "code",
   "execution_count": 218,
   "id": "854b2d38",
   "metadata": {},
   "outputs": [
    {
     "name": "stdout",
     "output_type": "stream",
     "text": [
      "Making Loom\n"
     ]
    },
    {
     "name": "stderr",
     "output_type": "stream",
     "text": [
      "/home/tchari/.local/lib/python3.7/site-packages/ipykernel_launcher.py:19: FutureWarning: X.dtype being converted to np.float32 from float64. In the next version of anndata (0.9) conversion will not be automatic. Pass dtype explicitly to avoid this warning. Pass `AnnData(X, dtype=X.dtype, ...)` to get the future behavour.\n"
     ]
    }
   ],
   "source": [
    "#And save clus labels for cells + barcodes for each cell in metadata + loom\n",
    "out_path = '/home/tchari/counts/mixMod_sims/loom/'\n",
    "U = all_counts[:,:,0]\n",
    "S = all_counts[:,:,1]\n",
    "geneNames = names_sub\n",
    "bars = [str(i) for i in range(n_cells*clus)]\n",
    "\n",
    "fname = out_path+'burst_mark_sim.loom'\n",
    "\n",
    "print('Making Loom')\n",
    "#Make loom of U/S\n",
    "retAdata = anndata.AnnData(\n",
    "\t\t\tX=sparse.csr_matrix(S),\n",
    "\t\t\tlayers={\n",
    "\t\t\t\t'spliced': sparse.csr_matrix(S),\n",
    "\t\t\t\t'unspliced': sparse.csr_matrix(U),\n",
    "\t\t\t},\n",
    "\t\t\tobs=pd.DataFrame({'barcode': np.array(bars)},index=np.array(bars)),\n",
    "\t\t\tvar=pd.DataFrame({'gene_name': geneNames},index=geneNames)\n",
    "\t\t)\n",
    "\n",
    "retAdata.write_loom(fname)\n"
   ]
  },
  {
   "cell_type": "code",
   "execution_count": 219,
   "id": "66efdf5e",
   "metadata": {},
   "outputs": [
    {
     "name": "stdout",
     "output_type": "stream",
     "text": [
      "Making Loom\n"
     ]
    },
    {
     "name": "stderr",
     "output_type": "stream",
     "text": [
      "/home/tchari/.local/lib/python3.7/site-packages/ipykernel_launcher.py:19: FutureWarning: X.dtype being converted to np.float32 from float64. In the next version of anndata (0.9) conversion will not be automatic. Pass dtype explicitly to avoid this warning. Pass `AnnData(X, dtype=X.dtype, ...)` to get the future behavour.\n"
     ]
    }
   ],
   "source": [
    "#Make loom with just one cluster, for comparing to Monod fits\n",
    "out_path = '/home/tchari/counts/mixMod_sims/loom/'\n",
    "U = all_counts[0:n_cells,:,0]\n",
    "S = all_counts[0:n_cells,:,1]\n",
    "geneNames = names_sub\n",
    "bs = [str(i) for i in range(n_cells)]\n",
    "\n",
    "fname = out_path+'oneClus_burst_mark_sim.loom'\n",
    "\n",
    "print('Making Loom')\n",
    "#Make loom of U/S\n",
    "retAdata = anndata.AnnData(\n",
    "\t\t\tX=sparse.csr_matrix(S),\n",
    "\t\t\tlayers={\n",
    "\t\t\t\t'spliced': sparse.csr_matrix(S),\n",
    "\t\t\t\t'unspliced': sparse.csr_matrix(U),\n",
    "\t\t\t},\n",
    "\t\t\tobs=pd.DataFrame({'barcode': np.array(bs)},index=np.array(bs)),\n",
    "\t\t\tvar=pd.DataFrame({'gene_name': geneNames},index=geneNames)\n",
    "\t\t)\n",
    "\n",
    "retAdata.write_loom(fname)"
   ]
  },
  {
   "cell_type": "code",
   "execution_count": 220,
   "id": "69496811",
   "metadata": {},
   "outputs": [],
   "source": [
    "#Check loom ok\n",
    "import loompy as lp\n",
    "ds = lp.connect('/home/tchari/counts/mixMod_sims/loom/burst_mark_sim.loom')"
   ]
  },
  {
   "cell_type": "code",
   "execution_count": 221,
   "id": "a25a05d6",
   "metadata": {},
   "outputs": [
    {
     "data": {
      "text/html": [
       "<p>100 rows, 1500 columns, 3 layers<br/>(showing up to 10x10)<br/>/home/tchari/counts/mixMod_sims/loom/burst_mark_sim.loom<br/>name: <em>20230331T205916.633971Z</em><br/>name: <em>3.0.0</em><br/><table><tr><td>&nbsp;</td><td>&nbsp;</td><td><strong>barcode</strong></td><td>0</td><td>1</td><td>2</td><td>3</td><td>4</td><td>5</td><td>6</td><td>7</td><td>8</td><td>9</td><td>...</td></tr><tr><td>&nbsp;</td><td>&nbsp;</td><td><strong>obs_names</strong></td><td>0</td><td>1</td><td>2</td><td>3</td><td>4</td><td>5</td><td>6</td><td>7</td><td>8</td><td>9</td><td>...</td></tr><tr><td><strong>gene_name</strong></td><td><strong>var_names</strong></td><td>&nbsp;</td><td>&nbsp;</td><td>&nbsp;</td><td>&nbsp;</td><td>&nbsp;</td><td>&nbsp;</td><td>&nbsp;</td><td>&nbsp;</td><td>&nbsp;</td><td>&nbsp;</td><td>&nbsp;</td><td>...</td></tr><tr><td>AC099563.1</td><td>AC099563.1</td><td>&nbsp;</td><td>13.0</td><td>10.0</td><td>22.0</td><td>6.0</td><td>10.0</td><td>13.0</td><td>29.0</td><td>4.0</td><td>5.0</td><td>7.0</td><td>...</td></tr><tr><td>AL512622.1</td><td>AL512622.1</td><td>&nbsp;</td><td>1.0</td><td>11.0</td><td>24.0</td><td>12.0</td><td>0.0</td><td>0.0</td><td>13.0</td><td>2.0</td><td>10.0</td><td>11.0</td><td>...</td></tr><tr><td>PTGS2</td><td>PTGS2</td><td>&nbsp;</td><td>2.0</td><td>13.0</td><td>4.0</td><td>4.0</td><td>20.0</td><td>20.0</td><td>12.0</td><td>42.0</td><td>10.0</td><td>28.0</td><td>...</td></tr><tr><td>USP17L11</td><td>USP17L11</td><td>&nbsp;</td><td>6.0</td><td>3.0</td><td>20.0</td><td>9.0</td><td>0.0</td><td>8.0</td><td>5.0</td><td>4.0</td><td>5.0</td><td>13.0</td><td>...</td></tr><tr><td>B4GALNT2</td><td>B4GALNT2</td><td>&nbsp;</td><td>3.0</td><td>0.0</td><td>26.0</td><td>6.0</td><td>10.0</td><td>7.0</td><td>8.0</td><td>10.0</td><td>0.0</td><td>5.0</td><td>...</td></tr><tr><td>RBMS1P1</td><td>RBMS1P1</td><td>&nbsp;</td><td>31.0</td><td>18.0</td><td>18.0</td><td>16.0</td><td>5.0</td><td>0.0</td><td>11.0</td><td>7.0</td><td>6.0</td><td>17.0</td><td>...</td></tr><tr><td>KIR2DL4</td><td>KIR2DL4</td><td>&nbsp;</td><td>14.0</td><td>12.0</td><td>22.0</td><td>3.0</td><td>0.0</td><td>24.0</td><td>5.0</td><td>51.0</td><td>55.0</td><td>7.0</td><td>...</td></tr><tr><td>LINC01908</td><td>LINC01908</td><td>&nbsp;</td><td>9.0</td><td>8.0</td><td>2.0</td><td>7.0</td><td>11.0</td><td>31.0</td><td>40.0</td><td>13.0</td><td>18.0</td><td>9.0</td><td>...</td></tr><tr><td>APLNR</td><td>APLNR</td><td>&nbsp;</td><td>35.0</td><td>19.0</td><td>8.0</td><td>1.0</td><td>12.0</td><td>5.0</td><td>14.0</td><td>16.0</td><td>3.0</td><td>8.0</td><td>...</td></tr><tr><td>OR8K1</td><td>OR8K1</td><td>&nbsp;</td><td>3.0</td><td>14.0</td><td>11.0</td><td>18.0</td><td>9.0</td><td>14.0</td><td>0.0</td><td>9.0</td><td>9.0</td><td>14.0</td><td>...</td></tr><tr><td>...</td><td>...</td><td>...</td><td>...</td><td>...</td><td>...</td><td>...</td><td>...</td><td>...</td><td>...</td><td>...</td><td>...</td><td>...</td><td>...</td></tr></table>"
      ],
      "text/plain": [
       "<loompy.loompy.LoomConnection at 0x7f6352cb2ad0>"
      ]
     },
     "execution_count": 221,
     "metadata": {},
     "output_type": "execute_result"
    }
   ],
   "source": [
    "ds"
   ]
  },
  {
   "cell_type": "code",
   "execution_count": 222,
   "id": "37cc32fe",
   "metadata": {},
   "outputs": [],
   "source": [
    "ds.close()"
   ]
  },
  {
   "cell_type": "code",
   "execution_count": 223,
   "id": "95eca2ff",
   "metadata": {},
   "outputs": [
    {
     "data": {
      "text/plain": [
       "(3, 100, 6)"
      ]
     },
     "execution_count": 223,
     "metadata": {},
     "output_type": "execute_result"
    }
   ],
   "source": [
    "#All params from sim, for comparison to fits (for each gene)\n",
    "params.shape"
   ]
  },
  {
   "cell_type": "code",
   "execution_count": null,
   "id": "af36ba2d",
   "metadata": {},
   "outputs": [],
   "source": []
  },
  {
   "cell_type": "code",
   "execution_count": null,
   "id": "1464db22",
   "metadata": {},
   "outputs": [],
   "source": []
  },
  {
   "cell_type": "code",
   "execution_count": null,
   "id": "c452ed99",
   "metadata": {},
   "outputs": [],
   "source": []
  },
  {
   "cell_type": "markdown",
   "id": "d4a44de1",
   "metadata": {},
   "source": [
    "## **Run Inference**"
   ]
  },
  {
   "cell_type": "code",
   "execution_count": 266,
   "id": "2af81a3b",
   "metadata": {},
   "outputs": [],
   "source": [
    "#Save cell cluster assigns and marker genes\n",
    "true_clus = []\n",
    "true_marks = []\n",
    "for i in range(clus):\n",
    "    true_clus += [list(np.array(bars)[i*n_cells:(i+1)*n_cells])]\n",
    "    true_marks += [list(all_choices[i*num_marks:(i+1)*num_marks])]\n",
    "    \n"
   ]
  },
  {
   "cell_type": "code",
   "execution_count": 267,
   "id": "d3cbd02d",
   "metadata": {},
   "outputs": [
    {
     "data": {
      "text/html": [
       "<div>\n",
       "<style scoped>\n",
       "    .dataframe tbody tr th:only-of-type {\n",
       "        vertical-align: middle;\n",
       "    }\n",
       "\n",
       "    .dataframe tbody tr th {\n",
       "        vertical-align: top;\n",
       "    }\n",
       "\n",
       "    .dataframe thead th {\n",
       "        text-align: right;\n",
       "    }\n",
       "</style>\n",
       "<table border=\"1\" class=\"dataframe\">\n",
       "  <thead>\n",
       "    <tr style=\"text-align: right;\">\n",
       "      <th></th>\n",
       "      <th>clus</th>\n",
       "      <th>cells</th>\n",
       "      <th>marks</th>\n",
       "    </tr>\n",
       "  </thead>\n",
       "  <tbody>\n",
       "    <tr>\n",
       "      <th>0</th>\n",
       "      <td>0</td>\n",
       "      <td>[0, 1, 2, 3, 4, 5, 6, 7, 8, 9, 10, 11, 12, 13,...</td>\n",
       "      <td>[69, 79, 99, 75, 80]</td>\n",
       "    </tr>\n",
       "    <tr>\n",
       "      <th>1</th>\n",
       "      <td>1</td>\n",
       "      <td>[500, 501, 502, 503, 504, 505, 506, 507, 508, ...</td>\n",
       "      <td>[95, 45, 23, 0, 15]</td>\n",
       "    </tr>\n",
       "    <tr>\n",
       "      <th>2</th>\n",
       "      <td>2</td>\n",
       "      <td>[1000, 1001, 1002, 1003, 1004, 1005, 1006, 100...</td>\n",
       "      <td>[48, 46, 84, 65, 17]</td>\n",
       "    </tr>\n",
       "  </tbody>\n",
       "</table>\n",
       "</div>"
      ],
      "text/plain": [
       "   clus                                              cells  \\\n",
       "0     0  [0, 1, 2, 3, 4, 5, 6, 7, 8, 9, 10, 11, 12, 13,...   \n",
       "1     1  [500, 501, 502, 503, 504, 505, 506, 507, 508, ...   \n",
       "2     2  [1000, 1001, 1002, 1003, 1004, 1005, 1006, 100...   \n",
       "\n",
       "                  marks  \n",
       "0  [69, 79, 99, 75, 80]  \n",
       "1   [95, 45, 23, 0, 15]  \n",
       "2  [48, 46, 84, 65, 17]  "
      ]
     },
     "execution_count": 267,
     "metadata": {},
     "output_type": "execute_result"
    }
   ],
   "source": [
    "true = pd.DataFrame()\n",
    "true['clus'] = range(clus)\n",
    "true['cells'] = true_clus\n",
    "true['marks'] = true_marks\n",
    "true.head()"
   ]
  },
  {
   "cell_type": "code",
   "execution_count": 226,
   "id": "ac75b566",
   "metadata": {},
   "outputs": [
    {
     "name": "stdout",
     "output_type": "stream",
     "text": [
      "dataset_meta:  ['burst_mark_sim', 'oneClus_burst_mark_sim']\n",
      "\n",
      "dataset_names:  ['burst_mark_sim', 'oneClus_burst_mark_sim']\n",
      "len(dataset_names):  2\n",
      "\n",
      "loom_filepaths:  ['/home/tchari/counts/mixMod_sims/loom/burst_mark_sim.loom', '/home/tchari/counts/mixMod_sims/loom/oneClus_burst_mark_sim.loom']\n"
     ]
    }
   ],
   "source": [
    "dataset_meta = ['burst_mark_sim','oneClus_burst_mark_sim']\n",
    "print('dataset_meta: ', dataset_meta)\n",
    "print()\n",
    "\n",
    "\n",
    "\n",
    "cluster_names = []\n",
    "dataset_names = ['burst_mark_sim','oneClus_burst_mark_sim']   #To save\n",
    "print('dataset_names: ', dataset_names)\n",
    "print('len(dataset_names): ',len(dataset_names))\n",
    "print()\n",
    "\n",
    "raw_data_locations = ['burst_mark_sim','oneClus_burst_mark_sim']\n",
    "transcriptome_filepath = '/home/tchari/perturbCME/notebooks/gg_200525_genome_polyA_cum_3'\n",
    "\n",
    "spliced_layer = 'spliced'\n",
    "unspliced_layer = 'unspliced'\n",
    "gene_attr = 'gene_name'\n",
    "cell_attr = 'barcode'\n",
    "\n",
    "attribute_names=[(unspliced_layer,spliced_layer),gene_attr,cell_attr]\n",
    "\n",
    "loom_filepaths = ['/home/tchari/counts/mixMod_sims/loom/'+x+'.loom' for x in raw_data_locations] \n",
    "print('loom_filepaths: ',loom_filepaths)\n",
    "\n",
    "n_datasets = len(loom_filepaths)"
   ]
  },
  {
   "cell_type": "code",
   "execution_count": 227,
   "id": "3dc38f97",
   "metadata": {},
   "outputs": [
    {
     "name": "stdout",
     "output_type": "stream",
     "text": [
      "Dataset burst_mark_sim. \n",
      "\t1500 barcodes in loom, 1500 pass filter. 1500 in annotations; of these, 1500 in loom and 1500 in filtered loom.\n",
      "\tAll: 1500 cells in annotations. 1500 in loom. 1500 pass filter.\n",
      "Dataset oneClus_burst_mark_sim. \n",
      "\t500 barcodes in loom, 500 pass filter. 500 in annotations; of these, 500 in loom and 500 in filtered loom.\n",
      "\tAll: 500 cells in annotations. 500 in loom. 500 pass filter.\n",
      "mkdir: cannot create directory ‘./figs’: File exists\r\n"
     ]
    },
    {
     "data": {
      "image/png": "[encoded data removed]",
      "text/plain": [
       "<Figure size 1080x360 with 4 Axes>"
      ]
     },
     "metadata": {
      "needs_background": "light"
     },
     "output_type": "display_data"
    }
   ],
   "source": [
    "#Not filtering cells for now\n",
    "cf = []\n",
    "thr_lb = [1e3]*len(dataset_meta)*2\n",
    "\n",
    "fig1,ax1 = plt.subplots(1,len(dataset_meta)*2,figsize=(15,5))\n",
    "\n",
    "for k in range(len(dataset_meta)):\n",
    "    filename = loom_filepaths[k]\n",
    "    dataset_name = raw_data_locations[k]\n",
    "    \n",
    "    with lp.connect(filename,mode='r') as ds:\n",
    "        S = ds.layers[spliced_layer][:]\n",
    "        U = ds.layers[unspliced_layer][:]\n",
    "        gene_names = ds.ra[gene_attr]\n",
    "        bcs = ds.ca[cell_attr]\n",
    "        cells = S.shape[1]\n",
    "        monod.preprocess.knee_plot(S+U,ax1[k],viz=True,thr=thr_lb[k])\n",
    "        cf_ = ((S+U).sum(0)>thr_lb[k])\n",
    "        \n",
    "        n_annot_bcs = len(bcs)\n",
    "        annot_bcs_in_loom = len(bcs)\n",
    "        annot_bcs_in_filt_loom = cf_.sum()\n",
    "        print(f'Dataset {dataset_name}. \\n\\t{len(bcs)} barcodes in loom, {cf_.sum()} pass filter. {n_annot_bcs} in annotations; of these, {annot_bcs_in_loom} in loom and {annot_bcs_in_filt_loom} in filtered loom.')\n",
    "        \n",
    "        #if k==0:\n",
    "        #for subcluster in subcluster_names:\n",
    "        subcluster = 'All'\n",
    "        annot_bcs = bcs\n",
    "        #cf.append(np.isin(bcs,annot_bcs) & cf_)\n",
    "        cf.append(np.isin(bcs,annot_bcs))\n",
    "        print(f'\\t{subcluster}: {len(annot_bcs)} cells in annotations. {np.isin(bcs,annot_bcs).sum()} in loom. {cf[-1].sum()} pass filter.')\n",
    "\n",
    "\n",
    "\n",
    "    ax1[k].set_title(dataset_name)\n",
    "    \n",
    "!mkdir ./figs    \n",
    "fig_dir = './figs/'\n",
    "fig_string = fig_dir + 'kneeplots_burst_mark_sim_forMM.png'\n",
    "fig1.tight_layout()\n",
    "plt.savefig(fig_string,dpi=450)"
   ]
  },
  {
   "cell_type": "code",
   "execution_count": 228,
   "id": "e076408a",
   "metadata": {},
   "outputs": [],
   "source": [
    "import logging, sys\n",
    "logging.basicConfig(stream=sys.stdout)\n",
    "log = logging.getLogger()\n",
    "log.setLevel(logging.INFO)"
   ]
  },
  {
   "cell_type": "code",
   "execution_count": 229,
   "id": "71c748fb",
   "metadata": {},
   "outputs": [],
   "source": [
    "#Define bounds, from 20220930_normanfit_monod.ipynb\n",
    "phys_lb = [-2.0, -1.8, -1.8 ] #-1.0, -1.8, -1.8\n",
    "phys_ub = [4.2, 2.5, 2.5] #4.2, 2.5, 3.5\n",
    "samp_lb = [-7.157894736842105, -1.525] #-7.5, -2\n",
    "samp_ub = [-7.157894736842105, -1.525] #-5.5, 0\n",
    "# gridsize = [5,6]\n",
    "gridsize = [1,1]\n"
   ]
  },
  {
   "cell_type": "code",
   "execution_count": 230,
   "id": "54f7f4a1",
   "metadata": {},
   "outputs": [
    {
     "data": {
      "text/plain": [
       "(array([72., 23.,  0.,  0.,  0.,  0.,  1.,  0.,  3.,  1.]),\n",
       " array([0.90308999, 1.03137619, 1.15966239, 1.28794859, 1.41623479,\n",
       "        1.54452099, 1.67280719, 1.80109339, 1.92937959, 2.05766579,\n",
       "        2.18595199]),\n",
       " <BarContainer object of 10 artists>)"
      ]
     },
     "execution_count": 230,
     "metadata": {},
     "output_type": "execute_result"
    },
    {
     "data": {
      "image/png": "[encoded data removed]",
      "text/plain": [
       "<Figure size 432x288 with 1 Axes>"
      ]
     },
     "metadata": {
      "needs_background": "light"
     },
     "output_type": "display_data"
    }
   ],
   "source": [
    "plt.hist(np.log10(params[0,:,0]))"
   ]
  },
  {
   "cell_type": "code",
   "execution_count": 231,
   "id": "0552b9ac",
   "metadata": {},
   "outputs": [],
   "source": [
    "k=3\n",
    "epochs=10"
   ]
  },
  {
   "cell_type": "code",
   "execution_count": 232,
   "id": "4e99d8e8",
   "metadata": {},
   "outputs": [
    {
     "name": "stdout",
     "output_type": "stream",
     "text": [
      "INFO:root:Beginning data preprocessing and filtering.\n",
      "INFO:root:Directory ./fits/gg_230331_025_burst_mark_sim_MM_k3_1 created.\n",
      "INFO:root:Dataset: burst_mark_sim\n",
      "INFO:root:1500 cells detected.\n",
      "INFO:root:100 features observed, 100 match genome annotations. 100 were unique.\n",
      "INFO:root:89 genes retained after expression filter.\n",
      "INFO:root:Directory ./fits/gg_230331_025_burst_mark_sim_MM_k3_1/burst_mark_sim created.\n",
      "INFO:root:Dataset: oneClus_burst_mark_sim\n",
      "INFO:root:500 cells detected.\n",
      "INFO:root:100 features observed, 100 match genome annotations. 100 were unique.\n",
      "INFO:root:96 genes retained after expression filter.\n",
      "INFO:root:Directory ./fits/gg_230331_025_burst_mark_sim_MM_k3_1/oneClus_burst_mark_sim created.\n",
      "INFO:root:Total of 100 genes selected.\n",
      "WARNING:root:Selecting 100 genes required 0.0% dataset threshold.\n",
      "INFO:root:Directory ./fits/gg_230331_025_burst_mark_sim_MM_k3_1/diagnostic_figures created.\n"
     ]
    },
    {
     "data": {
      "image/png": "[encoded data removed]",
      "text/plain": [
       "<Figure size 864x288 with 2 Axes>"
      ]
     },
     "metadata": {
      "needs_background": "light"
     },
     "output_type": "display_data"
    },
    {
     "data": {
      "image/png": "[encoded data removed]",
      "text/plain": [
       "<Figure size 864x288 with 2 Axes>"
      ]
     },
     "metadata": {
      "needs_background": "light"
     },
     "output_type": "display_data"
    }
   ],
   "source": [
    "dir_string,dataset_strings = monod.preprocess.construct_batch(loom_filepaths, \\\n",
    "                                             transcriptome_filepath, \\\n",
    "                                             dataset_names, \\\n",
    "                                             attribute_names=attribute_names,\\\n",
    "                                             batch_location='./fits',meta='burst_mark_sim_MM_k3',batch_id=1,\\\n",
    "                                             n_genes=100,exp_filter_threshold=None,cf=cf)"
   ]
  },
  {
   "cell_type": "markdown",
   "id": "e2db4e3c",
   "metadata": {},
   "source": [
    "**Control test with standard Monod fit on first, known cluster of cells**"
   ]
  },
  {
   "cell_type": "code",
   "execution_count": 233,
   "id": "4004c033",
   "metadata": {},
   "outputs": [
    {
     "name": "stdout",
     "output_type": "stream",
     "text": [
      "INFO:root:Directory ./fits/gg_230331_025_burst_mark_sim_MM_k3_1/oneClus_burst_mark_sim/Bursty_Poisson_1x1 created.\n",
      "INFO:root:Global inference parameters stored to ./fits/gg_230331_025_burst_mark_sim_MM_k3_1/oneClus_burst_mark_sim/Bursty_Poisson_1x1/parameters.pr.\n",
      "INFO:root:Beginning data extraction.\n",
      "INFO:root:Dataset: oneClus_burst_mark_sim\n",
      "INFO:root:100 features observed, 100 match genome annotations. 100 were unique.\n",
      "INFO:root:Gene list extracted from ./fits/gg_230331_025_burst_mark_sim_MM_k3_1/genes.csv.\n",
      "INFO:root:Directory ./fits/gg_230331_025_burst_mark_sim_MM_k3_1/oneClus_burst_mark_sim/diagnostic_figures created.\n",
      "INFO:root:Search data stored to ./fits/gg_230331_025_burst_mark_sim_MM_k3_1/oneClus_burst_mark_sim/raw.sd.\n",
      "INFO:root:Starting parallelized grid scan.\n"
     ]
    },
    {
     "name": "stderr",
     "output_type": "stream",
     "text": [
      "100%|██████████████████████████████████████████████████████████████████████████████████████████████████| 1/1 [03:40<00:00, 220.16s/it]"
     ]
    },
    {
     "name": "stdout",
     "output_type": "stream",
     "text": [
      "INFO:root:Parallelized grid scan complete.\n",
      "INFO:root:All grid point data cleaned from disk.\n",
      "INFO:root:Directory ./fits/gg_230331_025_burst_mark_sim_MM_k3_1/oneClus_burst_mark_sim/Bursty_Poisson_1x1/analysis_figures created.\n",
      "INFO:root:Runtime: 220.5 seconds.\n"
     ]
    },
    {
     "name": "stderr",
     "output_type": "stream",
     "text": [
      "\n"
     ]
    },
    {
     "data": {
      "image/png": "[encoded data removed]",
      "text/plain": [
       "<Figure size 864x288 with 2 Axes>"
      ]
     },
     "metadata": {
      "needs_background": "light"
     },
     "output_type": "display_data"
    }
   ],
   "source": [
    "#Control test with standard Monod fit on first, known cluster of cells\n",
    "result_strings = []\n",
    "for i in range(1,2): #n_datasets\n",
    "    \n",
    "    fitmodel = monod.cme_toolbox.CMEModel('Bursty','Poisson')\n",
    "    \n",
    "    inference_parameters = monod.inference.InferenceParameters(phys_lb,phys_ub,samp_lb,samp_ub,gridsize,\\\n",
    "                dataset_strings[i],fitmodel,use_lengths = True,\n",
    "                gradient_params = {'max_iterations':20,'init_pattern':'moments','num_restarts':1})\n",
    "    \n",
    "    search_data = monod.extract_data.extract_data(loom_filepaths[i], transcriptome_filepath, dataset_names[i],\n",
    "                dataset_strings[i], dir_string, dataset_attr_names=attribute_names,cf=cf[i])\n",
    "    \n",
    "    full_result_string = inference_parameters.fit_all_grid_points(30,search_data)\n",
    "\n",
    "    result_strings.append(full_result_string)"
   ]
  },
  {
   "cell_type": "code",
   "execution_count": 234,
   "id": "2aff7ce9",
   "metadata": {},
   "outputs": [
    {
     "name": "stdout",
     "output_type": "stream",
     "text": [
      "INFO:root:Grid scan results loaded from ./fits/gg_230331_025_burst_mark_sim_MM_k3_1/oneClus_burst_mark_sim/Bursty_Poisson_1x1/grid_scan_results.res.\n"
     ]
    }
   ],
   "source": [
    "sr = monod.analysis.load_search_results(result_strings[0])"
   ]
  },
  {
   "cell_type": "markdown",
   "id": "3c3ce511",
   "metadata": {},
   "source": [
    "**Run Mixture Model on all cells**"
   ]
  },
  {
   "cell_type": "code",
   "execution_count": 235,
   "id": "82cb5956",
   "metadata": {},
   "outputs": [
    {
     "name": "stdout",
     "output_type": "stream",
     "text": [
      "INFO:root:Directory ./fits/gg_230331_025_burst_mark_sim_MM_k3_1/burst_mark_sim/Bursty_Poisson_1x1 created.\n",
      "INFO:root:Global inference parameters stored to ./fits/gg_230331_025_burst_mark_sim_MM_k3_1/burst_mark_sim/Bursty_Poisson_1x1/parameters.pr.\n",
      "INFO:root:Beginning data extraction.\n",
      "INFO:root:Dataset: burst_mark_sim\n",
      "INFO:root:100 features observed, 100 match genome annotations. 100 were unique.\n",
      "INFO:root:Gene list extracted from ./fits/gg_230331_025_burst_mark_sim_MM_k3_1/genes.csv.\n",
      "INFO:root:Directory ./fits/gg_230331_025_burst_mark_sim_MM_k3_1/burst_mark_sim/diagnostic_figures created.\n",
      "INFO:root:Search data stored to ./fits/gg_230331_025_burst_mark_sim_MM_k3_1/burst_mark_sim/raw.sd.\n",
      "INFO:root:Starting non-parallelized grid scan.\n",
      "INFO:root:M Step Initial Run: \n",
      "INFO:root:Starting parallelized MLE param fits for EM.\n"
     ]
    },
    {
     "name": "stderr",
     "output_type": "stream",
     "text": [
      "100%|██████████████████████████████████████████████████████████████████████████████████████████████████| 3/3 [08:54<00:00, 178.05s/it]"
     ]
    },
    {
     "name": "stdout",
     "output_type": "stream",
     "text": [
      "INFO:root:Parallelized MLE fits complete.\n",
      "INFO:root:EM Epoch 1/10: \n"
     ]
    },
    {
     "name": "stderr",
     "output_type": "stream",
     "text": [
      "\n"
     ]
    },
    {
     "name": "stdout",
     "output_type": "stream",
     "text": [
      "INFO:root:Starting parallelized MLE param fits for EM.\n"
     ]
    },
    {
     "name": "stderr",
     "output_type": "stream",
     "text": [
      "100%|██████████████████████████████████████████████████████████████████████████████████████████████████| 3/3 [09:17<00:00, 185.72s/it]"
     ]
    },
    {
     "name": "stdout",
     "output_type": "stream",
     "text": [
      "INFO:root:Parallelized MLE fits complete.\n",
      "mstep self.weights:  [0.33943611 0.24081524 0.41974866]\n",
      "logL:  -734.1213206341732\n",
      "\n",
      "INFO:root:EM Epoch 2/10: \n"
     ]
    },
    {
     "name": "stderr",
     "output_type": "stream",
     "text": [
      "\n"
     ]
    },
    {
     "name": "stdout",
     "output_type": "stream",
     "text": [
      "INFO:root:Starting parallelized MLE param fits for EM.\n"
     ]
    },
    {
     "name": "stderr",
     "output_type": "stream",
     "text": [
      "100%|██████████████████████████████████████████████████████████████████████████████████████████████████| 3/3 [07:05<00:00, 141.78s/it]"
     ]
    },
    {
     "name": "stdout",
     "output_type": "stream",
     "text": [
      "INFO:root:Parallelized MLE fits complete.\n",
      "mstep self.weights:  [0.26821123 0.41087726 0.32091151]\n",
      "logL:  -731.5603965182426\n",
      "\n",
      "INFO:root:EM Epoch 3/10: \n"
     ]
    },
    {
     "name": "stderr",
     "output_type": "stream",
     "text": [
      "\n"
     ]
    },
    {
     "name": "stdout",
     "output_type": "stream",
     "text": [
      "INFO:root:Starting parallelized MLE param fits for EM.\n"
     ]
    },
    {
     "name": "stderr",
     "output_type": "stream",
     "text": [
      "100%|██████████████████████████████████████████████████████████████████████████████████████████████████| 3/3 [07:10<00:00, 143.52s/it]"
     ]
    },
    {
     "name": "stdout",
     "output_type": "stream",
     "text": [
      "INFO:root:Parallelized MLE fits complete.\n",
      "mstep self.weights:  [0.36434571 0.21212356 0.42353073]\n",
      "logL:  -728.8793084687364\n",
      "\n",
      "INFO:root:EM Epoch 4/10: \n"
     ]
    },
    {
     "name": "stderr",
     "output_type": "stream",
     "text": [
      "\n"
     ]
    },
    {
     "name": "stdout",
     "output_type": "stream",
     "text": [
      "INFO:root:Starting parallelized MLE param fits for EM.\n"
     ]
    },
    {
     "name": "stderr",
     "output_type": "stream",
     "text": [
      "100%|██████████████████████████████████████████████████████████████████████████████████████████████████| 3/3 [07:03<00:00, 141.32s/it]"
     ]
    },
    {
     "name": "stdout",
     "output_type": "stream",
     "text": [
      "INFO:root:Parallelized MLE fits complete.\n",
      "mstep self.weights:  [0.38232318 0.14249594 0.47518088]\n",
      "logL:  -727.255108584087\n",
      "\n",
      "INFO:root:EM Epoch 5/10: \n"
     ]
    },
    {
     "name": "stderr",
     "output_type": "stream",
     "text": [
      "\n"
     ]
    },
    {
     "name": "stdout",
     "output_type": "stream",
     "text": [
      "INFO:root:Starting parallelized MLE param fits for EM.\n"
     ]
    },
    {
     "name": "stderr",
     "output_type": "stream",
     "text": [
      "100%|██████████████████████████████████████████████████████████████████████████████████████████████████| 3/3 [07:26<00:00, 148.84s/it]"
     ]
    },
    {
     "name": "stdout",
     "output_type": "stream",
     "text": [
      "INFO:root:Parallelized MLE fits complete.\n",
      "mstep self.weights:  [0.38349375 0.27773277 0.33877348]\n",
      "logL:  -726.282070901346\n",
      "\n",
      "INFO:root:EM Epoch 6/10: \n"
     ]
    },
    {
     "name": "stderr",
     "output_type": "stream",
     "text": [
      "\n"
     ]
    },
    {
     "name": "stdout",
     "output_type": "stream",
     "text": [
      "INFO:root:Starting parallelized MLE param fits for EM.\n"
     ]
    },
    {
     "name": "stderr",
     "output_type": "stream",
     "text": [
      "100%|███████████████████████████████████████████████████████████████████████████████████████████████████| 3/3 [04:57<00:00, 99.02s/it]"
     ]
    },
    {
     "name": "stdout",
     "output_type": "stream",
     "text": [
      "INFO:root:Parallelized MLE fits complete.\n",
      "mstep self.weights:  [0.58768588 0.30358445 0.10872967]\n",
      "logL:  -734.8443694987276\n",
      "\n",
      "INFO:root:EM Epoch 7/10: \n"
     ]
    },
    {
     "name": "stderr",
     "output_type": "stream",
     "text": [
      "\n"
     ]
    },
    {
     "name": "stdout",
     "output_type": "stream",
     "text": [
      "INFO:root:Starting parallelized MLE param fits for EM.\n"
     ]
    },
    {
     "name": "stderr",
     "output_type": "stream",
     "text": [
      "100%|██████████████████████████████████████████████████████████████████████████████████████████████████| 3/3 [05:57<00:00, 119.06s/it]"
     ]
    },
    {
     "name": "stdout",
     "output_type": "stream",
     "text": [
      "INFO:root:Parallelized MLE fits complete.\n",
      "mstep self.weights:  [0.52506565 0.35905556 0.11587879]\n",
      "logL:  -728.2957389142787\n",
      "\n",
      "INFO:root:EM Epoch 8/10: \n"
     ]
    },
    {
     "name": "stderr",
     "output_type": "stream",
     "text": [
      "\n"
     ]
    },
    {
     "name": "stdout",
     "output_type": "stream",
     "text": [
      "INFO:root:Starting parallelized MLE param fits for EM.\n"
     ]
    },
    {
     "name": "stderr",
     "output_type": "stream",
     "text": [
      "100%|██████████████████████████████████████████████████████████████████████████████████████████████████| 3/3 [07:20<00:00, 146.89s/it]"
     ]
    },
    {
     "name": "stdout",
     "output_type": "stream",
     "text": [
      "INFO:root:Parallelized MLE fits complete.\n",
      "mstep self.weights:  [0.4153024  0.31938471 0.2653129 ]\n",
      "logL:  -724.409905970844\n",
      "\n",
      "INFO:root:EM Epoch 9/10: \n"
     ]
    },
    {
     "name": "stderr",
     "output_type": "stream",
     "text": [
      "\n"
     ]
    },
    {
     "name": "stdout",
     "output_type": "stream",
     "text": [
      "INFO:root:Starting parallelized MLE param fits for EM.\n"
     ]
    },
    {
     "name": "stderr",
     "output_type": "stream",
     "text": [
      "100%|██████████████████████████████████████████████████████████████████████████████████████████████████| 3/3 [06:16<00:00, 125.65s/it]"
     ]
    },
    {
     "name": "stdout",
     "output_type": "stream",
     "text": [
      "INFO:root:Parallelized MLE fits complete.\n",
      "mstep self.weights:  [0.3581533  0.3360731  0.30577359]\n",
      "logL:  -720.4694114875151\n",
      "\n",
      "INFO:root:EM Epoch 10/10: \n"
     ]
    },
    {
     "name": "stderr",
     "output_type": "stream",
     "text": [
      "\n"
     ]
    },
    {
     "name": "stdout",
     "output_type": "stream",
     "text": [
      "INFO:root:Starting parallelized MLE param fits for EM.\n"
     ]
    },
    {
     "name": "stderr",
     "output_type": "stream",
     "text": [
      "100%|███████████████████████████████████████████████████████████████████████████████████████████████████| 3/3 [04:52<00:00, 97.60s/it]"
     ]
    },
    {
     "name": "stdout",
     "output_type": "stream",
     "text": [
      "INFO:root:Parallelized MLE fits complete.\n",
      "mstep self.weights:  [0.35757176 0.30886096 0.33356728]\n",
      "logL:  -733.9190789872439\n",
      "\n",
      "INFO:root:Non-parallelized grid scan complete.\n"
     ]
    },
    {
     "name": "stderr",
     "output_type": "stream",
     "text": [
      "\n"
     ]
    },
    {
     "data": {
      "image/png": "[encoded data removed]",
      "text/plain": [
       "<Figure size 864x288 with 2 Axes>"
      ]
     },
     "metadata": {
      "needs_background": "light"
     },
     "output_type": "display_data"
    }
   ],
   "source": [
    "\n",
    "result_strings = []\n",
    "for i in range(0,1): #n_datasets, running data with all clusters\n",
    "    \n",
    "    fitmodel = monod.cme_toolbox.CMEModel('Bursty','Poisson')\n",
    "    \n",
    "    inference_parameters = monod.mminference.InferenceParameters(phys_lb,phys_ub,samp_lb,samp_ub,gridsize,\\\n",
    "                dataset_strings[i],fitmodel,k=k,epochs=epochs,use_lengths = True,\n",
    "                gradient_params = {'max_iterations':20,'init_pattern':'moments','num_restarts':1})\n",
    "    \n",
    "    search_data = monod.extract_data.extract_data(loom_filepaths[i], transcriptome_filepath, dataset_names[i],\n",
    "                dataset_strings[i], dir_string, dataset_attr_names=attribute_names,cf=cf[i])\n",
    "    \n",
    "    inference_parameters.fit_all_grid_points(50,search_data)\n"
   ]
  },
  {
   "cell_type": "code",
   "execution_count": null,
   "id": "35e59090",
   "metadata": {},
   "outputs": [],
   "source": []
  },
  {
   "cell_type": "markdown",
   "id": "69bc0852",
   "metadata": {},
   "source": [
    "## **Analysis of Results**"
   ]
  },
  {
   "cell_type": "code",
   "execution_count": 236,
   "id": "c5becd10",
   "metadata": {},
   "outputs": [],
   "source": [
    "#Mixture Model results\n",
    "import pickle \n",
    "with open(\"/home/tchari/perturbCME/notebooks/fits/gg_230331_025_burst_mark_sim_MM_k3_1/burst_mark_sim/Bursty_Poisson_1x1/grid_point_0.gp\", \"rb\") as ipfs:\n",
    "    grid_point_results_k3 = pickle.load(ipfs)\n",
    "    "
   ]
  },
  {
   "cell_type": "code",
   "execution_count": null,
   "id": "41a19c03",
   "metadata": {},
   "outputs": [],
   "source": []
  },
  {
   "cell_type": "code",
   "execution_count": 243,
   "id": "03ce3614",
   "metadata": {},
   "outputs": [
    {
     "data": {
      "text/html": [
       "<div>\n",
       "<style scoped>\n",
       "    .dataframe tbody tr th:only-of-type {\n",
       "        vertical-align: middle;\n",
       "    }\n",
       "\n",
       "    .dataframe tbody tr th {\n",
       "        vertical-align: top;\n",
       "    }\n",
       "\n",
       "    .dataframe thead th {\n",
       "        text-align: right;\n",
       "    }\n",
       "</style>\n",
       "<table border=\"1\" class=\"dataframe\">\n",
       "  <thead>\n",
       "    <tr style=\"text-align: right;\">\n",
       "      <th></th>\n",
       "      <th>orig_cluster</th>\n",
       "      <th>assign</th>\n",
       "    </tr>\n",
       "  </thead>\n",
       "  <tbody>\n",
       "    <tr>\n",
       "      <th>0</th>\n",
       "      <td>0</td>\n",
       "      <td>1</td>\n",
       "    </tr>\n",
       "    <tr>\n",
       "      <th>1</th>\n",
       "      <td>0</td>\n",
       "      <td>1</td>\n",
       "    </tr>\n",
       "    <tr>\n",
       "      <th>2</th>\n",
       "      <td>0</td>\n",
       "      <td>1</td>\n",
       "    </tr>\n",
       "    <tr>\n",
       "      <th>3</th>\n",
       "      <td>0</td>\n",
       "      <td>1</td>\n",
       "    </tr>\n",
       "    <tr>\n",
       "      <th>4</th>\n",
       "      <td>0</td>\n",
       "      <td>1</td>\n",
       "    </tr>\n",
       "  </tbody>\n",
       "</table>\n",
       "</div>"
      ],
      "text/plain": [
       "   orig_cluster  assign\n",
       "0             0       1\n",
       "1             0       1\n",
       "2             0       1\n",
       "3             0       1\n",
       "4             0       1"
      ]
     },
     "execution_count": 243,
     "metadata": {},
     "output_type": "execute_result"
    }
   ],
   "source": [
    "cell_res = pd.DataFrame()\n",
    "assigns = grid_point_results_k3.assigns\n",
    "cluster = []\n",
    "assign = []\n",
    "for i in range(clus):\n",
    "    cluster += [i]*n_cells\n",
    "    assign += list(grid_point_results_k3.assigns[i*n_cells:(i+1)*n_cells])\n",
    "    \n",
    "cell_res['orig_cluster'] = cluster\n",
    "cell_res['assign'] = assign\n",
    "cell_res.head()"
   ]
  },
  {
   "cell_type": "code",
   "execution_count": 262,
   "id": "5dd44e3a",
   "metadata": {},
   "outputs": [
    {
     "data": {
      "text/plain": [
       "Text(0.5, 0, 'MM Assignment')"
      ]
     },
     "execution_count": 262,
     "metadata": {},
     "output_type": "execute_result"
    },
    {
     "data": {
      "image/png": "[encoded data removed]",
      "text/plain": [
       "<Figure size 432x288 with 1 Axes>"
      ]
     },
     "metadata": {
      "needs_background": "light"
     },
     "output_type": "display_data"
    }
   ],
   "source": [
    "sns.histplot(data=cell_res, x=\"assign\",hue='orig_cluster', kde=False)\n",
    "plt.xlabel('MM Assignment')"
   ]
  },
  {
   "cell_type": "code",
   "execution_count": 245,
   "id": "21b7a4eb",
   "metadata": {},
   "outputs": [
    {
     "data": {
      "text/plain": [
       "Text(0, 0.5, 'NLL')"
      ]
     },
     "execution_count": 245,
     "metadata": {},
     "output_type": "execute_result"
    },
    {
     "data": {
      "image/png": "[encoded data removed]",
      "text/plain": [
       "<Figure size 432x288 with 1 Axes>"
      ]
     },
     "metadata": {
      "needs_background": "light"
     },
     "output_type": "display_data"
    }
   ],
   "source": [
    "sns.scatterplot(x=range(len(grid_point_results_k3.all_bounds)),y=-1*np.array(grid_point_results_k3.all_bounds),\n",
    "            alpha=0.7,s=50,edgecolor='black')\n",
    "plt.xlabel('epoch')\n",
    "plt.ylabel('NLL')"
   ]
  },
  {
   "cell_type": "code",
   "execution_count": 246,
   "id": "506fcad6",
   "metadata": {},
   "outputs": [
    {
     "data": {
      "text/plain": [
       "-734.5204123205772"
      ]
     },
     "execution_count": 246,
     "metadata": {},
     "output_type": "execute_result"
    }
   ],
   "source": [
    "grid_point_results_k3.aic #Compare with k = 2"
   ]
  },
  {
   "cell_type": "code",
   "execution_count": 375,
   "id": "20fc7604",
   "metadata": {},
   "outputs": [
    {
     "data": {
      "text/plain": [
       "(100, 3, 3)"
      ]
     },
     "execution_count": 375,
     "metadata": {},
     "output_type": "execute_result"
    }
   ],
   "source": [
    "#Compare parameter fits, gene x param x k to simulated params\n",
    "grid_point_results_k3.param_estimates.shape"
   ]
  },
  {
   "cell_type": "code",
   "execution_count": 309,
   "id": "4afe11bb",
   "metadata": {},
   "outputs": [],
   "source": [
    "pred_b0 = grid_point_results_k3.param_estimates[:,0,0]\n",
    "pred_b1 = grid_point_results_k3.param_estimates[:,0,1]"
   ]
  },
  {
   "cell_type": "code",
   "execution_count": 310,
   "id": "2986e051",
   "metadata": {},
   "outputs": [
    {
     "data": {
      "text/plain": [
       "(100,)"
      ]
     },
     "execution_count": 310,
     "metadata": {},
     "output_type": "execute_result"
    }
   ],
   "source": [
    "pred_b0.shape"
   ]
  },
  {
   "cell_type": "code",
   "execution_count": 297,
   "id": "45a04ac6",
   "metadata": {},
   "outputs": [],
   "source": [
    "#pred_b0 = np.log10((lens_sub*10**(-7.157894736842105))*(10**(pred_b0) + 1)) #/ samp[0] - 1"
   ]
  },
  {
   "cell_type": "code",
   "execution_count": 311,
   "id": "76e346bf",
   "metadata": {},
   "outputs": [],
   "source": [
    "true_b0 = params[0,:,0]\n",
    "true_b1 = params[1,:,0]"
   ]
  },
  {
   "cell_type": "code",
   "execution_count": 312,
   "id": "355238fb",
   "metadata": {},
   "outputs": [
    {
     "data": {
      "text/plain": [
       "(array([72., 23.,  0.,  0.,  0.,  0.,  1.,  0.,  3.,  1.]),\n",
       " array([0.90308999, 1.03137619, 1.15966239, 1.28794859, 1.41623479,\n",
       "        1.54452099, 1.67280719, 1.80109339, 1.92937959, 2.05766579,\n",
       "        2.18595199]),\n",
       " <BarContainer object of 10 artists>)"
      ]
     },
     "execution_count": 312,
     "metadata": {},
     "output_type": "execute_result"
    },
    {
     "data": {
      "image/png": "[encoded data removed]",
      "text/plain": [
       "<Figure size 432x288 with 1 Axes>"
      ]
     },
     "metadata": {
      "needs_background": "light"
     },
     "output_type": "display_data"
    }
   ],
   "source": [
    "plt.hist(pred_b0)\n",
    "plt.hist(np.log10(true_b0))"
   ]
  },
  {
   "cell_type": "code",
   "execution_count": 313,
   "id": "3fc7074f",
   "metadata": {},
   "outputs": [
    {
     "name": "stderr",
     "output_type": "stream",
     "text": [
      "/home/tchari/miniconda3/envs/py37/lib/python3.7/site-packages/seaborn/_decorators.py:43: FutureWarning: Pass the following variables as keyword args: x, y. From version 0.12, the only valid positional argument will be `data`, and passing other arguments without an explicit keyword will result in an error or misinterpretation.\n",
      "  FutureWarning\n"
     ]
    },
    {
     "data": {
      "text/plain": [
       "<AxesSubplot:>"
      ]
     },
     "execution_count": 313,
     "metadata": {},
     "output_type": "execute_result"
    },
    {
     "data": {
      "image/png": "[encoded data removed]",
      "text/plain": [
       "<Figure size 432x288 with 1 Axes>"
      ]
     },
     "metadata": {
      "needs_background": "light"
     },
     "output_type": "display_data"
    }
   ],
   "source": [
    "sns.scatterplot(pred_b0,np.log10(true_b0))"
   ]
  },
  {
   "cell_type": "code",
   "execution_count": 253,
   "id": "ca89847d",
   "metadata": {
    "scrolled": true
   },
   "outputs": [
    {
     "name": "stderr",
     "output_type": "stream",
     "text": [
      "/home/tchari/miniconda3/envs/py37/lib/python3.7/site-packages/seaborn/_decorators.py:43: FutureWarning: Pass the following variables as keyword args: x, y. From version 0.12, the only valid positional argument will be `data`, and passing other arguments without an explicit keyword will result in an error or misinterpretation.\n",
      "  FutureWarning\n"
     ]
    },
    {
     "data": {
      "text/plain": [
       "<AxesSubplot:>"
      ]
     },
     "execution_count": 253,
     "metadata": {},
     "output_type": "execute_result"
    },
    {
     "data": {
      "image/png": "[encoded data removed]",
      "text/plain": [
       "<Figure size 432x288 with 1 Axes>"
      ]
     },
     "metadata": {
      "needs_background": "light"
     },
     "output_type": "display_data"
    }
   ],
   "source": [
    "sns.scatterplot(pred_b1,np.log10(true_b1))\n"
   ]
  },
  {
   "cell_type": "markdown",
   "id": "121c0d04",
   "metadata": {},
   "source": [
    "**Compare params to control Monod, single-cluster test**"
   ]
  },
  {
   "cell_type": "code",
   "execution_count": 254,
   "id": "1d6f2c00",
   "metadata": {},
   "outputs": [
    {
     "data": {
      "text/plain": [
       "(100, 3)"
      ]
     },
     "execution_count": 254,
     "metadata": {},
     "output_type": "execute_result"
    }
   ],
   "source": [
    "sr.param_estimates[0].shape"
   ]
  },
  {
   "cell_type": "code",
   "execution_count": 255,
   "id": "4abdeb1e",
   "metadata": {},
   "outputs": [],
   "source": [
    "true_b0 = params[0,:,0]"
   ]
  },
  {
   "cell_type": "code",
   "execution_count": 256,
   "id": "15f7a6dc",
   "metadata": {},
   "outputs": [
    {
     "data": {
      "text/plain": [
       "(array([72., 23.,  0.,  0.,  0.,  0.,  1.,  0.,  3.,  1.]),\n",
       " array([0.90308999, 1.03137619, 1.15966239, 1.28794859, 1.41623479,\n",
       "        1.54452099, 1.67280719, 1.80109339, 1.92937959, 2.05766579,\n",
       "        2.18595199]),\n",
       " <BarContainer object of 10 artists>)"
      ]
     },
     "execution_count": 256,
     "metadata": {},
     "output_type": "execute_result"
    },
    {
     "data": {
      "image/png": "[encoded data removed]",
      "text/plain": [
       "<Figure size 432x288 with 1 Axes>"
      ]
     },
     "metadata": {
      "needs_background": "light"
     },
     "output_type": "display_data"
    }
   ],
   "source": [
    "plt.hist(sr.param_estimates[0][:,0]) #Monod also not getting params right without EM\n",
    "plt.hist(np.log10(true_b0))"
   ]
  },
  {
   "cell_type": "code",
   "execution_count": 257,
   "id": "0a1fe0fe",
   "metadata": {},
   "outputs": [
    {
     "data": {
      "text/plain": [
       "array([[1.        , 0.94245049],\n",
       "       [0.94245049, 1.        ]])"
      ]
     },
     "execution_count": 257,
     "metadata": {},
     "output_type": "execute_result"
    },
    {
     "data": {
      "image/png": "[encoded data removed]",
      "text/plain": [
       "<Figure size 432x288 with 1 Axes>"
      ]
     },
     "metadata": {
      "needs_background": "light"
     },
     "output_type": "display_data"
    }
   ],
   "source": [
    "pred_b0 = grid_point_results_k3.param_estimates[:,0,0]\n",
    "plt.hist(sr.param_estimates[0][:,0],alpha=0.6)\n",
    "plt.hist(pred_b0)\n",
    "np.corrcoef(sr.param_estimates[0][:,0],pred_b0)"
   ]
  },
  {
   "cell_type": "code",
   "execution_count": 258,
   "id": "22ecd5da",
   "metadata": {},
   "outputs": [
    {
     "data": {
      "text/plain": [
       "array([[1.        , 0.87494348],\n",
       "       [0.87494348, 1.        ]])"
      ]
     },
     "execution_count": 258,
     "metadata": {},
     "output_type": "execute_result"
    },
    {
     "data": {
      "image/png": "[encoded data removed]",
      "text/plain": [
       "<Figure size 432x288 with 1 Axes>"
      ]
     },
     "metadata": {
      "needs_background": "light"
     },
     "output_type": "display_data"
    }
   ],
   "source": [
    "pred_b0 = grid_point_results_k3.param_estimates[:,1,0]\n",
    "plt.scatter(sr.param_estimates[0][:,1],pred_b0,alpha=0.6)\n",
    "np.corrcoef(sr.param_estimates[0][:,1],pred_b0)"
   ]
  },
  {
   "cell_type": "code",
   "execution_count": 259,
   "id": "a8a6f436",
   "metadata": {},
   "outputs": [
    {
     "data": {
      "text/plain": [
       "array([[1.        , 0.49130319],\n",
       "       [0.49130319, 1.        ]])"
      ]
     },
     "execution_count": 259,
     "metadata": {},
     "output_type": "execute_result"
    },
    {
     "data": {
      "image/png": "[encoded data removed]",
      "text/plain": [
       "<Figure size 432x288 with 1 Axes>"
      ]
     },
     "metadata": {
      "needs_background": "light"
     },
     "output_type": "display_data"
    }
   ],
   "source": [
    "pred_b0 = grid_point_results_k3.param_estimates[:,2,0]\n",
    "plt.scatter(sr.param_estimates[0][:,2],pred_b0,alpha=0.6)\n",
    "np.corrcoef(sr.param_estimates[0][:,2],pred_b0)"
   ]
  },
  {
   "cell_type": "code",
   "execution_count": null,
   "id": "1fd85bc9",
   "metadata": {},
   "outputs": [],
   "source": []
  },
  {
   "cell_type": "code",
   "execution_count": null,
   "id": "b6c089bf",
   "metadata": {},
   "outputs": [],
   "source": []
  },
  {
   "cell_type": "code",
   "execution_count": null,
   "id": "b330c750",
   "metadata": {},
   "outputs": [],
   "source": []
  },
  {
   "cell_type": "markdown",
   "id": "7b74d565",
   "metadata": {},
   "source": [
    "## **MISC**"
   ]
  },
  {
   "cell_type": "code",
   "execution_count": null,
   "id": "dd15da4a",
   "metadata": {},
   "outputs": [],
   "source": []
  },
  {
   "cell_type": "code",
   "execution_count": 85,
   "id": "49573a07",
   "metadata": {},
   "outputs": [],
   "source": [
    "#Init values per gene\n",
    "\n",
    "np.random.seed(42)\n",
    "\n",
    "b=10 #10\n",
    "k = 0.2 #0.2 \n",
    "beta = 1 #1\n",
    "gamma = 0.8 #0.8\n",
    "samp = [0.008,10**(-1.525)] #[0.4,0.5], from data 10**(-7.157894736842105)*len + 10**(-1.525) \n",
    "\n",
    "\n"
   ]
  },
  {
   "cell_type": "code",
   "execution_count": null,
   "id": "3b0c08a2",
   "metadata": {},
   "outputs": [],
   "source": []
  },
  {
   "cell_type": "code",
   "execution_count": 86,
   "id": "eb17322e",
   "metadata": {},
   "outputs": [
    {
     "name": "stdout",
     "output_type": "stream",
     "text": [
      "[20, 18]\n"
     ]
    }
   ],
   "source": [
    "#Get PSS for gene\n",
    "p = np.log10(np.asarray([b,beta/k,gamma/k]))\n",
    "burst_model = BurstModel('Poisson')\n",
    "\n",
    "max_mean = b*k*np.asarray([1/beta,1/gamma])\n",
    "max_std = np.sqrt(max_mean*(1+ b*np.asarray([1,beta/(beta+gamma)])))\n",
    "max_domain = max_mean + 4*max_std\n",
    "max_domain = [int(i) for i in max_domain]\n",
    "\n",
    "Pss = burst_model.get_Pss(p,max_domain,samp)\n",
    "\n",
    "#Get samples\n",
    "test = sample_from_p(100, Pss)\n"
   ]
  },
  {
   "cell_type": "code",
   "execution_count": 281,
   "id": "490d8768",
   "metadata": {},
   "outputs": [
    {
     "data": {
      "text/plain": [
       "(1500, 100, 2)"
      ]
     },
     "execution_count": 281,
     "metadata": {},
     "output_type": "execute_result"
    }
   ],
   "source": [
    "all_counts.shape"
   ]
  },
  {
   "cell_type": "code",
   "execution_count": 187,
   "id": "6b9ea894",
   "metadata": {},
   "outputs": [
    {
     "data": {
      "text/plain": [
       "array([16, 94, 30, 72, 63, 66, 62, 92, 26, 38, 73, 82, 40, 87, 42,  0,  5,\n",
       "        3, 59, 24, 61, 99, 44, 45, 88, 93, 13, 20, 37, 34])"
      ]
     },
     "execution_count": 187,
     "metadata": {},
     "output_type": "execute_result"
    }
   ],
   "source": [
    "all_choices"
   ]
  },
  {
   "cell_type": "code",
   "execution_count": 305,
   "id": "058de566",
   "metadata": {},
   "outputs": [
    {
     "data": {
      "text/plain": [
       "Text(0, 0.5, 'Mature counts')"
      ]
     },
     "execution_count": 305,
     "metadata": {},
     "output_type": "execute_result"
    },
    {
     "data": {
      "image/png": "[encoded data removed]",
      "text/plain": [
       "<Figure size 432x288 with 1 Axes>"
      ]
     },
     "metadata": {
      "needs_background": "light"
     },
     "output_type": "display_data"
    }
   ],
   "source": [
    "plt.figure()\n",
    "test = all_counts[:,0]\n",
    "sns.kdeplot(x=test[:,0], y=test[:,1], cmap=\"viridis\", shade=True, thresh=0)\n",
    "plt.xlabel('Nascent counts')\n",
    "plt.ylabel('Mature counts')\n"
   ]
  },
  {
   "cell_type": "code",
   "execution_count": 331,
   "id": "2ae4f2bc",
   "metadata": {},
   "outputs": [],
   "source": [
    "\n",
    "concat_types = np.concatenate((np.mean(all_counts[0:500,:,:],axis=0),np.mean(all_counts[500:1000,:,:],axis=0),\n",
    "          np.mean(all_counts[1000:1500,:,:],axis=0)),axis=1)\n"
   ]
  },
  {
   "cell_type": "code",
   "execution_count": 343,
   "id": "144871bf",
   "metadata": {},
   "outputs": [
    {
     "data": {
      "text/plain": [
       "[Text(1, 0.5, '74'),\n",
       " Text(1, 1.5, '15'),\n",
       " Text(1, 2.5, '48'),\n",
       " Text(1, 3.5, '11'),\n",
       " Text(1, 4.5, '33'),\n",
       " Text(1, 5.5, '94'),\n",
       " Text(1, 6.5, '40'),\n",
       " Text(1, 7.5, '86'),\n",
       " Text(1, 8.5, '19'),\n",
       " Text(1, 9.5, '73'),\n",
       " Text(1, 10.5, '27'),\n",
       " Text(1, 11.5, '96'),\n",
       " Text(1, 12.5, '17'),\n",
       " Text(1, 13.5, '69'),\n",
       " Text(1, 14.5, '45'),\n",
       " Text(1, 15.5, '65'),\n",
       " Text(1, 16.5, '36'),\n",
       " Text(1, 17.5, '88'),\n",
       " Text(1, 18.5, '0'),\n",
       " Text(1, 19.5, '4'),\n",
       " Text(1, 20.5, '12'),\n",
       " Text(1, 21.5, '13'),\n",
       " Text(1, 22.5, '39'),\n",
       " Text(1, 23.5, '67'),\n",
       " Text(1, 24.5, '82'),\n",
       " Text(1, 25.5, '58'),\n",
       " Text(1, 26.5, '81'),\n",
       " Text(1, 27.5, '85'),\n",
       " Text(1, 28.5, '53'),\n",
       " Text(1, 29.5, '60'),\n",
       " Text(1, 30.5, '42'),\n",
       " Text(1, 31.5, '46'),\n",
       " Text(1, 32.5, '24'),\n",
       " Text(1, 33.5, '43'),\n",
       " Text(1, 34.5, '7'),\n",
       " Text(1, 35.5, '41'),\n",
       " Text(1, 36.5, '10'),\n",
       " Text(1, 37.5, '57'),\n",
       " Text(1, 38.5, '83'),\n",
       " Text(1, 39.5, '5'),\n",
       " Text(1, 40.5, '50'),\n",
       " Text(1, 41.5, '80'),\n",
       " Text(1, 42.5, '25'),\n",
       " Text(1, 43.5, '54'),\n",
       " Text(1, 44.5, '37'),\n",
       " Text(1, 45.5, '56'),\n",
       " Text(1, 46.5, '72'),\n",
       " Text(1, 47.5, '97'),\n",
       " Text(1, 48.5, '62'),\n",
       " Text(1, 49.5, '6'),\n",
       " Text(1, 50.5, '28'),\n",
       " Text(1, 51.5, '9'),\n",
       " Text(1, 52.5, '18'),\n",
       " Text(1, 53.5, '68'),\n",
       " Text(1, 54.5, '93'),\n",
       " Text(1, 55.5, '52'),\n",
       " Text(1, 56.5, '75'),\n",
       " Text(1, 57.5, '14'),\n",
       " Text(1, 58.5, '30'),\n",
       " Text(1, 59.5, '1'),\n",
       " Text(1, 60.5, '31'),\n",
       " Text(1, 61.5, '20'),\n",
       " Text(1, 62.5, '71'),\n",
       " Text(1, 63.5, '59'),\n",
       " Text(1, 64.5, '87'),\n",
       " Text(1, 65.5, '49'),\n",
       " Text(1, 66.5, '92'),\n",
       " Text(1, 67.5, '64'),\n",
       " Text(1, 68.5, '32'),\n",
       " Text(1, 69.5, '47'),\n",
       " Text(1, 70.5, '44'),\n",
       " Text(1, 71.5, '90'),\n",
       " Text(1, 72.5, '3'),\n",
       " Text(1, 73.5, '29'),\n",
       " Text(1, 74.5, '63'),\n",
       " Text(1, 75.5, '2'),\n",
       " Text(1, 76.5, '61'),\n",
       " Text(1, 77.5, '35'),\n",
       " Text(1, 78.5, '91'),\n",
       " Text(1, 79.5, '79'),\n",
       " Text(1, 80.5, '23'),\n",
       " Text(1, 81.5, '70'),\n",
       " Text(1, 82.5, '38'),\n",
       " Text(1, 83.5, '84'),\n",
       " Text(1, 84.5, '26'),\n",
       " Text(1, 85.5, '66'),\n",
       " Text(1, 86.5, '51'),\n",
       " Text(1, 87.5, '99'),\n",
       " Text(1, 88.5, '34'),\n",
       " Text(1, 89.5, '98'),\n",
       " Text(1, 90.5, '76'),\n",
       " Text(1, 91.5, '77'),\n",
       " Text(1, 92.5, '22'),\n",
       " Text(1, 93.5, '89'),\n",
       " Text(1, 94.5, '55'),\n",
       " Text(1, 95.5, '95'),\n",
       " Text(1, 96.5, '8'),\n",
       " Text(1, 97.5, '21'),\n",
       " Text(1, 98.5, '16'),\n",
       " Text(1, 99.5, '78')]"
      ]
     },
     "execution_count": 343,
     "metadata": {},
     "output_type": "execute_result"
    },
    {
     "data": {
      "image/png": "[encoded data removed]",
      "text/plain": [
       "<Figure size 720x720 with 4 Axes>"
      ]
     },
     "metadata": {
      "needs_background": "light"
     },
     "output_type": "display_data"
    }
   ],
   "source": [
    "#Make heatmap with markers\n",
    "\n",
    "g = sns.clustermap(np.log(concat_types),yticklabels=True)\n",
    "g.ax_heatmap.set_yticklabels(g.ax_heatmap.get_ymajorticklabels(), fontsize = 7)\n"
   ]
  },
  {
   "cell_type": "code",
   "execution_count": 344,
   "id": "eef7bda7",
   "metadata": {},
   "outputs": [
    {
     "data": {
      "text/plain": [
       "[Text(1, 0.5, '94'),\n",
       " Text(1, 1.5, '78'),\n",
       " Text(1, 2.5, '73'),\n",
       " Text(1, 3.5, '19'),\n",
       " Text(1, 4.5, '40'),\n",
       " Text(1, 5.5, '45'),\n",
       " Text(1, 6.5, '65'),\n",
       " Text(1, 7.5, '36'),\n",
       " Text(1, 8.5, '88'),\n",
       " Text(1, 9.5, '0'),\n",
       " Text(1, 10.5, '4'),\n",
       " Text(1, 11.5, '11'),\n",
       " Text(1, 12.5, '86'),\n",
       " Text(1, 13.5, '15'),\n",
       " Text(1, 14.5, '33'),\n",
       " Text(1, 15.5, '69'),\n",
       " Text(1, 16.5, '17'),\n",
       " Text(1, 17.5, '96'),\n",
       " Text(1, 18.5, '48'),\n",
       " Text(1, 19.5, '74'),\n",
       " Text(1, 20.5, '76'),\n",
       " Text(1, 21.5, '77'),\n",
       " Text(1, 22.5, '22'),\n",
       " Text(1, 23.5, '89'),\n",
       " Text(1, 24.5, '34'),\n",
       " Text(1, 25.5, '98'),\n",
       " Text(1, 26.5, '26'),\n",
       " Text(1, 27.5, '66'),\n",
       " Text(1, 28.5, '51'),\n",
       " Text(1, 29.5, '99'),\n",
       " Text(1, 30.5, '27'),\n",
       " Text(1, 31.5, '7'),\n",
       " Text(1, 32.5, '41'),\n",
       " Text(1, 33.5, '57'),\n",
       " Text(1, 34.5, '10'),\n",
       " Text(1, 35.5, '83'),\n",
       " Text(1, 36.5, '58'),\n",
       " Text(1, 37.5, '53'),\n",
       " Text(1, 38.5, '60'),\n",
       " Text(1, 39.5, '24'),\n",
       " Text(1, 40.5, '42'),\n",
       " Text(1, 41.5, '43'),\n",
       " Text(1, 42.5, '46'),\n",
       " Text(1, 43.5, '81'),\n",
       " Text(1, 44.5, '85'),\n",
       " Text(1, 45.5, '12'),\n",
       " Text(1, 46.5, '13'),\n",
       " Text(1, 47.5, '39'),\n",
       " Text(1, 48.5, '67'),\n",
       " Text(1, 49.5, '82'),\n",
       " Text(1, 50.5, '80'),\n",
       " Text(1, 51.5, '25'),\n",
       " Text(1, 52.5, '54'),\n",
       " Text(1, 53.5, '37'),\n",
       " Text(1, 54.5, '56'),\n",
       " Text(1, 55.5, '5'),\n",
       " Text(1, 56.5, '50'),\n",
       " Text(1, 57.5, '20'),\n",
       " Text(1, 58.5, '71'),\n",
       " Text(1, 59.5, '59'),\n",
       " Text(1, 60.5, '87'),\n",
       " Text(1, 61.5, '49'),\n",
       " Text(1, 62.5, '92'),\n",
       " Text(1, 63.5, '72'),\n",
       " Text(1, 64.5, '97'),\n",
       " Text(1, 65.5, '62'),\n",
       " Text(1, 66.5, '6'),\n",
       " Text(1, 67.5, '28'),\n",
       " Text(1, 68.5, '9'),\n",
       " Text(1, 69.5, '18'),\n",
       " Text(1, 70.5, '68'),\n",
       " Text(1, 71.5, '93'),\n",
       " Text(1, 72.5, '52'),\n",
       " Text(1, 73.5, '75'),\n",
       " Text(1, 74.5, '14'),\n",
       " Text(1, 75.5, '30'),\n",
       " Text(1, 76.5, '1'),\n",
       " Text(1, 77.5, '31'),\n",
       " Text(1, 78.5, '35'),\n",
       " Text(1, 79.5, '91'),\n",
       " Text(1, 80.5, '79'),\n",
       " Text(1, 81.5, '23'),\n",
       " Text(1, 82.5, '70'),\n",
       " Text(1, 83.5, '38'),\n",
       " Text(1, 84.5, '84'),\n",
       " Text(1, 85.5, '64'),\n",
       " Text(1, 86.5, '32'),\n",
       " Text(1, 87.5, '47'),\n",
       " Text(1, 88.5, '44'),\n",
       " Text(1, 89.5, '90'),\n",
       " Text(1, 90.5, '3'),\n",
       " Text(1, 91.5, '29'),\n",
       " Text(1, 92.5, '63'),\n",
       " Text(1, 93.5, '2'),\n",
       " Text(1, 94.5, '61'),\n",
       " Text(1, 95.5, '16'),\n",
       " Text(1, 96.5, '21'),\n",
       " Text(1, 97.5, '8'),\n",
       " Text(1, 98.5, '55'),\n",
       " Text(1, 99.5, '95')]"
      ]
     },
     "execution_count": 344,
     "metadata": {},
     "output_type": "execute_result"
    },
    {
     "data": {
      "image/png": "[encoded data removed]",
      "text/plain": [
       "<Figure size 720x720 with 4 Axes>"
      ]
     },
     "metadata": {
      "needs_background": "light"
     },
     "output_type": "display_data"
    }
   ],
   "source": [
    "g = sns.clustermap(concat_types,yticklabels=True)\n",
    "g.ax_heatmap.set_yticklabels(g.ax_heatmap.get_ymajorticklabels(), fontsize = 7)\n"
   ]
  },
  {
   "cell_type": "code",
   "execution_count": null,
   "id": "522eae63",
   "metadata": {},
   "outputs": [],
   "source": []
  }
 ],
 "metadata": {
  "kernelspec": {
   "display_name": "Python 3 (ipykernel)",
   "language": "python",
   "name": "python3"
  },
  "language_info": {
   "codemirror_mode": {
    "name": "ipython",
    "version": 3
   },
   "file_extension": ".py",
   "mimetype": "text/x-python",
   "name": "python",
   "nbconvert_exporter": "python",
   "pygments_lexer": "ipython3",
   "version": "3.7.11"
  }
 },
 "nbformat": 4,
 "nbformat_minor": 5
}
