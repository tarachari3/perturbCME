{
 "cells": [
  {
   "cell_type": "code",
   "execution_count": null,
   "id": "45f51788",
   "metadata": {},
   "outputs": [],
   "source": [
    "#Get meK_looms.tar.gz and meKMeans_data_samp_params.csv\n",
    "\n",
    "\n",
    "\n",
    "samps = pd.read_csv('meKMeans_data_samp_params.csv')\n",
    "samps.head()"
   ]
  },
  {
   "cell_type": "code",
   "execution_count": null,
   "id": "1d9d450e",
   "metadata": {},
   "outputs": [],
   "source": [
    "#For each loom in looms from ./hvg_objs\n",
    "\n",
    "#Get tech param by keyword (datas) in loom paths\n",
    "\n",
    "#For \n",
    "\n",
    "\n",
    "\n",
    "#Save method, clustering, mat_in (U,S, etc), hyper (K or res), hvgs, data, ARI, NMI\n",
    "\n",
    "\n",
    "#sklearn.metrics.adjusted_rand_score()\n",
    "#sklearn.metrics.adjusted_mutual_info_score()"
   ]
  },
  {
   "cell_type": "markdown",
   "id": "2b4beecd",
   "metadata": {},
   "source": [
    "### **meK-Means**\n"
   ]
  },
  {
   "cell_type": "code",
   "execution_count": null,
   "id": "15a0e9d4",
   "metadata": {},
   "outputs": [],
   "source": [
    "#Correct K + 5 + 10 higher "
   ]
  },
  {
   "cell_type": "code",
   "execution_count": null,
   "id": "b6aa948c",
   "metadata": {},
   "outputs": [],
   "source": []
  },
  {
   "cell_type": "markdown",
   "id": "43f3f9db",
   "metadata": {},
   "source": [
    "### **Leiden & K-Means**\n"
   ]
  },
  {
   "cell_type": "code",
   "execution_count": null,
   "id": "4c7f9ade",
   "metadata": {},
   "outputs": [],
   "source": [
    "#Make the U,S, U+S, Concat matrices, res 0.8,1,1.5\n",
    "\n",
    "#K-Means just correct K"
   ]
  },
  {
   "cell_type": "code",
   "execution_count": null,
   "id": "b31864ed",
   "metadata": {},
   "outputs": [],
   "source": []
  },
  {
   "cell_type": "markdown",
   "id": "e8356646",
   "metadata": {},
   "source": []
  },
  {
   "cell_type": "code",
   "execution_count": null,
   "id": "7c0a54d3",
   "metadata": {},
   "outputs": [],
   "source": []
  },
  {
   "cell_type": "code",
   "execution_count": null,
   "id": "a0ac0173",
   "metadata": {},
   "outputs": [],
   "source": []
  }
 ],
 "metadata": {
  "kernelspec": {
   "display_name": "Python 3 (ipykernel)",
   "language": "python",
   "name": "python3"
  },
  "language_info": {
   "codemirror_mode": {
    "name": "ipython",
    "version": 3
   },
   "file_extension": ".py",
   "mimetype": "text/x-python",
   "name": "python",
   "nbconvert_exporter": "python",
   "pygments_lexer": "ipython3",
   "version": "3.7.11"
  }
 },
 "nbformat": 4,
 "nbformat_minor": 5
}
