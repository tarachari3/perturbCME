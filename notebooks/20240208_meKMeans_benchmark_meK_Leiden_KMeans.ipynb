{
 "cells": [
  {
   "cell_type": "code",
   "execution_count": 7,
   "id": "3142e465",
   "metadata": {},
   "outputs": [],
   "source": [
    "import h5py\n",
    "import scanpy as sc\n",
    "import anndata\n",
    "import loompy as lp\n",
    "\n",
    "import numpy as np\n",
    "import pandas as pd\n",
    "import matplotlib.pyplot as plt\n",
    "\n",
    "import sys\n",
    "import glob"
   ]
  },
  {
   "cell_type": "code",
   "execution_count": 4,
   "id": "207c3f05",
   "metadata": {},
   "outputs": [],
   "source": [
    "import sys\n",
    "sys.path.insert(0, '/home/tchari/monod/src/')"
   ]
  },
  {
   "cell_type": "code",
   "execution_count": 5,
   "id": "2d2f4031",
   "metadata": {},
   "outputs": [],
   "source": [
    "import monod\n",
    "#importlib.reload(monod)\n",
    "from monod import preprocess, extract_data, cme_toolbox, analysis, mminference"
   ]
  },
  {
   "cell_type": "code",
   "execution_count": 71,
   "id": "f2839e79",
   "metadata": {},
   "outputs": [],
   "source": [
    "from sklearn.metrics import adjusted_rand_score, adjusted_mutual_info_score\n",
    "from sklearn.cluster import KMeans\n",
    "from sklearn.neighbors import kneighbors_graph\n",
    "\n",
    "import igraph as ig\n",
    "import leidenalg as la"
   ]
  },
  {
   "cell_type": "code",
   "execution_count": 44,
   "id": "45f51788",
   "metadata": {},
   "outputs": [
    {
     "data": {
      "text/html": [
       "<div>\n",
       "<style scoped>\n",
       "    .dataframe tbody tr th:only-of-type {\n",
       "        vertical-align: middle;\n",
       "    }\n",
       "\n",
       "    .dataframe tbody tr th {\n",
       "        vertical-align: top;\n",
       "    }\n",
       "\n",
       "    .dataframe thead th {\n",
       "        text-align: right;\n",
       "    }\n",
       "</style>\n",
       "<table border=\"1\" class=\"dataframe\">\n",
       "  <thead>\n",
       "    <tr style=\"text-align: right;\">\n",
       "      <th></th>\n",
       "      <th>Dataset</th>\n",
       "      <th>Transcrip</th>\n",
       "      <th>Clusters</th>\n",
       "      <th>Cu</th>\n",
       "      <th>Lam</th>\n",
       "    </tr>\n",
       "  </thead>\n",
       "  <tbody>\n",
       "    <tr>\n",
       "      <th>0</th>\n",
       "      <td>allen_b08</td>\n",
       "      <td>/home/tchari/perturbCME/notebooks/gg_200524_mo...</td>\n",
       "      <td>10</td>\n",
       "      <td>-6.777778</td>\n",
       "      <td>-1.25</td>\n",
       "    </tr>\n",
       "    <tr>\n",
       "      <th>1</th>\n",
       "      <td>allen_b02h01</td>\n",
       "      <td>/home/tchari/perturbCME/notebooks/gg_200524_mo...</td>\n",
       "      <td>11</td>\n",
       "      <td>-6.777778</td>\n",
       "      <td>-1.25</td>\n",
       "    </tr>\n",
       "    <tr>\n",
       "      <th>2</th>\n",
       "      <td>cl3</td>\n",
       "      <td>/home/tchari/perturbCME/notebooks/gg_200525_ge...</td>\n",
       "      <td>3</td>\n",
       "      <td>-6.777778</td>\n",
       "      <td>-1.25</td>\n",
       "    </tr>\n",
       "    <tr>\n",
       "      <th>3</th>\n",
       "      <td>cl5</td>\n",
       "      <td>/home/tchari/perturbCME/notebooks/gg_200525_ge...</td>\n",
       "      <td>5</td>\n",
       "      <td>-6.777778</td>\n",
       "      <td>-0.70</td>\n",
       "    </tr>\n",
       "    <tr>\n",
       "      <th>4</th>\n",
       "      <td>brca1</td>\n",
       "      <td>/home/tchari/perturbCME/notebooks/gg_200524_mo...</td>\n",
       "      <td>-1</td>\n",
       "      <td>-6.777778</td>\n",
       "      <td>-0.70</td>\n",
       "    </tr>\n",
       "  </tbody>\n",
       "</table>\n",
       "</div>"
      ],
      "text/plain": [
       "        Dataset                                          Transcrip  Clusters  \\\n",
       "0     allen_b08  /home/tchari/perturbCME/notebooks/gg_200524_mo...        10   \n",
       "1  allen_b02h01  /home/tchari/perturbCME/notebooks/gg_200524_mo...        11   \n",
       "2           cl3  /home/tchari/perturbCME/notebooks/gg_200525_ge...         3   \n",
       "3           cl5  /home/tchari/perturbCME/notebooks/gg_200525_ge...         5   \n",
       "4         brca1  /home/tchari/perturbCME/notebooks/gg_200524_mo...        -1   \n",
       "\n",
       "         Cu   Lam  \n",
       "0 -6.777778 -1.25  \n",
       "1 -6.777778 -1.25  \n",
       "2 -6.777778 -1.25  \n",
       "3 -6.777778 -0.70  \n",
       "4 -6.777778 -0.70  "
      ]
     },
     "execution_count": 44,
     "metadata": {},
     "output_type": "execute_result"
    }
   ],
   "source": [
    "# ********* Get meK_looms.tar.gz and meKMeans_data_samp_params.csv *********\n",
    "\n",
    "samps = pd.read_csv('meKMeans_data_samp_params.csv')\n",
    "samps.head()"
   ]
  },
  {
   "cell_type": "code",
   "execution_count": 45,
   "id": "0c045fb3",
   "metadata": {},
   "outputs": [
    {
     "data": {
      "text/plain": [
       "['./hvg_objs/allen_b08_300hvgs.loom',\n",
       " './hvg_objs/cl5_2000hvgs.loom',\n",
       " './hvg_objs/allen_b02h01_300hvgs.loom',\n",
       " './hvg_objs/cl5_300hvgs.loom',\n",
       " './hvg_objs/allen_b08_2000hvgs.loom',\n",
       " './hvg_objs/allen_b02h01_1000hvgs.loom',\n",
       " './hvg_objs/allen_b08_4000hvgs.loom',\n",
       " './hvg_objs/cl3_1000hvgs.loom',\n",
       " './hvg_objs/allen_b08_1000hvgs.loom',\n",
       " './hvg_objs/cl3_2000hvgs.loom',\n",
       " './hvg_objs/cl5_1000hvgs.loom',\n",
       " './hvg_objs/cl5_4000hvgs.loom',\n",
       " './hvg_objs/allen_b02h01_4000hvgs.loom',\n",
       " './hvg_objs/cl3_4000hvgs.loom',\n",
       " './hvg_objs/allen_b02h01_2000hvgs.loom',\n",
       " './hvg_objs/cl3_300hvgs.loom']"
      ]
     },
     "execution_count": 45,
     "metadata": {},
     "output_type": "execute_result"
    }
   ],
   "source": [
    "d_strings  = glob.glob('./hvg_objs/*.loom')\n",
    "d_strings "
   ]
  },
  {
   "cell_type": "code",
   "execution_count": 46,
   "id": "03cbd61e",
   "metadata": {},
   "outputs": [
    {
     "data": {
      "text/plain": [
       "array(['allen_b08', 'allen_b02h01', 'cl3', 'cl5', 'brca1', 'pbmc',\n",
       "       'e11e13'], dtype=object)"
      ]
     },
     "execution_count": 46,
     "metadata": {},
     "output_type": "execute_result"
    }
   ],
   "source": [
    "datas = pd.unique(samps.Dataset)\n",
    "datas"
   ]
  },
  {
   "cell_type": "code",
   "execution_count": 68,
   "id": "1d9d450e",
   "metadata": {},
   "outputs": [],
   "source": [
    "attribute_names =[('unspliced','spliced'),'gene_name','barcode']"
   ]
  },
  {
   "cell_type": "markdown",
   "id": "2b4beecd",
   "metadata": {},
   "source": [
    "### **meK-Means**\n",
    "\n",
    "Test with 2, correct K, K+5, K+10"
   ]
  },
  {
   "cell_type": "code",
   "execution_count": null,
   "id": "15a0e9d4",
   "metadata": {
    "scrolled": true
   },
   "outputs": [
    {
     "name": "stdout",
     "output_type": "stream",
     "text": [
      "allen_b08 with 299 HVGs\n",
      "WARNING:root:Selecting 239 genes required 0.0% dataset threshold.\n"
     ]
    },
    {
     "name": "stderr",
     "output_type": "stream",
     "text": [
      "100%|████████████████████████████████████████████████████████████████████████████████████████| 2/2 [00:14<00:00,  7.46s/it]\n",
      "100%|████████████████████████████████████████████████████████████████████████████████████████| 2/2 [00:10<00:00,  5.02s/it]\n"
     ]
    },
    {
     "name": "stdout",
     "output_type": "stream",
     "text": [
      "mstep self.weights:  [0.8630301 0.1369699]\n",
      "Q Function:  -1169045.4176676944\n",
      "\n"
     ]
    },
    {
     "name": "stderr",
     "output_type": "stream",
     "text": [
      "100%|████████████████████████████████████████████████████████████████████████████████████████| 2/2 [00:10<00:00,  5.29s/it]\n"
     ]
    },
    {
     "name": "stdout",
     "output_type": "stream",
     "text": [
      "mstep self.weights:  [0.87036381 0.12963619]\n",
      "Q Function:  -1109316.3334968125\n",
      "\n"
     ]
    },
    {
     "name": "stderr",
     "output_type": "stream",
     "text": [
      "100%|████████████████████████████████████████████████████████████████████████████████████████| 2/2 [00:10<00:00,  5.35s/it]\n"
     ]
    },
    {
     "name": "stdout",
     "output_type": "stream",
     "text": [
      "mstep self.weights:  [0.87218347 0.12781653]\n",
      "Q Function:  -1109059.4199196238\n",
      "\n"
     ]
    },
    {
     "name": "stderr",
     "output_type": "stream",
     "text": [
      "100%|████████████████████████████████████████████████████████████████████████████████████████| 2/2 [00:11<00:00,  5.65s/it]\n"
     ]
    },
    {
     "name": "stdout",
     "output_type": "stream",
     "text": [
      "mstep self.weights:  [0.87347886 0.12652114]\n",
      "Q Function:  -1109416.6973109464\n",
      "\n"
     ]
    },
    {
     "name": "stderr",
     "output_type": "stream",
     "text": [
      "100%|████████████████████████████████████████████████████████████████████████████████████████| 2/2 [00:11<00:00,  5.55s/it]\n"
     ]
    },
    {
     "name": "stdout",
     "output_type": "stream",
     "text": [
      "mstep self.weights:  [0.87282665 0.12717335]\n",
      "Q Function:  -1109491.6192687005\n",
      "\n"
     ]
    },
    {
     "name": "stderr",
     "output_type": "stream",
     "text": [
      "100%|████████████████████████████████████████████████████████████████████████████████████████| 2/2 [00:10<00:00,  5.29s/it]\n"
     ]
    },
    {
     "name": "stdout",
     "output_type": "stream",
     "text": [
      "mstep self.weights:  [0.87285625 0.12714375]\n",
      "Q Function:  -1108699.4987426656\n",
      "\n"
     ]
    },
    {
     "name": "stderr",
     "output_type": "stream",
     "text": [
      "100%|████████████████████████████████████████████████████████████████████████████████████████| 2/2 [00:11<00:00,  5.53s/it]\n"
     ]
    },
    {
     "name": "stdout",
     "output_type": "stream",
     "text": [
      "mstep self.weights:  [0.87285626 0.12714374]\n",
      "Q Function:  -1108699.498779183\n",
      "\n"
     ]
    },
    {
     "name": "stderr",
     "output_type": "stream",
     "text": [
      "100%|████████████████████████████████████████████████████████████████████████████████████████| 2/2 [00:10<00:00,  5.38s/it]\n"
     ]
    },
    {
     "name": "stdout",
     "output_type": "stream",
     "text": [
      "mstep self.weights:  [0.87285626 0.12714374]\n",
      "Q Function:  -1108699.4987791968\n",
      "\n"
     ]
    },
    {
     "name": "stderr",
     "output_type": "stream",
     "text": [
      "100%|████████████████████████████████████████████████████████████████████████████████████████| 2/2 [00:10<00:00,  5.39s/it]\n"
     ]
    },
    {
     "name": "stdout",
     "output_type": "stream",
     "text": [
      "mstep self.weights:  [0.87285626 0.12714374]\n",
      "Q Function:  -1108699.4987791968\n",
      "\n"
     ]
    },
    {
     "name": "stderr",
     "output_type": "stream",
     "text": [
      "100%|████████████████████████████████████████████████████████████████████████████████████████| 2/2 [00:10<00:00,  5.30s/it]\n"
     ]
    },
    {
     "name": "stdout",
     "output_type": "stream",
     "text": [
      "mstep self.weights:  [0.87285626 0.12714374]\n",
      "Q Function:  -1108699.4987791968\n",
      "\n",
      "No. clus:  2\n",
      "WARNING:root:Selecting 239 genes required 0.0% dataset threshold.\n"
     ]
    },
    {
     "name": "stderr",
     "output_type": "stream",
     "text": [
      "100%|██████████████████████████████████████████████████████████████████████████████████████| 10/10 [00:11<00:00,  1.18s/it]\n",
      "100%|██████████████████████████████████████████████████████████████████████████████████████| 10/10 [00:10<00:00,  1.05s/it]\n"
     ]
    },
    {
     "name": "stdout",
     "output_type": "stream",
     "text": [
      "mstep self.weights:  [0.00386678 0.02386963 0.06490772 0.05793504 0.04672846 0.43901911\n",
      " 0.05838434 0.08044751 0.21079607 0.01404533]\n",
      "Q Function:  -1191773.1900790024\n",
      "\n"
     ]
    },
    {
     "name": "stderr",
     "output_type": "stream",
     "text": [
      "100%|██████████████████████████████████████████████████████████████████████████████████████| 10/10 [00:10<00:00,  1.04s/it]\n"
     ]
    },
    {
     "name": "stdout",
     "output_type": "stream",
     "text": [
      "mstep self.weights:  [1.74926588e-04 3.17959111e-02 3.35701154e-02 5.58659841e-02\n",
      " 1.75653758e-04 5.30054430e-01 5.26368663e-02 5.35632221e-02\n",
      " 2.23985395e-01 1.81774953e-02]\n",
      "Q Function:  -1119046.5771273316\n",
      "\n"
     ]
    },
    {
     "name": "stderr",
     "output_type": "stream",
     "text": [
      "100%|████████████████████████████████████████████████████████████████████████████████████████| 8/8 [00:10<00:00,  1.33s/it]\n"
     ]
    },
    {
     "name": "stdout",
     "output_type": "stream",
     "text": [
      "mstep self.weights:  [1.75654312e-10 3.37198331e-02 3.81491597e-02 5.61597822e-02\n",
      " 1.75654312e-10 4.97996994e-01 5.38398532e-02 7.60762837e-02\n",
      " 2.27460504e-01 1.65975897e-02]\n",
      "Q Function:  -1141014.8065862232\n",
      "\n"
     ]
    },
    {
     "name": "stderr",
     "output_type": "stream",
     "text": [
      "100%|████████████████████████████████████████████████████████████████████████████████████████| 8/8 [00:11<00:00,  1.39s/it]\n"
     ]
    },
    {
     "name": "stdout",
     "output_type": "stream",
     "text": [
      "mstep self.weights:  [1.75654312e-10 3.35328295e-02 6.86886201e-03 5.53466068e-02\n",
      " 1.75654312e-10 5.69004589e-01 5.59212695e-02 3.62457571e-02\n",
      " 2.27890283e-01 1.51898023e-02]\n",
      "Q Function:  -1137321.0063579483\n",
      "\n"
     ]
    },
    {
     "name": "stderr",
     "output_type": "stream",
     "text": [
      "100%|████████████████████████████████████████████████████████████████████████████████████████| 8/8 [00:10<00:00,  1.30s/it]\n"
     ]
    },
    {
     "name": "stdout",
     "output_type": "stream",
     "text": [
      "mstep self.weights:  [1.75654312e-10 3.34544904e-02 6.25897372e-03 5.52741410e-02\n",
      " 1.75654312e-10 5.73661223e-01 5.68036493e-02 3.17300679e-02\n",
      " 2.28248612e-01 1.45688425e-02]\n",
      "Q Function:  -1150337.6133785865\n",
      "\n"
     ]
    },
    {
     "name": "stderr",
     "output_type": "stream",
     "text": [
      "100%|████████████████████████████████████████████████████████████████████████████████████████| 8/8 [00:10<00:00,  1.32s/it]\n"
     ]
    },
    {
     "name": "stdout",
     "output_type": "stream",
     "text": [
      "mstep self.weights:  [1.75654312e-10 3.32687250e-02 3.31297031e-03 5.51231295e-02\n",
      " 1.75654312e-10 5.78007281e-01 5.76615364e-02 2.95119969e-02\n",
      " 2.29252267e-01 1.38620936e-02]\n",
      "Q Function:  -1141765.3606356462\n",
      "\n"
     ]
    },
    {
     "name": "stderr",
     "output_type": "stream",
     "text": [
      "100%|████████████████████████████████████████████████████████████████████████████████████████| 8/8 [00:10<00:00,  1.29s/it]\n"
     ]
    },
    {
     "name": "stdout",
     "output_type": "stream",
     "text": [
      "mstep self.weights:  [1.75654312e-10 3.31022102e-02 2.45197339e-03 5.50774483e-02\n",
      " 1.75654312e-10 5.78673874e-01 5.77575613e-02 2.99190635e-02\n",
      " 2.29206588e-01 1.38112806e-02]\n",
      "Q Function:  -1132489.4570568576\n",
      "\n"
     ]
    },
    {
     "name": "stderr",
     "output_type": "stream",
     "text": [
      "100%|████████████████████████████████████████████████████████████████████████████████████████| 8/8 [00:10<00:00,  1.32s/it]\n"
     ]
    },
    {
     "name": "stdout",
     "output_type": "stream",
     "text": [
      "mstep self.weights:  [1.75654312e-10 3.30925205e-02 2.11446132e-03 5.50691938e-02\n",
      " 1.75654312e-10 5.79248485e-01 5.76948234e-02 2.97347783e-02\n",
      " 2.29163639e-01 1.38820979e-02]\n",
      "Q Function:  -1132601.9179071845\n",
      "\n"
     ]
    },
    {
     "name": "stderr",
     "output_type": "stream",
     "text": [
      "100%|████████████████████████████████████████████████████████████████████████████████████████| 8/8 [00:11<00:00,  1.40s/it]\n"
     ]
    },
    {
     "name": "stdout",
     "output_type": "stream",
     "text": [
      "mstep self.weights:  [1.75654312e-10 3.28796161e-02 2.10785192e-03 5.50677353e-02\n",
      " 1.75654312e-10 5.78798937e-01 5.76946462e-02 2.98713941e-02\n",
      " 2.29697594e-01 1.38822258e-02]\n",
      "Q Function:  -1129394.7719237613\n",
      "\n"
     ]
    },
    {
     "name": "stderr",
     "output_type": "stream",
     "text": [
      "100%|████████████████████████████████████████████████████████████████████████████████████████| 8/8 [00:10<00:00,  1.28s/it]\n"
     ]
    },
    {
     "name": "stdout",
     "output_type": "stream",
     "text": [
      "mstep self.weights:  [1.75654312e-10 3.22683977e-02 2.10785192e-03 5.50692816e-02\n",
      " 1.75654312e-10 5.79306116e-01 5.76946472e-02 2.96637369e-02\n",
      " 2.30007743e-01 1.38822260e-02]\n",
      "Q Function:  -1133431.426791057\n",
      "\n",
      "No. clus:  8\n",
      "WARNING:root:Selecting 239 genes required 0.0% dataset threshold.\n"
     ]
    },
    {
     "name": "stderr",
     "output_type": "stream",
     "text": [
      "100%|██████████████████████████████████████████████████████████████████████████████████████| 15/15 [00:13<00:00,  1.13it/s]\n",
      "100%|██████████████████████████████████████████████████████████████████████████████████████| 15/15 [00:17<00:00,  1.17s/it]\n"
     ]
    },
    {
     "name": "stdout",
     "output_type": "stream",
     "text": [
      "mstep self.weights:  [1.14332221e-02 2.85437167e-01 6.91538101e-03 4.02575345e-01\n",
      " 7.94124679e-04 3.52369171e-02 3.51304852e-04 1.49450122e-04\n",
      " 9.71877419e-02 5.75039901e-02 2.74172688e-02 7.13187738e-02\n",
      " 1.59662884e-04 3.28613011e-03 2.33521022e-04]\n",
      "Q Function:  -1237916.9560637702\n",
      "\n"
     ]
    },
    {
     "name": "stderr",
     "output_type": "stream",
     "text": [
      "100%|██████████████████████████████████████████████████████████████████████████████████████| 10/10 [00:11<00:00,  1.13s/it]\n"
     ]
    },
    {
     "name": "stdout",
     "output_type": "stream",
     "text": [
      "mstep self.weights:  [2.23638027e-02 2.66990863e-01 1.75654312e-10 5.75583417e-01\n",
      " 1.75654488e-04 4.69127142e-02 1.75654488e-04 1.75654312e-10\n",
      " 7.90283143e-02 1.56277023e-03 6.84395276e-03 3.62856171e-04\n",
      " 1.75654312e-10 1.75733367e-10 1.75654312e-10]\n",
      "Q Function:  -1179713.5933503222\n",
      "\n"
     ]
    },
    {
     "name": "stderr",
     "output_type": "stream",
     "text": [
      "100%|████████████████████████████████████████████████████████████████████████████████████████| 6/6 [00:10<00:00,  1.77s/it]\n"
     ]
    },
    {
     "name": "stdout",
     "output_type": "stream",
     "text": [
      "mstep self.weights:  [1.68727644e-02 2.46261027e-01 1.75654312e-10 6.05777237e-01\n",
      " 1.75654312e-10 4.90994027e-02 1.75654312e-10 1.75654312e-10\n",
      " 7.77079042e-02 1.75655134e-10 4.28166256e-03 1.75654312e-10\n",
      " 1.75654312e-10 1.75654312e-10 1.75654312e-10]\n",
      "Q Function:  -1097151.7731452289\n",
      "\n"
     ]
    },
    {
     "name": "stderr",
     "output_type": "stream",
     "text": [
      "100%|████████████████████████████████████████████████████████████████████████████████████████| 6/6 [00:10<00:00,  1.77s/it]\n"
     ]
    },
    {
     "name": "stdout",
     "output_type": "stream",
     "text": [
      "mstep self.weights:  [1.85497522e-02 2.34668120e-01 1.75654312e-10 6.17891604e-01\n",
      " 1.75654312e-10 5.20891847e-02 1.75654312e-10 1.75654312e-10\n",
      " 7.49338518e-02 1.75654312e-10 1.86748523e-03 1.75654312e-10\n",
      " 1.75654312e-10 1.75654312e-10 1.75654312e-10]\n",
      "Q Function:  -1128563.5620754394\n",
      "\n"
     ]
    },
    {
     "name": "stderr",
     "output_type": "stream",
     "text": [
      "100%|████████████████████████████████████████████████████████████████████████████████████████| 6/6 [00:10<00:00,  1.77s/it]\n"
     ]
    },
    {
     "name": "stdout",
     "output_type": "stream",
     "text": [
      "mstep self.weights:  [1.58012223e-02 2.45865809e-01 1.75654312e-10 6.11021562e-01\n",
      " 1.75654312e-10 5.41458190e-02 1.75654312e-10 1.75654312e-10\n",
      " 7.29899284e-02 1.75654312e-10 1.75657354e-04 1.75654312e-10\n",
      " 1.75654312e-10 1.75654312e-10 1.75654312e-10]\n",
      "Q Function:  -1095411.5304958571\n",
      "\n"
     ]
    },
    {
     "name": "stderr",
     "output_type": "stream",
     "text": [
      "100%|████████████████████████████████████████████████████████████████████████████████████████| 5/5 [00:10<00:00,  2.08s/it]\n"
     ]
    },
    {
     "name": "stdout",
     "output_type": "stream",
     "text": [
      "mstep self.weights:  [1.70620477e-02 2.40107341e-01 1.75654312e-10 6.15129805e-01\n",
      " 1.75654312e-10 5.30554689e-02 1.75654312e-10 1.75654312e-10\n",
      " 7.46453354e-02 1.75654312e-10 1.75654312e-10 1.75654312e-10\n",
      " 1.75654312e-10 1.75654312e-10 1.75654312e-10]\n",
      "Q Function:  -1106175.801290434\n",
      "\n"
     ]
    },
    {
     "name": "stderr",
     "output_type": "stream",
     "text": [
      "100%|████████████████████████████████████████████████████████████████████████████████████████| 5/5 [00:10<00:00,  2.15s/it]\n"
     ]
    },
    {
     "name": "stdout",
     "output_type": "stream",
     "text": [
      "mstep self.weights:  [1.47239479e-02 2.47290969e-01 1.75654312e-10 6.10497854e-01\n",
      " 1.75654312e-10 5.46384882e-02 1.75654312e-10 1.75654312e-10\n",
      " 7.28487391e-02 1.75654312e-10 1.75654312e-10 1.75654312e-10\n",
      " 1.75654312e-10 1.75654312e-10 1.75654312e-10]\n",
      "Q Function:  -1084186.4741080375\n",
      "\n"
     ]
    },
    {
     "name": "stderr",
     "output_type": "stream",
     "text": [
      "100%|████████████████████████████████████████████████████████████████████████████████████████| 5/5 [00:10<00:00,  2.04s/it]\n"
     ]
    },
    {
     "name": "stdout",
     "output_type": "stream",
     "text": [
      "mstep self.weights:  [1.50889915e-02 2.47162932e-01 1.75654312e-10 6.10117915e-01\n",
      " 1.75654312e-10 5.52557959e-02 1.75654312e-10 1.75654312e-10\n",
      " 7.23743641e-02 1.75654312e-10 1.75654312e-10 1.75654312e-10\n",
      " 1.75654312e-10 1.75654312e-10 1.75654312e-10]\n",
      "Q Function:  -1083189.1903504808\n",
      "\n"
     ]
    },
    {
     "name": "stderr",
     "output_type": "stream",
     "text": [
      "100%|████████████████████████████████████████████████████████████████████████████████████████| 5/5 [00:10<00:00,  2.09s/it]\n"
     ]
    },
    {
     "name": "stdout",
     "output_type": "stream",
     "text": [
      "mstep self.weights:  [1.35494911e-02 2.48709927e-01 1.75654312e-10 6.10208887e-01\n",
      " 1.75654312e-10 5.54384691e-02 1.75654312e-10 1.75654312e-10\n",
      " 7.20932236e-02 1.75654312e-10 1.75654312e-10 1.75654312e-10\n",
      " 1.75654312e-10 1.75654312e-10 1.75654312e-10]\n",
      "Q Function:  -1083978.6516400182\n",
      "\n"
     ]
    },
    {
     "name": "stderr",
     "output_type": "stream",
     "text": [
      "100%|████████████████████████████████████████████████████████████████████████████████████████| 5/5 [00:10<00:00,  2.03s/it]\n"
     ]
    },
    {
     "name": "stdout",
     "output_type": "stream",
     "text": [
      "mstep self.weights:  [1.74591222e-02 2.44799730e-01 1.75654312e-10 6.10216106e-01\n",
      " 1.75654312e-10 5.56305731e-02 1.75654312e-10 1.75654312e-10\n",
      " 7.18944665e-02 1.75654312e-10 1.75654312e-10 1.75654312e-10\n",
      " 1.75654312e-10 1.75654312e-10 1.75654312e-10]\n",
      "Q Function:  -1082193.6490742634\n",
      "\n",
      "No. clus:  5\n",
      "WARNING:root:Selecting 239 genes required 0.0% dataset threshold.\n"
     ]
    },
    {
     "name": "stderr",
     "output_type": "stream",
     "text": [
      "100%|██████████████████████████████████████████████████████████████████████████████████████| 20/20 [00:12<00:00,  1.64it/s]\n",
      "100%|██████████████████████████████████████████████████████████████████████████████████████| 14/14 [00:11<00:00,  1.25it/s]\n"
     ]
    },
    {
     "name": "stdout",
     "output_type": "stream",
     "text": [
      "mstep self.weights:  [1.43615495e-06 3.50207766e-02 1.81189152e-04 3.36451138e-04\n",
      " 5.37581373e-02 1.75820597e-04 7.53603730e-01 1.89179253e-10\n",
      " 1.01319354e-01 4.01218008e-04 1.83770377e-06 2.53530596e-03\n",
      " 1.48765536e-03 3.26597009e-02 3.34669404e-05 6.33309849e-06\n",
      " 5.45813740e-03 5.01381461e-03 8.00271695e-03 2.91763664e-06]\n",
      "Q Function:  -1224678.3023931282\n",
      "\n"
     ]
    },
    {
     "name": "stderr",
     "output_type": "stream",
     "text": [
      "100%|██████████████████████████████████████████████████████████████████████████████████████| 12/12 [00:10<00:00,  1.10it/s]\n"
     ]
    },
    {
     "name": "stdout",
     "output_type": "stream",
     "text": [
      "mstep self.weights:  [1.88808671e-06 3.26003472e-02 1.75654312e-10 1.75654312e-10\n",
      " 2.34582974e-02 1.75654312e-10 8.26988835e-01 1.75911644e-10\n",
      " 3.37498725e-02 1.75654312e-10 1.71785963e-04 2.04653338e-08\n",
      " 8.78274638e-04 6.50751471e-02 4.89836682e-04 4.87604391e-06\n",
      " 2.28213405e-03 1.75654184e-03 1.21443092e-02 3.97832806e-04]\n",
      "Q Function:  -1190192.8390566187\n",
      "\n"
     ]
    },
    {
     "name": "stderr",
     "output_type": "stream",
     "text": [
      "100%|██████████████████████████████████████████████████████████████████████████████████████| 11/11 [00:10<00:00,  1.09it/s]\n"
     ]
    },
    {
     "name": "stdout",
     "output_type": "stream",
     "text": [
      "mstep self.weights:  [2.78285957e-05 3.13846581e-02 1.75654312e-10 1.75654312e-10\n",
      " 2.92881714e-02 1.75654312e-10 8.33293842e-01 1.76032887e-10\n",
      " 1.59083427e-02 1.75654312e-10 1.75654312e-10 1.76370358e-10\n",
      " 3.54080835e-04 6.55702685e-02 1.75654312e-10 8.12143710e-04\n",
      " 4.00196773e-03 1.75653110e-03 1.74274295e-02 1.74734245e-04]\n",
      "Q Function:  -1155839.812048054\n",
      "\n"
     ]
    },
    {
     "name": "stderr",
     "output_type": "stream",
     "text": [
      "100%|████████████████████████████████████████████████████████████████████████████████████████| 9/9 [00:10<00:00,  1.14s/it]\n"
     ]
    },
    {
     "name": "stdout",
     "output_type": "stream",
     "text": [
      "mstep self.weights:  [7.67207336e-04 2.80022949e-02 1.75654312e-10 1.75654312e-10\n",
      " 2.91392000e-02 1.75654312e-10 8.40438418e-01 7.06702325e-09\n",
      " 1.41532709e-02 1.75654312e-10 1.75654312e-10 1.75654312e-10\n",
      " 1.81781882e-10 6.23331161e-02 1.75654312e-10 1.75656508e-10\n",
      " 7.40794204e-03 1.93214553e-03 1.58263965e-02 1.75654312e-10]\n",
      "Q Function:  -1092506.011672021\n",
      "\n"
     ]
    },
    {
     "name": "stderr",
     "output_type": "stream",
     "text": [
      "100%|██████████████████████████████████████████████████████████████████████████████████████| 10/10 [00:10<00:00,  1.02s/it]\n"
     ]
    },
    {
     "name": "stdout",
     "output_type": "stream",
     "text": [
      "mstep self.weights:  [3.18722662e-04 2.63730321e-02 1.75654312e-10 1.75654312e-10\n",
      " 2.74409149e-02 1.75654312e-10 8.44497766e-01 2.03843197e-04\n",
      " 1.29673129e-02 1.75654312e-10 1.75654312e-10 1.09827615e-06\n",
      " 1.75654312e-10 5.52654822e-02 1.75654312e-10 1.75654312e-10\n",
      " 1.44743194e-02 1.93219759e-03 1.65253093e-02 1.75654312e-10]\n",
      "Q Function:  -1163394.595169723\n",
      "\n"
     ]
    },
    {
     "name": "stderr",
     "output_type": "stream",
     "text": [
      "100%|████████████████████████████████████████████████████████████████████████████████████████| 8/8 [00:10<00:00,  1.25s/it]\n"
     ]
    },
    {
     "name": "stdout",
     "output_type": "stream",
     "text": [
      "mstep self.weights:  [1.75654312e-10 2.06253661e-02 1.75654312e-10 1.75654312e-10\n",
      " 2.91189076e-02 1.75654312e-10 8.50963213e-01 1.75654312e-10\n",
      " 1.15584175e-02 1.75654312e-10 1.75654312e-10 1.87974732e-10\n",
      " 1.75654312e-10 5.36440494e-02 1.75654312e-10 1.75654312e-10\n",
      " 1.64409693e-02 2.10717953e-03 1.55418955e-02 1.75654312e-10]\n",
      "Q Function:  -1102118.5710938273\n",
      "\n"
     ]
    },
    {
     "name": "stderr",
     "output_type": "stream",
     "text": [
      "100%|████████████████████████████████████████████████████████████████████████████████████████| 8/8 [00:10<00:00,  1.27s/it]\n"
     ]
    },
    {
     "name": "stdout",
     "output_type": "stream",
     "text": [
      "mstep self.weights:  [1.75654312e-10 2.09168709e-02 1.75654312e-10 1.75654312e-10\n",
      " 2.66557811e-02 1.75654312e-10 8.50915790e-01 1.75654312e-10\n",
      " 1.36863685e-02 1.75654312e-10 1.75654312e-10 1.75654312e-10\n",
      " 1.75654312e-10 5.38464262e-02 1.75654312e-10 1.75654312e-10\n",
      " 1.62396446e-02 2.27337069e-03 1.54657455e-02 1.75654312e-10]\n",
      "Q Function:  -1096056.9309551835\n",
      "\n"
     ]
    },
    {
     "name": "stderr",
     "output_type": "stream",
     "text": [
      "100%|████████████████████████████████████████████████████████████████████████████████████████| 8/8 [00:10<00:00,  1.27s/it]\n"
     ]
    },
    {
     "name": "stdout",
     "output_type": "stream",
     "text": [
      "mstep self.weights:  [1.75654312e-10 2.01714180e-02 1.75654312e-10 1.75654312e-10\n",
      " 2.41333389e-02 1.75654312e-10 8.51930866e-01 1.75654312e-10\n",
      " 1.58319986e-02 1.75654312e-10 1.75654312e-10 1.75654312e-10\n",
      " 1.75654312e-10 5.42354020e-02 1.75654312e-10 1.75654312e-10\n",
      " 1.58506694e-02 2.12483368e-03 1.57214714e-02 1.75654312e-10]\n",
      "Q Function:  -1096201.4360908377\n",
      "\n"
     ]
    },
    {
     "name": "stderr",
     "output_type": "stream",
     "text": [
      "100%|████████████████████████████████████████████████████████████████████████████████████████| 8/8 [00:10<00:00,  1.36s/it]\n"
     ]
    },
    {
     "name": "stdout",
     "output_type": "stream",
     "text": [
      "mstep self.weights:  [1.75654312e-10 1.65039817e-02 1.75654312e-10 1.75654312e-10\n",
      " 2.13705159e-02 1.75654312e-10 8.55715902e-01 1.75654312e-10\n",
      " 1.63432689e-02 1.75654312e-10 1.75654312e-10 1.75654312e-10\n",
      " 1.75654312e-10 5.33865400e-02 1.75654312e-10 1.75654312e-10\n",
      " 1.66996493e-02 2.10150087e-03 1.78786388e-02 1.75654312e-10]\n",
      "Q Function:  -1099695.9985633735\n",
      "\n"
     ]
    },
    {
     "name": "stderr",
     "output_type": "stream",
     "text": [
      "100%|████████████████████████████████████████████████████████████████████████████████████████| 8/8 [00:10<00:00,  1.28s/it]\n"
     ]
    },
    {
     "name": "stdout",
     "output_type": "stream",
     "text": [
      "mstep self.weights:  [1.75654312e-10 2.17762527e-02 1.75654312e-10 1.75654312e-10\n",
      " 2.19066792e-02 1.75654312e-10 8.50348311e-01 1.75654312e-10\n",
      " 1.55906579e-02 1.75654312e-10 1.75654312e-10 1.75654312e-10\n",
      " 1.75654312e-10 5.39058998e-02 1.75654312e-10 1.75654312e-10\n",
      " 1.61801710e-02 2.10744433e-03 1.81845823e-02 1.75654312e-10]\n",
      "Q Function:  -1096936.2207330945\n",
      "\n",
      "No. clus:  8\n",
      "cl5 with 1999 HVGs\n",
      "WARNING:root:Selecting 1939 genes required 0.0% dataset threshold.\n"
     ]
    },
    {
     "name": "stderr",
     "output_type": "stream",
     "text": [
      "100%|███████████████████████████████████████████████████████████████████████████████████████| 2/2 [05:23<00:00, 161.69s/it]\n",
      "100%|███████████████████████████████████████████████████████████████████████████████████████| 2/2 [05:38<00:00, 169.50s/it]\n"
     ]
    },
    {
     "name": "stdout",
     "output_type": "stream",
     "text": [
      "mstep self.weights:  [0.84860063 0.15139937]\n",
      "Q Function:  -5128509.070303669\n",
      "\n"
     ]
    },
    {
     "name": "stderr",
     "output_type": "stream",
     "text": [
      "100%|███████████████████████████████████████████████████████████████████████████████████████| 1/1 [04:40<00:00, 280.60s/it]\n"
     ]
    },
    {
     "name": "stdout",
     "output_type": "stream",
     "text": [
      "mstep self.weights:  [1.00000000e+00 2.02142713e-10]\n",
      "Q Function:  -5151588.072666363\n",
      "\n"
     ]
    },
    {
     "name": "stderr",
     "output_type": "stream",
     "text": [
      "100%|███████████████████████████████████████████████████████████████████████████████████████| 1/1 [04:44<00:00, 284.09s/it]\n"
     ]
    },
    {
     "name": "stdout",
     "output_type": "stream",
     "text": [
      "mstep self.weights:  [1.00000000e+00 2.02142713e-10]\n",
      "Q Function:  -5103427.4975165585\n",
      "\n"
     ]
    },
    {
     "name": "stderr",
     "output_type": "stream",
     "text": [
      "100%|███████████████████████████████████████████████████████████████████████████████████████| 1/1 [04:47<00:00, 287.37s/it]\n"
     ]
    },
    {
     "name": "stdout",
     "output_type": "stream",
     "text": [
      "mstep self.weights:  [1.00000000e+00 2.02142713e-10]\n",
      "Q Function:  -5103427.4975165585\n",
      "\n"
     ]
    },
    {
     "name": "stderr",
     "output_type": "stream",
     "text": [
      "100%|███████████████████████████████████████████████████████████████████████████████████████| 1/1 [04:29<00:00, 269.10s/it]\n"
     ]
    },
    {
     "name": "stdout",
     "output_type": "stream",
     "text": [
      "mstep self.weights:  [1.00000000e+00 2.02142713e-10]\n",
      "Q Function:  -5103427.4975165585\n",
      "\n"
     ]
    },
    {
     "name": "stderr",
     "output_type": "stream",
     "text": [
      "\r",
      "  0%|                                                                                                | 0/1 [00:00<?, ?it/s]"
     ]
    }
   ],
   "source": [
    "#For each loom in looms from ./hvg_objs\n",
    "\n",
    "!mkdir /home/tchari/perturbCME/notebooks/fits/meKruns_0209\n",
    "\n",
    "dir_strings = []\n",
    "data_strings = []\n",
    "result_strings = []\n",
    "\n",
    "#Save method, clustering, mat_in (U,S, etc), hyper (K or res), hvgs, data, ARI, AMI\n",
    "meK_res = pd.DataFrame()\n",
    "meths = []\n",
    "result = []\n",
    "mats = []\n",
    "hyper = []\n",
    "hvgs = []\n",
    "data = []\n",
    "ari = []\n",
    "ami = []\n",
    "\n",
    "for d in d_strings:\n",
    "    \n",
    "    #Get tech param by keyword (datas) in loom paths\n",
    "    ind = [i in d for i in datas]\n",
    "    \n",
    "    #Inference params for sampling\n",
    "    tech_tup = [list(samps.Cu[ind])[0],list(samps.Lam[ind])[0]]\n",
    "    \n",
    "    #Preprocessing params for filepaths\n",
    "    trans = list(samps.Transcrip[ind])[0]\n",
    "    k = list(samps.Clusters[ind])[0]\n",
    "    data_name = list(samps.Dataset[ind])[0]\n",
    "    \n",
    "    \n",
    "    ds = lp.connect(d)\n",
    "    num_genes = len(ds.ra[attribute_names[1]])\n",
    "    num_cells = len(ds.ca[attribute_names[2]])\n",
    "    true_labs = list(ds.ca['subclass_label'])\n",
    "    ds.close()\n",
    "    print(data_name+' with '+str(num_genes)+' HVGs')\n",
    "    \n",
    "    Ks = [2,k,k+5,k+10]\n",
    "\n",
    "    for clus in Ks:\n",
    "        #Run Monod preprocessing to set up files for run, leave room for genes to be removed with low U/S\n",
    "        dir_string,dataset_string = monod.preprocess.construct_batch([d], \\\n",
    "                                                     trans, \\\n",
    "                                                     [data_name], \\\n",
    "                                                     attribute_names=attribute_names,\\\n",
    "                                                     batch_location='./fits/meKruns_0209', \\\n",
    "                                                     meta=data_name+'_K'+str(clus), \\\n",
    "                                                     batch_id=1, \\\n",
    "                                                     n_genes=num_genes-60,exp_filter_threshold=None,viz=False)\n",
    "        dir_strings += [dir_string]\n",
    "        data_strings += [dataset_string]\n",
    "\n",
    "        #Set model and run meK-Means\n",
    "        \n",
    "        #Define bounds for params\n",
    "        phys_lb = [-2.0, -1.8, -1.8 ] \n",
    "        phys_ub = [4.2, 2.5, 2.5] \n",
    "        samp_lb = tech_tup \n",
    "        samp_ub = tech_tup  \n",
    "        gridsize = [1,1] #Already have tech params\n",
    "    \n",
    "\n",
    "        epochs = 10\n",
    "\n",
    "        # ---------------- meK-Means Inference ---------------- \n",
    "        #Define model with bursty transcription and Poisson molecule capture/sampling\n",
    "        fitmodel = monod.cme_toolbox.CMEModel('Bursty','Poisson')\n",
    "\n",
    "        #Set up mminference parameters\n",
    "        inference_parameters = monod.mminference.InferenceParameters(phys_lb,phys_ub,samp_lb,samp_ub,gridsize,\\\n",
    "                    dataset_string[0],fitmodel,k=clus,epochs=epochs,use_lengths = True,\n",
    "                    gradient_params = {'max_iterations':5,'init_pattern':'moments','num_restarts':1})\n",
    "\n",
    "        #Read in loom file with filtered barcodes\n",
    "        search_data = monod.extract_data.extract_data(d, trans, data_name,\n",
    "                    dataset_string[0], dir_string, viz=False, dataset_attr_names=attribute_names)\n",
    "\n",
    "        #Run inference(fit_all_grid_points()) and Save result file strings\n",
    "        full_result_string = inference_parameters.fit_all_grid_points(40,search_data) \n",
    "\n",
    "        result_strings.append(full_result_string)\n",
    "        \n",
    "\n",
    "        # ----------------  Save output ---------------- \n",
    "        #Read in results and get cluster assignments\n",
    "        sr = [monod.analysis.load_search_results(i) for i in full_result_string]\n",
    "        \n",
    "        \n",
    "        cat_assigns = np.array([None]*num_cells) #cat_assigns is empty list of length = no. cell barcodes\n",
    "        for i in range(len(sr)):\n",
    "            r = sr[i]\n",
    "            cat_assigns[r.filt] = r.assigns #denotes which cluster (k), cells were assigned to\n",
    "\n",
    "        print('No. clus: ',len(np.unique(cat_assigns)))\n",
    "        \n",
    "\n",
    "        meths += ['meK-Means']\n",
    "        result += [cat_assigns]\n",
    "        mats += ['U,S']\n",
    "        hyper += [clus]\n",
    "        hvgs += [num_genes]\n",
    "        data += [data_name]\n",
    "        ari += [adjusted_rand_score(true_labs,cat_assigns)]\n",
    "        ami += [adjusted_mutual_info_score(true_labs,cat_assigns)]\n",
    "\n",
    "\n",
    "meK_res['Method'] = meths\n",
    "meK_res['Clustering'] = result\n",
    "meK_res['Matrices'] = mats\n",
    "meK_res['Hyperparam'] = hyper\n",
    "meK_res['HVGs'] = hvgs\n",
    "meK_res['Data'] = data\n",
    "meK_res['ARI'] = ari\n",
    "meK_res['AMI'] = ami\n",
    "    "
   ]
  },
  {
   "cell_type": "code",
   "execution_count": null,
   "id": "a1d993ee",
   "metadata": {},
   "outputs": [],
   "source": [
    "#Save method, clustering, mat_in (U,S, etc), hyper (K or res), hvgs, data, ARI, NMI\n",
    "meK_res.to_csv('./fits/meKruns_0209/meK_bench_results.csv',index=None)\n",
    "meK_res.head()\n"
   ]
  },
  {
   "cell_type": "code",
   "execution_count": 96,
   "id": "b6aa948c",
   "metadata": {},
   "outputs": [
    {
     "data": {
      "text/plain": [
       "['./fits/meKruns_0209/gg_240209_025_allen_b08_K2_1/allen_b08']"
      ]
     },
     "execution_count": 96,
     "metadata": {},
     "output_type": "execute_result"
    }
   ],
   "source": [
    "# dataset_string"
   ]
  },
  {
   "cell_type": "code",
   "execution_count": 99,
   "id": "dc07e670",
   "metadata": {},
   "outputs": [],
   "source": [
    "# !rm -r ./fits/meKruns_0209"
   ]
  },
  {
   "cell_type": "code",
   "execution_count": null,
   "id": "5270af61",
   "metadata": {},
   "outputs": [],
   "source": []
  },
  {
   "cell_type": "markdown",
   "id": "43f3f9db",
   "metadata": {},
   "source": [
    "### **Leiden & K-Means**\n"
   ]
  },
  {
   "cell_type": "code",
   "execution_count": 90,
   "id": "6d733b27",
   "metadata": {},
   "outputs": [],
   "source": [
    "#Perform standard normalization (read-depth + log1p)\n",
    "def norm_mat(mat,new_tot=1e4):\n",
    "    '''\n",
    "    mat: cell x gene matrix\n",
    "    '''  \n",
    "    tots = np.sum(mat,axis=1)\n",
    "    divids = (new_tot/tots)[:,None]\n",
    "    mat_norm = mat*divids\n",
    "    mat_norm = np.log1p(mat_norm)\n",
    "    \n",
    "    mat_norm[np.isnan(mat_norm)] = 0\n",
    "    \n",
    "    return mat_norm"
   ]
  },
  {
   "cell_type": "code",
   "execution_count": 77,
   "id": "a3f86bf8",
   "metadata": {},
   "outputs": [],
   "source": [
    "def get_graph(mat,neigh=30):\n",
    "    A = kneighbors_graph(mat, neigh, mode='connectivity', include_self=True)\n",
    "    sources, targets = A.nonzero()\n",
    "    weights = A[sources, targets]\n",
    "    if isinstance(weights, np.matrix):\n",
    "        weights = weights.A1\n",
    "    g = ig.Graph(directed=False) #True in scanpy, which is odd\n",
    "    g.add_vertices(A.shape[0])  # this adds adjacency.shape[0] vertices\n",
    "    g.add_edges(list(zip(sources, targets)))\n",
    "\n",
    "    g.es['weight'] = weights\n",
    "    \n",
    "    return g"
   ]
  },
  {
   "cell_type": "code",
   "execution_count": 91,
   "id": "2cf758b1",
   "metadata": {},
   "outputs": [],
   "source": [
    "# ! rm -r /home/tchari/perturbCME/notebooks/fits/LeidKMeansruns_0209"
   ]
  },
  {
   "cell_type": "code",
   "execution_count": null,
   "id": "4c7f9ade",
   "metadata": {
    "scrolled": true
   },
   "outputs": [],
   "source": [
    "#Make the U,S, U+S, Concat matrices, res 0.75,1,1.5,2\n",
    "\n",
    "!mkdir /home/tchari/perturbCME/notebooks/fits/LeidKMeansruns_0209\n",
    "\n",
    "\n",
    "#Save method, clustering, mat_in (U,S, etc), hyper (K or res), hvgs, data, ARI, AMI\n",
    "LK_res = pd.DataFrame()\n",
    "meths = []\n",
    "result = []\n",
    "mats = []\n",
    "hyper = []\n",
    "hvgs = []\n",
    "data = []\n",
    "ari = []\n",
    "ami = []\n",
    "\n",
    "for d in d_strings:\n",
    "    \n",
    "    #Get tech param by keyword (datas) in loom paths\n",
    "    ind = [i in d for i in datas]\n",
    "    \n",
    "    k = list(samps.Clusters[ind])[0]\n",
    "    data_name = list(samps.Dataset[ind])[0]\n",
    "    \n",
    "    \n",
    "    ds = lp.connect(d)\n",
    "    num_genes = len(ds.ra[attribute_names[1]])\n",
    "    num_cells = len(ds.ca[attribute_names[2]])\n",
    "    U = ds.layers[attribute_names[0][0]][:,:].T\n",
    "    S = ds.layers[attribute_names[0][1]][:,:].T\n",
    "    true_labs = list(ds.ca['subclass_label'])\n",
    "    ds.close()\n",
    "    print(data_name+' with '+str(num_genes)+' HVGs')\n",
    "    \n",
    "    res = [0.75,1,1.5,2]\n",
    "    \n",
    "    #Get U,S,U_p_S,U_c_S\n",
    "        \n",
    "    #Norm mats\n",
    "    U_norm = norm_mat(U)\n",
    "    S_norm = norm_mat(S)\n",
    "    U_p_S_norm = norm_mat(U+S)\n",
    "    U_c_S_norm = norm_mat(np.concatenate([U,S],axis=1))\n",
    "    \n",
    "    g_U = get_graph(U_norm)\n",
    "    g_S = get_graph(S_norm)\n",
    "    g_U_p_S = get_graph(U_p_S_norm)\n",
    "    g_U_c_S = get_graph(U_c_S_norm)\n",
    "    \n",
    "    # -------- Fit Leiden -------\n",
    "    for r in res:\n",
    "        \n",
    "        partition_type = la.RBConfigurationVertexPartition\n",
    "        #Make Knn graphs\n",
    "        for g in [g_U,g_S,g_U_p_S,g_U_c_S]:\n",
    "            part = la.find_partition(g, partition_type, \n",
    "                                        weights=np.array(g.es['weight']).astype(np.float64), \n",
    "                                        n_iterations=-1, resolution_parameter=r)\n",
    "\n",
    "            labels = np.array(part.membership)\n",
    "            \n",
    "            # ----- Save Results ---- ARI,AMI etc\n",
    "            meths += ['Leiden']\n",
    "            result += [labels]\n",
    "            hyper += [r]\n",
    "            hvgs += [num_genes]\n",
    "            data += [data_name]\n",
    "            ari += [adjusted_rand_score(true_labs,labels)]\n",
    "            ami += [adjusted_mutual_info_score(true_labs,labels)]\n",
    "            \n",
    "#             print('No. clus Leiden: ',len(np.unique(labels)))\n",
    "            \n",
    "        mats += ['U','S','U+S','UcatS']\n",
    "        \n",
    "        \n",
    "        \n",
    "    # -------- Fit K-Means with k -------\n",
    "    \n",
    "    for x in [U_norm,S_norm,U_p_S_norm,U_c_S_norm]:\n",
    "        kmeans = KMeans(n_clusters=k, random_state=0).fit(x)\n",
    "        labs = kmeans.labels_\n",
    "        \n",
    "        meths += ['K-Means']\n",
    "        result += [labs]\n",
    "        hyper += [k]\n",
    "        hvgs += [num_genes]\n",
    "        data += [data_name]\n",
    "        ari += [adjusted_rand_score(true_labs,labs)]\n",
    "        ami += [adjusted_mutual_info_score(true_labs,labs)]\n",
    "        \n",
    "#         print('No. clus K-Means: ',len(np.unique(labs)))\n",
    "        \n",
    "    mats += ['U','S','U+S','UcatS']\n",
    "\n",
    "    \n",
    "LK_res['Method'] = meths\n",
    "LK_res['Clustering'] = result\n",
    "LK_res['Matrices'] = mats\n",
    "LK_res['Hyperparam'] = hyper\n",
    "LK_res['HVGs'] = hvgs\n",
    "LK_res['Data'] = data\n",
    "LK_res['ARI'] = ari\n",
    "LK_res['AMI'] = ami"
   ]
  },
  {
   "cell_type": "code",
   "execution_count": 93,
   "id": "b31864ed",
   "metadata": {},
   "outputs": [
    {
     "data": {
      "text/html": [
       "<div>\n",
       "<style scoped>\n",
       "    .dataframe tbody tr th:only-of-type {\n",
       "        vertical-align: middle;\n",
       "    }\n",
       "\n",
       "    .dataframe tbody tr th {\n",
       "        vertical-align: top;\n",
       "    }\n",
       "\n",
       "    .dataframe thead th {\n",
       "        text-align: right;\n",
       "    }\n",
       "</style>\n",
       "<table border=\"1\" class=\"dataframe\">\n",
       "  <thead>\n",
       "    <tr style=\"text-align: right;\">\n",
       "      <th></th>\n",
       "      <th>Method</th>\n",
       "      <th>Clustering</th>\n",
       "      <th>Matrices</th>\n",
       "      <th>Hyperparam</th>\n",
       "      <th>HVGs</th>\n",
       "      <th>Data</th>\n",
       "      <th>ARI</th>\n",
       "      <th>AMI</th>\n",
       "    </tr>\n",
       "  </thead>\n",
       "  <tbody>\n",
       "    <tr>\n",
       "      <th>0</th>\n",
       "      <td>Leiden</td>\n",
       "      <td>[1, 3, 5, 1, 0, 7, 2, 8, 3, 1, 0, 2, 1, 3, 3, ...</td>\n",
       "      <td>U</td>\n",
       "      <td>0.75</td>\n",
       "      <td>299</td>\n",
       "      <td>allen_b08</td>\n",
       "      <td>0.701710</td>\n",
       "      <td>0.832537</td>\n",
       "    </tr>\n",
       "    <tr>\n",
       "      <th>1</th>\n",
       "      <td>Leiden</td>\n",
       "      <td>[1, 2, 6, 1, 0, 8, 3, 9, 2, 10, 0, 3, 1, 2, 2,...</td>\n",
       "      <td>S</td>\n",
       "      <td>0.75</td>\n",
       "      <td>299</td>\n",
       "      <td>allen_b08</td>\n",
       "      <td>0.675147</td>\n",
       "      <td>0.849593</td>\n",
       "    </tr>\n",
       "    <tr>\n",
       "      <th>2</th>\n",
       "      <td>Leiden</td>\n",
       "      <td>[1, 2, 6, 1, 0, 8, 3, 9, 2, 10, 0, 3, 1, 2, 2,...</td>\n",
       "      <td>U+S</td>\n",
       "      <td>0.75</td>\n",
       "      <td>299</td>\n",
       "      <td>allen_b08</td>\n",
       "      <td>0.662079</td>\n",
       "      <td>0.836243</td>\n",
       "    </tr>\n",
       "    <tr>\n",
       "      <th>3</th>\n",
       "      <td>Leiden</td>\n",
       "      <td>[4, 1, 7, 4, 0, 9, 3, 10, 1, 2, 0, 3, 2, 1, 1,...</td>\n",
       "      <td>UcatS</td>\n",
       "      <td>0.75</td>\n",
       "      <td>299</td>\n",
       "      <td>allen_b08</td>\n",
       "      <td>0.570947</td>\n",
       "      <td>0.802221</td>\n",
       "    </tr>\n",
       "    <tr>\n",
       "      <th>4</th>\n",
       "      <td>Leiden</td>\n",
       "      <td>[4, 2, 5, 4, 0, 8, 1, 9, 2, 3, 0, 1, 3, 2, 2, ...</td>\n",
       "      <td>U</td>\n",
       "      <td>1.00</td>\n",
       "      <td>299</td>\n",
       "      <td>allen_b08</td>\n",
       "      <td>0.617054</td>\n",
       "      <td>0.799360</td>\n",
       "    </tr>\n",
       "  </tbody>\n",
       "</table>\n",
       "</div>"
      ],
      "text/plain": [
       "   Method                                         Clustering Matrices  \\\n",
       "0  Leiden  [1, 3, 5, 1, 0, 7, 2, 8, 3, 1, 0, 2, 1, 3, 3, ...        U   \n",
       "1  Leiden  [1, 2, 6, 1, 0, 8, 3, 9, 2, 10, 0, 3, 1, 2, 2,...        S   \n",
       "2  Leiden  [1, 2, 6, 1, 0, 8, 3, 9, 2, 10, 0, 3, 1, 2, 2,...      U+S   \n",
       "3  Leiden  [4, 1, 7, 4, 0, 9, 3, 10, 1, 2, 0, 3, 2, 1, 1,...    UcatS   \n",
       "4  Leiden  [4, 2, 5, 4, 0, 8, 1, 9, 2, 3, 0, 1, 3, 2, 2, ...        U   \n",
       "\n",
       "   Hyperparam  HVGs       Data       ARI       AMI  \n",
       "0        0.75   299  allen_b08  0.701710  0.832537  \n",
       "1        0.75   299  allen_b08  0.675147  0.849593  \n",
       "2        0.75   299  allen_b08  0.662079  0.836243  \n",
       "3        0.75   299  allen_b08  0.570947  0.802221  \n",
       "4        1.00   299  allen_b08  0.617054  0.799360  "
      ]
     },
     "execution_count": 93,
     "metadata": {},
     "output_type": "execute_result"
    }
   ],
   "source": [
    "#Save method, clustering, mat_in (U,S, etc), hyper (K or res), hvgs, data, ARI, NMI\n",
    "LK_res.to_csv('./fits/LeidKMeansruns_0209/LeidKMeans_bench_results.csv',index=None)\n",
    "LK_res.head()\n",
    "\n"
   ]
  },
  {
   "cell_type": "code",
   "execution_count": null,
   "id": "dff262da",
   "metadata": {},
   "outputs": [],
   "source": []
  },
  {
   "cell_type": "code",
   "execution_count": null,
   "id": "7c0a54d3",
   "metadata": {},
   "outputs": [],
   "source": []
  },
  {
   "cell_type": "code",
   "execution_count": 84,
   "id": "a0ac0173",
   "metadata": {},
   "outputs": [],
   "source": []
  },
  {
   "cell_type": "code",
   "execution_count": null,
   "id": "256b821a",
   "metadata": {},
   "outputs": [],
   "source": []
  },
  {
   "cell_type": "code",
   "execution_count": null,
   "id": "88f02d17",
   "metadata": {},
   "outputs": [],
   "source": [
    "\n"
   ]
  },
  {
   "cell_type": "code",
   "execution_count": null,
   "id": "c097fede",
   "metadata": {},
   "outputs": [],
   "source": []
  },
  {
   "cell_type": "code",
   "execution_count": null,
   "id": "4aab8cb7",
   "metadata": {},
   "outputs": [],
   "source": []
  },
  {
   "cell_type": "code",
   "execution_count": null,
   "id": "048c4e7b",
   "metadata": {},
   "outputs": [],
   "source": []
  }
 ],
 "metadata": {
  "kernelspec": {
   "display_name": "Python 3 (ipykernel)",
   "language": "python",
   "name": "python3"
  },
  "language_info": {
   "codemirror_mode": {
    "name": "ipython",
    "version": 3
   },
   "file_extension": ".py",
   "mimetype": "text/x-python",
   "name": "python",
   "nbconvert_exporter": "python",
   "pygments_lexer": "ipython3",
   "version": "3.7.11"
  }
 },
 "nbformat": 4,
 "nbformat_minor": 5
}
