{
 "cells": [
  {
   "cell_type": "code",
   "execution_count": 226,
   "id": "1e47a23f",
   "metadata": {},
   "outputs": [],
   "source": [
    "import h5py\n",
    "import scanpy as sc\n",
    "import anndata\n",
    "import loompy as lp\n",
    "\n",
    "import numpy as np\n",
    "import pandas as pd\n",
    "import matplotlib.pyplot as plt\n",
    "\n",
    "import sys\n",
    "import glob\n",
    "import importlib"
   ]
  },
  {
   "cell_type": "code",
   "execution_count": 227,
   "id": "344936d6",
   "metadata": {},
   "outputs": [],
   "source": [
    "import sys\n",
    "sys.path.insert(0, '/home/tchari/monod/src/')"
   ]
  },
  {
   "cell_type": "code",
   "execution_count": 228,
   "id": "68593686",
   "metadata": {},
   "outputs": [],
   "source": [
    "import monod\n",
    "importlib.reload(monod)\n",
    "from monod import preprocess, extract_data, cme_toolbox, analysis, mminference"
   ]
  },
  {
   "cell_type": "code",
   "execution_count": 229,
   "id": "1b273e73",
   "metadata": {},
   "outputs": [],
   "source": [
    "from sklearn.metrics import adjusted_rand_score, adjusted_mutual_info_score\n",
    "from sklearn.cluster import KMeans\n",
    "from sklearn.neighbors import kneighbors_graph\n",
    "\n",
    "import igraph as ig\n",
    "import leidenalg as la"
   ]
  },
  {
   "cell_type": "code",
   "execution_count": 230,
   "id": "2dc9e93f",
   "metadata": {},
   "outputs": [],
   "source": [
    "#Perform standard normalization (read-depth + log1p)\n",
    "def norm_mat(mat,new_tot=1e4):\n",
    "    '''\n",
    "    mat: cell x gene matrix\n",
    "    '''  \n",
    "    tots = np.sum(mat,axis=1)\n",
    "    divids = (new_tot/tots)[:,None]\n",
    "    mat_norm = mat*divids\n",
    "    mat_norm = np.log1p(mat_norm)\n",
    "    \n",
    "    mat_norm[np.isnan(mat_norm)] = 0\n",
    "    \n",
    "    return mat_norm"
   ]
  },
  {
   "cell_type": "code",
   "execution_count": 231,
   "id": "f91e237d",
   "metadata": {},
   "outputs": [],
   "source": [
    "def get_graph(mat,neigh=30):\n",
    "    A = kneighbors_graph(mat, neigh, mode='connectivity', include_self=True)\n",
    "    sources, targets = A.nonzero()\n",
    "    weights = A[sources, targets]\n",
    "    if isinstance(weights, np.matrix):\n",
    "        weights = weights.A1\n",
    "    g = ig.Graph(directed=False) #True in scanpy, which is odd\n",
    "    g.add_vertices(A.shape[0])  # this adds adjacency.shape[0] vertices\n",
    "    g.add_edges(list(zip(sources, targets)))\n",
    "\n",
    "    g.es['weight'] = weights\n",
    "    \n",
    "    return g"
   ]
  },
  {
   "cell_type": "code",
   "execution_count": null,
   "id": "4ee2c4ac",
   "metadata": {},
   "outputs": [],
   "source": []
  },
  {
   "cell_type": "code",
   "execution_count": 5,
   "id": "45f51788",
   "metadata": {},
   "outputs": [
    {
     "data": {
      "text/html": [
       "<div>\n",
       "<style scoped>\n",
       "    .dataframe tbody tr th:only-of-type {\n",
       "        vertical-align: middle;\n",
       "    }\n",
       "\n",
       "    .dataframe tbody tr th {\n",
       "        vertical-align: top;\n",
       "    }\n",
       "\n",
       "    .dataframe thead th {\n",
       "        text-align: right;\n",
       "    }\n",
       "</style>\n",
       "<table border=\"1\" class=\"dataframe\">\n",
       "  <thead>\n",
       "    <tr style=\"text-align: right;\">\n",
       "      <th></th>\n",
       "      <th>Dataset</th>\n",
       "      <th>Transcrip</th>\n",
       "      <th>Clusters</th>\n",
       "      <th>Cu</th>\n",
       "      <th>Lam</th>\n",
       "    </tr>\n",
       "  </thead>\n",
       "  <tbody>\n",
       "    <tr>\n",
       "      <th>0</th>\n",
       "      <td>allen_b08</td>\n",
       "      <td>/home/tchari/perturbCME/notebooks/gg_200524_mo...</td>\n",
       "      <td>10</td>\n",
       "      <td>-6.777778</td>\n",
       "      <td>-1.25</td>\n",
       "    </tr>\n",
       "    <tr>\n",
       "      <th>1</th>\n",
       "      <td>allen_b02h01a02</td>\n",
       "      <td>/home/tchari/perturbCME/notebooks/gg_200524_mo...</td>\n",
       "      <td>11</td>\n",
       "      <td>-6.222222</td>\n",
       "      <td>-1.25</td>\n",
       "    </tr>\n",
       "    <tr>\n",
       "      <th>2</th>\n",
       "      <td>cl3</td>\n",
       "      <td>/home/tchari/perturbCME/notebooks/gg_200525_ge...</td>\n",
       "      <td>3</td>\n",
       "      <td>-6.777778</td>\n",
       "      <td>-0.70</td>\n",
       "    </tr>\n",
       "    <tr>\n",
       "      <th>3</th>\n",
       "      <td>cl5</td>\n",
       "      <td>/home/tchari/perturbCME/notebooks/gg_200525_ge...</td>\n",
       "      <td>5</td>\n",
       "      <td>-7.888889</td>\n",
       "      <td>-1.25</td>\n",
       "    </tr>\n",
       "    <tr>\n",
       "      <th>4</th>\n",
       "      <td>brca1</td>\n",
       "      <td>/home/tchari/perturbCME/notebooks/gg_200524_mo...</td>\n",
       "      <td>-1</td>\n",
       "      <td>-6.777778</td>\n",
       "      <td>-0.70</td>\n",
       "    </tr>\n",
       "  </tbody>\n",
       "</table>\n",
       "</div>"
      ],
      "text/plain": [
       "           Dataset                                          Transcrip  \\\n",
       "0        allen_b08  /home/tchari/perturbCME/notebooks/gg_200524_mo...   \n",
       "1  allen_b02h01a02  /home/tchari/perturbCME/notebooks/gg_200524_mo...   \n",
       "2              cl3  /home/tchari/perturbCME/notebooks/gg_200525_ge...   \n",
       "3              cl5  /home/tchari/perturbCME/notebooks/gg_200525_ge...   \n",
       "4            brca1  /home/tchari/perturbCME/notebooks/gg_200524_mo...   \n",
       "\n",
       "   Clusters        Cu   Lam  \n",
       "0        10 -6.777778 -1.25  \n",
       "1        11 -6.222222 -1.25  \n",
       "2         3 -6.777778 -0.70  \n",
       "3         5 -7.888889 -1.25  \n",
       "4        -1 -6.777778 -0.70  "
      ]
     },
     "execution_count": 5,
     "metadata": {},
     "output_type": "execute_result"
    }
   ],
   "source": [
    "# ********* Get meK_looms.tar.gz and meKMeans_data_samp_params.csv *********\n",
    "\n",
    "samps = pd.read_csv('meKMeans_data_samp_params.csv')\n",
    "samps.head()"
   ]
  },
  {
   "cell_type": "code",
   "execution_count": 6,
   "id": "e2384a26",
   "metadata": {},
   "outputs": [
    {
     "data": {
      "text/plain": [
       "['./hvg_objs_0215/cl5_357hvgs.loom',\n",
       " './hvg_objs_0215/cl5_1193all.loom',\n",
       " './hvg_objs_0215/allen_b02h01a02_359hvgs.loom',\n",
       " './hvg_objs_0215/cl3_466hvgs.loom',\n",
       " './hvg_objs_0215/allen_b08_682hvgs.loom',\n",
       " './hvg_objs_0215/allen_b02h01a02_2770all.loom',\n",
       " './hvg_objs_0215/cl3_1137all.loom',\n",
       " './hvg_objs_0215/allen_b08_1948all.loom']"
      ]
     },
     "execution_count": 6,
     "metadata": {},
     "output_type": "execute_result"
    }
   ],
   "source": [
    "d_strings  = glob.glob('./hvg_objs_0215/*.loom')\n",
    "d_strings "
   ]
  },
  {
   "cell_type": "code",
   "execution_count": 7,
   "id": "40ac6337",
   "metadata": {},
   "outputs": [
    {
     "data": {
      "text/plain": [
       "array(['allen_b08', 'allen_b02h01a02', 'cl3', 'cl5', 'brca1', 'pbmc',\n",
       "       'e11e13'], dtype=object)"
      ]
     },
     "execution_count": 7,
     "metadata": {},
     "output_type": "execute_result"
    }
   ],
   "source": [
    "datas = pd.unique(samps.Dataset)\n",
    "datas"
   ]
  },
  {
   "cell_type": "code",
   "execution_count": 8,
   "id": "1d9d450e",
   "metadata": {},
   "outputs": [],
   "source": [
    "attribute_names =[('unspliced','spliced'),'gene_name','barcode']"
   ]
  },
  {
   "cell_type": "markdown",
   "id": "2b4beecd",
   "metadata": {},
   "source": [
    "### **meK-Means**\n",
    "\n",
    "Test with 2, correct K, K+5, K+10"
   ]
  },
  {
   "cell_type": "code",
   "execution_count": 24,
   "id": "497b5fbd",
   "metadata": {},
   "outputs": [],
   "source": [
    "# !rm -r /home/tchari/perturbCME/notebooks/fits/meKruns_0209"
   ]
  },
  {
   "cell_type": "code",
   "execution_count": null,
   "id": "30910bf4",
   "metadata": {},
   "outputs": [],
   "source": []
  },
  {
   "cell_type": "code",
   "execution_count": 9,
   "id": "0a6db84b",
   "metadata": {},
   "outputs": [
    {
     "name": "stdout",
     "output_type": "stream",
     "text": [
      "cl5 with 357 genes\n",
      "WARNING:root:Gene HIST1H2BD not found or has multiple entries in annotations.\n",
      "WARNING:root:Gene HIST1H2AC not found or has multiple entries in annotations.\n",
      "WARNING:root:Gene HIST1H2BJ not found or has multiple entries in annotations.\n",
      "WARNING:root:Selecting 354 genes required 0.0% dataset threshold.\n"
     ]
    },
    {
     "name": "stderr",
     "output_type": "stream",
     "text": [
      "100%|██████████████████████████████████████████████████████████████████████████████████████████████████████| 5/5 [00:15<00:00,  3.15s/it]\n",
      "100%|██████████████████████████████████████████████████████████████████████████████████████████████████████| 5/5 [00:14<00:00,  2.91s/it]\n"
     ]
    },
    {
     "name": "stdout",
     "output_type": "stream",
     "text": [
      "mstep self.weights:  [0.22184715 0.31965643 0.19363111 0.11203402 0.1528313 ]\n",
      "Q Function:  -1613996.7060211934\n",
      "\n"
     ]
    },
    {
     "name": "stderr",
     "output_type": "stream",
     "text": [
      "100%|██████████████████████████████████████████████████████████████████████████████████████████████████████| 5/5 [00:14<00:00,  2.90s/it]\n"
     ]
    },
    {
     "name": "stdout",
     "output_type": "stream",
     "text": [
      "mstep self.weights:  [0.2215189  0.3205985  0.19456084 0.1116819  0.15163985]\n",
      "Q Function:  -1582351.6245810064\n",
      "\n"
     ]
    },
    {
     "name": "stderr",
     "output_type": "stream",
     "text": [
      "100%|██████████████████████████████████████████████████████████████████████████████████████████████████████| 5/5 [00:14<00:00,  2.91s/it]\n"
     ]
    },
    {
     "name": "stdout",
     "output_type": "stream",
     "text": [
      "mstep self.weights:  [0.22103036 0.32078588 0.19550803 0.11081477 0.15186097]\n",
      "Q Function:  -1594042.2310515435\n",
      "\n"
     ]
    },
    {
     "name": "stderr",
     "output_type": "stream",
     "text": [
      "100%|██████████████████████████████████████████████████████████████████████████████████████████████████████| 5/5 [00:14<00:00,  2.92s/it]\n"
     ]
    },
    {
     "name": "stdout",
     "output_type": "stream",
     "text": [
      "mstep self.weights:  [0.22050623 0.32084816 0.19556908 0.11128444 0.1517921 ]\n",
      "Q Function:  -1586016.0138650853\n",
      "\n"
     ]
    },
    {
     "name": "stderr",
     "output_type": "stream",
     "text": [
      "100%|██████████████████████████████████████████████████████████████████████████████████████████████████████| 5/5 [00:15<00:00,  3.05s/it]\n"
     ]
    },
    {
     "name": "stdout",
     "output_type": "stream",
     "text": [
      "mstep self.weights:  [0.22070351 0.32097378 0.19556747 0.11128127 0.15147396]\n",
      "Q Function:  -1583778.1390525154\n",
      "\n"
     ]
    },
    {
     "name": "stderr",
     "output_type": "stream",
     "text": [
      "100%|██████████████████████████████████████████████████████████████████████████████████████████████████████| 5/5 [00:14<00:00,  2.88s/it]\n"
     ]
    },
    {
     "name": "stdout",
     "output_type": "stream",
     "text": [
      "mstep self.weights:  [0.22048444 0.32086566 0.19566905 0.11138636 0.1515945 ]\n",
      "Q Function:  -1596221.8912874165\n",
      "\n"
     ]
    },
    {
     "name": "stderr",
     "output_type": "stream",
     "text": [
      "100%|██████████████████████████████████████████████████████████████████████████████████████████████████████| 5/5 [00:15<00:00,  3.00s/it]\n"
     ]
    },
    {
     "name": "stdout",
     "output_type": "stream",
     "text": [
      "mstep self.weights:  [0.22022803 0.3208735  0.19602306 0.1112816  0.15159381]\n",
      "Q Function:  -1588499.5568959182\n",
      "\n"
     ]
    },
    {
     "name": "stderr",
     "output_type": "stream",
     "text": [
      "100%|██████████████████████████████████████████████████████████████████████████████████████████████████████| 5/5 [00:14<00:00,  3.00s/it]\n"
     ]
    },
    {
     "name": "stdout",
     "output_type": "stream",
     "text": [
      "mstep self.weights:  [0.21990761 0.32092048 0.1965379  0.11128162 0.15135239]\n",
      "Q Function:  -1581738.698837462\n",
      "\n"
     ]
    },
    {
     "name": "stderr",
     "output_type": "stream",
     "text": [
      "100%|██████████████████████████████████████████████████████████████████████████████████████████████████████| 5/5 [00:14<00:00,  2.95s/it]\n"
     ]
    },
    {
     "name": "stdout",
     "output_type": "stream",
     "text": [
      "mstep self.weights:  [0.21998435 0.32107169 0.19627386 0.11114741 0.15152268]\n",
      "Q Function:  -1587850.5442718687\n",
      "\n"
     ]
    },
    {
     "name": "stderr",
     "output_type": "stream",
     "text": [
      "100%|██████████████████████████████████████████████████████████████████████████████████████████████████████| 5/5 [00:14<00:00,  2.97s/it]\n"
     ]
    },
    {
     "name": "stdout",
     "output_type": "stream",
     "text": [
      "mstep self.weights:  [0.21992511 0.32089527 0.19628106 0.11139642 0.15150215]\n",
      "Q Function:  -1590894.3696573046\n",
      "\n",
      "No. clus:  5\n",
      "ARI:  0.9824020599767368\n",
      "WARNING:root:Gene HIST1H2BD not found or has multiple entries in annotations.\n",
      "WARNING:root:Gene HIST1H2AC not found or has multiple entries in annotations.\n",
      "WARNING:root:Gene HIST1H2BJ not found or has multiple entries in annotations.\n",
      "WARNING:root:Selecting 354 genes required 0.0% dataset threshold.\n"
     ]
    },
    {
     "name": "stderr",
     "output_type": "stream",
     "text": [
      "100%|████████████████████████████████████████████████████████████████████████████████████████████████████| 10/10 [00:16<00:00,  1.62s/it]\n",
      "100%|████████████████████████████████████████████████████████████████████████████████████████████████████| 10/10 [00:15<00:00,  1.60s/it]\n"
     ]
    },
    {
     "name": "stdout",
     "output_type": "stream",
     "text": [
      "mstep self.weights:  [0.07016803 0.15895846 0.21108385 0.16020695 0.0833658  0.0349775\n",
      " 0.25123161 0.00550609 0.01713719 0.00736451]\n",
      "Q Function:  -1682792.4568199809\n",
      "\n"
     ]
    },
    {
     "name": "stderr",
     "output_type": "stream",
     "text": [
      "100%|██████████████████████████████████████████████████████████████████████████████████████████████████████| 8/8 [00:16<00:00,  2.06s/it]\n"
     ]
    },
    {
     "name": "stdout",
     "output_type": "stream",
     "text": [
      "mstep self.weights:  [1.73965366e-02 1.43356543e-01 2.19870028e-01 1.52625015e-01\n",
      " 1.10966370e-01 5.17065366e-02 3.03375635e-01 2.55232261e-10\n",
      " 7.03335040e-04 2.55232261e-10]\n",
      "Q Function:  -1590946.3038484035\n",
      "\n"
     ]
    },
    {
     "name": "stderr",
     "output_type": "stream",
     "text": [
      "100%|██████████████████████████████████████████████████████████████████████████████████████████████████████| 6/6 [00:14<00:00,  2.47s/it]\n"
     ]
    },
    {
     "name": "stdout",
     "output_type": "stream",
     "text": [
      "mstep self.weights:  [2.55232261e-10 1.39293332e-01 2.19805035e-01 1.51954418e-01\n",
      " 1.11871167e-01 5.59584464e-02 3.21117601e-01 2.55232261e-10\n",
      " 2.55232261e-10 2.55232261e-10]\n",
      "Q Function:  -1584632.1712127465\n",
      "\n"
     ]
    },
    {
     "name": "stderr",
     "output_type": "stream",
     "text": [
      "100%|██████████████████████████████████████████████████████████████████████████████████████████████████████| 6/6 [00:14<00:00,  2.42s/it]\n"
     ]
    },
    {
     "name": "stdout",
     "output_type": "stream",
     "text": [
      "mstep self.weights:  [2.55232261e-10 1.15685549e-01 2.20020107e-01 1.51350784e-01\n",
      " 1.12289910e-01 7.95714799e-02 3.21082168e-01 2.55232261e-10\n",
      " 2.55232261e-10 2.55232261e-10]\n",
      "Q Function:  -1576599.0900992148\n",
      "\n"
     ]
    },
    {
     "name": "stderr",
     "output_type": "stream",
     "text": [
      "100%|██████████████████████████████████████████████████████████████████████████████████████████████████████| 6/6 [00:14<00:00,  2.48s/it]\n"
     ]
    },
    {
     "name": "stdout",
     "output_type": "stream",
     "text": [
      "mstep self.weights:  [2.55232261e-10 1.31439897e-01 2.20000035e-01 1.51355397e-01\n",
      " 1.12295680e-01 6.38290130e-02 3.21079977e-01 2.55232261e-10\n",
      " 2.55232261e-10 2.55232261e-10]\n",
      "Q Function:  -1579862.9103559027\n",
      "\n"
     ]
    },
    {
     "name": "stderr",
     "output_type": "stream",
     "text": [
      "100%|██████████████████████████████████████████████████████████████████████████████████████████████████████| 6/6 [00:15<00:00,  2.65s/it]\n"
     ]
    },
    {
     "name": "stdout",
     "output_type": "stream",
     "text": [
      "mstep self.weights:  [2.55232261e-10 1.12044591e-01 2.20010355e-01 1.51355397e-01\n",
      " 1.11971695e-01 8.35379938e-02 3.21079966e-01 2.55232261e-10\n",
      " 2.55232261e-10 2.55232261e-10]\n",
      "Q Function:  -1581672.075255517\n",
      "\n"
     ]
    },
    {
     "name": "stderr",
     "output_type": "stream",
     "text": [
      "100%|██████████████████████████████████████████████████████████████████████████████████████████████████████| 6/6 [00:14<00:00,  2.48s/it]\n"
     ]
    },
    {
     "name": "stdout",
     "output_type": "stream",
     "text": [
      "mstep self.weights:  [2.55232261e-10 1.23022264e-01 2.20264109e-01 1.51355823e-01\n",
      " 1.11683252e-01 7.26348332e-02 3.21039718e-01 2.55232261e-10\n",
      " 2.55232261e-10 2.55232261e-10]\n",
      "Q Function:  -1584049.7378983363\n",
      "\n"
     ]
    },
    {
     "name": "stderr",
     "output_type": "stream",
     "text": [
      "100%|██████████████████████████████████████████████████████████████████████████████████████████████████████| 6/6 [00:14<00:00,  2.50s/it]\n"
     ]
    },
    {
     "name": "stdout",
     "output_type": "stream",
     "text": [
      "mstep self.weights:  [2.55232261e-10 1.09954949e-01 2.19892544e-01 1.51517418e-01\n",
      " 1.11587060e-01 8.59664994e-02 3.21081528e-01 2.55232261e-10\n",
      " 2.55232261e-10 2.55232261e-10]\n",
      "Q Function:  -1577723.4513026169\n",
      "\n"
     ]
    },
    {
     "name": "stderr",
     "output_type": "stream",
     "text": [
      "100%|██████████████████████████████████████████████████████████████████████████████████████████████████████| 6/6 [00:15<00:00,  2.53s/it]\n"
     ]
    },
    {
     "name": "stdout",
     "output_type": "stream",
     "text": [
      "mstep self.weights:  [2.55232261e-10 8.03383827e-02 2.20069996e-01 1.51389876e-01\n",
      " 1.11401750e-01 1.15626093e-01 3.21173901e-01 2.55232261e-10\n",
      " 2.55232261e-10 2.55232261e-10]\n",
      "Q Function:  -1587315.0188451756\n",
      "\n"
     ]
    },
    {
     "name": "stderr",
     "output_type": "stream",
     "text": [
      "100%|██████████████████████████████████████████████████████████████████████████████████████████████████████| 6/6 [00:14<00:00,  2.46s/it]\n"
     ]
    },
    {
     "name": "stdout",
     "output_type": "stream",
     "text": [
      "mstep self.weights:  [2.55232261e-10 6.63774968e-02 2.20592320e-01 1.51613527e-01\n",
      " 1.11245593e-01 1.28874918e-01 3.21296144e-01 2.55232261e-10\n",
      " 2.55232261e-10 2.55232261e-10]\n",
      "Q Function:  -1601901.743043084\n",
      "\n",
      "No. clus:  6\n",
      "ARI:  0.9357096399386293\n",
      "cl5 with 1193 genes\n",
      "WARNING:root:Gene MARC2 not found or has multiple entries in annotations.\n",
      "WARNING:root:Gene MARC1 not found or has multiple entries in annotations.\n",
      "WARNING:root:Gene ST5 not found or has multiple entries in annotations.\n",
      "WARNING:root:Gene WARS not found or has multiple entries in annotations.\n",
      "WARNING:root:Gene AP005262.2 not found or has multiple entries in annotations.\n",
      "WARNING:root:Gene MARCH4 not found or has multiple entries in annotations.\n",
      "WARNING:root:Gene HIST1H2BD not found or has multiple entries in annotations.\n",
      "WARNING:root:Gene HIST1H2AC not found or has multiple entries in annotations.\n",
      "WARNING:root:Gene HIST1H2BC not found or has multiple entries in annotations.\n",
      "WARNING:root:Gene HIST1H2BJ not found or has multiple entries in annotations.\n",
      "WARNING:root:Gene LINC01510 not found or has multiple entries in annotations.\n",
      "WARNING:root:Selecting 1182 genes required 0.0% dataset threshold.\n"
     ]
    },
    {
     "name": "stderr",
     "output_type": "stream",
     "text": [
      "100%|██████████████████████████████████████████████████████████████████████████████████████████████████████| 5/5 [01:53<00:00, 22.69s/it]\n",
      "100%|██████████████████████████████████████████████████████████████████████████████████████████████████████| 5/5 [01:53<00:00, 22.65s/it]\n"
     ]
    },
    {
     "name": "stdout",
     "output_type": "stream",
     "text": [
      "mstep self.weights:  [0.22281731 0.15014396 0.32131829 0.19398112 0.11173932]\n",
      "Q Function:  -3590190.627409045\n",
      "\n"
     ]
    },
    {
     "name": "stderr",
     "output_type": "stream",
     "text": [
      "100%|██████████████████████████████████████████████████████████████████████████████████████████████████████| 5/5 [01:47<00:00, 21.53s/it]\n"
     ]
    },
    {
     "name": "stdout",
     "output_type": "stream",
     "text": [
      "mstep self.weights:  [0.22256251 0.15084225 0.32082722 0.19448701 0.11128101]\n",
      "Q Function:  -3528247.646683137\n",
      "\n"
     ]
    },
    {
     "name": "stderr",
     "output_type": "stream",
     "text": [
      "100%|██████████████████████████████████████████████████████████████████████████████████████████████████████| 5/5 [01:48<00:00, 21.63s/it]\n"
     ]
    },
    {
     "name": "stdout",
     "output_type": "stream",
     "text": [
      "mstep self.weights:  [0.22256253 0.15084227 0.32082696 0.19448699 0.11128125]\n",
      "Q Function:  -3531123.5585150165\n",
      "\n"
     ]
    },
    {
     "name": "stderr",
     "output_type": "stream",
     "text": [
      "100%|██████████████████████████████████████████████████████████████████████████████████████████████████████| 5/5 [01:47<00:00, 21.55s/it]\n"
     ]
    },
    {
     "name": "stdout",
     "output_type": "stream",
     "text": [
      "mstep self.weights:  [0.22256253 0.15084227 0.32082696 0.19448699 0.11128125]\n",
      "Q Function:  -3531123.558515013\n",
      "\n"
     ]
    },
    {
     "name": "stderr",
     "output_type": "stream",
     "text": [
      "100%|██████████████████████████████████████████████████████████████████████████████████████████████████████| 5/5 [01:48<00:00, 21.62s/it]\n"
     ]
    },
    {
     "name": "stdout",
     "output_type": "stream",
     "text": [
      "mstep self.weights:  [0.22256253 0.15084227 0.32082696 0.19448699 0.11128125]\n",
      "Q Function:  -3531123.5585150137\n",
      "\n"
     ]
    },
    {
     "name": "stderr",
     "output_type": "stream",
     "text": [
      "100%|██████████████████████████████████████████████████████████████████████████████████████████████████████| 5/5 [01:47<00:00, 21.56s/it]\n"
     ]
    },
    {
     "name": "stdout",
     "output_type": "stream",
     "text": [
      "mstep self.weights:  [0.22256253 0.15084227 0.32082696 0.19448699 0.11128125]\n",
      "Q Function:  -3531123.5585150137\n",
      "\n"
     ]
    },
    {
     "name": "stderr",
     "output_type": "stream",
     "text": [
      "100%|██████████████████████████████████████████████████████████████████████████████████████████████████████| 5/5 [01:48<00:00, 21.60s/it]\n"
     ]
    },
    {
     "name": "stdout",
     "output_type": "stream",
     "text": [
      "mstep self.weights:  [0.22256253 0.15084227 0.32082696 0.19448699 0.11128125]\n",
      "Q Function:  -3531123.5585150137\n",
      "\n"
     ]
    },
    {
     "name": "stderr",
     "output_type": "stream",
     "text": [
      "100%|██████████████████████████████████████████████████████████████████████████████████████████████████████| 5/5 [02:05<00:00, 25.16s/it]\n"
     ]
    },
    {
     "name": "stdout",
     "output_type": "stream",
     "text": [
      "mstep self.weights:  [0.22256253 0.15084227 0.32082696 0.19448699 0.11128125]\n",
      "Q Function:  -3531123.5585150137\n",
      "\n"
     ]
    },
    {
     "name": "stderr",
     "output_type": "stream",
     "text": [
      "100%|██████████████████████████████████████████████████████████████████████████████████████████████████████| 5/5 [01:47<00:00, 21.50s/it]\n"
     ]
    },
    {
     "name": "stdout",
     "output_type": "stream",
     "text": [
      "mstep self.weights:  [0.22256253 0.15084227 0.32082696 0.19448699 0.11128125]\n",
      "Q Function:  -3531123.5585150137\n",
      "\n"
     ]
    },
    {
     "name": "stderr",
     "output_type": "stream",
     "text": [
      "100%|██████████████████████████████████████████████████████████████████████████████████████████████████████| 5/5 [02:06<00:00, 25.36s/it]\n"
     ]
    },
    {
     "name": "stdout",
     "output_type": "stream",
     "text": [
      "mstep self.weights:  [0.22256253 0.15084227 0.32082696 0.19448699 0.11128125]\n",
      "Q Function:  -3531123.5585150137\n",
      "\n",
      "No. clus:  5\n",
      "ARI:  0.9838096163955569\n",
      "WARNING:root:Gene MARC2 not found or has multiple entries in annotations.\n",
      "WARNING:root:Gene MARC1 not found or has multiple entries in annotations.\n",
      "WARNING:root:Gene ST5 not found or has multiple entries in annotations.\n",
      "WARNING:root:Gene WARS not found or has multiple entries in annotations.\n",
      "WARNING:root:Gene AP005262.2 not found or has multiple entries in annotations.\n",
      "WARNING:root:Gene MARCH4 not found or has multiple entries in annotations.\n",
      "WARNING:root:Gene HIST1H2BD not found or has multiple entries in annotations.\n",
      "WARNING:root:Gene HIST1H2AC not found or has multiple entries in annotations.\n",
      "WARNING:root:Gene HIST1H2BC not found or has multiple entries in annotations.\n",
      "WARNING:root:Gene HIST1H2BJ not found or has multiple entries in annotations.\n",
      "WARNING:root:Gene LINC01510 not found or has multiple entries in annotations.\n",
      "WARNING:root:Selecting 1182 genes required 0.0% dataset threshold.\n"
     ]
    },
    {
     "name": "stderr",
     "output_type": "stream",
     "text": [
      "100%|████████████████████████████████████████████████████████████████████████████████████████████████████| 10/10 [02:12<00:00, 13.27s/it]\n",
      "100%|████████████████████████████████████████████████████████████████████████████████████████████████████| 10/10 [01:56<00:00, 11.61s/it]\n"
     ]
    },
    {
     "name": "stdout",
     "output_type": "stream",
     "text": [
      "mstep self.weights:  [0.07364422 0.01599596 0.28323532 0.20509896 0.01575145 0.13563541\n",
      " 0.03465449 0.04200605 0.12110068 0.07287746]\n",
      "Q Function:  -3715026.085649608\n",
      "\n"
     ]
    },
    {
     "name": "stderr",
     "output_type": "stream",
     "text": [
      "100%|██████████████████████████████████████████████████████████████████████████████████████████████████████| 7/7 [01:56<00:00, 16.58s/it]\n"
     ]
    },
    {
     "name": "stdout",
     "output_type": "stream",
     "text": [
      "mstep self.weights:  [8.39593135e-02 2.55232261e-10 3.22854402e-01 2.22523102e-01\n",
      " 2.55232261e-10 1.50640871e-01 2.60457908e-02 1.34358368e-09\n",
      " 1.19818654e-01 7.41578644e-02]\n",
      "Q Function:  -3551399.4813267426\n",
      "\n"
     ]
    },
    {
     "name": "stderr",
     "output_type": "stream",
     "text": [
      "100%|██████████████████████████████████████████████████████████████████████████████████████████████████████| 7/7 [01:52<00:00, 16.01s/it]\n"
     ]
    },
    {
     "name": "stdout",
     "output_type": "stream",
     "text": [
      "mstep self.weights:  [1.00773298e-01 2.55232261e-10 3.22820099e-01 2.22817764e-01\n",
      " 2.55232261e-10 1.50851792e-01 8.97671646e-03 2.55232261e-10\n",
      " 1.20246902e-01 7.35134285e-02]\n",
      "Q Function:  -3544646.489713032\n",
      "\n"
     ]
    },
    {
     "name": "stderr",
     "output_type": "stream",
     "text": [
      "100%|██████████████████████████████████████████████████████████████████████████████████████████████████████| 6/6 [01:49<00:00, 18.20s/it]\n"
     ]
    },
    {
     "name": "stdout",
     "output_type": "stream",
     "text": [
      "mstep self.weights:  [1.10262802e-01 2.55232261e-10 3.22332723e-01 2.22817764e-01\n",
      " 2.55232261e-10 1.50852253e-01 2.55232261e-10 2.55232261e-10\n",
      " 1.21437897e-01 7.22965595e-02]\n",
      "Q Function:  -3538056.543439929\n",
      "\n"
     ]
    },
    {
     "name": "stderr",
     "output_type": "stream",
     "text": [
      "100%|██████████████████████████████████████████████████████████████████████████████████████████████████████| 6/6 [01:48<00:00, 18.06s/it]\n"
     ]
    },
    {
     "name": "stdout",
     "output_type": "stream",
     "text": [
      "mstep self.weights:  [1.10312655e-01 2.55232261e-10 3.22034926e-01 2.22817764e-01\n",
      " 2.55232261e-10 1.50862127e-01 2.55232261e-10 2.55232261e-10\n",
      " 1.25013035e-01 6.89594914e-02]\n",
      "Q Function:  -3534225.5671813395\n",
      "\n"
     ]
    },
    {
     "name": "stderr",
     "output_type": "stream",
     "text": [
      "100%|██████████████████████████████████████████████████████████████████████████████████████████████████████| 6/6 [01:48<00:00, 18.16s/it]\n"
     ]
    },
    {
     "name": "stdout",
     "output_type": "stream",
     "text": [
      "mstep self.weights:  [1.10295873e-01 2.55232261e-10 3.22056672e-01 2.22817764e-01\n",
      " 2.55232261e-10 1.50624958e-01 2.55232261e-10 2.55232261e-10\n",
      " 1.28317307e-01 6.58874243e-02]\n",
      "Q Function:  -3522046.5807490656\n",
      "\n"
     ]
    },
    {
     "name": "stderr",
     "output_type": "stream",
     "text": [
      "100%|██████████████████████████████████████████████████████████████████████████████████████████████████████| 6/6 [02:04<00:00, 20.74s/it]\n"
     ]
    },
    {
     "name": "stdout",
     "output_type": "stream",
     "text": [
      "mstep self.weights:  [1.10295866e-01 2.55232261e-10 3.22044848e-01 2.22817764e-01\n",
      " 2.55232261e-10 1.50609770e-01 2.55232261e-10 2.55232261e-10\n",
      " 1.28131570e-01 6.61001802e-02]\n",
      "Q Function:  -3521389.004885842\n",
      "\n"
     ]
    },
    {
     "name": "stderr",
     "output_type": "stream",
     "text": [
      "100%|██████████████████████████████████████████████████████████████████████████████████████████████████████| 6/6 [01:53<00:00, 18.97s/it]\n"
     ]
    },
    {
     "name": "stdout",
     "output_type": "stream",
     "text": [
      "mstep self.weights:  [1.10295863e-01 2.55232261e-10 3.22045703e-01 2.22817764e-01\n",
      " 2.55232261e-10 1.50609769e-01 2.55232261e-10 2.55232261e-10\n",
      " 1.20922964e-01 7.33079354e-02]\n",
      "Q Function:  -3522298.9550083433\n",
      "\n"
     ]
    },
    {
     "name": "stderr",
     "output_type": "stream",
     "text": [
      "100%|██████████████████████████████████████████████████████████████████████████████████████████████████████| 6/6 [01:48<00:00, 18.16s/it]\n"
     ]
    },
    {
     "name": "stdout",
     "output_type": "stream",
     "text": [
      "mstep self.weights:  [1.10295867e-01 2.55232261e-10 3.22044995e-01 2.22817764e-01\n",
      " 2.55232261e-10 1.50609767e-01 2.55232261e-10 2.55232261e-10\n",
      " 1.14554065e-01 7.96775421e-02]\n",
      "Q Function:  -3531106.934261674\n",
      "\n"
     ]
    },
    {
     "name": "stderr",
     "output_type": "stream",
     "text": [
      "100%|██████████████████████████████████████████████████████████████████████████████████████████████████████| 6/6 [02:02<00:00, 20.42s/it]\n"
     ]
    },
    {
     "name": "stdout",
     "output_type": "stream",
     "text": [
      "mstep self.weights:  [1.10295867e-01 2.55232261e-10 3.22044848e-01 2.22817764e-01\n",
      " 2.55232261e-10 1.50609769e-01 2.55232261e-10 2.55232261e-10\n",
      " 1.13190009e-01 8.10417421e-02]\n",
      "Q Function:  -3532743.252814599\n",
      "\n",
      "No. clus:  6\n",
      "ARI:  0.9284211489186843\n",
      "allen_b02h01a02 with 359 genes\n",
      "WARNING:root:Gene St5 not found or has multiple entries in annotations.\n",
      "WARNING:root:Selecting 358 genes required 0.0% dataset threshold.\n"
     ]
    },
    {
     "name": "stderr",
     "output_type": "stream",
     "text": [
      "100%|████████████████████████████████████████████████████████████████████████████████████████████████████| 11/11 [00:17<00:00,  1.55s/it]\n",
      "100%|████████████████████████████████████████████████████████████████████████████████████████████████████| 11/11 [00:15<00:00,  1.43s/it]\n"
     ]
    },
    {
     "name": "stdout",
     "output_type": "stream",
     "text": [
      "mstep self.weights:  [0.18938317 0.1478227  0.0796251  0.22318368 0.03190428 0.05244413\n",
      " 0.03360237 0.10646793 0.07089714 0.0372888  0.0273807 ]\n",
      "Q Function:  -9811481.225631984\n",
      "\n"
     ]
    },
    {
     "name": "stderr",
     "output_type": "stream",
     "text": [
      "100%|████████████████████████████████████████████████████████████████████████████████████████████████████| 11/11 [00:16<00:00,  1.50s/it]\n"
     ]
    },
    {
     "name": "stdout",
     "output_type": "stream",
     "text": [
      "mstep self.weights:  [0.18699984 0.14497231 0.07820644 0.22109986 0.0334808  0.05351363\n",
      " 0.03317351 0.1096338  0.06563222 0.04087164 0.03241596]\n",
      "Q Function:  -9246961.785014002\n",
      "\n"
     ]
    },
    {
     "name": "stderr",
     "output_type": "stream",
     "text": [
      "100%|████████████████████████████████████████████████████████████████████████████████████████████████████| 11/11 [00:17<00:00,  1.62s/it]\n"
     ]
    },
    {
     "name": "stdout",
     "output_type": "stream",
     "text": [
      "mstep self.weights:  [0.18621905 0.14269026 0.07865626 0.22005545 0.03470244 0.05405646\n",
      " 0.0331654  0.10988104 0.06425657 0.04168966 0.03462741]\n",
      "Q Function:  -9242956.68870773\n",
      "\n"
     ]
    },
    {
     "name": "stderr",
     "output_type": "stream",
     "text": [
      "100%|████████████████████████████████████████████████████████████████████████████████████████████████████| 11/11 [00:16<00:00,  1.52s/it]\n"
     ]
    },
    {
     "name": "stdout",
     "output_type": "stream",
     "text": [
      "mstep self.weights:  [0.18589382 0.14069685 0.07932261 0.21837319 0.03651063 0.05420935\n",
      " 0.03310626 0.10985566 0.06386189 0.04194206 0.03622769]\n",
      "Q Function:  -9241735.669763222\n",
      "\n"
     ]
    },
    {
     "name": "stderr",
     "output_type": "stream",
     "text": [
      "100%|████████████████████████████████████████████████████████████████████████████████████████████████████| 11/11 [00:16<00:00,  1.52s/it]\n"
     ]
    },
    {
     "name": "stdout",
     "output_type": "stream",
     "text": [
      "mstep self.weights:  [0.18584489 0.13904867 0.07999372 0.21657856 0.03847763 0.05426299\n",
      " 0.03302101 0.10960599 0.06372227 0.04199367 0.03745061]\n",
      "Q Function:  -9240274.149612557\n",
      "\n"
     ]
    },
    {
     "name": "stderr",
     "output_type": "stream",
     "text": [
      "100%|████████████████████████████████████████████████████████████████████████████████████████████████████| 11/11 [00:15<00:00,  1.42s/it]\n"
     ]
    },
    {
     "name": "stdout",
     "output_type": "stream",
     "text": [
      "mstep self.weights:  [0.18591503 0.13741536 0.08068584 0.21454193 0.04048356 0.05431037\n",
      " 0.03299287 0.10941393 0.06368284 0.0419992  0.03855907]\n",
      "Q Function:  -9238758.729903283\n",
      "\n"
     ]
    },
    {
     "name": "stderr",
     "output_type": "stream",
     "text": [
      "100%|████████████████████████████████████████████████████████████████████████████████████████████████████| 11/11 [00:15<00:00,  1.45s/it]\n"
     ]
    },
    {
     "name": "stdout",
     "output_type": "stream",
     "text": [
      "mstep self.weights:  [0.18591456 0.13602727 0.08117786 0.21286723 0.04213523 0.05432739\n",
      " 0.03297591 0.10918777 0.06362582 0.04204722 0.03971375]\n",
      "Q Function:  -9237799.642169846\n",
      "\n"
     ]
    },
    {
     "name": "stderr",
     "output_type": "stream",
     "text": [
      "100%|████████████████████████████████████████████████████████████████████████████████████████████████████| 11/11 [00:16<00:00,  1.48s/it]\n"
     ]
    },
    {
     "name": "stdout",
     "output_type": "stream",
     "text": [
      "mstep self.weights:  [0.18597175 0.13461848 0.08164164 0.21172667 0.0432469  0.05431293\n",
      " 0.03294703 0.10897689 0.06363194 0.04208096 0.04084482]\n",
      "Q Function:  -9237336.611012792\n",
      "\n"
     ]
    },
    {
     "name": "stderr",
     "output_type": "stream",
     "text": [
      "100%|████████████████████████████████████████████████████████████████████████████████████████████████████| 11/11 [00:17<00:00,  1.55s/it]\n"
     ]
    },
    {
     "name": "stdout",
     "output_type": "stream",
     "text": [
      "mstep self.weights:  [0.18589214 0.1332707  0.08202681 0.21104172 0.04391543 0.05431036\n",
      " 0.03294662 0.10874376 0.06360181 0.04211118 0.04213946]\n",
      "Q Function:  -9237003.092529288\n",
      "\n"
     ]
    },
    {
     "name": "stderr",
     "output_type": "stream",
     "text": [
      "100%|████████████████████████████████████████████████████████████████████████████████████████████████████| 11/11 [00:15<00:00,  1.45s/it]\n"
     ]
    },
    {
     "name": "stdout",
     "output_type": "stream",
     "text": [
      "mstep self.weights:  [0.18591678 0.13185719 0.08223164 0.21073006 0.04420811 0.05430006\n",
      " 0.0329463  0.10854975 0.06360176 0.04211123 0.04354712]\n",
      "Q Function:  -9236548.449134028\n",
      "\n",
      "No. clus:  11\n",
      "ARI:  0.6667475397569501\n",
      "WARNING:root:Gene St5 not found or has multiple entries in annotations.\n",
      "WARNING:root:Selecting 358 genes required 0.0% dataset threshold.\n"
     ]
    },
    {
     "name": "stderr",
     "output_type": "stream",
     "text": [
      "100%|████████████████████████████████████████████████████████████████████████████████████████████████████| 16/16 [00:17<00:00,  1.10s/it]\n",
      "100%|████████████████████████████████████████████████████████████████████████████████████████████████████| 16/16 [00:16<00:00,  1.03s/it]\n"
     ]
    },
    {
     "name": "stdout",
     "output_type": "stream",
     "text": [
      "mstep self.weights:  [0.14062994 0.09341445 0.18842521 0.04939447 0.05854875 0.01979261\n",
      " 0.03097384 0.07037444 0.07127295 0.03401776 0.0095005  0.03357739\n",
      " 0.12495403 0.02770896 0.0233588  0.02405589]\n",
      "Q Function:  -9961653.838880323\n",
      "\n"
     ]
    },
    {
     "name": "stderr",
     "output_type": "stream",
     "text": [
      "100%|████████████████████████████████████████████████████████████████████████████████████████████████████| 16/16 [00:17<00:00,  1.07s/it]\n"
     ]
    },
    {
     "name": "stdout",
     "output_type": "stream",
     "text": [
      "mstep self.weights:  [0.13638632 0.07003994 0.18506168 0.05111771 0.06266802 0.02167786\n",
      " 0.03060617 0.07666448 0.07138717 0.03122881 0.01207293 0.03324551\n",
      " 0.12229352 0.02733574 0.03733828 0.03087587]\n",
      "Q Function:  -9146881.950767003\n",
      "\n"
     ]
    },
    {
     "name": "stderr",
     "output_type": "stream",
     "text": [
      "100%|████████████████████████████████████████████████████████████████████████████████████████████████████| 16/16 [00:16<00:00,  1.05s/it]\n"
     ]
    },
    {
     "name": "stdout",
     "output_type": "stream",
     "text": [
      "mstep self.weights:  [0.13101364 0.06579797 0.17258695 0.05601113 0.06087549 0.02234913\n",
      " 0.03054387 0.07632803 0.07155499 0.03402734 0.01246343 0.03319918\n",
      " 0.12203854 0.03937276 0.04089016 0.0309474 ]\n",
      "Q Function:  -9112424.139050607\n",
      "\n"
     ]
    },
    {
     "name": "stderr",
     "output_type": "stream",
     "text": [
      "100%|████████████████████████████████████████████████████████████████████████████████████████████████████| 16/16 [00:17<00:00,  1.08s/it]\n"
     ]
    },
    {
     "name": "stdout",
     "output_type": "stream",
     "text": [
      "mstep self.weights:  [0.12873626 0.06464185 0.1667447  0.05791441 0.06020085 0.02269662\n",
      " 0.03050587 0.07621022 0.07093801 0.03543626 0.01302163 0.0331571\n",
      " 0.1223665  0.04477884 0.04174942 0.03090148]\n",
      "Q Function:  -9116126.115842486\n",
      "\n"
     ]
    },
    {
     "name": "stderr",
     "output_type": "stream",
     "text": [
      "100%|████████████████████████████████████████████████████████████████████████████████████████████████████| 16/16 [00:16<00:00,  1.04s/it]\n"
     ]
    },
    {
     "name": "stdout",
     "output_type": "stream",
     "text": [
      "mstep self.weights:  [0.12682775 0.06424393 0.15473769 0.05902866 0.05986423 0.02286278\n",
      " 0.03046957 0.07611066 0.07084243 0.03658234 0.01335408 0.03316155\n",
      " 0.12248961 0.05654079 0.04194434 0.0309396 ]\n",
      "Q Function:  -9111429.149009667\n",
      "\n"
     ]
    },
    {
     "name": "stderr",
     "output_type": "stream",
     "text": [
      "100%|████████████████████████████████████████████████████████████████████████████████████████████████████| 16/16 [00:16<00:00,  1.05s/it]\n"
     ]
    },
    {
     "name": "stdout",
     "output_type": "stream",
     "text": [
      "mstep self.weights:  [0.12541504 0.06413653 0.13990348 0.05971538 0.05961961 0.0230128\n",
      " 0.03042494 0.07604829 0.07080616 0.03755732 0.01349116 0.03316004\n",
      " 0.12248391 0.07138064 0.04194267 0.03090204]\n",
      "Q Function:  -9096859.000768453\n",
      "\n"
     ]
    },
    {
     "name": "stderr",
     "output_type": "stream",
     "text": [
      "100%|████████████████████████████████████████████████████████████████████████████████████████████████████| 16/16 [00:16<00:00,  1.03s/it]\n"
     ]
    },
    {
     "name": "stdout",
     "output_type": "stream",
     "text": [
      "mstep self.weights:  [0.12409787 0.06403715 0.1392774  0.06010109 0.05940617 0.0231069\n",
      " 0.03046629 0.0761588  0.0708313  0.03852682 0.0136422  0.03315548\n",
      " 0.12245884 0.0718832  0.04192334 0.03092713]\n",
      "Q Function:  -9103252.916920273\n",
      "\n"
     ]
    },
    {
     "name": "stderr",
     "output_type": "stream",
     "text": [
      "100%|████████████████████████████████████████████████████████████████████████████████████████████████████| 16/16 [00:16<00:00,  1.00s/it]\n"
     ]
    },
    {
     "name": "stdout",
     "output_type": "stream",
     "text": [
      "mstep self.weights:  [0.1229612  0.06401291 0.13920298 0.0601869  0.05941387 0.02314454\n",
      " 0.03046467 0.07627212 0.07091611 0.03944048 0.01366774 0.03315534\n",
      " 0.12240967 0.07191439 0.04189294 0.03094414]\n",
      "Q Function:  -9102700.304783463\n",
      "\n"
     ]
    },
    {
     "name": "stderr",
     "output_type": "stream",
     "text": [
      "100%|████████████████████████████████████████████████████████████████████████████████████████████████████| 16/16 [00:16<00:00,  1.03s/it]\n"
     ]
    },
    {
     "name": "stdout",
     "output_type": "stream",
     "text": [
      "mstep self.weights:  [0.12232008 0.06400529 0.13811932 0.06020277 0.05949357 0.02320577\n",
      " 0.03046047 0.076326   0.06981474 0.04045403 0.01365192 0.03315457\n",
      " 0.12301459 0.07299434 0.04187046 0.03091208]\n",
      "Q Function:  -9106123.616699139\n",
      "\n"
     ]
    },
    {
     "name": "stderr",
     "output_type": "stream",
     "text": [
      "100%|████████████████████████████████████████████████████████████████████████████████████████████████████| 16/16 [00:16<00:00,  1.00s/it]\n"
     ]
    },
    {
     "name": "stdout",
     "output_type": "stream",
     "text": [
      "mstep self.weights:  [0.12125088 0.06400698 0.13789139 0.0602466  0.05947832 0.02324292\n",
      " 0.03046009 0.07630246 0.07064759 0.04135758 0.013655   0.03315533\n",
      " 0.12235078 0.07321331 0.04187149 0.03086929]\n",
      "Q Function:  -9097679.813878061\n",
      "\n",
      "No. clus:  16\n",
      "ARI:  0.5222657987524993\n",
      "cl3 with 466 genes\n",
      "WARNING:root:Gene C1orf143 not found or has multiple entries in annotations.\n",
      "WARNING:root:Gene H2AFY2 not found or has multiple entries in annotations.\n",
      "WARNING:root:Gene MARCH3 not found or has multiple entries in annotations.\n",
      "WARNING:root:Gene HIST1H2AC not found or has multiple entries in annotations.\n",
      "WARNING:root:Gene HIST1H2BJ not found or has multiple entries in annotations.\n",
      "WARNING:root:Gene HIST1H4H not found or has multiple entries in annotations.\n",
      "WARNING:root:Gene LINC01510 not found or has multiple entries in annotations.\n",
      "WARNING:root:Selecting 459 genes required 0.0% dataset threshold.\n"
     ]
    },
    {
     "name": "stderr",
     "output_type": "stream",
     "text": [
      "100%|██████████████████████████████████████████████████████████████████████████████████████████████████████| 3/3 [00:30<00:00, 10.20s/it]\n",
      "100%|██████████████████████████████████████████████████████████████████████████████████████████████████████| 3/3 [00:27<00:00,  9.24s/it]\n"
     ]
    },
    {
     "name": "stdout",
     "output_type": "stream",
     "text": [
      "mstep self.weights:  [0.35144124 0.34368071 0.30487805]\n",
      "Q Function:  -680692.0001592706\n",
      "\n"
     ]
    },
    {
     "name": "stderr",
     "output_type": "stream",
     "text": [
      "100%|██████████████████████████████████████████████████████████████████████████████████████████████████████| 3/3 [00:27<00:00,  9.17s/it]\n"
     ]
    },
    {
     "name": "stdout",
     "output_type": "stream",
     "text": [
      "mstep self.weights:  [0.35144124 0.34368071 0.30487805]\n",
      "Q Function:  -674995.4791985516\n",
      "\n"
     ]
    },
    {
     "name": "stderr",
     "output_type": "stream",
     "text": [
      "100%|██████████████████████████████████████████████████████████████████████████████████████████████████████| 3/3 [00:27<00:00,  9.11s/it]\n"
     ]
    },
    {
     "name": "stdout",
     "output_type": "stream",
     "text": [
      "mstep self.weights:  [0.35144124 0.34368071 0.30487805]\n",
      "Q Function:  -674995.4791985515\n",
      "\n"
     ]
    },
    {
     "name": "stderr",
     "output_type": "stream",
     "text": [
      "100%|██████████████████████████████████████████████████████████████████████████████████████████████████████| 3/3 [00:27<00:00,  9.10s/it]\n"
     ]
    },
    {
     "name": "stdout",
     "output_type": "stream",
     "text": [
      "mstep self.weights:  [0.35144124 0.34368071 0.30487805]\n",
      "Q Function:  -674995.4791985515\n",
      "\n"
     ]
    },
    {
     "name": "stderr",
     "output_type": "stream",
     "text": [
      "100%|██████████████████████████████████████████████████████████████████████████████████████████████████████| 3/3 [00:27<00:00,  9.29s/it]\n"
     ]
    },
    {
     "name": "stdout",
     "output_type": "stream",
     "text": [
      "mstep self.weights:  [0.35144124 0.34368071 0.30487805]\n",
      "Q Function:  -674995.4791985515\n",
      "\n"
     ]
    },
    {
     "name": "stderr",
     "output_type": "stream",
     "text": [
      "100%|██████████████████████████████████████████████████████████████████████████████████████████████████████| 3/3 [00:27<00:00,  9.08s/it]\n"
     ]
    },
    {
     "name": "stdout",
     "output_type": "stream",
     "text": [
      "mstep self.weights:  [0.35144124 0.34368071 0.30487805]\n",
      "Q Function:  -674995.4791985515\n",
      "\n"
     ]
    },
    {
     "name": "stderr",
     "output_type": "stream",
     "text": [
      "100%|██████████████████████████████████████████████████████████████████████████████████████████████████████| 3/3 [00:27<00:00,  9.16s/it]\n"
     ]
    },
    {
     "name": "stdout",
     "output_type": "stream",
     "text": [
      "mstep self.weights:  [0.35144124 0.34368071 0.30487805]\n",
      "Q Function:  -674995.4791985515\n",
      "\n"
     ]
    },
    {
     "name": "stderr",
     "output_type": "stream",
     "text": [
      "100%|██████████████████████████████████████████████████████████████████████████████████████████████████████| 3/3 [00:27<00:00,  9.22s/it]\n"
     ]
    },
    {
     "name": "stdout",
     "output_type": "stream",
     "text": [
      "mstep self.weights:  [0.35144124 0.34368071 0.30487805]\n",
      "Q Function:  -674995.4791985515\n",
      "\n"
     ]
    },
    {
     "name": "stderr",
     "output_type": "stream",
     "text": [
      "100%|██████████████████████████████████████████████████████████████████████████████████████████████████████| 3/3 [00:27<00:00,  9.16s/it]\n"
     ]
    },
    {
     "name": "stdout",
     "output_type": "stream",
     "text": [
      "mstep self.weights:  [0.35144124 0.34368071 0.30487805]\n",
      "Q Function:  -674995.4791985515\n",
      "\n"
     ]
    },
    {
     "name": "stderr",
     "output_type": "stream",
     "text": [
      "100%|██████████████████████████████████████████████████████████████████████████████████████████████████████| 3/3 [00:27<00:00,  9.24s/it]\n"
     ]
    },
    {
     "name": "stdout",
     "output_type": "stream",
     "text": [
      "mstep self.weights:  [0.35144124 0.34368071 0.30487805]\n",
      "Q Function:  -674995.4791985515\n",
      "\n",
      "No. clus:  3\n",
      "ARI:  0.9865879768598665\n",
      "WARNING:root:Gene C1orf143 not found or has multiple entries in annotations.\n",
      "WARNING:root:Gene H2AFY2 not found or has multiple entries in annotations.\n",
      "WARNING:root:Gene MARCH3 not found or has multiple entries in annotations.\n",
      "WARNING:root:Gene HIST1H2AC not found or has multiple entries in annotations.\n",
      "WARNING:root:Gene HIST1H2BJ not found or has multiple entries in annotations.\n",
      "WARNING:root:Gene HIST1H4H not found or has multiple entries in annotations.\n",
      "WARNING:root:Gene LINC01510 not found or has multiple entries in annotations.\n",
      "WARNING:root:Selecting 459 genes required 0.0% dataset threshold.\n"
     ]
    },
    {
     "name": "stderr",
     "output_type": "stream",
     "text": [
      "100%|██████████████████████████████████████████████████████████████████████████████████████████████████████| 8/8 [00:32<00:00,  4.07s/it]\n",
      "100%|██████████████████████████████████████████████████████████████████████████████████████████████████████| 8/8 [00:28<00:00,  3.61s/it]\n"
     ]
    },
    {
     "name": "stdout",
     "output_type": "stream",
     "text": [
      "mstep self.weights:  [0.07385936 0.08026323 0.10020457 0.16901035 0.03395838 0.23721963\n",
      " 0.10191912 0.20356535]\n",
      "Q Function:  -711738.6245002986\n",
      "\n"
     ]
    },
    {
     "name": "stderr",
     "output_type": "stream",
     "text": [
      "100%|██████████████████████████████████████████████████████████████████████████████████████████████████████| 8/8 [00:28<00:00,  3.62s/it]\n"
     ]
    },
    {
     "name": "stdout",
     "output_type": "stream",
     "text": [
      "mstep self.weights:  [0.05890365 0.06465113 0.08398111 0.19008432 0.00110865 0.28568146\n",
      " 0.09580139 0.21978829]\n",
      "Q Function:  -692774.0861237923\n",
      "\n"
     ]
    },
    {
     "name": "stderr",
     "output_type": "stream",
     "text": [
      "100%|██████████████████████████████████████████████████████████████████████████████████████████████████████| 7/7 [00:29<00:00,  4.17s/it]\n"
     ]
    },
    {
     "name": "stdout",
     "output_type": "stream",
     "text": [
      "mstep self.weights:  [3.11774753e-02 5.25786494e-02 6.00780483e-02 2.23918634e-01\n",
      " 1.10864744e-09 2.98862591e-01 8.85846010e-02 2.44800000e-01]\n",
      "Q Function:  -689540.4745105887\n",
      "\n"
     ]
    },
    {
     "name": "stderr",
     "output_type": "stream",
     "text": [
      "100%|██████████████████████████████████████████████████████████████████████████████████████████████████████| 7/7 [00:30<00:00,  4.31s/it]\n"
     ]
    },
    {
     "name": "stdout",
     "output_type": "stream",
     "text": [
      "mstep self.weights:  [2.22063672e-03 2.46391567e-02 2.17395002e-02 2.49438608e-01\n",
      " 1.10864744e-09 3.26802084e-01 9.20214647e-02 2.83138548e-01]\n",
      "Q Function:  -689820.4934954309\n",
      "\n"
     ]
    },
    {
     "name": "stderr",
     "output_type": "stream",
     "text": [
      "100%|██████████████████████████████████████████████████████████████████████████████████████████████████████| 5/5 [00:28<00:00,  5.68s/it]\n"
     ]
    },
    {
     "name": "stdout",
     "output_type": "stream",
     "text": [
      "mstep self.weights:  [1.10864744e-09 5.53669693e-03 2.79031333e-08 2.61864828e-01\n",
      " 1.10864744e-09 3.45904544e-01 8.18158809e-02 3.04878020e-01]\n",
      "Q Function:  -681676.2149894441\n",
      "\n"
     ]
    },
    {
     "name": "stderr",
     "output_type": "stream",
     "text": [
      "100%|██████████████████████████████████████████████████████████████████████████████████████████████████████| 5/5 [00:28<00:00,  5.64s/it]\n"
     ]
    },
    {
     "name": "stdout",
     "output_type": "stream",
     "text": [
      "mstep self.weights:  [1.10864744e-09 2.21729599e-03 1.10864744e-09 2.73932863e-01\n",
      " 1.10864744e-09 3.49223945e-01 6.97478455e-02 3.04878047e-01]\n",
      "Q Function:  -676690.5958872614\n",
      "\n"
     ]
    },
    {
     "name": "stderr",
     "output_type": "stream",
     "text": [
      "100%|██████████████████████████████████████████████████████████████████████████████████████████████████████| 4/4 [00:28<00:00,  7.13s/it]\n"
     ]
    },
    {
     "name": "stdout",
     "output_type": "stream",
     "text": [
      "mstep self.weights:  [1.10864744e-09 1.10864744e-09 1.10864744e-09 3.04210374e-01\n",
      " 1.10864744e-09 3.51441240e-01 3.94703345e-02 3.04878047e-01]\n",
      "Q Function:  -676179.027769853\n",
      "\n"
     ]
    },
    {
     "name": "stderr",
     "output_type": "stream",
     "text": [
      "100%|██████████████████████████████████████████████████████████████████████████████████████████████████████| 4/4 [00:28<00:00,  7.00s/it]\n"
     ]
    },
    {
     "name": "stdout",
     "output_type": "stream",
     "text": [
      "mstep self.weights:  [1.10864744e-09 1.10864744e-09 1.10864744e-09 3.41457562e-01\n",
      " 1.10864744e-09 3.51441240e-01 2.22314642e-03 3.04878047e-01]\n",
      "Q Function:  -668260.7610829931\n",
      "\n"
     ]
    },
    {
     "name": "stderr",
     "output_type": "stream",
     "text": [
      "100%|██████████████████████████████████████████████████████████████████████████████████████████████████████| 3/3 [00:27<00:00,  9.09s/it]\n"
     ]
    },
    {
     "name": "stdout",
     "output_type": "stream",
     "text": [
      "mstep self.weights:  [1.10864744e-09 1.10864744e-09 1.10864744e-09 3.43680708e-01\n",
      " 1.10864744e-09 3.51441240e-01 1.10864744e-09 3.04878047e-01]\n",
      "Q Function:  -666001.6682829855\n",
      "\n"
     ]
    },
    {
     "name": "stderr",
     "output_type": "stream",
     "text": [
      "100%|██████████████████████████████████████████████████████████████████████████████████████████████████████| 3/3 [00:27<00:00,  9.15s/it]\n"
     ]
    },
    {
     "name": "stdout",
     "output_type": "stream",
     "text": [
      "mstep self.weights:  [1.10864744e-09 1.10864744e-09 1.10864744e-09 3.43680708e-01\n",
      " 1.10864744e-09 3.51441240e-01 1.10864744e-09 3.04878047e-01]\n",
      "Q Function:  -666500.9600359536\n",
      "\n",
      "No. clus:  3\n",
      "ARI:  0.9865879768598665\n",
      "allen_b08 with 682 genes\n",
      "WARNING:root:Gene Hist1h2bc not found or has multiple entries in annotations.\n",
      "WARNING:root:Selecting 681 genes required 0.0% dataset threshold.\n"
     ]
    },
    {
     "name": "stderr",
     "output_type": "stream",
     "text": [
      "100%|████████████████████████████████████████████████████████████████████████████████████████████████████| 10/10 [01:25<00:00,  8.59s/it]\n",
      "100%|████████████████████████████████████████████████████████████████████████████████████████████████████| 10/10 [01:25<00:00,  8.51s/it]\n"
     ]
    },
    {
     "name": "stdout",
     "output_type": "stream",
     "text": [
      "mstep self.weights:  [0.22627279 0.03113262 0.1349513  0.09841159 0.06929398 0.05564951\n",
      " 0.16595862 0.10724575 0.03652843 0.07455541]\n",
      "Q Function:  -6196468.766584381\n",
      "\n"
     ]
    },
    {
     "name": "stderr",
     "output_type": "stream",
     "text": [
      "100%|████████████████████████████████████████████████████████████████████████████████████████████████████| 10/10 [01:23<00:00,  8.38s/it]\n"
     ]
    },
    {
     "name": "stdout",
     "output_type": "stream",
     "text": [
      "mstep self.weights:  [0.22519105 0.03733896 0.12692046 0.1488852  0.06938345 0.05559289\n",
      " 0.13195122 0.09336113 0.03811642 0.07325922]\n",
      "Q Function:  -5839034.985854844\n",
      "\n"
     ]
    },
    {
     "name": "stderr",
     "output_type": "stream",
     "text": [
      "100%|████████████████████████████████████████████████████████████████████████████████████████████████████| 10/10 [01:28<00:00,  8.84s/it]\n"
     ]
    },
    {
     "name": "stdout",
     "output_type": "stream",
     "text": [
      "mstep self.weights:  [0.22536515 0.04454416 0.12030537 0.1817134  0.06947254 0.05622035\n",
      " 0.12502586 0.06632437 0.0378852  0.0731436 ]\n",
      "Q Function:  -5834506.437428323\n",
      "\n"
     ]
    },
    {
     "name": "stderr",
     "output_type": "stream",
     "text": [
      "100%|████████████████████████████████████████████████████████████████████████████████████████████████████| 10/10 [01:25<00:00,  8.51s/it]\n"
     ]
    },
    {
     "name": "stdout",
     "output_type": "stream",
     "text": [
      "mstep self.weights:  [0.22536448 0.04142769 0.11787136 0.17307081 0.06955564 0.05638503\n",
      " 0.13531096 0.06965134 0.03793906 0.07342362]\n",
      "Q Function:  -5833249.619775702\n",
      "\n"
     ]
    },
    {
     "name": "stderr",
     "output_type": "stream",
     "text": [
      "100%|████████████████████████████████████████████████████████████████████████████████████████████████████| 10/10 [01:26<00:00,  8.63s/it]\n"
     ]
    },
    {
     "name": "stdout",
     "output_type": "stream",
     "text": [
      "mstep self.weights:  [0.22536448 0.0430509  0.11906776 0.15629528 0.06955911 0.05638503\n",
      " 0.14811653 0.07062045 0.03794133 0.07359912]\n",
      "Q Function:  -5836982.368589466\n",
      "\n"
     ]
    },
    {
     "name": "stderr",
     "output_type": "stream",
     "text": [
      "100%|████████████████████████████████████████████████████████████████████████████████████████████████████| 10/10 [01:25<00:00,  8.51s/it]\n"
     ]
    },
    {
     "name": "stdout",
     "output_type": "stream",
     "text": [
      "mstep self.weights:  [0.22536448 0.04369137 0.11954154 0.14502983 0.06955911 0.05638503\n",
      " 0.15735513 0.07154853 0.03794133 0.07358364]\n",
      "Q Function:  -5839645.276834355\n",
      "\n"
     ]
    },
    {
     "name": "stderr",
     "output_type": "stream",
     "text": [
      "100%|████████████████████████████████████████████████████████████████████████████████████████████████████| 10/10 [01:26<00:00,  8.67s/it]\n"
     ]
    },
    {
     "name": "stdout",
     "output_type": "stream",
     "text": [
      "mstep self.weights:  [0.22536448 0.04405331 0.12260336 0.12481774 0.06955911 0.05638503\n",
      " 0.16453806 0.0811292  0.03794133 0.07360837]\n",
      "Q Function:  -5856162.09962976\n",
      "\n"
     ]
    },
    {
     "name": "stderr",
     "output_type": "stream",
     "text": [
      "100%|████████████████████████████████████████████████████████████████████████████████████████████████████| 10/10 [01:29<00:00,  8.99s/it]\n"
     ]
    },
    {
     "name": "stdout",
     "output_type": "stream",
     "text": [
      "mstep self.weights:  [0.22536448 0.04512736 0.12165796 0.13356779 0.06955911 0.05638503\n",
      " 0.15726153 0.07986829 0.03778494 0.0734235 ]\n",
      "Q Function:  -5825454.709999299\n",
      "\n"
     ]
    },
    {
     "name": "stderr",
     "output_type": "stream",
     "text": [
      "100%|████████████████████████████████████████████████████████████████████████████████████████████████████| 10/10 [01:30<00:00,  9.06s/it]\n"
     ]
    },
    {
     "name": "stdout",
     "output_type": "stream",
     "text": [
      "mstep self.weights:  [0.22536448 0.04551685 0.12151295 0.13222697 0.06955911 0.05638503\n",
      " 0.15614598 0.08209945 0.03776568 0.0734235 ]\n",
      "Q Function:  -5833529.324335257\n",
      "\n"
     ]
    },
    {
     "name": "stderr",
     "output_type": "stream",
     "text": [
      "100%|████████████████████████████████████████████████████████████████████████████████████████████████████| 10/10 [01:31<00:00,  9.11s/it]\n"
     ]
    },
    {
     "name": "stdout",
     "output_type": "stream",
     "text": [
      "mstep self.weights:  [0.22536448 0.04560103 0.12391562 0.11932087 0.06955911 0.05638503\n",
      " 0.16203124 0.08647196 0.03792717 0.07342351]\n",
      "Q Function:  -5849733.886371817\n",
      "\n",
      "No. clus:  10\n",
      "ARI:  0.5615338235981772\n",
      "WARNING:root:Gene Hist1h2bc not found or has multiple entries in annotations.\n",
      "WARNING:root:Selecting 681 genes required 0.0% dataset threshold.\n"
     ]
    },
    {
     "name": "stderr",
     "output_type": "stream",
     "text": [
      "100%|████████████████████████████████████████████████████████████████████████████████████████████████████| 15/15 [01:25<00:00,  5.70s/it]\n",
      "100%|████████████████████████████████████████████████████████████████████████████████████████████████████| 15/15 [01:22<00:00,  5.51s/it]\n"
     ]
    },
    {
     "name": "stdout",
     "output_type": "stream",
     "text": [
      "mstep self.weights:  [0.13005084 0.12256324 0.13544586 0.04325297 0.03776678 0.03717392\n",
      " 0.07889656 0.05714649 0.08121148 0.08179146 0.00347966 0.03666725\n",
      " 0.02944294 0.10507362 0.02003693]\n",
      "Q Function:  -6333771.352954107\n",
      "\n"
     ]
    },
    {
     "name": "stderr",
     "output_type": "stream",
     "text": [
      "100%|████████████████████████████████████████████████████████████████████████████████████████████████████| 14/14 [01:18<00:00,  5.61s/it]\n"
     ]
    },
    {
     "name": "stdout",
     "output_type": "stream",
     "text": [
      "mstep self.weights:  [1.37399205e-01 1.53563604e-01 1.33911604e-01 4.25824029e-02\n",
      " 4.31360110e-02 3.81938362e-02 7.98306010e-02 6.77385902e-02\n",
      " 6.00742851e-02 7.49128491e-02 1.75654312e-10 3.61903457e-02\n",
      " 2.70056445e-02 8.87038252e-02 1.67571967e-02]\n",
      "Q Function:  -5812276.420831437\n",
      "\n"
     ]
    },
    {
     "name": "stderr",
     "output_type": "stream",
     "text": [
      "100%|████████████████████████████████████████████████████████████████████████████████████████████████████| 14/14 [01:26<00:00,  6.19s/it]\n"
     ]
    },
    {
     "name": "stdout",
     "output_type": "stream",
     "text": [
      "mstep self.weights:  [1.44619244e-01 1.50088741e-01 1.37101884e-01 4.38848670e-02\n",
      " 4.36151824e-02 3.85533214e-02 8.22643004e-02 7.22751360e-02\n",
      " 5.08789915e-02 7.67830279e-02 1.75654312e-10 3.63604427e-02\n",
      " 2.58499300e-02 8.12725848e-02 1.64523466e-02]\n",
      "Q Function:  -5782530.328332165\n",
      "\n"
     ]
    },
    {
     "name": "stderr",
     "output_type": "stream",
     "text": [
      "100%|████████████████████████████████████████████████████████████████████████████████████████████████████| 14/14 [01:19<00:00,  5.71s/it]\n"
     ]
    },
    {
     "name": "stdout",
     "output_type": "stream",
     "text": [
      "mstep self.weights:  [1.40081767e-01 1.38637793e-01 1.45310514e-01 4.44400359e-02\n",
      " 4.65130261e-02 3.89947817e-02 8.58225335e-02 7.52385105e-02\n",
      " 4.38773166e-02 7.69312390e-02 1.75654312e-10 3.63604427e-02\n",
      " 2.54709107e-02 8.61609868e-02 1.61601423e-02]\n",
      "Q Function:  -5783006.270944787\n",
      "\n"
     ]
    },
    {
     "name": "stderr",
     "output_type": "stream",
     "text": [
      "100%|████████████████████████████████████████████████████████████████████████████████████████████████████| 14/14 [01:19<00:00,  5.68s/it]\n"
     ]
    },
    {
     "name": "stdout",
     "output_type": "stream",
     "text": [
      "mstep self.weights:  [1.31175874e-01 1.34525175e-01 1.47495344e-01 4.53909289e-02\n",
      " 4.52813203e-02 4.03821824e-02 8.50060572e-02 7.55754044e-02\n",
      " 4.74086220e-02 7.68633550e-02 1.75654312e-10 3.63604427e-02\n",
      " 2.47737482e-02 9.50784716e-02 1.46830750e-02]\n",
      "Q Function:  -5776170.1118812775\n",
      "\n"
     ]
    },
    {
     "name": "stderr",
     "output_type": "stream",
     "text": [
      "100%|████████████████████████████████████████████████████████████████████████████████████████████████████| 14/14 [01:20<00:00,  5.72s/it]\n"
     ]
    },
    {
     "name": "stdout",
     "output_type": "stream",
     "text": [
      "mstep self.weights:  [1.17925522e-01 1.35489625e-01 1.45697520e-01 4.44396606e-02\n",
      " 4.64629635e-02 4.16311188e-02 8.55788435e-02 7.51170853e-02\n",
      " 4.66846539e-02 7.71229410e-02 1.75654312e-10 3.63603794e-02\n",
      " 2.56464191e-02 1.08317295e-01 1.35259718e-02]\n",
      "Q Function:  -5779792.610306657\n",
      "\n"
     ]
    },
    {
     "name": "stderr",
     "output_type": "stream",
     "text": [
      "100%|████████████████████████████████████████████████████████████████████████████████████████████████████| 14/14 [01:19<00:00,  5.70s/it]\n"
     ]
    },
    {
     "name": "stdout",
     "output_type": "stream",
     "text": [
      "mstep self.weights:  [1.07715639e-01 1.26380223e-01 1.51250608e-01 4.45886076e-02\n",
      " 4.89084123e-02 4.19844046e-02 8.54753576e-02 7.51971210e-02\n",
      " 4.76755723e-02 7.70923291e-02 1.75654312e-10 3.63600075e-02\n",
      " 2.54974632e-02 1.18527550e-01 1.33467040e-02]\n",
      "Q Function:  -5789564.311577829\n",
      "\n"
     ]
    },
    {
     "name": "stderr",
     "output_type": "stream",
     "text": [
      "100%|████████████████████████████████████████████████████████████████████████████████████████████████████| 14/14 [01:20<00:00,  5.72s/it]\n"
     ]
    },
    {
     "name": "stdout",
     "output_type": "stream",
     "text": [
      "mstep self.weights:  [1.03231706e-01 1.23329390e-01 1.52988761e-01 4.47932059e-02\n",
      " 4.99565655e-02 4.18054825e-02 8.55083334e-02 7.51926582e-02\n",
      " 4.77240900e-02 7.72798250e-02 1.75654312e-10 3.61872092e-02\n",
      " 2.52931094e-02 1.23184282e-01 1.35253816e-02]\n",
      "Q Function:  -5786839.5925036045\n",
      "\n"
     ]
    },
    {
     "name": "stderr",
     "output_type": "stream",
     "text": [
      "100%|████████████████████████████████████████████████████████████████████████████████████████████████████| 14/14 [01:20<00:00,  5.74s/it]\n"
     ]
    },
    {
     "name": "stdout",
     "output_type": "stream",
     "text": [
      "mstep self.weights:  [9.54120350e-02 1.20917818e-01 1.54770424e-01 4.47934700e-02\n",
      " 5.04447530e-02 4.18053375e-02 8.55083131e-02 7.53000612e-02\n",
      " 4.76802195e-02 7.73580347e-02 1.75654312e-10 3.61848863e-02\n",
      " 2.52927295e-02 1.31006275e-01 1.35256425e-02]\n",
      "Q Function:  -5782272.710304092\n",
      "\n"
     ]
    },
    {
     "name": "stderr",
     "output_type": "stream",
     "text": [
      "100%|████████████████████████████████████████████████████████████████████████████████████████████████████| 14/14 [01:14<00:00,  5.31s/it]\n"
     ]
    },
    {
     "name": "stdout",
     "output_type": "stream",
     "text": [
      "mstep self.weights:  [9.46650507e-02 1.20312779e-01 1.54772252e-01 4.47934700e-02\n",
      " 5.10389949e-02 4.18053375e-02 8.55083424e-02 7.52969529e-02\n",
      " 4.76783944e-02 7.73719081e-02 1.75654312e-10 3.61847942e-02\n",
      " 2.52927294e-02 1.31753352e-01 1.35256425e-02]\n",
      "Q Function:  -5777522.982079003\n",
      "\n",
      "No. clus:  14\n",
      "ARI:  0.45226423127203047\n",
      "allen_b02h01a02 with 2770 genes\n",
      "WARNING:root:Gene March4 not found or has multiple entries in annotations.\n",
      "WARNING:root:Gene Marc2 not found or has multiple entries in annotations.\n",
      "WARNING:root:Gene H2afy2 not found or has multiple entries in annotations.\n",
      "WARNING:root:Gene 1600002K03Rik not found or has multiple entries in annotations.\n",
      "WARNING:root:Gene 1700021F05Rik not found or has multiple entries in annotations.\n",
      "WARNING:root:Gene 1700023F06Rik not found or has multiple entries in annotations.\n",
      "WARNING:root:Gene H2afv not found or has multiple entries in annotations.\n",
      "WARNING:root:Gene March11 not found or has multiple entries in annotations.\n",
      "WARNING:root:Gene Sept5 not found or has multiple entries in annotations.\n",
      "WARNING:root:Gene 4933408B17Rik not found or has multiple entries in annotations.\n",
      "WARNING:root:Gene St5 not found or has multiple entries in annotations.\n",
      "WARNING:root:Gene Sept1 not found or has multiple entries in annotations.\n",
      "WARNING:root:Gene Tmem136 not found or has multiple entries in annotations.\n",
      "WARNING:root:Selecting 2757 genes required 0.0% dataset threshold.\n"
     ]
    },
    {
     "name": "stderr",
     "output_type": "stream",
     "text": [
      "100%|████████████████████████████████████████████████████████████████████████████████████████████████████| 11/11 [09:54<00:00, 54.03s/it]\n",
      "100%|████████████████████████████████████████████████████████████████████████████████████████████████████| 11/11 [09:31<00:00, 51.92s/it]\n"
     ]
    },
    {
     "name": "stdout",
     "output_type": "stream",
     "text": [
      "mstep self.weights:  [0.03577811 0.09321849 0.21939717 0.06603053 0.12697101 0.02886186\n",
      " 0.06517388 0.0992042  0.1499852  0.06634825 0.0490313 ]\n",
      "Q Function:  -41918351.07022431\n",
      "\n"
     ]
    },
    {
     "name": "stderr",
     "output_type": "stream",
     "text": [
      "100%|████████████████████████████████████████████████████████████████████████████████████████████████████| 11/11 [10:18<00:00, 56.20s/it]\n"
     ]
    },
    {
     "name": "stdout",
     "output_type": "stream",
     "text": [
      "mstep self.weights:  [0.03511135 0.09623451 0.21683998 0.06280629 0.12187618 0.03122831\n",
      " 0.07218584 0.09947461 0.14213316 0.07548085 0.04662891]\n",
      "Q Function:  -40766213.39050102\n",
      "\n"
     ]
    },
    {
     "name": "stderr",
     "output_type": "stream",
     "text": [
      "100%|████████████████████████████████████████████████████████████████████████████████████████████████████| 11/11 [09:36<00:00, 52.37s/it]\n"
     ]
    },
    {
     "name": "stdout",
     "output_type": "stream",
     "text": [
      "mstep self.weights:  [0.03493247 0.09795578 0.21642895 0.06117282 0.12122743 0.03139269\n",
      " 0.07346783 0.10439324 0.13292831 0.07456287 0.0515376 ]\n",
      "Q Function:  -40778154.58236936\n",
      "\n"
     ]
    },
    {
     "name": "stderr",
     "output_type": "stream",
     "text": [
      "100%|████████████████████████████████████████████████████████████████████████████████████████████████████| 11/11 [10:07<00:00, 55.26s/it]\n"
     ]
    },
    {
     "name": "stdout",
     "output_type": "stream",
     "text": [
      "mstep self.weights:  [0.03518573 0.09880684 0.21643003 0.06033525 0.12143028 0.03143339\n",
      " 0.07404756 0.11256843 0.12825143 0.06415894 0.05735212]\n",
      "Q Function:  -40826963.41482774\n",
      "\n"
     ]
    },
    {
     "name": "stderr",
     "output_type": "stream",
     "text": [
      "100%|████████████████████████████████████████████████████████████████████████████████████████████████████| 11/11 [09:46<00:00, 53.34s/it]\n"
     ]
    },
    {
     "name": "stdout",
     "output_type": "stream",
     "text": [
      "mstep self.weights:  [0.03496695 0.10007245 0.21603042 0.05918372 0.12164718 0.0314616\n",
      " 0.07438358 0.11610774 0.12412687 0.06092343 0.06109607]\n",
      "Q Function:  -40827107.40305851\n",
      "\n"
     ]
    },
    {
     "name": "stderr",
     "output_type": "stream",
     "text": [
      "100%|████████████████████████████████████████████████████████████████████████████████████████████████████| 11/11 [09:16<00:00, 50.59s/it]\n"
     ]
    },
    {
     "name": "stdout",
     "output_type": "stream",
     "text": [
      "mstep self.weights:  [0.03424032 0.10158728 0.21531971 0.0578094  0.12167815 0.03148726\n",
      " 0.0741548  0.11865651 0.12115625 0.06058495 0.06332538]\n",
      "Q Function:  -40795291.961491056\n",
      "\n"
     ]
    },
    {
     "name": "stderr",
     "output_type": "stream",
     "text": [
      "100%|████████████████████████████████████████████████████████████████████████████████████████████████████| 11/11 [09:45<00:00, 53.27s/it]\n"
     ]
    },
    {
     "name": "stdout",
     "output_type": "stream",
     "text": [
      "mstep self.weights:  [0.0334853  0.10283068 0.21471197 0.05662933 0.12166355 0.03152065\n",
      " 0.07410448 0.12132685 0.11877358 0.05979463 0.06515898]\n",
      "Q Function:  -40790023.93148045\n",
      "\n"
     ]
    },
    {
     "name": "stderr",
     "output_type": "stream",
     "text": [
      "100%|████████████████████████████████████████████████████████████████████████████████████████████████████| 11/11 [09:16<00:00, 50.61s/it]\n"
     ]
    },
    {
     "name": "stdout",
     "output_type": "stream",
     "text": [
      "mstep self.weights:  [0.03306145 0.10288568 0.21394226 0.05659738 0.12168462 0.03151852\n",
      " 0.07400026 0.12415958 0.11727457 0.05871879 0.06615688]\n",
      "Q Function:  -40784889.28247924\n",
      "\n"
     ]
    },
    {
     "name": "stderr",
     "output_type": "stream",
     "text": [
      "100%|████████████████████████████████████████████████████████████████████████████████████████████████████| 11/11 [09:19<00:00, 50.90s/it]\n"
     ]
    },
    {
     "name": "stdout",
     "output_type": "stream",
     "text": [
      "mstep self.weights:  [0.03281318 0.10234096 0.21318153 0.05715654 0.12176573 0.0315159\n",
      " 0.07386331 0.12680481 0.11615298 0.05781928 0.06658579]\n",
      "Q Function:  -40779773.21415124\n",
      "\n"
     ]
    },
    {
     "name": "stderr",
     "output_type": "stream",
     "text": [
      "100%|████████████████████████████████████████████████████████████████████████████████████████████████████| 11/11 [09:23<00:00, 51.20s/it]\n"
     ]
    },
    {
     "name": "stdout",
     "output_type": "stream",
     "text": [
      "mstep self.weights:  [0.03271589 0.10267951 0.2120665  0.05681993 0.12179949 0.03151705\n",
      " 0.07370682 0.1311612  0.11515534 0.05548417 0.06689409]\n",
      "Q Function:  -40765880.57435482\n",
      "\n",
      "No. clus:  11\n",
      "ARI:  0.4947838975870489\n",
      "WARNING:root:Gene March4 not found or has multiple entries in annotations.\n",
      "WARNING:root:Gene Marc2 not found or has multiple entries in annotations.\n",
      "WARNING:root:Gene H2afy2 not found or has multiple entries in annotations.\n",
      "WARNING:root:Gene 1600002K03Rik not found or has multiple entries in annotations.\n",
      "WARNING:root:Gene 1700021F05Rik not found or has multiple entries in annotations.\n",
      "WARNING:root:Gene 1700023F06Rik not found or has multiple entries in annotations.\n",
      "WARNING:root:Gene H2afv not found or has multiple entries in annotations.\n",
      "WARNING:root:Gene March11 not found or has multiple entries in annotations.\n",
      "WARNING:root:Gene Sept5 not found or has multiple entries in annotations.\n",
      "WARNING:root:Gene 4933408B17Rik not found or has multiple entries in annotations.\n",
      "WARNING:root:Gene St5 not found or has multiple entries in annotations.\n",
      "WARNING:root:Gene Sept1 not found or has multiple entries in annotations.\n",
      "WARNING:root:Gene Tmem136 not found or has multiple entries in annotations.\n",
      "WARNING:root:Selecting 2757 genes required 0.0% dataset threshold.\n"
     ]
    },
    {
     "name": "stderr",
     "output_type": "stream",
     "text": [
      "100%|████████████████████████████████████████████████████████████████████████████████████████████████████| 16/16 [09:41<00:00, 36.34s/it]\n",
      "100%|████████████████████████████████████████████████████████████████████████████████████████████████████| 16/16 [09:37<00:00, 36.09s/it]\n"
     ]
    },
    {
     "name": "stdout",
     "output_type": "stream",
     "text": [
      "mstep self.weights:  [0.03468576 0.03550206 0.01898846 0.06693476 0.0580302  0.0253842\n",
      " 0.03952163 0.11515218 0.17903954 0.07947768 0.03495469 0.02087334\n",
      " 0.14790302 0.03065772 0.07188041 0.04101434]\n",
      "Q Function:  -42179359.070807904\n",
      "\n"
     ]
    },
    {
     "name": "stderr",
     "output_type": "stream",
     "text": [
      "100%|████████████████████████████████████████████████████████████████████████████████████████████████████| 16/16 [09:34<00:00, 35.89s/it]\n"
     ]
    },
    {
     "name": "stdout",
     "output_type": "stream",
     "text": [
      "mstep self.weights:  [0.03882925 0.03813841 0.02890585 0.07578436 0.06196858 0.03708536\n",
      " 0.0432806  0.1035641  0.15363944 0.07710913 0.03994625 0.02908911\n",
      " 0.12030788 0.03252695 0.06594948 0.05387525]\n",
      "Q Function:  -40497831.329142176\n",
      "\n"
     ]
    },
    {
     "name": "stderr",
     "output_type": "stream",
     "text": [
      "100%|█████████████████████████████████████████████████████████████████████████████████████████████████| 16/16 [2:21:04<00:00, 529.05s/it]\n"
     ]
    },
    {
     "name": "stdout",
     "output_type": "stream",
     "text": [
      "mstep self.weights:  [0.04016475 0.03804862 0.03023391 0.07876007 0.06397962 0.04152075\n",
      " 0.04324232 0.10305495 0.14851436 0.07677643 0.03871069 0.03193784\n",
      " 0.11388364 0.03227785 0.06351114 0.05538307]\n",
      "Q Function:  -40526292.95555965\n",
      "\n"
     ]
    },
    {
     "name": "stderr",
     "output_type": "stream",
     "text": [
      "100%|████████████████████████████████████████████████████████████████████████████████████████████████████| 16/16 [09:55<00:00, 37.24s/it]\n"
     ]
    },
    {
     "name": "stdout",
     "output_type": "stream",
     "text": [
      "mstep self.weights:  [0.04060926 0.0261952  0.03031501 0.0802537  0.06688437 0.04308834\n",
      " 0.04341579 0.10466941 0.1478029  0.07712654 0.04586251 0.03261299\n",
      " 0.11028654 0.03235472 0.06203729 0.05648541]\n",
      "Q Function:  -40596713.28688795\n",
      "\n"
     ]
    },
    {
     "name": "stderr",
     "output_type": "stream",
     "text": [
      "100%|████████████████████████████████████████████████████████████████████████████████████████████████████| 16/16 [09:59<00:00, 37.47s/it]\n"
     ]
    },
    {
     "name": "stdout",
     "output_type": "stream",
     "text": [
      "mstep self.weights:  [0.04052374 0.02287962 0.03035729 0.08180669 0.0678435  0.04502303\n",
      " 0.04328536 0.09921548 0.14902196 0.07535451 0.05186691 0.03308334\n",
      " 0.10877053 0.03230075 0.06103542 0.05763186]\n",
      "Q Function:  -40669950.50214775\n",
      "\n"
     ]
    },
    {
     "name": "stderr",
     "output_type": "stream",
     "text": [
      "100%|████████████████████████████████████████████████████████████████████████████████████████████████████| 16/16 [09:16<00:00, 34.76s/it]\n"
     ]
    },
    {
     "name": "stdout",
     "output_type": "stream",
     "text": [
      "mstep self.weights:  [0.04006428 0.02463434 0.03035753 0.08270112 0.06757437 0.04636202\n",
      " 0.0431425  0.09310503 0.14887582 0.07545432 0.05478559 0.03331062\n",
      " 0.10815405 0.03224711 0.06037894 0.05885237]\n",
      "Q Function:  -40639910.460706845\n",
      "\n"
     ]
    },
    {
     "name": "stderr",
     "output_type": "stream",
     "text": [
      "100%|████████████████████████████████████████████████████████████████████████████████████████████████████| 16/16 [09:28<00:00, 35.51s/it]\n"
     ]
    },
    {
     "name": "stdout",
     "output_type": "stream",
     "text": [
      "mstep self.weights:  [0.03996065 0.02446104 0.03035753 0.08292485 0.0672642  0.04759076\n",
      " 0.0430521  0.08850377 0.15204869 0.07196443 0.05903335 0.03353918\n",
      " 0.10771606 0.03217953 0.05956753 0.05983634]\n",
      "Q Function:  -40681419.92573169\n",
      "\n"
     ]
    },
    {
     "name": "stderr",
     "output_type": "stream",
     "text": [
      "100%|████████████████████████████████████████████████████████████████████████████████████████████████████| 16/16 [09:37<00:00, 36.11s/it]\n"
     ]
    },
    {
     "name": "stdout",
     "output_type": "stream",
     "text": [
      "mstep self.weights:  [0.04008453 0.02441279 0.03035757 0.08312439 0.06733879 0.04848453\n",
      " 0.04300296 0.08634089 0.1520721  0.0719365  0.06007563 0.03364163\n",
      " 0.10766519 0.03215066 0.05870519 0.06060664]\n",
      "Q Function:  -40672179.804696\n",
      "\n"
     ]
    },
    {
     "name": "stderr",
     "output_type": "stream",
     "text": [
      "100%|████████████████████████████████████████████████████████████████████████████████████████████████████| 16/16 [09:42<00:00, 36.39s/it]\n"
     ]
    },
    {
     "name": "stdout",
     "output_type": "stream",
     "text": [
      "mstep self.weights:  [0.04013385 0.02439784 0.03035756 0.08319571 0.06735763 0.04950047\n",
      " 0.04296619 0.08437975 0.15209529 0.07194194 0.06079543 0.03374115\n",
      " 0.10771243 0.03215746 0.05809418 0.06117311]\n",
      "Q Function:  -40670602.58935472\n",
      "\n"
     ]
    },
    {
     "name": "stderr",
     "output_type": "stream",
     "text": [
      "100%|████████████████████████████████████████████████████████████████████████████████████████████████████| 16/16 [09:24<00:00, 35.26s/it]\n"
     ]
    },
    {
     "name": "stdout",
     "output_type": "stream",
     "text": [
      "mstep self.weights:  [0.04015386 0.02416881 0.03035756 0.08322916 0.06733702 0.04989874\n",
      " 0.04294192 0.08275543 0.15214697 0.07195361 0.06150934 0.03416501\n",
      " 0.10798718 0.03214653 0.05752383 0.06172503]\n",
      "Q Function:  -40669205.99638539\n",
      "\n",
      "No. clus:  16\n",
      "ARI:  0.4254878274310422\n",
      "cl3 with 1137 genes\n",
      "WARNING:root:Gene C1orf143 not found or has multiple entries in annotations.\n",
      "WARNING:root:Gene H2AFY2 not found or has multiple entries in annotations.\n",
      "WARNING:root:Gene C11orf44 not found or has multiple entries in annotations.\n",
      "WARNING:root:Gene AC079062.1 not found or has multiple entries in annotations.\n",
      "WARNING:root:Gene MARCH3 not found or has multiple entries in annotations.\n",
      "WARNING:root:Gene HIST1H2AC not found or has multiple entries in annotations.\n",
      "WARNING:root:Gene HIST1H2BJ not found or has multiple entries in annotations.\n",
      "WARNING:root:Gene HIST1H4H not found or has multiple entries in annotations.\n",
      "WARNING:root:Gene AL022068.1 not found or has multiple entries in annotations.\n",
      "WARNING:root:Gene HIST1H2BE not found or has multiple entries in annotations.\n",
      "WARNING:root:Gene GVQW2 not found or has multiple entries in annotations.\n",
      "WARNING:root:Gene AC002454.1 not found or has multiple entries in annotations.\n",
      "WARNING:root:Gene LINC01510 not found or has multiple entries in annotations.\n",
      "WARNING:root:Gene AC022733.2 not found or has multiple entries in annotations.\n",
      "WARNING:root:Selecting 1123 genes required 0.0% dataset threshold.\n"
     ]
    },
    {
     "name": "stderr",
     "output_type": "stream",
     "text": [
      "100%|██████████████████████████████████████████████████████████████████████████████████████████████████████| 3/3 [01:42<00:00, 34.10s/it]\n"
     ]
    },
    {
     "name": "stdout",
     "output_type": "stream",
     "text": [
      "mstep self.weights:  [0.35033259 0.30487805 0.34478936]\n",
      "Q Function:  -1122756.060008354\n",
      "\n"
     ]
    },
    {
     "name": "stderr",
     "output_type": "stream",
     "text": [
      "100%|██████████████████████████████████████████████████████████████████████████████████████████████████████| 3/3 [01:53<00:00, 37.90s/it]\n"
     ]
    },
    {
     "name": "stdout",
     "output_type": "stream",
     "text": [
      "mstep self.weights:  [0.35033259 0.30487805 0.34478936]\n",
      "Q Function:  -1110612.0329809152\n",
      "\n"
     ]
    },
    {
     "name": "stderr",
     "output_type": "stream",
     "text": [
      "100%|██████████████████████████████████████████████████████████████████████████████████████████████████████| 3/3 [01:54<00:00, 38.24s/it]\n"
     ]
    },
    {
     "name": "stdout",
     "output_type": "stream",
     "text": [
      "mstep self.weights:  [0.35033259 0.30487805 0.34478936]\n",
      "Q Function:  -1110612.0329809152\n",
      "\n"
     ]
    },
    {
     "name": "stderr",
     "output_type": "stream",
     "text": [
      "100%|██████████████████████████████████████████████████████████████████████████████████████████████████████| 3/3 [01:42<00:00, 34.19s/it]\n"
     ]
    },
    {
     "name": "stdout",
     "output_type": "stream",
     "text": [
      "mstep self.weights:  [0.35033259 0.30487805 0.34478936]\n",
      "Q Function:  -1110612.0329809152\n",
      "\n"
     ]
    },
    {
     "name": "stderr",
     "output_type": "stream",
     "text": [
      "100%|██████████████████████████████████████████████████████████████████████████████████████████████████████| 3/3 [01:47<00:00, 35.69s/it]\n"
     ]
    },
    {
     "name": "stdout",
     "output_type": "stream",
     "text": [
      "mstep self.weights:  [0.35033259 0.30487805 0.34478936]\n",
      "Q Function:  -1110612.0329809152\n",
      "\n"
     ]
    },
    {
     "name": "stderr",
     "output_type": "stream",
     "text": [
      "100%|██████████████████████████████████████████████████████████████████████████████████████████████████████| 3/3 [01:47<00:00, 35.74s/it]\n"
     ]
    },
    {
     "name": "stdout",
     "output_type": "stream",
     "text": [
      "mstep self.weights:  [0.35033259 0.30487805 0.34478936]\n",
      "Q Function:  -1110612.0329809152\n",
      "\n"
     ]
    },
    {
     "name": "stderr",
     "output_type": "stream",
     "text": [
      "100%|██████████████████████████████████████████████████████████████████████████████████████████████████████| 3/3 [01:57<00:00, 39.02s/it]\n"
     ]
    },
    {
     "name": "stdout",
     "output_type": "stream",
     "text": [
      "mstep self.weights:  [0.35033259 0.30487805 0.34478936]\n",
      "Q Function:  -1110612.0329809152\n",
      "\n"
     ]
    },
    {
     "name": "stderr",
     "output_type": "stream",
     "text": [
      "100%|██████████████████████████████████████████████████████████████████████████████████████████████████████| 3/3 [01:40<00:00, 33.58s/it]\n"
     ]
    },
    {
     "name": "stdout",
     "output_type": "stream",
     "text": [
      "mstep self.weights:  [0.35033259 0.30487805 0.34478936]\n",
      "Q Function:  -1110612.0329809152\n",
      "\n"
     ]
    },
    {
     "name": "stderr",
     "output_type": "stream",
     "text": [
      "100%|██████████████████████████████████████████████████████████████████████████████████████████████████████| 3/3 [01:56<00:00, 38.74s/it]\n"
     ]
    },
    {
     "name": "stdout",
     "output_type": "stream",
     "text": [
      "mstep self.weights:  [0.35033259 0.30487805 0.34478936]\n",
      "Q Function:  -1110612.0329809152\n",
      "\n"
     ]
    },
    {
     "name": "stderr",
     "output_type": "stream",
     "text": [
      "100%|██████████████████████████████████████████████████████████████████████████████████████████████████████| 3/3 [01:56<00:00, 38.93s/it]\n"
     ]
    },
    {
     "name": "stdout",
     "output_type": "stream",
     "text": [
      "mstep self.weights:  [0.35033259 0.30487805 0.34478936]\n",
      "Q Function:  -1110612.0329809152\n",
      "\n",
      "No. clus:  3\n",
      "ARI:  0.9900404669788534\n",
      "WARNING:root:Gene C1orf143 not found or has multiple entries in annotations.\n",
      "WARNING:root:Gene H2AFY2 not found or has multiple entries in annotations.\n",
      "WARNING:root:Gene C11orf44 not found or has multiple entries in annotations.\n",
      "WARNING:root:Gene AC079062.1 not found or has multiple entries in annotations.\n",
      "WARNING:root:Gene MARCH3 not found or has multiple entries in annotations.\n",
      "WARNING:root:Gene HIST1H2AC not found or has multiple entries in annotations.\n",
      "WARNING:root:Gene HIST1H2BJ not found or has multiple entries in annotations.\n",
      "WARNING:root:Gene HIST1H4H not found or has multiple entries in annotations.\n",
      "WARNING:root:Gene AL022068.1 not found or has multiple entries in annotations.\n",
      "WARNING:root:Gene HIST1H2BE not found or has multiple entries in annotations.\n",
      "WARNING:root:Gene GVQW2 not found or has multiple entries in annotations.\n",
      "WARNING:root:Gene AC002454.1 not found or has multiple entries in annotations.\n",
      "WARNING:root:Gene LINC01510 not found or has multiple entries in annotations.\n",
      "WARNING:root:Gene AC022733.2 not found or has multiple entries in annotations.\n",
      "WARNING:root:Selecting 1123 genes required 0.0% dataset threshold.\n"
     ]
    },
    {
     "name": "stderr",
     "output_type": "stream",
     "text": [
      "100%|██████████████████████████████████████████████████████████████████████████████████████████████████████| 8/8 [01:58<00:00, 14.85s/it]\n",
      "100%|██████████████████████████████████████████████████████████████████████████████████████████████████████| 8/8 [02:04<00:00, 15.58s/it]\n"
     ]
    },
    {
     "name": "stdout",
     "output_type": "stream",
     "text": [
      "mstep self.weights:  [0.07468249 0.22299322 0.02798144 0.22908711 0.07306331 0.10044925\n",
      " 0.21635847 0.05538471]\n",
      "Q Function:  -1170526.1807095676\n",
      "\n"
     ]
    },
    {
     "name": "stderr",
     "output_type": "stream",
     "text": [
      "100%|██████████████████████████████████████████████████████████████████████████████████████████████████████| 7/7 [01:59<00:00, 17.04s/it]\n"
     ]
    },
    {
     "name": "stdout",
     "output_type": "stream",
     "text": [
      "mstep self.weights:  [1.10864855e-03 2.87328571e-01 1.10864744e-09 3.03769400e-01\n",
      " 5.96781467e-02 1.04747468e-01 2.38933240e-01 4.43452379e-03]\n",
      "Q Function:  -1139745.1885511382\n",
      "\n"
     ]
    },
    {
     "name": "stderr",
     "output_type": "stream",
     "text": [
      "100%|██████████████████████████████████████████████████████████████████████████████████████████████████████| 6/6 [01:59<00:00, 19.87s/it]\n"
     ]
    },
    {
     "name": "stdout",
     "output_type": "stream",
     "text": [
      "mstep self.weights:  [1.10864744e-09 3.30118988e-01 1.10864744e-09 3.04878047e-01\n",
      " 1.91049582e-02 8.06644132e-02 2.63016296e-01 2.21729599e-03]\n",
      "Q Function:  -1129098.7411611048\n",
      "\n"
     ]
    },
    {
     "name": "stderr",
     "output_type": "stream",
     "text": [
      "100%|██████████████████████████████████████████████████████████████████████████████████████████████████████| 5/5 [01:42<00:00, 20.46s/it]\n"
     ]
    },
    {
     "name": "stdout",
     "output_type": "stream",
     "text": [
      "mstep self.weights:  [1.10864744e-09 3.48115297e-01 1.10864744e-09 3.04878047e-01\n",
      " 3.32594343e-03 7.04643060e-02 2.73216403e-01 1.10864744e-09]\n",
      "Q Function:  -1128057.564092258\n",
      "\n"
     ]
    },
    {
     "name": "stderr",
     "output_type": "stream",
     "text": [
      "100%|██████████████████████████████████████████████████████████████████████████████████████████████████████| 4/4 [01:44<00:00, 26.17s/it]\n"
     ]
    },
    {
     "name": "stdout",
     "output_type": "stream",
     "text": [
      "mstep self.weights:  [1.10864744e-09 3.51441240e-01 1.10864744e-09 3.04878047e-01\n",
      " 1.10864744e-09 4.67588880e-02 2.96921821e-01 1.10864744e-09]\n",
      "Q Function:  -1124097.2248664894\n",
      "\n"
     ]
    },
    {
     "name": "stderr",
     "output_type": "stream",
     "text": [
      "100%|██████████████████████████████████████████████████████████████████████████████████████████████████████| 4/4 [01:43<00:00, 25.81s/it]\n"
     ]
    },
    {
     "name": "stdout",
     "output_type": "stream",
     "text": [
      "mstep self.weights:  [1.10864744e-09 3.51441240e-01 1.10864744e-09 3.04878047e-01\n",
      " 1.10864744e-09 4.58883673e-03 3.39091872e-01 1.10864744e-09]\n",
      "Q Function:  -1117128.149935453\n",
      "\n"
     ]
    },
    {
     "name": "stderr",
     "output_type": "stream",
     "text": [
      "100%|██████████████████████████████████████████████████████████████████████████████████████████████████████| 3/3 [01:39<00:00, 33.26s/it]\n"
     ]
    },
    {
     "name": "stdout",
     "output_type": "stream",
     "text": [
      "mstep self.weights:  [1.10864744e-09 3.51441240e-01 1.10864744e-09 3.04878047e-01\n",
      " 1.10864744e-09 1.10864744e-09 3.43680708e-01 1.10864744e-09]\n",
      "Q Function:  -1114487.3560401616\n",
      "\n"
     ]
    },
    {
     "name": "stderr",
     "output_type": "stream",
     "text": [
      "100%|██████████████████████████████████████████████████████████████████████████████████████████████████████| 3/3 [01:52<00:00, 37.57s/it]\n"
     ]
    },
    {
     "name": "stdout",
     "output_type": "stream",
     "text": [
      "mstep self.weights:  [1.10864744e-09 3.51441240e-01 1.10864744e-09 3.04878047e-01\n",
      " 1.10864744e-09 1.10864744e-09 3.43680708e-01 1.10864744e-09]\n",
      "Q Function:  -1114446.2225647783\n",
      "\n"
     ]
    },
    {
     "name": "stderr",
     "output_type": "stream",
     "text": [
      "100%|██████████████████████████████████████████████████████████████████████████████████████████████████████| 3/3 [01:45<00:00, 35.03s/it]\n"
     ]
    },
    {
     "name": "stdout",
     "output_type": "stream",
     "text": [
      "mstep self.weights:  [1.10864744e-09 3.51441240e-01 1.10864744e-09 3.04878047e-01\n",
      " 1.10864744e-09 1.10864744e-09 3.43680708e-01 1.10864744e-09]\n",
      "Q Function:  -1114446.2225647783\n",
      "\n"
     ]
    },
    {
     "name": "stderr",
     "output_type": "stream",
     "text": [
      "100%|██████████████████████████████████████████████████████████████████████████████████████████████████████| 3/3 [01:39<00:00, 33.33s/it]\n"
     ]
    },
    {
     "name": "stdout",
     "output_type": "stream",
     "text": [
      "mstep self.weights:  [1.10864744e-09 3.51441240e-01 1.10864744e-09 3.04878047e-01\n",
      " 1.10864744e-09 1.10864744e-09 3.43680708e-01 1.10864744e-09]\n",
      "Q Function:  -1114446.2225647783\n",
      "\n",
      "No. clus:  3\n",
      "ARI:  0.9865879768598665\n",
      "allen_b08 with 1948 genes\n",
      "WARNING:root:Gene 1700023F06Rik not found or has multiple entries in annotations.\n",
      "WARNING:root:Gene Hist1h2bc not found or has multiple entries in annotations.\n",
      "WARNING:root:Gene Hist1h2be not found or has multiple entries in annotations.\n",
      "WARNING:root:Gene Gm26619 not found or has multiple entries in annotations.\n",
      "WARNING:root:Gene 4933408B17Rik not found or has multiple entries in annotations.\n",
      "WARNING:root:Selecting 1943 genes required 0.0% dataset threshold.\n"
     ]
    },
    {
     "name": "stderr",
     "output_type": "stream",
     "text": [
      "100%|████████████████████████████████████████████████████████████████████████████████████████████████████| 10/10 [05:36<00:00, 33.70s/it]\n",
      "100%|████████████████████████████████████████████████████████████████████████████████████████████████████| 10/10 [05:38<00:00, 33.90s/it]\n"
     ]
    },
    {
     "name": "stdout",
     "output_type": "stream",
     "text": [
      "mstep self.weights:  [0.03638765 0.22595658 0.07242243 0.28667181 0.05929015 0.08785889\n",
      " 0.03862151 0.06858369 0.05147959 0.07272771]\n",
      "Q Function:  -11935213.871461805\n",
      "\n"
     ]
    },
    {
     "name": "stderr",
     "output_type": "stream",
     "text": [
      "100%|████████████████████████████████████████████████████████████████████████████████████████████████████| 10/10 [05:33<00:00, 33.31s/it]\n"
     ]
    },
    {
     "name": "stdout",
     "output_type": "stream",
     "text": [
      "mstep self.weights:  [0.03542882 0.22536448 0.0737741  0.30369967 0.05229406 0.07618407\n",
      " 0.03864395 0.07018773 0.05111615 0.07330696]\n",
      "Q Function:  -11418605.672579441\n",
      "\n"
     ]
    },
    {
     "name": "stderr",
     "output_type": "stream",
     "text": [
      "100%|████████████████████████████████████████████████████████████████████████████████████████████████████| 10/10 [05:32<00:00, 33.27s/it]\n"
     ]
    },
    {
     "name": "stdout",
     "output_type": "stream",
     "text": [
      "mstep self.weights:  [0.03250422 0.22536328 0.07342427 0.30496588 0.04591084 0.07347074\n",
      " 0.03864521 0.07050122 0.05129107 0.08392327]\n",
      "Q Function:  -11402686.4203859\n",
      "\n"
     ]
    },
    {
     "name": "stderr",
     "output_type": "stream",
     "text": [
      "100%|████████████████████████████████████████████████████████████████████████████████████████████████████| 10/10 [05:23<00:00, 32.33s/it]\n"
     ]
    },
    {
     "name": "stdout",
     "output_type": "stream",
     "text": [
      "mstep self.weights:  [0.0305725  0.22536323 0.07346813 0.28517656 0.04532158 0.07265924\n",
      " 0.03864515 0.07047474 0.05129106 0.10702781]\n",
      "Q Function:  -11386359.085998861\n",
      "\n"
     ]
    },
    {
     "name": "stderr",
     "output_type": "stream",
     "text": [
      "100%|████████████████████████████████████████████████████████████████████████████████████████████████████| 10/10 [05:22<00:00, 32.24s/it]\n"
     ]
    },
    {
     "name": "stdout",
     "output_type": "stream",
     "text": [
      "mstep self.weights:  [0.02998593 0.22536328 0.07342483 0.25308314 0.04546698 0.0734767\n",
      " 0.03864515 0.07070616 0.05129106 0.13855676]\n",
      "Q Function:  -11395154.854000635\n",
      "\n"
     ]
    },
    {
     "name": "stderr",
     "output_type": "stream",
     "text": [
      "100%|████████████████████████████████████████████████████████████████████████████████████████████████████| 10/10 [05:22<00:00, 32.22s/it]\n"
     ]
    },
    {
     "name": "stdout",
     "output_type": "stream",
     "text": [
      "mstep self.weights:  [0.02827352 0.22502068 0.07342105 0.23416394 0.04610347 0.07452851\n",
      " 0.03864395 0.06987953 0.05129106 0.15867429]\n",
      "Q Function:  -11381771.773607558\n",
      "\n"
     ]
    },
    {
     "name": "stderr",
     "output_type": "stream",
     "text": [
      "100%|████████████████████████████████████████████████████████████████████████████████████████████████████| 10/10 [05:49<00:00, 34.91s/it]\n"
     ]
    },
    {
     "name": "stdout",
     "output_type": "stream",
     "text": [
      "mstep self.weights:  [0.02728954 0.22500917 0.07342348 0.22031698 0.04543624 0.07570489\n",
      " 0.03864395 0.06979974 0.05129106 0.17308495]\n",
      "Q Function:  -11382921.10575632\n",
      "\n"
     ]
    },
    {
     "name": "stderr",
     "output_type": "stream",
     "text": [
      "100%|████████████████████████████████████████████████████████████████████████████████████████████████████| 10/10 [05:37<00:00, 33.70s/it]\n"
     ]
    },
    {
     "name": "stdout",
     "output_type": "stream",
     "text": [
      "mstep self.weights:  [0.02696629 0.22477159 0.07341298 0.21371137 0.04549106 0.07625382\n",
      " 0.03864395 0.06943654 0.05129106 0.18002134]\n",
      "Q Function:  -11385470.036828585\n",
      "\n"
     ]
    },
    {
     "name": "stderr",
     "output_type": "stream",
     "text": [
      "100%|████████████████████████████████████████████████████████████████████████████████████████████████████| 10/10 [05:32<00:00, 33.25s/it]\n"
     ]
    },
    {
     "name": "stdout",
     "output_type": "stream",
     "text": [
      "mstep self.weights:  [0.02400903 0.22466188 0.07339625 0.21096147 0.04510792 0.07962122\n",
      " 0.03864395 0.06922137 0.05129106 0.18308585]\n",
      "Q Function:  -11381231.49872629\n",
      "\n"
     ]
    },
    {
     "name": "stderr",
     "output_type": "stream",
     "text": [
      "100%|████████████████████████████████████████████████████████████████████████████████████████████████████| 10/10 [06:03<00:00, 36.33s/it]\n"
     ]
    },
    {
     "name": "stdout",
     "output_type": "stream",
     "text": [
      "mstep self.weights:  [0.02152395 0.22466213 0.07324796 0.20921245 0.04498604 0.08325931\n",
      " 0.03864393 0.06888707 0.05129106 0.1842861 ]\n",
      "Q Function:  -11382090.767521169\n",
      "\n",
      "No. clus:  10\n",
      "ARI:  0.5824515192504232\n",
      "WARNING:root:Gene 1700023F06Rik not found or has multiple entries in annotations.\n",
      "WARNING:root:Gene Hist1h2bc not found or has multiple entries in annotations.\n",
      "WARNING:root:Gene Hist1h2be not found or has multiple entries in annotations.\n",
      "WARNING:root:Gene Gm26619 not found or has multiple entries in annotations.\n",
      "WARNING:root:Gene 4933408B17Rik not found or has multiple entries in annotations.\n",
      "WARNING:root:Selecting 1943 genes required 0.0% dataset threshold.\n"
     ]
    },
    {
     "name": "stderr",
     "output_type": "stream",
     "text": [
      "100%|████████████████████████████████████████████████████████████████████████████████████████████████████| 15/15 [06:06<00:00, 24.44s/it]\n",
      "100%|████████████████████████████████████████████████████████████████████████████████████████████████████| 15/15 [05:48<00:00, 23.22s/it]\n"
     ]
    },
    {
     "name": "stdout",
     "output_type": "stream",
     "text": [
      "mstep self.weights:  [0.05994961 0.06303228 0.10167571 0.1193145  0.11688767 0.03660466\n",
      " 0.00825582 0.04932629 0.03823869 0.10663328 0.08112671 0.04067177\n",
      " 0.06389078 0.087363   0.02702924]\n",
      "Q Function:  -12111911.846862879\n",
      "\n"
     ]
    },
    {
     "name": "stderr",
     "output_type": "stream",
     "text": [
      "100%|████████████████████████████████████████████████████████████████████████████████████████████████████| 14/14 [05:37<00:00, 24.13s/it]\n"
     ]
    },
    {
     "name": "stdout",
     "output_type": "stream",
     "text": [
      "mstep self.weights:  [5.63850370e-02 5.94018318e-02 1.29078466e-01 1.03502943e-01\n",
      " 9.62602043e-02 4.21128074e-02 1.75654312e-10 5.46691121e-02\n",
      " 3.68633617e-02 1.31381592e-01 9.76096436e-02 3.47851000e-02\n",
      " 5.42517286e-02 7.71301439e-02 2.65680289e-02]\n",
      "Q Function:  -11344117.699073344\n",
      "\n"
     ]
    },
    {
     "name": "stderr",
     "output_type": "stream",
     "text": [
      "100%|████████████████████████████████████████████████████████████████████████████████████████████████████| 14/14 [05:22<00:00, 23.04s/it]\n"
     ]
    },
    {
     "name": "stdout",
     "output_type": "stream",
     "text": [
      "mstep self.weights:  [5.51299511e-02 5.67494039e-02 1.29829513e-01 9.64938195e-02\n",
      " 9.63933079e-02 4.42619518e-02 1.75654312e-10 5.85953324e-02\n",
      " 3.61484367e-02 1.31937989e-01 1.14720071e-01 3.42426214e-02\n",
      " 5.88301186e-02 6.17240324e-02 2.49434509e-02]\n",
      "Q Function:  -11317890.704706298\n",
      "\n"
     ]
    },
    {
     "name": "stderr",
     "output_type": "stream",
     "text": [
      "100%|████████████████████████████████████████████████████████████████████████████████████████████████████| 14/14 [05:32<00:00, 23.75s/it]\n"
     ]
    },
    {
     "name": "stdout",
     "output_type": "stream",
     "text": [
      "mstep self.weights:  [5.49798003e-02 5.53865188e-02 1.60089369e-01 9.48475784e-02\n",
      " 1.04785073e-01 4.42648868e-02 1.75654312e-10 6.03365757e-02\n",
      " 3.68311622e-02 1.23741187e-01 1.27490248e-01 3.41138700e-02\n",
      " 6.04456974e-02 1.77451213e-02 2.49429125e-02]\n",
      "Q Function:  -11316008.638096182\n",
      "\n"
     ]
    },
    {
     "name": "stderr",
     "output_type": "stream",
     "text": [
      "100%|████████████████████████████████████████████████████████████████████████████████████████████████████| 13/13 [05:43<00:00, 26.42s/it]\n"
     ]
    },
    {
     "name": "stdout",
     "output_type": "stream",
     "text": [
      "mstep self.weights:  [5.48044406e-02 5.42309501e-02 1.77991740e-01 9.48650469e-02\n",
      " 1.18384875e-01 4.42648868e-02 1.75654312e-10 6.12876052e-02\n",
      " 3.77629888e-02 1.10141385e-01 1.35859990e-01 3.39012833e-02\n",
      " 5.15618953e-02 1.75654312e-10 2.49429125e-02]\n",
      "Q Function:  -11319788.064455496\n",
      "\n"
     ]
    },
    {
     "name": "stderr",
     "output_type": "stream",
     "text": [
      "100%|████████████████████████████████████████████████████████████████████████████████████████████████████| 13/13 [05:23<00:00, 24.90s/it]\n"
     ]
    },
    {
     "name": "stdout",
     "output_type": "stream",
     "text": [
      "mstep self.weights:  [5.48041455e-02 5.26285221e-02 1.77141946e-01 9.67162628e-02\n",
      " 1.25644417e-01 4.42648868e-02 1.75654312e-10 6.18674678e-02\n",
      " 3.98211716e-02 1.02881843e-01 1.41049979e-01 3.39011308e-02\n",
      " 4.43353151e-02 1.75654312e-10 2.49429125e-02]\n",
      "Q Function:  -11301306.743125781\n",
      "\n"
     ]
    },
    {
     "name": "stderr",
     "output_type": "stream",
     "text": [
      "100%|████████████████████████████████████████████████████████████████████████████████████████████████████| 13/13 [05:23<00:00, 24.91s/it]\n"
     ]
    },
    {
     "name": "stdout",
     "output_type": "stream",
     "text": [
      "mstep self.weights:  [5.48041455e-02 5.28032413e-02 1.80137478e-01 9.79969566e-02\n",
      " 1.27004461e-01 4.42648868e-02 1.75654312e-10 6.21357822e-02\n",
      " 4.08516973e-02 1.01521802e-01 1.44975656e-01 3.39012479e-02\n",
      " 3.46597322e-02 1.75654312e-10 2.49429125e-02]\n",
      "Q Function:  -11294252.153237302\n",
      "\n"
     ]
    },
    {
     "name": "stderr",
     "output_type": "stream",
     "text": [
      "100%|████████████████████████████████████████████████████████████████████████████████████████████████████| 13/13 [05:42<00:00, 26.37s/it]\n"
     ]
    },
    {
     "name": "stdout",
     "output_type": "stream",
     "text": [
      "mstep self.weights:  [5.48041455e-02 5.43951941e-02 1.92175855e-01 9.91236555e-02\n",
      " 1.30369789e-01 4.42648868e-02 1.75654312e-10 6.23516612e-02\n",
      " 4.34180894e-02 9.81565175e-02 1.51413273e-01 3.39012709e-02\n",
      " 1.06827484e-02 1.75654312e-10 2.49429125e-02]\n",
      "Q Function:  -11287736.420727748\n",
      "\n"
     ]
    },
    {
     "name": "stderr",
     "output_type": "stream",
     "text": [
      "100%|████████████████████████████████████████████████████████████████████████████████████████████████████| 12/12 [05:26<00:00, 27.20s/it]\n"
     ]
    },
    {
     "name": "stdout",
     "output_type": "stream",
     "text": [
      "mstep self.weights:  [5.48041455e-02 5.47986953e-02 1.96361674e-01 9.98697551e-02\n",
      " 1.30527659e-01 4.42648868e-02 1.75654312e-10 6.27159431e-02\n",
      " 4.52500414e-02 9.81742533e-02 1.54388752e-01 3.39012817e-02\n",
      " 1.75654312e-10 1.75654312e-10 2.49429125e-02]\n",
      "Q Function:  -11298717.76842861\n",
      "\n"
     ]
    },
    {
     "name": "stderr",
     "output_type": "stream",
     "text": [
      "100%|████████████████████████████████████████████████████████████████████████████████████████████████████| 12/12 [05:29<00:00, 27.42s/it]\n"
     ]
    },
    {
     "name": "stdout",
     "output_type": "stream",
     "text": [
      "mstep self.weights:  [5.48041455e-02 5.51832049e-02 1.90503455e-01 1.01102941e-01\n",
      " 1.30889746e-01 4.42648868e-02 1.75654312e-10 6.50175261e-02\n",
      " 4.51982147e-02 9.78651242e-02 1.56326560e-01 3.39012824e-02\n",
      " 1.75654312e-10 1.75654312e-10 2.49429125e-02]\n",
      "Q Function:  -11311125.864565369\n",
      "\n",
      "No. clus:  12\n",
      "ARI:  0.44747204805875873\n"
     ]
    }
   ],
   "source": [
    "#For each loom in looms from ./hvg_objs\n",
    "\n",
    "# !mkdir /home/tchari/perturbCME/notebooks/fits/meKruns_0209\n",
    "!mkdir /home/tchari/perturbCME/notebooks/fits/meKruns_0216\n",
    "\n",
    "\n",
    "dir_strings = []\n",
    "data_strings = []\n",
    "result_strings = []\n",
    "\n",
    "#Save method, clustering, mat_in (U,S, etc), hyper (K or res), hvgs, data, ARI, AMI\n",
    "meK_res = pd.DataFrame()\n",
    "meths = []\n",
    "result = []\n",
    "mats = []\n",
    "hyper = []\n",
    "hvgs = []\n",
    "data = []\n",
    "ari = []\n",
    "ami = []\n",
    "\n",
    "for d in d_strings:\n",
    "    \n",
    "    #Get tech param by keyword (datas) in loom paths\n",
    "    ind = [i in d for i in datas]\n",
    "    \n",
    "    #Inference params for sampling\n",
    "    tech_tup = [list(samps.Cu[ind])[0],list(samps.Lam[ind])[0]]\n",
    "    \n",
    "    #Preprocessing params for filepaths\n",
    "    trans = list(samps.Transcrip[ind])[0]\n",
    "    k = list(samps.Clusters[ind])[0]\n",
    "    data_name = list(samps.Dataset[ind])[0]\n",
    "    \n",
    "    \n",
    "    ds = lp.connect(d)\n",
    "    g_names = ds.ra[attribute_names[1]]\n",
    "    num_genes = len(g_names)\n",
    "    num_cells = len(ds.ca[attribute_names[2]])\n",
    "    \n",
    "    U = ds.layers['unspliced'][:,:].T\n",
    "    S = ds.layers['spliced'][:,:].T\n",
    "\n",
    "\n",
    "    true_labs = list(ds.ca['subclass_label'])\n",
    "    ds.close()\n",
    "    print(data_name+' with '+str(num_genes)+' genes')\n",
    "    \n",
    "#     #Try filter\n",
    "#     var_threshold = 1.5\n",
    "#     U_mean = U.mean(0)\n",
    "#     S_mean = S.mean(0)\n",
    "#     U_var = U.var(0)\n",
    "#     S_var = S.var(0)\n",
    "#     fitted_idx = (U_mean > 0.02) & (S_mean > 0.02) \\\n",
    "#         & (((U_var-U_mean)/(U_mean**2)) > var_threshold)\\\n",
    "#         & (((S_var-S_mean)/(S_mean**2)) > var_threshold)\\\n",
    "#         & (np.abs(np.log(S_mean/U_mean)) < 4)  #******* FLip top condition for nuclear? ********\n",
    "    \n",
    "#     markers = g_names[fitted_idx]\n",
    "#     print('Markers: ',len(markers))\n",
    "#     print('Mean U/S: ', np.mean(U_mean/S_mean))\n",
    "    \n",
    "    Ks = [k,k+5] #2,\n",
    "\n",
    "    for clus in Ks:\n",
    "       \n",
    "        #Run Monod preprocessing to set up files for run, leave room for genes to be removed with low U/S\n",
    "        dir_string,dataset_string = monod.preprocess.construct_batch([d], \\\n",
    "                                                     trans, \\\n",
    "                                                     [data_name], \\\n",
    "                                                     attribute_names=attribute_names,\\\n",
    "                                                     batch_location='./fits/meKruns_0216', \\\n",
    "                                                     meta=data_name+'_K'+str(clus), \\\n",
    "                                                     batch_id=1, \\\n",
    "                                                     n_genes=num_genes,exp_filter_threshold=None,\n",
    "                                                                     viz=False,genes_to_fit=g_names)\n",
    "                                                        #num_genes-60 or 100,genes_to_fit=markers\n",
    "        dir_strings += [dir_string]\n",
    "        data_strings += [dataset_string]\n",
    "\n",
    "        #Set model and run meK-Means\n",
    "        \n",
    "        #Define bounds for params\n",
    "        phys_lb = [-2.0, -1.8, -1.8 ] \n",
    "        phys_ub = [4.2, 2.5, 2.5] \n",
    "        samp_lb = tech_tup \n",
    "        samp_ub = tech_tup  \n",
    "        gridsize = [1,1] #Already have tech params\n",
    "    \n",
    "\n",
    "        epochs = 10\n",
    "\n",
    "        # ---------------- meK-Means Inference ---------------- \n",
    "        #Define model with bursty transcription and Poisson molecule capture/sampling\n",
    "        fitmodel = monod.cme_toolbox.CMEModel('Bursty','Poisson')\n",
    "\n",
    "        #Set up mminference parameters\n",
    "        inference_parameters = monod.mminference.InferenceParameters(phys_lb,phys_ub,samp_lb,samp_ub,gridsize,\\\n",
    "                    dataset_string[0],fitmodel,k=clus,epochs=epochs,use_lengths = True,\n",
    "                    gradient_params = {'max_iterations':5,'init_pattern':'moments','num_restarts':1})\n",
    "\n",
    "        #Read in loom file with filtered barcodes\n",
    "        search_data = monod.extract_data.extract_data(d, trans, data_name,\n",
    "                    dataset_string[0], dir_string, viz=False, dataset_attr_names=attribute_names)\n",
    "\n",
    "        #Run inference(fit_all_grid_points()) and Save result file strings\n",
    "        full_result_string = inference_parameters.fit_all_grid_points(40,search_data) \n",
    "\n",
    "        result_strings.append(full_result_string)\n",
    "        \n",
    "\n",
    "        # ----------------  Save output ---------------- \n",
    "        #Read in results and get cluster assignments\n",
    "        sr = [monod.analysis.load_search_results(i) for i in full_result_string]\n",
    "        \n",
    "        \n",
    "        cat_assigns = np.array([None]*num_cells) #cat_assigns is empty list of length = no. cell barcodes\n",
    "        for i in range(len(sr)):\n",
    "            r = sr[i]\n",
    "            cat_assigns[r.filt] = r.assigns #denotes which cluster (k), cells were assigned to\n",
    "\n",
    "        print('No. clus: ',len(np.unique(cat_assigns)))\n",
    "        \n",
    "\n",
    "        meths += ['meK-Means']\n",
    "        result += [cat_assigns]\n",
    "        mats += ['U,S']\n",
    "        hyper += [clus]\n",
    "        hvgs += [num_genes]\n",
    "        data += [data_name]\n",
    "        ari += [adjusted_rand_score(true_labs,cat_assigns)]\n",
    "        ami += [adjusted_mutual_info_score(true_labs,cat_assigns)]\n",
    "        \n",
    "        print('ARI: ',adjusted_rand_score(true_labs,cat_assigns))\n",
    "\n",
    "\n",
    "meK_res['Method'] = meths\n",
    "meK_res['Clustering'] = result\n",
    "meK_res['Matrices'] = mats\n",
    "meK_res['Hyperparam'] = hyper\n",
    "meK_res['Genes'] = hvgs\n",
    "meK_res['Data'] = data\n",
    "meK_res['ARI'] = ari\n",
    "meK_res['AMI'] = ami\n",
    "    "
   ]
  },
  {
   "cell_type": "code",
   "execution_count": null,
   "id": "63365596",
   "metadata": {},
   "outputs": [],
   "source": []
  },
  {
   "cell_type": "code",
   "execution_count": 10,
   "id": "b1046331",
   "metadata": {},
   "outputs": [],
   "source": [
    "meK_res.to_pickle('./fits/meKruns_0216/meK_res_filt.pkl')\n",
    "#unpickled_df = pd.read_pickle(\"./meK_res.pkl\")"
   ]
  },
  {
   "cell_type": "code",
   "execution_count": 11,
   "id": "30b642ce",
   "metadata": {},
   "outputs": [],
   "source": [
    "unpickled_df = pd.read_pickle('./fits/meKruns_0216/meK_res_filt.pkl')"
   ]
  },
  {
   "cell_type": "code",
   "execution_count": 12,
   "id": "18484a3b",
   "metadata": {},
   "outputs": [
    {
     "data": {
      "text/html": [
       "<div>\n",
       "<style scoped>\n",
       "    .dataframe tbody tr th:only-of-type {\n",
       "        vertical-align: middle;\n",
       "    }\n",
       "\n",
       "    .dataframe tbody tr th {\n",
       "        vertical-align: top;\n",
       "    }\n",
       "\n",
       "    .dataframe thead th {\n",
       "        text-align: right;\n",
       "    }\n",
       "</style>\n",
       "<table border=\"1\" class=\"dataframe\">\n",
       "  <thead>\n",
       "    <tr style=\"text-align: right;\">\n",
       "      <th></th>\n",
       "      <th>Method</th>\n",
       "      <th>Clustering</th>\n",
       "      <th>Matrices</th>\n",
       "      <th>Hyperparam</th>\n",
       "      <th>Genes</th>\n",
       "      <th>Data</th>\n",
       "      <th>ARI</th>\n",
       "      <th>AMI</th>\n",
       "    </tr>\n",
       "  </thead>\n",
       "  <tbody>\n",
       "    <tr>\n",
       "      <th>0</th>\n",
       "      <td>meK-Means</td>\n",
       "      <td>[4, 4, 0, 4, 4, 4, 3, 3, 4, 4, 0, 0, 4, 4, 4, ...</td>\n",
       "      <td>U,S</td>\n",
       "      <td>5</td>\n",
       "      <td>357</td>\n",
       "      <td>cl5</td>\n",
       "      <td>0.982402</td>\n",
       "      <td>0.968188</td>\n",
       "    </tr>\n",
       "    <tr>\n",
       "      <th>1</th>\n",
       "      <td>meK-Means</td>\n",
       "      <td>[3, 3, 2, 3, 3, 3, 4, 4, 3, 3, 2, 2, 3, 3, 3, ...</td>\n",
       "      <td>U,S</td>\n",
       "      <td>10</td>\n",
       "      <td>357</td>\n",
       "      <td>cl5</td>\n",
       "      <td>0.935710</td>\n",
       "      <td>0.932768</td>\n",
       "    </tr>\n",
       "    <tr>\n",
       "      <th>2</th>\n",
       "      <td>meK-Means</td>\n",
       "      <td>[1, 1, 0, 1, 1, 1, 4, 4, 1, 1, 0, 0, 1, 1, 1, ...</td>\n",
       "      <td>U,S</td>\n",
       "      <td>5</td>\n",
       "      <td>1193</td>\n",
       "      <td>cl5</td>\n",
       "      <td>0.983810</td>\n",
       "      <td>0.971894</td>\n",
       "    </tr>\n",
       "    <tr>\n",
       "      <th>3</th>\n",
       "      <td>meK-Means</td>\n",
       "      <td>[5, 5, 3, 5, 5, 5, 0, 0, 5, 5, 3, 3, 5, 5, 5, ...</td>\n",
       "      <td>U,S</td>\n",
       "      <td>10</td>\n",
       "      <td>1193</td>\n",
       "      <td>cl5</td>\n",
       "      <td>0.928421</td>\n",
       "      <td>0.928520</td>\n",
       "    </tr>\n",
       "    <tr>\n",
       "      <th>4</th>\n",
       "      <td>meK-Means</td>\n",
       "      <td>[5, 3, 3, 8, 7, 1, 6, 3, 7, 8, 1, 0, 1, 7, 3, ...</td>\n",
       "      <td>U,S</td>\n",
       "      <td>11</td>\n",
       "      <td>359</td>\n",
       "      <td>allen_b02h01a02</td>\n",
       "      <td>0.666748</td>\n",
       "      <td>0.802591</td>\n",
       "    </tr>\n",
       "    <tr>\n",
       "      <th>5</th>\n",
       "      <td>meK-Means</td>\n",
       "      <td>[15, 2, 2, 1, 3, 0, 11, 2, 3, 1, 0, 12, 0, 4, ...</td>\n",
       "      <td>U,S</td>\n",
       "      <td>16</td>\n",
       "      <td>359</td>\n",
       "      <td>allen_b02h01a02</td>\n",
       "      <td>0.522266</td>\n",
       "      <td>0.782716</td>\n",
       "    </tr>\n",
       "    <tr>\n",
       "      <th>6</th>\n",
       "      <td>meK-Means</td>\n",
       "      <td>[2, 2, 2, 2, 2, 1, 2, 2, 2, 2, 1, 2, 2, 2, 1, ...</td>\n",
       "      <td>U,S</td>\n",
       "      <td>3</td>\n",
       "      <td>466</td>\n",
       "      <td>cl3</td>\n",
       "      <td>0.986588</td>\n",
       "      <td>0.974199</td>\n",
       "    </tr>\n",
       "    <tr>\n",
       "      <th>7</th>\n",
       "      <td>meK-Means</td>\n",
       "      <td>[7, 7, 7, 7, 7, 3, 7, 7, 7, 7, 3, 7, 7, 7, 3, ...</td>\n",
       "      <td>U,S</td>\n",
       "      <td>8</td>\n",
       "      <td>466</td>\n",
       "      <td>cl3</td>\n",
       "      <td>0.986588</td>\n",
       "      <td>0.974199</td>\n",
       "    </tr>\n",
       "    <tr>\n",
       "      <th>8</th>\n",
       "      <td>meK-Means</td>\n",
       "      <td>[0, 2, 5, 0, 3, 8, 3, 4, 2, 8, 3, 7, 0, 2, 2, ...</td>\n",
       "      <td>U,S</td>\n",
       "      <td>10</td>\n",
       "      <td>682</td>\n",
       "      <td>allen_b08</td>\n",
       "      <td>0.561534</td>\n",
       "      <td>0.776994</td>\n",
       "    </tr>\n",
       "    <tr>\n",
       "      <th>9</th>\n",
       "      <td>meK-Means</td>\n",
       "      <td>[0, 8, 5, 13, 1, 11, 1, 12, 6, 13, 1, 9, 13, 8...</td>\n",
       "      <td>U,S</td>\n",
       "      <td>15</td>\n",
       "      <td>682</td>\n",
       "      <td>allen_b08</td>\n",
       "      <td>0.452264</td>\n",
       "      <td>0.757664</td>\n",
       "    </tr>\n",
       "    <tr>\n",
       "      <th>10</th>\n",
       "      <td>meK-Means</td>\n",
       "      <td>[1, 2, 2, 1, 6, 8, 0, 2, 6, 1, 8, 4, 4, 6, 2, ...</td>\n",
       "      <td>U,S</td>\n",
       "      <td>11</td>\n",
       "      <td>2770</td>\n",
       "      <td>allen_b02h01a02</td>\n",
       "      <td>0.494784</td>\n",
       "      <td>0.663461</td>\n",
       "    </tr>\n",
       "    <tr>\n",
       "      <th>11</th>\n",
       "      <td>meK-Means</td>\n",
       "      <td>[15, 8, 8, 14, 11, 12, 13, 8, 11, 14, 12, 6, 6...</td>\n",
       "      <td>U,S</td>\n",
       "      <td>16</td>\n",
       "      <td>2770</td>\n",
       "      <td>allen_b02h01a02</td>\n",
       "      <td>0.425488</td>\n",
       "      <td>0.695520</td>\n",
       "    </tr>\n",
       "    <tr>\n",
       "      <th>12</th>\n",
       "      <td>meK-Means</td>\n",
       "      <td>[1, 1, 1, 1, 1, 2, 1, 1, 1, 1, 2, 1, 1, 1, 2, ...</td>\n",
       "      <td>U,S</td>\n",
       "      <td>3</td>\n",
       "      <td>1137</td>\n",
       "      <td>cl3</td>\n",
       "      <td>0.990040</td>\n",
       "      <td>0.979630</td>\n",
       "    </tr>\n",
       "    <tr>\n",
       "      <th>13</th>\n",
       "      <td>meK-Means</td>\n",
       "      <td>[3, 3, 3, 3, 3, 6, 3, 3, 3, 3, 6, 3, 3, 3, 6, ...</td>\n",
       "      <td>U,S</td>\n",
       "      <td>8</td>\n",
       "      <td>1137</td>\n",
       "      <td>cl3</td>\n",
       "      <td>0.986588</td>\n",
       "      <td>0.974199</td>\n",
       "    </tr>\n",
       "    <tr>\n",
       "      <th>14</th>\n",
       "      <td>meK-Means</td>\n",
       "      <td>[1, 3, 8, 1, 3, 6, 3, 2, 0, 6, 3, 9, 1, 3, 0, ...</td>\n",
       "      <td>U,S</td>\n",
       "      <td>10</td>\n",
       "      <td>1948</td>\n",
       "      <td>allen_b08</td>\n",
       "      <td>0.582452</td>\n",
       "      <td>0.758634</td>\n",
       "    </tr>\n",
       "    <tr>\n",
       "      <th>15</th>\n",
       "      <td>meK-Means</td>\n",
       "      <td>[9, 2, 0, 4, 2, 2, 2, 14, 3, 4, 2, 8, 4, 2, 3,...</td>\n",
       "      <td>U,S</td>\n",
       "      <td>15</td>\n",
       "      <td>1948</td>\n",
       "      <td>allen_b08</td>\n",
       "      <td>0.447472</td>\n",
       "      <td>0.728133</td>\n",
       "    </tr>\n",
       "  </tbody>\n",
       "</table>\n",
       "</div>"
      ],
      "text/plain": [
       "       Method                                         Clustering Matrices  \\\n",
       "0   meK-Means  [4, 4, 0, 4, 4, 4, 3, 3, 4, 4, 0, 0, 4, 4, 4, ...      U,S   \n",
       "1   meK-Means  [3, 3, 2, 3, 3, 3, 4, 4, 3, 3, 2, 2, 3, 3, 3, ...      U,S   \n",
       "2   meK-Means  [1, 1, 0, 1, 1, 1, 4, 4, 1, 1, 0, 0, 1, 1, 1, ...      U,S   \n",
       "3   meK-Means  [5, 5, 3, 5, 5, 5, 0, 0, 5, 5, 3, 3, 5, 5, 5, ...      U,S   \n",
       "4   meK-Means  [5, 3, 3, 8, 7, 1, 6, 3, 7, 8, 1, 0, 1, 7, 3, ...      U,S   \n",
       "5   meK-Means  [15, 2, 2, 1, 3, 0, 11, 2, 3, 1, 0, 12, 0, 4, ...      U,S   \n",
       "6   meK-Means  [2, 2, 2, 2, 2, 1, 2, 2, 2, 2, 1, 2, 2, 2, 1, ...      U,S   \n",
       "7   meK-Means  [7, 7, 7, 7, 7, 3, 7, 7, 7, 7, 3, 7, 7, 7, 3, ...      U,S   \n",
       "8   meK-Means  [0, 2, 5, 0, 3, 8, 3, 4, 2, 8, 3, 7, 0, 2, 2, ...      U,S   \n",
       "9   meK-Means  [0, 8, 5, 13, 1, 11, 1, 12, 6, 13, 1, 9, 13, 8...      U,S   \n",
       "10  meK-Means  [1, 2, 2, 1, 6, 8, 0, 2, 6, 1, 8, 4, 4, 6, 2, ...      U,S   \n",
       "11  meK-Means  [15, 8, 8, 14, 11, 12, 13, 8, 11, 14, 12, 6, 6...      U,S   \n",
       "12  meK-Means  [1, 1, 1, 1, 1, 2, 1, 1, 1, 1, 2, 1, 1, 1, 2, ...      U,S   \n",
       "13  meK-Means  [3, 3, 3, 3, 3, 6, 3, 3, 3, 3, 6, 3, 3, 3, 6, ...      U,S   \n",
       "14  meK-Means  [1, 3, 8, 1, 3, 6, 3, 2, 0, 6, 3, 9, 1, 3, 0, ...      U,S   \n",
       "15  meK-Means  [9, 2, 0, 4, 2, 2, 2, 14, 3, 4, 2, 8, 4, 2, 3,...      U,S   \n",
       "\n",
       "    Hyperparam  Genes             Data       ARI       AMI  \n",
       "0            5    357              cl5  0.982402  0.968188  \n",
       "1           10    357              cl5  0.935710  0.932768  \n",
       "2            5   1193              cl5  0.983810  0.971894  \n",
       "3           10   1193              cl5  0.928421  0.928520  \n",
       "4           11    359  allen_b02h01a02  0.666748  0.802591  \n",
       "5           16    359  allen_b02h01a02  0.522266  0.782716  \n",
       "6            3    466              cl3  0.986588  0.974199  \n",
       "7            8    466              cl3  0.986588  0.974199  \n",
       "8           10    682        allen_b08  0.561534  0.776994  \n",
       "9           15    682        allen_b08  0.452264  0.757664  \n",
       "10          11   2770  allen_b02h01a02  0.494784  0.663461  \n",
       "11          16   2770  allen_b02h01a02  0.425488  0.695520  \n",
       "12           3   1137              cl3  0.990040  0.979630  \n",
       "13           8   1137              cl3  0.986588  0.974199  \n",
       "14          10   1948        allen_b08  0.582452  0.758634  \n",
       "15          15   1948        allen_b08  0.447472  0.728133  "
      ]
     },
     "execution_count": 12,
     "metadata": {},
     "output_type": "execute_result"
    }
   ],
   "source": [
    "unpickled_df"
   ]
  },
  {
   "cell_type": "code",
   "execution_count": 15,
   "id": "7947116a",
   "metadata": {},
   "outputs": [
    {
     "data": {
      "text/html": [
       "<div>\n",
       "<style scoped>\n",
       "    .dataframe tbody tr th:only-of-type {\n",
       "        vertical-align: middle;\n",
       "    }\n",
       "\n",
       "    .dataframe tbody tr th {\n",
       "        vertical-align: top;\n",
       "    }\n",
       "\n",
       "    .dataframe thead th {\n",
       "        text-align: right;\n",
       "    }\n",
       "</style>\n",
       "<table border=\"1\" class=\"dataframe\">\n",
       "  <thead>\n",
       "    <tr style=\"text-align: right;\">\n",
       "      <th></th>\n",
       "      <th>Method</th>\n",
       "      <th>Clustering</th>\n",
       "      <th>Matrices</th>\n",
       "      <th>Hyperparam</th>\n",
       "      <th>Genes</th>\n",
       "      <th>Data</th>\n",
       "      <th>ARI</th>\n",
       "      <th>AMI</th>\n",
       "    </tr>\n",
       "  </thead>\n",
       "  <tbody>\n",
       "    <tr>\n",
       "      <th>0</th>\n",
       "      <td>meK-Means</td>\n",
       "      <td>[4, 4, 3, 4, 4, 4, 0, 0, 4, 4, 3, 3, 4, 4, 4, ...</td>\n",
       "      <td>U,S</td>\n",
       "      <td>5</td>\n",
       "      <td>357</td>\n",
       "      <td>cl5</td>\n",
       "      <td>0.982644</td>\n",
       "      <td>0.967017</td>\n",
       "    </tr>\n",
       "    <tr>\n",
       "      <th>1</th>\n",
       "      <td>meK-Means</td>\n",
       "      <td>[8, 8, 6, 8, 8, 8, 3, 3, 8, 8, 6, 6, 8, 8, 8, ...</td>\n",
       "      <td>U,S</td>\n",
       "      <td>10</td>\n",
       "      <td>357</td>\n",
       "      <td>cl5</td>\n",
       "      <td>0.980424</td>\n",
       "      <td>0.965182</td>\n",
       "    </tr>\n",
       "    <tr>\n",
       "      <th>2</th>\n",
       "      <td>meK-Means</td>\n",
       "      <td>[3, 3, 2, 3, 3, 3, 0, 0, 3, 3, 2, 2, 3, 3, 3, ...</td>\n",
       "      <td>U,S</td>\n",
       "      <td>5</td>\n",
       "      <td>1193</td>\n",
       "      <td>cl5</td>\n",
       "      <td>0.982576</td>\n",
       "      <td>0.969364</td>\n",
       "    </tr>\n",
       "    <tr>\n",
       "      <th>3</th>\n",
       "      <td>meK-Means</td>\n",
       "      <td>[0, 0, 1, 0, 0, 0, 6, 6, 0, 0, 1, 1, 0, 0, 0, ...</td>\n",
       "      <td>U,S</td>\n",
       "      <td>10</td>\n",
       "      <td>1193</td>\n",
       "      <td>cl5</td>\n",
       "      <td>0.980907</td>\n",
       "      <td>0.966469</td>\n",
       "    </tr>\n",
       "    <tr>\n",
       "      <th>4</th>\n",
       "      <td>meK-Means</td>\n",
       "      <td>[6, 5, 5, 8, 4, 3, 7, 5, 4, 8, 3, 0, 0, 4, 5, ...</td>\n",
       "      <td>U,S</td>\n",
       "      <td>11</td>\n",
       "      <td>359</td>\n",
       "      <td>allen_b02h01a02</td>\n",
       "      <td>0.517851</td>\n",
       "      <td>0.753212</td>\n",
       "    </tr>\n",
       "    <tr>\n",
       "      <th>5</th>\n",
       "      <td>meK-Means</td>\n",
       "      <td>[2, 4, 4, 7, 15, 5, 6, 4, 13, 7, 5, 10, 5, 3, ...</td>\n",
       "      <td>U,S</td>\n",
       "      <td>16</td>\n",
       "      <td>359</td>\n",
       "      <td>allen_b02h01a02</td>\n",
       "      <td>0.496064</td>\n",
       "      <td>0.753997</td>\n",
       "    </tr>\n",
       "    <tr>\n",
       "      <th>6</th>\n",
       "      <td>meK-Means</td>\n",
       "      <td>[2, 2, 2, 2, 2, 0, 2, 2, 2, 2, 0, 2, 2, 2, 0, ...</td>\n",
       "      <td>U,S</td>\n",
       "      <td>3</td>\n",
       "      <td>466</td>\n",
       "      <td>cl3</td>\n",
       "      <td>0.989820</td>\n",
       "      <td>0.980961</td>\n",
       "    </tr>\n",
       "    <tr>\n",
       "      <th>7</th>\n",
       "      <td>meK-Means</td>\n",
       "      <td>[6, 6, 6, 6, 6, 5, 6, 6, 6, 6, 5, 6, 6, 6, 4, ...</td>\n",
       "      <td>U,S</td>\n",
       "      <td>8</td>\n",
       "      <td>466</td>\n",
       "      <td>cl3</td>\n",
       "      <td>0.777249</td>\n",
       "      <td>0.831015</td>\n",
       "    </tr>\n",
       "    <tr>\n",
       "      <th>8</th>\n",
       "      <td>meK-Means</td>\n",
       "      <td>[1, 4, 6, 1, 0, 9, 0, 3, 4, 9, 0, 5, 1, 0, 4, ...</td>\n",
       "      <td>U,S</td>\n",
       "      <td>10</td>\n",
       "      <td>682</td>\n",
       "      <td>allen_b08</td>\n",
       "      <td>0.557244</td>\n",
       "      <td>0.773200</td>\n",
       "    </tr>\n",
       "    <tr>\n",
       "      <th>9</th>\n",
       "      <td>meK-Means</td>\n",
       "      <td>[13, 5, 3, 9, 0, 6, 7, 12, 11, 2, 7, 4, 9, 5, ...</td>\n",
       "      <td>U,S</td>\n",
       "      <td>15</td>\n",
       "      <td>682</td>\n",
       "      <td>allen_b08</td>\n",
       "      <td>0.481304</td>\n",
       "      <td>0.767250</td>\n",
       "    </tr>\n",
       "    <tr>\n",
       "      <th>10</th>\n",
       "      <td>meK-Means</td>\n",
       "      <td>[9, 7, 7, 6, 8, 3, 3, 7, 8, 6, 3, 0, 0, 8, 7, ...</td>\n",
       "      <td>U,S</td>\n",
       "      <td>11</td>\n",
       "      <td>2770</td>\n",
       "      <td>allen_b02h01a02</td>\n",
       "      <td>0.473354</td>\n",
       "      <td>0.664607</td>\n",
       "    </tr>\n",
       "    <tr>\n",
       "      <th>11</th>\n",
       "      <td>meK-Means</td>\n",
       "      <td>[10, 6, 6, 15, 1, 12, 8, 6, 1, 15, 12, 13, 13,...</td>\n",
       "      <td>U,S</td>\n",
       "      <td>16</td>\n",
       "      <td>2770</td>\n",
       "      <td>allen_b02h01a02</td>\n",
       "      <td>0.436795</td>\n",
       "      <td>0.691881</td>\n",
       "    </tr>\n",
       "    <tr>\n",
       "      <th>12</th>\n",
       "      <td>meK-Means</td>\n",
       "      <td>[2, 2, 2, 2, 2, 1, 2, 2, 2, 2, 1, 2, 2, 2, 1, ...</td>\n",
       "      <td>U,S</td>\n",
       "      <td>3</td>\n",
       "      <td>1137</td>\n",
       "      <td>cl3</td>\n",
       "      <td>0.993293</td>\n",
       "      <td>0.986400</td>\n",
       "    </tr>\n",
       "    <tr>\n",
       "      <th>13</th>\n",
       "      <td>meK-Means</td>\n",
       "      <td>[6, 6, 6, 6, 6, 1, 6, 6, 6, 6, 1, 6, 6, 6, 1, ...</td>\n",
       "      <td>U,S</td>\n",
       "      <td>8</td>\n",
       "      <td>1137</td>\n",
       "      <td>cl3</td>\n",
       "      <td>0.890698</td>\n",
       "      <td>0.898035</td>\n",
       "    </tr>\n",
       "    <tr>\n",
       "      <th>14</th>\n",
       "      <td>meK-Means</td>\n",
       "      <td>[0, 4, 5, 7, 4, 4, 4, 3, 1, 6, 4, 2, 7, 4, 1, ...</td>\n",
       "      <td>U,S</td>\n",
       "      <td>10</td>\n",
       "      <td>1948</td>\n",
       "      <td>allen_b08</td>\n",
       "      <td>0.499978</td>\n",
       "      <td>0.736649</td>\n",
       "    </tr>\n",
       "    <tr>\n",
       "      <th>15</th>\n",
       "      <td>meK-Means</td>\n",
       "      <td>[1, 13, 8, 7, 12, 12, 12, 14, 6, 7, 12, 3, 7, ...</td>\n",
       "      <td>U,S</td>\n",
       "      <td>15</td>\n",
       "      <td>1948</td>\n",
       "      <td>allen_b08</td>\n",
       "      <td>0.426163</td>\n",
       "      <td>0.727365</td>\n",
       "    </tr>\n",
       "  </tbody>\n",
       "</table>\n",
       "</div>"
      ],
      "text/plain": [
       "       Method                                         Clustering Matrices  \\\n",
       "0   meK-Means  [4, 4, 3, 4, 4, 4, 0, 0, 4, 4, 3, 3, 4, 4, 4, ...      U,S   \n",
       "1   meK-Means  [8, 8, 6, 8, 8, 8, 3, 3, 8, 8, 6, 6, 8, 8, 8, ...      U,S   \n",
       "2   meK-Means  [3, 3, 2, 3, 3, 3, 0, 0, 3, 3, 2, 2, 3, 3, 3, ...      U,S   \n",
       "3   meK-Means  [0, 0, 1, 0, 0, 0, 6, 6, 0, 0, 1, 1, 0, 0, 0, ...      U,S   \n",
       "4   meK-Means  [6, 5, 5, 8, 4, 3, 7, 5, 4, 8, 3, 0, 0, 4, 5, ...      U,S   \n",
       "5   meK-Means  [2, 4, 4, 7, 15, 5, 6, 4, 13, 7, 5, 10, 5, 3, ...      U,S   \n",
       "6   meK-Means  [2, 2, 2, 2, 2, 0, 2, 2, 2, 2, 0, 2, 2, 2, 0, ...      U,S   \n",
       "7   meK-Means  [6, 6, 6, 6, 6, 5, 6, 6, 6, 6, 5, 6, 6, 6, 4, ...      U,S   \n",
       "8   meK-Means  [1, 4, 6, 1, 0, 9, 0, 3, 4, 9, 0, 5, 1, 0, 4, ...      U,S   \n",
       "9   meK-Means  [13, 5, 3, 9, 0, 6, 7, 12, 11, 2, 7, 4, 9, 5, ...      U,S   \n",
       "10  meK-Means  [9, 7, 7, 6, 8, 3, 3, 7, 8, 6, 3, 0, 0, 8, 7, ...      U,S   \n",
       "11  meK-Means  [10, 6, 6, 15, 1, 12, 8, 6, 1, 15, 12, 13, 13,...      U,S   \n",
       "12  meK-Means  [2, 2, 2, 2, 2, 1, 2, 2, 2, 2, 1, 2, 2, 2, 1, ...      U,S   \n",
       "13  meK-Means  [6, 6, 6, 6, 6, 1, 6, 6, 6, 6, 1, 6, 6, 6, 1, ...      U,S   \n",
       "14  meK-Means  [0, 4, 5, 7, 4, 4, 4, 3, 1, 6, 4, 2, 7, 4, 1, ...      U,S   \n",
       "15  meK-Means  [1, 13, 8, 7, 12, 12, 12, 14, 6, 7, 12, 3, 7, ...      U,S   \n",
       "\n",
       "    Hyperparam  Genes             Data       ARI       AMI  \n",
       "0            5    357              cl5  0.982644  0.967017  \n",
       "1           10    357              cl5  0.980424  0.965182  \n",
       "2            5   1193              cl5  0.982576  0.969364  \n",
       "3           10   1193              cl5  0.980907  0.966469  \n",
       "4           11    359  allen_b02h01a02  0.517851  0.753212  \n",
       "5           16    359  allen_b02h01a02  0.496064  0.753997  \n",
       "6            3    466              cl3  0.989820  0.980961  \n",
       "7            8    466              cl3  0.777249  0.831015  \n",
       "8           10    682        allen_b08  0.557244  0.773200  \n",
       "9           15    682        allen_b08  0.481304  0.767250  \n",
       "10          11   2770  allen_b02h01a02  0.473354  0.664607  \n",
       "11          16   2770  allen_b02h01a02  0.436795  0.691881  \n",
       "12           3   1137              cl3  0.993293  0.986400  \n",
       "13           8   1137              cl3  0.890698  0.898035  \n",
       "14          10   1948        allen_b08  0.499978  0.736649  \n",
       "15          15   1948        allen_b08  0.426163  0.727365  "
      ]
     },
     "execution_count": 15,
     "metadata": {},
     "output_type": "execute_result"
    }
   ],
   "source": [
    "unpickled_df"
   ]
  },
  {
   "cell_type": "code",
   "execution_count": null,
   "id": "de217fda",
   "metadata": {},
   "outputs": [],
   "source": []
  },
  {
   "cell_type": "code",
   "execution_count": null,
   "id": "fa83cd5d",
   "metadata": {},
   "outputs": [],
   "source": []
  },
  {
   "cell_type": "code",
   "execution_count": null,
   "id": "9a001379",
   "metadata": {},
   "outputs": [],
   "source": []
  },
  {
   "cell_type": "code",
   "execution_count": null,
   "id": "6d23185d",
   "metadata": {},
   "outputs": [],
   "source": []
  },
  {
   "cell_type": "code",
   "execution_count": null,
   "id": "2a23bb3a",
   "metadata": {},
   "outputs": [],
   "source": []
  },
  {
   "cell_type": "code",
   "execution_count": null,
   "id": "69e4b95b",
   "metadata": {},
   "outputs": [],
   "source": []
  },
  {
   "cell_type": "markdown",
   "id": "43f3f9db",
   "metadata": {},
   "source": [
    "### **Leiden & K-Means**\n"
   ]
  },
  {
   "cell_type": "code",
   "execution_count": 28,
   "id": "9453d4f2",
   "metadata": {},
   "outputs": [],
   "source": [
    "# ! rm -r /home/tchari/perturbCME/notebooks/fits/LeidKMeansruns_0209"
   ]
  },
  {
   "cell_type": "code",
   "execution_count": 18,
   "id": "4c7f9ade",
   "metadata": {
    "scrolled": true
   },
   "outputs": [
    {
     "name": "stdout",
     "output_type": "stream",
     "text": [
      "cl5 with 357 HVGs\n"
     ]
    },
    {
     "name": "stderr",
     "output_type": "stream",
     "text": [
      "/home/tchari/.local/lib/python3.7/site-packages/ipykernel_launcher.py:7: RuntimeWarning: divide by zero encountered in true_divide\n",
      "  import sys\n",
      "/home/tchari/.local/lib/python3.7/site-packages/ipykernel_launcher.py:8: RuntimeWarning: invalid value encountered in multiply\n",
      "  \n"
     ]
    },
    {
     "name": "stdout",
     "output_type": "stream",
     "text": [
      "cl5 with 1193 HVGs\n",
      "allen_b02h01a02 with 359 HVGs\n",
      "cl3 with 466 HVGs\n",
      "allen_b08 with 682 HVGs\n",
      "allen_b02h01a02 with 2770 HVGs\n",
      "cl3 with 1137 HVGs\n",
      "allen_b08 with 1948 HVGs\n"
     ]
    }
   ],
   "source": [
    "#Make the U,S, U+S, Concat matrices, res 0.75,1,1.5,2\n",
    "\n",
    "!mkdir /home/tchari/perturbCME/notebooks/fits/LeidKMeansruns_0215\n",
    "\n",
    "\n",
    "#Save method, clustering, mat_in (U,S, etc), hyper (K or res), hvgs, data, ARI, AMI\n",
    "LK_res = pd.DataFrame()\n",
    "meths = []\n",
    "result = []\n",
    "mats = []\n",
    "hyper = []\n",
    "hvgs = []\n",
    "data = []\n",
    "ari = []\n",
    "ami = []\n",
    "\n",
    "for d in d_strings:\n",
    "    \n",
    "    #Get tech param by keyword (datas) in loom paths\n",
    "    ind = [i in d for i in datas]\n",
    "    \n",
    "    k = list(samps.Clusters[ind])[0]\n",
    "    data_name = list(samps.Dataset[ind])[0]\n",
    "    \n",
    "    \n",
    "    ds = lp.connect(d)\n",
    "    num_genes = len(ds.ra[attribute_names[1]])\n",
    "    num_cells = len(ds.ca[attribute_names[2]])\n",
    "    U = ds.layers[attribute_names[0][0]][:,:].T\n",
    "    S = ds.layers[attribute_names[0][1]][:,:].T\n",
    "    true_labs = list(ds.ca['subclass_label'])\n",
    "    ds.close()\n",
    "    print(data_name+' with '+str(num_genes)+' HVGs')\n",
    "    \n",
    "    res = [0.75,1,1.5,2]\n",
    "    \n",
    "    #Get U,S,U_p_S,U_c_S\n",
    "        \n",
    "    #Norm mats\n",
    "    U_norm = norm_mat(U)\n",
    "    S_norm = norm_mat(S)\n",
    "    U_p_S_norm = norm_mat(U+S)\n",
    "    U_c_S_norm = norm_mat(np.concatenate([U,S],axis=1))\n",
    "    \n",
    "    g_U = get_graph(U_norm)\n",
    "    g_S = get_graph(S_norm)\n",
    "    g_U_p_S = get_graph(U_p_S_norm)\n",
    "    g_U_c_S = get_graph(U_c_S_norm)\n",
    "    \n",
    "    # -------- Fit Leiden -------\n",
    "    for r in res:\n",
    "        \n",
    "        partition_type = la.RBConfigurationVertexPartition\n",
    "        #Make Knn graphs\n",
    "        for g in [g_U,g_S,g_U_p_S,g_U_c_S]:\n",
    "            part = la.find_partition(g, partition_type, \n",
    "                                        weights=np.array(g.es['weight']).astype(np.float64), \n",
    "                                        n_iterations=-1, resolution_parameter=r)\n",
    "\n",
    "            labels = np.array(part.membership)\n",
    "            \n",
    "            # ----- Save Results ---- ARI,AMI etc\n",
    "            meths += ['Leiden']\n",
    "            result += [labels]\n",
    "            hyper += [r]\n",
    "            hvgs += [num_genes]\n",
    "            data += [data_name]\n",
    "            ari += [adjusted_rand_score(true_labs,labels)]\n",
    "            ami += [adjusted_mutual_info_score(true_labs,labels)]\n",
    "            \n",
    "#             print('No. clus Leiden: ',len(np.unique(labels)))\n",
    "            \n",
    "        mats += ['U','S','U+S','UcatS']\n",
    "        \n",
    "        \n",
    "        \n",
    "    # -------- Fit K-Means with k -------\n",
    "    \n",
    "    for x in [U_norm,S_norm,U_p_S_norm,U_c_S_norm]:\n",
    "        kmeans = KMeans(n_clusters=k, random_state=0).fit(x)\n",
    "        labs = kmeans.labels_\n",
    "        \n",
    "        meths += ['K-Means']\n",
    "        result += [labs]\n",
    "        hyper += [k]\n",
    "        hvgs += [num_genes]\n",
    "        data += [data_name]\n",
    "        ari += [adjusted_rand_score(true_labs,labs)]\n",
    "        ami += [adjusted_mutual_info_score(true_labs,labs)]\n",
    "        \n",
    "#         print('No. clus K-Means: ',len(np.unique(labs)))\n",
    "        \n",
    "    mats += ['U','S','U+S','UcatS']\n",
    "\n",
    "    \n",
    "LK_res['Method'] = meths\n",
    "LK_res['Clustering'] = result\n",
    "LK_res['Matrices'] = mats\n",
    "LK_res['Hyperparam'] = hyper\n",
    "LK_res['HVGs'] = hvgs\n",
    "LK_res['Data'] = data\n",
    "LK_res['ARI'] = ari\n",
    "LK_res['AMI'] = ami"
   ]
  },
  {
   "cell_type": "code",
   "execution_count": null,
   "id": "b31864ed",
   "metadata": {},
   "outputs": [],
   "source": [
    "#Save method, clustering, mat_in (U,S, etc), hyper (K or res), hvgs, data, ARI, NMI\n",
    "# LK_res.to_csv('./fits/LeidKMeansruns_0209/LeidKMeans_bench_results.csv',index=None)\n",
    "# LK_res.head()\n",
    "\n"
   ]
  },
  {
   "cell_type": "code",
   "execution_count": 19,
   "id": "79e36c68",
   "metadata": {},
   "outputs": [],
   "source": [
    "LK_res.to_pickle('./fits/LeidKMeansruns_0215/LK_res.pkl')\n",
    "#unpickled_df = pd.read_pickle(\"./meK_res.pkl\")"
   ]
  },
  {
   "cell_type": "code",
   "execution_count": 13,
   "id": "7c0a54d3",
   "metadata": {},
   "outputs": [
    {
     "data": {
      "text/html": [
       "<div>\n",
       "<style scoped>\n",
       "    .dataframe tbody tr th:only-of-type {\n",
       "        vertical-align: middle;\n",
       "    }\n",
       "\n",
       "    .dataframe tbody tr th {\n",
       "        vertical-align: top;\n",
       "    }\n",
       "\n",
       "    .dataframe thead th {\n",
       "        text-align: right;\n",
       "    }\n",
       "</style>\n",
       "<table border=\"1\" class=\"dataframe\">\n",
       "  <thead>\n",
       "    <tr style=\"text-align: right;\">\n",
       "      <th></th>\n",
       "      <th>Method</th>\n",
       "      <th>Clustering</th>\n",
       "      <th>Matrices</th>\n",
       "      <th>Hyperparam</th>\n",
       "      <th>HVGs</th>\n",
       "      <th>Data</th>\n",
       "      <th>ARI</th>\n",
       "      <th>AMI</th>\n",
       "    </tr>\n",
       "  </thead>\n",
       "  <tbody>\n",
       "    <tr>\n",
       "      <th>0</th>\n",
       "      <td>Leiden</td>\n",
       "      <td>[3, 3, 1, 3, 3, 3, 4, 4, 3, 3, 1, 1, 3, 3, 3, ...</td>\n",
       "      <td>U</td>\n",
       "      <td>0.75</td>\n",
       "      <td>357</td>\n",
       "      <td>cl5</td>\n",
       "      <td>0.948212</td>\n",
       "      <td>0.915683</td>\n",
       "    </tr>\n",
       "    <tr>\n",
       "      <th>1</th>\n",
       "      <td>Leiden</td>\n",
       "      <td>[3, 3, 1, 3, 3, 3, 4, 4, 3, 3, 1, 1, 3, 3, 3, ...</td>\n",
       "      <td>S</td>\n",
       "      <td>0.75</td>\n",
       "      <td>357</td>\n",
       "      <td>cl5</td>\n",
       "      <td>0.986832</td>\n",
       "      <td>0.975747</td>\n",
       "    </tr>\n",
       "    <tr>\n",
       "      <th>2</th>\n",
       "      <td>Leiden</td>\n",
       "      <td>[3, 3, 1, 3, 3, 3, 4, 4, 3, 3, 1, 1, 3, 3, 3, ...</td>\n",
       "      <td>U+S</td>\n",
       "      <td>0.75</td>\n",
       "      <td>357</td>\n",
       "      <td>cl5</td>\n",
       "      <td>0.965742</td>\n",
       "      <td>0.946763</td>\n",
       "    </tr>\n",
       "    <tr>\n",
       "      <th>3</th>\n",
       "      <td>Leiden</td>\n",
       "      <td>[3, 3, 1, 3, 3, 3, 4, 4, 3, 3, 1, 1, 3, 3, 3, ...</td>\n",
       "      <td>UcatS</td>\n",
       "      <td>0.75</td>\n",
       "      <td>357</td>\n",
       "      <td>cl5</td>\n",
       "      <td>0.965702</td>\n",
       "      <td>0.947080</td>\n",
       "    </tr>\n",
       "    <tr>\n",
       "      <th>4</th>\n",
       "      <td>Leiden</td>\n",
       "      <td>[3, 3, 1, 3, 3, 3, 4, 4, 3, 3, 1, 1, 3, 3, 3, ...</td>\n",
       "      <td>U</td>\n",
       "      <td>1.00</td>\n",
       "      <td>357</td>\n",
       "      <td>cl5</td>\n",
       "      <td>0.948656</td>\n",
       "      <td>0.916597</td>\n",
       "    </tr>\n",
       "    <tr>\n",
       "      <th>...</th>\n",
       "      <td>...</td>\n",
       "      <td>...</td>\n",
       "      <td>...</td>\n",
       "      <td>...</td>\n",
       "      <td>...</td>\n",
       "      <td>...</td>\n",
       "      <td>...</td>\n",
       "      <td>...</td>\n",
       "    </tr>\n",
       "    <tr>\n",
       "      <th>155</th>\n",
       "      <td>Leiden</td>\n",
       "      <td>[4, 1, 9, 4, 0, 10, 2, 11, 1, 13, 7, 2, 3, 1, ...</td>\n",
       "      <td>UcatS</td>\n",
       "      <td>2.00</td>\n",
       "      <td>1948</td>\n",
       "      <td>allen_b08</td>\n",
       "      <td>0.490543</td>\n",
       "      <td>0.789872</td>\n",
       "    </tr>\n",
       "    <tr>\n",
       "      <th>156</th>\n",
       "      <td>K-Means</td>\n",
       "      <td>[9, 0, 2, 9, 3, 8, 6, 2, 0, 1, 3, 6, 1, 0, 0, ...</td>\n",
       "      <td>U</td>\n",
       "      <td>10.00</td>\n",
       "      <td>1948</td>\n",
       "      <td>allen_b08</td>\n",
       "      <td>0.449502</td>\n",
       "      <td>0.734600</td>\n",
       "    </tr>\n",
       "    <tr>\n",
       "      <th>157</th>\n",
       "      <td>K-Means</td>\n",
       "      <td>[0, 1, 5, 0, 4, 6, 2, 3, 1, 6, 4, 2, 7, 1, 1, ...</td>\n",
       "      <td>S</td>\n",
       "      <td>10.00</td>\n",
       "      <td>1948</td>\n",
       "      <td>allen_b08</td>\n",
       "      <td>0.583041</td>\n",
       "      <td>0.798872</td>\n",
       "    </tr>\n",
       "    <tr>\n",
       "      <th>158</th>\n",
       "      <td>K-Means</td>\n",
       "      <td>[2, 0, 3, 2, 1, 8, 6, 3, 0, 8, 1, 6, 5, 0, 0, ...</td>\n",
       "      <td>U+S</td>\n",
       "      <td>10.00</td>\n",
       "      <td>1948</td>\n",
       "      <td>allen_b08</td>\n",
       "      <td>0.572679</td>\n",
       "      <td>0.786544</td>\n",
       "    </tr>\n",
       "    <tr>\n",
       "      <th>159</th>\n",
       "      <td>K-Means</td>\n",
       "      <td>[0, 4, 9, 0, 1, 5, 3, 2, 8, 0, 1, 3, 0, 4, 8, ...</td>\n",
       "      <td>UcatS</td>\n",
       "      <td>10.00</td>\n",
       "      <td>1948</td>\n",
       "      <td>allen_b08</td>\n",
       "      <td>0.628755</td>\n",
       "      <td>0.808533</td>\n",
       "    </tr>\n",
       "  </tbody>\n",
       "</table>\n",
       "<p>160 rows × 8 columns</p>\n",
       "</div>"
      ],
      "text/plain": [
       "      Method                                         Clustering Matrices  \\\n",
       "0     Leiden  [3, 3, 1, 3, 3, 3, 4, 4, 3, 3, 1, 1, 3, 3, 3, ...        U   \n",
       "1     Leiden  [3, 3, 1, 3, 3, 3, 4, 4, 3, 3, 1, 1, 3, 3, 3, ...        S   \n",
       "2     Leiden  [3, 3, 1, 3, 3, 3, 4, 4, 3, 3, 1, 1, 3, 3, 3, ...      U+S   \n",
       "3     Leiden  [3, 3, 1, 3, 3, 3, 4, 4, 3, 3, 1, 1, 3, 3, 3, ...    UcatS   \n",
       "4     Leiden  [3, 3, 1, 3, 3, 3, 4, 4, 3, 3, 1, 1, 3, 3, 3, ...        U   \n",
       "..       ...                                                ...      ...   \n",
       "155   Leiden  [4, 1, 9, 4, 0, 10, 2, 11, 1, 13, 7, 2, 3, 1, ...    UcatS   \n",
       "156  K-Means  [9, 0, 2, 9, 3, 8, 6, 2, 0, 1, 3, 6, 1, 0, 0, ...        U   \n",
       "157  K-Means  [0, 1, 5, 0, 4, 6, 2, 3, 1, 6, 4, 2, 7, 1, 1, ...        S   \n",
       "158  K-Means  [2, 0, 3, 2, 1, 8, 6, 3, 0, 8, 1, 6, 5, 0, 0, ...      U+S   \n",
       "159  K-Means  [0, 4, 9, 0, 1, 5, 3, 2, 8, 0, 1, 3, 0, 4, 8, ...    UcatS   \n",
       "\n",
       "     Hyperparam  HVGs       Data       ARI       AMI  \n",
       "0          0.75   357        cl5  0.948212  0.915683  \n",
       "1          0.75   357        cl5  0.986832  0.975747  \n",
       "2          0.75   357        cl5  0.965742  0.946763  \n",
       "3          0.75   357        cl5  0.965702  0.947080  \n",
       "4          1.00   357        cl5  0.948656  0.916597  \n",
       "..          ...   ...        ...       ...       ...  \n",
       "155        2.00  1948  allen_b08  0.490543  0.789872  \n",
       "156       10.00  1948  allen_b08  0.449502  0.734600  \n",
       "157       10.00  1948  allen_b08  0.583041  0.798872  \n",
       "158       10.00  1948  allen_b08  0.572679  0.786544  \n",
       "159       10.00  1948  allen_b08  0.628755  0.808533  \n",
       "\n",
       "[160 rows x 8 columns]"
      ]
     },
     "execution_count": 13,
     "metadata": {},
     "output_type": "execute_result"
    }
   ],
   "source": [
    "unpickled_df_LK = pd.read_pickle(\"./fits/LeidKMeansruns_0215/LK_res.pkl\")\n",
    "unpickled_df_LK"
   ]
  },
  {
   "cell_type": "code",
   "execution_count": 21,
   "id": "a0ac0173",
   "metadata": {},
   "outputs": [
    {
     "data": {
      "text/html": [
       "<div>\n",
       "<style scoped>\n",
       "    .dataframe tbody tr th:only-of-type {\n",
       "        vertical-align: middle;\n",
       "    }\n",
       "\n",
       "    .dataframe tbody tr th {\n",
       "        vertical-align: top;\n",
       "    }\n",
       "\n",
       "    .dataframe thead th {\n",
       "        text-align: right;\n",
       "    }\n",
       "</style>\n",
       "<table border=\"1\" class=\"dataframe\">\n",
       "  <thead>\n",
       "    <tr style=\"text-align: right;\">\n",
       "      <th></th>\n",
       "      <th>Method</th>\n",
       "      <th>Clustering</th>\n",
       "      <th>Matrices</th>\n",
       "      <th>Hyperparam</th>\n",
       "      <th>HVGs</th>\n",
       "      <th>Data</th>\n",
       "      <th>ARI</th>\n",
       "      <th>AMI</th>\n",
       "    </tr>\n",
       "  </thead>\n",
       "  <tbody>\n",
       "    <tr>\n",
       "      <th>16</th>\n",
       "      <td>K-Means</td>\n",
       "      <td>[0, 0, 1, 0, 0, 0, 3, 3, 0, 0, 1, 1, 0, 0, 0, ...</td>\n",
       "      <td>U</td>\n",
       "      <td>5.0</td>\n",
       "      <td>357</td>\n",
       "      <td>cl5</td>\n",
       "      <td>0.961551</td>\n",
       "      <td>0.935268</td>\n",
       "    </tr>\n",
       "    <tr>\n",
       "      <th>17</th>\n",
       "      <td>K-Means</td>\n",
       "      <td>[0, 0, 4, 0, 0, 0, 3, 3, 0, 0, 4, 4, 0, 0, 0, ...</td>\n",
       "      <td>S</td>\n",
       "      <td>5.0</td>\n",
       "      <td>357</td>\n",
       "      <td>cl5</td>\n",
       "      <td>0.985684</td>\n",
       "      <td>0.971379</td>\n",
       "    </tr>\n",
       "    <tr>\n",
       "      <th>18</th>\n",
       "      <td>K-Means</td>\n",
       "      <td>[0, 0, 2, 0, 0, 0, 4, 4, 0, 0, 2, 2, 0, 0, 0, ...</td>\n",
       "      <td>U+S</td>\n",
       "      <td>5.0</td>\n",
       "      <td>357</td>\n",
       "      <td>cl5</td>\n",
       "      <td>0.986565</td>\n",
       "      <td>0.975978</td>\n",
       "    </tr>\n",
       "    <tr>\n",
       "      <th>19</th>\n",
       "      <td>K-Means</td>\n",
       "      <td>[0, 0, 1, 0, 0, 0, 4, 4, 0, 0, 1, 1, 0, 0, 0, ...</td>\n",
       "      <td>UcatS</td>\n",
       "      <td>5.0</td>\n",
       "      <td>357</td>\n",
       "      <td>cl5</td>\n",
       "      <td>0.984452</td>\n",
       "      <td>0.971651</td>\n",
       "    </tr>\n",
       "    <tr>\n",
       "      <th>36</th>\n",
       "      <td>K-Means</td>\n",
       "      <td>[2, 2, 4, 2, 2, 2, 3, 3, 2, 2, 4, 4, 2, 2, 2, ...</td>\n",
       "      <td>U</td>\n",
       "      <td>5.0</td>\n",
       "      <td>1193</td>\n",
       "      <td>cl5</td>\n",
       "      <td>0.976411</td>\n",
       "      <td>0.958415</td>\n",
       "    </tr>\n",
       "    <tr>\n",
       "      <th>37</th>\n",
       "      <td>K-Means</td>\n",
       "      <td>[3, 3, 1, 3, 3, 3, 0, 0, 3, 3, 1, 1, 3, 3, 3, ...</td>\n",
       "      <td>S</td>\n",
       "      <td>5.0</td>\n",
       "      <td>1193</td>\n",
       "      <td>cl5</td>\n",
       "      <td>0.989094</td>\n",
       "      <td>0.979287</td>\n",
       "    </tr>\n",
       "    <tr>\n",
       "      <th>38</th>\n",
       "      <td>K-Means</td>\n",
       "      <td>[0, 0, 3, 0, 0, 0, 4, 4, 0, 0, 3, 3, 0, 0, 0, ...</td>\n",
       "      <td>U+S</td>\n",
       "      <td>5.0</td>\n",
       "      <td>1193</td>\n",
       "      <td>cl5</td>\n",
       "      <td>0.991180</td>\n",
       "      <td>0.982610</td>\n",
       "    </tr>\n",
       "    <tr>\n",
       "      <th>39</th>\n",
       "      <td>K-Means</td>\n",
       "      <td>[0, 0, 2, 0, 0, 0, 4, 4, 0, 0, 2, 2, 0, 0, 0, ...</td>\n",
       "      <td>UcatS</td>\n",
       "      <td>5.0</td>\n",
       "      <td>1193</td>\n",
       "      <td>cl5</td>\n",
       "      <td>0.989056</td>\n",
       "      <td>0.979051</td>\n",
       "    </tr>\n",
       "    <tr>\n",
       "      <th>56</th>\n",
       "      <td>K-Means</td>\n",
       "      <td>[9, 7, 7, 2, 0, 10, 3, 7, 0, 2, 10, 10, 10, 0,...</td>\n",
       "      <td>U</td>\n",
       "      <td>11.0</td>\n",
       "      <td>359</td>\n",
       "      <td>allen_b02h01a02</td>\n",
       "      <td>0.621291</td>\n",
       "      <td>0.800626</td>\n",
       "    </tr>\n",
       "    <tr>\n",
       "      <th>57</th>\n",
       "      <td>K-Means</td>\n",
       "      <td>[5, 10, 10, 0, 4, 6, 7, 10, 6, 0, 1, 2, 1, 4, ...</td>\n",
       "      <td>S</td>\n",
       "      <td>11.0</td>\n",
       "      <td>359</td>\n",
       "      <td>allen_b02h01a02</td>\n",
       "      <td>0.568339</td>\n",
       "      <td>0.694427</td>\n",
       "    </tr>\n",
       "    <tr>\n",
       "      <th>58</th>\n",
       "      <td>K-Means</td>\n",
       "      <td>[10, 3, 3, 4, 0, 2, 6, 3, 0, 4, 2, 2, 2, 9, 3,...</td>\n",
       "      <td>U+S</td>\n",
       "      <td>11.0</td>\n",
       "      <td>359</td>\n",
       "      <td>allen_b02h01a02</td>\n",
       "      <td>0.615614</td>\n",
       "      <td>0.790387</td>\n",
       "    </tr>\n",
       "    <tr>\n",
       "      <th>59</th>\n",
       "      <td>K-Means</td>\n",
       "      <td>[7, 9, 9, 6, 10, 8, 5, 9, 10, 6, 8, 2, 8, 10, ...</td>\n",
       "      <td>UcatS</td>\n",
       "      <td>11.0</td>\n",
       "      <td>359</td>\n",
       "      <td>allen_b02h01a02</td>\n",
       "      <td>0.617297</td>\n",
       "      <td>0.799530</td>\n",
       "    </tr>\n",
       "    <tr>\n",
       "      <th>76</th>\n",
       "      <td>K-Means</td>\n",
       "      <td>[1, 0, 1, 1, 1, 0, 1, 1, 1, 1, 0, 1, 1, 1, 0, ...</td>\n",
       "      <td>U</td>\n",
       "      <td>3.0</td>\n",
       "      <td>466</td>\n",
       "      <td>cl3</td>\n",
       "      <td>0.986590</td>\n",
       "      <td>0.974196</td>\n",
       "    </tr>\n",
       "    <tr>\n",
       "      <th>77</th>\n",
       "      <td>K-Means</td>\n",
       "      <td>[2, 2, 2, 2, 2, 1, 2, 2, 2, 2, 1, 2, 2, 2, 1, ...</td>\n",
       "      <td>S</td>\n",
       "      <td>3.0</td>\n",
       "      <td>466</td>\n",
       "      <td>cl3</td>\n",
       "      <td>0.993278</td>\n",
       "      <td>0.986393</td>\n",
       "    </tr>\n",
       "    <tr>\n",
       "      <th>78</th>\n",
       "      <td>K-Means</td>\n",
       "      <td>[1, 1, 1, 1, 1, 2, 1, 1, 1, 1, 2, 1, 1, 1, 2, ...</td>\n",
       "      <td>U+S</td>\n",
       "      <td>3.0</td>\n",
       "      <td>466</td>\n",
       "      <td>cl3</td>\n",
       "      <td>0.993278</td>\n",
       "      <td>0.986393</td>\n",
       "    </tr>\n",
       "    <tr>\n",
       "      <th>79</th>\n",
       "      <td>K-Means</td>\n",
       "      <td>[1, 1, 1, 1, 1, 2, 1, 1, 1, 1, 2, 1, 1, 1, 2, ...</td>\n",
       "      <td>UcatS</td>\n",
       "      <td>3.0</td>\n",
       "      <td>466</td>\n",
       "      <td>cl3</td>\n",
       "      <td>0.993278</td>\n",
       "      <td>0.986393</td>\n",
       "    </tr>\n",
       "    <tr>\n",
       "      <th>96</th>\n",
       "      <td>K-Means</td>\n",
       "      <td>[0, 7, 9, 0, 1, 6, 2, 5, 7, 3, 1, 2, 4, 7, 7, ...</td>\n",
       "      <td>U</td>\n",
       "      <td>10.0</td>\n",
       "      <td>682</td>\n",
       "      <td>allen_b08</td>\n",
       "      <td>0.568171</td>\n",
       "      <td>0.789347</td>\n",
       "    </tr>\n",
       "    <tr>\n",
       "      <th>97</th>\n",
       "      <td>K-Means</td>\n",
       "      <td>[0, 1, 3, 0, 2, 4, 5, 9, 1, 4, 7, 5, 0, 1, 1, ...</td>\n",
       "      <td>S</td>\n",
       "      <td>10.0</td>\n",
       "      <td>682</td>\n",
       "      <td>allen_b08</td>\n",
       "      <td>0.561091</td>\n",
       "      <td>0.794990</td>\n",
       "    </tr>\n",
       "    <tr>\n",
       "      <th>98</th>\n",
       "      <td>K-Means</td>\n",
       "      <td>[0, 2, 5, 0, 6, 8, 7, 4, 2, 0, 6, 7, 0, 2, 2, ...</td>\n",
       "      <td>U+S</td>\n",
       "      <td>10.0</td>\n",
       "      <td>682</td>\n",
       "      <td>allen_b08</td>\n",
       "      <td>0.561130</td>\n",
       "      <td>0.792332</td>\n",
       "    </tr>\n",
       "    <tr>\n",
       "      <th>99</th>\n",
       "      <td>K-Means</td>\n",
       "      <td>[2, 0, 8, 2, 7, 9, 6, 4, 0, 2, 7, 6, 2, 0, 0, ...</td>\n",
       "      <td>UcatS</td>\n",
       "      <td>10.0</td>\n",
       "      <td>682</td>\n",
       "      <td>allen_b08</td>\n",
       "      <td>0.561342</td>\n",
       "      <td>0.794814</td>\n",
       "    </tr>\n",
       "    <tr>\n",
       "      <th>116</th>\n",
       "      <td>K-Means</td>\n",
       "      <td>[9, 10, 10, 1, 4, 3, 2, 10, 4, 1, 3, 7, 7, 4, ...</td>\n",
       "      <td>U</td>\n",
       "      <td>11.0</td>\n",
       "      <td>2770</td>\n",
       "      <td>allen_b02h01a02</td>\n",
       "      <td>0.568119</td>\n",
       "      <td>0.760267</td>\n",
       "    </tr>\n",
       "    <tr>\n",
       "      <th>117</th>\n",
       "      <td>K-Means</td>\n",
       "      <td>[6, 1, 1, 3, 10, 9, 8, 1, 2, 3, 9, 5, 2, 10, 1...</td>\n",
       "      <td>S</td>\n",
       "      <td>11.0</td>\n",
       "      <td>2770</td>\n",
       "      <td>allen_b02h01a02</td>\n",
       "      <td>0.500026</td>\n",
       "      <td>0.680573</td>\n",
       "    </tr>\n",
       "    <tr>\n",
       "      <th>118</th>\n",
       "      <td>K-Means</td>\n",
       "      <td>[4, 0, 0, 3, 8, 9, 2, 0, 8, 3, 9, 9, 1, 8, 0, ...</td>\n",
       "      <td>U+S</td>\n",
       "      <td>11.0</td>\n",
       "      <td>2770</td>\n",
       "      <td>allen_b02h01a02</td>\n",
       "      <td>0.529460</td>\n",
       "      <td>0.753200</td>\n",
       "    </tr>\n",
       "    <tr>\n",
       "      <th>119</th>\n",
       "      <td>K-Means</td>\n",
       "      <td>[1, 9, 9, 8, 2, 3, 6, 9, 2, 8, 3, 3, 3, 2, 9, ...</td>\n",
       "      <td>UcatS</td>\n",
       "      <td>11.0</td>\n",
       "      <td>2770</td>\n",
       "      <td>allen_b02h01a02</td>\n",
       "      <td>0.548104</td>\n",
       "      <td>0.743446</td>\n",
       "    </tr>\n",
       "    <tr>\n",
       "      <th>136</th>\n",
       "      <td>K-Means</td>\n",
       "      <td>[2, 2, 2, 2, 2, 1, 2, 2, 2, 2, 1, 2, 2, 2, 1, ...</td>\n",
       "      <td>U</td>\n",
       "      <td>3.0</td>\n",
       "      <td>1137</td>\n",
       "      <td>cl3</td>\n",
       "      <td>0.986588</td>\n",
       "      <td>0.974199</td>\n",
       "    </tr>\n",
       "    <tr>\n",
       "      <th>137</th>\n",
       "      <td>K-Means</td>\n",
       "      <td>[2, 2, 2, 2, 2, 1, 2, 2, 2, 2, 1, 2, 2, 2, 1, ...</td>\n",
       "      <td>S</td>\n",
       "      <td>3.0</td>\n",
       "      <td>1137</td>\n",
       "      <td>cl3</td>\n",
       "      <td>0.996536</td>\n",
       "      <td>0.993165</td>\n",
       "    </tr>\n",
       "    <tr>\n",
       "      <th>138</th>\n",
       "      <td>K-Means</td>\n",
       "      <td>[1, 1, 1, 1, 1, 2, 1, 1, 1, 1, 2, 1, 1, 1, 2, ...</td>\n",
       "      <td>U+S</td>\n",
       "      <td>3.0</td>\n",
       "      <td>1137</td>\n",
       "      <td>cl3</td>\n",
       "      <td>0.990040</td>\n",
       "      <td>0.979630</td>\n",
       "    </tr>\n",
       "    <tr>\n",
       "      <th>139</th>\n",
       "      <td>K-Means</td>\n",
       "      <td>[1, 1, 1, 1, 1, 2, 1, 1, 1, 1, 2, 1, 1, 1, 2, ...</td>\n",
       "      <td>UcatS</td>\n",
       "      <td>3.0</td>\n",
       "      <td>1137</td>\n",
       "      <td>cl3</td>\n",
       "      <td>0.993293</td>\n",
       "      <td>0.986400</td>\n",
       "    </tr>\n",
       "    <tr>\n",
       "      <th>156</th>\n",
       "      <td>K-Means</td>\n",
       "      <td>[9, 0, 2, 9, 3, 8, 6, 2, 0, 1, 3, 6, 1, 0, 0, ...</td>\n",
       "      <td>U</td>\n",
       "      <td>10.0</td>\n",
       "      <td>1948</td>\n",
       "      <td>allen_b08</td>\n",
       "      <td>0.449502</td>\n",
       "      <td>0.734600</td>\n",
       "    </tr>\n",
       "    <tr>\n",
       "      <th>157</th>\n",
       "      <td>K-Means</td>\n",
       "      <td>[0, 1, 5, 0, 4, 6, 2, 3, 1, 6, 4, 2, 7, 1, 1, ...</td>\n",
       "      <td>S</td>\n",
       "      <td>10.0</td>\n",
       "      <td>1948</td>\n",
       "      <td>allen_b08</td>\n",
       "      <td>0.583041</td>\n",
       "      <td>0.798872</td>\n",
       "    </tr>\n",
       "    <tr>\n",
       "      <th>158</th>\n",
       "      <td>K-Means</td>\n",
       "      <td>[2, 0, 3, 2, 1, 8, 6, 3, 0, 8, 1, 6, 5, 0, 0, ...</td>\n",
       "      <td>U+S</td>\n",
       "      <td>10.0</td>\n",
       "      <td>1948</td>\n",
       "      <td>allen_b08</td>\n",
       "      <td>0.572679</td>\n",
       "      <td>0.786544</td>\n",
       "    </tr>\n",
       "    <tr>\n",
       "      <th>159</th>\n",
       "      <td>K-Means</td>\n",
       "      <td>[0, 4, 9, 0, 1, 5, 3, 2, 8, 0, 1, 3, 0, 4, 8, ...</td>\n",
       "      <td>UcatS</td>\n",
       "      <td>10.0</td>\n",
       "      <td>1948</td>\n",
       "      <td>allen_b08</td>\n",
       "      <td>0.628755</td>\n",
       "      <td>0.808533</td>\n",
       "    </tr>\n",
       "  </tbody>\n",
       "</table>\n",
       "</div>"
      ],
      "text/plain": [
       "      Method                                         Clustering Matrices  \\\n",
       "16   K-Means  [0, 0, 1, 0, 0, 0, 3, 3, 0, 0, 1, 1, 0, 0, 0, ...        U   \n",
       "17   K-Means  [0, 0, 4, 0, 0, 0, 3, 3, 0, 0, 4, 4, 0, 0, 0, ...        S   \n",
       "18   K-Means  [0, 0, 2, 0, 0, 0, 4, 4, 0, 0, 2, 2, 0, 0, 0, ...      U+S   \n",
       "19   K-Means  [0, 0, 1, 0, 0, 0, 4, 4, 0, 0, 1, 1, 0, 0, 0, ...    UcatS   \n",
       "36   K-Means  [2, 2, 4, 2, 2, 2, 3, 3, 2, 2, 4, 4, 2, 2, 2, ...        U   \n",
       "37   K-Means  [3, 3, 1, 3, 3, 3, 0, 0, 3, 3, 1, 1, 3, 3, 3, ...        S   \n",
       "38   K-Means  [0, 0, 3, 0, 0, 0, 4, 4, 0, 0, 3, 3, 0, 0, 0, ...      U+S   \n",
       "39   K-Means  [0, 0, 2, 0, 0, 0, 4, 4, 0, 0, 2, 2, 0, 0, 0, ...    UcatS   \n",
       "56   K-Means  [9, 7, 7, 2, 0, 10, 3, 7, 0, 2, 10, 10, 10, 0,...        U   \n",
       "57   K-Means  [5, 10, 10, 0, 4, 6, 7, 10, 6, 0, 1, 2, 1, 4, ...        S   \n",
       "58   K-Means  [10, 3, 3, 4, 0, 2, 6, 3, 0, 4, 2, 2, 2, 9, 3,...      U+S   \n",
       "59   K-Means  [7, 9, 9, 6, 10, 8, 5, 9, 10, 6, 8, 2, 8, 10, ...    UcatS   \n",
       "76   K-Means  [1, 0, 1, 1, 1, 0, 1, 1, 1, 1, 0, 1, 1, 1, 0, ...        U   \n",
       "77   K-Means  [2, 2, 2, 2, 2, 1, 2, 2, 2, 2, 1, 2, 2, 2, 1, ...        S   \n",
       "78   K-Means  [1, 1, 1, 1, 1, 2, 1, 1, 1, 1, 2, 1, 1, 1, 2, ...      U+S   \n",
       "79   K-Means  [1, 1, 1, 1, 1, 2, 1, 1, 1, 1, 2, 1, 1, 1, 2, ...    UcatS   \n",
       "96   K-Means  [0, 7, 9, 0, 1, 6, 2, 5, 7, 3, 1, 2, 4, 7, 7, ...        U   \n",
       "97   K-Means  [0, 1, 3, 0, 2, 4, 5, 9, 1, 4, 7, 5, 0, 1, 1, ...        S   \n",
       "98   K-Means  [0, 2, 5, 0, 6, 8, 7, 4, 2, 0, 6, 7, 0, 2, 2, ...      U+S   \n",
       "99   K-Means  [2, 0, 8, 2, 7, 9, 6, 4, 0, 2, 7, 6, 2, 0, 0, ...    UcatS   \n",
       "116  K-Means  [9, 10, 10, 1, 4, 3, 2, 10, 4, 1, 3, 7, 7, 4, ...        U   \n",
       "117  K-Means  [6, 1, 1, 3, 10, 9, 8, 1, 2, 3, 9, 5, 2, 10, 1...        S   \n",
       "118  K-Means  [4, 0, 0, 3, 8, 9, 2, 0, 8, 3, 9, 9, 1, 8, 0, ...      U+S   \n",
       "119  K-Means  [1, 9, 9, 8, 2, 3, 6, 9, 2, 8, 3, 3, 3, 2, 9, ...    UcatS   \n",
       "136  K-Means  [2, 2, 2, 2, 2, 1, 2, 2, 2, 2, 1, 2, 2, 2, 1, ...        U   \n",
       "137  K-Means  [2, 2, 2, 2, 2, 1, 2, 2, 2, 2, 1, 2, 2, 2, 1, ...        S   \n",
       "138  K-Means  [1, 1, 1, 1, 1, 2, 1, 1, 1, 1, 2, 1, 1, 1, 2, ...      U+S   \n",
       "139  K-Means  [1, 1, 1, 1, 1, 2, 1, 1, 1, 1, 2, 1, 1, 1, 2, ...    UcatS   \n",
       "156  K-Means  [9, 0, 2, 9, 3, 8, 6, 2, 0, 1, 3, 6, 1, 0, 0, ...        U   \n",
       "157  K-Means  [0, 1, 5, 0, 4, 6, 2, 3, 1, 6, 4, 2, 7, 1, 1, ...        S   \n",
       "158  K-Means  [2, 0, 3, 2, 1, 8, 6, 3, 0, 8, 1, 6, 5, 0, 0, ...      U+S   \n",
       "159  K-Means  [0, 4, 9, 0, 1, 5, 3, 2, 8, 0, 1, 3, 0, 4, 8, ...    UcatS   \n",
       "\n",
       "     Hyperparam  HVGs             Data       ARI       AMI  \n",
       "16          5.0   357              cl5  0.961551  0.935268  \n",
       "17          5.0   357              cl5  0.985684  0.971379  \n",
       "18          5.0   357              cl5  0.986565  0.975978  \n",
       "19          5.0   357              cl5  0.984452  0.971651  \n",
       "36          5.0  1193              cl5  0.976411  0.958415  \n",
       "37          5.0  1193              cl5  0.989094  0.979287  \n",
       "38          5.0  1193              cl5  0.991180  0.982610  \n",
       "39          5.0  1193              cl5  0.989056  0.979051  \n",
       "56         11.0   359  allen_b02h01a02  0.621291  0.800626  \n",
       "57         11.0   359  allen_b02h01a02  0.568339  0.694427  \n",
       "58         11.0   359  allen_b02h01a02  0.615614  0.790387  \n",
       "59         11.0   359  allen_b02h01a02  0.617297  0.799530  \n",
       "76          3.0   466              cl3  0.986590  0.974196  \n",
       "77          3.0   466              cl3  0.993278  0.986393  \n",
       "78          3.0   466              cl3  0.993278  0.986393  \n",
       "79          3.0   466              cl3  0.993278  0.986393  \n",
       "96         10.0   682        allen_b08  0.568171  0.789347  \n",
       "97         10.0   682        allen_b08  0.561091  0.794990  \n",
       "98         10.0   682        allen_b08  0.561130  0.792332  \n",
       "99         10.0   682        allen_b08  0.561342  0.794814  \n",
       "116        11.0  2770  allen_b02h01a02  0.568119  0.760267  \n",
       "117        11.0  2770  allen_b02h01a02  0.500026  0.680573  \n",
       "118        11.0  2770  allen_b02h01a02  0.529460  0.753200  \n",
       "119        11.0  2770  allen_b02h01a02  0.548104  0.743446  \n",
       "136         3.0  1137              cl3  0.986588  0.974199  \n",
       "137         3.0  1137              cl3  0.996536  0.993165  \n",
       "138         3.0  1137              cl3  0.990040  0.979630  \n",
       "139         3.0  1137              cl3  0.993293  0.986400  \n",
       "156        10.0  1948        allen_b08  0.449502  0.734600  \n",
       "157        10.0  1948        allen_b08  0.583041  0.798872  \n",
       "158        10.0  1948        allen_b08  0.572679  0.786544  \n",
       "159        10.0  1948        allen_b08  0.628755  0.808533  "
      ]
     },
     "execution_count": 21,
     "metadata": {},
     "output_type": "execute_result"
    }
   ],
   "source": [
    "unpickled_df_LK[unpickled_df_LK.Method.isin(['K-Means']) ]"
   ]
  },
  {
   "cell_type": "code",
   "execution_count": 23,
   "id": "024af698",
   "metadata": {},
   "outputs": [
    {
     "data": {
      "text/html": [
       "<div>\n",
       "<style scoped>\n",
       "    .dataframe tbody tr th:only-of-type {\n",
       "        vertical-align: middle;\n",
       "    }\n",
       "\n",
       "    .dataframe tbody tr th {\n",
       "        vertical-align: top;\n",
       "    }\n",
       "\n",
       "    .dataframe thead th {\n",
       "        text-align: right;\n",
       "    }\n",
       "</style>\n",
       "<table border=\"1\" class=\"dataframe\">\n",
       "  <thead>\n",
       "    <tr style=\"text-align: right;\">\n",
       "      <th></th>\n",
       "      <th>Method</th>\n",
       "      <th>Clustering</th>\n",
       "      <th>Matrices</th>\n",
       "      <th>Hyperparam</th>\n",
       "      <th>HVGs</th>\n",
       "      <th>Data</th>\n",
       "      <th>ARI</th>\n",
       "      <th>AMI</th>\n",
       "    </tr>\n",
       "  </thead>\n",
       "  <tbody>\n",
       "    <tr>\n",
       "      <th>4</th>\n",
       "      <td>Leiden</td>\n",
       "      <td>[3, 3, 1, 3, 3, 3, 4, 4, 3, 3, 1, 1, 3, 3, 3, ...</td>\n",
       "      <td>U</td>\n",
       "      <td>1.0</td>\n",
       "      <td>357</td>\n",
       "      <td>cl5</td>\n",
       "      <td>0.948656</td>\n",
       "      <td>0.916597</td>\n",
       "    </tr>\n",
       "    <tr>\n",
       "      <th>5</th>\n",
       "      <td>Leiden</td>\n",
       "      <td>[3, 3, 1, 3, 3, 3, 5, 5, 3, 3, 1, 1, 3, 3, 3, ...</td>\n",
       "      <td>S</td>\n",
       "      <td>1.0</td>\n",
       "      <td>357</td>\n",
       "      <td>cl5</td>\n",
       "      <td>0.846898</td>\n",
       "      <td>0.900251</td>\n",
       "    </tr>\n",
       "    <tr>\n",
       "      <th>6</th>\n",
       "      <td>Leiden</td>\n",
       "      <td>[3, 3, 1, 3, 3, 3, 5, 5, 3, 3, 1, 1, 3, 3, 3, ...</td>\n",
       "      <td>U+S</td>\n",
       "      <td>1.0</td>\n",
       "      <td>357</td>\n",
       "      <td>cl5</td>\n",
       "      <td>0.833441</td>\n",
       "      <td>0.893414</td>\n",
       "    </tr>\n",
       "    <tr>\n",
       "      <th>7</th>\n",
       "      <td>Leiden</td>\n",
       "      <td>[3, 3, 1, 3, 3, 3, 5, 5, 3, 3, 1, 1, 3, 3, 3, ...</td>\n",
       "      <td>UcatS</td>\n",
       "      <td>1.0</td>\n",
       "      <td>357</td>\n",
       "      <td>cl5</td>\n",
       "      <td>0.841939</td>\n",
       "      <td>0.893758</td>\n",
       "    </tr>\n",
       "    <tr>\n",
       "      <th>24</th>\n",
       "      <td>Leiden</td>\n",
       "      <td>[3, 3, 1, 3, 3, 3, 4, 4, 3, 3, 1, 1, 3, 3, 3, ...</td>\n",
       "      <td>U</td>\n",
       "      <td>1.0</td>\n",
       "      <td>1193</td>\n",
       "      <td>cl5</td>\n",
       "      <td>0.939578</td>\n",
       "      <td>0.906968</td>\n",
       "    </tr>\n",
       "    <tr>\n",
       "      <th>25</th>\n",
       "      <td>Leiden</td>\n",
       "      <td>[3, 3, 1, 3, 3, 3, 5, 5, 3, 3, 1, 1, 3, 3, 3, ...</td>\n",
       "      <td>S</td>\n",
       "      <td>1.0</td>\n",
       "      <td>1193</td>\n",
       "      <td>cl5</td>\n",
       "      <td>0.839479</td>\n",
       "      <td>0.883125</td>\n",
       "    </tr>\n",
       "    <tr>\n",
       "      <th>26</th>\n",
       "      <td>Leiden</td>\n",
       "      <td>[3, 3, 2, 3, 3, 3, 5, 5, 3, 3, 2, 2, 3, 3, 3, ...</td>\n",
       "      <td>U+S</td>\n",
       "      <td>1.0</td>\n",
       "      <td>1193</td>\n",
       "      <td>cl5</td>\n",
       "      <td>0.769814</td>\n",
       "      <td>0.865851</td>\n",
       "    </tr>\n",
       "    <tr>\n",
       "      <th>27</th>\n",
       "      <td>Leiden</td>\n",
       "      <td>[3, 3, 1, 3, 3, 3, 4, 4, 3, 3, 1, 1, 3, 3, 3, ...</td>\n",
       "      <td>UcatS</td>\n",
       "      <td>1.0</td>\n",
       "      <td>1193</td>\n",
       "      <td>cl5</td>\n",
       "      <td>0.851972</td>\n",
       "      <td>0.903597</td>\n",
       "    </tr>\n",
       "    <tr>\n",
       "      <th>44</th>\n",
       "      <td>Leiden</td>\n",
       "      <td>[10, 1, 1, 5, 2, 3, 8, 1, 2, 5, 3, 0, 0, 2, 1,...</td>\n",
       "      <td>U</td>\n",
       "      <td>1.0</td>\n",
       "      <td>359</td>\n",
       "      <td>allen_b02h01a02</td>\n",
       "      <td>0.654273</td>\n",
       "      <td>0.823200</td>\n",
       "    </tr>\n",
       "    <tr>\n",
       "      <th>45</th>\n",
       "      <td>Leiden</td>\n",
       "      <td>[6, 0, 0, 4, 3, 1, 5, 0, 0, 4, 1, 2, 1, 3, 0, ...</td>\n",
       "      <td>S</td>\n",
       "      <td>1.0</td>\n",
       "      <td>359</td>\n",
       "      <td>allen_b02h01a02</td>\n",
       "      <td>0.554039</td>\n",
       "      <td>0.646380</td>\n",
       "    </tr>\n",
       "    <tr>\n",
       "      <th>46</th>\n",
       "      <td>Leiden</td>\n",
       "      <td>[11, 1, 1, 5, 2, 3, 8, 1, 2, 5, 3, 0, 0, 2, 1,...</td>\n",
       "      <td>U+S</td>\n",
       "      <td>1.0</td>\n",
       "      <td>359</td>\n",
       "      <td>allen_b02h01a02</td>\n",
       "      <td>0.654277</td>\n",
       "      <td>0.824783</td>\n",
       "    </tr>\n",
       "    <tr>\n",
       "      <th>47</th>\n",
       "      <td>Leiden</td>\n",
       "      <td>[10, 1, 1, 5, 2, 3, 8, 1, 2, 5, 3, 0, 0, 2, 1,...</td>\n",
       "      <td>UcatS</td>\n",
       "      <td>1.0</td>\n",
       "      <td>359</td>\n",
       "      <td>allen_b02h01a02</td>\n",
       "      <td>0.653671</td>\n",
       "      <td>0.823722</td>\n",
       "    </tr>\n",
       "    <tr>\n",
       "      <th>64</th>\n",
       "      <td>Leiden</td>\n",
       "      <td>[1, 1, 1, 1, 1, 0, 1, 1, 1, 1, 0, 1, 1, 1, 0, ...</td>\n",
       "      <td>U</td>\n",
       "      <td>1.0</td>\n",
       "      <td>466</td>\n",
       "      <td>cl3</td>\n",
       "      <td>0.853643</td>\n",
       "      <td>0.877056</td>\n",
       "    </tr>\n",
       "    <tr>\n",
       "      <th>65</th>\n",
       "      <td>Leiden</td>\n",
       "      <td>[0, 0, 0, 0, 0, 2, 0, 0, 0, 0, 2, 0, 0, 0, 3, ...</td>\n",
       "      <td>S</td>\n",
       "      <td>1.0</td>\n",
       "      <td>466</td>\n",
       "      <td>cl3</td>\n",
       "      <td>0.728959</td>\n",
       "      <td>0.815635</td>\n",
       "    </tr>\n",
       "    <tr>\n",
       "      <th>66</th>\n",
       "      <td>Leiden</td>\n",
       "      <td>[0, 0, 0, 0, 0, 2, 0, 0, 0, 0, 2, 0, 0, 0, 3, ...</td>\n",
       "      <td>U+S</td>\n",
       "      <td>1.0</td>\n",
       "      <td>466</td>\n",
       "      <td>cl3</td>\n",
       "      <td>0.723654</td>\n",
       "      <td>0.810425</td>\n",
       "    </tr>\n",
       "    <tr>\n",
       "      <th>67</th>\n",
       "      <td>Leiden</td>\n",
       "      <td>[0, 0, 0, 0, 0, 2, 0, 0, 0, 0, 2, 0, 0, 0, 3, ...</td>\n",
       "      <td>UcatS</td>\n",
       "      <td>1.0</td>\n",
       "      <td>466</td>\n",
       "      <td>cl3</td>\n",
       "      <td>0.729116</td>\n",
       "      <td>0.816607</td>\n",
       "    </tr>\n",
       "    <tr>\n",
       "      <th>84</th>\n",
       "      <td>Leiden</td>\n",
       "      <td>[3, 1, 7, 3, 0, 9, 2, 10, 1, 11, 0, 2, 4, 1, 1...</td>\n",
       "      <td>U</td>\n",
       "      <td>1.0</td>\n",
       "      <td>682</td>\n",
       "      <td>allen_b08</td>\n",
       "      <td>0.572253</td>\n",
       "      <td>0.809545</td>\n",
       "    </tr>\n",
       "    <tr>\n",
       "      <th>85</th>\n",
       "      <td>Leiden</td>\n",
       "      <td>[2, 1, 7, 2, 0, 9, 3, 10, 1, 4, 0, 3, 4, 1, 1,...</td>\n",
       "      <td>S</td>\n",
       "      <td>1.0</td>\n",
       "      <td>682</td>\n",
       "      <td>allen_b08</td>\n",
       "      <td>0.573326</td>\n",
       "      <td>0.808092</td>\n",
       "    </tr>\n",
       "    <tr>\n",
       "      <th>86</th>\n",
       "      <td>Leiden</td>\n",
       "      <td>[3, 1, 7, 3, 0, 9, 2, 10, 1, 11, 0, 2, 4, 1, 1...</td>\n",
       "      <td>U+S</td>\n",
       "      <td>1.0</td>\n",
       "      <td>682</td>\n",
       "      <td>allen_b08</td>\n",
       "      <td>0.575094</td>\n",
       "      <td>0.815383</td>\n",
       "    </tr>\n",
       "    <tr>\n",
       "      <th>87</th>\n",
       "      <td>Leiden</td>\n",
       "      <td>[3, 1, 7, 3, 0, 9, 2, 10, 1, 11, 0, 2, 4, 1, 1...</td>\n",
       "      <td>UcatS</td>\n",
       "      <td>1.0</td>\n",
       "      <td>682</td>\n",
       "      <td>allen_b08</td>\n",
       "      <td>0.575348</td>\n",
       "      <td>0.814595</td>\n",
       "    </tr>\n",
       "    <tr>\n",
       "      <th>104</th>\n",
       "      <td>Leiden</td>\n",
       "      <td>[9, 0, 0, 5, 3, 2, 7, 0, 3, 5, 2, 1, 1, 3, 0, ...</td>\n",
       "      <td>U</td>\n",
       "      <td>1.0</td>\n",
       "      <td>2770</td>\n",
       "      <td>allen_b02h01a02</td>\n",
       "      <td>0.744210</td>\n",
       "      <td>0.843668</td>\n",
       "    </tr>\n",
       "    <tr>\n",
       "      <th>105</th>\n",
       "      <td>Leiden</td>\n",
       "      <td>[2, 1, 1, 2, 6, 1, 4, 1, 4, 2, 3, 0, 3, 0, 1, ...</td>\n",
       "      <td>S</td>\n",
       "      <td>1.0</td>\n",
       "      <td>2770</td>\n",
       "      <td>allen_b02h01a02</td>\n",
       "      <td>0.319125</td>\n",
       "      <td>0.346050</td>\n",
       "    </tr>\n",
       "    <tr>\n",
       "      <th>106</th>\n",
       "      <td>Leiden</td>\n",
       "      <td>[10, 2, 2, 6, 3, 1, 8, 2, 3, 6, 1, 0, 0, 3, 2,...</td>\n",
       "      <td>U+S</td>\n",
       "      <td>1.0</td>\n",
       "      <td>2770</td>\n",
       "      <td>allen_b02h01a02</td>\n",
       "      <td>0.636462</td>\n",
       "      <td>0.800609</td>\n",
       "    </tr>\n",
       "    <tr>\n",
       "      <th>107</th>\n",
       "      <td>Leiden</td>\n",
       "      <td>[9, 1, 1, 4, 5, 2, 7, 1, 5, 4, 2, 0, 0, 2, 1, ...</td>\n",
       "      <td>UcatS</td>\n",
       "      <td>1.0</td>\n",
       "      <td>2770</td>\n",
       "      <td>allen_b02h01a02</td>\n",
       "      <td>0.697810</td>\n",
       "      <td>0.809352</td>\n",
       "    </tr>\n",
       "    <tr>\n",
       "      <th>124</th>\n",
       "      <td>Leiden</td>\n",
       "      <td>[2, 2, 2, 2, 2, 1, 2, 2, 2, 2, 1, 2, 2, 2, 1, ...</td>\n",
       "      <td>U</td>\n",
       "      <td>1.0</td>\n",
       "      <td>1137</td>\n",
       "      <td>cl3</td>\n",
       "      <td>0.989846</td>\n",
       "      <td>0.980971</td>\n",
       "    </tr>\n",
       "    <tr>\n",
       "      <th>125</th>\n",
       "      <td>Leiden</td>\n",
       "      <td>[0, 0, 0, 0, 0, 2, 0, 0, 0, 0, 2, 0, 0, 0, 3, ...</td>\n",
       "      <td>S</td>\n",
       "      <td>1.0</td>\n",
       "      <td>1137</td>\n",
       "      <td>cl3</td>\n",
       "      <td>0.739695</td>\n",
       "      <td>0.823770</td>\n",
       "    </tr>\n",
       "    <tr>\n",
       "      <th>126</th>\n",
       "      <td>Leiden</td>\n",
       "      <td>[2, 4, 4, 4, 2, 1, 2, 2, 4, 4, 1, 2, 4, 4, 3, ...</td>\n",
       "      <td>U+S</td>\n",
       "      <td>1.0</td>\n",
       "      <td>1137</td>\n",
       "      <td>cl3</td>\n",
       "      <td>0.609564</td>\n",
       "      <td>0.758451</td>\n",
       "    </tr>\n",
       "    <tr>\n",
       "      <th>127</th>\n",
       "      <td>Leiden</td>\n",
       "      <td>[0, 0, 0, 0, 0, 2, 0, 0, 0, 0, 2, 0, 0, 0, 3, ...</td>\n",
       "      <td>UcatS</td>\n",
       "      <td>1.0</td>\n",
       "      <td>1137</td>\n",
       "      <td>cl3</td>\n",
       "      <td>0.731710</td>\n",
       "      <td>0.817557</td>\n",
       "    </tr>\n",
       "    <tr>\n",
       "      <th>144</th>\n",
       "      <td>Leiden</td>\n",
       "      <td>[0, 2, 6, 0, 1, 8, 3, 9, 2, 10, 1, 3, 0, 2, 2,...</td>\n",
       "      <td>U</td>\n",
       "      <td>1.0</td>\n",
       "      <td>1948</td>\n",
       "      <td>allen_b08</td>\n",
       "      <td>0.659182</td>\n",
       "      <td>0.838580</td>\n",
       "    </tr>\n",
       "    <tr>\n",
       "      <th>145</th>\n",
       "      <td>Leiden</td>\n",
       "      <td>[2, 1, 7, 2, 0, 9, 3, 10, 1, 11, 0, 3, 4, 1, 1...</td>\n",
       "      <td>S</td>\n",
       "      <td>1.0</td>\n",
       "      <td>1948</td>\n",
       "      <td>allen_b08</td>\n",
       "      <td>0.580586</td>\n",
       "      <td>0.813102</td>\n",
       "    </tr>\n",
       "    <tr>\n",
       "      <th>146</th>\n",
       "      <td>Leiden</td>\n",
       "      <td>[4, 1, 7, 4, 0, 9, 2, 10, 1, 11, 0, 2, 3, 1, 1...</td>\n",
       "      <td>U+S</td>\n",
       "      <td>1.0</td>\n",
       "      <td>1948</td>\n",
       "      <td>allen_b08</td>\n",
       "      <td>0.567254</td>\n",
       "      <td>0.808693</td>\n",
       "    </tr>\n",
       "    <tr>\n",
       "      <th>147</th>\n",
       "      <td>Leiden</td>\n",
       "      <td>[4, 1, 7, 4, 0, 9, 3, 10, 1, 11, 0, 3, 2, 1, 1...</td>\n",
       "      <td>UcatS</td>\n",
       "      <td>1.0</td>\n",
       "      <td>1948</td>\n",
       "      <td>allen_b08</td>\n",
       "      <td>0.568488</td>\n",
       "      <td>0.807734</td>\n",
       "    </tr>\n",
       "  </tbody>\n",
       "</table>\n",
       "</div>"
      ],
      "text/plain": [
       "     Method                                         Clustering Matrices  \\\n",
       "4    Leiden  [3, 3, 1, 3, 3, 3, 4, 4, 3, 3, 1, 1, 3, 3, 3, ...        U   \n",
       "5    Leiden  [3, 3, 1, 3, 3, 3, 5, 5, 3, 3, 1, 1, 3, 3, 3, ...        S   \n",
       "6    Leiden  [3, 3, 1, 3, 3, 3, 5, 5, 3, 3, 1, 1, 3, 3, 3, ...      U+S   \n",
       "7    Leiden  [3, 3, 1, 3, 3, 3, 5, 5, 3, 3, 1, 1, 3, 3, 3, ...    UcatS   \n",
       "24   Leiden  [3, 3, 1, 3, 3, 3, 4, 4, 3, 3, 1, 1, 3, 3, 3, ...        U   \n",
       "25   Leiden  [3, 3, 1, 3, 3, 3, 5, 5, 3, 3, 1, 1, 3, 3, 3, ...        S   \n",
       "26   Leiden  [3, 3, 2, 3, 3, 3, 5, 5, 3, 3, 2, 2, 3, 3, 3, ...      U+S   \n",
       "27   Leiden  [3, 3, 1, 3, 3, 3, 4, 4, 3, 3, 1, 1, 3, 3, 3, ...    UcatS   \n",
       "44   Leiden  [10, 1, 1, 5, 2, 3, 8, 1, 2, 5, 3, 0, 0, 2, 1,...        U   \n",
       "45   Leiden  [6, 0, 0, 4, 3, 1, 5, 0, 0, 4, 1, 2, 1, 3, 0, ...        S   \n",
       "46   Leiden  [11, 1, 1, 5, 2, 3, 8, 1, 2, 5, 3, 0, 0, 2, 1,...      U+S   \n",
       "47   Leiden  [10, 1, 1, 5, 2, 3, 8, 1, 2, 5, 3, 0, 0, 2, 1,...    UcatS   \n",
       "64   Leiden  [1, 1, 1, 1, 1, 0, 1, 1, 1, 1, 0, 1, 1, 1, 0, ...        U   \n",
       "65   Leiden  [0, 0, 0, 0, 0, 2, 0, 0, 0, 0, 2, 0, 0, 0, 3, ...        S   \n",
       "66   Leiden  [0, 0, 0, 0, 0, 2, 0, 0, 0, 0, 2, 0, 0, 0, 3, ...      U+S   \n",
       "67   Leiden  [0, 0, 0, 0, 0, 2, 0, 0, 0, 0, 2, 0, 0, 0, 3, ...    UcatS   \n",
       "84   Leiden  [3, 1, 7, 3, 0, 9, 2, 10, 1, 11, 0, 2, 4, 1, 1...        U   \n",
       "85   Leiden  [2, 1, 7, 2, 0, 9, 3, 10, 1, 4, 0, 3, 4, 1, 1,...        S   \n",
       "86   Leiden  [3, 1, 7, 3, 0, 9, 2, 10, 1, 11, 0, 2, 4, 1, 1...      U+S   \n",
       "87   Leiden  [3, 1, 7, 3, 0, 9, 2, 10, 1, 11, 0, 2, 4, 1, 1...    UcatS   \n",
       "104  Leiden  [9, 0, 0, 5, 3, 2, 7, 0, 3, 5, 2, 1, 1, 3, 0, ...        U   \n",
       "105  Leiden  [2, 1, 1, 2, 6, 1, 4, 1, 4, 2, 3, 0, 3, 0, 1, ...        S   \n",
       "106  Leiden  [10, 2, 2, 6, 3, 1, 8, 2, 3, 6, 1, 0, 0, 3, 2,...      U+S   \n",
       "107  Leiden  [9, 1, 1, 4, 5, 2, 7, 1, 5, 4, 2, 0, 0, 2, 1, ...    UcatS   \n",
       "124  Leiden  [2, 2, 2, 2, 2, 1, 2, 2, 2, 2, 1, 2, 2, 2, 1, ...        U   \n",
       "125  Leiden  [0, 0, 0, 0, 0, 2, 0, 0, 0, 0, 2, 0, 0, 0, 3, ...        S   \n",
       "126  Leiden  [2, 4, 4, 4, 2, 1, 2, 2, 4, 4, 1, 2, 4, 4, 3, ...      U+S   \n",
       "127  Leiden  [0, 0, 0, 0, 0, 2, 0, 0, 0, 0, 2, 0, 0, 0, 3, ...    UcatS   \n",
       "144  Leiden  [0, 2, 6, 0, 1, 8, 3, 9, 2, 10, 1, 3, 0, 2, 2,...        U   \n",
       "145  Leiden  [2, 1, 7, 2, 0, 9, 3, 10, 1, 11, 0, 3, 4, 1, 1...        S   \n",
       "146  Leiden  [4, 1, 7, 4, 0, 9, 2, 10, 1, 11, 0, 2, 3, 1, 1...      U+S   \n",
       "147  Leiden  [4, 1, 7, 4, 0, 9, 3, 10, 1, 11, 0, 3, 2, 1, 1...    UcatS   \n",
       "\n",
       "     Hyperparam  HVGs             Data       ARI       AMI  \n",
       "4           1.0   357              cl5  0.948656  0.916597  \n",
       "5           1.0   357              cl5  0.846898  0.900251  \n",
       "6           1.0   357              cl5  0.833441  0.893414  \n",
       "7           1.0   357              cl5  0.841939  0.893758  \n",
       "24          1.0  1193              cl5  0.939578  0.906968  \n",
       "25          1.0  1193              cl5  0.839479  0.883125  \n",
       "26          1.0  1193              cl5  0.769814  0.865851  \n",
       "27          1.0  1193              cl5  0.851972  0.903597  \n",
       "44          1.0   359  allen_b02h01a02  0.654273  0.823200  \n",
       "45          1.0   359  allen_b02h01a02  0.554039  0.646380  \n",
       "46          1.0   359  allen_b02h01a02  0.654277  0.824783  \n",
       "47          1.0   359  allen_b02h01a02  0.653671  0.823722  \n",
       "64          1.0   466              cl3  0.853643  0.877056  \n",
       "65          1.0   466              cl3  0.728959  0.815635  \n",
       "66          1.0   466              cl3  0.723654  0.810425  \n",
       "67          1.0   466              cl3  0.729116  0.816607  \n",
       "84          1.0   682        allen_b08  0.572253  0.809545  \n",
       "85          1.0   682        allen_b08  0.573326  0.808092  \n",
       "86          1.0   682        allen_b08  0.575094  0.815383  \n",
       "87          1.0   682        allen_b08  0.575348  0.814595  \n",
       "104         1.0  2770  allen_b02h01a02  0.744210  0.843668  \n",
       "105         1.0  2770  allen_b02h01a02  0.319125  0.346050  \n",
       "106         1.0  2770  allen_b02h01a02  0.636462  0.800609  \n",
       "107         1.0  2770  allen_b02h01a02  0.697810  0.809352  \n",
       "124         1.0  1137              cl3  0.989846  0.980971  \n",
       "125         1.0  1137              cl3  0.739695  0.823770  \n",
       "126         1.0  1137              cl3  0.609564  0.758451  \n",
       "127         1.0  1137              cl3  0.731710  0.817557  \n",
       "144         1.0  1948        allen_b08  0.659182  0.838580  \n",
       "145         1.0  1948        allen_b08  0.580586  0.813102  \n",
       "146         1.0  1948        allen_b08  0.567254  0.808693  \n",
       "147         1.0  1948        allen_b08  0.568488  0.807734  "
      ]
     },
     "execution_count": 23,
     "metadata": {},
     "output_type": "execute_result"
    }
   ],
   "source": [
    "unpickled_df_LK[unpickled_df_LK.Method.isin(['Leiden']) & unpickled_df_LK.Hyperparam.isin([1.00]) ]"
   ]
  },
  {
   "cell_type": "code",
   "execution_count": 14,
   "id": "298cbe83",
   "metadata": {},
   "outputs": [
    {
     "data": {
      "text/html": [
       "<div>\n",
       "<style scoped>\n",
       "    .dataframe tbody tr th:only-of-type {\n",
       "        vertical-align: middle;\n",
       "    }\n",
       "\n",
       "    .dataframe tbody tr th {\n",
       "        vertical-align: top;\n",
       "    }\n",
       "\n",
       "    .dataframe thead th {\n",
       "        text-align: right;\n",
       "    }\n",
       "</style>\n",
       "<table border=\"1\" class=\"dataframe\">\n",
       "  <thead>\n",
       "    <tr style=\"text-align: right;\">\n",
       "      <th></th>\n",
       "      <th>Method</th>\n",
       "      <th>Clustering</th>\n",
       "      <th>Matrices</th>\n",
       "      <th>Hyperparam</th>\n",
       "      <th>HVGs</th>\n",
       "      <th>Data</th>\n",
       "      <th>ARI</th>\n",
       "      <th>AMI</th>\n",
       "    </tr>\n",
       "  </thead>\n",
       "  <tbody>\n",
       "    <tr>\n",
       "      <th>0</th>\n",
       "      <td>Leiden</td>\n",
       "      <td>[3, 3, 1, 3, 3, 3, 4, 4, 3, 3, 1, 1, 3, 3, 3, ...</td>\n",
       "      <td>U</td>\n",
       "      <td>0.75</td>\n",
       "      <td>357</td>\n",
       "      <td>cl5</td>\n",
       "      <td>0.948212</td>\n",
       "      <td>9.156829e-01</td>\n",
       "    </tr>\n",
       "    <tr>\n",
       "      <th>1</th>\n",
       "      <td>Leiden</td>\n",
       "      <td>[3, 3, 1, 3, 3, 3, 4, 4, 3, 3, 1, 1, 3, 3, 3, ...</td>\n",
       "      <td>S</td>\n",
       "      <td>0.75</td>\n",
       "      <td>357</td>\n",
       "      <td>cl5</td>\n",
       "      <td>0.986832</td>\n",
       "      <td>9.757465e-01</td>\n",
       "    </tr>\n",
       "    <tr>\n",
       "      <th>2</th>\n",
       "      <td>Leiden</td>\n",
       "      <td>[3, 3, 1, 3, 3, 3, 4, 4, 3, 3, 1, 1, 3, 3, 3, ...</td>\n",
       "      <td>U+S</td>\n",
       "      <td>0.75</td>\n",
       "      <td>357</td>\n",
       "      <td>cl5</td>\n",
       "      <td>0.965742</td>\n",
       "      <td>9.467628e-01</td>\n",
       "    </tr>\n",
       "    <tr>\n",
       "      <th>3</th>\n",
       "      <td>Leiden</td>\n",
       "      <td>[3, 3, 1, 3, 3, 3, 4, 4, 3, 3, 1, 1, 3, 3, 3, ...</td>\n",
       "      <td>UcatS</td>\n",
       "      <td>0.75</td>\n",
       "      <td>357</td>\n",
       "      <td>cl5</td>\n",
       "      <td>0.965702</td>\n",
       "      <td>9.470799e-01</td>\n",
       "    </tr>\n",
       "    <tr>\n",
       "      <th>20</th>\n",
       "      <td>Leiden</td>\n",
       "      <td>[3, 3, 1, 3, 3, 3, 4, 4, 3, 3, 1, 1, 3, 3, 3, ...</td>\n",
       "      <td>U</td>\n",
       "      <td>0.75</td>\n",
       "      <td>1193</td>\n",
       "      <td>cl5</td>\n",
       "      <td>0.941836</td>\n",
       "      <td>9.101720e-01</td>\n",
       "    </tr>\n",
       "    <tr>\n",
       "      <th>21</th>\n",
       "      <td>Leiden</td>\n",
       "      <td>[3, 3, 1, 3, 3, 3, 4, 4, 3, 3, 1, 1, 3, 3, 3, ...</td>\n",
       "      <td>S</td>\n",
       "      <td>0.75</td>\n",
       "      <td>1193</td>\n",
       "      <td>cl5</td>\n",
       "      <td>0.970077</td>\n",
       "      <td>9.544757e-01</td>\n",
       "    </tr>\n",
       "    <tr>\n",
       "      <th>22</th>\n",
       "      <td>Leiden</td>\n",
       "      <td>[3, 3, 1, 3, 3, 3, 4, 4, 3, 3, 1, 1, 3, 3, 3, ...</td>\n",
       "      <td>U+S</td>\n",
       "      <td>0.75</td>\n",
       "      <td>1193</td>\n",
       "      <td>cl5</td>\n",
       "      <td>0.970676</td>\n",
       "      <td>9.540767e-01</td>\n",
       "    </tr>\n",
       "    <tr>\n",
       "      <th>23</th>\n",
       "      <td>Leiden</td>\n",
       "      <td>[3, 3, 1, 3, 3, 3, 4, 4, 3, 3, 1, 1, 3, 3, 3, ...</td>\n",
       "      <td>UcatS</td>\n",
       "      <td>0.75</td>\n",
       "      <td>1193</td>\n",
       "      <td>cl5</td>\n",
       "      <td>0.977565</td>\n",
       "      <td>9.625895e-01</td>\n",
       "    </tr>\n",
       "    <tr>\n",
       "      <th>40</th>\n",
       "      <td>Leiden</td>\n",
       "      <td>[9, 0, 0, 5, 3, 2, 7, 0, 3, 5, 2, 1, 1, 3, 0, ...</td>\n",
       "      <td>U</td>\n",
       "      <td>0.75</td>\n",
       "      <td>359</td>\n",
       "      <td>allen_b02h01a02</td>\n",
       "      <td>0.729684</td>\n",
       "      <td>8.556821e-01</td>\n",
       "    </tr>\n",
       "    <tr>\n",
       "      <th>41</th>\n",
       "      <td>Leiden</td>\n",
       "      <td>[3, 0, 0, 3, 0, 1, 4, 0, 0, 3, 1, 2, 1, 4, 0, ...</td>\n",
       "      <td>S</td>\n",
       "      <td>0.75</td>\n",
       "      <td>359</td>\n",
       "      <td>allen_b02h01a02</td>\n",
       "      <td>0.517760</td>\n",
       "      <td>5.975224e-01</td>\n",
       "    </tr>\n",
       "    <tr>\n",
       "      <th>42</th>\n",
       "      <td>Leiden</td>\n",
       "      <td>[9, 0, 0, 5, 3, 2, 7, 0, 3, 5, 2, 1, 1, 3, 0, ...</td>\n",
       "      <td>U+S</td>\n",
       "      <td>0.75</td>\n",
       "      <td>359</td>\n",
       "      <td>allen_b02h01a02</td>\n",
       "      <td>0.732286</td>\n",
       "      <td>8.584031e-01</td>\n",
       "    </tr>\n",
       "    <tr>\n",
       "      <th>43</th>\n",
       "      <td>Leiden</td>\n",
       "      <td>[9, 0, 0, 5, 3, 2, 7, 0, 3, 5, 2, 1, 1, 3, 0, ...</td>\n",
       "      <td>UcatS</td>\n",
       "      <td>0.75</td>\n",
       "      <td>359</td>\n",
       "      <td>allen_b02h01a02</td>\n",
       "      <td>0.729541</td>\n",
       "      <td>8.570092e-01</td>\n",
       "    </tr>\n",
       "    <tr>\n",
       "      <th>60</th>\n",
       "      <td>Leiden</td>\n",
       "      <td>[2, 2, 2, 2, 2, 1, 2, 2, 2, 2, 1, 2, 2, 2, 1, ...</td>\n",
       "      <td>U</td>\n",
       "      <td>0.75</td>\n",
       "      <td>466</td>\n",
       "      <td>cl3</td>\n",
       "      <td>0.982984</td>\n",
       "      <td>9.687229e-01</td>\n",
       "    </tr>\n",
       "    <tr>\n",
       "      <th>61</th>\n",
       "      <td>Leiden</td>\n",
       "      <td>[1, 1, 1, 1, 1, 2, 1, 1, 1, 1, 2, 1, 1, 1, 3, ...</td>\n",
       "      <td>S</td>\n",
       "      <td>0.75</td>\n",
       "      <td>466</td>\n",
       "      <td>cl3</td>\n",
       "      <td>0.855503</td>\n",
       "      <td>8.903166e-01</td>\n",
       "    </tr>\n",
       "    <tr>\n",
       "      <th>62</th>\n",
       "      <td>Leiden</td>\n",
       "      <td>[0, 0, 0, 0, 0, 2, 0, 0, 0, 0, 2, 0, 0, 0, 3, ...</td>\n",
       "      <td>U+S</td>\n",
       "      <td>0.75</td>\n",
       "      <td>466</td>\n",
       "      <td>cl3</td>\n",
       "      <td>0.729136</td>\n",
       "      <td>8.124035e-01</td>\n",
       "    </tr>\n",
       "    <tr>\n",
       "      <th>63</th>\n",
       "      <td>Leiden</td>\n",
       "      <td>[1, 1, 1, 1, 1, 2, 1, 1, 1, 1, 2, 1, 1, 1, 3, ...</td>\n",
       "      <td>UcatS</td>\n",
       "      <td>0.75</td>\n",
       "      <td>466</td>\n",
       "      <td>cl3</td>\n",
       "      <td>0.851025</td>\n",
       "      <td>8.849104e-01</td>\n",
       "    </tr>\n",
       "    <tr>\n",
       "      <th>80</th>\n",
       "      <td>Leiden</td>\n",
       "      <td>[1, 2, 6, 1, 0, 8, 3, 9, 2, 10, 0, 3, 1, 2, 2,...</td>\n",
       "      <td>U</td>\n",
       "      <td>0.75</td>\n",
       "      <td>682</td>\n",
       "      <td>allen_b08</td>\n",
       "      <td>0.665662</td>\n",
       "      <td>8.403887e-01</td>\n",
       "    </tr>\n",
       "    <tr>\n",
       "      <th>81</th>\n",
       "      <td>Leiden</td>\n",
       "      <td>[2, 1, 7, 2, 0, 9, 4, 10, 1, 3, 0, 4, 3, 1, 1,...</td>\n",
       "      <td>S</td>\n",
       "      <td>0.75</td>\n",
       "      <td>682</td>\n",
       "      <td>allen_b08</td>\n",
       "      <td>0.576662</td>\n",
       "      <td>8.087109e-01</td>\n",
       "    </tr>\n",
       "    <tr>\n",
       "      <th>82</th>\n",
       "      <td>Leiden</td>\n",
       "      <td>[4, 1, 7, 4, 0, 9, 3, 10, 1, 2, 0, 3, 2, 1, 1,...</td>\n",
       "      <td>U+S</td>\n",
       "      <td>0.75</td>\n",
       "      <td>682</td>\n",
       "      <td>allen_b08</td>\n",
       "      <td>0.577345</td>\n",
       "      <td>8.104126e-01</td>\n",
       "    </tr>\n",
       "    <tr>\n",
       "      <th>83</th>\n",
       "      <td>Leiden</td>\n",
       "      <td>[4, 1, 7, 4, 0, 9, 2, 10, 1, 3, 0, 2, 3, 1, 1,...</td>\n",
       "      <td>UcatS</td>\n",
       "      <td>0.75</td>\n",
       "      <td>682</td>\n",
       "      <td>allen_b08</td>\n",
       "      <td>0.570664</td>\n",
       "      <td>8.086771e-01</td>\n",
       "    </tr>\n",
       "    <tr>\n",
       "      <th>100</th>\n",
       "      <td>Leiden</td>\n",
       "      <td>[6, 0, 0, 5, 3, 2, 8, 0, 3, 5, 2, 1, 1, 3, 0, ...</td>\n",
       "      <td>U</td>\n",
       "      <td>0.75</td>\n",
       "      <td>2770</td>\n",
       "      <td>allen_b02h01a02</td>\n",
       "      <td>0.742117</td>\n",
       "      <td>8.342893e-01</td>\n",
       "    </tr>\n",
       "    <tr>\n",
       "      <th>101</th>\n",
       "      <td>Leiden</td>\n",
       "      <td>[0, 0, 0, 0, 0, 0, 0, 0, 0, 0, 0, 0, 0, 0, 0, ...</td>\n",
       "      <td>S</td>\n",
       "      <td>0.75</td>\n",
       "      <td>2770</td>\n",
       "      <td>allen_b02h01a02</td>\n",
       "      <td>0.000000</td>\n",
       "      <td>-4.501998e-16</td>\n",
       "    </tr>\n",
       "    <tr>\n",
       "      <th>102</th>\n",
       "      <td>Leiden</td>\n",
       "      <td>[6, 1, 1, 5, 3, 2, 8, 1, 3, 5, 2, 0, 0, 3, 1, ...</td>\n",
       "      <td>U+S</td>\n",
       "      <td>0.75</td>\n",
       "      <td>2770</td>\n",
       "      <td>allen_b02h01a02</td>\n",
       "      <td>0.712069</td>\n",
       "      <td>8.183104e-01</td>\n",
       "    </tr>\n",
       "    <tr>\n",
       "      <th>103</th>\n",
       "      <td>Leiden</td>\n",
       "      <td>[5, 0, 0, 4, 1, 0, 8, 0, 1, 4, 0, 1, 1, 0, 0, ...</td>\n",
       "      <td>UcatS</td>\n",
       "      <td>0.75</td>\n",
       "      <td>2770</td>\n",
       "      <td>allen_b02h01a02</td>\n",
       "      <td>0.488031</td>\n",
       "      <td>7.145436e-01</td>\n",
       "    </tr>\n",
       "    <tr>\n",
       "      <th>120</th>\n",
       "      <td>Leiden</td>\n",
       "      <td>[2, 2, 2, 2, 2, 1, 2, 2, 2, 2, 1, 2, 2, 2, 1, ...</td>\n",
       "      <td>U</td>\n",
       "      <td>0.75</td>\n",
       "      <td>1137</td>\n",
       "      <td>cl3</td>\n",
       "      <td>0.989846</td>\n",
       "      <td>9.809711e-01</td>\n",
       "    </tr>\n",
       "    <tr>\n",
       "      <th>121</th>\n",
       "      <td>Leiden</td>\n",
       "      <td>[1, 1, 1, 1, 1, 2, 1, 1, 1, 1, 2, 1, 1, 1, 3, ...</td>\n",
       "      <td>S</td>\n",
       "      <td>0.75</td>\n",
       "      <td>1137</td>\n",
       "      <td>cl3</td>\n",
       "      <td>0.855030</td>\n",
       "      <td>8.901112e-01</td>\n",
       "    </tr>\n",
       "    <tr>\n",
       "      <th>122</th>\n",
       "      <td>Leiden</td>\n",
       "      <td>[1, 1, 1, 1, 1, 2, 1, 1, 1, 1, 2, 1, 1, 1, 3, ...</td>\n",
       "      <td>U+S</td>\n",
       "      <td>0.75</td>\n",
       "      <td>1137</td>\n",
       "      <td>cl3</td>\n",
       "      <td>0.852483</td>\n",
       "      <td>8.855395e-01</td>\n",
       "    </tr>\n",
       "    <tr>\n",
       "      <th>123</th>\n",
       "      <td>Leiden</td>\n",
       "      <td>[1, 1, 1, 1, 1, 2, 1, 1, 1, 1, 2, 1, 1, 1, 3, ...</td>\n",
       "      <td>UcatS</td>\n",
       "      <td>0.75</td>\n",
       "      <td>1137</td>\n",
       "      <td>cl3</td>\n",
       "      <td>0.850782</td>\n",
       "      <td>8.848058e-01</td>\n",
       "    </tr>\n",
       "    <tr>\n",
       "      <th>140</th>\n",
       "      <td>Leiden</td>\n",
       "      <td>[1, 2, 6, 1, 0, 8, 3, 9, 2, 10, 0, 3, 1, 2, 2,...</td>\n",
       "      <td>U</td>\n",
       "      <td>0.75</td>\n",
       "      <td>1948</td>\n",
       "      <td>allen_b08</td>\n",
       "      <td>0.661620</td>\n",
       "      <td>8.404123e-01</td>\n",
       "    </tr>\n",
       "    <tr>\n",
       "      <th>141</th>\n",
       "      <td>Leiden</td>\n",
       "      <td>[1, 2, 6, 1, 0, 8, 3, 9, 2, 10, 0, 3, 1, 2, 2,...</td>\n",
       "      <td>S</td>\n",
       "      <td>0.75</td>\n",
       "      <td>1948</td>\n",
       "      <td>allen_b08</td>\n",
       "      <td>0.673105</td>\n",
       "      <td>8.457967e-01</td>\n",
       "    </tr>\n",
       "    <tr>\n",
       "      <th>142</th>\n",
       "      <td>Leiden</td>\n",
       "      <td>[1, 2, 6, 1, 0, 8, 3, 9, 2, 10, 0, 3, 1, 2, 2,...</td>\n",
       "      <td>U+S</td>\n",
       "      <td>0.75</td>\n",
       "      <td>1948</td>\n",
       "      <td>allen_b08</td>\n",
       "      <td>0.658754</td>\n",
       "      <td>8.403522e-01</td>\n",
       "    </tr>\n",
       "    <tr>\n",
       "      <th>143</th>\n",
       "      <td>Leiden</td>\n",
       "      <td>[1, 2, 6, 1, 0, 8, 3, 9, 2, 10, 0, 3, 1, 2, 2,...</td>\n",
       "      <td>UcatS</td>\n",
       "      <td>0.75</td>\n",
       "      <td>1948</td>\n",
       "      <td>allen_b08</td>\n",
       "      <td>0.660264</td>\n",
       "      <td>8.425190e-01</td>\n",
       "    </tr>\n",
       "  </tbody>\n",
       "</table>\n",
       "</div>"
      ],
      "text/plain": [
       "     Method                                         Clustering Matrices  \\\n",
       "0    Leiden  [3, 3, 1, 3, 3, 3, 4, 4, 3, 3, 1, 1, 3, 3, 3, ...        U   \n",
       "1    Leiden  [3, 3, 1, 3, 3, 3, 4, 4, 3, 3, 1, 1, 3, 3, 3, ...        S   \n",
       "2    Leiden  [3, 3, 1, 3, 3, 3, 4, 4, 3, 3, 1, 1, 3, 3, 3, ...      U+S   \n",
       "3    Leiden  [3, 3, 1, 3, 3, 3, 4, 4, 3, 3, 1, 1, 3, 3, 3, ...    UcatS   \n",
       "20   Leiden  [3, 3, 1, 3, 3, 3, 4, 4, 3, 3, 1, 1, 3, 3, 3, ...        U   \n",
       "21   Leiden  [3, 3, 1, 3, 3, 3, 4, 4, 3, 3, 1, 1, 3, 3, 3, ...        S   \n",
       "22   Leiden  [3, 3, 1, 3, 3, 3, 4, 4, 3, 3, 1, 1, 3, 3, 3, ...      U+S   \n",
       "23   Leiden  [3, 3, 1, 3, 3, 3, 4, 4, 3, 3, 1, 1, 3, 3, 3, ...    UcatS   \n",
       "40   Leiden  [9, 0, 0, 5, 3, 2, 7, 0, 3, 5, 2, 1, 1, 3, 0, ...        U   \n",
       "41   Leiden  [3, 0, 0, 3, 0, 1, 4, 0, 0, 3, 1, 2, 1, 4, 0, ...        S   \n",
       "42   Leiden  [9, 0, 0, 5, 3, 2, 7, 0, 3, 5, 2, 1, 1, 3, 0, ...      U+S   \n",
       "43   Leiden  [9, 0, 0, 5, 3, 2, 7, 0, 3, 5, 2, 1, 1, 3, 0, ...    UcatS   \n",
       "60   Leiden  [2, 2, 2, 2, 2, 1, 2, 2, 2, 2, 1, 2, 2, 2, 1, ...        U   \n",
       "61   Leiden  [1, 1, 1, 1, 1, 2, 1, 1, 1, 1, 2, 1, 1, 1, 3, ...        S   \n",
       "62   Leiden  [0, 0, 0, 0, 0, 2, 0, 0, 0, 0, 2, 0, 0, 0, 3, ...      U+S   \n",
       "63   Leiden  [1, 1, 1, 1, 1, 2, 1, 1, 1, 1, 2, 1, 1, 1, 3, ...    UcatS   \n",
       "80   Leiden  [1, 2, 6, 1, 0, 8, 3, 9, 2, 10, 0, 3, 1, 2, 2,...        U   \n",
       "81   Leiden  [2, 1, 7, 2, 0, 9, 4, 10, 1, 3, 0, 4, 3, 1, 1,...        S   \n",
       "82   Leiden  [4, 1, 7, 4, 0, 9, 3, 10, 1, 2, 0, 3, 2, 1, 1,...      U+S   \n",
       "83   Leiden  [4, 1, 7, 4, 0, 9, 2, 10, 1, 3, 0, 2, 3, 1, 1,...    UcatS   \n",
       "100  Leiden  [6, 0, 0, 5, 3, 2, 8, 0, 3, 5, 2, 1, 1, 3, 0, ...        U   \n",
       "101  Leiden  [0, 0, 0, 0, 0, 0, 0, 0, 0, 0, 0, 0, 0, 0, 0, ...        S   \n",
       "102  Leiden  [6, 1, 1, 5, 3, 2, 8, 1, 3, 5, 2, 0, 0, 3, 1, ...      U+S   \n",
       "103  Leiden  [5, 0, 0, 4, 1, 0, 8, 0, 1, 4, 0, 1, 1, 0, 0, ...    UcatS   \n",
       "120  Leiden  [2, 2, 2, 2, 2, 1, 2, 2, 2, 2, 1, 2, 2, 2, 1, ...        U   \n",
       "121  Leiden  [1, 1, 1, 1, 1, 2, 1, 1, 1, 1, 2, 1, 1, 1, 3, ...        S   \n",
       "122  Leiden  [1, 1, 1, 1, 1, 2, 1, 1, 1, 1, 2, 1, 1, 1, 3, ...      U+S   \n",
       "123  Leiden  [1, 1, 1, 1, 1, 2, 1, 1, 1, 1, 2, 1, 1, 1, 3, ...    UcatS   \n",
       "140  Leiden  [1, 2, 6, 1, 0, 8, 3, 9, 2, 10, 0, 3, 1, 2, 2,...        U   \n",
       "141  Leiden  [1, 2, 6, 1, 0, 8, 3, 9, 2, 10, 0, 3, 1, 2, 2,...        S   \n",
       "142  Leiden  [1, 2, 6, 1, 0, 8, 3, 9, 2, 10, 0, 3, 1, 2, 2,...      U+S   \n",
       "143  Leiden  [1, 2, 6, 1, 0, 8, 3, 9, 2, 10, 0, 3, 1, 2, 2,...    UcatS   \n",
       "\n",
       "     Hyperparam  HVGs             Data       ARI           AMI  \n",
       "0          0.75   357              cl5  0.948212  9.156829e-01  \n",
       "1          0.75   357              cl5  0.986832  9.757465e-01  \n",
       "2          0.75   357              cl5  0.965742  9.467628e-01  \n",
       "3          0.75   357              cl5  0.965702  9.470799e-01  \n",
       "20         0.75  1193              cl5  0.941836  9.101720e-01  \n",
       "21         0.75  1193              cl5  0.970077  9.544757e-01  \n",
       "22         0.75  1193              cl5  0.970676  9.540767e-01  \n",
       "23         0.75  1193              cl5  0.977565  9.625895e-01  \n",
       "40         0.75   359  allen_b02h01a02  0.729684  8.556821e-01  \n",
       "41         0.75   359  allen_b02h01a02  0.517760  5.975224e-01  \n",
       "42         0.75   359  allen_b02h01a02  0.732286  8.584031e-01  \n",
       "43         0.75   359  allen_b02h01a02  0.729541  8.570092e-01  \n",
       "60         0.75   466              cl3  0.982984  9.687229e-01  \n",
       "61         0.75   466              cl3  0.855503  8.903166e-01  \n",
       "62         0.75   466              cl3  0.729136  8.124035e-01  \n",
       "63         0.75   466              cl3  0.851025  8.849104e-01  \n",
       "80         0.75   682        allen_b08  0.665662  8.403887e-01  \n",
       "81         0.75   682        allen_b08  0.576662  8.087109e-01  \n",
       "82         0.75   682        allen_b08  0.577345  8.104126e-01  \n",
       "83         0.75   682        allen_b08  0.570664  8.086771e-01  \n",
       "100        0.75  2770  allen_b02h01a02  0.742117  8.342893e-01  \n",
       "101        0.75  2770  allen_b02h01a02  0.000000 -4.501998e-16  \n",
       "102        0.75  2770  allen_b02h01a02  0.712069  8.183104e-01  \n",
       "103        0.75  2770  allen_b02h01a02  0.488031  7.145436e-01  \n",
       "120        0.75  1137              cl3  0.989846  9.809711e-01  \n",
       "121        0.75  1137              cl3  0.855030  8.901112e-01  \n",
       "122        0.75  1137              cl3  0.852483  8.855395e-01  \n",
       "123        0.75  1137              cl3  0.850782  8.848058e-01  \n",
       "140        0.75  1948        allen_b08  0.661620  8.404123e-01  \n",
       "141        0.75  1948        allen_b08  0.673105  8.457967e-01  \n",
       "142        0.75  1948        allen_b08  0.658754  8.403522e-01  \n",
       "143        0.75  1948        allen_b08  0.660264  8.425190e-01  "
      ]
     },
     "execution_count": 14,
     "metadata": {},
     "output_type": "execute_result"
    }
   ],
   "source": [
    "unpickled_df_LK[unpickled_df_LK.Method.isin(['Leiden']) & unpickled_df_LK.Hyperparam.isin([0.75]) ]\n"
   ]
  },
  {
   "cell_type": "markdown",
   "id": "eca28d2e",
   "metadata": {},
   "source": [
    "### **Run Methods on Simulated Data**"
   ]
  },
  {
   "cell_type": "code",
   "execution_count": 232,
   "id": "16d5c142",
   "metadata": {},
   "outputs": [
    {
     "data": {
      "text/plain": [
       "['/home/tchari/counts/meKMeans_sims/loom/drop_1perc_sim_k8.loom',\n",
       " '/home/tchari/counts/meKMeans_sims/loom/drop_5perc_sim_k8.loom',\n",
       " '/home/tchari/counts/meKMeans_sims/loom/drop_20perc_sim_k8.loom',\n",
       " '/home/tchari/counts/meKMeans_sims/loom/negctrl_sim_k1.loom',\n",
       " '/home/tchari/counts/meKMeans_sims/loom/b_beta_sim_k8.loom',\n",
       " '/home/tchari/counts/meKMeans_sims/loom/k_gamma_sim_k8.loom']"
      ]
     },
     "execution_count": 232,
     "metadata": {},
     "output_type": "execute_result"
    }
   ],
   "source": [
    "d_strings  = glob.glob('/home/tchari/counts/meKMeans_sims/loom/*.loom')\n",
    "d_strings "
   ]
  },
  {
   "cell_type": "code",
   "execution_count": 233,
   "id": "9119ccbd",
   "metadata": {},
   "outputs": [
    {
     "data": {
      "text/plain": [
       "['/home/tchari/counts/meKMeans_sims/loom/negctrl_sim_k1.loom',\n",
       " '/home/tchari/counts/meKMeans_sims/loom/b_beta_sim_k8.loom',\n",
       " '/home/tchari/counts/meKMeans_sims/loom/k_gamma_sim_k8.loom']"
      ]
     },
     "execution_count": 233,
     "metadata": {},
     "output_type": "execute_result"
    }
   ],
   "source": [
    "#Not doing dropout data for now\n",
    "sub_d_strings = d_strings[3:]\n",
    "sub_d_strings"
   ]
  },
  {
   "cell_type": "code",
   "execution_count": 234,
   "id": "98a01eea",
   "metadata": {},
   "outputs": [],
   "source": [
    "attribute_names =[('unspliced','spliced'),'gene_name','barcode']"
   ]
  },
  {
   "cell_type": "code",
   "execution_count": 235,
   "id": "22eae524",
   "metadata": {},
   "outputs": [],
   "source": [
    "datas = ['negctrl_sim_k1','b_beta_sim_k8','k_gamma_sim_k8']"
   ]
  },
  {
   "cell_type": "code",
   "execution_count": 236,
   "id": "fe7f9d49",
   "metadata": {},
   "outputs": [],
   "source": [
    "samp = [-6.777777777777778, -1.25]"
   ]
  },
  {
   "cell_type": "code",
   "execution_count": null,
   "id": "7028c403",
   "metadata": {},
   "outputs": [],
   "source": []
  },
  {
   "cell_type": "code",
   "execution_count": null,
   "id": "2e86b5d6",
   "metadata": {},
   "outputs": [],
   "source": []
  },
  {
   "cell_type": "code",
   "execution_count": 237,
   "id": "5f4c8581",
   "metadata": {},
   "outputs": [
    {
     "name": "stdout",
     "output_type": "stream",
     "text": [
      "mkdir: cannot create directory ‘/home/tchari/perturbCME/notebooks/fits/LeidKMeansruns_0306’: File exists\n",
      "negctrl_sim_k1 with 1100 HVGs\n",
      "Negctrl k:  10\n",
      "b_beta_sim_k8 with 1100 HVGs\n",
      "k_gamma_sim_k8 with 700 HVGs\n"
     ]
    }
   ],
   "source": [
    "#Run Leiden + K-Means first, with K=Leiden # of clus for neg control\n",
    "\n",
    "#Make the U,S, U+S, Concat matrices, res 0.75,1,1.5,2\n",
    "\n",
    "!mkdir /home/tchari/perturbCME/notebooks/fits/LeidKMeansruns_0306\n",
    "\n",
    "\n",
    "#Save method, clustering, mat_in (U,S, etc), hyper (K or res), hvgs, data, ARI, AMI\n",
    "LK_res = pd.DataFrame()\n",
    "meths = []\n",
    "result = []\n",
    "mats = []\n",
    "hyper = []\n",
    "hvgs = []\n",
    "data = []\n",
    "ari = []\n",
    "ami = []\n",
    "\n",
    "for d in sub_d_strings:\n",
    "    \n",
    "    #Get tech param by keyword (datas) in loom paths\n",
    "    ind = [i in d for i in datas]\n",
    "    \n",
    "\n",
    "    data_name = np.array(datas)[ind][0]\n",
    "    \n",
    "    \n",
    "    ds = lp.connect(d)\n",
    "    num_genes = len(ds.ra[attribute_names[1]])\n",
    "    num_cells = len(ds.ca[attribute_names[2]])\n",
    "    U = ds.layers[attribute_names[0][0]][:,:].T\n",
    "    S = ds.layers[attribute_names[0][1]][:,:].T\n",
    "    true_labs = list(ds.ca['subclass_label'])\n",
    "    ds.close()\n",
    "    print(data_name+' with '+str(num_genes)+' HVGs')\n",
    "    \n",
    "    \n",
    "    res = [1]\n",
    "    \n",
    "    #Get U,S,U_p_S,U_c_S\n",
    "        \n",
    "    #Norm mats\n",
    "    U_norm = norm_mat(U)\n",
    "    S_norm = norm_mat(S)\n",
    "    U_p_S_norm = norm_mat(U+S)\n",
    "    U_c_S_norm = norm_mat(np.concatenate([U,S],axis=1))\n",
    "    \n",
    "    g_U = get_graph(U_norm)\n",
    "    g_S = get_graph(S_norm)\n",
    "    g_U_p_S = get_graph(U_p_S_norm)\n",
    "    g_U_c_S = get_graph(U_c_S_norm)\n",
    "    \n",
    "    # -------- Fit Leiden -------\n",
    "    for r in res:\n",
    "        \n",
    "        partition_type = la.RBConfigurationVertexPartition\n",
    "        #Make Knn graphs\n",
    "        for g in [g_U,g_S,g_U_p_S,g_U_c_S]:\n",
    "            part = la.find_partition(g, partition_type, \n",
    "                                        weights=np.array(g.es['weight']).astype(np.float64), \n",
    "                                        n_iterations=-1, resolution_parameter=r)\n",
    "\n",
    "            labels = np.array(part.membership)\n",
    "            \n",
    "            # ----- Save Results ---- ARI,AMI etc\n",
    "            meths += ['Leiden']\n",
    "            result += [labels]\n",
    "            hyper += [r]\n",
    "            hvgs += [num_genes]\n",
    "            data += [data_name]\n",
    "            ari += [adjusted_rand_score(true_labs,labels)]\n",
    "            ami += [adjusted_mutual_info_score(true_labs,labels)]\n",
    "            \n",
    "#             print('No. clus Leiden: ',len(np.unique(labels)))\n",
    "            \n",
    "        mats += ['U','S','U+S','UcatS']\n",
    "        \n",
    "        \n",
    "        \n",
    "    # -------- Fit K-Means with k -------\n",
    "    if 'negctrl' in d:\n",
    "        k = len(np.unique(labels)) #**************** FILL THIS IN ****************\n",
    "        print('Negctrl k: ',k)\n",
    "    else:\n",
    "        k = len(np.unique(true_labs))\n",
    "        \n",
    "    \n",
    "    for x in [U_norm,S_norm,U_p_S_norm,U_c_S_norm]:\n",
    "        kmeans = KMeans(n_clusters=k, random_state=0).fit(x)\n",
    "        labs = kmeans.labels_\n",
    "        \n",
    "        meths += ['K-Means']\n",
    "        result += [labs]\n",
    "        hyper += [k]\n",
    "        hvgs += [num_genes]\n",
    "        data += [data_name]\n",
    "        ari += [adjusted_rand_score(true_labs,labs)]\n",
    "        ami += [adjusted_mutual_info_score(true_labs,labs)]\n",
    "        \n",
    "#         print('No. clus K-Means: ',len(np.unique(labs)))\n",
    "        \n",
    "    mats += ['U','S','U+S','UcatS']\n",
    "\n",
    "    \n",
    "LK_res['Method'] = meths\n",
    "LK_res['Clustering'] = result\n",
    "LK_res['Matrices'] = mats\n",
    "LK_res['Hyperparam'] = hyper\n",
    "LK_res['HVGs'] = hvgs\n",
    "LK_res['Data'] = data\n",
    "LK_res['ARI'] = ari\n",
    "LK_res['AMI'] = ami"
   ]
  },
  {
   "cell_type": "code",
   "execution_count": 208,
   "id": "41b8d599",
   "metadata": {},
   "outputs": [],
   "source": [
    "#RERUN K-Means = 10"
   ]
  },
  {
   "cell_type": "code",
   "execution_count": 238,
   "id": "bc31d75a",
   "metadata": {},
   "outputs": [
    {
     "data": {
      "text/html": [
       "<div>\n",
       "<style scoped>\n",
       "    .dataframe tbody tr th:only-of-type {\n",
       "        vertical-align: middle;\n",
       "    }\n",
       "\n",
       "    .dataframe tbody tr th {\n",
       "        vertical-align: top;\n",
       "    }\n",
       "\n",
       "    .dataframe thead th {\n",
       "        text-align: right;\n",
       "    }\n",
       "</style>\n",
       "<table border=\"1\" class=\"dataframe\">\n",
       "  <thead>\n",
       "    <tr style=\"text-align: right;\">\n",
       "      <th></th>\n",
       "      <th>Method</th>\n",
       "      <th>Clustering</th>\n",
       "      <th>Matrices</th>\n",
       "      <th>Hyperparam</th>\n",
       "      <th>HVGs</th>\n",
       "      <th>Data</th>\n",
       "      <th>ARI</th>\n",
       "      <th>AMI</th>\n",
       "    </tr>\n",
       "  </thead>\n",
       "  <tbody>\n",
       "    <tr>\n",
       "      <th>0</th>\n",
       "      <td>Leiden</td>\n",
       "      <td>[0, 1, 7, 8, 2, 0, 2, 1, 0, 3, 0, 7, 0, 5, 4, ...</td>\n",
       "      <td>U</td>\n",
       "      <td>1</td>\n",
       "      <td>1100</td>\n",
       "      <td>negctrl_sim_k1</td>\n",
       "      <td>0.000000</td>\n",
       "      <td>1.837018e-16</td>\n",
       "    </tr>\n",
       "    <tr>\n",
       "      <th>1</th>\n",
       "      <td>Leiden</td>\n",
       "      <td>[14, 12, 13, 12, 2, 13, 3, 11, 2, 13, 3, 14, 0...</td>\n",
       "      <td>S</td>\n",
       "      <td>1</td>\n",
       "      <td>1100</td>\n",
       "      <td>negctrl_sim_k1</td>\n",
       "      <td>0.000000</td>\n",
       "      <td>2.178137e-16</td>\n",
       "    </tr>\n",
       "    <tr>\n",
       "      <th>2</th>\n",
       "      <td>Leiden</td>\n",
       "      <td>[5, 9, 12, 3, 2, 9, 12, 0, 3, 5, 0, 9, 10, 1, ...</td>\n",
       "      <td>U+S</td>\n",
       "      <td>1</td>\n",
       "      <td>1100</td>\n",
       "      <td>negctrl_sim_k1</td>\n",
       "      <td>0.000000</td>\n",
       "      <td>2.179588e-16</td>\n",
       "    </tr>\n",
       "    <tr>\n",
       "      <th>3</th>\n",
       "      <td>Leiden</td>\n",
       "      <td>[1, 5, 1, 1, 5, 1, 8, 0, 5, 4, 3, 3, 6, 1, 0, ...</td>\n",
       "      <td>UcatS</td>\n",
       "      <td>1</td>\n",
       "      <td>1100</td>\n",
       "      <td>negctrl_sim_k1</td>\n",
       "      <td>0.000000</td>\n",
       "      <td>6.054004e-16</td>\n",
       "    </tr>\n",
       "    <tr>\n",
       "      <th>4</th>\n",
       "      <td>K-Means</td>\n",
       "      <td>[4, 4, 3, 2, 8, 8, 0, 9, 6, 5, 4, 9, 6, 8, 2, ...</td>\n",
       "      <td>U</td>\n",
       "      <td>10</td>\n",
       "      <td>1100</td>\n",
       "      <td>negctrl_sim_k1</td>\n",
       "      <td>0.000000</td>\n",
       "      <td>2.613066e-16</td>\n",
       "    </tr>\n",
       "    <tr>\n",
       "      <th>5</th>\n",
       "      <td>K-Means</td>\n",
       "      <td>[8, 5, 0, 8, 8, 5, 1, 4, 9, 9, 2, 3, 4, 1, 1, ...</td>\n",
       "      <td>S</td>\n",
       "      <td>10</td>\n",
       "      <td>1100</td>\n",
       "      <td>negctrl_sim_k1</td>\n",
       "      <td>0.000000</td>\n",
       "      <td>1.389040e-16</td>\n",
       "    </tr>\n",
       "    <tr>\n",
       "      <th>6</th>\n",
       "      <td>K-Means</td>\n",
       "      <td>[4, 7, 2, 2, 4, 9, 5, 1, 6, 7, 4, 9, 8, 6, 2, ...</td>\n",
       "      <td>U+S</td>\n",
       "      <td>10</td>\n",
       "      <td>1100</td>\n",
       "      <td>negctrl_sim_k1</td>\n",
       "      <td>0.000000</td>\n",
       "      <td>2.272039e-17</td>\n",
       "    </tr>\n",
       "    <tr>\n",
       "      <th>7</th>\n",
       "      <td>K-Means</td>\n",
       "      <td>[8, 3, 7, 0, 5, 5, 0, 4, 0, 1, 1, 7, 5, 5, 9, ...</td>\n",
       "      <td>UcatS</td>\n",
       "      <td>10</td>\n",
       "      <td>1100</td>\n",
       "      <td>negctrl_sim_k1</td>\n",
       "      <td>0.000000</td>\n",
       "      <td>-1.629062e-16</td>\n",
       "    </tr>\n",
       "    <tr>\n",
       "      <th>8</th>\n",
       "      <td>Leiden</td>\n",
       "      <td>[6, 0, 6, 6, 6, 6, 6, 6, 0, 6, 6, 6, 0, 0, 6, ...</td>\n",
       "      <td>U</td>\n",
       "      <td>1</td>\n",
       "      <td>1100</td>\n",
       "      <td>b_beta_sim_k8</td>\n",
       "      <td>0.743029</td>\n",
       "      <td>8.097669e-01</td>\n",
       "    </tr>\n",
       "    <tr>\n",
       "      <th>9</th>\n",
       "      <td>Leiden</td>\n",
       "      <td>[2, 4, 3, 4, 8, 9, 0, 3, 3, 7, 5, 3, 3, 2, 4, ...</td>\n",
       "      <td>S</td>\n",
       "      <td>1</td>\n",
       "      <td>1100</td>\n",
       "      <td>b_beta_sim_k8</td>\n",
       "      <td>0.029161</td>\n",
       "      <td>3.302685e-02</td>\n",
       "    </tr>\n",
       "    <tr>\n",
       "      <th>10</th>\n",
       "      <td>Leiden</td>\n",
       "      <td>[3, 0, 3, 3, 3, 3, 3, 3, 3, 3, 3, 3, 3, 0, 3, ...</td>\n",
       "      <td>U+S</td>\n",
       "      <td>1</td>\n",
       "      <td>1100</td>\n",
       "      <td>b_beta_sim_k8</td>\n",
       "      <td>0.678228</td>\n",
       "      <td>7.031904e-01</td>\n",
       "    </tr>\n",
       "    <tr>\n",
       "      <th>11</th>\n",
       "      <td>Leiden</td>\n",
       "      <td>[5, 5, 5, 5, 5, 5, 5, 5, 5, 5, 5, 5, 5, 5, 5, ...</td>\n",
       "      <td>UcatS</td>\n",
       "      <td>1</td>\n",
       "      <td>1100</td>\n",
       "      <td>b_beta_sim_k8</td>\n",
       "      <td>0.666374</td>\n",
       "      <td>7.241318e-01</td>\n",
       "    </tr>\n",
       "    <tr>\n",
       "      <th>12</th>\n",
       "      <td>K-Means</td>\n",
       "      <td>[2, 2, 2, 2, 2, 2, 2, 2, 2, 2, 2, 2, 2, 2, 5, ...</td>\n",
       "      <td>U</td>\n",
       "      <td>10</td>\n",
       "      <td>1100</td>\n",
       "      <td>b_beta_sim_k8</td>\n",
       "      <td>0.685873</td>\n",
       "      <td>8.600074e-01</td>\n",
       "    </tr>\n",
       "    <tr>\n",
       "      <th>13</th>\n",
       "      <td>K-Means</td>\n",
       "      <td>[3, 2, 7, 0, 4, 3, 9, 6, 0, 8, 2, 2, 2, 7, 2, ...</td>\n",
       "      <td>S</td>\n",
       "      <td>10</td>\n",
       "      <td>1100</td>\n",
       "      <td>b_beta_sim_k8</td>\n",
       "      <td>0.258088</td>\n",
       "      <td>2.378114e-01</td>\n",
       "    </tr>\n",
       "    <tr>\n",
       "      <th>14</th>\n",
       "      <td>K-Means</td>\n",
       "      <td>[7, 7, 7, 7, 7, 7, 4, 7, 7, 7, 7, 7, 7, 7, 1, ...</td>\n",
       "      <td>U+S</td>\n",
       "      <td>10</td>\n",
       "      <td>1100</td>\n",
       "      <td>b_beta_sim_k8</td>\n",
       "      <td>0.795965</td>\n",
       "      <td>8.999546e-01</td>\n",
       "    </tr>\n",
       "    <tr>\n",
       "      <th>15</th>\n",
       "      <td>K-Means</td>\n",
       "      <td>[7, 2, 2, 2, 2, 2, 2, 2, 2, 2, 2, 2, 2, 2, 2, ...</td>\n",
       "      <td>UcatS</td>\n",
       "      <td>10</td>\n",
       "      <td>1100</td>\n",
       "      <td>b_beta_sim_k8</td>\n",
       "      <td>0.866420</td>\n",
       "      <td>9.445300e-01</td>\n",
       "    </tr>\n",
       "    <tr>\n",
       "      <th>16</th>\n",
       "      <td>Leiden</td>\n",
       "      <td>[4, 4, 4, 4, 4, 4, 4, 4, 4, 4, 4, 4, 4, 4, 4, ...</td>\n",
       "      <td>U</td>\n",
       "      <td>1</td>\n",
       "      <td>700</td>\n",
       "      <td>k_gamma_sim_k8</td>\n",
       "      <td>0.998428</td>\n",
       "      <td>9.951753e-01</td>\n",
       "    </tr>\n",
       "    <tr>\n",
       "      <th>17</th>\n",
       "      <td>Leiden</td>\n",
       "      <td>[1, 1, 3, 2, 2, 1, 2, 3, 2, 4, 1, 0, 2, 0, 2, ...</td>\n",
       "      <td>S</td>\n",
       "      <td>1</td>\n",
       "      <td>700</td>\n",
       "      <td>k_gamma_sim_k8</td>\n",
       "      <td>0.471722</td>\n",
       "      <td>3.502715e-01</td>\n",
       "    </tr>\n",
       "    <tr>\n",
       "      <th>18</th>\n",
       "      <td>Leiden</td>\n",
       "      <td>[1, 4, 4, 4, 4, 4, 4, 4, 4, 4, 4, 4, 4, 4, 4, ...</td>\n",
       "      <td>U+S</td>\n",
       "      <td>1</td>\n",
       "      <td>700</td>\n",
       "      <td>k_gamma_sim_k8</td>\n",
       "      <td>0.996348</td>\n",
       "      <td>9.880589e-01</td>\n",
       "    </tr>\n",
       "    <tr>\n",
       "      <th>19</th>\n",
       "      <td>Leiden</td>\n",
       "      <td>[4, 4, 4, 4, 4, 4, 4, 4, 4, 4, 4, 4, 4, 4, 4, ...</td>\n",
       "      <td>UcatS</td>\n",
       "      <td>1</td>\n",
       "      <td>700</td>\n",
       "      <td>k_gamma_sim_k8</td>\n",
       "      <td>0.998026</td>\n",
       "      <td>9.923766e-01</td>\n",
       "    </tr>\n",
       "    <tr>\n",
       "      <th>20</th>\n",
       "      <td>K-Means</td>\n",
       "      <td>[3, 3, 3, 3, 3, 3, 3, 3, 3, 3, 3, 3, 3, 3, 0, ...</td>\n",
       "      <td>U</td>\n",
       "      <td>5</td>\n",
       "      <td>700</td>\n",
       "      <td>k_gamma_sim_k8</td>\n",
       "      <td>0.738457</td>\n",
       "      <td>8.639497e-01</td>\n",
       "    </tr>\n",
       "    <tr>\n",
       "      <th>21</th>\n",
       "      <td>K-Means</td>\n",
       "      <td>[0, 1, 3, 1, 4, 4, 1, 4, 3, 2, 3, 2, 4, 2, 1, ...</td>\n",
       "      <td>S</td>\n",
       "      <td>5</td>\n",
       "      <td>700</td>\n",
       "      <td>k_gamma_sim_k8</td>\n",
       "      <td>0.539081</td>\n",
       "      <td>5.699528e-01</td>\n",
       "    </tr>\n",
       "    <tr>\n",
       "      <th>22</th>\n",
       "      <td>K-Means</td>\n",
       "      <td>[0, 0, 0, 2, 0, 4, 4, 0, 2, 0, 0, 0, 0, 0, 4, ...</td>\n",
       "      <td>U+S</td>\n",
       "      <td>5</td>\n",
       "      <td>700</td>\n",
       "      <td>k_gamma_sim_k8</td>\n",
       "      <td>0.736945</td>\n",
       "      <td>8.504663e-01</td>\n",
       "    </tr>\n",
       "    <tr>\n",
       "      <th>23</th>\n",
       "      <td>K-Means</td>\n",
       "      <td>[1, 1, 1, 1, 1, 1, 1, 1, 1, 1, 1, 1, 1, 1, 1, ...</td>\n",
       "      <td>UcatS</td>\n",
       "      <td>5</td>\n",
       "      <td>700</td>\n",
       "      <td>k_gamma_sim_k8</td>\n",
       "      <td>1.000000</td>\n",
       "      <td>1.000000e+00</td>\n",
       "    </tr>\n",
       "  </tbody>\n",
       "</table>\n",
       "</div>"
      ],
      "text/plain": [
       "     Method                                         Clustering Matrices  \\\n",
       "0    Leiden  [0, 1, 7, 8, 2, 0, 2, 1, 0, 3, 0, 7, 0, 5, 4, ...        U   \n",
       "1    Leiden  [14, 12, 13, 12, 2, 13, 3, 11, 2, 13, 3, 14, 0...        S   \n",
       "2    Leiden  [5, 9, 12, 3, 2, 9, 12, 0, 3, 5, 0, 9, 10, 1, ...      U+S   \n",
       "3    Leiden  [1, 5, 1, 1, 5, 1, 8, 0, 5, 4, 3, 3, 6, 1, 0, ...    UcatS   \n",
       "4   K-Means  [4, 4, 3, 2, 8, 8, 0, 9, 6, 5, 4, 9, 6, 8, 2, ...        U   \n",
       "5   K-Means  [8, 5, 0, 8, 8, 5, 1, 4, 9, 9, 2, 3, 4, 1, 1, ...        S   \n",
       "6   K-Means  [4, 7, 2, 2, 4, 9, 5, 1, 6, 7, 4, 9, 8, 6, 2, ...      U+S   \n",
       "7   K-Means  [8, 3, 7, 0, 5, 5, 0, 4, 0, 1, 1, 7, 5, 5, 9, ...    UcatS   \n",
       "8    Leiden  [6, 0, 6, 6, 6, 6, 6, 6, 0, 6, 6, 6, 0, 0, 6, ...        U   \n",
       "9    Leiden  [2, 4, 3, 4, 8, 9, 0, 3, 3, 7, 5, 3, 3, 2, 4, ...        S   \n",
       "10   Leiden  [3, 0, 3, 3, 3, 3, 3, 3, 3, 3, 3, 3, 3, 0, 3, ...      U+S   \n",
       "11   Leiden  [5, 5, 5, 5, 5, 5, 5, 5, 5, 5, 5, 5, 5, 5, 5, ...    UcatS   \n",
       "12  K-Means  [2, 2, 2, 2, 2, 2, 2, 2, 2, 2, 2, 2, 2, 2, 5, ...        U   \n",
       "13  K-Means  [3, 2, 7, 0, 4, 3, 9, 6, 0, 8, 2, 2, 2, 7, 2, ...        S   \n",
       "14  K-Means  [7, 7, 7, 7, 7, 7, 4, 7, 7, 7, 7, 7, 7, 7, 1, ...      U+S   \n",
       "15  K-Means  [7, 2, 2, 2, 2, 2, 2, 2, 2, 2, 2, 2, 2, 2, 2, ...    UcatS   \n",
       "16   Leiden  [4, 4, 4, 4, 4, 4, 4, 4, 4, 4, 4, 4, 4, 4, 4, ...        U   \n",
       "17   Leiden  [1, 1, 3, 2, 2, 1, 2, 3, 2, 4, 1, 0, 2, 0, 2, ...        S   \n",
       "18   Leiden  [1, 4, 4, 4, 4, 4, 4, 4, 4, 4, 4, 4, 4, 4, 4, ...      U+S   \n",
       "19   Leiden  [4, 4, 4, 4, 4, 4, 4, 4, 4, 4, 4, 4, 4, 4, 4, ...    UcatS   \n",
       "20  K-Means  [3, 3, 3, 3, 3, 3, 3, 3, 3, 3, 3, 3, 3, 3, 0, ...        U   \n",
       "21  K-Means  [0, 1, 3, 1, 4, 4, 1, 4, 3, 2, 3, 2, 4, 2, 1, ...        S   \n",
       "22  K-Means  [0, 0, 0, 2, 0, 4, 4, 0, 2, 0, 0, 0, 0, 0, 4, ...      U+S   \n",
       "23  K-Means  [1, 1, 1, 1, 1, 1, 1, 1, 1, 1, 1, 1, 1, 1, 1, ...    UcatS   \n",
       "\n",
       "    Hyperparam  HVGs            Data       ARI           AMI  \n",
       "0            1  1100  negctrl_sim_k1  0.000000  1.837018e-16  \n",
       "1            1  1100  negctrl_sim_k1  0.000000  2.178137e-16  \n",
       "2            1  1100  negctrl_sim_k1  0.000000  2.179588e-16  \n",
       "3            1  1100  negctrl_sim_k1  0.000000  6.054004e-16  \n",
       "4           10  1100  negctrl_sim_k1  0.000000  2.613066e-16  \n",
       "5           10  1100  negctrl_sim_k1  0.000000  1.389040e-16  \n",
       "6           10  1100  negctrl_sim_k1  0.000000  2.272039e-17  \n",
       "7           10  1100  negctrl_sim_k1  0.000000 -1.629062e-16  \n",
       "8            1  1100   b_beta_sim_k8  0.743029  8.097669e-01  \n",
       "9            1  1100   b_beta_sim_k8  0.029161  3.302685e-02  \n",
       "10           1  1100   b_beta_sim_k8  0.678228  7.031904e-01  \n",
       "11           1  1100   b_beta_sim_k8  0.666374  7.241318e-01  \n",
       "12          10  1100   b_beta_sim_k8  0.685873  8.600074e-01  \n",
       "13          10  1100   b_beta_sim_k8  0.258088  2.378114e-01  \n",
       "14          10  1100   b_beta_sim_k8  0.795965  8.999546e-01  \n",
       "15          10  1100   b_beta_sim_k8  0.866420  9.445300e-01  \n",
       "16           1   700  k_gamma_sim_k8  0.998428  9.951753e-01  \n",
       "17           1   700  k_gamma_sim_k8  0.471722  3.502715e-01  \n",
       "18           1   700  k_gamma_sim_k8  0.996348  9.880589e-01  \n",
       "19           1   700  k_gamma_sim_k8  0.998026  9.923766e-01  \n",
       "20           5   700  k_gamma_sim_k8  0.738457  8.639497e-01  \n",
       "21           5   700  k_gamma_sim_k8  0.539081  5.699528e-01  \n",
       "22           5   700  k_gamma_sim_k8  0.736945  8.504663e-01  \n",
       "23           5   700  k_gamma_sim_k8  1.000000  1.000000e+00  "
      ]
     },
     "execution_count": 238,
     "metadata": {},
     "output_type": "execute_result"
    }
   ],
   "source": [
    "LK_res"
   ]
  },
  {
   "cell_type": "code",
   "execution_count": 239,
   "id": "c40aae37",
   "metadata": {},
   "outputs": [],
   "source": [
    "LK_res.to_pickle('./fits/LeidKMeansruns_0306/LK_sim_results.pkl') #0301\n",
    "#unpickled_df = pd.read_pickle(\"./meK_res.pkl\")"
   ]
  },
  {
   "cell_type": "code",
   "execution_count": 241,
   "id": "f40e463f",
   "metadata": {},
   "outputs": [],
   "source": [
    "transcriptomes = ['/home/tchari/perturbCME/notebooks/sim_genome_polyA_cum_3_0',\n",
    "                  '/home/tchari/perturbCME/notebooks/sim_genome_polyA_cum_3_0',\n",
    "                 '/home/tchari/perturbCME/notebooks/sim_genome_polyA_cum_3_1']"
   ]
  },
  {
   "cell_type": "code",
   "execution_count": 243,
   "id": "673ab57a",
   "metadata": {},
   "outputs": [
    {
     "name": "stdout",
     "output_type": "stream",
     "text": [
      "mkdir: cannot create directory ‘/home/tchari/perturbCME/notebooks/fits/meKruns_0306’: File exists\n",
      "b_beta_sim_k8 with 1100 genes\n",
      "WARNING:root:Selecting 1100 genes required 0.0% dataset threshold.\n"
     ]
    },
    {
     "name": "stderr",
     "output_type": "stream",
     "text": [
      "100%|████████████████████████████████████████████████████████████████████████████████████████████████████| 10/10 [01:45<00:00, 10.52s/it]\n",
      "100%|████████████████████████████████████████████████████████████████████████████████████████████████████| 10/10 [01:50<00:00, 11.03s/it]\n"
     ]
    },
    {
     "name": "stdout",
     "output_type": "stream",
     "text": [
      "mstep self.weights:  [0.02130789 0.21951494 0.16482509 0.1216082  0.06894709 0.08862405\n",
      " 0.06587888 0.07057967 0.12444889 0.0542653 ]\n",
      "Q Function:  -7646860.875121265\n",
      "\n"
     ]
    },
    {
     "name": "stderr",
     "output_type": "stream",
     "text": [
      "100%|████████████████████████████████████████████████████████████████████████████████████████████████████| 10/10 [01:41<00:00, 10.14s/it]\n"
     ]
    },
    {
     "name": "stdout",
     "output_type": "stream",
     "text": [
      "mstep self.weights:  [0.00069093 0.23858718 0.19537353 0.15939084 0.05120111 0.0600907\n",
      " 0.09508959 0.07557237 0.10175058 0.02225315]\n",
      "Q Function:  -7598969.520596657\n",
      "\n"
     ]
    },
    {
     "name": "stderr",
     "output_type": "stream",
     "text": [
      "100%|██████████████████████████████████████████████████████████████████████████████████████████████████████| 9/9 [01:45<00:00, 11.68s/it]\n"
     ]
    },
    {
     "name": "stdout",
     "output_type": "stream",
     "text": [
      "mstep self.weights:  [2.00000000e-10 2.56008718e-01 1.98482154e-01 1.60605416e-01\n",
      " 4.11572487e-02 5.81470461e-02 1.01689478e-01 7.93333040e-02\n",
      " 1.00196738e-01 4.37989755e-03]\n",
      "Q Function:  -7593111.06645591\n",
      "\n"
     ]
    },
    {
     "name": "stderr",
     "output_type": "stream",
     "text": [
      "100%|██████████████████████████████████████████████████████████████████████████████████████████████████████| 8/8 [01:36<00:00, 12.09s/it]\n"
     ]
    },
    {
     "name": "stdout",
     "output_type": "stream",
     "text": [
      "mstep self.weights:  [2.00000000e-10 2.60538089e-01 1.99136406e-01 1.60487843e-01\n",
      " 4.05913591e-02 5.76568051e-02 1.03031606e-01 7.85194320e-02\n",
      " 1.00038459e-01 2.00000000e-10]\n",
      "Q Function:  -7585727.365004344\n",
      "\n"
     ]
    },
    {
     "name": "stderr",
     "output_type": "stream",
     "text": [
      "100%|██████████████████████████████████████████████████████████████████████████████████████████████████████| 8/8 [01:46<00:00, 13.27s/it]\n"
     ]
    },
    {
     "name": "stdout",
     "output_type": "stream",
     "text": [
      "mstep self.weights:  [2.00000000e-10 2.60634457e-01 1.99213017e-01 1.60540388e-01\n",
      " 4.05994396e-02 5.77038781e-02 1.04114269e-01 7.72132048e-02\n",
      " 9.99813462e-02 2.00000000e-10]\n",
      "Q Function:  -7589362.74209284\n",
      "\n"
     ]
    },
    {
     "name": "stderr",
     "output_type": "stream",
     "text": [
      "100%|██████████████████████████████████████████████████████████████████████████████████████████████████████| 8/8 [01:39<00:00, 12.41s/it]\n"
     ]
    },
    {
     "name": "stdout",
     "output_type": "stream",
     "text": [
      "mstep self.weights:  [2.00000000e-10 2.60625148e-01 1.99176110e-01 1.60731555e-01\n",
      " 4.05992130e-02 5.76710358e-02 1.04511366e-01 7.67110117e-02\n",
      " 9.99745601e-02 2.00000000e-10]\n",
      "Q Function:  -7588814.783809085\n",
      "\n"
     ]
    },
    {
     "name": "stderr",
     "output_type": "stream",
     "text": [
      "100%|██████████████████████████████████████████████████████████████████████████████████████████████████████| 8/8 [01:48<00:00, 13.52s/it]\n"
     ]
    },
    {
     "name": "stdout",
     "output_type": "stream",
     "text": [
      "mstep self.weights:  [2.00000000e-10 2.60631652e-01 1.99179722e-01 1.60764910e-01\n",
      " 4.05992801e-02 5.77129698e-02 1.04700185e-01 7.64317035e-02\n",
      " 9.99795767e-02 2.00000000e-10]\n",
      "Q Function:  -7588918.205886777\n",
      "\n"
     ]
    },
    {
     "name": "stderr",
     "output_type": "stream",
     "text": [
      "100%|██████████████████████████████████████████████████████████████████████████████████████████████████████| 8/8 [01:39<00:00, 12.39s/it]\n"
     ]
    },
    {
     "name": "stdout",
     "output_type": "stream",
     "text": [
      "mstep self.weights:  [2.00000000e-10 2.60631695e-01 1.99179717e-01 1.60765181e-01\n",
      " 4.05992791e-02 5.77130374e-02 1.04701253e-01 7.64301918e-02\n",
      " 9.99796448e-02 2.00000000e-10]\n",
      "Q Function:  -7588918.212162818\n",
      "\n"
     ]
    },
    {
     "name": "stderr",
     "output_type": "stream",
     "text": [
      "100%|██████████████████████████████████████████████████████████████████████████████████████████████████████| 8/8 [01:37<00:00, 12.19s/it]\n"
     ]
    },
    {
     "name": "stdout",
     "output_type": "stream",
     "text": [
      "mstep self.weights:  [2.00000000e-10 2.60631695e-01 1.99179717e-01 1.60765182e-01\n",
      " 4.05992791e-02 5.77130375e-02 1.04701259e-01 7.64301835e-02\n",
      " 9.99796452e-02 2.00000000e-10]\n",
      "Q Function:  -7588918.212219475\n",
      "\n"
     ]
    },
    {
     "name": "stderr",
     "output_type": "stream",
     "text": [
      "100%|██████████████████████████████████████████████████████████████████████████████████████████████████████| 8/8 [01:37<00:00, 12.25s/it]\n"
     ]
    },
    {
     "name": "stdout",
     "output_type": "stream",
     "text": [
      "mstep self.weights:  [2.00000000e-10 2.60631695e-01 1.99179717e-01 1.60765182e-01\n",
      " 4.05992791e-02 5.77130375e-02 1.04701260e-01 7.64301834e-02\n",
      " 9.99796452e-02 2.00000000e-10]\n",
      "Q Function:  -7588918.212219794\n",
      "\n",
      "No. clus:  8\n",
      "ARI:  0.9771046604192287\n",
      "k_gamma_sim_k8 with 700 genes\n",
      "WARNING:root:Selecting 700 genes required 0.0% dataset threshold.\n"
     ]
    },
    {
     "name": "stderr",
     "output_type": "stream",
     "text": [
      "100%|██████████████████████████████████████████████████████████████████████████████████████████████████████| 5/5 [00:41<00:00,  8.29s/it]\n",
      "100%|██████████████████████████████████████████████████████████████████████████████████████████████████████| 5/5 [00:41<00:00,  8.34s/it]\n"
     ]
    },
    {
     "name": "stdout",
     "output_type": "stream",
     "text": [
      "mstep self.weights:  [0.12303505 0.2942045  0.16207656 0.27866867 0.14201521]\n",
      "Q Function:  -3352778.0062893457\n",
      "\n"
     ]
    },
    {
     "name": "stderr",
     "output_type": "stream",
     "text": [
      "100%|██████████████████████████████████████████████████████████████████████████████████████████████████████| 5/5 [00:47<00:00,  9.53s/it]\n"
     ]
    },
    {
     "name": "stdout",
     "output_type": "stream",
     "text": [
      "mstep self.weights:  [0.11817373 0.29413751 0.18210131 0.25908663 0.14650082]\n",
      "Q Function:  -3335612.3462723405\n",
      "\n"
     ]
    },
    {
     "name": "stderr",
     "output_type": "stream",
     "text": [
      "100%|██████████████████████████████████████████████████████████████████████████████████████████████████████| 5/5 [00:41<00:00,  8.33s/it]\n"
     ]
    },
    {
     "name": "stdout",
     "output_type": "stream",
     "text": [
      "mstep self.weights:  [0.1178585  0.29417964 0.14445117 0.2967253  0.14678539]\n",
      "Q Function:  -3334373.7938849297\n",
      "\n"
     ]
    },
    {
     "name": "stderr",
     "output_type": "stream",
     "text": [
      "100%|██████████████████████████████████████████████████████████████████████████████████████████████████████| 5/5 [00:42<00:00,  8.41s/it]\n"
     ]
    },
    {
     "name": "stdout",
     "output_type": "stream",
     "text": [
      "mstep self.weights:  [0.11784623 0.29419277 0.15625715 0.28491933 0.14678452]\n",
      "Q Function:  -3334827.0017203027\n",
      "\n"
     ]
    },
    {
     "name": "stderr",
     "output_type": "stream",
     "text": [
      "100%|██████████████████████████████████████████████████████████████████████████████████████████████████████| 5/5 [00:41<00:00,  8.28s/it]\n"
     ]
    },
    {
     "name": "stdout",
     "output_type": "stream",
     "text": [
      "mstep self.weights:  [0.11784623 0.29419278 0.12498703 0.31618944 0.14678452]\n",
      "Q Function:  -3334028.3468119223\n",
      "\n"
     ]
    },
    {
     "name": "stderr",
     "output_type": "stream",
     "text": [
      "100%|██████████████████████████████████████████████████████████████████████████████████████████████████████| 5/5 [00:48<00:00,  9.66s/it]\n"
     ]
    },
    {
     "name": "stdout",
     "output_type": "stream",
     "text": [
      "mstep self.weights:  [0.11784623 0.29419278 0.12039585 0.32078062 0.14678452]\n",
      "Q Function:  -3335474.527696818\n",
      "\n"
     ]
    },
    {
     "name": "stderr",
     "output_type": "stream",
     "text": [
      "100%|██████████████████████████████████████████████████████████████████████████████████████████████████████| 5/5 [00:41<00:00,  8.30s/it]\n"
     ]
    },
    {
     "name": "stdout",
     "output_type": "stream",
     "text": [
      "mstep self.weights:  [0.11784623 0.29419278 0.08114286 0.36003361 0.14678452]\n",
      "Q Function:  -3334448.2043319936\n",
      "\n"
     ]
    },
    {
     "name": "stderr",
     "output_type": "stream",
     "text": [
      "100%|██████████████████████████████████████████████████████████████████████████████████████████████████████| 5/5 [00:41<00:00,  8.31s/it]\n"
     ]
    },
    {
     "name": "stdout",
     "output_type": "stream",
     "text": [
      "mstep self.weights:  [0.11784623 0.29419278 0.06957437 0.37160211 0.14678452]\n",
      "Q Function:  -3334269.140620426\n",
      "\n"
     ]
    },
    {
     "name": "stderr",
     "output_type": "stream",
     "text": [
      "100%|██████████████████████████████████████████████████████████████████████████████████████████████████████| 5/5 [00:41<00:00,  8.33s/it]\n"
     ]
    },
    {
     "name": "stdout",
     "output_type": "stream",
     "text": [
      "mstep self.weights:  [0.11784626 0.29419278 0.01628122 0.42489522 0.14678452]\n",
      "Q Function:  -3336645.365907383\n",
      "\n"
     ]
    },
    {
     "name": "stderr",
     "output_type": "stream",
     "text": [
      "100%|██████████████████████████████████████████████████████████████████████████████████████████████████████| 4/4 [00:40<00:00, 10.21s/it]\n"
     ]
    },
    {
     "name": "stdout",
     "output_type": "stream",
     "text": [
      "mstep self.weights:  [1.17846235e-01 2.94192768e-01 1.94523151e-08 4.41176455e-01\n",
      " 1.46784523e-01]\n",
      "Q Function:  -3335875.9705061186\n",
      "\n",
      "No. clus:  4\n",
      "ARI:  0.9875836314870531\n"
     ]
    }
   ],
   "source": [
    "#For each loom in looms from ./hvg_objs\n",
    "\n",
    "# !mkdir /home/tchari/perturbCME/notebooks/fits/meKruns_0209\n",
    "!mkdir /home/tchari/perturbCME/notebooks/fits/meKruns_0306\n",
    "\n",
    "\n",
    "dir_strings = []\n",
    "data_strings = []\n",
    "result_strings = []\n",
    "\n",
    "#Save method, clustering, mat_in (U,S, etc), hyper (K or res), hvgs, data, ARI, AMI\n",
    "meK_res = pd.DataFrame()\n",
    "meths = []\n",
    "result = []\n",
    "mats = []\n",
    "hyper = []\n",
    "hvgs = []\n",
    "data = []\n",
    "ari = []\n",
    "ami = []\n",
    "\n",
    "for d in sub_d_strings[1:]: #************* FASTER FOR NOW ************* \n",
    "    \n",
    "    #Get tech param by keyword (datas) in loom paths\n",
    "    ind = [i in d for i in datas]\n",
    "    \n",
    "    #Inference params for sampling\n",
    "    tech_tup = samp\n",
    "    \n",
    "    #Preprocessing params for filepaths\n",
    "    trans = np.array(transcriptomes)[ind][0]\n",
    "\n",
    "    data_name = np.array(datas)[ind][0]\n",
    "    \n",
    "    \n",
    "    ds = lp.connect(d)\n",
    "    g_names = ds.ra[attribute_names[1]]\n",
    "    num_genes = len(g_names)\n",
    "    num_cells = len(ds.ca[attribute_names[2]])\n",
    "    \n",
    "    U = ds.layers['unspliced'][:,:].T\n",
    "    S = ds.layers['spliced'][:,:].T\n",
    "    true_labs = list(ds.ca['subclass_label'])\n",
    "    ds.close()\n",
    "\n",
    "    \n",
    "    print(data_name+' with '+str(num_genes)+' genes')\n",
    "    \n",
    "    \n",
    "    if 'negctrl' in d:\n",
    "        Ks = [10] #***FILL THIS IN from leiden *******\n",
    "    else:\n",
    "        Ks = [len(np.unique(true_labs))]\n",
    "        \n",
    "\n",
    "    for clus in Ks:\n",
    "       \n",
    "        #Run Monod preprocessing to set up files for run, leave room for genes to be removed with low U/S\n",
    "        dir_string,dataset_string = monod.preprocess.construct_batch([d], \\\n",
    "                                                     trans, \\\n",
    "                                                     [data_name], \\\n",
    "                                                     attribute_names=attribute_names,\\\n",
    "                                                     batch_location='./fits/meKruns_0306', \\\n",
    "                                                     meta=data_name+'_K'+str(clus), \\\n",
    "                                                     batch_id=1, \\\n",
    "                                                     n_genes=num_genes,exp_filter_threshold=None,\n",
    "                                                                     viz=False,genes_to_fit=g_names)\n",
    "                                                        #num_genes-60 or 100,genes_to_fit=markers\n",
    "        dir_strings += [dir_string]\n",
    "        data_strings += [dataset_string]\n",
    "\n",
    "        #Set model and run meK-Means\n",
    "        \n",
    "        #Define bounds for params\n",
    "        phys_lb = [-3.0, -3, -3 ] \n",
    "        phys_ub = [4.2, 2.5, 2.5] \n",
    "        samp_lb = tech_tup \n",
    "        samp_ub = tech_tup  \n",
    "        gridsize = [1,1] #Already have tech params\n",
    "    \n",
    "\n",
    "        epochs = 10\n",
    "\n",
    "        # ---------------- meK-Means Inference ---------------- \n",
    "        #Define model with bursty transcription and Poisson molecule capture/sampling\n",
    "        fitmodel = monod.cme_toolbox.CMEModel('Bursty','Poisson')\n",
    "\n",
    "        #Set up mminference parameters\n",
    "        inference_parameters = monod.mminference.InferenceParameters(phys_lb,phys_ub,samp_lb,samp_ub,gridsize,\\\n",
    "                    dataset_string[0],fitmodel,k=clus,epochs=epochs,use_lengths = True,\n",
    "                    gradient_params = {'max_iterations':5,'init_pattern':'moments','num_restarts':1})\n",
    "\n",
    "        #Read in loom file with filtered barcodes\n",
    "        search_data = monod.extract_data.extract_data(d, trans, data_name,\n",
    "                    dataset_string[0], dir_string, viz=False, dataset_attr_names=attribute_names)\n",
    "\n",
    "        #Run inference(fit_all_grid_points()) and Save result file strings\n",
    "        full_result_string = inference_parameters.fit_all_grid_points(40,search_data) \n",
    "\n",
    "        result_strings.append(full_result_string)\n",
    "        \n",
    "\n",
    "        # ----------------  Save output ---------------- \n",
    "        #Read in results and get cluster assignments\n",
    "        sr = [monod.analysis.load_search_results(i) for i in full_result_string]\n",
    "        \n",
    "        \n",
    "        cat_assigns = np.array([None]*num_cells) #cat_assigns is empty list of length = no. cell barcodes\n",
    "        for i in range(len(sr)):\n",
    "            r = sr[i]\n",
    "            cat_assigns[r.filt] = r.assigns #denotes which cluster (k), cells were assigned to\n",
    "\n",
    "        print('No. clus: ',len(np.unique(cat_assigns)))\n",
    "        \n",
    "\n",
    "        meths += ['meK-Means']\n",
    "        result += [cat_assigns]\n",
    "        mats += ['U,S']\n",
    "        hyper += [clus]\n",
    "        hvgs += [num_genes]\n",
    "        data += [data_name]\n",
    "        ari += [adjusted_rand_score(true_labs,cat_assigns)]\n",
    "        ami += [adjusted_mutual_info_score(true_labs,cat_assigns)]\n",
    "        \n",
    "        print('ARI: ',adjusted_rand_score(true_labs,cat_assigns))\n",
    "\n",
    "\n",
    "meK_res['Method'] = meths\n",
    "meK_res['Clustering'] = result\n",
    "meK_res['Matrices'] = mats\n",
    "meK_res['Hyperparam'] = hyper\n",
    "meK_res['Genes'] = hvgs\n",
    "meK_res['Data'] = data\n",
    "meK_res['ARI'] = ari\n",
    "meK_res['AMI'] = ami\n",
    "    "
   ]
  },
  {
   "cell_type": "code",
   "execution_count": 244,
   "id": "efdbdeaf",
   "metadata": {},
   "outputs": [
    {
     "data": {
      "text/html": [
       "<div>\n",
       "<style scoped>\n",
       "    .dataframe tbody tr th:only-of-type {\n",
       "        vertical-align: middle;\n",
       "    }\n",
       "\n",
       "    .dataframe tbody tr th {\n",
       "        vertical-align: top;\n",
       "    }\n",
       "\n",
       "    .dataframe thead th {\n",
       "        text-align: right;\n",
       "    }\n",
       "</style>\n",
       "<table border=\"1\" class=\"dataframe\">\n",
       "  <thead>\n",
       "    <tr style=\"text-align: right;\">\n",
       "      <th></th>\n",
       "      <th>Method</th>\n",
       "      <th>Clustering</th>\n",
       "      <th>Matrices</th>\n",
       "      <th>Hyperparam</th>\n",
       "      <th>Genes</th>\n",
       "      <th>Data</th>\n",
       "      <th>ARI</th>\n",
       "      <th>AMI</th>\n",
       "    </tr>\n",
       "  </thead>\n",
       "  <tbody>\n",
       "    <tr>\n",
       "      <th>0</th>\n",
       "      <td>meK-Means</td>\n",
       "      <td>[7, 7, 7, 7, 7, 7, 7, 7, 7, 7, 7, 7, 7, 7, 7, ...</td>\n",
       "      <td>U,S</td>\n",
       "      <td>10</td>\n",
       "      <td>1100</td>\n",
       "      <td>b_beta_sim_k8</td>\n",
       "      <td>0.977105</td>\n",
       "      <td>0.957871</td>\n",
       "    </tr>\n",
       "    <tr>\n",
       "      <th>1</th>\n",
       "      <td>meK-Means</td>\n",
       "      <td>[0, 0, 0, 0, 0, 0, 0, 0, 0, 0, 0, 0, 0, 0, 0, ...</td>\n",
       "      <td>U,S</td>\n",
       "      <td>5</td>\n",
       "      <td>700</td>\n",
       "      <td>k_gamma_sim_k8</td>\n",
       "      <td>0.987584</td>\n",
       "      <td>0.972653</td>\n",
       "    </tr>\n",
       "  </tbody>\n",
       "</table>\n",
       "</div>"
      ],
      "text/plain": [
       "      Method                                         Clustering Matrices  \\\n",
       "0  meK-Means  [7, 7, 7, 7, 7, 7, 7, 7, 7, 7, 7, 7, 7, 7, 7, ...      U,S   \n",
       "1  meK-Means  [0, 0, 0, 0, 0, 0, 0, 0, 0, 0, 0, 0, 0, 0, 0, ...      U,S   \n",
       "\n",
       "   Hyperparam  Genes            Data       ARI       AMI  \n",
       "0          10   1100   b_beta_sim_k8  0.977105  0.957871  \n",
       "1           5    700  k_gamma_sim_k8  0.987584  0.972653  "
      ]
     },
     "execution_count": 244,
     "metadata": {},
     "output_type": "execute_result"
    }
   ],
   "source": [
    "meK_res"
   ]
  },
  {
   "cell_type": "code",
   "execution_count": 245,
   "id": "80fb31ac",
   "metadata": {},
   "outputs": [],
   "source": [
    "meK_res.to_pickle('./fits/meKruns_0306/meK_sim_results.pkl') #0301\n",
    "#unpickled_df = pd.read_pickle(\"./meK_res.pkl\")"
   ]
  },
  {
   "cell_type": "code",
   "execution_count": 249,
   "id": "5c1c3fe5",
   "metadata": {},
   "outputs": [
    {
     "data": {
      "text/plain": [
       "'/home/tchari/perturbCME/notebooks/sim_genome_polyA_cum_3_0'"
      ]
     },
     "execution_count": 249,
     "metadata": {},
     "output_type": "execute_result"
    }
   ],
   "source": [
    "np.array(transcriptomes)[0]"
   ]
  },
  {
   "cell_type": "code",
   "execution_count": 250,
   "id": "5fd2f62a",
   "metadata": {},
   "outputs": [
    {
     "name": "stdout",
     "output_type": "stream",
     "text": [
      "negctrl_sim_k1 with 1100 genes\n",
      "WARNING:root:Selecting 1100 genes required 0.0% dataset threshold.\n"
     ]
    },
    {
     "name": "stderr",
     "output_type": "stream",
     "text": [
      "100%|████████████████████████████████████████████████████████████████████████████████████████████████████| 10/10 [01:38<00:00,  9.82s/it]\n",
      "100%|████████████████████████████████████████████████████████████████████████████████████████████████████| 10/10 [01:38<00:00,  9.81s/it]\n"
     ]
    },
    {
     "name": "stdout",
     "output_type": "stream",
     "text": [
      "mstep self.weights:  [0.03866153 0.27886566 0.10848511 0.02935103 0.02319026 0.21954071\n",
      " 0.08938233 0.07991915 0.01599268 0.11661154]\n",
      "Q Function:  -7205402.919601542\n",
      "\n"
     ]
    },
    {
     "name": "stderr",
     "output_type": "stream",
     "text": [
      "100%|██████████████████████████████████████████████████████████████████████████████████████████████████████| 9/9 [01:40<00:00, 11.22s/it]\n"
     ]
    },
    {
     "name": "stdout",
     "output_type": "stream",
     "text": [
      "mstep self.weights:  [3.42013288e-03 4.91752303e-01 1.30272183e-01 9.84453936e-04\n",
      " 6.28162594e-06 1.48956136e-01 4.33010212e-02 4.83604226e-02\n",
      " 8.84346411e-04 1.32062719e-01]\n",
      "Q Function:  -7195788.6708520325\n",
      "\n"
     ]
    },
    {
     "name": "stderr",
     "output_type": "stream",
     "text": [
      "100%|██████████████████████████████████████████████████████████████████████████████████████████████████████| 6/6 [01:34<00:00, 15.78s/it]\n"
     ]
    },
    {
     "name": "stdout",
     "output_type": "stream",
     "text": [
      "mstep self.weights:  [2.00000000e-10 4.68676894e-01 1.94785961e-01 2.00000000e-10\n",
      " 1.16439947e-08 2.75898400e-01 1.80580310e-02 2.46824951e-02\n",
      " 2.00000000e-10 1.78982061e-02]\n",
      "Q Function:  -7196495.303387906\n",
      "\n"
     ]
    },
    {
     "name": "stderr",
     "output_type": "stream",
     "text": [
      "100%|██████████████████████████████████████████████████████████████████████████████████████████████████████| 5/5 [01:48<00:00, 21.61s/it]\n"
     ]
    },
    {
     "name": "stdout",
     "output_type": "stream",
     "text": [
      "mstep self.weights:  [2.00000000e-10 7.77980229e-01 5.54422984e-02 2.00000000e-10\n",
      " 2.00866615e-10 1.61407677e-01 4.88893032e-03 2.80859531e-04\n",
      " 2.00000000e-10 5.48829504e-09]\n",
      "Q Function:  -7192066.547749391\n",
      "\n"
     ]
    },
    {
     "name": "stderr",
     "output_type": "stream",
     "text": [
      "100%|██████████████████████████████████████████████████████████████████████████████████████████████████████| 3/3 [01:43<00:00, 34.49s/it]\n"
     ]
    },
    {
     "name": "stdout",
     "output_type": "stream",
     "text": [
      "mstep self.weights:  [2.00000000e-10 9.87132399e-01 7.16275013e-03 2.00000000e-10\n",
      " 2.01205391e-10 5.70484931e-03 2.00000000e-10 2.00000000e-10\n",
      " 2.00000000e-10 2.00011332e-10]\n",
      "Q Function:  -7196454.04687782\n",
      "\n"
     ]
    },
    {
     "name": "stderr",
     "output_type": "stream",
     "text": [
      "100%|██████████████████████████████████████████████████████████████████████████████████████████████████████| 1/1 [01:29<00:00, 89.60s/it]\n"
     ]
    },
    {
     "name": "stdout",
     "output_type": "stream",
     "text": [
      "mstep self.weights:  [2.00000000e-10 9.99999998e-01 2.00000000e-10 2.00000000e-10\n",
      " 2.01102149e-10 2.00000000e-10 2.00000000e-10 2.00000000e-10\n",
      " 2.00000000e-10 2.00000095e-10]\n",
      "Q Function:  -7196153.749406412\n",
      "\n"
     ]
    },
    {
     "name": "stderr",
     "output_type": "stream",
     "text": [
      "100%|██████████████████████████████████████████████████████████████████████████████████████████████████████| 1/1 [01:29<00:00, 89.11s/it]\n"
     ]
    },
    {
     "name": "stdout",
     "output_type": "stream",
     "text": [
      "mstep self.weights:  [2.00000000e-10 9.99999998e-01 2.00000000e-10 2.00000000e-10\n",
      " 2.00027819e-10 2.00000000e-10 2.00000000e-10 2.00000000e-10\n",
      " 2.00000000e-10 2.00000007e-10]\n",
      "Q Function:  -7189215.459900713\n",
      "\n"
     ]
    },
    {
     "name": "stderr",
     "output_type": "stream",
     "text": [
      "100%|██████████████████████████████████████████████████████████████████████████████████████████████████████| 1/1 [01:28<00:00, 88.93s/it]\n"
     ]
    },
    {
     "name": "stdout",
     "output_type": "stream",
     "text": [
      "mstep self.weights:  [2.00000000e-10 9.99999998e-01 2.00000000e-10 2.00000000e-10\n",
      " 2.00027670e-10 2.00000000e-10 2.00000000e-10 2.00000000e-10\n",
      " 2.00000000e-10 2.00000007e-10]\n",
      "Q Function:  -7189215.459900708\n",
      "\n"
     ]
    },
    {
     "name": "stderr",
     "output_type": "stream",
     "text": [
      "100%|██████████████████████████████████████████████████████████████████████████████████████████████████████| 1/1 [01:29<00:00, 89.51s/it]\n"
     ]
    },
    {
     "name": "stdout",
     "output_type": "stream",
     "text": [
      "mstep self.weights:  [2.00000000e-10 9.99999998e-01 2.00000000e-10 2.00000000e-10\n",
      " 2.00027670e-10 2.00000000e-10 2.00000000e-10 2.00000000e-10\n",
      " 2.00000000e-10 2.00000007e-10]\n",
      "Q Function:  -7189215.459900708\n",
      "\n"
     ]
    },
    {
     "name": "stderr",
     "output_type": "stream",
     "text": [
      "100%|██████████████████████████████████████████████████████████████████████████████████████████████████████| 1/1 [01:35<00:00, 95.31s/it]\n"
     ]
    },
    {
     "name": "stdout",
     "output_type": "stream",
     "text": [
      "mstep self.weights:  [2.00000000e-10 9.99999998e-01 2.00000000e-10 2.00000000e-10\n",
      " 2.00027670e-10 2.00000000e-10 2.00000000e-10 2.00000000e-10\n",
      " 2.00000000e-10 2.00000007e-10]\n",
      "Q Function:  -7189215.459900708\n",
      "\n",
      "No. clus:  1\n",
      "ARI:  1.0\n"
     ]
    },
    {
     "ename": "ValueError",
     "evalue": "Length of values (3) does not match length of index (2)",
     "output_type": "error",
     "traceback": [
      "\u001b[0;31m---------------------------------------------------------------------------\u001b[0m",
      "\u001b[0;31mValueError\u001b[0m                                Traceback (most recent call last)",
      "\u001b[0;32m/tmp/ipykernel_2272094/2704085631.py\u001b[0m in \u001b[0;36m<module>\u001b[0;34m\u001b[0m\n\u001b[1;32m    105\u001b[0m \u001b[0;34m\u001b[0m\u001b[0m\n\u001b[1;32m    106\u001b[0m \u001b[0;34m\u001b[0m\u001b[0m\n\u001b[0;32m--> 107\u001b[0;31m \u001b[0mmeK_res\u001b[0m\u001b[0;34m[\u001b[0m\u001b[0;34m'Method'\u001b[0m\u001b[0;34m]\u001b[0m \u001b[0;34m=\u001b[0m \u001b[0mmeths\u001b[0m\u001b[0;34m\u001b[0m\u001b[0;34m\u001b[0m\u001b[0m\n\u001b[0m\u001b[1;32m    108\u001b[0m \u001b[0mmeK_res\u001b[0m\u001b[0;34m[\u001b[0m\u001b[0;34m'Clustering'\u001b[0m\u001b[0;34m]\u001b[0m \u001b[0;34m=\u001b[0m \u001b[0mresult\u001b[0m\u001b[0;34m\u001b[0m\u001b[0;34m\u001b[0m\u001b[0m\n\u001b[1;32m    109\u001b[0m \u001b[0mmeK_res\u001b[0m\u001b[0;34m[\u001b[0m\u001b[0;34m'Matrices'\u001b[0m\u001b[0;34m]\u001b[0m \u001b[0;34m=\u001b[0m \u001b[0mmats\u001b[0m\u001b[0;34m\u001b[0m\u001b[0;34m\u001b[0m\u001b[0m\n",
      "\u001b[0;32m~/miniconda3/envs/py37/lib/python3.7/site-packages/pandas/core/frame.py\u001b[0m in \u001b[0;36m__setitem__\u001b[0;34m(self, key, value)\u001b[0m\n\u001b[1;32m   3610\u001b[0m         \u001b[0;32melse\u001b[0m\u001b[0;34m:\u001b[0m\u001b[0;34m\u001b[0m\u001b[0;34m\u001b[0m\u001b[0m\n\u001b[1;32m   3611\u001b[0m             \u001b[0;31m# set column\u001b[0m\u001b[0;34m\u001b[0m\u001b[0;34m\u001b[0m\u001b[0;34m\u001b[0m\u001b[0m\n\u001b[0;32m-> 3612\u001b[0;31m             \u001b[0mself\u001b[0m\u001b[0;34m.\u001b[0m\u001b[0m_set_item\u001b[0m\u001b[0;34m(\u001b[0m\u001b[0mkey\u001b[0m\u001b[0;34m,\u001b[0m \u001b[0mvalue\u001b[0m\u001b[0;34m)\u001b[0m\u001b[0;34m\u001b[0m\u001b[0;34m\u001b[0m\u001b[0m\n\u001b[0m\u001b[1;32m   3613\u001b[0m \u001b[0;34m\u001b[0m\u001b[0m\n\u001b[1;32m   3614\u001b[0m     \u001b[0;32mdef\u001b[0m \u001b[0m_setitem_slice\u001b[0m\u001b[0;34m(\u001b[0m\u001b[0mself\u001b[0m\u001b[0;34m,\u001b[0m \u001b[0mkey\u001b[0m\u001b[0;34m:\u001b[0m \u001b[0mslice\u001b[0m\u001b[0;34m,\u001b[0m \u001b[0mvalue\u001b[0m\u001b[0;34m)\u001b[0m\u001b[0;34m:\u001b[0m\u001b[0;34m\u001b[0m\u001b[0;34m\u001b[0m\u001b[0m\n",
      "\u001b[0;32m~/miniconda3/envs/py37/lib/python3.7/site-packages/pandas/core/frame.py\u001b[0m in \u001b[0;36m_set_item\u001b[0;34m(self, key, value)\u001b[0m\n\u001b[1;32m   3782\u001b[0m         \u001b[0mensure\u001b[0m \u001b[0mhomogeneity\u001b[0m\u001b[0;34m.\u001b[0m\u001b[0;34m\u001b[0m\u001b[0;34m\u001b[0m\u001b[0m\n\u001b[1;32m   3783\u001b[0m         \"\"\"\n\u001b[0;32m-> 3784\u001b[0;31m         \u001b[0mvalue\u001b[0m \u001b[0;34m=\u001b[0m \u001b[0mself\u001b[0m\u001b[0;34m.\u001b[0m\u001b[0m_sanitize_column\u001b[0m\u001b[0;34m(\u001b[0m\u001b[0mvalue\u001b[0m\u001b[0;34m)\u001b[0m\u001b[0;34m\u001b[0m\u001b[0;34m\u001b[0m\u001b[0m\n\u001b[0m\u001b[1;32m   3785\u001b[0m \u001b[0;34m\u001b[0m\u001b[0m\n\u001b[1;32m   3786\u001b[0m         if (\n",
      "\u001b[0;32m~/miniconda3/envs/py37/lib/python3.7/site-packages/pandas/core/frame.py\u001b[0m in \u001b[0;36m_sanitize_column\u001b[0;34m(self, value)\u001b[0m\n\u001b[1;32m   4507\u001b[0m \u001b[0;34m\u001b[0m\u001b[0m\n\u001b[1;32m   4508\u001b[0m         \u001b[0;32mif\u001b[0m \u001b[0mis_list_like\u001b[0m\u001b[0;34m(\u001b[0m\u001b[0mvalue\u001b[0m\u001b[0;34m)\u001b[0m\u001b[0;34m:\u001b[0m\u001b[0;34m\u001b[0m\u001b[0;34m\u001b[0m\u001b[0m\n\u001b[0;32m-> 4509\u001b[0;31m             \u001b[0mcom\u001b[0m\u001b[0;34m.\u001b[0m\u001b[0mrequire_length_match\u001b[0m\u001b[0;34m(\u001b[0m\u001b[0mvalue\u001b[0m\u001b[0;34m,\u001b[0m \u001b[0mself\u001b[0m\u001b[0;34m.\u001b[0m\u001b[0mindex\u001b[0m\u001b[0;34m)\u001b[0m\u001b[0;34m\u001b[0m\u001b[0;34m\u001b[0m\u001b[0m\n\u001b[0m\u001b[1;32m   4510\u001b[0m         \u001b[0;32mreturn\u001b[0m \u001b[0msanitize_array\u001b[0m\u001b[0;34m(\u001b[0m\u001b[0mvalue\u001b[0m\u001b[0;34m,\u001b[0m \u001b[0mself\u001b[0m\u001b[0;34m.\u001b[0m\u001b[0mindex\u001b[0m\u001b[0;34m,\u001b[0m \u001b[0mcopy\u001b[0m\u001b[0;34m=\u001b[0m\u001b[0;32mTrue\u001b[0m\u001b[0;34m,\u001b[0m \u001b[0mallow_2d\u001b[0m\u001b[0;34m=\u001b[0m\u001b[0;32mTrue\u001b[0m\u001b[0;34m)\u001b[0m\u001b[0;34m\u001b[0m\u001b[0;34m\u001b[0m\u001b[0m\n\u001b[1;32m   4511\u001b[0m \u001b[0;34m\u001b[0m\u001b[0m\n",
      "\u001b[0;32m~/miniconda3/envs/py37/lib/python3.7/site-packages/pandas/core/common.py\u001b[0m in \u001b[0;36mrequire_length_match\u001b[0;34m(data, index)\u001b[0m\n\u001b[1;32m    530\u001b[0m     \u001b[0;32mif\u001b[0m \u001b[0mlen\u001b[0m\u001b[0;34m(\u001b[0m\u001b[0mdata\u001b[0m\u001b[0;34m)\u001b[0m \u001b[0;34m!=\u001b[0m \u001b[0mlen\u001b[0m\u001b[0;34m(\u001b[0m\u001b[0mindex\u001b[0m\u001b[0;34m)\u001b[0m\u001b[0;34m:\u001b[0m\u001b[0;34m\u001b[0m\u001b[0;34m\u001b[0m\u001b[0m\n\u001b[1;32m    531\u001b[0m         raise ValueError(\n\u001b[0;32m--> 532\u001b[0;31m             \u001b[0;34m\"Length of values \"\u001b[0m\u001b[0;34m\u001b[0m\u001b[0;34m\u001b[0m\u001b[0m\n\u001b[0m\u001b[1;32m    533\u001b[0m             \u001b[0;34mf\"({len(data)}) \"\u001b[0m\u001b[0;34m\u001b[0m\u001b[0;34m\u001b[0m\u001b[0m\n\u001b[1;32m    534\u001b[0m             \u001b[0;34m\"does not match length of index \"\u001b[0m\u001b[0;34m\u001b[0m\u001b[0;34m\u001b[0m\u001b[0m\n",
      "\u001b[0;31mValueError\u001b[0m: Length of values (3) does not match length of index (2)"
     ]
    }
   ],
   "source": [
    "for d in [sub_d_strings[0]]: #Forgot to run negctrl\n",
    "    \n",
    "    #Get tech param by keyword (datas) in loom paths\n",
    "    ind = [i in d for i in datas]\n",
    "    \n",
    "    #Inference params for sampling\n",
    "    tech_tup = samp\n",
    "    \n",
    "    #Preprocessing params for filepaths\n",
    "    trans = np.array(transcriptomes)[ind][0]\n",
    "\n",
    "    data_name = np.array(datas)[ind][0]\n",
    "    \n",
    "    \n",
    "    ds = lp.connect(d)\n",
    "    g_names = ds.ra[attribute_names[1]]\n",
    "    num_genes = len(g_names)\n",
    "    num_cells = len(ds.ca[attribute_names[2]])\n",
    "    \n",
    "    U = ds.layers['unspliced'][:,:].T\n",
    "    S = ds.layers['spliced'][:,:].T\n",
    "    true_labs = list(ds.ca['subclass_label'])\n",
    "    ds.close()\n",
    "\n",
    "    \n",
    "    print(data_name+' with '+str(num_genes)+' genes')\n",
    "    \n",
    "    \n",
    "    if 'negctrl' in d:\n",
    "        Ks = [10] #***FILL THIS IN from leiden *******\n",
    "    else:\n",
    "        Ks = [len(np.unique(true_labs))]\n",
    "        \n",
    "\n",
    "    for clus in Ks:\n",
    "       \n",
    "        #Run Monod preprocessing to set up files for run, leave room for genes to be removed with low U/S\n",
    "        dir_string,dataset_string = monod.preprocess.construct_batch([d], \\\n",
    "                                                     trans, \\\n",
    "                                                     [data_name], \\\n",
    "                                                     attribute_names=attribute_names,\\\n",
    "                                                     batch_location='./fits/meKruns_0306', \\\n",
    "                                                     meta=data_name+'_K'+str(clus), \\\n",
    "                                                     batch_id=1, \\\n",
    "                                                     n_genes=num_genes,exp_filter_threshold=None,\n",
    "                                                                     viz=False,genes_to_fit=g_names)\n",
    "                                                        #num_genes-60 or 100,genes_to_fit=markers\n",
    "        dir_strings += [dir_string]\n",
    "        data_strings += [dataset_string]\n",
    "\n",
    "        #Set model and run meK-Means\n",
    "        \n",
    "        #Define bounds for params\n",
    "        phys_lb = [-3.0, -3, -3 ] \n",
    "        phys_ub = [4.2, 2.5, 2.5] \n",
    "        samp_lb = tech_tup \n",
    "        samp_ub = tech_tup  \n",
    "        gridsize = [1,1] #Already have tech params\n",
    "    \n",
    "\n",
    "        epochs = 10\n",
    "\n",
    "        # ---------------- meK-Means Inference ---------------- \n",
    "        #Define model with bursty transcription and Poisson molecule capture/sampling\n",
    "        fitmodel = monod.cme_toolbox.CMEModel('Bursty','Poisson')\n",
    "\n",
    "        #Set up mminference parameters\n",
    "        inference_parameters = monod.mminference.InferenceParameters(phys_lb,phys_ub,samp_lb,samp_ub,gridsize,\\\n",
    "                    dataset_string[0],fitmodel,k=clus,epochs=epochs,use_lengths = True,\n",
    "                    gradient_params = {'max_iterations':5,'init_pattern':'moments','num_restarts':1})\n",
    "\n",
    "        #Read in loom file with filtered barcodes\n",
    "        search_data = monod.extract_data.extract_data(d, trans, data_name,\n",
    "                    dataset_string[0], dir_string, viz=False, dataset_attr_names=attribute_names)\n",
    "\n",
    "        #Run inference(fit_all_grid_points()) and Save result file strings\n",
    "        full_result_string = inference_parameters.fit_all_grid_points(40,search_data) \n",
    "\n",
    "        result_strings.append(full_result_string)\n",
    "        \n",
    "\n",
    "        # ----------------  Save output ---------------- \n",
    "        #Read in results and get cluster assignments\n",
    "        sr = [monod.analysis.load_search_results(i) for i in full_result_string]\n",
    "        \n",
    "        \n",
    "        cat_assigns = np.array([None]*num_cells) #cat_assigns is empty list of length = no. cell barcodes\n",
    "        for i in range(len(sr)):\n",
    "            r = sr[i]\n",
    "            cat_assigns[r.filt] = r.assigns #denotes which cluster (k), cells were assigned to\n",
    "\n",
    "        print('No. clus: ',len(np.unique(cat_assigns)))\n",
    "        \n",
    "\n",
    "        meths += ['meK-Means']\n",
    "        result += [cat_assigns]\n",
    "        mats += ['U,S']\n",
    "        hyper += [clus]\n",
    "        hvgs += [num_genes]\n",
    "        data += [data_name]\n",
    "        ari += [adjusted_rand_score(true_labs,cat_assigns)]\n",
    "        ami += [adjusted_mutual_info_score(true_labs,cat_assigns)]\n",
    "        \n",
    "        print('ARI: ',adjusted_rand_score(true_labs,cat_assigns))\n"
   ]
  },
  {
   "cell_type": "code",
   "execution_count": 252,
   "id": "0273a225",
   "metadata": {},
   "outputs": [],
   "source": [
    "meK_res = pd.DataFrame()\n",
    "\n",
    "meK_res['Method'] = meths\n",
    "meK_res['Clustering'] = result\n",
    "meK_res['Matrices'] = mats\n",
    "meK_res['Hyperparam'] = hyper\n",
    "meK_res['Genes'] = hvgs\n",
    "meK_res['Data'] = data\n",
    "meK_res['ARI'] = ari\n",
    "meK_res['AMI'] = ami"
   ]
  },
  {
   "cell_type": "code",
   "execution_count": 253,
   "id": "6a83cb01",
   "metadata": {},
   "outputs": [
    {
     "data": {
      "text/html": [
       "<div>\n",
       "<style scoped>\n",
       "    .dataframe tbody tr th:only-of-type {\n",
       "        vertical-align: middle;\n",
       "    }\n",
       "\n",
       "    .dataframe tbody tr th {\n",
       "        vertical-align: top;\n",
       "    }\n",
       "\n",
       "    .dataframe thead th {\n",
       "        text-align: right;\n",
       "    }\n",
       "</style>\n",
       "<table border=\"1\" class=\"dataframe\">\n",
       "  <thead>\n",
       "    <tr style=\"text-align: right;\">\n",
       "      <th></th>\n",
       "      <th>Method</th>\n",
       "      <th>Clustering</th>\n",
       "      <th>Matrices</th>\n",
       "      <th>Hyperparam</th>\n",
       "      <th>Genes</th>\n",
       "      <th>Data</th>\n",
       "      <th>ARI</th>\n",
       "      <th>AMI</th>\n",
       "    </tr>\n",
       "  </thead>\n",
       "  <tbody>\n",
       "    <tr>\n",
       "      <th>0</th>\n",
       "      <td>meK-Means</td>\n",
       "      <td>[7, 7, 7, 7, 7, 7, 7, 7, 7, 7, 7, 7, 7, 7, 7, ...</td>\n",
       "      <td>U,S</td>\n",
       "      <td>10</td>\n",
       "      <td>1100</td>\n",
       "      <td>b_beta_sim_k8</td>\n",
       "      <td>0.977105</td>\n",
       "      <td>0.957871</td>\n",
       "    </tr>\n",
       "    <tr>\n",
       "      <th>1</th>\n",
       "      <td>meK-Means</td>\n",
       "      <td>[0, 0, 0, 0, 0, 0, 0, 0, 0, 0, 0, 0, 0, 0, 0, ...</td>\n",
       "      <td>U,S</td>\n",
       "      <td>5</td>\n",
       "      <td>700</td>\n",
       "      <td>k_gamma_sim_k8</td>\n",
       "      <td>0.987584</td>\n",
       "      <td>0.972653</td>\n",
       "    </tr>\n",
       "    <tr>\n",
       "      <th>2</th>\n",
       "      <td>meK-Means</td>\n",
       "      <td>[1, 1, 1, 1, 1, 1, 1, 1, 1, 1, 1, 1, 1, 1, 1, ...</td>\n",
       "      <td>U,S</td>\n",
       "      <td>10</td>\n",
       "      <td>1100</td>\n",
       "      <td>negctrl_sim_k1</td>\n",
       "      <td>1.000000</td>\n",
       "      <td>1.000000</td>\n",
       "    </tr>\n",
       "  </tbody>\n",
       "</table>\n",
       "</div>"
      ],
      "text/plain": [
       "      Method                                         Clustering Matrices  \\\n",
       "0  meK-Means  [7, 7, 7, 7, 7, 7, 7, 7, 7, 7, 7, 7, 7, 7, 7, ...      U,S   \n",
       "1  meK-Means  [0, 0, 0, 0, 0, 0, 0, 0, 0, 0, 0, 0, 0, 0, 0, ...      U,S   \n",
       "2  meK-Means  [1, 1, 1, 1, 1, 1, 1, 1, 1, 1, 1, 1, 1, 1, 1, ...      U,S   \n",
       "\n",
       "   Hyperparam  Genes            Data       ARI       AMI  \n",
       "0          10   1100   b_beta_sim_k8  0.977105  0.957871  \n",
       "1           5    700  k_gamma_sim_k8  0.987584  0.972653  \n",
       "2          10   1100  negctrl_sim_k1  1.000000  1.000000  "
      ]
     },
     "execution_count": 253,
     "metadata": {},
     "output_type": "execute_result"
    }
   ],
   "source": [
    "meK_res"
   ]
  },
  {
   "cell_type": "code",
   "execution_count": 254,
   "id": "32c9bfe7",
   "metadata": {},
   "outputs": [],
   "source": [
    "meK_res.to_pickle('./fits/meKruns_0306/meK_sim_results.pkl') #0301\n",
    "#unpickled_df = pd.read_pickle(\"./meK_res.pkl\")"
   ]
  },
  {
   "cell_type": "code",
   "execution_count": null,
   "id": "d4a3d632",
   "metadata": {},
   "outputs": [],
   "source": []
  },
  {
   "cell_type": "code",
   "execution_count": null,
   "id": "da9f8f96",
   "metadata": {},
   "outputs": [],
   "source": []
  }
 ],
 "metadata": {
  "kernelspec": {
   "display_name": "Python 3 (ipykernel)",
   "language": "python",
   "name": "python3"
  },
  "language_info": {
   "codemirror_mode": {
    "name": "ipython",
    "version": 3
   },
   "file_extension": ".py",
   "mimetype": "text/x-python",
   "name": "python",
   "nbconvert_exporter": "python",
   "pygments_lexer": "ipython3",
   "version": "3.7.11"
  }
 },
 "nbformat": 4,
 "nbformat_minor": 5
}
