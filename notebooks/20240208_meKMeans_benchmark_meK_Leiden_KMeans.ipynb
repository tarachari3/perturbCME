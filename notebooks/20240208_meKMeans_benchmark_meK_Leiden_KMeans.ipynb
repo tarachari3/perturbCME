{
 "cells": [
  {
   "cell_type": "code",
   "execution_count": 12,
   "id": "1e47a23f",
   "metadata": {},
   "outputs": [],
   "source": [
    "import h5py\n",
    "import scanpy as sc\n",
    "import anndata\n",
    "import loompy as lp\n",
    "\n",
    "import numpy as np\n",
    "import pandas as pd\n",
    "import matplotlib.pyplot as plt\n",
    "\n",
    "import sys\n",
    "import glob\n",
    "import importlib"
   ]
  },
  {
   "cell_type": "code",
   "execution_count": 13,
   "id": "344936d6",
   "metadata": {},
   "outputs": [],
   "source": [
    "import sys\n",
    "sys.path.insert(0, '/home/tchari/monod/src/')"
   ]
  },
  {
   "cell_type": "code",
   "execution_count": 14,
   "id": "68593686",
   "metadata": {},
   "outputs": [],
   "source": [
    "import monod\n",
    "importlib.reload(monod)\n",
    "from monod import preprocess, extract_data, cme_toolbox, analysis, mminference"
   ]
  },
  {
   "cell_type": "code",
   "execution_count": 15,
   "id": "1b273e73",
   "metadata": {},
   "outputs": [],
   "source": [
    "from sklearn.metrics import adjusted_rand_score, adjusted_mutual_info_score\n",
    "from sklearn.cluster import KMeans\n",
    "from sklearn.neighbors import kneighbors_graph\n",
    "\n",
    "import igraph as ig\n",
    "import leidenalg as la"
   ]
  },
  {
   "cell_type": "code",
   "execution_count": 16,
   "id": "45f51788",
   "metadata": {},
   "outputs": [
    {
     "data": {
      "text/html": [
       "<div>\n",
       "<style scoped>\n",
       "    .dataframe tbody tr th:only-of-type {\n",
       "        vertical-align: middle;\n",
       "    }\n",
       "\n",
       "    .dataframe tbody tr th {\n",
       "        vertical-align: top;\n",
       "    }\n",
       "\n",
       "    .dataframe thead th {\n",
       "        text-align: right;\n",
       "    }\n",
       "</style>\n",
       "<table border=\"1\" class=\"dataframe\">\n",
       "  <thead>\n",
       "    <tr style=\"text-align: right;\">\n",
       "      <th></th>\n",
       "      <th>Dataset</th>\n",
       "      <th>Transcrip</th>\n",
       "      <th>Clusters</th>\n",
       "      <th>Cu</th>\n",
       "      <th>Lam</th>\n",
       "    </tr>\n",
       "  </thead>\n",
       "  <tbody>\n",
       "    <tr>\n",
       "      <th>0</th>\n",
       "      <td>allen_b08</td>\n",
       "      <td>/home/tchari/perturbCME/notebooks/gg_200524_mo...</td>\n",
       "      <td>10</td>\n",
       "      <td>-6.777778</td>\n",
       "      <td>-1.25</td>\n",
       "    </tr>\n",
       "    <tr>\n",
       "      <th>1</th>\n",
       "      <td>allen_b02h01</td>\n",
       "      <td>/home/tchari/perturbCME/notebooks/gg_200524_mo...</td>\n",
       "      <td>11</td>\n",
       "      <td>-6.777778</td>\n",
       "      <td>-1.25</td>\n",
       "    </tr>\n",
       "    <tr>\n",
       "      <th>2</th>\n",
       "      <td>cl3</td>\n",
       "      <td>/home/tchari/perturbCME/notebooks/gg_200525_ge...</td>\n",
       "      <td>3</td>\n",
       "      <td>-6.777778</td>\n",
       "      <td>-1.25</td>\n",
       "    </tr>\n",
       "    <tr>\n",
       "      <th>3</th>\n",
       "      <td>cl5</td>\n",
       "      <td>/home/tchari/perturbCME/notebooks/gg_200525_ge...</td>\n",
       "      <td>5</td>\n",
       "      <td>-6.777778</td>\n",
       "      <td>-0.70</td>\n",
       "    </tr>\n",
       "    <tr>\n",
       "      <th>4</th>\n",
       "      <td>brca1</td>\n",
       "      <td>/home/tchari/perturbCME/notebooks/gg_200524_mo...</td>\n",
       "      <td>-1</td>\n",
       "      <td>-6.777778</td>\n",
       "      <td>-0.70</td>\n",
       "    </tr>\n",
       "  </tbody>\n",
       "</table>\n",
       "</div>"
      ],
      "text/plain": [
       "        Dataset                                          Transcrip  Clusters  \\\n",
       "0     allen_b08  /home/tchari/perturbCME/notebooks/gg_200524_mo...        10   \n",
       "1  allen_b02h01  /home/tchari/perturbCME/notebooks/gg_200524_mo...        11   \n",
       "2           cl3  /home/tchari/perturbCME/notebooks/gg_200525_ge...         3   \n",
       "3           cl5  /home/tchari/perturbCME/notebooks/gg_200525_ge...         5   \n",
       "4         brca1  /home/tchari/perturbCME/notebooks/gg_200524_mo...        -1   \n",
       "\n",
       "         Cu   Lam  \n",
       "0 -6.777778 -1.25  \n",
       "1 -6.777778 -1.25  \n",
       "2 -6.777778 -1.25  \n",
       "3 -6.777778 -0.70  \n",
       "4 -6.777778 -0.70  "
      ]
     },
     "execution_count": 16,
     "metadata": {},
     "output_type": "execute_result"
    }
   ],
   "source": [
    "# ********* Get meK_looms.tar.gz and meKMeans_data_samp_params.csv *********\n",
    "\n",
    "samps = pd.read_csv('meKMeans_data_samp_params.csv')\n",
    "samps.head()"
   ]
  },
  {
   "cell_type": "code",
   "execution_count": 17,
   "id": "e2384a26",
   "metadata": {},
   "outputs": [
    {
     "data": {
      "text/plain": [
       "['./hvg_objs/allen_b08_300hvgs.loom',\n",
       " './hvg_objs/cl5_2000hvgs.loom',\n",
       " './hvg_objs/allen_b02h01_300hvgs.loom',\n",
       " './hvg_objs/cl5_300hvgs.loom',\n",
       " './hvg_objs/allen_b08_2000hvgs.loom',\n",
       " './hvg_objs/allen_b02h01_1000hvgs.loom',\n",
       " './hvg_objs/allen_b08_4000hvgs.loom',\n",
       " './hvg_objs/cl3_1000hvgs.loom',\n",
       " './hvg_objs/allen_b08_1000hvgs.loom',\n",
       " './hvg_objs/cl3_2000hvgs.loom',\n",
       " './hvg_objs/cl5_1000hvgs.loom',\n",
       " './hvg_objs/cl5_4000hvgs.loom',\n",
       " './hvg_objs/allen_b02h01_4000hvgs.loom',\n",
       " './hvg_objs/cl3_4000hvgs.loom',\n",
       " './hvg_objs/allen_b02h01_2000hvgs.loom',\n",
       " './hvg_objs/cl3_300hvgs.loom']"
      ]
     },
     "execution_count": 17,
     "metadata": {},
     "output_type": "execute_result"
    }
   ],
   "source": [
    "d_strings  = glob.glob('./hvg_objs/*.loom')\n",
    "d_strings "
   ]
  },
  {
   "cell_type": "code",
   "execution_count": 18,
   "id": "40ac6337",
   "metadata": {},
   "outputs": [
    {
     "data": {
      "text/plain": [
       "array(['allen_b08', 'allen_b02h01', 'cl3', 'cl5', 'brca1', 'pbmc',\n",
       "       'e11e13'], dtype=object)"
      ]
     },
     "execution_count": 18,
     "metadata": {},
     "output_type": "execute_result"
    }
   ],
   "source": [
    "datas = pd.unique(samps.Dataset)\n",
    "datas"
   ]
  },
  {
   "cell_type": "code",
   "execution_count": 19,
   "id": "1d9d450e",
   "metadata": {},
   "outputs": [],
   "source": [
    "attribute_names =[('unspliced','spliced'),'gene_name','barcode']"
   ]
  },
  {
   "cell_type": "markdown",
   "id": "2b4beecd",
   "metadata": {},
   "source": [
    "### **meK-Means**\n",
    "\n",
    "Test with 2, correct K, K+5, K+10"
   ]
  },
  {
   "cell_type": "code",
   "execution_count": 24,
   "id": "25bfba62",
   "metadata": {},
   "outputs": [],
   "source": [
    "# !rm -r /home/tchari/perturbCME/notebooks/fits/meKruns_0209"
   ]
  },
  {
   "cell_type": "code",
   "execution_count": 36,
   "id": "b58574a0",
   "metadata": {},
   "outputs": [
    {
     "name": "stdout",
     "output_type": "stream",
     "text": [
      "mkdir: cannot create directory ‘/home/tchari/perturbCME/notebooks/fits/meKruns_0209’: File exists\n",
      "allen_b08 with 299 HVGs\n",
      "WARNING:root:Selecting 100 genes required 100.0% dataset threshold.\n"
     ]
    },
    {
     "name": "stderr",
     "output_type": "stream",
     "text": [
      "100%|████████████████████████████████████████████████████████████████████████████████████████████████████| 10/10 [00:10<00:00,  1.03s/it]\n",
      "100%|████████████████████████████████████████████████████████████████████████████████████████████████████| 10/10 [00:07<00:00,  1.25it/s]\n"
     ]
    },
    {
     "name": "stdout",
     "output_type": "stream",
     "text": [
      "mstep self.weights:  [0.21751044 0.03273711 0.04588703 0.12264906 0.01062673 0.16432159\n",
      " 0.07502246 0.08136717 0.19834032 0.05153811]\n",
      "Q Function:  -919121.5686170778\n",
      "\n"
     ]
    },
    {
     "name": "stderr",
     "output_type": "stream",
     "text": [
      "100%|██████████████████████████████████████████████████████████████████████████████████████████████████████| 9/9 [00:07<00:00,  1.22it/s]\n"
     ]
    },
    {
     "name": "stdout",
     "output_type": "stream",
     "text": [
      "mstep self.weights:  [2.43639871e-01 8.43254838e-02 4.45307327e-02 1.07319418e-01\n",
      " 1.76440338e-10 4.66575555e-02 7.13684317e-02 1.06535850e-01\n",
      " 2.41612046e-01 5.40106103e-02]\n",
      "Q Function:  -856697.6632118325\n",
      "\n"
     ]
    },
    {
     "name": "stderr",
     "output_type": "stream",
     "text": [
      "100%|██████████████████████████████████████████████████████████████████████████████████████████████████████| 9/9 [00:07<00:00,  1.14it/s]\n"
     ]
    },
    {
     "name": "stdout",
     "output_type": "stream",
     "text": [
      "mstep self.weights:  [2.34843141e-01 1.15529137e-01 5.61478841e-04 9.85592096e-02\n",
      " 1.75654312e-10 4.76868320e-02 7.05074591e-02 1.10722120e-01\n",
      " 2.66518786e-01 5.50718369e-02]\n",
      "Q Function:  -840456.2121425555\n",
      "\n"
     ]
    },
    {
     "name": "stderr",
     "output_type": "stream",
     "text": [
      "100%|██████████████████████████████████████████████████████████████████████████████████████████████████████| 8/8 [00:07<00:00,  1.14it/s]\n"
     ]
    },
    {
     "name": "stdout",
     "output_type": "stream",
     "text": [
      "mstep self.weights:  [2.95934189e-01 8.59192295e-02 1.75654312e-10 1.00680068e-01\n",
      " 1.75654312e-10 7.34969910e-02 7.07185653e-02 4.91928203e-02\n",
      " 2.68960089e-01 5.50980478e-02]\n",
      "Q Function:  -853355.8818632402\n",
      "\n"
     ]
    },
    {
     "name": "stderr",
     "output_type": "stream",
     "text": [
      "100%|██████████████████████████████████████████████████████████████████████████████████████████████████████| 8/8 [00:06<00:00,  1.15it/s]\n"
     ]
    },
    {
     "name": "stdout",
     "output_type": "stream",
     "text": [
      "mstep self.weights:  [2.77830514e-01 6.85138557e-02 1.75654312e-10 9.71848556e-02\n",
      " 1.75654312e-10 8.79049211e-02 7.05122948e-02 7.40913527e-02\n",
      " 2.68873365e-01 5.50888405e-02]\n",
      "Q Function:  -846667.7264008768\n",
      "\n"
     ]
    },
    {
     "name": "stderr",
     "output_type": "stream",
     "text": [
      "100%|██████████████████████████████████████████████████████████████████████████████████████████████████████| 8/8 [00:06<00:00,  1.15it/s]\n"
     ]
    },
    {
     "name": "stdout",
     "output_type": "stream",
     "text": [
      "mstep self.weights:  [2.85862299e-01 8.47215917e-02 1.75654312e-10 9.67657605e-02\n",
      " 1.75654312e-10 3.15876860e-02 7.04896331e-02 9.62044097e-02\n",
      " 2.79258136e-01 5.51104837e-02]\n",
      "Q Function:  -852846.0903047221\n",
      "\n"
     ]
    },
    {
     "name": "stderr",
     "output_type": "stream",
     "text": [
      "100%|██████████████████████████████████████████████████████████████████████████████████████████████████████| 8/8 [00:07<00:00,  1.14it/s]\n"
     ]
    },
    {
     "name": "stdout",
     "output_type": "stream",
     "text": [
      "mstep self.weights:  [3.10703912e-01 7.65688879e-02 1.75654312e-10 9.70646770e-02\n",
      " 1.75654312e-10 4.88669595e-02 7.04831247e-02 6.93308737e-02\n",
      " 2.71871176e-01 5.51103887e-02]\n",
      "Q Function:  -851668.1073856235\n",
      "\n"
     ]
    },
    {
     "name": "stderr",
     "output_type": "stream",
     "text": [
      "100%|██████████████████████████████████████████████████████████████████████████████████████████████████████| 8/8 [00:08<00:00,  1.11s/it]\n"
     ]
    },
    {
     "name": "stdout",
     "output_type": "stream",
     "text": [
      "mstep self.weights:  [3.18964661e-01 7.70999442e-02 1.75654312e-10 9.68266891e-02\n",
      " 1.75654312e-10 4.74005627e-02 7.04830485e-02 6.04252322e-02\n",
      " 2.73689635e-01 5.51102274e-02]\n",
      "Q Function:  -853053.3269224815\n",
      "\n"
     ]
    },
    {
     "name": "stderr",
     "output_type": "stream",
     "text": [
      "100%|██████████████████████████████████████████████████████████████████████████████████████████████████████| 8/8 [00:07<00:00,  1.13it/s]\n"
     ]
    },
    {
     "name": "stdout",
     "output_type": "stream",
     "text": [
      "mstep self.weights:  [2.93246510e-01 6.13213647e-02 1.75654312e-10 9.58076983e-02\n",
      " 1.75654312e-10 7.37786061e-02 7.04836631e-02 8.08284328e-02\n",
      " 2.69423470e-01 5.51102548e-02]\n",
      "Q Function:  -846127.7249108956\n",
      "\n"
     ]
    },
    {
     "name": "stderr",
     "output_type": "stream",
     "text": [
      "100%|██████████████████████████████████████████████████████████████████████████████████████████████████████| 8/8 [00:07<00:00,  1.14it/s]\n"
     ]
    },
    {
     "name": "stdout",
     "output_type": "stream",
     "text": [
      "mstep self.weights:  [3.31930849e-01 6.01622186e-02 1.75654312e-10 9.68008470e-02\n",
      " 1.75654312e-10 7.54239060e-02 7.04828480e-02 3.94434225e-02\n",
      " 2.70645643e-01 5.51102651e-02]\n",
      "Q Function:  -854307.4090790147\n",
      "\n",
      "No. clus:  8\n",
      "WARNING:root:Selecting 100 genes required 100.0% dataset threshold.\n"
     ]
    },
    {
     "name": "stderr",
     "output_type": "stream",
     "text": [
      "100%|████████████████████████████████████████████████████████████████████████████████████████████████████| 15/15 [00:10<00:00,  1.47it/s]\n",
      "100%|████████████████████████████████████████████████████████████████████████████████████████████████████| 15/15 [00:07<00:00,  2.10it/s]\n"
     ]
    },
    {
     "name": "stdout",
     "output_type": "stream",
     "text": [
      "mstep self.weights:  [0.08090389 0.07429533 0.00710161 0.02757074 0.06751    0.00347206\n",
      " 0.06846269 0.05511448 0.10783183 0.02979542 0.08319974 0.16356213\n",
      " 0.04547403 0.17227661 0.01342943]\n",
      "Q Function:  -931610.3103247433\n",
      "\n"
     ]
    },
    {
     "name": "stderr",
     "output_type": "stream",
     "text": [
      "100%|████████████████████████████████████████████████████████████████████████████████████████████████████| 12/12 [00:07<00:00,  1.70it/s]\n"
     ]
    },
    {
     "name": "stdout",
     "output_type": "stream",
     "text": [
      "mstep self.weights:  [8.87614685e-02 3.01720351e-02 1.75654312e-10 1.95972796e-02\n",
      " 3.53621673e-06 1.75654312e-10 5.82252983e-02 2.67795777e-02\n",
      " 1.12135340e-01 2.74421985e-02 6.89600740e-02 2.85587244e-01\n",
      " 3.08972564e-02 2.31674503e-01 1.97641885e-02]\n",
      "Q Function:  -847222.8615549828\n",
      "\n"
     ]
    },
    {
     "name": "stderr",
     "output_type": "stream",
     "text": [
      "100%|████████████████████████████████████████████████████████████████████████████████████████████████████| 11/11 [00:06<00:00,  1.60it/s]\n"
     ]
    },
    {
     "name": "stdout",
     "output_type": "stream",
     "text": [
      "mstep self.weights:  [7.57148437e-02 1.76177908e-09 1.75654312e-10 2.66188550e-02\n",
      " 2.26852908e-10 1.75654312e-10 6.10024426e-02 3.11079785e-02\n",
      " 1.12971292e-01 2.41724941e-02 6.99040215e-02 2.76379296e-01\n",
      " 4.48410258e-02 2.63483816e-01 1.38039335e-02]\n",
      "Q Function:  -848059.9645825695\n",
      "\n"
     ]
    },
    {
     "name": "stderr",
     "output_type": "stream",
     "text": [
      "100%|████████████████████████████████████████████████████████████████████████████████████████████████████| 11/11 [00:06<00:00,  1.68it/s]\n"
     ]
    },
    {
     "name": "stdout",
     "output_type": "stream",
     "text": [
      "mstep self.weights:  [3.09295625e-02 1.75654326e-10 1.75654312e-10 4.02759435e-02\n",
      " 1.75654529e-10 1.75654312e-10 5.97318598e-02 2.42281586e-02\n",
      " 1.13908803e-01 1.24536091e-02 8.02020696e-02 2.98509215e-01\n",
      " 5.42150070e-02 2.72055895e-01 1.34898756e-02]\n",
      "Q Function:  -844188.4966363494\n",
      "\n"
     ]
    },
    {
     "name": "stderr",
     "output_type": "stream",
     "text": [
      "100%|████████████████████████████████████████████████████████████████████████████████████████████████████| 11/11 [00:07<00:00,  1.48it/s]\n"
     ]
    },
    {
     "name": "stdout",
     "output_type": "stream",
     "text": [
      "mstep self.weights:  [9.17117477e-03 1.75654313e-10 1.75654312e-10 4.25351664e-02\n",
      " 1.75668883e-10 1.75654312e-10 5.64432565e-02 1.59125831e-02\n",
      " 1.17365437e-01 1.09851159e-02 8.93985436e-02 3.06242894e-01\n",
      " 5.95687381e-02 2.76356903e-01 1.60201879e-02]\n",
      "Q Function:  -841222.7232840478\n",
      "\n"
     ]
    },
    {
     "name": "stderr",
     "output_type": "stream",
     "text": [
      "100%|████████████████████████████████████████████████████████████████████████████████████████████████████| 11/11 [00:07<00:00,  1.56it/s]\n"
     ]
    },
    {
     "name": "stdout",
     "output_type": "stream",
     "text": [
      "mstep self.weights:  [3.63462737e-03 1.75654313e-10 1.75654312e-10 4.08563144e-02\n",
      " 1.75654667e-10 1.75654312e-10 5.59782145e-02 3.29998582e-03\n",
      " 1.19120127e-01 1.29603974e-02 9.56545878e-02 3.18853476e-01\n",
      " 5.77622757e-02 2.75657716e-01 1.62222772e-02]\n",
      "Q Function:  -839936.2829999598\n",
      "\n"
     ]
    },
    {
     "name": "stderr",
     "output_type": "stream",
     "text": [
      "100%|████████████████████████████████████████████████████████████████████████████████████████████████████| 10/10 [00:06<00:00,  1.48it/s]\n"
     ]
    },
    {
     "name": "stdout",
     "output_type": "stream",
     "text": [
      "mstep self.weights:  [1.93213424e-03 1.75654313e-10 1.75654312e-10 4.02217616e-02\n",
      " 1.75654379e-10 1.75654312e-10 5.56730647e-02 7.13057002e-05\n",
      " 1.18289614e-01 1.34512591e-02 1.05107944e-01 3.25624630e-01\n",
      " 5.18431133e-02 2.71492810e-01 1.62923620e-02]\n",
      "Q Function:  -839177.4548067558\n",
      "\n"
     ]
    },
    {
     "name": "stderr",
     "output_type": "stream",
     "text": [
      "100%|████████████████████████████████████████████████████████████████████████████████████████████████████| 10/10 [00:06<00:00,  1.51it/s]\n"
     ]
    },
    {
     "name": "stdout",
     "output_type": "stream",
     "text": [
      "mstep self.weights:  [1.39154736e-03 1.75654313e-10 1.75654312e-10 3.97492947e-02\n",
      " 1.75655576e-10 1.75654312e-10 5.62008883e-02 1.01356540e-06\n",
      " 1.25057811e-01 1.38096214e-02 1.22535378e-01 3.06405126e-01\n",
      " 5.34651840e-02 2.64989393e-01 1.63947414e-02]\n",
      "Q Function:  -846511.6679325285\n",
      "\n"
     ]
    },
    {
     "name": "stderr",
     "output_type": "stream",
     "text": [
      "100%|████████████████████████████████████████████████████████████████████████████████████████████████████| 10/10 [00:06<00:00,  1.56it/s]\n"
     ]
    },
    {
     "name": "stdout",
     "output_type": "stream",
     "text": [
      "mstep self.weights:  [1.22963714e-03 1.75654313e-10 1.75654312e-10 3.95062099e-02\n",
      " 1.75654384e-10 1.75654312e-10 5.65167437e-02 6.56973689e-10\n",
      " 1.21051561e-01 1.38850605e-02 1.26477119e-01 3.14133894e-01\n",
      " 4.70767540e-02 2.63724960e-01 1.63980598e-02]\n",
      "Q Function:  -837938.049900955\n",
      "\n"
     ]
    },
    {
     "name": "stderr",
     "output_type": "stream",
     "text": [
      "100%|████████████████████████████████████████████████████████████████████████████████████████████████████| 10/10 [00:06<00:00,  1.57it/s]\n"
     ]
    },
    {
     "name": "stdout",
     "output_type": "stream",
     "text": [
      "mstep self.weights:  [1.22957928e-03 1.75654314e-10 1.75654312e-10 3.93419143e-02\n",
      " 1.75654397e-10 1.75654312e-10 5.66881661e-02 1.75956313e-10\n",
      " 1.20002072e-01 1.39210737e-02 1.28511877e-01 3.17708657e-01\n",
      " 4.25835917e-02 2.63655889e-01 1.63571775e-02]\n",
      "Q Function:  -838470.6221248794\n",
      "\n",
      "No. clus:  10\n",
      "cl5 with 2000 HVGs\n",
      "WARNING:root:Selecting 100 genes required 100.0% dataset threshold.\n"
     ]
    },
    {
     "name": "stderr",
     "output_type": "stream",
     "text": [
      "/home/tchari/monod/src/monod/mminference.py:512: RuntimeWarning: divide by zero encountered in true_divide\n",
      "  divids = (1e4/tots)[:,None]\n",
      "/home/tchari/monod/src/monod/mminference.py:513: RuntimeWarning: invalid value encountered in multiply\n",
      "  S_t = S_t*divids\n",
      "100%|██████████████████████████████████████████████████████████████████████████████████████████████████████| 5/5 [00:03<00:00,  1.38it/s]\n",
      "100%|██████████████████████████████████████████████████████████████████████████████████████████████████████| 5/5 [00:02<00:00,  1.87it/s]\n"
     ]
    },
    {
     "name": "stdout",
     "output_type": "stream",
     "text": [
      "mstep self.weights:  [0.21310492 0.23946719 0.25872191 0.27058292 0.01812305]\n",
      "Q Function:  -673247.1909180668\n",
      "\n"
     ]
    },
    {
     "name": "stderr",
     "output_type": "stream",
     "text": [
      "100%|██████████████████████████████████████████████████████████████████████████████████████████████████████| 5/5 [00:03<00:00,  1.47it/s]\n"
     ]
    },
    {
     "name": "stdout",
     "output_type": "stream",
     "text": [
      "mstep self.weights:  [0.18484718 0.26868587 0.19671053 0.33148723 0.0182692 ]\n",
      "Q Function:  -675175.303668469\n",
      "\n"
     ]
    },
    {
     "name": "stderr",
     "output_type": "stream",
     "text": [
      "100%|██████████████████████████████████████████████████████████████████████████████████████████████████████| 5/5 [00:02<00:00,  1.78it/s]\n"
     ]
    },
    {
     "name": "stdout",
     "output_type": "stream",
     "text": [
      "mstep self.weights:  [0.17176432 0.32578148 0.13739234 0.35218511 0.01287675]\n",
      "Q Function:  -679076.7268082435\n",
      "\n"
     ]
    },
    {
     "name": "stderr",
     "output_type": "stream",
     "text": [
      "100%|██████████████████████████████████████████████████████████████████████████████████████████████████████| 5/5 [00:03<00:00,  1.62it/s]\n"
     ]
    },
    {
     "name": "stdout",
     "output_type": "stream",
     "text": [
      "mstep self.weights:  [0.16320484 0.29234485 0.18754362 0.35141708 0.0054896 ]\n",
      "Q Function:  -654148.6220314509\n",
      "\n"
     ]
    },
    {
     "name": "stderr",
     "output_type": "stream",
     "text": [
      "100%|██████████████████████████████████████████████████████████████████████████████████████████████████████| 5/5 [00:03<00:00,  1.62it/s]\n"
     ]
    },
    {
     "name": "stdout",
     "output_type": "stream",
     "text": [
      "mstep self.weights:  [0.16633628 0.27109803 0.20570333 0.35417073 0.00269162]\n",
      "Q Function:  -647525.5272327586\n",
      "\n"
     ]
    },
    {
     "name": "stderr",
     "output_type": "stream",
     "text": [
      "100%|██████████████████████████████████████████████████████████████████████████████████████████████████████| 4/4 [00:02<00:00,  1.49it/s]\n"
     ]
    },
    {
     "name": "stdout",
     "output_type": "stream",
     "text": [
      "mstep self.weights:  [1.63701245e-01 2.88183802e-01 1.79858969e-01 3.68215965e-01\n",
      " 4.00198726e-05]\n",
      "Q Function:  -671245.7450105598\n",
      "\n"
     ]
    },
    {
     "name": "stderr",
     "output_type": "stream",
     "text": [
      "100%|██████████████████████████████████████████████████████████████████████████████████████████████████████| 4/4 [00:03<00:00,  1.17it/s]\n"
     ]
    },
    {
     "name": "stdout",
     "output_type": "stream",
     "text": [
      "mstep self.weights:  [1.63655615e-01 3.61666344e-01 9.29157260e-02 3.81762260e-01\n",
      " 5.53349352e-08]\n",
      "Q Function:  -672719.036225416\n",
      "\n"
     ]
    },
    {
     "name": "stderr",
     "output_type": "stream",
     "text": [
      "100%|██████████████████████████████████████████████████████████████████████████████████████████████████████| 4/4 [00:03<00:00,  1.24it/s]\n"
     ]
    },
    {
     "name": "stdout",
     "output_type": "stream",
     "text": [
      "mstep self.weights:  [1.64300032e-01 3.12216313e-01 1.76889375e-01 3.46594280e-01\n",
      " 2.02142713e-10]\n",
      "Q Function:  -651700.7331010319\n",
      "\n"
     ]
    },
    {
     "name": "stderr",
     "output_type": "stream",
     "text": [
      "100%|██████████████████████████████████████████████████████████████████████████████████████████████████████| 4/4 [00:03<00:00,  1.32it/s]\n"
     ]
    },
    {
     "name": "stdout",
     "output_type": "stream",
     "text": [
      "mstep self.weights:  [1.61863797e-01 2.93888865e-01 1.95709709e-01 3.48537629e-01\n",
      " 2.07375201e-10]\n",
      "Q Function:  -655198.1696836338\n",
      "\n"
     ]
    },
    {
     "name": "stderr",
     "output_type": "stream",
     "text": [
      "100%|██████████████████████████████████████████████████████████████████████████████████████████████████████| 4/4 [00:03<00:00,  1.22it/s]\n"
     ]
    },
    {
     "name": "stdout",
     "output_type": "stream",
     "text": [
      "mstep self.weights:  [1.64889578e-01 3.37628970e-01 1.45795163e-01 3.51686289e-01\n",
      " 2.03228286e-10]\n",
      "Q Function:  -672138.2109952759\n",
      "\n",
      "No. clus:  4\n",
      "WARNING:root:Selecting 100 genes required 100.0% dataset threshold.\n"
     ]
    },
    {
     "name": "stderr",
     "output_type": "stream",
     "text": [
      "/home/tchari/monod/src/monod/mminference.py:512: RuntimeWarning: divide by zero encountered in true_divide\n",
      "  divids = (1e4/tots)[:,None]\n",
      "/home/tchari/monod/src/monod/mminference.py:513: RuntimeWarning: invalid value encountered in multiply\n",
      "  S_t = S_t*divids\n",
      "100%|████████████████████████████████████████████████████████████████████████████████████████████████████| 10/10 [00:03<00:00,  3.09it/s]\n",
      "100%|████████████████████████████████████████████████████████████████████████████████████████████████████| 10/10 [00:03<00:00,  2.98it/s]\n"
     ]
    },
    {
     "name": "stdout",
     "output_type": "stream",
     "text": [
      "mstep self.weights:  [0.12937094 0.08883513 0.12558307 0.05885914 0.20900502 0.12107231\n",
      " 0.13525938 0.05368815 0.05437004 0.02395681]\n",
      "Q Function:  -679441.9625435034\n",
      "\n"
     ]
    },
    {
     "name": "stderr",
     "output_type": "stream",
     "text": [
      "100%|████████████████████████████████████████████████████████████████████████████████████████████████████| 10/10 [00:03<00:00,  2.88it/s]\n"
     ]
    },
    {
     "name": "stdout",
     "output_type": "stream",
     "text": [
      "mstep self.weights:  [0.14806295 0.00804191 0.15509855 0.00701341 0.18833363 0.16267127\n",
      " 0.19302664 0.00022396 0.13322378 0.00430388]\n",
      "Q Function:  -646722.9858539358\n",
      "\n"
     ]
    },
    {
     "name": "stderr",
     "output_type": "stream",
     "text": [
      "100%|██████████████████████████████████████████████████████████████████████████████████████████████████████| 9/9 [00:03<00:00,  2.69it/s]\n"
     ]
    },
    {
     "name": "stdout",
     "output_type": "stream",
     "text": [
      "mstep self.weights:  [1.43655896e-01 3.76966639e-04 1.63260628e-01 7.17356432e-03\n",
      " 1.69842408e-01 1.53489637e-01 1.93665204e-01 2.02142712e-10\n",
      " 1.64579440e-01 3.95625620e-03]\n",
      "Q Function:  -659026.4109560116\n",
      "\n"
     ]
    },
    {
     "name": "stderr",
     "output_type": "stream",
     "text": [
      "100%|██████████████████████████████████████████████████████████████████████████████████████████████████████| 8/8 [00:03<00:00,  2.61it/s]\n"
     ]
    },
    {
     "name": "stdout",
     "output_type": "stream",
     "text": [
      "mstep self.weights:  [1.39807191e-01 2.35351194e-10 1.71058636e-01 1.89704539e-03\n",
      " 1.60984340e-01 1.54610096e-01 2.14864680e-02 2.02142712e-10\n",
      " 3.47551369e-01 2.60485372e-03]\n",
      "Q Function:  -650981.5896351805\n",
      "\n"
     ]
    },
    {
     "name": "stderr",
     "output_type": "stream",
     "text": [
      "100%|██████████████████████████████████████████████████████████████████████████████████████████████████████| 8/8 [00:02<00:00,  2.84it/s]\n"
     ]
    },
    {
     "name": "stdout",
     "output_type": "stream",
     "text": [
      "mstep self.weights:  [1.45426015e-01 2.02706727e-10 1.82871713e-01 2.02142758e-03\n",
      " 1.68595788e-01 1.55834855e-01 2.27740871e-02 2.02142712e-10\n",
      " 3.18868681e-01 3.60743232e-03]\n",
      "Q Function:  -641107.0764010685\n",
      "\n"
     ]
    },
    {
     "name": "stderr",
     "output_type": "stream",
     "text": [
      "100%|██████████████████████████████████████████████████████████████████████████████████████████████████████| 8/8 [00:03<00:00,  2.58it/s]\n"
     ]
    },
    {
     "name": "stdout",
     "output_type": "stream",
     "text": [
      "mstep self.weights:  [1.52917225e-01 4.72539171e-09 1.90991236e-01 2.02142743e-03\n",
      " 1.67693244e-01 1.57027979e-01 3.94281833e-04 2.02142712e-10\n",
      " 3.25308836e-01 3.64576621e-03]\n",
      "Q Function:  -640832.6869359604\n",
      "\n"
     ]
    },
    {
     "name": "stderr",
     "output_type": "stream",
     "text": [
      "100%|██████████████████████████████████████████████████████████████████████████████████████████████████████| 8/8 [00:02<00:00,  2.87it/s]\n"
     ]
    },
    {
     "name": "stdout",
     "output_type": "stream",
     "text": [
      "mstep self.weights:  [1.48465314e-01 1.37043965e-04 2.14610405e-01 2.02142733e-03\n",
      " 1.77717634e-01 1.33148036e-01 2.02157366e-10 2.02142712e-10\n",
      " 3.19442389e-01 4.45775029e-03]\n",
      "Q Function:  -658670.7247623155\n",
      "\n"
     ]
    },
    {
     "name": "stderr",
     "output_type": "stream",
     "text": [
      "100%|██████████████████████████████████████████████████████████████████████████████████████████████████████| 7/7 [00:02<00:00,  2.50it/s]\n"
     ]
    },
    {
     "name": "stdout",
     "output_type": "stream",
     "text": [
      "mstep self.weights:  [1.51641830e-01 2.02142712e-10 2.70763055e-01 2.02223330e-03\n",
      " 1.70946156e-01 8.25675557e-02 2.02142712e-10 2.02142712e-10\n",
      " 3.20863515e-01 1.19565477e-03]\n",
      "Q Function:  -661991.5809084143\n",
      "\n"
     ]
    },
    {
     "name": "stderr",
     "output_type": "stream",
     "text": [
      "100%|██████████████████████████████████████████████████████████████████████████████████████████████████████| 7/7 [00:02<00:00,  2.52it/s]\n"
     ]
    },
    {
     "name": "stdout",
     "output_type": "stream",
     "text": [
      "mstep self.weights:  [1.45692644e-01 2.02142712e-10 2.34625271e-01 2.02187985e-03\n",
      " 1.75290957e-01 1.24648022e-01 2.02142712e-10 2.02142712e-10\n",
      " 3.16704027e-01 1.01719956e-03]\n",
      "Q Function:  -647174.6283503376\n",
      "\n"
     ]
    },
    {
     "name": "stderr",
     "output_type": "stream",
     "text": [
      "100%|██████████████████████████████████████████████████████████████████████████████████████████████████████| 7/7 [00:03<00:00,  2.18it/s]\n"
     ]
    },
    {
     "name": "stdout",
     "output_type": "stream",
     "text": [
      "mstep self.weights:  [1.52192766e-01 2.02142712e-10 2.14742427e-01 2.02144195e-03\n",
      " 1.75438614e-01 1.42697488e-01 2.02142712e-10 2.02142712e-10\n",
      " 3.11894263e-01 1.01299910e-03]\n",
      "Q Function:  -639250.7338447535\n",
      "\n",
      "No. clus:  7\n",
      "allen_b02h01 with 299 HVGs\n",
      "WARNING:root:Selecting 100 genes required 0.0% dataset threshold.\n"
     ]
    },
    {
     "name": "stderr",
     "output_type": "stream",
     "text": [
      "/home/tchari/monod/src/monod/mminference.py:512: RuntimeWarning: divide by zero encountered in true_divide\n",
      "  divids = (1e4/tots)[:,None]\n",
      "/home/tchari/monod/src/monod/mminference.py:513: RuntimeWarning: invalid value encountered in multiply\n",
      "  S_t = S_t*divids\n",
      "100%|████████████████████████████████████████████████████████████████████████████████████████████████████| 11/11 [00:03<00:00,  3.41it/s]\n",
      "100%|████████████████████████████████████████████████████████████████████████████████████████████████████| 11/11 [00:02<00:00,  3.73it/s]\n"
     ]
    },
    {
     "name": "stdout",
     "output_type": "stream",
     "text": [
      "mstep self.weights:  [0.09712662 0.00592148 0.0830687  0.07994354 0.06370804 0.01045434\n",
      " 0.49767147 0.07210215 0.06282912 0.02383406 0.00334046]\n",
      "Q Function:  -1271426.7759998944\n",
      "\n"
     ]
    },
    {
     "name": "stderr",
     "output_type": "stream",
     "text": [
      "100%|████████████████████████████████████████████████████████████████████████████████████████████████████| 10/10 [00:03<00:00,  3.20it/s]\n"
     ]
    },
    {
     "name": "stdout",
     "output_type": "stream",
     "text": [
      "mstep self.weights:  [2.88830027e-02 9.98105154e-05 6.80159729e-02 4.83446628e-02\n",
      " 4.23639773e-02 1.12555203e-02 6.73660287e-01 3.62968679e-02\n",
      " 5.54100669e-02 3.56697838e-02 4.80372651e-08]\n",
      "Q Function:  -1162564.338751739\n",
      "\n"
     ]
    },
    {
     "name": "stderr",
     "output_type": "stream",
     "text": [
      "100%|██████████████████████████████████████████████████████████████████████████████████████████████████████| 9/9 [00:02<00:00,  3.10it/s]\n"
     ]
    },
    {
     "name": "stdout",
     "output_type": "stream",
     "text": [
      "mstep self.weights:  [8.62308013e-03 6.55265054e-11 6.57061273e-02 6.68179560e-02\n",
      " 3.95778548e-02 5.09445759e-03 6.88250075e-01 3.26441193e-02\n",
      " 5.37671968e-02 3.95191330e-02 7.61321110e-11]\n",
      "Q Function:  -1152121.6132066776\n",
      "\n"
     ]
    },
    {
     "name": "stderr",
     "output_type": "stream",
     "text": [
      "100%|██████████████████████████████████████████████████████████████████████████████████████████████████████| 9/9 [00:03<00:00,  2.88it/s]\n"
     ]
    },
    {
     "name": "stdout",
     "output_type": "stream",
     "text": [
      "mstep self.weights:  [8.90485708e-03 6.55265054e-11 6.53034225e-02 7.89074145e-02\n",
      " 3.89537589e-02 2.70231547e-03 6.79644938e-01 3.20437394e-02\n",
      " 5.30178088e-02 4.05217456e-02 6.55410542e-11]\n",
      "Q Function:  -1147494.5535351203\n",
      "\n"
     ]
    },
    {
     "name": "stderr",
     "output_type": "stream",
     "text": [
      "100%|██████████████████████████████████████████████████████████████████████████████████████████████████████| 9/9 [00:02<00:00,  3.06it/s]\n"
     ]
    },
    {
     "name": "stdout",
     "output_type": "stream",
     "text": [
      "mstep self.weights:  [6.76840615e-03 6.55265054e-11 6.52672694e-02 8.68418604e-02\n",
      " 3.77966586e-02 9.30319186e-04 6.77093121e-01 3.17827788e-02\n",
      " 5.27491711e-02 4.07704148e-02 6.55366012e-11]\n",
      "Q Function:  -1147284.7075449927\n",
      "\n"
     ]
    },
    {
     "name": "stderr",
     "output_type": "stream",
     "text": [
      "100%|██████████████████████████████████████████████████████████████████████████████████████████████████████| 8/8 [00:03<00:00,  2.65it/s]\n"
     ]
    },
    {
     "name": "stdout",
     "output_type": "stream",
     "text": [
      "mstep self.weights:  [1.28132956e-02 6.55265054e-11 6.52677025e-02 9.27777948e-02\n",
      " 3.65523741e-02 6.68094592e-11 6.67447260e-01 3.16472361e-02\n",
      " 5.26445928e-02 4.08497439e-02 6.55361250e-11]\n",
      "Q Function:  -1146459.190922083\n",
      "\n"
     ]
    },
    {
     "name": "stderr",
     "output_type": "stream",
     "text": [
      "100%|██████████████████████████████████████████████████████████████████████████████████████████████████████| 8/8 [00:02<00:00,  2.71it/s]\n"
     ]
    },
    {
     "name": "stdout",
     "output_type": "stream",
     "text": [
      "mstep self.weights:  [1.32797742e-02 6.55265054e-11 6.52699209e-02 9.80157657e-02\n",
      " 3.61632087e-02 6.55265055e-11 6.62203015e-01 3.15967247e-02\n",
      " 5.26333335e-02 4.08382567e-02 6.55361483e-11]\n",
      "Q Function:  -1146561.3023361473\n",
      "\n"
     ]
    },
    {
     "name": "stderr",
     "output_type": "stream",
     "text": [
      "100%|██████████████████████████████████████████████████████████████████████████████████████████████████████| 8/8 [00:02<00:00,  2.83it/s]\n"
     ]
    },
    {
     "name": "stdout",
     "output_type": "stream",
     "text": [
      "mstep self.weights:  [1.36521472e-02 6.55265054e-11 6.52670051e-02 1.02103483e-01\n",
      " 3.60923373e-02 6.55265055e-11 6.57847953e-01 3.15646909e-02\n",
      " 5.26342163e-02 4.08381674e-02 6.55361105e-11]\n",
      "Q Function:  -1146585.9383912957\n",
      "\n"
     ]
    },
    {
     "name": "stderr",
     "output_type": "stream",
     "text": [
      "100%|██████████████████████████████████████████████████████████████████████████████████████████████████████| 8/8 [00:03<00:00,  2.61it/s]\n"
     ]
    },
    {
     "name": "stdout",
     "output_type": "stream",
     "text": [
      "mstep self.weights:  [2.78836138e-02 6.55265054e-11 6.52690682e-02 1.06682519e-01\n",
      " 3.59507392e-02 6.55265055e-11 6.39229171e-01 3.15153367e-02\n",
      " 5.26309027e-02 4.08386500e-02 6.55361136e-11]\n",
      "Q Function:  -1143815.0109262061\n",
      "\n"
     ]
    },
    {
     "name": "stderr",
     "output_type": "stream",
     "text": [
      "100%|██████████████████████████████████████████████████████████████████████████████████████████████████████| 8/8 [00:02<00:00,  2.86it/s]\n"
     ]
    },
    {
     "name": "stdout",
     "output_type": "stream",
     "text": [
      "mstep self.weights:  [1.51409138e-02 6.55265054e-11 6.52676414e-02 1.10229640e-01\n",
      " 3.60972059e-02 6.55265056e-11 6.48395644e-01 3.14117269e-02\n",
      " 5.26185908e-02 4.08386371e-02 6.55360355e-11]\n",
      "Q Function:  -1147531.6962294374\n",
      "\n",
      "No. clus:  8\n",
      "WARNING:root:Selecting 100 genes required 0.0% dataset threshold.\n"
     ]
    },
    {
     "name": "stderr",
     "output_type": "stream",
     "text": [
      "/home/tchari/monod/src/monod/mminference.py:512: RuntimeWarning: divide by zero encountered in true_divide\n",
      "  divids = (1e4/tots)[:,None]\n",
      "/home/tchari/monod/src/monod/mminference.py:513: RuntimeWarning: invalid value encountered in multiply\n",
      "  S_t = S_t*divids\n",
      "100%|████████████████████████████████████████████████████████████████████████████████████████████████████| 16/16 [00:03<00:00,  4.80it/s]\n",
      "100%|████████████████████████████████████████████████████████████████████████████████████████████████████| 15/15 [00:02<00:00,  5.13it/s]\n"
     ]
    },
    {
     "name": "stdout",
     "output_type": "stream",
     "text": [
      "mstep self.weights:  [8.95700548e-02 7.35232275e-04 7.92894912e-02 8.24244335e-02\n",
      " 8.17557100e-02 1.34799402e-02 6.59333524e-02 5.58051732e-03\n",
      " 7.44536689e-02 5.37880586e-02 5.46712106e-02 8.85147085e-02\n",
      " 1.42675812e-01 8.32194062e-05 5.20945245e-02 1.14950066e-01]\n",
      "Q Function:  -1311328.4329511689\n",
      "\n"
     ]
    },
    {
     "name": "stderr",
     "output_type": "stream",
     "text": [
      "100%|████████████████████████████████████████████████████████████████████████████████████████████████████| 13/13 [00:02<00:00,  4.39it/s]\n"
     ]
    },
    {
     "name": "stdout",
     "output_type": "stream",
     "text": [
      "mstep self.weights:  [3.28853284e-02 6.55265054e-11 7.31121216e-02 1.35265735e-01\n",
      " 7.53747167e-04 6.55265054e-11 6.43401885e-02 6.55265054e-11\n",
      " 1.10644609e-02 3.92307824e-02 1.83289714e-02 5.02196626e-03\n",
      " 3.37176805e-01 4.37891730e-04 3.72992540e-02 2.45082747e-01]\n",
      "Q Function:  -1160731.8804349117\n",
      "\n"
     ]
    },
    {
     "name": "stderr",
     "output_type": "stream",
     "text": [
      "100%|████████████████████████████████████████████████████████████████████████████████████████████████████| 12/12 [00:03<00:00,  3.93it/s]\n"
     ]
    },
    {
     "name": "stdout",
     "output_type": "stream",
     "text": [
      "mstep self.weights:  [3.14314805e-02 6.55265054e-11 7.29971772e-02 1.64563415e-01\n",
      " 6.55265054e-11 6.55265054e-11 6.48347462e-02 6.55265054e-11\n",
      " 2.84308222e-04 3.90294171e-02 1.77311114e-02 5.31010898e-03\n",
      " 3.23277919e-01 2.60019973e-04 3.73556532e-02 2.42924643e-01]\n",
      "Q Function:  -1135213.9659493591\n",
      "\n"
     ]
    },
    {
     "name": "stderr",
     "output_type": "stream",
     "text": [
      "100%|████████████████████████████████████████████████████████████████████████████████████████████████████| 10/10 [00:02<00:00,  3.59it/s]\n"
     ]
    },
    {
     "name": "stdout",
     "output_type": "stream",
     "text": [
      "mstep self.weights:  [3.10107741e-02 6.55265054e-11 6.85321690e-02 1.86080733e-01\n",
      " 6.55265054e-11 6.55265054e-11 6.49038389e-02 6.55265054e-11\n",
      " 6.55265054e-11 3.93042245e-02 1.76493717e-02 7.40630492e-03\n",
      " 3.09586443e-01 6.55265212e-11 3.70895946e-02 2.38436545e-01]\n",
      "Q Function:  -1129770.4151788594\n",
      "\n"
     ]
    },
    {
     "name": "stderr",
     "output_type": "stream",
     "text": [
      "100%|████████████████████████████████████████████████████████████████████████████████████████████████████| 10/10 [00:02<00:00,  3.47it/s]\n"
     ]
    },
    {
     "name": "stdout",
     "output_type": "stream",
     "text": [
      "mstep self.weights:  [3.07066023e-02 6.55265054e-11 6.31742210e-02 2.00473123e-01\n",
      " 6.55265054e-11 6.55265054e-11 6.49285681e-02 6.55265054e-11\n",
      " 6.55265054e-11 4.00324194e-02 1.76171758e-02 8.85794722e-03\n",
      " 3.01303984e-01 6.55265054e-11 3.62776468e-02 2.36628312e-01]\n",
      "Q Function:  -1129374.3871245803\n",
      "\n"
     ]
    },
    {
     "name": "stderr",
     "output_type": "stream",
     "text": [
      "100%|████████████████████████████████████████████████████████████████████████████████████████████████████| 10/10 [00:02<00:00,  3.60it/s]\n"
     ]
    },
    {
     "name": "stdout",
     "output_type": "stream",
     "text": [
      "mstep self.weights:  [3.07667084e-02 6.55265054e-11 4.04601585e-02 2.10228491e-01\n",
      " 6.55265054e-11 6.55265054e-11 6.50962542e-02 6.55265054e-11\n",
      " 6.55265054e-11 4.06131626e-02 1.76303331e-02 1.09620253e-02\n",
      " 3.03510384e-01 6.55265054e-11 3.56719826e-02 2.45060499e-01]\n",
      "Q Function:  -1132892.447125862\n",
      "\n"
     ]
    },
    {
     "name": "stderr",
     "output_type": "stream",
     "text": [
      "100%|████████████████████████████████████████████████████████████████████████████████████████████████████| 10/10 [00:02<00:00,  3.59it/s]\n"
     ]
    },
    {
     "name": "stdout",
     "output_type": "stream",
     "text": [
      "mstep self.weights:  [3.07997843e-02 6.55265054e-11 3.47383456e-02 2.21246678e-01\n",
      " 6.55265054e-11 6.55265054e-11 6.51803389e-02 6.55265054e-11\n",
      " 6.55265054e-11 4.07716074e-02 1.76490709e-02 1.15674883e-02\n",
      " 3.02104577e-01 6.55265054e-11 3.54843918e-02 2.40457717e-01]\n",
      "Q Function:  -1130817.7252767363\n",
      "\n"
     ]
    },
    {
     "name": "stderr",
     "output_type": "stream",
     "text": [
      "100%|████████████████████████████████████████████████████████████████████████████████████████████████████| 10/10 [00:02<00:00,  3.53it/s]\n"
     ]
    },
    {
     "name": "stdout",
     "output_type": "stream",
     "text": [
      "mstep self.weights:  [3.07979300e-02 6.55265054e-11 3.32908513e-02 2.30951586e-01\n",
      " 6.55265054e-11 6.55265054e-11 6.51861332e-02 6.55265054e-11\n",
      " 6.55265054e-11 4.07724057e-02 1.76486879e-02 1.19744017e-02\n",
      " 2.99548151e-01 6.55265054e-11 3.55349225e-02 2.34294930e-01]\n",
      "Q Function:  -1130501.385754944\n",
      "\n"
     ]
    },
    {
     "name": "stderr",
     "output_type": "stream",
     "text": [
      "100%|████████████████████████████████████████████████████████████████████████████████████████████████████| 10/10 [00:02<00:00,  3.46it/s]\n"
     ]
    },
    {
     "name": "stdout",
     "output_type": "stream",
     "text": [
      "mstep self.weights:  [3.07936177e-02 6.55265054e-11 3.27937275e-02 2.40008170e-01\n",
      " 6.55265054e-11 6.55265054e-11 6.51785697e-02 6.55265054e-11\n",
      " 6.55265054e-11 4.07715979e-02 1.76477237e-02 1.20906963e-02\n",
      " 2.96417947e-01 6.55265054e-11 3.55541866e-02 2.28743763e-01]\n",
      "Q Function:  -1130529.1730343595\n",
      "\n"
     ]
    },
    {
     "name": "stderr",
     "output_type": "stream",
     "text": [
      "100%|████████████████████████████████████████████████████████████████████████████████████████████████████| 10/10 [00:02<00:00,  3.34it/s]\n"
     ]
    },
    {
     "name": "stdout",
     "output_type": "stream",
     "text": [
      "mstep self.weights:  [3.07339569e-02 6.55265054e-11 3.24569565e-02 2.49115856e-01\n",
      " 6.55265054e-11 6.55265054e-11 6.51688627e-02 6.55265054e-11\n",
      " 6.55265054e-11 4.07725152e-02 1.76476867e-02 1.21321982e-02\n",
      " 2.93179507e-01 6.55265054e-11 3.55936606e-02 2.23198799e-01]\n",
      "Q Function:  -1130353.9632252904\n",
      "\n",
      "No. clus:  10\n",
      "cl5 with 300 HVGs\n",
      "WARNING:root:Selecting 100 genes required 0.0% dataset threshold.\n"
     ]
    },
    {
     "name": "stderr",
     "output_type": "stream",
     "text": [
      "/home/tchari/monod/src/monod/mminference.py:512: RuntimeWarning: divide by zero encountered in true_divide\n",
      "  divids = (1e4/tots)[:,None]\n",
      "/home/tchari/monod/src/monod/mminference.py:513: RuntimeWarning: invalid value encountered in multiply\n",
      "  S_t = S_t*divids\n",
      "100%|██████████████████████████████████████████████████████████████████████████████████████████████████████| 5/5 [00:05<00:00,  1.10s/it]\n",
      "100%|██████████████████████████████████████████████████████████████████████████████████████████████████████| 5/5 [00:05<00:00,  1.10s/it]\n"
     ]
    },
    {
     "name": "stdout",
     "output_type": "stream",
     "text": [
      "mstep self.weights:  [0.67011677 0.15876719 0.00201973 0.11595268 0.05314363]\n",
      "Q Function:  -592453.7226717432\n",
      "\n"
     ]
    },
    {
     "name": "stderr",
     "output_type": "stream",
     "text": [
      "100%|██████████████████████████████████████████████████████████████████████████████████████████████████████| 4/4 [00:04<00:00,  1.04s/it]\n"
     ]
    },
    {
     "name": "stdout",
     "output_type": "stream",
     "text": [
      "mstep self.weights:  [9.60560537e-01 1.72606441e-02 2.02142713e-10 1.48004328e-02\n",
      " 7.37838602e-03]\n",
      "Q Function:  -586140.7795595366\n",
      "\n"
     ]
    },
    {
     "name": "stderr",
     "output_type": "stream",
     "text": [
      "100%|██████████████████████████████████████████████████████████████████████████████████████████████████████| 3/3 [00:03<00:00,  1.29s/it]\n"
     ]
    },
    {
     "name": "stdout",
     "output_type": "stream",
     "text": [
      "mstep self.weights:  [9.19756896e-01 7.99705113e-02 2.02142713e-10 2.02142713e-10\n",
      " 2.72592638e-04]\n",
      "Q Function:  -687018.1921246882\n",
      "\n"
     ]
    },
    {
     "name": "stderr",
     "output_type": "stream",
     "text": [
      "100%|██████████████████████████████████████████████████████████████████████████████████████████████████████| 2/2 [00:04<00:00,  2.21s/it]\n"
     ]
    },
    {
     "name": "stdout",
     "output_type": "stream",
     "text": [
      "mstep self.weights:  [9.51915993e-01 4.80840063e-02 2.02142713e-10 2.02142713e-10\n",
      " 2.02142713e-10]\n",
      "Q Function:  -696282.4545611547\n",
      "\n"
     ]
    },
    {
     "name": "stderr",
     "output_type": "stream",
     "text": [
      "100%|██████████████████████████████████████████████████████████████████████████████████████████████████████| 2/2 [00:04<00:00,  2.15s/it]\n"
     ]
    },
    {
     "name": "stdout",
     "output_type": "stream",
     "text": [
      "mstep self.weights:  [9.84457062e-01 1.55429369e-02 2.02142713e-10 2.02142713e-10\n",
      " 2.02142713e-10]\n",
      "Q Function:  -697387.4246524904\n",
      "\n"
     ]
    },
    {
     "name": "stderr",
     "output_type": "stream",
     "text": [
      "100%|██████████████████████████████████████████████████████████████████████████████████████████████████████| 2/2 [00:04<00:00,  2.05s/it]\n"
     ]
    },
    {
     "name": "stdout",
     "output_type": "stream",
     "text": [
      "mstep self.weights:  [9.98231920e-01 1.76807937e-03 2.02142713e-10 2.02142713e-10\n",
      " 2.02142713e-10]\n",
      "Q Function:  -692506.483505092\n",
      "\n"
     ]
    },
    {
     "name": "stderr",
     "output_type": "stream",
     "text": [
      "100%|██████████████████████████████████████████████████████████████████████████████████████████████████████| 2/2 [00:04<00:00,  2.05s/it]\n"
     ]
    },
    {
     "name": "stdout",
     "output_type": "stream",
     "text": [
      "mstep self.weights:  [9.96430182e-01 3.56981784e-03 2.02142713e-10 2.02142713e-10\n",
      " 2.02142713e-10]\n",
      "Q Function:  -692916.6882021006\n",
      "\n"
     ]
    },
    {
     "name": "stderr",
     "output_type": "stream",
     "text": [
      "100%|██████████████████████████████████████████████████████████████████████████████████████████████████████| 2/2 [00:04<00:00,  2.08s/it]\n"
     ]
    },
    {
     "name": "stdout",
     "output_type": "stream",
     "text": [
      "mstep self.weights:  [9.98836987e-01 1.16301232e-03 2.02142713e-10 2.02142713e-10\n",
      " 2.02142713e-10]\n",
      "Q Function:  -697307.4469040182\n",
      "\n"
     ]
    },
    {
     "name": "stderr",
     "output_type": "stream",
     "text": [
      "100%|██████████████████████████████████████████████████████████████████████████████████████████████████████| 1/1 [00:04<00:00,  4.46s/it]\n"
     ]
    },
    {
     "name": "stdout",
     "output_type": "stream",
     "text": [
      "mstep self.weights:  [9.99999999e-01 4.35779185e-10 2.02142713e-10 2.02142713e-10\n",
      " 2.02142713e-10]\n",
      "Q Function:  -696438.8347164585\n",
      "\n"
     ]
    },
    {
     "name": "stderr",
     "output_type": "stream",
     "text": [
      "100%|██████████████████████████████████████████████████████████████████████████████████████████████████████| 1/1 [00:04<00:00,  4.41s/it]\n"
     ]
    },
    {
     "name": "stdout",
     "output_type": "stream",
     "text": [
      "mstep self.weights:  [9.99999999e-01 2.02143460e-10 2.02142713e-10 2.02142713e-10\n",
      " 2.02142713e-10]\n",
      "Q Function:  -690518.4562847469\n",
      "\n",
      "No. clus:  1\n",
      "WARNING:root:Selecting 100 genes required 0.0% dataset threshold.\n"
     ]
    },
    {
     "name": "stderr",
     "output_type": "stream",
     "text": [
      "/home/tchari/monod/src/monod/mminference.py:512: RuntimeWarning: divide by zero encountered in true_divide\n",
      "  divids = (1e4/tots)[:,None]\n",
      "/home/tchari/monod/src/monod/mminference.py:513: RuntimeWarning: invalid value encountered in multiply\n",
      "  S_t = S_t*divids\n",
      "100%|████████████████████████████████████████████████████████████████████████████████████████████████████| 10/10 [00:05<00:00,  1.89it/s]\n",
      "100%|██████████████████████████████████████████████████████████████████████████████████████████████████████| 8/8 [00:04<00:00,  1.79it/s]\n"
     ]
    },
    {
     "name": "stdout",
     "output_type": "stream",
     "text": [
      "mstep self.weights:  [5.63091512e-04 4.30815103e-01 2.89088916e-02 7.15103806e-05\n",
      " 6.73467985e-02 3.81081032e-01 3.24727587e-02 1.00228309e-05\n",
      " 4.59376105e-03 5.41370301e-02]\n",
      "Q Function:  -584459.9166674283\n",
      "\n"
     ]
    },
    {
     "name": "stderr",
     "output_type": "stream",
     "text": [
      "100%|██████████████████████████████████████████████████████████████████████████████████████████████████████| 8/8 [00:05<00:00,  1.46it/s]\n"
     ]
    },
    {
     "name": "stdout",
     "output_type": "stream",
     "text": [
      "mstep self.weights:  [2.02142712e-10 3.97111131e-01 1.85714341e-03 3.12972500e-04\n",
      " 2.02142712e-10 1.50549305e-02 1.74141966e-01 3.93966936e-02\n",
      " 1.05757036e-01 2.66368127e-01]\n",
      "Q Function:  -662603.3875906268\n",
      "\n"
     ]
    },
    {
     "name": "stderr",
     "output_type": "stream",
     "text": [
      "100%|██████████████████████████████████████████████████████████████████████████████████████████████████████| 7/7 [00:04<00:00,  1.66it/s]\n"
     ]
    },
    {
     "name": "stdout",
     "output_type": "stream",
     "text": [
      "mstep self.weights:  [2.02142712e-10 2.59418973e-01 3.78476148e-03 2.02142712e-10\n",
      " 2.02142712e-10 3.12506695e-02 3.67499661e-01 1.04204511e-01\n",
      " 1.62491659e-01 7.13497646e-02]\n",
      "Q Function:  -641360.8796310411\n",
      "\n"
     ]
    },
    {
     "name": "stderr",
     "output_type": "stream",
     "text": [
      "100%|██████████████████████████████████████████████████████████████████████████████████████████████████████| 7/7 [00:04<00:00,  1.70it/s]\n"
     ]
    },
    {
     "name": "stdout",
     "output_type": "stream",
     "text": [
      "mstep self.weights:  [2.02142712e-10 7.91662268e-02 2.75811743e-03 2.02142712e-10\n",
      " 2.02142712e-10 2.12576216e-03 2.65160601e-01 2.62792633e-01\n",
      " 3.54159335e-01 3.38373240e-02]\n",
      "Q Function:  -645526.2048172469\n",
      "\n"
     ]
    },
    {
     "name": "stderr",
     "output_type": "stream",
     "text": [
      "100%|██████████████████████████████████████████████████████████████████████████████████████████████████████| 6/6 [00:04<00:00,  1.49it/s]\n"
     ]
    },
    {
     "name": "stdout",
     "output_type": "stream",
     "text": [
      "mstep self.weights:  [2.02142712e-10 7.92755482e-02 5.44860781e-07 2.02142712e-10\n",
      " 2.02142712e-10 7.90575048e-04 5.23383235e-01 2.49472983e-01\n",
      " 1.40858855e-01 6.21825893e-03]\n",
      "Q Function:  -623353.16957394\n",
      "\n"
     ]
    },
    {
     "name": "stderr",
     "output_type": "stream",
     "text": [
      "100%|██████████████████████████████████████████████████████████████████████████████████████████████████████| 4/4 [00:03<00:00,  1.20it/s]\n"
     ]
    },
    {
     "name": "stdout",
     "output_type": "stream",
     "text": [
      "mstep self.weights:  [2.02142712e-10 9.58224993e-04 7.62180114e-05 2.02142712e-10\n",
      " 2.02142712e-10 2.02142712e-10 5.65049994e-01 3.50015957e-01\n",
      " 8.38627933e-02 3.68120777e-05]\n",
      "Q Function:  -635982.3051927738\n",
      "\n"
     ]
    },
    {
     "name": "stderr",
     "output_type": "stream",
     "text": [
      "100%|██████████████████████████████████████████████████████████████████████████████████████████████████████| 3/3 [00:05<00:00,  1.88s/it]\n"
     ]
    },
    {
     "name": "stdout",
     "output_type": "stream",
     "text": [
      "mstep self.weights:  [2.02142712e-10 2.02142712e-10 3.34076202e-06 2.02142712e-10\n",
      " 2.02142712e-10 2.02142712e-10 6.13829493e-01 3.43048500e-01\n",
      " 4.31186652e-02 2.13932517e-10]\n",
      "Q Function:  -629382.5387821022\n",
      "\n"
     ]
    },
    {
     "name": "stderr",
     "output_type": "stream",
     "text": [
      "100%|██████████████████████████████████████████████████████████████████████████████████████████████████████| 3/3 [00:04<00:00,  1.65s/it]\n"
     ]
    },
    {
     "name": "stdout",
     "output_type": "stream",
     "text": [
      "mstep self.weights:  [2.02142712e-10 2.02142712e-10 2.02175236e-04 2.02142712e-10\n",
      " 2.02142712e-10 2.02142712e-10 7.06726809e-01 2.93063464e-01\n",
      " 2.04791471e-10 7.55102162e-06]\n",
      "Q Function:  -733353.3888688707\n",
      "\n"
     ]
    },
    {
     "name": "stderr",
     "output_type": "stream",
     "text": [
      "100%|██████████████████████████████████████████████████████████████████████████████████████████████████████| 2/2 [00:05<00:00,  2.88s/it]\n"
     ]
    },
    {
     "name": "stdout",
     "output_type": "stream",
     "text": [
      "mstep self.weights:  [2.02142712e-10 2.02142712e-10 2.02142712e-10 2.02142712e-10\n",
      " 2.02142712e-10 2.02142712e-10 8.95855255e-01 1.04144743e-01\n",
      " 2.02142712e-10 2.05414632e-10]\n",
      "Q Function:  -614411.3807064292\n",
      "\n"
     ]
    },
    {
     "name": "stderr",
     "output_type": "stream",
     "text": [
      "100%|██████████████████████████████████████████████████████████████████████████████████████████████████████| 1/1 [00:04<00:00,  4.81s/it]\n"
     ]
    },
    {
     "name": "stdout",
     "output_type": "stream",
     "text": [
      "mstep self.weights:  [2.02142712e-10 2.02142712e-10 2.02142712e-10 2.02142712e-10\n",
      " 2.02142712e-10 2.02142712e-10 9.99955150e-01 1.26725042e-08\n",
      " 2.02142712e-10 4.48362809e-05]\n",
      "Q Function:  -723245.4115400146\n",
      "\n",
      "No. clus:  1\n",
      "allen_b08 with 1999 HVGs\n",
      "WARNING:root:Selecting 100 genes required 100.0% dataset threshold.\n"
     ]
    },
    {
     "name": "stderr",
     "output_type": "stream",
     "text": [
      "100%|████████████████████████████████████████████████████████████████████████████████████████████████████| 10/10 [00:08<00:00,  1.24it/s]\n",
      "100%|████████████████████████████████████████████████████████████████████████████████████████████████████| 10/10 [00:06<00:00,  1.44it/s]\n"
     ]
    },
    {
     "name": "stdout",
     "output_type": "stream",
     "text": [
      "mstep self.weights:  [0.16087663 0.14269991 0.07089293 0.03099578 0.05327855 0.07681401\n",
      " 0.15365164 0.09083573 0.11361166 0.10634316]\n",
      "Q Function:  -1455386.3717719596\n",
      "\n"
     ]
    },
    {
     "name": "stderr",
     "output_type": "stream",
     "text": [
      "100%|████████████████████████████████████████████████████████████████████████████████████████████████████| 10/10 [00:06<00:00,  1.44it/s]\n"
     ]
    },
    {
     "name": "stdout",
     "output_type": "stream",
     "text": [
      "mstep self.weights:  [0.2026895  0.10248339 0.07656109 0.03516577 0.05349073 0.07288338\n",
      " 0.14171045 0.12529991 0.0972992  0.09241658]\n",
      "Q Function:  -1393116.2382102604\n",
      "\n"
     ]
    },
    {
     "name": "stderr",
     "output_type": "stream",
     "text": [
      "100%|████████████████████████████████████████████████████████████████████████████████████████████████████| 10/10 [00:06<00:00,  1.45it/s]\n"
     ]
    },
    {
     "name": "stdout",
     "output_type": "stream",
     "text": [
      "mstep self.weights:  [0.21949145 0.09164809 0.07651982 0.03518636 0.05202455 0.07456293\n",
      " 0.13701348 0.13566251 0.09410165 0.08378917]\n",
      "Q Function:  -1387743.9001585506\n",
      "\n"
     ]
    },
    {
     "name": "stderr",
     "output_type": "stream",
     "text": [
      "100%|████████████████████████████████████████████████████████████████████████████████████████████████████| 10/10 [00:07<00:00,  1.29it/s]\n"
     ]
    },
    {
     "name": "stdout",
     "output_type": "stream",
     "text": [
      "mstep self.weights:  [0.23063256 0.08884804 0.07647472 0.03402205 0.05247332 0.07415566\n",
      " 0.13355746 0.13916113 0.09248241 0.07819264]\n",
      "Q Function:  -1386592.1577737203\n",
      "\n"
     ]
    },
    {
     "name": "stderr",
     "output_type": "stream",
     "text": [
      "100%|████████████████████████████████████████████████████████████████████████████████████████████████████| 10/10 [00:07<00:00,  1.38it/s]\n"
     ]
    },
    {
     "name": "stdout",
     "output_type": "stream",
     "text": [
      "mstep self.weights:  [0.23839502 0.0873304  0.07620455 0.0343975  0.05305257 0.07358023\n",
      " 0.13024613 0.14041157 0.09145629 0.07492572]\n",
      "Q Function:  -1384851.8134957398\n",
      "\n"
     ]
    },
    {
     "name": "stderr",
     "output_type": "stream",
     "text": [
      "100%|████████████████████████████████████████████████████████████████████████████████████████████████████| 10/10 [00:07<00:00,  1.31it/s]\n"
     ]
    },
    {
     "name": "stdout",
     "output_type": "stream",
     "text": [
      "mstep self.weights:  [0.24217994 0.0863863  0.07800897 0.0348967  0.05332065 0.07330077\n",
      " 0.1282478  0.14094335 0.09065712 0.0720584 ]\n",
      "Q Function:  -1383778.1551753816\n",
      "\n"
     ]
    },
    {
     "name": "stderr",
     "output_type": "stream",
     "text": [
      "100%|████████████████████████████████████████████████████████████████████████████████████████████████████| 10/10 [00:07<00:00,  1.42it/s]\n"
     ]
    },
    {
     "name": "stdout",
     "output_type": "stream",
     "text": [
      "mstep self.weights:  [0.24504913 0.09734477 0.07856437 0.03473121 0.05317943 0.07331976\n",
      " 0.12687951 0.13019739 0.09023639 0.07049806]\n",
      "Q Function:  -1379836.1946055354\n",
      "\n"
     ]
    },
    {
     "name": "stderr",
     "output_type": "stream",
     "text": [
      "100%|████████████████████████████████████████████████████████████████████████████████████████████████████| 10/10 [00:07<00:00,  1.42it/s]\n"
     ]
    },
    {
     "name": "stdout",
     "output_type": "stream",
     "text": [
      "mstep self.weights:  [0.24656185 0.09420579 0.08012186 0.03558991 0.05322857 0.07306525\n",
      " 0.12641976 0.13296499 0.08993746 0.06790457]\n",
      "Q Function:  -1383269.155515462\n",
      "\n"
     ]
    },
    {
     "name": "stderr",
     "output_type": "stream",
     "text": [
      "100%|████████████████████████████████████████████████████████████████████████████████████████████████████| 10/10 [00:07<00:00,  1.41it/s]\n"
     ]
    },
    {
     "name": "stdout",
     "output_type": "stream",
     "text": [
      "mstep self.weights:  [0.24782298 0.09186322 0.08232648 0.03540026 0.05358321 0.07286882\n",
      " 0.12596829 0.13520923 0.08960456 0.06535296]\n",
      "Q Function:  -1383281.589287783\n",
      "\n"
     ]
    },
    {
     "name": "stderr",
     "output_type": "stream",
     "text": [
      "100%|████████████████████████████████████████████████████████████████████████████████████████████████████| 10/10 [00:07<00:00,  1.37it/s]\n"
     ]
    },
    {
     "name": "stdout",
     "output_type": "stream",
     "text": [
      "mstep self.weights:  [0.24850406 0.09466061 0.08504918 0.03419647 0.05353102 0.07295182\n",
      " 0.12500866 0.13333686 0.08930752 0.06345381]\n",
      "Q Function:  -1383548.1014184565\n",
      "\n",
      "No. clus:  10\n",
      "WARNING:root:Selecting 100 genes required 100.0% dataset threshold.\n"
     ]
    },
    {
     "name": "stderr",
     "output_type": "stream",
     "text": [
      "100%|████████████████████████████████████████████████████████████████████████████████████████████████████| 15/15 [00:08<00:00,  1.72it/s]\n",
      "100%|████████████████████████████████████████████████████████████████████████████████████████████████████| 15/15 [00:06<00:00,  2.30it/s]\n"
     ]
    },
    {
     "name": "stdout",
     "output_type": "stream",
     "text": [
      "mstep self.weights:  [0.03305639 0.11779412 0.03823051 0.18041969 0.11920855 0.04916125\n",
      " 0.03734928 0.02950251 0.0995126  0.05204788 0.03298022 0.02838172\n",
      " 0.12055654 0.04573537 0.01606337]\n",
      "Q Function:  -1481610.9721449947\n",
      "\n"
     ]
    },
    {
     "name": "stderr",
     "output_type": "stream",
     "text": [
      "100%|████████████████████████████████████████████████████████████████████████████████████████████████████| 15/15 [00:06<00:00,  2.29it/s]\n"
     ]
    },
    {
     "name": "stdout",
     "output_type": "stream",
     "text": [
      "mstep self.weights:  [0.03291784 0.10871863 0.034861   0.20192267 0.0981484  0.06396814\n",
      " 0.01889431 0.02606567 0.11289795 0.09139854 0.00066062 0.02145832\n",
      " 0.13993231 0.04760207 0.00055353]\n",
      "Q Function:  -1394416.87524537\n",
      "\n"
     ]
    },
    {
     "name": "stderr",
     "output_type": "stream",
     "text": [
      "100%|████████████████████████████████████████████████████████████████████████████████████████████████████| 13/13 [00:06<00:00,  1.94it/s]\n"
     ]
    },
    {
     "name": "stdout",
     "output_type": "stream",
     "text": [
      "mstep self.weights:  [3.11197700e-02 1.04608889e-01 3.51716778e-02 1.92626585e-01\n",
      " 1.02889624e-01 6.44012003e-02 1.80451635e-02 2.47881725e-02\n",
      " 1.08325047e-01 1.03057313e-01 1.75654312e-10 2.27468307e-02\n",
      " 1.43542977e-01 4.86767504e-02 1.75654312e-10]\n",
      "Q Function:  -1380236.7791194594\n",
      "\n"
     ]
    },
    {
     "name": "stderr",
     "output_type": "stream",
     "text": [
      "100%|████████████████████████████████████████████████████████████████████████████████████████████████████| 13/13 [00:06<00:00,  2.11it/s]\n"
     ]
    },
    {
     "name": "stdout",
     "output_type": "stream",
     "text": [
      "mstep self.weights:  [3.89173678e-02 1.17102383e-01 3.54616967e-02 1.81502002e-01\n",
      " 9.91881193e-02 6.25055758e-02 1.94587041e-02 2.17268161e-02\n",
      " 1.03371726e-01 1.01981335e-01 1.75654312e-10 1.27681661e-02\n",
      " 1.54079437e-01 5.19366708e-02 1.75654312e-10]\n",
      "Q Function:  -1381378.9475087977\n",
      "\n"
     ]
    },
    {
     "name": "stderr",
     "output_type": "stream",
     "text": [
      "100%|████████████████████████████████████████████████████████████████████████████████████████████████████| 13/13 [00:06<00:00,  1.97it/s]\n"
     ]
    },
    {
     "name": "stdout",
     "output_type": "stream",
     "text": [
      "mstep self.weights:  [4.36040795e-02 1.11281307e-01 3.30037934e-02 1.80710170e-01\n",
      " 9.98421859e-02 6.08450666e-02 3.08409864e-02 1.93156490e-02\n",
      " 9.17875375e-02 1.01030683e-01 1.75654312e-10 7.90122825e-03\n",
      " 1.65304319e-01 5.45329944e-02 1.75654312e-10]\n",
      "Q Function:  -1382968.4283643453\n",
      "\n"
     ]
    },
    {
     "name": "stderr",
     "output_type": "stream",
     "text": [
      "100%|████████████████████████████████████████████████████████████████████████████████████████████████████| 13/13 [00:06<00:00,  1.99it/s]\n"
     ]
    },
    {
     "name": "stdout",
     "output_type": "stream",
     "text": [
      "mstep self.weights:  [4.83415407e-02 1.14898444e-01 3.28266954e-02 1.76101849e-01\n",
      " 1.03396644e-01 5.82427832e-02 4.02165075e-02 1.79715512e-02\n",
      " 8.33171631e-02 9.93659929e-02 1.75654312e-10 3.00257359e-03\n",
      " 1.66337564e-01 5.59806904e-02 1.75654312e-10]\n",
      "Q Function:  -1377849.8532665342\n",
      "\n"
     ]
    },
    {
     "name": "stderr",
     "output_type": "stream",
     "text": [
      "100%|████████████████████████████████████████████████████████████████████████████████████████████████████| 13/13 [00:06<00:00,  2.03it/s]\n"
     ]
    },
    {
     "name": "stdout",
     "output_type": "stream",
     "text": [
      "mstep self.weights:  [5.04277653e-02 1.05826078e-01 3.28920583e-02 1.77297716e-01\n",
      " 1.05823890e-01 5.60326568e-02 5.07754528e-02 1.82565794e-02\n",
      " 7.63480220e-02 9.90449895e-02 1.75654312e-10 1.75653803e-04\n",
      " 1.70728949e-01 5.63701885e-02 1.75654312e-10]\n",
      "Q Function:  -1377714.0236682321\n",
      "\n"
     ]
    },
    {
     "name": "stderr",
     "output_type": "stream",
     "text": [
      "100%|████████████████████████████████████████████████████████████████████████████████████████████████████| 12/12 [00:06<00:00,  1.84it/s]\n"
     ]
    },
    {
     "name": "stdout",
     "output_type": "stream",
     "text": [
      "mstep self.weights:  [5.06319097e-02 9.15274266e-02 3.25775739e-02 1.84645568e-01\n",
      " 1.08995908e-01 5.14474409e-02 5.47548690e-02 1.73852453e-02\n",
      " 6.66824368e-02 1.01154459e-01 1.75654312e-10 1.75654312e-10\n",
      " 1.82797585e-01 5.73995773e-02 1.75654312e-10]\n",
      "Q Function:  -1389847.3703993885\n",
      "\n"
     ]
    },
    {
     "name": "stderr",
     "output_type": "stream",
     "text": [
      "100%|████████████████████████████████████████████████████████████████████████████████████████████████████| 12/12 [00:07<00:00,  1.68it/s]\n"
     ]
    },
    {
     "name": "stdout",
     "output_type": "stream",
     "text": [
      "mstep self.weights:  [5.07575322e-02 8.15844785e-02 3.25915855e-02 1.88332169e-01\n",
      " 1.13340818e-01 4.92565989e-02 5.70607086e-02 1.20290079e-02\n",
      " 6.00806744e-02 1.01097153e-01 1.75654312e-10 1.75654312e-10\n",
      " 1.91120362e-01 6.27489108e-02 1.75654312e-10]\n",
      "Q Function:  -1390773.3788741007\n",
      "\n"
     ]
    },
    {
     "name": "stderr",
     "output_type": "stream",
     "text": [
      "100%|████████████████████████████████████████████████████████████████████████████████████████████████████| 12/12 [00:07<00:00,  1.53it/s]\n"
     ]
    },
    {
     "name": "stdout",
     "output_type": "stream",
     "text": [
      "mstep self.weights:  [5.22383114e-02 1.08750382e-01 3.20883707e-02 1.78146631e-01\n",
      " 1.17546291e-01 4.86716022e-02 6.52116976e-02 9.67389059e-04\n",
      " 3.40777252e-02 1.00871805e-01 1.75654312e-10 1.75654312e-10\n",
      " 1.87866244e-01 7.35635507e-02 1.75654312e-10]\n",
      "Q Function:  -1386136.6312787656\n",
      "\n",
      "No. clus:  12\n",
      "allen_b02h01 with 1000 HVGs\n",
      "WARNING:root:Selecting 100 genes required 100.0% dataset threshold.\n"
     ]
    },
    {
     "name": "stderr",
     "output_type": "stream",
     "text": [
      "/home/tchari/monod/src/monod/mminference.py:512: RuntimeWarning: divide by zero encountered in true_divide\n",
      "  divids = (1e4/tots)[:,None]\n",
      "/home/tchari/monod/src/monod/mminference.py:513: RuntimeWarning: invalid value encountered in multiply\n",
      "  S_t = S_t*divids\n",
      "100%|████████████████████████████████████████████████████████████████████████████████████████████████████| 11/11 [00:03<00:00,  3.29it/s]\n",
      "100%|████████████████████████████████████████████████████████████████████████████████████████████████████| 11/11 [00:03<00:00,  3.60it/s]\n"
     ]
    },
    {
     "name": "stdout",
     "output_type": "stream",
     "text": [
      "mstep self.weights:  [0.07822495 0.08703871 0.10983277 0.05992282 0.07938526 0.0763098\n",
      " 0.11319212 0.08872908 0.04183112 0.06383493 0.20169843]\n",
      "Q Function:  -2523982.9658731776\n",
      "\n"
     ]
    },
    {
     "name": "stderr",
     "output_type": "stream",
     "text": [
      "100%|████████████████████████████████████████████████████████████████████████████████████████████████████| 11/11 [00:03<00:00,  3.39it/s]\n"
     ]
    },
    {
     "name": "stdout",
     "output_type": "stream",
     "text": [
      "mstep self.weights:  [0.04697194 0.07206123 0.13735427 0.04109709 0.09870482 0.08372277\n",
      " 0.11740066 0.06759513 0.03276518 0.09077673 0.21155018]\n",
      "Q Function:  -2336886.519963713\n",
      "\n"
     ]
    },
    {
     "name": "stderr",
     "output_type": "stream",
     "text": [
      "100%|████████████████████████████████████████████████████████████████████████████████████████████████████| 11/11 [00:03<00:00,  3.56it/s]\n"
     ]
    },
    {
     "name": "stdout",
     "output_type": "stream",
     "text": [
      "mstep self.weights:  [0.07364919 0.05895256 0.15445912 0.03931641 0.06062788 0.11572273\n",
      " 0.11509427 0.06456719 0.03170914 0.09397161 0.1919299 ]\n",
      "Q Function:  -2322324.82834517\n",
      "\n"
     ]
    },
    {
     "name": "stderr",
     "output_type": "stream",
     "text": [
      "100%|████████████████████████████████████████████████████████████████████████████████████████████████████| 11/11 [00:03<00:00,  3.41it/s]\n"
     ]
    },
    {
     "name": "stdout",
     "output_type": "stream",
     "text": [
      "mstep self.weights:  [0.087994   0.04527373 0.1683371  0.03899958 0.06526661 0.11651764\n",
      " 0.11408977 0.06343687 0.03112778 0.09512602 0.17383089]\n",
      "Q Function:  -2310603.02107435\n",
      "\n"
     ]
    },
    {
     "name": "stderr",
     "output_type": "stream",
     "text": [
      "100%|████████████████████████████████████████████████████████████████████████████████████████████████████| 11/11 [00:03<00:00,  3.43it/s]\n"
     ]
    },
    {
     "name": "stdout",
     "output_type": "stream",
     "text": [
      "mstep self.weights:  [0.09725743 0.03245746 0.17893918 0.04019613 0.07170481 0.11509689\n",
      " 0.11283813 0.0629626  0.03095796 0.09566774 0.16192167]\n",
      "Q Function:  -2307468.0588175366\n",
      "\n"
     ]
    },
    {
     "name": "stderr",
     "output_type": "stream",
     "text": [
      "100%|████████████████████████████████████████████████████████████████████████████████████████████████████| 11/11 [00:03<00:00,  3.49it/s]\n"
     ]
    },
    {
     "name": "stdout",
     "output_type": "stream",
     "text": [
      "mstep self.weights:  [0.09134976 0.04078678 0.18284534 0.03888762 0.09539109 0.09067057\n",
      " 0.11186197 0.06275021 0.03089735 0.09603175 0.15852756]\n",
      "Q Function:  -2306953.38547745\n",
      "\n"
     ]
    },
    {
     "name": "stderr",
     "output_type": "stream",
     "text": [
      "100%|████████████████████████████████████████████████████████████████████████████████████████████████████| 11/11 [00:03<00:00,  3.43it/s]\n"
     ]
    },
    {
     "name": "stdout",
     "output_type": "stream",
     "text": [
      "mstep self.weights:  [0.08931871 0.04785323 0.184617   0.03739483 0.11318644 0.07340465\n",
      " 0.10925189 0.06270599 0.03086051 0.09612281 0.15528394]\n",
      "Q Function:  -2303888.496331376\n",
      "\n"
     ]
    },
    {
     "name": "stderr",
     "output_type": "stream",
     "text": [
      "100%|████████████████████████████████████████████████████████████████████████████████████████████████████| 11/11 [00:03<00:00,  3.46it/s]\n"
     ]
    },
    {
     "name": "stdout",
     "output_type": "stream",
     "text": [
      "mstep self.weights:  [0.08826862 0.05376161 0.18590287 0.03619713 0.12347637 0.06382165\n",
      " 0.10565741 0.06257545 0.03086053 0.09631269 0.15316565]\n",
      "Q Function:  -2302081.9691563016\n",
      "\n"
     ]
    },
    {
     "name": "stderr",
     "output_type": "stream",
     "text": [
      "100%|████████████████████████████████████████████████████████████████████████████████████████████████████| 11/11 [00:03<00:00,  3.38it/s]\n"
     ]
    },
    {
     "name": "stdout",
     "output_type": "stream",
     "text": [
      "mstep self.weights:  [0.09252592 0.05395978 0.18705918 0.03510781 0.12956062 0.05862213\n",
      " 0.10148853 0.06242235 0.03086091 0.09653323 0.15185953]\n",
      "Q Function:  -2303174.5787298726\n",
      "\n"
     ]
    },
    {
     "name": "stderr",
     "output_type": "stream",
     "text": [
      "100%|████████████████████████████████████████████████████████████████████████████████████████████████████| 11/11 [00:03<00:00,  3.42it/s]\n"
     ]
    },
    {
     "name": "stdout",
     "output_type": "stream",
     "text": [
      "mstep self.weights:  [0.09057236 0.05952334 0.18789215 0.03429057 0.13368074 0.05542639\n",
      " 0.09814729 0.06228984 0.03086141 0.09668471 0.1506312 ]\n",
      "Q Function:  -2300550.4664936205\n",
      "\n",
      "No. clus:  11\n",
      "WARNING:root:Selecting 100 genes required 100.0% dataset threshold.\n"
     ]
    },
    {
     "name": "stderr",
     "output_type": "stream",
     "text": [
      "/home/tchari/monod/src/monod/mminference.py:512: RuntimeWarning: divide by zero encountered in true_divide\n",
      "  divids = (1e4/tots)[:,None]\n",
      "/home/tchari/monod/src/monod/mminference.py:513: RuntimeWarning: invalid value encountered in multiply\n",
      "  S_t = S_t*divids\n",
      "100%|████████████████████████████████████████████████████████████████████████████████████████████████████| 16/16 [00:03<00:00,  5.01it/s]\n",
      "100%|████████████████████████████████████████████████████████████████████████████████████████████████████| 16/16 [00:03<00:00,  4.81it/s]\n"
     ]
    },
    {
     "name": "stdout",
     "output_type": "stream",
     "text": [
      "mstep self.weights:  [0.04270618 0.05347832 0.0809485  0.11167626 0.11814783 0.05867908\n",
      " 0.06052853 0.04000052 0.08218286 0.04680649 0.02382227 0.0437165\n",
      " 0.0280391  0.05568577 0.08914535 0.06443645]\n",
      "Q Function:  -2556615.2839642107\n",
      "\n"
     ]
    },
    {
     "name": "stderr",
     "output_type": "stream",
     "text": [
      "100%|████████████████████████████████████████████████████████████████████████████████████████████████████| 16/16 [00:03<00:00,  4.63it/s]\n"
     ]
    },
    {
     "name": "stdout",
     "output_type": "stream",
     "text": [
      "mstep self.weights:  [0.06321745 0.05166665 0.06743235 0.14209263 0.08800426 0.04177586\n",
      " 0.03328595 0.03476337 0.08551836 0.07457812 0.03396011 0.03531026\n",
      " 0.03655435 0.02311746 0.10901097 0.07971185]\n",
      "Q Function:  -2313523.69229091\n",
      "\n"
     ]
    },
    {
     "name": "stderr",
     "output_type": "stream",
     "text": [
      "100%|████████████████████████████████████████████████████████████████████████████████████████████████████| 16/16 [00:03<00:00,  4.65it/s]\n"
     ]
    },
    {
     "name": "stdout",
     "output_type": "stream",
     "text": [
      "mstep self.weights:  [0.06624257 0.06783284 0.06047847 0.1255683  0.06930797 0.04535103\n",
      " 0.03609305 0.03479048 0.08122419 0.07155025 0.03929629 0.03593312\n",
      " 0.05023003 0.03784968 0.097973   0.08027873]\n",
      "Q Function:  -2282634.911873771\n",
      "\n"
     ]
    },
    {
     "name": "stderr",
     "output_type": "stream",
     "text": [
      "100%|████████████████████████████████████████████████████████████████████████████████████████████████████| 16/16 [00:03<00:00,  4.73it/s]\n"
     ]
    },
    {
     "name": "stdout",
     "output_type": "stream",
     "text": [
      "mstep self.weights:  [0.06704476 0.06865894 0.05461598 0.12000275 0.06505398 0.05144553\n",
      " 0.04376566 0.03477228 0.07599793 0.06866386 0.04122603 0.03651537\n",
      " 0.05266914 0.05123856 0.08897767 0.07935155]\n",
      "Q Function:  -2273353.0200551087\n",
      "\n"
     ]
    },
    {
     "name": "stderr",
     "output_type": "stream",
     "text": [
      "100%|████████████████████████████████████████████████████████████████████████████████████████████████████| 16/16 [00:03<00:00,  4.83it/s]\n"
     ]
    },
    {
     "name": "stdout",
     "output_type": "stream",
     "text": [
      "mstep self.weights:  [0.06824629 0.06686149 0.04948574 0.11592295 0.06388248 0.05718223\n",
      " 0.0512829  0.03479147 0.07135542 0.06611242 0.0421188  0.03690367\n",
      " 0.05304341 0.06123214 0.08315659 0.078422  ]\n",
      "Q Function:  -2269898.231230489\n",
      "\n"
     ]
    },
    {
     "name": "stderr",
     "output_type": "stream",
     "text": [
      "100%|████████████████████████████████████████████████████████████████████████████████████████████████████| 16/16 [00:03<00:00,  4.88it/s]\n"
     ]
    },
    {
     "name": "stdout",
     "output_type": "stream",
     "text": [
      "mstep self.weights:  [0.06957371 0.06493233 0.04676476 0.11178995 0.06360527 0.06188673\n",
      " 0.05635814 0.03479354 0.0676712  0.06465053 0.04233429 0.03718692\n",
      " 0.0531326  0.07010665 0.07765379 0.07755958]\n",
      "Q Function:  -2267726.357347358\n",
      "\n"
     ]
    },
    {
     "name": "stderr",
     "output_type": "stream",
     "text": [
      "100%|████████████████████████████████████████████████████████████████████████████████████████████████████| 16/16 [00:03<00:00,  4.64it/s]\n"
     ]
    },
    {
     "name": "stdout",
     "output_type": "stream",
     "text": [
      "mstep self.weights:  [0.07086582 0.06366424 0.04501488 0.10972558 0.06341497 0.06545812\n",
      " 0.05857495 0.03479316 0.06481271 0.06339924 0.04242537 0.03721873\n",
      " 0.05322094 0.07776539 0.07285093 0.07679495]\n",
      "Q Function:  -2266631.0856193355\n",
      "\n"
     ]
    },
    {
     "name": "stderr",
     "output_type": "stream",
     "text": [
      "100%|████████████████████████████████████████████████████████████████████████████████████████████████████| 16/16 [00:03<00:00,  4.80it/s]\n"
     ]
    },
    {
     "name": "stdout",
     "output_type": "stream",
     "text": [
      "mstep self.weights:  [0.07213639 0.06302004 0.04389195 0.1088886  0.0632729  0.06781206\n",
      " 0.05900796 0.03479272 0.06280106 0.06253839 0.0424537  0.03699383\n",
      " 0.05332301 0.08483069 0.0681288  0.07610789]\n",
      "Q Function:  -2265997.299667472\n",
      "\n"
     ]
    },
    {
     "name": "stderr",
     "output_type": "stream",
     "text": [
      "100%|████████████████████████████████████████████████████████████████████████████████████████████████████| 16/16 [00:03<00:00,  4.64it/s]\n"
     ]
    },
    {
     "name": "stdout",
     "output_type": "stream",
     "text": [
      "mstep self.weights:  [0.07309797 0.0629759  0.04343326 0.10852272 0.06315786 0.06915162\n",
      " 0.05893211 0.03479299 0.06174407 0.06177496 0.04245493 0.03659407\n",
      " 0.05342201 0.09085517 0.06360131 0.07548906]\n",
      "Q Function:  -2265555.389643202\n",
      "\n"
     ]
    },
    {
     "name": "stderr",
     "output_type": "stream",
     "text": [
      "100%|████████████████████████████████████████████████████████████████████████████████████████████████████| 16/16 [00:03<00:00,  4.47it/s]\n"
     ]
    },
    {
     "name": "stdout",
     "output_type": "stream",
     "text": [
      "mstep self.weights:  [0.07382342 0.06292096 0.04332524 0.10802236 0.06315718 0.07078358\n",
      " 0.05870586 0.03479325 0.0609861  0.06068806 0.04245505 0.03606064\n",
      " 0.05341579 0.09680646 0.05891635 0.07513969]\n",
      "Q Function:  -2265262.567179744\n",
      "\n",
      "No. clus:  16\n",
      "allen_b08 with 3999 HVGs\n",
      "WARNING:root:Selecting 100 genes required 100.0% dataset threshold.\n"
     ]
    },
    {
     "name": "stderr",
     "output_type": "stream",
     "text": [
      "100%|████████████████████████████████████████████████████████████████████████████████████████████████████| 10/10 [00:07<00:00,  1.31it/s]\n",
      "100%|████████████████████████████████████████████████████████████████████████████████████████████████████| 10/10 [00:05<00:00,  1.83it/s]\n"
     ]
    },
    {
     "name": "stdout",
     "output_type": "stream",
     "text": [
      "mstep self.weights:  [0.16068521 0.10913788 0.06184603 0.03163606 0.03966179 0.21958409\n",
      " 0.1987528  0.08063345 0.05177772 0.04628496]\n",
      "Q Function:  -1490387.0817762373\n",
      "\n"
     ]
    },
    {
     "name": "stderr",
     "output_type": "stream",
     "text": [
      "100%|████████████████████████████████████████████████████████████████████████████████████████████████████| 10/10 [00:05<00:00,  1.91it/s]\n"
     ]
    },
    {
     "name": "stdout",
     "output_type": "stream",
     "text": [
      "mstep self.weights:  [0.16389894 0.10006192 0.04262697 0.03759807 0.04897875 0.20116302\n",
      " 0.24053225 0.07913602 0.04208899 0.04391507]\n",
      "Q Function:  -1418385.9393020067\n",
      "\n"
     ]
    },
    {
     "name": "stderr",
     "output_type": "stream",
     "text": [
      "100%|████████████████████████████████████████████████████████████████████████████████████████████████████| 10/10 [00:05<00:00,  1.77it/s]\n"
     ]
    },
    {
     "name": "stdout",
     "output_type": "stream",
     "text": [
      "mstep self.weights:  [0.16581007 0.09252153 0.03313583 0.04187436 0.04709748 0.18715916\n",
      " 0.26164601 0.08142213 0.04819711 0.04113631]\n",
      "Q Function:  -1411473.0625190397\n",
      "\n"
     ]
    },
    {
     "name": "stderr",
     "output_type": "stream",
     "text": [
      "100%|████████████████████████████████████████████████████████████████████████████████████████████████████| 10/10 [00:05<00:00,  1.70it/s]\n"
     ]
    },
    {
     "name": "stdout",
     "output_type": "stream",
     "text": [
      "mstep self.weights:  [0.16759102 0.09070543 0.02707437 0.04586074 0.03909005 0.17491216\n",
      " 0.27514736 0.08020629 0.05763105 0.04178153]\n",
      "Q Function:  -1412800.415675304\n",
      "\n"
     ]
    },
    {
     "name": "stderr",
     "output_type": "stream",
     "text": [
      "100%|████████████████████████████████████████████████████████████████████████████████████████████████████| 10/10 [00:05<00:00,  1.77it/s]\n"
     ]
    },
    {
     "name": "stdout",
     "output_type": "stream",
     "text": [
      "mstep self.weights:  [0.17021876 0.08975605 0.01866128 0.04376104 0.03601018 0.16836156\n",
      " 0.28477941 0.08219342 0.0662169  0.04004139]\n",
      "Q Function:  -1412582.0374681575\n",
      "\n"
     ]
    },
    {
     "name": "stderr",
     "output_type": "stream",
     "text": [
      "100%|████████████████████████████████████████████████████████████████████████████████████████████████████| 10/10 [00:05<00:00,  1.81it/s]\n"
     ]
    },
    {
     "name": "stdout",
     "output_type": "stream",
     "text": [
      "mstep self.weights:  [0.17688779 0.08940585 0.01066529 0.04514575 0.03612719 0.16480151\n",
      " 0.28831509 0.08098252 0.0667325  0.0409365 ]\n",
      "Q Function:  -1415173.5765503116\n",
      "\n"
     ]
    },
    {
     "name": "stderr",
     "output_type": "stream",
     "text": [
      "100%|████████████████████████████████████████████████████████████████████████████████████████████████████| 10/10 [00:05<00:00,  1.76it/s]\n"
     ]
    },
    {
     "name": "stdout",
     "output_type": "stream",
     "text": [
      "mstep self.weights:  [0.17097113 0.08856955 0.00862558 0.04192096 0.04055528 0.16363244\n",
      " 0.29249444 0.08333112 0.07078654 0.03911297]\n",
      "Q Function:  -1411083.511447746\n",
      "\n"
     ]
    },
    {
     "name": "stderr",
     "output_type": "stream",
     "text": [
      "100%|████████████████████████████████████████████████████████████████████████████████████████████████████| 10/10 [00:05<00:00,  1.82it/s]\n"
     ]
    },
    {
     "name": "stdout",
     "output_type": "stream",
     "text": [
      "mstep self.weights:  [0.17276348 0.08885376 0.01183909 0.04177941 0.03788634 0.16230429\n",
      " 0.29425729 0.08208166 0.06820659 0.04002809]\n",
      "Q Function:  -1413117.4726192446\n",
      "\n"
     ]
    },
    {
     "name": "stderr",
     "output_type": "stream",
     "text": [
      "100%|████████████████████████████████████████████████████████████████████████████████████████████████████| 10/10 [00:05<00:00,  1.71it/s]\n"
     ]
    },
    {
     "name": "stdout",
     "output_type": "stream",
     "text": [
      "mstep self.weights:  [0.17497693 0.08857421 0.00640381 0.04165745 0.04202096 0.16157052\n",
      " 0.29269729 0.08394629 0.06953161 0.03862093]\n",
      "Q Function:  -1412308.9977293746\n",
      "\n"
     ]
    },
    {
     "name": "stderr",
     "output_type": "stream",
     "text": [
      "100%|████████████████████████████████████████████████████████████████████████████████████████████████████| 10/10 [00:05<00:00,  1.73it/s]\n"
     ]
    },
    {
     "name": "stdout",
     "output_type": "stream",
     "text": [
      "mstep self.weights:  [0.16922353 0.08856073 0.00091647 0.04151612 0.04037934 0.16128521\n",
      " 0.29199478 0.08234103 0.08402056 0.03976222]\n",
      "Q Function:  -1411338.9944612759\n",
      "\n",
      "No. clus:  10\n",
      "WARNING:root:Selecting 100 genes required 100.0% dataset threshold.\n"
     ]
    },
    {
     "name": "stderr",
     "output_type": "stream",
     "text": [
      "100%|████████████████████████████████████████████████████████████████████████████████████████████████████| 15/15 [00:08<00:00,  1.70it/s]\n",
      "100%|████████████████████████████████████████████████████████████████████████████████████████████████████| 15/15 [00:05<00:00,  2.62it/s]\n"
     ]
    },
    {
     "name": "stdout",
     "output_type": "stream",
     "text": [
      "mstep self.weights:  [0.12161683 0.09723028 0.1262387  0.05258674 0.15442154 0.01107251\n",
      " 0.0242811  0.03796104 0.04130734 0.06439854 0.0470288  0.0275511\n",
      " 0.09030255 0.07178854 0.0322144 ]\n",
      "Q Function:  -1514965.6929433625\n",
      "\n"
     ]
    },
    {
     "name": "stderr",
     "output_type": "stream",
     "text": [
      "100%|████████████████████████████████████████████████████████████████████████████████████████████████████| 14/14 [00:05<00:00,  2.40it/s]\n"
     ]
    },
    {
     "name": "stdout",
     "output_type": "stream",
     "text": [
      "mstep self.weights:  [1.94426679e-01 7.09663717e-02 1.18795410e-01 6.65680532e-02\n",
      " 1.44643432e-01 8.27003917e-03 1.97391771e-02 1.49104223e-02\n",
      " 2.60451908e-02 1.05978559e-01 4.49549562e-02 2.55884544e-02\n",
      " 9.78938009e-02 6.12150765e-02 4.37753511e-06]\n",
      "Q Function:  -1412211.8886603434\n",
      "\n"
     ]
    },
    {
     "name": "stderr",
     "output_type": "stream",
     "text": [
      "100%|████████████████████████████████████████████████████████████████████████████████████████████████████| 14/14 [00:05<00:00,  2.35it/s]\n"
     ]
    },
    {
     "name": "stdout",
     "output_type": "stream",
     "text": [
      "mstep self.weights:  [1.92817728e-01 7.03996025e-02 1.22531280e-01 1.02531290e-01\n",
      " 1.37034901e-01 6.92786465e-03 1.94810642e-02 1.22696555e-02\n",
      " 3.12752491e-02 1.09513816e-01 3.76483161e-02 2.05257149e-02\n",
      " 1.08529936e-01 2.85135816e-02 1.13346675e-09]\n",
      "Q Function:  -1411581.0996081776\n",
      "\n"
     ]
    },
    {
     "name": "stderr",
     "output_type": "stream",
     "text": [
      "100%|████████████████████████████████████████████████████████████████████████████████████████████████████| 14/14 [00:05<00:00,  2.41it/s]\n"
     ]
    },
    {
     "name": "stdout",
     "output_type": "stream",
     "text": [
      "mstep self.weights:  [1.91226572e-01 6.74318563e-02 1.19443321e-01 1.09285697e-01\n",
      " 1.34368139e-01 1.92570513e-03 1.99516386e-02 1.29798907e-02\n",
      " 4.57327091e-02 1.10262745e-01 2.92263767e-02 2.27354496e-02\n",
      " 1.01187553e-01 3.42423474e-02 2.26543757e-10]\n",
      "Q Function:  -1400728.9058330236\n",
      "\n"
     ]
    },
    {
     "name": "stderr",
     "output_type": "stream",
     "text": [
      "100%|████████████████████████████████████████████████████████████████████████████████████████████████████| 13/13 [00:05<00:00,  2.21it/s]\n"
     ]
    },
    {
     "name": "stdout",
     "output_type": "stream",
     "text": [
      "mstep self.weights:  [1.85217846e-01 6.61999760e-02 1.13906081e-01 1.21545108e-01\n",
      " 1.33609501e-01 1.75654312e-10 1.66507408e-02 1.81829686e-02\n",
      " 5.16928549e-02 1.08459957e-01 2.88544469e-02 2.38911304e-02\n",
      " 9.96722596e-02 3.21171297e-02 1.76465072e-10]\n",
      "Q Function:  -1400447.0255324887\n",
      "\n"
     ]
    },
    {
     "name": "stderr",
     "output_type": "stream",
     "text": [
      "100%|████████████████████████████████████████████████████████████████████████████████████████████████████| 13/13 [00:05<00:00,  2.22it/s]\n"
     ]
    },
    {
     "name": "stdout",
     "output_type": "stream",
     "text": [
      "mstep self.weights:  [1.85321481e-01 6.74523610e-02 1.12504456e-01 1.20800413e-01\n",
      " 1.35023190e-01 1.75654312e-10 1.74359384e-02 2.31878212e-02\n",
      " 5.28535937e-02 9.95505708e-02 2.70577689e-02 2.79705739e-02\n",
      " 9.93373816e-02 3.15044508e-02 1.76170678e-10]\n",
      "Q Function:  -1399218.9539250785\n",
      "\n"
     ]
    },
    {
     "name": "stderr",
     "output_type": "stream",
     "text": [
      "100%|████████████████████████████████████████████████████████████████████████████████████████████████████| 13/13 [00:07<00:00,  1.76it/s]\n"
     ]
    },
    {
     "name": "stdout",
     "output_type": "stream",
     "text": [
      "mstep self.weights:  [1.81833344e-01 6.38105913e-02 1.18882488e-01 1.33626805e-01\n",
      " 1.35185930e-01 1.75654312e-10 1.89562807e-02 1.36533564e-02\n",
      " 5.50797212e-02 9.63599155e-02 2.61694797e-02 3.04543741e-02\n",
      " 1.00603403e-01 2.53843116e-02 1.75962572e-10]\n",
      "Q Function:  -1400392.7942294998\n",
      "\n"
     ]
    },
    {
     "name": "stderr",
     "output_type": "stream",
     "text": [
      "100%|████████████████████████████████████████████████████████████████████████████████████████████████████| 13/13 [00:05<00:00,  2.25it/s]\n"
     ]
    },
    {
     "name": "stdout",
     "output_type": "stream",
     "text": [
      "mstep self.weights:  [1.85404249e-01 6.55663253e-02 1.26936143e-01 1.32780989e-01\n",
      " 1.34853053e-01 1.75654312e-10 1.61454911e-02 3.24740373e-04\n",
      " 5.55620464e-02 9.59344643e-02 2.63218215e-02 3.58120692e-02\n",
      " 1.05325813e-01 1.90327957e-02 1.75785813e-10]\n",
      "Q Function:  -1401765.5613508795\n",
      "\n"
     ]
    },
    {
     "name": "stderr",
     "output_type": "stream",
     "text": [
      "100%|████████████████████████████████████████████████████████████████████████████████████████████████████| 12/12 [00:05<00:00,  2.27it/s]\n"
     ]
    },
    {
     "name": "stdout",
     "output_type": "stream",
     "text": [
      "mstep self.weights:  [1.55719685e-01 6.93098514e-02 1.25182968e-01 1.61031021e-01\n",
      " 1.33932825e-01 1.75654312e-10 1.65428810e-02 1.75654312e-10\n",
      " 5.50221137e-02 9.83168942e-02 2.58365476e-02 3.94344626e-02\n",
      " 1.04797880e-01 1.48728689e-02 1.75920917e-10]\n",
      "Q Function:  -1404624.6974585755\n",
      "\n"
     ]
    },
    {
     "name": "stderr",
     "output_type": "stream",
     "text": [
      "100%|████████████████████████████████████████████████████████████████████████████████████████████████████| 12/12 [00:05<00:00,  2.12it/s]\n"
     ]
    },
    {
     "name": "stdout",
     "output_type": "stream",
     "text": [
      "mstep self.weights:  [1.40150560e-01 6.87586735e-02 1.22773142e-01 1.79462334e-01\n",
      " 1.33996710e-01 1.75654312e-10 1.35259221e-02 1.75654312e-10\n",
      " 5.73106565e-02 9.73548617e-02 2.65983064e-02 3.82830521e-02\n",
      " 1.09040267e-01 1.27455141e-02 1.75796954e-10]\n",
      "Q Function:  -1406679.420107708\n",
      "\n",
      "No. clus:  12\n",
      "cl3 with 999 HVGs\n",
      "WARNING:root:Selecting 100 genes required 100.0% dataset threshold.\n"
     ]
    },
    {
     "name": "stderr",
     "output_type": "stream",
     "text": [
      "/home/tchari/monod/src/monod/mminference.py:512: RuntimeWarning: divide by zero encountered in true_divide\n",
      "  divids = (1e4/tots)[:,None]\n",
      "/home/tchari/monod/src/monod/mminference.py:513: RuntimeWarning: invalid value encountered in multiply\n",
      "  S_t = S_t*divids\n",
      "100%|██████████████████████████████████████████████████████████████████████████████████████████████████████| 3/3 [00:04<00:00,  1.50s/it]\n",
      "100%|██████████████████████████████████████████████████████████████████████████████████████████████████████| 3/3 [00:04<00:00,  1.46s/it]\n"
     ]
    },
    {
     "name": "stdout",
     "output_type": "stream",
     "text": [
      "mstep self.weights:  [0.04497108 0.68247498 0.27255394]\n",
      "Q Function:  -439601.0398664184\n",
      "\n"
     ]
    },
    {
     "name": "stderr",
     "output_type": "stream",
     "text": [
      "100%|██████████████████████████████████████████████████████████████████████████████████████████████████████| 3/3 [00:04<00:00,  1.59s/it]\n"
     ]
    },
    {
     "name": "stdout",
     "output_type": "stream",
     "text": [
      "mstep self.weights:  [0.11692097 0.62657093 0.25650811]\n",
      "Q Function:  -468439.5893317328\n",
      "\n"
     ]
    },
    {
     "name": "stderr",
     "output_type": "stream",
     "text": [
      "100%|██████████████████████████████████████████████████████████████████████████████████████████████████████| 3/3 [00:04<00:00,  1.59s/it]\n"
     ]
    },
    {
     "name": "stdout",
     "output_type": "stream",
     "text": [
      "mstep self.weights:  [0.62767492 0.11927434 0.25305074]\n",
      "Q Function:  -456564.506604144\n",
      "\n"
     ]
    },
    {
     "name": "stderr",
     "output_type": "stream",
     "text": [
      "100%|██████████████████████████████████████████████████████████████████████████████████████████████████████| 2/2 [00:04<00:00,  2.18s/it]\n"
     ]
    },
    {
     "name": "stdout",
     "output_type": "stream",
     "text": [
      "mstep self.weights:  [7.32593027e-01 2.54194204e-10 2.67406972e-01]\n",
      "Q Function:  -423566.3646268276\n",
      "\n"
     ]
    },
    {
     "name": "stderr",
     "output_type": "stream",
     "text": [
      "100%|██████████████████████████████████████████████████████████████████████████████████████████████████████| 2/2 [00:04<00:00,  2.31s/it]\n"
     ]
    },
    {
     "name": "stdout",
     "output_type": "stream",
     "text": [
      "mstep self.weights:  [7.24966784e-01 2.54194204e-10 2.75033216e-01]\n",
      "Q Function:  -419758.7093284548\n",
      "\n"
     ]
    },
    {
     "name": "stderr",
     "output_type": "stream",
     "text": [
      "100%|██████████████████████████████████████████████████████████████████████████████████████████████████████| 2/2 [00:05<00:00,  2.54s/it]\n"
     ]
    },
    {
     "name": "stdout",
     "output_type": "stream",
     "text": [
      "mstep self.weights:  [7.20892291e-01 2.54194204e-10 2.79107709e-01]\n",
      "Q Function:  -416875.229921755\n",
      "\n"
     ]
    },
    {
     "name": "stderr",
     "output_type": "stream",
     "text": [
      "100%|██████████████████████████████████████████████████████████████████████████████████████████████████████| 2/2 [00:05<00:00,  2.71s/it]\n"
     ]
    },
    {
     "name": "stdout",
     "output_type": "stream",
     "text": [
      "mstep self.weights:  [7.18633467e-01 2.54194204e-10 2.81366533e-01]\n",
      "Q Function:  -437045.11784420616\n",
      "\n"
     ]
    },
    {
     "name": "stderr",
     "output_type": "stream",
     "text": [
      "100%|██████████████████████████████████████████████████████████████████████████████████████████████████████| 2/2 [00:04<00:00,  2.29s/it]\n"
     ]
    },
    {
     "name": "stdout",
     "output_type": "stream",
     "text": [
      "mstep self.weights:  [7.19010604e-01 2.54194204e-10 2.80989396e-01]\n",
      "Q Function:  -436005.9372207144\n",
      "\n"
     ]
    },
    {
     "name": "stderr",
     "output_type": "stream",
     "text": [
      "100%|██████████████████████████████████████████████████████████████████████████████████████████████████████| 2/2 [00:04<00:00,  2.12s/it]\n"
     ]
    },
    {
     "name": "stdout",
     "output_type": "stream",
     "text": [
      "mstep self.weights:  [7.18096462e-01 2.54194204e-10 2.81903537e-01]\n",
      "Q Function:  -434919.2320229011\n",
      "\n"
     ]
    },
    {
     "name": "stderr",
     "output_type": "stream",
     "text": [
      "100%|██████████████████████████████████████████████████████████████████████████████████████████████████████| 2/2 [00:04<00:00,  2.18s/it]\n"
     ]
    },
    {
     "name": "stdout",
     "output_type": "stream",
     "text": [
      "mstep self.weights:  [7.18096154e-01 2.54194204e-10 2.81903846e-01]\n",
      "Q Function:  -433650.91484102246\n",
      "\n",
      "No. clus:  2\n",
      "WARNING:root:Selecting 100 genes required 100.0% dataset threshold.\n"
     ]
    },
    {
     "name": "stderr",
     "output_type": "stream",
     "text": [
      "/home/tchari/monod/src/monod/mminference.py:512: RuntimeWarning: divide by zero encountered in true_divide\n",
      "  divids = (1e4/tots)[:,None]\n",
      "/home/tchari/monod/src/monod/mminference.py:513: RuntimeWarning: invalid value encountered in multiply\n",
      "  S_t = S_t*divids\n",
      "100%|██████████████████████████████████████████████████████████████████████████████████████████████████████| 8/8 [00:04<00:00,  1.62it/s]\n",
      "100%|██████████████████████████████████████████████████████████████████████████████████████████████████████| 8/8 [00:04<00:00,  1.63it/s]\n"
     ]
    },
    {
     "name": "stdout",
     "output_type": "stream",
     "text": [
      "mstep self.weights:  [0.02341702 0.04314069 0.17863213 0.64309273 0.07375436 0.01958273\n",
      " 0.0072822  0.01109813]\n",
      "Q Function:  -470765.1050877757\n",
      "\n"
     ]
    },
    {
     "name": "stderr",
     "output_type": "stream",
     "text": [
      "100%|██████████████████████████████████████████████████████████████████████████████████████████████████████| 6/6 [00:04<00:00,  1.23it/s]\n"
     ]
    },
    {
     "name": "stdout",
     "output_type": "stream",
     "text": [
      "mstep self.weights:  [3.90500139e-02 1.19333070e-02 1.72762040e-01 6.82107731e-01\n",
      " 5.99561649e-02 3.41338250e-02 5.69180732e-05 2.54194204e-10]\n",
      "Q Function:  -453341.0652655857\n",
      "\n"
     ]
    },
    {
     "name": "stderr",
     "output_type": "stream",
     "text": [
      "100%|██████████████████████████████████████████████████████████████████████████████████████████████████████| 6/6 [00:04<00:00,  1.28it/s]\n"
     ]
    },
    {
     "name": "stdout",
     "output_type": "stream",
     "text": [
      "mstep self.weights:  [3.96544580e-02 2.60392443e-10 1.48746426e-01 6.89500661e-01\n",
      " 8.10200000e-02 4.05875758e-02 4.90879158e-04 2.54194204e-10]\n",
      "Q Function:  -421983.60634474206\n",
      "\n"
     ]
    },
    {
     "name": "stderr",
     "output_type": "stream",
     "text": [
      "100%|██████████████████████████████████████████████████████████████████████████████████████████████████████| 5/5 [00:05<00:00,  1.05s/it]\n"
     ]
    },
    {
     "name": "stdout",
     "output_type": "stream",
     "text": [
      "mstep self.weights:  [3.78971803e-02 2.54194204e-10 1.55574045e-01 6.87863677e-01\n",
      " 7.34500823e-02 4.52150148e-02 2.54194204e-10 2.54194204e-10]\n",
      "Q Function:  -419084.8697514332\n",
      "\n"
     ]
    },
    {
     "name": "stderr",
     "output_type": "stream",
     "text": [
      "100%|██████████████████████████████████████████████████████████████████████████████████████████████████████| 5/5 [00:04<00:00,  1.04it/s]\n"
     ]
    },
    {
     "name": "stdout",
     "output_type": "stream",
     "text": [
      "mstep self.weights:  [3.02581438e-02 2.54194204e-10 1.30798991e-01 6.86375208e-01\n",
      " 1.06272411e-01 4.62952457e-02 2.54194204e-10 2.54194204e-10]\n",
      "Q Function:  -419258.2122831417\n",
      "\n"
     ]
    },
    {
     "name": "stderr",
     "output_type": "stream",
     "text": [
      "100%|██████████████████████████████████████████████████████████████████████████████████████████████████████| 5/5 [00:04<00:00,  1.04it/s]\n"
     ]
    },
    {
     "name": "stdout",
     "output_type": "stream",
     "text": [
      "mstep self.weights:  [2.61452915e-02 2.54194204e-10 1.05287573e-01 6.86221775e-01\n",
      " 1.36499537e-01 4.58458234e-02 2.54194204e-10 2.54194204e-10]\n",
      "Q Function:  -408978.345441459\n",
      "\n"
     ]
    },
    {
     "name": "stderr",
     "output_type": "stream",
     "text": [
      "100%|██████████████████████████████████████████████████████████████████████████████████████████████████████| 5/5 [00:03<00:00,  1.31it/s]\n"
     ]
    },
    {
     "name": "stdout",
     "output_type": "stream",
     "text": [
      "mstep self.weights:  [2.40821421e-02 2.54194204e-10 8.89922354e-02 6.85140152e-01\n",
      " 1.56782854e-01 4.50026164e-02 2.54194204e-10 2.54194204e-10]\n",
      "Q Function:  -409113.1147090757\n",
      "\n"
     ]
    },
    {
     "name": "stderr",
     "output_type": "stream",
     "text": [
      "100%|██████████████████████████████████████████████████████████████████████████████████████████████████████| 5/5 [00:03<00:00,  1.26it/s]\n"
     ]
    },
    {
     "name": "stdout",
     "output_type": "stream",
     "text": [
      "mstep self.weights:  [2.56106180e-02 2.54194204e-10 7.55616136e-02 6.82885744e-01\n",
      " 1.70490213e-01 4.54518103e-02 2.54194204e-10 2.54194204e-10]\n",
      "Q Function:  -410332.3680850158\n",
      "\n"
     ]
    },
    {
     "name": "stderr",
     "output_type": "stream",
     "text": [
      "100%|██████████████████████████████████████████████████████████████████████████████████████████████████████| 5/5 [00:04<00:00,  1.21it/s]\n"
     ]
    },
    {
     "name": "stdout",
     "output_type": "stream",
     "text": [
      "mstep self.weights:  [2.52438626e-02 2.54194204e-10 6.57821659e-02 6.82145975e-01\n",
      " 1.80464778e-01 4.63632175e-02 2.54194204e-10 2.54194204e-10]\n",
      "Q Function:  -411916.4189320931\n",
      "\n"
     ]
    },
    {
     "name": "stderr",
     "output_type": "stream",
     "text": [
      "100%|██████████████████████████████████████████████████████████████████████████████████████████████████████| 5/5 [00:03<00:00,  1.25it/s]\n"
     ]
    },
    {
     "name": "stdout",
     "output_type": "stream",
     "text": [
      "mstep self.weights:  [2.68563151e-02 2.54194204e-10 6.36456185e-02 6.82473577e-01\n",
      " 1.82078632e-01 4.49458560e-02 2.54194204e-10 2.54194204e-10]\n",
      "Q Function:  -409442.61067175627\n",
      "\n",
      "No. clus:  5\n",
      "allen_b08 with 1000 HVGs\n",
      "WARNING:root:Selecting 100 genes required 100.0% dataset threshold.\n"
     ]
    },
    {
     "name": "stderr",
     "output_type": "stream",
     "text": [
      "100%|████████████████████████████████████████████████████████████████████████████████████████████████████| 10/10 [00:09<00:00,  1.10it/s]\n",
      "100%|████████████████████████████████████████████████████████████████████████████████████████████████████| 10/10 [00:07<00:00,  1.42it/s]\n"
     ]
    },
    {
     "name": "stdout",
     "output_type": "stream",
     "text": [
      "mstep self.weights:  [0.12018867 0.22464449 0.13474558 0.06304424 0.0570915  0.00378389\n",
      " 0.12104865 0.06125014 0.17882131 0.03538152]\n",
      "Q Function:  -1245299.5038542994\n",
      "\n"
     ]
    },
    {
     "name": "stderr",
     "output_type": "stream",
     "text": [
      "100%|████████████████████████████████████████████████████████████████████████████████████████████████████| 10/10 [00:06<00:00,  1.56it/s]\n"
     ]
    },
    {
     "name": "stdout",
     "output_type": "stream",
     "text": [
      "mstep self.weights:  [0.19916928 0.226094   0.1575402  0.02658226 0.05574161 0.00481233\n",
      " 0.17011727 0.06103948 0.0600222  0.03888137]\n",
      "Q Function:  -1231026.7628743972\n",
      "\n"
     ]
    },
    {
     "name": "stderr",
     "output_type": "stream",
     "text": [
      "100%|████████████████████████████████████████████████████████████████████████████████████████████████████| 10/10 [00:06<00:00,  1.52it/s]\n"
     ]
    },
    {
     "name": "stdout",
     "output_type": "stream",
     "text": [
      "mstep self.weights:  [0.08500906 0.22860405 0.20009336 0.00045367 0.05385169 0.0135829\n",
      " 0.27956524 0.05146201 0.04155363 0.04582439]\n",
      "Q Function:  -1240707.3782768974\n",
      "\n"
     ]
    },
    {
     "name": "stderr",
     "output_type": "stream",
     "text": [
      "100%|██████████████████████████████████████████████████████████████████████████████████████████████████████| 9/9 [00:06<00:00,  1.37it/s]\n"
     ]
    },
    {
     "name": "stdout",
     "output_type": "stream",
     "text": [
      "mstep self.weights:  [5.68544607e-02 2.25180631e-01 2.55867448e-01 1.75654312e-10\n",
      " 5.40496277e-02 2.26208376e-02 7.59424068e-02 4.05539786e-02\n",
      " 2.19833771e-01 4.90968387e-02]\n",
      "Q Function:  -1235836.2406038495\n",
      "\n"
     ]
    },
    {
     "name": "stderr",
     "output_type": "stream",
     "text": [
      "100%|██████████████████████████████████████████████████████████████████████████████████████████████████████| 9/9 [00:06<00:00,  1.45it/s]\n"
     ]
    },
    {
     "name": "stdout",
     "output_type": "stream",
     "text": [
      "mstep self.weights:  [7.86772771e-02 2.21133551e-01 3.64013735e-01 1.75654312e-10\n",
      " 5.30638432e-02 2.45196296e-02 2.95215817e-02 4.09607963e-02\n",
      " 1.38955813e-01 4.91537719e-02]\n",
      "Q Function:  -1223865.4944940805\n",
      "\n"
     ]
    },
    {
     "name": "stderr",
     "output_type": "stream",
     "text": [
      "100%|██████████████████████████████████████████████████████████████████████████████████████████████████████| 9/9 [00:06<00:00,  1.42it/s]\n"
     ]
    },
    {
     "name": "stdout",
     "output_type": "stream",
     "text": [
      "mstep self.weights:  [5.96544322e-02 2.20277411e-01 3.34916363e-01 1.75654312e-10\n",
      " 5.23271060e-02 1.84762035e-02 5.06282750e-02 4.05441847e-02\n",
      " 1.66441210e-01 5.67348143e-02]\n",
      "Q Function:  -1210374.6656888518\n",
      "\n"
     ]
    },
    {
     "name": "stderr",
     "output_type": "stream",
     "text": [
      "100%|██████████████████████████████████████████████████████████████████████████████████████████████████████| 9/9 [00:06<00:00,  1.39it/s]\n"
     ]
    },
    {
     "name": "stdout",
     "output_type": "stream",
     "text": [
      "mstep self.weights:  [1.07145303e-01 2.19869272e-01 4.05513293e-01 1.75654312e-10\n",
      " 5.23788918e-02 7.08090047e-03 6.97135362e-02 4.30872072e-02\n",
      " 2.97340586e-02 6.54775378e-02]\n",
      "Q Function:  -1214289.430812289\n",
      "\n"
     ]
    },
    {
     "name": "stderr",
     "output_type": "stream",
     "text": [
      "100%|██████████████████████████████████████████████████████████████████████████████████████████████████████| 9/9 [00:06<00:00,  1.35it/s]\n"
     ]
    },
    {
     "name": "stdout",
     "output_type": "stream",
     "text": [
      "mstep self.weights:  [1.10862003e-01 2.19177149e-01 4.12662464e-01 1.75654312e-10\n",
      " 5.23124652e-02 2.16063442e-03 8.74863336e-02 4.31303598e-02\n",
      " 7.14526072e-04 7.14940656e-02]\n",
      "Q Function:  -1215168.0174059868\n",
      "\n"
     ]
    },
    {
     "name": "stderr",
     "output_type": "stream",
     "text": [
      "100%|██████████████████████████████████████████████████████████████████████████████████████████████████████| 7/7 [00:06<00:00,  1.09it/s]\n"
     ]
    },
    {
     "name": "stdout",
     "output_type": "stream",
     "text": [
      "mstep self.weights:  [7.80060680e-02 2.18784908e-01 4.27041271e-01 1.75654312e-10\n",
      " 5.23823682e-02 1.75654312e-10 1.06373117e-01 4.27269483e-02\n",
      " 1.75654312e-10 7.46853193e-02]\n",
      "Q Function:  -1214621.7817082512\n",
      "\n"
     ]
    },
    {
     "name": "stderr",
     "output_type": "stream",
     "text": [
      "100%|██████████████████████████████████████████████████████████████████████████████████████████████████████| 7/7 [00:06<00:00,  1.07it/s]\n"
     ]
    },
    {
     "name": "stdout",
     "output_type": "stream",
     "text": [
      "mstep self.weights:  [2.74666675e-02 2.18404146e-01 4.68666334e-01 1.75654312e-10\n",
      " 5.23619234e-02 1.75654312e-10 1.15550226e-01 4.26810577e-02\n",
      " 1.75654312e-10 7.48696444e-02]\n",
      "Q Function:  -1215303.4405789536\n",
      "\n",
      "No. clus:  7\n",
      "WARNING:root:Selecting 100 genes required 100.0% dataset threshold.\n"
     ]
    },
    {
     "name": "stderr",
     "output_type": "stream",
     "text": [
      "100%|████████████████████████████████████████████████████████████████████████████████████████████████████| 15/15 [00:09<00:00,  1.56it/s]\n",
      "100%|████████████████████████████████████████████████████████████████████████████████████████████████████| 15/15 [00:07<00:00,  2.00it/s]\n"
     ]
    },
    {
     "name": "stdout",
     "output_type": "stream",
     "text": [
      "mstep self.weights:  [0.13370572 0.00038164 0.12116739 0.01268754 0.02980728 0.04534772\n",
      " 0.04491231 0.09950969 0.05752659 0.0327794  0.18029799 0.06716953\n",
      " 0.08456112 0.05155125 0.03859484]\n",
      "Q Function:  -1268532.570334903\n",
      "\n"
     ]
    },
    {
     "name": "stderr",
     "output_type": "stream",
     "text": [
      "100%|████████████████████████████████████████████████████████████████████████████████████████████████████| 13/13 [00:07<00:00,  1.83it/s]\n"
     ]
    },
    {
     "name": "stdout",
     "output_type": "stream",
     "text": [
      "mstep self.weights:  [1.33687672e-01 1.75654312e-10 1.32432576e-01 6.04222957e-10\n",
      " 2.96358643e-02 4.80299590e-02 4.48766941e-02 8.72739895e-02\n",
      " 4.74608007e-02 2.44479028e-02 1.78891112e-01 2.29788515e-02\n",
      " 6.43914187e-02 1.52475311e-01 3.34178475e-02]\n",
      "Q Function:  -1203273.2455633585\n",
      "\n"
     ]
    },
    {
     "name": "stderr",
     "output_type": "stream",
     "text": [
      "100%|████████████████████████████████████████████████████████████████████████████████████████████████████| 13/13 [00:07<00:00,  1.84it/s]\n"
     ]
    },
    {
     "name": "stdout",
     "output_type": "stream",
     "text": [
      "mstep self.weights:  [1.70032633e-01 1.75654312e-10 1.34696208e-01 1.75743544e-10\n",
      " 5.27067124e-02 5.22446779e-02 4.44506778e-02 8.37416813e-02\n",
      " 4.46485537e-02 2.51197639e-02 1.80309658e-01 2.74722272e-03\n",
      " 4.89247793e-02 1.41043735e-01 1.93336967e-02]\n",
      "Q Function:  -1209412.5163480076\n",
      "\n"
     ]
    },
    {
     "name": "stderr",
     "output_type": "stream",
     "text": [
      "100%|████████████████████████████████████████████████████████████████████████████████████████████████████| 12/12 [00:06<00:00,  1.74it/s]\n"
     ]
    },
    {
     "name": "stdout",
     "output_type": "stream",
     "text": [
      "mstep self.weights:  [1.58933666e-01 1.75654312e-10 1.09509381e-01 1.75654315e-10\n",
      " 7.57136177e-02 6.58661979e-02 4.34874093e-02 1.10114831e-01\n",
      " 4.69303121e-02 2.58068272e-02 2.68673385e-01 1.75654312e-10\n",
      " 3.51715761e-02 3.93261900e-02 2.04666059e-02]\n",
      "Q Function:  -1209527.8121247694\n",
      "\n"
     ]
    },
    {
     "name": "stderr",
     "output_type": "stream",
     "text": [
      "100%|████████████████████████████████████████████████████████████████████████████████████████████████████| 12/12 [00:06<00:00,  1.76it/s]\n"
     ]
    },
    {
     "name": "stdout",
     "output_type": "stream",
     "text": [
      "mstep self.weights:  [1.15798797e-01 1.75654312e-10 8.88476728e-02 1.75654312e-10\n",
      " 5.78128886e-02 8.16391427e-02 4.34881176e-02 1.29899453e-01\n",
      " 5.19553409e-02 2.57543358e-02 2.77473520e-01 1.75654312e-10\n",
      " 1.52547978e-02 9.16309842e-02 2.04449497e-02]\n",
      "Q Function:  -1194861.3501703104\n",
      "\n"
     ]
    },
    {
     "name": "stderr",
     "output_type": "stream",
     "text": [
      "100%|████████████████████████████████████████████████████████████████████████████████████████████████████| 12/12 [00:06<00:00,  1.79it/s]\n"
     ]
    },
    {
     "name": "stdout",
     "output_type": "stream",
     "text": [
      "mstep self.weights:  [1.14309752e-01 1.75654312e-10 7.92752378e-02 1.75655983e-10\n",
      " 9.39863249e-02 1.05633004e-01 4.38458666e-02 1.38985670e-01\n",
      " 5.20849282e-02 2.58659218e-02 2.54244327e-01 1.75654312e-10\n",
      " 5.50485672e-02 2.77172569e-02 9.00314228e-03]\n",
      "Q Function:  -1193701.8891629118\n",
      "\n"
     ]
    },
    {
     "name": "stderr",
     "output_type": "stream",
     "text": [
      "100%|████████████████████████████████████████████████████████████████████████████████████████████████████| 12/12 [00:06<00:00,  1.89it/s]\n"
     ]
    },
    {
     "name": "stdout",
     "output_type": "stream",
     "text": [
      "mstep self.weights:  [8.45819064e-02 1.75654312e-10 7.02692230e-02 1.75733745e-10\n",
      " 8.74104804e-02 1.19348612e-01 4.46554591e-02 1.48006467e-01\n",
      " 5.21678489e-02 2.54675649e-02 2.95735396e-01 1.75654312e-10\n",
      " 3.82723856e-02 1.19724939e-02 2.21121633e-02]\n",
      "Q Function:  -1196143.4006547758\n",
      "\n"
     ]
    },
    {
     "name": "stderr",
     "output_type": "stream",
     "text": [
      "100%|████████████████████████████████████████████████████████████████████████████████████████████████████| 12/12 [00:06<00:00,  1.79it/s]\n"
     ]
    },
    {
     "name": "stdout",
     "output_type": "stream",
     "text": [
      "mstep self.weights:  [9.21065065e-02 1.75654312e-10 7.22618598e-02 1.78252984e-10\n",
      " 9.58426965e-02 1.24659701e-01 4.52101223e-02 1.47005265e-01\n",
      " 5.21371325e-02 2.52344615e-02 3.28682818e-01 1.75654312e-10\n",
      " 1.59947904e-03 1.75489261e-04 1.50844678e-02]\n",
      "Q Function:  -1194896.9822221093\n",
      "\n"
     ]
    },
    {
     "name": "stderr",
     "output_type": "stream",
     "text": [
      "100%|████████████████████████████████████████████████████████████████████████████████████████████████████| 10/10 [00:07<00:00,  1.38it/s]\n"
     ]
    },
    {
     "name": "stdout",
     "output_type": "stream",
     "text": [
      "mstep self.weights:  [4.89257553e-04 1.75654312e-10 7.33586445e-02 4.98339903e-06\n",
      " 1.13397979e-01 1.46773755e-01 4.56753370e-02 1.45699189e-01\n",
      " 5.24243661e-02 2.52802898e-02 3.95976161e-01 1.75654312e-10\n",
      " 1.75654312e-10 1.75654312e-10 9.20035658e-04]\n",
      "Q Function:  -1201880.4535040383\n",
      "\n"
     ]
    },
    {
     "name": "stderr",
     "output_type": "stream",
     "text": [
      "100%|██████████████████████████████████████████████████████████████████████████████████████████████████████| 8/8 [00:06<00:00,  1.25it/s]\n"
     ]
    },
    {
     "name": "stdout",
     "output_type": "stream",
     "text": [
      "mstep self.weights:  [1.75654312e-10 1.75654312e-10 7.39640101e-02 3.74048593e-07\n",
      " 1.07347353e-01 1.47573767e-01 4.39989905e-02 1.45601858e-01\n",
      " 5.25380289e-02 2.59570959e-02 4.03018523e-01 1.75654312e-10\n",
      " 1.75654312e-10 1.75654312e-10 1.75654312e-10]\n",
      "Q Function:  -1203902.0917294468\n",
      "\n",
      "No. clus:  8\n",
      "cl3 with 1999 HVGs\n",
      "WARNING:root:Selecting 100 genes required 100.0% dataset threshold.\n"
     ]
    },
    {
     "name": "stderr",
     "output_type": "stream",
     "text": [
      "/home/tchari/monod/src/monod/mminference.py:512: RuntimeWarning: divide by zero encountered in true_divide\n",
      "  divids = (1e4/tots)[:,None]\n",
      "/home/tchari/monod/src/monod/mminference.py:513: RuntimeWarning: invalid value encountered in multiply\n",
      "  S_t = S_t*divids\n",
      "100%|██████████████████████████████████████████████████████████████████████████████████████████████████████| 3/3 [00:03<00:00,  1.01s/it]\n",
      "100%|██████████████████████████████████████████████████████████████████████████████████████████████████████| 3/3 [00:04<00:00,  1.35s/it]\n"
     ]
    },
    {
     "name": "stdout",
     "output_type": "stream",
     "text": [
      "mstep self.weights:  [0.27624368 0.47791247 0.24584385]\n",
      "Q Function:  -370133.97356669744\n",
      "\n"
     ]
    },
    {
     "name": "stderr",
     "output_type": "stream",
     "text": [
      "100%|██████████████████████████████████████████████████████████████████████████████████████████████████████| 3/3 [00:03<00:00,  1.18s/it]\n"
     ]
    },
    {
     "name": "stdout",
     "output_type": "stream",
     "text": [
      "mstep self.weights:  [0.27245904 0.14765863 0.57988233]\n",
      "Q Function:  -367781.2368060434\n",
      "\n"
     ]
    },
    {
     "name": "stderr",
     "output_type": "stream",
     "text": [
      "100%|██████████████████████████████████████████████████████████████████████████████████████████████████████| 2/2 [00:03<00:00,  1.98s/it]\n"
     ]
    },
    {
     "name": "stdout",
     "output_type": "stream",
     "text": [
      "mstep self.weights:  [2.75006394e-01 2.54194204e-10 7.24993605e-01]\n",
      "Q Function:  -355699.343932407\n",
      "\n"
     ]
    },
    {
     "name": "stderr",
     "output_type": "stream",
     "text": [
      "100%|██████████████████████████████████████████████████████████████████████████████████████████████████████| 2/2 [00:03<00:00,  1.70s/it]\n"
     ]
    },
    {
     "name": "stdout",
     "output_type": "stream",
     "text": [
      "mstep self.weights:  [2.79698324e-01 2.54194204e-10 7.20301676e-01]\n",
      "Q Function:  -352086.1938154666\n",
      "\n"
     ]
    },
    {
     "name": "stderr",
     "output_type": "stream",
     "text": [
      "100%|██████████████████████████████████████████████████████████████████████████████████████████████████████| 2/2 [00:03<00:00,  1.70s/it]\n"
     ]
    },
    {
     "name": "stdout",
     "output_type": "stream",
     "text": [
      "mstep self.weights:  [2.79544717e-01 2.54194204e-10 7.20455283e-01]\n",
      "Q Function:  -372808.4494265226\n",
      "\n"
     ]
    },
    {
     "name": "stderr",
     "output_type": "stream",
     "text": [
      "100%|██████████████████████████████████████████████████████████████████████████████████████████████████████| 2/2 [00:03<00:00,  1.76s/it]\n"
     ]
    },
    {
     "name": "stdout",
     "output_type": "stream",
     "text": [
      "mstep self.weights:  [2.80187065e-01 2.54194204e-10 7.19812935e-01]\n",
      "Q Function:  -372946.0467839141\n",
      "\n"
     ]
    },
    {
     "name": "stderr",
     "output_type": "stream",
     "text": [
      "100%|██████████████████████████████████████████████████████████████████████████████████████████████████████| 2/2 [00:03<00:00,  1.84s/it]\n"
     ]
    },
    {
     "name": "stdout",
     "output_type": "stream",
     "text": [
      "mstep self.weights:  [2.79323518e-01 2.54194204e-10 7.20676481e-01]\n",
      "Q Function:  -371961.3421319524\n",
      "\n"
     ]
    },
    {
     "name": "stderr",
     "output_type": "stream",
     "text": [
      "100%|██████████████████████████████████████████████████████████████████████████████████████████████████████| 2/2 [00:03<00:00,  1.93s/it]\n"
     ]
    },
    {
     "name": "stdout",
     "output_type": "stream",
     "text": [
      "mstep self.weights:  [2.79414413e-01 2.54194204e-10 7.20585587e-01]\n",
      "Q Function:  -371990.56991100137\n",
      "\n"
     ]
    },
    {
     "name": "stderr",
     "output_type": "stream",
     "text": [
      "100%|██████████████████████████████████████████████████████████████████████████████████████████████████████| 2/2 [00:03<00:00,  1.76s/it]\n"
     ]
    },
    {
     "name": "stdout",
     "output_type": "stream",
     "text": [
      "mstep self.weights:  [2.79726986e-01 2.54194204e-10 7.20273014e-01]\n",
      "Q Function:  -373068.3679911291\n",
      "\n"
     ]
    },
    {
     "name": "stderr",
     "output_type": "stream",
     "text": [
      "100%|██████████████████████████████████████████████████████████████████████████████████████████████████████| 2/2 [00:03<00:00,  1.83s/it]\n"
     ]
    },
    {
     "name": "stdout",
     "output_type": "stream",
     "text": [
      "mstep self.weights:  [2.80238665e-01 2.54194204e-10 7.19761335e-01]\n",
      "Q Function:  -372573.46360099973\n",
      "\n",
      "No. clus:  2\n",
      "WARNING:root:Selecting 100 genes required 100.0% dataset threshold.\n"
     ]
    },
    {
     "name": "stderr",
     "output_type": "stream",
     "text": [
      "/home/tchari/monod/src/monod/mminference.py:512: RuntimeWarning: divide by zero encountered in true_divide\n",
      "  divids = (1e4/tots)[:,None]\n",
      "/home/tchari/monod/src/monod/mminference.py:513: RuntimeWarning: invalid value encountered in multiply\n",
      "  S_t = S_t*divids\n",
      "100%|██████████████████████████████████████████████████████████████████████████████████████████████████████| 8/8 [00:03<00:00,  2.64it/s]\n",
      "100%|██████████████████████████████████████████████████████████████████████████████████████████████████████| 8/8 [00:03<00:00,  2.24it/s]\n"
     ]
    },
    {
     "name": "stdout",
     "output_type": "stream",
     "text": [
      "mstep self.weights:  [0.04879047 0.01968674 0.03626882 0.52695553 0.14095786 0.0279038\n",
      " 0.11647559 0.0829612 ]\n",
      "Q Function:  -399988.1516271503\n",
      "\n"
     ]
    },
    {
     "name": "stderr",
     "output_type": "stream",
     "text": [
      "100%|██████████████████████████████████████████████████████████████████████████████████████████████████████| 7/7 [00:03<00:00,  2.16it/s]\n"
     ]
    },
    {
     "name": "stdout",
     "output_type": "stream",
     "text": [
      "mstep self.weights:  [6.50859914e-04 1.47925770e-02 4.50647007e-02 6.82817300e-01\n",
      " 1.25459731e-01 1.58503572e-03 1.29629795e-01 2.57407664e-10]\n",
      "Q Function:  -349369.6391463351\n",
      "\n"
     ]
    },
    {
     "name": "stderr",
     "output_type": "stream",
     "text": [
      "100%|██████████████████████████████████████████████████████████████████████████████████████████████████████| 5/5 [00:03<00:00,  1.39it/s]\n"
     ]
    },
    {
     "name": "stdout",
     "output_type": "stream",
     "text": [
      "mstep self.weights:  [2.54194358e-10 2.31010554e-02 1.72333634e-01 5.55844315e-01\n",
      " 1.15356615e-01 2.46625729e-09 1.33364377e-01 2.54194381e-10]\n",
      "Q Function:  -381461.4289925045\n",
      "\n"
     ]
    },
    {
     "name": "stderr",
     "output_type": "stream",
     "text": [
      "100%|██████████████████████████████████████████████████████████████████████████████████████████████████████| 4/4 [00:03<00:00,  1.33it/s]\n"
     ]
    },
    {
     "name": "stdout",
     "output_type": "stream",
     "text": [
      "mstep self.weights:  [2.54194204e-10 3.12173732e-02 7.18272387e-01 1.77114381e-09\n",
      " 1.77837310e-01 2.54214144e-10 7.26729277e-02 2.54194204e-10]\n",
      "Q Function:  -365169.5629160662\n",
      "\n"
     ]
    },
    {
     "name": "stderr",
     "output_type": "stream",
     "text": [
      "100%|██████████████████████████████████████████████████████████████████████████████████████████████████████| 4/4 [00:03<00:00,  1.24it/s]\n"
     ]
    },
    {
     "name": "stdout",
     "output_type": "stream",
     "text": [
      "mstep self.weights:  [2.54194204e-10 4.01187087e-02 7.04620989e-01 2.54224181e-10\n",
      " 1.95371458e-01 2.54211210e-10 5.98888428e-02 2.54194590e-10]\n",
      "Q Function:  -417647.0075016856\n",
      "\n"
     ]
    },
    {
     "name": "stderr",
     "output_type": "stream",
     "text": [
      "100%|██████████████████████████████████████████████████████████████████████████████████████████████████████| 4/4 [00:03<00:00,  1.15it/s]\n"
     ]
    },
    {
     "name": "stdout",
     "output_type": "stream",
     "text": [
      "mstep self.weights:  [2.54194204e-10 4.44823691e-02 6.95300573e-01 5.97934033e-08\n",
      " 2.09898491e-01 2.54194204e-10 5.03185002e-02 6.26544063e-09]\n",
      "Q Function:  -371787.8452181394\n",
      "\n"
     ]
    },
    {
     "name": "stderr",
     "output_type": "stream",
     "text": [
      "100%|██████████████████████████████████████████████████████████████████████████████████████████████████████| 4/4 [00:03<00:00,  1.07it/s]\n"
     ]
    },
    {
     "name": "stdout",
     "output_type": "stream",
     "text": [
      "mstep self.weights:  [2.54194204e-10 4.25829939e-02 6.96165718e-01 2.54196756e-10\n",
      " 2.19737472e-01 2.54194204e-10 4.15138145e-02 2.54201520e-10]\n",
      "Q Function:  -358426.16215468524\n",
      "\n"
     ]
    },
    {
     "name": "stderr",
     "output_type": "stream",
     "text": [
      "100%|██████████████████████████████████████████████████████████████████████████████████████████████████████| 4/4 [00:03<00:00,  1.23it/s]\n"
     ]
    },
    {
     "name": "stdout",
     "output_type": "stream",
     "text": [
      "mstep self.weights:  [2.54194204e-10 4.24553477e-02 6.97547601e-01 2.54194207e-10\n",
      " 2.21209781e-01 2.54194204e-10 3.87872695e-02 2.54194248e-10]\n",
      "Q Function:  -373923.55292399\n",
      "\n"
     ]
    },
    {
     "name": "stderr",
     "output_type": "stream",
     "text": [
      "100%|██████████████████████████████████████████████████████████████████████████████████████████████████████| 4/4 [00:03<00:00,  1.05it/s]\n"
     ]
    },
    {
     "name": "stdout",
     "output_type": "stream",
     "text": [
      "mstep self.weights:  [2.54194204e-10 4.15551925e-02 6.96209118e-01 2.56478172e-10\n",
      " 2.24246239e-01 2.54194204e-10 3.79894491e-02 2.54391848e-10]\n",
      "Q Function:  -348968.85480451415\n",
      "\n"
     ]
    },
    {
     "name": "stderr",
     "output_type": "stream",
     "text": [
      "100%|██████████████████████████████████████████████████████████████████████████████████████████████████████| 4/4 [00:02<00:00,  1.36it/s]\n"
     ]
    },
    {
     "name": "stdout",
     "output_type": "stream",
     "text": [
      "mstep self.weights:  [2.54194204e-10 4.03736038e-02 6.93775014e-01 2.54200882e-10\n",
      " 1.91339817e-01 2.54194204e-10 7.45115638e-02 2.54201795e-10]\n",
      "Q Function:  -386582.07675600756\n",
      "\n",
      "No. clus:  4\n",
      "cl5 with 1000 HVGs\n",
      "WARNING:root:Selecting 100 genes required 100.0% dataset threshold.\n"
     ]
    },
    {
     "name": "stderr",
     "output_type": "stream",
     "text": [
      "/home/tchari/monod/src/monod/mminference.py:512: RuntimeWarning: divide by zero encountered in true_divide\n",
      "  divids = (1e4/tots)[:,None]\n",
      "/home/tchari/monod/src/monod/mminference.py:513: RuntimeWarning: invalid value encountered in multiply\n",
      "  S_t = S_t*divids\n",
      "100%|██████████████████████████████████████████████████████████████████████████████████████████████████████| 5/5 [00:03<00:00,  1.54it/s]\n",
      "100%|██████████████████████████████████████████████████████████████████████████████████████████████████████| 5/5 [00:03<00:00,  1.66it/s]\n"
     ]
    },
    {
     "name": "stdout",
     "output_type": "stream",
     "text": [
      "mstep self.weights:  [0.01519564 0.05190093 0.29201588 0.25118587 0.38970169]\n",
      "Q Function:  -660277.9081683389\n",
      "\n"
     ]
    },
    {
     "name": "stderr",
     "output_type": "stream",
     "text": [
      "100%|██████████████████████████████████████████████████████████████████████████████████████████████████████| 5/5 [00:03<00:00,  1.53it/s]\n"
     ]
    },
    {
     "name": "stdout",
     "output_type": "stream",
     "text": [
      "mstep self.weights:  [0.00683126 0.17003203 0.22277941 0.21042751 0.3899298 ]\n",
      "Q Function:  -637370.84722406\n",
      "\n"
     ]
    },
    {
     "name": "stderr",
     "output_type": "stream",
     "text": [
      "100%|██████████████████████████████████████████████████████████████████████████████████████████████████████| 5/5 [00:03<00:00,  1.44it/s]\n"
     ]
    },
    {
     "name": "stdout",
     "output_type": "stream",
     "text": [
      "mstep self.weights:  [0.00228995 0.23018692 0.21807695 0.46710625 0.08233993]\n",
      "Q Function:  -665440.2341993136\n",
      "\n"
     ]
    },
    {
     "name": "stderr",
     "output_type": "stream",
     "text": [
      "100%|██████████████████████████████████████████████████████████████████████████████████████████████████████| 5/5 [00:03<00:00,  1.33it/s]\n"
     ]
    },
    {
     "name": "stdout",
     "output_type": "stream",
     "text": [
      "mstep self.weights:  [2.81977400e-04 4.86587759e-02 2.08618280e-01 3.97626887e-01\n",
      " 3.44814080e-01]\n",
      "Q Function:  -650336.5986476056\n",
      "\n"
     ]
    },
    {
     "name": "stderr",
     "output_type": "stream",
     "text": [
      "100%|██████████████████████████████████████████████████████████████████████████████████████████████████████| 4/4 [00:03<00:00,  1.13it/s]\n"
     ]
    },
    {
     "name": "stdout",
     "output_type": "stream",
     "text": [
      "mstep self.weights:  [2.02142713e-10 2.15867078e-01 1.99935329e-01 5.11840413e-01\n",
      " 7.23571797e-02]\n",
      "Q Function:  -653619.4749204936\n",
      "\n"
     ]
    },
    {
     "name": "stderr",
     "output_type": "stream",
     "text": [
      "100%|██████████████████████████████████████████████████████████████████████████████████████████████████████| 4/4 [00:03<00:00,  1.03it/s]\n"
     ]
    },
    {
     "name": "stdout",
     "output_type": "stream",
     "text": [
      "mstep self.weights:  [2.02142713e-10 1.53698621e-01 1.92518712e-01 5.00412589e-01\n",
      " 1.53370078e-01]\n",
      "Q Function:  -647190.9958524827\n",
      "\n"
     ]
    },
    {
     "name": "stderr",
     "output_type": "stream",
     "text": [
      "100%|██████████████████████████████████████████████████████████████████████████████████████████████████████| 4/4 [00:03<00:00,  1.15it/s]\n"
     ]
    },
    {
     "name": "stdout",
     "output_type": "stream",
     "text": [
      "mstep self.weights:  [2.02142713e-10 9.16920991e-02 1.95303661e-01 5.31499673e-01\n",
      " 1.81504567e-01]\n",
      "Q Function:  -667695.7449753775\n",
      "\n"
     ]
    },
    {
     "name": "stderr",
     "output_type": "stream",
     "text": [
      "100%|██████████████████████████████████████████████████████████████████████████████████████████████████████| 4/4 [00:04<00:00,  1.06s/it]\n"
     ]
    },
    {
     "name": "stdout",
     "output_type": "stream",
     "text": [
      "mstep self.weights:  [2.02142713e-10 1.07701071e-01 1.87759914e-01 5.60409799e-01\n",
      " 1.44129215e-01]\n",
      "Q Function:  -665456.0960939379\n",
      "\n"
     ]
    },
    {
     "name": "stderr",
     "output_type": "stream",
     "text": [
      "100%|██████████████████████████████████████████████████████████████████████████████████████████████████████| 4/4 [00:03<00:00,  1.05it/s]\n"
     ]
    },
    {
     "name": "stdout",
     "output_type": "stream",
     "text": [
      "mstep self.weights:  [2.02142713e-10 1.03189212e-02 1.88135075e-01 6.27896611e-01\n",
      " 1.73649393e-01]\n",
      "Q Function:  -661429.6311945535\n",
      "\n"
     ]
    },
    {
     "name": "stderr",
     "output_type": "stream",
     "text": [
      "100%|██████████████████████████████████████████████████████████████████████████████████████████████████████| 3/3 [00:03<00:00,  1.08s/it]\n"
     ]
    },
    {
     "name": "stdout",
     "output_type": "stream",
     "text": [
      "mstep self.weights:  [2.02142713e-10 2.02142713e-10 1.91843443e-01 7.61264541e-01\n",
      " 4.68920151e-02]\n",
      "Q Function:  -659370.499013724\n",
      "\n",
      "No. clus:  3\n",
      "WARNING:root:Selecting 100 genes required 100.0% dataset threshold.\n"
     ]
    },
    {
     "name": "stderr",
     "output_type": "stream",
     "text": [
      "/home/tchari/monod/src/monod/mminference.py:512: RuntimeWarning: divide by zero encountered in true_divide\n",
      "  divids = (1e4/tots)[:,None]\n",
      "/home/tchari/monod/src/monod/mminference.py:513: RuntimeWarning: invalid value encountered in multiply\n",
      "  S_t = S_t*divids\n",
      "100%|████████████████████████████████████████████████████████████████████████████████████████████████████| 10/10 [00:04<00:00,  2.33it/s]\n",
      "100%|████████████████████████████████████████████████████████████████████████████████████████████████████| 10/10 [00:03<00:00,  3.17it/s]\n"
     ]
    },
    {
     "name": "stdout",
     "output_type": "stream",
     "text": [
      "mstep self.weights:  [0.00271803 0.01222079 0.00849084 0.22649382 0.20284303 0.10135661\n",
      " 0.183564   0.00286387 0.12837777 0.13107124]\n",
      "Q Function:  -661068.4807423245\n",
      "\n"
     ]
    },
    {
     "name": "stderr",
     "output_type": "stream",
     "text": [
      "100%|██████████████████████████████████████████████████████████████████████████████████████████████████████| 9/9 [00:03<00:00,  2.91it/s]\n"
     ]
    },
    {
     "name": "stdout",
     "output_type": "stream",
     "text": [
      "mstep self.weights:  [5.92657473e-04 1.85250137e-02 1.48925156e-02 2.04329443e-01\n",
      " 2.07989073e-01 1.71483750e-02 1.60131346e-01 2.02142712e-10\n",
      " 3.28080941e-01 4.83106339e-02]\n",
      "Q Function:  -651274.5355188318\n",
      "\n"
     ]
    },
    {
     "name": "stderr",
     "output_type": "stream",
     "text": [
      "100%|██████████████████████████████████████████████████████████████████████████████████████████████████████| 7/7 [00:03<00:00,  2.14it/s]\n"
     ]
    },
    {
     "name": "stdout",
     "output_type": "stream",
     "text": [
      "mstep self.weights:  [1.72388500e-07 2.02142712e-10 1.44169873e-02 1.97219018e-01\n",
      " 1.78219918e-01 4.83782063e-03 1.77479442e-01 2.02142712e-10\n",
      " 3.90968113e-01 3.68585293e-02]\n",
      "Q Function:  -636925.8687963804\n",
      "\n"
     ]
    },
    {
     "name": "stderr",
     "output_type": "stream",
     "text": [
      "100%|██████████████████████████████████████████████████████████████████████████████████████████████████████| 5/5 [00:03<00:00,  1.48it/s]\n"
     ]
    },
    {
     "name": "stdout",
     "output_type": "stream",
     "text": [
      "mstep self.weights:  [2.11619501e-10 2.02142712e-10 6.38455609e-07 1.93866314e-01\n",
      " 1.62538503e-01 1.22810125e-04 1.78422129e-01 2.02142712e-10\n",
      " 4.28120520e-01 3.69290838e-02]\n",
      "Q Function:  -635692.3595758666\n",
      "\n"
     ]
    },
    {
     "name": "stderr",
     "output_type": "stream",
     "text": [
      "100%|██████████████████████████████████████████████████████████████████████████████████████████████████████| 5/5 [00:03<00:00,  1.41it/s]\n"
     ]
    },
    {
     "name": "stdout",
     "output_type": "stream",
     "text": [
      "mstep self.weights:  [2.11480729e-09 2.02142712e-10 2.44987683e-10 1.91821293e-01\n",
      " 8.29005995e-02 2.21833725e-07 1.75661409e-01 2.02142712e-10\n",
      " 5.17504342e-01 3.21121324e-02]\n",
      "Q Function:  -645955.7210332508\n",
      "\n"
     ]
    },
    {
     "name": "stderr",
     "output_type": "stream",
     "text": [
      "100%|██████████████████████████████████████████████████████████████████████████████████████████████████████| 6/6 [00:03<00:00,  1.66it/s]\n"
     ]
    },
    {
     "name": "stdout",
     "output_type": "stream",
     "text": [
      "mstep self.weights:  [2.07732939e-10 2.02142712e-10 2.02143342e-10 1.91450827e-01\n",
      " 1.26577696e-02 2.84767971e-04 2.17309878e-01 2.02142712e-10\n",
      " 5.78001674e-01 2.95082684e-04]\n",
      "Q Function:  -654234.1431220506\n",
      "\n"
     ]
    },
    {
     "name": "stderr",
     "output_type": "stream",
     "text": [
      "100%|██████████████████████████████████████████████████████████████████████████████████████████████████████| 4/4 [00:03<00:00,  1.26it/s]\n"
     ]
    },
    {
     "name": "stdout",
     "output_type": "stream",
     "text": [
      "mstep self.weights:  [2.02435479e-10 2.02142712e-10 2.02142850e-10 1.92548106e-01\n",
      " 2.69698194e-03 2.02142712e-10 2.75557755e-01 2.02142712e-10\n",
      " 5.29197155e-01 2.02142712e-10]\n",
      "Q Function:  -650160.6900908062\n",
      "\n"
     ]
    },
    {
     "name": "stderr",
     "output_type": "stream",
     "text": [
      "100%|██████████████████████████████████████████████████████████████████████████████████████████████████████| 3/3 [00:03<00:00,  1.10s/it]\n"
     ]
    },
    {
     "name": "stdout",
     "output_type": "stream",
     "text": [
      "mstep self.weights:  [2.03155068e-10 2.02142712e-10 2.02564776e-10 1.94652286e-01\n",
      " 2.02142712e-10 2.02142712e-10 3.93432007e-01 2.02142712e-10\n",
      " 4.11915706e-01 2.02142712e-10]\n",
      "Q Function:  -672586.6753369082\n",
      "\n"
     ]
    },
    {
     "name": "stderr",
     "output_type": "stream",
     "text": [
      "100%|██████████████████████████████████████████████████████████████████████████████████████████████████████| 3/3 [00:03<00:00,  1.00s/it]\n"
     ]
    },
    {
     "name": "stdout",
     "output_type": "stream",
     "text": [
      "mstep self.weights:  [2.03121292e-10 2.02142712e-10 2.13610500e-10 1.92476252e-01\n",
      " 2.02142712e-10 2.02142712e-10 4.31348403e-01 2.02142712e-10\n",
      " 3.76175344e-01 2.02142712e-10]\n",
      "Q Function:  -677820.8945997785\n",
      "\n"
     ]
    },
    {
     "name": "stderr",
     "output_type": "stream",
     "text": [
      "100%|██████████████████████████████████████████████████████████████████████████████████████████████████████| 3/3 [00:03<00:00,  1.11s/it]\n"
     ]
    },
    {
     "name": "stdout",
     "output_type": "stream",
     "text": [
      "mstep self.weights:  [2.02745016e-10 2.02142712e-10 2.02384826e-10 1.90942117e-01\n",
      " 2.02142712e-10 2.02142712e-10 5.20839391e-01 2.02142712e-10\n",
      " 2.88218491e-01 2.02142712e-10]\n",
      "Q Function:  -684260.8443456101\n",
      "\n",
      "No. clus:  3\n",
      "cl5 with 3999 HVGs\n",
      "WARNING:root:Selecting 100 genes required 100.0% dataset threshold.\n"
     ]
    },
    {
     "name": "stderr",
     "output_type": "stream",
     "text": [
      "/home/tchari/monod/src/monod/mminference.py:512: RuntimeWarning: divide by zero encountered in true_divide\n",
      "  divids = (1e4/tots)[:,None]\n",
      "/home/tchari/monod/src/monod/mminference.py:513: RuntimeWarning: invalid value encountered in multiply\n",
      "  S_t = S_t*divids\n",
      "100%|██████████████████████████████████████████████████████████████████████████████████████████████████████| 5/5 [00:02<00:00,  1.91it/s]\n",
      "100%|██████████████████████████████████████████████████████████████████████████████████████████████████████| 5/5 [00:02<00:00,  2.03it/s]\n"
     ]
    },
    {
     "name": "stdout",
     "output_type": "stream",
     "text": [
      "mstep self.weights:  [0.08121478 0.26165393 0.24265656 0.22213221 0.19234251]\n",
      "Q Function:  -766140.1596439925\n",
      "\n"
     ]
    },
    {
     "name": "stderr",
     "output_type": "stream",
     "text": [
      "100%|██████████████████████████████████████████████████████████████████████████████████████████████████████| 5/5 [00:03<00:00,  1.50it/s]\n"
     ]
    },
    {
     "name": "stdout",
     "output_type": "stream",
     "text": [
      "mstep self.weights:  [0.14801497 0.13550706 0.24229329 0.22213056 0.25205412]\n",
      "Q Function:  -766377.9682059812\n",
      "\n"
     ]
    },
    {
     "name": "stderr",
     "output_type": "stream",
     "text": [
      "100%|██████████████████████████████████████████████████████████████████████████████████████████████████████| 5/5 [00:02<00:00,  2.00it/s]\n"
     ]
    },
    {
     "name": "stdout",
     "output_type": "stream",
     "text": [
      "mstep self.weights:  [0.17548587 0.00799351 0.24848496 0.18571126 0.3823244 ]\n",
      "Q Function:  -801967.6669239681\n",
      "\n"
     ]
    },
    {
     "name": "stderr",
     "output_type": "stream",
     "text": [
      "100%|██████████████████████████████████████████████████████████████████████████████████████████████████████| 4/4 [00:02<00:00,  1.48it/s]\n"
     ]
    },
    {
     "name": "stdout",
     "output_type": "stream",
     "text": [
      "mstep self.weights:  [1.49941066e-01 1.87441461e-09 2.31005008e-01 1.76938288e-01\n",
      " 4.42115636e-01]\n",
      "Q Function:  -761315.0699177082\n",
      "\n"
     ]
    },
    {
     "name": "stderr",
     "output_type": "stream",
     "text": [
      "100%|██████████████████████████████████████████████████████████████████████████████████████████████████████| 4/4 [00:02<00:00,  1.37it/s]\n"
     ]
    },
    {
     "name": "stdout",
     "output_type": "stream",
     "text": [
      "mstep self.weights:  [1.17410936e-01 2.02144691e-10 2.32342695e-01 1.74211107e-01\n",
      " 4.76035261e-01]\n",
      "Q Function:  -766136.6373632604\n",
      "\n"
     ]
    },
    {
     "name": "stderr",
     "output_type": "stream",
     "text": [
      "100%|██████████████████████████████████████████████████████████████████████████████████████████████████████| 4/4 [00:02<00:00,  1.46it/s]\n"
     ]
    },
    {
     "name": "stdout",
     "output_type": "stream",
     "text": [
      "mstep self.weights:  [1.08871604e-01 2.02142717e-10 2.27705946e-01 1.57438344e-01\n",
      " 5.05984106e-01]\n",
      "Q Function:  -765438.5689607142\n",
      "\n"
     ]
    },
    {
     "name": "stderr",
     "output_type": "stream",
     "text": [
      "100%|██████████████████████████████████████████████████████████████████████████████████████████████████████| 4/4 [00:03<00:00,  1.29it/s]\n"
     ]
    },
    {
     "name": "stdout",
     "output_type": "stream",
     "text": [
      "mstep self.weights:  [9.86412731e-02 2.02142716e-10 2.22752681e-01 1.43379983e-01\n",
      " 5.35226062e-01]\n",
      "Q Function:  -755416.7837819053\n",
      "\n"
     ]
    },
    {
     "name": "stderr",
     "output_type": "stream",
     "text": [
      "100%|██████████████████████████████████████████████████████████████████████████████████████████████████████| 4/4 [00:02<00:00,  1.47it/s]\n"
     ]
    },
    {
     "name": "stdout",
     "output_type": "stream",
     "text": [
      "mstep self.weights:  [5.33847284e-03 2.02184801e-10 2.24034698e-01 1.33806282e-01\n",
      " 6.36820547e-01]\n",
      "Q Function:  -760928.189278685\n",
      "\n"
     ]
    },
    {
     "name": "stderr",
     "output_type": "stream",
     "text": [
      "100%|██████████████████████████████████████████████████████████████████████████████████████████████████████| 4/4 [00:03<00:00,  1.32it/s]\n"
     ]
    },
    {
     "name": "stdout",
     "output_type": "stream",
     "text": [
      "mstep self.weights:  [7.30829035e-03 2.05906935e-10 2.31908022e-01 1.42527326e-01\n",
      " 6.18256361e-01]\n",
      "Q Function:  -754969.5761819928\n",
      "\n"
     ]
    },
    {
     "name": "stderr",
     "output_type": "stream",
     "text": [
      "100%|██████████████████████████████████████████████████████████████████████████████████████████████████████| 4/4 [00:02<00:00,  1.59it/s]\n"
     ]
    },
    {
     "name": "stdout",
     "output_type": "stream",
     "text": [
      "mstep self.weights:  [9.57529806e-03 2.02162202e-10 2.37010443e-01 1.28450194e-01\n",
      " 6.24964064e-01]\n",
      "Q Function:  -760786.5825582935\n",
      "\n",
      "No. clus:  4\n",
      "WARNING:root:Selecting 100 genes required 100.0% dataset threshold.\n"
     ]
    },
    {
     "name": "stderr",
     "output_type": "stream",
     "text": [
      "/home/tchari/monod/src/monod/mminference.py:512: RuntimeWarning: divide by zero encountered in true_divide\n",
      "  divids = (1e4/tots)[:,None]\n",
      "/home/tchari/monod/src/monod/mminference.py:513: RuntimeWarning: invalid value encountered in multiply\n",
      "  S_t = S_t*divids\n",
      "100%|████████████████████████████████████████████████████████████████████████████████████████████████████| 10/10 [00:03<00:00,  3.00it/s]\n",
      "100%|████████████████████████████████████████████████████████████████████████████████████████████████████| 10/10 [00:02<00:00,  3.65it/s]\n"
     ]
    },
    {
     "name": "stdout",
     "output_type": "stream",
     "text": [
      "mstep self.weights:  [0.22121836 0.00889288 0.02487281 0.20739667 0.19336186 0.10271007\n",
      " 0.1583322  0.03567988 0.01000987 0.03752539]\n",
      "Q Function:  -783871.4697757119\n",
      "\n"
     ]
    },
    {
     "name": "stderr",
     "output_type": "stream",
     "text": [
      "100%|██████████████████████████████████████████████████████████████████████████████████████████████████████| 7/7 [00:02<00:00,  2.46it/s]\n"
     ]
    },
    {
     "name": "stdout",
     "output_type": "stream",
     "text": [
      "mstep self.weights:  [1.91749811e-01 2.11445484e-10 2.92206422e-08 3.23741866e-01\n",
      " 1.36326264e-01 9.39419987e-03 1.42998509e-01 9.52793614e-02\n",
      " 2.71822207e-06 1.00507242e-01]\n",
      "Q Function:  -753970.9247032072\n",
      "\n"
     ]
    },
    {
     "name": "stderr",
     "output_type": "stream",
     "text": [
      "100%|██████████████████████████████████████████████████████████████████████████████████████████████████████| 6/6 [00:03<00:00,  1.77it/s]\n"
     ]
    },
    {
     "name": "stdout",
     "output_type": "stream",
     "text": [
      "mstep self.weights:  [1.75694190e-01 2.02142712e-10 2.02162871e-10 4.43065876e-01\n",
      " 1.25952518e-05 7.40989055e-04 1.45738798e-01 1.84350635e-01\n",
      " 1.10387949e-09 5.03969150e-02]\n",
      "Q Function:  -748584.0923724486\n",
      "\n"
     ]
    },
    {
     "name": "stderr",
     "output_type": "stream",
     "text": [
      "100%|██████████████████████████████████████████████████████████████████████████████████████████████████████| 8/8 [00:02<00:00,  2.74it/s]\n"
     ]
    },
    {
     "name": "stdout",
     "output_type": "stream",
     "text": [
      "mstep self.weights:  [1.82525736e-01 2.02142990e-10 2.30240743e-07 7.06696058e-01\n",
      " 2.43215475e-03 6.06428339e-04 8.37528327e-02 2.14879497e-02\n",
      " 9.73128114e-04 1.52548156e-03]\n",
      "Q Function:  -782858.5209126177\n",
      "\n"
     ]
    },
    {
     "name": "stderr",
     "output_type": "stream",
     "text": [
      "100%|██████████████████████████████████████████████████████████████████████████████████████████████████████| 7/7 [00:03<00:00,  1.85it/s]\n"
     ]
    },
    {
     "name": "stdout",
     "output_type": "stream",
     "text": [
      "mstep self.weights:  [1.66242907e-01 2.02142712e-10 8.78926346e-10 6.86767444e-01\n",
      " 8.08615651e-08 2.02142914e-04 1.21660000e-01 2.42695643e-02\n",
      " 2.65881960e-04 5.91977924e-04]\n",
      "Q Function:  -759748.9578168631\n",
      "\n"
     ]
    },
    {
     "name": "stderr",
     "output_type": "stream",
     "text": [
      "100%|██████████████████████████████████████████████████████████████████████████████████████████████████████| 5/5 [00:03<00:00,  1.51it/s]\n"
     ]
    },
    {
     "name": "stdout",
     "output_type": "stream",
     "text": [
      "mstep self.weights:  [1.66182057e-01 2.02144013e-10 2.44837007e-07 6.80821005e-01\n",
      " 2.02143111e-10 2.02142712e-10 1.24655870e-01 2.81388487e-02\n",
      " 2.02142712e-10 2.01973945e-04]\n",
      "Q Function:  -766803.667864\n",
      "\n"
     ]
    },
    {
     "name": "stderr",
     "output_type": "stream",
     "text": [
      "100%|██████████████████████████████████████████████████████████████████████████████████████████████████████| 4/4 [00:02<00:00,  1.61it/s]\n"
     ]
    },
    {
     "name": "stdout",
     "output_type": "stream",
     "text": [
      "mstep self.weights:  [1.66500609e-01 2.02144181e-10 5.33016959e-05 6.77912156e-01\n",
      " 2.02142713e-10 2.02142712e-10 1.25542503e-01 2.99914300e-02\n",
      " 2.02142712e-10 2.02142712e-10]\n",
      "Q Function:  -767809.2294768093\n",
      "\n"
     ]
    },
    {
     "name": "stderr",
     "output_type": "stream",
     "text": [
      "100%|██████████████████████████████████████████████████████████████████████████████████████████████████████| 4/4 [00:03<00:00,  1.25it/s]\n"
     ]
    },
    {
     "name": "stdout",
     "output_type": "stream",
     "text": [
      "mstep self.weights:  [1.66655471e-01 2.02142712e-10 3.99970801e-07 7.16922210e-01\n",
      " 2.02142712e-10 2.02142712e-10 9.08240391e-02 2.55978792e-02\n",
      " 2.02142712e-10 2.02142712e-10]\n",
      "Q Function:  -766935.0695613029\n",
      "\n"
     ]
    },
    {
     "name": "stderr",
     "output_type": "stream",
     "text": [
      "100%|██████████████████████████████████████████████████████████████████████████████████████████████████████| 4/4 [00:02<00:00,  1.57it/s]\n"
     ]
    },
    {
     "name": "stdout",
     "output_type": "stream",
     "text": [
      "mstep self.weights:  [1.70454654e-01 2.02144216e-10 1.28132751e-04 6.79820820e-01\n",
      " 2.02142717e-10 2.02142712e-10 1.22822645e-01 2.67737477e-02\n",
      " 2.02142712e-10 2.02142712e-10]\n",
      "Q Function:  -760452.4479211143\n",
      "\n"
     ]
    },
    {
     "name": "stderr",
     "output_type": "stream",
     "text": [
      "100%|██████████████████████████████████████████████████████████████████████████████████████████████████████| 5/5 [00:02<00:00,  1.83it/s]\n"
     ]
    },
    {
     "name": "stdout",
     "output_type": "stream",
     "text": [
      "mstep self.weights:  [1.60447290e-01 2.02142712e-10 1.95105259e-04 7.49253436e-01\n",
      " 2.02142712e-10 2.02142712e-10 5.91960595e-02 3.09081081e-02\n",
      " 2.02142712e-10 2.02142712e-10]\n",
      "Q Function:  -778372.2813064783\n",
      "\n",
      "No. clus:  5\n",
      "allen_b02h01 with 4000 HVGs\n",
      "WARNING:root:Selecting 100 genes required 100.0% dataset threshold.\n"
     ]
    },
    {
     "name": "stderr",
     "output_type": "stream",
     "text": [
      "100%|████████████████████████████████████████████████████████████████████████████████████████████████████| 11/11 [00:03<00:00,  3.27it/s]\n",
      "100%|████████████████████████████████████████████████████████████████████████████████████████████████████| 11/11 [00:03<00:00,  3.15it/s]\n"
     ]
    },
    {
     "name": "stdout",
     "output_type": "stream",
     "text": [
      "mstep self.weights:  [0.0700557  0.12935923 0.1429957  0.08139954 0.06592281 0.06710273\n",
      " 0.06274303 0.09541277 0.1054258  0.07136472 0.10821797]\n",
      "Q Function:  -2761858.914721594\n",
      "\n"
     ]
    },
    {
     "name": "stderr",
     "output_type": "stream",
     "text": [
      "100%|████████████████████████████████████████████████████████████████████████████████████████████████████| 11/11 [00:03<00:00,  3.39it/s]\n"
     ]
    },
    {
     "name": "stdout",
     "output_type": "stream",
     "text": [
      "mstep self.weights:  [0.0850601  0.13345257 0.15586181 0.08151652 0.0619807  0.10246752\n",
      " 0.0409018  0.06774778 0.10040278 0.04110867 0.12949973]\n",
      "Q Function:  -2614031.3035847745\n",
      "\n"
     ]
    },
    {
     "name": "stderr",
     "output_type": "stream",
     "text": [
      "100%|████████████████████████████████████████████████████████████████████████████████████████████████████| 11/11 [00:03<00:00,  3.36it/s]\n"
     ]
    },
    {
     "name": "stdout",
     "output_type": "stream",
     "text": [
      "mstep self.weights:  [0.08337312 0.11900863 0.14926086 0.0902561  0.0607652  0.10557719\n",
      " 0.0389792  0.05455681 0.10042642 0.0515923  0.14620417]\n",
      "Q Function:  -2596893.3613710864\n",
      "\n"
     ]
    },
    {
     "name": "stderr",
     "output_type": "stream",
     "text": [
      "100%|████████████████████████████████████████████████████████████████████████████████████████████████████| 11/11 [00:03<00:00,  3.53it/s]\n"
     ]
    },
    {
     "name": "stdout",
     "output_type": "stream",
     "text": [
      "mstep self.weights:  [0.08729629 0.11567922 0.1461398  0.09890428 0.05930029 0.11087049\n",
      " 0.03121053 0.0512222  0.10131437 0.04325734 0.15480519]\n",
      "Q Function:  -2595086.516070316\n",
      "\n"
     ]
    },
    {
     "name": "stderr",
     "output_type": "stream",
     "text": [
      "100%|████████████████████████████████████████████████████████████████████████████████████████████████████| 11/11 [00:03<00:00,  3.46it/s]\n"
     ]
    },
    {
     "name": "stdout",
     "output_type": "stream",
     "text": [
      "mstep self.weights:  [0.08814971 0.11188151 0.14320414 0.10387343 0.05866049 0.11113625\n",
      " 0.02919376 0.04531163 0.10185481 0.04654679 0.16018748]\n",
      "Q Function:  -2592309.0218156395\n",
      "\n"
     ]
    },
    {
     "name": "stderr",
     "output_type": "stream",
     "text": [
      "100%|████████████████████████████████████████████████████████████████████████████████████████████████████| 11/11 [00:03<00:00,  3.59it/s]\n"
     ]
    },
    {
     "name": "stdout",
     "output_type": "stream",
     "text": [
      "mstep self.weights:  [0.09051817 0.10943728 0.14143733 0.10760408 0.05813208 0.11055752\n",
      " 0.02952522 0.03931477 0.10220859 0.04766235 0.16360261]\n",
      "Q Function:  -2591209.898761932\n",
      "\n"
     ]
    },
    {
     "name": "stderr",
     "output_type": "stream",
     "text": [
      "100%|████████████████████████████████████████████████████████████████████████████████████████████████████| 11/11 [00:03<00:00,  3.42it/s]\n"
     ]
    },
    {
     "name": "stdout",
     "output_type": "stream",
     "text": [
      "mstep self.weights:  [0.09321537 0.10788447 0.13989218 0.11067133 0.05794822 0.10973914\n",
      " 0.03044706 0.03576159 0.10235987 0.0474855  0.16459527]\n",
      "Q Function:  -2590275.582776496\n",
      "\n"
     ]
    },
    {
     "name": "stderr",
     "output_type": "stream",
     "text": [
      "100%|████████████████████████████████████████████████████████████████████████████████████████████████████| 11/11 [00:03<00:00,  3.30it/s]\n"
     ]
    },
    {
     "name": "stdout",
     "output_type": "stream",
     "text": [
      "mstep self.weights:  [0.09587851 0.10644352 0.13887766 0.11018433 0.05795335 0.1084904\n",
      " 0.03570037 0.03463079 0.10233883 0.04647273 0.16302953]\n",
      "Q Function:  -2588283.033354174\n",
      "\n"
     ]
    },
    {
     "name": "stderr",
     "output_type": "stream",
     "text": [
      "100%|████████████████████████████████████████████████████████████████████████████████████████████████████| 11/11 [00:03<00:00,  3.48it/s]\n"
     ]
    },
    {
     "name": "stdout",
     "output_type": "stream",
     "text": [
      "mstep self.weights:  [0.09858462 0.10592667 0.13848708 0.11070825 0.05790739 0.10710034\n",
      " 0.04018341 0.03089784 0.10233533 0.045456   0.16241307]\n",
      "Q Function:  -2591162.054837242\n",
      "\n"
     ]
    },
    {
     "name": "stderr",
     "output_type": "stream",
     "text": [
      "100%|████████████████████████████████████████████████████████████████████████████████████████████████████| 11/11 [00:03<00:00,  3.44it/s]\n"
     ]
    },
    {
     "name": "stdout",
     "output_type": "stream",
     "text": [
      "mstep self.weights:  [0.10100204 0.10521076 0.13819079 0.11091335 0.05782983 0.10471533\n",
      " 0.04256039 0.03032292 0.10236009 0.04440761 0.16248689]\n",
      "Q Function:  -2590429.823631477\n",
      "\n",
      "No. clus:  11\n",
      "WARNING:root:Selecting 100 genes required 100.0% dataset threshold.\n"
     ]
    },
    {
     "name": "stderr",
     "output_type": "stream",
     "text": [
      "100%|████████████████████████████████████████████████████████████████████████████████████████████████████| 16/16 [00:03<00:00,  4.22it/s]\n",
      "100%|████████████████████████████████████████████████████████████████████████████████████████████████████| 16/16 [00:03<00:00,  5.03it/s]\n"
     ]
    },
    {
     "name": "stdout",
     "output_type": "stream",
     "text": [
      "mstep self.weights:  [0.05328377 0.0812187  0.05262228 0.05609494 0.07819247 0.06437594\n",
      " 0.07989024 0.06463468 0.05602827 0.07367581 0.05963216 0.0659731\n",
      " 0.06291    0.04671855 0.05949337 0.04525571]\n",
      "Q Function:  -2785856.8154831063\n",
      "\n"
     ]
    },
    {
     "name": "stderr",
     "output_type": "stream",
     "text": [
      "100%|████████████████████████████████████████████████████████████████████████████████████████████████████| 16/16 [00:03<00:00,  4.38it/s]\n"
     ]
    },
    {
     "name": "stdout",
     "output_type": "stream",
     "text": [
      "mstep self.weights:  [0.03302475 0.09221041 0.05587167 0.06297782 0.10129953 0.04035314\n",
      " 0.0758354  0.04066575 0.02757668 0.12053119 0.06005782 0.14221244\n",
      " 0.0423309  0.00334346 0.06615275 0.03555628]\n",
      "Q Function:  -2611302.922620558\n",
      "\n"
     ]
    },
    {
     "name": "stderr",
     "output_type": "stream",
     "text": [
      "100%|████████████████████████████████████████████████████████████████████████████████████████████████████| 16/16 [00:03<00:00,  4.53it/s]\n"
     ]
    },
    {
     "name": "stdout",
     "output_type": "stream",
     "text": [
      "mstep self.weights:  [0.04074401 0.07958831 0.05604198 0.05733841 0.0950382  0.04658896\n",
      " 0.05946259 0.03345819 0.04278604 0.11534949 0.0653961  0.156484\n",
      " 0.03663878 0.0005781  0.06577361 0.04873324]\n",
      "Q Function:  -2583021.8853587597\n",
      "\n"
     ]
    },
    {
     "name": "stderr",
     "output_type": "stream",
     "text": [
      "100%|████████████████████████████████████████████████████████████████████████████████████████████████████| 15/15 [00:03<00:00,  4.23it/s]\n"
     ]
    },
    {
     "name": "stdout",
     "output_type": "stream",
     "text": [
      "mstep self.weights:  [4.17060294e-02 6.88586335e-02 5.63718854e-02 5.40126346e-02\n",
      " 9.06261210e-02 4.94245946e-02 5.06688548e-02 3.29942196e-02\n",
      " 5.10180546e-02 1.24634174e-01 6.61385444e-02 1.66578509e-01\n",
      " 3.55879063e-02 6.55265054e-11 6.22599177e-02 4.91199215e-02]\n",
      "Q Function:  -2571190.9643504834\n",
      "\n"
     ]
    },
    {
     "name": "stderr",
     "output_type": "stream",
     "text": [
      "100%|████████████████████████████████████████████████████████████████████████████████████████████████████| 15/15 [00:03<00:00,  4.57it/s]\n"
     ]
    },
    {
     "name": "stdout",
     "output_type": "stream",
     "text": [
      "mstep self.weights:  [4.13904574e-02 6.02167471e-02 5.65586505e-02 5.37063967e-02\n",
      " 8.88037612e-02 5.13683697e-02 4.53375516e-02 3.29202650e-02\n",
      " 5.61009378e-02 1.26865683e-01 6.59362869e-02 1.74790959e-01\n",
      " 3.52373020e-02 6.55265054e-11 6.04218998e-02 5.03447319e-02]\n",
      "Q Function:  -2568891.2144495933\n",
      "\n"
     ]
    },
    {
     "name": "stderr",
     "output_type": "stream",
     "text": [
      "100%|████████████████████████████████████████████████████████████████████████████████████████████████████| 15/15 [00:03<00:00,  4.29it/s]\n"
     ]
    },
    {
     "name": "stdout",
     "output_type": "stream",
     "text": [
      "mstep self.weights:  [4.09937748e-02 5.32712266e-02 5.63611998e-02 5.43255642e-02\n",
      " 8.73465502e-02 5.23300296e-02 4.24552833e-02 3.28630355e-02\n",
      " 5.91005253e-02 1.27638553e-01 6.56052129e-02 1.81519516e-01\n",
      " 3.52070362e-02 6.55265054e-11 5.95607758e-02 5.14217175e-02]\n",
      "Q Function:  -2567645.424772091\n",
      "\n"
     ]
    },
    {
     "name": "stderr",
     "output_type": "stream",
     "text": [
      "100%|████████████████████████████████████████████████████████████████████████████████████████████████████| 15/15 [00:03<00:00,  4.21it/s]\n"
     ]
    },
    {
     "name": "stdout",
     "output_type": "stream",
     "text": [
      "mstep self.weights:  [4.04486764e-02 4.84624616e-02 5.61391478e-02 5.54498628e-02\n",
      " 8.59993241e-02 5.31678665e-02 4.07017877e-02 3.28447573e-02\n",
      " 6.10246556e-02 1.28002452e-01 6.48657237e-02 1.86178673e-01\n",
      " 3.50143239e-02 6.55265054e-11 5.93016951e-02 5.23985920e-02]\n",
      "Q Function:  -2566777.856626707\n",
      "\n"
     ]
    },
    {
     "name": "stderr",
     "output_type": "stream",
     "text": [
      "100%|████████████████████████████████████████████████████████████████████████████████████████████████████| 15/15 [00:03<00:00,  4.27it/s]\n"
     ]
    },
    {
     "name": "stdout",
     "output_type": "stream",
     "text": [
      "mstep self.weights:  [4.01181619e-02 4.58985544e-02 5.59579053e-02 5.66005162e-02\n",
      " 8.43441364e-02 5.37454649e-02 3.97240992e-02 3.28296304e-02\n",
      " 6.20642892e-02 1.28445143e-01 6.44731468e-02 1.88431772e-01\n",
      " 3.49710065e-02 6.55265054e-11 5.94265902e-02 5.29695832e-02]\n",
      "Q Function:  -2566328.4649145505\n",
      "\n"
     ]
    },
    {
     "name": "stderr",
     "output_type": "stream",
     "text": [
      "100%|████████████████████████████████████████████████████████████████████████████████████████████████████| 15/15 [00:03<00:00,  4.14it/s]\n"
     ]
    },
    {
     "name": "stdout",
     "output_type": "stream",
     "text": [
      "mstep self.weights:  [3.96440338e-02 4.44980058e-02 5.58214752e-02 5.78594032e-02\n",
      " 8.29398707e-02 5.39990673e-02 3.90134720e-02 3.27570309e-02\n",
      " 6.28192080e-02 1.28763896e-01 6.42375141e-02 1.89535087e-01\n",
      " 3.50154858e-02 6.55265054e-11 5.96391657e-02 5.34572841e-02]\n",
      "Q Function:  -2566042.7934621484\n",
      "\n"
     ]
    },
    {
     "name": "stderr",
     "output_type": "stream",
     "text": [
      "100%|████████████████████████████████████████████████████████████████████████████████████████████████████| 15/15 [00:03<00:00,  4.41it/s]\n"
     ]
    },
    {
     "name": "stdout",
     "output_type": "stream",
     "text": [
      "mstep self.weights:  [3.91866678e-02 4.34964897e-02 5.56053438e-02 5.92448485e-02\n",
      " 8.15247362e-02 5.45717736e-02 3.87502704e-02 3.27225671e-02\n",
      " 6.32641345e-02 1.29149710e-01 6.39367276e-02 1.89902379e-01\n",
      " 3.51562814e-02 6.55265054e-11 5.96825036e-02 5.38055667e-02]\n",
      "Q Function:  -2565824.9153742865\n",
      "\n",
      "No. clus:  15\n",
      "cl3 with 4000 HVGs\n",
      "WARNING:root:Selecting 100 genes required 100.0% dataset threshold.\n"
     ]
    },
    {
     "name": "stderr",
     "output_type": "stream",
     "text": [
      "/home/tchari/monod/src/monod/mminference.py:512: RuntimeWarning: divide by zero encountered in true_divide\n",
      "  divids = (1e4/tots)[:,None]\n",
      "/home/tchari/monod/src/monod/mminference.py:513: RuntimeWarning: invalid value encountered in multiply\n",
      "  S_t = S_t*divids\n",
      "100%|██████████████████████████████████████████████████████████████████████████████████████████████████████| 3/3 [00:02<00:00,  1.08it/s]\n",
      "100%|██████████████████████████████████████████████████████████████████████████████████████████████████████| 3/3 [00:03<00:00,  1.05s/it]\n"
     ]
    },
    {
     "name": "stdout",
     "output_type": "stream",
     "text": [
      "mstep self.weights:  [0.16150246 0.27545151 0.56304603]\n",
      "Q Function:  -313483.6525966519\n",
      "\n"
     ]
    },
    {
     "name": "stderr",
     "output_type": "stream",
     "text": [
      "100%|██████████████████████████████████████████████████████████████████████████████████████████████████████| 3/3 [00:03<00:00,  1.09s/it]\n"
     ]
    },
    {
     "name": "stdout",
     "output_type": "stream",
     "text": [
      "mstep self.weights:  [0.3141586  0.27375744 0.41208397]\n",
      "Q Function:  -305938.53762257536\n",
      "\n"
     ]
    },
    {
     "name": "stderr",
     "output_type": "stream",
     "text": [
      "100%|██████████████████████████████████████████████████████████████████████████████████████████████████████| 2/2 [00:03<00:00,  1.50s/it]\n"
     ]
    },
    {
     "name": "stdout",
     "output_type": "stream",
     "text": [
      "mstep self.weights:  [7.25326661e-01 2.74673339e-01 2.54206563e-10]\n",
      "Q Function:  -299371.6261125071\n",
      "\n"
     ]
    },
    {
     "name": "stderr",
     "output_type": "stream",
     "text": [
      "100%|██████████████████████████████████████████████████████████████████████████████████████████████████████| 2/2 [00:02<00:00,  1.47s/it]\n"
     ]
    },
    {
     "name": "stdout",
     "output_type": "stream",
     "text": [
      "mstep self.weights:  [7.19546779e-01 2.80453221e-01 2.54194204e-10]\n",
      "Q Function:  -294340.6315793465\n",
      "\n"
     ]
    },
    {
     "name": "stderr",
     "output_type": "stream",
     "text": [
      "100%|██████████████████████████████████████████████████████████████████████████████████████████████████████| 2/2 [00:03<00:00,  1.61s/it]\n"
     ]
    },
    {
     "name": "stdout",
     "output_type": "stream",
     "text": [
      "mstep self.weights:  [7.17689597e-01 2.82310403e-01 2.54194204e-10]\n",
      "Q Function:  -301420.8088097642\n",
      "\n"
     ]
    },
    {
     "name": "stderr",
     "output_type": "stream",
     "text": [
      "100%|██████████████████████████████████████████████████████████████████████████████████████████████████████| 2/2 [00:02<00:00,  1.42s/it]\n"
     ]
    },
    {
     "name": "stdout",
     "output_type": "stream",
     "text": [
      "mstep self.weights:  [7.17194816e-01 2.82805184e-01 2.54194204e-10]\n",
      "Q Function:  -301308.52308126516\n",
      "\n"
     ]
    },
    {
     "name": "stderr",
     "output_type": "stream",
     "text": [
      "100%|██████████████████████████████████████████████████████████████████████████████████████████████████████| 2/2 [00:02<00:00,  1.40s/it]\n"
     ]
    },
    {
     "name": "stdout",
     "output_type": "stream",
     "text": [
      "mstep self.weights:  [7.17141639e-01 2.82858361e-01 2.54194204e-10]\n",
      "Q Function:  -301329.2935770134\n",
      "\n"
     ]
    },
    {
     "name": "stderr",
     "output_type": "stream",
     "text": [
      "100%|██████████████████████████████████████████████████████████████████████████████████████████████████████| 2/2 [00:02<00:00,  1.39s/it]\n"
     ]
    },
    {
     "name": "stdout",
     "output_type": "stream",
     "text": [
      "mstep self.weights:  [7.17141548e-01 2.82858452e-01 2.54194204e-10]\n",
      "Q Function:  -301329.2940314698\n",
      "\n"
     ]
    },
    {
     "name": "stderr",
     "output_type": "stream",
     "text": [
      "100%|██████████████████████████████████████████████████████████████████████████████████████████████████████| 2/2 [00:02<00:00,  1.50s/it]\n"
     ]
    },
    {
     "name": "stdout",
     "output_type": "stream",
     "text": [
      "mstep self.weights:  [7.17141548e-01 2.82858452e-01 2.54194204e-10]\n",
      "Q Function:  -301329.2940322984\n",
      "\n"
     ]
    },
    {
     "name": "stderr",
     "output_type": "stream",
     "text": [
      "100%|██████████████████████████████████████████████████████████████████████████████████████████████████████| 2/2 [00:02<00:00,  1.39s/it]\n"
     ]
    },
    {
     "name": "stdout",
     "output_type": "stream",
     "text": [
      "mstep self.weights:  [7.17141548e-01 2.82858452e-01 2.54194204e-10]\n",
      "Q Function:  -301329.29403229983\n",
      "\n",
      "No. clus:  2\n",
      "WARNING:root:Selecting 100 genes required 100.0% dataset threshold.\n"
     ]
    },
    {
     "name": "stderr",
     "output_type": "stream",
     "text": [
      "/home/tchari/monod/src/monod/mminference.py:512: RuntimeWarning: divide by zero encountered in true_divide\n",
      "  divids = (1e4/tots)[:,None]\n",
      "/home/tchari/monod/src/monod/mminference.py:513: RuntimeWarning: invalid value encountered in multiply\n",
      "  S_t = S_t*divids\n",
      "100%|██████████████████████████████████████████████████████████████████████████████████████████████████████| 8/8 [00:02<00:00,  2.89it/s]\n",
      "100%|██████████████████████████████████████████████████████████████████████████████████████████████████████| 8/8 [00:02<00:00,  3.00it/s]\n"
     ]
    },
    {
     "name": "stdout",
     "output_type": "stream",
     "text": [
      "mstep self.weights:  [0.02848335 0.10724309 0.020332   0.07165843 0.01523967 0.64006421\n",
      " 0.01763243 0.09934682]\n",
      "Q Function:  -331224.4205271539\n",
      "\n"
     ]
    },
    {
     "name": "stderr",
     "output_type": "stream",
     "text": [
      "100%|██████████████████████████████████████████████████████████████████████████████████████████████████████| 6/6 [00:02<00:00,  2.04it/s]\n"
     ]
    },
    {
     "name": "stdout",
     "output_type": "stream",
     "text": [
      "mstep self.weights:  [2.51901610e-04 1.51895346e-01 1.64193968e-08 3.17919685e-02\n",
      " 3.59622890e-02 6.97158225e-01 5.01174764e-08 8.29402040e-02]\n",
      "Q Function:  -300182.73693413107\n",
      "\n"
     ]
    },
    {
     "name": "stderr",
     "output_type": "stream",
     "text": [
      "100%|██████████████████████████████████████████████████████████████████████████████████████████████████████| 5/5 [00:02<00:00,  1.80it/s]\n"
     ]
    },
    {
     "name": "stdout",
     "output_type": "stream",
     "text": [
      "mstep self.weights:  [2.54194209e-10 1.76667582e-01 2.54194204e-10 2.68758197e-03\n",
      " 5.14049038e-02 6.91134138e-01 2.57216940e-10 7.81057935e-02]\n",
      "Q Function:  -305104.8362673207\n",
      "\n"
     ]
    },
    {
     "name": "stderr",
     "output_type": "stream",
     "text": [
      "100%|██████████████████████████████████████████████████████████████████████████████████████████████████████| 5/5 [00:02<00:00,  1.86it/s]\n"
     ]
    },
    {
     "name": "stdout",
     "output_type": "stream",
     "text": [
      "mstep self.weights:  [2.54194204e-10 1.78199617e-01 2.54194204e-10 1.55395522e-03\n",
      " 4.99561006e-02 6.96813627e-01 2.54194605e-10 7.34766995e-02]\n",
      "Q Function:  -281638.9474960893\n",
      "\n"
     ]
    },
    {
     "name": "stderr",
     "output_type": "stream",
     "text": [
      "100%|██████████████████████████████████████████████████████████████████████████████████████████████████████| 5/5 [00:02<00:00,  1.83it/s]\n"
     ]
    },
    {
     "name": "stdout",
     "output_type": "stream",
     "text": [
      "mstep self.weights:  [2.54194204e-10 1.76380285e-01 2.54194204e-10 7.80413201e-04\n",
      " 4.91214452e-02 7.00237394e-01 2.54194405e-10 7.34804617e-02]\n",
      "Q Function:  -281030.7868707291\n",
      "\n"
     ]
    },
    {
     "name": "stderr",
     "output_type": "stream",
     "text": [
      "100%|██████████████████████████████████████████████████████████████████████████████████████████████████████| 5/5 [00:02<00:00,  1.92it/s]\n"
     ]
    },
    {
     "name": "stdout",
     "output_type": "stream",
     "text": [
      "mstep self.weights:  [2.54194204e-10 1.70751751e-01 2.54194204e-10 2.54117449e-04\n",
      " 5.51286600e-02 7.00018318e-01 2.54194529e-10 7.38471527e-02]\n",
      "Q Function:  -282972.06745378394\n",
      "\n"
     ]
    },
    {
     "name": "stderr",
     "output_type": "stream",
     "text": [
      "100%|██████████████████████████████████████████████████████████████████████████████████████████████████████| 4/4 [00:02<00:00,  1.58it/s]\n"
     ]
    },
    {
     "name": "stdout",
     "output_type": "stream",
     "text": [
      "mstep self.weights:  [2.54194204e-10 1.70303675e-01 2.54194204e-10 2.54194204e-10\n",
      " 5.58515834e-02 7.00773199e-01 2.54194467e-10 7.30715420e-02]\n",
      "Q Function:  -280190.2701648166\n",
      "\n"
     ]
    },
    {
     "name": "stderr",
     "output_type": "stream",
     "text": [
      "100%|██████████████████████████████████████████████████████████████████████████████████████████████████████| 4/4 [00:02<00:00,  1.59it/s]\n"
     ]
    },
    {
     "name": "stdout",
     "output_type": "stream",
     "text": [
      "mstep self.weights:  [2.54194204e-10 1.68917613e-01 2.54194204e-10 2.54194204e-10\n",
      " 5.70841706e-02 7.00796766e-01 2.54194647e-10 7.32014493e-02]\n",
      "Q Function:  -282457.73530763184\n",
      "\n"
     ]
    },
    {
     "name": "stderr",
     "output_type": "stream",
     "text": [
      "100%|██████████████████████████████████████████████████████████████████████████████████████████████████████| 4/4 [00:02<00:00,  1.58it/s]\n"
     ]
    },
    {
     "name": "stdout",
     "output_type": "stream",
     "text": [
      "mstep self.weights:  [2.54194204e-10 1.68567332e-01 2.54194204e-10 2.54194204e-10\n",
      " 5.72436874e-02 7.01227843e-01 2.54194663e-10 7.29611366e-02]\n",
      "Q Function:  -279779.6154925087\n",
      "\n"
     ]
    },
    {
     "name": "stderr",
     "output_type": "stream",
     "text": [
      "100%|██████████████████████████████████████████████████████████████████████████████████████████████████████| 4/4 [00:02<00:00,  1.54it/s]\n"
     ]
    },
    {
     "name": "stdout",
     "output_type": "stream",
     "text": [
      "mstep self.weights:  [2.54194204e-10 1.68086315e-01 2.54194204e-10 2.54194204e-10\n",
      " 5.77534111e-02 7.01196561e-01 2.54195681e-10 7.29637120e-02]\n",
      "Q Function:  -280527.07755595446\n",
      "\n",
      "No. clus:  4\n",
      "allen_b02h01 with 2000 HVGs\n",
      "WARNING:root:Selecting 100 genes required 100.0% dataset threshold.\n"
     ]
    },
    {
     "name": "stderr",
     "output_type": "stream",
     "text": [
      "/home/tchari/monod/src/monod/mminference.py:512: RuntimeWarning: divide by zero encountered in true_divide\n",
      "  divids = (1e4/tots)[:,None]\n",
      "/home/tchari/monod/src/monod/mminference.py:513: RuntimeWarning: invalid value encountered in multiply\n",
      "  S_t = S_t*divids\n",
      "100%|████████████████████████████████████████████████████████████████████████████████████████████████████| 11/11 [00:03<00:00,  3.37it/s]\n",
      "100%|████████████████████████████████████████████████████████████████████████████████████████████████████| 11/11 [00:02<00:00,  3.68it/s]\n"
     ]
    },
    {
     "name": "stdout",
     "output_type": "stream",
     "text": [
      "mstep self.weights:  [0.06842218 0.07630795 0.19651374 0.15538318 0.05747364 0.08868384\n",
      " 0.07186108 0.03440334 0.14656889 0.06566661 0.03871556]\n",
      "Q Function:  -2461382.533000861\n",
      "\n"
     ]
    },
    {
     "name": "stderr",
     "output_type": "stream",
     "text": [
      "100%|████████████████████████████████████████████████████████████████████████████████████████████████████| 11/11 [00:03<00:00,  3.62it/s]\n"
     ]
    },
    {
     "name": "stdout",
     "output_type": "stream",
     "text": [
      "mstep self.weights:  [0.06823276 0.07331752 0.14464497 0.15802584 0.03303893 0.14023518\n",
      " 0.09243558 0.06540188 0.14293389 0.07646634 0.00526711]\n",
      "Q Function:  -2315988.220539042\n",
      "\n"
     ]
    },
    {
     "name": "stderr",
     "output_type": "stream",
     "text": [
      "100%|████████████████████████████████████████████████████████████████████████████████████████████████████| 10/10 [00:03<00:00,  3.27it/s]\n"
     ]
    },
    {
     "name": "stdout",
     "output_type": "stream",
     "text": [
      "mstep self.weights:  [6.65835573e-02 5.99672511e-02 1.27312040e-01 1.58134352e-01\n",
      " 3.11940726e-02 1.42598712e-01 9.69238601e-02 1.08164758e-01\n",
      " 1.38104110e-01 7.10172274e-02 5.97597365e-08]\n",
      "Q Function:  -2283257.194163372\n",
      "\n"
     ]
    },
    {
     "name": "stderr",
     "output_type": "stream",
     "text": [
      "100%|████████████████████████████████████████████████████████████████████████████████████████████████████| 10/10 [00:02<00:00,  3.36it/s]\n"
     ]
    },
    {
     "name": "stdout",
     "output_type": "stream",
     "text": [
      "mstep self.weights:  [6.66935245e-02 5.45099123e-02 1.24543570e-01 1.57988936e-01\n",
      " 3.09606943e-02 1.42612839e-01 1.03231431e-01 1.10287717e-01\n",
      " 1.48648337e-01 6.05230387e-02 6.55536616e-11]\n",
      "Q Function:  -2273197.2263917793\n",
      "\n"
     ]
    },
    {
     "name": "stderr",
     "output_type": "stream",
     "text": [
      "100%|████████████████████████████████████████████████████████████████████████████████████████████████████| 10/10 [00:02<00:00,  3.44it/s]\n"
     ]
    },
    {
     "name": "stdout",
     "output_type": "stream",
     "text": [
      "mstep self.weights:  [6.66290642e-02 5.21824544e-02 1.23796460e-01 1.57976189e-01\n",
      " 3.09129100e-02 1.43766891e-01 1.06354266e-01 1.08601039e-01\n",
      " 1.53934781e-01 5.58459456e-02 6.55265480e-11]\n",
      "Q Function:  -2271285.2135765827\n",
      "\n"
     ]
    },
    {
     "name": "stderr",
     "output_type": "stream",
     "text": [
      "100%|████████████████████████████████████████████████████████████████████████████████████████████████████| 10/10 [00:03<00:00,  3.04it/s]\n"
     ]
    },
    {
     "name": "stdout",
     "output_type": "stream",
     "text": [
      "mstep self.weights:  [6.76356610e-02 5.09703620e-02 1.22131601e-01 1.57978782e-01\n",
      " 3.08998745e-02 1.45811808e-01 1.07536733e-01 1.06660958e-01\n",
      " 1.55880024e-01 5.44941952e-02 6.55265325e-11]\n",
      "Q Function:  -2270418.377207099\n",
      "\n"
     ]
    },
    {
     "name": "stderr",
     "output_type": "stream",
     "text": [
      "100%|████████████████████████████████████████████████████████████████████████████████████████████████████| 10/10 [00:02<00:00,  3.37it/s]\n"
     ]
    },
    {
     "name": "stdout",
     "output_type": "stream",
     "text": [
      "mstep self.weights:  [6.85878279e-02 5.03804853e-02 1.20594869e-01 1.58025325e-01\n",
      " 3.09038543e-02 1.47649560e-01 1.07480792e-01 1.05706729e-01\n",
      " 1.56865486e-01 5.38050720e-02 6.55265250e-11]\n",
      "Q Function:  -2269747.5143281464\n",
      "\n"
     ]
    },
    {
     "name": "stderr",
     "output_type": "stream",
     "text": [
      "100%|████████████████████████████████████████████████████████████████████████████████████████████████████| 10/10 [00:02<00:00,  3.38it/s]\n"
     ]
    },
    {
     "name": "stdout",
     "output_type": "stream",
     "text": [
      "mstep self.weights:  [6.92411858e-02 5.00850502e-02 1.19412143e-01 1.58048128e-01\n",
      " 3.09074786e-02 1.48688297e-01 1.07491270e-01 1.05256008e-01\n",
      " 1.57205724e-01 5.36647158e-02 6.55265232e-11]\n",
      "Q Function:  -2269338.8890681225\n",
      "\n"
     ]
    },
    {
     "name": "stderr",
     "output_type": "stream",
     "text": [
      "100%|████████████████████████████████████████████████████████████████████████████████████████████████████| 10/10 [00:03<00:00,  3.27it/s]\n"
     ]
    },
    {
     "name": "stdout",
     "output_type": "stream",
     "text": [
      "mstep self.weights:  [6.97330880e-02 4.97566961e-02 1.18718500e-01 1.58068040e-01\n",
      " 3.09109415e-02 1.48997582e-01 1.07766182e-01 1.05000870e-01\n",
      " 1.57243976e-01 5.38041237e-02 6.55265194e-11]\n",
      "Q Function:  -2269083.6782816024\n",
      "\n"
     ]
    },
    {
     "name": "stderr",
     "output_type": "stream",
     "text": [
      "100%|████████████████████████████████████████████████████████████████████████████████████████████████████| 10/10 [00:03<00:00,  3.25it/s]\n"
     ]
    },
    {
     "name": "stdout",
     "output_type": "stream",
     "text": [
      "mstep self.weights:  [6.96059545e-02 4.95637902e-02 1.18809507e-01 1.58085860e-01\n",
      " 3.09141013e-02 1.49192863e-01 1.07684305e-01 1.05062378e-01\n",
      " 1.57249597e-01 5.38316435e-02 6.55265173e-11]\n",
      "Q Function:  -2268892.011111579\n",
      "\n",
      "No. clus:  10\n",
      "WARNING:root:Selecting 100 genes required 100.0% dataset threshold.\n"
     ]
    },
    {
     "name": "stderr",
     "output_type": "stream",
     "text": [
      "/home/tchari/monod/src/monod/mminference.py:512: RuntimeWarning: divide by zero encountered in true_divide\n",
      "  divids = (1e4/tots)[:,None]\n",
      "/home/tchari/monod/src/monod/mminference.py:513: RuntimeWarning: invalid value encountered in multiply\n",
      "  S_t = S_t*divids\n",
      "100%|████████████████████████████████████████████████████████████████████████████████████████████████████| 16/16 [00:03<00:00,  4.38it/s]\n",
      "100%|████████████████████████████████████████████████████████████████████████████████████████████████████| 16/16 [00:03<00:00,  5.06it/s]\n"
     ]
    },
    {
     "name": "stdout",
     "output_type": "stream",
     "text": [
      "mstep self.weights:  [0.05566746 0.04514019 0.05765018 0.05147372 0.0578817  0.04387294\n",
      " 0.11641325 0.05677011 0.05789996 0.0885245  0.06043659 0.06351589\n",
      " 0.04548261 0.11597207 0.04376313 0.0395357 ]\n",
      "Q Function:  -2491441.9479118027\n",
      "\n"
     ]
    },
    {
     "name": "stderr",
     "output_type": "stream",
     "text": [
      "100%|████████████████████████████████████████████████████████████████████████████████████████████████████| 16/16 [00:03<00:00,  4.99it/s]\n"
     ]
    },
    {
     "name": "stdout",
     "output_type": "stream",
     "text": [
      "mstep self.weights:  [0.08716923 0.07905334 0.04532334 0.05312337 0.0390487  0.02124205\n",
      " 0.09520765 0.03337457 0.12188219 0.10072949 0.11285093 0.02015118\n",
      " 0.00557017 0.10549703 0.06417301 0.01560376]\n",
      "Q Function:  -2293379.86752827\n",
      "\n"
     ]
    },
    {
     "name": "stderr",
     "output_type": "stream",
     "text": [
      "100%|████████████████████████████████████████████████████████████████████████████████████████████████████| 16/16 [00:03<00:00,  4.94it/s]\n"
     ]
    },
    {
     "name": "stdout",
     "output_type": "stream",
     "text": [
      "mstep self.weights:  [0.08091717 0.08595344 0.04331511 0.052766   0.0359144  0.03431131\n",
      " 0.09441188 0.0310862  0.12514179 0.09446631 0.12613723 0.01521765\n",
      " 0.00191973 0.10556524 0.05384783 0.01902872]\n",
      "Q Function:  -2256412.198818435\n",
      "\n"
     ]
    },
    {
     "name": "stderr",
     "output_type": "stream",
     "text": [
      "100%|████████████████████████████████████████████████████████████████████████████████████████████████████| 16/16 [00:03<00:00,  4.98it/s]\n"
     ]
    },
    {
     "name": "stdout",
     "output_type": "stream",
     "text": [
      "mstep self.weights:  [0.07707645 0.08782919 0.04091884 0.05264534 0.03446939 0.04328152\n",
      " 0.09637715 0.03082844 0.12312021 0.08927526 0.12618512 0.01939576\n",
      " 0.00216253 0.10552419 0.04691204 0.02399858]\n",
      "Q Function:  -2249123.1124298447\n",
      "\n"
     ]
    },
    {
     "name": "stderr",
     "output_type": "stream",
     "text": [
      "100%|████████████████████████████████████████████████████████████████████████████████████████████████████| 16/16 [00:02<00:00,  5.45it/s]\n"
     ]
    },
    {
     "name": "stdout",
     "output_type": "stream",
     "text": [
      "mstep self.weights:  [0.07370653 0.08933026 0.03968068 0.0527497  0.03592508 0.04761893\n",
      " 0.09812262 0.03073099 0.12039042 0.08560967 0.14480577 0.00041133\n",
      " 0.00275565 0.10549066 0.04227096 0.03040075]\n",
      "Q Function:  -2248142.483857137\n",
      "\n"
     ]
    },
    {
     "name": "stderr",
     "output_type": "stream",
     "text": [
      "100%|████████████████████████████████████████████████████████████████████████████████████████████████████| 15/15 [00:03<00:00,  4.68it/s]\n"
     ]
    },
    {
     "name": "stdout",
     "output_type": "stream",
     "text": [
      "mstep self.weights:  [7.21683448e-02 8.83867815e-02 3.73503234e-02 5.27209521e-02\n",
      " 3.56489873e-02 4.99374689e-02 9.97328821e-02 3.06725727e-02\n",
      " 1.18178369e-01 8.31733675e-02 1.48107757e-01 6.55265054e-11\n",
      " 3.53363764e-03 1.05470012e-01 3.89313981e-02 3.59871455e-02]\n",
      "Q Function:  -2245852.9638554514\n",
      "\n"
     ]
    },
    {
     "name": "stderr",
     "output_type": "stream",
     "text": [
      "100%|████████████████████████████████████████████████████████████████████████████████████████████████████| 15/15 [00:03<00:00,  4.95it/s]\n"
     ]
    },
    {
     "name": "stdout",
     "output_type": "stream",
     "text": [
      "mstep self.weights:  [7.11838260e-02 8.73717637e-02 3.56430503e-02 5.27099174e-02\n",
      " 3.58086372e-02 5.17882836e-02 1.01967960e-01 3.06633248e-02\n",
      " 1.16844071e-01 8.08735367e-02 1.50334456e-01 6.55265054e-11\n",
      " 2.86891530e-03 1.05465967e-01 3.70433631e-02 3.94329284e-02]\n",
      "Q Function:  -2245294.7790975464\n",
      "\n"
     ]
    },
    {
     "name": "stderr",
     "output_type": "stream",
     "text": [
      "100%|████████████████████████████████████████████████████████████████████████████████████████████████████| 15/15 [00:03<00:00,  4.76it/s]\n"
     ]
    },
    {
     "name": "stdout",
     "output_type": "stream",
     "text": [
      "mstep self.weights:  [7.06030535e-02 8.54863109e-02 3.41326171e-02 5.27372239e-02\n",
      " 3.58631795e-02 5.28135529e-02 1.04383771e-01 3.06630149e-02\n",
      " 1.16156282e-01 7.86369645e-02 1.51800349e-01 6.55265054e-11\n",
      " 4.11223350e-03 1.05475735e-01 3.58153624e-02 4.13203494e-02]\n",
      "Q Function:  -2244351.27796149\n",
      "\n"
     ]
    },
    {
     "name": "stderr",
     "output_type": "stream",
     "text": [
      "100%|████████████████████████████████████████████████████████████████████████████████████████████████████| 15/15 [00:03<00:00,  4.91it/s]\n"
     ]
    },
    {
     "name": "stdout",
     "output_type": "stream",
     "text": [
      "mstep self.weights:  [7.02219514e-02 8.36065065e-02 3.30963834e-02 5.27698321e-02\n",
      " 3.59099793e-02 5.36303569e-02 1.06864422e-01 3.06625933e-02\n",
      " 1.16133838e-01 7.62389755e-02 1.52804971e-01 6.55265054e-11\n",
      " 5.34141964e-03 1.05498268e-01 3.50038939e-02 4.22166084e-02]\n",
      "Q Function:  -2243940.909103669\n",
      "\n"
     ]
    },
    {
     "name": "stderr",
     "output_type": "stream",
     "text": [
      "100%|████████████████████████████████████████████████████████████████████████████████████████████████████| 15/15 [00:03<00:00,  4.95it/s]\n"
     ]
    },
    {
     "name": "stdout",
     "output_type": "stream",
     "text": [
      "mstep self.weights:  [7.01179285e-02 8.18743606e-02 3.21774041e-02 5.27745518e-02\n",
      " 3.59831419e-02 5.42482603e-02 1.08718380e-01 3.06621060e-02\n",
      " 1.16120743e-01 7.45457053e-02 1.53676585e-01 6.55265054e-11\n",
      " 6.45325109e-03 1.05485968e-01 3.45217068e-02 4.26399072e-02]\n",
      "Q Function:  -2243639.2829242335\n",
      "\n",
      "No. clus:  15\n",
      "cl3 with 299 HVGs\n",
      "WARNING:root:Selecting 100 genes required 100.0% dataset threshold.\n"
     ]
    },
    {
     "name": "stderr",
     "output_type": "stream",
     "text": [
      "/home/tchari/monod/src/monod/mminference.py:512: RuntimeWarning: divide by zero encountered in true_divide\n",
      "  divids = (1e4/tots)[:,None]\n",
      "/home/tchari/monod/src/monod/mminference.py:513: RuntimeWarning: invalid value encountered in multiply\n",
      "  S_t = S_t*divids\n",
      "100%|██████████████████████████████████████████████████████████████████████████████████████████████████████| 3/3 [00:05<00:00,  1.80s/it]\n",
      "100%|██████████████████████████████████████████████████████████████████████████████████████████████████████| 3/3 [00:06<00:00,  2.10s/it]\n"
     ]
    },
    {
     "name": "stdout",
     "output_type": "stream",
     "text": [
      "mstep self.weights:  [0.66250146 0.2724756  0.06502294]\n",
      "Q Function:  -532215.3708098488\n",
      "\n"
     ]
    },
    {
     "name": "stderr",
     "output_type": "stream",
     "text": [
      "100%|██████████████████████████████████████████████████████████████████████████████████████████████████████| 3/3 [00:06<00:00,  2.14s/it]\n"
     ]
    },
    {
     "name": "stdout",
     "output_type": "stream",
     "text": [
      "mstep self.weights:  [0.67216634 0.25537087 0.07246279]\n",
      "Q Function:  -493754.9398156135\n",
      "\n"
     ]
    },
    {
     "name": "stderr",
     "output_type": "stream",
     "text": [
      "100%|██████████████████████████████████████████████████████████████████████████████████████████████████████| 3/3 [00:08<00:00,  2.77s/it]\n"
     ]
    },
    {
     "name": "stdout",
     "output_type": "stream",
     "text": [
      "mstep self.weights:  [0.27473272 0.2482985  0.47696878]\n",
      "Q Function:  -576868.4034924619\n",
      "\n"
     ]
    },
    {
     "name": "stderr",
     "output_type": "stream",
     "text": [
      "100%|██████████████████████████████████████████████████████████████████████████████████████████████████████| 2/2 [00:05<00:00,  3.00s/it]\n"
     ]
    },
    {
     "name": "stdout",
     "output_type": "stream",
     "text": [
      "mstep self.weights:  [2.54194204e-10 2.60379721e-01 7.39620279e-01]\n",
      "Q Function:  -511343.91689600935\n",
      "\n"
     ]
    },
    {
     "name": "stderr",
     "output_type": "stream",
     "text": [
      "100%|██████████████████████████████████████████████████████████████████████████████████████████████████████| 2/2 [00:06<00:00,  3.10s/it]\n"
     ]
    },
    {
     "name": "stdout",
     "output_type": "stream",
     "text": [
      "mstep self.weights:  [2.54194204e-10 2.68633762e-01 7.31366238e-01]\n",
      "Q Function:  -502478.6997917614\n",
      "\n"
     ]
    },
    {
     "name": "stderr",
     "output_type": "stream",
     "text": [
      "100%|██████████████████████████████████████████████████████████████████████████████████████████████████████| 2/2 [00:05<00:00,  2.95s/it]\n"
     ]
    },
    {
     "name": "stdout",
     "output_type": "stream",
     "text": [
      "mstep self.weights:  [2.54194204e-10 2.71822860e-01 7.28177140e-01]\n",
      "Q Function:  -501430.8102201849\n",
      "\n"
     ]
    },
    {
     "name": "stderr",
     "output_type": "stream",
     "text": [
      "100%|██████████████████████████████████████████████████████████████████████████████████████████████████████| 2/2 [00:06<00:00,  3.15s/it]\n"
     ]
    },
    {
     "name": "stdout",
     "output_type": "stream",
     "text": [
      "mstep self.weights:  [2.54194204e-10 2.75511770e-01 7.24488230e-01]\n",
      "Q Function:  -501829.61520482897\n",
      "\n"
     ]
    },
    {
     "name": "stderr",
     "output_type": "stream",
     "text": [
      "100%|██████████████████████████████████████████████████████████████████████████████████████████████████████| 2/2 [00:05<00:00,  2.88s/it]\n"
     ]
    },
    {
     "name": "stdout",
     "output_type": "stream",
     "text": [
      "mstep self.weights:  [2.54194204e-10 2.77177442e-01 7.22822558e-01]\n",
      "Q Function:  -506934.7298309776\n",
      "\n"
     ]
    },
    {
     "name": "stderr",
     "output_type": "stream",
     "text": [
      "100%|██████████████████████████████████████████████████████████████████████████████████████████████████████| 2/2 [00:05<00:00,  2.87s/it]\n"
     ]
    },
    {
     "name": "stdout",
     "output_type": "stream",
     "text": [
      "mstep self.weights:  [2.54194204e-10 2.77415577e-01 7.22584423e-01]\n",
      "Q Function:  -505095.0983715427\n",
      "\n"
     ]
    },
    {
     "name": "stderr",
     "output_type": "stream",
     "text": [
      "100%|██████████████████████████████████████████████████████████████████████████████████████████████████████| 2/2 [00:05<00:00,  2.97s/it]\n"
     ]
    },
    {
     "name": "stdout",
     "output_type": "stream",
     "text": [
      "mstep self.weights:  [2.54194204e-10 2.77415650e-01 7.22584350e-01]\n",
      "Q Function:  -505095.0981051491\n",
      "\n",
      "No. clus:  2\n",
      "WARNING:root:Selecting 100 genes required 100.0% dataset threshold.\n"
     ]
    },
    {
     "name": "stderr",
     "output_type": "stream",
     "text": [
      "/home/tchari/monod/src/monod/mminference.py:512: RuntimeWarning: divide by zero encountered in true_divide\n",
      "  divids = (1e4/tots)[:,None]\n",
      "/home/tchari/monod/src/monod/mminference.py:513: RuntimeWarning: invalid value encountered in multiply\n",
      "  S_t = S_t*divids\n",
      "100%|██████████████████████████████████████████████████████████████████████████████████████████████████████| 8/8 [00:05<00:00,  1.55it/s]\n",
      "100%|██████████████████████████████████████████████████████████████████████████████████████████████████████| 8/8 [00:04<00:00,  1.71it/s]\n"
     ]
    },
    {
     "name": "stdout",
     "output_type": "stream",
     "text": [
      "mstep self.weights:  [0.10467008 0.03507358 0.02264336 0.58105235 0.09634178 0.08977182\n",
      " 0.00472581 0.06572123]\n",
      "Q Function:  -563469.4092710173\n",
      "\n"
     ]
    },
    {
     "name": "stderr",
     "output_type": "stream",
     "text": [
      "100%|██████████████████████████████████████████████████████████████████████████████████████████████████████| 6/6 [00:04<00:00,  1.33it/s]\n"
     ]
    },
    {
     "name": "stdout",
     "output_type": "stream",
     "text": [
      "mstep self.weights:  [8.59049112e-02 6.44609621e-02 1.01875646e-09 5.95452466e-01\n",
      " 9.00813592e-02 8.81347194e-02 2.54197214e-10 7.59655811e-02]\n",
      "Q Function:  -543235.3609247997\n",
      "\n"
     ]
    },
    {
     "name": "stderr",
     "output_type": "stream",
     "text": [
      "100%|██████████████████████████████████████████████████████████████████████████████████████████████████████| 6/6 [00:04<00:00,  1.27it/s]\n"
     ]
    },
    {
     "name": "stdout",
     "output_type": "stream",
     "text": [
      "mstep self.weights:  [8.57700205e-02 6.82893594e-02 2.54194210e-10 1.75299260e-04\n",
      " 8.76815594e-02 6.82895358e-01 2.54194207e-10 7.51884026e-02]\n",
      "Q Function:  -560356.6503675466\n",
      "\n"
     ]
    },
    {
     "name": "stderr",
     "output_type": "stream",
     "text": [
      "100%|██████████████████████████████████████████████████████████████████████████████████████████████████████| 5/5 [00:04<00:00,  1.06it/s]\n"
     ]
    },
    {
     "name": "stdout",
     "output_type": "stream",
     "text": [
      "mstep self.weights:  [8.50724275e-02 6.85638767e-02 2.54194206e-10 2.54194204e-10\n",
      " 8.41600995e-02 6.83896927e-01 2.54194654e-10 7.83066680e-02]\n",
      "Q Function:  -507430.86063930433\n",
      "\n"
     ]
    },
    {
     "name": "stderr",
     "output_type": "stream",
     "text": [
      "100%|██████████████████████████████████████████████████████████████████████████████████████████████████████| 5/5 [00:04<00:00,  1.10it/s]\n"
     ]
    },
    {
     "name": "stdout",
     "output_type": "stream",
     "text": [
      "mstep self.weights:  [8.48783853e-02 6.73632204e-02 2.54194206e-10 2.54194204e-10\n",
      " 8.91655012e-02 6.85901766e-01 2.54194537e-10 7.26911264e-02]\n",
      "Q Function:  -501488.0592637091\n",
      "\n"
     ]
    },
    {
     "name": "stderr",
     "output_type": "stream",
     "text": [
      "100%|██████████████████████████████████████████████████████████████████████████████████████████████████████| 5/5 [00:04<00:00,  1.06it/s]\n"
     ]
    },
    {
     "name": "stdout",
     "output_type": "stream",
     "text": [
      "mstep self.weights:  [8.48991156e-02 6.89752402e-02 2.54194208e-10 2.54194204e-10\n",
      " 9.34572549e-02 6.84849166e-01 2.54195481e-10 6.78192222e-02]\n",
      "Q Function:  -504665.64137395524\n",
      "\n"
     ]
    },
    {
     "name": "stderr",
     "output_type": "stream",
     "text": [
      "100%|██████████████████████████████████████████████████████████████████████████████████████████████████████| 5/5 [00:05<00:00,  1.06s/it]\n"
     ]
    },
    {
     "name": "stdout",
     "output_type": "stream",
     "text": [
      "mstep self.weights:  [8.46475369e-02 6.73143599e-02 2.54194205e-10 2.54194204e-10\n",
      " 1.02796659e-01 6.86848270e-01 2.54194784e-10 5.83931742e-02]\n",
      "Q Function:  -502887.53695233184\n",
      "\n"
     ]
    },
    {
     "name": "stderr",
     "output_type": "stream",
     "text": [
      "100%|██████████████████████████████████████████████████████████████████████████████████████████████████████| 5/5 [00:04<00:00,  1.04it/s]\n"
     ]
    },
    {
     "name": "stdout",
     "output_type": "stream",
     "text": [
      "mstep self.weights:  [8.58998914e-02 7.99775784e-02 2.54194211e-10 2.54194204e-10\n",
      " 1.26616969e-01 6.74705890e-01 2.54195219e-10 3.27996700e-02]\n",
      "Q Function:  -546590.1764723647\n",
      "\n"
     ]
    },
    {
     "name": "stderr",
     "output_type": "stream",
     "text": [
      "100%|██████████████████████████████████████████████████████████████████████████████████████████████████████| 5/5 [00:05<00:00,  1.10s/it]\n"
     ]
    },
    {
     "name": "stdout",
     "output_type": "stream",
     "text": [
      "mstep self.weights:  [8.57023424e-02 7.27528263e-02 2.54194204e-10 2.54194204e-10\n",
      " 1.44336608e-01 6.84072447e-01 2.54194219e-10 1.31357760e-02]\n",
      "Q Function:  -505878.77460666036\n",
      "\n"
     ]
    },
    {
     "name": "stderr",
     "output_type": "stream",
     "text": [
      "100%|██████████████████████████████████████████████████████████████████████████████████████████████████████| 5/5 [00:05<00:00,  1.09s/it]\n"
     ]
    },
    {
     "name": "stdout",
     "output_type": "stream",
     "text": [
      "mstep self.weights:  [8.70303889e-02 7.31661857e-02 2.54194206e-10 2.54194204e-10\n",
      " 1.52550967e-01 6.86204411e-01 2.54194380e-10 1.04804673e-03]\n",
      "Q Function:  -506405.759448412\n",
      "\n",
      "No. clus:  5\n"
     ]
    }
   ],
   "source": [
    "#For each loom in looms from ./hvg_objs\n",
    "\n",
    "!mkdir /home/tchari/perturbCME/notebooks/fits/meKruns_0209\n",
    "\n",
    "dir_strings = []\n",
    "data_strings = []\n",
    "result_strings = []\n",
    "\n",
    "#Save method, clustering, mat_in (U,S, etc), hyper (K or res), hvgs, data, ARI, AMI\n",
    "meK_res = pd.DataFrame()\n",
    "meths = []\n",
    "result = []\n",
    "mats = []\n",
    "hyper = []\n",
    "hvgs = []\n",
    "data = []\n",
    "ari = []\n",
    "ami = []\n",
    "\n",
    "for d in d_strings:\n",
    "    \n",
    "    #Get tech param by keyword (datas) in loom paths\n",
    "    ind = [i in d for i in datas]\n",
    "    \n",
    "    #Inference params for sampling\n",
    "    tech_tup = [list(samps.Cu[ind])[0],list(samps.Lam[ind])[0]]\n",
    "    \n",
    "    #Preprocessing params for filepaths\n",
    "    trans = list(samps.Transcrip[ind])[0]\n",
    "    k = list(samps.Clusters[ind])[0]\n",
    "    data_name = list(samps.Dataset[ind])[0]\n",
    "    \n",
    "    \n",
    "    ds = lp.connect(d)\n",
    "    num_genes = len(ds.ra[attribute_names[1]])\n",
    "    num_cells = len(ds.ca[attribute_names[2]])\n",
    "    true_labs = list(ds.ca['subclass_label'])\n",
    "    ds.close()\n",
    "    print(data_name+' with '+str(num_genes)+' HVGs')\n",
    "    \n",
    "    Ks = [k,k+5] #2,\n",
    "\n",
    "    for clus in Ks:\n",
    "        # ******** TRY SETTING GENE MARKERS TO ONES THAT MEET VAR AND MEAN THRESH *************\n",
    "        #Run Monod preprocessing to set up files for run, leave room for genes to be removed with low U/S\n",
    "        dir_string,dataset_string = monod.preprocess.construct_batch([d], \\\n",
    "                                                     trans, \\\n",
    "                                                     [data_name], \\\n",
    "                                                     attribute_names=attribute_names,\\\n",
    "                                                     batch_location='./fits/meKruns_0209', \\\n",
    "                                                     meta=data_name+'_K'+str(clus), \\\n",
    "                                                     batch_id=1, \\\n",
    "                                                     n_genes=100,exp_filter_threshold=None,viz=False) #num_genes-60\n",
    "        dir_strings += [dir_string]\n",
    "        data_strings += [dataset_string]\n",
    "\n",
    "        #Set model and run meK-Means\n",
    "        \n",
    "        #Define bounds for params\n",
    "        phys_lb = [-2.0, -1.8, -1.8 ] \n",
    "        phys_ub = [4.2, 2.5, 2.5] \n",
    "        samp_lb = tech_tup \n",
    "        samp_ub = tech_tup  \n",
    "        gridsize = [1,1] #Already have tech params\n",
    "    \n",
    "\n",
    "        epochs = 10\n",
    "\n",
    "        # ---------------- meK-Means Inference ---------------- \n",
    "        #Define model with bursty transcription and Poisson molecule capture/sampling\n",
    "        fitmodel = monod.cme_toolbox.CMEModel('Bursty','Poisson')\n",
    "\n",
    "        #Set up mminference parameters\n",
    "        inference_parameters = monod.mminference.InferenceParameters(phys_lb,phys_ub,samp_lb,samp_ub,gridsize,\\\n",
    "                    dataset_string[0],fitmodel,k=clus,epochs=epochs,use_lengths = True,\n",
    "                    gradient_params = {'max_iterations':5,'init_pattern':'moments','num_restarts':1})\n",
    "\n",
    "        #Read in loom file with filtered barcodes\n",
    "        search_data = monod.extract_data.extract_data(d, trans, data_name,\n",
    "                    dataset_string[0], dir_string, viz=False, dataset_attr_names=attribute_names)\n",
    "\n",
    "        #Run inference(fit_all_grid_points()) and Save result file strings\n",
    "        full_result_string = inference_parameters.fit_all_grid_points(40,search_data) \n",
    "\n",
    "        result_strings.append(full_result_string)\n",
    "        \n",
    "\n",
    "        # ----------------  Save output ---------------- \n",
    "        #Read in results and get cluster assignments\n",
    "        sr = [monod.analysis.load_search_results(i) for i in full_result_string]\n",
    "        \n",
    "        \n",
    "        cat_assigns = np.array([None]*num_cells) #cat_assigns is empty list of length = no. cell barcodes\n",
    "        for i in range(len(sr)):\n",
    "            r = sr[i]\n",
    "            cat_assigns[r.filt] = r.assigns #denotes which cluster (k), cells were assigned to\n",
    "\n",
    "        print('No. clus: ',len(np.unique(cat_assigns)))\n",
    "        \n",
    "\n",
    "        meths += ['meK-Means']\n",
    "        result += [cat_assigns]\n",
    "        mats += ['U,S']\n",
    "        hyper += [clus]\n",
    "        hvgs += [num_genes]\n",
    "        data += [data_name]\n",
    "        ari += [adjusted_rand_score(true_labs,cat_assigns)]\n",
    "        ami += [adjusted_mutual_info_score(true_labs,cat_assigns)]\n",
    "\n",
    "\n",
    "meK_res['Method'] = meths\n",
    "meK_res['Clustering'] = result\n",
    "meK_res['Matrices'] = mats\n",
    "meK_res['Hyperparam'] = hyper\n",
    "meK_res['HVGs'] = hvgs\n",
    "meK_res['Data'] = data\n",
    "meK_res['ARI'] = ari\n",
    "meK_res['AMI'] = ami\n",
    "    "
   ]
  },
  {
   "cell_type": "markdown",
   "id": "7cf7f374",
   "metadata": {},
   "source": [
    "Old run below"
   ]
  },
  {
   "cell_type": "code",
   "execution_count": 25,
   "id": "15a0e9d4",
   "metadata": {
    "scrolled": true
   },
   "outputs": [
    {
     "name": "stdout",
     "output_type": "stream",
     "text": [
      "allen_b08 with 299 HVGs\n",
      "WARNING:root:Selecting 239 genes required 0.0% dataset threshold.\n"
     ]
    },
    {
     "name": "stderr",
     "output_type": "stream",
     "text": [
      "100%|██████████████████████████████████████████████████████████████████████████████████████████████████████| 2/2 [00:58<00:00, 29.17s/it]\n",
      "100%|██████████████████████████████████████████████████████████████████████████████████████████████████████| 2/2 [01:23<00:00, 41.88s/it]\n"
     ]
    },
    {
     "name": "stdout",
     "output_type": "stream",
     "text": [
      "mstep self.weights:  [0.55281326 0.44718674]\n",
      "Q Function:  -2007059.0553544827\n",
      "\n"
     ]
    },
    {
     "name": "stderr",
     "output_type": "stream",
     "text": [
      "100%|██████████████████████████████████████████████████████████████████████████████████████████████████████| 2/2 [01:10<00:00, 35.10s/it]\n"
     ]
    },
    {
     "name": "stdout",
     "output_type": "stream",
     "text": [
      "mstep self.weights:  [0.55623791 0.44376209]\n",
      "Q Function:  -1981028.003748943\n",
      "\n"
     ]
    },
    {
     "name": "stderr",
     "output_type": "stream",
     "text": [
      "100%|██████████████████████████████████████████████████████████████████████████████████████████████████████| 2/2 [01:20<00:00, 40.18s/it]\n"
     ]
    },
    {
     "name": "stdout",
     "output_type": "stream",
     "text": [
      "mstep self.weights:  [0.57936308 0.42063692]\n",
      "Q Function:  -1977710.0842904956\n",
      "\n"
     ]
    },
    {
     "name": "stderr",
     "output_type": "stream",
     "text": [
      "100%|██████████████████████████████████████████████████████████████████████████████████████████████████████| 2/2 [00:53<00:00, 26.96s/it]\n"
     ]
    },
    {
     "name": "stdout",
     "output_type": "stream",
     "text": [
      "mstep self.weights:  [0.58441625 0.41558375]\n",
      "Q Function:  -1976980.16285448\n",
      "\n"
     ]
    },
    {
     "name": "stderr",
     "output_type": "stream",
     "text": [
      "100%|██████████████████████████████████████████████████████████████████████████████████████████████████████| 2/2 [01:13<00:00, 36.61s/it]\n"
     ]
    },
    {
     "name": "stdout",
     "output_type": "stream",
     "text": [
      "mstep self.weights:  [0.58691531 0.41308469]\n",
      "Q Function:  -1975719.987239613\n",
      "\n"
     ]
    },
    {
     "name": "stderr",
     "output_type": "stream",
     "text": [
      "100%|██████████████████████████████████████████████████████████████████████████████████████████████████████| 2/2 [01:07<00:00, 33.60s/it]\n"
     ]
    },
    {
     "name": "stdout",
     "output_type": "stream",
     "text": [
      "mstep self.weights:  [0.58916684 0.41083316]\n",
      "Q Function:  -1981531.743123788\n",
      "\n"
     ]
    },
    {
     "name": "stderr",
     "output_type": "stream",
     "text": [
      "100%|██████████████████████████████████████████████████████████████████████████████████████████████████████| 2/2 [01:08<00:00, 34.12s/it]\n"
     ]
    },
    {
     "name": "stdout",
     "output_type": "stream",
     "text": [
      "mstep self.weights:  [0.58704692 0.41295308]\n",
      "Q Function:  -1982539.8839397114\n",
      "\n"
     ]
    },
    {
     "name": "stderr",
     "output_type": "stream",
     "text": [
      "100%|██████████████████████████████████████████████████████████████████████████████████████████████████████| 2/2 [01:09<00:00, 34.53s/it]\n"
     ]
    },
    {
     "name": "stdout",
     "output_type": "stream",
     "text": [
      "mstep self.weights:  [0.59001736 0.40998264]\n",
      "Q Function:  -1977438.1906748693\n",
      "\n"
     ]
    },
    {
     "name": "stderr",
     "output_type": "stream",
     "text": [
      "100%|██████████████████████████████████████████████████████████████████████████████████████████████████████| 2/2 [01:11<00:00, 35.66s/it]\n"
     ]
    },
    {
     "name": "stdout",
     "output_type": "stream",
     "text": [
      "mstep self.weights:  [0.58895388 0.41104612]\n",
      "Q Function:  -1982826.5486316662\n",
      "\n"
     ]
    },
    {
     "name": "stderr",
     "output_type": "stream",
     "text": [
      "100%|██████████████████████████████████████████████████████████████████████████████████████████████████████| 2/2 [01:16<00:00, 38.48s/it]\n"
     ]
    },
    {
     "name": "stdout",
     "output_type": "stream",
     "text": [
      "mstep self.weights:  [0.58759334 0.41240666]\n",
      "Q Function:  -1978840.7661014989\n",
      "\n",
      "No. clus:  2\n",
      "WARNING:root:Selecting 239 genes required 0.0% dataset threshold.\n"
     ]
    },
    {
     "name": "stderr",
     "output_type": "stream",
     "text": [
      "100%|████████████████████████████████████████████████████████████████████████████████████████████████████| 10/10 [00:48<00:00,  4.85s/it]\n",
      "100%|████████████████████████████████████████████████████████████████████████████████████████████████████| 10/10 [00:45<00:00,  4.59s/it]\n"
     ]
    },
    {
     "name": "stdout",
     "output_type": "stream",
     "text": [
      "mstep self.weights:  [0.1212775  0.11816367 0.10523179 0.16209619 0.10265147 0.04635888\n",
      " 0.09414437 0.00028703 0.15402198 0.09576712]\n",
      "Q Function:  -2010543.5826683517\n",
      "\n"
     ]
    },
    {
     "name": "stderr",
     "output_type": "stream",
     "text": [
      "100%|██████████████████████████████████████████████████████████████████████████████████████████████████████| 9/9 [00:34<00:00,  3.81s/it]\n"
     ]
    },
    {
     "name": "stdout",
     "output_type": "stream",
     "text": [
      "mstep self.weights:  [9.59251337e-02 1.51045329e-02 9.85278464e-02 2.89254369e-04\n",
      " 2.89648417e-01 4.83171330e-02 1.11799964e-01 1.75654312e-10\n",
      " 2.61630682e-01 7.87570359e-02]\n",
      "Q Function:  -1973397.7128223558\n",
      "\n"
     ]
    },
    {
     "name": "stderr",
     "output_type": "stream",
     "text": [
      "100%|██████████████████████████████████████████████████████████████████████████████████████████████████████| 8/8 [00:26<00:00,  3.31s/it]\n"
     ]
    },
    {
     "name": "stdout",
     "output_type": "stream",
     "text": [
      "mstep self.weights:  [1.78549304e-02 2.39136500e-02 2.86893606e-01 1.75654312e-10\n",
      " 3.78270124e-01 5.44844669e-02 1.26254570e-01 1.75654312e-10\n",
      " 4.18699342e-02 7.04587189e-02]\n",
      "Q Function:  -1917941.6338908244\n",
      "\n"
     ]
    },
    {
     "name": "stderr",
     "output_type": "stream",
     "text": [
      "100%|██████████████████████████████████████████████████████████████████████████████████████████████████████| 8/8 [00:27<00:00,  3.47s/it]\n"
     ]
    },
    {
     "name": "stdout",
     "output_type": "stream",
     "text": [
      "mstep self.weights:  [2.61070505e-02 2.24897010e-02 3.25606178e-01 1.75654312e-10\n",
      " 4.52397802e-01 5.51553424e-02 1.47668259e-02 1.75654312e-10\n",
      " 3.33909161e-02 7.00861828e-02]\n",
      "Q Function:  -1955921.8514789015\n",
      "\n"
     ]
    },
    {
     "name": "stderr",
     "output_type": "stream",
     "text": [
      "100%|██████████████████████████████████████████████████████████████████████████████████████████████████████| 8/8 [00:30<00:00,  3.77s/it]\n"
     ]
    },
    {
     "name": "stdout",
     "output_type": "stream",
     "text": [
      "mstep self.weights:  [2.69045849e-02 1.58565236e-02 3.08191999e-01 1.75654312e-10\n",
      " 4.84756817e-01 5.51554541e-02 6.98672220e-03 1.75654312e-10\n",
      " 3.20618284e-02 7.00860707e-02]\n",
      "Q Function:  -1899720.8752745774\n",
      "\n"
     ]
    },
    {
     "name": "stderr",
     "output_type": "stream",
     "text": [
      "100%|██████████████████████████████████████████████████████████████████████████████████████████████████████| 8/8 [00:37<00:00,  4.70s/it]\n"
     ]
    },
    {
     "name": "stdout",
     "output_type": "stream",
     "text": [
      "mstep self.weights:  [2.76322997e-02 1.02804370e-02 2.95157368e-01 1.75654312e-10\n",
      " 5.06921163e-01 5.51554536e-02 1.23039002e-03 1.75654312e-10\n",
      " 3.35368176e-02 7.00860707e-02]\n",
      "Q Function:  -1924806.4200689462\n",
      "\n"
     ]
    },
    {
     "name": "stderr",
     "output_type": "stream",
     "text": [
      "100%|██████████████████████████████████████████████████████████████████████████████████████████████████████| 7/7 [00:46<00:00,  6.66s/it]\n"
     ]
    },
    {
     "name": "stdout",
     "output_type": "stream",
     "text": [
      "mstep self.weights:  [3.98348226e-02 1.03603927e-02 2.94306879e-01 1.75654312e-10\n",
      " 4.97769916e-01 5.51554520e-02 1.75654312e-10 1.75654312e-10\n",
      " 3.24864665e-02 7.00860707e-02]\n",
      "Q Function:  -1926200.7649932522\n",
      "\n"
     ]
    },
    {
     "name": "stderr",
     "output_type": "stream",
     "text": [
      "100%|██████████████████████████████████████████████████████████████████████████████████████████████████████| 7/7 [00:50<00:00,  7.24s/it]\n"
     ]
    },
    {
     "name": "stdout",
     "output_type": "stream",
     "text": [
      "mstep self.weights:  [2.13595774e-02 7.02936633e-03 2.89168752e-01 1.75654312e-10\n",
      " 5.23679037e-01 5.51554210e-02 1.75654312e-10 1.75654312e-10\n",
      " 3.35217744e-02 7.00860707e-02]\n",
      "Q Function:  -1922844.3487730203\n",
      "\n"
     ]
    },
    {
     "name": "stderr",
     "output_type": "stream",
     "text": [
      "100%|██████████████████████████████████████████████████████████████████████████████████████████████████████| 7/7 [00:27<00:00,  3.89s/it]\n"
     ]
    },
    {
     "name": "stdout",
     "output_type": "stream",
     "text": [
      "mstep self.weights:  [2.91325185e-02 2.21613158e-03 2.74752740e-01 1.75654312e-10\n",
      " 5.35772896e-01 5.51525353e-02 1.75654312e-10 1.75654312e-10\n",
      " 3.28871066e-02 7.00860707e-02]\n",
      "Q Function:  -1928464.2661236892\n",
      "\n"
     ]
    },
    {
     "name": "stderr",
     "output_type": "stream",
     "text": [
      "100%|██████████████████████████████████████████████████████████████████████████████████████████████████████| 6/6 [00:29<00:00,  4.91s/it]\n"
     ]
    },
    {
     "name": "stdout",
     "output_type": "stream",
     "text": [
      "mstep self.weights:  [3.75197641e-02 1.75654312e-10 2.89378949e-01 1.75654312e-10\n",
      " 5.16834130e-01 5.51478438e-02 1.75654312e-10 1.75654312e-10\n",
      " 3.10332416e-02 7.00860707e-02]\n",
      "Q Function:  -1937582.4424795632\n",
      "\n",
      "No. clus:  6\n",
      "WARNING:root:Selecting 239 genes required 0.0% dataset threshold.\n"
     ]
    },
    {
     "name": "stderr",
     "output_type": "stream",
     "text": [
      "100%|████████████████████████████████████████████████████████████████████████████████████████████████████| 15/15 [00:31<00:00,  2.07s/it]\n",
      "100%|████████████████████████████████████████████████████████████████████████████████████████████████████| 14/14 [00:36<00:00,  2.62s/it]\n"
     ]
    },
    {
     "name": "stdout",
     "output_type": "stream",
     "text": [
      "mstep self.weights:  [1.10512046e-03 2.53267008e-03 2.14558710e-03 1.30066572e-01\n",
      " 1.83774032e-01 4.19749135e-02 1.20791682e-01 2.81121921e-02\n",
      " 1.52854372e-02 4.04032211e-02 1.52707266e-01 2.59084043e-01\n",
      " 1.27473659e-06 1.15822000e-03 2.08577686e-02]\n",
      "Q Function:  -2046230.6313121617\n",
      "\n"
     ]
    },
    {
     "name": "stderr",
     "output_type": "stream",
     "text": [
      "100%|██████████████████████████████████████████████████████████████████████████████████████████████████████| 9/9 [00:39<00:00,  4.44s/it]\n"
     ]
    },
    {
     "name": "stdout",
     "output_type": "stream",
     "text": [
      "mstep self.weights:  [7.72688532e-08 1.75654699e-10 7.81527429e-10 1.34688980e-01\n",
      " 1.39250700e-02 5.08907735e-02 1.28257861e-01 4.92610812e-06\n",
      " 1.80943061e-02 2.82962103e-02 3.35692326e-01 2.89610165e-01\n",
      " 1.24543248e-05 5.26843259e-04 6.51375669e-09]\n",
      "Q Function:  -1984732.2220870594\n",
      "\n"
     ]
    },
    {
     "name": "stderr",
     "output_type": "stream",
     "text": [
      "100%|██████████████████████████████████████████████████████████████████████████████████████████████████████| 8/8 [00:48<00:00,  6.02s/it]\n"
     ]
    },
    {
     "name": "stdout",
     "output_type": "stream",
     "text": [
      "mstep self.weights:  [1.75654326e-10 1.75654312e-10 1.75654312e-10 1.58490080e-01\n",
      " 1.76525305e-10 5.31736892e-02 1.21641399e-01 1.75654312e-10\n",
      " 1.87913888e-02 2.50394929e-02 3.32794706e-01 2.89738792e-01\n",
      " 3.30451817e-04 1.75654312e-10 1.75654313e-10]\n",
      "Q Function:  -1953688.247787358\n",
      "\n"
     ]
    },
    {
     "name": "stderr",
     "output_type": "stream",
     "text": [
      "100%|██████████████████████████████████████████████████████████████████████████████████████████████████████| 8/8 [00:43<00:00,  5.49s/it]\n"
     ]
    },
    {
     "name": "stdout",
     "output_type": "stream",
     "text": [
      "mstep self.weights:  [1.75654312e-10 1.28668106e-04 1.75654312e-10 1.65652084e-01\n",
      " 1.75654312e-10 5.38286610e-02 1.63080182e-01 1.75654312e-10\n",
      " 1.69347100e-02 1.72858758e-03 3.17706981e-01 2.80940125e-01\n",
      " 1.75654312e-10 1.75654312e-10 1.75654312e-10]\n",
      "Q Function:  -1963704.9677714338\n",
      "\n"
     ]
    },
    {
     "name": "stderr",
     "output_type": "stream",
     "text": [
      "100%|██████████████████████████████████████████████████████████████████████████████████████████████████████| 6/6 [00:56<00:00,  9.37s/it]\n"
     ]
    },
    {
     "name": "stdout",
     "output_type": "stream",
     "text": [
      "mstep self.weights:  [1.75654312e-10 1.75654312e-10 1.75654312e-10 1.65786611e-01\n",
      " 1.75654312e-10 5.12008894e-02 1.49573375e-01 1.75654312e-10\n",
      " 1.62982362e-02 1.75654312e-10 3.67973168e-01 2.49167719e-01\n",
      " 1.75654312e-10 1.75654312e-10 1.75654312e-10]\n",
      "Q Function:  -1935743.2897570482\n",
      "\n"
     ]
    },
    {
     "name": "stderr",
     "output_type": "stream",
     "text": [
      "100%|██████████████████████████████████████████████████████████████████████████████████████████████████████| 6/6 [00:53<00:00,  8.96s/it]\n"
     ]
    },
    {
     "name": "stdout",
     "output_type": "stream",
     "text": [
      "mstep self.weights:  [1.75654312e-10 1.75654312e-10 1.75654312e-10 1.66741327e-01\n",
      " 1.75654312e-10 5.12165849e-02 1.57000364e-01 1.75654333e-10\n",
      " 1.86370117e-02 1.75654312e-10 3.83694448e-01 2.22710263e-01\n",
      " 1.75654312e-10 1.75654312e-10 1.75654312e-10]\n",
      "Q Function:  -1929561.2112061281\n",
      "\n"
     ]
    },
    {
     "name": "stderr",
     "output_type": "stream",
     "text": [
      "100%|██████████████████████████████████████████████████████████████████████████████████████████████████████| 6/6 [00:43<00:00,  7.31s/it]\n"
     ]
    },
    {
     "name": "stdout",
     "output_type": "stream",
     "text": [
      "mstep self.weights:  [1.75654312e-10 1.75654312e-10 1.75654312e-10 1.91792933e-01\n",
      " 1.75654312e-10 5.12121573e-02 1.75027828e-01 1.75654312e-10\n",
      " 2.11086556e-02 1.75654312e-10 3.43733786e-01 2.17124639e-01\n",
      " 1.75654312e-10 1.75654312e-10 1.75654315e-10]\n",
      "Q Function:  -1973305.3780079954\n",
      "\n"
     ]
    },
    {
     "name": "stderr",
     "output_type": "stream",
     "text": [
      "100%|██████████████████████████████████████████████████████████████████████████████████████████████████████| 6/6 [00:34<00:00,  5.68s/it]\n"
     ]
    },
    {
     "name": "stdout",
     "output_type": "stream",
     "text": [
      "mstep self.weights:  [1.75654312e-10 1.75654312e-10 1.75654312e-10 1.97955525e-01\n",
      " 1.75654312e-10 5.09237022e-02 1.77242538e-01 1.75654313e-10\n",
      " 2.18320959e-02 1.75654312e-10 3.39254157e-01 2.12791980e-01\n",
      " 1.75654312e-10 1.75654312e-10 1.75654312e-10]\n",
      "Q Function:  -1938588.1305676317\n",
      "\n"
     ]
    },
    {
     "name": "stderr",
     "output_type": "stream",
     "text": [
      "100%|██████████████████████████████████████████████████████████████████████████████████████████████████████| 6/6 [00:37<00:00,  6.27s/it]\n"
     ]
    },
    {
     "name": "stdout",
     "output_type": "stream",
     "text": [
      "mstep self.weights:  [1.75654312e-10 1.75654312e-10 1.75654312e-10 2.30386854e-01\n",
      " 1.75654312e-10 5.15872725e-02 1.69591243e-01 1.75654312e-10\n",
      " 2.09984155e-02 1.75654312e-10 3.08152455e-01 2.19283758e-01\n",
      " 1.75654312e-10 1.75654312e-10 1.75654312e-10]\n",
      "Q Function:  -1936333.395580212\n",
      "\n"
     ]
    },
    {
     "name": "stderr",
     "output_type": "stream",
     "text": [
      "100%|██████████████████████████████████████████████████████████████████████████████████████████████████████| 6/6 [00:36<00:00,  6.16s/it]\n"
     ]
    },
    {
     "name": "stdout",
     "output_type": "stream",
     "text": [
      "mstep self.weights:  [1.75654312e-10 1.75654312e-10 1.75654312e-10 2.09964608e-01\n",
      " 1.75654312e-10 5.12828713e-02 1.56804976e-01 1.75654315e-10\n",
      " 2.24857125e-02 1.75654312e-10 3.42884927e-01 2.16576903e-01\n",
      " 1.75654312e-10 1.75654312e-10 1.75654312e-10]\n",
      "Q Function:  -1910217.2914583823\n",
      "\n",
      "No. clus:  6\n",
      "WARNING:root:Selecting 239 genes required 0.0% dataset threshold.\n"
     ]
    },
    {
     "name": "stderr",
     "output_type": "stream",
     "text": [
      "100%|████████████████████████████████████████████████████████████████████████████████████████████████████| 20/20 [00:36<00:00,  1.83s/it]\n",
      "100%|████████████████████████████████████████████████████████████████████████████████████████████████████| 20/20 [00:30<00:00,  1.53s/it]\n"
     ]
    },
    {
     "name": "stdout",
     "output_type": "stream",
     "text": [
      "mstep self.weights:  [0.00119226 0.03704145 0.0561604  0.08244205 0.25028428 0.03378552\n",
      " 0.01984694 0.00718155 0.00590713 0.00073089 0.0221924  0.01492934\n",
      " 0.01414811 0.0368204  0.00036149 0.18317668 0.1248167  0.02525836\n",
      " 0.06966313 0.01406092]\n",
      "Q Function:  -2073167.2351371539\n",
      "\n"
     ]
    },
    {
     "name": "stderr",
     "output_type": "stream",
     "text": [
      "100%|████████████████████████████████████████████████████████████████████████████████████████████████████| 15/15 [01:03<00:00,  4.26s/it]\n"
     ]
    },
    {
     "name": "stdout",
     "output_type": "stream",
     "text": [
      "mstep self.weights:  [1.75654312e-10 9.17422270e-02 1.54591329e-02 3.68163818e-03\n",
      " 2.83585815e-01 2.68889524e-02 4.91873018e-03 1.99237794e-03\n",
      " 8.74292349e-03 1.75654312e-10 1.75654319e-10 3.27033800e-03\n",
      " 1.75654312e-10 5.30862858e-02 1.75654312e-10 1.54872782e-01\n",
      " 2.12839613e-01 1.95668400e-02 9.12988241e-02 2.80535191e-02]\n",
      "Q Function:  -2004088.971090604\n",
      "\n"
     ]
    },
    {
     "name": "stderr",
     "output_type": "stream",
     "text": [
      "100%|████████████████████████████████████████████████████████████████████████████████████████████████████| 13/13 [00:27<00:00,  2.15s/it]\n"
     ]
    },
    {
     "name": "stdout",
     "output_type": "stream",
     "text": [
      "mstep self.weights:  [1.75654312e-10 5.65699807e-04 1.66146770e-02 1.75654312e-10\n",
      " 3.93211788e-01 2.12726357e-02 3.51115667e-04 8.74048261e-04\n",
      " 2.67009784e-03 1.75654312e-10 1.75654312e-10 1.75654312e-10\n",
      " 1.75654312e-10 4.44713392e-02 1.75654312e-10 2.36345345e-01\n",
      " 4.20653787e-02 2.28539204e-02 1.81304058e-01 3.73998947e-02]\n",
      "Q Function:  -1995644.857951019\n",
      "\n"
     ]
    },
    {
     "name": "stderr",
     "output_type": "stream",
     "text": [
      "100%|████████████████████████████████████████████████████████████████████████████████████████████████████| 11/11 [00:24<00:00,  2.27s/it]\n"
     ]
    },
    {
     "name": "stdout",
     "output_type": "stream",
     "text": [
      "mstep self.weights:  [1.75654312e-10 1.75654312e-10 4.93622971e-03 1.75654312e-10\n",
      " 4.71537680e-01 1.48399254e-02 1.75654312e-10 1.75654487e-04\n",
      " 1.92561793e-03 1.75654312e-10 1.75654312e-10 1.75654312e-10\n",
      " 1.75654312e-10 4.21752544e-02 1.75654312e-10 8.52693072e-02\n",
      " 2.00236232e-03 2.56817892e-02 3.01846249e-01 4.96099291e-02]\n",
      "Q Function:  -1926110.6263992188\n",
      "\n"
     ]
    },
    {
     "name": "stderr",
     "output_type": "stream",
     "text": [
      "100%|██████████████████████████████████████████████████████████████████████████████████████████████████████| 9/9 [00:24<00:00,  2.76s/it]\n"
     ]
    },
    {
     "name": "stdout",
     "output_type": "stream",
     "text": [
      "mstep self.weights:  [1.75654312e-10 1.75654312e-10 1.75654312e-10 1.75654312e-10\n",
      " 4.74913503e-01 9.16549172e-03 1.75654312e-10 1.75654312e-10\n",
      " 1.22958036e-03 1.75654312e-10 1.75654312e-10 1.75654312e-10\n",
      " 1.75654371e-10 4.46029406e-02 1.75654312e-10 1.19041546e-02\n",
      " 1.40523467e-03 2.51318202e-02 3.78599644e-01 5.30476294e-02]\n",
      "Q Function:  -1942541.4948550644\n",
      "\n"
     ]
    },
    {
     "name": "stderr",
     "output_type": "stream",
     "text": [
      "100%|██████████████████████████████████████████████████████████████████████████████████████████████████████| 8/8 [00:43<00:00,  5.43s/it]\n"
     ]
    },
    {
     "name": "stdout",
     "output_type": "stream",
     "text": [
      "mstep self.weights:  [1.75654312e-10 1.75654312e-10 1.75654312e-10 1.75654312e-10\n",
      " 4.87401783e-01 1.03395714e-02 1.75654312e-10 1.75654312e-10\n",
      " 1.75654312e-10 1.75654312e-10 1.75654312e-10 1.75654312e-10\n",
      " 1.76156004e-10 4.66484686e-02 1.75654312e-10 6.56137900e-03\n",
      " 1.40523467e-03 2.34363152e-02 3.69573243e-01 5.46340024e-02]\n",
      "Q Function:  -1923081.3985128975\n",
      "\n"
     ]
    },
    {
     "name": "stderr",
     "output_type": "stream",
     "text": [
      "100%|██████████████████████████████████████████████████████████████████████████████████████████████████████| 8/8 [00:30<00:00,  3.87s/it]\n"
     ]
    },
    {
     "name": "stdout",
     "output_type": "stream",
     "text": [
      "mstep self.weights:  [1.75654312e-10 1.75654312e-10 1.75654312e-10 1.75654312e-10\n",
      " 4.76850925e-01 1.39714220e-02 1.75654312e-10 1.75654312e-10\n",
      " 1.75654312e-10 1.75654312e-10 1.75654312e-10 1.75654312e-10\n",
      " 1.75663399e-10 4.64788594e-02 1.75654312e-10 2.64566946e-03\n",
      " 1.40523467e-03 2.34315562e-02 3.80271419e-01 5.49449128e-02]\n",
      "Q Function:  -1922247.1191173946\n",
      "\n"
     ]
    },
    {
     "name": "stderr",
     "output_type": "stream",
     "text": [
      "100%|██████████████████████████████████████████████████████████████████████████████████████████████████████| 7/7 [00:30<00:00,  4.32s/it]\n"
     ]
    },
    {
     "name": "stdout",
     "output_type": "stream",
     "text": [
      "mstep self.weights:  [1.75654312e-10 1.75654312e-10 1.75654312e-10 1.75654312e-10\n",
      " 4.76844324e-01 1.53656260e-02 1.75654312e-10 1.75654312e-10\n",
      " 1.75654312e-10 1.75654312e-10 1.75654312e-10 1.75654312e-10\n",
      " 1.75654644e-10 4.63575353e-02 1.75654312e-10 2.03624748e-09\n",
      " 1.40523467e-03 2.32190692e-02 3.81539003e-01 5.52692038e-02]\n",
      "Q Function:  -1919001.992701733\n",
      "\n"
     ]
    },
    {
     "name": "stderr",
     "output_type": "stream",
     "text": [
      "100%|██████████████████████████████████████████████████████████████████████████████████████████████████████| 7/7 [00:29<00:00,  4.17s/it]\n"
     ]
    },
    {
     "name": "stdout",
     "output_type": "stream",
     "text": [
      "mstep self.weights:  [1.75654312e-10 1.75654312e-10 1.75654312e-10 1.75654312e-10\n",
      " 4.76167286e-01 1.57559023e-02 1.75654312e-10 1.75654312e-10\n",
      " 1.75654312e-10 1.75654312e-10 1.75654312e-10 1.75654312e-10\n",
      " 1.75654312e-10 4.43092639e-02 1.75654312e-10 1.75654312e-10\n",
      " 1.40523467e-03 2.54640862e-02 3.81750058e-01 5.51481659e-02]\n",
      "Q Function:  -1914565.2367954284\n",
      "\n"
     ]
    },
    {
     "name": "stderr",
     "output_type": "stream",
     "text": [
      "100%|██████████████████████████████████████████████████████████████████████████████████████████████████████| 7/7 [00:31<00:00,  4.54s/it]\n"
     ]
    },
    {
     "name": "stdout",
     "output_type": "stream",
     "text": [
      "mstep self.weights:  [1.75654312e-10 1.75654312e-10 1.75654312e-10 1.75654312e-10\n",
      " 4.76992994e-01 1.29332691e-02 1.75654312e-10 1.75654312e-10\n",
      " 1.75654312e-10 1.75654312e-10 1.75654312e-10 1.75654312e-10\n",
      " 1.75655492e-10 4.59003595e-02 1.75654312e-10 1.75654312e-10\n",
      " 1.40523467e-03 2.28485458e-02 3.83775304e-01 5.61442903e-02]\n",
      "Q Function:  -1924068.1019854727\n",
      "\n",
      "No. clus:  7\n",
      "cl5 with 2000 HVGs\n",
      "WARNING:root:Selecting 1940 genes required 0.0% dataset threshold.\n"
     ]
    },
    {
     "name": "stderr",
     "output_type": "stream",
     "text": [
      "100%|█████████████████████████████████████████████████████████████████████████████████████████████████████| 2/2 [04:45<00:00, 142.60s/it]\n",
      "100%|█████████████████████████████████████████████████████████████████████████████████████████████████████| 2/2 [05:06<00:00, 153.14s/it]\n"
     ]
    },
    {
     "name": "stdout",
     "output_type": "stream",
     "text": [
      "mstep self.weights:  [0.626646 0.373354]\n",
      "Q Function:  -7217319.299302253\n",
      "\n"
     ]
    },
    {
     "name": "stderr",
     "output_type": "stream",
     "text": [
      "100%|█████████████████████████████████████████████████████████████████████████████████████████████████████| 2/2 [05:25<00:00, 162.94s/it]\n"
     ]
    },
    {
     "name": "stdout",
     "output_type": "stream",
     "text": [
      "mstep self.weights:  [0.72620722 0.27379278]\n",
      "Q Function:  -7386219.245518612\n",
      "\n"
     ]
    },
    {
     "name": "stderr",
     "output_type": "stream",
     "text": [
      "100%|█████████████████████████████████████████████████████████████████████████████████████████████████████| 2/2 [04:50<00:00, 145.10s/it]\n"
     ]
    },
    {
     "name": "stdout",
     "output_type": "stream",
     "text": [
      "mstep self.weights:  [0.81881677 0.18118323]\n",
      "Q Function:  -7473389.394385027\n",
      "\n"
     ]
    },
    {
     "name": "stderr",
     "output_type": "stream",
     "text": [
      "100%|█████████████████████████████████████████████████████████████████████████████████████████████████████| 2/2 [05:20<00:00, 160.24s/it]\n"
     ]
    },
    {
     "name": "stdout",
     "output_type": "stream",
     "text": [
      "mstep self.weights:  [0.92673752 0.07326248]\n",
      "Q Function:  -7454381.169453013\n",
      "\n"
     ]
    },
    {
     "name": "stderr",
     "output_type": "stream",
     "text": [
      "100%|█████████████████████████████████████████████████████████████████████████████████████████████████████| 1/1 [04:35<00:00, 275.25s/it]\n"
     ]
    },
    {
     "name": "stdout",
     "output_type": "stream",
     "text": [
      "mstep self.weights:  [1.00000000e+00 2.02142713e-10]\n",
      "Q Function:  -7450006.0069179265\n",
      "\n"
     ]
    },
    {
     "name": "stderr",
     "output_type": "stream",
     "text": [
      "100%|█████████████████████████████████████████████████████████████████████████████████████████████████████| 1/1 [04:33<00:00, 273.26s/it]\n"
     ]
    },
    {
     "name": "stdout",
     "output_type": "stream",
     "text": [
      "mstep self.weights:  [1.00000000e+00 2.02142713e-10]\n",
      "Q Function:  -7456027.901026502\n",
      "\n"
     ]
    },
    {
     "name": "stderr",
     "output_type": "stream",
     "text": [
      "100%|█████████████████████████████████████████████████████████████████████████████████████████████████████| 1/1 [04:38<00:00, 278.07s/it]\n"
     ]
    },
    {
     "name": "stdout",
     "output_type": "stream",
     "text": [
      "mstep self.weights:  [1.00000000e+00 2.02142713e-10]\n",
      "Q Function:  -7456027.901026502\n",
      "\n"
     ]
    },
    {
     "name": "stderr",
     "output_type": "stream",
     "text": [
      "100%|█████████████████████████████████████████████████████████████████████████████████████████████████████| 1/1 [04:50<00:00, 290.58s/it]\n"
     ]
    },
    {
     "name": "stdout",
     "output_type": "stream",
     "text": [
      "mstep self.weights:  [1.00000000e+00 2.02142713e-10]\n",
      "Q Function:  -7456027.901026502\n",
      "\n"
     ]
    },
    {
     "name": "stderr",
     "output_type": "stream",
     "text": [
      "100%|█████████████████████████████████████████████████████████████████████████████████████████████████████| 1/1 [04:34<00:00, 274.23s/it]\n"
     ]
    },
    {
     "name": "stdout",
     "output_type": "stream",
     "text": [
      "mstep self.weights:  [1.00000000e+00 2.02142713e-10]\n",
      "Q Function:  -7456027.901026502\n",
      "\n"
     ]
    },
    {
     "name": "stderr",
     "output_type": "stream",
     "text": [
      "100%|█████████████████████████████████████████████████████████████████████████████████████████████████████| 1/1 [04:34<00:00, 274.46s/it]\n"
     ]
    },
    {
     "name": "stdout",
     "output_type": "stream",
     "text": [
      "mstep self.weights:  [1.00000000e+00 2.02142713e-10]\n",
      "Q Function:  -7456027.901026502\n",
      "\n",
      "No. clus:  1\n",
      "WARNING:root:Selecting 1940 genes required 0.0% dataset threshold.\n"
     ]
    },
    {
     "name": "stderr",
     "output_type": "stream",
     "text": [
      "100%|██████████████████████████████████████████████████████████████████████████████████████████████████████| 5/5 [04:45<00:00, 57.14s/it]\n",
      "100%|██████████████████████████████████████████████████████████████████████████████████████████████████████| 5/5 [04:48<00:00, 57.67s/it]\n"
     ]
    },
    {
     "name": "stdout",
     "output_type": "stream",
     "text": [
      "mstep self.weights:  [0.22382858 0.30843048 0.1541671  0.11370266 0.19987118]\n",
      "Q Function:  -7403203.218623745\n",
      "\n"
     ]
    },
    {
     "name": "stderr",
     "output_type": "stream",
     "text": [
      "100%|██████████████████████████████████████████████████████████████████████████████████████████████████████| 5/5 [05:14<00:00, 62.85s/it]\n"
     ]
    },
    {
     "name": "stdout",
     "output_type": "stream",
     "text": [
      "mstep self.weights:  [0.30223217 0.35714979 0.14605817 0.06494916 0.1296107 ]\n",
      "Q Function:  -7683543.543615231\n",
      "\n"
     ]
    },
    {
     "name": "stderr",
     "output_type": "stream",
     "text": [
      "100%|██████████████████████████████████████████████████████████████████████████████████████████████████████| 3/3 [04:55<00:00, 98.53s/it]\n"
     ]
    },
    {
     "name": "stdout",
     "output_type": "stream",
     "text": [
      "mstep self.weights:  [4.61201293e-01 4.49402912e-01 8.93957947e-02 2.02142968e-10\n",
      " 2.02142713e-10]\n",
      "Q Function:  -7475934.470241758\n",
      "\n"
     ]
    },
    {
     "name": "stderr",
     "output_type": "stream",
     "text": [
      "100%|█████████████████████████████████████████████████████████████████████████████████████████████████████| 3/3 [05:16<00:00, 105.37s/it]\n"
     ]
    },
    {
     "name": "stdout",
     "output_type": "stream",
     "text": [
      "mstep self.weights:  [6.88881480e-01 2.98627647e-01 1.24908729e-02 2.02142713e-10\n",
      " 2.02142713e-10]\n",
      "Q Function:  -7347509.945454416\n",
      "\n"
     ]
    },
    {
     "name": "stderr",
     "output_type": "stream",
     "text": [
      "100%|██████████████████████████████████████████████████████████████████████████████████████████████████████| 3/3 [04:46<00:00, 95.63s/it]\n"
     ]
    },
    {
     "name": "stdout",
     "output_type": "stream",
     "text": [
      "mstep self.weights:  [7.91470305e-01 2.08327552e-01 2.02142713e-10 2.02142915e-04\n",
      " 2.02142713e-10]\n",
      "Q Function:  -7512218.0743109165\n",
      "\n"
     ]
    },
    {
     "name": "stderr",
     "output_type": "stream",
     "text": [
      "100%|█████████████████████████████████████████████████████████████████████████████████████████████████████| 2/2 [05:24<00:00, 162.20s/it]\n"
     ]
    },
    {
     "name": "stdout",
     "output_type": "stream",
     "text": [
      "mstep self.weights:  [8.57828458e-01 1.42171541e-01 2.02142713e-10 2.02142713e-10\n",
      " 2.02142713e-10]\n",
      "Q Function:  -7395256.337397602\n",
      "\n"
     ]
    },
    {
     "name": "stderr",
     "output_type": "stream",
     "text": [
      "100%|█████████████████████████████████████████████████████████████████████████████████████████████████████| 1/1 [04:34<00:00, 274.07s/it]\n"
     ]
    },
    {
     "name": "stdout",
     "output_type": "stream",
     "text": [
      "mstep self.weights:  [9.99999999e-01 2.02142713e-10 2.02142713e-10 2.02142713e-10\n",
      " 2.02142713e-10]\n",
      "Q Function:  -7353978.246972472\n",
      "\n"
     ]
    },
    {
     "name": "stderr",
     "output_type": "stream",
     "text": [
      "100%|█████████████████████████████████████████████████████████████████████████████████████████████████████| 1/1 [04:31<00:00, 271.53s/it]\n"
     ]
    },
    {
     "name": "stdout",
     "output_type": "stream",
     "text": [
      "mstep self.weights:  [9.99999999e-01 2.02142713e-10 2.02142713e-10 2.02142713e-10\n",
      " 2.02142713e-10]\n",
      "Q Function:  -7314108.888662493\n",
      "\n"
     ]
    },
    {
     "name": "stderr",
     "output_type": "stream",
     "text": [
      "100%|█████████████████████████████████████████████████████████████████████████████████████████████████████| 1/1 [04:30<00:00, 270.81s/it]\n"
     ]
    },
    {
     "name": "stdout",
     "output_type": "stream",
     "text": [
      "mstep self.weights:  [9.99999999e-01 2.02142713e-10 2.02142713e-10 2.02142713e-10\n",
      " 2.02142713e-10]\n",
      "Q Function:  -7314108.888662493\n",
      "\n"
     ]
    },
    {
     "name": "stderr",
     "output_type": "stream",
     "text": [
      "100%|█████████████████████████████████████████████████████████████████████████████████████████████████████| 1/1 [04:31<00:00, 271.52s/it]\n"
     ]
    },
    {
     "name": "stdout",
     "output_type": "stream",
     "text": [
      "mstep self.weights:  [9.99999999e-01 2.02142713e-10 2.02142713e-10 2.02142713e-10\n",
      " 2.02142713e-10]\n",
      "Q Function:  -7314108.888662493\n",
      "\n",
      "No. clus:  1\n",
      "WARNING:root:Selecting 1940 genes required 0.0% dataset threshold.\n"
     ]
    },
    {
     "name": "stderr",
     "output_type": "stream",
     "text": [
      "100%|████████████████████████████████████████████████████████████████████████████████████████████████████| 10/10 [05:44<00:00, 34.47s/it]\n",
      "100%|██████████████████████████████████████████████████████████████████████████████████████████████████████| 9/9 [05:24<00:00, 36.06s/it]\n"
     ]
    },
    {
     "name": "stdout",
     "output_type": "stream",
     "text": [
      "mstep self.weights:  [7.44081236e-02 1.08381719e-01 1.69273897e-01 1.77604409e-01\n",
      " 1.45407814e-02 4.34312839e-01 2.32650005e-03 1.55899486e-02\n",
      " 3.56177251e-03 9.26770765e-09]\n",
      "Q Function:  -7657052.471809816\n",
      "\n"
     ]
    },
    {
     "name": "stderr",
     "output_type": "stream",
     "text": [
      "100%|██████████████████████████████████████████████████████████████████████████████████████████████████████| 4/4 [04:38<00:00, 69.62s/it]\n"
     ]
    },
    {
     "name": "stdout",
     "output_type": "stream",
     "text": [
      "mstep self.weights:  [5.14467926e-02 5.72173903e-10 1.63829344e-01 2.88459296e-10\n",
      " 2.02142712e-10 7.78049194e-01 2.02142712e-10 2.02142712e-10\n",
      " 2.02142712e-10 6.67466799e-03]\n",
      "Q Function:  -7750544.6125990795\n",
      "\n"
     ]
    },
    {
     "name": "stderr",
     "output_type": "stream",
     "text": [
      "100%|██████████████████████████████████████████████████████████████████████████████████████████████████████| 3/3 [04:35<00:00, 91.74s/it]\n"
     ]
    },
    {
     "name": "stdout",
     "output_type": "stream",
     "text": [
      "mstep self.weights:  [1.13923564e-02 2.02142712e-10 1.03595898e-01 2.02142712e-10\n",
      " 2.02142712e-10 8.85011744e-01 2.02142712e-10 2.02142712e-10\n",
      " 2.02142712e-10 2.02142712e-10]\n",
      "Q Function:  -7238459.553588384\n",
      "\n"
     ]
    },
    {
     "name": "stderr",
     "output_type": "stream",
     "text": [
      "100%|██████████████████████████████████████████████████████████████████████████████████████████████████████| 3/3 [04:41<00:00, 93.70s/it]\n"
     ]
    },
    {
     "name": "stdout",
     "output_type": "stream",
     "text": [
      "mstep self.weights:  [4.04285627e-04 2.02142712e-10 9.45850626e-02 2.02142712e-10\n",
      " 2.02142712e-10 9.05010650e-01 2.02142712e-10 2.02142712e-10\n",
      " 2.02142712e-10 2.02142712e-10]\n",
      "Q Function:  -7654685.48757846\n",
      "\n"
     ]
    },
    {
     "name": "stderr",
     "output_type": "stream",
     "text": [
      "100%|█████████████████████████████████████████████████████████████████████████████████████████████████████| 2/2 [04:35<00:00, 137.62s/it]\n"
     ]
    },
    {
     "name": "stdout",
     "output_type": "stream",
     "text": [
      "mstep self.weights:  [2.02142712e-10 2.02142712e-10 7.78893663e-02 2.02142712e-10\n",
      " 2.02142712e-10 9.22110632e-01 2.02142712e-10 2.02142712e-10\n",
      " 2.02142712e-10 2.02142712e-10]\n",
      "Q Function:  -7592700.831814574\n",
      "\n"
     ]
    },
    {
     "name": "stderr",
     "output_type": "stream",
     "text": [
      "100%|█████████████████████████████████████████████████████████████████████████████████████████████████████| 2/2 [04:35<00:00, 137.61s/it]\n"
     ]
    },
    {
     "name": "stdout",
     "output_type": "stream",
     "text": [
      "mstep self.weights:  [2.02142712e-10 2.02142712e-10 4.61350639e-02 2.02142712e-10\n",
      " 2.02142712e-10 9.53864934e-01 2.02142712e-10 2.02142712e-10\n",
      " 2.02142712e-10 2.02142712e-10]\n",
      "Q Function:  -7209888.92047164\n",
      "\n"
     ]
    },
    {
     "name": "stderr",
     "output_type": "stream",
     "text": [
      "100%|█████████████████████████████████████████████████████████████████████████████████████████████████████| 2/2 [04:32<00:00, 136.03s/it]\n"
     ]
    },
    {
     "name": "stdout",
     "output_type": "stream",
     "text": [
      "mstep self.weights:  [2.02142712e-10 2.02142712e-10 1.79292527e-02 2.02142712e-10\n",
      " 2.02142712e-10 9.82070746e-01 2.02142712e-10 2.02142712e-10\n",
      " 2.02142712e-10 2.02142712e-10]\n",
      "Q Function:  -7376979.244306579\n",
      "\n"
     ]
    },
    {
     "name": "stderr",
     "output_type": "stream",
     "text": [
      "100%|█████████████████████████████████████████████████████████████████████████████████████████████████████| 2/2 [04:37<00:00, 138.86s/it]\n"
     ]
    },
    {
     "name": "stdout",
     "output_type": "stream",
     "text": [
      "mstep self.weights:  [2.02142712e-10 2.02142712e-10 4.02059545e-04 2.02142712e-10\n",
      " 2.02142712e-10 9.99597939e-01 2.02142712e-10 2.02142712e-10\n",
      " 2.02142712e-10 2.02142712e-10]\n",
      "Q Function:  -7667618.0039296085\n",
      "\n"
     ]
    },
    {
     "name": "stderr",
     "output_type": "stream",
     "text": [
      "100%|█████████████████████████████████████████████████████████████████████████████████████████████████████| 1/1 [04:43<00:00, 283.53s/it]\n"
     ]
    },
    {
     "name": "stdout",
     "output_type": "stream",
     "text": [
      "mstep self.weights:  [2.02142712e-10 2.02142712e-10 2.02142712e-10 2.02142712e-10\n",
      " 2.02142712e-10 9.99999998e-01 2.02142712e-10 2.02142712e-10\n",
      " 2.02142712e-10 2.02142712e-10]\n",
      "Q Function:  -7408081.112336809\n",
      "\n"
     ]
    },
    {
     "name": "stderr",
     "output_type": "stream",
     "text": [
      "100%|█████████████████████████████████████████████████████████████████████████████████████████████████████| 1/1 [04:47<00:00, 287.16s/it]\n"
     ]
    },
    {
     "name": "stdout",
     "output_type": "stream",
     "text": [
      "mstep self.weights:  [2.02142712e-10 2.02142712e-10 2.02142712e-10 2.02142712e-10\n",
      " 2.02142712e-10 9.99999998e-01 2.02142712e-10 2.02142712e-10\n",
      " 2.02142712e-10 2.02142712e-10]\n",
      "Q Function:  -7411951.301253176\n",
      "\n",
      "No. clus:  1\n",
      "WARNING:root:Selecting 1940 genes required 0.0% dataset threshold.\n"
     ]
    },
    {
     "name": "stderr",
     "output_type": "stream",
     "text": [
      "100%|████████████████████████████████████████████████████████████████████████████████████████████████████| 15/15 [05:37<00:00, 22.53s/it]\n",
      "100%|████████████████████████████████████████████████████████████████████████████████████████████████████| 14/14 [05:05<00:00, 21.84s/it]\n"
     ]
    },
    {
     "name": "stdout",
     "output_type": "stream",
     "text": [
      "mstep self.weights:  [7.00107245e-02 1.73008845e-03 1.17041929e-02 2.93548569e-02\n",
      " 7.84825886e-04 3.58675899e-09 1.89438305e-03 2.31220708e-01\n",
      " 3.43880185e-04 7.47994981e-04 5.63645213e-03 5.98658448e-01\n",
      " 5.65841243e-03 2.39344020e-02 1.83206277e-02]\n",
      "Q Function:  -8094734.215432416\n",
      "\n"
     ]
    },
    {
     "name": "stderr",
     "output_type": "stream",
     "text": [
      "100%|██████████████████████████████████████████████████████████████████████████████████████████████████████| 4/4 [04:43<00:00, 70.98s/it]\n"
     ]
    },
    {
     "name": "stdout",
     "output_type": "stream",
     "text": [
      "mstep self.weights:  [3.21092785e-02 2.02142712e-10 2.02142712e-10 2.02142712e-10\n",
      " 2.02142712e-10 2.02142712e-10 2.02142712e-10 1.88258036e-01\n",
      " 2.02142712e-10 2.02142712e-10 2.02142712e-10 7.79230984e-01\n",
      " 2.02142712e-10 2.02142712e-10 4.01698994e-04]\n",
      "Q Function:  -7424040.050554266\n",
      "\n"
     ]
    },
    {
     "name": "stderr",
     "output_type": "stream",
     "text": [
      "100%|█████████████████████████████████████████████████████████████████████████████████████████████████████| 2/2 [04:40<00:00, 140.46s/it]\n"
     ]
    },
    {
     "name": "stdout",
     "output_type": "stream",
     "text": [
      "mstep self.weights:  [2.02146299e-10 2.02142712e-10 2.02142712e-10 2.02142712e-10\n",
      " 2.02142712e-10 2.02142712e-10 2.02142712e-10 6.78075972e-04\n",
      " 2.02142712e-10 2.02142712e-10 2.02142712e-10 9.99321921e-01\n",
      " 2.02142712e-10 2.02142712e-10 2.02142712e-10]\n",
      "Q Function:  -7640575.374700277\n",
      "\n"
     ]
    },
    {
     "name": "stderr",
     "output_type": "stream",
     "text": [
      "100%|█████████████████████████████████████████████████████████████████████████████████████████████████████| 1/1 [04:31<00:00, 271.68s/it]\n"
     ]
    },
    {
     "name": "stdout",
     "output_type": "stream",
     "text": [
      "mstep self.weights:  [2.02319744e-10 2.02142712e-10 2.02142712e-10 2.02142712e-10\n",
      " 2.02142712e-10 2.02142712e-10 2.02142712e-10 2.02142712e-10\n",
      " 2.02142712e-10 2.02142712e-10 2.02142712e-10 9.99999997e-01\n",
      " 2.02142712e-10 2.02142712e-10 2.02142712e-10]\n",
      "Q Function:  -7234174.408782879\n",
      "\n"
     ]
    },
    {
     "name": "stderr",
     "output_type": "stream",
     "text": [
      "100%|█████████████████████████████████████████████████████████████████████████████████████████████████████| 1/1 [05:23<00:00, 323.05s/it]\n"
     ]
    },
    {
     "name": "stdout",
     "output_type": "stream",
     "text": [
      "mstep self.weights:  [6.60760637e-06 2.02142712e-10 2.02142712e-10 2.02142712e-10\n",
      " 2.02142712e-10 2.02142712e-10 2.02142712e-10 2.02142712e-10\n",
      " 2.02142712e-10 2.02142712e-10 2.02142712e-10 9.99993390e-01\n",
      " 2.02142712e-10 2.02142712e-10 2.02142712e-10]\n",
      "Q Function:  -7247449.281474125\n",
      "\n"
     ]
    },
    {
     "name": "stderr",
     "output_type": "stream",
     "text": [
      "100%|█████████████████████████████████████████████████████████████████████████████████████████████████████| 2/2 [04:38<00:00, 139.49s/it]\n"
     ]
    },
    {
     "name": "stdout",
     "output_type": "stream",
     "text": [
      "mstep self.weights:  [2.01959915e-04 2.02142712e-10 2.02142712e-10 2.02142712e-10\n",
      " 2.02142712e-10 2.02142712e-10 2.02142712e-10 2.02142712e-10\n",
      " 2.02142712e-10 2.02142712e-10 2.02142712e-10 9.99798037e-01\n",
      " 2.02142712e-10 2.02142712e-10 2.02142712e-10]\n",
      "Q Function:  -7247442.203436428\n",
      "\n"
     ]
    },
    {
     "name": "stderr",
     "output_type": "stream",
     "text": [
      "100%|█████████████████████████████████████████████████████████████████████████████████████████████████████| 1/1 [04:44<00:00, 284.56s/it]\n"
     ]
    },
    {
     "name": "stdout",
     "output_type": "stream",
     "text": [
      "mstep self.weights:  [2.02142712e-10 2.02142712e-10 2.02142712e-10 2.02142712e-10\n",
      " 2.02142712e-10 2.02142712e-10 2.02142712e-10 2.02142712e-10\n",
      " 2.02142712e-10 2.02142712e-10 2.02142712e-10 9.99999997e-01\n",
      " 2.02142712e-10 2.02142712e-10 2.02142712e-10]\n",
      "Q Function:  -7522725.409148807\n",
      "\n"
     ]
    },
    {
     "name": "stderr",
     "output_type": "stream",
     "text": [
      "100%|█████████████████████████████████████████████████████████████████████████████████████████████████████| 1/1 [04:34<00:00, 274.44s/it]\n"
     ]
    },
    {
     "name": "stdout",
     "output_type": "stream",
     "text": [
      "mstep self.weights:  [2.02142712e-10 2.02142712e-10 2.02142712e-10 2.02142712e-10\n",
      " 2.02142712e-10 2.02142712e-10 2.02142712e-10 2.02142712e-10\n",
      " 2.02142712e-10 2.02142712e-10 2.02142712e-10 9.99999997e-01\n",
      " 2.02142712e-10 2.02142712e-10 2.02142712e-10]\n",
      "Q Function:  -7247449.170745854\n",
      "\n"
     ]
    },
    {
     "name": "stderr",
     "output_type": "stream",
     "text": [
      "100%|█████████████████████████████████████████████████████████████████████████████████████████████████████| 1/1 [05:16<00:00, 316.88s/it]\n"
     ]
    },
    {
     "name": "stdout",
     "output_type": "stream",
     "text": [
      "mstep self.weights:  [2.02142712e-10 2.02142712e-10 2.02142712e-10 2.02142712e-10\n",
      " 2.02142712e-10 2.02142712e-10 2.02142712e-10 2.02142712e-10\n",
      " 2.02142712e-10 2.02142712e-10 2.02142712e-10 9.99999997e-01\n",
      " 2.02142712e-10 2.02142712e-10 2.02142712e-10]\n",
      "Q Function:  -7247449.170745854\n",
      "\n"
     ]
    },
    {
     "name": "stderr",
     "output_type": "stream",
     "text": [
      "100%|█████████████████████████████████████████████████████████████████████████████████████████████████████| 1/1 [04:43<00:00, 283.76s/it]\n"
     ]
    },
    {
     "name": "stdout",
     "output_type": "stream",
     "text": [
      "mstep self.weights:  [2.02142712e-10 2.02142712e-10 2.02142712e-10 2.02142712e-10\n",
      " 2.02142712e-10 2.02142712e-10 2.02142712e-10 2.02142712e-10\n",
      " 2.02142712e-10 2.02142712e-10 2.02142712e-10 9.99999997e-01\n",
      " 2.02142712e-10 2.02142712e-10 2.02142712e-10]\n",
      "Q Function:  -7247449.170745854\n",
      "\n",
      "No. clus:  1\n",
      "allen_b02h01 with 299 HVGs\n",
      "WARNING:root:Selecting 239 genes required 0.0% dataset threshold.\n"
     ]
    },
    {
     "name": "stderr",
     "output_type": "stream",
     "text": [
      "/home/tchari/monod/src/monod/mminference.py:512: RuntimeWarning: divide by zero encountered in true_divide\n",
      "  divids = (1e4/tots)[:,None]\n",
      "/home/tchari/monod/src/monod/mminference.py:513: RuntimeWarning: invalid value encountered in multiply\n",
      "  S_t = S_t*divids\n",
      "100%|██████████████████████████████████████████████████████████████████████████████████████████████████████| 2/2 [00:09<00:00,  4.63s/it]\n",
      "100%|██████████████████████████████████████████████████████████████████████████████████████████████████████| 2/2 [00:08<00:00,  4.35s/it]\n"
     ]
    },
    {
     "name": "stdout",
     "output_type": "stream",
     "text": [
      "mstep self.weights:  [0.16448499 0.83551501]\n",
      "Q Function:  -1921269.2472348507\n",
      "\n"
     ]
    },
    {
     "name": "stderr",
     "output_type": "stream",
     "text": [
      "100%|██████████████████████████████████████████████████████████████████████████████████████████████████████| 2/2 [00:08<00:00,  4.31s/it]\n"
     ]
    },
    {
     "name": "stdout",
     "output_type": "stream",
     "text": [
      "mstep self.weights:  [0.15999856 0.84000144]\n",
      "Q Function:  -1782330.4528750698\n",
      "\n"
     ]
    },
    {
     "name": "stderr",
     "output_type": "stream",
     "text": [
      "100%|██████████████████████████████████████████████████████████████████████████████████████████████████████| 2/2 [00:08<00:00,  4.49s/it]\n"
     ]
    },
    {
     "name": "stdout",
     "output_type": "stream",
     "text": [
      "mstep self.weights:  [0.15887499 0.84112501]\n",
      "Q Function:  -1793928.1284307428\n",
      "\n"
     ]
    },
    {
     "name": "stderr",
     "output_type": "stream",
     "text": [
      "100%|██████████████████████████████████████████████████████████████████████████████████████████████████████| 2/2 [00:08<00:00,  4.28s/it]\n"
     ]
    },
    {
     "name": "stdout",
     "output_type": "stream",
     "text": [
      "mstep self.weights:  [0.15865181 0.84134819]\n",
      "Q Function:  -1793774.7164398683\n",
      "\n"
     ]
    },
    {
     "name": "stderr",
     "output_type": "stream",
     "text": [
      "100%|██████████████████████████████████████████████████████████████████████████████████████████████████████| 2/2 [00:08<00:00,  4.39s/it]\n"
     ]
    },
    {
     "name": "stdout",
     "output_type": "stream",
     "text": [
      "mstep self.weights:  [0.15857723 0.84142277]\n",
      "Q Function:  -1793999.7892833569\n",
      "\n"
     ]
    },
    {
     "name": "stderr",
     "output_type": "stream",
     "text": [
      "100%|██████████████████████████████████████████████████████████████████████████████████████████████████████| 2/2 [00:08<00:00,  4.19s/it]\n"
     ]
    },
    {
     "name": "stdout",
     "output_type": "stream",
     "text": [
      "mstep self.weights:  [0.1584769 0.8415231]\n",
      "Q Function:  -1794967.6081610245\n",
      "\n"
     ]
    },
    {
     "name": "stderr",
     "output_type": "stream",
     "text": [
      "100%|██████████████████████████████████████████████████████████████████████████████████████████████████████| 2/2 [00:08<00:00,  4.22s/it]\n"
     ]
    },
    {
     "name": "stdout",
     "output_type": "stream",
     "text": [
      "mstep self.weights:  [0.1584115 0.8415885]\n",
      "Q Function:  -1795532.3234728742\n",
      "\n"
     ]
    },
    {
     "name": "stderr",
     "output_type": "stream",
     "text": [
      "100%|██████████████████████████████████████████████████████████████████████████████████████████████████████| 2/2 [00:09<00:00,  4.72s/it]\n"
     ]
    },
    {
     "name": "stdout",
     "output_type": "stream",
     "text": [
      "mstep self.weights:  [0.15840605 0.84159395]\n",
      "Q Function:  -1794596.7085246227\n",
      "\n"
     ]
    },
    {
     "name": "stderr",
     "output_type": "stream",
     "text": [
      "100%|██████████████████████████████████████████████████████████████████████████████████████████████████████| 2/2 [00:09<00:00,  4.60s/it]\n"
     ]
    },
    {
     "name": "stdout",
     "output_type": "stream",
     "text": [
      "mstep self.weights:  [0.15840605 0.84159395]\n",
      "Q Function:  -1794596.7085346938\n",
      "\n"
     ]
    },
    {
     "name": "stderr",
     "output_type": "stream",
     "text": [
      "100%|██████████████████████████████████████████████████████████████████████████████████████████████████████| 2/2 [00:08<00:00,  4.19s/it]\n"
     ]
    },
    {
     "name": "stdout",
     "output_type": "stream",
     "text": [
      "mstep self.weights:  [0.15840605 0.84159395]\n",
      "Q Function:  -1794596.7085346978\n",
      "\n",
      "No. clus:  2\n",
      "WARNING:root:Selecting 239 genes required 0.0% dataset threshold.\n"
     ]
    },
    {
     "name": "stderr",
     "output_type": "stream",
     "text": [
      "/home/tchari/monod/src/monod/mminference.py:512: RuntimeWarning: divide by zero encountered in true_divide\n",
      "  divids = (1e4/tots)[:,None]\n",
      "/home/tchari/monod/src/monod/mminference.py:513: RuntimeWarning: invalid value encountered in multiply\n",
      "  S_t = S_t*divids\n",
      "100%|████████████████████████████████████████████████████████████████████████████████████████████████████| 11/11 [00:09<00:00,  1.22it/s]\n",
      "100%|██████████████████████████████████████████████████████████████████████████████████████████████████████| 9/9 [00:08<00:00,  1.00it/s]\n"
     ]
    },
    {
     "name": "stdout",
     "output_type": "stream",
     "text": [
      "mstep self.weights:  [3.57046102e-05 2.25627872e-02 1.35846793e-06 6.63984201e-04\n",
      " 3.62481262e-01 7.03273459e-04 2.19227793e-06 9.57756421e-02\n",
      " 4.72522884e-01 4.51447094e-02 1.06201946e-04]\n",
      "Q Function:  -2123157.24310648\n",
      "\n"
     ]
    },
    {
     "name": "stderr",
     "output_type": "stream",
     "text": [
      "100%|██████████████████████████████████████████████████████████████████████████████████████████████████████| 4/4 [00:07<00:00,  1.98s/it]\n"
     ]
    },
    {
     "name": "stdout",
     "output_type": "stream",
     "text": [
      "mstep self.weights:  [6.55265054e-11 6.55265054e-11 1.77117639e-10 6.55265054e-11\n",
      " 5.97137224e-01 6.55265054e-11 6.90817500e-11 7.71005843e-02\n",
      " 2.73482393e-01 5.22797987e-02 6.55265054e-11]\n",
      "Q Function:  -1882217.1141337152\n",
      "\n"
     ]
    },
    {
     "name": "stderr",
     "output_type": "stream",
     "text": [
      "100%|██████████████████████████████████████████████████████████████████████████████████████████████████████| 4/4 [00:08<00:00,  2.05s/it]\n"
     ]
    },
    {
     "name": "stdout",
     "output_type": "stream",
     "text": [
      "mstep self.weights:  [6.55265054e-11 6.55265054e-11 6.55269703e-11 6.55265054e-11\n",
      " 4.14706350e-01 6.55265054e-11 6.55426226e-11 8.12259984e-02\n",
      " 4.51150217e-01 5.29174345e-02 6.55265054e-11]\n",
      "Q Function:  -1994272.7762695446\n",
      "\n"
     ]
    },
    {
     "name": "stderr",
     "output_type": "stream",
     "text": [
      "100%|██████████████████████████████████████████████████████████████████████████████████████████████████████| 4/4 [00:08<00:00,  2.07s/it]\n"
     ]
    },
    {
     "name": "stdout",
     "output_type": "stream",
     "text": [
      "mstep self.weights:  [6.55265054e-11 6.55265054e-11 6.55704518e-11 6.55265054e-11\n",
      " 5.72358899e-01 6.55265054e-11 1.47988202e-10 9.79345278e-02\n",
      " 2.77636195e-01 5.20703785e-02 6.55265054e-11]\n",
      "Q Function:  -1855472.4841888\n",
      "\n"
     ]
    },
    {
     "name": "stderr",
     "output_type": "stream",
     "text": [
      "100%|██████████████████████████████████████████████████████████████████████████████████████████████████████| 4/4 [00:08<00:00,  2.04s/it]\n"
     ]
    },
    {
     "name": "stdout",
     "output_type": "stream",
     "text": [
      "mstep self.weights:  [6.55265054e-11 6.55265054e-11 6.55265389e-11 6.55265054e-11\n",
      " 6.04503315e-01 6.55265054e-11 6.55291602e-11 1.02697405e-01\n",
      " 2.39752160e-01 5.30471196e-02 6.55265054e-11]\n",
      "Q Function:  -1818461.7712373869\n",
      "\n"
     ]
    },
    {
     "name": "stderr",
     "output_type": "stream",
     "text": [
      "100%|██████████████████████████████████████████████████████████████████████████████████████████████████████| 4/4 [00:07<00:00,  2.00s/it]\n"
     ]
    },
    {
     "name": "stdout",
     "output_type": "stream",
     "text": [
      "mstep self.weights:  [6.55265054e-11 6.55265054e-11 6.55267180e-11 6.55265054e-11\n",
      " 5.82238864e-01 6.55265054e-11 6.55561486e-11 1.03237396e-01\n",
      " 2.60698224e-01 5.38255152e-02 6.55265054e-11]\n",
      "Q Function:  -1838175.1163531644\n",
      "\n"
     ]
    },
    {
     "name": "stderr",
     "output_type": "stream",
     "text": [
      "100%|██████████████████████████████████████████████████████████████████████████████████████████████████████| 4/4 [00:07<00:00,  1.97s/it]\n"
     ]
    },
    {
     "name": "stdout",
     "output_type": "stream",
     "text": [
      "mstep self.weights:  [6.55265054e-11 6.55265054e-11 6.55294031e-11 6.55265054e-11\n",
      " 6.17784883e-01 6.55265054e-11 6.60484620e-11 1.03457657e-01\n",
      " 2.24244988e-01 5.45124707e-02 6.55265054e-11]\n",
      "Q Function:  -1854013.8296804177\n",
      "\n"
     ]
    },
    {
     "name": "stderr",
     "output_type": "stream",
     "text": [
      "100%|██████████████████████████████████████████████████████████████████████████████████████████████████████| 4/4 [00:08<00:00,  2.05s/it]\n"
     ]
    },
    {
     "name": "stdout",
     "output_type": "stream",
     "text": [
      "mstep self.weights:  [6.55265054e-11 6.55265054e-11 8.75334347e-10 6.55265054e-11\n",
      " 6.35471615e-01 6.55265054e-11 2.36437283e-05 9.94171579e-02\n",
      " 2.06467218e-01 5.86203647e-02 6.55265054e-11]\n",
      "Q Function:  -1973038.4842804892\n",
      "\n"
     ]
    },
    {
     "name": "stderr",
     "output_type": "stream",
     "text": [
      "100%|██████████████████████████████████████████████████████████████████████████████████████████████████████| 4/4 [00:07<00:00,  1.95s/it]\n"
     ]
    },
    {
     "name": "stdout",
     "output_type": "stream",
     "text": [
      "mstep self.weights:  [6.55265054e-11 6.55265054e-11 6.57041534e-11 6.55265054e-11\n",
      " 6.28398444e-01 6.55265054e-11 3.82149177e-08 1.01360579e-01\n",
      " 2.13396058e-01 5.68448805e-02 6.55265054e-11]\n",
      "Q Function:  -1847476.8771748831\n",
      "\n"
     ]
    },
    {
     "name": "stderr",
     "output_type": "stream",
     "text": [
      "100%|██████████████████████████████████████████████████████████████████████████████████████████████████████| 4/4 [00:07<00:00,  2.00s/it]\n"
     ]
    },
    {
     "name": "stdout",
     "output_type": "stream",
     "text": [
      "mstep self.weights:  [6.55265054e-11 6.55265054e-11 6.55273479e-11 6.55265054e-11\n",
      " 6.24998449e-01 6.55265054e-11 7.30034378e-11 1.01880770e-01\n",
      " 2.16814796e-01 5.63059851e-02 6.55265054e-11]\n",
      "Q Function:  -1847133.1878555734\n",
      "\n",
      "No. clus:  4\n",
      "WARNING:root:Selecting 239 genes required 0.0% dataset threshold.\n"
     ]
    },
    {
     "name": "stderr",
     "output_type": "stream",
     "text": [
      "/home/tchari/monod/src/monod/mminference.py:512: RuntimeWarning: divide by zero encountered in true_divide\n",
      "  divids = (1e4/tots)[:,None]\n",
      "/home/tchari/monod/src/monod/mminference.py:513: RuntimeWarning: invalid value encountered in multiply\n",
      "  S_t = S_t*divids\n",
      "100%|████████████████████████████████████████████████████████████████████████████████████████████████████| 16/16 [00:09<00:00,  1.66it/s]\n",
      "100%|████████████████████████████████████████████████████████████████████████████████████████████████████| 12/12 [00:08<00:00,  1.38it/s]\n"
     ]
    },
    {
     "name": "stdout",
     "output_type": "stream",
     "text": [
      "mstep self.weights:  [1.23117819e-01 3.44498043e-10 6.28908522e-05 1.54714915e-03\n",
      " 2.61437542e-02 1.57774901e-04 4.11273601e-06 6.81432976e-08\n",
      " 1.60225097e-07 3.64878972e-05 7.00651377e-01 3.75229240e-02\n",
      " 4.66038778e-05 6.98816011e-02 1.22339172e-04 4.07049372e-02]\n",
      "Q Function:  -2067737.415587082\n",
      "\n"
     ]
    },
    {
     "name": "stderr",
     "output_type": "stream",
     "text": [
      "100%|██████████████████████████████████████████████████████████████████████████████████████████████████████| 7/7 [00:08<00:00,  1.18s/it]\n"
     ]
    },
    {
     "name": "stdout",
     "output_type": "stream",
     "text": [
      "mstep self.weights:  [8.10983790e-02 6.55265055e-11 6.55265054e-11 5.33429691e-04\n",
      " 4.71170158e-02 6.55265054e-11 1.23837641e-10 6.55265854e-11\n",
      " 6.60050325e-11 6.55265054e-11 7.55936094e-01 3.45117895e-02\n",
      " 6.55265054e-11 6.41445044e-02 6.55265054e-11 1.66587873e-02]\n",
      "Q Function:  -1902378.3788008364\n",
      "\n"
     ]
    },
    {
     "name": "stderr",
     "output_type": "stream",
     "text": [
      "100%|██████████████████████████████████████████████████████████████████████████████████████████████████████| 7/7 [00:07<00:00,  1.13s/it]\n"
     ]
    },
    {
     "name": "stdout",
     "output_type": "stream",
     "text": [
      "mstep self.weights:  [9.88324727e-02 6.55514221e-11 6.55265054e-11 4.57003680e-04\n",
      " 5.13334689e-02 6.55265054e-11 9.86396045e-10 7.26171826e-11\n",
      " 2.28465801e-10 6.55265054e-11 7.58279986e-01 2.53971335e-02\n",
      " 6.55265054e-11 6.56335870e-02 6.55265054e-11 6.63466419e-05]\n",
      "Q Function:  -1936284.8636961202\n",
      "\n"
     ]
    },
    {
     "name": "stderr",
     "output_type": "stream",
     "text": [
      "100%|██████████████████████████████████████████████████████████████████████████████████████████████████████| 5/5 [00:07<00:00,  1.58s/it]\n"
     ]
    },
    {
     "name": "stdout",
     "output_type": "stream",
     "text": [
      "mstep self.weights:  [8.89895726e-02 6.55265450e-11 6.55265054e-11 6.55265210e-11\n",
      " 5.43351339e-02 6.55265054e-11 6.75384372e-11 6.55267710e-11\n",
      " 6.55821004e-11 6.55265054e-11 7.62320975e-01 3.01546494e-02\n",
      " 6.55265054e-11 6.41996688e-02 6.55265054e-11 6.55265054e-11]\n",
      "Q Function:  -1912751.4934794726\n",
      "\n"
     ]
    },
    {
     "name": "stderr",
     "output_type": "stream",
     "text": [
      "100%|██████████████████████████████████████████████████████████████████████████████████████████████████████| 5/5 [00:07<00:00,  1.54s/it]\n"
     ]
    },
    {
     "name": "stdout",
     "output_type": "stream",
     "text": [
      "mstep self.weights:  [9.31801063e-02 6.55265295e-11 6.55265054e-11 6.55265054e-11\n",
      " 5.79827528e-02 6.55265054e-11 6.62154519e-11 6.55267128e-11\n",
      " 6.55432322e-11 6.55265054e-11 7.57871011e-01 2.52213959e-02\n",
      " 6.55265054e-11 6.57447336e-02 6.55265054e-11 6.55265054e-11]\n",
      "Q Function:  -1890454.5980911728\n",
      "\n"
     ]
    },
    {
     "name": "stderr",
     "output_type": "stream",
     "text": [
      "100%|██████████████████████████████████████████████████████████████████████████████████████████████████████| 5/5 [00:07<00:00,  1.57s/it]\n"
     ]
    },
    {
     "name": "stdout",
     "output_type": "stream",
     "text": [
      "mstep self.weights:  [9.99439156e-02 6.74215759e-11 6.55265054e-11 6.55265054e-11\n",
      " 5.48563592e-02 6.55265054e-11 9.28326726e-10 6.57244933e-11\n",
      " 2.45620836e-10 6.55265054e-11 7.47986263e-01 3.53699156e-02\n",
      " 6.55265054e-11 6.18435453e-02 6.55265054e-11 6.55265054e-11]\n",
      "Q Function:  -1895605.0423217108\n",
      "\n"
     ]
    },
    {
     "name": "stderr",
     "output_type": "stream",
     "text": [
      "100%|██████████████████████████████████████████████████████████████████████████████████████████████████████| 5/5 [00:07<00:00,  1.56s/it]\n"
     ]
    },
    {
     "name": "stdout",
     "output_type": "stream",
     "text": [
      "mstep self.weights:  [8.67197944e-02 6.56242965e-11 6.55265054e-11 6.55265054e-11\n",
      " 5.70812440e-02 6.55265054e-11 3.69047796e-09 6.63063836e-11\n",
      " 2.32270055e-10 6.55265054e-11 7.58156885e-01 3.61200696e-02\n",
      " 6.55265054e-11 6.19220021e-02 6.55265054e-11 6.55265054e-11]\n",
      "Q Function:  -1900711.9121889737\n",
      "\n"
     ]
    },
    {
     "name": "stderr",
     "output_type": "stream",
     "text": [
      "100%|██████████████████████████████████████████████████████████████████████████████████████████████████████| 5/5 [00:07<00:00,  1.59s/it]\n"
     ]
    },
    {
     "name": "stdout",
     "output_type": "stream",
     "text": [
      "mstep self.weights:  [8.74399866e-02 1.21793349e-10 6.55265054e-11 6.55265054e-11\n",
      " 5.49974095e-02 6.55265054e-11 3.80128436e-06 7.45047149e-11\n",
      " 1.75904905e-08 6.55265054e-11 7.56582469e-01 3.71692148e-02\n",
      " 6.55265054e-11 6.38071007e-02 6.55265054e-11 6.55265054e-11]\n",
      "Q Function:  -1891354.5836824416\n",
      "\n"
     ]
    },
    {
     "name": "stderr",
     "output_type": "stream",
     "text": [
      "100%|██████████████████████████████████████████████████████████████████████████████████████████████████████| 6/6 [00:07<00:00,  1.31s/it]\n"
     ]
    },
    {
     "name": "stdout",
     "output_type": "stream",
     "text": [
      "mstep self.weights:  [8.47390000e-02 7.06511721e-11 6.55265054e-11 6.55265189e-11\n",
      " 5.47775206e-02 6.55265054e-11 1.42383542e-04 6.63981646e-11\n",
      " 7.14363833e-08 6.55265054e-11 7.58976705e-01 3.86343742e-02\n",
      " 6.55265054e-11 6.27299443e-02 6.55265054e-11 6.55265054e-11]\n",
      "Q Function:  -1902615.9159438605\n",
      "\n"
     ]
    },
    {
     "name": "stderr",
     "output_type": "stream",
     "text": [
      "100%|██████████████████████████████████████████████████████████████████████████████████████████████████████| 5/5 [00:07<00:00,  1.59s/it]\n"
     ]
    },
    {
     "name": "stdout",
     "output_type": "stream",
     "text": [
      "mstep self.weights:  [8.39966046e-02 2.13595729e-10 6.55265054e-11 6.55292052e-11\n",
      " 5.48629883e-02 6.55265054e-11 6.55265054e-11 9.15860218e-11\n",
      " 1.27663831e-05 6.55265054e-11 7.59595202e-01 3.90948564e-02\n",
      " 6.55265054e-11 6.24375811e-02 6.55265054e-11 6.55265054e-11]\n",
      "Q Function:  -1902387.512772972\n",
      "\n",
      "No. clus:  5\n",
      "WARNING:root:Selecting 239 genes required 0.0% dataset threshold.\n"
     ]
    },
    {
     "name": "stderr",
     "output_type": "stream",
     "text": [
      "/home/tchari/monod/src/monod/mminference.py:512: RuntimeWarning: divide by zero encountered in true_divide\n",
      "  divids = (1e4/tots)[:,None]\n",
      "/home/tchari/monod/src/monod/mminference.py:513: RuntimeWarning: invalid value encountered in multiply\n",
      "  S_t = S_t*divids\n",
      "100%|████████████████████████████████████████████████████████████████████████████████████████████████████| 21/21 [00:09<00:00,  2.15it/s]\n",
      "100%|████████████████████████████████████████████████████████████████████████████████████████████████████| 17/17 [00:08<00:00,  1.90it/s]\n"
     ]
    },
    {
     "name": "stdout",
     "output_type": "stream",
     "text": [
      "mstep self.weights:  [6.01505954e-01 5.28929326e-04 2.10355019e-07 1.09353708e-02\n",
      " 2.59923322e-02 1.81094330e-02 1.24755860e-01 8.67147096e-09\n",
      " 6.55546844e-05 3.54996357e-03 3.33942833e-04 6.48965245e-05\n",
      " 2.83014948e-05 3.09687344e-02 1.23363530e-01 5.33736981e-02\n",
      " 2.54296419e-04 4.51369790e-03 1.02354376e-06 1.59307362e-03\n",
      " 6.11884369e-05]\n",
      "Q Function:  -2163542.1372111826\n",
      "\n"
     ]
    },
    {
     "name": "stderr",
     "output_type": "stream",
     "text": [
      "100%|████████████████████████████████████████████████████████████████████████████████████████████████████| 11/11 [00:08<00:00,  1.28it/s]\n"
     ]
    },
    {
     "name": "stdout",
     "output_type": "stream",
     "text": [
      "mstep self.weights:  [6.88508307e-01 5.57919026e-06 6.65415379e-11 1.69571359e-02\n",
      " 3.45202610e-02 4.31501064e-04 7.78621299e-02 6.55543747e-11\n",
      " 6.55265054e-11 1.13100084e-10 7.96232330e-10 6.55265054e-11\n",
      " 6.63662286e-05 1.37949353e-10 1.28204499e-01 5.09687571e-02\n",
      " 6.26840681e-05 1.50371799e-03 1.80880917e-09 9.09058096e-04\n",
      " 6.55265054e-11]\n",
      "Q Function:  -2014535.3339799754\n",
      "\n"
     ]
    },
    {
     "name": "stderr",
     "output_type": "stream",
     "text": [
      "100%|██████████████████████████████████████████████████████████████████████████████████████████████████████| 7/7 [00:08<00:00,  1.18s/it]\n"
     ]
    },
    {
     "name": "stdout",
     "output_type": "stream",
     "text": [
      "mstep self.weights:  [7.35327771e-01 6.55265054e-11 6.55265056e-11 1.69913925e-02\n",
      " 3.31985051e-02 6.55265054e-11 8.70564070e-02 6.55265055e-11\n",
      " 6.55265054e-11 6.55265054e-11 6.55265054e-11 6.55265054e-11\n",
      " 6.55265054e-11 6.55265054e-11 8.39621657e-02 4.32014808e-02\n",
      " 6.55265054e-11 2.01632013e-10 6.55265867e-11 2.62276519e-04\n",
      " 6.55265054e-11]\n",
      "Q Function:  -1832127.0053985715\n",
      "\n"
     ]
    },
    {
     "name": "stderr",
     "output_type": "stream",
     "text": [
      "100%|██████████████████████████████████████████████████████████████████████████████████████████████████████| 6/6 [00:08<00:00,  1.41s/it]\n"
     ]
    },
    {
     "name": "stdout",
     "output_type": "stream",
     "text": [
      "mstep self.weights:  [7.63065160e-01 6.55265054e-11 6.55265065e-11 1.48591564e-02\n",
      " 2.95284707e-02 6.55265054e-11 8.32375540e-02 6.55265081e-11\n",
      " 6.55265054e-11 6.55265054e-11 6.55265054e-11 6.55265054e-11\n",
      " 6.55265054e-11 6.55265054e-11 5.86289664e-02 5.06806912e-02\n",
      " 6.55265054e-11 6.55265054e-11 6.55267388e-11 6.55265054e-11\n",
      " 6.55265054e-11]\n",
      "Q Function:  -1772480.7611015674\n",
      "\n"
     ]
    },
    {
     "name": "stderr",
     "output_type": "stream",
     "text": [
      "100%|██████████████████████████████████████████████████████████████████████████████████████████████████████| 6/6 [00:08<00:00,  1.45s/it]\n"
     ]
    },
    {
     "name": "stdout",
     "output_type": "stream",
     "text": [
      "mstep self.weights:  [7.79331145e-01 6.55265054e-11 6.55318740e-11 1.73711246e-02\n",
      " 3.05986514e-02 6.55265054e-11 7.96154550e-02 6.55593243e-11\n",
      " 6.55265054e-11 6.55265054e-11 6.55265054e-11 6.55265054e-11\n",
      " 6.55265054e-11 6.55265054e-11 4.01020516e-02 5.29815709e-02\n",
      " 6.55265054e-11 6.55265061e-11 6.65593712e-11 6.55265054e-11\n",
      " 6.55265054e-11]\n",
      "Q Function:  -1790809.1925592895\n",
      "\n"
     ]
    },
    {
     "name": "stderr",
     "output_type": "stream",
     "text": [
      "100%|██████████████████████████████████████████████████████████████████████████████████████████████████████| 6/6 [00:08<00:00,  1.49s/it]\n"
     ]
    },
    {
     "name": "stdout",
     "output_type": "stream",
     "text": [
      "mstep self.weights:  [7.87216524e-01 6.55392258e-11 6.55319117e-11 1.36030825e-02\n",
      " 1.26575384e-02 6.55265054e-11 1.22908952e-01 6.55265072e-11\n",
      " 6.55265054e-11 6.55265054e-11 6.55265054e-11 6.55265054e-11\n",
      " 6.55265054e-11 6.55265054e-11 1.90473056e-02 4.45665959e-02\n",
      " 6.55265054e-11 6.55265054e-11 6.55268475e-11 6.55265054e-11\n",
      " 6.55265054e-11]\n",
      "Q Function:  -1789310.792007623\n",
      "\n"
     ]
    },
    {
     "name": "stderr",
     "output_type": "stream",
     "text": [
      "100%|██████████████████████████████████████████████████████████████████████████████████████████████████████| 6/6 [00:08<00:00,  1.44s/it]\n"
     ]
    },
    {
     "name": "stdout",
     "output_type": "stream",
     "text": [
      "mstep self.weights:  [7.84800385e-01 6.55408236e-11 6.55280442e-11 1.72042051e-02\n",
      " 5.69251243e-03 6.55265054e-11 1.05583551e-01 6.55311911e-11\n",
      " 6.55265054e-11 6.55265054e-11 6.55265056e-11 6.55265054e-11\n",
      " 6.55265054e-11 6.55265054e-11 2.74633645e-02 5.92559813e-02\n",
      " 6.55265054e-11 6.55292020e-11 6.58893351e-11 6.55265054e-11\n",
      " 6.55265054e-11]\n",
      "Q Function:  -1775761.2736546383\n",
      "\n"
     ]
    },
    {
     "name": "stderr",
     "output_type": "stream",
     "text": [
      "100%|██████████████████████████████████████████████████████████████████████████████████████████████████████| 6/6 [00:08<00:00,  1.41s/it]\n"
     ]
    },
    {
     "name": "stdout",
     "output_type": "stream",
     "text": [
      "mstep self.weights:  [7.79062349e-01 6.55265056e-11 6.57290998e-11 1.54025982e-02\n",
      " 4.96999105e-03 6.55265054e-11 1.21888235e-01 6.55292551e-11\n",
      " 6.55265054e-11 6.55265054e-11 6.55265054e-11 6.55265054e-11\n",
      " 6.55265054e-11 6.55265056e-11 2.78556129e-02 5.08212134e-02\n",
      " 6.55265054e-11 6.55265063e-11 6.60548671e-11 6.55265054e-11\n",
      " 6.55265054e-11]\n",
      "Q Function:  -1934944.55788203\n",
      "\n"
     ]
    },
    {
     "name": "stderr",
     "output_type": "stream",
     "text": [
      "100%|██████████████████████████████████████████████████████████████████████████████████████████████████████| 6/6 [00:08<00:00,  1.42s/it]\n"
     ]
    },
    {
     "name": "stdout",
     "output_type": "stream",
     "text": [
      "mstep self.weights:  [7.99668465e-01 6.56902554e-11 1.52778089e-08 1.79762493e-02\n",
      " 3.59381713e-03 6.55265054e-11 1.02872482e-01 6.62514533e-11\n",
      " 6.55265054e-11 6.55265057e-11 6.55268100e-11 6.55265054e-11\n",
      " 6.55265054e-11 6.55265054e-11 1.62071401e-02 5.96818305e-02\n",
      " 6.55265054e-11 7.83525213e-11 9.03517001e-11 6.55265054e-11\n",
      " 6.55265054e-11]\n",
      "Q Function:  -1804181.2596440716\n",
      "\n"
     ]
    },
    {
     "name": "stderr",
     "output_type": "stream",
     "text": [
      "100%|██████████████████████████████████████████████████████████████████████████████████████████████████████| 6/6 [00:08<00:00,  1.45s/it]\n"
     ]
    },
    {
     "name": "stdout",
     "output_type": "stream",
     "text": [
      "mstep self.weights:  [7.88465782e-01 6.55265055e-11 2.18391341e-09 1.49713982e-02\n",
      " 2.43283435e-03 6.55265054e-11 1.21224874e-01 6.55281841e-11\n",
      " 6.55265054e-11 6.55265054e-11 6.55265054e-11 6.55265054e-11\n",
      " 6.55265054e-11 6.55265054e-11 2.05555094e-02 5.23495997e-02\n",
      " 6.55265054e-11 6.55265144e-11 6.58800676e-11 6.55265054e-11\n",
      " 6.55265054e-11]\n",
      "Q Function:  -1942165.6270889936\n",
      "\n",
      "No. clus:  6\n",
      "cl5 with 300 HVGs\n",
      "WARNING:root:Selecting 240 genes required 0.0% dataset threshold.\n"
     ]
    },
    {
     "name": "stderr",
     "output_type": "stream",
     "text": [
      "100%|██████████████████████████████████████████████████████████████████████████████████████████████████████| 2/2 [00:12<00:00,  6.35s/it]\n",
      "100%|██████████████████████████████████████████████████████████████████████████████████████████████████████| 2/2 [00:12<00:00,  6.49s/it]\n"
     ]
    },
    {
     "name": "stdout",
     "output_type": "stream",
     "text": [
      "mstep self.weights:  [0.41384256 0.58615744]\n",
      "Q Function:  -1564222.7663113198\n",
      "\n"
     ]
    },
    {
     "name": "stderr",
     "output_type": "stream",
     "text": [
      "100%|██████████████████████████████████████████████████████████████████████████████████████████████████████| 2/2 [00:13<00:00,  6.97s/it]\n"
     ]
    },
    {
     "name": "stdout",
     "output_type": "stream",
     "text": [
      "mstep self.weights:  [0.39527981 0.60472019]\n",
      "Q Function:  -1442095.1365893844\n",
      "\n"
     ]
    },
    {
     "name": "stderr",
     "output_type": "stream",
     "text": [
      "100%|██████████████████████████████████████████████████████████████████████████████████████████████████████| 2/2 [00:13<00:00,  6.53s/it]\n"
     ]
    },
    {
     "name": "stdout",
     "output_type": "stream",
     "text": [
      "mstep self.weights:  [0.28878271 0.71121729]\n",
      "Q Function:  -1338952.7603381488\n",
      "\n"
     ]
    },
    {
     "name": "stderr",
     "output_type": "stream",
     "text": [
      "100%|██████████████████████████████████████████████████████████████████████████████████████████████████████| 2/2 [00:18<00:00,  9.01s/it]\n"
     ]
    },
    {
     "name": "stdout",
     "output_type": "stream",
     "text": [
      "mstep self.weights:  [0.03981803 0.96018197]\n",
      "Q Function:  -1469130.354238842\n",
      "\n"
     ]
    },
    {
     "name": "stderr",
     "output_type": "stream",
     "text": [
      "100%|██████████████████████████████████████████████████████████████████████████████████████████████████████| 2/2 [00:14<00:00,  7.31s/it]\n"
     ]
    },
    {
     "name": "stdout",
     "output_type": "stream",
     "text": [
      "mstep self.weights:  [0.00486489 0.99513511]\n",
      "Q Function:  -1455971.8583505014\n",
      "\n"
     ]
    },
    {
     "name": "stderr",
     "output_type": "stream",
     "text": [
      "100%|██████████████████████████████████████████████████████████████████████████████████████████████████████| 2/2 [00:19<00:00,  9.60s/it]\n"
     ]
    },
    {
     "name": "stdout",
     "output_type": "stream",
     "text": [
      "mstep self.weights:  [1.98127881e-04 9.99801872e-01]\n",
      "Q Function:  -1427318.455170977\n",
      "\n"
     ]
    },
    {
     "name": "stderr",
     "output_type": "stream",
     "text": [
      "100%|██████████████████████████████████████████████████████████████████████████████████████████████████████| 1/1 [00:13<00:00, 13.04s/it]\n"
     ]
    },
    {
     "name": "stdout",
     "output_type": "stream",
     "text": [
      "mstep self.weights:  [2.02142713e-10 1.00000000e+00]\n",
      "Q Function:  -1462092.2176677273\n",
      "\n"
     ]
    },
    {
     "name": "stderr",
     "output_type": "stream",
     "text": [
      "100%|██████████████████████████████████████████████████████████████████████████████████████████████████████| 1/1 [00:13<00:00, 13.00s/it]\n"
     ]
    },
    {
     "name": "stdout",
     "output_type": "stream",
     "text": [
      "mstep self.weights:  [2.02142713e-10 1.00000000e+00]\n",
      "Q Function:  -1430324.4740983106\n",
      "\n"
     ]
    },
    {
     "name": "stderr",
     "output_type": "stream",
     "text": [
      "100%|██████████████████████████████████████████████████████████████████████████████████████████████████████| 1/1 [00:13<00:00, 13.16s/it]\n"
     ]
    },
    {
     "name": "stdout",
     "output_type": "stream",
     "text": [
      "mstep self.weights:  [2.02142713e-10 1.00000000e+00]\n",
      "Q Function:  -1430324.4740983106\n",
      "\n"
     ]
    },
    {
     "name": "stderr",
     "output_type": "stream",
     "text": [
      "100%|██████████████████████████████████████████████████████████████████████████████████████████████████████| 1/1 [00:14<00:00, 14.24s/it]\n"
     ]
    },
    {
     "name": "stdout",
     "output_type": "stream",
     "text": [
      "mstep self.weights:  [2.02142713e-10 1.00000000e+00]\n",
      "Q Function:  -1430324.4740983106\n",
      "\n",
      "No. clus:  1\n",
      "WARNING:root:Selecting 240 genes required 0.0% dataset threshold.\n"
     ]
    },
    {
     "name": "stderr",
     "output_type": "stream",
     "text": [
      "100%|██████████████████████████████████████████████████████████████████████████████████████████████████████| 5/5 [00:15<00:00,  3.04s/it]\n",
      "100%|██████████████████████████████████████████████████████████████████████████████████████████████████████| 5/5 [00:12<00:00,  2.45s/it]\n"
     ]
    },
    {
     "name": "stdout",
     "output_type": "stream",
     "text": [
      "mstep self.weights:  [0.11544556 0.42577434 0.01593459 0.26795158 0.17489393]\n",
      "Q Function:  -1494098.6589885515\n",
      "\n"
     ]
    },
    {
     "name": "stderr",
     "output_type": "stream",
     "text": [
      "100%|██████████████████████████████████████████████████████████████████████████████████████████████████████| 3/3 [00:13<00:00,  4.36s/it]\n"
     ]
    },
    {
     "name": "stdout",
     "output_type": "stream",
     "text": [
      "mstep self.weights:  [2.02198035e-10 4.98443184e-01 2.02142713e-10 1.86531600e-01\n",
      " 3.15025216e-01]\n",
      "Q Function:  -1263240.0512535616\n",
      "\n"
     ]
    },
    {
     "name": "stderr",
     "output_type": "stream",
     "text": [
      "100%|██████████████████████████████████████████████████████████████████████████████████████████████████████| 3/3 [00:13<00:00,  4.39s/it]\n"
     ]
    },
    {
     "name": "stdout",
     "output_type": "stream",
     "text": [
      "mstep self.weights:  [2.24155179e-10 3.24899225e-01 2.35484714e-10 1.43885016e-01\n",
      " 5.31215759e-01]\n",
      "Q Function:  -1575420.520008966\n",
      "\n"
     ]
    },
    {
     "name": "stderr",
     "output_type": "stream",
     "text": [
      "100%|██████████████████████████████████████████████████████████████████████████████████████████████████████| 3/3 [00:12<00:00,  4.24s/it]\n"
     ]
    },
    {
     "name": "stdout",
     "output_type": "stream",
     "text": [
      "mstep self.weights:  [2.02142791e-10 2.65997100e-01 2.02145534e-10 2.15692175e-01\n",
      " 5.18310724e-01]\n",
      "Q Function:  -1485550.0878866264\n",
      "\n"
     ]
    },
    {
     "name": "stderr",
     "output_type": "stream",
     "text": [
      "100%|██████████████████████████████████████████████████████████████████████████████████████████████████████| 3/3 [00:12<00:00,  4.16s/it]\n"
     ]
    },
    {
     "name": "stdout",
     "output_type": "stream",
     "text": [
      "mstep self.weights:  [2.03333246e-10 3.01607644e-01 2.02153368e-10 1.62242794e-01\n",
      " 5.36149561e-01]\n",
      "Q Function:  -1507362.245458405\n",
      "\n"
     ]
    },
    {
     "name": "stderr",
     "output_type": "stream",
     "text": [
      "100%|██████████████████████████████████████████████████████████████████████████████████████████████████████| 3/3 [00:13<00:00,  4.66s/it]\n"
     ]
    },
    {
     "name": "stdout",
     "output_type": "stream",
     "text": [
      "mstep self.weights:  [2.94221961e-10 3.07738489e-01 2.02895112e-10 2.63832107e-04\n",
      " 6.91997679e-01]\n",
      "Q Function:  -1522628.449044851\n",
      "\n"
     ]
    },
    {
     "name": "stderr",
     "output_type": "stream",
     "text": [
      "100%|██████████████████████████████████████████████████████████████████████████████████████████████████████| 2/2 [00:11<00:00,  5.98s/it]\n"
     ]
    },
    {
     "name": "stdout",
     "output_type": "stream",
     "text": [
      "mstep self.weights:  [2.02142713e-10 2.77181049e-01 5.74561371e-08 2.02142713e-10\n",
      " 7.22818894e-01]\n",
      "Q Function:  -1512772.8898991158\n",
      "\n"
     ]
    },
    {
     "name": "stderr",
     "output_type": "stream",
     "text": [
      "100%|██████████████████████████████████████████████████████████████████████████████████████████████████████| 3/3 [00:13<00:00,  4.36s/it]\n"
     ]
    },
    {
     "name": "stdout",
     "output_type": "stream",
     "text": [
      "mstep self.weights:  [2.02142713e-10 2.62688156e-01 2.54541625e-04 2.02142713e-10\n",
      " 7.37057302e-01]\n",
      "Q Function:  -1522177.236948035\n",
      "\n"
     ]
    },
    {
     "name": "stderr",
     "output_type": "stream",
     "text": [
      "100%|██████████████████████████████████████████████████████████████████████████████████████████████████████| 2/2 [00:17<00:00,  8.73s/it]\n"
     ]
    },
    {
     "name": "stdout",
     "output_type": "stream",
     "text": [
      "mstep self.weights:  [2.02142748e-10 1.91513313e-01 2.02142713e-10 2.02142713e-10\n",
      " 8.08486686e-01]\n",
      "Q Function:  -1474065.871072874\n",
      "\n"
     ]
    },
    {
     "name": "stderr",
     "output_type": "stream",
     "text": [
      "100%|██████████████████████████████████████████████████████████████████████████████████████████████████████| 2/2 [00:14<00:00,  7.49s/it]\n"
     ]
    },
    {
     "name": "stdout",
     "output_type": "stream",
     "text": [
      "mstep self.weights:  [1.03851502e-08 8.05295076e-02 2.02142713e-10 2.02142713e-10\n",
      " 9.19470482e-01]\n",
      "Q Function:  -1509834.5911255\n",
      "\n",
      "No. clus:  2\n",
      "WARNING:root:Selecting 240 genes required 0.0% dataset threshold.\n"
     ]
    },
    {
     "name": "stderr",
     "output_type": "stream",
     "text": [
      "100%|████████████████████████████████████████████████████████████████████████████████████████████████████| 10/10 [00:13<00:00,  1.35s/it]\n",
      "100%|████████████████████████████████████████████████████████████████████████████████████████████████████| 10/10 [00:13<00:00,  1.34s/it]\n"
     ]
    },
    {
     "name": "stdout",
     "output_type": "stream",
     "text": [
      "mstep self.weights:  [8.49790664e-02 1.81088729e-01 1.30713234e-01 2.25478088e-04\n",
      " 7.89195361e-02 2.73857538e-04 1.24542806e-01 3.10236043e-01\n",
      " 7.95608285e-02 9.46042079e-03]\n",
      "Q Function:  -1450654.1478539142\n",
      "\n"
     ]
    },
    {
     "name": "stderr",
     "output_type": "stream",
     "text": [
      "100%|██████████████████████████████████████████████████████████████████████████████████████████████████████| 7/7 [00:15<00:00,  2.27s/it]\n"
     ]
    },
    {
     "name": "stdout",
     "output_type": "stream",
     "text": [
      "mstep self.weights:  [2.61295028e-02 1.47927242e-02 8.32076772e-04 2.02142712e-10\n",
      " 1.29905771e-01 2.02142712e-10 1.52438203e-01 6.74759732e-01\n",
      " 1.13268178e-03 9.30713521e-06]\n",
      "Q Function:  -1418406.9996103032\n",
      "\n"
     ]
    },
    {
     "name": "stderr",
     "output_type": "stream",
     "text": [
      "100%|██████████████████████████████████████████████████████████████████████████████████████████████████████| 5/5 [00:14<00:00,  2.90s/it]\n"
     ]
    },
    {
     "name": "stdout",
     "output_type": "stream",
     "text": [
      "mstep self.weights:  [2.02142712e-10 1.26770477e-02 2.02142712e-10 2.02142712e-10\n",
      " 3.21072375e-01 2.02142712e-10 8.96713188e-02 5.75881613e-01\n",
      " 2.09540923e-10 6.97644846e-04]\n",
      "Q Function:  -1545753.9624142703\n",
      "\n"
     ]
    },
    {
     "name": "stderr",
     "output_type": "stream",
     "text": [
      "100%|██████████████████████████████████████████████████████████████████████████████████████████████████████| 5/5 [00:12<00:00,  2.46s/it]\n"
     ]
    },
    {
     "name": "stdout",
     "output_type": "stream",
     "text": [
      "mstep self.weights:  [2.02142712e-10 6.90001032e-02 2.02142712e-10 2.02142712e-10\n",
      " 2.14063245e-01 2.02142712e-10 2.93171077e-01 4.23361287e-01\n",
      " 4.22670031e-09 4.04283478e-04]\n",
      "Q Function:  -1626771.6066528966\n",
      "\n"
     ]
    },
    {
     "name": "stderr",
     "output_type": "stream",
     "text": [
      "100%|██████████████████████████████████████████████████████████████████████████████████████████████████████| 4/4 [00:13<00:00,  3.43s/it]\n"
     ]
    },
    {
     "name": "stdout",
     "output_type": "stream",
     "text": [
      "mstep self.weights:  [2.02142712e-10 4.63852635e-02 2.02142712e-10 2.02142712e-10\n",
      " 1.98266129e-01 2.02142712e-10 2.58658063e-01 4.96690543e-01\n",
      " 2.02142712e-10 2.02142712e-10]\n",
      "Q Function:  -1556021.5227392502\n",
      "\n"
     ]
    },
    {
     "name": "stderr",
     "output_type": "stream",
     "text": [
      "100%|██████████████████████████████████████████████████████████████████████████████████████████████████████| 3/3 [00:14<00:00,  4.75s/it]\n"
     ]
    },
    {
     "name": "stdout",
     "output_type": "stream",
     "text": [
      "mstep self.weights:  [2.02142712e-10 5.61233957e-05 2.02142712e-10 2.02142712e-10\n",
      " 1.64540528e-01 2.02142712e-10 2.61940299e-01 5.73463049e-01\n",
      " 2.02142712e-10 2.02142712e-10]\n",
      "Q Function:  -1485119.4490712825\n",
      "\n"
     ]
    },
    {
     "name": "stderr",
     "output_type": "stream",
     "text": [
      "100%|██████████████████████████████████████████████████████████████████████████████████████████████████████| 4/4 [00:15<00:00,  3.85s/it]\n"
     ]
    },
    {
     "name": "stdout",
     "output_type": "stream",
     "text": [
      "mstep self.weights:  [2.02142712e-10 3.31802186e-04 2.02142712e-10 2.02142712e-10\n",
      " 2.80855632e-04 2.02142712e-10 3.14683926e-01 6.84703415e-01\n",
      " 2.02142712e-10 2.02142712e-10]\n",
      "Q Function:  -1548570.052793725\n",
      "\n"
     ]
    },
    {
     "name": "stderr",
     "output_type": "stream",
     "text": [
      "100%|██████████████████████████████████████████████████████████████████████████████████████████████████████| 2/2 [00:11<00:00,  5.67s/it]\n"
     ]
    },
    {
     "name": "stdout",
     "output_type": "stream",
     "text": [
      "mstep self.weights:  [2.02142712e-10 2.02142712e-10 2.02142712e-10 2.02142712e-10\n",
      " 2.02142712e-10 2.02142712e-10 3.84846137e-01 6.15153862e-01\n",
      " 2.02143966e-10 2.02142712e-10]\n",
      "Q Function:  -1501711.8613544286\n",
      "\n"
     ]
    },
    {
     "name": "stderr",
     "output_type": "stream",
     "text": [
      "100%|██████████████████████████████████████████████████████████████████████████████████████████████████████| 2/2 [00:12<00:00,  6.21s/it]\n"
     ]
    },
    {
     "name": "stdout",
     "output_type": "stream",
     "text": [
      "mstep self.weights:  [2.02142712e-10 2.02142712e-10 2.02142712e-10 2.02142712e-10\n",
      " 2.02142712e-10 2.02142712e-10 5.76874953e-01 4.23125046e-01\n",
      " 2.02142712e-10 2.02142712e-10]\n",
      "Q Function:  -1335815.0879787253\n",
      "\n"
     ]
    },
    {
     "name": "stderr",
     "output_type": "stream",
     "text": [
      "100%|██████████████████████████████████████████████████████████████████████████████████████████████████████| 2/2 [00:15<00:00,  7.69s/it]\n"
     ]
    },
    {
     "name": "stdout",
     "output_type": "stream",
     "text": [
      "mstep self.weights:  [2.02142712e-10 2.02142712e-10 2.02142712e-10 2.02142712e-10\n",
      " 2.02142712e-10 2.02142712e-10 6.83631040e-01 3.16368958e-01\n",
      " 2.03490357e-10 2.02142712e-10]\n",
      "Q Function:  -1563882.9036005307\n",
      "\n",
      "No. clus:  2\n",
      "WARNING:root:Selecting 240 genes required 0.0% dataset threshold.\n"
     ]
    },
    {
     "name": "stderr",
     "output_type": "stream",
     "text": [
      "100%|████████████████████████████████████████████████████████████████████████████████████████████████████| 15/15 [00:14<00:00,  1.07it/s]\n",
      "100%|████████████████████████████████████████████████████████████████████████████████████████████████████| 14/14 [00:13<00:00,  1.02it/s]\n"
     ]
    },
    {
     "name": "stdout",
     "output_type": "stream",
     "text": [
      "mstep self.weights:  [7.35737888e-02 8.32711086e-02 4.25831727e-02 1.57704350e-01\n",
      " 7.20732456e-03 8.31653257e-02 1.29188759e-01 2.74860707e-02\n",
      " 3.63734877e-04 5.54968447e-02 1.25626801e-03 2.14389762e-10\n",
      " 9.54495160e-02 2.28359723e-01 1.48940139e-02]\n",
      "Q Function:  -1459136.728155546\n",
      "\n"
     ]
    },
    {
     "name": "stderr",
     "output_type": "stream",
     "text": [
      "100%|██████████████████████████████████████████████████████████████████████████████████████████████████████| 7/7 [00:13<00:00,  1.93s/it]\n"
     ]
    },
    {
     "name": "stdout",
     "output_type": "stream",
     "text": [
      "mstep self.weights:  [2.18942270e-01 1.17928205e-09 8.22130137e-10 4.38734344e-01\n",
      " 2.02142712e-10 2.23690384e-02 2.07856160e-10 3.85195777e-03\n",
      " 2.02142712e-10 6.39918982e-03 2.02142712e-10 2.02144548e-10\n",
      " 3.02307180e-01 7.39601684e-03 2.02142712e-10]\n",
      "Q Function:  -1490657.6092538717\n",
      "\n"
     ]
    },
    {
     "name": "stderr",
     "output_type": "stream",
     "text": [
      "100%|██████████████████████████████████████████████████████████████████████████████████████████████████████| 4/4 [00:13<00:00,  3.27s/it]\n"
     ]
    },
    {
     "name": "stdout",
     "output_type": "stream",
     "text": [
      "mstep self.weights:  [1.00061723e-01 2.02142712e-10 2.02149600e-10 3.04696190e-01\n",
      " 2.02142712e-10 5.45533938e-03 2.02142712e-10 2.02142712e-10\n",
      " 2.02142712e-10 2.64775815e-09 2.02142712e-10 2.06883581e-10\n",
      " 5.89786743e-01 2.55943368e-10 2.02142712e-10]\n",
      "Q Function:  -1383261.9049271613\n",
      "\n"
     ]
    },
    {
     "name": "stderr",
     "output_type": "stream",
     "text": [
      "100%|██████████████████████████████████████████████████████████████████████████████████████████████████████| 3/3 [00:12<00:00,  4.10s/it]\n"
     ]
    },
    {
     "name": "stdout",
     "output_type": "stream",
     "text": [
      "mstep self.weights:  [4.63657021e-03 2.03218081e-10 2.02142938e-10 1.22037024e-01\n",
      " 2.02142712e-10 2.89863123e-10 2.02142712e-10 2.02142712e-10\n",
      " 2.02142712e-10 2.02142712e-10 2.02142712e-10 2.04114784e-10\n",
      " 8.73326404e-01 2.02142712e-10 2.02142712e-10]\n",
      "Q Function:  -1314532.5245531818\n",
      "\n"
     ]
    },
    {
     "name": "stderr",
     "output_type": "stream",
     "text": [
      "100%|██████████████████████████████████████████████████████████████████████████████████████████████████████| 2/2 [00:11<00:00,  5.75s/it]\n"
     ]
    },
    {
     "name": "stdout",
     "output_type": "stream",
     "text": [
      "mstep self.weights:  [2.02142712e-10 2.02142799e-10 4.09958607e-10 5.29614929e-01\n",
      " 2.02142712e-10 2.02145255e-10 2.02142712e-10 2.02142712e-10\n",
      " 2.02142712e-10 2.02142781e-10 2.02142712e-10 2.02143441e-10\n",
      " 4.70385069e-01 2.02142712e-10 2.02142712e-10]\n",
      "Q Function:  -1427175.4799040023\n",
      "\n"
     ]
    },
    {
     "name": "stderr",
     "output_type": "stream",
     "text": [
      "100%|██████████████████████████████████████████████████████████████████████████████████████████████████████| 2/2 [00:13<00:00,  6.81s/it]\n"
     ]
    },
    {
     "name": "stdout",
     "output_type": "stream",
     "text": [
      "mstep self.weights:  [2.02142712e-10 2.02142712e-10 2.02142712e-10 6.54631239e-01\n",
      " 2.02142712e-10 2.02164237e-10 2.02142712e-10 2.02142712e-10\n",
      " 2.02142712e-10 2.02142712e-10 2.02142712e-10 2.02142712e-10\n",
      " 3.45368759e-01 2.02142712e-10 2.02142712e-10]\n",
      "Q Function:  -1354801.1678131132\n",
      "\n"
     ]
    },
    {
     "name": "stderr",
     "output_type": "stream",
     "text": [
      "100%|██████████████████████████████████████████████████████████████████████████████████████████████████████| 4/4 [00:14<00:00,  3.74s/it]\n"
     ]
    },
    {
     "name": "stdout",
     "output_type": "stream",
     "text": [
      "mstep self.weights:  [2.02142712e-10 2.03504242e-10 1.36676489e-02 7.22487794e-01\n",
      " 2.02142712e-10 4.04290037e-04 2.02562276e-10 2.02142712e-10\n",
      " 2.02142712e-10 9.70123084e-07 2.02142712e-10 3.64146314e-06\n",
      " 2.63435654e-01 2.02142729e-10 2.02142712e-10]\n",
      "Q Function:  -1564599.5576266758\n",
      "\n"
     ]
    },
    {
     "name": "stderr",
     "output_type": "stream",
     "text": [
      "100%|██████████████████████████████████████████████████████████████████████████████████████████████████████| 4/4 [00:13<00:00,  3.42s/it]\n"
     ]
    },
    {
     "name": "stdout",
     "output_type": "stream",
     "text": [
      "mstep self.weights:  [2.02142712e-10 6.70059640e-04 2.02142712e-10 9.06600406e-01\n",
      " 2.02142741e-10 2.02142712e-10 2.02142778e-10 2.02142712e-10\n",
      " 2.02142712e-10 2.02142712e-10 2.02142712e-10 2.03260727e-04\n",
      " 9.25262715e-02 2.02142712e-10 2.02142712e-10]\n",
      "Q Function:  -1402842.9484251984\n",
      "\n"
     ]
    },
    {
     "name": "stderr",
     "output_type": "stream",
     "text": [
      "100%|██████████████████████████████████████████████████████████████████████████████████████████████████████| 2/2 [00:15<00:00,  7.86s/it]\n"
     ]
    },
    {
     "name": "stdout",
     "output_type": "stream",
     "text": [
      "mstep self.weights:  [2.02142712e-10 2.02142712e-10 2.02142712e-10 9.91935491e-01\n",
      " 2.02142712e-10 2.02142712e-10 2.02142712e-10 2.02142712e-10\n",
      " 2.02142712e-10 2.02142712e-10 2.02142712e-10 2.02142712e-10\n",
      " 8.06450676e-03 2.02142712e-10 2.02142712e-10]\n",
      "Q Function:  -1356865.6597852206\n",
      "\n"
     ]
    },
    {
     "name": "stderr",
     "output_type": "stream",
     "text": [
      "100%|██████████████████████████████████████████████████████████████████████████████████████████████████████| 1/1 [00:12<00:00, 12.94s/it]\n"
     ]
    },
    {
     "name": "stdout",
     "output_type": "stream",
     "text": [
      "mstep self.weights:  [2.02142712e-10 2.02142712e-10 2.02142712e-10 9.99999992e-01\n",
      " 2.02142712e-10 2.02142712e-10 2.02142712e-10 2.02142712e-10\n",
      " 2.02142712e-10 2.02142712e-10 2.02142712e-10 2.02142712e-10\n",
      " 5.82606230e-09 2.02142712e-10 2.02142712e-10]\n",
      "Q Function:  -1380500.6786605269\n",
      "\n",
      "No. clus:  1\n",
      "allen_b08 with 1999 HVGs\n",
      "WARNING:root:Selecting 1939 genes required 0.0% dataset threshold.\n"
     ]
    },
    {
     "name": "stderr",
     "output_type": "stream",
     "text": [
      "100%|█████████████████████████████████████████████████████████████████████████████████████████████████████| 2/2 [06:43<00:00, 201.94s/it]\n",
      "100%|█████████████████████████████████████████████████████████████████████████████████████████████████████| 2/2 [06:37<00:00, 198.68s/it]\n"
     ]
    },
    {
     "name": "stdout",
     "output_type": "stream",
     "text": [
      "mstep self.weights:  [0.58758085 0.41241915]\n",
      "Q Function:  -16848981.445012532\n",
      "\n"
     ]
    },
    {
     "name": "stderr",
     "output_type": "stream",
     "text": [
      "100%|█████████████████████████████████████████████████████████████████████████████████████████████████████| 2/2 [06:48<00:00, 204.09s/it]\n"
     ]
    },
    {
     "name": "stdout",
     "output_type": "stream",
     "text": [
      "mstep self.weights:  [0.57411265 0.42588735]\n",
      "Q Function:  -16748331.302208029\n",
      "\n"
     ]
    },
    {
     "name": "stderr",
     "output_type": "stream",
     "text": [
      "100%|█████████████████████████████████████████████████████████████████████████████████████████████████████| 2/2 [06:37<00:00, 198.92s/it]\n"
     ]
    },
    {
     "name": "stdout",
     "output_type": "stream",
     "text": [
      "mstep self.weights:  [0.53979438 0.46020562]\n",
      "Q Function:  -16832936.548565302\n",
      "\n"
     ]
    },
    {
     "name": "stderr",
     "output_type": "stream",
     "text": [
      "100%|█████████████████████████████████████████████████████████████████████████████████████████████████████| 2/2 [06:46<00:00, 203.12s/it]\n"
     ]
    },
    {
     "name": "stdout",
     "output_type": "stream",
     "text": [
      "mstep self.weights:  [0.4928991 0.5071009]\n",
      "Q Function:  -16969180.096340477\n",
      "\n"
     ]
    },
    {
     "name": "stderr",
     "output_type": "stream",
     "text": [
      "100%|█████████████████████████████████████████████████████████████████████████████████████████████████████| 2/2 [06:32<00:00, 196.47s/it]\n"
     ]
    },
    {
     "name": "stdout",
     "output_type": "stream",
     "text": [
      "mstep self.weights:  [0.46962879 0.53037121]\n",
      "Q Function:  -16580987.45843206\n",
      "\n"
     ]
    },
    {
     "name": "stderr",
     "output_type": "stream",
     "text": [
      "100%|█████████████████████████████████████████████████████████████████████████████████████████████████████| 2/2 [06:45<00:00, 202.79s/it]\n"
     ]
    },
    {
     "name": "stdout",
     "output_type": "stream",
     "text": [
      "mstep self.weights:  [0.49187592 0.50812408]\n",
      "Q Function:  -16670534.276618142\n",
      "\n"
     ]
    },
    {
     "name": "stderr",
     "output_type": "stream",
     "text": [
      "100%|█████████████████████████████████████████████████████████████████████████████████████████████████████| 2/2 [07:02<00:00, 211.01s/it]\n"
     ]
    },
    {
     "name": "stdout",
     "output_type": "stream",
     "text": [
      "mstep self.weights:  [0.50247174 0.49752826]\n",
      "Q Function:  -16580111.472101305\n",
      "\n"
     ]
    },
    {
     "name": "stderr",
     "output_type": "stream",
     "text": [
      "100%|█████████████████████████████████████████████████████████████████████████████████████████████████████| 2/2 [06:31<00:00, 195.86s/it]\n"
     ]
    },
    {
     "name": "stdout",
     "output_type": "stream",
     "text": [
      "mstep self.weights:  [0.49571117 0.50428883]\n",
      "Q Function:  -16556220.729873544\n",
      "\n"
     ]
    },
    {
     "name": "stderr",
     "output_type": "stream",
     "text": [
      "100%|█████████████████████████████████████████████████████████████████████████████████████████████████████| 2/2 [06:50<00:00, 205.42s/it]\n"
     ]
    },
    {
     "name": "stdout",
     "output_type": "stream",
     "text": [
      "mstep self.weights:  [0.48240933 0.51759067]\n",
      "Q Function:  -16644457.538084723\n",
      "\n"
     ]
    },
    {
     "name": "stderr",
     "output_type": "stream",
     "text": [
      "100%|█████████████████████████████████████████████████████████████████████████████████████████████████████| 2/2 [06:44<00:00, 202.42s/it]\n"
     ]
    },
    {
     "name": "stdout",
     "output_type": "stream",
     "text": [
      "mstep self.weights:  [0.46638552 0.53361448]\n",
      "Q Function:  -16616457.107164811\n",
      "\n",
      "No. clus:  2\n",
      "WARNING:root:Selecting 1939 genes required 0.0% dataset threshold.\n"
     ]
    },
    {
     "name": "stderr",
     "output_type": "stream",
     "text": [
      "100%|████████████████████████████████████████████████████████████████████████████████████████████████████| 10/10 [06:40<00:00, 40.04s/it]\n",
      "100%|████████████████████████████████████████████████████████████████████████████████████████████████████| 10/10 [05:55<00:00, 35.52s/it]\n"
     ]
    },
    {
     "name": "stdout",
     "output_type": "stream",
     "text": [
      "mstep self.weights:  [0.27911738 0.15978841 0.01932395 0.01771669 0.06980695 0.09904614\n",
      " 0.01484305 0.1388467  0.01099679 0.19051395]\n",
      "Q Function:  -17422260.916714177\n",
      "\n"
     ]
    },
    {
     "name": "stderr",
     "output_type": "stream",
     "text": [
      "100%|████████████████████████████████████████████████████████████████████████████████████████████████████| 10/10 [06:40<00:00, 40.00s/it]\n"
     ]
    },
    {
     "name": "stdout",
     "output_type": "stream",
     "text": [
      "mstep self.weights:  [0.36515528 0.07619734 0.01505708 0.01411902 0.05882726 0.10187037\n",
      " 0.01538607 0.11888436 0.00729988 0.22720333]\n",
      "Q Function:  -16964031.5154794\n",
      "\n"
     ]
    },
    {
     "name": "stderr",
     "output_type": "stream",
     "text": [
      "100%|████████████████████████████████████████████████████████████████████████████████████████████████████| 10/10 [06:00<00:00, 36.04s/it]\n"
     ]
    },
    {
     "name": "stdout",
     "output_type": "stream",
     "text": [
      "mstep self.weights:  [0.40606239 0.05168957 0.01684752 0.00963748 0.06342931 0.10688898\n",
      " 0.01257055 0.10125103 0.0040401  0.22758307]\n",
      "Q Function:  -17063304.385789227\n",
      "\n"
     ]
    },
    {
     "name": "stderr",
     "output_type": "stream",
     "text": [
      "100%|████████████████████████████████████████████████████████████████████████████████████████████████████| 10/10 [06:12<00:00, 37.24s/it]\n"
     ]
    },
    {
     "name": "stdout",
     "output_type": "stream",
     "text": [
      "mstep self.weights:  [4.21469888e-01 4.46707307e-02 1.20078418e-02 5.26963101e-03\n",
      " 6.10829071e-02 1.10486976e-01 1.25286689e-02 1.04707577e-01\n",
      " 2.93682736e-04 2.27482096e-01]\n",
      "Q Function:  -17015977.71371421\n",
      "\n"
     ]
    },
    {
     "name": "stderr",
     "output_type": "stream",
     "text": [
      "100%|██████████████████████████████████████████████████████████████████████████████████████████████████████| 9/9 [07:05<00:00, 47.26s/it]\n"
     ]
    },
    {
     "name": "stdout",
     "output_type": "stream",
     "text": [
      "mstep self.weights:  [4.56491165e-01 4.30421327e-02 7.56284445e-03 1.93152686e-03\n",
      " 4.00147082e-02 1.12843483e-01 9.78394020e-03 1.00155255e-01\n",
      " 1.75654312e-10 2.28174945e-01]\n",
      "Q Function:  -16784034.36228351\n",
      "\n"
     ]
    },
    {
     "name": "stderr",
     "output_type": "stream",
     "text": [
      "100%|██████████████████████████████████████████████████████████████████████████████████████████████████████| 8/8 [06:08<00:00, 46.10s/it]\n"
     ]
    },
    {
     "name": "stdout",
     "output_type": "stream",
     "text": [
      "mstep self.weights:  [4.71205596e-01 4.64155234e-02 7.12842878e-04 1.75654312e-10\n",
      " 2.76104786e-02 1.15613947e-01 6.99276509e-03 1.02746934e-01\n",
      " 1.75654312e-10 2.28701912e-01]\n",
      "Q Function:  -16923536.62457812\n",
      "\n"
     ]
    },
    {
     "name": "stderr",
     "output_type": "stream",
     "text": [
      "100%|██████████████████████████████████████████████████████████████████████████████████████████████████████| 7/7 [06:21<00:00, 54.55s/it]\n"
     ]
    },
    {
     "name": "stdout",
     "output_type": "stream",
     "text": [
      "mstep self.weights:  [5.06051110e-01 4.05194450e-02 1.75654312e-10 1.75654312e-10\n",
      " 2.74058324e-02 1.18916466e-01 4.04155503e-03 7.48906364e-02\n",
      " 1.75654312e-10 2.28174956e-01]\n",
      "Q Function:  -16836883.57440515\n",
      "\n"
     ]
    },
    {
     "name": "stderr",
     "output_type": "stream",
     "text": [
      "100%|██████████████████████████████████████████████████████████████████████████████████████████████████████| 7/7 [06:18<00:00, 54.05s/it]\n"
     ]
    },
    {
     "name": "stdout",
     "output_type": "stream",
     "text": [
      "mstep self.weights:  [4.96343283e-01 3.55178179e-02 1.75654312e-10 1.75654312e-10\n",
      " 3.45126229e-02 1.22958019e-01 1.22958036e-03 8.00701012e-02\n",
      " 1.75654312e-10 2.29368575e-01]\n",
      "Q Function:  -17025122.10758647\n",
      "\n"
     ]
    },
    {
     "name": "stderr",
     "output_type": "stream",
     "text": [
      "100%|██████████████████████████████████████████████████████████████████████████████████████████████████████| 6/6 [06:05<00:00, 60.91s/it]\n"
     ]
    },
    {
     "name": "stdout",
     "output_type": "stream",
     "text": [
      "mstep self.weights:  [5.06040387e-01 3.31986581e-02 1.75654312e-10 1.75654312e-10\n",
      " 3.32232484e-02 1.24890203e-01 1.75654312e-10 7.18377365e-02\n",
      " 1.75654312e-10 2.30809766e-01]\n",
      "Q Function:  -16742292.372015325\n",
      "\n"
     ]
    },
    {
     "name": "stderr",
     "output_type": "stream",
     "text": [
      "100%|██████████████████████████████████████████████████████████████████████████████████████████████████████| 6/6 [06:03<00:00, 60.63s/it]\n"
     ]
    },
    {
     "name": "stdout",
     "output_type": "stream",
     "text": [
      "mstep self.weights:  [5.17124123e-01 3.33732934e-02 1.75654312e-10 1.75654312e-10\n",
      " 2.65053692e-02 1.24238956e-01 1.75654312e-10 6.79484919e-02\n",
      " 1.75654312e-10 2.30809766e-01]\n",
      "Q Function:  -16715920.352036584\n",
      "\n",
      "No. clus:  6\n",
      "WARNING:root:Selecting 1939 genes required 0.0% dataset threshold.\n"
     ]
    },
    {
     "name": "stderr",
     "output_type": "stream",
     "text": [
      "100%|████████████████████████████████████████████████████████████████████████████████████████████████████| 15/15 [06:25<00:00, 25.72s/it]\n",
      "100%|████████████████████████████████████████████████████████████████████████████████████████████████████| 12/12 [06:13<00:00, 31.11s/it]\n"
     ]
    },
    {
     "name": "stdout",
     "output_type": "stream",
     "text": [
      "mstep self.weights:  [2.88927652e-02 1.48305744e-01 3.13815565e-02 1.75655150e-10\n",
      " 2.38311805e-01 1.38791937e-09 1.20321993e-02 2.98539039e-02\n",
      " 7.86908985e-02 5.16917604e-02 4.42245301e-03 1.01805099e-01\n",
      " 2.35289686e-01 3.93221271e-02 1.75657643e-10]\n",
      "Q Function:  -17662522.389090635\n",
      "\n"
     ]
    },
    {
     "name": "stderr",
     "output_type": "stream",
     "text": [
      "100%|████████████████████████████████████████████████████████████████████████████████████████████████████| 15/15 [05:53<00:00, 23.58s/it]\n"
     ]
    },
    {
     "name": "stdout",
     "output_type": "stream",
     "text": [
      "mstep self.weights:  [3.48804040e-03 2.14891833e-01 3.93503886e-02 1.24138743e-03\n",
      " 1.94429600e-01 7.02676899e-04 6.62639160e-03 2.78985250e-02\n",
      " 8.86984584e-02 2.64907520e-02 1.75654488e-04 4.81595649e-02\n",
      " 3.02353879e-01 4.51409523e-02 3.51896240e-04]\n",
      "Q Function:  -16862739.281622063\n",
      "\n"
     ]
    },
    {
     "name": "stderr",
     "output_type": "stream",
     "text": [
      "100%|████████████████████████████████████████████████████████████████████████████████████████████████████| 11/11 [05:56<00:00, 32.40s/it]\n"
     ]
    },
    {
     "name": "stdout",
     "output_type": "stream",
     "text": [
      "mstep self.weights:  [1.75654312e-10 2.96790984e-01 4.12787033e-02 7.02617423e-04\n",
      " 1.57390193e-01 1.75654312e-10 1.39108425e-03 2.70508244e-02\n",
      " 9.50982278e-02 9.61574841e-03 1.75654312e-10 3.49147461e-02\n",
      " 2.84110353e-01 5.16565183e-02 1.75654312e-10]\n",
      "Q Function:  -16955255.58538827\n",
      "\n"
     ]
    },
    {
     "name": "stderr",
     "output_type": "stream",
     "text": [
      "100%|██████████████████████████████████████████████████████████████████████████████████████████████████████| 9/9 [05:57<00:00, 39.72s/it]\n"
     ]
    },
    {
     "name": "stdout",
     "output_type": "stream",
     "text": [
      "mstep self.weights:  [1.75654312e-10 3.39059905e-01 4.30223782e-02 5.26963111e-04\n",
      " 1.26078876e-01 1.75654312e-10 1.75654312e-10 2.53071495e-02\n",
      " 1.07392645e-01 1.75654312e-10 1.75654312e-10 1.87591770e-02\n",
      " 2.86805302e-01 5.30476024e-02 1.75654312e-10]\n",
      "Q Function:  -16736252.383940084\n",
      "\n"
     ]
    },
    {
     "name": "stderr",
     "output_type": "stream",
     "text": [
      "100%|██████████████████████████████████████████████████████████████████████████████████████████████████████| 9/9 [05:57<00:00, 39.74s/it]\n"
     ]
    },
    {
     "name": "stdout",
     "output_type": "stream",
     "text": [
      "mstep self.weights:  [1.75654312e-10 3.63695048e-01 4.30353073e-02 1.75654488e-04\n",
      " 1.04459049e-01 1.75654312e-10 1.75654312e-10 2.52942203e-02\n",
      " 1.09126519e-01 1.75654312e-10 1.75654312e-10 2.73636130e-03\n",
      " 2.98430237e-01 5.30476024e-02 1.75654312e-10]\n",
      "Q Function:  -16831356.887202315\n",
      "\n"
     ]
    },
    {
     "name": "stderr",
     "output_type": "stream",
     "text": [
      "100%|██████████████████████████████████████████████████████████████████████████████████████████████████████| 7/7 [05:52<00:00, 50.43s/it]\n"
     ]
    },
    {
     "name": "stdout",
     "output_type": "stream",
     "text": [
      "mstep self.weights:  [1.75654312e-10 3.93547019e-01 4.30353073e-02 1.75654312e-10\n",
      " 6.83771972e-02 1.75654312e-10 1.75654312e-10 2.52942203e-02\n",
      " 1.22837616e-01 1.75654312e-10 1.75654312e-10 1.75654312e-10\n",
      " 2.93685383e-01 5.32232567e-02 1.75654312e-10]\n",
      "Q Function:  -16779744.92048256\n",
      "\n"
     ]
    },
    {
     "name": "stderr",
     "output_type": "stream",
     "text": [
      "100%|██████████████████████████████████████████████████████████████████████████████████████████████████████| 7/7 [05:51<00:00, 50.19s/it]\n"
     ]
    },
    {
     "name": "stdout",
     "output_type": "stream",
     "text": [
      "mstep self.weights:  [1.75654312e-10 4.34963438e-01 4.30352507e-02 1.75654312e-10\n",
      " 2.76000772e-02 1.75654312e-10 1.75654312e-10 2.52942203e-02\n",
      " 1.29073034e-01 1.75654312e-10 1.75654312e-10 1.75654312e-10\n",
      " 2.86810665e-01 5.32233133e-02 1.75654312e-10]\n",
      "Q Function:  -16662707.828506673\n",
      "\n"
     ]
    },
    {
     "name": "stderr",
     "output_type": "stream",
     "text": [
      "100%|██████████████████████████████████████████████████████████████████████████████████████████████████████| 7/7 [05:55<00:00, 50.84s/it]\n"
     ]
    },
    {
     "name": "stdout",
     "output_type": "stream",
     "text": [
      "mstep self.weights:  [1.75654312e-10 4.23224518e-01 4.30352507e-02 1.75654312e-10\n",
      " 8.24416460e-03 1.75654312e-10 1.75654312e-10 2.52942203e-02\n",
      " 1.66035518e-01 1.75654312e-10 1.75654312e-10 1.75654312e-10\n",
      " 2.80943014e-01 5.32233133e-02 1.75654312e-10]\n",
      "Q Function:  -16602771.73527511\n",
      "\n"
     ]
    },
    {
     "name": "stderr",
     "output_type": "stream",
     "text": [
      "100%|██████████████████████████████████████████████████████████████████████████████████████████████████████| 6/6 [05:49<00:00, 58.24s/it]\n"
     ]
    },
    {
     "name": "stdout",
     "output_type": "stream",
     "text": [
      "mstep self.weights:  [1.75654312e-10 3.48044110e-01 4.30352507e-02 1.75654312e-10\n",
      " 1.75654312e-10 1.75654312e-10 1.75654312e-10 2.52942203e-02\n",
      " 2.37086467e-01 1.75654312e-10 1.75654312e-10 1.75654312e-10\n",
      " 2.93316637e-01 5.32233133e-02 1.75654312e-10]\n",
      "Q Function:  -16894236.043320354\n",
      "\n"
     ]
    },
    {
     "name": "stderr",
     "output_type": "stream",
     "text": [
      "100%|██████████████████████████████████████████████████████████████████████████████████████████████████████| 6/6 [05:49<00:00, 58.28s/it]\n"
     ]
    },
    {
     "name": "stdout",
     "output_type": "stream",
     "text": [
      "mstep self.weights:  [1.75654312e-10 3.43960226e-01 4.30352507e-02 1.75654312e-10\n",
      " 1.75654312e-10 1.75654312e-10 1.75654312e-10 2.52942203e-02\n",
      " 2.46552594e-01 1.75654312e-10 1.75654312e-10 1.75654312e-10\n",
      " 2.87934394e-01 5.32233133e-02 1.75654312e-10]\n",
      "Q Function:  -16566909.958475193\n",
      "\n",
      "No. clus:  6\n",
      "WARNING:root:Selecting 1939 genes required 0.0% dataset threshold.\n"
     ]
    },
    {
     "name": "stderr",
     "output_type": "stream",
     "text": [
      "100%|████████████████████████████████████████████████████████████████████████████████████████████████████| 20/20 [06:12<00:00, 18.65s/it]\n",
      "100%|████████████████████████████████████████████████████████████████████████████████████████████████████| 19/19 [06:15<00:00, 19.76s/it]\n"
     ]
    },
    {
     "name": "stdout",
     "output_type": "stream",
     "text": [
      "mstep self.weights:  [1.75654487e-04 3.64588827e-04 3.75513171e-02 9.56997175e-02\n",
      " 5.01698631e-02 3.51506408e-03 6.34874536e-02 2.23142642e-01\n",
      " 2.03958099e-02 2.19000305e-03 1.75654312e-10 4.22539351e-02\n",
      " 1.85451293e-01 1.75666625e-04 3.66282239e-03 4.20344332e-03\n",
      " 1.86531031e-01 7.90478310e-02 3.51173863e-04 1.63068922e-03]\n",
      "Q Function:  -18165408.151052605\n",
      "\n"
     ]
    },
    {
     "name": "stderr",
     "output_type": "stream",
     "text": [
      "100%|██████████████████████████████████████████████████████████████████████████████████████████████████████| 9/9 [06:09<00:00, 41.05s/it]\n"
     ]
    },
    {
     "name": "stdout",
     "output_type": "stream",
     "text": [
      "mstep self.weights:  [1.75654312e-10 1.75654312e-10 1.75654312e-10 3.04744701e-02\n",
      " 8.84969768e-07 1.75654312e-10 4.51028620e-02 4.00982756e-01\n",
      " 4.62265140e-03 1.75654312e-10 1.75654312e-10 2.79083330e-02\n",
      " 3.01827280e-01 1.75654312e-10 1.75654312e-10 1.75654312e-10\n",
      " 1.05976379e-01 8.27530721e-02 1.75654312e-10 3.51308860e-04]\n",
      "Q Function:  -16911353.408656374\n",
      "\n"
     ]
    },
    {
     "name": "stderr",
     "output_type": "stream",
     "text": [
      "100%|██████████████████████████████████████████████████████████████████████████████████████████████████████| 8/8 [06:13<00:00, 46.70s/it]\n"
     ]
    },
    {
     "name": "stdout",
     "output_type": "stream",
     "text": [
      "mstep self.weights:  [1.75654312e-10 1.75654312e-10 1.75654312e-10 4.98229176e-04\n",
      " 1.75654312e-10 1.75654312e-10 5.39047651e-02 5.05314593e-01\n",
      " 1.75654312e-10 1.75654312e-10 7.02617422e-04 2.45907295e-02\n",
      " 2.88382503e-01 1.75654312e-10 1.75654312e-10 1.75654312e-10\n",
      " 5.46866476e-02 7.19199135e-02 1.75654312e-10 1.75654312e-10]\n",
      "Q Function:  -16800815.89679502\n",
      "\n"
     ]
    },
    {
     "name": "stderr",
     "output_type": "stream",
     "text": [
      "100%|██████████████████████████████████████████████████████████████████████████████████████████████████████| 6/6 [06:15<00:00, 62.52s/it]\n"
     ]
    },
    {
     "name": "stdout",
     "output_type": "stream",
     "text": [
      "mstep self.weights:  [1.75654312e-10 1.75654312e-10 1.75654312e-10 1.75654312e-10\n",
      " 1.75654312e-10 1.75654312e-10 6.90521799e-02 5.15444279e-01\n",
      " 1.75654312e-10 1.75654312e-10 1.75654312e-10 1.61666978e-02\n",
      " 2.99102781e-01 1.75654312e-10 1.75654312e-10 1.75654312e-10\n",
      " 4.72065945e-02 5.30274658e-02 1.75654312e-10 1.75654312e-10]\n",
      "Q Function:  -16652718.175685141\n",
      "\n"
     ]
    },
    {
     "name": "stderr",
     "output_type": "stream",
     "text": [
      "100%|██████████████████████████████████████████████████████████████████████████████████████████████████████| 6/6 [06:21<00:00, 63.64s/it]\n"
     ]
    },
    {
     "name": "stdout",
     "output_type": "stream",
     "text": [
      "mstep self.weights:  [1.75654312e-10 1.75654312e-10 1.75654312e-10 1.75654312e-10\n",
      " 1.75688206e-10 1.75654312e-10 8.25280660e-02 5.67649658e-01\n",
      " 1.75654312e-10 1.75654312e-10 1.75654312e-10 1.58153796e-02\n",
      " 2.62466249e-01 1.75654312e-10 1.75654312e-10 1.75654312e-10\n",
      " 3.23402728e-02 3.92003724e-02 1.75654312e-10 1.75654312e-10]\n",
      "Q Function:  -16618403.974223658\n",
      "\n"
     ]
    },
    {
     "name": "stderr",
     "output_type": "stream",
     "text": [
      "100%|██████████████████████████████████████████████████████████████████████████████████████████████████████| 6/6 [06:48<00:00, 68.14s/it]\n"
     ]
    },
    {
     "name": "stdout",
     "output_type": "stream",
     "text": [
      "mstep self.weights:  [1.75654312e-10 1.75654312e-10 1.75654312e-10 1.75654312e-10\n",
      " 1.75654312e-10 1.75654312e-10 9.51115409e-02 5.76606954e-01\n",
      " 1.75654312e-10 1.75654312e-10 1.75654312e-10 1.40481154e-02\n",
      " 2.59608502e-01 1.75654312e-10 1.75654312e-10 1.75654312e-10\n",
      " 2.76591410e-02 2.69657443e-02 1.75654312e-10 1.75654312e-10]\n",
      "Q Function:  -16815878.15222031\n",
      "\n"
     ]
    },
    {
     "name": "stderr",
     "output_type": "stream",
     "text": [
      "100%|██████████████████████████████████████████████████████████████████████████████████████████████████████| 6/6 [06:19<00:00, 63.24s/it]\n"
     ]
    },
    {
     "name": "stdout",
     "output_type": "stream",
     "text": [
      "mstep self.weights:  [1.75654312e-10 1.75654312e-10 1.75654312e-10 1.75654312e-10\n",
      " 1.75654312e-10 1.75654312e-10 9.99243146e-02 5.91478134e-01\n",
      " 1.75654312e-10 1.75654312e-10 1.75654312e-10 1.08413788e-02\n",
      " 2.55993509e-01 1.75654312e-10 1.75654312e-10 1.75654312e-10\n",
      " 1.97828835e-02 2.19797775e-02 1.75654312e-10 1.75654312e-10]\n",
      "Q Function:  -16690944.012261122\n",
      "\n"
     ]
    },
    {
     "name": "stderr",
     "output_type": "stream",
     "text": [
      "100%|██████████████████████████████████████████████████████████████████████████████████████████████████████| 6/6 [06:05<00:00, 60.88s/it]\n"
     ]
    },
    {
     "name": "stdout",
     "output_type": "stream",
     "text": [
      "mstep self.weights:  [1.75654312e-10 1.75654312e-10 1.75654312e-10 1.75654312e-10\n",
      " 1.75654312e-10 1.75654312e-10 1.11914470e-01 6.00870402e-01\n",
      " 1.75654312e-10 1.75654312e-10 1.75654312e-10 7.04485032e-03\n",
      " 2.58899052e-01 1.75654312e-10 1.75654312e-10 1.75654312e-10\n",
      " 1.11059460e-02 1.01652772e-02 1.75654312e-10 1.75654312e-10]\n",
      "Q Function:  -16588008.63923407\n",
      "\n"
     ]
    },
    {
     "name": "stderr",
     "output_type": "stream",
     "text": [
      "100%|██████████████████████████████████████████████████████████████████████████████████████████████████████| 5/5 [06:04<00:00, 73.00s/it]\n"
     ]
    },
    {
     "name": "stdout",
     "output_type": "stream",
     "text": [
      "mstep self.weights:  [1.75654312e-10 1.75654312e-10 1.75654312e-10 1.75654312e-10\n",
      " 1.75654312e-10 1.75654312e-10 1.22595513e-01 6.05140282e-01\n",
      " 1.75654312e-10 1.75654312e-10 1.75654312e-10 1.75654669e-03\n",
      " 2.64886872e-01 1.75654312e-10 1.75654312e-10 1.75654312e-10\n",
      " 5.62078376e-03 1.75654312e-10 1.75654312e-10 1.75654312e-10]\n",
      "Q Function:  -16736657.251045778\n",
      "\n"
     ]
    },
    {
     "name": "stderr",
     "output_type": "stream",
     "text": [
      "100%|██████████████████████████████████████████████████████████████████████████████████████████████████████| 4/4 [06:05<00:00, 91.43s/it]\n"
     ]
    },
    {
     "name": "stdout",
     "output_type": "stream",
     "text": [
      "mstep self.weights:  [1.75654312e-10 1.75654312e-10 1.75654312e-10 1.75654312e-10\n",
      " 1.75654312e-10 1.75654312e-10 1.22609540e-01 6.10395904e-01\n",
      " 1.75654312e-10 1.75654312e-10 1.75654312e-10 1.75654312e-10\n",
      " 2.65764975e-01 1.75654312e-10 1.75654312e-10 1.75654312e-10\n",
      " 1.22957846e-03 1.75654312e-10 1.75654312e-10 1.75654312e-10]\n",
      "Q Function:  -16624662.2734747\n",
      "\n",
      "No. clus:  4\n",
      "allen_b02h01 with 1000 HVGs\n",
      "WARNING:root:Selecting 940 genes required 0.0% dataset threshold.\n"
     ]
    },
    {
     "name": "stderr",
     "output_type": "stream",
     "text": [
      "100%|██████████████████████████████████████████████████████████████████████████████████████████████████████| 2/2 [01:24<00:00, 42.45s/it]\n",
      "100%|██████████████████████████████████████████████████████████████████████████████████████████████████████| 2/2 [01:11<00:00, 35.60s/it]\n"
     ]
    },
    {
     "name": "stdout",
     "output_type": "stream",
     "text": [
      "mstep self.weights:  [0.78195345 0.21804655]\n",
      "Q Function:  -8287406.02716716\n",
      "\n"
     ]
    },
    {
     "name": "stderr",
     "output_type": "stream",
     "text": [
      "100%|██████████████████████████████████████████████████████████████████████████████████████████████████████| 2/2 [01:11<00:00, 35.91s/it]\n"
     ]
    },
    {
     "name": "stdout",
     "output_type": "stream",
     "text": [
      "mstep self.weights:  [0.99649019 0.00350981]\n",
      "Q Function:  -8409012.793022813\n",
      "\n"
     ]
    },
    {
     "name": "stderr",
     "output_type": "stream",
     "text": [
      "100%|██████████████████████████████████████████████████████████████████████████████████████████████████████| 1/1 [01:11<00:00, 72.00s/it]\n"
     ]
    },
    {
     "name": "stdout",
     "output_type": "stream",
     "text": [
      "mstep self.weights:  [1.00000000e+00 6.55265055e-11]\n",
      "Q Function:  -8148825.847780921\n",
      "\n"
     ]
    },
    {
     "name": "stderr",
     "output_type": "stream",
     "text": [
      "100%|██████████████████████████████████████████████████████████████████████████████████████████████████████| 1/1 [01:11<00:00, 71.90s/it]\n"
     ]
    },
    {
     "name": "stdout",
     "output_type": "stream",
     "text": [
      "mstep self.weights:  [1.00000000e+00 6.55265055e-11]\n",
      "Q Function:  -8148889.998500094\n",
      "\n"
     ]
    },
    {
     "name": "stderr",
     "output_type": "stream",
     "text": [
      "100%|██████████████████████████████████████████████████████████████████████████████████████████████████████| 1/1 [01:11<00:00, 71.80s/it]\n"
     ]
    },
    {
     "name": "stdout",
     "output_type": "stream",
     "text": [
      "mstep self.weights:  [1.00000000e+00 6.55265055e-11]\n",
      "Q Function:  -8148889.998500094\n",
      "\n"
     ]
    },
    {
     "name": "stderr",
     "output_type": "stream",
     "text": [
      "100%|██████████████████████████████████████████████████████████████████████████████████████████████████████| 1/1 [01:12<00:00, 72.25s/it]\n"
     ]
    },
    {
     "name": "stdout",
     "output_type": "stream",
     "text": [
      "mstep self.weights:  [1.00000000e+00 6.55265055e-11]\n",
      "Q Function:  -8148889.998500094\n",
      "\n"
     ]
    },
    {
     "name": "stderr",
     "output_type": "stream",
     "text": [
      "100%|██████████████████████████████████████████████████████████████████████████████████████████████████████| 1/1 [01:11<00:00, 72.00s/it]\n"
     ]
    },
    {
     "name": "stdout",
     "output_type": "stream",
     "text": [
      "mstep self.weights:  [1.00000000e+00 6.55265055e-11]\n",
      "Q Function:  -8148889.998500094\n",
      "\n"
     ]
    },
    {
     "name": "stderr",
     "output_type": "stream",
     "text": [
      "100%|██████████████████████████████████████████████████████████████████████████████████████████████████████| 1/1 [01:24<00:00, 84.59s/it]\n"
     ]
    },
    {
     "name": "stdout",
     "output_type": "stream",
     "text": [
      "mstep self.weights:  [1.00000000e+00 6.55265055e-11]\n",
      "Q Function:  -8148889.998500094\n",
      "\n"
     ]
    },
    {
     "name": "stderr",
     "output_type": "stream",
     "text": [
      "100%|██████████████████████████████████████████████████████████████████████████████████████████████████████| 1/1 [01:18<00:00, 78.83s/it]\n"
     ]
    },
    {
     "name": "stdout",
     "output_type": "stream",
     "text": [
      "mstep self.weights:  [1.00000000e+00 6.55265055e-11]\n",
      "Q Function:  -8148889.998500094\n",
      "\n"
     ]
    },
    {
     "name": "stderr",
     "output_type": "stream",
     "text": [
      "100%|██████████████████████████████████████████████████████████████████████████████████████████████████████| 1/1 [01:11<00:00, 71.94s/it]\n"
     ]
    },
    {
     "name": "stdout",
     "output_type": "stream",
     "text": [
      "mstep self.weights:  [1.00000000e+00 6.55265055e-11]\n",
      "Q Function:  -8148889.998500094\n",
      "\n",
      "No. clus:  1\n",
      "WARNING:root:Selecting 940 genes required 0.0% dataset threshold.\n"
     ]
    },
    {
     "name": "stderr",
     "output_type": "stream",
     "text": [
      "100%|████████████████████████████████████████████████████████████████████████████████████████████████████| 11/11 [01:17<00:00,  7.08s/it]\n",
      "100%|████████████████████████████████████████████████████████████████████████████████████████████████████| 10/10 [01:18<00:00,  7.87s/it]\n"
     ]
    },
    {
     "name": "stdout",
     "output_type": "stream",
     "text": [
      "mstep self.weights:  [1.49663270e-02 3.38426467e-08 1.97194332e-01 3.68717598e-01\n",
      " 1.63790012e-01 6.22819121e-02 3.58873635e-02 6.47642218e-02\n",
      " 2.07696503e-04 2.88475082e-02 6.33429944e-02]\n",
      "Q Function:  -9665561.52705242\n",
      "\n"
     ]
    },
    {
     "name": "stderr",
     "output_type": "stream",
     "text": [
      "100%|████████████████████████████████████████████████████████████████████████████████████████████████████| 10/10 [01:17<00:00,  7.78s/it]\n"
     ]
    },
    {
     "name": "stdout",
     "output_type": "stream",
     "text": [
      "mstep self.weights:  [1.36550608e-02 3.25005638e-04 1.21195436e-01 4.70704956e-01\n",
      " 1.60863811e-01 5.96053623e-02 3.84102226e-02 5.02048662e-02\n",
      " 6.55265054e-11 2.35196883e-02 6.15155907e-02]\n",
      "Q Function:  -9144982.524949215\n",
      "\n"
     ]
    },
    {
     "name": "stderr",
     "output_type": "stream",
     "text": [
      "100%|██████████████████████████████████████████████████████████████████████████████████████████████████████| 9/9 [01:27<00:00,  9.73s/it]\n"
     ]
    },
    {
     "name": "stdout",
     "output_type": "stream",
     "text": [
      "mstep self.weights:  [1.93052398e-03 6.55265054e-11 4.24451263e-04 7.84032645e-01\n",
      " 2.04533187e-02 5.34284373e-02 3.15480561e-02 1.78370516e-02\n",
      " 6.55265054e-11 1.71580331e-02 7.31874826e-02]\n",
      "Q Function:  -8812481.352900814\n",
      "\n"
     ]
    },
    {
     "name": "stderr",
     "output_type": "stream",
     "text": [
      "100%|██████████████████████████████████████████████████████████████████████████████████████████████████████| 5/5 [01:23<00:00, 16.75s/it]\n"
     ]
    },
    {
     "name": "stdout",
     "output_type": "stream",
     "text": [
      "mstep self.weights:  [6.55265054e-11 6.55265054e-11 6.55265054e-11 8.36723175e-01\n",
      " 6.55265054e-11 2.63545246e-02 1.08086254e-02 6.55265168e-11\n",
      " 6.55265054e-11 5.26421933e-03 1.20849455e-01]\n",
      "Q Function:  -8462785.361502096\n",
      "\n"
     ]
    },
    {
     "name": "stderr",
     "output_type": "stream",
     "text": [
      "100%|██████████████████████████████████████████████████████████████████████████████████████████████████████| 4/4 [01:22<00:00, 20.55s/it]\n"
     ]
    },
    {
     "name": "stdout",
     "output_type": "stream",
     "text": [
      "mstep self.weights:  [6.55265054e-11 6.55265054e-11 6.55265054e-11 8.38945919e-01\n",
      " 6.55265054e-11 1.15158612e-03 3.12176255e-09 6.55265054e-11\n",
      " 6.55265054e-11 2.37335879e-03 1.57529133e-01]\n",
      "Q Function:  -8504593.47773325\n",
      "\n"
     ]
    },
    {
     "name": "stderr",
     "output_type": "stream",
     "text": [
      "100%|██████████████████████████████████████████████████████████████████████████████████████████████████████| 3/3 [01:13<00:00, 24.40s/it]\n"
     ]
    },
    {
     "name": "stdout",
     "output_type": "stream",
     "text": [
      "mstep self.weights:  [6.55265054e-11 6.55265054e-11 6.55265054e-11 8.42004226e-01\n",
      " 6.55265054e-11 2.54126669e-10 6.55265054e-11 6.55265054e-11\n",
      " 6.55265054e-11 8.02957135e-04 1.57192816e-01]\n",
      "Q Function:  -8200371.137565689\n",
      "\n"
     ]
    },
    {
     "name": "stderr",
     "output_type": "stream",
     "text": [
      "100%|██████████████████████████████████████████████████████████████████████████████████████████████████████| 2/2 [01:23<00:00, 41.62s/it]\n"
     ]
    },
    {
     "name": "stdout",
     "output_type": "stream",
     "text": [
      "mstep self.weights:  [6.55265054e-11 6.55265054e-11 6.55265054e-11 8.41819550e-01\n",
      " 6.55265054e-11 6.55265054e-11 6.55265054e-11 6.55265054e-11\n",
      " 6.55265054e-11 6.55265054e-11 1.58180450e-01]\n",
      "Q Function:  -8399783.180341754\n",
      "\n"
     ]
    },
    {
     "name": "stderr",
     "output_type": "stream",
     "text": [
      "100%|██████████████████████████████████████████████████████████████████████████████████████████████████████| 2/2 [01:12<00:00, 36.13s/it]\n"
     ]
    },
    {
     "name": "stdout",
     "output_type": "stream",
     "text": [
      "mstep self.weights:  [6.55265054e-11 6.55265054e-11 6.55265054e-11 8.42929029e-01\n",
      " 6.55265054e-11 6.55265054e-11 6.55265054e-11 6.55265054e-11\n",
      " 6.55265054e-11 6.55265054e-11 1.57070971e-01]\n",
      "Q Function:  -8201951.997123622\n",
      "\n"
     ]
    },
    {
     "name": "stderr",
     "output_type": "stream",
     "text": [
      "100%|██████████████████████████████████████████████████████████████████████████████████████████████████████| 2/2 [01:10<00:00, 35.47s/it]\n"
     ]
    },
    {
     "name": "stdout",
     "output_type": "stream",
     "text": [
      "mstep self.weights:  [6.55265054e-11 6.55265054e-11 6.55265054e-11 8.41875587e-01\n",
      " 6.55265054e-11 6.55265054e-11 6.55265054e-11 6.55265054e-11\n",
      " 6.55265054e-11 6.55265054e-11 1.58124412e-01]\n",
      "Q Function:  -8400684.908817656\n",
      "\n"
     ]
    },
    {
     "name": "stderr",
     "output_type": "stream",
     "text": [
      "100%|██████████████████████████████████████████████████████████████████████████████████████████████████████| 2/2 [01:11<00:00, 35.66s/it]\n"
     ]
    },
    {
     "name": "stdout",
     "output_type": "stream",
     "text": [
      "mstep self.weights:  [6.55265054e-11 6.55265054e-11 6.55265054e-11 8.42857041e-01\n",
      " 6.55265054e-11 6.55265054e-11 6.55265054e-11 6.55265054e-11\n",
      " 6.55265054e-11 6.55265054e-11 1.57142958e-01]\n",
      "Q Function:  -8200725.61771681\n",
      "\n",
      "No. clus:  2\n",
      "WARNING:root:Selecting 940 genes required 0.0% dataset threshold.\n"
     ]
    },
    {
     "name": "stderr",
     "output_type": "stream",
     "text": [
      "100%|████████████████████████████████████████████████████████████████████████████████████████████████████| 16/16 [01:25<00:00,  5.36s/it]\n",
      "100%|████████████████████████████████████████████████████████████████████████████████████████████████████| 10/10 [01:17<00:00,  7.79s/it]\n"
     ]
    },
    {
     "name": "stdout",
     "output_type": "stream",
     "text": [
      "mstep self.weights:  [3.89242509e-04 1.43748994e-04 1.35675098e-03 8.15082903e-01\n",
      " 2.21547113e-09 6.55268821e-11 3.92825930e-03 8.12591239e-02\n",
      " 3.00476920e-02 2.38581226e-02 4.24112635e-02 1.36678358e-10\n",
      " 1.52289024e-03 6.55273824e-11 1.25407873e-10 6.55265054e-11]\n",
      "Q Function:  -9863740.48853597\n",
      "\n"
     ]
    },
    {
     "name": "stderr",
     "output_type": "stream",
     "text": [
      "100%|██████████████████████████████████████████████████████████████████████████████████████████████████████| 4/4 [01:13<00:00, 18.33s/it]\n"
     ]
    },
    {
     "name": "stdout",
     "output_type": "stream",
     "text": [
      "mstep self.weights:  [6.55265054e-11 6.55265054e-11 6.55265054e-11 8.45517739e-01\n",
      " 6.55265054e-11 6.55265054e-11 5.59101876e-09 1.02611996e-01\n",
      " 8.42250114e-03 6.55265054e-11 4.34477570e-02 6.55265054e-11\n",
      " 6.55265054e-11 6.55265054e-11 6.55265054e-11 6.55265054e-11]\n",
      "Q Function:  -8463908.35879464\n",
      "\n"
     ]
    },
    {
     "name": "stderr",
     "output_type": "stream",
     "text": [
      "100%|██████████████████████████████████████████████████████████████████████████████████████████████████████| 4/4 [01:14<00:00, 18.54s/it]\n"
     ]
    },
    {
     "name": "stdout",
     "output_type": "stream",
     "text": [
      "mstep self.weights:  [6.55265054e-11 6.55265054e-11 6.55265054e-11 8.48234043e-01\n",
      " 6.55265054e-11 6.55265054e-11 6.55265077e-11 1.08945676e-01\n",
      " 6.64101405e-04 6.55265054e-11 4.21561791e-02 6.55265054e-11\n",
      " 6.55265054e-11 6.55265054e-11 6.55265054e-11 6.55265054e-11]\n",
      "Q Function:  -8419285.71120134\n",
      "\n"
     ]
    },
    {
     "name": "stderr",
     "output_type": "stream",
     "text": [
      "100%|██████████████████████████████████████████████████████████████████████████████████████████████████████| 3/3 [01:12<00:00, 24.11s/it]\n"
     ]
    },
    {
     "name": "stdout",
     "output_type": "stream",
     "text": [
      "mstep self.weights:  [6.55265054e-11 6.55265054e-11 6.55265054e-11 8.44804648e-01\n",
      " 6.55265054e-11 6.55265054e-11 6.55265058e-11 1.05042092e-01\n",
      " 6.55265054e-11 6.55265054e-11 5.01532595e-02 6.55265054e-11\n",
      " 6.55265054e-11 6.55265054e-11 6.55265054e-11 6.55265054e-11]\n",
      "Q Function:  -8486174.17191998\n",
      "\n"
     ]
    },
    {
     "name": "stderr",
     "output_type": "stream",
     "text": [
      "100%|██████████████████████████████████████████████████████████████████████████████████████████████████████| 3/3 [01:10<00:00, 23.66s/it]\n"
     ]
    },
    {
     "name": "stdout",
     "output_type": "stream",
     "text": [
      "mstep self.weights:  [6.55265054e-11 6.55265054e-11 6.55265054e-11 8.45209331e-01\n",
      " 6.55265803e-11 6.55265054e-11 6.55265054e-11 1.05477088e-01\n",
      " 6.55265054e-11 6.55265054e-11 4.93135797e-02 6.55265148e-11\n",
      " 6.55265054e-11 6.55265054e-11 6.55265054e-11 6.55265054e-11]\n",
      "Q Function:  -8541541.861378714\n",
      "\n"
     ]
    },
    {
     "name": "stderr",
     "output_type": "stream",
     "text": [
      "100%|██████████████████████████████████████████████████████████████████████████████████████████████████████| 3/3 [01:12<00:00, 24.03s/it]\n"
     ]
    },
    {
     "name": "stdout",
     "output_type": "stream",
     "text": [
      "mstep self.weights:  [6.55265054e-11 6.55265054e-11 6.55265054e-11 8.48803338e-01\n",
      " 6.55265054e-11 6.55265054e-11 6.55265054e-11 1.01267116e-01\n",
      " 6.55265054e-11 6.55265054e-11 4.99295451e-02 6.55265054e-11\n",
      " 6.55265054e-11 6.55265054e-11 6.55265054e-11 6.55265054e-11]\n",
      "Q Function:  -8438262.2950044\n",
      "\n"
     ]
    },
    {
     "name": "stderr",
     "output_type": "stream",
     "text": [
      "100%|██████████████████████████████████████████████████████████████████████████████████████████████████████| 3/3 [01:11<00:00, 23.98s/it]\n"
     ]
    },
    {
     "name": "stdout",
     "output_type": "stream",
     "text": [
      "mstep self.weights:  [6.55265054e-11 6.55265054e-11 6.55265054e-11 8.50336194e-01\n",
      " 6.55265056e-11 6.55265061e-11 6.55265054e-11 1.02962894e-01\n",
      " 6.55265054e-11 6.55265054e-11 4.67009109e-02 6.55265054e-11\n",
      " 6.55265054e-11 6.55265054e-11 6.55265513e-11 6.55265054e-11]\n",
      "Q Function:  -8359057.029782562\n",
      "\n"
     ]
    },
    {
     "name": "stderr",
     "output_type": "stream",
     "text": [
      "100%|██████████████████████████████████████████████████████████████████████████████████████████████████████| 3/3 [01:12<00:00, 24.05s/it]\n"
     ]
    },
    {
     "name": "stdout",
     "output_type": "stream",
     "text": [
      "mstep self.weights:  [6.55265054e-11 6.55265054e-11 6.55265054e-11 8.47285653e-01\n",
      " 6.55265054e-11 6.55265054e-11 6.55265412e-11 1.02497906e-01\n",
      " 6.55265054e-11 6.55265054e-11 5.02164400e-02 6.55265054e-11\n",
      " 6.55265054e-11 6.55265054e-11 6.55265054e-11 6.55265054e-11]\n",
      "Q Function:  -8627685.886608226\n",
      "\n"
     ]
    },
    {
     "name": "stderr",
     "output_type": "stream",
     "text": [
      "100%|██████████████████████████████████████████████████████████████████████████████████████████████████████| 3/3 [01:13<00:00, 24.48s/it]\n"
     ]
    },
    {
     "name": "stdout",
     "output_type": "stream",
     "text": [
      "mstep self.weights:  [6.55265054e-11 6.55265054e-11 6.55265054e-11 8.44388794e-01\n",
      " 6.55265054e-11 6.55265054e-11 6.55265054e-11 1.05621938e-01\n",
      " 6.55265054e-11 6.55265054e-11 4.99892677e-02 6.55265076e-11\n",
      " 6.55265054e-11 6.55265054e-11 6.55265054e-11 6.55265054e-11]\n",
      "Q Function:  -8439781.626911566\n",
      "\n"
     ]
    },
    {
     "name": "stderr",
     "output_type": "stream",
     "text": [
      "100%|██████████████████████████████████████████████████████████████████████████████████████████████████████| 3/3 [01:12<00:00, 24.16s/it]\n"
     ]
    },
    {
     "name": "stdout",
     "output_type": "stream",
     "text": [
      "mstep self.weights:  [6.55265054e-11 6.55265054e-11 6.55265054e-11 8.44305417e-01\n",
      " 6.55265068e-11 6.55265054e-11 6.55265054e-11 1.05178087e-01\n",
      " 6.55265054e-11 6.55265054e-11 5.05164947e-02 6.55265056e-11\n",
      " 6.55265054e-11 6.55265054e-11 6.55265054e-11 6.55265054e-11]\n",
      "Q Function:  -8451561.261070643\n",
      "\n",
      "No. clus:  3\n",
      "WARNING:root:Selecting 940 genes required 0.0% dataset threshold.\n"
     ]
    },
    {
     "name": "stderr",
     "output_type": "stream",
     "text": [
      "100%|████████████████████████████████████████████████████████████████████████████████████████████████████| 21/21 [01:20<00:00,  3.86s/it]\n",
      "100%|████████████████████████████████████████████████████████████████████████████████████████████████████| 10/10 [01:21<00:00,  8.10s/it]\n"
     ]
    },
    {
     "name": "stdout",
     "output_type": "stream",
     "text": [
      "mstep self.weights:  [6.76571292e-08 2.22328342e-04 2.32521496e-09 3.43413526e-01\n",
      " 3.09470093e-01 2.85299977e-09 1.09664606e-10 6.55670754e-11\n",
      " 6.60957051e-11 1.03844458e-02 6.55265054e-11 1.39252093e-04\n",
      " 6.55359421e-11 8.52295359e-02 2.18224754e-03 9.17747375e-04\n",
      " 6.55265054e-11 7.53682476e-05 2.47957266e-01 1.09298170e-07\n",
      " 8.00636436e-06]\n",
      "Q Function:  -10021934.06743293\n",
      "\n"
     ]
    },
    {
     "name": "stderr",
     "output_type": "stream",
     "text": [
      "100%|██████████████████████████████████████████████████████████████████████████████████████████████████████| 5/5 [01:15<00:00, 15.01s/it]\n"
     ]
    },
    {
     "name": "stdout",
     "output_type": "stream",
     "text": [
      "mstep self.weights:  [6.55265054e-11 6.55265054e-11 6.55265054e-11 1.98601516e-02\n",
      " 7.42789310e-01 6.55265054e-11 6.55265054e-11 6.55265054e-11\n",
      " 6.55265054e-11 6.55265054e-11 6.55265054e-11 6.55265054e-11\n",
      " 6.55265054e-11 3.78108499e-04 3.92990693e-04 6.55265054e-11\n",
      " 6.55265054e-11 6.55265054e-11 2.36579439e-01 6.55265054e-11\n",
      " 6.55265054e-11]\n",
      "Q Function:  -9119947.429158391\n",
      "\n"
     ]
    },
    {
     "name": "stderr",
     "output_type": "stream",
     "text": [
      "100%|██████████████████████████████████████████████████████████████████████████████████████████████████████| 2/2 [01:13<00:00, 36.56s/it]\n"
     ]
    },
    {
     "name": "stdout",
     "output_type": "stream",
     "text": [
      "mstep self.weights:  [6.55265054e-11 6.55265054e-11 6.55265054e-11 6.55265054e-11\n",
      " 7.84966076e-01 6.55265054e-11 6.55265054e-11 6.55265054e-11\n",
      " 6.55265054e-11 6.55265054e-11 6.55265054e-11 6.55265054e-11\n",
      " 6.55265054e-11 6.55265054e-11 6.55265054e-11 6.55265054e-11\n",
      " 6.55265054e-11 6.55265054e-11 2.15033923e-01 6.55265054e-11\n",
      " 6.55265054e-11]\n",
      "Q Function:  -8446175.230831861\n",
      "\n"
     ]
    },
    {
     "name": "stderr",
     "output_type": "stream",
     "text": [
      "100%|██████████████████████████████████████████████████████████████████████████████████████████████████████| 2/2 [01:24<00:00, 42.38s/it]\n"
     ]
    },
    {
     "name": "stdout",
     "output_type": "stream",
     "text": [
      "mstep self.weights:  [6.55265054e-11 6.55265054e-11 6.55265054e-11 6.55265054e-11\n",
      " 9.96597589e-01 6.55265054e-11 6.55265054e-11 6.55265054e-11\n",
      " 6.55265054e-11 6.55265054e-11 6.55265054e-11 6.55265054e-11\n",
      " 6.55265054e-11 6.55265054e-11 6.55265054e-11 6.55265054e-11\n",
      " 6.55265054e-11 6.55265054e-11 3.40240985e-03 6.55265054e-11\n",
      " 6.55265054e-11]\n",
      "Q Function:  -8302744.192192571\n",
      "\n"
     ]
    },
    {
     "name": "stderr",
     "output_type": "stream",
     "text": [
      "100%|██████████████████████████████████████████████████████████████████████████████████████████████████████| 1/1 [01:12<00:00, 72.38s/it]\n"
     ]
    },
    {
     "name": "stdout",
     "output_type": "stream",
     "text": [
      "mstep self.weights:  [6.55265054e-11 6.55265054e-11 6.55265054e-11 6.55265054e-11\n",
      " 9.99999999e-01 6.55265054e-11 6.55265054e-11 6.55265054e-11\n",
      " 6.55265054e-11 6.55265054e-11 6.55265054e-11 6.55265054e-11\n",
      " 6.55265054e-11 6.55265054e-11 6.55265054e-11 6.55265054e-11\n",
      " 6.55265054e-11 6.55265054e-11 6.55265054e-11 6.55265054e-11\n",
      " 6.55265054e-11]\n",
      "Q Function:  -8149179.6324444525\n",
      "\n"
     ]
    },
    {
     "name": "stderr",
     "output_type": "stream",
     "text": [
      "100%|██████████████████████████████████████████████████████████████████████████████████████████████████████| 1/1 [01:11<00:00, 71.98s/it]\n"
     ]
    },
    {
     "name": "stdout",
     "output_type": "stream",
     "text": [
      "mstep self.weights:  [6.55265054e-11 6.55265054e-11 6.55265054e-11 6.55265054e-11\n",
      " 9.99999999e-01 6.55265054e-11 6.55265054e-11 6.55265054e-11\n",
      " 6.55265054e-11 6.55265054e-11 6.55265054e-11 6.55265054e-11\n",
      " 6.55265054e-11 6.55265054e-11 6.55265054e-11 6.55265054e-11\n",
      " 6.55265054e-11 6.55265054e-11 6.55265054e-11 6.55265054e-11\n",
      " 6.55265054e-11]\n",
      "Q Function:  -8148889.998519093\n",
      "\n"
     ]
    },
    {
     "name": "stderr",
     "output_type": "stream",
     "text": [
      "100%|██████████████████████████████████████████████████████████████████████████████████████████████████████| 1/1 [01:14<00:00, 74.07s/it]\n"
     ]
    },
    {
     "name": "stdout",
     "output_type": "stream",
     "text": [
      "mstep self.weights:  [6.55265054e-11 6.55265054e-11 6.55265054e-11 6.55265054e-11\n",
      " 9.99999999e-01 6.55265054e-11 6.55265054e-11 6.55265054e-11\n",
      " 6.55265054e-11 6.55265054e-11 6.55265054e-11 6.55265054e-11\n",
      " 6.55265054e-11 6.55265054e-11 6.55265054e-11 6.55265054e-11\n",
      " 6.55265054e-11 6.55265054e-11 6.55265054e-11 6.55265054e-11\n",
      " 6.55265054e-11]\n",
      "Q Function:  -8148889.998519093\n",
      "\n"
     ]
    },
    {
     "name": "stderr",
     "output_type": "stream",
     "text": [
      "100%|██████████████████████████████████████████████████████████████████████████████████████████████████████| 1/1 [01:12<00:00, 72.26s/it]\n"
     ]
    },
    {
     "name": "stdout",
     "output_type": "stream",
     "text": [
      "mstep self.weights:  [6.55265054e-11 6.55265054e-11 6.55265054e-11 6.55265054e-11\n",
      " 9.99999999e-01 6.55265054e-11 6.55265054e-11 6.55265054e-11\n",
      " 6.55265054e-11 6.55265054e-11 6.55265054e-11 6.55265054e-11\n",
      " 6.55265054e-11 6.55265054e-11 6.55265054e-11 6.55265054e-11\n",
      " 6.55265054e-11 6.55265054e-11 6.55265054e-11 6.55265054e-11\n",
      " 6.55265054e-11]\n",
      "Q Function:  -8148889.998519093\n",
      "\n"
     ]
    },
    {
     "name": "stderr",
     "output_type": "stream",
     "text": [
      "100%|██████████████████████████████████████████████████████████████████████████████████████████████████████| 1/1 [01:13<00:00, 73.38s/it]\n"
     ]
    },
    {
     "name": "stdout",
     "output_type": "stream",
     "text": [
      "mstep self.weights:  [6.55265054e-11 6.55265054e-11 6.55265054e-11 6.55265054e-11\n",
      " 9.99999999e-01 6.55265054e-11 6.55265054e-11 6.55265054e-11\n",
      " 6.55265054e-11 6.55265054e-11 6.55265054e-11 6.55265054e-11\n",
      " 6.55265054e-11 6.55265054e-11 6.55265054e-11 6.55265054e-11\n",
      " 6.55265054e-11 6.55265054e-11 6.55265054e-11 6.55265054e-11\n",
      " 6.55265054e-11]\n",
      "Q Function:  -8148889.998519093\n",
      "\n"
     ]
    },
    {
     "name": "stderr",
     "output_type": "stream",
     "text": [
      "100%|██████████████████████████████████████████████████████████████████████████████████████████████████████| 1/1 [01:11<00:00, 71.93s/it]\n"
     ]
    },
    {
     "name": "stdout",
     "output_type": "stream",
     "text": [
      "mstep self.weights:  [6.55265054e-11 6.55265054e-11 6.55265054e-11 6.55265054e-11\n",
      " 9.99999999e-01 6.55265054e-11 6.55265054e-11 6.55265054e-11\n",
      " 6.55265054e-11 6.55265054e-11 6.55265054e-11 6.55265054e-11\n",
      " 6.55265054e-11 6.55265054e-11 6.55265054e-11 6.55265054e-11\n",
      " 6.55265054e-11 6.55265054e-11 6.55265054e-11 6.55265054e-11\n",
      " 6.55265054e-11]\n",
      "Q Function:  -8148889.998519093\n",
      "\n",
      "No. clus:  1\n",
      "allen_b08 with 3999 HVGs\n",
      "WARNING:root:Selecting 3939 genes required 0.0% dataset threshold.\n"
     ]
    },
    {
     "name": "stderr",
     "output_type": "stream",
     "text": [
      "100%|█████████████████████████████████████████████████████████████████████████████████████████████████████| 2/2 [22:16<00:00, 668.32s/it]\n",
      "100%|█████████████████████████████████████████████████████████████████████████████████████████████████████| 2/2 [20:19<00:00, 609.77s/it]\n"
     ]
    },
    {
     "name": "stdout",
     "output_type": "stream",
     "text": [
      "mstep self.weights:  [0.60720393 0.39279607]\n",
      "Q Function:  -31166691.73210463\n",
      "\n"
     ]
    },
    {
     "name": "stderr",
     "output_type": "stream",
     "text": [
      "100%|█████████████████████████████████████████████████████████████████████████████████████████████████████| 2/2 [19:59<00:00, 599.90s/it]\n"
     ]
    },
    {
     "name": "stdout",
     "output_type": "stream",
     "text": [
      "mstep self.weights:  [0.57152416 0.42847584]\n",
      "Q Function:  -31278504.275837436\n",
      "\n"
     ]
    },
    {
     "name": "stderr",
     "output_type": "stream",
     "text": [
      "100%|█████████████████████████████████████████████████████████████████████████████████████████████████████| 2/2 [21:48<00:00, 654.08s/it]\n"
     ]
    },
    {
     "name": "stdout",
     "output_type": "stream",
     "text": [
      "mstep self.weights:  [0.56662722 0.43337278]\n",
      "Q Function:  -31525640.77477923\n",
      "\n"
     ]
    },
    {
     "name": "stderr",
     "output_type": "stream",
     "text": [
      "100%|█████████████████████████████████████████████████████████████████████████████████████████████████████| 2/2 [21:31<00:00, 645.97s/it]\n"
     ]
    },
    {
     "name": "stdout",
     "output_type": "stream",
     "text": [
      "mstep self.weights:  [0.56925064 0.43074936]\n",
      "Q Function:  -31605893.74434609\n",
      "\n"
     ]
    },
    {
     "name": "stderr",
     "output_type": "stream",
     "text": [
      "100%|█████████████████████████████████████████████████████████████████████████████████████████████████████| 2/2 [22:01<00:00, 660.58s/it]\n"
     ]
    },
    {
     "name": "stdout",
     "output_type": "stream",
     "text": [
      "mstep self.weights:  [0.53321883 0.46678117]\n",
      "Q Function:  -31136769.744487673\n",
      "\n"
     ]
    },
    {
     "name": "stderr",
     "output_type": "stream",
     "text": [
      "100%|█████████████████████████████████████████████████████████████████████████████████████████████████████| 2/2 [20:58<00:00, 629.08s/it]\n"
     ]
    },
    {
     "name": "stdout",
     "output_type": "stream",
     "text": [
      "mstep self.weights:  [0.52447726 0.47552274]\n",
      "Q Function:  -30948432.3556141\n",
      "\n"
     ]
    },
    {
     "name": "stderr",
     "output_type": "stream",
     "text": [
      "100%|█████████████████████████████████████████████████████████████████████████████████████████████████████| 2/2 [19:45<00:00, 592.69s/it]\n"
     ]
    },
    {
     "name": "stdout",
     "output_type": "stream",
     "text": [
      "mstep self.weights:  [0.47426976 0.52573024]\n",
      "Q Function:  -31213466.418244317\n",
      "\n"
     ]
    },
    {
     "name": "stderr",
     "output_type": "stream",
     "text": [
      "100%|█████████████████████████████████████████████████████████████████████████████████████████████████████| 2/2 [19:42<00:00, 591.19s/it]\n"
     ]
    },
    {
     "name": "stdout",
     "output_type": "stream",
     "text": [
      "mstep self.weights:  [0.45862807 0.54137193]\n",
      "Q Function:  -31425986.431434873\n",
      "\n"
     ]
    },
    {
     "name": "stderr",
     "output_type": "stream",
     "text": [
      "100%|█████████████████████████████████████████████████████████████████████████████████████████████████████| 2/2 [21:47<00:00, 653.55s/it]\n"
     ]
    },
    {
     "name": "stdout",
     "output_type": "stream",
     "text": [
      "mstep self.weights:  [0.41816369 0.58183631]\n",
      "Q Function:  -31059760.44193283\n",
      "\n"
     ]
    },
    {
     "name": "stderr",
     "output_type": "stream",
     "text": [
      "100%|█████████████████████████████████████████████████████████████████████████████████████████████████████| 2/2 [19:58<00:00, 599.03s/it]\n"
     ]
    },
    {
     "name": "stdout",
     "output_type": "stream",
     "text": [
      "mstep self.weights:  [0.38051552 0.61948448]\n",
      "Q Function:  -30884856.6807984\n",
      "\n",
      "No. clus:  2\n",
      "WARNING:root:Selecting 3939 genes required 0.0% dataset threshold.\n"
     ]
    },
    {
     "name": "stderr",
     "output_type": "stream",
     "text": [
      "100%|███████████████████████████████████████████████████████████████████████████████████████████████████| 10/10 [20:54<00:00, 125.41s/it]\n",
      "100%|███████████████████████████████████████████████████████████████████████████████████████████████████| 10/10 [21:00<00:00, 126.08s/it]\n"
     ]
    },
    {
     "name": "stdout",
     "output_type": "stream",
     "text": [
      "mstep self.weights:  [4.87200655e-01 1.84036852e-01 1.32306158e-01 3.21357546e-03\n",
      " 5.36099780e-02 5.77156045e-02 3.50776930e-04 2.58185570e-02\n",
      " 5.47296875e-02 1.01815585e-03]\n",
      "Q Function:  -32770667.929889955\n",
      "\n"
     ]
    },
    {
     "name": "stderr",
     "output_type": "stream",
     "text": [
      "100%|█████████████████████████████████████████████████████████████████████████████████████████████████████| 6/6 [19:52<00:00, 198.70s/it]\n"
     ]
    },
    {
     "name": "stdout",
     "output_type": "stream",
     "text": [
      "mstep self.weights:  [5.68460218e-01 1.31329511e-01 1.46739153e-01 1.75654312e-10\n",
      " 4.95969378e-02 6.97292573e-02 1.75654312e-10 1.75654312e-10\n",
      " 3.41449215e-02 1.75654312e-10]\n",
      "Q Function:  -31505750.219399855\n",
      "\n"
     ]
    },
    {
     "name": "stderr",
     "output_type": "stream",
     "text": [
      "100%|█████████████████████████████████████████████████████████████████████████████████████████████████████| 6/6 [20:06<00:00, 201.00s/it]\n"
     ]
    },
    {
     "name": "stdout",
     "output_type": "stream",
     "text": [
      "mstep self.weights:  [6.61351911e-01 6.25718758e-02 1.31984566e-01 1.75654312e-10\n",
      " 4.64265891e-02 7.44238414e-02 1.75654312e-10 1.75654312e-10\n",
      " 2.32412161e-02 1.75654312e-10]\n",
      "Q Function:  -31461089.069535434\n",
      "\n"
     ]
    },
    {
     "name": "stderr",
     "output_type": "stream",
     "text": [
      "100%|█████████████████████████████████████████████████████████████████████████████████████████████████████| 6/6 [20:12<00:00, 202.05s/it]\n"
     ]
    },
    {
     "name": "stdout",
     "output_type": "stream",
     "text": [
      "mstep self.weights:  [7.77121837e-01 4.21568306e-03 9.65825815e-02 1.75654312e-10\n",
      " 4.54944981e-02 7.48278874e-02 1.75654312e-10 1.75654312e-10\n",
      " 1.75751197e-03 1.75654312e-10]\n",
      "Q Function:  -31490294.011708472\n",
      "\n"
     ]
    },
    {
     "name": "stderr",
     "output_type": "stream",
     "text": [
      "100%|█████████████████████████████████████████████████████████████████████████████████████████████████████| 4/4 [19:34<00:00, 293.74s/it]\n"
     ]
    },
    {
     "name": "stdout",
     "output_type": "stream",
     "text": [
      "mstep self.weights:  [8.35235708e-01 1.75654312e-10 4.72795554e-02 1.75654312e-10\n",
      " 4.54944699e-02 7.19902655e-02 1.75654312e-10 1.75654312e-10\n",
      " 1.75654312e-10 1.75654312e-10]\n",
      "Q Function:  -31248993.602827046\n",
      "\n"
     ]
    },
    {
     "name": "stderr",
     "output_type": "stream",
     "text": [
      "100%|█████████████████████████████████████████████████████████████████████████████████████████████████████| 4/4 [19:52<00:00, 298.16s/it]\n"
     ]
    },
    {
     "name": "stdout",
     "output_type": "stream",
     "text": [
      "mstep self.weights:  [8.91116442e-01 1.75654312e-10 1.22958098e-03 1.75654312e-10\n",
      " 3.89930197e-02 6.86609564e-02 1.75654312e-10 1.75654312e-10\n",
      " 1.75654312e-10 1.75654312e-10]\n",
      "Q Function:  -30550126.307025492\n",
      "\n"
     ]
    },
    {
     "name": "stderr",
     "output_type": "stream",
     "text": [
      "100%|█████████████████████████████████████████████████████████████████████████████████████████████████████| 3/3 [19:29<00:00, 389.98s/it]\n"
     ]
    },
    {
     "name": "stdout",
     "output_type": "stream",
     "text": [
      "mstep self.weights:  [8.92839589e-01 1.75654312e-10 1.75654312e-10 1.75654312e-10\n",
      " 3.84795740e-02 6.86808362e-02 1.75654312e-10 1.75654312e-10\n",
      " 1.75654312e-10 1.75654312e-10]\n",
      "Q Function:  -31097957.297182817\n",
      "\n"
     ]
    },
    {
     "name": "stderr",
     "output_type": "stream",
     "text": [
      "100%|█████████████████████████████████████████████████████████████████████████████████████████████████████| 3/3 [19:23<00:00, 387.68s/it]\n"
     ]
    },
    {
     "name": "stdout",
     "output_type": "stream",
     "text": [
      "mstep self.weights:  [9.07999934e-01 1.75654312e-10 1.75654312e-10 1.75654312e-10\n",
      " 3.05619542e-02 6.14381108e-02 1.75654312e-10 1.75654312e-10\n",
      " 1.75654312e-10 1.75654312e-10]\n",
      "Q Function:  -30902045.856411748\n",
      "\n"
     ]
    },
    {
     "name": "stderr",
     "output_type": "stream",
     "text": [
      "100%|█████████████████████████████████████████████████████████████████████████████████████████████████████| 3/3 [19:28<00:00, 389.55s/it]\n"
     ]
    },
    {
     "name": "stdout",
     "output_type": "stream",
     "text": [
      "mstep self.weights:  [9.09143159e-01 1.75654312e-10 1.75654312e-10 1.75654312e-10\n",
      " 2.75622883e-02 6.32945517e-02 1.75654312e-10 1.75654312e-10\n",
      " 1.75654312e-10 1.75654312e-10]\n",
      "Q Function:  -31013288.602397304\n",
      "\n"
     ]
    },
    {
     "name": "stderr",
     "output_type": "stream",
     "text": [
      "100%|█████████████████████████████████████████████████████████████████████████████████████████████████████| 3/3 [19:26<00:00, 388.86s/it]\n"
     ]
    },
    {
     "name": "stdout",
     "output_type": "stream",
     "text": [
      "mstep self.weights:  [9.11631936e-01 1.75654312e-10 1.75654312e-10 1.75654312e-10\n",
      " 2.46038692e-02 6.37641940e-02 1.75654312e-10 1.75654312e-10\n",
      " 1.75654312e-10 1.75654312e-10]\n",
      "Q Function:  -31322546.1323607\n",
      "\n",
      "No. clus:  3\n",
      "WARNING:root:Selecting 3939 genes required 0.0% dataset threshold.\n"
     ]
    },
    {
     "name": "stderr",
     "output_type": "stream",
     "text": [
      "100%|████████████████████████████████████████████████████████████████████████████████████████████████████| 15/15 [20:50<00:00, 83.35s/it]\n",
      "100%|████████████████████████████████████████████████████████████████████████████████████████████████████| 13/13 [21:05<00:00, 97.35s/it]\n"
     ]
    },
    {
     "name": "stdout",
     "output_type": "stream",
     "text": [
      "mstep self.weights:  [3.86208375e-02 5.26791113e-04 6.26398086e-02 1.10271718e-01\n",
      " 6.94010628e-02 5.89266356e-03 3.51308789e-04 5.23373537e-02\n",
      " 1.28828151e-01 5.03681768e-01 6.76321973e-03 1.83172724e-10\n",
      " 2.01586287e-02 1.75654312e-10 5.26688828e-04]\n",
      "Q Function:  -33466234.50026992\n",
      "\n"
     ]
    },
    {
     "name": "stderr",
     "output_type": "stream",
     "text": [
      "100%|█████████████████████████████████████████████████████████████████████████████████████████████████████| 5/5 [22:05<00:00, 265.10s/it]\n"
     ]
    },
    {
     "name": "stdout",
     "output_type": "stream",
     "text": [
      "mstep self.weights:  [1.75654312e-10 1.75654312e-10 3.04810810e-03 1.54654438e-01\n",
      " 5.63237432e-03 1.75654312e-10 1.75654312e-10 1.75654312e-10\n",
      " 3.56091506e-02 8.01055928e-01 1.75654312e-10 1.75654312e-10\n",
      " 1.75654312e-10 1.75654312e-10 1.75654312e-10]\n",
      "Q Function:  -31116686.384130977\n",
      "\n"
     ]
    },
    {
     "name": "stderr",
     "output_type": "stream",
     "text": [
      "100%|█████████████████████████████████████████████████████████████████████████████████████████████████████| 2/2 [19:15<00:00, 577.96s/it]\n"
     ]
    },
    {
     "name": "stdout",
     "output_type": "stream",
     "text": [
      "mstep self.weights:  [1.75654312e-10 1.75654312e-10 1.75654312e-10 1.47621995e-01\n",
      " 1.75654312e-10 1.75654312e-10 1.75654312e-10 1.75654312e-10\n",
      " 1.75654312e-10 8.52378003e-01 1.75654312e-10 1.75654312e-10\n",
      " 1.75654312e-10 1.75654312e-10 1.75654312e-10]\n",
      "Q Function:  -31229029.55126602\n",
      "\n"
     ]
    },
    {
     "name": "stderr",
     "output_type": "stream",
     "text": [
      "100%|█████████████████████████████████████████████████████████████████████████████████████████████████████| 2/2 [22:15<00:00, 667.91s/it]\n"
     ]
    },
    {
     "name": "stdout",
     "output_type": "stream",
     "text": [
      "mstep self.weights:  [1.75654312e-10 1.75654312e-10 1.75654312e-10 1.40231918e-01\n",
      " 1.75654312e-10 1.75654312e-10 1.75654312e-10 1.75654312e-10\n",
      " 1.75654312e-10 8.59768080e-01 1.75654312e-10 1.75654312e-10\n",
      " 1.75654312e-10 1.75654312e-10 1.75654312e-10]\n",
      "Q Function:  -30610446.923974022\n",
      "\n"
     ]
    },
    {
     "name": "stderr",
     "output_type": "stream",
     "text": [
      "100%|█████████████████████████████████████████████████████████████████████████████████████████████████████| 2/2 [19:06<00:00, 573.24s/it]\n"
     ]
    },
    {
     "name": "stdout",
     "output_type": "stream",
     "text": [
      "mstep self.weights:  [1.75654312e-10 1.75654312e-10 1.75654312e-10 1.24890179e-01\n",
      " 1.75654312e-10 1.75654312e-10 1.75654312e-10 1.75654312e-10\n",
      " 1.75654312e-10 8.75109819e-01 1.75654312e-10 1.75654312e-10\n",
      " 1.75654312e-10 1.75654312e-10 1.75654312e-10]\n",
      "Q Function:  -31123383.510423712\n",
      "\n"
     ]
    },
    {
     "name": "stderr",
     "output_type": "stream",
     "text": [
      "100%|█████████████████████████████████████████████████████████████████████████████████████████████████████| 2/2 [22:01<00:00, 660.63s/it]\n"
     ]
    },
    {
     "name": "stdout",
     "output_type": "stream",
     "text": [
      "mstep self.weights:  [1.75654312e-10 1.75654312e-10 1.75654312e-10 1.21738045e-01\n",
      " 1.75654312e-10 1.75654312e-10 1.75654312e-10 1.75654312e-10\n",
      " 1.75654312e-10 8.78261953e-01 1.75654312e-10 1.75654312e-10\n",
      " 1.75654312e-10 1.75654312e-10 1.75654312e-10]\n",
      "Q Function:  -31155894.15829122\n",
      "\n"
     ]
    },
    {
     "name": "stderr",
     "output_type": "stream",
     "text": [
      "100%|█████████████████████████████████████████████████████████████████████████████████████████████████████| 2/2 [21:19<00:00, 639.66s/it]\n"
     ]
    },
    {
     "name": "stdout",
     "output_type": "stream",
     "text": [
      "mstep self.weights:  [1.75654312e-10 1.75654312e-10 1.75654312e-10 1.21549899e-01\n",
      " 1.75654312e-10 1.75654312e-10 1.75654312e-10 1.75654312e-10\n",
      " 1.75654312e-10 8.78450098e-01 1.75654312e-10 1.75654312e-10\n",
      " 1.75654312e-10 1.75654312e-10 1.75654312e-10]\n",
      "Q Function:  -31081703.077723898\n",
      "\n"
     ]
    },
    {
     "name": "stderr",
     "output_type": "stream",
     "text": [
      "100%|█████████████████████████████████████████████████████████████████████████████████████████████████████| 2/2 [21:08<00:00, 634.27s/it]\n"
     ]
    },
    {
     "name": "stdout",
     "output_type": "stream",
     "text": [
      "mstep self.weights:  [1.75654312e-10 1.75654312e-10 1.75654312e-10 1.21377129e-01\n",
      " 1.75654312e-10 1.75654312e-10 1.75654312e-10 1.75654312e-10\n",
      " 1.75654312e-10 8.78622869e-01 1.75654312e-10 1.75654312e-10\n",
      " 1.75654312e-10 1.75654312e-10 1.75654312e-10]\n",
      "Q Function:  -31040133.193066098\n",
      "\n"
     ]
    },
    {
     "name": "stderr",
     "output_type": "stream",
     "text": [
      "100%|█████████████████████████████████████████████████████████████████████████████████████████████████████| 2/2 [21:09<00:00, 634.73s/it]\n"
     ]
    },
    {
     "name": "stdout",
     "output_type": "stream",
     "text": [
      "mstep self.weights:  [1.75654312e-10 1.75654312e-10 1.75654312e-10 1.21377130e-01\n",
      " 1.75654312e-10 1.75654312e-10 1.75654312e-10 1.75654312e-10\n",
      " 1.75654312e-10 8.78622868e-01 1.75654312e-10 1.75654312e-10\n",
      " 1.75654312e-10 1.75654312e-10 1.75654312e-10]\n",
      "Q Function:  -30985917.19786145\n",
      "\n"
     ]
    },
    {
     "name": "stderr",
     "output_type": "stream",
     "text": [
      "100%|█████████████████████████████████████████████████████████████████████████████████████████████████████| 2/2 [22:03<00:00, 661.84s/it]\n"
     ]
    },
    {
     "name": "stdout",
     "output_type": "stream",
     "text": [
      "mstep self.weights:  [1.75654312e-10 1.75654312e-10 1.75654312e-10 1.21377130e-01\n",
      " 1.75654312e-10 1.75654312e-10 1.75654312e-10 1.75654312e-10\n",
      " 1.75654312e-10 8.78622868e-01 1.75654312e-10 1.75654312e-10\n",
      " 1.75654312e-10 1.75654312e-10 1.75654312e-10]\n",
      "Q Function:  -30985917.197861448\n",
      "\n",
      "No. clus:  2\n",
      "WARNING:root:Selecting 3939 genes required 0.0% dataset threshold.\n"
     ]
    },
    {
     "name": "stderr",
     "output_type": "stream",
     "text": [
      "100%|████████████████████████████████████████████████████████████████████████████████████████████████████| 20/20 [20:56<00:00, 62.84s/it]\n",
      "100%|████████████████████████████████████████████████████████████████████████████████████████████████████| 19/19 [21:53<00:00, 69.15s/it]\n"
     ]
    },
    {
     "name": "stdout",
     "output_type": "stream",
     "text": [
      "mstep self.weights:  [1.89562762e-02 1.43039618e-03 1.89573158e-10 2.26799061e-03\n",
      " 8.79997499e-04 1.22958067e-03 1.74454685e-04 3.47450732e-01\n",
      " 1.30492794e-02 1.75654457e-04 1.20195483e-02 1.77622187e-04\n",
      " 1.23836420e-02 8.98707447e-02 3.58348718e-02 1.75654177e-04\n",
      " 1.24686965e-02 4.26093356e-01 3.14698084e-03 2.22145222e-02]\n",
      "Q Function:  -34211166.04962201\n",
      "\n"
     ]
    },
    {
     "name": "stderr",
     "output_type": "stream",
     "text": [
      "100%|█████████████████████████████████████████████████████████████████████████████████████████████████████| 7/7 [20:48<00:00, 178.39s/it]\n"
     ]
    },
    {
     "name": "stdout",
     "output_type": "stream",
     "text": [
      "mstep self.weights:  [1.07848584e-02 1.75654312e-10 1.75654312e-10 1.75654312e-10\n",
      " 1.75654312e-10 1.75654312e-10 1.75654312e-10 3.86702090e-01\n",
      " 1.75654312e-10 1.75654312e-10 1.75654487e-04 1.75654312e-10\n",
      " 1.75654312e-10 3.48921289e-04 2.83723479e-02 1.75654312e-10\n",
      " 3.50787308e-03 5.70108252e-01 1.75654312e-10 1.75654312e-10]\n",
      "Q Function:  -31552397.463259082\n",
      "\n"
     ]
    },
    {
     "name": "stderr",
     "output_type": "stream",
     "text": [
      "100%|█████████████████████████████████████████████████████████████████████████████████████████████████████| 4/4 [20:45<00:00, 311.33s/it]\n"
     ]
    },
    {
     "name": "stdout",
     "output_type": "stream",
     "text": [
      "mstep self.weights:  [6.93992020e-03 1.75654312e-10 1.75654312e-10 1.75654312e-10\n",
      " 1.75654312e-10 1.75654312e-10 1.75654312e-10 3.45070299e-01\n",
      " 1.75654312e-10 1.75654312e-10 1.75654312e-10 1.75654312e-10\n",
      " 1.75654312e-10 1.75654312e-10 1.68607289e-02 1.75654312e-10\n",
      " 1.75654312e-10 6.31129049e-01 1.75654312e-10 1.75654312e-10]\n",
      "Q Function:  -31384571.687405776\n",
      "\n"
     ]
    },
    {
     "name": "stderr",
     "output_type": "stream",
     "text": [
      "100%|█████████████████████████████████████████████████████████████████████████████████████████████████████| 4/4 [21:07<00:00, 316.90s/it]\n"
     ]
    },
    {
     "name": "stdout",
     "output_type": "stream",
     "text": [
      "mstep self.weights:  [6.72165712e-04 1.75654312e-10 1.75654312e-10 1.75654312e-10\n",
      " 1.75654312e-10 1.75654312e-10 1.75654312e-10 3.36113892e-01\n",
      " 1.75654312e-10 1.75654312e-10 1.75654312e-10 1.75654312e-10\n",
      " 1.75654312e-10 1.75654312e-10 6.72440432e-03 1.75654312e-10\n",
      " 1.75654312e-10 6.56489535e-01 1.75654312e-10 1.75654312e-10]\n",
      "Q Function:  -30839303.465200737\n",
      "\n"
     ]
    },
    {
     "name": "stderr",
     "output_type": "stream",
     "text": [
      "100%|█████████████████████████████████████████████████████████████████████████████████████████████████████| 3/3 [20:19<00:00, 406.53s/it]\n"
     ]
    },
    {
     "name": "stdout",
     "output_type": "stream",
     "text": [
      "mstep self.weights:  [1.75654312e-10 1.75654312e-10 1.75654312e-10 1.75654312e-10\n",
      " 1.75654312e-10 1.75654312e-10 1.75654312e-10 3.57970471e-01\n",
      " 1.75654312e-10 1.75654312e-10 1.75654312e-10 1.75654312e-10\n",
      " 1.75654312e-10 1.75654312e-10 1.05440059e-03 1.75654312e-10\n",
      " 1.75654312e-10 6.40975125e-01 1.75654312e-10 1.75654312e-10]\n",
      "Q Function:  -31153141.0082509\n",
      "\n"
     ]
    },
    {
     "name": "stderr",
     "output_type": "stream",
     "text": [
      "100%|█████████████████████████████████████████████████████████████████████████████████████████████████████| 2/2 [20:22<00:00, 611.30s/it]\n"
     ]
    },
    {
     "name": "stdout",
     "output_type": "stream",
     "text": [
      "mstep self.weights:  [1.75654312e-10 1.75654312e-10 1.75654312e-10 1.75654312e-10\n",
      " 1.75654312e-10 1.75654312e-10 1.75654312e-10 2.70304457e-01\n",
      " 1.75654312e-10 1.75654312e-10 1.75654312e-10 1.75654312e-10\n",
      " 1.75654312e-10 1.75654312e-10 1.75654312e-10 1.75654312e-10\n",
      " 1.75654312e-10 7.29695540e-01 1.75654312e-10 1.75654312e-10]\n",
      "Q Function:  -30641345.631046068\n",
      "\n"
     ]
    },
    {
     "name": "stderr",
     "output_type": "stream",
     "text": [
      "100%|█████████████████████████████████████████████████████████████████████████████████████████████████████| 2/2 [20:11<00:00, 605.60s/it]\n"
     ]
    },
    {
     "name": "stdout",
     "output_type": "stream",
     "text": [
      "mstep self.weights:  [1.75654312e-10 1.75654312e-10 1.75654312e-10 1.75654312e-10\n",
      " 1.75654312e-10 1.75654312e-10 1.75654312e-10 2.29151349e-01\n",
      " 1.75654312e-10 1.75654312e-10 1.75654312e-10 1.75654312e-10\n",
      " 1.75654312e-10 1.75654312e-10 1.75654312e-10 1.75654312e-10\n",
      " 1.75654312e-10 7.70848648e-01 1.75654312e-10 1.75654312e-10]\n",
      "Q Function:  -30976296.611549772\n",
      "\n"
     ]
    },
    {
     "name": "stderr",
     "output_type": "stream",
     "text": [
      "  0%|                                                                                                              | 0/2 [15:17<?, ?it/s]"
     ]
    },
    {
     "name": "stdout",
     "output_type": "stream",
     "text": [
      "WARNING:root:The M step has been manually terminated.\n"
     ]
    },
    {
     "name": "stderr",
     "output_type": "stream",
     "text": [
      "Process ForkPoolWorker-14463:\n",
      "Traceback (most recent call last):\n",
      "  File \"/home/tchari/miniconda3/envs/py37/lib/python3.7/multiprocessing/process.py\", line 297, in _bootstrap\n",
      "    self.run()\n",
      "  File \"/home/tchari/miniconda3/envs/py37/lib/python3.7/multiprocessing/process.py\", line 99, in run\n",
      "    self._target(*self._args, **self._kwargs)\n",
      "  File \"/home/tchari/miniconda3/envs/py37/lib/python3.7/multiprocessing/pool.py\", line 110, in worker\n",
      "    task = get()\n",
      "  File \"/home/tchari/miniconda3/envs/py37/lib/python3.7/multiprocessing/queues.py\", line 351, in get\n",
      "    with self._rlock:\n",
      "  File \"/home/tchari/miniconda3/envs/py37/lib/python3.7/multiprocessing/synchronize.py\", line 95, in __enter__\n",
      "    return self._semlock.__enter__()\n",
      "KeyboardInterrupt\n",
      "Process ForkPoolWorker-14457:\n",
      "Traceback (most recent call last):\n",
      "  File \"/home/tchari/miniconda3/envs/py37/lib/python3.7/multiprocessing/process.py\", line 297, in _bootstrap\n",
      "    self.run()\n",
      "  File \"/home/tchari/miniconda3/envs/py37/lib/python3.7/multiprocessing/process.py\", line 99, in run\n",
      "    self._target(*self._args, **self._kwargs)\n",
      "  File \"/home/tchari/miniconda3/envs/py37/lib/python3.7/multiprocessing/pool.py\", line 110, in worker\n",
      "    task = get()\n",
      "  File \"/home/tchari/miniconda3/envs/py37/lib/python3.7/multiprocessing/queues.py\", line 351, in get\n",
      "    with self._rlock:\n",
      "  File \"/home/tchari/miniconda3/envs/py37/lib/python3.7/multiprocessing/synchronize.py\", line 95, in __enter__\n",
      "    return self._semlock.__enter__()\n",
      "KeyboardInterrupt\n",
      "Process ForkPoolWorker-14471:\n",
      "Traceback (most recent call last):\n",
      "  File \"/home/tchari/miniconda3/envs/py37/lib/python3.7/multiprocessing/process.py\", line 297, in _bootstrap\n",
      "    self.run()\n",
      "  File \"/home/tchari/miniconda3/envs/py37/lib/python3.7/multiprocessing/process.py\", line 99, in run\n",
      "    self._target(*self._args, **self._kwargs)\n",
      "  File \"/home/tchari/miniconda3/envs/py37/lib/python3.7/multiprocessing/pool.py\", line 110, in worker\n",
      "    task = get()\n",
      "  File \"/home/tchari/miniconda3/envs/py37/lib/python3.7/multiprocessing/queues.py\", line 351, in get\n",
      "    with self._rlock:\n",
      "  File \"/home/tchari/miniconda3/envs/py37/lib/python3.7/multiprocessing/synchronize.py\", line 95, in __enter__\n",
      "    return self._semlock.__enter__()\n",
      "KeyboardInterrupt\n",
      "Process ForkPoolWorker-14473:\n",
      "Traceback (most recent call last):\n",
      "  File \"/home/tchari/miniconda3/envs/py37/lib/python3.7/multiprocessing/process.py\", line 297, in _bootstrap\n",
      "    self.run()\n",
      "  File \"/home/tchari/miniconda3/envs/py37/lib/python3.7/multiprocessing/process.py\", line 99, in run\n",
      "    self._target(*self._args, **self._kwargs)\n",
      "  File \"/home/tchari/miniconda3/envs/py37/lib/python3.7/multiprocessing/pool.py\", line 110, in worker\n",
      "    task = get()\n",
      "  File \"/home/tchari/miniconda3/envs/py37/lib/python3.7/multiprocessing/queues.py\", line 351, in get\n",
      "    with self._rlock:\n",
      "  File \"/home/tchari/miniconda3/envs/py37/lib/python3.7/multiprocessing/synchronize.py\", line 95, in __enter__\n",
      "    return self._semlock.__enter__()\n",
      "KeyboardInterrupt\n",
      "Process ForkPoolWorker-14452:\n",
      "Traceback (most recent call last):\n",
      "  File \"/home/tchari/miniconda3/envs/py37/lib/python3.7/multiprocessing/process.py\", line 297, in _bootstrap\n",
      "    self.run()\n",
      "  File \"/home/tchari/miniconda3/envs/py37/lib/python3.7/multiprocessing/process.py\", line 99, in run\n",
      "    self._target(*self._args, **self._kwargs)\n",
      "  File \"/home/tchari/miniconda3/envs/py37/lib/python3.7/multiprocessing/pool.py\", line 110, in worker\n",
      "    task = get()\n",
      "  File \"/home/tchari/miniconda3/envs/py37/lib/python3.7/multiprocessing/queues.py\", line 351, in get\n",
      "    with self._rlock:\n",
      "  File \"/home/tchari/miniconda3/envs/py37/lib/python3.7/multiprocessing/synchronize.py\", line 95, in __enter__\n",
      "    return self._semlock.__enter__()\n",
      "KeyboardInterrupt\n",
      "Process ForkPoolWorker-14472:\n",
      "Traceback (most recent call last):\n",
      "  File \"/home/tchari/miniconda3/envs/py37/lib/python3.7/multiprocessing/process.py\", line 297, in _bootstrap\n",
      "    self.run()\n",
      "  File \"/home/tchari/miniconda3/envs/py37/lib/python3.7/multiprocessing/process.py\", line 99, in run\n",
      "    self._target(*self._args, **self._kwargs)\n",
      "  File \"/home/tchari/miniconda3/envs/py37/lib/python3.7/multiprocessing/pool.py\", line 110, in worker\n",
      "    task = get()\n",
      "  File \"/home/tchari/miniconda3/envs/py37/lib/python3.7/multiprocessing/queues.py\", line 351, in get\n",
      "    with self._rlock:\n",
      "  File \"/home/tchari/miniconda3/envs/py37/lib/python3.7/multiprocessing/synchronize.py\", line 95, in __enter__\n",
      "    return self._semlock.__enter__()\n",
      "KeyboardInterrupt\n",
      "Process ForkPoolWorker-14451:\n",
      "Traceback (most recent call last):\n",
      "  File \"/home/tchari/miniconda3/envs/py37/lib/python3.7/multiprocessing/process.py\", line 297, in _bootstrap\n",
      "    self.run()\n",
      "  File \"/home/tchari/miniconda3/envs/py37/lib/python3.7/multiprocessing/process.py\", line 99, in run\n",
      "    self._target(*self._args, **self._kwargs)\n",
      "  File \"/home/tchari/miniconda3/envs/py37/lib/python3.7/multiprocessing/pool.py\", line 110, in worker\n",
      "    task = get()\n",
      "  File \"/home/tchari/miniconda3/envs/py37/lib/python3.7/multiprocessing/queues.py\", line 351, in get\n",
      "    with self._rlock:\n",
      "  File \"/home/tchari/miniconda3/envs/py37/lib/python3.7/multiprocessing/synchronize.py\", line 95, in __enter__\n",
      "    return self._semlock.__enter__()\n",
      "KeyboardInterrupt\n",
      "Process ForkPoolWorker-14443:\n",
      "Traceback (most recent call last):\n",
      "  File \"/home/tchari/miniconda3/envs/py37/lib/python3.7/multiprocessing/process.py\", line 297, in _bootstrap\n",
      "    self.run()\n",
      "  File \"/home/tchari/miniconda3/envs/py37/lib/python3.7/multiprocessing/process.py\", line 99, in run\n",
      "    self._target(*self._args, **self._kwargs)\n",
      "  File \"/home/tchari/miniconda3/envs/py37/lib/python3.7/multiprocessing/pool.py\", line 110, in worker\n",
      "    task = get()\n",
      "  File \"/home/tchari/miniconda3/envs/py37/lib/python3.7/multiprocessing/queues.py\", line 352, in get\n",
      "    res = self._reader.recv_bytes()\n",
      "  File \"/home/tchari/miniconda3/envs/py37/lib/python3.7/multiprocessing/connection.py\", line 216, in recv_bytes\n",
      "    buf = self._recv_bytes(maxlength)\n",
      "  File \"/home/tchari/miniconda3/envs/py37/lib/python3.7/multiprocessing/connection.py\", line 407, in _recv_bytes\n",
      "    buf = self._recv(4)\n",
      "  File \"/home/tchari/miniconda3/envs/py37/lib/python3.7/multiprocessing/connection.py\", line 379, in _recv\n",
      "    chunk = read(handle, remaining)\n",
      "KeyboardInterrupt\n",
      "Process ForkPoolWorker-14474:\n",
      "Traceback (most recent call last):\n",
      "  File \"/home/tchari/miniconda3/envs/py37/lib/python3.7/multiprocessing/process.py\", line 297, in _bootstrap\n",
      "    self.run()\n",
      "  File \"/home/tchari/miniconda3/envs/py37/lib/python3.7/multiprocessing/process.py\", line 99, in run\n",
      "    self._target(*self._args, **self._kwargs)\n",
      "  File \"/home/tchari/miniconda3/envs/py37/lib/python3.7/multiprocessing/pool.py\", line 110, in worker\n",
      "    task = get()\n",
      "  File \"/home/tchari/miniconda3/envs/py37/lib/python3.7/multiprocessing/queues.py\", line 351, in get\n",
      "    with self._rlock:\n",
      "  File \"/home/tchari/miniconda3/envs/py37/lib/python3.7/multiprocessing/synchronize.py\", line 95, in __enter__\n",
      "    return self._semlock.__enter__()\n",
      "KeyboardInterrupt\n",
      "Process ForkPoolWorker-14447:\n",
      "Traceback (most recent call last):\n",
      "  File \"/home/tchari/miniconda3/envs/py37/lib/python3.7/multiprocessing/process.py\", line 297, in _bootstrap\n",
      "    self.run()\n",
      "  File \"/home/tchari/miniconda3/envs/py37/lib/python3.7/multiprocessing/process.py\", line 99, in run\n",
      "    self._target(*self._args, **self._kwargs)\n",
      "  File \"/home/tchari/miniconda3/envs/py37/lib/python3.7/multiprocessing/pool.py\", line 110, in worker\n",
      "    task = get()\n",
      "  File \"/home/tchari/miniconda3/envs/py37/lib/python3.7/multiprocessing/queues.py\", line 351, in get\n",
      "    with self._rlock:\n",
      "  File \"/home/tchari/miniconda3/envs/py37/lib/python3.7/multiprocessing/synchronize.py\", line 95, in __enter__\n",
      "    return self._semlock.__enter__()\n",
      "KeyboardInterrupt\n",
      "Process ForkPoolWorker-14467:\n",
      "Traceback (most recent call last):\n",
      "  File \"/home/tchari/miniconda3/envs/py37/lib/python3.7/multiprocessing/process.py\", line 297, in _bootstrap\n",
      "    self.run()\n",
      "  File \"/home/tchari/miniconda3/envs/py37/lib/python3.7/multiprocessing/process.py\", line 99, in run\n",
      "    self._target(*self._args, **self._kwargs)\n",
      "  File \"/home/tchari/miniconda3/envs/py37/lib/python3.7/multiprocessing/pool.py\", line 110, in worker\n",
      "    task = get()\n",
      "  File \"/home/tchari/miniconda3/envs/py37/lib/python3.7/multiprocessing/queues.py\", line 351, in get\n",
      "    with self._rlock:\n",
      "  File \"/home/tchari/miniconda3/envs/py37/lib/python3.7/multiprocessing/synchronize.py\", line 95, in __enter__\n",
      "    return self._semlock.__enter__()\n",
      "KeyboardInterrupt\n"
     ]
    },
    {
     "name": "stderr",
     "output_type": "stream",
     "text": [
      "Process ForkPoolWorker-14448:\n",
      "Traceback (most recent call last):\n",
      "  File \"/home/tchari/miniconda3/envs/py37/lib/python3.7/multiprocessing/process.py\", line 297, in _bootstrap\n",
      "    self.run()\n",
      "  File \"/home/tchari/miniconda3/envs/py37/lib/python3.7/multiprocessing/process.py\", line 99, in run\n",
      "    self._target(*self._args, **self._kwargs)\n",
      "  File \"/home/tchari/miniconda3/envs/py37/lib/python3.7/multiprocessing/pool.py\", line 110, in worker\n",
      "    task = get()\n",
      "  File \"/home/tchari/miniconda3/envs/py37/lib/python3.7/multiprocessing/queues.py\", line 351, in get\n",
      "    with self._rlock:\n",
      "  File \"/home/tchari/miniconda3/envs/py37/lib/python3.7/multiprocessing/synchronize.py\", line 95, in __enter__\n",
      "    return self._semlock.__enter__()\n",
      "KeyboardInterrupt\n",
      "Process ForkPoolWorker-14454:\n",
      "Traceback (most recent call last):\n",
      "  File \"/home/tchari/miniconda3/envs/py37/lib/python3.7/multiprocessing/process.py\", line 297, in _bootstrap\n",
      "    self.run()\n",
      "  File \"/home/tchari/miniconda3/envs/py37/lib/python3.7/multiprocessing/process.py\", line 99, in run\n",
      "    self._target(*self._args, **self._kwargs)\n",
      "  File \"/home/tchari/miniconda3/envs/py37/lib/python3.7/multiprocessing/pool.py\", line 110, in worker\n",
      "    task = get()\n",
      "  File \"/home/tchari/miniconda3/envs/py37/lib/python3.7/multiprocessing/queues.py\", line 351, in get\n",
      "    with self._rlock:\n",
      "  File \"/home/tchari/miniconda3/envs/py37/lib/python3.7/multiprocessing/synchronize.py\", line 95, in __enter__\n",
      "    return self._semlock.__enter__()\n",
      "KeyboardInterrupt\n",
      "Process ForkPoolWorker-14453:\n",
      "Traceback (most recent call last):\n",
      "  File \"/home/tchari/miniconda3/envs/py37/lib/python3.7/multiprocessing/process.py\", line 297, in _bootstrap\n",
      "    self.run()\n",
      "  File \"/home/tchari/miniconda3/envs/py37/lib/python3.7/multiprocessing/process.py\", line 99, in run\n",
      "    self._target(*self._args, **self._kwargs)\n",
      "  File \"/home/tchari/miniconda3/envs/py37/lib/python3.7/multiprocessing/pool.py\", line 110, in worker\n",
      "    task = get()\n",
      "  File \"/home/tchari/miniconda3/envs/py37/lib/python3.7/multiprocessing/queues.py\", line 351, in get\n",
      "    with self._rlock:\n",
      "  File \"/home/tchari/miniconda3/envs/py37/lib/python3.7/multiprocessing/synchronize.py\", line 95, in __enter__\n",
      "    return self._semlock.__enter__()\n",
      "KeyboardInterrupt\n",
      "Process ForkPoolWorker-14449:\n",
      "Traceback (most recent call last):\n",
      "  File \"/home/tchari/miniconda3/envs/py37/lib/python3.7/multiprocessing/process.py\", line 297, in _bootstrap\n",
      "    self.run()\n",
      "  File \"/home/tchari/miniconda3/envs/py37/lib/python3.7/multiprocessing/process.py\", line 99, in run\n",
      "    self._target(*self._args, **self._kwargs)\n",
      "  File \"/home/tchari/miniconda3/envs/py37/lib/python3.7/multiprocessing/pool.py\", line 110, in worker\n",
      "    task = get()\n",
      "  File \"/home/tchari/miniconda3/envs/py37/lib/python3.7/multiprocessing/queues.py\", line 351, in get\n",
      "    with self._rlock:\n",
      "  File \"/home/tchari/miniconda3/envs/py37/lib/python3.7/multiprocessing/synchronize.py\", line 95, in __enter__\n",
      "    return self._semlock.__enter__()\n",
      "KeyboardInterrupt\n",
      "Process ForkPoolWorker-14468:\n",
      "Traceback (most recent call last):\n",
      "  File \"/home/tchari/miniconda3/envs/py37/lib/python3.7/multiprocessing/process.py\", line 297, in _bootstrap\n",
      "    self.run()\n",
      "  File \"/home/tchari/miniconda3/envs/py37/lib/python3.7/multiprocessing/process.py\", line 99, in run\n",
      "    self._target(*self._args, **self._kwargs)\n",
      "  File \"/home/tchari/miniconda3/envs/py37/lib/python3.7/multiprocessing/pool.py\", line 110, in worker\n",
      "    task = get()\n",
      "  File \"/home/tchari/miniconda3/envs/py37/lib/python3.7/multiprocessing/queues.py\", line 351, in get\n",
      "    with self._rlock:\n",
      "  File \"/home/tchari/miniconda3/envs/py37/lib/python3.7/multiprocessing/synchronize.py\", line 95, in __enter__\n",
      "    return self._semlock.__enter__()\n",
      "KeyboardInterrupt\n",
      "Process ForkPoolWorker-14460:\n",
      "Traceback (most recent call last):\n",
      "  File \"/home/tchari/miniconda3/envs/py37/lib/python3.7/multiprocessing/process.py\", line 297, in _bootstrap\n",
      "    self.run()\n",
      "  File \"/home/tchari/miniconda3/envs/py37/lib/python3.7/multiprocessing/process.py\", line 99, in run\n",
      "    self._target(*self._args, **self._kwargs)\n",
      "  File \"/home/tchari/miniconda3/envs/py37/lib/python3.7/multiprocessing/pool.py\", line 110, in worker\n",
      "    task = get()\n",
      "  File \"/home/tchari/miniconda3/envs/py37/lib/python3.7/multiprocessing/queues.py\", line 351, in get\n",
      "    with self._rlock:\n",
      "  File \"/home/tchari/miniconda3/envs/py37/lib/python3.7/multiprocessing/synchronize.py\", line 95, in __enter__\n",
      "    return self._semlock.__enter__()\n",
      "KeyboardInterrupt\n",
      "Process ForkPoolWorker-14446:\n",
      "Traceback (most recent call last):\n",
      "  File \"/home/tchari/miniconda3/envs/py37/lib/python3.7/multiprocessing/process.py\", line 297, in _bootstrap\n",
      "    self.run()\n",
      "  File \"/home/tchari/miniconda3/envs/py37/lib/python3.7/multiprocessing/process.py\", line 99, in run\n",
      "    self._target(*self._args, **self._kwargs)\n",
      "  File \"/home/tchari/miniconda3/envs/py37/lib/python3.7/multiprocessing/pool.py\", line 110, in worker\n",
      "    task = get()\n",
      "  File \"/home/tchari/miniconda3/envs/py37/lib/python3.7/multiprocessing/queues.py\", line 351, in get\n",
      "    with self._rlock:\n",
      "  File \"/home/tchari/miniconda3/envs/py37/lib/python3.7/multiprocessing/synchronize.py\", line 95, in __enter__\n",
      "    return self._semlock.__enter__()\n",
      "KeyboardInterrupt\n",
      "Process ForkPoolWorker-14458:\n",
      "Traceback (most recent call last):\n",
      "  File \"/home/tchari/miniconda3/envs/py37/lib/python3.7/multiprocessing/process.py\", line 297, in _bootstrap\n",
      "    self.run()\n",
      "  File \"/home/tchari/miniconda3/envs/py37/lib/python3.7/multiprocessing/process.py\", line 99, in run\n",
      "    self._target(*self._args, **self._kwargs)\n",
      "  File \"/home/tchari/miniconda3/envs/py37/lib/python3.7/multiprocessing/pool.py\", line 110, in worker\n",
      "    task = get()\n",
      "  File \"/home/tchari/miniconda3/envs/py37/lib/python3.7/multiprocessing/queues.py\", line 351, in get\n",
      "    with self._rlock:\n",
      "  File \"/home/tchari/miniconda3/envs/py37/lib/python3.7/multiprocessing/synchronize.py\", line 95, in __enter__\n",
      "    return self._semlock.__enter__()\n",
      "KeyboardInterrupt\n",
      "Process ForkPoolWorker-14462:\n",
      "Traceback (most recent call last):\n",
      "  File \"/home/tchari/miniconda3/envs/py37/lib/python3.7/multiprocessing/process.py\", line 297, in _bootstrap\n",
      "    self.run()\n",
      "  File \"/home/tchari/miniconda3/envs/py37/lib/python3.7/multiprocessing/process.py\", line 99, in run\n",
      "    self._target(*self._args, **self._kwargs)\n",
      "  File \"/home/tchari/miniconda3/envs/py37/lib/python3.7/multiprocessing/pool.py\", line 110, in worker\n",
      "    task = get()\n",
      "  File \"/home/tchari/miniconda3/envs/py37/lib/python3.7/multiprocessing/queues.py\", line 351, in get\n",
      "    with self._rlock:\n",
      "  File \"/home/tchari/miniconda3/envs/py37/lib/python3.7/multiprocessing/synchronize.py\", line 95, in __enter__\n",
      "    return self._semlock.__enter__()\n",
      "KeyboardInterrupt\n",
      "Process ForkPoolWorker-14450:\n",
      "Traceback (most recent call last):\n",
      "  File \"/home/tchari/miniconda3/envs/py37/lib/python3.7/multiprocessing/process.py\", line 297, in _bootstrap\n",
      "    self.run()\n",
      "  File \"/home/tchari/miniconda3/envs/py37/lib/python3.7/multiprocessing/process.py\", line 99, in run\n",
      "    self._target(*self._args, **self._kwargs)\n",
      "  File \"/home/tchari/miniconda3/envs/py37/lib/python3.7/multiprocessing/pool.py\", line 110, in worker\n",
      "    task = get()\n",
      "  File \"/home/tchari/miniconda3/envs/py37/lib/python3.7/multiprocessing/queues.py\", line 351, in get\n",
      "    with self._rlock:\n",
      "  File \"/home/tchari/miniconda3/envs/py37/lib/python3.7/multiprocessing/synchronize.py\", line 95, in __enter__\n",
      "    return self._semlock.__enter__()\n",
      "KeyboardInterrupt\n",
      "Process ForkPoolWorker-14445:\n",
      "Traceback (most recent call last):\n",
      "  File \"/home/tchari/miniconda3/envs/py37/lib/python3.7/multiprocessing/process.py\", line 297, in _bootstrap\n",
      "    self.run()\n",
      "  File \"/home/tchari/miniconda3/envs/py37/lib/python3.7/multiprocessing/process.py\", line 99, in run\n",
      "    self._target(*self._args, **self._kwargs)\n",
      "  File \"/home/tchari/miniconda3/envs/py37/lib/python3.7/multiprocessing/pool.py\", line 110, in worker\n",
      "    task = get()\n",
      "  File \"/home/tchari/miniconda3/envs/py37/lib/python3.7/multiprocessing/queues.py\", line 351, in get\n",
      "    with self._rlock:\n",
      "  File \"/home/tchari/miniconda3/envs/py37/lib/python3.7/multiprocessing/synchronize.py\", line 95, in __enter__\n",
      "    return self._semlock.__enter__()\n",
      "KeyboardInterrupt\n",
      "Process ForkPoolWorker-14455:\n",
      "Traceback (most recent call last):\n",
      "  File \"/home/tchari/miniconda3/envs/py37/lib/python3.7/multiprocessing/process.py\", line 297, in _bootstrap\n",
      "    self.run()\n",
      "  File \"/home/tchari/miniconda3/envs/py37/lib/python3.7/multiprocessing/process.py\", line 99, in run\n",
      "    self._target(*self._args, **self._kwargs)\n",
      "  File \"/home/tchari/miniconda3/envs/py37/lib/python3.7/multiprocessing/pool.py\", line 110, in worker\n",
      "    task = get()\n",
      "  File \"/home/tchari/miniconda3/envs/py37/lib/python3.7/multiprocessing/queues.py\", line 351, in get\n",
      "    with self._rlock:\n",
      "  File \"/home/tchari/miniconda3/envs/py37/lib/python3.7/multiprocessing/synchronize.py\", line 95, in __enter__\n",
      "    return self._semlock.__enter__()\n",
      "KeyboardInterrupt\n"
     ]
    },
    {
     "name": "stderr",
     "output_type": "stream",
     "text": [
      "Process ForkPoolWorker-14465:\n",
      "Traceback (most recent call last):\n",
      "  File \"/home/tchari/miniconda3/envs/py37/lib/python3.7/multiprocessing/process.py\", line 297, in _bootstrap\n",
      "    self.run()\n",
      "  File \"/home/tchari/miniconda3/envs/py37/lib/python3.7/multiprocessing/process.py\", line 99, in run\n",
      "    self._target(*self._args, **self._kwargs)\n",
      "  File \"/home/tchari/miniconda3/envs/py37/lib/python3.7/multiprocessing/pool.py\", line 110, in worker\n",
      "    task = get()\n",
      "  File \"/home/tchari/miniconda3/envs/py37/lib/python3.7/multiprocessing/queues.py\", line 351, in get\n",
      "    with self._rlock:\n",
      "  File \"/home/tchari/miniconda3/envs/py37/lib/python3.7/multiprocessing/synchronize.py\", line 95, in __enter__\n",
      "    return self._semlock.__enter__()\n",
      "KeyboardInterrupt\n",
      "Process ForkPoolWorker-14464:\n",
      "Traceback (most recent call last):\n",
      "  File \"/home/tchari/miniconda3/envs/py37/lib/python3.7/multiprocessing/process.py\", line 297, in _bootstrap\n",
      "    self.run()\n",
      "  File \"/home/tchari/miniconda3/envs/py37/lib/python3.7/multiprocessing/process.py\", line 99, in run\n",
      "    self._target(*self._args, **self._kwargs)\n",
      "  File \"/home/tchari/miniconda3/envs/py37/lib/python3.7/multiprocessing/pool.py\", line 110, in worker\n",
      "    task = get()\n",
      "  File \"/home/tchari/miniconda3/envs/py37/lib/python3.7/multiprocessing/queues.py\", line 351, in get\n",
      "    with self._rlock:\n",
      "  File \"/home/tchari/miniconda3/envs/py37/lib/python3.7/multiprocessing/synchronize.py\", line 95, in __enter__\n",
      "    return self._semlock.__enter__()\n",
      "KeyboardInterrupt\n",
      "Process ForkPoolWorker-14461:\n",
      "Traceback (most recent call last):\n",
      "  File \"/home/tchari/miniconda3/envs/py37/lib/python3.7/multiprocessing/process.py\", line 297, in _bootstrap\n",
      "    self.run()\n",
      "  File \"/home/tchari/miniconda3/envs/py37/lib/python3.7/multiprocessing/process.py\", line 99, in run\n",
      "    self._target(*self._args, **self._kwargs)\n",
      "  File \"/home/tchari/miniconda3/envs/py37/lib/python3.7/multiprocessing/pool.py\", line 110, in worker\n",
      "    task = get()\n",
      "  File \"/home/tchari/miniconda3/envs/py37/lib/python3.7/multiprocessing/queues.py\", line 351, in get\n",
      "    with self._rlock:\n",
      "  File \"/home/tchari/miniconda3/envs/py37/lib/python3.7/multiprocessing/synchronize.py\", line 95, in __enter__\n",
      "    return self._semlock.__enter__()\n",
      "KeyboardInterrupt\n",
      "Process ForkPoolWorker-14476:\n",
      "Traceback (most recent call last):\n",
      "  File \"/home/tchari/miniconda3/envs/py37/lib/python3.7/multiprocessing/process.py\", line 297, in _bootstrap\n",
      "    self.run()\n",
      "  File \"/home/tchari/miniconda3/envs/py37/lib/python3.7/multiprocessing/process.py\", line 99, in run\n",
      "    self._target(*self._args, **self._kwargs)\n",
      "  File \"/home/tchari/miniconda3/envs/py37/lib/python3.7/multiprocessing/pool.py\", line 110, in worker\n",
      "    task = get()\n",
      "  File \"/home/tchari/miniconda3/envs/py37/lib/python3.7/multiprocessing/queues.py\", line 351, in get\n",
      "    with self._rlock:\n",
      "  File \"/home/tchari/miniconda3/envs/py37/lib/python3.7/multiprocessing/synchronize.py\", line 95, in __enter__\n",
      "    return self._semlock.__enter__()\n",
      "KeyboardInterrupt\n",
      "Process ForkPoolWorker-14469:\n",
      "Traceback (most recent call last):\n",
      "  File \"/home/tchari/miniconda3/envs/py37/lib/python3.7/multiprocessing/process.py\", line 297, in _bootstrap\n",
      "    self.run()\n",
      "  File \"/home/tchari/miniconda3/envs/py37/lib/python3.7/multiprocessing/process.py\", line 99, in run\n",
      "    self._target(*self._args, **self._kwargs)\n",
      "  File \"/home/tchari/miniconda3/envs/py37/lib/python3.7/multiprocessing/pool.py\", line 110, in worker\n",
      "    task = get()\n",
      "  File \"/home/tchari/miniconda3/envs/py37/lib/python3.7/multiprocessing/queues.py\", line 351, in get\n",
      "    with self._rlock:\n",
      "  File \"/home/tchari/miniconda3/envs/py37/lib/python3.7/multiprocessing/synchronize.py\", line 95, in __enter__\n",
      "    return self._semlock.__enter__()\n",
      "KeyboardInterrupt\n",
      "Process ForkPoolWorker-14477:\n",
      "Traceback (most recent call last):\n",
      "  File \"/home/tchari/miniconda3/envs/py37/lib/python3.7/multiprocessing/process.py\", line 297, in _bootstrap\n",
      "    self.run()\n",
      "  File \"/home/tchari/miniconda3/envs/py37/lib/python3.7/multiprocessing/process.py\", line 99, in run\n",
      "    self._target(*self._args, **self._kwargs)\n",
      "  File \"/home/tchari/miniconda3/envs/py37/lib/python3.7/multiprocessing/pool.py\", line 110, in worker\n",
      "    task = get()\n",
      "  File \"/home/tchari/miniconda3/envs/py37/lib/python3.7/multiprocessing/queues.py\", line 351, in get\n",
      "    with self._rlock:\n",
      "  File \"/home/tchari/miniconda3/envs/py37/lib/python3.7/multiprocessing/synchronize.py\", line 95, in __enter__\n",
      "    return self._semlock.__enter__()\n",
      "KeyboardInterrupt\n",
      "Process ForkPoolWorker-14456:\n",
      "Traceback (most recent call last):\n",
      "  File \"/home/tchari/miniconda3/envs/py37/lib/python3.7/multiprocessing/process.py\", line 297, in _bootstrap\n",
      "    self.run()\n",
      "  File \"/home/tchari/miniconda3/envs/py37/lib/python3.7/multiprocessing/process.py\", line 99, in run\n",
      "    self._target(*self._args, **self._kwargs)\n",
      "  File \"/home/tchari/miniconda3/envs/py37/lib/python3.7/multiprocessing/pool.py\", line 110, in worker\n",
      "    task = get()\n",
      "  File \"/home/tchari/miniconda3/envs/py37/lib/python3.7/multiprocessing/queues.py\", line 351, in get\n",
      "    with self._rlock:\n",
      "  File \"/home/tchari/miniconda3/envs/py37/lib/python3.7/multiprocessing/synchronize.py\", line 95, in __enter__\n",
      "    return self._semlock.__enter__()\n",
      "KeyboardInterrupt\n",
      "Process ForkPoolWorker-14475:\n",
      "Traceback (most recent call last):\n",
      "  File \"/home/tchari/miniconda3/envs/py37/lib/python3.7/multiprocessing/process.py\", line 297, in _bootstrap\n",
      "    self.run()\n",
      "  File \"/home/tchari/miniconda3/envs/py37/lib/python3.7/multiprocessing/process.py\", line 99, in run\n",
      "    self._target(*self._args, **self._kwargs)\n",
      "  File \"/home/tchari/miniconda3/envs/py37/lib/python3.7/multiprocessing/pool.py\", line 110, in worker\n",
      "    task = get()\n",
      "  File \"/home/tchari/miniconda3/envs/py37/lib/python3.7/multiprocessing/queues.py\", line 351, in get\n",
      "    with self._rlock:\n",
      "  File \"/home/tchari/miniconda3/envs/py37/lib/python3.7/multiprocessing/synchronize.py\", line 95, in __enter__\n",
      "    return self._semlock.__enter__()\n",
      "KeyboardInterrupt\n",
      "Process ForkPoolWorker-14459:\n",
      "Traceback (most recent call last):\n",
      "  File \"/home/tchari/miniconda3/envs/py37/lib/python3.7/multiprocessing/process.py\", line 297, in _bootstrap\n",
      "    self.run()\n",
      "  File \"/home/tchari/miniconda3/envs/py37/lib/python3.7/multiprocessing/process.py\", line 99, in run\n",
      "    self._target(*self._args, **self._kwargs)\n",
      "  File \"/home/tchari/miniconda3/envs/py37/lib/python3.7/multiprocessing/pool.py\", line 110, in worker\n",
      "    task = get()\n",
      "  File \"/home/tchari/miniconda3/envs/py37/lib/python3.7/multiprocessing/queues.py\", line 351, in get\n",
      "    with self._rlock:\n",
      "  File \"/home/tchari/miniconda3/envs/py37/lib/python3.7/multiprocessing/synchronize.py\", line 95, in __enter__\n",
      "    return self._semlock.__enter__()\n",
      "KeyboardInterrupt\n",
      "Process ForkPoolWorker-14444:\n",
      "Traceback (most recent call last):\n",
      "  File \"/home/tchari/miniconda3/envs/py37/lib/python3.7/multiprocessing/process.py\", line 297, in _bootstrap\n",
      "    self.run()\n",
      "  File \"/home/tchari/miniconda3/envs/py37/lib/python3.7/multiprocessing/process.py\", line 99, in run\n",
      "    self._target(*self._args, **self._kwargs)\n",
      "  File \"/home/tchari/miniconda3/envs/py37/lib/python3.7/multiprocessing/pool.py\", line 110, in worker\n",
      "    task = get()\n",
      "  File \"/home/tchari/miniconda3/envs/py37/lib/python3.7/multiprocessing/queues.py\", line 351, in get\n",
      "    with self._rlock:\n",
      "  File \"/home/tchari/miniconda3/envs/py37/lib/python3.7/multiprocessing/synchronize.py\", line 95, in __enter__\n",
      "    return self._semlock.__enter__()\n",
      "KeyboardInterrupt\n",
      "Process ForkPoolWorker-14470:\n",
      "Traceback (most recent call last):\n",
      "  File \"/home/tchari/miniconda3/envs/py37/lib/python3.7/multiprocessing/process.py\", line 297, in _bootstrap\n",
      "    self.run()\n",
      "  File \"/home/tchari/miniconda3/envs/py37/lib/python3.7/multiprocessing/process.py\", line 99, in run\n",
      "    self._target(*self._args, **self._kwargs)\n",
      "  File \"/home/tchari/miniconda3/envs/py37/lib/python3.7/multiprocessing/pool.py\", line 110, in worker\n",
      "    task = get()\n",
      "  File \"/home/tchari/miniconda3/envs/py37/lib/python3.7/multiprocessing/queues.py\", line 351, in get\n",
      "    with self._rlock:\n",
      "  File \"/home/tchari/miniconda3/envs/py37/lib/python3.7/multiprocessing/synchronize.py\", line 95, in __enter__\n",
      "    return self._semlock.__enter__()\n",
      "KeyboardInterrupt\n",
      "Process ForkPoolWorker-14466:\n",
      "Traceback (most recent call last):\n",
      "  File \"/home/tchari/miniconda3/envs/py37/lib/python3.7/multiprocessing/process.py\", line 297, in _bootstrap\n",
      "    self.run()\n",
      "  File \"/home/tchari/miniconda3/envs/py37/lib/python3.7/multiprocessing/process.py\", line 99, in run\n",
      "    self._target(*self._args, **self._kwargs)\n",
      "  File \"/home/tchari/miniconda3/envs/py37/lib/python3.7/multiprocessing/pool.py\", line 110, in worker\n",
      "    task = get()\n",
      "  File \"/home/tchari/miniconda3/envs/py37/lib/python3.7/multiprocessing/queues.py\", line 351, in get\n",
      "    with self._rlock:\n",
      "  File \"/home/tchari/miniconda3/envs/py37/lib/python3.7/multiprocessing/synchronize.py\", line 95, in __enter__\n",
      "    return self._semlock.__enter__()\n",
      "KeyboardInterrupt\n"
     ]
    },
    {
     "name": "stderr",
     "output_type": "stream",
     "text": [
      "\n"
     ]
    },
    {
     "name": "stdout",
     "output_type": "stream",
     "text": [
      "ERROR:root:Internal Python error in the inspect module.\n",
      "Below is the traceback from this internal error.\n",
      "\n",
      "Traceback (most recent call last):\n",
      "  File \"/home/tchari/miniconda3/envs/py37/lib/python3.7/multiprocessing/pool.py\", line 733, in next\n",
      "    item = self._items.popleft()\n",
      "IndexError: pop from an empty deque\n",
      "\n",
      "During handling of the above exception, another exception occurred:\n",
      "\n",
      "Traceback (most recent call last):\n",
      "  File \"/home/tchari/monod/src/monod/mminference.py\", line 2530, in parallelize\n",
      "    x = list(tqdm(pool.imap(function, iterable), total=num_entries))  # hacky\n",
      "  File \"/home/tchari/miniconda3/envs/py37/lib/python3.7/site-packages/tqdm/std.py\", line 1180, in __iter__\n",
      "    for obj in iterable:\n",
      "  File \"/home/tchari/miniconda3/envs/py37/lib/python3.7/multiprocessing/pool.py\", line 737, in next\n",
      "    self._cond.wait(timeout)\n",
      "  File \"/home/tchari/miniconda3/envs/py37/lib/python3.7/threading.py\", line 296, in wait\n",
      "    waiter.acquire()\n",
      "KeyboardInterrupt\n",
      "\n",
      "During handling of the above exception, another exception occurred:\n",
      "\n",
      "Traceback (most recent call last):\n",
      "  File \"/home/tchari/.local/lib/python3.7/site-packages/IPython/core/interactiveshell.py\", line 3457, in run_code\n",
      "    exec(code_obj, self.user_global_ns, self.user_ns)\n",
      "  File \"/tmp/ipykernel_1088259/1103189180.py\", line 82, in <module>\n",
      "    full_result_string = inference_parameters.fit_all_grid_points(40,search_data)\n",
      "  File \"/home/tchari/monod/src/monod/mminference.py\", line 271, in fit_all_grid_points\n",
      "    [num_cores] * self.n_grid_points,\n",
      "  File \"/home/tchari/monod/src/monod/mminference.py\", line 266, in <listcomp>\n",
      "    for x in zip(\n",
      "  File \"/home/tchari/monod/src/monod/mminference.py\", line 311, in par_fun\n",
      "    grad_inference.fit_all_genes(model, search_data, num_cores)\n",
      "  File \"/home/tchari/monod/src/monod/mminference.py\", line 939, in fit_all_genes\n",
      "    Q, lower_bound, all_qs, all_klds = self._fit(model,search_data,num_cores=num_cores)\n",
      "  File \"/home/tchari/monod/src/monod/mminference.py\", line 784, in _fit\n",
      "    self._m_step(model,k_dict,Q,num_cores=num_cores)\n",
      "  File \"/home/tchari/monod/src/monod/mminference.py\", line 668, in _m_step\n",
      "    error_message=\"The M step has been terminated due to computation issues. Please check MoM estimates.\",\n",
      "  File \"/home/tchari/monod/src/monod/mminference.py\", line 2538, in parallelize\n",
      "    pool.terminate()\n",
      "  File \"/home/tchari/miniconda3/envs/py37/lib/python3.7/multiprocessing/pool.py\", line 548, in terminate\n",
      "    self._terminate()\n",
      "  File \"/home/tchari/miniconda3/envs/py37/lib/python3.7/multiprocessing/util.py\", line 224, in __call__\n",
      "    res = self._callback(*self._args, **self._kwargs)\n",
      "  File \"/home/tchari/miniconda3/envs/py37/lib/python3.7/multiprocessing/pool.py\", line 617, in _terminate_pool\n",
      "    p.join()\n",
      "  File \"/home/tchari/miniconda3/envs/py37/lib/python3.7/multiprocessing/process.py\", line 140, in join\n",
      "    res = self._popen.wait(timeout)\n",
      "  File \"/home/tchari/miniconda3/envs/py37/lib/python3.7/multiprocessing/popen_fork.py\", line 48, in wait\n",
      "    return self.poll(os.WNOHANG if timeout == 0.0 else 0)\n",
      "  File \"/home/tchari/miniconda3/envs/py37/lib/python3.7/multiprocessing/popen_fork.py\", line 28, in poll\n",
      "    pid, sts = os.waitpid(self.pid, flag)\n",
      "KeyboardInterrupt\n",
      "\n",
      "During handling of the above exception, another exception occurred:\n",
      "\n",
      "Traceback (most recent call last):\n",
      "  File \"/home/tchari/.local/lib/python3.7/site-packages/IPython/core/interactiveshell.py\", line 2077, in showtraceback\n",
      "    stb = value._render_traceback_()\n",
      "AttributeError: 'KeyboardInterrupt' object has no attribute '_render_traceback_'\n",
      "\n",
      "During handling of the above exception, another exception occurred:\n",
      "\n",
      "Traceback (most recent call last):\n",
      "  File \"/home/tchari/.local/lib/python3.7/site-packages/IPython/core/ultratb.py\", line 1101, in get_records\n",
      "    return _fixed_getinnerframes(etb, number_of_lines_of_context, tb_offset)\n",
      "  File \"/home/tchari/.local/lib/python3.7/site-packages/IPython/core/ultratb.py\", line 248, in wrapped\n",
      "    return f(*args, **kwargs)\n",
      "  File \"/home/tchari/.local/lib/python3.7/site-packages/IPython/core/ultratb.py\", line 281, in _fixed_getinnerframes\n",
      "    records = fix_frame_records_filenames(inspect.getinnerframes(etb, context))\n",
      "  File \"/home/tchari/miniconda3/envs/py37/lib/python3.7/inspect.py\", line 1502, in getinnerframes\n",
      "    frameinfo = (tb.tb_frame,) + getframeinfo(tb, context)\n",
      "  File \"/home/tchari/miniconda3/envs/py37/lib/python3.7/inspect.py\", line 1464, in getframeinfo\n",
      "    lines, lnum = findsource(frame)\n",
      "  File \"/home/tchari/.local/lib/python3.7/site-packages/IPython/core/ultratb.py\", line 182, in findsource\n",
      "    lines = linecache.getlines(file, globals_dict)\n",
      "  File \"/home/tchari/miniconda3/envs/py37/lib/python3.7/linecache.py\", line 47, in getlines\n",
      "    return updatecache(filename, module_globals)\n",
      "  File \"/home/tchari/miniconda3/envs/py37/lib/python3.7/linecache.py\", line 136, in updatecache\n",
      "    with tokenize.open(fullname) as fp:\n",
      "  File \"/home/tchari/miniconda3/envs/py37/lib/python3.7/tokenize.py\", line 449, in open\n",
      "    encoding, lines = detect_encoding(buffer.readline)\n",
      "  File \"/home/tchari/miniconda3/envs/py37/lib/python3.7/tokenize.py\", line 418, in detect_encoding\n",
      "    first = read_or_stop()\n",
      "  File \"/home/tchari/miniconda3/envs/py37/lib/python3.7/tokenize.py\", line 376, in read_or_stop\n",
      "    return readline()\n",
      "KeyboardInterrupt\n"
     ]
    },
    {
     "ename": "TypeError",
     "evalue": "object of type 'NoneType' has no len()",
     "output_type": "error",
     "traceback": [
      "\u001b[0;31m---------------------------------------------------------------------------\u001b[0m",
      "\u001b[0;31mIndexError\u001b[0m                                Traceback (most recent call last)",
      "\u001b[0;32m~/miniconda3/envs/py37/lib/python3.7/multiprocessing/pool.py\u001b[0m in \u001b[0;36mnext\u001b[0;34m(self, timeout)\u001b[0m\n\u001b[1;32m    732\u001b[0m             \u001b[0;32mtry\u001b[0m\u001b[0;34m:\u001b[0m\u001b[0;34m\u001b[0m\u001b[0;34m\u001b[0m\u001b[0m\n\u001b[0;32m--> 733\u001b[0;31m                 \u001b[0mitem\u001b[0m \u001b[0;34m=\u001b[0m \u001b[0mself\u001b[0m\u001b[0;34m.\u001b[0m\u001b[0m_items\u001b[0m\u001b[0;34m.\u001b[0m\u001b[0mpopleft\u001b[0m\u001b[0;34m(\u001b[0m\u001b[0;34m)\u001b[0m\u001b[0;34m\u001b[0m\u001b[0;34m\u001b[0m\u001b[0m\n\u001b[0m\u001b[1;32m    734\u001b[0m             \u001b[0;32mexcept\u001b[0m \u001b[0mIndexError\u001b[0m\u001b[0;34m:\u001b[0m\u001b[0;34m\u001b[0m\u001b[0;34m\u001b[0m\u001b[0m\n",
      "\u001b[0;31mIndexError\u001b[0m: pop from an empty deque",
      "\nDuring handling of the above exception, another exception occurred:\n",
      "\u001b[0;31mKeyboardInterrupt\u001b[0m                         Traceback (most recent call last)",
      "\u001b[0;32m~/monod/src/monod/mminference.py\u001b[0m in \u001b[0;36mparallelize\u001b[0;34m(function, iterable, num_cores, num_entries, completion_message, termination_message, error_message, use_tqdm)\u001b[0m\n\u001b[1;32m   2529\u001b[0m         \u001b[0;32mif\u001b[0m \u001b[0muse_tqdm\u001b[0m\u001b[0;34m:\u001b[0m\u001b[0;34m\u001b[0m\u001b[0;34m\u001b[0m\u001b[0m\n\u001b[0;32m-> 2530\u001b[0;31m             \u001b[0mx\u001b[0m \u001b[0;34m=\u001b[0m \u001b[0mlist\u001b[0m\u001b[0;34m(\u001b[0m\u001b[0mtqdm\u001b[0m\u001b[0;34m(\u001b[0m\u001b[0mpool\u001b[0m\u001b[0;34m.\u001b[0m\u001b[0mimap\u001b[0m\u001b[0;34m(\u001b[0m\u001b[0mfunction\u001b[0m\u001b[0;34m,\u001b[0m \u001b[0miterable\u001b[0m\u001b[0;34m)\u001b[0m\u001b[0;34m,\u001b[0m \u001b[0mtotal\u001b[0m\u001b[0;34m=\u001b[0m\u001b[0mnum_entries\u001b[0m\u001b[0;34m)\u001b[0m\u001b[0;34m)\u001b[0m  \u001b[0;31m# hacky\u001b[0m\u001b[0;34m\u001b[0m\u001b[0;34m\u001b[0m\u001b[0m\n\u001b[0m\u001b[1;32m   2531\u001b[0m         \u001b[0;32melse\u001b[0m\u001b[0;34m:\u001b[0m\u001b[0;34m\u001b[0m\u001b[0;34m\u001b[0m\u001b[0m\n",
      "\u001b[0;32m~/miniconda3/envs/py37/lib/python3.7/site-packages/tqdm/std.py\u001b[0m in \u001b[0;36m__iter__\u001b[0;34m(self)\u001b[0m\n\u001b[1;32m   1179\u001b[0m         \u001b[0;32mtry\u001b[0m\u001b[0;34m:\u001b[0m\u001b[0;34m\u001b[0m\u001b[0;34m\u001b[0m\u001b[0m\n\u001b[0;32m-> 1180\u001b[0;31m             \u001b[0;32mfor\u001b[0m \u001b[0mobj\u001b[0m \u001b[0;32min\u001b[0m \u001b[0miterable\u001b[0m\u001b[0;34m:\u001b[0m\u001b[0;34m\u001b[0m\u001b[0;34m\u001b[0m\u001b[0m\n\u001b[0m\u001b[1;32m   1181\u001b[0m                 \u001b[0;32myield\u001b[0m \u001b[0mobj\u001b[0m\u001b[0;34m\u001b[0m\u001b[0;34m\u001b[0m\u001b[0m\n",
      "\u001b[0;32m~/miniconda3/envs/py37/lib/python3.7/multiprocessing/pool.py\u001b[0m in \u001b[0;36mnext\u001b[0;34m(self, timeout)\u001b[0m\n\u001b[1;32m    736\u001b[0m                     \u001b[0;32mraise\u001b[0m \u001b[0mStopIteration\u001b[0m \u001b[0;32mfrom\u001b[0m \u001b[0;32mNone\u001b[0m\u001b[0;34m\u001b[0m\u001b[0;34m\u001b[0m\u001b[0m\n\u001b[0;32m--> 737\u001b[0;31m                 \u001b[0mself\u001b[0m\u001b[0;34m.\u001b[0m\u001b[0m_cond\u001b[0m\u001b[0;34m.\u001b[0m\u001b[0mwait\u001b[0m\u001b[0;34m(\u001b[0m\u001b[0mtimeout\u001b[0m\u001b[0;34m)\u001b[0m\u001b[0;34m\u001b[0m\u001b[0;34m\u001b[0m\u001b[0m\n\u001b[0m\u001b[1;32m    738\u001b[0m                 \u001b[0;32mtry\u001b[0m\u001b[0;34m:\u001b[0m\u001b[0;34m\u001b[0m\u001b[0;34m\u001b[0m\u001b[0m\n",
      "\u001b[0;32m~/miniconda3/envs/py37/lib/python3.7/threading.py\u001b[0m in \u001b[0;36mwait\u001b[0;34m(self, timeout)\u001b[0m\n\u001b[1;32m    295\u001b[0m             \u001b[0;32mif\u001b[0m \u001b[0mtimeout\u001b[0m \u001b[0;32mis\u001b[0m \u001b[0;32mNone\u001b[0m\u001b[0;34m:\u001b[0m\u001b[0;34m\u001b[0m\u001b[0;34m\u001b[0m\u001b[0m\n\u001b[0;32m--> 296\u001b[0;31m                 \u001b[0mwaiter\u001b[0m\u001b[0;34m.\u001b[0m\u001b[0macquire\u001b[0m\u001b[0;34m(\u001b[0m\u001b[0;34m)\u001b[0m\u001b[0;34m\u001b[0m\u001b[0;34m\u001b[0m\u001b[0m\n\u001b[0m\u001b[1;32m    297\u001b[0m                 \u001b[0mgotit\u001b[0m \u001b[0;34m=\u001b[0m \u001b[0;32mTrue\u001b[0m\u001b[0;34m\u001b[0m\u001b[0;34m\u001b[0m\u001b[0m\n",
      "\u001b[0;31mKeyboardInterrupt\u001b[0m: ",
      "\nDuring handling of the above exception, another exception occurred:\n",
      "\u001b[0;31mKeyboardInterrupt\u001b[0m                         Traceback (most recent call last)",
      "    \u001b[0;31m[... skipping hidden 1 frame]\u001b[0m\n",
      "\u001b[0;32m/tmp/ipykernel_1088259/1103189180.py\u001b[0m in \u001b[0;36m<module>\u001b[0;34m\u001b[0m\n\u001b[1;32m     81\u001b[0m         \u001b[0;31m#Run inference(fit_all_grid_points()) and Save result file strings\u001b[0m\u001b[0;34m\u001b[0m\u001b[0;34m\u001b[0m\u001b[0;34m\u001b[0m\u001b[0m\n\u001b[0;32m---> 82\u001b[0;31m         \u001b[0mfull_result_string\u001b[0m \u001b[0;34m=\u001b[0m \u001b[0minference_parameters\u001b[0m\u001b[0;34m.\u001b[0m\u001b[0mfit_all_grid_points\u001b[0m\u001b[0;34m(\u001b[0m\u001b[0;36m40\u001b[0m\u001b[0;34m,\u001b[0m\u001b[0msearch_data\u001b[0m\u001b[0;34m)\u001b[0m\u001b[0;34m\u001b[0m\u001b[0;34m\u001b[0m\u001b[0m\n\u001b[0m\u001b[1;32m     83\u001b[0m \u001b[0;34m\u001b[0m\u001b[0m\n",
      "\u001b[0;32m~/monod/src/monod/mminference.py\u001b[0m in \u001b[0;36mfit_all_grid_points\u001b[0;34m(self, num_cores, search_data)\u001b[0m\n\u001b[1;32m    270\u001b[0m                 \u001b[0;34m[\u001b[0m\u001b[0mself\u001b[0m\u001b[0;34m.\u001b[0m\u001b[0mepochs\u001b[0m\u001b[0;34m]\u001b[0m \u001b[0;34m*\u001b[0m \u001b[0mself\u001b[0m\u001b[0;34m.\u001b[0m\u001b[0mn_grid_points\u001b[0m\u001b[0;34m,\u001b[0m\u001b[0;34m\u001b[0m\u001b[0;34m\u001b[0m\u001b[0m\n\u001b[0;32m--> 271\u001b[0;31m                 \u001b[0;34m[\u001b[0m\u001b[0mnum_cores\u001b[0m\u001b[0;34m]\u001b[0m \u001b[0;34m*\u001b[0m \u001b[0mself\u001b[0m\u001b[0;34m.\u001b[0m\u001b[0mn_grid_points\u001b[0m\u001b[0;34m,\u001b[0m\u001b[0;34m\u001b[0m\u001b[0;34m\u001b[0m\u001b[0m\n\u001b[0m\u001b[1;32m    272\u001b[0m             )\n",
      "\u001b[0;32m~/monod/src/monod/mminference.py\u001b[0m in \u001b[0;36m<listcomp>\u001b[0;34m(.0)\u001b[0m\n\u001b[1;32m    265\u001b[0m             \u001b[0mself\u001b[0m\u001b[0;34m.\u001b[0m\u001b[0mpar_fun\u001b[0m\u001b[0;34m(\u001b[0m\u001b[0mx\u001b[0m\u001b[0;34m)\u001b[0m\u001b[0;34m\u001b[0m\u001b[0;34m\u001b[0m\u001b[0m\n\u001b[0;32m--> 266\u001b[0;31m             for x in zip(\n\u001b[0m\u001b[1;32m    267\u001b[0m                 \u001b[0mrange\u001b[0m\u001b[0;34m(\u001b[0m\u001b[0mself\u001b[0m\u001b[0;34m.\u001b[0m\u001b[0mn_grid_points\u001b[0m\u001b[0;34m)\u001b[0m\u001b[0;34m,\u001b[0m\u001b[0;34m\u001b[0m\u001b[0;34m\u001b[0m\u001b[0m\n",
      "\u001b[0;32m~/monod/src/monod/mminference.py\u001b[0m in \u001b[0;36mpar_fun\u001b[0;34m(self, inputs)\u001b[0m\n\u001b[1;32m    310\u001b[0m         \u001b[0mgrad_inference\u001b[0m \u001b[0;34m=\u001b[0m \u001b[0mGradientInference\u001b[0m\u001b[0;34m(\u001b[0m\u001b[0mself\u001b[0m\u001b[0;34m,\u001b[0m \u001b[0mmodel\u001b[0m\u001b[0;34m,\u001b[0m \u001b[0msearch_data\u001b[0m\u001b[0;34m,\u001b[0m \u001b[0mpoint_index\u001b[0m\u001b[0;34m,\u001b[0m \u001b[0mk\u001b[0m\u001b[0;34m,\u001b[0m \u001b[0mepochs\u001b[0m\u001b[0;34m)\u001b[0m\u001b[0;34m\u001b[0m\u001b[0;34m\u001b[0m\u001b[0m\n\u001b[0;32m--> 311\u001b[0;31m         \u001b[0mgrad_inference\u001b[0m\u001b[0;34m.\u001b[0m\u001b[0mfit_all_genes\u001b[0m\u001b[0;34m(\u001b[0m\u001b[0mmodel\u001b[0m\u001b[0;34m,\u001b[0m \u001b[0msearch_data\u001b[0m\u001b[0;34m,\u001b[0m \u001b[0mnum_cores\u001b[0m\u001b[0;34m)\u001b[0m\u001b[0;34m\u001b[0m\u001b[0;34m\u001b[0m\u001b[0m\n\u001b[0m\u001b[1;32m    312\u001b[0m \u001b[0;34m\u001b[0m\u001b[0m\n",
      "\u001b[0;32m~/monod/src/monod/mminference.py\u001b[0m in \u001b[0;36mfit_all_genes\u001b[0;34m(self, model, search_data, num_cores)\u001b[0m\n\u001b[1;32m    938\u001b[0m         \u001b[0;31m#Do EM procedure over epochs\u001b[0m\u001b[0;34m\u001b[0m\u001b[0;34m\u001b[0m\u001b[0;34m\u001b[0m\u001b[0m\n\u001b[0;32m--> 939\u001b[0;31m         \u001b[0mQ\u001b[0m\u001b[0;34m,\u001b[0m \u001b[0mlower_bound\u001b[0m\u001b[0;34m,\u001b[0m \u001b[0mall_qs\u001b[0m\u001b[0;34m,\u001b[0m \u001b[0mall_klds\u001b[0m \u001b[0;34m=\u001b[0m \u001b[0mself\u001b[0m\u001b[0;34m.\u001b[0m\u001b[0m_fit\u001b[0m\u001b[0;34m(\u001b[0m\u001b[0mmodel\u001b[0m\u001b[0;34m,\u001b[0m\u001b[0msearch_data\u001b[0m\u001b[0;34m,\u001b[0m\u001b[0mnum_cores\u001b[0m\u001b[0;34m=\u001b[0m\u001b[0mnum_cores\u001b[0m\u001b[0;34m)\u001b[0m\u001b[0;34m\u001b[0m\u001b[0;34m\u001b[0m\u001b[0m\n\u001b[0m\u001b[1;32m    940\u001b[0m \u001b[0;34m\u001b[0m\u001b[0m\n",
      "\u001b[0;32m~/monod/src/monod/mminference.py\u001b[0m in \u001b[0;36m_fit\u001b[0;34m(self, model, search_data, EPS, num_cores)\u001b[0m\n\u001b[1;32m    783\u001b[0m \u001b[0;34m\u001b[0m\u001b[0m\n\u001b[0;32m--> 784\u001b[0;31m                 \u001b[0mself\u001b[0m\u001b[0;34m.\u001b[0m\u001b[0m_m_step\u001b[0m\u001b[0;34m(\u001b[0m\u001b[0mmodel\u001b[0m\u001b[0;34m,\u001b[0m\u001b[0mk_dict\u001b[0m\u001b[0;34m,\u001b[0m\u001b[0mQ\u001b[0m\u001b[0;34m,\u001b[0m\u001b[0mnum_cores\u001b[0m\u001b[0;34m=\u001b[0m\u001b[0mnum_cores\u001b[0m\u001b[0;34m)\u001b[0m\u001b[0;34m\u001b[0m\u001b[0;34m\u001b[0m\u001b[0m\n\u001b[0m\u001b[1;32m    785\u001b[0m                 \u001b[0mkl\u001b[0m \u001b[0;34m=\u001b[0m \u001b[0mnp\u001b[0m\u001b[0;34m.\u001b[0m\u001b[0mzeros\u001b[0m\u001b[0;34m(\u001b[0m\u001b[0;34m(\u001b[0m\u001b[0msearch_data\u001b[0m\u001b[0;34m.\u001b[0m\u001b[0mn_genes\u001b[0m\u001b[0;34m,\u001b[0m\u001b[0mself\u001b[0m\u001b[0;34m.\u001b[0m\u001b[0mk\u001b[0m\u001b[0;34m)\u001b[0m\u001b[0;34m)\u001b[0m\u001b[0;34m\u001b[0m\u001b[0;34m\u001b[0m\u001b[0m\n",
      "\u001b[0;32m~/monod/src/monod/mminference.py\u001b[0m in \u001b[0;36m_m_step\u001b[0;34m(self, model, k_dict, Q, EPS, num_cores)\u001b[0m\n\u001b[1;32m    667\u001b[0m                 \u001b[0mtermination_message\u001b[0m\u001b[0;34m=\u001b[0m\u001b[0;34m\"The M step has been manually terminated.\"\u001b[0m\u001b[0;34m,\u001b[0m\u001b[0;34m\u001b[0m\u001b[0;34m\u001b[0m\u001b[0m\n\u001b[0;32m--> 668\u001b[0;31m                 \u001b[0merror_message\u001b[0m\u001b[0;34m=\u001b[0m\u001b[0;34m\"The M step has been terminated due to computation issues. Please check MoM estimates.\"\u001b[0m\u001b[0;34m,\u001b[0m\u001b[0;34m\u001b[0m\u001b[0;34m\u001b[0m\u001b[0m\n\u001b[0m\u001b[1;32m    669\u001b[0m             )\n",
      "\u001b[0;32m~/monod/src/monod/mminference.py\u001b[0m in \u001b[0;36mparallelize\u001b[0;34m(function, iterable, num_cores, num_entries, completion_message, termination_message, error_message, use_tqdm)\u001b[0m\n\u001b[1;32m   2537\u001b[0m         \u001b[0mlog\u001b[0m\u001b[0;34m.\u001b[0m\u001b[0mwarning\u001b[0m\u001b[0;34m(\u001b[0m\u001b[0mtermination_message\u001b[0m\u001b[0;34m)\u001b[0m\u001b[0;34m\u001b[0m\u001b[0;34m\u001b[0m\u001b[0m\n\u001b[0;32m-> 2538\u001b[0;31m         \u001b[0mpool\u001b[0m\u001b[0;34m.\u001b[0m\u001b[0mterminate\u001b[0m\u001b[0;34m(\u001b[0m\u001b[0;34m)\u001b[0m\u001b[0;34m\u001b[0m\u001b[0;34m\u001b[0m\u001b[0m\n\u001b[0m\u001b[1;32m   2539\u001b[0m         \u001b[0mpool\u001b[0m\u001b[0;34m.\u001b[0m\u001b[0mjoin\u001b[0m\u001b[0;34m(\u001b[0m\u001b[0;34m)\u001b[0m\u001b[0;34m\u001b[0m\u001b[0;34m\u001b[0m\u001b[0m\n",
      "\u001b[0;32m~/miniconda3/envs/py37/lib/python3.7/multiprocessing/pool.py\u001b[0m in \u001b[0;36mterminate\u001b[0;34m(self)\u001b[0m\n\u001b[1;32m    547\u001b[0m         \u001b[0mself\u001b[0m\u001b[0;34m.\u001b[0m\u001b[0m_worker_handler\u001b[0m\u001b[0;34m.\u001b[0m\u001b[0m_state\u001b[0m \u001b[0;34m=\u001b[0m \u001b[0mTERMINATE\u001b[0m\u001b[0;34m\u001b[0m\u001b[0;34m\u001b[0m\u001b[0m\n\u001b[0;32m--> 548\u001b[0;31m         \u001b[0mself\u001b[0m\u001b[0;34m.\u001b[0m\u001b[0m_terminate\u001b[0m\u001b[0;34m(\u001b[0m\u001b[0;34m)\u001b[0m\u001b[0;34m\u001b[0m\u001b[0;34m\u001b[0m\u001b[0m\n\u001b[0m\u001b[1;32m    549\u001b[0m \u001b[0;34m\u001b[0m\u001b[0m\n",
      "\u001b[0;32m~/miniconda3/envs/py37/lib/python3.7/multiprocessing/util.py\u001b[0m in \u001b[0;36m__call__\u001b[0;34m(self, wr, _finalizer_registry, sub_debug, getpid)\u001b[0m\n\u001b[1;32m    223\u001b[0m                           self._callback, self._args, self._kwargs)\n\u001b[0;32m--> 224\u001b[0;31m                 \u001b[0mres\u001b[0m \u001b[0;34m=\u001b[0m \u001b[0mself\u001b[0m\u001b[0;34m.\u001b[0m\u001b[0m_callback\u001b[0m\u001b[0;34m(\u001b[0m\u001b[0;34m*\u001b[0m\u001b[0mself\u001b[0m\u001b[0;34m.\u001b[0m\u001b[0m_args\u001b[0m\u001b[0;34m,\u001b[0m \u001b[0;34m**\u001b[0m\u001b[0mself\u001b[0m\u001b[0;34m.\u001b[0m\u001b[0m_kwargs\u001b[0m\u001b[0;34m)\u001b[0m\u001b[0;34m\u001b[0m\u001b[0;34m\u001b[0m\u001b[0m\n\u001b[0m\u001b[1;32m    225\u001b[0m             \u001b[0mself\u001b[0m\u001b[0;34m.\u001b[0m\u001b[0m_weakref\u001b[0m \u001b[0;34m=\u001b[0m \u001b[0mself\u001b[0m\u001b[0;34m.\u001b[0m\u001b[0m_callback\u001b[0m \u001b[0;34m=\u001b[0m \u001b[0mself\u001b[0m\u001b[0;34m.\u001b[0m\u001b[0m_args\u001b[0m \u001b[0;34m=\u001b[0m\u001b[0;31m \u001b[0m\u001b[0;31m\\\u001b[0m\u001b[0;34m\u001b[0m\u001b[0;34m\u001b[0m\u001b[0m\n",
      "\u001b[0;32m~/miniconda3/envs/py37/lib/python3.7/multiprocessing/pool.py\u001b[0m in \u001b[0;36m_terminate_pool\u001b[0;34m(cls, taskqueue, inqueue, outqueue, pool, worker_handler, task_handler, result_handler, cache)\u001b[0m\n\u001b[1;32m    616\u001b[0m                     \u001b[0mutil\u001b[0m\u001b[0;34m.\u001b[0m\u001b[0mdebug\u001b[0m\u001b[0;34m(\u001b[0m\u001b[0;34m'cleaning up worker %d'\u001b[0m \u001b[0;34m%\u001b[0m \u001b[0mp\u001b[0m\u001b[0;34m.\u001b[0m\u001b[0mpid\u001b[0m\u001b[0;34m)\u001b[0m\u001b[0;34m\u001b[0m\u001b[0;34m\u001b[0m\u001b[0m\n\u001b[0;32m--> 617\u001b[0;31m                     \u001b[0mp\u001b[0m\u001b[0;34m.\u001b[0m\u001b[0mjoin\u001b[0m\u001b[0;34m(\u001b[0m\u001b[0;34m)\u001b[0m\u001b[0;34m\u001b[0m\u001b[0;34m\u001b[0m\u001b[0m\n\u001b[0m\u001b[1;32m    618\u001b[0m \u001b[0;34m\u001b[0m\u001b[0m\n",
      "\u001b[0;32m~/miniconda3/envs/py37/lib/python3.7/multiprocessing/process.py\u001b[0m in \u001b[0;36mjoin\u001b[0;34m(self, timeout)\u001b[0m\n\u001b[1;32m    139\u001b[0m         \u001b[0;32massert\u001b[0m \u001b[0mself\u001b[0m\u001b[0;34m.\u001b[0m\u001b[0m_popen\u001b[0m \u001b[0;32mis\u001b[0m \u001b[0;32mnot\u001b[0m \u001b[0;32mNone\u001b[0m\u001b[0;34m,\u001b[0m \u001b[0;34m'can only join a started process'\u001b[0m\u001b[0;34m\u001b[0m\u001b[0;34m\u001b[0m\u001b[0m\n\u001b[0;32m--> 140\u001b[0;31m         \u001b[0mres\u001b[0m \u001b[0;34m=\u001b[0m \u001b[0mself\u001b[0m\u001b[0;34m.\u001b[0m\u001b[0m_popen\u001b[0m\u001b[0;34m.\u001b[0m\u001b[0mwait\u001b[0m\u001b[0;34m(\u001b[0m\u001b[0mtimeout\u001b[0m\u001b[0;34m)\u001b[0m\u001b[0;34m\u001b[0m\u001b[0;34m\u001b[0m\u001b[0m\n\u001b[0m\u001b[1;32m    141\u001b[0m         \u001b[0;32mif\u001b[0m \u001b[0mres\u001b[0m \u001b[0;32mis\u001b[0m \u001b[0;32mnot\u001b[0m \u001b[0;32mNone\u001b[0m\u001b[0;34m:\u001b[0m\u001b[0;34m\u001b[0m\u001b[0;34m\u001b[0m\u001b[0m\n",
      "\u001b[0;32m~/miniconda3/envs/py37/lib/python3.7/multiprocessing/popen_fork.py\u001b[0m in \u001b[0;36mwait\u001b[0;34m(self, timeout)\u001b[0m\n\u001b[1;32m     47\u001b[0m             \u001b[0;31m# This shouldn't block if wait() returned successfully.\u001b[0m\u001b[0;34m\u001b[0m\u001b[0;34m\u001b[0m\u001b[0;34m\u001b[0m\u001b[0m\n\u001b[0;32m---> 48\u001b[0;31m             \u001b[0;32mreturn\u001b[0m \u001b[0mself\u001b[0m\u001b[0;34m.\u001b[0m\u001b[0mpoll\u001b[0m\u001b[0;34m(\u001b[0m\u001b[0mos\u001b[0m\u001b[0;34m.\u001b[0m\u001b[0mWNOHANG\u001b[0m \u001b[0;32mif\u001b[0m \u001b[0mtimeout\u001b[0m \u001b[0;34m==\u001b[0m \u001b[0;36m0.0\u001b[0m \u001b[0;32melse\u001b[0m \u001b[0;36m0\u001b[0m\u001b[0;34m)\u001b[0m\u001b[0;34m\u001b[0m\u001b[0;34m\u001b[0m\u001b[0m\n\u001b[0m\u001b[1;32m     49\u001b[0m         \u001b[0;32mreturn\u001b[0m \u001b[0mself\u001b[0m\u001b[0;34m.\u001b[0m\u001b[0mreturncode\u001b[0m\u001b[0;34m\u001b[0m\u001b[0;34m\u001b[0m\u001b[0m\n",
      "\u001b[0;32m~/miniconda3/envs/py37/lib/python3.7/multiprocessing/popen_fork.py\u001b[0m in \u001b[0;36mpoll\u001b[0;34m(self, flag)\u001b[0m\n\u001b[1;32m     27\u001b[0m             \u001b[0;32mtry\u001b[0m\u001b[0;34m:\u001b[0m\u001b[0;34m\u001b[0m\u001b[0;34m\u001b[0m\u001b[0m\n\u001b[0;32m---> 28\u001b[0;31m                 \u001b[0mpid\u001b[0m\u001b[0;34m,\u001b[0m \u001b[0msts\u001b[0m \u001b[0;34m=\u001b[0m \u001b[0mos\u001b[0m\u001b[0;34m.\u001b[0m\u001b[0mwaitpid\u001b[0m\u001b[0;34m(\u001b[0m\u001b[0mself\u001b[0m\u001b[0;34m.\u001b[0m\u001b[0mpid\u001b[0m\u001b[0;34m,\u001b[0m \u001b[0mflag\u001b[0m\u001b[0;34m)\u001b[0m\u001b[0;34m\u001b[0m\u001b[0;34m\u001b[0m\u001b[0m\n\u001b[0m\u001b[1;32m     29\u001b[0m             \u001b[0;32mexcept\u001b[0m \u001b[0mOSError\u001b[0m \u001b[0;32mas\u001b[0m \u001b[0me\u001b[0m\u001b[0;34m:\u001b[0m\u001b[0;34m\u001b[0m\u001b[0;34m\u001b[0m\u001b[0m\n",
      "\u001b[0;31mKeyboardInterrupt\u001b[0m: ",
      "\nDuring handling of the above exception, another exception occurred:\n",
      "\u001b[0;31mAttributeError\u001b[0m                            Traceback (most recent call last)",
      "\u001b[0;32m~/.local/lib/python3.7/site-packages/IPython/core/interactiveshell.py\u001b[0m in \u001b[0;36mshowtraceback\u001b[0;34m(self, exc_tuple, filename, tb_offset, exception_only, running_compiled_code)\u001b[0m\n\u001b[1;32m   2076\u001b[0m                         \u001b[0;31m# in the engines. This should return a list of strings.\u001b[0m\u001b[0;34m\u001b[0m\u001b[0;34m\u001b[0m\u001b[0;34m\u001b[0m\u001b[0m\n\u001b[0;32m-> 2077\u001b[0;31m                         \u001b[0mstb\u001b[0m \u001b[0;34m=\u001b[0m \u001b[0mvalue\u001b[0m\u001b[0;34m.\u001b[0m\u001b[0m_render_traceback_\u001b[0m\u001b[0;34m(\u001b[0m\u001b[0;34m)\u001b[0m\u001b[0;34m\u001b[0m\u001b[0;34m\u001b[0m\u001b[0m\n\u001b[0m\u001b[1;32m   2078\u001b[0m                     \u001b[0;32mexcept\u001b[0m \u001b[0mException\u001b[0m\u001b[0;34m:\u001b[0m\u001b[0;34m\u001b[0m\u001b[0;34m\u001b[0m\u001b[0m\n",
      "\u001b[0;31mAttributeError\u001b[0m: 'KeyboardInterrupt' object has no attribute '_render_traceback_'",
      "\nDuring handling of the above exception, another exception occurred:\n",
      "\u001b[0;31mTypeError\u001b[0m                                 Traceback (most recent call last)",
      "    \u001b[0;31m[... skipping hidden 1 frame]\u001b[0m\n",
      "\u001b[0;32m~/.local/lib/python3.7/site-packages/IPython/core/interactiveshell.py\u001b[0m in \u001b[0;36mshowtraceback\u001b[0;34m(self, exc_tuple, filename, tb_offset, exception_only, running_compiled_code)\u001b[0m\n\u001b[1;32m   2078\u001b[0m                     \u001b[0;32mexcept\u001b[0m \u001b[0mException\u001b[0m\u001b[0;34m:\u001b[0m\u001b[0;34m\u001b[0m\u001b[0;34m\u001b[0m\u001b[0m\n\u001b[1;32m   2079\u001b[0m                         stb = self.InteractiveTB.structured_traceback(etype,\n\u001b[0;32m-> 2080\u001b[0;31m                                             value, tb, tb_offset=tb_offset)\n\u001b[0m\u001b[1;32m   2081\u001b[0m \u001b[0;34m\u001b[0m\u001b[0m\n\u001b[1;32m   2082\u001b[0m                     \u001b[0mself\u001b[0m\u001b[0;34m.\u001b[0m\u001b[0m_showtraceback\u001b[0m\u001b[0;34m(\u001b[0m\u001b[0metype\u001b[0m\u001b[0;34m,\u001b[0m \u001b[0mvalue\u001b[0m\u001b[0;34m,\u001b[0m \u001b[0mstb\u001b[0m\u001b[0;34m)\u001b[0m\u001b[0;34m\u001b[0m\u001b[0;34m\u001b[0m\u001b[0m\n",
      "\u001b[0;32m~/.local/lib/python3.7/site-packages/IPython/core/ultratb.py\u001b[0m in \u001b[0;36mstructured_traceback\u001b[0;34m(self, etype, value, tb, tb_offset, number_of_lines_of_context)\u001b[0m\n\u001b[1;32m   1366\u001b[0m             \u001b[0mself\u001b[0m\u001b[0;34m.\u001b[0m\u001b[0mtb\u001b[0m \u001b[0;34m=\u001b[0m \u001b[0mtb\u001b[0m\u001b[0;34m\u001b[0m\u001b[0;34m\u001b[0m\u001b[0m\n\u001b[1;32m   1367\u001b[0m         return FormattedTB.structured_traceback(\n\u001b[0;32m-> 1368\u001b[0;31m             self, etype, value, tb, tb_offset, number_of_lines_of_context)\n\u001b[0m\u001b[1;32m   1369\u001b[0m \u001b[0;34m\u001b[0m\u001b[0m\n\u001b[1;32m   1370\u001b[0m \u001b[0;34m\u001b[0m\u001b[0m\n",
      "\u001b[0;32m~/.local/lib/python3.7/site-packages/IPython/core/ultratb.py\u001b[0m in \u001b[0;36mstructured_traceback\u001b[0;34m(self, etype, value, tb, tb_offset, number_of_lines_of_context)\u001b[0m\n\u001b[1;32m   1266\u001b[0m             \u001b[0;31m# Verbose modes need a full traceback\u001b[0m\u001b[0;34m\u001b[0m\u001b[0;34m\u001b[0m\u001b[0;34m\u001b[0m\u001b[0m\n\u001b[1;32m   1267\u001b[0m             return VerboseTB.structured_traceback(\n\u001b[0;32m-> 1268\u001b[0;31m                 \u001b[0mself\u001b[0m\u001b[0;34m,\u001b[0m \u001b[0metype\u001b[0m\u001b[0;34m,\u001b[0m \u001b[0mvalue\u001b[0m\u001b[0;34m,\u001b[0m \u001b[0mtb\u001b[0m\u001b[0;34m,\u001b[0m \u001b[0mtb_offset\u001b[0m\u001b[0;34m,\u001b[0m \u001b[0mnumber_of_lines_of_context\u001b[0m\u001b[0;34m\u001b[0m\u001b[0;34m\u001b[0m\u001b[0m\n\u001b[0m\u001b[1;32m   1269\u001b[0m             )\n\u001b[1;32m   1270\u001b[0m         \u001b[0;32melif\u001b[0m \u001b[0mmode\u001b[0m \u001b[0;34m==\u001b[0m \u001b[0;34m'Minimal'\u001b[0m\u001b[0;34m:\u001b[0m\u001b[0;34m\u001b[0m\u001b[0;34m\u001b[0m\u001b[0m\n",
      "\u001b[0;32m~/.local/lib/python3.7/site-packages/IPython/core/ultratb.py\u001b[0m in \u001b[0;36mstructured_traceback\u001b[0;34m(self, etype, evalue, etb, tb_offset, number_of_lines_of_context)\u001b[0m\n\u001b[1;32m   1123\u001b[0m \u001b[0;34m\u001b[0m\u001b[0m\n\u001b[1;32m   1124\u001b[0m         formatted_exception = self.format_exception_as_a_whole(etype, evalue, etb, number_of_lines_of_context,\n\u001b[0;32m-> 1125\u001b[0;31m                                                                tb_offset)\n\u001b[0m\u001b[1;32m   1126\u001b[0m \u001b[0;34m\u001b[0m\u001b[0m\n\u001b[1;32m   1127\u001b[0m         \u001b[0mcolors\u001b[0m \u001b[0;34m=\u001b[0m \u001b[0mself\u001b[0m\u001b[0;34m.\u001b[0m\u001b[0mColors\u001b[0m  \u001b[0;31m# just a shorthand + quicker name lookup\u001b[0m\u001b[0;34m\u001b[0m\u001b[0;34m\u001b[0m\u001b[0m\n",
      "\u001b[0;32m~/.local/lib/python3.7/site-packages/IPython/core/ultratb.py\u001b[0m in \u001b[0;36mformat_exception_as_a_whole\u001b[0;34m(self, etype, evalue, etb, number_of_lines_of_context, tb_offset)\u001b[0m\n\u001b[1;32m   1080\u001b[0m \u001b[0;34m\u001b[0m\u001b[0m\n\u001b[1;32m   1081\u001b[0m \u001b[0;34m\u001b[0m\u001b[0m\n\u001b[0;32m-> 1082\u001b[0;31m         \u001b[0mlast_unique\u001b[0m\u001b[0;34m,\u001b[0m \u001b[0mrecursion_repeat\u001b[0m \u001b[0;34m=\u001b[0m \u001b[0mfind_recursion\u001b[0m\u001b[0;34m(\u001b[0m\u001b[0morig_etype\u001b[0m\u001b[0;34m,\u001b[0m \u001b[0mevalue\u001b[0m\u001b[0;34m,\u001b[0m \u001b[0mrecords\u001b[0m\u001b[0;34m)\u001b[0m\u001b[0;34m\u001b[0m\u001b[0;34m\u001b[0m\u001b[0m\n\u001b[0m\u001b[1;32m   1083\u001b[0m \u001b[0;34m\u001b[0m\u001b[0m\n\u001b[1;32m   1084\u001b[0m         \u001b[0mframes\u001b[0m \u001b[0;34m=\u001b[0m \u001b[0mself\u001b[0m\u001b[0;34m.\u001b[0m\u001b[0mformat_records\u001b[0m\u001b[0;34m(\u001b[0m\u001b[0mrecords\u001b[0m\u001b[0;34m,\u001b[0m \u001b[0mlast_unique\u001b[0m\u001b[0;34m,\u001b[0m \u001b[0mrecursion_repeat\u001b[0m\u001b[0;34m)\u001b[0m\u001b[0;34m\u001b[0m\u001b[0;34m\u001b[0m\u001b[0m\n",
      "\u001b[0;32m~/.local/lib/python3.7/site-packages/IPython/core/ultratb.py\u001b[0m in \u001b[0;36mfind_recursion\u001b[0;34m(etype, value, records)\u001b[0m\n\u001b[1;32m    380\u001b[0m     \u001b[0;31m# first frame (from in to out) that looks different.\u001b[0m\u001b[0;34m\u001b[0m\u001b[0;34m\u001b[0m\u001b[0;34m\u001b[0m\u001b[0m\n\u001b[1;32m    381\u001b[0m     \u001b[0;32mif\u001b[0m \u001b[0;32mnot\u001b[0m \u001b[0mis_recursion_error\u001b[0m\u001b[0;34m(\u001b[0m\u001b[0metype\u001b[0m\u001b[0;34m,\u001b[0m \u001b[0mvalue\u001b[0m\u001b[0;34m,\u001b[0m \u001b[0mrecords\u001b[0m\u001b[0;34m)\u001b[0m\u001b[0;34m:\u001b[0m\u001b[0;34m\u001b[0m\u001b[0;34m\u001b[0m\u001b[0m\n\u001b[0;32m--> 382\u001b[0;31m         \u001b[0;32mreturn\u001b[0m \u001b[0mlen\u001b[0m\u001b[0;34m(\u001b[0m\u001b[0mrecords\u001b[0m\u001b[0;34m)\u001b[0m\u001b[0;34m,\u001b[0m \u001b[0;36m0\u001b[0m\u001b[0;34m\u001b[0m\u001b[0;34m\u001b[0m\u001b[0m\n\u001b[0m\u001b[1;32m    383\u001b[0m \u001b[0;34m\u001b[0m\u001b[0m\n\u001b[1;32m    384\u001b[0m     \u001b[0;31m# Select filename, lineno, func_name to track frames with\u001b[0m\u001b[0;34m\u001b[0m\u001b[0;34m\u001b[0m\u001b[0;34m\u001b[0m\u001b[0m\n",
      "\u001b[0;31mTypeError\u001b[0m: object of type 'NoneType' has no len()"
     ]
    }
   ],
   "source": [
    "# #For each loom in looms from ./hvg_objs\n",
    "\n",
    "# !mkdir /home/tchari/perturbCME/notebooks/fits/meKruns_0209\n",
    "\n",
    "# dir_strings = []\n",
    "# data_strings = []\n",
    "# result_strings = []\n",
    "\n",
    "# #Save method, clustering, mat_in (U,S, etc), hyper (K or res), hvgs, data, ARI, AMI\n",
    "# meK_res = pd.DataFrame()\n",
    "# meths = []\n",
    "# result = []\n",
    "# mats = []\n",
    "# hyper = []\n",
    "# hvgs = []\n",
    "# data = []\n",
    "# ari = []\n",
    "# ami = []\n",
    "\n",
    "# for d in d_strings:\n",
    "    \n",
    "#     #Get tech param by keyword (datas) in loom paths\n",
    "#     ind = [i in d for i in datas]\n",
    "    \n",
    "#     #Inference params for sampling\n",
    "#     tech_tup = [list(samps.Cu[ind])[0],list(samps.Lam[ind])[0]]\n",
    "    \n",
    "#     #Preprocessing params for filepaths\n",
    "#     trans = list(samps.Transcrip[ind])[0]\n",
    "#     k = list(samps.Clusters[ind])[0]\n",
    "#     data_name = list(samps.Dataset[ind])[0]\n",
    "    \n",
    "    \n",
    "#     ds = lp.connect(d)\n",
    "#     num_genes = len(ds.ra[attribute_names[1]])\n",
    "#     num_cells = len(ds.ca[attribute_names[2]])\n",
    "#     true_labs = list(ds.ca['subclass_label'])\n",
    "#     ds.close()\n",
    "#     print(data_name+' with '+str(num_genes)+' HVGs')\n",
    "    \n",
    "#     Ks = [2,k,k+5,k+10]\n",
    "\n",
    "#     for clus in Ks:\n",
    "#         # ******** TRY SETTING GENE MARKERS TO ONES THAT MEET VAR AND MEAN THRESH *************\n",
    "#         #Run Monod preprocessing to set up files for run, leave room for genes to be removed with low U/S\n",
    "#         dir_string,dataset_string = monod.preprocess.construct_batch([d], \\\n",
    "#                                                      trans, \\\n",
    "#                                                      [data_name], \\\n",
    "#                                                      attribute_names=attribute_names,\\\n",
    "#                                                      batch_location='./fits/meKruns_0209', \\\n",
    "#                                                      meta=data_name+'_K'+str(clus), \\\n",
    "#                                                      batch_id=1, \\\n",
    "#                                                      n_genes=num_genes-60,exp_filter_threshold=None,viz=False)\n",
    "#         dir_strings += [dir_string]\n",
    "#         data_strings += [dataset_string]\n",
    "\n",
    "#         #Set model and run meK-Means\n",
    "        \n",
    "#         #Define bounds for params\n",
    "#         phys_lb = [-2.0, -1.8, -1.8 ] \n",
    "#         phys_ub = [4.2, 2.5, 2.5] \n",
    "#         samp_lb = tech_tup \n",
    "#         samp_ub = tech_tup  \n",
    "#         gridsize = [1,1] #Already have tech params\n",
    "    \n",
    "\n",
    "#         epochs = 10\n",
    "\n",
    "#         # ---------------- meK-Means Inference ---------------- \n",
    "#         #Define model with bursty transcription and Poisson molecule capture/sampling\n",
    "#         fitmodel = monod.cme_toolbox.CMEModel('Bursty','Poisson')\n",
    "\n",
    "#         #Set up mminference parameters\n",
    "#         inference_parameters = monod.mminference.InferenceParameters(phys_lb,phys_ub,samp_lb,samp_ub,gridsize,\\\n",
    "#                     dataset_string[0],fitmodel,k=clus,epochs=epochs,use_lengths = True,\n",
    "#                     gradient_params = {'max_iterations':5,'init_pattern':'moments','num_restarts':1})\n",
    "\n",
    "#         #Read in loom file with filtered barcodes\n",
    "#         search_data = monod.extract_data.extract_data(d, trans, data_name,\n",
    "#                     dataset_string[0], dir_string, viz=False, dataset_attr_names=attribute_names)\n",
    "\n",
    "#         #Run inference(fit_all_grid_points()) and Save result file strings\n",
    "#         full_result_string = inference_parameters.fit_all_grid_points(40,search_data) \n",
    "\n",
    "#         result_strings.append(full_result_string)\n",
    "        \n",
    "\n",
    "#         # ----------------  Save output ---------------- \n",
    "#         #Read in results and get cluster assignments\n",
    "#         sr = [monod.analysis.load_search_results(i) for i in full_result_string]\n",
    "        \n",
    "        \n",
    "#         cat_assigns = np.array([None]*num_cells) #cat_assigns is empty list of length = no. cell barcodes\n",
    "#         for i in range(len(sr)):\n",
    "#             r = sr[i]\n",
    "#             cat_assigns[r.filt] = r.assigns #denotes which cluster (k), cells were assigned to\n",
    "\n",
    "#         print('No. clus: ',len(np.unique(cat_assigns)))\n",
    "        \n",
    "\n",
    "#         meths += ['meK-Means']\n",
    "#         result += [cat_assigns]\n",
    "#         mats += ['U,S']\n",
    "#         hyper += [clus]\n",
    "#         hvgs += [num_genes]\n",
    "#         data += [data_name]\n",
    "#         ari += [adjusted_rand_score(true_labs,cat_assigns)]\n",
    "#         ami += [adjusted_mutual_info_score(true_labs,cat_assigns)]\n",
    "\n",
    "\n",
    "# meK_res['Method'] = meths\n",
    "# meK_res['Clustering'] = result\n",
    "# meK_res['Matrices'] = mats\n",
    "# meK_res['Hyperparam'] = hyper\n",
    "# meK_res['HVGs'] = hvgs\n",
    "# meK_res['Data'] = data\n",
    "# meK_res['ARI'] = ari\n",
    "# meK_res['AMI'] = ami\n",
    "    "
   ]
  },
  {
   "cell_type": "code",
   "execution_count": null,
   "id": "2a06f43a",
   "metadata": {},
   "outputs": [],
   "source": [
    "#Save method, clustering, mat_in (U,S, etc), hyper (K or res), hvgs, data, ARI, NMI\n",
    "meK_res.to_csv('./fits/meKruns_0209/meK_bench_results.csv',index=None)\n",
    "meK_res.head()\n"
   ]
  },
  {
   "cell_type": "code",
   "execution_count": 96,
   "id": "b6aa948c",
   "metadata": {},
   "outputs": [
    {
     "data": {
      "text/plain": [
       "['./fits/meKruns_0209/gg_240209_025_allen_b08_K2_1/allen_b08']"
      ]
     },
     "execution_count": 96,
     "metadata": {},
     "output_type": "execute_result"
    }
   ],
   "source": [
    "# dataset_string"
   ]
  },
  {
   "cell_type": "code",
   "execution_count": 37,
   "id": "312702d5",
   "metadata": {},
   "outputs": [],
   "source": [
    "meK_res.to_pickle('./fits/meKruns_0209/meK_res.pkl')\n",
    "#unpickled_df = pd.read_pickle(\"./meK_res.pkl\")"
   ]
  },
  {
   "cell_type": "code",
   "execution_count": 57,
   "id": "62f25863",
   "metadata": {},
   "outputs": [
    {
     "data": {
      "text/html": [
       "<div>\n",
       "<style scoped>\n",
       "    .dataframe tbody tr th:only-of-type {\n",
       "        vertical-align: middle;\n",
       "    }\n",
       "\n",
       "    .dataframe tbody tr th {\n",
       "        vertical-align: top;\n",
       "    }\n",
       "\n",
       "    .dataframe thead th {\n",
       "        text-align: right;\n",
       "    }\n",
       "</style>\n",
       "<table border=\"1\" class=\"dataframe\">\n",
       "  <thead>\n",
       "    <tr style=\"text-align: right;\">\n",
       "      <th></th>\n",
       "      <th>Method</th>\n",
       "      <th>Clustering</th>\n",
       "      <th>Matrices</th>\n",
       "      <th>Hyperparam</th>\n",
       "      <th>HVGs</th>\n",
       "      <th>Data</th>\n",
       "      <th>ARI</th>\n",
       "      <th>AMI</th>\n",
       "    </tr>\n",
       "  </thead>\n",
       "  <tbody>\n",
       "    <tr>\n",
       "      <th>0</th>\n",
       "      <td>meK-Means</td>\n",
       "      <td>[8, 0, 9, 8, 0, 8, 0, 6, 3, 8, 0, 0, 8, 0, 3, ...</td>\n",
       "      <td>U,S</td>\n",
       "      <td>10</td>\n",
       "      <td>299</td>\n",
       "      <td>allen_b08</td>\n",
       "      <td>0.578029</td>\n",
       "      <td>0.708480</td>\n",
       "    </tr>\n",
       "    <tr>\n",
       "      <th>1</th>\n",
       "      <td>meK-Means</td>\n",
       "      <td>[13, 8, 3, 13, 11, 13, 11, 14, 8, 13, 11, 12, ...</td>\n",
       "      <td>U,S</td>\n",
       "      <td>15</td>\n",
       "      <td>299</td>\n",
       "      <td>allen_b08</td>\n",
       "      <td>0.653899</td>\n",
       "      <td>0.753423</td>\n",
       "    </tr>\n",
       "    <tr>\n",
       "      <th>8</th>\n",
       "      <td>meK-Means</td>\n",
       "      <td>[7, 0, 4, 1, 0, 3, 0, 5, 8, 4, 0, 9, 7, 0, 8, ...</td>\n",
       "      <td>U,S</td>\n",
       "      <td>10</td>\n",
       "      <td>1999</td>\n",
       "      <td>allen_b08</td>\n",
       "      <td>0.430570</td>\n",
       "      <td>0.688994</td>\n",
       "    </tr>\n",
       "    <tr>\n",
       "      <th>9</th>\n",
       "      <td>meK-Means</td>\n",
       "      <td>[12, 12, 0, 4, 1, 12, 1, 13, 6, 0, 1, 9, 4, 12...</td>\n",
       "      <td>U,S</td>\n",
       "      <td>15</td>\n",
       "      <td>1999</td>\n",
       "      <td>allen_b08</td>\n",
       "      <td>0.389990</td>\n",
       "      <td>0.644156</td>\n",
       "    </tr>\n",
       "    <tr>\n",
       "      <th>12</th>\n",
       "      <td>meK-Means</td>\n",
       "      <td>[5, 6, 9, 5, 6, 3, 6, 7, 1, 6, 6, 0, 5, 6, 1, ...</td>\n",
       "      <td>U,S</td>\n",
       "      <td>10</td>\n",
       "      <td>3999</td>\n",
       "      <td>allen_b08</td>\n",
       "      <td>0.384243</td>\n",
       "      <td>0.623599</td>\n",
       "    </tr>\n",
       "    <tr>\n",
       "      <th>13</th>\n",
       "      <td>meK-Means</td>\n",
       "      <td>[4, 0, 8, 4, 0, 1, 0, 10, 2, 8, 0, 12, 4, 0, 2...</td>\n",
       "      <td>U,S</td>\n",
       "      <td>15</td>\n",
       "      <td>3999</td>\n",
       "      <td>allen_b08</td>\n",
       "      <td>0.344339</td>\n",
       "      <td>0.580940</td>\n",
       "    </tr>\n",
       "    <tr>\n",
       "      <th>16</th>\n",
       "      <td>meK-Means</td>\n",
       "      <td>[1, 2, 4, 1, 2, 9, 2, 9, 2, 9, 0, 6, 1, 2, 2, ...</td>\n",
       "      <td>U,S</td>\n",
       "      <td>10</td>\n",
       "      <td>1000</td>\n",
       "      <td>allen_b08</td>\n",
       "      <td>0.449858</td>\n",
       "      <td>0.691941</td>\n",
       "    </tr>\n",
       "    <tr>\n",
       "      <th>17</th>\n",
       "      <td>meK-Means</td>\n",
       "      <td>[7, 5, 8, 7, 10, 4, 10, 9, 10, 4, 10, 10, 7, 5...</td>\n",
       "      <td>U,S</td>\n",
       "      <td>15</td>\n",
       "      <td>1000</td>\n",
       "      <td>allen_b08</td>\n",
       "      <td>0.453119</td>\n",
       "      <td>0.655707</td>\n",
       "    </tr>\n",
       "  </tbody>\n",
       "</table>\n",
       "</div>"
      ],
      "text/plain": [
       "       Method                                         Clustering Matrices  \\\n",
       "0   meK-Means  [8, 0, 9, 8, 0, 8, 0, 6, 3, 8, 0, 0, 8, 0, 3, ...      U,S   \n",
       "1   meK-Means  [13, 8, 3, 13, 11, 13, 11, 14, 8, 13, 11, 12, ...      U,S   \n",
       "8   meK-Means  [7, 0, 4, 1, 0, 3, 0, 5, 8, 4, 0, 9, 7, 0, 8, ...      U,S   \n",
       "9   meK-Means  [12, 12, 0, 4, 1, 12, 1, 13, 6, 0, 1, 9, 4, 12...      U,S   \n",
       "12  meK-Means  [5, 6, 9, 5, 6, 3, 6, 7, 1, 6, 6, 0, 5, 6, 1, ...      U,S   \n",
       "13  meK-Means  [4, 0, 8, 4, 0, 1, 0, 10, 2, 8, 0, 12, 4, 0, 2...      U,S   \n",
       "16  meK-Means  [1, 2, 4, 1, 2, 9, 2, 9, 2, 9, 0, 6, 1, 2, 2, ...      U,S   \n",
       "17  meK-Means  [7, 5, 8, 7, 10, 4, 10, 9, 10, 4, 10, 10, 7, 5...      U,S   \n",
       "\n",
       "    Hyperparam  HVGs       Data       ARI       AMI  \n",
       "0           10   299  allen_b08  0.578029  0.708480  \n",
       "1           15   299  allen_b08  0.653899  0.753423  \n",
       "8           10  1999  allen_b08  0.430570  0.688994  \n",
       "9           15  1999  allen_b08  0.389990  0.644156  \n",
       "12          10  3999  allen_b08  0.384243  0.623599  \n",
       "13          15  3999  allen_b08  0.344339  0.580940  \n",
       "16          10  1000  allen_b08  0.449858  0.691941  \n",
       "17          15  1000  allen_b08  0.453119  0.655707  "
      ]
     },
     "execution_count": 57,
     "metadata": {},
     "output_type": "execute_result"
    }
   ],
   "source": [
    "unpickled_df = pd.read_pickle('./fits/meKruns_0209/meK_res.pkl')\n",
    "unpickled_df[unpickled_df.Data.isin(['allen_b08'])]"
   ]
  },
  {
   "cell_type": "markdown",
   "id": "43f3f9db",
   "metadata": {},
   "source": [
    "### **Leiden & K-Means**\n"
   ]
  },
  {
   "cell_type": "code",
   "execution_count": 26,
   "id": "2dc9e93f",
   "metadata": {},
   "outputs": [],
   "source": [
    "#Perform standard normalization (read-depth + log1p)\n",
    "def norm_mat(mat,new_tot=1e4):\n",
    "    '''\n",
    "    mat: cell x gene matrix\n",
    "    '''  \n",
    "    tots = np.sum(mat,axis=1)\n",
    "    divids = (new_tot/tots)[:,None]\n",
    "    mat_norm = mat*divids\n",
    "    mat_norm = np.log1p(mat_norm)\n",
    "    \n",
    "    mat_norm[np.isnan(mat_norm)] = 0\n",
    "    \n",
    "    return mat_norm"
   ]
  },
  {
   "cell_type": "code",
   "execution_count": 27,
   "id": "f91e237d",
   "metadata": {},
   "outputs": [],
   "source": [
    "def get_graph(mat,neigh=30):\n",
    "    A = kneighbors_graph(mat, neigh, mode='connectivity', include_self=True)\n",
    "    sources, targets = A.nonzero()\n",
    "    weights = A[sources, targets]\n",
    "    if isinstance(weights, np.matrix):\n",
    "        weights = weights.A1\n",
    "    g = ig.Graph(directed=False) #True in scanpy, which is odd\n",
    "    g.add_vertices(A.shape[0])  # this adds adjacency.shape[0] vertices\n",
    "    g.add_edges(list(zip(sources, targets)))\n",
    "\n",
    "    g.es['weight'] = weights\n",
    "    \n",
    "    return g"
   ]
  },
  {
   "cell_type": "code",
   "execution_count": 28,
   "id": "9453d4f2",
   "metadata": {},
   "outputs": [],
   "source": [
    "# ! rm -r /home/tchari/perturbCME/notebooks/fits/LeidKMeansruns_0209"
   ]
  },
  {
   "cell_type": "code",
   "execution_count": 29,
   "id": "4c7f9ade",
   "metadata": {
    "scrolled": true
   },
   "outputs": [
    {
     "name": "stdout",
     "output_type": "stream",
     "text": [
      "mkdir: cannot create directory ‘/home/tchari/perturbCME/notebooks/fits/LeidKMeansruns_0209’: File exists\n",
      "allen_b08 with 299 HVGs\n",
      "cl5 with 2000 HVGs\n"
     ]
    },
    {
     "name": "stderr",
     "output_type": "stream",
     "text": [
      "/home/tchari/.local/lib/python3.7/site-packages/ipykernel_launcher.py:7: RuntimeWarning: divide by zero encountered in true_divide\n",
      "  import sys\n",
      "/home/tchari/.local/lib/python3.7/site-packages/ipykernel_launcher.py:8: RuntimeWarning: invalid value encountered in multiply\n",
      "  \n"
     ]
    },
    {
     "name": "stdout",
     "output_type": "stream",
     "text": [
      "allen_b02h01 with 299 HVGs\n"
     ]
    },
    {
     "name": "stderr",
     "output_type": "stream",
     "text": [
      "/home/tchari/.local/lib/python3.7/site-packages/ipykernel_launcher.py:7: RuntimeWarning: divide by zero encountered in true_divide\n",
      "  import sys\n",
      "/home/tchari/.local/lib/python3.7/site-packages/ipykernel_launcher.py:8: RuntimeWarning: invalid value encountered in multiply\n",
      "  \n"
     ]
    },
    {
     "name": "stdout",
     "output_type": "stream",
     "text": [
      "cl5 with 300 HVGs\n"
     ]
    },
    {
     "name": "stderr",
     "output_type": "stream",
     "text": [
      "/home/tchari/.local/lib/python3.7/site-packages/ipykernel_launcher.py:7: RuntimeWarning: divide by zero encountered in true_divide\n",
      "  import sys\n",
      "/home/tchari/.local/lib/python3.7/site-packages/ipykernel_launcher.py:8: RuntimeWarning: invalid value encountered in multiply\n",
      "  \n"
     ]
    },
    {
     "name": "stdout",
     "output_type": "stream",
     "text": [
      "allen_b08 with 1999 HVGs\n",
      "allen_b02h01 with 1000 HVGs\n",
      "allen_b08 with 3999 HVGs\n",
      "cl3 with 999 HVGs\n"
     ]
    },
    {
     "name": "stderr",
     "output_type": "stream",
     "text": [
      "/home/tchari/.local/lib/python3.7/site-packages/ipykernel_launcher.py:7: RuntimeWarning: divide by zero encountered in true_divide\n",
      "  import sys\n",
      "/home/tchari/.local/lib/python3.7/site-packages/ipykernel_launcher.py:8: RuntimeWarning: invalid value encountered in multiply\n",
      "  \n"
     ]
    },
    {
     "name": "stdout",
     "output_type": "stream",
     "text": [
      "allen_b08 with 1000 HVGs\n",
      "cl3 with 1999 HVGs\n"
     ]
    },
    {
     "name": "stderr",
     "output_type": "stream",
     "text": [
      "/home/tchari/.local/lib/python3.7/site-packages/ipykernel_launcher.py:7: RuntimeWarning: divide by zero encountered in true_divide\n",
      "  import sys\n",
      "/home/tchari/.local/lib/python3.7/site-packages/ipykernel_launcher.py:8: RuntimeWarning: invalid value encountered in multiply\n",
      "  \n"
     ]
    },
    {
     "name": "stdout",
     "output_type": "stream",
     "text": [
      "cl5 with 1000 HVGs\n"
     ]
    },
    {
     "name": "stderr",
     "output_type": "stream",
     "text": [
      "/home/tchari/.local/lib/python3.7/site-packages/ipykernel_launcher.py:7: RuntimeWarning: divide by zero encountered in true_divide\n",
      "  import sys\n",
      "/home/tchari/.local/lib/python3.7/site-packages/ipykernel_launcher.py:8: RuntimeWarning: invalid value encountered in multiply\n",
      "  \n"
     ]
    },
    {
     "name": "stdout",
     "output_type": "stream",
     "text": [
      "cl5 with 3999 HVGs\n"
     ]
    },
    {
     "name": "stderr",
     "output_type": "stream",
     "text": [
      "/home/tchari/.local/lib/python3.7/site-packages/ipykernel_launcher.py:7: RuntimeWarning: divide by zero encountered in true_divide\n",
      "  import sys\n",
      "/home/tchari/.local/lib/python3.7/site-packages/ipykernel_launcher.py:8: RuntimeWarning: invalid value encountered in multiply\n",
      "  \n"
     ]
    },
    {
     "name": "stdout",
     "output_type": "stream",
     "text": [
      "allen_b02h01 with 4000 HVGs\n",
      "cl3 with 4000 HVGs\n"
     ]
    },
    {
     "name": "stderr",
     "output_type": "stream",
     "text": [
      "/home/tchari/.local/lib/python3.7/site-packages/ipykernel_launcher.py:7: RuntimeWarning: divide by zero encountered in true_divide\n",
      "  import sys\n",
      "/home/tchari/.local/lib/python3.7/site-packages/ipykernel_launcher.py:8: RuntimeWarning: invalid value encountered in multiply\n",
      "  \n"
     ]
    },
    {
     "name": "stdout",
     "output_type": "stream",
     "text": [
      "allen_b02h01 with 2000 HVGs\n",
      "cl3 with 299 HVGs\n"
     ]
    },
    {
     "name": "stderr",
     "output_type": "stream",
     "text": [
      "/home/tchari/.local/lib/python3.7/site-packages/ipykernel_launcher.py:7: RuntimeWarning: divide by zero encountered in true_divide\n",
      "  import sys\n",
      "/home/tchari/.local/lib/python3.7/site-packages/ipykernel_launcher.py:8: RuntimeWarning: invalid value encountered in multiply\n",
      "  \n"
     ]
    }
   ],
   "source": [
    "#Make the U,S, U+S, Concat matrices, res 0.75,1,1.5,2\n",
    "\n",
    "!mkdir /home/tchari/perturbCME/notebooks/fits/LeidKMeansruns_0209\n",
    "\n",
    "\n",
    "#Save method, clustering, mat_in (U,S, etc), hyper (K or res), hvgs, data, ARI, AMI\n",
    "LK_res = pd.DataFrame()\n",
    "meths = []\n",
    "result = []\n",
    "mats = []\n",
    "hyper = []\n",
    "hvgs = []\n",
    "data = []\n",
    "ari = []\n",
    "ami = []\n",
    "\n",
    "for d in d_strings:\n",
    "    \n",
    "    #Get tech param by keyword (datas) in loom paths\n",
    "    ind = [i in d for i in datas]\n",
    "    \n",
    "    k = list(samps.Clusters[ind])[0]\n",
    "    data_name = list(samps.Dataset[ind])[0]\n",
    "    \n",
    "    \n",
    "    ds = lp.connect(d)\n",
    "    num_genes = len(ds.ra[attribute_names[1]])\n",
    "    num_cells = len(ds.ca[attribute_names[2]])\n",
    "    U = ds.layers[attribute_names[0][0]][:,:].T\n",
    "    S = ds.layers[attribute_names[0][1]][:,:].T\n",
    "    true_labs = list(ds.ca['subclass_label'])\n",
    "    ds.close()\n",
    "    print(data_name+' with '+str(num_genes)+' HVGs')\n",
    "    \n",
    "    res = [0.75,1,1.5,2]\n",
    "    \n",
    "    #Get U,S,U_p_S,U_c_S\n",
    "        \n",
    "    #Norm mats\n",
    "    U_norm = norm_mat(U)\n",
    "    S_norm = norm_mat(S)\n",
    "    U_p_S_norm = norm_mat(U+S)\n",
    "    U_c_S_norm = norm_mat(np.concatenate([U,S],axis=1))\n",
    "    \n",
    "    g_U = get_graph(U_norm)\n",
    "    g_S = get_graph(S_norm)\n",
    "    g_U_p_S = get_graph(U_p_S_norm)\n",
    "    g_U_c_S = get_graph(U_c_S_norm)\n",
    "    \n",
    "    # -------- Fit Leiden -------\n",
    "    for r in res:\n",
    "        \n",
    "        partition_type = la.RBConfigurationVertexPartition\n",
    "        #Make Knn graphs\n",
    "        for g in [g_U,g_S,g_U_p_S,g_U_c_S]:\n",
    "            part = la.find_partition(g, partition_type, \n",
    "                                        weights=np.array(g.es['weight']).astype(np.float64), \n",
    "                                        n_iterations=-1, resolution_parameter=r)\n",
    "\n",
    "            labels = np.array(part.membership)\n",
    "            \n",
    "            # ----- Save Results ---- ARI,AMI etc\n",
    "            meths += ['Leiden']\n",
    "            result += [labels]\n",
    "            hyper += [r]\n",
    "            hvgs += [num_genes]\n",
    "            data += [data_name]\n",
    "            ari += [adjusted_rand_score(true_labs,labels)]\n",
    "            ami += [adjusted_mutual_info_score(true_labs,labels)]\n",
    "            \n",
    "#             print('No. clus Leiden: ',len(np.unique(labels)))\n",
    "            \n",
    "        mats += ['U','S','U+S','UcatS']\n",
    "        \n",
    "        \n",
    "        \n",
    "    # -------- Fit K-Means with k -------\n",
    "    \n",
    "    for x in [U_norm,S_norm,U_p_S_norm,U_c_S_norm]:\n",
    "        kmeans = KMeans(n_clusters=k, random_state=0).fit(x)\n",
    "        labs = kmeans.labels_\n",
    "        \n",
    "        meths += ['K-Means']\n",
    "        result += [labs]\n",
    "        hyper += [k]\n",
    "        hvgs += [num_genes]\n",
    "        data += [data_name]\n",
    "        ari += [adjusted_rand_score(true_labs,labs)]\n",
    "        ami += [adjusted_mutual_info_score(true_labs,labs)]\n",
    "        \n",
    "#         print('No. clus K-Means: ',len(np.unique(labs)))\n",
    "        \n",
    "    mats += ['U','S','U+S','UcatS']\n",
    "\n",
    "    \n",
    "LK_res['Method'] = meths\n",
    "LK_res['Clustering'] = result\n",
    "LK_res['Matrices'] = mats\n",
    "LK_res['Hyperparam'] = hyper\n",
    "LK_res['HVGs'] = hvgs\n",
    "LK_res['Data'] = data\n",
    "LK_res['ARI'] = ari\n",
    "LK_res['AMI'] = ami"
   ]
  },
  {
   "cell_type": "code",
   "execution_count": null,
   "id": "b31864ed",
   "metadata": {},
   "outputs": [],
   "source": [
    "#Save method, clustering, mat_in (U,S, etc), hyper (K or res), hvgs, data, ARI, NMI\n",
    "# LK_res.to_csv('./fits/LeidKMeansruns_0209/LeidKMeans_bench_results.csv',index=None)\n",
    "# LK_res.head()\n",
    "\n"
   ]
  },
  {
   "cell_type": "code",
   "execution_count": 30,
   "id": "79e36c68",
   "metadata": {},
   "outputs": [],
   "source": [
    "LK_res.to_pickle('./fits/LeidKMeansruns_0209/LK_res.pkl')\n",
    "#unpickled_df = pd.read_pickle(\"./meK_res.pkl\")"
   ]
  },
  {
   "cell_type": "code",
   "execution_count": 45,
   "id": "7c0a54d3",
   "metadata": {},
   "outputs": [
    {
     "data": {
      "text/html": [
       "<div>\n",
       "<style scoped>\n",
       "    .dataframe tbody tr th:only-of-type {\n",
       "        vertical-align: middle;\n",
       "    }\n",
       "\n",
       "    .dataframe tbody tr th {\n",
       "        vertical-align: top;\n",
       "    }\n",
       "\n",
       "    .dataframe thead th {\n",
       "        text-align: right;\n",
       "    }\n",
       "</style>\n",
       "<table border=\"1\" class=\"dataframe\">\n",
       "  <thead>\n",
       "    <tr style=\"text-align: right;\">\n",
       "      <th></th>\n",
       "      <th>Method</th>\n",
       "      <th>Clustering</th>\n",
       "      <th>Matrices</th>\n",
       "      <th>Hyperparam</th>\n",
       "      <th>HVGs</th>\n",
       "      <th>Data</th>\n",
       "      <th>ARI</th>\n",
       "      <th>AMI</th>\n",
       "    </tr>\n",
       "  </thead>\n",
       "  <tbody>\n",
       "    <tr>\n",
       "      <th>0</th>\n",
       "      <td>Leiden</td>\n",
       "      <td>[1, 3, 4, 1, 0, 7, 2, 8, 3, 1, 0, 2, 1, 3, 3, ...</td>\n",
       "      <td>U</td>\n",
       "      <td>0.75</td>\n",
       "      <td>299</td>\n",
       "      <td>allen_b08</td>\n",
       "      <td>0.695484</td>\n",
       "      <td>0.829751</td>\n",
       "    </tr>\n",
       "    <tr>\n",
       "      <th>1</th>\n",
       "      <td>Leiden</td>\n",
       "      <td>[1, 2, 6, 1, 0, 8, 3, 9, 2, 10, 0, 3, 1, 2, 2,...</td>\n",
       "      <td>S</td>\n",
       "      <td>0.75</td>\n",
       "      <td>299</td>\n",
       "      <td>allen_b08</td>\n",
       "      <td>0.675494</td>\n",
       "      <td>0.845487</td>\n",
       "    </tr>\n",
       "    <tr>\n",
       "      <th>2</th>\n",
       "      <td>Leiden</td>\n",
       "      <td>[1, 2, 6, 1, 0, 8, 3, 9, 2, 10, 0, 3, 1, 2, 2,...</td>\n",
       "      <td>U+S</td>\n",
       "      <td>0.75</td>\n",
       "      <td>299</td>\n",
       "      <td>allen_b08</td>\n",
       "      <td>0.669919</td>\n",
       "      <td>0.843539</td>\n",
       "    </tr>\n",
       "    <tr>\n",
       "      <th>3</th>\n",
       "      <td>Leiden</td>\n",
       "      <td>[4, 1, 7, 4, 0, 9, 3, 10, 1, 2, 0, 3, 2, 1, 1,...</td>\n",
       "      <td>UcatS</td>\n",
       "      <td>0.75</td>\n",
       "      <td>299</td>\n",
       "      <td>allen_b08</td>\n",
       "      <td>0.576599</td>\n",
       "      <td>0.803110</td>\n",
       "    </tr>\n",
       "    <tr>\n",
       "      <th>4</th>\n",
       "      <td>Leiden</td>\n",
       "      <td>[4, 2, 6, 4, 0, 8, 1, 9, 2, 3, 0, 1, 3, 2, 2, ...</td>\n",
       "      <td>U</td>\n",
       "      <td>1.00</td>\n",
       "      <td>299</td>\n",
       "      <td>allen_b08</td>\n",
       "      <td>0.620979</td>\n",
       "      <td>0.806199</td>\n",
       "    </tr>\n",
       "    <tr>\n",
       "      <th>...</th>\n",
       "      <td>...</td>\n",
       "      <td>...</td>\n",
       "      <td>...</td>\n",
       "      <td>...</td>\n",
       "      <td>...</td>\n",
       "      <td>...</td>\n",
       "      <td>...</td>\n",
       "      <td>...</td>\n",
       "    </tr>\n",
       "    <tr>\n",
       "      <th>315</th>\n",
       "      <td>Leiden</td>\n",
       "      <td>[5, 5, 5, 5, 5, 2, 5, 5, 5, 5, 2, 5, 5, 5, 2, ...</td>\n",
       "      <td>UcatS</td>\n",
       "      <td>2.00</td>\n",
       "      <td>299</td>\n",
       "      <td>cl3</td>\n",
       "      <td>0.095006</td>\n",
       "      <td>0.204309</td>\n",
       "    </tr>\n",
       "    <tr>\n",
       "      <th>316</th>\n",
       "      <td>K-Means</td>\n",
       "      <td>[1, 1, 1, 1, 1, 1, 1, 1, 1, 1, 1, 1, 1, 1, 1, ...</td>\n",
       "      <td>U</td>\n",
       "      <td>3.00</td>\n",
       "      <td>299</td>\n",
       "      <td>cl3</td>\n",
       "      <td>0.030605</td>\n",
       "      <td>0.032775</td>\n",
       "    </tr>\n",
       "    <tr>\n",
       "      <th>317</th>\n",
       "      <td>K-Means</td>\n",
       "      <td>[2, 2, 2, 2, 2, 2, 2, 2, 2, 2, 2, 2, 2, 2, 2, ...</td>\n",
       "      <td>S</td>\n",
       "      <td>3.00</td>\n",
       "      <td>299</td>\n",
       "      <td>cl3</td>\n",
       "      <td>0.035307</td>\n",
       "      <td>0.037991</td>\n",
       "    </tr>\n",
       "    <tr>\n",
       "      <th>318</th>\n",
       "      <td>K-Means</td>\n",
       "      <td>[2, 2, 2, 2, 2, 2, 2, 2, 2, 2, 2, 2, 2, 2, 2, ...</td>\n",
       "      <td>U+S</td>\n",
       "      <td>3.00</td>\n",
       "      <td>299</td>\n",
       "      <td>cl3</td>\n",
       "      <td>0.034961</td>\n",
       "      <td>0.038963</td>\n",
       "    </tr>\n",
       "    <tr>\n",
       "      <th>319</th>\n",
       "      <td>K-Means</td>\n",
       "      <td>[0, 0, 0, 0, 0, 0, 0, 0, 0, 0, 0, 0, 0, 0, 0, ...</td>\n",
       "      <td>UcatS</td>\n",
       "      <td>3.00</td>\n",
       "      <td>299</td>\n",
       "      <td>cl3</td>\n",
       "      <td>0.036176</td>\n",
       "      <td>0.037989</td>\n",
       "    </tr>\n",
       "  </tbody>\n",
       "</table>\n",
       "<p>320 rows × 8 columns</p>\n",
       "</div>"
      ],
      "text/plain": [
       "      Method                                         Clustering Matrices  \\\n",
       "0     Leiden  [1, 3, 4, 1, 0, 7, 2, 8, 3, 1, 0, 2, 1, 3, 3, ...        U   \n",
       "1     Leiden  [1, 2, 6, 1, 0, 8, 3, 9, 2, 10, 0, 3, 1, 2, 2,...        S   \n",
       "2     Leiden  [1, 2, 6, 1, 0, 8, 3, 9, 2, 10, 0, 3, 1, 2, 2,...      U+S   \n",
       "3     Leiden  [4, 1, 7, 4, 0, 9, 3, 10, 1, 2, 0, 3, 2, 1, 1,...    UcatS   \n",
       "4     Leiden  [4, 2, 6, 4, 0, 8, 1, 9, 2, 3, 0, 1, 3, 2, 2, ...        U   \n",
       "..       ...                                                ...      ...   \n",
       "315   Leiden  [5, 5, 5, 5, 5, 2, 5, 5, 5, 5, 2, 5, 5, 5, 2, ...    UcatS   \n",
       "316  K-Means  [1, 1, 1, 1, 1, 1, 1, 1, 1, 1, 1, 1, 1, 1, 1, ...        U   \n",
       "317  K-Means  [2, 2, 2, 2, 2, 2, 2, 2, 2, 2, 2, 2, 2, 2, 2, ...        S   \n",
       "318  K-Means  [2, 2, 2, 2, 2, 2, 2, 2, 2, 2, 2, 2, 2, 2, 2, ...      U+S   \n",
       "319  K-Means  [0, 0, 0, 0, 0, 0, 0, 0, 0, 0, 0, 0, 0, 0, 0, ...    UcatS   \n",
       "\n",
       "     Hyperparam  HVGs       Data       ARI       AMI  \n",
       "0          0.75   299  allen_b08  0.695484  0.829751  \n",
       "1          0.75   299  allen_b08  0.675494  0.845487  \n",
       "2          0.75   299  allen_b08  0.669919  0.843539  \n",
       "3          0.75   299  allen_b08  0.576599  0.803110  \n",
       "4          1.00   299  allen_b08  0.620979  0.806199  \n",
       "..          ...   ...        ...       ...       ...  \n",
       "315        2.00   299        cl3  0.095006  0.204309  \n",
       "316        3.00   299        cl3  0.030605  0.032775  \n",
       "317        3.00   299        cl3  0.035307  0.037991  \n",
       "318        3.00   299        cl3  0.034961  0.038963  \n",
       "319        3.00   299        cl3  0.036176  0.037989  \n",
       "\n",
       "[320 rows x 8 columns]"
      ]
     },
     "execution_count": 45,
     "metadata": {},
     "output_type": "execute_result"
    }
   ],
   "source": [
    "unpickled_df_LK = pd.read_pickle(\"./fits/LeidKMeansruns_0209/LK_res.pkl\")\n",
    "unpickled_df_LK"
   ]
  },
  {
   "cell_type": "code",
   "execution_count": 58,
   "id": "a0ac0173",
   "metadata": {},
   "outputs": [
    {
     "data": {
      "text/html": [
       "<div>\n",
       "<style scoped>\n",
       "    .dataframe tbody tr th:only-of-type {\n",
       "        vertical-align: middle;\n",
       "    }\n",
       "\n",
       "    .dataframe tbody tr th {\n",
       "        vertical-align: top;\n",
       "    }\n",
       "\n",
       "    .dataframe thead th {\n",
       "        text-align: right;\n",
       "    }\n",
       "</style>\n",
       "<table border=\"1\" class=\"dataframe\">\n",
       "  <thead>\n",
       "    <tr style=\"text-align: right;\">\n",
       "      <th></th>\n",
       "      <th>Method</th>\n",
       "      <th>Clustering</th>\n",
       "      <th>Matrices</th>\n",
       "      <th>Hyperparam</th>\n",
       "      <th>HVGs</th>\n",
       "      <th>Data</th>\n",
       "      <th>ARI</th>\n",
       "      <th>AMI</th>\n",
       "    </tr>\n",
       "  </thead>\n",
       "  <tbody>\n",
       "    <tr>\n",
       "      <th>16</th>\n",
       "      <td>K-Means</td>\n",
       "      <td>[1, 3, 7, 1, 2, 5, 6, 4, 3, 9, 2, 6, 1, 3, 3, ...</td>\n",
       "      <td>U</td>\n",
       "      <td>10.0</td>\n",
       "      <td>299</td>\n",
       "      <td>allen_b08</td>\n",
       "      <td>0.620592</td>\n",
       "      <td>0.807500</td>\n",
       "    </tr>\n",
       "    <tr>\n",
       "      <th>17</th>\n",
       "      <td>K-Means</td>\n",
       "      <td>[0, 8, 9, 0, 2, 7, 3, 4, 8, 0, 2, 3, 0, 8, 8, ...</td>\n",
       "      <td>S</td>\n",
       "      <td>10.0</td>\n",
       "      <td>299</td>\n",
       "      <td>allen_b08</td>\n",
       "      <td>0.659600</td>\n",
       "      <td>0.830449</td>\n",
       "    </tr>\n",
       "    <tr>\n",
       "      <th>18</th>\n",
       "      <td>K-Means</td>\n",
       "      <td>[0, 6, 4, 0, 5, 8, 1, 7, 6, 2, 5, 1, 2, 6, 6, ...</td>\n",
       "      <td>U+S</td>\n",
       "      <td>10.0</td>\n",
       "      <td>299</td>\n",
       "      <td>allen_b08</td>\n",
       "      <td>0.626460</td>\n",
       "      <td>0.822118</td>\n",
       "    </tr>\n",
       "    <tr>\n",
       "      <th>19</th>\n",
       "      <td>K-Means</td>\n",
       "      <td>[0, 8, 5, 0, 6, 4, 2, 7, 8, 0, 6, 2, 0, 8, 8, ...</td>\n",
       "      <td>UcatS</td>\n",
       "      <td>10.0</td>\n",
       "      <td>299</td>\n",
       "      <td>allen_b08</td>\n",
       "      <td>0.658582</td>\n",
       "      <td>0.831881</td>\n",
       "    </tr>\n",
       "    <tr>\n",
       "      <th>96</th>\n",
       "      <td>K-Means</td>\n",
       "      <td>[6, 5, 7, 6, 4, 2, 3, 9, 5, 6, 4, 3, 6, 5, 5, ...</td>\n",
       "      <td>U</td>\n",
       "      <td>10.0</td>\n",
       "      <td>1999</td>\n",
       "      <td>allen_b08</td>\n",
       "      <td>0.660154</td>\n",
       "      <td>0.830761</td>\n",
       "    </tr>\n",
       "    <tr>\n",
       "      <th>97</th>\n",
       "      <td>K-Means</td>\n",
       "      <td>[7, 4, 5, 7, 0, 9, 6, 8, 4, 1, 0, 6, 1, 4, 4, ...</td>\n",
       "      <td>S</td>\n",
       "      <td>10.0</td>\n",
       "      <td>1999</td>\n",
       "      <td>allen_b08</td>\n",
       "      <td>0.640628</td>\n",
       "      <td>0.842625</td>\n",
       "    </tr>\n",
       "    <tr>\n",
       "      <th>98</th>\n",
       "      <td>K-Means</td>\n",
       "      <td>[1, 6, 4, 1, 0, 3, 9, 2, 6, 1, 0, 9, 1, 6, 6, ...</td>\n",
       "      <td>U+S</td>\n",
       "      <td>10.0</td>\n",
       "      <td>1999</td>\n",
       "      <td>allen_b08</td>\n",
       "      <td>0.667883</td>\n",
       "      <td>0.847009</td>\n",
       "    </tr>\n",
       "    <tr>\n",
       "      <th>99</th>\n",
       "      <td>K-Means</td>\n",
       "      <td>[2, 0, 7, 2, 4, 6, 1, 9, 0, 2, 4, 1, 2, 0, 0, ...</td>\n",
       "      <td>UcatS</td>\n",
       "      <td>10.0</td>\n",
       "      <td>1999</td>\n",
       "      <td>allen_b08</td>\n",
       "      <td>0.671042</td>\n",
       "      <td>0.849206</td>\n",
       "    </tr>\n",
       "    <tr>\n",
       "      <th>136</th>\n",
       "      <td>K-Means</td>\n",
       "      <td>[4, 7, 9, 4, 2, 6, 1, 3, 7, 0, 2, 1, 0, 7, 7, ...</td>\n",
       "      <td>U</td>\n",
       "      <td>10.0</td>\n",
       "      <td>3999</td>\n",
       "      <td>allen_b08</td>\n",
       "      <td>0.634984</td>\n",
       "      <td>0.825675</td>\n",
       "    </tr>\n",
       "    <tr>\n",
       "      <th>137</th>\n",
       "      <td>K-Means</td>\n",
       "      <td>[1, 0, 6, 1, 2, 8, 9, 5, 0, 8, 2, 9, 1, 0, 0, ...</td>\n",
       "      <td>S</td>\n",
       "      <td>10.0</td>\n",
       "      <td>3999</td>\n",
       "      <td>allen_b08</td>\n",
       "      <td>0.566372</td>\n",
       "      <td>0.803837</td>\n",
       "    </tr>\n",
       "    <tr>\n",
       "      <th>138</th>\n",
       "      <td>K-Means</td>\n",
       "      <td>[1, 6, 9, 1, 0, 7, 3, 4, 6, 8, 0, 3, 8, 6, 6, ...</td>\n",
       "      <td>U+S</td>\n",
       "      <td>10.0</td>\n",
       "      <td>3999</td>\n",
       "      <td>allen_b08</td>\n",
       "      <td>0.639776</td>\n",
       "      <td>0.841563</td>\n",
       "    </tr>\n",
       "    <tr>\n",
       "      <th>139</th>\n",
       "      <td>K-Means</td>\n",
       "      <td>[4, 0, 7, 4, 1, 5, 9, 3, 0, 4, 1, 9, 4, 6, 0, ...</td>\n",
       "      <td>UcatS</td>\n",
       "      <td>10.0</td>\n",
       "      <td>3999</td>\n",
       "      <td>allen_b08</td>\n",
       "      <td>0.687825</td>\n",
       "      <td>0.850877</td>\n",
       "    </tr>\n",
       "    <tr>\n",
       "      <th>176</th>\n",
       "      <td>K-Means</td>\n",
       "      <td>[8, 4, 7, 8, 2, 6, 1, 9, 4, 0, 2, 1, 0, 4, 4, ...</td>\n",
       "      <td>U</td>\n",
       "      <td>10.0</td>\n",
       "      <td>1000</td>\n",
       "      <td>allen_b08</td>\n",
       "      <td>0.636225</td>\n",
       "      <td>0.826155</td>\n",
       "    </tr>\n",
       "    <tr>\n",
       "      <th>177</th>\n",
       "      <td>K-Means</td>\n",
       "      <td>[1, 0, 7, 1, 2, 4, 8, 9, 0, 1, 2, 8, 1, 0, 0, ...</td>\n",
       "      <td>S</td>\n",
       "      <td>10.0</td>\n",
       "      <td>1000</td>\n",
       "      <td>allen_b08</td>\n",
       "      <td>0.668815</td>\n",
       "      <td>0.847021</td>\n",
       "    </tr>\n",
       "    <tr>\n",
       "      <th>178</th>\n",
       "      <td>K-Means</td>\n",
       "      <td>[1, 4, 2, 1, 0, 7, 5, 9, 4, 1, 0, 5, 1, 4, 4, ...</td>\n",
       "      <td>U+S</td>\n",
       "      <td>10.0</td>\n",
       "      <td>1000</td>\n",
       "      <td>allen_b08</td>\n",
       "      <td>0.667640</td>\n",
       "      <td>0.845347</td>\n",
       "    </tr>\n",
       "    <tr>\n",
       "      <th>179</th>\n",
       "      <td>K-Means</td>\n",
       "      <td>[1, 2, 9, 1, 3, 7, 4, 6, 2, 8, 3, 4, 8, 2, 2, ...</td>\n",
       "      <td>UcatS</td>\n",
       "      <td>10.0</td>\n",
       "      <td>1000</td>\n",
       "      <td>allen_b08</td>\n",
       "      <td>0.580296</td>\n",
       "      <td>0.804410</td>\n",
       "    </tr>\n",
       "  </tbody>\n",
       "</table>\n",
       "</div>"
      ],
      "text/plain": [
       "      Method                                         Clustering Matrices  \\\n",
       "16   K-Means  [1, 3, 7, 1, 2, 5, 6, 4, 3, 9, 2, 6, 1, 3, 3, ...        U   \n",
       "17   K-Means  [0, 8, 9, 0, 2, 7, 3, 4, 8, 0, 2, 3, 0, 8, 8, ...        S   \n",
       "18   K-Means  [0, 6, 4, 0, 5, 8, 1, 7, 6, 2, 5, 1, 2, 6, 6, ...      U+S   \n",
       "19   K-Means  [0, 8, 5, 0, 6, 4, 2, 7, 8, 0, 6, 2, 0, 8, 8, ...    UcatS   \n",
       "96   K-Means  [6, 5, 7, 6, 4, 2, 3, 9, 5, 6, 4, 3, 6, 5, 5, ...        U   \n",
       "97   K-Means  [7, 4, 5, 7, 0, 9, 6, 8, 4, 1, 0, 6, 1, 4, 4, ...        S   \n",
       "98   K-Means  [1, 6, 4, 1, 0, 3, 9, 2, 6, 1, 0, 9, 1, 6, 6, ...      U+S   \n",
       "99   K-Means  [2, 0, 7, 2, 4, 6, 1, 9, 0, 2, 4, 1, 2, 0, 0, ...    UcatS   \n",
       "136  K-Means  [4, 7, 9, 4, 2, 6, 1, 3, 7, 0, 2, 1, 0, 7, 7, ...        U   \n",
       "137  K-Means  [1, 0, 6, 1, 2, 8, 9, 5, 0, 8, 2, 9, 1, 0, 0, ...        S   \n",
       "138  K-Means  [1, 6, 9, 1, 0, 7, 3, 4, 6, 8, 0, 3, 8, 6, 6, ...      U+S   \n",
       "139  K-Means  [4, 0, 7, 4, 1, 5, 9, 3, 0, 4, 1, 9, 4, 6, 0, ...    UcatS   \n",
       "176  K-Means  [8, 4, 7, 8, 2, 6, 1, 9, 4, 0, 2, 1, 0, 4, 4, ...        U   \n",
       "177  K-Means  [1, 0, 7, 1, 2, 4, 8, 9, 0, 1, 2, 8, 1, 0, 0, ...        S   \n",
       "178  K-Means  [1, 4, 2, 1, 0, 7, 5, 9, 4, 1, 0, 5, 1, 4, 4, ...      U+S   \n",
       "179  K-Means  [1, 2, 9, 1, 3, 7, 4, 6, 2, 8, 3, 4, 8, 2, 2, ...    UcatS   \n",
       "\n",
       "     Hyperparam  HVGs       Data       ARI       AMI  \n",
       "16         10.0   299  allen_b08  0.620592  0.807500  \n",
       "17         10.0   299  allen_b08  0.659600  0.830449  \n",
       "18         10.0   299  allen_b08  0.626460  0.822118  \n",
       "19         10.0   299  allen_b08  0.658582  0.831881  \n",
       "96         10.0  1999  allen_b08  0.660154  0.830761  \n",
       "97         10.0  1999  allen_b08  0.640628  0.842625  \n",
       "98         10.0  1999  allen_b08  0.667883  0.847009  \n",
       "99         10.0  1999  allen_b08  0.671042  0.849206  \n",
       "136        10.0  3999  allen_b08  0.634984  0.825675  \n",
       "137        10.0  3999  allen_b08  0.566372  0.803837  \n",
       "138        10.0  3999  allen_b08  0.639776  0.841563  \n",
       "139        10.0  3999  allen_b08  0.687825  0.850877  \n",
       "176        10.0  1000  allen_b08  0.636225  0.826155  \n",
       "177        10.0  1000  allen_b08  0.668815  0.847021  \n",
       "178        10.0  1000  allen_b08  0.667640  0.845347  \n",
       "179        10.0  1000  allen_b08  0.580296  0.804410  "
      ]
     },
     "execution_count": 58,
     "metadata": {},
     "output_type": "execute_result"
    }
   ],
   "source": [
    "unpickled_df_LK[unpickled_df_LK.Method.isin(['K-Means']) & unpickled_df_LK.Data.isin(['allen_b08'])]"
   ]
  },
  {
   "cell_type": "code",
   "execution_count": null,
   "id": "024af698",
   "metadata": {},
   "outputs": [],
   "source": []
  },
  {
   "cell_type": "code",
   "execution_count": null,
   "id": "298cbe83",
   "metadata": {},
   "outputs": [],
   "source": [
    "\n"
   ]
  },
  {
   "cell_type": "code",
   "execution_count": null,
   "id": "b900a5c7",
   "metadata": {},
   "outputs": [],
   "source": []
  },
  {
   "cell_type": "code",
   "execution_count": null,
   "id": "16d5c142",
   "metadata": {},
   "outputs": [],
   "source": []
  },
  {
   "cell_type": "code",
   "execution_count": null,
   "id": "98a01eea",
   "metadata": {},
   "outputs": [],
   "source": []
  }
 ],
 "metadata": {
  "kernelspec": {
   "display_name": "Python 3 (ipykernel)",
   "language": "python",
   "name": "python3"
  },
  "language_info": {
   "codemirror_mode": {
    "name": "ipython",
    "version": 3
   },
   "file_extension": ".py",
   "mimetype": "text/x-python",
   "name": "python",
   "nbconvert_exporter": "python",
   "pygments_lexer": "ipython3",
   "version": "3.7.11"
  }
 },
 "nbformat": 4,
 "nbformat_minor": 5
}
