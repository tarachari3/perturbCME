{
 "cells": [
  {
   "cell_type": "code",
   "execution_count": 1,
   "id": "61a637bc",
   "metadata": {},
   "outputs": [],
   "source": [
    "import sys\n",
    "sys.path.insert(0, '/home/ggorin/projects/monod/src/')"
   ]
  },
  {
   "cell_type": "code",
   "execution_count": 2,
   "id": "0475f030",
   "metadata": {},
   "outputs": [],
   "source": [
    "import monod\n",
    "from monod import preprocess, extract_data, cme_toolbox, inference, analysis"
   ]
  },
  {
   "cell_type": "code",
   "execution_count": 3,
   "id": "da37b01c",
   "metadata": {},
   "outputs": [],
   "source": [
    "import pandas as pd\n",
    "import numpy as np\n",
    "import loompy as lp\n",
    "import matplotlib.pyplot as plt\n",
    "import scipy\n",
    "import seaborn as sns\n",
    "import scipy.stats\n",
    "\n",
    "from sklearn.ensemble import ExtraTreesClassifier, RandomForestClassifier, ExtraTreesRegressor, RandomForestRegressor\n",
    "from sklearn.model_selection import train_test_split, ShuffleSplit\n",
    "from sklearn.metrics import accuracy_score, classification_report"
   ]
  },
  {
   "cell_type": "code",
   "execution_count": 4,
   "id": "25e68296",
   "metadata": {},
   "outputs": [],
   "source": [
    "%matplotlib inline\n",
    "%config InlineBackend.figure_format = 'retina'"
   ]
  },
  {
   "cell_type": "code",
   "execution_count": 6,
   "id": "02b291c2",
   "metadata": {},
   "outputs": [],
   "source": [
    "meta_path = \"/home/tchari/metadata/\"\n",
    "meta = pd.read_csv(meta_path+'norman_GSE133344_filtered_cell_identities.csv')\n",
    "\n",
    "#'guide_identity'"
   ]
  },
  {
   "cell_type": "code",
   "execution_count": 7,
   "id": "97c38a7c",
   "metadata": {},
   "outputs": [],
   "source": [
    "ids = list(meta['guide_identity'].value_counts().index)\n",
    "counts = list(meta['guide_identity'].value_counts())\n",
    "\n",
    "saveCounts = pd.DataFrame()\n",
    "saveCounts['guide_identity'] = ids\n",
    "saveCounts['cells'] = counts"
   ]
  },
  {
   "cell_type": "code",
   "execution_count": 10,
   "id": "adad2b38",
   "metadata": {},
   "outputs": [
    {
     "data": {
      "text/plain": [
       "290"
      ]
     },
     "execution_count": 10,
     "metadata": {},
     "output_type": "execute_result"
    }
   ],
   "source": [
    "filt_ids = list(saveCounts['guide_identity'][saveCounts['cells'] >  50])\n",
    "len(filt_ids)"
   ]
  },
  {
   "cell_type": "code",
   "execution_count": 12,
   "id": "b367f8b9",
   "metadata": {},
   "outputs": [
    {
     "name": "stdout",
     "output_type": "stream",
     "text": [
      "dataset_meta:  ['allcrispr']\n",
      "\n",
      "dataset_names:  ['norman_allcrispr_NegCtrl10_NegCtrl0__NegCtrl10_NegCtrl0', 'norman_allcrispr_NegCtrl1_NegCtrl0__NegCtrl1_NegCtrl0', 'norman_allcrispr_NegCtrl11_NegCtrl0__NegCtrl11_NegCtrl0', 'norman_allcrispr_NegCtrl0_NegCtrl0__NegCtrl0_NegCtrl0', 'norman_allcrispr_CEBPE_RUNX1T1__CEBPE_RUNX1T1', 'norman_allcrispr_KLF1_NegCtrl0__KLF1_NegCtrl0', 'norman_allcrispr_TBX3_TBX2__TBX3_TBX2', 'norman_allcrispr_SLC4A1_NegCtrl0__SLC4A1_NegCtrl0', 'norman_allcrispr_ETS2_CNN1__ETS2_CNN1', 'norman_allcrispr_UBASH3B_OSR2__UBASH3B_OSR2', 'norman_allcrispr_DUSP9_ETS2__DUSP9_ETS2', 'norman_allcrispr_NegCtrl0_BAK1__NegCtrl0_BAK1', 'norman_allcrispr_NegCtrl0_KLF1__NegCtrl0_KLF1', 'norman_allcrispr_NegCtrl0_ETS2__NegCtrl0_ETS2', 'norman_allcrispr_DUSP9_NegCtrl0__DUSP9_NegCtrl0', 'norman_allcrispr_BAK1_NegCtrl0__BAK1_NegCtrl0', 'norman_allcrispr_SET_KLF1__SET_KLF1', 'norman_allcrispr_NegCtrl0_CEBPE__NegCtrl0_CEBPE', 'norman_allcrispr_CBL_NegCtrl0__CBL_NegCtrl0', 'norman_allcrispr_SET_CEBPE__SET_CEBPE', 'norman_allcrispr_SET_NegCtrl0__SET_NegCtrl0', 'norman_allcrispr_ZNF318_NegCtrl0__ZNF318_NegCtrl0', 'norman_allcrispr_LHX1_ELMSAN1__LHX1_ELMSAN1', 'norman_allcrispr_FOSB_NegCtrl0__FOSB_NegCtrl0', 'norman_allcrispr_MAML2_NegCtrl0__MAML2_NegCtrl0', 'norman_allcrispr_LYL1_IER5L__LYL1_IER5L', 'norman_allcrispr_ZC3HAV1_HOXC13__ZC3HAV1_HOXC13', 'norman_allcrispr_NegCtrl0_UBASH3B__NegCtrl0_UBASH3B', 'norman_allcrispr_UBASH3B_NegCtrl0__UBASH3B_NegCtrl0', 'norman_allcrispr_BCL2L11_NegCtrl0__BCL2L11_NegCtrl0', 'norman_allcrispr_MAP2K3_ELMSAN1__MAP2K3_ELMSAN1', 'norman_allcrispr_MAP2K3_NegCtrl0__MAP2K3_NegCtrl0', 'norman_allcrispr_MAP2K3_MAP2K6__MAP2K3_MAP2K6', 'norman_allcrispr_CEBPE_NegCtrl0__CEBPE_NegCtrl0', 'norman_allcrispr_C19orf26_NegCtrl0__C19orf26_NegCtrl0', 'norman_allcrispr_AHR_NegCtrl0__AHR_NegCtrl0', 'norman_allcrispr_SLC6A9_NegCtrl0__SLC6A9_NegCtrl0', 'norman_allcrispr_UBASH3B_UBASH3A__UBASH3B_UBASH3A', 'norman_allcrispr_FOXF1_NegCtrl0__FOXF1_NegCtrl0', 'norman_allcrispr_TMSB4X_NegCtrl0__TMSB4X_NegCtrl0', 'norman_allcrispr_S1PR2_NegCtrl0__S1PR2_NegCtrl0', 'norman_allcrispr_BCORL1_NegCtrl0__BCORL1_NegCtrl0', 'norman_allcrispr_NegCtrl0_OSR2__NegCtrl0_OSR2', 'norman_allcrispr_ZC3HAV1_NegCtrl0__ZC3HAV1_NegCtrl0', 'norman_allcrispr_NegCtrl0_FEV__NegCtrl0_FEV', 'norman_allcrispr_NegCtrl0_ELMSAN1__NegCtrl0_ELMSAN1', 'norman_allcrispr_MAPK1_PRTG__MAPK1_PRTG', 'norman_allcrispr_MAPK1_TGFBR2__MAPK1_TGFBR2', 'norman_allcrispr_ARRDC3_NegCtrl0__ARRDC3_NegCtrl0', 'norman_allcrispr_FOXA3_NegCtrl0__FOXA3_NegCtrl0', 'norman_allcrispr_SGK1_NegCtrl0__SGK1_NegCtrl0', 'norman_allcrispr_AHR_KLF1__AHR_KLF1', 'norman_allcrispr_NegCtrl0_CNN1__NegCtrl0_CNN1', 'norman_allcrispr_FOXA1_NegCtrl0__FOXA1_NegCtrl0', 'norman_allcrispr_CSRNP1_NegCtrl0__CSRNP1_NegCtrl0', 'norman_allcrispr_CELF2_NegCtrl0__CELF2_NegCtrl0', 'norman_allcrispr_OSR2_NegCtrl0__OSR2_NegCtrl0', 'norman_allcrispr_CNNM4_NegCtrl0__CNNM4_NegCtrl0', 'norman_allcrispr_CEBPE_KLF1__CEBPE_KLF1', 'norman_allcrispr_BPGM_NegCtrl0__BPGM_NegCtrl0', 'norman_allcrispr_GLB1L2_NegCtrl0__GLB1L2_NegCtrl0', 'norman_allcrispr_NegCtrl0_MEIS1__NegCtrl0_MEIS1', 'norman_allcrispr_BCL2L11_TGFBR2__BCL2L11_TGFBR2', 'norman_allcrispr_ETS2_MAPK1__ETS2_MAPK1', 'norman_allcrispr_ETS2_NegCtrl0__ETS2_NegCtrl0', 'norman_allcrispr_MAP2K6_ELMSAN1__MAP2K6_ELMSAN1', 'norman_allcrispr_UBASH3A_NegCtrl0__UBASH3A_NegCtrl0', 'norman_allcrispr_NegCtrl0_RUNX1T1__NegCtrl0_RUNX1T1', 'norman_allcrispr_NegCtrl0_MAPK1__NegCtrl0_MAPK1', 'norman_allcrispr_ETS2_PRTG__ETS2_PRTG', 'norman_allcrispr_IKZF3_NegCtrl0__IKZF3_NegCtrl0', 'norman_allcrispr_ETS2_IKZF3__ETS2_IKZF3', 'norman_allcrispr_MAP2K6_NegCtrl0__MAP2K6_NegCtrl0', 'norman_allcrispr_IRF1_SET__IRF1_SET', 'norman_allcrispr_TSC22D1_NegCtrl0__TSC22D1_NegCtrl0', 'norman_allcrispr_ETS2_IGDCC3__ETS2_IGDCC3', 'norman_allcrispr_NegCtrl0_MAP2K6__NegCtrl0_MAP2K6', 'norman_allcrispr_LYL1_NegCtrl0__LYL1_NegCtrl0', 'norman_allcrispr_IRF1_NegCtrl0__IRF1_NegCtrl0', 'norman_allcrispr_FOSB_UBASH3B__FOSB_UBASH3B', 'norman_allcrispr_ZBTB25_NegCtrl0__ZBTB25_NegCtrl0', 'norman_allcrispr_ELMSAN1_NegCtrl0__ELMSAN1_NegCtrl0', 'norman_allcrispr_PTPN1_NegCtrl0__PTPN1_NegCtrl0', 'norman_allcrispr_CEBPE_PTPN12__CEBPE_PTPN12', 'norman_allcrispr_NegCtrl0_MAP7D1__NegCtrl0_MAP7D1', 'norman_allcrispr_CEBPB_MAPK1__CEBPB_MAPK1', 'norman_allcrispr_CBL_UBASH3B__CBL_UBASH3B', 'norman_allcrispr_ZC3HAV1_CEBPE__ZC3HAV1_CEBPE', 'norman_allcrispr_HOXB9_NegCtrl0__HOXB9_NegCtrl0', 'norman_allcrispr_NegCtrl0_SPI1__NegCtrl0_SPI1', 'norman_allcrispr_UBASH3B_CNN1__UBASH3B_CNN1', 'norman_allcrispr_NegCtrl0_TGFBR2__NegCtrl0_TGFBR2', 'norman_allcrispr_CNN1_MAPK1__CNN1_MAPK1', 'norman_allcrispr_KLF1_BAK1__KLF1_BAK1', 'norman_allcrispr_DLX2_NegCtrl0__DLX2_NegCtrl0', 'norman_allcrispr_FOSB_OSR2__FOSB_OSR2', 'norman_allcrispr_DUSP9_IGDCC3__DUSP9_IGDCC3', 'norman_allcrispr_ATL1_NegCtrl0__ATL1_NegCtrl0', 'norman_allcrispr_LHX1_NegCtrl0__LHX1_NegCtrl0', 'norman_allcrispr_NegCtrl0_FOXA1__NegCtrl0_FOXA1', 'norman_allcrispr_TBX3_NegCtrl0__TBX3_NegCtrl0', 'norman_allcrispr_NegCtrl0_UBASH3A__NegCtrl0_UBASH3A', 'norman_allcrispr_IGDCC3_MAPK1__IGDCC3_MAPK1', 'norman_allcrispr_FOXL2_NegCtrl0__FOXL2_NegCtrl0', 'norman_allcrispr_DUSP9_KLF1__DUSP9_KLF1', 'norman_allcrispr_MAP4K5_NegCtrl0__MAP4K5_NegCtrl0', 'norman_allcrispr_CBFA2T3_NegCtrl0__CBFA2T3_NegCtrl0', 'norman_allcrispr_PTPN12_PTPN9__PTPN12_PTPN9', 'norman_allcrispr_CDKN1B_NegCtrl0__CDKN1B_NegCtrl0', 'norman_allcrispr_MAP4K3_NegCtrl0__MAP4K3_NegCtrl0', 'norman_allcrispr_ZBTB1_NegCtrl0__ZBTB1_NegCtrl0', 'norman_allcrispr_KLF1_FOXA1__KLF1_FOXA1', 'norman_allcrispr_POU3F2_NegCtrl0__POU3F2_NegCtrl0', 'norman_allcrispr_SGK1_S1PR2__SGK1_S1PR2', 'norman_allcrispr_BPGM_ZBTB1__BPGM_ZBTB1', 'norman_allcrispr_CLDN6_NegCtrl0__CLDN6_NegCtrl0', 'norman_allcrispr_ETS2_CEBPE__ETS2_CEBPE', 'norman_allcrispr_SAMD1_PTPN12__SAMD1_PTPN12', 'norman_allcrispr_NegCtrl0_TBX2__NegCtrl0_TBX2', 'norman_allcrispr_SGK1_TBX2__SGK1_TBX2', 'norman_allcrispr_NegCtrl0_PRTG__NegCtrl0_PRTG', 'norman_allcrispr_IGDCC3_NegCtrl0__IGDCC3_NegCtrl0', 'norman_allcrispr_CBL_CNN1__CBL_CNN1', 'norman_allcrispr_FOSB_PTPN12__FOSB_PTPN12', 'norman_allcrispr_NegCtrl0_DLX2__NegCtrl0_DLX2', 'norman_allcrispr_TBX2_NegCtrl0__TBX2_NegCtrl0', 'norman_allcrispr_PTPN12_OSR2__PTPN12_OSR2', 'norman_allcrispr_MAP7D1_NegCtrl0__MAP7D1_NegCtrl0', 'norman_allcrispr_MAP2K3_SLC38A2__MAP2K3_SLC38A2', 'norman_allcrispr_KLF1_TGFBR2__KLF1_TGFBR2', 'norman_allcrispr_PRTG_NegCtrl0__PRTG_NegCtrl0', 'norman_allcrispr_CBL_PTPN12__CBL_PTPN12', 'norman_allcrispr_RUNX1T1_NegCtrl0__RUNX1T1_NegCtrl0', 'norman_allcrispr_NegCtrl0_SLC38A2__NegCtrl0_SLC38A2', 'norman_allcrispr_RREB1_NegCtrl0__RREB1_NegCtrl0', 'norman_allcrispr_NegCtrl0_SET__NegCtrl0_SET', 'norman_allcrispr_NegCtrl0_ZBTB1__NegCtrl0_ZBTB1', 'norman_allcrispr_CEBPB_PTPN12__CEBPB_PTPN12', 'norman_allcrispr_COL2A1_NegCtrl0__COL2A1_NegCtrl0', 'norman_allcrispr_FOXA3_HOXB9__FOXA3_HOXB9', 'norman_allcrispr_KIF2C_NegCtrl0__KIF2C_NegCtrl0', 'norman_allcrispr_TMSB4X_BAK1__TMSB4X_BAK1', 'norman_allcrispr_RHOXF2_NegCtrl0__RHOXF2_NegCtrl0', 'norman_allcrispr_COL1A1_NegCtrl0__COL1A1_NegCtrl0', 'norman_allcrispr_ISL2_NegCtrl0__ISL2_NegCtrl0', 'norman_allcrispr_UBASH3B_PTPN9__UBASH3B_PTPN9', 'norman_allcrispr_TGFBR2_C19orf26__TGFBR2_C19orf26', 'norman_allcrispr_ETS2_MAP7D1__ETS2_MAP7D1', 'norman_allcrispr_NegCtrl0_TBX3__NegCtrl0_TBX3', 'norman_allcrispr_EGR1_NegCtrl0__EGR1_NegCtrl0', 'norman_allcrispr_NegCtrl0_FOXF1__NegCtrl0_FOXF1', 'norman_allcrispr_RHOXF2_SET__RHOXF2_SET', 'norman_allcrispr_MAPK1_NegCtrl0__MAPK1_NegCtrl0', 'norman_allcrispr_TGFBR2_ETS2__TGFBR2_ETS2', 'norman_allcrispr_NegCtrl0_CLDN6__NegCtrl0_CLDN6', 'norman_allcrispr_NegCtrl0_ZBTB25__NegCtrl0_ZBTB25', 'norman_allcrispr_MEIS1_NegCtrl0__MEIS1_NegCtrl0', 'norman_allcrispr_PTPN12_UBASH3A__PTPN12_UBASH3A', 'norman_allcrispr_KLF1_CEBPA__KLF1_CEBPA', 'norman_allcrispr_NegCtrl0_C19orf26__NegCtrl0_C19orf26', 'norman_allcrispr_POU3F2_FOXL2__POU3F2_FOXL2', 'norman_allcrispr_CBL_PTPN9__CBL_PTPN9', 'norman_allcrispr_NegCtrl0_KIF2C__NegCtrl0_KIF2C', 'norman_allcrispr_HK2_NegCtrl0__HK2_NegCtrl0', 'norman_allcrispr_PTPN12_ZBTB25__PTPN12_ZBTB25', 'norman_allcrispr_MAPK1_IKZF3__MAPK1_IKZF3', 'norman_allcrispr_MAP2K6_SPI1__MAP2K6_SPI1', 'norman_allcrispr_BPGM_SAMD1__BPGM_SAMD1', 'norman_allcrispr_SGK1_TBX3__SGK1_TBX3', 'norman_allcrispr_MAP2K6_IKZF3__MAP2K6_IKZF3', 'norman_allcrispr_SNAI1_UBASH3B__SNAI1_UBASH3B', 'norman_allcrispr_MIDN_NegCtrl0__MIDN_NegCtrl0', 'norman_allcrispr_KLF1_COL2A1__KLF1_COL2A1', 'norman_allcrispr_UBASH3B_PTPN12__UBASH3B_PTPN12', 'norman_allcrispr_DUSP9_PRTG__DUSP9_PRTG', 'norman_allcrispr_PRDM1_NegCtrl0__PRDM1_NegCtrl0', 'norman_allcrispr_FOXA1_HOXB9__FOXA1_HOXB9', 'norman_allcrispr_NegCtrl0_CBFA2T3__NegCtrl0_CBFA2T3', 'norman_allcrispr_NegCtrl0_HOXB9__NegCtrl0_HOXB9', 'norman_allcrispr_DUSP9_MAPK1__DUSP9_MAPK1', 'norman_allcrispr_CEBPB_NegCtrl0__CEBPB_NegCtrl0', 'norman_allcrispr_CNN1_NegCtrl0__CNN1_NegCtrl0', 'norman_allcrispr_NegCtrl0_FOXL2__NegCtrl0_FOXL2', 'norman_allcrispr_FEV_ISL2__FEV_ISL2', 'norman_allcrispr_PTPN12_SNAI1__PTPN12_SNAI1', 'norman_allcrispr_SAMD1_NegCtrl0__SAMD1_NegCtrl0', 'norman_allcrispr_KIAA1804_NegCtrl0__KIAA1804_NegCtrl0', 'norman_allcrispr_FEV_MAP7D1__FEV_MAP7D1', 'norman_allcrispr_AHR_FEV__AHR_FEV', 'norman_allcrispr_HOXA13_NegCtrl0__HOXA13_NegCtrl0', 'norman_allcrispr_FOXA1_FOXF1__FOXA1_FOXF1', 'norman_allcrispr_PTPN13_NegCtrl0__PTPN13_NegCtrl0', 'norman_allcrispr_NegCtrl0_COL2A1__NegCtrl0_COL2A1', 'norman_allcrispr_SNAI1_NegCtrl0__SNAI1_NegCtrl0', 'norman_allcrispr_JUN_NegCtrl0__JUN_NegCtrl0', 'norman_allcrispr_TGFBR2_PRTG__TGFBR2_PRTG', 'norman_allcrispr_ZBTB10_PTPN12__ZBTB10_PTPN12', 'norman_allcrispr_NegCtrl0_IGDCC3__NegCtrl0_IGDCC3', 'norman_allcrispr_C3orf72_NegCtrl0__C3orf72_NegCtrl0', 'norman_allcrispr_RHOXF2_ZBTB25__RHOXF2_ZBTB25', 'norman_allcrispr_KLF1_MAP2K6__KLF1_MAP2K6', 'norman_allcrispr_MAP2K3_IKZF3__MAP2K3_IKZF3', 'norman_allcrispr_NegCtrl0_ISL2__NegCtrl0_ISL2', 'norman_allcrispr_UBASH3B_ZBTB25__UBASH3B_ZBTB25', 'norman_allcrispr_KIF18B_NegCtrl0__KIF18B_NegCtrl0', 'norman_allcrispr_TP73_NegCtrl0__TP73_NegCtrl0', 'norman_allcrispr_FOSB_IKZF3__FOSB_IKZF3', 'norman_allcrispr_ZNF318_FOXL2__ZNF318_FOXL2', 'norman_allcrispr_TGFBR2_NegCtrl0__TGFBR2_NegCtrl0', 'norman_allcrispr_NegCtrl0_PTPN9__NegCtrl0_PTPN9', 'norman_allcrispr_CEBPA_NegCtrl0__CEBPA_NegCtrl0', 'norman_allcrispr_CKS1B_NegCtrl0__CKS1B_NegCtrl0', 'norman_allcrispr_KMT2A_NegCtrl0__KMT2A_NegCtrl0', 'norman_allcrispr_SAMD1_UBASH3B__SAMD1_UBASH3B', 'norman_allcrispr_KLF1_CLDN6__KLF1_CLDN6', 'norman_allcrispr_CEBPE_CNN1__CEBPE_CNN1', 'norman_allcrispr_NCL_NegCtrl0__NCL_NegCtrl0', 'norman_allcrispr_HNF4A_NegCtrl0__HNF4A_NegCtrl0', 'norman_allcrispr_NegCtrl0_IKZF3__NegCtrl0_IKZF3', 'norman_allcrispr_PTPN12_NegCtrl0__PTPN12_NegCtrl0', 'norman_allcrispr_ARID1A_NegCtrl0__ARID1A_NegCtrl0', 'norman_allcrispr_CDKN1C_NegCtrl0__CDKN1C_NegCtrl0', 'norman_allcrispr_NegCtrl0_IER5L__NegCtrl0_IER5L', 'norman_allcrispr_NegCtrl0_HOXC13__NegCtrl0_HOXC13', 'norman_allcrispr_NegCtrl0_SAMD1__NegCtrl0_SAMD1', 'norman_allcrispr_POU3F2_CBFA2T3__POU3F2_CBFA2T3', 'norman_allcrispr_FOXA3_FOXA1__FOXA3_FOXA1', 'norman_allcrispr_NegCtrl0_CEBPA__NegCtrl0_CEBPA', 'norman_allcrispr_CITED1_NegCtrl0__CITED1_NegCtrl0', 'norman_allcrispr_FOXO4_NegCtrl0__FOXO4_NegCtrl0', 'norman_allcrispr_NegCtrl0_PTPN12__NegCtrl0_PTPN12', 'norman_allcrispr_CEBPB_OSR2__CEBPB_OSR2', 'norman_allcrispr_SPI1_NegCtrl0__SPI1_NegCtrl0', 'norman_allcrispr_NegCtrl0_CEBPB__NegCtrl0_CEBPB', 'norman_allcrispr_FOXF1_HOXB9__FOXF1_HOXB9', 'norman_allcrispr_PTPN9_NegCtrl0__PTPN9_NegCtrl0', 'norman_allcrispr_NegCtrl0_SNAI1__NegCtrl0_SNAI1', 'norman_allcrispr_FOXL2_MEIS1__FOXL2_MEIS1', 'norman_allcrispr_NIT1_NegCtrl0__NIT1_NegCtrl0', 'norman_allcrispr_FOXA1_FOXL2__FOXA1_FOXL2', 'norman_allcrispr_FOXF1_FOXL2__FOXF1_FOXL2', 'norman_allcrispr_LYL1_CEBPB__LYL1_CEBPB', 'norman_allcrispr_FEV_NegCtrl0__FEV_NegCtrl0', 'norman_allcrispr_SAMD1_ZBTB1__SAMD1_ZBTB1', 'norman_allcrispr_CBL_TGFBR2__CBL_TGFBR2', 'norman_allcrispr_NegCtrl0_CDKN1B__NegCtrl0_CDKN1B', 'norman_allcrispr_CDKN1A_NegCtrl0__CDKN1A_NegCtrl0', 'norman_allcrispr_IER5L_NegCtrl0__IER5L_NegCtrl0', 'norman_allcrispr_DUSP9_SNAI1__DUSP9_SNAI1', 'norman_allcrispr_ZBTB10_ELMSAN1__ZBTB10_ELMSAN1', 'norman_allcrispr_CEBPE_CEBPA__CEBPE_CEBPA', 'norman_allcrispr_CEBPE_SPI1__CEBPE_SPI1', 'norman_allcrispr_CNN1_UBASH3A__CNN1_UBASH3A', 'norman_allcrispr_NegCtrl0_CDKN1A__NegCtrl0_CDKN1A', 'norman_allcrispr_FOXA3_FOXF1__FOXA3_FOXF1', 'norman_allcrispr_BCL2L11_BAK1__BCL2L11_BAK1', 'norman_allcrispr_TGFBR2_IGDCC3__TGFBR2_IGDCC3_1', 'norman_allcrispr_NegCtrl0_STIL__NegCtrl0_STIL', 'norman_allcrispr_FEV_CBFA2T3__FEV_CBFA2T3', 'norman_allcrispr_FOSB_CEBPE__FOSB_CEBPE', 'norman_allcrispr_STIL_NegCtrl0__STIL_NegCtrl0', 'norman_allcrispr_IGDCC3_ZBTB25__IGDCC3_ZBTB25', 'norman_allcrispr_IGDCC3_PRTG__IGDCC3_PRTG', 'norman_allcrispr_TGFBR2_IGDCC3__TGFBR2_IGDCC3_2', 'norman_allcrispr_CDKN1B_CDKN1A__CDKN1B_CDKN1A', 'norman_allcrispr_SNAI1_DLX2__SNAI1_DLX2', 'norman_allcrispr_FOXA3_FOXL2__FOXA3_FOXL2', 'norman_allcrispr_HES7_NegCtrl0__HES7_NegCtrl0', 'norman_allcrispr_CDKN1C_CDKN1A__CDKN1C_CDKN1A', 'norman_allcrispr_CEBPE_CEBPB__CEBPE_CEBPB', 'norman_allcrispr_PLK4_NegCtrl0__PLK4_NegCtrl0', 'norman_allcrispr_CDKN1C_CDKN1B__CDKN1C_CDKN1B', 'norman_allcrispr_PRDM1_CBFA2T3__PRDM1_CBFA2T3', 'norman_allcrispr_ZBTB10_SNAI1__ZBTB10_SNAI1', 'norman_allcrispr_KIF18B_KIF2C__KIF18B_KIF2C', 'norman_allcrispr_FOXL2_HOXB9__FOXL2_HOXB9', 'norman_allcrispr_HOXC13_NegCtrl0__HOXC13_NegCtrl0_2', 'norman_allcrispr_ZBTB10_DLX2__ZBTB10_DLX2', 'norman_allcrispr_ZBTB10_NegCtrl0__ZBTB10_NegCtrl0_1', 'norman_allcrispr_ZC3HAV1_CEBPA__ZC3HAV1_CEBPA', 'norman_allcrispr_PLK4_STIL__PLK4_STIL', 'norman_allcrispr_ZBTB10_NegCtrl0__ZBTB10_NegCtrl0_2', 'norman_allcrispr_HOXC13_NegCtrl0__HOXC13_NegCtrl0_1', 'norman_allcrispr_SAMD1_TGFBR2__SAMD1_TGFBR2', 'norman_allcrispr_FOSB_CEBPB__FOSB_CEBPB', 'norman_allcrispr_CBL_UBASH3A__CBL_UBASH3A', 'norman_allcrispr_CEBPB_CEBPA__CEBPB_CEBPA', 'norman_allcrispr_C3orf72_FOXL2__C3orf72_FOXL2', 'norman_allcrispr_JUN_CEBPB__JUN_CEBPB', 'norman_allcrispr_JUN_CEBPA__JUN_CEBPA']\n",
      "len(dataset_names):  290\n",
      "\n",
      "loom_filepaths:  ['/home/tchari/counts/norman_crispr/loom/allcrispr.loom', '/home/tchari/counts/norman_crispr/loom/allcrispr.loom', '/home/tchari/counts/norman_crispr/loom/allcrispr.loom', '/home/tchari/counts/norman_crispr/loom/allcrispr.loom', '/home/tchari/counts/norman_crispr/loom/allcrispr.loom', '/home/tchari/counts/norman_crispr/loom/allcrispr.loom', '/home/tchari/counts/norman_crispr/loom/allcrispr.loom', '/home/tchari/counts/norman_crispr/loom/allcrispr.loom', '/home/tchari/counts/norman_crispr/loom/allcrispr.loom', '/home/tchari/counts/norman_crispr/loom/allcrispr.loom', '/home/tchari/counts/norman_crispr/loom/allcrispr.loom', '/home/tchari/counts/norman_crispr/loom/allcrispr.loom', '/home/tchari/counts/norman_crispr/loom/allcrispr.loom', '/home/tchari/counts/norman_crispr/loom/allcrispr.loom', '/home/tchari/counts/norman_crispr/loom/allcrispr.loom', '/home/tchari/counts/norman_crispr/loom/allcrispr.loom', '/home/tchari/counts/norman_crispr/loom/allcrispr.loom', '/home/tchari/counts/norman_crispr/loom/allcrispr.loom', '/home/tchari/counts/norman_crispr/loom/allcrispr.loom', '/home/tchari/counts/norman_crispr/loom/allcrispr.loom', '/home/tchari/counts/norman_crispr/loom/allcrispr.loom', '/home/tchari/counts/norman_crispr/loom/allcrispr.loom', '/home/tchari/counts/norman_crispr/loom/allcrispr.loom', '/home/tchari/counts/norman_crispr/loom/allcrispr.loom', '/home/tchari/counts/norman_crispr/loom/allcrispr.loom', '/home/tchari/counts/norman_crispr/loom/allcrispr.loom', '/home/tchari/counts/norman_crispr/loom/allcrispr.loom', '/home/tchari/counts/norman_crispr/loom/allcrispr.loom', '/home/tchari/counts/norman_crispr/loom/allcrispr.loom', '/home/tchari/counts/norman_crispr/loom/allcrispr.loom', '/home/tchari/counts/norman_crispr/loom/allcrispr.loom', '/home/tchari/counts/norman_crispr/loom/allcrispr.loom', '/home/tchari/counts/norman_crispr/loom/allcrispr.loom', '/home/tchari/counts/norman_crispr/loom/allcrispr.loom', '/home/tchari/counts/norman_crispr/loom/allcrispr.loom', '/home/tchari/counts/norman_crispr/loom/allcrispr.loom', '/home/tchari/counts/norman_crispr/loom/allcrispr.loom', '/home/tchari/counts/norman_crispr/loom/allcrispr.loom', '/home/tchari/counts/norman_crispr/loom/allcrispr.loom', '/home/tchari/counts/norman_crispr/loom/allcrispr.loom', '/home/tchari/counts/norman_crispr/loom/allcrispr.loom', '/home/tchari/counts/norman_crispr/loom/allcrispr.loom', '/home/tchari/counts/norman_crispr/loom/allcrispr.loom', '/home/tchari/counts/norman_crispr/loom/allcrispr.loom', '/home/tchari/counts/norman_crispr/loom/allcrispr.loom', '/home/tchari/counts/norman_crispr/loom/allcrispr.loom', '/home/tchari/counts/norman_crispr/loom/allcrispr.loom', '/home/tchari/counts/norman_crispr/loom/allcrispr.loom', '/home/tchari/counts/norman_crispr/loom/allcrispr.loom', '/home/tchari/counts/norman_crispr/loom/allcrispr.loom', '/home/tchari/counts/norman_crispr/loom/allcrispr.loom', '/home/tchari/counts/norman_crispr/loom/allcrispr.loom', '/home/tchari/counts/norman_crispr/loom/allcrispr.loom', '/home/tchari/counts/norman_crispr/loom/allcrispr.loom', '/home/tchari/counts/norman_crispr/loom/allcrispr.loom', '/home/tchari/counts/norman_crispr/loom/allcrispr.loom', '/home/tchari/counts/norman_crispr/loom/allcrispr.loom', '/home/tchari/counts/norman_crispr/loom/allcrispr.loom', '/home/tchari/counts/norman_crispr/loom/allcrispr.loom', '/home/tchari/counts/norman_crispr/loom/allcrispr.loom', '/home/tchari/counts/norman_crispr/loom/allcrispr.loom', '/home/tchari/counts/norman_crispr/loom/allcrispr.loom', '/home/tchari/counts/norman_crispr/loom/allcrispr.loom', '/home/tchari/counts/norman_crispr/loom/allcrispr.loom', '/home/tchari/counts/norman_crispr/loom/allcrispr.loom', '/home/tchari/counts/norman_crispr/loom/allcrispr.loom', '/home/tchari/counts/norman_crispr/loom/allcrispr.loom', '/home/tchari/counts/norman_crispr/loom/allcrispr.loom', '/home/tchari/counts/norman_crispr/loom/allcrispr.loom', '/home/tchari/counts/norman_crispr/loom/allcrispr.loom', '/home/tchari/counts/norman_crispr/loom/allcrispr.loom', '/home/tchari/counts/norman_crispr/loom/allcrispr.loom', '/home/tchari/counts/norman_crispr/loom/allcrispr.loom', '/home/tchari/counts/norman_crispr/loom/allcrispr.loom', '/home/tchari/counts/norman_crispr/loom/allcrispr.loom', '/home/tchari/counts/norman_crispr/loom/allcrispr.loom', '/home/tchari/counts/norman_crispr/loom/allcrispr.loom', '/home/tchari/counts/norman_crispr/loom/allcrispr.loom', '/home/tchari/counts/norman_crispr/loom/allcrispr.loom', '/home/tchari/counts/norman_crispr/loom/allcrispr.loom', '/home/tchari/counts/norman_crispr/loom/allcrispr.loom', '/home/tchari/counts/norman_crispr/loom/allcrispr.loom', '/home/tchari/counts/norman_crispr/loom/allcrispr.loom', '/home/tchari/counts/norman_crispr/loom/allcrispr.loom', '/home/tchari/counts/norman_crispr/loom/allcrispr.loom', '/home/tchari/counts/norman_crispr/loom/allcrispr.loom', '/home/tchari/counts/norman_crispr/loom/allcrispr.loom', '/home/tchari/counts/norman_crispr/loom/allcrispr.loom', '/home/tchari/counts/norman_crispr/loom/allcrispr.loom', '/home/tchari/counts/norman_crispr/loom/allcrispr.loom', '/home/tchari/counts/norman_crispr/loom/allcrispr.loom', '/home/tchari/counts/norman_crispr/loom/allcrispr.loom', '/home/tchari/counts/norman_crispr/loom/allcrispr.loom', '/home/tchari/counts/norman_crispr/loom/allcrispr.loom', '/home/tchari/counts/norman_crispr/loom/allcrispr.loom', '/home/tchari/counts/norman_crispr/loom/allcrispr.loom', '/home/tchari/counts/norman_crispr/loom/allcrispr.loom', '/home/tchari/counts/norman_crispr/loom/allcrispr.loom', '/home/tchari/counts/norman_crispr/loom/allcrispr.loom', '/home/tchari/counts/norman_crispr/loom/allcrispr.loom', '/home/tchari/counts/norman_crispr/loom/allcrispr.loom', '/home/tchari/counts/norman_crispr/loom/allcrispr.loom', '/home/tchari/counts/norman_crispr/loom/allcrispr.loom', '/home/tchari/counts/norman_crispr/loom/allcrispr.loom', '/home/tchari/counts/norman_crispr/loom/allcrispr.loom', '/home/tchari/counts/norman_crispr/loom/allcrispr.loom', '/home/tchari/counts/norman_crispr/loom/allcrispr.loom', '/home/tchari/counts/norman_crispr/loom/allcrispr.loom', '/home/tchari/counts/norman_crispr/loom/allcrispr.loom', '/home/tchari/counts/norman_crispr/loom/allcrispr.loom', '/home/tchari/counts/norman_crispr/loom/allcrispr.loom', '/home/tchari/counts/norman_crispr/loom/allcrispr.loom', '/home/tchari/counts/norman_crispr/loom/allcrispr.loom', '/home/tchari/counts/norman_crispr/loom/allcrispr.loom', '/home/tchari/counts/norman_crispr/loom/allcrispr.loom', '/home/tchari/counts/norman_crispr/loom/allcrispr.loom', '/home/tchari/counts/norman_crispr/loom/allcrispr.loom', '/home/tchari/counts/norman_crispr/loom/allcrispr.loom', '/home/tchari/counts/norman_crispr/loom/allcrispr.loom', '/home/tchari/counts/norman_crispr/loom/allcrispr.loom', '/home/tchari/counts/norman_crispr/loom/allcrispr.loom', '/home/tchari/counts/norman_crispr/loom/allcrispr.loom', '/home/tchari/counts/norman_crispr/loom/allcrispr.loom', '/home/tchari/counts/norman_crispr/loom/allcrispr.loom', '/home/tchari/counts/norman_crispr/loom/allcrispr.loom', '/home/tchari/counts/norman_crispr/loom/allcrispr.loom', '/home/tchari/counts/norman_crispr/loom/allcrispr.loom', '/home/tchari/counts/norman_crispr/loom/allcrispr.loom', '/home/tchari/counts/norman_crispr/loom/allcrispr.loom', '/home/tchari/counts/norman_crispr/loom/allcrispr.loom', '/home/tchari/counts/norman_crispr/loom/allcrispr.loom', '/home/tchari/counts/norman_crispr/loom/allcrispr.loom', '/home/tchari/counts/norman_crispr/loom/allcrispr.loom', '/home/tchari/counts/norman_crispr/loom/allcrispr.loom', '/home/tchari/counts/norman_crispr/loom/allcrispr.loom', '/home/tchari/counts/norman_crispr/loom/allcrispr.loom', '/home/tchari/counts/norman_crispr/loom/allcrispr.loom', '/home/tchari/counts/norman_crispr/loom/allcrispr.loom', '/home/tchari/counts/norman_crispr/loom/allcrispr.loom', '/home/tchari/counts/norman_crispr/loom/allcrispr.loom', '/home/tchari/counts/norman_crispr/loom/allcrispr.loom', '/home/tchari/counts/norman_crispr/loom/allcrispr.loom', '/home/tchari/counts/norman_crispr/loom/allcrispr.loom', '/home/tchari/counts/norman_crispr/loom/allcrispr.loom', '/home/tchari/counts/norman_crispr/loom/allcrispr.loom', '/home/tchari/counts/norman_crispr/loom/allcrispr.loom', '/home/tchari/counts/norman_crispr/loom/allcrispr.loom', '/home/tchari/counts/norman_crispr/loom/allcrispr.loom', '/home/tchari/counts/norman_crispr/loom/allcrispr.loom', '/home/tchari/counts/norman_crispr/loom/allcrispr.loom', '/home/tchari/counts/norman_crispr/loom/allcrispr.loom', '/home/tchari/counts/norman_crispr/loom/allcrispr.loom', '/home/tchari/counts/norman_crispr/loom/allcrispr.loom', '/home/tchari/counts/norman_crispr/loom/allcrispr.loom', '/home/tchari/counts/norman_crispr/loom/allcrispr.loom', '/home/tchari/counts/norman_crispr/loom/allcrispr.loom', '/home/tchari/counts/norman_crispr/loom/allcrispr.loom', '/home/tchari/counts/norman_crispr/loom/allcrispr.loom', '/home/tchari/counts/norman_crispr/loom/allcrispr.loom', '/home/tchari/counts/norman_crispr/loom/allcrispr.loom', '/home/tchari/counts/norman_crispr/loom/allcrispr.loom', '/home/tchari/counts/norman_crispr/loom/allcrispr.loom', '/home/tchari/counts/norman_crispr/loom/allcrispr.loom', '/home/tchari/counts/norman_crispr/loom/allcrispr.loom', '/home/tchari/counts/norman_crispr/loom/allcrispr.loom', '/home/tchari/counts/norman_crispr/loom/allcrispr.loom', '/home/tchari/counts/norman_crispr/loom/allcrispr.loom', '/home/tchari/counts/norman_crispr/loom/allcrispr.loom', '/home/tchari/counts/norman_crispr/loom/allcrispr.loom', '/home/tchari/counts/norman_crispr/loom/allcrispr.loom', '/home/tchari/counts/norman_crispr/loom/allcrispr.loom', '/home/tchari/counts/norman_crispr/loom/allcrispr.loom', '/home/tchari/counts/norman_crispr/loom/allcrispr.loom', '/home/tchari/counts/norman_crispr/loom/allcrispr.loom', '/home/tchari/counts/norman_crispr/loom/allcrispr.loom', '/home/tchari/counts/norman_crispr/loom/allcrispr.loom', '/home/tchari/counts/norman_crispr/loom/allcrispr.loom', '/home/tchari/counts/norman_crispr/loom/allcrispr.loom', '/home/tchari/counts/norman_crispr/loom/allcrispr.loom', '/home/tchari/counts/norman_crispr/loom/allcrispr.loom', '/home/tchari/counts/norman_crispr/loom/allcrispr.loom', '/home/tchari/counts/norman_crispr/loom/allcrispr.loom', '/home/tchari/counts/norman_crispr/loom/allcrispr.loom', '/home/tchari/counts/norman_crispr/loom/allcrispr.loom', '/home/tchari/counts/norman_crispr/loom/allcrispr.loom', '/home/tchari/counts/norman_crispr/loom/allcrispr.loom', '/home/tchari/counts/norman_crispr/loom/allcrispr.loom', '/home/tchari/counts/norman_crispr/loom/allcrispr.loom', '/home/tchari/counts/norman_crispr/loom/allcrispr.loom', '/home/tchari/counts/norman_crispr/loom/allcrispr.loom', '/home/tchari/counts/norman_crispr/loom/allcrispr.loom', '/home/tchari/counts/norman_crispr/loom/allcrispr.loom', '/home/tchari/counts/norman_crispr/loom/allcrispr.loom', '/home/tchari/counts/norman_crispr/loom/allcrispr.loom', '/home/tchari/counts/norman_crispr/loom/allcrispr.loom', '/home/tchari/counts/norman_crispr/loom/allcrispr.loom', '/home/tchari/counts/norman_crispr/loom/allcrispr.loom', '/home/tchari/counts/norman_crispr/loom/allcrispr.loom', '/home/tchari/counts/norman_crispr/loom/allcrispr.loom', '/home/tchari/counts/norman_crispr/loom/allcrispr.loom', '/home/tchari/counts/norman_crispr/loom/allcrispr.loom', '/home/tchari/counts/norman_crispr/loom/allcrispr.loom', '/home/tchari/counts/norman_crispr/loom/allcrispr.loom', '/home/tchari/counts/norman_crispr/loom/allcrispr.loom', '/home/tchari/counts/norman_crispr/loom/allcrispr.loom', '/home/tchari/counts/norman_crispr/loom/allcrispr.loom', '/home/tchari/counts/norman_crispr/loom/allcrispr.loom', '/home/tchari/counts/norman_crispr/loom/allcrispr.loom', '/home/tchari/counts/norman_crispr/loom/allcrispr.loom', '/home/tchari/counts/norman_crispr/loom/allcrispr.loom', '/home/tchari/counts/norman_crispr/loom/allcrispr.loom', '/home/tchari/counts/norman_crispr/loom/allcrispr.loom', '/home/tchari/counts/norman_crispr/loom/allcrispr.loom', '/home/tchari/counts/norman_crispr/loom/allcrispr.loom', '/home/tchari/counts/norman_crispr/loom/allcrispr.loom', '/home/tchari/counts/norman_crispr/loom/allcrispr.loom', '/home/tchari/counts/norman_crispr/loom/allcrispr.loom', '/home/tchari/counts/norman_crispr/loom/allcrispr.loom', '/home/tchari/counts/norman_crispr/loom/allcrispr.loom', '/home/tchari/counts/norman_crispr/loom/allcrispr.loom', '/home/tchari/counts/norman_crispr/loom/allcrispr.loom', '/home/tchari/counts/norman_crispr/loom/allcrispr.loom', '/home/tchari/counts/norman_crispr/loom/allcrispr.loom', '/home/tchari/counts/norman_crispr/loom/allcrispr.loom', '/home/tchari/counts/norman_crispr/loom/allcrispr.loom', '/home/tchari/counts/norman_crispr/loom/allcrispr.loom', '/home/tchari/counts/norman_crispr/loom/allcrispr.loom', '/home/tchari/counts/norman_crispr/loom/allcrispr.loom', '/home/tchari/counts/norman_crispr/loom/allcrispr.loom', '/home/tchari/counts/norman_crispr/loom/allcrispr.loom', '/home/tchari/counts/norman_crispr/loom/allcrispr.loom', '/home/tchari/counts/norman_crispr/loom/allcrispr.loom', '/home/tchari/counts/norman_crispr/loom/allcrispr.loom', '/home/tchari/counts/norman_crispr/loom/allcrispr.loom', '/home/tchari/counts/norman_crispr/loom/allcrispr.loom', '/home/tchari/counts/norman_crispr/loom/allcrispr.loom', '/home/tchari/counts/norman_crispr/loom/allcrispr.loom', '/home/tchari/counts/norman_crispr/loom/allcrispr.loom', '/home/tchari/counts/norman_crispr/loom/allcrispr.loom', '/home/tchari/counts/norman_crispr/loom/allcrispr.loom', '/home/tchari/counts/norman_crispr/loom/allcrispr.loom', '/home/tchari/counts/norman_crispr/loom/allcrispr.loom', '/home/tchari/counts/norman_crispr/loom/allcrispr.loom', '/home/tchari/counts/norman_crispr/loom/allcrispr.loom', '/home/tchari/counts/norman_crispr/loom/allcrispr.loom', '/home/tchari/counts/norman_crispr/loom/allcrispr.loom', '/home/tchari/counts/norman_crispr/loom/allcrispr.loom', '/home/tchari/counts/norman_crispr/loom/allcrispr.loom', '/home/tchari/counts/norman_crispr/loom/allcrispr.loom', '/home/tchari/counts/norman_crispr/loom/allcrispr.loom', '/home/tchari/counts/norman_crispr/loom/allcrispr.loom', '/home/tchari/counts/norman_crispr/loom/allcrispr.loom', '/home/tchari/counts/norman_crispr/loom/allcrispr.loom', '/home/tchari/counts/norman_crispr/loom/allcrispr.loom', '/home/tchari/counts/norman_crispr/loom/allcrispr.loom', '/home/tchari/counts/norman_crispr/loom/allcrispr.loom', '/home/tchari/counts/norman_crispr/loom/allcrispr.loom', '/home/tchari/counts/norman_crispr/loom/allcrispr.loom', '/home/tchari/counts/norman_crispr/loom/allcrispr.loom', '/home/tchari/counts/norman_crispr/loom/allcrispr.loom', '/home/tchari/counts/norman_crispr/loom/allcrispr.loom', '/home/tchari/counts/norman_crispr/loom/allcrispr.loom', '/home/tchari/counts/norman_crispr/loom/allcrispr.loom', '/home/tchari/counts/norman_crispr/loom/allcrispr.loom', '/home/tchari/counts/norman_crispr/loom/allcrispr.loom', '/home/tchari/counts/norman_crispr/loom/allcrispr.loom', '/home/tchari/counts/norman_crispr/loom/allcrispr.loom', '/home/tchari/counts/norman_crispr/loom/allcrispr.loom', '/home/tchari/counts/norman_crispr/loom/allcrispr.loom', '/home/tchari/counts/norman_crispr/loom/allcrispr.loom', '/home/tchari/counts/norman_crispr/loom/allcrispr.loom', '/home/tchari/counts/norman_crispr/loom/allcrispr.loom', '/home/tchari/counts/norman_crispr/loom/allcrispr.loom', '/home/tchari/counts/norman_crispr/loom/allcrispr.loom', '/home/tchari/counts/norman_crispr/loom/allcrispr.loom', '/home/tchari/counts/norman_crispr/loom/allcrispr.loom', '/home/tchari/counts/norman_crispr/loom/allcrispr.loom', '/home/tchari/counts/norman_crispr/loom/allcrispr.loom', '/home/tchari/counts/norman_crispr/loom/allcrispr.loom', '/home/tchari/counts/norman_crispr/loom/allcrispr.loom', '/home/tchari/counts/norman_crispr/loom/allcrispr.loom', '/home/tchari/counts/norman_crispr/loom/allcrispr.loom', '/home/tchari/counts/norman_crispr/loom/allcrispr.loom', '/home/tchari/counts/norman_crispr/loom/allcrispr.loom', '/home/tchari/counts/norman_crispr/loom/allcrispr.loom', '/home/tchari/counts/norman_crispr/loom/allcrispr.loom', '/home/tchari/counts/norman_crispr/loom/allcrispr.loom', '/home/tchari/counts/norman_crispr/loom/allcrispr.loom', '/home/tchari/counts/norman_crispr/loom/allcrispr.loom', '/home/tchari/counts/norman_crispr/loom/allcrispr.loom']\n"
     ]
    }
   ],
   "source": [
    "dataset_meta = ['allcrispr']\n",
    "print('dataset_meta: ', dataset_meta)\n",
    "print()\n",
    "\n",
    "subcluster_names = [[i] for i in filt_ids]\n",
    "\n",
    "sub_names_only = ['_'.join(n) for n in subcluster_names]\n",
    "\n",
    "cluster_names = []\n",
    "dataset_names = ['norman_'+dataset_meta[0]+'_'+y  for y in sub_names_only]   #To save\n",
    "print('dataset_names: ', dataset_names)\n",
    "print('len(dataset_names): ',len(dataset_names))\n",
    "print()\n",
    "\n",
    "raw_data_locations = [dataset_meta[0] for y in sub_names_only]\n",
    "transcriptome_filepath = '/home/tchari/perturbCME/notebooks/gg_200525_genome_polyA_cum_3'\n",
    "\n",
    "spliced_layer = 'spliced'\n",
    "unspliced_layer = 'unspliced'\n",
    "gene_attr = 'gene_name'\n",
    "cell_attr = 'barcode'\n",
    "\n",
    "attribute_names=[(unspliced_layer,spliced_layer),gene_attr,cell_attr]\n",
    "\n",
    "loom_filepaths = ['/home/tchari/counts/norman_crispr/loom/'+x+'.loom' for x in raw_data_locations] \n",
    "print('loom_filepaths: ',loom_filepaths)\n",
    "\n",
    "n_datasets = len(loom_filepaths)"
   ]
  },
  {
   "cell_type": "markdown",
   "id": "99fcaff7",
   "metadata": {},
   "source": [
    "## **Cell Preprocessing**"
   ]
  },
  {
   "cell_type": "code",
   "execution_count": null,
   "id": "620a9da0",
   "metadata": {},
   "outputs": [],
   "source": [
    "cf = []\n",
    "thr_lb = [1e4]*len(dataset_meta)*2\n",
    "\n",
    "fig1,ax1 = plt.subplots(1,len(dataset_meta)*2,figsize=(15,5))\n",
    "\n",
    "for k in range(len(dataset_meta)):\n",
    "    filename = loom_filepaths[len(subcluster_names)*k]\n",
    "    dataset_name = raw_data_locations[len(subcluster_names)*k]\n",
    "    \n",
    "    with lp.connect(filename,mode='r') as ds:\n",
    "        S = ds.layers[spliced_layer][:]\n",
    "        U = ds.layers[unspliced_layer][:]\n",
    "        gene_names = ds.ra[gene_attr]\n",
    "        bcs = ds.ca[cell_attr]\n",
    "        n_cells = S.shape[1]\n",
    "        monod.preprocess.knee_plot(S+U,ax1[k],viz=True,thr=thr_lb[k])\n",
    "        cf_ = ((S+U).sum(0)>thr_lb[k])\n",
    "        \n",
    "        n_annot_bcs = meta['cell_barcode'].sum()\n",
    "        annot_bcs_in_loom = meta['cell_barcode'].isin(bcs).sum()\n",
    "        annot_bcs_in_filt_loom = meta['cell_barcode'].isin(bcs[cf_]).sum()\n",
    "        print(f'Dataset {dataset_name}. \\n\\t{len(bcs)} barcodes in loom, {cf_.sum()} pass filter. {n_annot_bcs} in annotations; of these, {annot_bcs_in_loom} in loom and {annot_bcs_in_filt_loom} in filtered loom.')\n",
    "        \n",
    "        #if k==0:\n",
    "        for subcluster in subcluster_names:\n",
    "            annot_bcs = meta[(meta['guide_identity'].isin(subcluster))]['cell_barcode']\n",
    "            cf.append(np.isin(bcs,annot_bcs) & cf_)\n",
    "            print(f'\\t{subcluster}: {len(annot_bcs)} cells in annotations. {np.isin(bcs,annot_bcs).sum()} in loom. {cf[-1].sum()} pass filter.')\n",
    "\n",
    "\n",
    "\n",
    "    ax1[k].set_title(dataset_name)\n",
    "    \n",
    "!mkdir ./figs    \n",
    "fig_dir = './figs/'\n",
    "fig_string = fig_dir + 'kneeplots_all_norman.png'\n",
    "fig1.tight_layout()\n",
    "plt.savefig(fig_string,dpi=450)"
   ]
  },
  {
   "cell_type": "code",
   "execution_count": null,
   "id": "5ff3d4bd",
   "metadata": {},
   "outputs": [],
   "source": [
    "#Conditions with too few cells after filtering\n",
    "sml = []\n",
    "for i in range(len(subcluster_names)):\n",
    "    x = cf[i]\n",
    "    if x.sum() < 50:\n",
    "        sml += [subcluster_names[i]]\n",
    "        \n",
    "print(sml)"
   ]
  },
  {
   "cell_type": "markdown",
   "id": "f8752e16",
   "metadata": {},
   "source": [
    "## **Gene Filtering**"
   ]
  },
  {
   "cell_type": "code",
   "execution_count": null,
   "id": "68c944b3",
   "metadata": {},
   "outputs": [],
   "source": [
    "import logging, sys\n",
    "logging.basicConfig(stream=sys.stdout)\n",
    "log = logging.getLogger()\n",
    "log.setLevel(logging.INFO)"
   ]
  },
  {
   "cell_type": "code",
   "execution_count": null,
   "id": "b2bda01f",
   "metadata": {},
   "outputs": [],
   "source": [
    "!mkdir ./fits"
   ]
  },
  {
   "cell_type": "code",
   "execution_count": null,
   "id": "62dbc634",
   "metadata": {},
   "outputs": [],
   "source": [
    "dir_string,dataset_strings = monod.preprocess.construct_batch(loom_filepaths, \\\n",
    "                                             transcriptome_filepath, \\\n",
    "                                             dataset_names, \\\n",
    "                                             attribute_names=attribute_names,\\\n",
    "                                             batch_location='./fits',meta='norman_crispr_all',batch_id=1,\\\n",
    "                                             n_genes=3000,exp_filter_threshold=None,cf=cf)"
   ]
  },
  {
   "cell_type": "code",
   "execution_count": null,
   "id": "aa3d68c6",
   "metadata": {},
   "outputs": [],
   "source": [
    "dir_string"
   ]
  },
  {
   "cell_type": "code",
   "execution_count": null,
   "id": "00400efa",
   "metadata": {},
   "outputs": [],
   "source": [
    "dataset_strings"
   ]
  },
  {
   "cell_type": "code",
   "execution_count": null,
   "id": "b944dc58",
   "metadata": {},
   "outputs": [],
   "source": []
  },
  {
   "cell_type": "markdown",
   "id": "fb18bb92",
   "metadata": {},
   "source": [
    "## **Inference**"
   ]
  },
  {
   "cell_type": "code",
   "execution_count": null,
   "id": "5bc58124",
   "metadata": {},
   "outputs": [],
   "source": [
    "#Define bounds, from 20220930_normanfit_monod.ipynb\n",
    "phys_lb = [-2.0, -1.8, -1.8 ] #-1.0, -1.8, -1.8\n",
    "phys_ub = [4.2, 2.5, 2.5] #4.2, 2.5, 3.5\n",
    "samp_lb = [-7.157894736842105, -1.525] #-7.5, -2\n",
    "samp_ub = [-7.157894736842105, -1.525] #-5.5, 0\n",
    "# gridsize = [5,6]\n",
    "gridsize = [1,1]\n"
   ]
  },
  {
   "cell_type": "code",
   "execution_count": null,
   "id": "81a82549",
   "metadata": {},
   "outputs": [],
   "source": [
    "result_strings = []\n",
    "for i in range(n_datasets):\n",
    "    fitmodel = monod.cme_toolbox.CMEModel('Bursty','Poisson')\n",
    "    inference_parameters = monod.inference.InferenceParameters(phys_lb,phys_ub,samp_lb,samp_ub,gridsize,\\\n",
    "                dataset_strings[i],fitmodel,use_lengths = True,\n",
    "                gradient_params = {'max_iterations':20,'init_pattern':'moments','num_restarts':5})\n",
    "    search_data = monod.extract_data.extract_data(loom_filepaths[i], transcriptome_filepath, dataset_names[i],\n",
    "                dataset_strings[i], dir_string, dataset_attr_names=attribute_names,cf=cf[i])\n",
    "    full_result_string = inference_parameters.fit_all_grid_points(60,search_data)\n",
    "\n",
    "    result_strings.append(full_result_string)"
   ]
  },
  {
   "cell_type": "code",
   "execution_count": null,
   "id": "c3d7d04b",
   "metadata": {},
   "outputs": [],
   "source": [
    "result_strings"
   ]
  },
  {
   "cell_type": "code",
   "execution_count": null,
   "id": "9e0203b8",
   "metadata": {},
   "outputs": [],
   "source": []
  },
  {
   "cell_type": "code",
   "execution_count": null,
   "id": "1fd0e0a5",
   "metadata": {},
   "outputs": [],
   "source": []
  },
  {
   "cell_type": "code",
   "execution_count": null,
   "id": "c02b8f00",
   "metadata": {},
   "outputs": [],
   "source": []
  }
 ],
 "metadata": {
  "kernelspec": {
   "display_name": "Python 3 (ipykernel)",
   "language": "python",
   "name": "python3"
  },
  "language_info": {
   "codemirror_mode": {
    "name": "ipython",
    "version": 3
   },
   "file_extension": ".py",
   "mimetype": "text/x-python",
   "name": "python",
   "nbconvert_exporter": "python",
   "pygments_lexer": "ipython3",
   "version": "3.7.11"
  }
 },
 "nbformat": 4,
 "nbformat_minor": 5
}
