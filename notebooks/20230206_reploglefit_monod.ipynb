{
 "cells": [
  {
   "cell_type": "code",
   "execution_count": null,
   "id": "84eeb628",
   "metadata": {},
   "outputs": [],
   "source": [
    "#replogle_GSM4367984_concat_identities.csv\n",
    "\n",
    "#'sgPMVKa_sgFDPSb','sgPMVKa_sgNegCtrl3b', 'sgNegCtrl02093a_sgFDPSb' , 'sgHUS1_2a_sgFDPS_2b','crisprsgHUS1_2a_sgNegCtrl3b','crisprsgNegCtrl02093a_sgFDPS_2b'\n",
    "\n",
    "#'crisprsgNegCtrl02093a_sgNegCtrl3b','crisprsgNegCtrl4a_sgNegCtrl3b','crisprsgNegCtrl8a_sgNegCtrl3b','crisprsgNegCtrl5a_sgNegCtrl3b','crisprsgNegCtrl1a_sgNegCtrl3b','crisprsgNegCtrl9a_sgNegCtrl3b'\n",
    "\n"
   ]
  },
  {
   "cell_type": "code",
   "execution_count": 1,
   "id": "a1e88e71",
   "metadata": {},
   "outputs": [],
   "source": [
    "import sys\n",
    "sys.path.insert(0, '/home/ggorin/projects/monod/src/')"
   ]
  },
  {
   "cell_type": "code",
   "execution_count": 2,
   "id": "b8af5cde",
   "metadata": {},
   "outputs": [],
   "source": [
    "import monod\n",
    "from monod import preprocess, extract_data, cme_toolbox, inference, analysis"
   ]
  },
  {
   "cell_type": "code",
   "execution_count": 3,
   "id": "f2e3f124",
   "metadata": {},
   "outputs": [],
   "source": [
    "import pandas as pd\n",
    "import numpy as np\n",
    "import loompy as lp\n",
    "import matplotlib.pyplot as plt\n",
    "import scipy\n",
    "import seaborn as sns\n",
    "import scipy.stats"
   ]
  },
  {
   "cell_type": "code",
   "execution_count": 4,
   "id": "0b66d10a",
   "metadata": {},
   "outputs": [],
   "source": [
    "%matplotlib inline\n",
    "%config InlineBackend.figure_format = 'retina'"
   ]
  },
  {
   "cell_type": "code",
   "execution_count": 5,
   "id": "ca78ceb5",
   "metadata": {},
   "outputs": [],
   "source": [
    "meta_path = \"/home/tchari/metadata/\"\n",
    "meta = pd.read_csv(meta_path+'replogle_GSM4367984_concat_identities.csv')\n",
    "\n",
    "#'guide_identity'"
   ]
  },
  {
   "cell_type": "code",
   "execution_count": 6,
   "id": "35061a37",
   "metadata": {},
   "outputs": [
    {
     "data": {
      "text/plain": [
       "array(['sgAHCYL1a_sgFDPSb', 'sgAHCYL1a_sgNegCtrl3b', 'sgATMa_sgFDPSb',\n",
       "       'sgATMa_sgNegCtrl3b', 'sgATP5Ea_sgNegCtrl3b', 'sgATRIPa_sgFDPSb',\n",
       "       'sgATRIPa_sgNegCtrl3b', 'sgATRa_sgFDPSb', 'sgATRa_sgNegCtrl3b',\n",
       "       'sgCADa_sgNegCtrl3b', 'sgCHEK1a_sgFDPSb', 'sgCHEK1a_sgNegCtrl3b',\n",
       "       'sgDUTa_sgNegCtrl3b', 'sgEIF2S1a_sgNegCtrl3b', 'sgETAA1a_sgFDPSb',\n",
       "       'sgETAA1a_sgNegCtrl3b', 'sgETAA1a_sgTOPBP1b',\n",
       "       'sgFDPSa_sgNegCtrl3b', 'sgFDPSa_sgSREBF1b', 'sgFDPSa_sgSREBF2b',\n",
       "       'sgGATA1a_sgNegCtrl3b', 'sgHMGCRa_sgFDPSb', 'sgHMGCRa_sgHUS1b',\n",
       "       'sgHMGCRa_sgNegCtrl3b', 'sgHMGCRa_sgSREBF1b', 'sgHMGCRa_sgSREBF2b',\n",
       "       'sgHSPA5a_sgNegCtrl3b', 'sgHSPA9a_sgNegCtrl3b',\n",
       "       'sgHSPE1a_sgNegCtrl3b', 'sgHUS1_2a_sgFDPS_2b', 'sgHUS1_2a_sgFDPSb',\n",
       "       'sgHUS1_2a_sgNegCtrl3b', 'sgHUS1a_sgFDPS_2b', 'sgHUS1a_sgFDPSb',\n",
       "       'sgHUS1a_sgNegCtrl3b', 'sgHUS1a_sgSREBF1b', 'sgHUS1a_sgSREBF2b',\n",
       "       'sgIDI1a_sgFDPSb', 'sgIDI1a_sgHUS1b', 'sgIDI1a_sgNegCtrl3b',\n",
       "       'sgLIG4a_sgFDPSb', 'sgLIG4a_sgNegCtrl3b', 'sgMTORa_sgNegCtrl3b',\n",
       "       'sgMVDa_sgFDPSb', 'sgMVDa_sgHUS1b', 'sgMVDa_sgNegCtrl3b',\n",
       "       'sgNHEJ1a_sgFDPSb', 'sgNHEJ1a_sgNegCtrl3b',\n",
       "       'sgNegCtrl02093a_sgFDPS_2b', 'sgNegCtrl02093a_sgFDPSb',\n",
       "       'sgNegCtrl02093a_sgHUS1b', 'sgNegCtrl02093a_sgNegCtrl3b',\n",
       "       'sgNegCtrl02093a_sgSREBF1b', 'sgNegCtrl02093a_sgSREBF2b',\n",
       "       'sgNegCtrl02093a_sgTOPBP1b', 'sgNegCtrl1a_sgNegCtrl3b',\n",
       "       'sgNegCtrl4a_sgNegCtrl3b', 'sgNegCtrl5a_sgNegCtrl3b',\n",
       "       'sgNegCtrl8a_sgNegCtrl3b', 'sgNegCtrl9a_sgNegCtrl3b',\n",
       "       'sgPMVKa_sgFDPSb', 'sgPMVKa_sgHUS1b', 'sgPMVKa_sgNegCtrl3b',\n",
       "       'sgPOLR1Da_sgNegCtrl3b', 'sgPOLR2Ha_sgNegCtrl3b',\n",
       "       'sgPRKDCa_sgFDPSb', 'sgPRKDCa_sgNegCtrl3b', 'sgRAD17a_sgFDPSb',\n",
       "       'sgRAD17a_sgNegCtrl3b', 'sgRAD1a_sgFDPSb', 'sgRAD1a_sgNegCtrl3b',\n",
       "       'sgRAD9Aa_sgFDPSb', 'sgRAD9Aa_sgNegCtrl3b', 'sgRPL15a_sgNegCtrl3b',\n",
       "       'sgRPS18a_sgNegCtrl3b', 'sgRRM1a_sgFDPSb', 'sgRRM1a_sgHUS1b',\n",
       "       'sgRRM1a_sgNegCtrl3b', 'sgRRM2Ba_sgFDPSb', 'sgRRM2Ba_sgNegCtrl3b',\n",
       "       'sgRRM2a_sgFDPSb', 'sgRRM2a_sgNegCtrl3b', 'sgSEC61A1a_sgNegCtrl3b',\n",
       "       'sgSQLEa_sgFDPSb', 'sgSQLEa_sgHUS1b', 'sgSQLEa_sgNegCtrl3b',\n",
       "       'sgTOPBP1a_sgFDPSb', 'sgTOPBP1a_sgNegCtrl3b', 'sgXRCC5a_sgFDPSb',\n",
       "       'sgXRCC5a_sgNegCtrl3b', 'sgXRCC6a_sgFDPSb', 'sgXRCC6a_sgNegCtrl3b'],\n",
       "      dtype=object)"
      ]
     },
     "execution_count": 6,
     "metadata": {},
     "output_type": "execute_result"
    }
   ],
   "source": [
    "np.unique(meta['guide_identity'])"
   ]
  },
  {
   "cell_type": "code",
   "execution_count": 7,
   "id": "45a8292d",
   "metadata": {},
   "outputs": [
    {
     "name": "stdout",
     "output_type": "stream",
     "text": [
      "dataset_meta:  ['allcrispr']\n",
      "\n",
      "dataset_names:  ['replogle_allcrispr_sgPMVKa_sgFDPSb', 'replogle_allcrispr_sgPMVKa_sgNegCtrl3b', 'replogle_allcrispr_sgNegCtrl02093a_sgFDPSb', 'replogle_allcrispr_sgHUS1_2a_sgFDPS_2b', 'replogle_allcrispr_sgHUS1_2a_sgNegCtrl3b', 'replogle_allcrispr_sgNegCtrl02093a_sgFDPS_2b', 'replogle_allcrispr_sgNegCtrl02093a_sgNegCtrl3b', 'replogle_allcrispr_sgNegCtrl4a_sgNegCtrl3b', 'replogle_allcrispr_sgNegCtrl8a_sgNegCtrl3b', 'replogle_allcrispr_sgNegCtrl5a_sgNegCtrl3b', 'replogle_allcrispr_sgNegCtrl1a_sgNegCtrl3b', 'replogle_allcrispr_sgNegCtrl9a_sgNegCtrl3b', 'replogle_allcrispr_sgNegCtrl4a_sgNegCtrl3b_sgNegCtrl8a_sgNegCtrl3b_sgNegCtrl5a_sgNegCtrl3b_sgNegCtrl1a_sgNegCtrl3b_sgNegCtrl9a_sgNegCtrl3b']\n",
      "len(dataset_names):  13\n",
      "\n",
      "loom_filepaths:  ['/home/tchari/counts/replogle_crispr/loom/allcrispr.loom', '/home/tchari/counts/replogle_crispr/loom/allcrispr.loom', '/home/tchari/counts/replogle_crispr/loom/allcrispr.loom', '/home/tchari/counts/replogle_crispr/loom/allcrispr.loom', '/home/tchari/counts/replogle_crispr/loom/allcrispr.loom', '/home/tchari/counts/replogle_crispr/loom/allcrispr.loom', '/home/tchari/counts/replogle_crispr/loom/allcrispr.loom', '/home/tchari/counts/replogle_crispr/loom/allcrispr.loom', '/home/tchari/counts/replogle_crispr/loom/allcrispr.loom', '/home/tchari/counts/replogle_crispr/loom/allcrispr.loom', '/home/tchari/counts/replogle_crispr/loom/allcrispr.loom', '/home/tchari/counts/replogle_crispr/loom/allcrispr.loom', '/home/tchari/counts/replogle_crispr/loom/allcrispr.loom']\n"
     ]
    }
   ],
   "source": [
    "dataset_meta = ['allcrispr']\n",
    "print('dataset_meta: ', dataset_meta)\n",
    "print()\n",
    "\n",
    "subcluster_names = [['sgPMVKa_sgFDPSb'],['sgPMVKa_sgNegCtrl3b'],['sgNegCtrl02093a_sgFDPSb'],\n",
    "\t\t\t\t\t['sgHUS1_2a_sgFDPS_2b'],['sgHUS1_2a_sgNegCtrl3b'],['sgNegCtrl02093a_sgFDPS_2b'],\n",
    "\t\t\t\t\t['sgNegCtrl02093a_sgNegCtrl3b'],\n",
    "\t\t\t\t\t['sgNegCtrl4a_sgNegCtrl3b'],['sgNegCtrl8a_sgNegCtrl3b'],\n",
    "\t\t\t\t\t['sgNegCtrl5a_sgNegCtrl3b'],['sgNegCtrl1a_sgNegCtrl3b'],\n",
    "\t\t\t\t\t['sgNegCtrl9a_sgNegCtrl3b'],['sgNegCtrl4a_sgNegCtrl3b','sgNegCtrl8a_sgNegCtrl3b',\n",
    "\t\t\t\t\t'sgNegCtrl5a_sgNegCtrl3b','sgNegCtrl1a_sgNegCtrl3b','sgNegCtrl9a_sgNegCtrl3b']]\n",
    "\n",
    "sub_names_only = ['_'.join(n) for n in subcluster_names]\n",
    "\n",
    "cluster_names = []\n",
    "dataset_names = ['replogle_'+dataset_meta[0]+'_'+y  for y in sub_names_only]   #To save\n",
    "print('dataset_names: ', dataset_names)\n",
    "print('len(dataset_names): ',len(dataset_names))\n",
    "print()\n",
    "\n",
    "raw_data_locations = [dataset_meta[0] for y in sub_names_only]\n",
    "transcriptome_filepath = '/home/tchari/perturbCME/notebooks/gg_200525_genome_polyA_cum_3'\n",
    "\n",
    "spliced_layer = 'spliced'\n",
    "unspliced_layer = 'unspliced'\n",
    "gene_attr = 'gene_name'\n",
    "cell_attr = 'barcode'\n",
    "\n",
    "attribute_names=[(unspliced_layer,spliced_layer),gene_attr,cell_attr]\n",
    "\n",
    "loom_filepaths = ['/home/tchari/counts/replogle_crispr/loom/'+x+'.loom' for x in raw_data_locations] \n",
    "print('loom_filepaths: ',loom_filepaths)\n",
    "\n",
    "n_datasets = len(loom_filepaths)"
   ]
  },
  {
   "cell_type": "code",
   "execution_count": null,
   "id": "c6bb603b",
   "metadata": {},
   "outputs": [],
   "source": [
    "cf = []\n",
    "thr_lb = [1e4]*len(dataset_meta)*2\n",
    "\n",
    "fig1,ax1 = plt.subplots(1,len(dataset_meta)*2,figsize=(15,5))\n",
    "\n",
    "for k in range(len(dataset_meta)):\n",
    "    filename = loom_filepaths[len(subcluster_names)*k]\n",
    "    dataset_name = raw_data_locations[len(subcluster_names)*k]\n",
    "    \n",
    "    with lp.connect(filename,mode='r') as ds:\n",
    "        S = ds.layers[spliced_layer][:]\n",
    "        U = ds.layers[unspliced_layer][:]\n",
    "        gene_names = ds.ra[gene_attr]\n",
    "        bcs = ds.ca[cell_attr]\n",
    "        n_cells = S.shape[1]\n",
    "        monod.preprocess.knee_plot(S+U,ax1[k],viz=True,thr=thr_lb[k])\n",
    "        cf_ = ((S+U).sum(0)>thr_lb[k])\n",
    "        \n",
    "        n_annot_bcs = meta['cell_barcode'].sum()\n",
    "        annot_bcs_in_loom = meta['cell_barcode'].isin(bcs).sum()\n",
    "        annot_bcs_in_filt_loom = meta['cell_barcode'].isin(bcs[cf_]).sum()\n",
    "        print(f'Dataset {dataset_name}. \\n\\t{len(bcs)} barcodes in loom, {cf_.sum()} pass filter. {n_annot_bcs} in annotations; of these, {annot_bcs_in_loom} in loom and {annot_bcs_in_filt_loom} in filtered loom.')\n",
    "        \n",
    "        #if k==0:\n",
    "        for subcluster in subcluster_names:\n",
    "            annot_bcs = meta[(meta['guide_identity'].isin(subcluster))]['cell_barcode']\n",
    "            cf.append(np.isin(bcs,annot_bcs) & cf_)\n",
    "            print(f'\\t{subcluster}: {len(annot_bcs)} cells in annotations. {np.isin(bcs,annot_bcs).sum()} in loom. {cf[-1].sum()} pass filter.')\n",
    "\n",
    "\n",
    "\n",
    "    ax1[k].set_title(dataset_name)\n",
    "    \n",
    "!mkdir ./figs    \n",
    "fig_dir = './figs/'\n",
    "fig_string = fig_dir + 'kneeplots_all_replogle.png'\n",
    "fig1.tight_layout()\n",
    "plt.savefig(fig_string,dpi=450)"
   ]
  },
  {
   "cell_type": "code",
   "execution_count": null,
   "id": "e7242185",
   "metadata": {},
   "outputs": [],
   "source": [
    "print(\"Cells per subcluster: \", [x.sum() for x in cf])"
   ]
  },
  {
   "cell_type": "markdown",
   "id": "0bfc572d",
   "metadata": {},
   "source": [
    "## **Gene Filtering**"
   ]
  },
  {
   "cell_type": "code",
   "execution_count": 8,
   "id": "6a79774e",
   "metadata": {},
   "outputs": [],
   "source": [
    "import logging, sys\n",
    "logging.basicConfig(stream=sys.stdout)\n",
    "log = logging.getLogger()\n",
    "log.setLevel(logging.INFO)"
   ]
  },
  {
   "cell_type": "code",
   "execution_count": null,
   "id": "bc55fbd6",
   "metadata": {},
   "outputs": [],
   "source": [
    "!mkdir ./fits"
   ]
  },
  {
   "cell_type": "code",
   "execution_count": null,
   "id": "90490e04",
   "metadata": {},
   "outputs": [],
   "source": [
    "dir_string,dataset_strings = monod.preprocess.construct_batch(loom_filepaths, \\\n",
    "                                             transcriptome_filepath, \\\n",
    "                                             dataset_names, \\\n",
    "                                             attribute_names=attribute_names,\\\n",
    "                                             batch_location='./fits',meta='replogle_crispr',batch_id=1,\\\n",
    "                                             n_genes=3000,exp_filter_threshold=None,cf=cf) #maybe viz=False"
   ]
  },
  {
   "cell_type": "code",
   "execution_count": null,
   "id": "7afa1fae",
   "metadata": {},
   "outputs": [],
   "source": [
    "dir_string = './fits/gg_230208_026_replogle_crispr_1'"
   ]
  },
  {
   "cell_type": "code",
   "execution_count": null,
   "id": "3bfe52bd",
   "metadata": {},
   "outputs": [],
   "source": [
    "dataset_strings = ['./fits/gg_230208_026_replogle_crispr_1/replogle_allcrispr_sgPMVKa_sgFDPSb', './fits/gg_230208_026_replogle_crispr_1/replogle_allcrispr_sgPMVKa_sgNegCtrl3b', './fits/gg_230208_026_replogle_crispr_1/replogle_allcrispr_sgNegCtrl02093a_sgFDPSb', './fits/gg_230208_026_replogle_crispr_1/replogle_allcrispr_sgHUS1_2a_sgFDPS_2b', './fits/gg_230208_026_replogle_crispr_1/replogle_allcrispr_sgHUS1_2a_sgNegCtrl3b', './fits/gg_230208_026_replogle_crispr_1/replogle_allcrispr_sgNegCtrl02093a_sgFDPS_2b', './fits/gg_230208_026_replogle_crispr_1/replogle_allcrispr_sgNegCtrl02093a_sgNegCtrl3b', './fits/gg_230208_026_replogle_crispr_1/replogle_allcrispr_sgNegCtrl4a_sgNegCtrl3b', './fits/gg_230208_026_replogle_crispr_1/replogle_allcrispr_sgNegCtrl8a_sgNegCtrl3b', './fits/gg_230208_026_replogle_crispr_1/replogle_allcrispr_sgNegCtrl5a_sgNegCtrl3b', './fits/gg_230208_026_replogle_crispr_1/replogle_allcrispr_sgNegCtrl1a_sgNegCtrl3b', './fits/gg_230208_026_replogle_crispr_1/replogle_allcrispr_sgNegCtrl9a_sgNegCtrl3b', './fits/gg_230208_026_replogle_crispr_1/replogle_allcrispr_sgNegCtrl4a_sgNegCtrl3b_sgNegCtrl8a_sgNegCtrl3b_sgNegCtrl5a_sgNegCtrl3b_sgNegCtrl1a_sgNegCtrl3b_sgNegCtrl9a_sgNegCtrl3b']\n",
    "\n"
   ]
  },
  {
   "cell_type": "markdown",
   "id": "14480f12",
   "metadata": {},
   "source": [
    "## **Inference**"
   ]
  },
  {
   "cell_type": "code",
   "execution_count": null,
   "id": "10eff304",
   "metadata": {},
   "outputs": [],
   "source": [
    "#Define bounds\n",
    "phys_lb = [-2.0, -1.8, -1.8 ] #-1.0, -1.8, -1.8\n",
    "phys_ub = [4.2, 2.5, 2.5] #4.2, 2.5, 3.5\n",
    "samp_lb = [-9, -4] #-7.5, -2\n",
    "samp_ub = [-4, 1.5] #-5.5, 0\n",
    "# gridsize = [5,6]\n",
    "gridsize = [20,21]\n"
   ]
  },
  {
   "cell_type": "code",
   "execution_count": null,
   "id": "f0a70803",
   "metadata": {},
   "outputs": [],
   "source": [
    "result_strings = []\n",
    "for i in range(n_datasets):\n",
    "    fitmodel = monod.cme_toolbox.CMEModel('Bursty','Poisson')\n",
    "    inference_parameters = monod.inference.InferenceParameters(phys_lb,phys_ub,samp_lb,samp_ub,gridsize,\\\n",
    "                dataset_strings[i],fitmodel,use_lengths = True,\n",
    "                gradient_params = {'max_iterations':20,'init_pattern':'moments','num_restarts':5})\n",
    "    search_data = monod.extract_data.extract_data(loom_filepaths[i], transcriptome_filepath, dataset_names[i],\n",
    "                dataset_strings[i], dir_string, dataset_attr_names=attribute_names,cf=cf[i])\n",
    "    full_result_string = inference_parameters.fit_all_grid_points(60,search_data)\n",
    "\n",
    "    result_strings.append(full_result_string)"
   ]
  },
  {
   "cell_type": "code",
   "execution_count": null,
   "id": "195a43a4",
   "metadata": {},
   "outputs": [],
   "source": [
    "#All result files\n",
    "result_strings"
   ]
  },
  {
   "cell_type": "code",
   "execution_count": null,
   "id": "4d427a60",
   "metadata": {},
   "outputs": [],
   "source": []
  },
  {
   "cell_type": "markdown",
   "id": "78398be8",
   "metadata": {},
   "source": [
    "## **QC and Analysis of Results**"
   ]
  },
  {
   "cell_type": "code",
   "execution_count": null,
   "id": "22640b72",
   "metadata": {},
   "outputs": [],
   "source": [
    "dir_string = '/home/tchari/perturbCME/notebooks/fits/gg_221010_024_replogle_crispr_1' #'./fits/gg_221005_024_norman_crispr_0'"
   ]
  },
  {
   "cell_type": "code",
   "execution_count": null,
   "id": "c9242790",
   "metadata": {},
   "outputs": [],
   "source": [
    "#Currently showing results for old run\n",
    "for i in range(n_datasets):\n",
    "    sr = monod.analysis.load_search_results(result_strings[i])\n",
    "    sd = monod.analysis.load_search_data(dir_string+'/'+dataset_names[i]+'/raw.sd')\n",
    "    fig1,ax1 = plt.subplots(1,1)\n",
    "    sr.find_sampling_optimum()\n",
    "    sr.plot_landscape(ax1)\n",
    "\n",
    "    fig1,ax1 = plt.subplots(1,1)\n",
    "    sr.plot_KL(ax1)\n",
    "\n",
    "    sr.plot_gene_distributions(sd,marg='joint')\n",
    "\n",
    "    _=sr.chisquare_testing(sd,threshold=1e-3)\n",
    "    sr.resample_opt_viz()\n",
    "    sr.resample_opt_mc_viz()\n",
    "    sr.chisq_best_param_correction(sd,Ntries=4,viz=False,threshold=1e-3) \n",
    "\n",
    "    sr.compute_sigma(sd,num_cores=60)\n",
    "    sr.plot_param_L_dep(plot_errorbars=False,plot_fit=True)\n",
    "    sr.plot_param_marg()\n",
    "    \n",
    "    monod.analysis.make_batch_analysis_dir([sr],dir_string)\n",
    "    sr.update_on_disk()\n",
    "    "
   ]
  },
  {
   "cell_type": "code",
   "execution_count": null,
   "id": "c7418961",
   "metadata": {},
   "outputs": [],
   "source": [
    "#Read back in data\n",
    "sr_arr = [monod.analysis.load_search_results(r[:-4]+'_upd.res') for r in result_strings]"
   ]
  },
  {
   "cell_type": "code",
   "execution_count": null,
   "id": "841d7be3",
   "metadata": {},
   "outputs": [],
   "source": [
    "for i in range(len(sr_arr)):\n",
    "    sr = sr_arr[i]\n",
    "    print(str(i)+': '+str(sr.samp_optimum))"
   ]
  },
  {
   "cell_type": "code",
   "execution_count": null,
   "id": "eaf7df4d",
   "metadata": {},
   "outputs": [],
   "source": [
    "for i in range(len(dataset_names)):\n",
    "    print(str(i)+': '+dataset_names[i])"
   ]
  },
  {
   "cell_type": "code",
   "execution_count": null,
   "id": "409e58b7",
   "metadata": {},
   "outputs": [],
   "source": [
    "#See parameter fits per dataset\n",
    "opt=[]\n",
    "n_cells = []\n",
    "for sr in sr_arr:\n",
    "    y = sr.samp_optimum\n",
    "    print(y)\n",
    "    opt.append(y)\n",
    "    n_cells.append(sr.n_cells)\n",
    "    sr.plot_param_L_dep(plot_errorbars=False,plot_fit=True)\n",
    "opt = np.asarray(opt)\n",
    "n_cells = np.asarray(n_cells)"
   ]
  },
  {
   "cell_type": "code",
   "execution_count": null,
   "id": "3f343a4e",
   "metadata": {},
   "outputs": [],
   "source": [
    "for i in range(len(dataset_names)):\n",
    "    sr = sr_arr[i]\n",
    "    sd = monod.analysis.load_search_data(dir_string+'/'+dataset_names[i]+'/raw.sd')\n",
    "    fig1,ax1 = plt.subplots(1,1)\n",
    "    sr.plot_landscape(ax1)\n",
    "    \n",
    "    sr.resample_opt_viz()\n",
    "    sr.resample_opt_mc_viz()\n",
    "    #sr.chisq_best_param_correction(sd,Ntries=4,viz=False,threshold=1e-3) "
   ]
  },
  {
   "cell_type": "code",
   "execution_count": null,
   "id": "db2db9df",
   "metadata": {},
   "outputs": [],
   "source": [
    "xl = np.asarray([sr.sp.samp_lb[0],sr.sp.samp_ub[0]])\n",
    "yl = np.asarray([sr.sp.samp_lb[1],sr.sp.samp_ub[1]])\n",
    "x=np.linspace(xl[0],xl[1],sr.sp.gridsize[0])\n",
    "y=np.linspace(yl[0],yl[1],sr.sp.gridsize[1])"
   ]
  },
  {
   "cell_type": "code",
   "execution_count": null,
   "id": "fda75ad4",
   "metadata": {},
   "outputs": [],
   "source": [
    "fs = 20\n",
    "d=0.1\n",
    "\n",
    "fig1,ax1 = plt.subplots(1,1,figsize=(8,8))\n",
    "for i in range(sr.sp.gridsize[0]):\n",
    "    plt.plot([x[i]]*2,yl + [-d,d],c='whitesmoke')\n",
    "for i in range(sr.sp.gridsize[1]):\n",
    "    plt.plot(xl+ [-d,d],[y[i]]*2,c='whitesmoke')\n",
    "jit = np.random.randn(n_datasets,2)*0.01\n",
    "opt_ = opt+jit\n",
    "cmap = 'cool'\n",
    "\n",
    "# ctf = range(6,n_datasets)\n",
    "# plt.scatter(opt_[ctf,0],opt_[ctf,1],100,n_cells[ctf],zorder=1000,\n",
    "#             alpha=0.3,cmap=cmap,label='Cell types',vmin=0,vmax=5000)\n",
    "\n",
    "stf = range(n_datasets) #-1 to exclude combo control\n",
    "\n",
    "plt.scatter(opt_[stf,0],opt_[stf,1],80,n_cells[stf],marker='^',zorder=1000,\n",
    "            alpha=0.5,cmap=cmap,label='gRNAs',vmin=0,vmax=5000)\n",
    "plt.xlim(xl+ [-d,d])\n",
    "plt.ylim(yl+ [-d,d])\n",
    "\n",
    "plt.legend(fontsize=fs,loc='upper right')\n",
    "plt.colorbar(label='Number of cells')\n",
    "\n",
    "plt.xlabel(r'$\\log_{10} C_N$',fontsize=fs)\n",
    "plt.ylabel(r'$\\log_{10} \\lambda_M$',fontsize=fs)\n",
    "\n",
    "fig_string = sr.batch_analysis_string+'/landscape_qc.png'\n",
    "plt.savefig(fig_string,dpi=450)"
   ]
  },
  {
   "cell_type": "markdown",
   "id": "a793430e",
   "metadata": {},
   "source": [
    "**Set sampling params**"
   ]
  },
  {
   "cell_type": "code",
   "execution_count": null,
   "id": "c75a3566",
   "metadata": {},
   "outputs": [],
   "source": [
    "for i in range(len(sr_arr)):\n",
    "    sr = sr_arr[i]\n",
    "    sr.set_sampling_optimum(sr.sp.sampl_vals.index((-7.157894736842105, -1.525)))   \n",
    "    #,-7.157894736842105, -1.525 , -6.894736842105264, -1.525,-6.631578947368421, -0.6999999999999997\n",
    "    sd = monod.analysis.load_search_data(dir_string+'/'+dataset_names[i]+'/raw.sd')\n",
    "    _=sr.chisquare_testing(sd,reject_at_bounds=True,EPS=1e-20)\n",
    "    #sr.rejection_index = sr.sp.sampl_vals.index((-6.894736842105264, -1.525)) #-"
   ]
  },
  {
   "cell_type": "markdown",
   "id": "a043da9a",
   "metadata": {},
   "source": [
    "Generate matrix of control params versus condition params"
   ]
  },
  {
   "cell_type": "code",
   "execution_count": null,
   "id": "02232b46",
   "metadata": {},
   "outputs": [],
   "source": [
    "#See paired results (best params paired with best control params)\n",
    "control = 13\n",
    "\n",
    "n_genes = sr_arr[0].n_genes\n",
    "n_phys_pars = sr_arr[0].sp.n_phys_pars\n",
    "par_vals_uncorrected = np.zeros((2,n_datasets,n_genes,n_phys_pars))\n",
    "\n",
    "\n",
    "for j in range(n_datasets):\n",
    "    par_vals_uncorrected[0,j,:,:] = sr_arr[control].phys_optimum #control params\n",
    "    par_vals_uncorrected[1,j,:,:] = sr_arr[j].phys_optimum\n"
   ]
  },
  {
   "cell_type": "code",
   "execution_count": null,
   "id": "3c68f77b",
   "metadata": {},
   "outputs": [],
   "source": [
    "\n",
    "for j in range(n_datasets):\n",
    "    monod.analysis.plot_params_for_pair(sr_arr[control],sr_arr[j],\\\n",
    "                         distinguish_rej=True,plot_errorbars=False,xlabel = dataset_names[control],\\\n",
    "                         ylabel = dataset_names[j])"
   ]
  },
  {
   "cell_type": "code",
   "execution_count": null,
   "id": "fabf373f",
   "metadata": {},
   "outputs": [],
   "source": [
    "fig1,ax1 = plt.subplots(n_datasets,n_phys_pars,figsize=(10,25))\n",
    "for d in range(n_datasets):\n",
    "    #Don't plot rejected genes\n",
    "    base = sr_arr[control]\n",
    "    comp = sr_arr[d]\n",
    "\n",
    "    filt = ~base.rejected_genes & ~comp.rejected_genes\n",
    "\n",
    "    for k in range(n_phys_pars):\n",
    "        \n",
    "        x=par_vals_uncorrected[0,d,filt,k]\n",
    "        y=par_vals_uncorrected[1,d,filt,k]\n",
    "        xl = [min(x),max(x)]\n",
    "        ax1[d,k].scatter(x,y,10,'k',alpha=0.1) \n",
    "\n",
    "        ax1[d,k].plot(xl,xl,'r--',linewidth=2)\n",
    "fig1.tight_layout()"
   ]
  },
  {
   "cell_type": "code",
   "execution_count": null,
   "id": "cd2d86c8",
   "metadata": {},
   "outputs": [],
   "source": []
  },
  {
   "cell_type": "code",
   "execution_count": null,
   "id": "11864637",
   "metadata": {},
   "outputs": [],
   "source": []
  },
  {
   "cell_type": "code",
   "execution_count": null,
   "id": "3afd9e0f",
   "metadata": {},
   "outputs": [],
   "source": []
  },
  {
   "cell_type": "code",
   "execution_count": null,
   "id": "82c6d85d",
   "metadata": {},
   "outputs": [],
   "source": []
  },
  {
   "cell_type": "code",
   "execution_count": null,
   "id": "3b0a17f4",
   "metadata": {},
   "outputs": [],
   "source": []
  },
  {
   "cell_type": "code",
   "execution_count": null,
   "id": "b5d5b2c4",
   "metadata": {},
   "outputs": [],
   "source": []
  }
 ],
 "metadata": {
  "kernelspec": {
   "display_name": "Python 3 (ipykernel)",
   "language": "python",
   "name": "python3"
  },
  "language_info": {
   "codemirror_mode": {
    "name": "ipython",
    "version": 3
   },
   "file_extension": ".py",
   "mimetype": "text/x-python",
   "name": "python",
   "nbconvert_exporter": "python",
   "pygments_lexer": "ipython3",
   "version": "3.7.11"
  }
 },
 "nbformat": 4,
 "nbformat_minor": 5
}
