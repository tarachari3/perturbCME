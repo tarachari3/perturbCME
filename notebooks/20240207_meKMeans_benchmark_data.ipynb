{
 "cells": [
  {
   "cell_type": "markdown",
   "id": "0d4583c2",
   "metadata": {},
   "source": [
    "**In this notebook we will filter for different numbers of HVGs for benchmark datasets, and save files for clustering**"
   ]
  },
  {
   "cell_type": "code",
   "execution_count": 30,
   "id": "c2ff9af6",
   "metadata": {},
   "outputs": [],
   "source": [
    "import h5py\n",
    "import scanpy as sc\n",
    "import anndata\n",
    "import loompy as lp\n",
    "\n",
    "import numpy as np\n",
    "import pandas as pd\n",
    "import matplotlib.pyplot as plt\n",
    "\n",
    "import sys\n"
   ]
  },
  {
   "cell_type": "code",
   "execution_count": null,
   "id": "2da1b687",
   "metadata": {},
   "outputs": [],
   "source": []
  },
  {
   "cell_type": "markdown",
   "id": "362fe6f9",
   "metadata": {},
   "source": [
    "### Save h5 and loom files with __ HVGs for clustering methods"
   ]
  },
  {
   "cell_type": "code",
   "execution_count": 72,
   "id": "a6c8b498",
   "metadata": {},
   "outputs": [
    {
     "name": "stdout",
     "output_type": "stream",
     "text": [
      "mkdir: cannot create directory ‘./hvg_objs’: File exists\r\n"
     ]
    }
   ],
   "source": [
    "#List of looms for benchmark datasets\n",
    "looms = ['/home/tchari/counts/allen_bivi/loom/processed_allen_A08_raw.loom',\n",
    "        '/home/tchari/counts/allen_bivi/loom/processed_allen_B02H01_raw.loom',\n",
    "        '/home/tchari/counts/scMix/cl3/loom/processed_cl3_raw.loom',\n",
    "        '/home/tchari/counts/scMix/cl5/loom/processed_cl5_raw.loom']\n",
    "\n",
    "short = ['allen_b08','allen_b02h01','cl3','cl5']\n",
    "\n",
    "\n",
    "#Set number of HVGs to try (based on standard procedure)\n",
    "hvgs = [300, 1000, 2000, 4000]\n",
    "\n",
    "!mkdir ./hvg_objs\n",
    "\n",
    "\n",
    "for l,s in zip(looms,short):\n",
    "    ds = lp.connect(l)\n",
    "    S = ds.layers['spliced'][:,:]\n",
    "    U = ds.layers['unspliced'][:,:]\n",
    "    bars = ds.ca['barcode']\n",
    "    subclass = ds.ca['subclass_label']\n",
    "    g_names = ds.ra['gene_name']\n",
    "    ds.close()\n",
    "    \n",
    "    if l == '/home/tchari/counts/allen_bivi/loom/processed_allen_B02H01_raw.loom':\n",
    "        X = U.T #nuclear data\n",
    "        print('nuclear')\n",
    "    else:\n",
    "        X = S.T\n",
    "    \n",
    "    for h in hvgs:\n",
    "\n",
    "        adata = anndata.AnnData(X=X)\n",
    "        adata.layers[\"counts\"] = adata.X.copy()  # preserve counts\n",
    "        sc.pp.normalize_total(adata, target_sum=1e4)\n",
    "        sc.pp.log1p(adata)\n",
    "        adata.raw = adata\n",
    "        sc.pp.highly_variable_genes(adata, n_top_genes=h)\n",
    "        #adata = adata[:, adata.var.highly_variable]\n",
    "        \n",
    "        S_sub = S[adata.var.highly_variable,:]\n",
    "        U_sub = U[adata.var.highly_variable,:]\n",
    "        g_names_sub = g_names[adata.var.highly_variable]\n",
    "        \n",
    "        retAdata = anndata.AnnData(\n",
    "            X=S_sub.T,\n",
    "            layers={\n",
    "                'spliced': S_sub.T,\n",
    "                'unspliced': U_sub.T\n",
    "            },\n",
    "            obs=pd.DataFrame({'barcode': bars,'subclass_label':subclass},\n",
    "                             index=bars),\n",
    "            var=pd.DataFrame({'gene_name': g_names_sub},index=g_names_sub)\n",
    "        )\n",
    "\n",
    "        retAdata.write_loom('./hvg_objs/'+s+'_'+str(h)+'hvgs.loom')\n",
    "        \n",
    "        #h5 files for scMDC\n",
    "        hf = h5py.File('./hvg_objs/'+s+'_'+str(h)+'hvgs.h5', 'w')\n",
    "        hf.create_dataset('X1', data=U_sub.T)\n",
    "        hf.create_dataset('X2', data=S_sub.T)\n",
    "\n",
    "        uniqs = dict(zip(np.unique(subclass),list(range(len(np.unique(subclass))))))\n",
    "        ys = [uniqs[i] for i in subclass]\n",
    "        hf.create_dataset('Y', data=ys)\n",
    "        hf.close()\n"
   ]
  },
  {
   "cell_type": "code",
   "execution_count": 73,
   "id": "ea2bf384",
   "metadata": {},
   "outputs": [
    {
     "name": "stdout",
     "output_type": "stream",
     "text": [
      "total 2.2G\r\n",
      "-rw-rw-r--. 1 tchari tchari 117M Feb  8 18:50 allen_b02h01_1000hvgs.h5\r\n",
      "-rw-rw-r--. 1 tchari tchari  14M Feb  8 18:53 allen_b02h01_1000hvgs.loom\r\n",
      "-rw-rw-r--. 1 tchari tchari 233M Feb  8 18:50 allen_b02h01_2000hvgs.h5\r\n",
      "-rw-rw-r--. 1 tchari tchari  24M Feb  8 18:50 allen_b02h01_2000hvgs.loom\r\n",
      "-rw-rw-r--. 1 tchari tchari  35M Feb  8 18:50 allen_b02h01_300hvgs.h5\r\n",
      "-rw-rw-r--. 1 tchari tchari 5.2M Feb  8 18:50 allen_b02h01_300hvgs.loom\r\n",
      "-rw-rw-r--. 1 tchari tchari 466M Feb  8 18:51 allen_b02h01_4000hvgs.h5\r\n",
      "-rw-rw-r--. 1 tchari tchari  44M Feb  8 18:51 allen_b02h01_4000hvgs.loom\r\n",
      "-rw-rw-r--. 1 tchari tchari  44M Feb  8 18:49 allen_b08_1000hvgs.h5\r\n",
      "-rw-rw-r--. 1 tchari tchari  13M Feb  8 18:49 allen_b08_1000hvgs.loom\r\n",
      "-rw-rw-r--. 1 tchari tchari  87M Feb  8 18:49 allen_b08_2000hvgs.h5\r\n",
      "-rw-rw-r--. 1 tchari tchari  23M Feb  8 18:49 allen_b08_2000hvgs.loom\r\n",
      "-rw-rw-r--. 1 tchari tchari  14M Feb  8 18:49 allen_b08_300hvgs.h5\r\n",
      "-rw-rw-r--. 1 tchari tchari 4.1M Feb  8 18:49 allen_b08_300hvgs.loom\r\n",
      "-rw-rw-r--. 1 tchari tchari 174M Feb  8 18:50 allen_b08_4000hvgs.h5\r\n",
      "-rw-rw-r--. 1 tchari tchari  41M Feb  8 18:50 allen_b08_4000hvgs.loom\r\n",
      "-rw-rw-r--. 1 tchari tchari  31M Feb  9 12:51 cl3_1000hvgs.h5\r\n",
      "-rw-rw-r--. 1 tchari tchari 4.4M Feb  9 12:51 cl3_1000hvgs.loom\r\n",
      "-rw-rw-r--. 1 tchari tchari  61M Feb  9 12:51 cl3_2000hvgs.h5\r\n",
      "-rw-rw-r--. 1 tchari tchari 6.6M Feb  9 12:51 cl3_2000hvgs.loom\r\n",
      "-rw-rw-r--. 1 tchari tchari 9.1M Feb  9 12:51 cl3_300hvgs.h5\r\n",
      "-rw-rw-r--. 1 tchari tchari 2.6M Feb  9 12:51 cl3_300hvgs.loom\r\n",
      "-rw-rw-r--. 1 tchari tchari 121M Feb  9 12:51 cl3_4000hvgs.h5\r\n",
      "-rw-rw-r--. 1 tchari tchari  12M Feb  9 12:51 cl3_4000hvgs.loom\r\n",
      "-rw-rw-r--. 1 tchari tchari  38M Feb  8 18:51 cl5_1000hvgs.h5\r\n",
      "-rw-rw-r--. 1 tchari tchari 5.3M Feb  8 18:51 cl5_1000hvgs.loom\r\n",
      "-rw-rw-r--. 1 tchari tchari  76M Feb  8 18:51 cl5_2000hvgs.h5\r\n",
      "-rw-rw-r--. 1 tchari tchari  11M Feb  8 18:51 cl5_2000hvgs.loom\r\n",
      "-rw-rw-r--. 1 tchari tchari  12M Feb  8 18:51 cl5_300hvgs.h5\r\n",
      "-rw-rw-r--. 1 tchari tchari 2.6M Feb  8 18:51 cl5_300hvgs.loom\r\n",
      "-rw-rw-r--. 1 tchari tchari 152M Feb  8 18:51 cl5_4000hvgs.h5\r\n",
      "-rw-rw-r--. 1 tchari tchari  25M Feb  8 18:51 cl5_4000hvgs.loom\r\n",
      "-rw-rw-r--. 1 tchari tchari  88M Feb  8 19:02 meK_h5s.tar.gz\r\n",
      "-rw-rw-r--. 1 tchari tchari 207M Feb  8 19:01 meK_looms.tar.gz\r\n"
     ]
    }
   ],
   "source": [
    "!ls -lh ./hvg_objs"
   ]
  },
  {
   "cell_type": "code",
   "execution_count": 75,
   "id": "f762bfba",
   "metadata": {},
   "outputs": [],
   "source": [
    "# !rm ./hvg_objs/meK_looms.tar.gz\n",
    "# !rm ./hvg_objs/meK_h5s.tar.gz"
   ]
  },
  {
   "cell_type": "code",
   "execution_count": 61,
   "id": "cc6600a0",
   "metadata": {},
   "outputs": [
    {
     "data": {
      "text/plain": [
       "['barcode', 'obs_names', 'subclass_label']"
      ]
     },
     "execution_count": 61,
     "metadata": {},
     "output_type": "execute_result"
    }
   ],
   "source": [
    "# test = lp.connect('./hvg_objs/cl3_300hvgs.loom')\n",
    "# test.ca.keys()\n",
    "# test.close()"
   ]
  },
  {
   "cell_type": "code",
   "execution_count": 66,
   "id": "0d48dd13",
   "metadata": {},
   "outputs": [],
   "source": [
    "# hf = h5py.File('./hvg_objs/cl5_2000hvgs.h5')\n",
    "# test = np.array(hf['Y'])\n",
    "# testX = np.array(hf['X1'])\n",
    "# hf.close()"
   ]
  },
  {
   "cell_type": "code",
   "execution_count": 77,
   "id": "1c9b2f9b",
   "metadata": {},
   "outputs": [
    {
     "name": "stdout",
     "output_type": "stream",
     "text": [
      "./hvg_objs/allen_b02h01_1000hvgs.loom\n",
      "./hvg_objs/allen_b02h01_2000hvgs.loom\n",
      "./hvg_objs/allen_b02h01_300hvgs.loom\n",
      "./hvg_objs/allen_b02h01_4000hvgs.loom\n",
      "./hvg_objs/allen_b08_1000hvgs.loom\n",
      "./hvg_objs/allen_b08_2000hvgs.loom\n",
      "./hvg_objs/allen_b08_300hvgs.loom\n",
      "./hvg_objs/allen_b08_4000hvgs.loom\n",
      "./hvg_objs/cl3_1000hvgs.loom\n",
      "./hvg_objs/cl3_2000hvgs.loom\n",
      "./hvg_objs/cl3_300hvgs.loom\n",
      "./hvg_objs/cl3_4000hvgs.loom\n",
      "./hvg_objs/cl5_1000hvgs.loom\n",
      "./hvg_objs/cl5_2000hvgs.loom\n",
      "./hvg_objs/cl5_300hvgs.loom\n",
      "./hvg_objs/cl5_4000hvgs.loom\n"
     ]
    }
   ],
   "source": [
    "!tar -cvzf ./hvg_objs/meK_looms.tar.gz ./hvg_objs/*.loom"
   ]
  },
  {
   "cell_type": "code",
   "execution_count": 78,
   "id": "88e2b893",
   "metadata": {},
   "outputs": [
    {
     "name": "stdout",
     "output_type": "stream",
     "text": [
      "./hvg_objs/allen_b02h01_1000hvgs.h5\n",
      "./hvg_objs/allen_b02h01_2000hvgs.h5\n",
      "./hvg_objs/allen_b02h01_300hvgs.h5\n",
      "./hvg_objs/allen_b02h01_4000hvgs.h5\n",
      "./hvg_objs/allen_b08_1000hvgs.h5\n",
      "./hvg_objs/allen_b08_2000hvgs.h5\n",
      "./hvg_objs/allen_b08_300hvgs.h5\n",
      "./hvg_objs/allen_b08_4000hvgs.h5\n",
      "./hvg_objs/cl3_1000hvgs.h5\n",
      "./hvg_objs/cl3_2000hvgs.h5\n",
      "./hvg_objs/cl3_300hvgs.h5\n",
      "./hvg_objs/cl3_4000hvgs.h5\n",
      "./hvg_objs/cl5_1000hvgs.h5\n",
      "./hvg_objs/cl5_2000hvgs.h5\n",
      "./hvg_objs/cl5_300hvgs.h5\n",
      "./hvg_objs/cl5_4000hvgs.h5\n"
     ]
    }
   ],
   "source": [
    "!tar -cvzf ./hvg_objs/meK_h5s.tar.gz ./hvg_objs/*.h5"
   ]
  },
  {
   "cell_type": "code",
   "execution_count": null,
   "id": "fe16440f",
   "metadata": {},
   "outputs": [],
   "source": []
  }
 ],
 "metadata": {
  "kernelspec": {
   "display_name": "Python 3 (ipykernel)",
   "language": "python",
   "name": "python3"
  },
  "language_info": {
   "codemirror_mode": {
    "name": "ipython",
    "version": 3
   },
   "file_extension": ".py",
   "mimetype": "text/x-python",
   "name": "python",
   "nbconvert_exporter": "python",
   "pygments_lexer": "ipython3",
   "version": "3.7.11"
  }
 },
 "nbformat": 4,
 "nbformat_minor": 5
}
