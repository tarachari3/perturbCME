{
 "cells": [
  {
   "cell_type": "markdown",
   "id": "0d4583c2",
   "metadata": {},
   "source": [
    "**In this notebook we will filter for different numbers of HVGs for benchmark datasets, and save files for clustering**"
   ]
  },
  {
   "cell_type": "code",
   "execution_count": 2,
   "id": "c2ff9af6",
   "metadata": {},
   "outputs": [],
   "source": [
    "import h5py\n",
    "import scanpy as sc\n",
    "import anndata\n",
    "import loompy as lp\n",
    "\n",
    "import numpy as np\n",
    "import pandas as pd\n",
    "import matplotlib.pyplot as plt\n",
    "\n",
    "import sys\n"
   ]
  },
  {
   "cell_type": "code",
   "execution_count": null,
   "id": "2da1b687",
   "metadata": {},
   "outputs": [],
   "source": []
  },
  {
   "cell_type": "code",
   "execution_count": null,
   "id": "00e5b469",
   "metadata": {},
   "outputs": [],
   "source": []
  },
  {
   "cell_type": "code",
   "execution_count": null,
   "id": "efbbce99",
   "metadata": {},
   "outputs": [],
   "source": []
  },
  {
   "cell_type": "markdown",
   "id": "362fe6f9",
   "metadata": {},
   "source": [
    "### Save h5 and loom files with __ HVGs for clustering methods"
   ]
  },
  {
   "cell_type": "code",
   "execution_count": 32,
   "id": "a6c8b498",
   "metadata": {},
   "outputs": [
    {
     "name": "stdout",
     "output_type": "stream",
     "text": [
      "mkdir: cannot create directory ‘./hvg_objs’: File exists\n",
      "(32285, 5693)\n",
      "(32285, 5693)\n",
      "299\n",
      "299\n",
      "Sum:  0.9966666666666667\n",
      "(32285, 5693)\n",
      "1000\n",
      "1000\n",
      "Sum:  1.0\n",
      "(32285, 5693)\n",
      "1999\n",
      "1999\n",
      "Sum:  0.9995\n",
      "(32285, 5693)\n",
      "3999\n",
      "3999\n",
      "Sum:  0.99975\n",
      "(32285, 15261)\n",
      "nuclear\n",
      "(32285, 15261)\n",
      "299\n",
      "299\n",
      "Sum:  0.9966666666666667\n",
      "(32285, 15261)\n",
      "1000\n",
      "1000\n",
      "Sum:  1.0\n",
      "(32285, 15261)\n",
      "2000\n",
      "2000\n",
      "Sum:  1.0\n",
      "(32285, 15261)\n",
      "4000\n",
      "4000\n",
      "Sum:  1.0\n",
      "(36601, 3934)\n",
      "(36601, 3934)\n",
      "299\n",
      "299\n",
      "Sum:  0.9966666666666667\n",
      "(36601, 3934)\n",
      "999\n",
      "999\n",
      "Sum:  0.999\n",
      "(36601, 3934)\n",
      "1999\n",
      "1999\n",
      "Sum:  0.9995\n",
      "(36601, 3934)\n",
      "4000\n",
      "4000\n",
      "Sum:  1.0\n",
      "(36601, 4947)\n",
      "(36601, 4947)\n",
      "300\n",
      "300\n",
      "Sum:  1.0\n",
      "(36601, 4947)\n",
      "1000\n",
      "1000\n",
      "Sum:  1.0\n",
      "(36601, 4947)\n",
      "2000\n",
      "2000\n",
      "Sum:  1.0\n",
      "(36601, 4947)\n",
      "3999\n",
      "3999\n",
      "Sum:  0.99975\n"
     ]
    }
   ],
   "source": [
    "#List of looms for benchmark datasets\n",
    "looms = ['/home/tchari/counts/allen_bivi/loom/processed_allen_A08_raw.loom',\n",
    "        '/home/tchari/counts/allen_bivi/loom/processed_allen_B02H01_raw.loom',\n",
    "        '/home/tchari/counts/scMix/cl3/loom/processed_cl3_raw.loom',\n",
    "        '/home/tchari/counts/scMix/cl5/loom/processed_cl5_raw.loom']\n",
    "\n",
    "short = ['allen_b08','allen_b02h01','cl3','cl5']\n",
    "\n",
    "\n",
    "#Set number of HVGs to try (based on standard procedure)\n",
    "hvgs = [300, 1000, 2000, 4000]\n",
    "\n",
    "!mkdir ./hvg_objs\n",
    "\n",
    "\n",
    "for l,s in zip(looms,short):\n",
    "    ds = lp.connect(l)\n",
    "    S = ds.layers['spliced'][:,:]\n",
    "    U = ds.layers['unspliced'][:,:]\n",
    "    bars = ds.ca['barcode']\n",
    "    subclass = ds.ca['subclass_label']\n",
    "    g_names = ds.ra['gene_name']\n",
    "    ds.close()\n",
    "    \n",
    "    \n",
    "    if l == '/home/tchari/counts/allen_bivi/loom/processed_allen_B02H01_raw.loom':\n",
    "        X = U.T.copy() #nuclear data\n",
    "        print('nuclear')\n",
    "    else:\n",
    "        X = S.T.copy()\n",
    "    \n",
    "    for h in hvgs:\n",
    "\n",
    "        adata = anndata.AnnData(X=X)\n",
    "        adata.layers[\"counts\"] = adata.X.copy()  # preserve counts\n",
    "        sc.pp.normalize_total(adata, target_sum=1e4)\n",
    "        sc.pp.log1p(adata)\n",
    "        adata.raw = adata\n",
    "        sc.pp.highly_variable_genes(adata, n_top_genes=h) #min_mean=0.0125, max_mean=3, min_disp=0.25 ?\n",
    "        #adata = adata[:, adata.var.highly_variable]\n",
    "        \n",
    "        S_sub = S[adata.var.highly_variable,:]\n",
    "        U_sub = U[adata.var.highly_variable,:]\n",
    "        g_names_sub = g_names[adata.var.highly_variable]\n",
    "        \n",
    "        \n",
    "        retAdata = anndata.AnnData(\n",
    "            X=S_sub.T,\n",
    "            layers={\n",
    "                'spliced': S_sub.T,\n",
    "                'unspliced': U_sub.T\n",
    "            },\n",
    "            obs=pd.DataFrame({'barcode': bars,'subclass_label':subclass},\n",
    "                             index=bars),\n",
    "            var=pd.DataFrame({'gene_name': g_names_sub},index=g_names_sub)\n",
    "        )\n",
    "\n",
    "        retAdata.write_loom('./hvg_objs/'+s+'_'+str(h)+'hvgs.loom')\n",
    "        \n",
    "        #h5 files for scMDC\n",
    "        hf = h5py.File('./hvg_objs/'+s+'_'+str(h)+'hvgs.h5', 'w')\n",
    "        hf.create_dataset('X1', data=U_sub.T)\n",
    "        hf.create_dataset('X2', data=S_sub.T)\n",
    "\n",
    "        uniqs = dict(zip(np.unique(subclass),list(range(len(np.unique(subclass))))))\n",
    "        ys = [uniqs[i] for i in subclass]\n",
    "        hf.create_dataset('Y', data=ys)\n",
    "        hf.close()\n"
   ]
  },
  {
   "cell_type": "code",
   "execution_count": 23,
   "id": "ea2bf384",
   "metadata": {},
   "outputs": [
    {
     "name": "stdout",
     "output_type": "stream",
     "text": [
      "total 1.8G\r\n",
      "-rw-rw-r--. 1 tchari tchari 117M Feb 10 11:30 allen_b02h01_1000hvgs.h5\r\n",
      "-rw-rw-r--. 1 tchari tchari 9.9M Feb 10 11:30 allen_b02h01_1000hvgs.loom\r\n",
      "-rw-rw-r--. 1 tchari tchari 233M Feb 10 11:31 allen_b02h01_2000hvgs.h5\r\n",
      "-rw-rw-r--. 1 tchari tchari  17M Feb 10 11:31 allen_b02h01_2000hvgs.loom\r\n",
      "-rw-rw-r--. 1 tchari tchari  35M Feb 10 11:30 allen_b02h01_300hvgs.h5\r\n",
      "-rw-rw-r--. 1 tchari tchari 4.4M Feb 10 11:30 allen_b02h01_300hvgs.loom\r\n",
      "-rw-rw-r--. 1 tchari tchari 466M Feb 10 11:31 allen_b02h01_4000hvgs.h5\r\n",
      "-rw-rw-r--. 1 tchari tchari  32M Feb 10 11:31 allen_b02h01_4000hvgs.loom\r\n",
      "-rw-rw-r--. 1 tchari tchari  44M Feb 10 11:30 allen_b08_1000hvgs.h5\r\n",
      "-rw-rw-r--. 1 tchari tchari 8.3M Feb 10 11:30 allen_b08_1000hvgs.loom\r\n",
      "-rw-rw-r--. 1 tchari tchari  87M Feb 10 11:30 allen_b08_2000hvgs.h5\r\n",
      "-rw-rw-r--. 1 tchari tchari  15M Feb 10 11:30 allen_b08_2000hvgs.loom\r\n",
      "-rw-rw-r--. 1 tchari tchari  14M Feb 10 11:30 allen_b08_300hvgs.h5\r\n",
      "-rw-rw-r--. 1 tchari tchari 2.9M Feb 10 11:30 allen_b08_300hvgs.loom\r\n",
      "-rw-rw-r--. 1 tchari tchari 174M Feb 10 11:30 allen_b08_4000hvgs.h5\r\n",
      "-rw-rw-r--. 1 tchari tchari  26M Feb 10 11:30 allen_b08_4000hvgs.loom\r\n",
      "-rw-rw-r--. 1 tchari tchari  31M Feb 10 11:31 cl3_1000hvgs.h5\r\n",
      "-rw-rw-r--. 1 tchari tchari 2.9M Feb 10 11:31 cl3_1000hvgs.loom\r\n",
      "-rw-rw-r--. 1 tchari tchari  61M Feb 10 11:31 cl3_2000hvgs.h5\r\n",
      "-rw-rw-r--. 1 tchari tchari 4.4M Feb 10 11:31 cl3_2000hvgs.loom\r\n",
      "-rw-rw-r--. 1 tchari tchari 9.1M Feb 10 11:31 cl3_300hvgs.h5\r\n",
      "-rw-rw-r--. 1 tchari tchari 1.8M Feb 10 11:31 cl3_300hvgs.loom\r\n",
      "-rw-rw-r--. 1 tchari tchari 121M Feb 10 11:31 cl3_4000hvgs.h5\r\n",
      "-rw-rw-r--. 1 tchari tchari 7.9M Feb 10 11:31 cl3_4000hvgs.loom\r\n",
      "-rw-rw-r--. 1 tchari tchari  38M Feb 10 11:31 cl5_1000hvgs.h5\r\n",
      "-rw-rw-r--. 1 tchari tchari 3.7M Feb 10 11:31 cl5_1000hvgs.loom\r\n",
      "-rw-rw-r--. 1 tchari tchari  76M Feb 10 11:31 cl5_2000hvgs.h5\r\n",
      "-rw-rw-r--. 1 tchari tchari 7.1M Feb 10 11:31 cl5_2000hvgs.loom\r\n",
      "-rw-rw-r--. 1 tchari tchari  12M Feb 10 11:31 cl5_300hvgs.h5\r\n",
      "-rw-rw-r--. 1 tchari tchari 1.9M Feb 10 11:31 cl5_300hvgs.loom\r\n",
      "-rw-rw-r--. 1 tchari tchari 151M Feb 10 11:31 cl5_4000hvgs.h5\r\n",
      "-rw-rw-r--. 1 tchari tchari  16M Feb 10 11:31 cl5_4000hvgs.loom\r\n"
     ]
    }
   ],
   "source": [
    "!ls -lh ./hvg_objs\n",
    "#!rm -r ./hvg_objs"
   ]
  },
  {
   "cell_type": "code",
   "execution_count": 75,
   "id": "56f47261",
   "metadata": {},
   "outputs": [],
   "source": [
    "# !rm ./hvg_objs/meK_looms.tar.gz\n",
    "# !rm ./hvg_objs/meK_h5s.tar.gz"
   ]
  },
  {
   "cell_type": "code",
   "execution_count": null,
   "id": "cc6600a0",
   "metadata": {},
   "outputs": [],
   "source": []
  },
  {
   "cell_type": "code",
   "execution_count": 24,
   "id": "0d48dd13",
   "metadata": {},
   "outputs": [
    {
     "data": {
      "text/plain": [
       "array([[ 1.,  3.,  5., ...,  2.,  1.,  8.],\n",
       "       [ 0.,  0.,  0., ...,  2.,  0.,  2.],\n",
       "       [ 2.,  2., 10., ..., 12., 11., 16.],\n",
       "       ...,\n",
       "       [ 0.,  0.,  0., ...,  0.,  0.,  0.],\n",
       "       [ 0.,  0.,  0., ...,  0.,  0.,  0.],\n",
       "       [ 0.,  0.,  0., ...,  0.,  0.,  0.]], dtype=float32)"
      ]
     },
     "execution_count": 24,
     "metadata": {},
     "output_type": "execute_result"
    }
   ],
   "source": [
    "#Check that counts didn't get transformed (should be discrete)\n",
    "test = lp.connect('./hvg_objs/allen_b08_2000hvgs.loom')\n",
    "testS = test.layers['unspliced'][:,:]\n",
    "testS"
   ]
  },
  {
   "cell_type": "code",
   "execution_count": 25,
   "id": "54ed3c64",
   "metadata": {},
   "outputs": [
    {
     "data": {
      "text/plain": [
       "True"
      ]
     },
     "execution_count": 25,
     "metadata": {},
     "output_type": "execute_result"
    }
   ],
   "source": [
    "np.all(testS.astype(int) == testS)"
   ]
  },
  {
   "cell_type": "code",
   "execution_count": 26,
   "id": "b1c3f955",
   "metadata": {},
   "outputs": [],
   "source": [
    "test.close()"
   ]
  },
  {
   "cell_type": "code",
   "execution_count": 27,
   "id": "1c9b2f9b",
   "metadata": {},
   "outputs": [
    {
     "name": "stdout",
     "output_type": "stream",
     "text": [
      "./hvg_objs/allen_b02h01_1000hvgs.loom\n",
      "./hvg_objs/allen_b02h01_2000hvgs.loom\n",
      "./hvg_objs/allen_b02h01_300hvgs.loom\n",
      "./hvg_objs/allen_b02h01_4000hvgs.loom\n",
      "./hvg_objs/allen_b08_1000hvgs.loom\n",
      "./hvg_objs/allen_b08_2000hvgs.loom\n",
      "./hvg_objs/allen_b08_300hvgs.loom\n",
      "./hvg_objs/allen_b08_4000hvgs.loom\n",
      "./hvg_objs/cl3_1000hvgs.loom\n",
      "./hvg_objs/cl3_2000hvgs.loom\n",
      "./hvg_objs/cl3_300hvgs.loom\n",
      "./hvg_objs/cl3_4000hvgs.loom\n",
      "./hvg_objs/cl5_1000hvgs.loom\n",
      "./hvg_objs/cl5_2000hvgs.loom\n",
      "./hvg_objs/cl5_300hvgs.loom\n",
      "./hvg_objs/cl5_4000hvgs.loom\n"
     ]
    }
   ],
   "source": [
    "!tar -cvzf ./hvg_objs/meK_looms.tar.gz ./hvg_objs/*.loom"
   ]
  },
  {
   "cell_type": "code",
   "execution_count": 28,
   "id": "88e2b893",
   "metadata": {},
   "outputs": [
    {
     "name": "stdout",
     "output_type": "stream",
     "text": [
      "./hvg_objs/allen_b02h01_1000hvgs.h5\n",
      "./hvg_objs/allen_b02h01_2000hvgs.h5\n",
      "./hvg_objs/allen_b02h01_300hvgs.h5\n",
      "./hvg_objs/allen_b02h01_4000hvgs.h5\n",
      "./hvg_objs/allen_b08_1000hvgs.h5\n",
      "./hvg_objs/allen_b08_2000hvgs.h5\n",
      "./hvg_objs/allen_b08_300hvgs.h5\n",
      "./hvg_objs/allen_b08_4000hvgs.h5\n",
      "./hvg_objs/cl3_1000hvgs.h5\n",
      "./hvg_objs/cl3_2000hvgs.h5\n",
      "./hvg_objs/cl3_300hvgs.h5\n",
      "./hvg_objs/cl3_4000hvgs.h5\n",
      "./hvg_objs/cl5_1000hvgs.h5\n",
      "./hvg_objs/cl5_2000hvgs.h5\n",
      "./hvg_objs/cl5_300hvgs.h5\n",
      "./hvg_objs/cl5_4000hvgs.h5\n"
     ]
    }
   ],
   "source": [
    "!tar -cvzf ./hvg_objs/meK_h5s.tar.gz ./hvg_objs/*.h5"
   ]
  },
  {
   "cell_type": "code",
   "execution_count": null,
   "id": "8b87eb67",
   "metadata": {},
   "outputs": [],
   "source": []
  }
 ],
 "metadata": {
  "kernelspec": {
   "display_name": "Python 3 (ipykernel)",
   "language": "python",
   "name": "python3"
  },
  "language_info": {
   "codemirror_mode": {
    "name": "ipython",
    "version": 3
   },
   "file_extension": ".py",
   "mimetype": "text/x-python",
   "name": "python",
   "nbconvert_exporter": "python",
   "pygments_lexer": "ipython3",
   "version": "3.7.11"
  }
 },
 "nbformat": 4,
 "nbformat_minor": 5
}
