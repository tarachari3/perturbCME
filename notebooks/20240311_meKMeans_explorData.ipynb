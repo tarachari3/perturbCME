{
 "cells": [
  {
   "cell_type": "code",
   "execution_count": 148,
   "id": "1e47a23f",
   "metadata": {},
   "outputs": [],
   "source": [
    "import h5py\n",
    "import scanpy as sc\n",
    "import anndata\n",
    "import loompy as lp\n",
    "\n",
    "import numpy as np\n",
    "import pandas as pd\n",
    "import matplotlib.pyplot as plt\n",
    "\n",
    "import sys\n",
    "import glob\n",
    "import importlib"
   ]
  },
  {
   "cell_type": "code",
   "execution_count": 149,
   "id": "344936d6",
   "metadata": {},
   "outputs": [],
   "source": [
    "import sys\n",
    "sys.path.insert(0, '/home/tchari/monod/src/')"
   ]
  },
  {
   "cell_type": "code",
   "execution_count": 150,
   "id": "68593686",
   "metadata": {},
   "outputs": [],
   "source": [
    "import monod\n",
    "importlib.reload(monod)\n",
    "from monod import preprocess, extract_data, cme_toolbox, analysis, mminference"
   ]
  },
  {
   "cell_type": "code",
   "execution_count": 151,
   "id": "1b273e73",
   "metadata": {},
   "outputs": [],
   "source": [
    "from sklearn.metrics import adjusted_rand_score, adjusted_mutual_info_score"
   ]
  },
  {
   "cell_type": "code",
   "execution_count": null,
   "id": "23e961c6",
   "metadata": {},
   "outputs": [],
   "source": []
  },
  {
   "cell_type": "markdown",
   "id": "d73a0daf",
   "metadata": {},
   "source": [
    "### **Set up files and genes for inference**"
   ]
  },
  {
   "cell_type": "code",
   "execution_count": 152,
   "id": "c7ef9ed4",
   "metadata": {},
   "outputs": [],
   "source": [
    "#Threshold for filtering \n",
    "def nb_thresh(U,S,var_t = 1.5,u_min =0.02,s_min =0.02):\n",
    "    '''\n",
    "    Take in U,S matrices, and find genes that meet var/mean thresh\n",
    "    U,S are cellxgene\n",
    "    '''\n",
    "    var_threshold = var_t\n",
    "    U_mean = U.mean(0)\n",
    "    S_mean = S.mean(0)\n",
    "    U_var = U.var(0)\n",
    "    S_var = S.var(0)\n",
    "\n",
    "    #if l == '/home/tchari/counts/allen_bivi/loom/processed_allen_B02H01A02_raw.loom':\n",
    "    u_min = u_min\n",
    "    s_min =  s_min\n",
    "\n",
    "\n",
    "    fitted_idx = (U_mean > u_min) & (S_mean > s_min) \\\n",
    "    & (((U_var-U_mean)/(U_mean**2)) > var_threshold)\\\n",
    "    & (((S_var-S_mean)/(S_mean**2)) > var_threshold)\\\n",
    "    & (np.abs(np.log(S_mean/U_mean)) < 4) \n",
    "    \n",
    "    \n",
    "    return fitted_idx"
   ]
  },
  {
   "cell_type": "code",
   "execution_count": 153,
   "id": "e9426718",
   "metadata": {},
   "outputs": [],
   "source": [
    "#Looms, transcriptomes and (technical) sampling params\n",
    "\n",
    "looms = ['/home/tchari/counts/breast_cancer_mm/brca1/loom/processed_brca1_raw.loom',\n",
    "        '/home/tchari/counts/10x_pbmcs/loom/processed_pbmc_10k_raw.loom',\n",
    "        '/home/tchari/counts/germcell_splicing/loom/processed_E11E13_raw.loom']\n",
    "\n",
    "transcrips = ['/home/tchari/perturbCME/notebooks/gg_200524_mouse_genome_polyA_cum_1',\n",
    "             '/home/tchari/perturbCME/notebooks/gg_200525_genome_polyA_cum_3',\n",
    "             '/home/tchari/perturbCME/notebooks/gg_200524_mouse_genome_polyA_cum_1']\n",
    "\n",
    "datas = ['brca1','pbmc','e11e13']\n",
    "attribute_names =[('unspliced','spliced'),'gene_name','barcode']\n",
    "\n",
    "tech_params = [[-6.777777777777778, -0.6999999999999997],\n",
    "               [-5.666666666666666, -0.6999999999999997],\n",
    "               [-6.777777777777778, -1.25]]"
   ]
  },
  {
   "cell_type": "code",
   "execution_count": 154,
   "id": "b180d810",
   "metadata": {},
   "outputs": [],
   "source": [
    "#List of Ks for each loom \n",
    "ks = [[5,10,15],[3,10,15],[2,5,10]]"
   ]
  },
  {
   "cell_type": "code",
   "execution_count": null,
   "id": "e285c65a",
   "metadata": {},
   "outputs": [],
   "source": []
  },
  {
   "cell_type": "code",
   "execution_count": 155,
   "id": "0e123eb3",
   "metadata": {},
   "outputs": [
    {
     "name": "stdout",
     "output_type": "stream",
     "text": [
      "  gene_name  num_cell_types\n",
      "0     PTPRC              28\n",
      "1      CD14              27\n",
      "2     IL-7R              24\n",
      "3      CD3D              24\n",
      "4    FCG3RA              23\n"
     ]
    }
   ],
   "source": [
    "#Genes for PBMCS\n",
    "all_marks = pd.read_csv('/home/tchari/metadata/all_pbmc_markers.csv')\n",
    "print(all_marks.head())\n",
    "\n",
    "#From lit + https://satijalab.org/seurat/articles/pbmc3k_tutorial.html\n",
    "toplot_marks = ['CD300E','FCGR2B','CD40',\n",
    "                'CD69','MS4A1','CD79A','PTPRC',\n",
    "                'CD3D','IL7R','LEF1','TRAC','CD4','CD3D', 'CD3G','CD3E','CD247','CD2','TCF7','CD4','CD69','CCL5',\n",
    "      'CD93','CSTA','FPR1','CD14','CD36',\n",
    "      'CD79A','CD22','BLK','IGHD','VPREB3','CD28','IRF4','CCR6','GATA3','IL2RA','FOXP1','CD38',\n",
    "               'CX3CR1','CD86','ADGRE1'] + ['CD14','FCGR3A','FCGR3B','CCR2','CCR5','CCR7',\n",
    "'CD69','ITGAE','CTLA4','NCAM1','FOXP3','STAT4', 'TCF7','IL26',\n",
    "'IL22','IL13','KLRB1','CXCR3','CD38',\n",
    "'CLEC9A','ITGAX','XCR1','CD1C','CD207','ITGAM', 'NOTCH2',\n",
    "'BATF3','CCR7','CD8A','CD8B',\n",
    "'BCL2','BCL6','CD5','CD27','CD79B','SDC1','TLR9','XBP1','GZMB','IL3RA','CD74',\n",
    "'IL7R', 'CCR7','LYZ','S100A4','GNLY', 'NKG7','FCER1A', 'CST3','PPBP','PF4'] \n",
    "\n",
    "pbmc_markers = list(all_marks['gene_name']) + toplot_marks #Added\n",
    "\n",
    "pbmc_markers = list(np.unique(pbmc_markers)) #Added"
   ]
  },
  {
   "cell_type": "code",
   "execution_count": 156,
   "id": "0cf77ec5",
   "metadata": {},
   "outputs": [],
   "source": [
    "germ_markers = np.unique(['Bnc2', 'Dmrt1', 'Tet1', 'Ccnd3','Tbrg4', 'Rbm38', \n",
    "           'Supt6','Nanos2', 'Dnmt3l' ,'Piwil4', 'Pou5f1',\n",
    "           'Stra8', 'Rec8','Nanog','Lefty1', 'Lefty2','Pycr2',\n",
    "          'Id1','Bmp2','Fst','Inhbb','Grem2',\n",
    "          'Cdx2','Gata2','Msx1','Msx2','Zfp42','Lhx1',\n",
    "          'Stra8', 'Sycp1', 'Sycp3', 'Sync3', 'Spo11', 'Ccdc155', 'Dmc1', 'Mei1',\n",
    "           'Mei4', 'Meioc', 'Hormad1', 'Hormad2', 'Msh5', 'Tex11', 'Prdm9', 'Zglp1', 'Smc1b',\n",
    "          'Pitx2','Otx2','Gata2', 'Id1', 'Id2', 'Id3', 'Cdx2', 'Smad6', 'Dlx3', 'Msx1', 'Msx2',\n",
    "            'Gata2' ,'Nr3c1','Kdm5a','Pbx3','Phf8','Lef1','Cdx2','Hcfc1','Eomes','E2f5',\n",
    "            'Hdac2','Nr2c1','Rela','Maz','Atf4','Jun','Otx2','Egr4','Myc','Bcas2'])"
   ]
  },
  {
   "cell_type": "markdown",
   "id": "12574651",
   "metadata": {},
   "source": [
    "BRCA1-null cells had increased expression of basal-associated genes such as Krt14, Vim and Sparc (Figure 1D–E). Intriguingly, the BRCA1-null tumor cells could be segregated further into cells with basal (Cluster 4) and mesenchymal (Cluster 5) features, respectively (Figure 1D). Cluster 4 cells expressed higher levels of epithelial genes (Cldn4, Cldn3, Epcam) whereas Cluster 5 was defined by expression of mesenchymal genes (Vim, Sparc, Col3a1, Bgn)"
   ]
  },
  {
   "cell_type": "markdown",
   "id": "c0264e5a",
   "metadata": {},
   "source": [
    "The BRCA1-1 cluster consisted of proliferating cells with increased expression of cell cycle related genes such as Birc5, Tyms and Mki67. BRCA1-5 was a cluster with strongest expression of prototypical basal genes such as Krt14 and Igfbp5. Interestingly, BRCA1-2 cells exhibited a partial EMT gene expression pattern with moderate levels of collagens and the highest levels of EMT transcription factors such as Yap1, Twist1 and Zeb1 (Figure 4B). On the other hand, BRCA1-3 cells expressed the highest levels of genes associated with fibroblasts (Figure 4B) and this would fit with our previous observations of a sub-population of BRCA1 null cells with mesenchymal characteristics (Figures 1–3). Within this predominantly basal tumor type, cells with features of AvPs (BRCA1-4) were also present with elevated levels of Cldn3, Malat1, Krt18, Wfdc18 and Mfge8. Once again, the extensive heterogeneity within these BRCA1-null tumors were apparent along with the genes and pathways for each of these clusters (Figure 4—source datas 1–2)."
   ]
  },
  {
   "cell_type": "markdown",
   "id": "da01de68",
   "metadata": {},
   "source": [
    "While the association between proliferation (cluster BRCA1-1) and poor prognosis may not be too surprising (van Diest et al., 2004), the observation that alveolar progenitor-like (cluster BRCA1-4) gene expression was associated with poorer survival is interesting and worthy of further examination in future work. Since CD14 protein expression can be detected in a subset of BRCA1-null mouse tumor cells (Figure 5—figure supplement 1A), as well as human breast cancers"
   ]
  },
  {
   "cell_type": "code",
   "execution_count": null,
   "id": "1f4ad05b",
   "metadata": {},
   "outputs": [],
   "source": []
  },
  {
   "cell_type": "code",
   "execution_count": 157,
   "id": "1b582edf",
   "metadata": {},
   "outputs": [],
   "source": [
    "#also from https://www.ncbi.nlm.nih.gov/pmc/articles/PMC6800274/\n",
    "#https://www.ncbi.nlm.nih.gov/pmc/articles/PMC10132032/\n",
    "brca_markers = np.unique(['Krt14', 'Vim','Sparc',\n",
    "                         'Cldn4', 'Cldn3', 'Epcam',\n",
    "                         'Vim', 'Sparc', 'Col3a1', 'Bgn',\n",
    "                         'Birc5', 'Tyms','Mki67',\n",
    "                         'Krt14','Igfbp5','Yap1', 'Twist1',\n",
    "                          'Zeb1','Cldn3', 'Malat1', 'Krt18', \n",
    "                          'Wfdc18','Mfge8',\n",
    "                         'Rbfox2','Sf3b1','Srsf2','U2af1',\n",
    "                         'Zrsf2',' Srsf1', 'Srsf2', 'Srsf3','U2af65',\n",
    "                         'Pkm1','Pkm2','Ilf3','Qki','Rbm5',\n",
    "                         'Hipk2','Bin1', 'Bim','Bcl2l11','Mcl1', 'Casc4',\n",
    "                         'Ron', 'Mknk2', 'S6k1', 'Casc4', 'Prrc2c',\n",
    "                         'Casp8','Fas','Fbln2','Mcl1','Bcl2l1','Bcl2l11','Bin1','Casp2',\n",
    "                        'Pkm','Hif1a','Numb','Ezh2','Map2k7','Her2','Mdm2','Gap17','Egfr',\n",
    "                        'Birc5','Ccnd1','Hras','Mknk2','Rps6kb1','Klf6','Pten','Il1rap','Cd19','Cd47',\n",
    "                        'Tert','Cd45','Il7','Fn1','Cd44','Ceacam1','Enah','Mstr1','Tnc','Fgfr2','Vegfa','Irf3',\n",
    "                        'Exoc7','Kat5','Tip60','Brca1',\n",
    "                         'Esrp1','Esrp2','Hnrnpa1','Hnrnpi','Hnrnpm','Rbm6','Rbm10','Srsf1','Srsf3',\n",
    "                          'Srsf4','Srsf5','Srsf6','Tra2b'])"
   ]
  },
  {
   "cell_type": "markdown",
   "id": "65b39331",
   "metadata": {},
   "source": [
    "**Go through looms and select genes that include lists above**"
   ]
  },
  {
   "cell_type": "code",
   "execution_count": 158,
   "id": "0d3515b7",
   "metadata": {},
   "outputs": [],
   "source": [
    "all_markers = [brca_markers,pbmc_markers,germ_markers]"
   ]
  },
  {
   "cell_type": "code",
   "execution_count": null,
   "id": "90d87937",
   "metadata": {},
   "outputs": [],
   "source": []
  },
  {
   "cell_type": "markdown",
   "id": "0c27bea7",
   "metadata": {},
   "source": [
    "### **Fit meK-Means for range of Ks**"
   ]
  },
  {
   "cell_type": "markdown",
   "id": "7d526af7",
   "metadata": {},
   "source": [
    "**Make files for meK-Means runs and select genes**"
   ]
  },
  {
   "cell_type": "code",
   "execution_count": 159,
   "id": "1d5e4f07",
   "metadata": {},
   "outputs": [
    {
     "name": "stdout",
     "output_type": "stream",
     "text": [
      "mkdir: cannot create directory ‘/home/tchari/perturbCME/notebooks/fits/explorData_0313’: File exists\r\n"
     ]
    },
    {
     "name": "stderr",
     "output_type": "stream",
     "text": [
      "/home/tchari/.local/lib/python3.7/site-packages/ipykernel_launcher.py:21: RuntimeWarning: invalid value encountered in true_divide\n",
      "/home/tchari/.local/lib/python3.7/site-packages/ipykernel_launcher.py:21: RuntimeWarning: divide by zero encountered in true_divide\n",
      "/home/tchari/.local/lib/python3.7/site-packages/ipykernel_launcher.py:21: RuntimeWarning: divide by zero encountered in log\n"
     ]
    },
    {
     "name": "stdout",
     "output_type": "stream",
     "text": [
      "brca1 with 339 genes\n",
      "Num lit genes used:  77\n",
      "WARNING:root:Gene Hist1h2bc not found or has multiple entries in annotations.\n",
      "WARNING:root:Selecting 339 genes required 100.0% dataset threshold.\n"
     ]
    },
    {
     "name": "stderr",
     "output_type": "stream",
     "text": [
      "100%|██████████████████████████████████████████████████████████████████████████████████████████████████████| 5/5 [00:21<00:00,  4.28s/it]\n",
      "100%|██████████████████████████████████████████████████████████████████████████████████████████████████████| 5/5 [00:18<00:00,  3.74s/it]\n"
     ]
    },
    {
     "name": "stdout",
     "output_type": "stream",
     "text": [
      "mstep self.weights:  [0.11572588 0.32452263 0.11271697 0.15698461 0.2900499 ]\n",
      "Q Function:  -1049397.882514434\n",
      "\n"
     ]
    },
    {
     "name": "stderr",
     "output_type": "stream",
     "text": [
      "100%|██████████████████████████████████████████████████████████████████████████████████████████████████████| 5/5 [00:19<00:00,  3.97s/it]\n"
     ]
    },
    {
     "name": "stdout",
     "output_type": "stream",
     "text": [
      "mstep self.weights:  [0.08259088 0.2869328  0.10572294 0.21901899 0.3057344 ]\n",
      "Q Function:  -1066712.7718592482\n",
      "\n"
     ]
    },
    {
     "name": "stderr",
     "output_type": "stream",
     "text": [
      "100%|██████████████████████████████████████████████████████████████████████████████████████████████████████| 5/5 [00:18<00:00,  3.76s/it]\n"
     ]
    },
    {
     "name": "stdout",
     "output_type": "stream",
     "text": [
      "mstep self.weights:  [0.0887158  0.25453188 0.09205458 0.25445222 0.31024551]\n",
      "Q Function:  -1128809.7454877577\n",
      "\n"
     ]
    },
    {
     "name": "stderr",
     "output_type": "stream",
     "text": [
      "100%|██████████████████████████████████████████████████████████████████████████████████████████████████████| 5/5 [00:21<00:00,  4.37s/it]\n"
     ]
    },
    {
     "name": "stdout",
     "output_type": "stream",
     "text": [
      "mstep self.weights:  [0.06010224 0.21516188 0.02018601 0.2675593  0.43699057]\n",
      "Q Function:  -1082029.4145981807\n",
      "\n"
     ]
    },
    {
     "name": "stderr",
     "output_type": "stream",
     "text": [
      "100%|██████████████████████████████████████████████████████████████████████████████████████████████████████| 4/4 [00:26<00:00,  6.59s/it]\n"
     ]
    },
    {
     "name": "stdout",
     "output_type": "stream",
     "text": [
      "mstep self.weights:  [7.81441631e-03 1.61388468e-01 3.55871885e-10 3.02441887e-01\n",
      " 5.28355228e-01]\n",
      "Q Function:  -1087554.9722782\n",
      "\n"
     ]
    },
    {
     "name": "stderr",
     "output_type": "stream",
     "text": [
      "100%|██████████████████████████████████████████████████████████████████████████████████████████████████████| 2/2 [00:23<00:00, 11.52s/it]\n"
     ]
    },
    {
     "name": "stdout",
     "output_type": "stream",
     "text": [
      "mstep self.weights:  [3.55871885e-10 3.55871885e-10 3.55871885e-10 5.68117259e-01\n",
      " 4.31882740e-01]\n",
      "Q Function:  -1081260.4970810646\n",
      "\n"
     ]
    },
    {
     "name": "stderr",
     "output_type": "stream",
     "text": [
      "100%|██████████████████████████████████████████████████████████████████████████████████████████████████████| 2/2 [00:23<00:00, 11.94s/it]\n"
     ]
    },
    {
     "name": "stdout",
     "output_type": "stream",
     "text": [
      "mstep self.weights:  [3.55871885e-10 3.55871885e-10 3.55871885e-10 5.95167772e-01\n",
      " 4.04832227e-01]\n",
      "Q Function:  -1062782.3386078156\n",
      "\n"
     ]
    },
    {
     "name": "stderr",
     "output_type": "stream",
     "text": [
      "100%|██████████████████████████████████████████████████████████████████████████████████████████████████████| 2/2 [00:24<00:00, 12.15s/it]\n"
     ]
    },
    {
     "name": "stdout",
     "output_type": "stream",
     "text": [
      "mstep self.weights:  [3.55871885e-10 3.55871885e-10 3.55871885e-10 5.45543273e-01\n",
      " 4.54456726e-01]\n",
      "Q Function:  -1086333.0291747563\n",
      "\n"
     ]
    },
    {
     "name": "stderr",
     "output_type": "stream",
     "text": [
      "100%|██████████████████████████████████████████████████████████████████████████████████████████████████████| 2/2 [00:22<00:00, 11.36s/it]\n"
     ]
    },
    {
     "name": "stdout",
     "output_type": "stream",
     "text": [
      "mstep self.weights:  [3.55871885e-10 3.55871885e-10 3.55871885e-10 5.74440545e-01\n",
      " 4.25559454e-01]\n",
      "Q Function:  -1074445.69256646\n",
      "\n"
     ]
    },
    {
     "name": "stderr",
     "output_type": "stream",
     "text": [
      "100%|██████████████████████████████████████████████████████████████████████████████████████████████████████| 2/2 [00:25<00:00, 12.79s/it]\n"
     ]
    },
    {
     "name": "stdout",
     "output_type": "stream",
     "text": [
      "mstep self.weights:  [3.55871885e-10 3.55871885e-10 3.55871885e-10 5.34108464e-01\n",
      " 4.65891535e-01]\n",
      "Q Function:  -1088519.9987977515\n",
      "\n",
      "Result:  ['./fits/explorData_0313/gg_240312_025_brca1_K5_1/brca1/Bursty_Poisson_1x1/grid_scan_results_3.res', './fits/explorData_0313/gg_240312_025_brca1_K5_1/brca1/Bursty_Poisson_1x1/grid_scan_results_4.res']\n",
      "No. clus:  2\n",
      "WARNING:root:Gene Hist1h2bc not found or has multiple entries in annotations.\n",
      "WARNING:root:Selecting 339 genes required 100.0% dataset threshold.\n"
     ]
    },
    {
     "name": "stderr",
     "output_type": "stream",
     "text": [
      "100%|████████████████████████████████████████████████████████████████████████████████████████████████████| 10/10 [00:19<00:00,  1.98s/it]\n",
      "100%|████████████████████████████████████████████████████████████████████████████████████████████████████| 10/10 [00:22<00:00,  2.27s/it]\n"
     ]
    },
    {
     "name": "stdout",
     "output_type": "stream",
     "text": [
      "mstep self.weights:  [0.08399188 0.00388138 0.28552442 0.24827477 0.09823684 0.00368032\n",
      " 0.00210034 0.20189999 0.03966895 0.03274111]\n",
      "Q Function:  -1109824.7750045673\n",
      "\n"
     ]
    },
    {
     "name": "stderr",
     "output_type": "stream",
     "text": [
      "100%|██████████████████████████████████████████████████████████████████████████████████████████████████████| 7/7 [00:24<00:00,  3.43s/it]\n"
     ]
    },
    {
     "name": "stdout",
     "output_type": "stream",
     "text": [
      "mstep self.weights:  [5.02991670e-02 3.55871885e-10 4.17059770e-01 2.78764207e-01\n",
      " 2.23361793e-02 3.55871885e-10 3.55871885e-10 2.12498139e-01\n",
      " 1.56490273e-02 3.39350860e-03]\n",
      "Q Function:  -1072282.0387054628\n",
      "\n"
     ]
    },
    {
     "name": "stderr",
     "output_type": "stream",
     "text": [
      "100%|██████████████████████████████████████████████████████████████████████████████████████████████████████| 4/4 [00:21<00:00,  5.45s/it]\n"
     ]
    },
    {
     "name": "stdout",
     "output_type": "stream",
     "text": [
      "mstep self.weights:  [1.62660899e-03 3.55871885e-10 4.26525444e-01 3.18687614e-01\n",
      " 3.55871885e-10 3.55871885e-10 3.55871885e-10 2.53160331e-01\n",
      " 3.55871885e-10 3.55871885e-10]\n",
      "Q Function:  -1069563.074530967\n",
      "\n"
     ]
    },
    {
     "name": "stderr",
     "output_type": "stream",
     "text": [
      "100%|██████████████████████████████████████████████████████████████████████████████████████████████████████| 3/3 [00:23<00:00,  7.85s/it]\n"
     ]
    },
    {
     "name": "stdout",
     "output_type": "stream",
     "text": [
      "mstep self.weights:  [3.55871885e-10 3.55871885e-10 4.19668939e-01 3.17880954e-01\n",
      " 3.55871885e-10 3.55871885e-10 3.55871885e-10 2.62450104e-01\n",
      " 3.55871885e-10 3.55871885e-10]\n",
      "Q Function:  -1065266.73317328\n",
      "\n"
     ]
    },
    {
     "name": "stderr",
     "output_type": "stream",
     "text": [
      "100%|██████████████████████████████████████████████████████████████████████████████████████████████████████| 3/3 [00:22<00:00,  7.64s/it]\n"
     ]
    },
    {
     "name": "stdout",
     "output_type": "stream",
     "text": [
      "mstep self.weights:  [3.55871885e-10 3.55871885e-10 4.36571049e-01 2.95267002e-01\n",
      " 3.55871885e-10 3.55871885e-10 3.55871885e-10 2.68161947e-01\n",
      " 3.55871885e-10 3.55871885e-10]\n",
      "Q Function:  -1079820.6777590094\n",
      "\n"
     ]
    },
    {
     "name": "stderr",
     "output_type": "stream",
     "text": [
      "100%|██████████████████████████████████████████████████████████████████████████████████████████████████████| 3/3 [00:25<00:00,  8.65s/it]\n"
     ]
    },
    {
     "name": "stdout",
     "output_type": "stream",
     "text": [
      "mstep self.weights:  [3.55871885e-10 3.55871885e-10 4.61909108e-01 2.76036306e-01\n",
      " 3.55871885e-10 3.55871885e-10 3.55871885e-10 2.62054583e-01\n",
      " 3.55871885e-10 3.55871885e-10]\n",
      "Q Function:  -1046545.5553898074\n",
      "\n"
     ]
    },
    {
     "name": "stderr",
     "output_type": "stream",
     "text": [
      "100%|██████████████████████████████████████████████████████████████████████████████████████████████████████| 3/3 [00:21<00:00,  7.21s/it]\n"
     ]
    },
    {
     "name": "stdout",
     "output_type": "stream",
     "text": [
      "mstep self.weights:  [3.55871885e-10 3.55871885e-10 5.15806962e-01 2.57794268e-01\n",
      " 3.55871885e-10 3.55871885e-10 3.55871885e-10 2.26398767e-01\n",
      " 3.55871885e-10 3.55871885e-10]\n",
      "Q Function:  -1084097.7157014299\n",
      "\n"
     ]
    },
    {
     "name": "stderr",
     "output_type": "stream",
     "text": [
      "100%|██████████████████████████████████████████████████████████████████████████████████████████████████████| 3/3 [00:22<00:00,  7.41s/it]\n"
     ]
    },
    {
     "name": "stdout",
     "output_type": "stream",
     "text": [
      "mstep self.weights:  [3.55871885e-10 3.55871885e-10 5.19896183e-01 2.51483624e-01\n",
      " 3.55871885e-10 3.55871885e-10 3.55871885e-10 2.28620191e-01\n",
      " 3.55871885e-10 3.55871885e-10]\n",
      "Q Function:  -1058374.284925304\n",
      "\n"
     ]
    },
    {
     "name": "stderr",
     "output_type": "stream",
     "text": [
      "100%|██████████████████████████████████████████████████████████████████████████████████████████████████████| 3/3 [00:25<00:00,  8.54s/it]\n"
     ]
    },
    {
     "name": "stdout",
     "output_type": "stream",
     "text": [
      "mstep self.weights:  [3.55871885e-10 3.55871885e-10 5.04394588e-01 2.69380300e-01\n",
      " 3.55871885e-10 3.55871885e-10 3.55871885e-10 2.26225109e-01\n",
      " 3.55871885e-10 3.55871885e-10]\n",
      "Q Function:  -1047291.8520470054\n",
      "\n"
     ]
    },
    {
     "name": "stderr",
     "output_type": "stream",
     "text": [
      "100%|██████████████████████████████████████████████████████████████████████████████████████████████████████| 3/3 [00:23<00:00,  7.70s/it]\n"
     ]
    },
    {
     "name": "stdout",
     "output_type": "stream",
     "text": [
      "mstep self.weights:  [3.55871885e-10 3.55871885e-10 5.83438190e-01 2.27724471e-01\n",
      " 3.55871885e-10 3.55871885e-10 3.55871885e-10 1.88837336e-01\n",
      " 3.55871885e-10 3.55871885e-10]\n",
      "Q Function:  -1101930.8641006732\n",
      "\n",
      "Result:  ['./fits/explorData_0313/gg_240312_025_brca1_K10_1/brca1/Bursty_Poisson_1x1/grid_scan_results_2.res', './fits/explorData_0313/gg_240312_025_brca1_K10_1/brca1/Bursty_Poisson_1x1/grid_scan_results_3.res', './fits/explorData_0313/gg_240312_025_brca1_K10_1/brca1/Bursty_Poisson_1x1/grid_scan_results_7.res']\n",
      "No. clus:  3\n",
      "WARNING:root:Gene Hist1h2bc not found or has multiple entries in annotations.\n",
      "WARNING:root:Selecting 339 genes required 100.0% dataset threshold.\n"
     ]
    },
    {
     "name": "stderr",
     "output_type": "stream",
     "text": [
      "100%|████████████████████████████████████████████████████████████████████████████████████████████████████| 15/15 [00:19<00:00,  1.31s/it]\n",
      "100%|████████████████████████████████████████████████████████████████████████████████████████████████████| 14/14 [00:21<00:00,  1.55s/it]\n"
     ]
    },
    {
     "name": "stdout",
     "output_type": "stream",
     "text": [
      "mstep self.weights:  [1.73952711e-01 1.72083219e-01 5.86701905e-03 5.77937249e-03\n",
      " 1.62923980e-02 2.66430791e-03 5.47122572e-02 2.43492032e-02\n",
      " 3.86858250e-01 1.05012819e-02 1.08389180e-01 4.22641515e-03\n",
      " 7.04116561e-03 8.97202219e-06 2.72742476e-02]\n",
      "Q Function:  -1124656.9809104237\n",
      "\n"
     ]
    },
    {
     "name": "stderr",
     "output_type": "stream",
     "text": [
      "100%|██████████████████████████████████████████████████████████████████████████████████████████████████████| 5/5 [00:19<00:00,  3.89s/it]\n"
     ]
    },
    {
     "name": "stdout",
     "output_type": "stream",
     "text": [
      "mstep self.weights:  [2.29913165e-01 2.76000634e-01 3.55871884e-10 3.55871884e-10\n",
      " 3.55871884e-10 3.55871884e-10 1.65176149e-02 3.55871897e-10\n",
      " 3.64477650e-01 3.55871884e-10 1.12968055e-01 3.55871884e-10\n",
      " 3.55871884e-10 1.22877839e-04 3.55871884e-10]\n",
      "Q Function:  -1085265.1135373877\n",
      "\n"
     ]
    },
    {
     "name": "stderr",
     "output_type": "stream",
     "text": [
      "100%|██████████████████████████████████████████████████████████████████████████████████████████████████████| 4/4 [00:23<00:00,  5.75s/it]\n"
     ]
    },
    {
     "name": "stdout",
     "output_type": "stream",
     "text": [
      "mstep self.weights:  [4.08945474e-01 2.20832117e-01 3.55871884e-10 3.55871884e-10\n",
      " 3.55871884e-10 3.55871884e-10 3.55871884e-10 1.35049568e-09\n",
      " 3.69540266e-01 3.55871884e-10 3.24016594e-06 3.55871884e-10\n",
      " 3.55871884e-10 6.78898379e-04 3.55871884e-10]\n",
      "Q Function:  -1048878.379367216\n",
      "\n"
     ]
    },
    {
     "name": "stderr",
     "output_type": "stream",
     "text": [
      "100%|██████████████████████████████████████████████████████████████████████████████████████████████████████| 3/3 [00:19<00:00,  6.61s/it]\n"
     ]
    },
    {
     "name": "stdout",
     "output_type": "stream",
     "text": [
      "mstep self.weights:  [4.14950536e-01 2.46161535e-01 3.55871884e-10 3.55871884e-10\n",
      " 3.55871884e-10 3.55871884e-10 3.55871884e-10 3.55871884e-10\n",
      " 3.38887924e-01 3.55871884e-10 8.41586908e-10 3.55871884e-10\n",
      " 3.55871884e-10 3.55871884e-10 3.55871884e-10]\n",
      "Q Function:  -1074861.8933399317\n",
      "\n"
     ]
    },
    {
     "name": "stderr",
     "output_type": "stream",
     "text": [
      "100%|██████████████████████████████████████████████████████████████████████████████████████████████████████| 3/3 [00:21<00:00,  7.12s/it]\n"
     ]
    },
    {
     "name": "stdout",
     "output_type": "stream",
     "text": [
      "mstep self.weights:  [3.91222102e-01 2.46483902e-01 3.55871884e-10 3.55871884e-10\n",
      " 3.55871884e-10 3.55871884e-10 3.55871884e-10 3.55871884e-10\n",
      " 3.62293991e-01 3.55871884e-10 3.56042000e-10 3.55871884e-10\n",
      " 3.55871884e-10 3.55871884e-10 3.55871884e-10]\n",
      "Q Function:  -1071965.243611306\n",
      "\n"
     ]
    },
    {
     "name": "stderr",
     "output_type": "stream",
     "text": [
      "100%|██████████████████████████████████████████████████████████████████████████████████████████████████████| 3/3 [00:19<00:00,  6.36s/it]\n"
     ]
    },
    {
     "name": "stdout",
     "output_type": "stream",
     "text": [
      "mstep self.weights:  [3.62121423e-01 2.46907105e-01 3.55871884e-10 3.55871884e-10\n",
      " 3.55871884e-10 3.55871884e-10 3.55871884e-10 3.55871884e-10\n",
      " 3.90971467e-01 3.55871884e-10 3.56863636e-10 3.55871884e-10\n",
      " 3.55871884e-10 3.55871884e-10 3.55871884e-10]\n",
      "Q Function:  -1066909.0555216307\n",
      "\n"
     ]
    },
    {
     "name": "stderr",
     "output_type": "stream",
     "text": [
      "100%|██████████████████████████████████████████████████████████████████████████████████████████████████████| 3/3 [00:25<00:00,  8.62s/it]\n"
     ]
    },
    {
     "name": "stdout",
     "output_type": "stream",
     "text": [
      "mstep self.weights:  [3.65775958e-01 2.58468653e-01 3.55871884e-10 3.55871884e-10\n",
      " 3.55871884e-10 3.55871884e-10 3.55871884e-10 3.55871884e-10\n",
      " 3.75755375e-01 3.55871884e-10 9.98668846e-09 3.55871884e-10\n",
      " 3.55871884e-10 3.55871884e-10 3.55871884e-10]\n",
      "Q Function:  -1078428.0333584172\n",
      "\n"
     ]
    },
    {
     "name": "stderr",
     "output_type": "stream",
     "text": [
      "100%|██████████████████████████████████████████████████████████████████████████████████████████████████████| 3/3 [00:22<00:00,  7.48s/it]\n"
     ]
    },
    {
     "name": "stdout",
     "output_type": "stream",
     "text": [
      "mstep self.weights:  [3.81380255e-01 2.65294494e-01 3.55871884e-10 3.55871884e-10\n",
      " 3.55871884e-10 3.55871884e-10 3.55871884e-10 3.55871884e-10\n",
      " 3.53325246e-01 3.55871884e-10 3.86200006e-10 3.55871884e-10\n",
      " 3.55871884e-10 3.55871884e-10 3.55871884e-10]\n",
      "Q Function:  -1069074.9773087113\n",
      "\n"
     ]
    },
    {
     "name": "stderr",
     "output_type": "stream",
     "text": [
      "100%|██████████████████████████████████████████████████████████████████████████████████████████████████████| 3/3 [00:21<00:00,  7.13s/it]\n"
     ]
    },
    {
     "name": "stdout",
     "output_type": "stream",
     "text": [
      "mstep self.weights:  [3.73147212e-01 2.66330230e-01 3.55871884e-10 3.55871884e-10\n",
      " 3.55871884e-10 3.55871884e-10 3.55871884e-10 3.55871884e-10\n",
      " 3.60522554e-01 3.55871884e-10 3.56682776e-10 3.55871884e-10\n",
      " 3.55871884e-10 3.55871884e-10 3.55871884e-10]\n",
      "Q Function:  -1062943.3981231567\n",
      "\n"
     ]
    },
    {
     "name": "stderr",
     "output_type": "stream",
     "text": [
      "100%|██████████████████████████████████████████████████████████████████████████████████████████████████████| 3/3 [00:21<00:00,  7.07s/it]\n"
     ]
    },
    {
     "name": "stdout",
     "output_type": "stream",
     "text": [
      "mstep self.weights:  [3.82909223e-01 2.68932721e-01 3.55871884e-10 3.55871884e-10\n",
      " 3.55871884e-10 3.55871884e-10 3.55871884e-10 3.55871884e-10\n",
      " 3.48158051e-01 3.55871884e-10 3.56254539e-10 3.55871884e-10\n",
      " 3.55871884e-10 3.55871884e-10 3.55871884e-10]\n",
      "Q Function:  -1069061.3283213035\n",
      "\n",
      "Result:  ['./fits/explorData_0313/gg_240312_025_brca1_K15_1/brca1/Bursty_Poisson_1x1/grid_scan_results_0.res', './fits/explorData_0313/gg_240312_025_brca1_K15_1/brca1/Bursty_Poisson_1x1/grid_scan_results_1.res', './fits/explorData_0313/gg_240312_025_brca1_K15_1/brca1/Bursty_Poisson_1x1/grid_scan_results_8.res']\n",
      "No. clus:  3\n"
     ]
    },
    {
     "name": "stderr",
     "output_type": "stream",
     "text": [
      "/home/tchari/.local/lib/python3.7/site-packages/ipykernel_launcher.py:21: RuntimeWarning: invalid value encountered in true_divide\n",
      "/home/tchari/.local/lib/python3.7/site-packages/ipykernel_launcher.py:21: RuntimeWarning: divide by zero encountered in true_divide\n",
      "/home/tchari/.local/lib/python3.7/site-packages/ipykernel_launcher.py:21: RuntimeWarning: divide by zero encountered in log\n"
     ]
    },
    {
     "name": "stdout",
     "output_type": "stream",
     "text": [
      "pbmc with 763 genes\n",
      "Num lit genes used:  763\n",
      "WARNING:root:Gene MARS not found or has multiple entries in annotations.\n",
      "WARNING:root:Gene WARS not found or has multiple entries in annotations.\n",
      "WARNING:root:Gene ACPP not found or has multiple entries in annotations.\n",
      "WARNING:root:Selecting 763 genes required 100.0% dataset threshold.\n"
     ]
    },
    {
     "name": "stderr",
     "output_type": "stream",
     "text": [
      "100%|██████████████████████████████████████████████████████████████████████████████████████████████████████| 3/3 [01:01<00:00, 20.66s/it]\n",
      "100%|██████████████████████████████████████████████████████████████████████████████████████████████████████| 3/3 [01:15<00:00, 25.19s/it]\n"
     ]
    },
    {
     "name": "stdout",
     "output_type": "stream",
     "text": [
      "mstep self.weights:  [0.48139244 0.16354314 0.35506441]\n",
      "Q Function:  -10157301.621524714\n",
      "\n"
     ]
    },
    {
     "name": "stderr",
     "output_type": "stream",
     "text": [
      "100%|██████████████████████████████████████████████████████████████████████████████████████████████████████| 3/3 [01:02<00:00, 20.70s/it]\n"
     ]
    },
    {
     "name": "stdout",
     "output_type": "stream",
     "text": [
      "mstep self.weights:  [0.4817239  0.16035303 0.35792307]\n",
      "Q Function:  -9963151.239997732\n",
      "\n"
     ]
    },
    {
     "name": "stderr",
     "output_type": "stream",
     "text": [
      "100%|██████████████████████████████████████████████████████████████████████████████████████████████████████| 3/3 [01:05<00:00, 21.89s/it]\n"
     ]
    },
    {
     "name": "stdout",
     "output_type": "stream",
     "text": [
      "mstep self.weights:  [0.48231503 0.15889455 0.35879042]\n",
      "Q Function:  -9962321.38588499\n",
      "\n"
     ]
    },
    {
     "name": "stderr",
     "output_type": "stream",
     "text": [
      "100%|██████████████████████████████████████████████████████████████████████████████████████████████████████| 3/3 [01:05<00:00, 21.84s/it]\n"
     ]
    },
    {
     "name": "stdout",
     "output_type": "stream",
     "text": [
      "mstep self.weights:  [0.48267728 0.15828912 0.3590336 ]\n",
      "Q Function:  -9967636.339080404\n",
      "\n"
     ]
    },
    {
     "name": "stderr",
     "output_type": "stream",
     "text": [
      "100%|██████████████████████████████████████████████████████████████████████████████████████████████████████| 3/3 [01:02<00:00, 20.68s/it]\n"
     ]
    },
    {
     "name": "stdout",
     "output_type": "stream",
     "text": [
      "mstep self.weights:  [0.48283187 0.15803015 0.35913798]\n",
      "Q Function:  -9978051.856879888\n",
      "\n"
     ]
    },
    {
     "name": "stderr",
     "output_type": "stream",
     "text": [
      "100%|██████████████████████████████████████████████████████████████████████████████████████████████████████| 3/3 [01:02<00:00, 20.96s/it]\n"
     ]
    },
    {
     "name": "stdout",
     "output_type": "stream",
     "text": [
      "mstep self.weights:  [0.48285918 0.15772826 0.35941256]\n",
      "Q Function:  -9978624.554509826\n",
      "\n"
     ]
    },
    {
     "name": "stderr",
     "output_type": "stream",
     "text": [
      "100%|██████████████████████████████████████████████████████████████████████████████████████████████████████| 3/3 [01:07<00:00, 22.37s/it]\n"
     ]
    },
    {
     "name": "stdout",
     "output_type": "stream",
     "text": [
      "mstep self.weights:  [0.48286117 0.15762154 0.35951728]\n",
      "Q Function:  -9978073.013988819\n",
      "\n"
     ]
    },
    {
     "name": "stderr",
     "output_type": "stream",
     "text": [
      "100%|██████████████████████████████████████████████████████████████████████████████████████████████████████| 3/3 [01:05<00:00, 21.70s/it]\n"
     ]
    },
    {
     "name": "stdout",
     "output_type": "stream",
     "text": [
      "mstep self.weights:  [0.4828595  0.15732928 0.35981122]\n",
      "Q Function:  -9979066.42463883\n",
      "\n"
     ]
    },
    {
     "name": "stderr",
     "output_type": "stream",
     "text": [
      "100%|██████████████████████████████████████████████████████████████████████████████████████████████████████| 3/3 [01:04<00:00, 21.38s/it]\n"
     ]
    },
    {
     "name": "stdout",
     "output_type": "stream",
     "text": [
      "mstep self.weights:  [0.48286004 0.15731428 0.35982568]\n",
      "Q Function:  -9978895.046738356\n",
      "\n"
     ]
    },
    {
     "name": "stderr",
     "output_type": "stream",
     "text": [
      "100%|██████████████████████████████████████████████████████████████████████████████████████████████████████| 3/3 [01:03<00:00, 21.03s/it]\n"
     ]
    },
    {
     "name": "stdout",
     "output_type": "stream",
     "text": [
      "mstep self.weights:  [0.48286004 0.15731428 0.35982568]\n",
      "Q Function:  -9978895.046734663\n",
      "\n",
      "Result:  ['./fits/explorData_0313/gg_240312_025_pbmc_K3_1/pbmc/Bursty_Poisson_1x1/grid_scan_results_0.res', './fits/explorData_0313/gg_240312_025_pbmc_K3_1/pbmc/Bursty_Poisson_1x1/grid_scan_results_1.res', './fits/explorData_0313/gg_240312_025_pbmc_K3_1/pbmc/Bursty_Poisson_1x1/grid_scan_results_2.res']\n",
      "No. clus:  3\n",
      "WARNING:root:Gene MARS not found or has multiple entries in annotations.\n",
      "WARNING:root:Gene WARS not found or has multiple entries in annotations.\n",
      "WARNING:root:Gene ACPP not found or has multiple entries in annotations.\n",
      "WARNING:root:Selecting 763 genes required 100.0% dataset threshold.\n"
     ]
    },
    {
     "name": "stderr",
     "output_type": "stream",
     "text": [
      "100%|████████████████████████████████████████████████████████████████████████████████████████████████████| 10/10 [01:03<00:00,  6.35s/it]\n",
      "100%|████████████████████████████████████████████████████████████████████████████████████████████████████| 10/10 [01:00<00:00,  6.08s/it]\n"
     ]
    },
    {
     "name": "stdout",
     "output_type": "stream",
     "text": [
      "mstep self.weights:  [0.26447971 0.01379126 0.05558305 0.14317145 0.05022251 0.00964277\n",
      " 0.07096935 0.09571577 0.28799252 0.00843162]\n",
      "Q Function:  -10326023.966026146\n",
      "\n"
     ]
    },
    {
     "name": "stderr",
     "output_type": "stream",
     "text": [
      "100%|████████████████████████████████████████████████████████████████████████████████████████████████████| 10/10 [00:58<00:00,  5.88s/it]\n"
     ]
    },
    {
     "name": "stdout",
     "output_type": "stream",
     "text": [
      "mstep self.weights:  [0.25641528 0.01599632 0.07460124 0.14223178 0.03268028 0.01329844\n",
      " 0.0642853  0.12665605 0.25127422 0.02256109]\n",
      "Q Function:  -9738865.755647479\n",
      "\n"
     ]
    },
    {
     "name": "stderr",
     "output_type": "stream",
     "text": [
      "100%|████████████████████████████████████████████████████████████████████████████████████████████████████| 10/10 [01:02<00:00,  6.24s/it]\n"
     ]
    },
    {
     "name": "stdout",
     "output_type": "stream",
     "text": [
      "mstep self.weights:  [0.24460534 0.01688947 0.09035832 0.14134881 0.03797865 0.0156561\n",
      " 0.07580428 0.12156073 0.22511262 0.03068568]\n",
      "Q Function:  -9676307.39705747\n",
      "\n"
     ]
    },
    {
     "name": "stderr",
     "output_type": "stream",
     "text": [
      "100%|████████████████████████████████████████████████████████████████████████████████████████████████████| 10/10 [00:59<00:00,  5.99s/it]\n"
     ]
    },
    {
     "name": "stdout",
     "output_type": "stream",
     "text": [
      "mstep self.weights:  [0.24242172 0.01683055 0.09223991 0.14131151 0.03951354 0.01829137\n",
      " 0.07818208 0.11982624 0.21881    0.03257308]\n",
      "Q Function:  -9698234.393156515\n",
      "\n"
     ]
    },
    {
     "name": "stderr",
     "output_type": "stream",
     "text": [
      "100%|████████████████████████████████████████████████████████████████████████████████████████████████████| 10/10 [00:59<00:00,  5.98s/it]\n"
     ]
    },
    {
     "name": "stdout",
     "output_type": "stream",
     "text": [
      "mstep self.weights:  [0.24320312 0.01689371 0.09257338 0.14131292 0.04469624 0.02098823\n",
      " 0.07628615 0.11576163 0.21510461 0.03317999]\n",
      "Q Function:  -9699698.30364016\n",
      "\n"
     ]
    },
    {
     "name": "stderr",
     "output_type": "stream",
     "text": [
      "100%|████████████████████████████████████████████████████████████████████████████████████████████████████| 10/10 [01:01<00:00,  6.19s/it]\n"
     ]
    },
    {
     "name": "stdout",
     "output_type": "stream",
     "text": [
      "mstep self.weights:  [0.19237576 0.01700013 0.0923642  0.14131577 0.04631644 0.02710771\n",
      " 0.12093678 0.12022917 0.2091733  0.03318075]\n",
      "Q Function:  -9683861.832953844\n",
      "\n"
     ]
    },
    {
     "name": "stderr",
     "output_type": "stream",
     "text": [
      "100%|████████████████████████████████████████████████████████████████████████████████████████████████████| 10/10 [01:00<00:00,  6.08s/it]\n"
     ]
    },
    {
     "name": "stdout",
     "output_type": "stream",
     "text": [
      "mstep self.weights:  [0.20786051 0.01754774 0.09166999 0.14131375 0.04416054 0.03312914\n",
      " 0.09979904 0.12767422 0.2041114  0.03273366]\n",
      "Q Function:  -9680420.26819551\n",
      "\n"
     ]
    },
    {
     "name": "stderr",
     "output_type": "stream",
     "text": [
      "100%|████████████████████████████████████████████████████████████████████████████████████████████████████| 10/10 [01:01<00:00,  6.16s/it]\n"
     ]
    },
    {
     "name": "stdout",
     "output_type": "stream",
     "text": [
      "mstep self.weights:  [0.20353249 0.01755427 0.09028029 0.14130724 0.04059327 0.041792\n",
      " 0.11535742 0.12001123 0.19769943 0.03187236]\n",
      "Q Function:  -9694996.015651098\n",
      "\n"
     ]
    },
    {
     "name": "stderr",
     "output_type": "stream",
     "text": [
      "100%|████████████████████████████████████████████████████████████████████████████████████████████████████| 10/10 [01:02<00:00,  6.30s/it]\n"
     ]
    },
    {
     "name": "stdout",
     "output_type": "stream",
     "text": [
      "mstep self.weights:  [0.21022885 0.01770786 0.08858101 0.14130724 0.03659011 0.05030667\n",
      " 0.10668785 0.12583532 0.19129976 0.03145531]\n",
      "Q Function:  -9700946.64663123\n",
      "\n"
     ]
    },
    {
     "name": "stderr",
     "output_type": "stream",
     "text": [
      "100%|████████████████████████████████████████████████████████████████████████████████████████████████████| 10/10 [01:02<00:00,  6.28s/it]\n"
     ]
    },
    {
     "name": "stdout",
     "output_type": "stream",
     "text": [
      "mstep self.weights:  [0.21562358 0.01776139 0.08647942 0.14130498 0.03715042 0.05646108\n",
      " 0.10106887 0.12546181 0.18748685 0.0312016 ]\n",
      "Q Function:  -9691601.856876133\n",
      "\n",
      "Result:  ['./fits/explorData_0313/gg_240312_025_pbmc_K10_1/pbmc/Bursty_Poisson_1x1/grid_scan_results_0.res', './fits/explorData_0313/gg_240312_025_pbmc_K10_1/pbmc/Bursty_Poisson_1x1/grid_scan_results_1.res', './fits/explorData_0313/gg_240312_025_pbmc_K10_1/pbmc/Bursty_Poisson_1x1/grid_scan_results_2.res', './fits/explorData_0313/gg_240312_025_pbmc_K10_1/pbmc/Bursty_Poisson_1x1/grid_scan_results_3.res', './fits/explorData_0313/gg_240312_025_pbmc_K10_1/pbmc/Bursty_Poisson_1x1/grid_scan_results_4.res', './fits/explorData_0313/gg_240312_025_pbmc_K10_1/pbmc/Bursty_Poisson_1x1/grid_scan_results_5.res', './fits/explorData_0313/gg_240312_025_pbmc_K10_1/pbmc/Bursty_Poisson_1x1/grid_scan_results_6.res', './fits/explorData_0313/gg_240312_025_pbmc_K10_1/pbmc/Bursty_Poisson_1x1/grid_scan_results_7.res', './fits/explorData_0313/gg_240312_025_pbmc_K10_1/pbmc/Bursty_Poisson_1x1/grid_scan_results_8.res', './fits/explorData_0313/gg_240312_025_pbmc_K10_1/pbmc/Bursty_Poisson_1x1/grid_scan_results_9.res']\n",
      "No. clus:  10\n",
      "WARNING:root:Gene MARS not found or has multiple entries in annotations.\n",
      "WARNING:root:Gene WARS not found or has multiple entries in annotations.\n",
      "WARNING:root:Gene ACPP not found or has multiple entries in annotations.\n",
      "WARNING:root:Selecting 763 genes required 100.0% dataset threshold.\n"
     ]
    },
    {
     "name": "stderr",
     "output_type": "stream",
     "text": [
      "100%|████████████████████████████████████████████████████████████████████████████████████████████████████| 15/15 [01:13<00:00,  4.93s/it]\n",
      "100%|████████████████████████████████████████████████████████████████████████████████████████████████████| 14/14 [01:01<00:00,  4.40s/it]\n"
     ]
    },
    {
     "name": "stdout",
     "output_type": "stream",
     "text": [
      "mstep self.weights:  [9.51531181e-02 3.00044880e-01 1.35349186e-01 9.97426032e-03\n",
      " 5.63878056e-02 2.19982925e-03 3.09002363e-01 5.32862552e-02\n",
      " 6.33971385e-04 1.44106651e-02 4.47598432e-03 1.06415587e-02\n",
      " 1.65359214e-04 8.26274969e-03 1.20140631e-05]\n",
      "Q Function:  -10520929.568370258\n",
      "\n"
     ]
    },
    {
     "name": "stderr",
     "output_type": "stream",
     "text": [
      "100%|████████████████████████████████████████████████████████████████████████████████████████████████████| 13/13 [01:00<00:00,  4.64s/it]\n"
     ]
    },
    {
     "name": "stdout",
     "output_type": "stream",
     "text": [
      "mstep self.weights:  [1.03806052e-01 2.69992063e-01 1.35052895e-01 3.99947154e-03\n",
      " 5.28088053e-02 1.35357319e-03 3.17655078e-01 7.48151490e-02\n",
      " 9.09338909e-11 1.35586705e-02 7.75110392e-03 9.09339888e-05\n",
      " 9.09338909e-11 6.81915353e-03 1.22970512e-02]\n",
      "Q Function:  -9758365.275980145\n",
      "\n"
     ]
    },
    {
     "name": "stderr",
     "output_type": "stream",
     "text": [
      "100%|████████████████████████████████████████████████████████████████████████████████████████████████████| 12/12 [01:01<00:00,  5.13s/it]\n"
     ]
    },
    {
     "name": "stdout",
     "output_type": "stream",
     "text": [
      "mstep self.weights:  [1.08932218e-01 2.57268924e-01 1.34549299e-01 1.18559733e-03\n",
      " 5.25212976e-02 4.54669558e-04 3.14172062e-01 8.35886394e-02\n",
      " 9.09338909e-11 1.27297763e-02 1.14633843e-02 9.09338909e-11\n",
      " 9.09338909e-11 3.14781457e-03 1.99863164e-02]\n",
      "Q Function:  -9734481.942121712\n",
      "\n"
     ]
    },
    {
     "name": "stderr",
     "output_type": "stream",
     "text": [
      "100%|████████████████████████████████████████████████████████████████████████████████████████████████████| 11/11 [01:01<00:00,  5.58s/it]\n"
     ]
    },
    {
     "name": "stdout",
     "output_type": "stream",
     "text": [
      "mstep self.weights:  [1.17822907e-01 2.52109119e-01 1.33750185e-01 3.61114104e-04\n",
      " 4.25491070e-02 9.09338909e-11 3.10983924e-01 8.85556830e-02\n",
      " 9.09338909e-11 1.17313532e-02 1.26292795e-02 9.09338909e-11\n",
      " 9.09338909e-11 5.46802527e-04 2.89605258e-02]\n",
      "Q Function:  -9742559.091790626\n",
      "\n"
     ]
    },
    {
     "name": "stderr",
     "output_type": "stream",
     "text": [
      "100%|██████████████████████████████████████████████████████████████████████████████████████████████████████| 9/9 [01:01<00:00,  6.79s/it]\n"
     ]
    },
    {
     "name": "stdout",
     "output_type": "stream",
     "text": [
      "mstep self.weights:  [1.15787351e-01 2.48467924e-01 1.33578879e-01 9.09338909e-11\n",
      " 4.38263773e-02 9.09338909e-11 3.08366454e-01 9.39663487e-02\n",
      " 9.09338909e-11 1.04558800e-02 1.31893827e-02 9.09338909e-11\n",
      " 9.09338909e-11 9.09338909e-11 3.23614028e-02]\n",
      "Q Function:  -9720113.555399692\n",
      "\n"
     ]
    },
    {
     "name": "stderr",
     "output_type": "stream",
     "text": [
      "100%|██████████████████████████████████████████████████████████████████████████████████████████████████████| 9/9 [00:59<00:00,  6.61s/it]\n"
     ]
    },
    {
     "name": "stdout",
     "output_type": "stream",
     "text": [
      "mstep self.weights:  [1.13506716e-01 2.49310051e-01 1.33499907e-01 9.09338909e-11\n",
      " 4.54532203e-02 9.09338909e-11 3.05850771e-01 9.44984361e-02\n",
      " 9.09338909e-11 9.53837554e-03 1.38236435e-02 9.09338909e-11\n",
      " 9.09338909e-11 9.09338909e-11 3.45188787e-02]\n",
      "Q Function:  -9717222.728485674\n",
      "\n"
     ]
    },
    {
     "name": "stderr",
     "output_type": "stream",
     "text": [
      "100%|██████████████████████████████████████████████████████████████████████████████████████████████████████| 9/9 [00:59<00:00,  6.61s/it]\n"
     ]
    },
    {
     "name": "stdout",
     "output_type": "stream",
     "text": [
      "mstep self.weights:  [1.17899603e-01 2.50346719e-01 1.33581673e-01 9.09338909e-11\n",
      " 4.00565232e-02 9.09338909e-11 3.05069153e-01 9.49354602e-02\n",
      " 9.09338909e-11 8.91164796e-03 1.42120619e-02 9.09338909e-11\n",
      " 9.09338909e-11 9.09338909e-11 3.49871572e-02]\n",
      "Q Function:  -9729957.309505831\n",
      "\n"
     ]
    },
    {
     "name": "stderr",
     "output_type": "stream",
     "text": [
      "100%|██████████████████████████████████████████████████████████████████████████████████████████████████████| 9/9 [00:57<00:00,  6.40s/it]\n"
     ]
    },
    {
     "name": "stdout",
     "output_type": "stream",
     "text": [
      "mstep self.weights:  [1.22056545e-01 2.35706273e-01 1.33538090e-01 9.09338909e-11\n",
      " 3.91800166e-02 9.09338909e-11 3.00758141e-01 1.10746944e-01\n",
      " 9.09338909e-11 8.63871981e-03 1.45392284e-02 9.09338909e-11\n",
      " 9.09338909e-11 9.09338909e-11 3.48360410e-02]\n",
      "Q Function:  -9684851.312214583\n",
      "\n"
     ]
    },
    {
     "name": "stderr",
     "output_type": "stream",
     "text": [
      "100%|██████████████████████████████████████████████████████████████████████████████████████████████████████| 9/9 [00:58<00:00,  6.49s/it]\n"
     ]
    },
    {
     "name": "stdout",
     "output_type": "stream",
     "text": [
      "mstep self.weights:  [1.22012019e-01 2.32820913e-01 1.33581299e-01 9.09338909e-11\n",
      " 3.93794340e-02 9.09338909e-11 3.00756472e-01 1.13992271e-01\n",
      " 9.09338909e-11 8.63871901e-03 1.45494229e-02 9.09338909e-11\n",
      " 9.09338909e-11 9.09338909e-11 3.42694501e-02]\n",
      "Q Function:  -9693299.123348573\n",
      "\n",
      "Result:  ['./fits/explorData_0313/gg_240312_025_pbmc_K15_1/pbmc/Bursty_Poisson_1x1/grid_scan_results_0.res', './fits/explorData_0313/gg_240312_025_pbmc_K15_1/pbmc/Bursty_Poisson_1x1/grid_scan_results_1.res', './fits/explorData_0313/gg_240312_025_pbmc_K15_1/pbmc/Bursty_Poisson_1x1/grid_scan_results_2.res', './fits/explorData_0313/gg_240312_025_pbmc_K15_1/pbmc/Bursty_Poisson_1x1/grid_scan_results_4.res', './fits/explorData_0313/gg_240312_025_pbmc_K15_1/pbmc/Bursty_Poisson_1x1/grid_scan_results_6.res', './fits/explorData_0313/gg_240312_025_pbmc_K15_1/pbmc/Bursty_Poisson_1x1/grid_scan_results_7.res', './fits/explorData_0313/gg_240312_025_pbmc_K15_1/pbmc/Bursty_Poisson_1x1/grid_scan_results_9.res', './fits/explorData_0313/gg_240312_025_pbmc_K15_1/pbmc/Bursty_Poisson_1x1/grid_scan_results_10.res', './fits/explorData_0313/gg_240312_025_pbmc_K15_1/pbmc/Bursty_Poisson_1x1/grid_scan_results_14.res']\n",
      "No. clus:  9\n"
     ]
    },
    {
     "name": "stderr",
     "output_type": "stream",
     "text": [
      "/home/tchari/.local/lib/python3.7/site-packages/ipykernel_launcher.py:21: RuntimeWarning: invalid value encountered in true_divide\n",
      "/home/tchari/.local/lib/python3.7/site-packages/ipykernel_launcher.py:21: RuntimeWarning: divide by zero encountered in true_divide\n",
      "/home/tchari/.local/lib/python3.7/site-packages/ipykernel_launcher.py:21: RuntimeWarning: divide by zero encountered in log\n",
      "/home/tchari/.local/lib/python3.7/site-packages/ipykernel_launcher.py:26: FutureWarning: X.dtype being converted to np.float32 from float64. In the next version of anndata (0.9) conversion will not be automatic. Pass dtype explicitly to avoid this warning. Pass `AnnData(X, dtype=X.dtype, ...)` to get the future behavour.\n"
     ]
    },
    {
     "name": "stdout",
     "output_type": "stream",
     "text": [
      "e11e13 with 268 genes\n",
      "Num lit genes used:  54\n",
      "WARNING:root:Gene ENSMUSG00000009418.15 not found or has multiple entries in annotations.\n",
      "WARNING:root:Gene ENSMUSG00000038305.14 not found or has multiple entries in annotations.\n",
      "WARNING:root:Gene ENSMUSG00000035459.17 not found or has multiple entries in annotations.\n",
      "WARNING:root:Gene ENSMUSG00000021676.9 not found or has multiple entries in annotations.\n",
      "WARNING:root:Gene Hist1h2bc not found or has multiple entries in annotations.\n",
      "WARNING:root:Gene ENSMUSG00000045763.7 not found or has multiple entries in annotations.\n",
      "WARNING:root:Gene ENSMUSG00000022324.14 not found or has multiple entries in annotations.\n",
      "WARNING:root:Gene ENSMUSG00000068220.5 not found or has multiple entries in annotations.\n",
      "WARNING:root:Gene ENSMUSG00000042622.13 not found or has multiple entries in annotations.\n",
      "WARNING:root:Gene ENSMUSG00000043091.8 not found or has multiple entries in annotations.\n",
      "WARNING:root:Gene ENSMUSG00000022673.4 not found or has multiple entries in annotations.\n",
      "WARNING:root:Gene ENSMUSG00000033149.16 not found or has multiple entries in annotations.\n",
      "WARNING:root:Gene ENSMUSG00000050272.9 not found or has multiple entries in annotations.\n",
      "WARNING:root:Gene ENSMUSG00000033306.14 not found or has multiple entries in annotations.\n",
      "WARNING:root:Gene ENSMUSG00000022836.10 not found or has multiple entries in annotations.\n",
      "WARNING:root:Gene ENSMUSG00000024087.3 not found or has multiple entries in annotations.\n",
      "WARNING:root:Gene ENSMUSG00000023868.15 not found or has multiple entries in annotations.\n",
      "WARNING:root:Gene ENSMUSG00000023886.9 not found or has multiple entries in annotations.\n",
      "WARNING:root:Gene Gm26917 not found or has multiple entries in annotations.\n",
      "WARNING:root:Gene ENSMUSG00000024366.7 not found or has multiple entries in annotations.\n",
      "WARNING:root:Gene ENSMUSG00000036452.17 not found or has multiple entries in annotations.\n",
      "WARNING:root:Gene ENSMUSG00000024660.8 not found or has multiple entries in annotations.\n",
      "WARNING:root:Gene ENSMUSG00000035783.8 not found or has multiple entries in annotations.\n",
      "WARNING:root:Gene ENSMUSG00000053279.7 not found or has multiple entries in annotations.\n",
      "WARNING:root:Gene ENSMUSG00000026872.17 not found or has multiple entries in annotations.\n",
      "WARNING:root:Gene ENSMUSG00000026837.15 not found or has multiple entries in annotations.\n",
      "WARNING:root:Gene ENSMUSG00000074578.13 not found or has multiple entries in annotations.\n",
      "WARNING:root:Gene ENSMUSG00000027523.19 not found or has multiple entries in annotations.\n",
      "WARNING:root:Gene ENSMUSG00000086290.8 not found or has multiple entries in annotations.\n",
      "WARNING:root:Gene ENSMUSG00000000031.15 not found or has multiple entries in annotations.\n",
      "WARNING:root:Gene ENSMUSG00000031799.9 not found or has multiple entries in annotations.\n",
      "WARNING:root:Gene ENSMUSG00000039607.15 not found or has multiple entries in annotations.\n",
      "WARNING:root:Gene Pet2 not found or has multiple entries in annotations.\n",
      "WARNING:root:Gene ENSMUSG00000059401.13 not found or has multiple entries in annotations.\n",
      "WARNING:root:Selecting 268 genes required 100.0% dataset threshold.\n"
     ]
    },
    {
     "name": "stderr",
     "output_type": "stream",
     "text": [
      "100%|██████████████████████████████████████████████████████████████████████████████████████████████████████| 2/2 [00:11<00:00,  5.65s/it]\n",
      "100%|██████████████████████████████████████████████████████████████████████████████████████████████████████| 2/2 [00:11<00:00,  5.60s/it]\n"
     ]
    },
    {
     "name": "stdout",
     "output_type": "stream",
     "text": [
      "mstep self.weights:  [0.614823 0.385177]\n",
      "Q Function:  -887130.0427858704\n",
      "\n"
     ]
    },
    {
     "name": "stderr",
     "output_type": "stream",
     "text": [
      "100%|██████████████████████████████████████████████████████████████████████████████████████████████████████| 2/2 [00:09<00:00,  4.99s/it]\n"
     ]
    },
    {
     "name": "stdout",
     "output_type": "stream",
     "text": [
      "mstep self.weights:  [0.34622125 0.65377875]\n",
      "Q Function:  -872146.2659203226\n",
      "\n"
     ]
    },
    {
     "name": "stderr",
     "output_type": "stream",
     "text": [
      "100%|██████████████████████████████████████████████████████████████████████████████████████████████████████| 2/2 [00:10<00:00,  5.08s/it]\n"
     ]
    },
    {
     "name": "stdout",
     "output_type": "stream",
     "text": [
      "mstep self.weights:  [0.23394313 0.76605687]\n",
      "Q Function:  -858448.339399063\n",
      "\n"
     ]
    },
    {
     "name": "stderr",
     "output_type": "stream",
     "text": [
      "100%|██████████████████████████████████████████████████████████████████████████████████████████████████████| 2/2 [00:10<00:00,  5.20s/it]\n"
     ]
    },
    {
     "name": "stdout",
     "output_type": "stream",
     "text": [
      "mstep self.weights:  [0.17595245 0.82404755]\n",
      "Q Function:  -866889.022236031\n",
      "\n"
     ]
    },
    {
     "name": "stderr",
     "output_type": "stream",
     "text": [
      "100%|██████████████████████████████████████████████████████████████████████████████████████████████████████| 2/2 [00:10<00:00,  5.32s/it]\n"
     ]
    },
    {
     "name": "stdout",
     "output_type": "stream",
     "text": [
      "mstep self.weights:  [0.18001708 0.81998292]\n",
      "Q Function:  -896027.99294375\n",
      "\n"
     ]
    },
    {
     "name": "stderr",
     "output_type": "stream",
     "text": [
      "100%|██████████████████████████████████████████████████████████████████████████████████████████████████████| 2/2 [00:10<00:00,  5.00s/it]\n"
     ]
    },
    {
     "name": "stdout",
     "output_type": "stream",
     "text": [
      "mstep self.weights:  [0.19104835 0.80895165]\n",
      "Q Function:  -894161.221759257\n",
      "\n"
     ]
    },
    {
     "name": "stderr",
     "output_type": "stream",
     "text": [
      "100%|██████████████████████████████████████████████████████████████████████████████████████████████████████| 2/2 [00:10<00:00,  5.22s/it]\n"
     ]
    },
    {
     "name": "stdout",
     "output_type": "stream",
     "text": [
      "mstep self.weights:  [0.18751742 0.81248258]\n",
      "Q Function:  -899789.5176344279\n",
      "\n"
     ]
    },
    {
     "name": "stderr",
     "output_type": "stream",
     "text": [
      "100%|██████████████████████████████████████████████████████████████████████████████████████████████████████| 2/2 [00:10<00:00,  5.27s/it]\n"
     ]
    },
    {
     "name": "stdout",
     "output_type": "stream",
     "text": [
      "mstep self.weights:  [0.18367689 0.81632311]\n",
      "Q Function:  -897672.545263771\n",
      "\n"
     ]
    },
    {
     "name": "stderr",
     "output_type": "stream",
     "text": [
      "100%|██████████████████████████████████████████████████████████████████████████████████████████████████████| 2/2 [00:10<00:00,  5.50s/it]\n"
     ]
    },
    {
     "name": "stdout",
     "output_type": "stream",
     "text": [
      "mstep self.weights:  [0.18305347 0.81694653]\n",
      "Q Function:  -897051.5390738327\n",
      "\n"
     ]
    },
    {
     "name": "stderr",
     "output_type": "stream",
     "text": [
      "100%|██████████████████████████████████████████████████████████████████████████████████████████████████████| 2/2 [00:10<00:00,  5.49s/it]\n"
     ]
    },
    {
     "name": "stdout",
     "output_type": "stream",
     "text": [
      "mstep self.weights:  [0.17902602 0.82097398]\n",
      "Q Function:  -893799.9784006092\n",
      "\n",
      "Result:  ['./fits/explorData_0313/gg_240312_025_e11e13_K2_1/e11e13/Bursty_Poisson_1x1/grid_scan_results_0.res', './fits/explorData_0313/gg_240312_025_e11e13_K2_1/e11e13/Bursty_Poisson_1x1/grid_scan_results_1.res']\n",
      "No. clus:  2\n",
      "ARI:  0.5003667795236505\n",
      "WARNING:root:Gene ENSMUSG00000009418.15 not found or has multiple entries in annotations.\n",
      "WARNING:root:Gene ENSMUSG00000038305.14 not found or has multiple entries in annotations.\n",
      "WARNING:root:Gene ENSMUSG00000035459.17 not found or has multiple entries in annotations.\n",
      "WARNING:root:Gene ENSMUSG00000021676.9 not found or has multiple entries in annotations.\n",
      "WARNING:root:Gene Hist1h2bc not found or has multiple entries in annotations.\n",
      "WARNING:root:Gene ENSMUSG00000045763.7 not found or has multiple entries in annotations.\n",
      "WARNING:root:Gene ENSMUSG00000022324.14 not found or has multiple entries in annotations.\n",
      "WARNING:root:Gene ENSMUSG00000068220.5 not found or has multiple entries in annotations.\n",
      "WARNING:root:Gene ENSMUSG00000042622.13 not found or has multiple entries in annotations.\n",
      "WARNING:root:Gene ENSMUSG00000043091.8 not found or has multiple entries in annotations.\n",
      "WARNING:root:Gene ENSMUSG00000022673.4 not found or has multiple entries in annotations.\n",
      "WARNING:root:Gene ENSMUSG00000033149.16 not found or has multiple entries in annotations.\n",
      "WARNING:root:Gene ENSMUSG00000050272.9 not found or has multiple entries in annotations.\n",
      "WARNING:root:Gene ENSMUSG00000033306.14 not found or has multiple entries in annotations.\n",
      "WARNING:root:Gene ENSMUSG00000022836.10 not found or has multiple entries in annotations.\n",
      "WARNING:root:Gene ENSMUSG00000024087.3 not found or has multiple entries in annotations.\n",
      "WARNING:root:Gene ENSMUSG00000023868.15 not found or has multiple entries in annotations.\n",
      "WARNING:root:Gene ENSMUSG00000023886.9 not found or has multiple entries in annotations.\n",
      "WARNING:root:Gene Gm26917 not found or has multiple entries in annotations.\n",
      "WARNING:root:Gene ENSMUSG00000024366.7 not found or has multiple entries in annotations.\n",
      "WARNING:root:Gene ENSMUSG00000036452.17 not found or has multiple entries in annotations.\n",
      "WARNING:root:Gene ENSMUSG00000024660.8 not found or has multiple entries in annotations.\n",
      "WARNING:root:Gene ENSMUSG00000035783.8 not found or has multiple entries in annotations.\n",
      "WARNING:root:Gene ENSMUSG00000053279.7 not found or has multiple entries in annotations.\n",
      "WARNING:root:Gene ENSMUSG00000026872.17 not found or has multiple entries in annotations.\n",
      "WARNING:root:Gene ENSMUSG00000026837.15 not found or has multiple entries in annotations.\n",
      "WARNING:root:Gene ENSMUSG00000074578.13 not found or has multiple entries in annotations.\n",
      "WARNING:root:Gene ENSMUSG00000027523.19 not found or has multiple entries in annotations.\n",
      "WARNING:root:Gene ENSMUSG00000086290.8 not found or has multiple entries in annotations.\n",
      "WARNING:root:Gene ENSMUSG00000000031.15 not found or has multiple entries in annotations.\n",
      "WARNING:root:Gene ENSMUSG00000031799.9 not found or has multiple entries in annotations.\n",
      "WARNING:root:Gene ENSMUSG00000039607.15 not found or has multiple entries in annotations.\n",
      "WARNING:root:Gene Pet2 not found or has multiple entries in annotations.\n",
      "WARNING:root:Gene ENSMUSG00000059401.13 not found or has multiple entries in annotations.\n",
      "WARNING:root:Selecting 268 genes required 100.0% dataset threshold.\n"
     ]
    },
    {
     "name": "stderr",
     "output_type": "stream",
     "text": [
      "100%|██████████████████████████████████████████████████████████████████████████████████████████████████████| 5/5 [00:09<00:00,  1.97s/it]\n",
      "100%|██████████████████████████████████████████████████████████████████████████████████████████████████████| 5/5 [00:10<00:00,  2.14s/it]\n"
     ]
    },
    {
     "name": "stdout",
     "output_type": "stream",
     "text": [
      "mstep self.weights:  [0.43885698 0.10302174 0.10914686 0.06507334 0.28390107]\n",
      "Q Function:  -870724.8999272098\n",
      "\n"
     ]
    },
    {
     "name": "stderr",
     "output_type": "stream",
     "text": [
      "100%|██████████████████████████████████████████████████████████████████████████████████████████████████████| 5/5 [00:10<00:00,  2.13s/it]\n"
     ]
    },
    {
     "name": "stdout",
     "output_type": "stream",
     "text": [
      "mstep self.weights:  [0.16701347 0.07750946 0.07039026 0.06355114 0.62153566]\n",
      "Q Function:  -861854.3486298048\n",
      "\n"
     ]
    },
    {
     "name": "stderr",
     "output_type": "stream",
     "text": [
      "100%|██████████████████████████████████████████████████████████████████████████████████████████████████████| 5/5 [00:10<00:00,  2.03s/it]\n"
     ]
    },
    {
     "name": "stdout",
     "output_type": "stream",
     "text": [
      "mstep self.weights:  [0.19465378 0.07691917 0.0021169  0.06340806 0.66290209]\n",
      "Q Function:  -884485.9303783374\n",
      "\n"
     ]
    },
    {
     "name": "stderr",
     "output_type": "stream",
     "text": [
      "100%|██████████████████████████████████████████████████████████████████████████████████████████████████████| 4/4 [00:10<00:00,  2.56s/it]\n"
     ]
    },
    {
     "name": "stdout",
     "output_type": "stream",
     "text": [
      "mstep self.weights:  [1.00570673e-01 7.27748573e-02 4.05844155e-10 6.33532740e-02\n",
      " 7.63301196e-01]\n",
      "Q Function:  -882398.3850418779\n",
      "\n"
     ]
    },
    {
     "name": "stderr",
     "output_type": "stream",
     "text": [
      "100%|██████████████████████████████████████████████████████████████████████████████████████████████████████| 4/4 [00:10<00:00,  2.55s/it]\n"
     ]
    },
    {
     "name": "stdout",
     "output_type": "stream",
     "text": [
      "mstep self.weights:  [6.97304982e-02 5.64799959e-02 4.05844155e-10 6.16407704e-02\n",
      " 8.12148735e-01]\n",
      "Q Function:  -853088.3180318163\n",
      "\n"
     ]
    },
    {
     "name": "stderr",
     "output_type": "stream",
     "text": [
      "100%|██████████████████████████████████████████████████████████████████████████████████████████████████████| 4/4 [00:10<00:00,  2.62s/it]\n"
     ]
    },
    {
     "name": "stdout",
     "output_type": "stream",
     "text": [
      "mstep self.weights:  [9.63073447e-02 5.03070254e-02 4.05844155e-10 6.20935227e-02\n",
      " 7.91292107e-01]\n",
      "Q Function:  -892714.4731618024\n",
      "\n"
     ]
    },
    {
     "name": "stderr",
     "output_type": "stream",
     "text": [
      "100%|██████████████████████████████████████████████████████████████████████████████████████████████████████| 4/4 [00:10<00:00,  2.57s/it]\n"
     ]
    },
    {
     "name": "stdout",
     "output_type": "stream",
     "text": [
      "mstep self.weights:  [7.38429583e-02 6.17347154e-02 4.05844155e-10 6.23931518e-02\n",
      " 8.02029174e-01]\n",
      "Q Function:  -877334.0932428977\n",
      "\n"
     ]
    },
    {
     "name": "stderr",
     "output_type": "stream",
     "text": [
      "100%|██████████████████████████████████████████████████████████████████████████████████████████████████████| 4/4 [00:10<00:00,  2.69s/it]\n"
     ]
    },
    {
     "name": "stdout",
     "output_type": "stream",
     "text": [
      "mstep self.weights:  [7.07293188e-02 5.73746499e-02 4.05844155e-10 6.20950330e-02\n",
      " 8.09800998e-01]\n",
      "Q Function:  -891227.7631889309\n",
      "\n"
     ]
    },
    {
     "name": "stderr",
     "output_type": "stream",
     "text": [
      "100%|██████████████████████████████████████████████████████████████████████████████████████████████████████| 4/4 [00:10<00:00,  2.65s/it]\n"
     ]
    },
    {
     "name": "stdout",
     "output_type": "stream",
     "text": [
      "mstep self.weights:  [5.19833738e-02 4.90741218e-02 4.05844155e-10 6.17707127e-02\n",
      " 8.37171791e-01]\n",
      "Q Function:  -860267.3068212043\n",
      "\n"
     ]
    },
    {
     "name": "stderr",
     "output_type": "stream",
     "text": [
      "100%|██████████████████████████████████████████████████████████████████████████████████████████████████████| 4/4 [00:10<00:00,  2.69s/it]\n"
     ]
    },
    {
     "name": "stdout",
     "output_type": "stream",
     "text": [
      "mstep self.weights:  [3.10581290e-02 4.74311120e-02 4.05844155e-10 6.24554905e-02\n",
      " 8.59055268e-01]\n",
      "Q Function:  -861091.8811702454\n",
      "\n",
      "Result:  ['./fits/explorData_0313/gg_240312_025_e11e13_K5_1/e11e13/Bursty_Poisson_1x1/grid_scan_results_0.res', './fits/explorData_0313/gg_240312_025_e11e13_K5_1/e11e13/Bursty_Poisson_1x1/grid_scan_results_1.res', './fits/explorData_0313/gg_240312_025_e11e13_K5_1/e11e13/Bursty_Poisson_1x1/grid_scan_results_3.res', './fits/explorData_0313/gg_240312_025_e11e13_K5_1/e11e13/Bursty_Poisson_1x1/grid_scan_results_4.res']\n",
      "No. clus:  4\n",
      "ARI:  0.40303289058242703\n",
      "WARNING:root:Gene ENSMUSG00000009418.15 not found or has multiple entries in annotations.\n",
      "WARNING:root:Gene ENSMUSG00000038305.14 not found or has multiple entries in annotations.\n",
      "WARNING:root:Gene ENSMUSG00000035459.17 not found or has multiple entries in annotations.\n",
      "WARNING:root:Gene ENSMUSG00000021676.9 not found or has multiple entries in annotations.\n",
      "WARNING:root:Gene Hist1h2bc not found or has multiple entries in annotations.\n",
      "WARNING:root:Gene ENSMUSG00000045763.7 not found or has multiple entries in annotations.\n",
      "WARNING:root:Gene ENSMUSG00000022324.14 not found or has multiple entries in annotations.\n",
      "WARNING:root:Gene ENSMUSG00000068220.5 not found or has multiple entries in annotations.\n",
      "WARNING:root:Gene ENSMUSG00000042622.13 not found or has multiple entries in annotations.\n",
      "WARNING:root:Gene ENSMUSG00000043091.8 not found or has multiple entries in annotations.\n",
      "WARNING:root:Gene ENSMUSG00000022673.4 not found or has multiple entries in annotations.\n",
      "WARNING:root:Gene ENSMUSG00000033149.16 not found or has multiple entries in annotations.\n",
      "WARNING:root:Gene ENSMUSG00000050272.9 not found or has multiple entries in annotations.\n",
      "WARNING:root:Gene ENSMUSG00000033306.14 not found or has multiple entries in annotations.\n",
      "WARNING:root:Gene ENSMUSG00000022836.10 not found or has multiple entries in annotations.\n",
      "WARNING:root:Gene ENSMUSG00000024087.3 not found or has multiple entries in annotations.\n",
      "WARNING:root:Gene ENSMUSG00000023868.15 not found or has multiple entries in annotations.\n",
      "WARNING:root:Gene ENSMUSG00000023886.9 not found or has multiple entries in annotations.\n",
      "WARNING:root:Gene Gm26917 not found or has multiple entries in annotations.\n",
      "WARNING:root:Gene ENSMUSG00000024366.7 not found or has multiple entries in annotations.\n",
      "WARNING:root:Gene ENSMUSG00000036452.17 not found or has multiple entries in annotations.\n",
      "WARNING:root:Gene ENSMUSG00000024660.8 not found or has multiple entries in annotations.\n",
      "WARNING:root:Gene ENSMUSG00000035783.8 not found or has multiple entries in annotations.\n",
      "WARNING:root:Gene ENSMUSG00000053279.7 not found or has multiple entries in annotations.\n",
      "WARNING:root:Gene ENSMUSG00000026872.17 not found or has multiple entries in annotations.\n",
      "WARNING:root:Gene ENSMUSG00000026837.15 not found or has multiple entries in annotations.\n",
      "WARNING:root:Gene ENSMUSG00000074578.13 not found or has multiple entries in annotations.\n",
      "WARNING:root:Gene ENSMUSG00000027523.19 not found or has multiple entries in annotations.\n",
      "WARNING:root:Gene ENSMUSG00000086290.8 not found or has multiple entries in annotations.\n",
      "WARNING:root:Gene ENSMUSG00000000031.15 not found or has multiple entries in annotations.\n",
      "WARNING:root:Gene ENSMUSG00000031799.9 not found or has multiple entries in annotations.\n",
      "WARNING:root:Gene ENSMUSG00000039607.15 not found or has multiple entries in annotations.\n",
      "WARNING:root:Gene Pet2 not found or has multiple entries in annotations.\n",
      "WARNING:root:Gene ENSMUSG00000059401.13 not found or has multiple entries in annotations.\n",
      "WARNING:root:Selecting 268 genes required 100.0% dataset threshold.\n"
     ]
    },
    {
     "name": "stderr",
     "output_type": "stream",
     "text": [
      "100%|████████████████████████████████████████████████████████████████████████████████████████████████████| 10/10 [00:11<00:00,  1.14s/it]\n",
      "100%|████████████████████████████████████████████████████████████████████████████████████████████████████| 10/10 [00:10<00:00,  1.09s/it]\n"
     ]
    },
    {
     "name": "stdout",
     "output_type": "stream",
     "text": [
      "mstep self.weights:  [0.08475542 0.31867194 0.16900202 0.00670754 0.14556841 0.00466558\n",
      " 0.13854413 0.05267613 0.07617751 0.00323134]\n",
      "Q Function:  -883723.0718661816\n",
      "\n"
     ]
    },
    {
     "name": "stderr",
     "output_type": "stream",
     "text": [
      "100%|██████████████████████████████████████████████████████████████████████████████████████████████████████| 7/7 [00:10<00:00,  1.54s/it]\n"
     ]
    },
    {
     "name": "stdout",
     "output_type": "stream",
     "text": [
      "mstep self.weights:  [3.18191757e-01 2.20806114e-01 8.92084302e-02 4.05844154e-10\n",
      " 2.71767526e-01 4.05844154e-10 3.30508897e-02 5.85018025e-02\n",
      " 8.47347959e-03 4.05844154e-10]\n",
      "Q Function:  -872140.3715122751\n",
      "\n"
     ]
    },
    {
     "name": "stderr",
     "output_type": "stream",
     "text": [
      "100%|██████████████████████████████████████████████████████████████████████████████████████████████████████| 5/5 [00:10<00:00,  2.13s/it]\n"
     ]
    },
    {
     "name": "stdout",
     "output_type": "stream",
     "text": [
      "mstep self.weights:  [3.84217746e-01 1.64550346e-01 6.06493707e-02 4.05844154e-10\n",
      " 3.28070640e-01 4.05844154e-10 4.16189419e-10 6.25118953e-02\n",
      " 4.05844154e-10 4.05844154e-10]\n",
      "Q Function:  -872828.7606924552\n",
      "\n"
     ]
    },
    {
     "name": "stderr",
     "output_type": "stream",
     "text": [
      "100%|██████████████████████████████████████████████████████████████████████████████████████████████████████| 5/5 [00:09<00:00,  1.97s/it]\n"
     ]
    },
    {
     "name": "stdout",
     "output_type": "stream",
     "text": [
      "mstep self.weights:  [2.64448216e-01 3.57259061e-01 4.41072798e-02 4.05844154e-10\n",
      " 2.71278924e-01 4.05844154e-10 4.05844164e-10 6.29065176e-02\n",
      " 4.05844154e-10 4.05844154e-10]\n",
      "Q Function:  -865835.7736638677\n",
      "\n"
     ]
    },
    {
     "name": "stderr",
     "output_type": "stream",
     "text": [
      "100%|██████████████████████████████████████████████████████████████████████████████████████████████████████| 5/5 [00:09<00:00,  1.98s/it]\n"
     ]
    },
    {
     "name": "stdout",
     "output_type": "stream",
     "text": [
      "mstep self.weights:  [3.72210860e-01 3.05132555e-01 3.96372938e-03 4.05844154e-10\n",
      " 2.56027681e-01 4.05844154e-10 4.05844154e-10 6.26651730e-02\n",
      " 4.05844154e-10 4.05844154e-10]\n",
      "Q Function:  -867205.8821752707\n",
      "\n"
     ]
    },
    {
     "name": "stderr",
     "output_type": "stream",
     "text": [
      "100%|██████████████████████████████████████████████████████████████████████████████████████████████████████| 4/4 [00:10<00:00,  2.70s/it]\n"
     ]
    },
    {
     "name": "stdout",
     "output_type": "stream",
     "text": [
      "mstep self.weights:  [2.70679573e-01 4.45284896e-01 4.05844154e-10 4.05844154e-10\n",
      " 2.21601254e-01 4.05844154e-10 4.05844154e-10 6.24342750e-02\n",
      " 4.05844154e-10 4.05844154e-10]\n",
      "Q Function:  -842292.2340865164\n",
      "\n"
     ]
    },
    {
     "name": "stderr",
     "output_type": "stream",
     "text": [
      "100%|██████████████████████████████████████████████████████████████████████████████████████████████████████| 4/4 [00:10<00:00,  2.66s/it]\n"
     ]
    },
    {
     "name": "stdout",
     "output_type": "stream",
     "text": [
      "mstep self.weights:  [2.31336944e-01 4.48685223e-01 4.05844154e-10 4.05844154e-10\n",
      " 2.57427055e-01 4.05844154e-10 4.05844294e-10 6.25507755e-02\n",
      " 4.05844154e-10 4.05844154e-10]\n",
      "Q Function:  -868737.6690574993\n",
      "\n"
     ]
    },
    {
     "name": "stderr",
     "output_type": "stream",
     "text": [
      "100%|██████████████████████████████████████████████████████████████████████████████████████████████████████| 4/4 [00:10<00:00,  2.68s/it]\n"
     ]
    },
    {
     "name": "stdout",
     "output_type": "stream",
     "text": [
      "mstep self.weights:  [1.91128562e-01 3.01408986e-01 4.05844154e-10 4.05844154e-10\n",
      " 4.43347543e-01 4.05844154e-10 4.05844155e-10 6.41149067e-02\n",
      " 4.05844154e-10 4.05844154e-10]\n",
      "Q Function:  -860094.6772867875\n",
      "\n"
     ]
    },
    {
     "name": "stderr",
     "output_type": "stream",
     "text": [
      "100%|██████████████████████████████████████████████████████████████████████████████████████████████████████| 4/4 [00:10<00:00,  2.72s/it]\n"
     ]
    },
    {
     "name": "stdout",
     "output_type": "stream",
     "text": [
      "mstep self.weights:  [1.26285909e-01 1.29670949e-01 4.05844154e-10 4.05844154e-10\n",
      " 6.79519907e-01 4.05844154e-10 4.05844562e-10 6.45232332e-02\n",
      " 4.05844154e-10 4.05844154e-10]\n",
      "Q Function:  -849865.6581571323\n",
      "\n"
     ]
    },
    {
     "name": "stderr",
     "output_type": "stream",
     "text": [
      "100%|██████████████████████████████████████████████████████████████████████████████████████████████████████| 4/4 [00:10<00:00,  2.71s/it]\n"
     ]
    },
    {
     "name": "stdout",
     "output_type": "stream",
     "text": [
      "mstep self.weights:  [9.66788507e-02 1.07858696e-01 4.05844154e-10 4.05844154e-10\n",
      " 7.30971644e-01 4.05844154e-10 4.05844154e-10 6.44908068e-02\n",
      " 4.05844154e-10 4.05844154e-10]\n",
      "Q Function:  -874634.4890391048\n",
      "\n",
      "Result:  ['./fits/explorData_0313/gg_240312_025_e11e13_K10_1/e11e13/Bursty_Poisson_1x1/grid_scan_results_0.res', './fits/explorData_0313/gg_240312_025_e11e13_K10_1/e11e13/Bursty_Poisson_1x1/grid_scan_results_1.res', './fits/explorData_0313/gg_240312_025_e11e13_K10_1/e11e13/Bursty_Poisson_1x1/grid_scan_results_4.res', './fits/explorData_0313/gg_240312_025_e11e13_K10_1/e11e13/Bursty_Poisson_1x1/grid_scan_results_7.res']\n",
      "No. clus:  4\n",
      "ARI:  0.33007503960409307\n"
     ]
    }
   ],
   "source": [
    "!mkdir /home/tchari/perturbCME/notebooks/fits/explorData_0313\n",
    "\n",
    "\n",
    "dir_strings = []\n",
    "data_strings = []\n",
    "result_strings = []\n",
    "\n",
    "for loom,transc,data_name,g_lit,tech_tup,Ks in zip(looms,transcrips,datas,all_markers,tech_params,ks):\n",
    "    \n",
    "    ds = lp.connect(loom)\n",
    "    g_names = ds.ra[attribute_names[1]]\n",
    "    num_genes = len(g_names)\n",
    "    num_cells = len(ds.ca[attribute_names[2]])\n",
    "    \n",
    "    U = ds.layers['unspliced'][:,:].T\n",
    "    S = ds.layers['spliced'][:,:].T\n",
    "    if data_name == 'e11e13':\n",
    "        true_labs = list(ds.ca['subclass_label'])\n",
    "    ds.close()\n",
    "    \n",
    "    \n",
    "    g_filt = nb_thresh(U,S,var_t = 1.5,u_min =0.02,s_min =0.02)\n",
    "    g_filt_lit = pd.Categorical(g_names).isin(g_lit)\n",
    "    \n",
    "    if 'pbmc' not in data_name:\n",
    "        adata = anndata.AnnData(X=S)\n",
    "        adata.layers[\"counts\"] = adata.X.copy()  # preserve counts\n",
    "        sc.pp.normalize_total(adata, target_sum=1e4)\n",
    "        sc.pp.log1p(adata)\n",
    "        adata.raw = adata\n",
    "        sc.pp.highly_variable_genes(adata, n_top_genes=2000)\n",
    "        g_filt_hvg = adata.var.highly_variable\n",
    "    else:\n",
    "        g_filt_hvg = g_filt_lit #Just using lit genes here\n",
    "        g_filt_lit = g_filt_lit & g_filt\n",
    "        \n",
    "    final_filt = (g_filt_lit) | (g_filt_hvg & g_filt) #Filter hvgs + add lit genes\n",
    "    final_names = g_names[final_filt]\n",
    "    \n",
    "    print(data_name+' with '+str(len(final_names))+' genes')\n",
    "    print('Num lit genes used: ',np.sum(g_filt_lit)) #&g_filt\n",
    "    \n",
    "    #------- Run meK-Means ----------\n",
    "    #Define bounds for params\n",
    "    phys_lb = [-3.0, -3, -3 ] \n",
    "    phys_ub = [4.2, 2.5, 2.5] \n",
    "    samp_lb = tech_tup \n",
    "    samp_ub = tech_tup  \n",
    "    gridsize = [1,1] #Already have tech params\n",
    "\n",
    "\n",
    "    epochs = 10\n",
    "\n",
    "    for clus in Ks:\n",
    "        #Set up files for Monod\n",
    "        dir_string,dataset_string = monod.preprocess.construct_batch([loom], \\\n",
    "                                                 transc, \\\n",
    "                                                 [data_name], \\\n",
    "                                                 attribute_names=attribute_names,\\\n",
    "                                                 batch_location='./fits/explorData_0313',\\\n",
    "                                                 meta=data_name+'_K'+str(clus),batch_id=1,\\\n",
    "                                                 n_genes=len(final_names),exp_filter_threshold=None,\n",
    "                                                 viz=False,genes_to_fit=final_names)\n",
    "        dir_strings += [dir_string]\n",
    "        data_strings += [dataset_string]\n",
    "    \n",
    "        # ---------------- meK-Means Inference ---------------- \n",
    "        #Define model with bursty transcription and Poisson molecule capture/sampling\n",
    "        fitmodel = monod.cme_toolbox.CMEModel('Bursty','Poisson')\n",
    "\n",
    "        #Set up mminference parameters\n",
    "        inference_parameters = monod.mminference.InferenceParameters(phys_lb,phys_ub,samp_lb,samp_ub,gridsize,\\\n",
    "                    dataset_string[0],fitmodel,k=clus,epochs=epochs,use_lengths = True,\n",
    "                    gradient_params = {'max_iterations':5,'init_pattern':'moments','num_restarts':1})\n",
    "\n",
    "        #Read in loom file with filtered barcodes\n",
    "        search_data = monod.extract_data.extract_data(loom, transc, data_name,\n",
    "                    dataset_string[0], dir_string, viz=False, dataset_attr_names=attribute_names)\n",
    "\n",
    "        #Run inference(fit_all_grid_points()) and Save result file strings\n",
    "        full_result_string = inference_parameters.fit_all_grid_points(40,search_data) \n",
    "\n",
    "        result_strings.append(full_result_string)\n",
    "        print('Result: ',full_result_string)\n",
    "\n",
    "\n",
    "        # ----------------  Save output ---------------- \n",
    "        #Read in results and get cluster assignments\n",
    "        sr = [monod.analysis.load_search_results(i) for i in full_result_string]\n",
    "\n",
    "\n",
    "        cat_assigns = np.array([None]*num_cells) #cat_assigns is empty list of length = no. cell barcodes\n",
    "        for i in range(len(sr)):\n",
    "            r = sr[i]\n",
    "            cat_assigns[r.filt] = r.assigns #denotes which cluster (k), cells were assigned to\n",
    "\n",
    "        print('No. clus: ',len(np.unique(cat_assigns)))\n",
    "\n",
    "\n",
    "        if data_name == 'e11e13':\n",
    "            print('ARI: ',adjusted_rand_score(true_labs,cat_assigns))\n",
    "            \n"
   ]
  },
  {
   "cell_type": "markdown",
   "id": "1dea12a6",
   "metadata": {},
   "source": [
    "### **QC and Analysis of Results**"
   ]
  },
  {
   "cell_type": "code",
   "execution_count": 160,
   "id": "0da3701a",
   "metadata": {},
   "outputs": [
    {
     "data": {
      "text/plain": [
       "[['./fits/explorData_0313/gg_240312_025_brca1_K5_1/brca1/Bursty_Poisson_1x1/grid_scan_results_3.res',\n",
       "  './fits/explorData_0313/gg_240312_025_brca1_K5_1/brca1/Bursty_Poisson_1x1/grid_scan_results_4.res'],\n",
       " ['./fits/explorData_0313/gg_240312_025_brca1_K10_1/brca1/Bursty_Poisson_1x1/grid_scan_results_2.res',\n",
       "  './fits/explorData_0313/gg_240312_025_brca1_K10_1/brca1/Bursty_Poisson_1x1/grid_scan_results_3.res',\n",
       "  './fits/explorData_0313/gg_240312_025_brca1_K10_1/brca1/Bursty_Poisson_1x1/grid_scan_results_7.res'],\n",
       " ['./fits/explorData_0313/gg_240312_025_brca1_K15_1/brca1/Bursty_Poisson_1x1/grid_scan_results_0.res',\n",
       "  './fits/explorData_0313/gg_240312_025_brca1_K15_1/brca1/Bursty_Poisson_1x1/grid_scan_results_1.res',\n",
       "  './fits/explorData_0313/gg_240312_025_brca1_K15_1/brca1/Bursty_Poisson_1x1/grid_scan_results_8.res'],\n",
       " ['./fits/explorData_0313/gg_240312_025_pbmc_K3_1/pbmc/Bursty_Poisson_1x1/grid_scan_results_0.res',\n",
       "  './fits/explorData_0313/gg_240312_025_pbmc_K3_1/pbmc/Bursty_Poisson_1x1/grid_scan_results_1.res',\n",
       "  './fits/explorData_0313/gg_240312_025_pbmc_K3_1/pbmc/Bursty_Poisson_1x1/grid_scan_results_2.res'],\n",
       " ['./fits/explorData_0313/gg_240312_025_pbmc_K10_1/pbmc/Bursty_Poisson_1x1/grid_scan_results_0.res',\n",
       "  './fits/explorData_0313/gg_240312_025_pbmc_K10_1/pbmc/Bursty_Poisson_1x1/grid_scan_results_1.res',\n",
       "  './fits/explorData_0313/gg_240312_025_pbmc_K10_1/pbmc/Bursty_Poisson_1x1/grid_scan_results_2.res',\n",
       "  './fits/explorData_0313/gg_240312_025_pbmc_K10_1/pbmc/Bursty_Poisson_1x1/grid_scan_results_3.res',\n",
       "  './fits/explorData_0313/gg_240312_025_pbmc_K10_1/pbmc/Bursty_Poisson_1x1/grid_scan_results_4.res',\n",
       "  './fits/explorData_0313/gg_240312_025_pbmc_K10_1/pbmc/Bursty_Poisson_1x1/grid_scan_results_5.res',\n",
       "  './fits/explorData_0313/gg_240312_025_pbmc_K10_1/pbmc/Bursty_Poisson_1x1/grid_scan_results_6.res',\n",
       "  './fits/explorData_0313/gg_240312_025_pbmc_K10_1/pbmc/Bursty_Poisson_1x1/grid_scan_results_7.res',\n",
       "  './fits/explorData_0313/gg_240312_025_pbmc_K10_1/pbmc/Bursty_Poisson_1x1/grid_scan_results_8.res',\n",
       "  './fits/explorData_0313/gg_240312_025_pbmc_K10_1/pbmc/Bursty_Poisson_1x1/grid_scan_results_9.res'],\n",
       " ['./fits/explorData_0313/gg_240312_025_pbmc_K15_1/pbmc/Bursty_Poisson_1x1/grid_scan_results_0.res',\n",
       "  './fits/explorData_0313/gg_240312_025_pbmc_K15_1/pbmc/Bursty_Poisson_1x1/grid_scan_results_1.res',\n",
       "  './fits/explorData_0313/gg_240312_025_pbmc_K15_1/pbmc/Bursty_Poisson_1x1/grid_scan_results_2.res',\n",
       "  './fits/explorData_0313/gg_240312_025_pbmc_K15_1/pbmc/Bursty_Poisson_1x1/grid_scan_results_4.res',\n",
       "  './fits/explorData_0313/gg_240312_025_pbmc_K15_1/pbmc/Bursty_Poisson_1x1/grid_scan_results_6.res',\n",
       "  './fits/explorData_0313/gg_240312_025_pbmc_K15_1/pbmc/Bursty_Poisson_1x1/grid_scan_results_7.res',\n",
       "  './fits/explorData_0313/gg_240312_025_pbmc_K15_1/pbmc/Bursty_Poisson_1x1/grid_scan_results_9.res',\n",
       "  './fits/explorData_0313/gg_240312_025_pbmc_K15_1/pbmc/Bursty_Poisson_1x1/grid_scan_results_10.res',\n",
       "  './fits/explorData_0313/gg_240312_025_pbmc_K15_1/pbmc/Bursty_Poisson_1x1/grid_scan_results_14.res'],\n",
       " ['./fits/explorData_0313/gg_240312_025_e11e13_K2_1/e11e13/Bursty_Poisson_1x1/grid_scan_results_0.res',\n",
       "  './fits/explorData_0313/gg_240312_025_e11e13_K2_1/e11e13/Bursty_Poisson_1x1/grid_scan_results_1.res'],\n",
       " ['./fits/explorData_0313/gg_240312_025_e11e13_K5_1/e11e13/Bursty_Poisson_1x1/grid_scan_results_0.res',\n",
       "  './fits/explorData_0313/gg_240312_025_e11e13_K5_1/e11e13/Bursty_Poisson_1x1/grid_scan_results_1.res',\n",
       "  './fits/explorData_0313/gg_240312_025_e11e13_K5_1/e11e13/Bursty_Poisson_1x1/grid_scan_results_3.res',\n",
       "  './fits/explorData_0313/gg_240312_025_e11e13_K5_1/e11e13/Bursty_Poisson_1x1/grid_scan_results_4.res'],\n",
       " ['./fits/explorData_0313/gg_240312_025_e11e13_K10_1/e11e13/Bursty_Poisson_1x1/grid_scan_results_0.res',\n",
       "  './fits/explorData_0313/gg_240312_025_e11e13_K10_1/e11e13/Bursty_Poisson_1x1/grid_scan_results_1.res',\n",
       "  './fits/explorData_0313/gg_240312_025_e11e13_K10_1/e11e13/Bursty_Poisson_1x1/grid_scan_results_4.res',\n",
       "  './fits/explorData_0313/gg_240312_025_e11e13_K10_1/e11e13/Bursty_Poisson_1x1/grid_scan_results_7.res']]"
      ]
     },
     "execution_count": 160,
     "metadata": {},
     "output_type": "execute_result"
    }
   ],
   "source": [
    "result_strings"
   ]
  },
  {
   "cell_type": "code",
   "execution_count": null,
   "id": "9060790f",
   "metadata": {},
   "outputs": [],
   "source": [
    "col_all_par = '#4472C4'\n",
    "col_b = '#1B9AAA'\n",
    "col_beta = '#9fcbee'\n",
    "col_gamma ='#3C50B1'\n",
    "col_expr = '#9299A0'\n"
   ]
  },
  {
   "cell_type": "code",
   "execution_count": 222,
   "id": "5cf3f949",
   "metadata": {},
   "outputs": [],
   "source": [
    "def check_at_bounds(phys_params,thr=0.01,phys_lb=[-2.0, -1.8, -1.8 ],phys_ub=[4.2, 2.5, 2.5]):\n",
    "    #Check for genes where parameter fits are close to boundary of grid\n",
    "    x = np.any(np.logical_or(\n",
    "        np.array(phys_lb)+thr > phys_params,\n",
    "        np.array(phys_ub)-thr < phys_params) ,1)\n",
    "    return x"
   ]
  },
  {
   "cell_type": "code",
   "execution_count": 223,
   "id": "6b88b0be",
   "metadata": {},
   "outputs": [],
   "source": [
    "def get_assigns(sr):\n",
    "    '''\n",
    "    Get cell cluster assignments\n",
    "    '''\n",
    "    cats = np.array([None]*len(sr[0].filt))\n",
    "    for r in sr:\n",
    "        cats[r.filt] = r.assigns\n",
    "    return cats"
   ]
  },
  {
   "cell_type": "code",
   "execution_count": 390,
   "id": "1084c182",
   "metadata": {},
   "outputs": [],
   "source": [
    "#Plot cluster concordance with true labels and distribution of clusters\n",
    "\n",
    "def vis_assign(assign,true=None,title='',figsize=(18, 5),palette='tab20',fname=None):\n",
    "    '''\n",
    "    Plot distribution of cluster assignments (optional: with previous annotations)\n",
    "\n",
    "    assign: np.array of cluster assignments (1..k) for each cell\n",
    "    true: list of user-given cluster assignments (string) for each cell, optional\n",
    "    title: title string for cluster assignment plot\n",
    "    figsize: tuple for size of figure\n",
    "    save_file: string, output file to save image\n",
    "\n",
    "    '''\n",
    " \n",
    "    #Plot cluster assignments and distribution of sizes of each cluster\n",
    "    fig, ax = plt.subplots(nrows=1, ncols=1, figsize=figsize)\n",
    "\n",
    "    if true is not None:\n",
    "        hues = true\n",
    "    else:\n",
    "        hues = assign \n",
    "\n",
    "    plt.yscale('log')\n",
    "    \n",
    "    g= sns.histplot(x=assign,hue=hues,hue_order=list(np.unique(hues)), kde=False,ax=ax,\n",
    "                    palette=palette,multiple=\"dodge\",\n",
    "                    discrete=True)\n",
    "\n",
    "    plt.xticks(np.arange(0,np.max(assign)+1))\n",
    "    \n",
    "\n",
    "\n",
    "    ax.set_xlabel('meK-Means Cluster Assignment')\n",
    "    ax.set_title(title)\n",
    "    sns.move_legend(g, \"upper left\", bbox_to_anchor=(1, 1))\n",
    "\n",
    "\n",
    "    plt.tight_layout()\n",
    "    if fname is None:\n",
    "        plt.show()\n",
    "    else:\n",
    "        plt.savefig(fname)\n",
    "\n"
   ]
  },
  {
   "cell_type": "code",
   "execution_count": 270,
   "id": "24364597",
   "metadata": {},
   "outputs": [],
   "source": [
    "def vis_metrics(results,title,ks,figsize=(18, 5),s=50,fname=None):\n",
    "    '''\n",
    "    Visualize -Q function and KLD over epochs, and -AIC for final model inference\n",
    "\n",
    "    results: list of len num_ks, of lists of SearchResults objs per K tested (e.g. [[SearchResults],[SearchResults,SearchResults]] for K=1&2)\n",
    "    title: title string for leftmost, plot\n",
    "    ks: list of ks tested (e.g. [1,2])\n",
    "    figsize: tuple for size of figure\n",
    "    s: size of dots in scatterplot\n",
    "    save_file: string, output file to save image\n",
    "\n",
    "  '''\n",
    "\n",
    "    num_ks = len(results)\n",
    "    sets = []\n",
    "    qs = []\n",
    "    res = pd.DataFrame()\n",
    "    aics = pd.DataFrame()\n",
    "    klds = pd.DataFrame()\n",
    "\n",
    "    aic = []\n",
    "    fin_k = []\n",
    "    kls = []\n",
    "\n",
    "    epoch = len(results[0][0].all_qs.flatten())\n",
    "    epos = list(range(1,epoch+1))*num_ks\n",
    "\n",
    "    for i in range(num_ks):\n",
    "\n",
    "        qs += list(-1*results[i][0].all_qs.flatten())\n",
    "        sets += [ks[i]]*epoch\n",
    "        aic += [results[i][0].aic[0]]\n",
    "        fin_k += [len(results[i])]\n",
    "\n",
    "\n",
    "        concat_klds = []\n",
    "        ks_used = []\n",
    "        for r in results[i]:\n",
    "            concat_klds += [r.all_klds[0,:,:]]\n",
    "            ks_used += [r.assigns]\n",
    "\n",
    "        concat_klds = np.array(concat_klds)\n",
    "        concat_klds = concat_klds.reshape((concat_klds.shape[1], concat_klds.shape[2],concat_klds.shape[0]))\n",
    "\n",
    "        kls += list(np.mean(np.sum(concat_klds[:,:,:],axis=1),axis=1)) #Sum of klds across k clusters\n",
    "\n",
    "\n",
    "    res['Q'] = qs\n",
    "    res['KLD'] = kls\n",
    "    res['epoch'] = epos\n",
    "    res['setting'] = ['k='+str(j) for j in sets]\n",
    "\n",
    "    aics['AIC'] = aic\n",
    "    aics['k'] = [str(j) for j in ks ]\n",
    "    aics['fin_k'] = fin_k\n",
    "\n",
    "    #Plot Q function over epochs\n",
    "    fig, ax = plt.subplots(nrows=1, ncols=3, figsize=figsize)\n",
    "\n",
    "    sns.lineplot(data=res,x='epoch',y='Q',hue='setting',\n",
    "                    ax=ax[0],palette='Dark2',\n",
    "                   alpha=0.7,legend=False)\n",
    "    g1=sns.scatterplot(data=res,x='epoch',y='Q',hue='setting',\n",
    "                    ax=ax[0],palette='Dark2',s=s,\n",
    "                   alpha=0.7,edgecolor='black')\n",
    "    ax[0].set_xlabel('Epoch')\n",
    "    ax[0].set_ylabel('-Q')\n",
    "    ax[0].legend(\n",
    "          title='Set K')\n",
    "    ax[0].set_title(title)\n",
    "    sns.move_legend(g1, \"upper left\", bbox_to_anchor=(1, 1))\n",
    "\n",
    "\n",
    "    #Plot klds over epochs\n",
    "    g2=sns.lineplot(data=res,x='epoch',y='KLD',hue='setting',\n",
    "                    ax=ax[1],palette='Dark2',\n",
    "                   alpha=0.7,legend=False)\n",
    "    sns.scatterplot(data=res,x='epoch',y='KLD',hue='setting',\n",
    "                    ax=ax[1],palette='Dark2',s=s,\n",
    "                   alpha=0.7,edgecolor='black')\n",
    "    ax[1].set_xlabel('Epoch')\n",
    "    ax[1].set_ylabel('KLD')\n",
    "    ax[1].legend(\n",
    "          title='Set K')\n",
    "    sns.move_legend(g2, \"upper left\", bbox_to_anchor=(1, 1))\n",
    "\n",
    "\n",
    "\n",
    "    #Plot aics\n",
    "    g3=sns.scatterplot(data=aics,x='fin_k',y='AIC',hue='k', ax=ax[2],palette='Dark2',s=s,\n",
    "                   alpha=0.7,edgecolor='black')\n",
    "    ax[2].set_xlabel('Final Assigned k')\n",
    "    ax[2].set_ylabel('-AIC')\n",
    "    ax[2].legend(\n",
    "          title='Set K')\n",
    "    sns.move_legend(g3, \"upper left\", bbox_to_anchor=(1, 1))\n",
    "\n",
    "\n",
    "    plt.tight_layout()\n",
    "    if fname is None:\n",
    "        plt.show()\n",
    "    else:\n",
    "        plt.savefig(fname)\n"
   ]
  },
  {
   "cell_type": "code",
   "execution_count": 268,
   "id": "37888729",
   "metadata": {},
   "outputs": [],
   "source": [
    "def print_summary(sr):\n",
    "    '''\n",
    "    Get summary of clustering results\n",
    "    '''\n",
    "    print('--------------------------')\n",
    "    print('Model AIC Score: ',sr[0].aic[0])\n",
    "    for r in sr:\n",
    "        print('Clus '+str(r.assigns)+' with '+str(np.sum(r.filt))+' cells')\n",
    "    print('--------------------------')"
   ]
  },
  {
   "cell_type": "code",
   "execution_count": null,
   "id": "bb2acc88",
   "metadata": {},
   "outputs": [],
   "source": []
  },
  {
   "cell_type": "code",
   "execution_count": 246,
   "id": "0bd95904",
   "metadata": {},
   "outputs": [],
   "source": [
    "to_find = ['./fits/explorData_0313/gg_240312_025_brca1_K5_1/brca1/Bursty_Poisson_1x1/*.res',\n",
    "          './fits/explorData_0313/gg_240312_025_brca1_K10_1/brca1/Bursty_Poisson_1x1/*.res',\n",
    "          './fits/explorData_0313/gg_240312_025_brca1_K15_1/brca1/Bursty_Poisson_1x1/*.res',\n",
    "          './fits/explorData_0313/gg_240312_025_pbmc_K3_1/pbmc/Bursty_Poisson_1x1/*.res',\n",
    "          './fits/explorData_0313/gg_240312_025_pbmc_K10_1/pbmc/Bursty_Poisson_1x1/*.res',\n",
    "          './fits/explorData_0313/gg_240312_025_pbmc_K15_1/pbmc/Bursty_Poisson_1x1/*.res',\n",
    "          './fits/explorData_0313/gg_240312_025_e11e13_K2_1/e11e13/Bursty_Poisson_1x1/*.res',\n",
    "           './fits/explorData_0313/gg_240312_025_e11e13_K5_1/e11e13/Bursty_Poisson_1x1/*.res',\n",
    "          './fits/explorData_0313/gg_240312_025_e11e13_K10_1/e11e13/Bursty_Poisson_1x1/*.res']\n",
    "\n",
    "result_strings = []\n",
    "for f in to_find:\n",
    "    result_strings += [glob.glob(f)]"
   ]
  },
  {
   "cell_type": "code",
   "execution_count": null,
   "id": "2d180932",
   "metadata": {},
   "outputs": [],
   "source": []
  },
  {
   "cell_type": "code",
   "execution_count": 248,
   "id": "43ab59f0",
   "metadata": {},
   "outputs": [],
   "source": [
    "looms = ['/home/tchari/counts/breast_cancer_mm/brca1/loom/processed_brca1_raw.loom',\n",
    "         '/home/tchari/counts/breast_cancer_mm/brca1/loom/processed_brca1_raw.loom',\n",
    "         '/home/tchari/counts/breast_cancer_mm/brca1/loom/processed_brca1_raw.loom',\n",
    "        '/home/tchari/counts/10x_pbmcs/loom/processed_pbmc_10k_raw.loom',\n",
    "         '/home/tchari/counts/10x_pbmcs/loom/processed_pbmc_10k_raw.loom',\n",
    "         '/home/tchari/counts/10x_pbmcs/loom/processed_pbmc_10k_raw.loom',\n",
    "        '/home/tchari/counts/germcell_splicing/loom/processed_E11E13_raw.loom',\n",
    "        '/home/tchari/counts/germcell_splicing/loom/processed_E11E13_raw.loom',\n",
    "        '/home/tchari/counts/germcell_splicing/loom/processed_E11E13_raw.loom']"
   ]
  },
  {
   "cell_type": "code",
   "execution_count": 249,
   "id": "a41dc8c8",
   "metadata": {},
   "outputs": [
    {
     "data": {
      "text/plain": [
       "9"
      ]
     },
     "execution_count": 249,
     "metadata": {},
     "output_type": "execute_result"
    }
   ],
   "source": [
    "sr = []\n",
    "for strings in result_strings:\n",
    "    sr += [[monod.analysis.load_search_results(i) for i in strings]]\n",
    "\n",
    "len(sr)"
   ]
  },
  {
   "cell_type": "code",
   "execution_count": 350,
   "id": "6408c419",
   "metadata": {},
   "outputs": [
    {
     "data": {
      "text/plain": [
       "9"
      ]
     },
     "execution_count": 350,
     "metadata": {},
     "output_type": "execute_result"
    }
   ],
   "source": [
    "#SearchData objects, with U/S\n",
    "sd = []\n",
    "for strings in result_strings:\n",
    "\n",
    "    sd += [[monod.analysis.load_search_data(i[:i.find('Bursty')]+'raw.sd') for i in strings]]\n",
    "\n",
    "len(sd)"
   ]
  },
  {
   "cell_type": "code",
   "execution_count": null,
   "id": "35656d04",
   "metadata": {},
   "outputs": [],
   "source": []
  },
  {
   "cell_type": "code",
   "execution_count": 271,
   "id": "68b29d68",
   "metadata": {},
   "outputs": [
    {
     "data": {
      "image/png": "[encoded data removed]",
      "text/plain": [
       "<Figure size 1080x216 with 3 Axes>"
      ]
     },
     "metadata": {
      "needs_background": "light"
     },
     "output_type": "display_data"
    }
   ],
   "source": [
    "#Plot AICs over Ks for each dataset\n",
    "vis_metrics(sr[0:3],'Brca_Data',ks[0],figsize=(15,3),fname='brca_k_metrics.pdf')"
   ]
  },
  {
   "cell_type": "code",
   "execution_count": 272,
   "id": "d233f582",
   "metadata": {},
   "outputs": [
    {
     "data": {
      "image/png": "[encoded data removed]",
      "text/plain": [
       "<Figure size 1080x216 with 3 Axes>"
      ]
     },
     "metadata": {
      "needs_background": "light"
     },
     "output_type": "display_data"
    }
   ],
   "source": [
    "vis_metrics(sr[3:6],'PBMC_Data',ks[1],figsize=(15,3),fname='pbmc_k_metrics.pdf')"
   ]
  },
  {
   "cell_type": "code",
   "execution_count": 273,
   "id": "425e378f",
   "metadata": {},
   "outputs": [
    {
     "data": {
      "image/png": "[encoded data removed]",
      "text/plain": [
       "<Figure size 1080x216 with 3 Axes>"
      ]
     },
     "metadata": {
      "needs_background": "light"
     },
     "output_type": "display_data"
    }
   ],
   "source": [
    "vis_metrics(sr[6:],'Germ_Data',ks[2],figsize=(15,3),fname='germ_k_metrics.pdf')"
   ]
  },
  {
   "cell_type": "code",
   "execution_count": 351,
   "id": "23c67023",
   "metadata": {},
   "outputs": [],
   "source": [
    "#Choose clustering for each dataset (which of the three Ks tested)\n",
    "chosen_inds = [2,4,7] #brca, pbmc, germ\n",
    "\n",
    "chosen_sr = [sr[i] for i in chosen_inds]\n",
    "chosen_sd = [sd[i] for i in chosen_inds]\n",
    "chosen_loom = [looms[i]for i in chosen_inds]\n",
    "chosen_res_strings = [result_strings[i] for i in chosen_inds]"
   ]
  },
  {
   "cell_type": "code",
   "execution_count": 395,
   "id": "6377b3b4",
   "metadata": {},
   "outputs": [
    {
     "data": {
      "image/png": "[encoded data removed]",
      "text/plain": [
       "<Figure size 360x180 with 1 Axes>"
      ]
     },
     "metadata": {
      "needs_background": "light"
     },
     "output_type": "display_data"
    },
    {
     "data": {
      "image/png": "[encoded data removed]",
      "text/plain": [
       "<Figure size 432x180 with 1 Axes>"
      ]
     },
     "metadata": {
      "needs_background": "light"
     },
     "output_type": "display_data"
    },
    {
     "data": {
      "image/png": "[encoded data removed]",
      "text/plain": [
       "<Figure size 432x180 with 1 Axes>"
      ]
     },
     "metadata": {
      "needs_background": "light"
     },
     "output_type": "display_data"
    }
   ],
   "source": [
    "#Get cluster assignments for each dataset\n",
    "labels = []\n",
    "palettes = ['Pastel1','Set2','Accent']\n",
    "for r,l,p in zip(chosen_sr,chosen_loom,palettes):\n",
    "    labels += [get_assigns(r)]\n",
    "    if 'brca' in l:\n",
    "        vis_assign(get_assigns(r),true=None,title='',figsize=(5, 2.5),palette=p,fname=None)\n",
    "    else:\n",
    "        ds = lp.connect(l)\n",
    "        true_labs = ds.ca['subclass_label']\n",
    "        ds.close()\n",
    "        vis_assign(get_assigns(r),true=true_labs,title='',figsize=(6, 2.5),palette=p,fname=None)"
   ]
  },
  {
   "cell_type": "code",
   "execution_count": null,
   "id": "c2ca286e",
   "metadata": {},
   "outputs": [],
   "source": []
  },
  {
   "cell_type": "markdown",
   "id": "d1232ddb",
   "metadata": {},
   "source": [
    "Check PBMC cluster identities with known markers"
   ]
  },
  {
   "cell_type": "code",
   "execution_count": 356,
   "id": "d4b58a9c",
   "metadata": {},
   "outputs": [],
   "source": [
    "# Plot clusters with raw counts, pre-gene filter\n",
    "#Remove BLK, FCGR3B, XCR1,BCL6,SDC1,CD207,IL22,CCR5,IL13,IL26,CTLA4\n",
    "toplot_marks = ['CD300E','FCGR2B','CD40',\n",
    "                'CD69','MS4A1','CD79A','PTPRC',\n",
    "                'CD3D','IL7R','LEF1','TRAC','CD4','CD3D', 'CD3G','CD3E','CD247','CD2','TCF7','CD4','CD69','CCL5',\n",
    "      'CD93','CSTA','FPR1','CD14','CD36',\n",
    "      'CD79A','CD22','IGHD','VPREB3','CD28','IRF4','CCR6','GATA3','IL2RA','FOXP1','CD38',\n",
    "               'CX3CR1','CD86','ADGRE1','CD33','CD64'] + ['CD14','FCGR3A','CCR2','CCR7',\n",
    "'CD69','ITGAE','NCAM1','FOXP3','STAT4', 'TCF7',\n",
    "'KLRB1','CXCR3','CD38',\n",
    "'CLEC9A','ITGAX','CD1C','ITGAM', 'NOTCH2',\n",
    "'BATF3','CCR7','CD8A','CD8B',\n",
    "'BCL2','CD5','CD27','CD79B','TLR9','XBP1','GZMB','IL3RA','CD74',\n",
    "'IL7R', 'CCR7','LYZ','S100A4','GNLY', 'NKG7','FCER1A', 'CST3','PPBP','PF4']"
   ]
  },
  {
   "cell_type": "code",
   "execution_count": null,
   "id": "120415f7",
   "metadata": {},
   "outputs": [],
   "source": []
  },
  {
   "cell_type": "code",
   "execution_count": 357,
   "id": "04492849",
   "metadata": {},
   "outputs": [],
   "source": [
    "pbmc_loom = lp.connect(chosen_loom[1])\n",
    "p_S = pbmc_loom.layers['spliced'][:,:].T\n",
    "g_names = pbmc_loom.ra[attribute_names[1]]\n",
    "pbmc_loom.close()"
   ]
  },
  {
   "cell_type": "code",
   "execution_count": 358,
   "id": "3fdc0fab",
   "metadata": {},
   "outputs": [
    {
     "name": "stdout",
     "output_type": "stream",
     "text": [
      "(10997, 36601)\n",
      "(10997, 36601)\n",
      "Assignments:  {0: 2, 1: 7, 2: 1, 3: 9, 4: 3, 5: 4, 6: 5, 7: 8, 8: 0, 9: 6}\n"
     ]
    }
   ],
   "source": [
    "#Mean per gene for all genes before filtering for genes\n",
    "raw_clus = p_S\n",
    "print(raw_clus.shape)\n",
    "\n",
    "#Do library-size normalization of spliced counts as is standard\n",
    "tots = np.sum(raw_clus,axis=1)\n",
    "divids = (1e4/tots)[:,None]\n",
    "raw_clus = raw_clus*divids\n",
    "\n",
    "print(raw_clus.shape)\n",
    "\n",
    "assigned = np.unique(get_assigns(chosen_sr[1]))\n",
    "mean_g = np.zeros((len(assigned),raw_clus.shape[1]))\n",
    "\n",
    "conv_assign = []\n",
    "for i in range(len(chosen_sr[1])):\n",
    "    to_use = chosen_sr[1][i]\n",
    "    conv_assign += [to_use.assigns]\n",
    "    mean_g[i,:] = np.mean(raw_clus[to_use.filt,:],axis=0)\n",
    "    \n",
    "print('Assignments: ',dict(zip(range(len(conv_assign)),conv_assign)))"
   ]
  },
  {
   "cell_type": "code",
   "execution_count": 359,
   "id": "9a935056",
   "metadata": {},
   "outputs": [],
   "source": [
    "inds = [list(g_names).index(i) for i in np.unique(toplot_marks) if i in g_names]"
   ]
  },
  {
   "cell_type": "code",
   "execution_count": 360,
   "id": "f1e22c3a",
   "metadata": {},
   "outputs": [
    {
     "data": {
      "text/html": [
       "<div>\n",
       "<style scoped>\n",
       "    .dataframe tbody tr th:only-of-type {\n",
       "        vertical-align: middle;\n",
       "    }\n",
       "\n",
       "    .dataframe tbody tr th {\n",
       "        vertical-align: top;\n",
       "    }\n",
       "\n",
       "    .dataframe thead th {\n",
       "        text-align: right;\n",
       "    }\n",
       "</style>\n",
       "<table border=\"1\" class=\"dataframe\">\n",
       "  <thead>\n",
       "    <tr style=\"text-align: right;\">\n",
       "      <th></th>\n",
       "      <th>0</th>\n",
       "      <th>1</th>\n",
       "      <th>2</th>\n",
       "      <th>3</th>\n",
       "      <th>4</th>\n",
       "      <th>5</th>\n",
       "      <th>6</th>\n",
       "      <th>7</th>\n",
       "      <th>8</th>\n",
       "      <th>9</th>\n",
       "    </tr>\n",
       "  </thead>\n",
       "  <tbody>\n",
       "    <tr>\n",
       "      <th>ADGRE1</th>\n",
       "      <td>0.084080</td>\n",
       "      <td>0.001738</td>\n",
       "      <td>0.005564</td>\n",
       "      <td>0.314723</td>\n",
       "      <td>0.003486</td>\n",
       "      <td>0.003579</td>\n",
       "      <td>0.094615</td>\n",
       "      <td>0.139803</td>\n",
       "      <td>0.017730</td>\n",
       "      <td>0.016465</td>\n",
       "    </tr>\n",
       "    <tr>\n",
       "      <th>BATF3</th>\n",
       "      <td>0.026706</td>\n",
       "      <td>0.005654</td>\n",
       "      <td>0.008857</td>\n",
       "      <td>0.258460</td>\n",
       "      <td>0.001602</td>\n",
       "      <td>0.006341</td>\n",
       "      <td>0.114316</td>\n",
       "      <td>0.031359</td>\n",
       "      <td>0.003026</td>\n",
       "      <td>0.006265</td>\n",
       "    </tr>\n",
       "    <tr>\n",
       "      <th>BCL2</th>\n",
       "      <td>0.021631</td>\n",
       "      <td>0.216004</td>\n",
       "      <td>0.114505</td>\n",
       "      <td>0.011512</td>\n",
       "      <td>0.219606</td>\n",
       "      <td>0.121594</td>\n",
       "      <td>0.080201</td>\n",
       "      <td>0.023636</td>\n",
       "      <td>0.290024</td>\n",
       "      <td>0.297556</td>\n",
       "    </tr>\n",
       "    <tr>\n",
       "      <th>CCL5</th>\n",
       "      <td>0.000000</td>\n",
       "      <td>0.089499</td>\n",
       "      <td>0.007749</td>\n",
       "      <td>0.002216</td>\n",
       "      <td>0.001198</td>\n",
       "      <td>0.111305</td>\n",
       "      <td>0.006625</td>\n",
       "      <td>0.000884</td>\n",
       "      <td>0.008456</td>\n",
       "      <td>0.023313</td>\n",
       "    </tr>\n",
       "    <tr>\n",
       "      <th>CCR2</th>\n",
       "      <td>0.231071</td>\n",
       "      <td>0.080274</td>\n",
       "      <td>0.175740</td>\n",
       "      <td>0.006181</td>\n",
       "      <td>0.005455</td>\n",
       "      <td>0.012687</td>\n",
       "      <td>0.219481</td>\n",
       "      <td>0.269054</td>\n",
       "      <td>0.005587</td>\n",
       "      <td>0.046225</td>\n",
       "    </tr>\n",
       "  </tbody>\n",
       "</table>\n",
       "</div>"
      ],
      "text/plain": [
       "               0         1         2         3         4         5         6  \\\n",
       "ADGRE1  0.084080  0.001738  0.005564  0.314723  0.003486  0.003579  0.094615   \n",
       "BATF3   0.026706  0.005654  0.008857  0.258460  0.001602  0.006341  0.114316   \n",
       "BCL2    0.021631  0.216004  0.114505  0.011512  0.219606  0.121594  0.080201   \n",
       "CCL5    0.000000  0.089499  0.007749  0.002216  0.001198  0.111305  0.006625   \n",
       "CCR2    0.231071  0.080274  0.175740  0.006181  0.005455  0.012687  0.219481   \n",
       "\n",
       "               7         8         9  \n",
       "ADGRE1  0.139803  0.017730  0.016465  \n",
       "BATF3   0.031359  0.003026  0.006265  \n",
       "BCL2    0.023636  0.290024  0.297556  \n",
       "CCL5    0.000884  0.008456  0.023313  \n",
       "CCR2    0.269054  0.005587  0.046225  "
      ]
     },
     "execution_count": 360,
     "metadata": {},
     "output_type": "execute_result"
    }
   ],
   "source": [
    "df = pd.DataFrame(np.log10(mean_g[:,inds].T+1))\n",
    "df.index = g_names[inds]\n",
    "\n",
    "\n",
    "df.head()"
   ]
  },
  {
   "cell_type": "code",
   "execution_count": 361,
   "id": "9d4cc1f2",
   "metadata": {},
   "outputs": [
    {
     "data": {
      "image/png": "[encoded data removed]",
      "text/plain": [
       "<Figure size 1440x432 with 4 Axes>"
      ]
     },
     "metadata": {
      "needs_background": "light"
     },
     "output_type": "display_data"
    }
   ],
   "source": [
    "g=sns.clustermap(df.T,figsize=(20,6),standard_scale=1,cmap=\"PuBuGn\",\n",
    "               linewidths=0.01,linecolor='black')\n",
    "\n",
    "g.ax_heatmap.set_yticklabels(g.ax_heatmap.get_yticklabels(), rotation=0)\n",
    "plt.savefig('2403017_meKMeans_clustermap_pbmc.pdf')"
   ]
  },
  {
   "cell_type": "code",
   "execution_count": 364,
   "id": "830918c2",
   "metadata": {},
   "outputs": [],
   "source": [
    "# mean_g[[0,6,7,3],g_names=='ZFP36']"
   ]
  },
  {
   "cell_type": "code",
   "execution_count": null,
   "id": "711acde6",
   "metadata": {},
   "outputs": [],
   "source": []
  },
  {
   "cell_type": "code",
   "execution_count": 368,
   "id": "4ca2d402",
   "metadata": {},
   "outputs": [
    {
     "name": "stdout",
     "output_type": "stream",
     "text": [
      "1\n",
      "[0.92384787]\n",
      "\n",
      "3\n",
      "[0.70697428]\n",
      "\n",
      "4\n",
      "[0.56530448]\n",
      "\n",
      "0\n",
      "[0.20834601]\n",
      "\n"
     ]
    }
   ],
   "source": [
    "#Check germ cells\n",
    "\n",
    "#Ccnd3, Bnc2m, Tet1 -->splicing goes down over development in testes\n",
    "\n",
    "for x,s in zip(chosen_sr[2],chosen_sd[2]):\n",
    "    print(x.assigns)\n",
    "    print(10**x.param_estimates[0,s.gene_names=='Ccnd3',1])\n",
    "    print()"
   ]
  },
  {
   "cell_type": "code",
   "execution_count": 371,
   "id": "1a3f07b2",
   "metadata": {},
   "outputs": [
    {
     "name": "stdout",
     "output_type": "stream",
     "text": [
      "1\n",
      "[2.2270411]\n",
      "\n",
      "3\n",
      "[0.6784562]\n",
      "\n",
      "4\n",
      "[0.49923498]\n",
      "\n",
      "0\n",
      "[0.2682117]\n",
      "\n"
     ]
    }
   ],
   "source": [
    "#Check germ cells\n",
    "\n",
    "#Ccnd3, Bnc2m, Tet1\n",
    "\n",
    "for x,s in zip(chosen_sr[2],chosen_sd[2]):\n",
    "    print(x.assigns)\n",
    "    print(10**x.param_estimates[0,s.gene_names=='Bnc2',1])\n",
    "    print()"
   ]
  },
  {
   "cell_type": "code",
   "execution_count": null,
   "id": "886ea65a",
   "metadata": {},
   "outputs": [],
   "source": [
    "#Check brca1 clusters, can we see EMT differences in clusters\n",
    "\n",
    "#Cldn4, Cldn3, Epcam) whereas Cluster 5 was defined by expression of mesenchymal genes (Vim, Sparc, Col3a1, Bgn"
   ]
  },
  {
   "cell_type": "code",
   "execution_count": 375,
   "id": "0b297d97",
   "metadata": {},
   "outputs": [],
   "source": [
    "brca_loom = lp.connect(chosen_loom[0])\n",
    "brca_S = brca_loom.layers['spliced'][:,:].T\n",
    "brca_g_names = brca_loom.ra[attribute_names[1]]\n",
    "brca_loom.close()"
   ]
  },
  {
   "cell_type": "markdown",
   "id": "809cc7cb",
   "metadata": {},
   "source": [
    "Birc5, Tyms and Mki67. BRCA1-5 was a cluster with strongest expression of prototypical basal genes such as Krt14 and Igfbp5. Interestingly, BRCA1-2 cells exhibited a partial EMT gene expression pattern with moderate levels of collagens and the highest levels of EMT transcription factors such as Yap1, Twist1 and Zeb1 (Figure 4B). On the other hand, BRCA1-3 cells expressed the highest levels of genes associated with fibroblasts (Figure 4B) and this would fit with our previous observations of a sub-population of BRCA1 null cells with mesenchymal characteristics (Figures 1–3). Within this predominantly basal tumor type, cells with features of AvPs (BRCA1-4) were also present with elevated levels of Cldn3, Malat1, Krt18, Wfdc18 and Mfge8"
   ]
  },
  {
   "cell_type": "code",
   "execution_count": 422,
   "id": "e919b30f",
   "metadata": {},
   "outputs": [
    {
     "name": "stdout",
     "output_type": "stream",
     "text": [
      "Cldn4\n",
      "--------------\n",
      "1\n",
      "0.33862433\n",
      "True\n",
      "\n",
      "8\n",
      "0.66564417\n",
      "True\n",
      "\n",
      "0\n",
      "8.204461\n",
      "True\n",
      "\n",
      "Cldn3\n",
      "--------------\n",
      "1\n",
      "0.96164024\n",
      "True\n",
      "\n",
      "8\n",
      "1.6625767\n",
      "True\n",
      "\n",
      "0\n",
      "19.090149\n",
      "True\n",
      "\n",
      "Epcam\n",
      "--------------\n",
      "1\n",
      "2.601852\n",
      "True\n",
      "\n",
      "8\n",
      "4.842536\n",
      "True\n",
      "\n",
      "0\n",
      "47.585503\n",
      "True\n",
      "\n",
      "Vim\n",
      "--------------\n",
      "1\n",
      "39.636242\n",
      "True\n",
      "\n",
      "8\n",
      "1.4120654\n",
      "True\n",
      "\n",
      "0\n",
      "17.32342\n",
      "True\n",
      "\n",
      "Sparc\n",
      "--------------\n",
      "1\n",
      "48.634922\n",
      "True\n",
      "\n",
      "8\n",
      "0.8026585\n",
      "True\n",
      "\n",
      "0\n",
      "6.652416\n",
      "True\n",
      "\n",
      "Col3a1\n",
      "--------------\n",
      "1\n",
      "20.3082\n",
      "True\n",
      "\n",
      "8\n",
      "0.17382413\n",
      "True\n",
      "\n",
      "0\n",
      "0.78066915\n",
      "True\n",
      "\n",
      "Bgn\n",
      "--------------\n",
      "1\n",
      "8.613756\n",
      "True\n",
      "\n",
      "8\n",
      "0.13087934\n",
      "True\n",
      "\n",
      "0\n",
      "0.44144982\n",
      "True\n",
      "\n",
      "Birc5\n",
      "--------------\n",
      "1\n",
      "0.24603175\n",
      "True\n",
      "\n",
      "8\n",
      "0.06646217\n",
      "True\n",
      "\n",
      "0\n",
      "1.232342\n",
      "True\n",
      "\n",
      "Tyms\n",
      "--------------\n",
      "1\n",
      "0.27248678\n",
      "True\n",
      "\n",
      "8\n",
      "0.034764826\n",
      "True\n",
      "\n",
      "0\n",
      "0.83829\n",
      "True\n",
      "\n",
      "Mki67\n",
      "--------------\n",
      "1\n",
      "0.11375661\n",
      "True\n",
      "\n",
      "8\n",
      "0.038854804\n",
      "True\n",
      "\n",
      "0\n",
      "0.46375465\n",
      "True\n",
      "\n",
      "Krt14\n",
      "--------------\n",
      "1\n",
      "1.8875661\n",
      "True\n",
      "\n",
      "8\n",
      "2.4141104\n",
      "True\n",
      "\n",
      "0\n",
      "40.65892\n",
      "True\n",
      "\n",
      "Igfbp5\n",
      "--------------\n",
      "1\n",
      "5.203704\n",
      "True\n",
      "\n",
      "8\n",
      "1.3149284\n",
      "True\n",
      "\n",
      "0\n",
      "9.222119\n",
      "True\n",
      "\n",
      "Sfn\n",
      "--------------\n",
      "1\n",
      "0.8862434\n",
      "False\n",
      "\n",
      "8\n",
      "0.89059305\n",
      "False\n",
      "\n",
      "0\n",
      "14.929368\n",
      "False\n",
      "\n",
      "Phlda3\n",
      "--------------\n",
      "1\n",
      "2.297619\n",
      "False\n",
      "\n",
      "8\n",
      "0.16871166\n",
      "False\n",
      "\n",
      "0\n",
      "2.6682155\n",
      "False\n",
      "\n",
      "Wnt10a\n",
      "--------------\n",
      "1\n",
      "0.10714286\n",
      "False\n",
      "\n",
      "8\n",
      "0.11349693\n",
      "False\n",
      "\n",
      "0\n",
      "2.1849442\n",
      "False\n",
      "\n",
      "Malat1\n",
      "--------------\n",
      "1\n",
      "220.28175\n",
      "True\n",
      "\n",
      "8\n",
      "62.739265\n",
      "True\n",
      "\n",
      "0\n",
      "143.87175\n",
      "True\n",
      "\n",
      "Krt18\n",
      "--------------\n",
      "1\n",
      "2.3227513\n",
      "True\n",
      "\n",
      "8\n",
      "3.372188\n",
      "True\n",
      "\n",
      "0\n",
      "40.07249\n",
      "True\n",
      "\n",
      "Wfdc18\n",
      "--------------\n",
      "1\n",
      "3.8544974\n",
      "True\n",
      "\n",
      "8\n",
      "6.724949\n",
      "True\n",
      "\n",
      "0\n",
      "46.215614\n",
      "True\n",
      "\n",
      "Mfge8\n",
      "--------------\n",
      "1\n",
      "4.6243386\n",
      "True\n",
      "\n",
      "8\n",
      "1.2474438\n",
      "True\n",
      "\n",
      "0\n",
      "9.357807\n",
      "True\n",
      "\n",
      "Yap1\n",
      "--------------\n",
      "1\n",
      "1.7433863\n",
      "True\n",
      "\n",
      "8\n",
      "0.15337424\n",
      "True\n",
      "\n",
      "0\n",
      "1.391264\n",
      "True\n",
      "\n",
      "Twist1\n",
      "--------------\n",
      "1\n",
      "1.2724868\n",
      "True\n",
      "\n",
      "8\n",
      "0.0398773\n",
      "True\n",
      "\n",
      "0\n",
      "0.8996283\n",
      "True\n",
      "\n",
      "Zeb1\n",
      "--------------\n",
      "1\n",
      "0.32142857\n",
      "True\n",
      "\n",
      "8\n",
      "0.0030674846\n",
      "True\n",
      "\n",
      "0\n",
      "0.019516729\n",
      "True\n",
      "\n",
      "Col1a2\n",
      "--------------\n",
      "1\n",
      "17.869047\n",
      "False\n",
      "\n",
      "8\n",
      "0.14519428\n",
      "False\n",
      "\n",
      "0\n",
      "0.53624535\n",
      "False\n",
      "\n"
     ]
    }
   ],
   "source": [
    "gs = ['Cldn4','Cldn3','Epcam','Vim','Sparc','Col3a1','Bgn',\n",
    "     'Birc5', 'Tyms','Mki67',\n",
    "     'Krt14','Igfbp5','Sfn','Phlda3','Wnt10a',\n",
    "     'Malat1', 'Krt18', 'Wfdc18', 'Mfge8',\n",
    "     'Yap1','Twist1','Zeb1',\n",
    "     'Col1a2']\n",
    "for t in gs:\n",
    "    print(t)\n",
    "    print('--------------')\n",
    "    for r,s in zip(chosen_sr[0],chosen_sd[0]):\n",
    "        print(r.assigns)\n",
    "        print(np.mean(brca_S[r.filt,brca_g_names==t],axis=0))\n",
    "        print(t in s.gene_names)\n",
    "        print()"
   ]
  },
  {
   "cell_type": "code",
   "execution_count": 423,
   "id": "dfea3f84",
   "metadata": {},
   "outputs": [
    {
     "name": "stdout",
     "output_type": "stream",
     "text": [
      "{0: 1, 1: 8, 2: 0}\n"
     ]
    }
   ],
   "source": [
    "param_arr = []\n",
    "clus_names = []\n",
    "for r in chosen_sr[0]:\n",
    "    clus_names += [r.assigns]\n",
    "    param_arr += [r.param_estimates]\n",
    "\n",
    "param_arr = np.array(param_arr)[:,0,:,:]\n",
    "clus_names = dict(zip(range(len(clus_names)),clus_names))\n",
    "print(clus_names)\n"
   ]
  },
  {
   "cell_type": "code",
   "execution_count": null,
   "id": "152b4db1",
   "metadata": {},
   "outputs": [],
   "source": []
  },
  {
   "cell_type": "code",
   "execution_count": 424,
   "id": "31026f64",
   "metadata": {},
   "outputs": [
    {
     "data": {
      "text/html": [
       "<div>\n",
       "<style scoped>\n",
       "    .dataframe tbody tr th:only-of-type {\n",
       "        vertical-align: middle;\n",
       "    }\n",
       "\n",
       "    .dataframe tbody tr th {\n",
       "        vertical-align: top;\n",
       "    }\n",
       "\n",
       "    .dataframe thead th {\n",
       "        text-align: right;\n",
       "    }\n",
       "</style>\n",
       "<table border=\"1\" class=\"dataframe\">\n",
       "  <thead>\n",
       "    <tr style=\"text-align: right;\">\n",
       "      <th></th>\n",
       "      <th>0</th>\n",
       "      <th>1</th>\n",
       "      <th>2</th>\n",
       "    </tr>\n",
       "  </thead>\n",
       "  <tbody>\n",
       "    <tr>\n",
       "      <th>Igfbp5</th>\n",
       "      <td>3.316824</td>\n",
       "      <td>2.101475</td>\n",
       "      <td>3.862920</td>\n",
       "    </tr>\n",
       "    <tr>\n",
       "      <th>Col3a1</th>\n",
       "      <td>4.702175</td>\n",
       "      <td>0.595495</td>\n",
       "      <td>1.562784</td>\n",
       "    </tr>\n",
       "    <tr>\n",
       "      <th>Wfdc18</th>\n",
       "      <td>0.693147</td>\n",
       "      <td>3.500945</td>\n",
       "      <td>5.609354</td>\n",
       "    </tr>\n",
       "    <tr>\n",
       "      <th>Krt14</th>\n",
       "      <td>0.693147</td>\n",
       "      <td>2.583128</td>\n",
       "      <td>5.339388</td>\n",
       "    </tr>\n",
       "    <tr>\n",
       "      <th>Sparc</th>\n",
       "      <td>5.784906</td>\n",
       "      <td>1.516443</td>\n",
       "      <td>3.541194</td>\n",
       "    </tr>\n",
       "  </tbody>\n",
       "</table>\n",
       "</div>"
      ],
      "text/plain": [
       "               0         1         2\n",
       "Igfbp5  3.316824  2.101475  3.862920\n",
       "Col3a1  4.702175  0.595495  1.562784\n",
       "Wfdc18  0.693147  3.500945  5.609354\n",
       "Krt14   0.693147  2.583128  5.339388\n",
       "Sparc   5.784906  1.516443  3.541194"
      ]
     },
     "execution_count": 424,
     "metadata": {},
     "output_type": "execute_result"
    }
   ],
   "source": [
    "#Create clustermap with approximated spliced means from inferred parameter (b/gamma  = s_mean)\n",
    "brca_sd = chosen_sd[0][0]\n",
    "inds = pd.Categorical(brca_sd.gene_names).isin(gs)\n",
    "toshape = param_arr[:,inds,0]-param_arr[:,inds,2]\n",
    "\n",
    "\n",
    "df = pd.DataFrame(np.log1p(10**(toshape.T)))\n",
    "df.index = brca_sd.gene_names[inds]\n",
    "\n",
    "\n",
    "df.head()\n"
   ]
  },
  {
   "cell_type": "code",
   "execution_count": 427,
   "id": "40ad8a79",
   "metadata": {},
   "outputs": [
    {
     "data": {
      "image/png": "[encoded data removed]",
      "text/plain": [
       "<Figure size 504x216 with 4 Axes>"
      ]
     },
     "metadata": {
      "needs_background": "light"
     },
     "output_type": "display_data"
    }
   ],
   "source": [
    "g=sns.clustermap(df.T,figsize=(7,3),standard_scale=1,cmap=\"PuBuGn\",\n",
    "               linewidths=0.01,linecolor='black')\n",
    "\n",
    "g.ax_heatmap.set_yticklabels(g.ax_heatmap.get_yticklabels(), rotation=0)\n",
    "plt.savefig('meKMeans_brca_clustermap.pdf')"
   ]
  },
  {
   "cell_type": "code",
   "execution_count": 428,
   "id": "94c2c781",
   "metadata": {},
   "outputs": [
    {
     "name": "stdout",
     "output_type": "stream",
     "text": [
      "(2810, 32285)\n",
      "(2810, 32285)\n",
      "Assignments:  {0: 1, 1: 8, 2: 0}\n"
     ]
    }
   ],
   "source": [
    "#Mean per gene for all genes before filtering for genes\n",
    "raw_clus = brca_S\n",
    "print(raw_clus.shape)\n",
    "\n",
    "#Do library-size normalization of spliced counts as is standard\n",
    "tots = np.sum(raw_clus,axis=1)\n",
    "divids = (1e4/tots)[:,None]\n",
    "raw_clus = raw_clus*divids\n",
    "\n",
    "print(raw_clus.shape)\n",
    "\n",
    "assigned = np.unique(get_assigns(chosen_sr[0]))\n",
    "mean_g = np.zeros((len(assigned),raw_clus.shape[1]))\n",
    "\n",
    "conv_assign = []\n",
    "for i in range(len(chosen_sr[0])):\n",
    "    to_use = chosen_sr[0][i]\n",
    "    conv_assign += [to_use.assigns]\n",
    "    mean_g[i,:] = np.mean(raw_clus[to_use.filt,:],axis=0)\n",
    "    \n",
    "print('Assignments: ',dict(zip(range(len(conv_assign)),conv_assign)))"
   ]
  },
  {
   "cell_type": "code",
   "execution_count": 429,
   "id": "a88725c1",
   "metadata": {},
   "outputs": [
    {
     "data": {
      "image/png": "[encoded data removed]",
      "text/plain": [
       "<Figure size 1440x432 with 4 Axes>"
      ]
     },
     "metadata": {
      "needs_background": "light"
     },
     "output_type": "display_data"
    }
   ],
   "source": [
    "inds = [list(brca_g_names).index(i) for i in np.unique(gs) if i in brca_g_names]\n",
    "\n",
    "df = pd.DataFrame(np.log10(mean_g[:,inds].T+1))\n",
    "df.index = brca_g_names[inds]\n",
    "\n",
    "\n",
    "g=sns.clustermap(df.T,figsize=(20,6),standard_scale=1,cmap=\"PuBuGn\",\n",
    "               linewidths=0.01,linecolor='black')\n",
    "\n",
    "g.ax_heatmap.set_yticklabels(g.ax_heatmap.get_yticklabels(), rotation=0)\n",
    "plt.savefig('obsCounts_meKMeans_clustermap_brca.pdf')\n"
   ]
  },
  {
   "cell_type": "code",
   "execution_count": 421,
   "id": "36d61e55",
   "metadata": {},
   "outputs": [
    {
     "data": {
      "text/plain": [
       "array([[0.65851445],\n",
       "       [1.4648432 ],\n",
       "       [0.53857909]])"
      ]
     },
     "execution_count": 421,
     "metadata": {},
     "output_type": "execute_result"
    }
   ],
   "source": [
    "10**param_arr[:,brca_sd.gene_names=='Rbfox2',1]"
   ]
  },
  {
   "cell_type": "code",
   "execution_count": null,
   "id": "bcd729c1",
   "metadata": {},
   "outputs": [],
   "source": []
  },
  {
   "cell_type": "code",
   "execution_count": 443,
   "id": "458d2131",
   "metadata": {},
   "outputs": [
    {
     "data": {
      "text/plain": [
       "(array([78., 74., 38., 21., 19., 13., 10.,  7., 16., 10.,  5.,  2.,  6.,\n",
       "         3.,  2.,  2.,  3.,  3.,  6.,  1.,  1.,  2.,  0.,  0.,  1.,  1.,\n",
       "         1.,  1.,  0.,  1.,  1.,  0.,  0.,  0.,  0.,  0.,  1.,  0.,  0.,\n",
       "         1.,  1.,  0.,  1.,  0.,  0.,  0.,  0.,  1.,  1.,  1.,  0.,  0.,\n",
       "         0.,  0.,  0.,  0.,  0.,  0.,  0.,  0.,  0.,  0.,  0.,  1.,  0.,\n",
       "         1.,  0.,  0.,  0.,  0.,  0.,  0.,  0.,  0.,  1.,  0.,  0.,  0.,\n",
       "         0.,  0.,  0.,  0.,  0.,  0.,  0.,  0.,  0.,  0.,  0.,  0.,  0.,\n",
       "         0.,  0.,  0.,  0.,  0.,  0.,  0.,  0.,  1.]),\n",
       " array([1.00000000e-03, 7.12712534e-01, 1.42442507e+00, 2.13613760e+00,\n",
       "        2.84785014e+00, 3.55956267e+00, 4.27127520e+00, 4.98298774e+00,\n",
       "        5.69470027e+00, 6.40641280e+00, 7.11812534e+00, 7.82983787e+00,\n",
       "        8.54155041e+00, 9.25326294e+00, 9.96497547e+00, 1.06766880e+01,\n",
       "        1.13884005e+01, 1.21001131e+01, 1.28118256e+01, 1.35235381e+01,\n",
       "        1.42352507e+01, 1.49469632e+01, 1.56586757e+01, 1.63703883e+01,\n",
       "        1.70821008e+01, 1.77938133e+01, 1.85055259e+01, 1.92172384e+01,\n",
       "        1.99289509e+01, 2.06406635e+01, 2.13523760e+01, 2.20640886e+01,\n",
       "        2.27758011e+01, 2.34875136e+01, 2.41992262e+01, 2.49109387e+01,\n",
       "        2.56226512e+01, 2.63343638e+01, 2.70460763e+01, 2.77577888e+01,\n",
       "        2.84695014e+01, 2.91812139e+01, 2.98929264e+01, 3.06046390e+01,\n",
       "        3.13163515e+01, 3.20280640e+01, 3.27397766e+01, 3.34514891e+01,\n",
       "        3.41632016e+01, 3.48749142e+01, 3.55866267e+01, 3.62983392e+01,\n",
       "        3.70100518e+01, 3.77217643e+01, 3.84334768e+01, 3.91451894e+01,\n",
       "        3.98569019e+01, 4.05686144e+01, 4.12803270e+01, 4.19920395e+01,\n",
       "        4.27037520e+01, 4.34154646e+01, 4.41271771e+01, 4.48388896e+01,\n",
       "        4.55506022e+01, 4.62623147e+01, 4.69740272e+01, 4.76857398e+01,\n",
       "        4.83974523e+01, 4.91091648e+01, 4.98208774e+01, 5.05325899e+01,\n",
       "        5.12443024e+01, 5.19560150e+01, 5.26677275e+01, 5.33794400e+01,\n",
       "        5.40911526e+01, 5.48028651e+01, 5.55145776e+01, 5.62262902e+01,\n",
       "        5.69380027e+01, 5.76497152e+01, 5.83614278e+01, 5.90731403e+01,\n",
       "        5.97848528e+01, 6.04965654e+01, 6.12082779e+01, 6.19199904e+01,\n",
       "        6.26317030e+01, 6.33434155e+01, 6.40551280e+01, 6.47668406e+01,\n",
       "        6.54785531e+01, 6.61902657e+01, 6.69019782e+01, 6.76136907e+01,\n",
       "        6.83254033e+01, 6.90371158e+01, 6.97488283e+01, 7.04605409e+01,\n",
       "        7.11722534e+01]),\n",
       " <BarContainer object of 100 artists>)"
      ]
     },
     "execution_count": 443,
     "metadata": {},
     "output_type": "execute_result"
    },
    {
     "data": {
      "image/png": "[encoded data removed]",
      "text/plain": [
       "<Figure size 432x288 with 1 Axes>"
      ]
     },
     "metadata": {
      "needs_background": "light"
     },
     "output_type": "display_data"
    }
   ],
   "source": [
    "plt.hist(10**param_arr[0,:,1].flatten(),bins=100)\n",
    "plt.hist(10**param_arr[1,:,1].flatten(),alpha=0.5,bins=100)\n",
    "plt.hist(10**param_arr[2,:,1].flatten(),alpha=0.5,bins=100)"
   ]
  },
  {
   "cell_type": "markdown",
   "id": "b7d076e3",
   "metadata": {},
   "source": [
    "### **De-$\\theta$ Plots**"
   ]
  },
  {
   "cell_type": "code",
   "execution_count": 554,
   "id": "fa7bee50",
   "metadata": {},
   "outputs": [],
   "source": [
    "def make_fcs(sr,sd,clus1=0,clus2=1,gf_rej=False,thrpars=2,thrmean=1,outlier_de=True,nuc=False):\n",
    "    '''\n",
    "    Utilize different metrics to find fold-changes (FCs) between cluster parameters\n",
    "\n",
    "    sr: list of SearchResults objects from meK-Means runs\n",
    "    sd: SearchData object that corresponds to full, input data\n",
    "    clus1: cluster 1 (to compare FCS of cluster 1/cluster 2 )\n",
    "    clus2: cluster 2 (to compare FCS of cluster 1/cluster 2 )\n",
    "    gf_rej: whether to use boolean list of rejected genes from both clusters\n",
    "    thrpars: FC threshold value (to call DE-theta genes)\n",
    "    thrmean: Mean S expression threshold value, for genes to consider\n",
    "    outlier_de: Use iterative outlier calling procedure to assign DE-theta genes (see Monod https://github.com/pachterlab/monod_examples/blob/main/Monod_demo.ipynb)\n",
    "    nuc: is this nuclear RNA data\n",
    "    '''\n",
    "\n",
    "    all_filt_fcs = pd.DataFrame()\n",
    "    fcs,types,which_pair,highFC,spliceFC,g_names,out_de = ([] for i in range(7))\n",
    "    \n",
    "    ind1 = [i for i in range(len(sr)) if clus1 == sr[i].assigns][0]\n",
    "    ind2 = [i for i in range(len(sr)) if clus2 == sr[i].assigns][0]\n",
    "\n",
    "    sr1 = sr[ind1]\n",
    "    sr2 = sr[ind2]\n",
    "    fc_par = (sr1.param_estimates-sr2.param_estimates)/np.log10(2)  #Get FCs between cluster params\n",
    "    print('fc_par.shape: ',fc_par.shape)\n",
    "    if nuc:\n",
    "        fc_s_par = np.log2(sd.layers[0][:,sr1.filt].mean(1)/sd.layers[0][:,sr2.filt].mean(1))\n",
    "    else:\n",
    "        fc_s_par = np.log2(sd.layers[1][:,sr1.filt].mean(1)/sd.layers[1][:,sr2.filt].mean(1)) #Get spliced FCs\n",
    "        \n",
    "    print('fc_s_par.shape: ',fc_s_par.shape)\n",
    "\n",
    "    if outlier_de:\n",
    "        dr_analysis = monod.analysis.diffexp_pars(sr1,sr2,viz=True,modeltype='id',use_sigma=True)\n",
    "        par_bool_de = dr_analysis[1].T\n",
    "\n",
    "    parnames = ('b','beta','gamma')\n",
    "\n",
    "\n",
    "  #-----is parameter FC significant -----\n",
    "    if gf_rej is False:\n",
    "        gf_rej = [True]*sd.n_genes\n",
    "    else:\n",
    "        gf_rej = (~sr1.rejected_genes) & (~sr2.rejected_genes)\n",
    "        \n",
    "    for n in range(len(parnames)):\n",
    "        #Boolean for if large param FC and not rejected gene (with minimum expression)\n",
    "        if nuc:\n",
    "            gf_highnoise = (np.abs(fc_par[0,:,n])>thrpars)  \\\n",
    "                & ((sd.layers[0][:,sr1.filt].mean(1)>thrmean) | (sd.layers[0][:,sr2.filt].mean(1)>thrmean)) \\\n",
    "                & gf_rej\n",
    "        else:\n",
    "            gf_highnoise = (np.abs(fc_par[0,:,n])>thrpars)  \\\n",
    "                & ((sd.layers[1][:,sr1.filt].mean(1)>thrmean) | (sd.layers[1][:,sr2.filt].mean(1)>thrmean)) \\\n",
    "                & gf_rej\n",
    "\n",
    "        #Boolean for FC (above) but no FC detected at S-level\n",
    "        gf_highnoise_meanS = gf_highnoise & (np.abs(fc_s_par)<1) & gf_rej\n",
    "\n",
    "        #Boolean for FC (above)\n",
    "        gf_onlyhigh = gf_highnoise & gf_rej\n",
    "\n",
    "        #For dataframe\n",
    "        fcs += list(fc_par[0,gf_rej,n])\n",
    "        g_names += list(sr1.gene_names[gf_rej])\n",
    "        which_pair += [[sr1.assigns,sr2.assigns]]*np.sum(gf_rej)\n",
    "        highFC += list(gf_onlyhigh[gf_rej])\n",
    "        spliceFC += list(gf_highnoise_meanS[gf_rej])\n",
    "        types += [parnames[n]]*np.sum(gf_rej)\n",
    "        if outlier_de:\n",
    "            out_de += list(par_bool_de[gf_rej,n])\n",
    "\n",
    "    if outlier_de:\n",
    "        all_filt_fcs['deTheta_outlier'] = out_de\n",
    "\n",
    "    all_filt_fcs['log2FC'] = fcs\n",
    "    all_filt_fcs['gene'] = g_names\n",
    "    all_filt_fcs['cluster_pair'] = which_pair\n",
    "    all_filt_fcs['deTheta_FC'] = highFC\n",
    "    all_filt_fcs['deTheta_noDeMuS'] = spliceFC\n",
    "    all_filt_fcs['param'] = types\n",
    "\n",
    "    return all_filt_fcs\n"
   ]
  },
  {
   "cell_type": "code",
   "execution_count": 555,
   "id": "c90106a1",
   "metadata": {},
   "outputs": [],
   "source": [
    "#Get params for each gene, which cluster it marks, and whether it's DE in any param\n",
    "def get_gene_DE(all_filt_fcs):\n",
    "    bs = all_filt_fcs[all_filt_fcs.param.isin(['b'])].log2FC\n",
    "    betas = all_filt_fcs[all_filt_fcs.param.isin(['beta'])].log2FC\n",
    "    gammas = all_filt_fcs[all_filt_fcs.param.isin(['gamma'])].log2FC\n",
    "    highFCs = np.array(all_filt_fcs[all_filt_fcs.param.isin(['b'])].deTheta_FC) | np.array(all_filt_fcs[all_filt_fcs.param.isin(['beta'])].deTheta_FC) | np.array(all_filt_fcs[all_filt_fcs.param.isin(['gamma'])].deTheta_FC)\n",
    "    noSpliceFCs = np.array(all_filt_fcs[all_filt_fcs.param.isin(['b'])].deTheta_noDeMuS) | np.array(all_filt_fcs[all_filt_fcs.param.isin(['beta'])].deTheta_noDeMuS) | np.array(all_filt_fcs[all_filt_fcs.param.isin(['gamma'])].deTheta_noDeMuS)\n",
    "\n",
    "    names = all_filt_fcs[all_filt_fcs.param.isin(['b'])].gene\n",
    "\n",
    "    dom = []\n",
    "    for i in range(len(noSpliceFCs)):\n",
    "        fc_b = list(all_filt_fcs[all_filt_fcs.param.isin(['b'])].iloc[[i]].log2FC)[0]\n",
    "        fc_beta = list(all_filt_fcs[all_filt_fcs.param.isin(['beta'])].iloc[[i]].log2FC)[0]\n",
    "        fc_gamma = list(all_filt_fcs[all_filt_fcs.param.isin(['gamma'])].iloc[[i]].log2FC)[0]\n",
    "\n",
    "        sig_b = list(np.array(all_filt_fcs[all_filt_fcs.param.isin(['b'])].iloc[[i]].deTheta_FC) | np.array(all_filt_fcs[all_filt_fcs.param.isin(['b'])].iloc[[i]].deTheta_noDeMuS))[0]\n",
    "        sig_beta = list(np.array(all_filt_fcs[all_filt_fcs.param.isin(['beta'])].iloc[[i]].deTheta_FC) | np.array(all_filt_fcs[all_filt_fcs.param.isin(['beta'])].iloc[[i]].deTheta_noDeMuS))[0]\n",
    "\n",
    "        sig_gamma = list(np.array(all_filt_fcs[all_filt_fcs.param.isin(['gamma'])].iloc[[i]].deTheta_FC) | np.array(all_filt_fcs[all_filt_fcs.param.isin(['gamma'])].iloc[[i]].deTheta_noDeMuS))[0]\n",
    "\n",
    "\n",
    "        pairs = list(all_filt_fcs[all_filt_fcs.param.isin(['b'])].iloc[[i]].cluster_pair)[0]\n",
    "\n",
    "# ----- Cell type 'marker' means increase in burst freq,burst,or splicing, or decrease in deg (increased 'stability') ----\n",
    "\n",
    "        #Increase in burst freq (not outweighted by burst size)\n",
    "        if (-1*fc_beta > 0 and sig_beta and -1*fc_gamma > 0 and sig_gamma) :\n",
    "            if (np.abs(fc_b) < np.abs(fc_beta)):\n",
    "                dom += [pairs[0]]\n",
    "            elif (fc_b > 0 and sig_b):\n",
    "                dom += [pairs[0]]\n",
    "            elif (fc_b < 0 and sig_b):\n",
    "                dom += [pairs[1]]\n",
    "            else:\n",
    "                dom += ['None']\n",
    "        elif (fc_beta > 0 and sig_beta and fc_gamma > 0 and sig_gamma) :\n",
    "            if (np.abs(fc_b) < np.abs(fc_beta)):\n",
    "                dom += [pairs[1]]\n",
    "            elif (fc_b > 0 and sig_b):\n",
    "                dom += ['None'] #don't know\n",
    "            elif (fc_b < 0 and sig_b):\n",
    "                dom += [pairs[1]]\n",
    "            else:\n",
    "                dom += ['None']\n",
    "        elif sig_b:\n",
    "            if np.abs(fc_b) > np.abs(fc_beta) and np.abs(fc_b) > np.abs(fc_gamma):\n",
    "                if fc_b > 0:\n",
    "                    dom += [pairs[0]]\n",
    "                else:\n",
    "                    dom += [pairs[1]]            \n",
    "            elif np.abs(fc_b) < np.abs(fc_beta):\n",
    "                if fc_beta > 0:\n",
    "                    dom += [pairs[0]]\n",
    "                elif fc_beta < 0:\n",
    "                    dom += [pairs[1]]\n",
    "            elif np.abs(fc_b) < np.abs(fc_gamma):\n",
    "                if fc_gamma < 0:\n",
    "                    dom += [pairs[0]]\n",
    "                elif fc_gamma > 0:\n",
    "                    dom += [pairs[1]]\n",
    "            else:\n",
    "                dom += ['None']       \n",
    "        elif (fc_beta > 0 and sig_beta):\n",
    "            dom += [pairs[0]]\n",
    "        elif (fc_gamma > 0 and sig_gamma): #individual FCs\n",
    "            dom += [pairs[1]]\n",
    "        elif  (fc_beta < 0 and sig_beta):\n",
    "            dom += [pairs[1]]\n",
    "        elif (fc_gamma < 0 and sig_gamma):\n",
    "            dom += [pairs[0]]\n",
    "        else:\n",
    "            dom += ['None']\n",
    "\n",
    "\n",
    "    return bs,-1*betas,-1*gammas,dom,highFCs,noSpliceFCs,names #-1 for plotting purposes"
   ]
  },
  {
   "cell_type": "code",
   "execution_count": 556,
   "id": "1151188a",
   "metadata": {},
   "outputs": [],
   "source": [
    "#Plot FCs of parameters between two clusters\n",
    "\n",
    "def plot_de(outs,names_plot,mark_plot,xpos,ypos,arrow,assign_colors,figsize=(10,4),betag=False,xlims=[-10,10],fname=None):\n",
    "    fig,ax = plt.subplots(1,2,figsize=figsize)\n",
    "\n",
    "    name_inds = [list(outs[6]).index(i) for i in names_plot]\n",
    "\n",
    "    labs = np.array(outs[3])\n",
    "    g=sns.scatterplot(x=list(outs[0][labs =='None']),y=list(outs[1][labs=='None']),\n",
    "                      hue=list(pd.Categorical(outs[3])[labs=='None']),\n",
    "                      palette=assign_colors,ax=ax[0],style=list(outs[5][labs=='None']),alpha=0.1,s=100,edgecolor='black')\n",
    "\n",
    "    sns.scatterplot(x=list(outs[0][(labs!='None')  &  (outs[5]==False)]),\n",
    "                    y=list(outs[1][(labs!='None') &  (outs[5]==False)]),\n",
    "                    hue=list(pd.Categorical(outs[3])[(labs!='None') &  (outs[5]==False)]),\n",
    "                      palette=assign_colors,ax=ax[0],marker='o',alpha=0.6,s=100,edgecolor='black')\n",
    "\n",
    "    sns.scatterplot(x=list(outs[0][(labs!='None')  &  (outs[5]==True)]),\n",
    "                    y=list(outs[1][(labs!='None')  &  (outs[5]==True)]),\n",
    "                    hue=list(pd.Categorical(outs[3])[(labs!='None')  &  (outs[5]==True)]),\n",
    "                      palette=assign_colors,ax=ax[0],marker='X',alpha=0.8,s=120,edgecolor='black')\n",
    "\n",
    "    #Annotate genes\n",
    "    for n in range(len(names_plot)):\n",
    "        x=list(outs[0])[name_inds[n]]\n",
    "        y=list(outs[1])[name_inds[n]]\n",
    "        h=[pd.Categorical(outs[3])[name_inds[n]]]\n",
    "        if_x=list(outs[5])[name_inds[n]]\n",
    "        \n",
    "        if if_x:\n",
    "            shape = 'X'\n",
    "        else:\n",
    "            shape = 'o'\n",
    "            \n",
    "        if arrow[n]:\n",
    "            #Replot, so annotated points show up on top\n",
    "            sns.scatterplot(x=x,\n",
    "                    y=y,\n",
    "                    hue=h,\n",
    "                      palette=assign_colors,ax=ax[0],marker=shape,alpha=0.8,s=120,edgecolor='black',\n",
    "                           legend=False)\n",
    "            \n",
    "            ax[0].annotate(names_plot[n], (x, y), fontsize=14,\n",
    "                           xytext=(x+xpos[n],y+ypos[n]),weight=\"bold\", color=assign_colors[mark_plot[n]],\n",
    "                       arrowprops = dict(facecolor=assign_colors[mark_plot[n]],  \n",
    "                                         arrowstyle=\"-|>\",connectionstyle=\"angle3,angleA=0,angleB=-90\",lw=0.4))\n",
    "        else:\n",
    "            #Replot, so annotated points show up on top\n",
    "            sns.scatterplot(x=x,\n",
    "                    y=y,\n",
    "                    hue=h,\n",
    "                      palette=assign_colors,ax=ax[0],marker=shape,alpha=0.8,s=120,edgecolor='black',\n",
    "                           legend=False)\n",
    "            \n",
    "            ax[0].annotate(names_plot[n], (x, y),fontsize=14,\n",
    "                           xytext=(x+xpos[n], y+ypos[n]),color=assign_colors[mark_plot[n]],weight=\"bold\")\n",
    "\n",
    "    sns.move_legend(g, \"upper left\", bbox_to_anchor=(1, 1))\n",
    "\n",
    "    xl =np.asarray([xlims[0],xlims[1]])\n",
    "    xlx = [xl[0],xl[1]]\n",
    "    xly = [xl[0],xl[1]]\n",
    "    ax[0].set_xlim(xlx)\n",
    "    ax[0].set_ylim(xly)\n",
    "\n",
    "    ax[0].plot(xl,-xl,'--',linewidth=2.5,c='crimson',alpha=0.3)\n",
    "\n",
    "    ax[0].set_xlabel(r'$\\log_{2}$FC $b$ ',fontsize=14)\n",
    "    ax[0].set_ylabel(r'$-\\log_{2}$FC $\\beta$ ',fontsize=14)\n",
    "    \n",
    "    ax[0].tick_params(axis='both', which='major', labelsize=14,)\n",
    "\n",
    "\n",
    "\n",
    "\n",
    "    if betag == False:\n",
    "        labs = np.array(outs[3])\n",
    "        g=sns.scatterplot(x=list(outs[0][labs =='None']),y=list(outs[2][labs=='None']),\n",
    "                          hue=list(pd.Categorical(outs[3])[labs=='None']),\n",
    "                          palette=assign_colors,ax=ax[1],style=list(outs[5][labs=='None']),alpha=0.1,s=100,edgecolor='black')\n",
    "\n",
    "        sns.scatterplot(x=list(outs[0][(labs!='None')  &  (outs[5]==False)]),\n",
    "                        y=list(outs[2][(labs!='None')  &  (outs[5]==False)]),\n",
    "                        hue=list(pd.Categorical(outs[3])[(labs!='None')  &  (outs[5]==False)]),\n",
    "                          palette=assign_colors,ax=ax[1],marker='o',alpha=0.6\n",
    "                        ,s=100,edgecolor='black')\n",
    "\n",
    "        \n",
    "        sns.scatterplot(x=list(outs[0][(labs!='None')  &  (outs[5]==True)]),\n",
    "                        y=list(outs[2][(labs!='None')  &  (outs[5]==True)]),\n",
    "                        hue=list(pd.Categorical(outs[3])[(labs!='None')  &  (outs[5]==True)]),\n",
    "                          palette=assign_colors,ax=ax[1],marker='X',\n",
    "                        alpha=0.8,s=120,edgecolor='black')\n",
    "        #Annotate genes\n",
    "        for n in range(len(names_plot)):\n",
    "            x=list(outs[0])[name_inds[n]]\n",
    "            y=list(outs[2])[name_inds[n]]\n",
    "            h=[pd.Categorical(outs[3])[name_inds[n]]]\n",
    "            if_x=list(outs[5])[name_inds[n]]\n",
    "\n",
    "            if if_x:\n",
    "                shape = 'X'\n",
    "            else:\n",
    "                shape = 'o'\n",
    "\n",
    "            if arrow[n]:\n",
    "                #Replot, so annotated points show up on top\n",
    "                sns.scatterplot(x=x,\n",
    "                        y=y,\n",
    "                        hue=h,\n",
    "                          palette=assign_colors,ax=ax[1],marker=shape,alpha=0.8,s=100,edgecolor='black',\n",
    "                               legend=False)\n",
    "            \n",
    "                ax[1].annotate(names_plot[n], (x, y), fontsize=14,\n",
    "                               xytext=(x+xpos[n], y+ypos[n]),weight=\"bold\", color=assign_colors[mark_plot[n]],\n",
    "                           arrowprops = dict(facecolor=assign_colors[mark_plot[n]],  \n",
    "                                             arrowstyle=\"-|>\",connectionstyle=\"angle3,angleA=0,angleB=-90\",\n",
    "                                             lw=0.4,))\n",
    "            else:\n",
    "                #Replot, so annotated points show up on top\n",
    "                sns.scatterplot(x=x,\n",
    "                        y=y,\n",
    "                        hue=h,\n",
    "                          palette=assign_colors,ax=ax[1],marker=shape,alpha=0.8,s=120,edgecolor='black',\n",
    "                               legend=False)\n",
    "            \n",
    "                ax[1].annotate(names_plot[n], (x, y), fontsize=14,\n",
    "                               xytext=(x+xpos[n], y+ypos[n]),color=assign_colors[mark_plot[n]],weight=\"bold\")\n",
    "\n",
    "\n",
    "        sns.move_legend(g, \"upper left\", bbox_to_anchor=(1, 1))\n",
    "\n",
    "        xl =np.asarray([xlims[0],xlims[1]])\n",
    "        xlx = [xl[0],xl[1]]\n",
    "        xly = [xl[0],xl[1]]\n",
    "        ax[1].set_xlim(xlx)\n",
    "        ax[1].set_ylim(xly)\n",
    "\n",
    "        ax[1].plot(xl,-xl,'--',linewidth=2.5,c='crimson',alpha=0.3)\n",
    "\n",
    "        ax[1].set_xlabel(r'$\\log_{2}$FC $b$ ',fontsize=14)\n",
    "        ax[1].set_ylabel(r'$-\\log_{2}$FC $\\gamma$ ',fontsize=14)\n",
    "        \n",
    "        ax[1].tick_params(axis='both', which='major', labelsize=14,)\n",
    "    else:\n",
    "        labs = np.array(outs[3])\n",
    "        g=sns.scatterplot(x=list(outs[1][labs =='None']),y=list(outs[2][labs=='None']),\n",
    "                          hue=list(pd.Categorical(outs[3])[labs=='None']),\n",
    "                          palette=assign_colors,ax=ax[1],style=list(outs[5][labs=='None']),alpha=0.1,s=100,edgecolor='black')\n",
    "\n",
    "        sns.scatterplot(x=list(outs[1][(labs!='None')  &  (outs[5]==False)]),\n",
    "                        y=list(outs[2][(labs!='None')  &  (outs[5]==False)]),\n",
    "                        hue=list(pd.Categorical(outs[3])[(labs!='None')  &  (outs[5]==False)]),\n",
    "                          palette=assign_colors,ax=ax[1],marker='o',alpha=0.6\n",
    "                        ,s=100,edgecolor='black')\n",
    "\n",
    "        \n",
    "        sns.scatterplot(x=list(outs[1][(labs!='None')  &  (outs[5]==True)]),\n",
    "                        y=list(outs[2][(labs!='None')  &  (outs[5]==True)]),\n",
    "                        hue=list(pd.Categorical(outs[3])[(labs!='None')  &  (outs[5]==True)]),\n",
    "                          palette=assign_colors,ax=ax[1],marker='X',\n",
    "                        alpha=0.8,s=120,edgecolor='black')\n",
    "        #Annotate genes\n",
    "        for n in range(len(names_plot)):\n",
    "            x=list(outs[1])[name_inds[n]]\n",
    "            y=list(outs[2])[name_inds[n]]\n",
    "            h=[pd.Categorical(outs[3])[name_inds[n]]]\n",
    "            if_x=list(outs[5])[name_inds[n]]\n",
    "\n",
    "            if if_x:\n",
    "                shape = 'X'\n",
    "            else:\n",
    "                shape = 'o'\n",
    "\n",
    "                \n",
    "            if arrow[n]:\n",
    "                #Replot, so annotated points show up on top\n",
    "                sns.scatterplot(x=x,\n",
    "                        y=y,\n",
    "                        hue=h,\n",
    "                          palette=assign_colors,ax=ax[1],marker=shape,alpha=0.8,s=120,edgecolor='black',\n",
    "                               legend=False)\n",
    "                \n",
    "                ax[1].annotate(names_plot[n], (x, y), fontsize=14,\n",
    "                               xytext=(x+xpos[n], y+ypos[n]),weight=\"bold\", color=assign_colors[mark_plot[n]],\n",
    "                           arrowprops = dict(facecolor=assign_colors[mark_plot[n]],  \n",
    "                                             arrowstyle=\"-|>\",connectionstyle=\"angle3,angleA=0,angleB=-90\",\n",
    "                                             lw=0.4,))\n",
    "            else:\n",
    "                #Replot, so annotated points show up on top\n",
    "                sns.scatterplot(x=x,\n",
    "                        y=y,\n",
    "                        hue=h,\n",
    "                          palette=assign_colors,ax=ax[1],marker=shape,alpha=0.8,s=120,edgecolor='black',\n",
    "                               legend=False)\n",
    "                \n",
    "                ax[1].annotate(names_plot[n], (x, y), fontsize=14,\n",
    "                               xytext=(x+xpos[n], y+ypos[n]),color=assign_colors[mark_plot[n]],weight=\"bold\")\n",
    "\n",
    "\n",
    "\n",
    "        sns.move_legend(g, \"upper left\", bbox_to_anchor=(1, 1))\n",
    "\n",
    "        xl =np.asarray([xlims[0],xlims[1]])\n",
    "        xlx = [xl[0],xl[1]]\n",
    "        xly = [xl[0],xl[1]]\n",
    "        ax[1].set_xlim(xlx)\n",
    "        ax[1].set_ylim(xly)\n",
    "\n",
    "        ax[1].plot(xl,xl,'--',linewidth=2.5,c='crimson',alpha=0.3)\n",
    "\n",
    "        ax[1].set_xlabel(r'$-\\log_{2}$FC $\\beta$ ',fontsize=14)\n",
    "        ax[1].set_ylabel(r'$-\\log_{2}$FC $\\gamma$ ',fontsize=14)\n",
    "        \n",
    "        ax[1].tick_params(axis='both', which='major', labelsize=14,)\n",
    "        \n",
    "\n",
    "    plt.tight_layout()\n",
    "    if fname is None:\n",
    "        plt.show()\n",
    "    else:\n",
    "        plt.savefig(fname)\n",
    "\n"
   ]
  },
  {
   "cell_type": "code",
   "execution_count": null,
   "id": "35bc3b2d",
   "metadata": {},
   "outputs": [],
   "source": [
    "#Run gene rejection statistics"
   ]
  },
  {
   "cell_type": "code",
   "execution_count": null,
   "id": "5089fea1",
   "metadata": {},
   "outputs": [],
   "source": []
  },
  {
   "cell_type": "markdown",
   "id": "26795b2c",
   "metadata": {},
   "source": [
    "**Germ cells**"
   ]
  },
  {
   "cell_type": "code",
   "execution_count": null,
   "id": "f82e370b",
   "metadata": {},
   "outputs": [],
   "source": []
  },
  {
   "cell_type": "code",
   "execution_count": null,
   "id": "afaa6b5d",
   "metadata": {},
   "outputs": [],
   "source": []
  },
  {
   "cell_type": "code",
   "execution_count": null,
   "id": "a2e42d9e",
   "metadata": {},
   "outputs": [],
   "source": []
  },
  {
   "cell_type": "code",
   "execution_count": null,
   "id": "b3e56a4f",
   "metadata": {},
   "outputs": [],
   "source": []
  },
  {
   "cell_type": "code",
   "execution_count": null,
   "id": "7010f985",
   "metadata": {},
   "outputs": [],
   "source": []
  },
  {
   "cell_type": "markdown",
   "id": "c9983395",
   "metadata": {},
   "source": [
    "**Brca-null tumor cells**"
   ]
  },
  {
   "cell_type": "code",
   "execution_count": null,
   "id": "e9803426",
   "metadata": {},
   "outputs": [],
   "source": [
    "#KIF4A, RACGAP1, CKS2, SHCBP1, and HMMR\n",
    "#https://www.ncbi.nlm.nih.gov/pmc/articles/PMC8075678/#:~:text=Conclusion,the%20basis%20of%20bioinformatical%20analysis.\n",
    "    \n",
    "    "
   ]
  },
  {
   "cell_type": "code",
   "execution_count": null,
   "id": "812df1cf",
   "metadata": {},
   "outputs": [],
   "source": []
  },
  {
   "cell_type": "code",
   "execution_count": null,
   "id": "fbdc20f3",
   "metadata": {},
   "outputs": [],
   "source": []
  },
  {
   "cell_type": "code",
   "execution_count": null,
   "id": "a8812221",
   "metadata": {},
   "outputs": [],
   "source": []
  },
  {
   "cell_type": "code",
   "execution_count": null,
   "id": "4434b230",
   "metadata": {},
   "outputs": [],
   "source": []
  },
  {
   "cell_type": "markdown",
   "id": "4a925435",
   "metadata": {},
   "source": [
    "**PBMCs**"
   ]
  },
  {
   "cell_type": "code",
   "execution_count": null,
   "id": "5acbfa9a",
   "metadata": {},
   "outputs": [],
   "source": []
  },
  {
   "cell_type": "code",
   "execution_count": null,
   "id": "aee40138",
   "metadata": {},
   "outputs": [],
   "source": []
  },
  {
   "cell_type": "code",
   "execution_count": null,
   "id": "4415697f",
   "metadata": {},
   "outputs": [],
   "source": []
  },
  {
   "cell_type": "code",
   "execution_count": null,
   "id": "9e243e96",
   "metadata": {},
   "outputs": [],
   "source": []
  },
  {
   "cell_type": "code",
   "execution_count": null,
   "id": "af942401",
   "metadata": {},
   "outputs": [],
   "source": []
  },
  {
   "cell_type": "code",
   "execution_count": null,
   "id": "3652c219",
   "metadata": {},
   "outputs": [],
   "source": []
  },
  {
   "cell_type": "code",
   "execution_count": 217,
   "id": "8b4c287f",
   "metadata": {},
   "outputs": [],
   "source": [
    "full_result_string = ['./fits/explorData_0313/gg_240312_025_pbmc_K15_1/pbmc/Bursty_Poisson_1x1/grid_scan_results_0.res',\n",
    "  './fits/explorData_0313/gg_240312_025_pbmc_K15_1/pbmc/Bursty_Poisson_1x1/grid_scan_results_1.res',\n",
    "  './fits/explorData_0313/gg_240312_025_pbmc_K15_1/pbmc/Bursty_Poisson_1x1/grid_scan_results_2.res',\n",
    "  './fits/explorData_0313/gg_240312_025_pbmc_K15_1/pbmc/Bursty_Poisson_1x1/grid_scan_results_4.res',\n",
    "  './fits/explorData_0313/gg_240312_025_pbmc_K15_1/pbmc/Bursty_Poisson_1x1/grid_scan_results_6.res',\n",
    "  './fits/explorData_0313/gg_240312_025_pbmc_K15_1/pbmc/Bursty_Poisson_1x1/grid_scan_results_7.res',\n",
    "  './fits/explorData_0313/gg_240312_025_pbmc_K15_1/pbmc/Bursty_Poisson_1x1/grid_scan_results_9.res',\n",
    "  './fits/explorData_0313/gg_240312_025_pbmc_K15_1/pbmc/Bursty_Poisson_1x1/grid_scan_results_10.res',\n",
    "  './fits/explorData_0313/gg_240312_025_pbmc_K15_1/pbmc/Bursty_Poisson_1x1/grid_scan_results_14.res']\n",
    "sr = [monod.analysis.load_search_results(i) for i in full_result_string]\n",
    "\n",
    "\n",
    "cat_assigns = np.array([None]*10997) #cat_assigns is empty list of length = no. cell barcodes\n",
    "for i in range(len(sr)):\n",
    "    r = sr[i]\n",
    "    cat_assigns[r.filt] = r.assigns"
   ]
  },
  {
   "cell_type": "code",
   "execution_count": 218,
   "id": "c3cf8549",
   "metadata": {},
   "outputs": [],
   "source": [
    "ds = lp.connect('/home/tchari/counts/10x_pbmcs/loom/processed_pbmc_10k_raw.loom')\n",
    "g_names = ds.ra[attribute_names[1]]\n",
    "true_labs = list(ds.ca['subclass_label'])\n",
    "ds.close()"
   ]
  },
  {
   "cell_type": "code",
   "execution_count": 219,
   "id": "e70c89e8",
   "metadata": {},
   "outputs": [
    {
     "data": {
      "text/plain": [
       "True"
      ]
     },
     "execution_count": 219,
     "metadata": {},
     "output_type": "execute_result"
    }
   ],
   "source": [
    "'TLR4' in sr[0].gene_names"
   ]
  },
  {
   "cell_type": "code",
   "execution_count": 220,
   "id": "c998d963",
   "metadata": {},
   "outputs": [
    {
     "data": {
      "text/plain": [
       "True"
      ]
     },
     "execution_count": 220,
     "metadata": {},
     "output_type": "execute_result"
    }
   ],
   "source": [
    "'ZFP36' in g_names"
   ]
  },
  {
   "cell_type": "code",
   "execution_count": 221,
   "id": "5a0d5019",
   "metadata": {},
   "outputs": [
    {
     "name": "stdout",
     "output_type": "stream",
     "text": [
      "0\n",
      "T:  1340\n",
      "B: 0\n",
      "M:  1\n",
      "------------\n",
      "1\n",
      "T:  1\n",
      "B: 0\n",
      "M:  2559\n",
      "------------\n",
      "2\n",
      "T:  3\n",
      "B: 1466\n",
      "M:  0\n",
      "------------\n",
      "4\n",
      "T:  432\n",
      "B: 0\n",
      "M:  0\n",
      "------------\n",
      "6\n",
      "T:  3309\n",
      "B: 0\n",
      "M:  0\n",
      "------------\n",
      "7\n",
      "T:  2\n",
      "B: 0\n",
      "M:  1252\n",
      "------------\n",
      "9\n",
      "T:  4\n",
      "B: 89\n",
      "M:  2\n",
      "------------\n",
      "10\n",
      "T:  0\n",
      "B: 3\n",
      "M:  157\n",
      "------------\n",
      "14\n",
      "T:  284\n",
      "B: 92\n",
      "M:  1\n",
      "------------\n"
     ]
    }
   ],
   "source": [
    "uniqs = np.unique(cat_assigns)\n",
    "for i in uniqs:\n",
    "    filt = cat_assigns == i\n",
    "    print(i)\n",
    "    print('T: ',np.sum(np.array(true_labs)[filt] == 'Tcells'))\n",
    "    print('B:',np.sum(np.array(true_labs)[filt] == 'Bcells'))\n",
    "    print('M: ',np.sum(np.array(true_labs)[filt] == 'Monocytes'))\n",
    "    print('------------')"
   ]
  },
  {
   "cell_type": "code",
   "execution_count": 161,
   "id": "590ef104",
   "metadata": {},
   "outputs": [],
   "source": [
    "full_result_string = ['./fits/explorData_0313/gg_240312_025_e11e13_K5_1/e11e13/Bursty_Poisson_1x1/grid_scan_results_0.res',\n",
    "  './fits/explorData_0313/gg_240312_025_e11e13_K5_1/e11e13/Bursty_Poisson_1x1/grid_scan_results_1.res',\n",
    "  './fits/explorData_0313/gg_240312_025_e11e13_K5_1/e11e13/Bursty_Poisson_1x1/grid_scan_results_3.res',\n",
    "  './fits/explorData_0313/gg_240312_025_e11e13_K5_1/e11e13/Bursty_Poisson_1x1/grid_scan_results_4.res']\n",
    "sr = [monod.analysis.load_search_results(i) for i in full_result_string]\n",
    "\n",
    "\n",
    "cat_assigns = np.array([None]*num_cells) #cat_assigns is empty list of length = no. cell barcodes\n",
    "for i in range(len(sr)):\n",
    "    r = sr[i]\n",
    "    cat_assigns[r.filt] = r.assigns"
   ]
  },
  {
   "cell_type": "code",
   "execution_count": 162,
   "id": "a46c47c3",
   "metadata": {},
   "outputs": [
    {
     "name": "stdout",
     "output_type": "stream",
     "text": [
      "0\n",
      "75\n",
      "2\n",
      "------------\n",
      "1\n",
      "0\n",
      "117\n",
      "------------\n",
      "3\n",
      "132\n",
      "22\n",
      "------------\n",
      "4\n",
      "2039\n",
      "77\n",
      "------------\n"
     ]
    }
   ],
   "source": [
    "uniqs = np.unique(cat_assigns)\n",
    "for i in uniqs:\n",
    "    filt = cat_assigns == i\n",
    "    print(i)\n",
    "    print(np.sum(np.array(true_labs)[filt] == '170726_T_E13'))\n",
    "    print(np.sum(np.array(true_labs)[filt] == '170814_AGPM_E11'))\n",
    "    print('------------')"
   ]
  },
  {
   "cell_type": "code",
   "execution_count": 163,
   "id": "00f7bd65",
   "metadata": {},
   "outputs": [
    {
     "data": {
      "text/plain": [
       "False"
      ]
     },
     "execution_count": 163,
     "metadata": {},
     "output_type": "execute_result"
    }
   ],
   "source": [
    "'Srsf10' in final_names  #Ccnd3, Bnc2m, Tet1, and "
   ]
  },
  {
   "cell_type": "code",
   "execution_count": null,
   "id": "ceb0ea3c",
   "metadata": {},
   "outputs": [],
   "source": []
  },
  {
   "cell_type": "code",
   "execution_count": 164,
   "id": "4d2fe215",
   "metadata": {},
   "outputs": [],
   "source": [
    "# [g for g in germ_markers if g in final_names ]"
   ]
  },
  {
   "cell_type": "code",
   "execution_count": 165,
   "id": "447c09bc",
   "metadata": {},
   "outputs": [],
   "source": [
    "g_test = 'Nanog'"
   ]
  },
  {
   "cell_type": "code",
   "execution_count": 171,
   "id": "4cffdc42",
   "metadata": {},
   "outputs": [
    {
     "data": {
      "text/plain": [
       "(array([1.01809344e+00, 3.01782339e-01, 8.16905212e-02, 0.00000000e+00,\n",
       "        1.82284634e-02, 6.07615447e-03, 0.00000000e+00, 1.35025655e-03,\n",
       "        6.75128274e-04, 6.75128274e-04]),\n",
       " array([0. , 0.7, 1.4, 2.1, 2.8, 3.5, 4.2, 4.9, 5.6, 6.3, 7. ]),\n",
       " <BarContainer object of 10 artists>)"
      ]
     },
     "execution_count": 171,
     "metadata": {},
     "output_type": "execute_result"
    },
    {
     "data": {
      "image/png": "[encoded data removed]",
      "text/plain": [
       "<Figure size 432x288 with 1 Axes>"
      ]
     },
     "metadata": {
      "needs_background": "light"
     },
     "output_type": "display_data"
    }
   ],
   "source": [
    "plt.hist(S[cat_assigns==1,g_names==g_test].flatten(),density=True)\n",
    "plt.hist(S[cat_assigns==4,g_names==g_test].flatten(),density=True,alpha=0.5)"
   ]
  },
  {
   "cell_type": "code",
   "execution_count": 167,
   "id": "da3f93a6",
   "metadata": {},
   "outputs": [
    {
     "data": {
      "text/plain": [
       "2.547008547008547"
      ]
     },
     "execution_count": 167,
     "metadata": {},
     "output_type": "execute_result"
    }
   ],
   "source": [
    "np.mean(S[cat_assigns==1,g_names==g_test])"
   ]
  },
  {
   "cell_type": "code",
   "execution_count": 168,
   "id": "f2a21da9",
   "metadata": {},
   "outputs": [
    {
     "data": {
      "text/plain": [
       "0.39177693761814747"
      ]
     },
     "execution_count": 168,
     "metadata": {},
     "output_type": "execute_result"
    }
   ],
   "source": [
    "np.mean(S[cat_assigns==4,g_names==g_test])"
   ]
  },
  {
   "cell_type": "code",
   "execution_count": null,
   "id": "b24f1e2a",
   "metadata": {},
   "outputs": [],
   "source": []
  }
 ],
 "metadata": {
  "kernelspec": {
   "display_name": "Python 3 (ipykernel)",
   "language": "python",
   "name": "python3"
  },
  "language_info": {
   "codemirror_mode": {
    "name": "ipython",
    "version": 3
   },
   "file_extension": ".py",
   "mimetype": "text/x-python",
   "name": "python",
   "nbconvert_exporter": "python",
   "pygments_lexer": "ipython3",
   "version": "3.7.11"
  }
 },
 "nbformat": 4,
 "nbformat_minor": 5
}
