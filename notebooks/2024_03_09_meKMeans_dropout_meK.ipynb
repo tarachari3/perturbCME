{
 "cells": [
  {
   "cell_type": "code",
   "execution_count": 1,
   "id": "1e47a23f",
   "metadata": {},
   "outputs": [],
   "source": [
    "import h5py\n",
    "import scanpy as sc\n",
    "import anndata\n",
    "import loompy as lp\n",
    "\n",
    "import numpy as np\n",
    "import pandas as pd\n",
    "import matplotlib.pyplot as plt\n",
    "\n",
    "import sys\n",
    "import glob\n",
    "import importlib"
   ]
  },
  {
   "cell_type": "code",
   "execution_count": 2,
   "id": "344936d6",
   "metadata": {},
   "outputs": [],
   "source": [
    "import sys\n",
    "sys.path.insert(0, '/home/tchari/monod/src/')"
   ]
  },
  {
   "cell_type": "code",
   "execution_count": 3,
   "id": "68593686",
   "metadata": {},
   "outputs": [],
   "source": [
    "import monod\n",
    "importlib.reload(monod)\n",
    "from monod import preprocess, extract_data, cme_toolbox, analysis, mminference"
   ]
  },
  {
   "cell_type": "code",
   "execution_count": 5,
   "id": "1b273e73",
   "metadata": {},
   "outputs": [],
   "source": [
    "from sklearn.metrics import adjusted_rand_score, adjusted_mutual_info_score"
   ]
  },
  {
   "cell_type": "code",
   "execution_count": 6,
   "id": "a8d24d55",
   "metadata": {},
   "outputs": [],
   "source": [
    "import h5py\n",
    "import scanpy as sc\n",
    "import anndata\n",
    "import loompy as lp\n",
    "\n",
    "import numpy as np\n",
    "import pandas as pd\n",
    "import matplotlib.pyplot as plt\n",
    "\n",
    "import sys\n",
    "import glob\n",
    "import importlib\n",
    "\n",
    "import sys\n",
    "sys.path.insert(0, '/home/tchari/monod/src/')\n",
    "\n",
    "import monod\n",
    "importlib.reload(monod)\n",
    "from monod import preprocess, extract_data, cme_toolbox, analysis, mminference\n",
    "\n",
    "from sklearn.metrics import adjusted_rand_score, adjusted_mutual_info_score"
   ]
  },
  {
   "cell_type": "markdown",
   "id": "6a3e26e7",
   "metadata": {},
   "source": [
    "## **Checking meK-Means performance with simulated dropout**"
   ]
  },
  {
   "cell_type": "code",
   "execution_count": 17,
   "id": "46d95044",
   "metadata": {},
   "outputs": [
    {
     "data": {
      "text/plain": [
       "['/home/tchari/counts/meKMeans_sims/loom/drop_1perc_sim_k8.loom',\n",
       " '/home/tchari/counts/meKMeans_sims/loom/drop_5perc_sim_k8.loom',\n",
       " '/home/tchari/counts/meKMeans_sims/loom/drop_20perc_sim_k8.loom',\n",
       " '/home/tchari/counts/meKMeans_sims/loom/negctrl_sim_k1.loom',\n",
       " '/home/tchari/counts/meKMeans_sims/loom/b_beta_sim_k8.loom',\n",
       " '/home/tchari/counts/meKMeans_sims/loom/k_gamma_sim_k8.loom']"
      ]
     },
     "execution_count": 17,
     "metadata": {},
     "output_type": "execute_result"
    }
   ],
   "source": [
    "d_strings  = glob.glob('/home/tchari/counts/meKMeans_sims/loom/*.loom')\n",
    "d_strings "
   ]
  },
  {
   "cell_type": "code",
   "execution_count": null,
   "id": "f6fecfe8",
   "metadata": {},
   "outputs": [],
   "source": []
  },
  {
   "cell_type": "code",
   "execution_count": 18,
   "id": "073f5583",
   "metadata": {},
   "outputs": [],
   "source": [
    "attribute_names =[('unspliced','spliced'),'gene_name','barcode']"
   ]
  },
  {
   "cell_type": "code",
   "execution_count": 19,
   "id": "d1d6e97c",
   "metadata": {},
   "outputs": [],
   "source": [
    "datas = [i.replace('/home/tchari/counts/meKMeans_sims/loom/','') for i in d_strings]\n",
    "datas = [i.replace('.loom','') for i in datas]"
   ]
  },
  {
   "cell_type": "code",
   "execution_count": 20,
   "id": "cbdd290b",
   "metadata": {},
   "outputs": [],
   "source": [
    "to_run = [0,1,2,4] #inds to run"
   ]
  },
  {
   "cell_type": "code",
   "execution_count": 21,
   "id": "ce90e552",
   "metadata": {},
   "outputs": [],
   "source": [
    "samp = [-6.777777777777778, -1.25]"
   ]
  },
  {
   "cell_type": "code",
   "execution_count": 22,
   "id": "485dc011",
   "metadata": {},
   "outputs": [],
   "source": [
    "transcriptomes = '/home/tchari/perturbCME/notebooks/sim_genome_polyA_cum_3_0'"
   ]
  },
  {
   "cell_type": "code",
   "execution_count": null,
   "id": "83dd743e",
   "metadata": {},
   "outputs": [],
   "source": []
  },
  {
   "cell_type": "code",
   "execution_count": 53,
   "id": "12a8d196",
   "metadata": {},
   "outputs": [
    {
     "data": {
      "text/plain": [
       "['/home/tchari/counts/meKMeans_sims/loom/drop_1perc_sim_k8.loom',\n",
       " '/home/tchari/counts/meKMeans_sims/loom/drop_5perc_sim_k8.loom',\n",
       " '/home/tchari/counts/meKMeans_sims/loom/drop_20perc_sim_k8.loom',\n",
       " '/home/tchari/counts/meKMeans_sims/loom/b_beta_sim_k8.loom']"
      ]
     },
     "execution_count": 53,
     "metadata": {},
     "output_type": "execute_result"
    }
   ],
   "source": [
    "sub_d_strings = [d_strings[i] for i in to_run]\n",
    "sub_d_strings"
   ]
  },
  {
   "cell_type": "code",
   "execution_count": null,
   "id": "1d1969e4",
   "metadata": {},
   "outputs": [],
   "source": []
  },
  {
   "cell_type": "code",
   "execution_count": 56,
   "id": "cbd306c7",
   "metadata": {},
   "outputs": [
    {
     "data": {
      "text/plain": [
       "['drop_1perc_sim_k8',\n",
       " 'drop_5perc_sim_k8',\n",
       " 'drop_20perc_sim_k8',\n",
       " 'b_beta_sim_k8']"
      ]
     },
     "execution_count": 56,
     "metadata": {},
     "output_type": "execute_result"
    }
   ],
   "source": [
    "datas_sub = [datas[i] for i in to_run]\n",
    "datas_sub"
   ]
  },
  {
   "cell_type": "code",
   "execution_count": null,
   "id": "a38e8b3a",
   "metadata": {},
   "outputs": [],
   "source": []
  },
  {
   "cell_type": "code",
   "execution_count": null,
   "id": "3e02070d",
   "metadata": {},
   "outputs": [
    {
     "name": "stdout",
     "output_type": "stream",
     "text": [
      "mkdir: cannot create directory ‘/home/tchari/perturbCME/notebooks/fits/meKruns_0309’: File exists\n",
      "drop_1perc_sim_k8 with 1100 genes\n",
      "WARNING:root:Selecting 1100 genes required 0.0% dataset threshold.\n"
     ]
    },
    {
     "name": "stderr",
     "output_type": "stream",
     "text": [
      "\r",
      "  0%|                                                                                                              | 0/5 [00:00<?, ?it/s]"
     ]
    }
   ],
   "source": [
    "#For each loom in looms from ./hvg_objs\n",
    "\n",
    "# !mkdir /home/tchari/perturbCME/notebooks/fits/meKruns_0209\n",
    "!mkdir /home/tchari/perturbCME/notebooks/fits/meKruns_0309\n",
    "\n",
    "\n",
    "dir_strings = []\n",
    "data_strings = []\n",
    "result_strings = []\n",
    "\n",
    "#Save method, clustering, mat_in (U,S, etc), hyper (K or res), hvgs, data, ARI, AMI\n",
    "meK_res = pd.DataFrame()\n",
    "meths = []\n",
    "result = []\n",
    "mats = []\n",
    "hyper = []\n",
    "hvgs = []\n",
    "data = []\n",
    "ari = []\n",
    "ami = []\n",
    "\n",
    "for d in sub_d_strings: #************* FASTER FOR NOW ************* \n",
    "    \n",
    "    #Get tech param by keyword (datas) in loom paths\n",
    "    ind = [i in d for i in datas_sub]\n",
    "    \n",
    "    #Inference params for sampling\n",
    "    tech_tup = samp\n",
    "    \n",
    "    #Preprocessing params for filepaths\n",
    "    trans = transcriptomes\n",
    "\n",
    "    data_name = np.array(datas_sub)[ind][0]\n",
    "    \n",
    "    \n",
    "    ds = lp.connect(d)\n",
    "    g_names = ds.ra[attribute_names[1]]\n",
    "    num_genes = len(g_names)\n",
    "    num_cells = len(ds.ca[attribute_names[2]])\n",
    "    \n",
    "    U = ds.layers['unspliced'][:,:].T\n",
    "    S = ds.layers['spliced'][:,:].T\n",
    "    true_labs = list(ds.ca['subclass_label'])\n",
    "    ds.close()\n",
    "\n",
    "    \n",
    "    print(data_name+' with '+str(num_genes)+' genes')\n",
    "    \n",
    "    \n",
    "   \n",
    "    Ks = [5,len(np.unique(true_labs)),len(np.unique(true_labs))+5,len(np.unique(true_labs))+10]\n",
    "        \n",
    "\n",
    "    for clus in Ks:\n",
    "       \n",
    "        #Run Monod preprocessing to set up files for run, leave room for genes to be removed with low U/S\n",
    "        dir_string,dataset_string = monod.preprocess.construct_batch([d], \\\n",
    "                                                     trans, \\\n",
    "                                                     [data_name], \\\n",
    "                                                     attribute_names=attribute_names,\\\n",
    "                                                     batch_location='./fits/meKruns_0309', \\\n",
    "                                                     meta=data_name+'_K'+str(clus), \\\n",
    "                                                     batch_id=1, \\\n",
    "                                                     n_genes=num_genes,exp_filter_threshold=None,\n",
    "                                                                     viz=False,genes_to_fit=g_names)\n",
    "                                                        #num_genes-60 or 100,genes_to_fit=markers\n",
    "        dir_strings += [dir_string]\n",
    "        data_strings += [dataset_string]\n",
    "\n",
    "        #Set model and run meK-Means\n",
    "        \n",
    "        #Define bounds for params\n",
    "        phys_lb = [-3.0, -3, -3 ] \n",
    "        phys_ub = [4.2, 2.5, 2.5] \n",
    "        samp_lb = tech_tup \n",
    "        samp_ub = tech_tup  \n",
    "        gridsize = [1,1] #Already have tech params\n",
    "    \n",
    "\n",
    "        epochs = 10\n",
    "\n",
    "        # ---------------- meK-Means Inference ---------------- \n",
    "        #Define model with bursty transcription and Poisson molecule capture/sampling\n",
    "        fitmodel = monod.cme_toolbox.CMEModel('Bursty','Poisson')\n",
    "\n",
    "        #Set up mminference parameters\n",
    "        inference_parameters = monod.mminference.InferenceParameters(phys_lb,phys_ub,samp_lb,samp_ub,gridsize,\\\n",
    "                    dataset_string[0],fitmodel,k=clus,epochs=epochs,use_lengths = True,\n",
    "                    gradient_params = {'max_iterations':5,'init_pattern':'moments','num_restarts':1})\n",
    "\n",
    "        #Read in loom file with filtered barcodes\n",
    "        search_data = monod.extract_data.extract_data(d, trans, data_name,\n",
    "                    dataset_string[0], dir_string, viz=False, dataset_attr_names=attribute_names)\n",
    "\n",
    "        #Run inference(fit_all_grid_points()) and Save result file strings\n",
    "        full_result_string = inference_parameters.fit_all_grid_points(40,search_data) \n",
    "\n",
    "        result_strings.append(full_result_string)\n",
    "        \n",
    "\n",
    "        # ----------------  Save output ---------------- \n",
    "        #Read in results and get cluster assignments\n",
    "        sr = [monod.analysis.load_search_results(i) for i in full_result_string]\n",
    "        \n",
    "        \n",
    "        cat_assigns = np.array([None]*num_cells) #cat_assigns is empty list of length = no. cell barcodes\n",
    "        for i in range(len(sr)):\n",
    "            r = sr[i]\n",
    "            cat_assigns[r.filt] = r.assigns #denotes which cluster (k), cells were assigned to\n",
    "\n",
    "        print('No. clus: ',len(np.unique(cat_assigns)))\n",
    "        \n",
    "\n",
    "        meths += ['meK-Means']\n",
    "        result += [cat_assigns]\n",
    "        mats += ['U,S']\n",
    "        hyper += [clus]\n",
    "        hvgs += [num_genes]\n",
    "        data += [data_name]\n",
    "        ari += [adjusted_rand_score(true_labs,cat_assigns)]\n",
    "        ami += [adjusted_mutual_info_score(true_labs,cat_assigns)]\n",
    "        \n",
    "        print('ARI: ',adjusted_rand_score(true_labs,cat_assigns))\n",
    "\n",
    "\n",
    "meK_res['Method'] = meths\n",
    "meK_res['Clustering'] = result\n",
    "meK_res['Matrices'] = mats\n",
    "meK_res['Hyperparam'] = hyper\n",
    "meK_res['Genes'] = hvgs\n",
    "meK_res['Data'] = data\n",
    "meK_res['ARI'] = ari\n",
    "meK_res['AMI'] = ami\n",
    "    "
   ]
  },
  {
   "cell_type": "code",
   "execution_count": null,
   "id": "605fd5ce",
   "metadata": {},
   "outputs": [],
   "source": []
  },
  {
   "cell_type": "code",
   "execution_count": null,
   "id": "a0947887",
   "metadata": {},
   "outputs": [],
   "source": []
  },
  {
   "cell_type": "code",
   "execution_count": null,
   "id": "ea1a05f1",
   "metadata": {},
   "outputs": [],
   "source": []
  }
 ],
 "metadata": {
  "kernelspec": {
   "display_name": "Python 3 (ipykernel)",
   "language": "python",
   "name": "python3"
  },
  "language_info": {
   "codemirror_mode": {
    "name": "ipython",
    "version": 3
   },
   "file_extension": ".py",
   "mimetype": "text/x-python",
   "name": "python",
   "nbconvert_exporter": "python",
   "pygments_lexer": "ipython3",
   "version": "3.7.11"
  }
 },
 "nbformat": 4,
 "nbformat_minor": 5
}
