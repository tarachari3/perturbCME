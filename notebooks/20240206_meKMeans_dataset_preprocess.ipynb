{
 "cells": [
  {
   "cell_type": "markdown",
   "id": "84f7359e",
   "metadata": {},
   "source": [
    "**In this notebook we process data for analysis into the necessary file types and filter for cells**"
   ]
  },
  {
   "cell_type": "code",
   "execution_count": 4,
   "id": "c54af1c4",
   "metadata": {},
   "outputs": [],
   "source": [
    "import h5py\n",
    "import scanpy as sc\n",
    "import anndata\n",
    "import loompy as lp\n",
    "\n",
    "import numpy as np\n",
    "import pandas as pd\n",
    "import matplotlib.pyplot as plt"
   ]
  },
  {
   "cell_type": "markdown",
   "id": "6e811699",
   "metadata": {},
   "source": [
    "## **Benchmarking Datasets**"
   ]
  },
  {
   "cell_type": "markdown",
   "id": "79ac98f6",
   "metadata": {},
   "source": [
    "### **Allen Institute Brain Data**\n",
    "\n",
    "Single-cell and single-nucleus data from BICCN MOP data\n",
    "\n",
    "Need to process fastqs for single-nuc data from multiple samples (sequenced together)"
   ]
  },
  {
   "cell_type": "code",
   "execution_count": 17,
   "id": "90fc1b2a",
   "metadata": {},
   "outputs": [
    {
     "name": "stdout",
     "output_type": "stream",
     "text": [
      "AAACCCAAGAGGCTGT\n",
      "(32285, 9974)\n"
     ]
    }
   ],
   "source": [
    "#Raw single-cell A08 10xv3 brain sample from https://zenodo.org/records/10530877\n",
    "\n",
    "a08 = lp.connect('/home/tchari/counts/allen_bivi/loom/allen_A08_raw.loom')\n",
    "bars = a08.ca['barcode']\n",
    "print(bars[0])\n",
    "genes = a08.ra['gene_name']\n",
    "U = a08.layers['unspliced'][:,:]\n",
    "S = a08.layers['spliced'][:,:]\n",
    "print(S.shape)"
   ]
  },
  {
   "cell_type": "code",
   "execution_count": 18,
   "id": "10943a6d",
   "metadata": {},
   "outputs": [],
   "source": [
    "a08.close()"
   ]
  },
  {
   "cell_type": "code",
   "execution_count": 10,
   "id": "3e0b658d",
   "metadata": {},
   "outputs": [
    {
     "data": {
      "text/html": [
       "<div>\n",
       "<style scoped>\n",
       "    .dataframe tbody tr th:only-of-type {\n",
       "        vertical-align: middle;\n",
       "    }\n",
       "\n",
       "    .dataframe tbody tr th {\n",
       "        vertical-align: top;\n",
       "    }\n",
       "\n",
       "    .dataframe thead th {\n",
       "        text-align: right;\n",
       "    }\n",
       "</style>\n",
       "<table border=\"1\" class=\"dataframe\">\n",
       "  <thead>\n",
       "    <tr style=\"text-align: right;\">\n",
       "      <th></th>\n",
       "      <th>Unnamed: 0</th>\n",
       "      <th>aggr_num</th>\n",
       "      <th>umi.counts</th>\n",
       "      <th>gene.counts</th>\n",
       "      <th>library_id</th>\n",
       "      <th>tube_barcode</th>\n",
       "      <th>Seq_batch</th>\n",
       "      <th>Region</th>\n",
       "      <th>Lib_type</th>\n",
       "      <th>Gender</th>\n",
       "      <th>...</th>\n",
       "      <th>Live_percent</th>\n",
       "      <th>Total_Cells</th>\n",
       "      <th>Live_Cells</th>\n",
       "      <th>method</th>\n",
       "      <th>exp_component_name</th>\n",
       "      <th>mapped_reads</th>\n",
       "      <th>unmapped_reads</th>\n",
       "      <th>nonconf_mapped_reads</th>\n",
       "      <th>total.reads</th>\n",
       "      <th>doublet.score</th>\n",
       "    </tr>\n",
       "  </thead>\n",
       "  <tbody>\n",
       "    <tr>\n",
       "      <th>0</th>\n",
       "      <td>AAACCCAAGCTTCATG-1L8TX_181211_01_G12</td>\n",
       "      <td>1</td>\n",
       "      <td>55812</td>\n",
       "      <td>7122</td>\n",
       "      <td>L8TX_181211_01_G12</td>\n",
       "      <td>SM-HH8FP-1</td>\n",
       "      <td>RTX-841</td>\n",
       "      <td>MOp</td>\n",
       "      <td>Cells_FACS-tdT</td>\n",
       "      <td>Male</td>\n",
       "      <td>...</td>\n",
       "      <td>75%</td>\n",
       "      <td>7882</td>\n",
       "      <td>5898</td>\n",
       "      <td>10xv3</td>\n",
       "      <td>AAACCCAAGCTTCATG-1L8TX_181211_01_G12</td>\n",
       "      <td>141238</td>\n",
       "      <td>2460</td>\n",
       "      <td>11355</td>\n",
       "      <td>155053.0</td>\n",
       "      <td>0.154639</td>\n",
       "    </tr>\n",
       "    <tr>\n",
       "      <th>1</th>\n",
       "      <td>AAACCCAAGGCGCTTC-1L8TX_181211_01_G12</td>\n",
       "      <td>1</td>\n",
       "      <td>1670</td>\n",
       "      <td>668</td>\n",
       "      <td>L8TX_181211_01_G12</td>\n",
       "      <td>SM-HH8FP-1</td>\n",
       "      <td>RTX-841</td>\n",
       "      <td>MOp</td>\n",
       "      <td>Cells_FACS-tdT</td>\n",
       "      <td>Male</td>\n",
       "      <td>...</td>\n",
       "      <td>75%</td>\n",
       "      <td>7882</td>\n",
       "      <td>5898</td>\n",
       "      <td>10xv3</td>\n",
       "      <td>AAACCCAAGGCGCTTC-1L8TX_181211_01_G12</td>\n",
       "      <td>4160</td>\n",
       "      <td>64</td>\n",
       "      <td>1049</td>\n",
       "      <td>5273.0</td>\n",
       "      <td>0.030928</td>\n",
       "    </tr>\n",
       "    <tr>\n",
       "      <th>2</th>\n",
       "      <td>AAACCCAAGGCTTAAA-1L8TX_181211_01_G12</td>\n",
       "      <td>1</td>\n",
       "      <td>1873</td>\n",
       "      <td>406</td>\n",
       "      <td>L8TX_181211_01_G12</td>\n",
       "      <td>SM-HH8FP-1</td>\n",
       "      <td>RTX-841</td>\n",
       "      <td>MOp</td>\n",
       "      <td>Cells_FACS-tdT</td>\n",
       "      <td>Male</td>\n",
       "      <td>...</td>\n",
       "      <td>75%</td>\n",
       "      <td>7882</td>\n",
       "      <td>5898</td>\n",
       "      <td>10xv3</td>\n",
       "      <td>AAACCCAAGGCTTAAA-1L8TX_181211_01_G12</td>\n",
       "      <td>6404</td>\n",
       "      <td>47</td>\n",
       "      <td>2539</td>\n",
       "      <td>8990.0</td>\n",
       "      <td>0.000000</td>\n",
       "    </tr>\n",
       "    <tr>\n",
       "      <th>3</th>\n",
       "      <td>AAACCCAAGTGAGGTC-1L8TX_181211_01_G12</td>\n",
       "      <td>1</td>\n",
       "      <td>36622</td>\n",
       "      <td>6125</td>\n",
       "      <td>L8TX_181211_01_G12</td>\n",
       "      <td>SM-HH8FP-1</td>\n",
       "      <td>RTX-841</td>\n",
       "      <td>MOp</td>\n",
       "      <td>Cells_FACS-tdT</td>\n",
       "      <td>Male</td>\n",
       "      <td>...</td>\n",
       "      <td>75%</td>\n",
       "      <td>7882</td>\n",
       "      <td>5898</td>\n",
       "      <td>10xv3</td>\n",
       "      <td>AAACCCAAGTGAGGTC-1L8TX_181211_01_G12</td>\n",
       "      <td>90968</td>\n",
       "      <td>1351</td>\n",
       "      <td>7997</td>\n",
       "      <td>100316.0</td>\n",
       "      <td>0.163265</td>\n",
       "    </tr>\n",
       "    <tr>\n",
       "      <th>4</th>\n",
       "      <td>AAACCCACACCAGCCA-1L8TX_181211_01_G12</td>\n",
       "      <td>1</td>\n",
       "      <td>90475</td>\n",
       "      <td>8322</td>\n",
       "      <td>L8TX_181211_01_G12</td>\n",
       "      <td>SM-HH8FP-1</td>\n",
       "      <td>RTX-841</td>\n",
       "      <td>MOp</td>\n",
       "      <td>Cells_FACS-tdT</td>\n",
       "      <td>Male</td>\n",
       "      <td>...</td>\n",
       "      <td>75%</td>\n",
       "      <td>7882</td>\n",
       "      <td>5898</td>\n",
       "      <td>10xv3</td>\n",
       "      <td>AAACCCACACCAGCCA-1L8TX_181211_01_G12</td>\n",
       "      <td>240181</td>\n",
       "      <td>4107</td>\n",
       "      <td>20590</td>\n",
       "      <td>264878.0</td>\n",
       "      <td>0.164948</td>\n",
       "    </tr>\n",
       "  </tbody>\n",
       "</table>\n",
       "<p>5 rows × 35 columns</p>\n",
       "</div>"
      ],
      "text/plain": [
       "                             Unnamed: 0  aggr_num  umi.counts  gene.counts  \\\n",
       "0  AAACCCAAGCTTCATG-1L8TX_181211_01_G12         1       55812         7122   \n",
       "1  AAACCCAAGGCGCTTC-1L8TX_181211_01_G12         1        1670          668   \n",
       "2  AAACCCAAGGCTTAAA-1L8TX_181211_01_G12         1        1873          406   \n",
       "3  AAACCCAAGTGAGGTC-1L8TX_181211_01_G12         1       36622         6125   \n",
       "4  AAACCCACACCAGCCA-1L8TX_181211_01_G12         1       90475         8322   \n",
       "\n",
       "           library_id tube_barcode Seq_batch Region        Lib_type Gender  \\\n",
       "0  L8TX_181211_01_G12   SM-HH8FP-1   RTX-841    MOp  Cells_FACS-tdT   Male   \n",
       "1  L8TX_181211_01_G12   SM-HH8FP-1   RTX-841    MOp  Cells_FACS-tdT   Male   \n",
       "2  L8TX_181211_01_G12   SM-HH8FP-1   RTX-841    MOp  Cells_FACS-tdT   Male   \n",
       "3  L8TX_181211_01_G12   SM-HH8FP-1   RTX-841    MOp  Cells_FACS-tdT   Male   \n",
       "4  L8TX_181211_01_G12   SM-HH8FP-1   RTX-841    MOp  Cells_FACS-tdT   Male   \n",
       "\n",
       "   ...  Live_percent Total_Cells Live_Cells  method  \\\n",
       "0  ...           75%        7882       5898   10xv3   \n",
       "1  ...           75%        7882       5898   10xv3   \n",
       "2  ...           75%        7882       5898   10xv3   \n",
       "3  ...           75%        7882       5898   10xv3   \n",
       "4  ...           75%        7882       5898   10xv3   \n",
       "\n",
       "                     exp_component_name mapped_reads unmapped_reads  \\\n",
       "0  AAACCCAAGCTTCATG-1L8TX_181211_01_G12       141238           2460   \n",
       "1  AAACCCAAGGCGCTTC-1L8TX_181211_01_G12         4160             64   \n",
       "2  AAACCCAAGGCTTAAA-1L8TX_181211_01_G12         6404             47   \n",
       "3  AAACCCAAGTGAGGTC-1L8TX_181211_01_G12        90968           1351   \n",
       "4  AAACCCACACCAGCCA-1L8TX_181211_01_G12       240181           4107   \n",
       "\n",
       "   nonconf_mapped_reads total.reads  doublet.score  \n",
       "0                 11355    155053.0       0.154639  \n",
       "1                  1049      5273.0       0.030928  \n",
       "2                  2539      8990.0       0.000000  \n",
       "3                  7997    100316.0       0.163265  \n",
       "4                 20590    264878.0       0.164948  \n",
       "\n",
       "[5 rows x 35 columns]"
      ]
     },
     "execution_count": 10,
     "metadata": {},
     "output_type": "execute_result"
    }
   ],
   "source": [
    "meta_a08 = pd.read_csv('/home/tchari/metadata/allen_sc_sample_metadata.csv')\n",
    "meta_a08.head()"
   ]
  },
  {
   "cell_type": "code",
   "execution_count": 34,
   "id": "e4c5edfb",
   "metadata": {},
   "outputs": [
    {
     "data": {
      "text/html": [
       "<div>\n",
       "<style scoped>\n",
       "    .dataframe tbody tr th:only-of-type {\n",
       "        vertical-align: middle;\n",
       "    }\n",
       "\n",
       "    .dataframe tbody tr th {\n",
       "        vertical-align: top;\n",
       "    }\n",
       "\n",
       "    .dataframe thead th {\n",
       "        text-align: right;\n",
       "    }\n",
       "</style>\n",
       "<table border=\"1\" class=\"dataframe\">\n",
       "  <thead>\n",
       "    <tr style=\"text-align: right;\">\n",
       "      <th></th>\n",
       "      <th>cluster_id</th>\n",
       "      <th>cluster_label</th>\n",
       "      <th>subclass_label</th>\n",
       "      <th>class_label</th>\n",
       "      <th>cluster_color</th>\n",
       "      <th>size</th>\n",
       "    </tr>\n",
       "  </thead>\n",
       "  <tbody>\n",
       "    <tr>\n",
       "      <th>0</th>\n",
       "      <td>1</td>\n",
       "      <td>Lamp5 Pax6</td>\n",
       "      <td>Lamp5</td>\n",
       "      <td>GABAergic</td>\n",
       "      <td>#DDACC9</td>\n",
       "      <td>81</td>\n",
       "    </tr>\n",
       "    <tr>\n",
       "      <th>1</th>\n",
       "      <td>2</td>\n",
       "      <td>Lamp5 Egln3_2_1</td>\n",
       "      <td>Lamp5</td>\n",
       "      <td>GABAergic</td>\n",
       "      <td>#DD8091</td>\n",
       "      <td>179</td>\n",
       "    </tr>\n",
       "    <tr>\n",
       "      <th>2</th>\n",
       "      <td>3</td>\n",
       "      <td>Lamp5 Pdlim5_1</td>\n",
       "      <td>Lamp5</td>\n",
       "      <td>GABAergic</td>\n",
       "      <td>#FF829E</td>\n",
       "      <td>247</td>\n",
       "    </tr>\n",
       "    <tr>\n",
       "      <th>3</th>\n",
       "      <td>4</td>\n",
       "      <td>Lamp5 Pdlim5_2</td>\n",
       "      <td>Lamp5</td>\n",
       "      <td>GABAergic</td>\n",
       "      <td>#FF7290</td>\n",
       "      <td>537</td>\n",
       "    </tr>\n",
       "    <tr>\n",
       "      <th>4</th>\n",
       "      <td>5</td>\n",
       "      <td>Lamp5 Slc35d3_1</td>\n",
       "      <td>Lamp5</td>\n",
       "      <td>GABAergic</td>\n",
       "      <td>#FFA388</td>\n",
       "      <td>1275</td>\n",
       "    </tr>\n",
       "  </tbody>\n",
       "</table>\n",
       "</div>"
      ],
      "text/plain": [
       "   cluster_id    cluster_label subclass_label class_label cluster_color  size\n",
       "0           1       Lamp5 Pax6          Lamp5   GABAergic       #DDACC9    81\n",
       "1           2  Lamp5 Egln3_2_1          Lamp5   GABAergic       #DD8091   179\n",
       "2           3   Lamp5 Pdlim5_1          Lamp5   GABAergic       #FF829E   247\n",
       "3           4   Lamp5 Pdlim5_2          Lamp5   GABAergic       #FF7290   537\n",
       "4           5  Lamp5 Slc35d3_1          Lamp5   GABAergic       #FFA388  1275"
      ]
     },
     "execution_count": 34,
     "metadata": {},
     "output_type": "execute_result"
    }
   ],
   "source": [
    "a08_members = pd.read_csv('/home/tchari/metadata/allen_sc_cluster.membership.csv')\n",
    "a08_annots =  pd.read_csv('/home/tchari/metadata/allen_sc_cluster.annotation.csv')\n",
    "a08_annots.head()"
   ]
  },
  {
   "cell_type": "code",
   "execution_count": 85,
   "id": "27e19986",
   "metadata": {},
   "outputs": [],
   "source": [
    "sub_meta = meta_a08[meta_a08.library_id.isin(['L8TX_190430_01_A08'])]\n",
    "sublab = []\n",
    "classlab = []\n",
    "bars_filt = []\n",
    "for b in list(sub_meta['Unnamed: 0']):\n",
    "    ind = a08_members['Unnamed: 0'] == b\n",
    "    if np.sum(ind) >0:\n",
    "        lab = list(a08_members['x'][ind])[0]\n",
    "\n",
    "        ind2 = a08_annots['cluster_id'] == lab\n",
    "        testlab = list(a08_annots['subclass_label'][ind2])[0]\n",
    "        if (testlab not in ['Low Quality','doublet','L5 ET','L6 IT Car3','SMC']): #Remove types < 10 cells/low quality\n",
    "            sublab += list(a08_annots['subclass_label'][ind2])\n",
    "            classlab += list(a08_annots['class_label'][ind2])\n",
    "\n",
    "            bars_filt += [b[:b.index('-')]]\n",
    "    "
   ]
  },
  {
   "cell_type": "code",
   "execution_count": 86,
   "id": "166f4c30",
   "metadata": {},
   "outputs": [
    {
     "data": {
      "text/plain": [
       "5904"
      ]
     },
     "execution_count": 86,
     "metadata": {},
     "output_type": "execute_result"
    }
   ],
   "source": [
    "len(bars_filt)"
   ]
  },
  {
   "cell_type": "code",
   "execution_count": null,
   "id": "bdcac7da",
   "metadata": {},
   "outputs": [],
   "source": []
  },
  {
   "cell_type": "code",
   "execution_count": 88,
   "id": "85e182ae",
   "metadata": {},
   "outputs": [],
   "source": [
    "filt_inds = [list(bars).index(b) for b in bars_filt]\n",
    "U_sub = U[:,filt_inds]\n",
    "S_sub = S[:,filt_inds]\n",
    "bars_sub = bars_filt"
   ]
  },
  {
   "cell_type": "code",
   "execution_count": null,
   "id": "8cd9dd38",
   "metadata": {},
   "outputs": [],
   "source": []
  },
  {
   "cell_type": "code",
   "execution_count": 89,
   "id": "efc8f808",
   "metadata": {},
   "outputs": [],
   "source": [
    "#Save as loom with raw counts, test saving as h5\n",
    "retAdata = anndata.AnnData(\n",
    "\t\t\tX=S_sub.T,\n",
    "\t\t\tlayers={\n",
    "\t\t\t\t'spliced': S_sub.T,\n",
    "\t\t\t\t'unspliced': U_sub.T\n",
    "\t\t\t},\n",
    "\t\t\tobs=pd.DataFrame({'barcode': bars_filt,'subclass_label':sublab,'class_label':classlab},index=bars_filt),\n",
    "\t\t\tvar=pd.DataFrame({'gene_name': genes},index=genes)\n",
    "\t\t)\n",
    "\n",
    "retAdata.write_loom('/home/tchari/counts/allen_bivi/loom/processed_allen_A08_raw.loom')\n",
    "\n",
    "#Another notebook for converting looms to SeuratData for WNN"
   ]
  },
  {
   "cell_type": "code",
   "execution_count": 61,
   "id": "9ec37f51",
   "metadata": {},
   "outputs": [
    {
     "data": {
      "text/plain": [
       "['barcode', 'class_label', 'obs_names', 'subclass_label']"
      ]
     },
     "execution_count": 61,
     "metadata": {},
     "output_type": "execute_result"
    }
   ],
   "source": [
    "# test = lp.connect('/home/tchari/counts/allen_bivi/loom/processed_allen_A08_raw.loom')\n",
    "# test.ca.keys()\n",
    "# test.close()"
   ]
  },
  {
   "cell_type": "code",
   "execution_count": 97,
   "id": "6887cb24",
   "metadata": {},
   "outputs": [],
   "source": [
    "# #Test writing h5 file for scMDC and scDeepCluster\n",
    "# hf = h5py.File('data.h5', 'w')\n",
    "# hf.create_dataset('X1', data=U_sub.T)\n",
    "# hf.create_dataset('X2', data=S_sub.T)\n",
    "# hf.create_dataset('Y', data=sublab)\n",
    "# hf.close()\n",
    "\n",
    "# test = h5py.File('data.h5')\n",
    "# test.close()"
   ]
  },
  {
   "cell_type": "markdown",
   "id": "386e3ee4",
   "metadata": {},
   "source": [
    "Single-nucleus BICCN data processing"
   ]
  },
  {
   "cell_type": "code",
   "execution_count": 103,
   "id": "fc11f55f",
   "metadata": {},
   "outputs": [
    {
     "data": {
      "text/html": [
       "<div>\n",
       "<style scoped>\n",
       "    .dataframe tbody tr th:only-of-type {\n",
       "        vertical-align: middle;\n",
       "    }\n",
       "\n",
       "    .dataframe tbody tr th {\n",
       "        vertical-align: top;\n",
       "    }\n",
       "\n",
       "    .dataframe thead th {\n",
       "        text-align: right;\n",
       "    }\n",
       "</style>\n",
       "<table border=\"1\" class=\"dataframe\">\n",
       "  <thead>\n",
       "    <tr style=\"text-align: right;\">\n",
       "      <th></th>\n",
       "      <th>cluster_id</th>\n",
       "      <th>cluster_label</th>\n",
       "      <th>subclass_label</th>\n",
       "      <th>class_label</th>\n",
       "      <th>cluster_color</th>\n",
       "      <th>size</th>\n",
       "    </tr>\n",
       "  </thead>\n",
       "  <tbody>\n",
       "    <tr>\n",
       "      <th>0</th>\n",
       "      <td>1</td>\n",
       "      <td>Lamp5 Pax6</td>\n",
       "      <td>Lamp5</td>\n",
       "      <td>GABAergic</td>\n",
       "      <td>#DDACC9</td>\n",
       "      <td>65</td>\n",
       "    </tr>\n",
       "    <tr>\n",
       "      <th>1</th>\n",
       "      <td>2</td>\n",
       "      <td>Lamp5 Egln3</td>\n",
       "      <td>Lamp5</td>\n",
       "      <td>GABAergic</td>\n",
       "      <td>#DD8091</td>\n",
       "      <td>105</td>\n",
       "    </tr>\n",
       "    <tr>\n",
       "      <th>2</th>\n",
       "      <td>3</td>\n",
       "      <td>Lamp5 Pdlim5</td>\n",
       "      <td>Lamp5</td>\n",
       "      <td>GABAergic</td>\n",
       "      <td>#FF7290</td>\n",
       "      <td>257</td>\n",
       "    </tr>\n",
       "    <tr>\n",
       "      <th>3</th>\n",
       "      <td>4</td>\n",
       "      <td>Lamp5 Slc35d3</td>\n",
       "      <td>Lamp5</td>\n",
       "      <td>GABAergic</td>\n",
       "      <td>#FFA388</td>\n",
       "      <td>484</td>\n",
       "    </tr>\n",
       "    <tr>\n",
       "      <th>4</th>\n",
       "      <td>5</td>\n",
       "      <td>Lamp5 Lhx6</td>\n",
       "      <td>Lamp5</td>\n",
       "      <td>GABAergic</td>\n",
       "      <td>#C77963</td>\n",
       "      <td>39</td>\n",
       "    </tr>\n",
       "  </tbody>\n",
       "</table>\n",
       "</div>"
      ],
      "text/plain": [
       "   cluster_id  cluster_label subclass_label class_label cluster_color  size\n",
       "0           1     Lamp5 Pax6          Lamp5   GABAergic       #DDACC9    65\n",
       "1           2    Lamp5 Egln3          Lamp5   GABAergic       #DD8091   105\n",
       "2           3   Lamp5 Pdlim5          Lamp5   GABAergic       #FF7290   257\n",
       "3           4  Lamp5 Slc35d3          Lamp5   GABAergic       #FFA388   484\n",
       "4           5     Lamp5 Lhx6          Lamp5   GABAergic       #C77963    39"
      ]
     },
     "execution_count": 103,
     "metadata": {},
     "output_type": "execute_result"
    }
   ],
   "source": [
    "#Get metadata from https://data.nemoarchive.org/biccn/lab/zeng/transcriptome/sncell/10x_v3/mouse/processed/analysis/10X_nuclei_v3_AIBS/\n",
    "\n",
    "meta_nuc = pd.read_csv('/home/tchari/metadata/allen_nuc_sample_metadata.csv')\n",
    "nuc_members = pd.read_csv('/home/tchari/metadata/allen_nuc_cluster.membership.csv')\n",
    "nuc_annots =  pd.read_csv('/home/tchari/metadata/allen_nuc_cluster.annotation.csv')\n",
    "nuc_annots.head()"
   ]
  },
  {
   "cell_type": "code",
   "execution_count": 120,
   "id": "faf91b2a",
   "metadata": {},
   "outputs": [
    {
     "data": {
      "text/plain": [
       "(array([9.179e+03, 5.116e+03, 2.253e+03, 5.710e+02, 1.710e+02, 5.200e+01,\n",
       "        1.800e+01, 5.000e+00, 1.000e+00, 1.000e+00]),\n",
       " array([   779. ,  11279.2,  21779.4,  32279.6,  42779.8,  53280. ,\n",
       "         63780.2,  74280.4,  84780.6,  95280.8, 105781. ]),\n",
       " <BarContainer object of 10 artists>)"
      ]
     },
     "execution_count": 120,
     "metadata": {},
     "output_type": "execute_result"
    },
    {
     "data": {
      "image/png": "[encoded data removed]",
      "text/plain": [
       "<Figure size 432x288 with 1 Axes>"
      ]
     },
     "metadata": {
      "needs_background": "light"
     },
     "output_type": "display_data"
    }
   ],
   "source": [
    "#plt.hist(meta_nuc['umi.counts'][meta_nuc.library_id.isin(['L8TX_181211_01_A02'])])\n",
    "plt.hist(meta_nuc['umi.counts'][meta_nuc.library_id.isin(['L8TX_181211_01_B02'])],alpha=0.7)\n",
    "#plt.hist(meta_nuc['umi.counts'][meta_nuc.library_id.isin(['L8TX_181211_01_D02'])],alpha=0.5)\n",
    "plt.hist(meta_nuc['umi.counts'][meta_nuc.library_id.isin(['L8TX_181211_01_H01'])],alpha=0.4)\n",
    "#plt.hist(meta_nuc['umi.counts'][meta_nuc.library_id.isin(['L8TX_181211_01_C02'])],alpha=0.5)"
   ]
  },
  {
   "cell_type": "code",
   "execution_count": null,
   "id": "6a2d8506",
   "metadata": {},
   "outputs": [],
   "source": [
    "#Get fastqs from https://data.nemoarchive.org/biccn/lab/zeng/transcriptome/sncell/10x_v3/mouse/raw/MOp/\n",
    "#For B02 and H01\n",
    "#https://data.nemoarchive.org/biccn/lab/zeng/transcriptome/sncell/10x_v3/mouse/raw/MOp/L8TX_181211_01_B02_S01_L003.fastq.tar\n",
    "#https://data.nemoarchive.org/biccn/lab/zeng/transcriptome/sncell/10x_v3/mouse/raw/MOp/L8TX_181211_01_H01_S01_L003.fastq.tar\n",
    "\n",
    "\n",
    "# generate count matrices from allen data \n",
    "# allen B02 (nuclear)\n",
    "! kb count --verbose \\\n",
    "-i /home/ggorin/ref/refdata-gex-mm10-2020-A/kallisto/index.idx \\\n",
    "-g /home/ggorin/ref/refdata-gex-mm10-2020-A/t2g_mm10.txt \\\n",
    "-x 10xv3 \\\n",
    "-o /home/tchari/counts/allen_bivi/B02/ \\\n",
    "-t 30 -m 30G \\\n",
    "-c1 /home/ggorin/ref/refdata-gex-mm10-2020-A/kallisto/cdna_t2c.txt \\\n",
    "-c2 /home/ggorin/ref/refdata-gex-mm10-2020-A/kallisto/intron_t2c.txt \\\n",
    "--workflow lamanno --filter bustools --overwrite --loom \\\n",
    "/home/tchari/counts/allen_bivi/L8TX_181211_01_B02_S01_L003/L8TX_181211_01_B02_S01_L003_R1_001.fastq.gz \\\n",
    "/home/tchari/counts/allen_bivi/L8TX_181211_01_B02_S01_L003/L8TX_181211_01_B02_S01_L003_R2_001.fastq.gz\n"
   ]
  },
  {
   "cell_type": "code",
   "execution_count": null,
   "id": "ded862a3",
   "metadata": {},
   "outputs": [],
   "source": [
    "#Read in looms from kb\n",
    "\n",
    "a08 = lp.connect('/home/tchari/counts/allen_bivi/loom/allen_A08_raw.loom')\n",
    "bars = a08.ca['barcode']\n",
    "print(bars[0])\n",
    "genes = a08.ra['gene_name']\n",
    "U = a08.layers['unspliced'][:,:]\n",
    "S = a08.layers['spliced'][:,:]\n",
    "print(S.shape)"
   ]
  },
  {
   "cell_type": "code",
   "execution_count": null,
   "id": "bf353d01",
   "metadata": {},
   "outputs": [],
   "source": [
    "#Filter for cells in annotation\n",
    "\n",
    "sub_meta = meta_a08[meta_a08.library_id.isin(['L8TX_190430_01_A08'])]\n"
   ]
  },
  {
   "cell_type": "code",
   "execution_count": null,
   "id": "89a7d369",
   "metadata": {},
   "outputs": [],
   "source": [
    "#OR JUST DO THE TOP 10 CLUSTERS\n",
    "sublab = []\n",
    "classlab = []\n",
    "bars_filt = []\n",
    "for b in list(sub_meta['Unnamed: 0']):\n",
    "    ind = a08_members['Unnamed: 0'] == b\n",
    "    if np.sum(ind) >0:\n",
    "        lab = list(a08_members['x'][ind])[0]\n",
    "\n",
    "        ind2 = a08_annots['cluster_id'] == lab\n",
    "        testlab = list(a08_annots['subclass_label'][ind2])[0]\n",
    "        if (testlab not in ['Low Quality','doublet','L5 ET','L6 IT Car3','SMC']): #Remove types < 10 cells/low quality\n",
    "            sublab += list(a08_annots['subclass_label'][ind2])\n",
    "            classlab += list(a08_annots['class_label'][ind2])\n",
    "\n",
    "            bars_filt += [b[:b.index('-')]]\n",
    "    "
   ]
  },
  {
   "cell_type": "code",
   "execution_count": null,
   "id": "8099367d",
   "metadata": {},
   "outputs": [],
   "source": [
    "#Save loom"
   ]
  },
  {
   "cell_type": "code",
   "execution_count": null,
   "id": "6cb7d3f0",
   "metadata": {},
   "outputs": [],
   "source": []
  },
  {
   "cell_type": "markdown",
   "id": "32ce652e",
   "metadata": {},
   "source": [
    "### **scMixology Benchmark Datasets**\n",
    "\n",
    "Need to generate from fastqs, original study only does exon-mapping (S only), 10xv2, Human"
   ]
  },
  {
   "cell_type": "code",
   "execution_count": null,
   "id": "a1d619d3",
   "metadata": {},
   "outputs": [],
   "source": [
    "#5 cell line 10x metadata\n",
    "#metadata from https://github.com/LuyiTian/sc_mixology/blob/master/misc/single_cell_annotations/GSM3618014_10x_5cl_metadata.csv\n",
    "#https://github.com/LuyiTian/sc_mixology/blob/master/misc/single_cell_annotations/barcode_10x_5cl.csv\n",
    "\n",
    "\n"
   ]
  },
  {
   "cell_type": "code",
   "execution_count": null,
   "id": "992251d0",
   "metadata": {},
   "outputs": [],
   "source": [
    "#3 cell line 10x metadata\n",
    "#Metadata from https://github.com/LuyiTian/sc_mixology/blob/master/misc/single_cell_annotations/GSM3022245_10x_3cl_metadata.csv\n",
    "#https://github.com/LuyiTian/sc_mixology/blob/master/misc/single_cell_annotations/GSM3022245_index_anno.csv\n"
   ]
  },
  {
   "cell_type": "code",
   "execution_count": null,
   "id": "5d676ee6",
   "metadata": {},
   "outputs": [],
   "source": [
    "#5 cell line mix, GSM3618014\n",
    "!prefetch SRR8606521 --max-size 30000000000 -O ./ && fasterq-dump --include-technical --split-files SRR8606521"
   ]
  },
  {
   "cell_type": "code",
   "execution_count": null,
   "id": "32050f36",
   "metadata": {},
   "outputs": [],
   "source": []
  },
  {
   "cell_type": "code",
   "execution_count": null,
   "id": "b81265f0",
   "metadata": {},
   "outputs": [],
   "source": [
    "#3 cell line mix (should concatenate R1s and R2s), GSM3022245\n",
    "\n",
    "\n",
    "SRR6782109\n",
    "SRR6782110\n",
    "SRR6782111\n",
    "SRR6782112  (10gb enough)\n",
    "\n",
    "\n"
   ]
  },
  {
   "cell_type": "code",
   "execution_count": null,
   "id": "14ebe2ad",
   "metadata": {},
   "outputs": [],
   "source": [
    "#5 cell line\n",
    "kb count --verbose \\\n",
    "-i /home/ggorin/ref/refdata-gex-GRCh38-2020-A/kallisto/index.idx \\\n",
    "-g /home/ggorin/ref/refdata-gex-GRCh38-2020-A/t2g_grch38.txt \\\n",
    "-x 10xv2 \\\n",
    "-o ../counts/norman_crispr/gem1/ \\\n",
    "-t 30 -m 30G \\\n",
    "-c1 /home/ggorin/ref/refdata-gex-GRCh38-2020-A/kallisto/cdna_t2c.txt \\\n",
    "-c2 /home/ggorin/ref/refdata-gex-GRCh38-2020-A/kallisto/intron_t2c.txt \\\n",
    "--workflow lamanno --filter bustools --overwrite --loom \\\n",
    "../counts/norman_crispr/fastq/SRR9602535_1.fastq.gz \\\n",
    "../counts/norman_crispr/fastq/SRR9602535_2.fastq.gz\n"
   ]
  },
  {
   "cell_type": "code",
   "execution_count": null,
   "id": "81193b54",
   "metadata": {},
   "outputs": [],
   "source": [
    "#3 cell line\n",
    "\n",
    "kb count --verbose \\\n",
    "-i /home/ggorin/ref/refdata-gex-GRCh38-2020-A/kallisto/index.idx \\\n",
    "-g /home/ggorin/ref/refdata-gex-GRCh38-2020-A/t2g_grch38.txt \\\n",
    "-x 10xv2 \\\n",
    "-o ../counts/norman_crispr/gem1/ \\\n",
    "-t 30 -m 30G \\\n",
    "-c1 /home/ggorin/ref/refdata-gex-GRCh38-2020-A/kallisto/cdna_t2c.txt \\\n",
    "-c2 /home/ggorin/ref/refdata-gex-GRCh38-2020-A/kallisto/intron_t2c.txt \\\n",
    "--workflow lamanno --filter bustools --overwrite --loom \\\n",
    "../counts/norman_crispr/fastq/SRR9602535_1.fastq.gz \\\n",
    "../counts/norman_crispr/fastq/SRR9602535_2.fastq.gz \\\n",
    "../counts/norman_crispr/fastq/SRR9602536_1.fastq.gz  \\\n",
    "../counts/norman_crispr/fastq/SRR9602536_2.fastq.gz & \\\n"
   ]
  },
  {
   "cell_type": "code",
   "execution_count": null,
   "id": "9c316a13",
   "metadata": {},
   "outputs": [],
   "source": []
  },
  {
   "cell_type": "code",
   "execution_count": null,
   "id": "59a6b86a",
   "metadata": {},
   "outputs": [],
   "source": []
  },
  {
   "cell_type": "markdown",
   "id": "11b0ce4f",
   "metadata": {},
   "source": [
    "## **Exploratory Datasets**"
   ]
  },
  {
   "cell_type": "markdown",
   "id": "3da6464a",
   "metadata": {},
   "source": [
    "### **Mouse Breast Cancer Data**\n",
    "\n",
    "Process from fastqs to get U/S, 10xv2, Genes will be HVGs + \n",
    "Breast cancer marker genes\n",
    "\n",
    "https://www.ncbi.nlm.nih.gov/pmc/articles/PMC3045364/ (markers)"
   ]
  },
  {
   "cell_type": "code",
   "execution_count": null,
   "id": "5d1e15b6",
   "metadata": {},
   "outputs": [],
   "source": [
    "#BRCA1null tumor data https://www.ncbi.nlm.nih.gov/geo/query/acc.cgi?acc=GSM4023823\n",
    "\n",
    "\n",
    "\n",
    "SRR9938469\n",
    "SRR9938470"
   ]
  },
  {
   "cell_type": "code",
   "execution_count": null,
   "id": "811958d7",
   "metadata": {},
   "outputs": [],
   "source": [
    "#Metadata https://ftp.ncbi.nlm.nih.gov/geo/samples/GSM4023nnn/GSM4023823/suppl/GSM4023823%5FBRCA1%5FB%5Fbarcodes.tsv.gz\n",
    "#GSM4023823_BRCA1_B_barcodes.tsv\n"
   ]
  },
  {
   "cell_type": "code",
   "execution_count": null,
   "id": "7ceeaae9",
   "metadata": {},
   "outputs": [],
   "source": []
  },
  {
   "cell_type": "code",
   "execution_count": null,
   "id": "bdcc3a1c",
   "metadata": {},
   "outputs": [],
   "source": [
    "kb count --verbose \\\n",
    "-i /home/ggorin/ref/refdata-gex-mm10-2020-A/kallisto/index.idx \\\n",
    "-g /home/ggorin/ref/refdata-gex-mm10-2020-A/t2g_mm10.txt \\\n",
    "-x 10xv2 \\\n",
    "-o ../counts/norman_crispr/gem1/ \\\n",
    "-t 30 -m 30G \\\n",
    "-c1 /home/ggorin/ref/refdata-gex-mm10-2020-A/kallisto/cdna_t2c.txt \\\n",
    "-c2 /home/ggorin/ref/refdata-gex-mm10-2020-A/kallisto/intron_t2c.txt \\\n",
    "--workflow lamanno --filter bustools --overwrite --loom \\\n",
    "../counts/norman_crispr/fastq/SRR9602535_1.fastq.gz \\\n",
    "../counts/norman_crispr/fastq/SRR9602535_2.fastq.gz \\\n",
    "../counts/norman_crispr/fastq/SRR9602536_1.fastq.gz  \\\n",
    "../counts/norman_crispr/fastq/SRR9602536_2.fastq.gz & \\\n"
   ]
  },
  {
   "cell_type": "code",
   "execution_count": null,
   "id": "5ad73fcf",
   "metadata": {},
   "outputs": [],
   "source": [
    "#our own filtering"
   ]
  },
  {
   "cell_type": "markdown",
   "id": "9c13f6d7",
   "metadata": {},
   "source": [
    "### **10x 10k PBMC Dataset**\n",
    "\n",
    "From 10x Genomics, minimal annotations, 10xv3, Human, Genes = literature annotation of PBMC-relevant markers"
   ]
  },
  {
   "cell_type": "code",
   "execution_count": null,
   "id": "f439df19",
   "metadata": {},
   "outputs": [],
   "source": []
  },
  {
   "cell_type": "code",
   "execution_count": null,
   "id": "d11efde8",
   "metadata": {},
   "outputs": [],
   "source": []
  },
  {
   "cell_type": "code",
   "execution_count": null,
   "id": "eb2e8e19",
   "metadata": {},
   "outputs": [],
   "source": []
  },
  {
   "cell_type": "code",
   "execution_count": null,
   "id": "261f4d02",
   "metadata": {},
   "outputs": [],
   "source": [
    "#our own filtering"
   ]
  },
  {
   "cell_type": "markdown",
   "id": "373cae63",
   "metadata": {},
   "source": [
    "### **Developing Germ Cell Dataset**\n",
    "\n",
    "Combine two timepoints, 10xv2, Mouse, Genes will be HVGs+ Dev. relevant genes"
   ]
  },
  {
   "cell_type": "code",
   "execution_count": null,
   "id": "c122b9f0",
   "metadata": {},
   "outputs": [],
   "source": [
    "#download data, U/S counts\n",
    "!wget https://ftp.ncbi.nlm.nih.gov/geo/series/GSE136nnn/GSE136220/suppl/GSE136220%5Fraw%5Fcounts%5Fmatrix%5Fpgcs%5Fno%5Fadrenal.csv.gz && wget https://ftp.ncbi.nlm.nih.gov/geo/series/GSE136nnn/GSE136220/suppl/GSE136220%5Fraw%5Fcounts%5Fmatrix%5Fpgcs%5Fno%5Fadrenal%5Funspliced.csv.gz\n",
    "        \n",
    "        "
   ]
  },
  {
   "cell_type": "code",
   "execution_count": null,
   "id": "8c9784dc",
   "metadata": {},
   "outputs": [],
   "source": [
    "#Combine germ_allconds_170802_T_E13, germ_allconds_170814_AGPF_E11\n"
   ]
  },
  {
   "cell_type": "code",
   "execution_count": null,
   "id": "b0f1c249",
   "metadata": {},
   "outputs": [],
   "source": []
  },
  {
   "cell_type": "code",
   "execution_count": null,
   "id": "2b34a3d1",
   "metadata": {},
   "outputs": [],
   "source": []
  },
  {
   "cell_type": "code",
   "execution_count": null,
   "id": "16d5995e",
   "metadata": {},
   "outputs": [],
   "source": [
    "#our own filtering"
   ]
  },
  {
   "cell_type": "markdown",
   "id": "3fb2fd17",
   "metadata": {},
   "source": [
    "## **Timing Dataset**"
   ]
  },
  {
   "cell_type": "markdown",
   "id": "dcaccd44",
   "metadata": {},
   "source": [
    "### **Developing Mouse Brain**\n",
    "\n",
    "La manno/Linnarson data, for testing size/scaling"
   ]
  },
  {
   "cell_type": "code",
   "execution_count": null,
   "id": "36134e08",
   "metadata": {},
   "outputs": [],
   "source": [
    "#Data from http://mousebrain.org/development/downloads.html (dev_all.loom)"
   ]
  },
  {
   "cell_type": "code",
   "execution_count": null,
   "id": "759ceff8",
   "metadata": {},
   "outputs": [],
   "source": []
  },
  {
   "cell_type": "code",
   "execution_count": null,
   "id": "19a364c2",
   "metadata": {},
   "outputs": [],
   "source": []
  },
  {
   "cell_type": "code",
   "execution_count": null,
   "id": "186d0281",
   "metadata": {},
   "outputs": [],
   "source": []
  },
  {
   "cell_type": "code",
   "execution_count": null,
   "id": "0a53d2dd",
   "metadata": {},
   "outputs": [],
   "source": [
    "#no monod fitting here"
   ]
  },
  {
   "cell_type": "markdown",
   "id": "697b4fdd",
   "metadata": {},
   "source": [
    "## **Run Monod on Data to get Technical Param Estimates**\n",
    "\n",
    "Run on all relevant datasets"
   ]
  },
  {
   "cell_type": "code",
   "execution_count": null,
   "id": "88ba6861",
   "metadata": {},
   "outputs": [],
   "source": [
    "#Define loom and transcriptome for each dataset (Filtered cells beforehand)"
   ]
  }
 ],
 "metadata": {
  "kernelspec": {
   "display_name": "Python 3 (ipykernel)",
   "language": "python",
   "name": "python3"
  },
  "language_info": {
   "codemirror_mode": {
    "name": "ipython",
    "version": 3
   },
   "file_extension": ".py",
   "mimetype": "text/x-python",
   "name": "python",
   "nbconvert_exporter": "python",
   "pygments_lexer": "ipython3",
   "version": "3.7.11"
  }
 },
 "nbformat": 4,
 "nbformat_minor": 5
}
