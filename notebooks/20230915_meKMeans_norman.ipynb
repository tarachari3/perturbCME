{
 "cells": [
  {
   "cell_type": "markdown",
   "id": "9630c3e8",
   "metadata": {},
   "source": [
    "## **Load *Monod*+meK-Means and Packages**"
   ]
  },
  {
   "cell_type": "code",
   "execution_count": 48,
   "id": "8e275078",
   "metadata": {},
   "outputs": [],
   "source": [
    "import sys\n",
    "sys.path.insert(0, '/home/tchari/monod/src/')"
   ]
  },
  {
   "cell_type": "code",
   "execution_count": 49,
   "id": "f15d8045",
   "metadata": {},
   "outputs": [],
   "source": [
    "import monod\n",
    "from monod import preprocess, extract_data, cme_toolbox, inference, analysis, mminference"
   ]
  },
  {
   "cell_type": "code",
   "execution_count": 50,
   "id": "da9f632f",
   "metadata": {},
   "outputs": [],
   "source": [
    "import pandas as pd\n",
    "import numpy as np\n",
    "import loompy as lp\n",
    "import matplotlib.pyplot as plt\n",
    "import scipy\n",
    "import seaborn as sns\n",
    "import scipy.stats\n",
    "\n",
    "from sklearn.ensemble import ExtraTreesClassifier, RandomForestClassifier, ExtraTreesRegressor, RandomForestRegressor\n",
    "from sklearn.model_selection import train_test_split, ShuffleSplit\n",
    "from sklearn.metrics import accuracy_score, classification_report\n",
    "\n",
    "import os\n",
    "\n",
    "import sklearn\n",
    "import scanpy as sc\n",
    "import anndata"
   ]
  },
  {
   "cell_type": "code",
   "execution_count": 51,
   "id": "93d949f4",
   "metadata": {},
   "outputs": [],
   "source": [
    "%matplotlib inline\n",
    "%config InlineBackend.figure_format = 'retina'"
   ]
  },
  {
   "cell_type": "markdown",
   "id": "264cb33a",
   "metadata": {},
   "source": [
    "## **Load Metadata and Select Genes for Inference Across Conditions**"
   ]
  },
  {
   "cell_type": "code",
   "execution_count": 52,
   "id": "de81c2ee",
   "metadata": {},
   "outputs": [],
   "source": [
    "#Test with controls for now, and remove later if necessary "
   ]
  },
  {
   "cell_type": "code",
   "execution_count": 53,
   "id": "afe0a934",
   "metadata": {},
   "outputs": [
    {
     "data": {
      "text/html": [
       "<div>\n",
       "<style scoped>\n",
       "    .dataframe tbody tr th:only-of-type {\n",
       "        vertical-align: middle;\n",
       "    }\n",
       "\n",
       "    .dataframe tbody tr th {\n",
       "        vertical-align: top;\n",
       "    }\n",
       "\n",
       "    .dataframe thead th {\n",
       "        text-align: right;\n",
       "    }\n",
       "</style>\n",
       "<table border=\"1\" class=\"dataframe\">\n",
       "  <thead>\n",
       "    <tr style=\"text-align: right;\">\n",
       "      <th></th>\n",
       "      <th>cell_barcode</th>\n",
       "      <th>guide_identity</th>\n",
       "      <th>read_count</th>\n",
       "      <th>UMI_count</th>\n",
       "      <th>coverage</th>\n",
       "      <th>gemgroup</th>\n",
       "      <th>good_coverage</th>\n",
       "      <th>number_of_cells</th>\n",
       "    </tr>\n",
       "  </thead>\n",
       "  <tbody>\n",
       "    <tr>\n",
       "      <th>0</th>\n",
       "      <td>TTGAACGAGACTCGGA-2</td>\n",
       "      <td>ARID1A_NegCtrl0__ARID1A_NegCtrl0</td>\n",
       "      <td>28684</td>\n",
       "      <td>1809</td>\n",
       "      <td>15.856274</td>\n",
       "      <td>2</td>\n",
       "      <td>True</td>\n",
       "      <td>1</td>\n",
       "    </tr>\n",
       "    <tr>\n",
       "      <th>1</th>\n",
       "      <td>CGTTGGGGTGTTTGTG-7</td>\n",
       "      <td>BCORL1_NegCtrl0__BCORL1_NegCtrl0</td>\n",
       "      <td>18367</td>\n",
       "      <td>896</td>\n",
       "      <td>20.498884</td>\n",
       "      <td>7</td>\n",
       "      <td>True</td>\n",
       "      <td>1</td>\n",
       "    </tr>\n",
       "    <tr>\n",
       "      <th>2</th>\n",
       "      <td>GAACCTAAGTGTTAGA-6</td>\n",
       "      <td>FOSB_NegCtrl0__FOSB_NegCtrl0</td>\n",
       "      <td>16296</td>\n",
       "      <td>664</td>\n",
       "      <td>24.542169</td>\n",
       "      <td>6</td>\n",
       "      <td>True</td>\n",
       "      <td>1</td>\n",
       "    </tr>\n",
       "    <tr>\n",
       "      <th>3</th>\n",
       "      <td>CCTTCCCTCCGTCATC-4</td>\n",
       "      <td>SET_KLF1__SET_KLF1</td>\n",
       "      <td>16262</td>\n",
       "      <td>850</td>\n",
       "      <td>19.131765</td>\n",
       "      <td>4</td>\n",
       "      <td>True</td>\n",
       "      <td>1</td>\n",
       "    </tr>\n",
       "    <tr>\n",
       "      <th>4</th>\n",
       "      <td>TCAATCTGTCTTTCAT-2</td>\n",
       "      <td>OSR2_NegCtrl0__OSR2_NegCtrl0</td>\n",
       "      <td>16057</td>\n",
       "      <td>1067</td>\n",
       "      <td>15.048735</td>\n",
       "      <td>2</td>\n",
       "      <td>True</td>\n",
       "      <td>2</td>\n",
       "    </tr>\n",
       "  </tbody>\n",
       "</table>\n",
       "</div>"
      ],
      "text/plain": [
       "         cell_barcode                    guide_identity  read_count  \\\n",
       "0  TTGAACGAGACTCGGA-2  ARID1A_NegCtrl0__ARID1A_NegCtrl0       28684   \n",
       "1  CGTTGGGGTGTTTGTG-7  BCORL1_NegCtrl0__BCORL1_NegCtrl0       18367   \n",
       "2  GAACCTAAGTGTTAGA-6      FOSB_NegCtrl0__FOSB_NegCtrl0       16296   \n",
       "3  CCTTCCCTCCGTCATC-4                SET_KLF1__SET_KLF1       16262   \n",
       "4  TCAATCTGTCTTTCAT-2      OSR2_NegCtrl0__OSR2_NegCtrl0       16057   \n",
       "\n",
       "   UMI_count   coverage  gemgroup  good_coverage  number_of_cells  \n",
       "0       1809  15.856274         2           True                1  \n",
       "1        896  20.498884         7           True                1  \n",
       "2        664  24.542169         6           True                1  \n",
       "3        850  19.131765         4           True                1  \n",
       "4       1067  15.048735         2           True                2  "
      ]
     },
     "execution_count": 53,
     "metadata": {},
     "output_type": "execute_result"
    }
   ],
   "source": [
    "meta_path = \"/home/tchari/metadata/\"\n",
    "meta = pd.read_csv(meta_path+'norman_GSE133344_filtered_cell_identities.csv')\n",
    "meta.head()"
   ]
  },
  {
   "cell_type": "code",
   "execution_count": 54,
   "id": "9986a0a3",
   "metadata": {},
   "outputs": [
    {
     "data": {
      "text/html": [
       "<div>\n",
       "<style scoped>\n",
       "    .dataframe tbody tr th:only-of-type {\n",
       "        vertical-align: middle;\n",
       "    }\n",
       "\n",
       "    .dataframe tbody tr th {\n",
       "        vertical-align: top;\n",
       "    }\n",
       "\n",
       "    .dataframe thead th {\n",
       "        text-align: right;\n",
       "    }\n",
       "</style>\n",
       "<table border=\"1\" class=\"dataframe\">\n",
       "  <thead>\n",
       "    <tr style=\"text-align: right;\">\n",
       "      <th></th>\n",
       "      <th>guide_identity</th>\n",
       "      <th>cells</th>\n",
       "    </tr>\n",
       "  </thead>\n",
       "  <tbody>\n",
       "    <tr>\n",
       "      <th>0</th>\n",
       "      <td>NegCtrl10_NegCtrl0__NegCtrl10_NegCtrl0</td>\n",
       "      <td>3532</td>\n",
       "    </tr>\n",
       "    <tr>\n",
       "      <th>1</th>\n",
       "      <td>NegCtrl1_NegCtrl0__NegCtrl1_NegCtrl0</td>\n",
       "      <td>2948</td>\n",
       "    </tr>\n",
       "    <tr>\n",
       "      <th>2</th>\n",
       "      <td>NegCtrl11_NegCtrl0__NegCtrl11_NegCtrl0</td>\n",
       "      <td>2839</td>\n",
       "    </tr>\n",
       "    <tr>\n",
       "      <th>3</th>\n",
       "      <td>NegCtrl0_NegCtrl0__NegCtrl0_NegCtrl0</td>\n",
       "      <td>2536</td>\n",
       "    </tr>\n",
       "    <tr>\n",
       "      <th>4</th>\n",
       "      <td>CEBPE_RUNX1T1__CEBPE_RUNX1T1</td>\n",
       "      <td>1219</td>\n",
       "    </tr>\n",
       "  </tbody>\n",
       "</table>\n",
       "</div>"
      ],
      "text/plain": [
       "                           guide_identity  cells\n",
       "0  NegCtrl10_NegCtrl0__NegCtrl10_NegCtrl0   3532\n",
       "1    NegCtrl1_NegCtrl0__NegCtrl1_NegCtrl0   2948\n",
       "2  NegCtrl11_NegCtrl0__NegCtrl11_NegCtrl0   2839\n",
       "3    NegCtrl0_NegCtrl0__NegCtrl0_NegCtrl0   2536\n",
       "4            CEBPE_RUNX1T1__CEBPE_RUNX1T1   1219"
      ]
     },
     "execution_count": 54,
     "metadata": {},
     "output_type": "execute_result"
    }
   ],
   "source": [
    "ids = list(meta['guide_identity'].value_counts().index)\n",
    "counts = list(meta['guide_identity'].value_counts())\n",
    "\n",
    "saveCounts = pd.DataFrame()\n",
    "saveCounts['guide_identity'] = ids\n",
    "saveCounts['cells'] = counts\n",
    "saveCounts.head()"
   ]
  },
  {
   "cell_type": "code",
   "execution_count": 68,
   "id": "b0c15f29",
   "metadata": {},
   "outputs": [
    {
     "data": {
      "text/html": [
       "<div>\n",
       "<style scoped>\n",
       "    .dataframe tbody tr th:only-of-type {\n",
       "        vertical-align: middle;\n",
       "    }\n",
       "\n",
       "    .dataframe tbody tr th {\n",
       "        vertical-align: top;\n",
       "    }\n",
       "\n",
       "    .dataframe thead th {\n",
       "        text-align: right;\n",
       "    }\n",
       "</style>\n",
       "<table border=\"1\" class=\"dataframe\">\n",
       "  <thead>\n",
       "    <tr style=\"text-align: right;\">\n",
       "      <th></th>\n",
       "      <th>guide_identity</th>\n",
       "      <th>cells</th>\n",
       "    </tr>\n",
       "  </thead>\n",
       "  <tbody>\n",
       "    <tr>\n",
       "      <th>68</th>\n",
       "      <td>NegCtrl0_MAPK1__NegCtrl0_MAPK1</td>\n",
       "      <td>446</td>\n",
       "    </tr>\n",
       "  </tbody>\n",
       "</table>\n",
       "</div>"
      ],
      "text/plain": [
       "                    guide_identity  cells\n",
       "68  NegCtrl0_MAPK1__NegCtrl0_MAPK1    446"
      ]
     },
     "execution_count": 68,
     "metadata": {},
     "output_type": "execute_result"
    }
   ],
   "source": [
    "saveCounts[saveCounts['guide_identity'].isin(['NegCtrl0_MAPK1__NegCtrl0_MAPK1'])]"
   ]
  },
  {
   "cell_type": "code",
   "execution_count": 66,
   "id": "789bec8e",
   "metadata": {},
   "outputs": [
    {
     "data": {
      "text/html": [
       "<div>\n",
       "<style scoped>\n",
       "    .dataframe tbody tr th:only-of-type {\n",
       "        vertical-align: middle;\n",
       "    }\n",
       "\n",
       "    .dataframe tbody tr th {\n",
       "        vertical-align: top;\n",
       "    }\n",
       "\n",
       "    .dataframe thead th {\n",
       "        text-align: right;\n",
       "    }\n",
       "</style>\n",
       "<table border=\"1\" class=\"dataframe\">\n",
       "  <thead>\n",
       "    <tr style=\"text-align: right;\">\n",
       "      <th></th>\n",
       "      <th>guide_identity</th>\n",
       "      <th>cells</th>\n",
       "    </tr>\n",
       "  </thead>\n",
       "  <tbody>\n",
       "    <tr>\n",
       "      <th>14</th>\n",
       "      <td>DUSP9_NegCtrl0__DUSP9_NegCtrl0</td>\n",
       "      <td>731</td>\n",
       "    </tr>\n",
       "  </tbody>\n",
       "</table>\n",
       "</div>"
      ],
      "text/plain": [
       "                    guide_identity  cells\n",
       "14  DUSP9_NegCtrl0__DUSP9_NegCtrl0    731"
      ]
     },
     "execution_count": 66,
     "metadata": {},
     "output_type": "execute_result"
    }
   ],
   "source": [
    "saveCounts[saveCounts['guide_identity'].isin(['DUSP9_NegCtrl0__DUSP9_NegCtrl0'])]"
   ]
  },
  {
   "cell_type": "code",
   "execution_count": null,
   "id": "073a25b3",
   "metadata": {},
   "outputs": [],
   "source": []
  },
  {
   "cell_type": "code",
   "execution_count": 1686,
   "id": "b7ca057f",
   "metadata": {},
   "outputs": [
    {
     "data": {
      "text/plain": [
       "['MAPK1_PRTG__MAPK1_PRTG',\n",
       " 'MAPK1_TGFBR2__MAPK1_TGFBR2',\n",
       " 'ETS2_MAPK1__ETS2_MAPK1',\n",
       " 'NegCtrl0_MAPK1__NegCtrl0_MAPK1',\n",
       " 'CEBPB_MAPK1__CEBPB_MAPK1',\n",
       " 'CNN1_MAPK1__CNN1_MAPK1',\n",
       " 'IGDCC3_MAPK1__IGDCC3_MAPK1',\n",
       " 'MAPK1_NegCtrl0__MAPK1_NegCtrl0',\n",
       " 'MAPK1_IKZF3__MAPK1_IKZF3',\n",
       " 'DUSP9_MAPK1__DUSP9_MAPK1']"
      ]
     },
     "execution_count": 1686,
     "metadata": {},
     "output_type": "execute_result"
    }
   ],
   "source": [
    "[i for i in saveCounts['guide_identity'] if 'MAPK1' in i]"
   ]
  },
  {
   "cell_type": "code",
   "execution_count": 1256,
   "id": "a28b3ab1",
   "metadata": {},
   "outputs": [
    {
     "data": {
      "text/html": [
       "<div>\n",
       "<style scoped>\n",
       "    .dataframe tbody tr th:only-of-type {\n",
       "        vertical-align: middle;\n",
       "    }\n",
       "\n",
       "    .dataframe tbody tr th {\n",
       "        vertical-align: top;\n",
       "    }\n",
       "\n",
       "    .dataframe thead th {\n",
       "        text-align: right;\n",
       "    }\n",
       "</style>\n",
       "<table border=\"1\" class=\"dataframe\">\n",
       "  <thead>\n",
       "    <tr style=\"text-align: right;\">\n",
       "      <th></th>\n",
       "      <th>guide_identity</th>\n",
       "      <th>cells</th>\n",
       "    </tr>\n",
       "  </thead>\n",
       "  <tbody>\n",
       "    <tr>\n",
       "      <th>64</th>\n",
       "      <td>ETS2_NegCtrl0__ETS2_NegCtrl0</td>\n",
       "      <td>451</td>\n",
       "    </tr>\n",
       "  </tbody>\n",
       "</table>\n",
       "</div>"
      ],
      "text/plain": [
       "                  guide_identity  cells\n",
       "64  ETS2_NegCtrl0__ETS2_NegCtrl0    451"
      ]
     },
     "execution_count": 1256,
     "metadata": {},
     "output_type": "execute_result"
    }
   ],
   "source": [
    "saveCounts[saveCounts['guide_identity'].isin(['ETS2_NegCtrl0__ETS2_NegCtrl0'])]"
   ]
  },
  {
   "cell_type": "markdown",
   "id": "5958b1b9",
   "metadata": {},
   "source": [
    "Filter for conditions with > 100 cells (since we're looking for possible subpopulations/states etc)"
   ]
  },
  {
   "cell_type": "code",
   "execution_count": 104,
   "id": "f34edbe7",
   "metadata": {},
   "outputs": [
    {
     "data": {
      "text/plain": [
       "3"
      ]
     },
     "execution_count": 104,
     "metadata": {},
     "output_type": "execute_result"
    }
   ],
   "source": [
    "\n",
    "# ctrls = ['NegCtrl10_NegCtrl0__NegCtrl10_NegCtrl0','NegCtrl11_NegCtrl0__NegCtrl11_NegCtrl0',\n",
    "# 'NegCtrl0_NegCtrl0__NegCtrl0_NegCtrl0','NegCtrl1_NegCtrl0__NegCtrl1_NegCtrl0']\n",
    "\n",
    "#ctrls = ['DUSP9_MAPK1__DUSP9_MAPK1','DUSP9_NegCtrl0__DUSP9_NegCtrl0','NegCtrl0_MAPK1__NegCtrl0_MAPK1' ]\n",
    "ctrls = ['DUSP9_ETS2__DUSP9_ETS2','ETS2_NegCtrl0__ETS2_NegCtrl0','DUSP9_NegCtrl0__DUSP9_NegCtrl0']\n",
    "\n",
    "ctrl_bars = list(meta.cell_barcode[meta.guide_identity.isin(ctrls)])\n",
    "\n",
    "#conds_only = list(saveCounts['guide_identity'][(saveCounts['cells'] >  500) & (~saveCounts['guide_identity'].isin(ctrls))])\n",
    "#conds_only = ['NegCtrl1_NegCtrl0__NegCtrl1_NegCtrl0']\n",
    "\n",
    "#conds_only = ['DUSP9_MAPK1__DUSP9_MAPK1','DUSP9_NegCtrl0__DUSP9_NegCtrl0','NegCtrl0_MAPK1__NegCtrl0_MAPK1' ]\n",
    "#'DUSP9_MAPK1__DUSP9_MAPK1','MAPK1_NegCtrl0__MAPK1_NegCtrl0'\n",
    "#['DUSP9_ETS2__DUSP9_ETS2','ETS2_NegCtrl0__ETS2_NegCtrl0','DUSP9_NegCtrl0__DUSP9_NegCtrl0']\n",
    "\n",
    "filt_ids = ctrls   #conds_only+\n",
    "#list(saveCounts['guide_identity'][(saveCounts['cells'] >  100) & ~saveCounts['guide_identity'].isin(ctrls)])\n",
    "len(filt_ids)"
   ]
  },
  {
   "cell_type": "code",
   "execution_count": 105,
   "id": "e422c05d",
   "metadata": {},
   "outputs": [],
   "source": [
    "filt_bars = list(meta.cell_barcode[meta.guide_identity.isin(filt_ids)])"
   ]
  },
  {
   "cell_type": "code",
   "execution_count": 106,
   "id": "eedd0309",
   "metadata": {},
   "outputs": [],
   "source": [
    "# filt_conds_bars = list(meta.cell_barcode[meta.guide_identity.isin(conds_only)])"
   ]
  },
  {
   "cell_type": "markdown",
   "id": "20239dfd",
   "metadata": {},
   "source": [
    "**For all pair conditions, find matching single conds and extract important genes**"
   ]
  },
  {
   "cell_type": "code",
   "execution_count": 107,
   "id": "1e38afec",
   "metadata": {},
   "outputs": [],
   "source": [
    "import random"
   ]
  },
  {
   "cell_type": "code",
   "execution_count": 109,
   "id": "ad58a2f3",
   "metadata": {},
   "outputs": [],
   "source": [
    "#Get full count matrices and barcodes\n",
    "ds = lp.connect('/home/tchari/counts/norman_crispr/loom/allcrispr.loom')\n",
    "U = ds.layers['unspliced'][:].T\n",
    "S = ds.layers['spliced'][:].T\n",
    "bars = ds.ca['barcode']\n",
    "g_names = ds.ra['gene_name']\n",
    "ds.close()"
   ]
  },
  {
   "cell_type": "code",
   "execution_count": 110,
   "id": "42180829",
   "metadata": {},
   "outputs": [],
   "source": [
    "cf = pd.Categorical(bars).isin(filt_bars)\n",
    "order_bars = bars[cf]"
   ]
  },
  {
   "cell_type": "code",
   "execution_count": 111,
   "id": "aa6f4225",
   "metadata": {},
   "outputs": [],
   "source": [
    "S_sub = S[cf,:]\n",
    "U_sub = U[cf,:]"
   ]
  },
  {
   "cell_type": "code",
   "execution_count": 112,
   "id": "21188179",
   "metadata": {},
   "outputs": [],
   "source": [
    "subclass = [list(meta['guide_identity'][meta['cell_barcode'] == i])[0] for i in order_bars]"
   ]
  },
  {
   "cell_type": "code",
   "execution_count": 113,
   "id": "8a0bea11",
   "metadata": {},
   "outputs": [
    {
     "data": {
      "text/plain": [
       "1969"
      ]
     },
     "execution_count": 113,
     "metadata": {},
     "output_type": "execute_result"
    }
   ],
   "source": [
    "len(order_bars)"
   ]
  },
  {
   "cell_type": "code",
   "execution_count": 114,
   "id": "1eac807a",
   "metadata": {},
   "outputs": [
    {
     "name": "stderr",
     "output_type": "stream",
     "text": [
      "/home/tchari/.local/lib/python3.7/site-packages/ipykernel_launcher.py:9: FutureWarning: X.dtype being converted to np.float32 from float64. In the next version of anndata (0.9) conversion will not be automatic. Pass dtype explicitly to avoid this warning. Pass `AnnData(X, dtype=X.dtype, ...)` to get the future behavour.\n",
      "  if __name__ == '__main__':\n",
      "/home/tchari/miniconda3/envs/py37/lib/python3.7/site-packages/anndata/_core/anndata.py:1830: UserWarning: Variable names are not unique. To make them unique, call `.var_names_make_unique`.\n",
      "  utils.warn_names_duplicates(\"var\")\n"
     ]
    }
   ],
   "source": [
    "retAdata = anndata.AnnData(\n",
    "    X=S_sub,\n",
    "    layers={\n",
    "        'spliced': S_sub,\n",
    "        'unspliced': U_sub\n",
    "    },\n",
    "    obs=pd.DataFrame({'barcode': order_bars,'subclass_label':subclass},\n",
    "                     index=order_bars),\n",
    "    var=pd.DataFrame({'gene_name': g_names},index=g_names)\n",
    ")\n",
    "\n",
    "retAdata.write_loom('./norman_meK.loom')"
   ]
  },
  {
   "cell_type": "code",
   "execution_count": null,
   "id": "f28bcaba",
   "metadata": {},
   "outputs": [],
   "source": []
  },
  {
   "cell_type": "markdown",
   "id": "99af2da6",
   "metadata": {},
   "source": [
    "## **Set up Files for Inference and Select Cell Barcodes**"
   ]
  },
  {
   "cell_type": "code",
   "execution_count": 115,
   "id": "81188464",
   "metadata": {},
   "outputs": [],
   "source": [
    "Ks = [3,5] #K options for meK-Means\n",
    "num_ks = len(Ks) #Number of Ks to try"
   ]
  },
  {
   "cell_type": "code",
   "execution_count": 116,
   "id": "c465e57f",
   "metadata": {},
   "outputs": [
    {
     "name": "stdout",
     "output_type": "stream",
     "text": [
      "Runs:  ['meK_norman_k3', 'meK_norman_k5']\n"
     ]
    }
   ],
   "source": [
    "#Set  up output file names for inference run results\n",
    "\n",
    "#Make names for each of the K runs\n",
    "clus_names = ['k'+str(run_k) for run_k in Ks]\n",
    "\n",
    "#Output file names\n",
    "dataset_names = ['meK_norman_'+y  for y in clus_names]\n",
    "print('Runs: ',dataset_names)"
   ]
  },
  {
   "cell_type": "code",
   "execution_count": 117,
   "id": "377541e4",
   "metadata": {},
   "outputs": [
    {
     "name": "stdout",
     "output_type": "stream",
     "text": [
      "loom_filepaths:  ['./norman_meK.loom', './norman_meK.loom']\n"
     ]
    }
   ],
   "source": [
    "#Set reference data filepaths\n",
    "transcriptome_filepath = '/home/tchari/perturbCME/notebooks/gg_200525_genome_polyA_cum_3'\n",
    "\n",
    "#Attribute names in loom file, same as in standard kallisto|bustools --lamanno output\n",
    "attribute_names=[('unspliced','spliced'),'gene_name','barcode']\n",
    "\n",
    "l='./norman_meK.loom'\n",
    "loom_filepaths = [l]*num_ks #All runs use the same loom file\n",
    "print('loom_filepaths: ',loom_filepaths)\n",
    "\n",
    "n_datasets = len(loom_filepaths)"
   ]
  },
  {
   "cell_type": "markdown",
   "id": "8dc56622",
   "metadata": {},
   "source": [
    "Filter for barcodes in selected conditions + with UMI threshold"
   ]
  },
  {
   "cell_type": "code",
   "execution_count": 22,
   "id": "7482d1c0",
   "metadata": {},
   "outputs": [],
   "source": []
  },
  {
   "cell_type": "code",
   "execution_count": null,
   "id": "0b951b3d",
   "metadata": {
    "scrolled": true
   },
   "outputs": [],
   "source": []
  },
  {
   "cell_type": "markdown",
   "id": "fa132f52",
   "metadata": {},
   "source": [
    "## **Create Output Files and Run meK-Means**"
   ]
  },
  {
   "cell_type": "code",
   "execution_count": 118,
   "id": "5bf66dbd",
   "metadata": {},
   "outputs": [],
   "source": [
    "import logging, sys\n",
    "logging.basicConfig(stream=sys.stdout)\n",
    "log = logging.getLogger()\n",
    "log.setLevel(logging.INFO)\n",
    "import warnings\n",
    "warnings.filterwarnings(\"ignore\")\n",
    "warnings.simplefilter('ignore')"
   ]
  },
  {
   "cell_type": "code",
   "execution_count": 119,
   "id": "fab1230f",
   "metadata": {},
   "outputs": [],
   "source": [
    "#Threshold for filtering genes based on expression patterns\n",
    "def nb_thresh(U,S,var_t = 1.5,u_min =0.02,s_min =0.02):\n",
    "    '''\n",
    "    Take in U,S matrices, and find genes that meet var/mean thresh\n",
    "    U,S are cellxgene\n",
    "    '''\n",
    "    var_threshold = var_t\n",
    "    U_mean = U.mean(0)\n",
    "    S_mean = S.mean(0)\n",
    "    U_var = U.var(0)\n",
    "    S_var = S.var(0)\n",
    "\n",
    "    #if l == '/home/tchari/counts/allen_bivi/loom/processed_allen_B02H01A02_raw.loom':\n",
    "    u_min = u_min\n",
    "    s_min =  s_min\n",
    "\n",
    "\n",
    "    fitted_idx = (U_mean > u_min) & (S_mean > s_min) \\\n",
    "    & (((U_var-U_mean)/(U_mean**2)) > var_threshold)\\\n",
    "    & (((S_var-S_mean)/(S_mean**2)) > var_threshold)\\\n",
    "    & (np.abs(np.log(S_mean/U_mean)) < 4) \n",
    "    #((U_mean/S_mean) > 1.0) #labeled mRNA (new synth) is mainly intronic counts\n",
    "    \n",
    "    #(np.abs(np.log(S_mean/U_mean)) < 4) \n",
    "    \n",
    "    \n",
    "    return fitted_idx"
   ]
  },
  {
   "cell_type": "code",
   "execution_count": 120,
   "id": "ea922668",
   "metadata": {},
   "outputs": [],
   "source": [
    "def check_at_bounds(phys_params,thr=0.01,phys_lb=[-2.0, -1.8, -1.8 ],phys_ub=[4.2, 2.5, 2.5]):\n",
    "    #Check for genes where parameter fits are close to boundary of grid\n",
    "    x = np.any(np.logical_or(\n",
    "        np.array(phys_lb)+thr > phys_params,\n",
    "        np.array(phys_ub)-thr < phys_params) ,1)\n",
    "    return x"
   ]
  },
  {
   "cell_type": "code",
   "execution_count": 121,
   "id": "6db5a42c",
   "metadata": {},
   "outputs": [],
   "source": [
    "def get_assigns(sr):\n",
    "    '''\n",
    "    Get cell cluster assignments\n",
    "    '''\n",
    "    cats = np.array([None]*len(sr[0].filt))\n",
    "    for r in sr:\n",
    "        cats[r.filt] = r.assigns\n",
    "    return cats"
   ]
  },
  {
   "cell_type": "code",
   "execution_count": 122,
   "id": "226cbb23",
   "metadata": {},
   "outputs": [],
   "source": [
    "def print_summary(sr):\n",
    "    '''\n",
    "    Get summary of clustering results\n",
    "    '''\n",
    "    print('--------------------------')\n",
    "    print('Model AIC Score: ',sr[0].aic[0])\n",
    "    for r in sr:\n",
    "        print('Clus '+str(r.assigns)+' with '+str(np.sum(r.filt))+' cells')\n",
    "    print('--------------------------')"
   ]
  },
  {
   "cell_type": "code",
   "execution_count": 123,
   "id": "c0295af9",
   "metadata": {},
   "outputs": [],
   "source": [
    "def vis_metrics(results,title,ks,figsize=(18, 5),s=50,fname=None):\n",
    "    '''\n",
    "    Visualize -Q function and KLD over epochs, and -AIC for final model inference\n",
    "\n",
    "    results: list of len num_ks, of lists of SearchResults objs per K tested (e.g. [[SearchResults],[SearchResults,SearchResults]] for K=1&2)\n",
    "    title: title string for leftmost, plot\n",
    "    ks: list of ks tested (e.g. [1,2])\n",
    "    figsize: tuple for size of figure\n",
    "    s: size of dots in scatterplot\n",
    "    save_file: string, output file to save image\n",
    "\n",
    "  '''\n",
    "\n",
    "    num_ks = len(results)\n",
    "    sets = []\n",
    "    qs = []\n",
    "    res = pd.DataFrame()\n",
    "    aics = pd.DataFrame()\n",
    "    klds = pd.DataFrame()\n",
    "\n",
    "    aic = []\n",
    "    fin_k = []\n",
    "    kls = []\n",
    "\n",
    "    epoch = len(results[0][0].all_qs.flatten())\n",
    "    epos = list(range(1,epoch+1))*num_ks\n",
    "\n",
    "    for i in range(num_ks):\n",
    "\n",
    "        qs += list(-1*results[i][0].all_qs.flatten())\n",
    "        sets += [ks[i]]*epoch\n",
    "        aic += [results[i][0].aic[0]]\n",
    "        fin_k += [len(results[i])]\n",
    "\n",
    "\n",
    "        concat_klds = []\n",
    "        ks_used = []\n",
    "        for r in results[i]:\n",
    "            concat_klds += [r.all_klds[0,:,:]]\n",
    "            ks_used += [r.assigns]\n",
    "\n",
    "        concat_klds = np.array(concat_klds)\n",
    "        concat_klds = concat_klds.reshape((concat_klds.shape[1], concat_klds.shape[2],concat_klds.shape[0]))\n",
    "\n",
    "        kls += list(np.mean(np.sum(concat_klds[:,:,:],axis=1),axis=1)) #Sum of klds across k clusters\n",
    "\n",
    "\n",
    "    res['Q'] = qs\n",
    "    res['KLD'] = kls\n",
    "    res['epoch'] = epos\n",
    "    res['setting'] = ['k='+str(j) for j in sets]\n",
    "\n",
    "    aics['AIC'] = aic\n",
    "    aics['k'] = [str(j) for j in ks ]\n",
    "    aics['fin_k'] = fin_k\n",
    "\n",
    "    #Plot Q function over epochs\n",
    "    fig, ax = plt.subplots(nrows=1, ncols=3, figsize=figsize)\n",
    "\n",
    "    sns.lineplot(data=res,x='epoch',y='Q',hue='setting',\n",
    "                    ax=ax[0],palette='Dark2',\n",
    "                   alpha=0.7,legend=False)\n",
    "    g1=sns.scatterplot(data=res,x='epoch',y='Q',hue='setting',\n",
    "                    ax=ax[0],palette='Dark2',s=s,\n",
    "                   alpha=0.7,edgecolor='black')\n",
    "    ax[0].set_xlabel('Epoch')\n",
    "    ax[0].set_ylabel('-Q')\n",
    "    ax[0].legend(\n",
    "          title='Set K')\n",
    "    ax[0].set_title(title)\n",
    "    sns.move_legend(g1, \"upper left\", bbox_to_anchor=(1, 1))\n",
    "\n",
    "\n",
    "    #Plot klds over epochs\n",
    "    g2=sns.lineplot(data=res,x='epoch',y='KLD',hue='setting',\n",
    "                    ax=ax[1],palette='Dark2',\n",
    "                   alpha=0.7,legend=False)\n",
    "    sns.scatterplot(data=res,x='epoch',y='KLD',hue='setting',\n",
    "                    ax=ax[1],palette='Dark2',s=s,\n",
    "                   alpha=0.7,edgecolor='black')\n",
    "    ax[1].set_xlabel('Epoch')\n",
    "    ax[1].set_ylabel('KLD')\n",
    "    ax[1].legend(\n",
    "          title='Set K')\n",
    "    sns.move_legend(g2, \"upper left\", bbox_to_anchor=(1, 1))\n",
    "\n",
    "\n",
    "\n",
    "    #Plot aics\n",
    "    g3=sns.scatterplot(data=aics,x='fin_k',y='AIC',hue='k', ax=ax[2],palette='Dark2',s=s,\n",
    "                   alpha=0.7,edgecolor='black')\n",
    "    ax[2].set_xlabel('Final Assigned k')\n",
    "    ax[2].set_ylabel('-AIC')\n",
    "    ax[2].legend(\n",
    "          title='Set K')\n",
    "    sns.move_legend(g3, \"upper left\", bbox_to_anchor=(1, 1))\n",
    "\n",
    "\n",
    "    plt.tight_layout()\n",
    "    if fname is None:\n",
    "        plt.show()\n",
    "    else:\n",
    "        plt.savefig(fname)\n"
   ]
  },
  {
   "cell_type": "code",
   "execution_count": 124,
   "id": "45712c7d",
   "metadata": {},
   "outputs": [],
   "source": [
    "#Plot cluster concordance with true labels and distribution of clusters\n",
    "\n",
    "def vis_assign(assign,true=None,title='',log=True,figsize=(18, 5),palette='tab20',fname=None):\n",
    "    '''\n",
    "    Plot distribution of cluster assignments (optional: with previous annotations)\n",
    "\n",
    "    assign: np.array of cluster assignments (1..k) for each cell\n",
    "    true: list of user-given cluster assignments (string) for each cell, optional\n",
    "    title: title string for cluster assignment plot\n",
    "    figsize: tuple for size of figure\n",
    "    save_file: string, output file to save image\n",
    "\n",
    "    '''\n",
    " \n",
    "    #Plot cluster assignments and distribution of sizes of each cluster\n",
    "    fig, ax = plt.subplots(nrows=1, ncols=1, figsize=figsize)\n",
    "\n",
    "    if true is not None:\n",
    "        hues = true\n",
    "    else:\n",
    "        hues = assign \n",
    "        \n",
    "    if log:\n",
    "        plt.yscale('log')\n",
    "    \n",
    "    g= sns.histplot(x=assign,hue=hues,hue_order=list(np.unique(hues)), kde=False,ax=ax,\n",
    "                    palette=palette,multiple=\"dodge\",\n",
    "                    discrete=True)\n",
    "\n",
    "    plt.xticks(np.arange(0,np.max(assign)+1))\n",
    "    \n",
    "\n",
    "\n",
    "    ax.set_xlabel('meK-Means Cluster Assignment')\n",
    "    ax.set_title(title)\n",
    "    sns.move_legend(g, \"upper left\", bbox_to_anchor=(1, 1))\n",
    "\n",
    "\n",
    "    plt.tight_layout()\n",
    "    if fname is None:\n",
    "        plt.show()\n",
    "    else:\n",
    "        plt.savefig(fname)\n",
    "\n"
   ]
  },
  {
   "cell_type": "code",
   "execution_count": 125,
   "id": "1611e6ad",
   "metadata": {},
   "outputs": [
    {
     "name": "stdout",
     "output_type": "stream",
     "text": [
      "mkdir: cannot create directory ‘./fits’: File exists\r\n"
     ]
    }
   ],
   "source": [
    "!mkdir ./fits"
   ]
  },
  {
   "cell_type": "code",
   "execution_count": 126,
   "id": "ae7bacc5",
   "metadata": {},
   "outputs": [],
   "source": [
    "# !rm -r ./fits/gg_240410_029_meK_norman_1"
   ]
  },
  {
   "cell_type": "code",
   "execution_count": 127,
   "id": "8b30fad4",
   "metadata": {
    "scrolled": true
   },
   "outputs": [
    {
     "name": "stdout",
     "output_type": "stream",
     "text": [
      "48  genes\n",
      "INFO:root:Beginning data preprocessing and filtering.\n",
      "INFO:root:Directory ./fits/gg_240410_029_meK_norman_1 created.\n",
      "INFO:root:Dataset: meK_norman_k3\n",
      "INFO:root:1969 cells detected.\n",
      "INFO:root:36601 features observed, 36169 match genome annotations. 36149 were unique.\n",
      "INFO:root:1942 genes retained after expression filter.\n",
      "INFO:root:Directory ./fits/gg_240410_029_meK_norman_1/meK_norman_k3 created.\n",
      "INFO:root:Dataset: meK_norman_k5\n",
      "INFO:root:1969 cells detected.\n",
      "INFO:root:36601 features observed, 36169 match genome annotations. 36149 were unique.\n",
      "INFO:root:1942 genes retained after expression filter.\n",
      "INFO:root:Directory ./fits/gg_240410_029_meK_norman_1/meK_norman_k5 created.\n",
      "WARNING:root:Gene HIST1H2AC not found or has multiple entries in annotations.\n",
      "WARNING:root:Gene HIST1H4H not found or has multiple entries in annotations.\n",
      "WARNING:root:Gene AL034397.3 not found or has multiple entries in annotations.\n",
      "INFO:root:Total of 48 genes selected.\n",
      "WARNING:root:Selecting 48 genes required 100.0% dataset threshold.\n"
     ]
    }
   ],
   "source": [
    "#Select to run inference on, same genes selected across all runs\n",
    "#Make anndata with conditions and get most variable genes\n",
    "ds = lp.connect(l)\n",
    "U = ds.layers['unspliced'][:].T\n",
    "S = ds.layers['spliced'][:].T\n",
    "bars = ds.ca['barcode']\n",
    "g_names = ds.ra['gene_name']\n",
    "true_labs = ds.ca['subclass_label']\n",
    "ds.close()\n",
    "\n",
    "\n",
    "adata = anndata.AnnData(X=S)\n",
    "adata.layers[\"counts\"] = adata.X.copy()  # preserve counts\n",
    "sc.pp.normalize_total(adata, target_sum=1e4)\n",
    "sc.pp.log1p(adata)\n",
    "adata.raw = adata\n",
    "sc.pp.highly_variable_genes(adata, n_top_genes=2000)\n",
    "g_filt_hvg = adata.var.highly_variable\n",
    "\n",
    "#Filter for overdispersed *and* enough U/S counts for clustering\n",
    "g_filt = nb_thresh(U,S,var_t = 1.5,u_min =0.02,s_min =0.02) #u_min =0.01,s_min =0.01\n",
    "#g_filt_lit = pd.Categorical(g_names).isin(lit_genes)\n",
    "\n",
    "\n",
    "final_filt =  (g_filt_hvg & g_filt) #| (g_filt_lit  & g_filt) #Filter hvgs + add lit genes\n",
    "final_names = g_names[final_filt]\n",
    "\n",
    "print(str(np.sum(final_filt)),' genes')\n",
    "\n",
    "\n",
    "dir_string,dataset_strings = monod.preprocess.construct_batch(loom_filepaths, \\\n",
    "                                             transcriptome_filepath, \\\n",
    "                                             dataset_names, \\\n",
    "                                             attribute_names=attribute_names,\\\n",
    "                                             batch_location='./fits',meta='meK_norman',batch_id=1,\\\n",
    "                                             n_genes=len(final_names),\\\n",
    "                                             exp_filter_threshold=None,\n",
    "                                             viz=False,\n",
    "                                             genes_to_fit=final_names) #genes_to_fit=all_gs_forinf,len(all_gs_forinf)\n"
   ]
  },
  {
   "cell_type": "code",
   "execution_count": 129,
   "id": "c3288333",
   "metadata": {},
   "outputs": [],
   "source": [
    "dir_string = './fits/gg_240410_029_meK_norman_1' #gg_230215_025_norman_crispr_all_1\n",
    "dataset_strings = [dir_string+'/'+i for i in dataset_names]\n"
   ]
  },
  {
   "cell_type": "markdown",
   "id": "7c78bce7",
   "metadata": {},
   "source": [
    "**Run meK-Means**"
   ]
  },
  {
   "cell_type": "code",
   "execution_count": 130,
   "id": "a7822ec1",
   "metadata": {},
   "outputs": [],
   "source": [
    "#Set bounds from physical parameters search space\n",
    "phys_lb = [-2.0, -1.8, -1.8 ]\n",
    "phys_ub = [4.2, 2.5, 2.5]\n",
    "samp_lb = [-7.157894736842105, -1.525]\n",
    "samp_ub = [-7.157894736842105, -1.525]\n",
    "\n",
    "gridsize = [1,1]"
   ]
  },
  {
   "cell_type": "code",
   "execution_count": 131,
   "id": "0d76904a",
   "metadata": {},
   "outputs": [],
   "source": [
    "#Set number of epochs\n",
    "epochs = 10"
   ]
  },
  {
   "cell_type": "code",
   "execution_count": 132,
   "id": "6bf3fec8",
   "metadata": {},
   "outputs": [],
   "source": [
    "# saveCounts"
   ]
  },
  {
   "cell_type": "code",
   "execution_count": null,
   "id": "9fd96219",
   "metadata": {},
   "outputs": [],
   "source": []
  },
  {
   "cell_type": "code",
   "execution_count": 133,
   "id": "b1baa63b",
   "metadata": {
    "scrolled": true
   },
   "outputs": [
    {
     "name": "stdout",
     "output_type": "stream",
     "text": [
      "INFO:root:Directory ./fits/gg_240410_029_meK_norman_1/meK_norman_k3/Bursty_Poisson_1x1 created.\n",
      "INFO:root:Global inference parameters stored to ./fits/gg_240410_029_meK_norman_1/meK_norman_k3/Bursty_Poisson_1x1/parameters.pr.\n",
      "INFO:root:Beginning data extraction.\n",
      "INFO:root:Dataset: meK_norman_k3\n",
      "INFO:root:36601 features observed, 36169 match genome annotations. 36149 were unique.\n",
      "INFO:root:Gene list extracted from ./fits/gg_240410_029_meK_norman_1/genes.csv.\n",
      "INFO:root:Search data stored to ./fits/gg_240410_029_meK_norman_1/meK_norman_k3/raw.sd.\n",
      "INFO:root:Starting non-parallelized grid scan.\n",
      "INFO:root:M Step Initial Run: \n",
      "INFO:root:Starting parallelized MLE param fits for EM.\n"
     ]
    },
    {
     "name": "stderr",
     "output_type": "stream",
     "text": [
      "100%|██████████████████████████████████████████████████████████████████████████████████████████████████████| 3/3 [00:01<00:00,  2.10it/s]\n"
     ]
    },
    {
     "name": "stdout",
     "output_type": "stream",
     "text": [
      "INFO:root:Parallelized MLE fits complete.\n",
      "INFO:root:EM Epoch 1/10: \n",
      "INFO:root:Starting parallelized MLE param fits for EM.\n"
     ]
    },
    {
     "name": "stderr",
     "output_type": "stream",
     "text": [
      "100%|██████████████████████████████████████████████████████████████████████████████████████████████████████| 3/3 [00:01<00:00,  2.24it/s]\n"
     ]
    },
    {
     "name": "stdout",
     "output_type": "stream",
     "text": [
      "INFO:root:Parallelized MLE fits complete.\n",
      "mstep self.weights:  [0.64566744 0.07695698 0.27737558]\n",
      "Q Function:  -87899.03889794902\n",
      "\n",
      "INFO:root:EM Epoch 2/10: \n",
      "INFO:root:Starting parallelized MLE param fits for EM.\n"
     ]
    },
    {
     "name": "stderr",
     "output_type": "stream",
     "text": [
      "100%|██████████████████████████████████████████████████████████████████████████████████████████████████████| 3/3 [00:05<00:00,  1.93s/it]\n"
     ]
    },
    {
     "name": "stdout",
     "output_type": "stream",
     "text": [
      "INFO:root:Parallelized MLE fits complete.\n",
      "mstep self.weights:  [0.8604797  0.00753673 0.13198358]\n",
      "Q Function:  -87377.54938932111\n",
      "\n",
      "INFO:root:EM Epoch 3/10: \n",
      "INFO:root:Starting parallelized MLE param fits for EM.\n"
     ]
    },
    {
     "name": "stderr",
     "output_type": "stream",
     "text": [
      "100%|██████████████████████████████████████████████████████████████████████████████████████████████████████| 2/2 [00:04<00:00,  2.49s/it]\n"
     ]
    },
    {
     "name": "stdout",
     "output_type": "stream",
     "text": [
      "INFO:root:Parallelized MLE fits complete.\n",
      "mstep self.weights:  [8.91039445e-01 3.11944083e-06 1.08957436e-01]\n",
      "Q Function:  -86242.96848377086\n",
      "\n",
      "INFO:root:EM Epoch 4/10: \n",
      "INFO:root:Starting parallelized MLE param fits for EM.\n"
     ]
    },
    {
     "name": "stderr",
     "output_type": "stream",
     "text": [
      "100%|██████████████████████████████████████████████████████████████████████████████████████████████████████| 2/2 [00:03<00:00,  1.70s/it]\n"
     ]
    },
    {
     "name": "stdout",
     "output_type": "stream",
     "text": [
      "INFO:root:Parallelized MLE fits complete.\n",
      "mstep self.weights:  [9.44066795e-01 5.08065971e-10 5.59332046e-02]\n",
      "Q Function:  -86549.5837428294\n",
      "\n",
      "INFO:root:EM Epoch 5/10: \n",
      "INFO:root:Starting parallelized MLE param fits for EM.\n"
     ]
    },
    {
     "name": "stderr",
     "output_type": "stream",
     "text": [
      "100%|██████████████████████████████████████████████████████████████████████████████████████████████████████| 2/2 [00:07<00:00,  3.57s/it]\n"
     ]
    },
    {
     "name": "stdout",
     "output_type": "stream",
     "text": [
      "INFO:root:Parallelized MLE fits complete.\n",
      "mstep self.weights:  [9.69274662e-01 5.07872033e-10 3.07253372e-02]\n",
      "Q Function:  -86473.0518976695\n",
      "\n",
      "INFO:root:EM Epoch 6/10: \n",
      "INFO:root:Starting parallelized MLE param fits for EM.\n"
     ]
    },
    {
     "name": "stderr",
     "output_type": "stream",
     "text": [
      "100%|██████████████████████████████████████████████████████████████████████████████████████████████████████| 2/2 [00:04<00:00,  2.49s/it]\n"
     ]
    },
    {
     "name": "stdout",
     "output_type": "stream",
     "text": [
      "INFO:root:Parallelized MLE fits complete.\n",
      "mstep self.weights:  [9.47381421e-01 5.07872026e-10 5.26185788e-02]\n",
      "Q Function:  -86030.38017424506\n",
      "\n",
      "INFO:root:EM Epoch 7/10: \n",
      "INFO:root:Starting parallelized MLE param fits for EM.\n"
     ]
    },
    {
     "name": "stderr",
     "output_type": "stream",
     "text": [
      "100%|██████████████████████████████████████████████████████████████████████████████████████████████████████| 2/2 [00:05<00:00,  2.81s/it]\n"
     ]
    },
    {
     "name": "stdout",
     "output_type": "stream",
     "text": [
      "INFO:root:Parallelized MLE fits complete.\n",
      "mstep self.weights:  [9.63702411e-01 5.07872056e-10 3.62975885e-02]\n",
      "Q Function:  -86295.6603021358\n",
      "\n",
      "INFO:root:EM Epoch 8/10: \n",
      "INFO:root:Starting parallelized MLE param fits for EM.\n"
     ]
    },
    {
     "name": "stderr",
     "output_type": "stream",
     "text": [
      "100%|██████████████████████████████████████████████████████████████████████████████████████████████████████| 2/2 [00:03<00:00,  1.62s/it]\n"
     ]
    },
    {
     "name": "stdout",
     "output_type": "stream",
     "text": [
      "INFO:root:Parallelized MLE fits complete.\n",
      "mstep self.weights:  [9.39217512e-01 5.07872022e-10 6.07824877e-02]\n",
      "Q Function:  -85830.46875711982\n",
      "\n",
      "INFO:root:EM Epoch 9/10: \n",
      "INFO:root:Starting parallelized MLE param fits for EM.\n"
     ]
    },
    {
     "name": "stderr",
     "output_type": "stream",
     "text": [
      "100%|██████████████████████████████████████████████████████████████████████████████████████████████████████| 2/2 [00:04<00:00,  2.13s/it]\n"
     ]
    },
    {
     "name": "stdout",
     "output_type": "stream",
     "text": [
      "INFO:root:Parallelized MLE fits complete.\n",
      "mstep self.weights:  [9.73853887e-01 5.07872026e-10 2.61461129e-02]\n",
      "Q Function:  -86527.35872222767\n",
      "\n",
      "INFO:root:EM Epoch 10/10: \n",
      "INFO:root:Starting parallelized MLE param fits for EM.\n"
     ]
    },
    {
     "name": "stderr",
     "output_type": "stream",
     "text": [
      "100%|██████████████████████████████████████████████████████████████████████████████████████████████████████| 2/2 [00:04<00:00,  2.33s/it]\n"
     ]
    },
    {
     "name": "stdout",
     "output_type": "stream",
     "text": [
      "INFO:root:Parallelized MLE fits complete.\n",
      "mstep self.weights:  [9.61723332e-01 5.07872033e-10 3.82766677e-02]\n",
      "Q Function:  -86086.70695076694\n",
      "\n",
      "INFO:root:Non-parallelized grid scan complete.\n",
      "INFO:root:Directory ./fits/gg_240410_029_meK_norman_1/meK_norman_k3/Bursty_Poisson_1x1/analysis_figures_0 created.\n",
      "INFO:root:Directory ./fits/gg_240410_029_meK_norman_1/meK_norman_k3/Bursty_Poisson_1x1/analysis_figures_2 created.\n",
      "INFO:root:Runtime: 114.2 seconds.\n",
      "INFO:root:Directory ./fits/gg_240410_029_meK_norman_1/meK_norman_k5/Bursty_Poisson_1x1 created.\n",
      "INFO:root:Global inference parameters stored to ./fits/gg_240410_029_meK_norman_1/meK_norman_k5/Bursty_Poisson_1x1/parameters.pr.\n",
      "INFO:root:Beginning data extraction.\n",
      "INFO:root:Dataset: meK_norman_k5\n",
      "INFO:root:36601 features observed, 36169 match genome annotations. 36149 were unique.\n",
      "INFO:root:Gene list extracted from ./fits/gg_240410_029_meK_norman_1/genes.csv.\n",
      "INFO:root:Search data stored to ./fits/gg_240410_029_meK_norman_1/meK_norman_k5/raw.sd.\n",
      "INFO:root:Starting non-parallelized grid scan.\n",
      "INFO:root:M Step Initial Run: \n",
      "INFO:root:Starting parallelized MLE param fits for EM.\n"
     ]
    },
    {
     "name": "stderr",
     "output_type": "stream",
     "text": [
      "100%|██████████████████████████████████████████████████████████████████████████████████████████████████████| 5/5 [00:01<00:00,  3.18it/s]\n"
     ]
    },
    {
     "name": "stdout",
     "output_type": "stream",
     "text": [
      "INFO:root:Parallelized MLE fits complete.\n",
      "INFO:root:EM Epoch 1/10: \n",
      "INFO:root:Starting parallelized MLE param fits for EM.\n"
     ]
    },
    {
     "name": "stderr",
     "output_type": "stream",
     "text": [
      "100%|██████████████████████████████████████████████████████████████████████████████████████████████████████| 5/5 [00:01<00:00,  3.28it/s]\n"
     ]
    },
    {
     "name": "stdout",
     "output_type": "stream",
     "text": [
      "INFO:root:Parallelized MLE fits complete.\n",
      "mstep self.weights:  [0.26678195 0.34899483 0.03459398 0.08018621 0.26944304]\n",
      "Q Function:  -87768.5057258654\n",
      "\n",
      "INFO:root:EM Epoch 2/10: \n",
      "INFO:root:Starting parallelized MLE param fits for EM.\n"
     ]
    },
    {
     "name": "stderr",
     "output_type": "stream",
     "text": [
      "100%|██████████████████████████████████████████████████████████████████████████████████████████████████████| 5/5 [00:01<00:00,  4.10it/s]\n"
     ]
    },
    {
     "name": "stdout",
     "output_type": "stream",
     "text": [
      "INFO:root:Parallelized MLE fits complete.\n",
      "mstep self.weights:  [0.61872593 0.11303924 0.01579948 0.20694046 0.04549488]\n",
      "Q Function:  -93830.93671867343\n",
      "\n",
      "INFO:root:EM Epoch 3/10: \n",
      "INFO:root:Starting parallelized MLE param fits for EM.\n"
     ]
    },
    {
     "name": "stderr",
     "output_type": "stream",
     "text": [
      "100%|██████████████████████████████████████████████████████████████████████████████████████████████████████| 5/5 [00:01<00:00,  3.48it/s]\n"
     ]
    },
    {
     "name": "stdout",
     "output_type": "stream",
     "text": [
      "INFO:root:Parallelized MLE fits complete.\n",
      "mstep self.weights:  [0.66575181 0.13004761 0.00253961 0.18824313 0.01341784]\n",
      "Q Function:  -86079.67231683235\n",
      "\n",
      "INFO:root:EM Epoch 4/10: \n",
      "INFO:root:Starting parallelized MLE param fits for EM.\n"
     ]
    },
    {
     "name": "stderr",
     "output_type": "stream",
     "text": [
      "100%|██████████████████████████████████████████████████████████████████████████████████████████████████████| 5/5 [00:08<00:00,  1.65s/it]\n"
     ]
    },
    {
     "name": "stdout",
     "output_type": "stream",
     "text": [
      "INFO:root:Parallelized MLE fits complete.\n",
      "mstep self.weights:  [0.78497666 0.13861895 0.00253923 0.07155315 0.00231201]\n",
      "Q Function:  -87077.62226781595\n",
      "\n",
      "INFO:root:EM Epoch 5/10: \n",
      "INFO:root:Starting parallelized MLE param fits for EM.\n"
     ]
    },
    {
     "name": "stderr",
     "output_type": "stream",
     "text": [
      "100%|██████████████████████████████████████████████████████████████████████████████████████████████████████| 4/4 [00:01<00:00,  2.85it/s]\n"
     ]
    },
    {
     "name": "stdout",
     "output_type": "stream",
     "text": [
      "INFO:root:Parallelized MLE fits complete.\n",
      "mstep self.weights:  [8.56733522e-01 8.34279540e-02 2.52627877e-03 5.73122443e-02\n",
      " 5.07920011e-10]\n",
      "Q Function:  -86243.94467349313\n",
      "\n",
      "INFO:root:EM Epoch 6/10: \n",
      "INFO:root:Starting parallelized MLE param fits for EM.\n"
     ]
    },
    {
     "name": "stderr",
     "output_type": "stream",
     "text": [
      "100%|██████████████████████████████████████████████████████████████████████████████████████████████████████| 4/4 [00:01<00:00,  3.13it/s]\n"
     ]
    },
    {
     "name": "stdout",
     "output_type": "stream",
     "text": [
      "INFO:root:Parallelized MLE fits complete.\n",
      "mstep self.weights:  [9.11227345e-01 3.60603460e-02 2.53938088e-03 5.01729272e-02\n",
      " 5.07872015e-10]\n",
      "Q Function:  -86163.68901504023\n",
      "\n",
      "INFO:root:EM Epoch 7/10: \n",
      "INFO:root:Starting parallelized MLE param fits for EM.\n"
     ]
    },
    {
     "name": "stderr",
     "output_type": "stream",
     "text": [
      "100%|██████████████████████████████████████████████████████████████████████████████████████████████████████| 4/4 [00:01<00:00,  2.54it/s]\n"
     ]
    },
    {
     "name": "stdout",
     "output_type": "stream",
     "text": [
      "INFO:root:Parallelized MLE fits complete.\n",
      "mstep self.weights:  [9.00825810e-01 7.42815639e-02 2.50941216e-03 2.23832137e-02\n",
      " 5.07872015e-10]\n",
      "Q Function:  -86163.07881953158\n",
      "\n",
      "INFO:root:EM Epoch 8/10: \n",
      "INFO:root:Starting parallelized MLE param fits for EM.\n"
     ]
    },
    {
     "name": "stderr",
     "output_type": "stream",
     "text": [
      "100%|██████████████████████████████████████████████████████████████████████████████████████████████████████| 4/4 [00:10<00:00,  2.75s/it]\n"
     ]
    },
    {
     "name": "stdout",
     "output_type": "stream",
     "text": [
      "INFO:root:Parallelized MLE fits complete.\n",
      "mstep self.weights:  [8.93959601e-01 9.06142096e-02 2.53231515e-03 1.28938740e-02\n",
      " 5.07872015e-10]\n",
      "Q Function:  -86053.48522424581\n",
      "\n",
      "INFO:root:EM Epoch 9/10: \n",
      "INFO:root:Starting parallelized MLE param fits for EM.\n"
     ]
    },
    {
     "name": "stderr",
     "output_type": "stream",
     "text": [
      "100%|██████████████████████████████████████████████████████████████████████████████████████████████████████| 4/4 [00:01<00:00,  3.16it/s]\n"
     ]
    },
    {
     "name": "stdout",
     "output_type": "stream",
     "text": [
      "INFO:root:Parallelized MLE fits complete.\n",
      "mstep self.weights:  [9.72307180e-01 1.99164391e-02 3.04301035e-03 4.73337041e-03\n",
      " 5.07872015e-10]\n",
      "Q Function:  -86578.96458895503\n",
      "\n",
      "INFO:root:EM Epoch 10/10: \n",
      "INFO:root:Starting parallelized MLE param fits for EM.\n"
     ]
    },
    {
     "name": "stderr",
     "output_type": "stream",
     "text": [
      "100%|██████████████████████████████████████████████████████████████████████████████████████████████████████| 3/3 [00:01<00:00,  2.60it/s]\n"
     ]
    },
    {
     "name": "stdout",
     "output_type": "stream",
     "text": [
      "INFO:root:Parallelized MLE fits complete.\n",
      "mstep self.weights:  [9.94137814e-01 2.74160857e-03 2.96014943e-03 1.60426988e-04\n",
      " 5.07872015e-10]\n",
      "Q Function:  -86650.33341919484\n",
      "\n",
      "INFO:root:Non-parallelized grid scan complete.\n",
      "INFO:root:Directory ./fits/gg_240410_029_meK_norman_1/meK_norman_k5/Bursty_Poisson_1x1/analysis_figures_0 created.\n",
      "INFO:root:Directory ./fits/gg_240410_029_meK_norman_1/meK_norman_k5/Bursty_Poisson_1x1/analysis_figures_1 created.\n",
      "INFO:root:Directory ./fits/gg_240410_029_meK_norman_1/meK_norman_k5/Bursty_Poisson_1x1/analysis_figures_2 created.\n",
      "INFO:root:Runtime: 102.3 seconds.\n"
     ]
    }
   ],
   "source": [
    "result_strings = []\n",
    "for i in range(num_ks):\n",
    "\n",
    "    #Define model with bursty transcription and Poisson molecule capture/sampling\n",
    "    fitmodel = monod.cme_toolbox.CMEModel('Bursty','Poisson')\n",
    "\n",
    "    #Set up mminference parameters\n",
    "    inference_parameters = monod.mminference.InferenceParameters(phys_lb,phys_ub,samp_lb,samp_ub,gridsize,\\\n",
    "                dataset_strings[i],fitmodel,k=Ks[i],epochs=epochs,use_lengths = True,\n",
    "                gradient_params = {'max_iterations':5,'init_pattern':'moments','num_restarts':1})\n",
    "\n",
    "    #Read in loom file with filtered barcodes\n",
    "    search_data = monod.extract_data.extract_data(loom_filepaths[i], transcriptome_filepath, dataset_names[i],\n",
    "                dataset_strings[i], dir_string, viz=False, dataset_attr_names=attribute_names)\n",
    "\n",
    "    #Run inference(fit_all_grid_points()) and Save result file strings\n",
    "    full_result_string = inference_parameters.fit_all_grid_points(30,search_data) \n",
    "\n",
    "    result_strings.append(full_result_string)\n",
    "    "
   ]
  },
  {
   "cell_type": "code",
   "execution_count": 134,
   "id": "f9aebb5c",
   "metadata": {},
   "outputs": [
    {
     "data": {
      "text/plain": [
       "[['./fits/gg_240410_029_meK_norman_1/meK_norman_k3/Bursty_Poisson_1x1/grid_scan_results_0.res',\n",
       "  './fits/gg_240410_029_meK_norman_1/meK_norman_k3/Bursty_Poisson_1x1/grid_scan_results_2.res'],\n",
       " ['./fits/gg_240410_029_meK_norman_1/meK_norman_k5/Bursty_Poisson_1x1/grid_scan_results_0.res',\n",
       "  './fits/gg_240410_029_meK_norman_1/meK_norman_k5/Bursty_Poisson_1x1/grid_scan_results_1.res',\n",
       "  './fits/gg_240410_029_meK_norman_1/meK_norman_k5/Bursty_Poisson_1x1/grid_scan_results_2.res']]"
      ]
     },
     "execution_count": 134,
     "metadata": {},
     "output_type": "execute_result"
    }
   ],
   "source": [
    "result_strings"
   ]
  },
  {
   "cell_type": "code",
   "execution_count": 135,
   "id": "ff449329",
   "metadata": {
    "scrolled": true
   },
   "outputs": [
    {
     "name": "stdout",
     "output_type": "stream",
     "text": [
      "INFO:root:Grid scan results loaded from ./fits/gg_240410_029_meK_norman_1/meK_norman_k3/Bursty_Poisson_1x1/grid_scan_results_0.res.\n",
      "INFO:root:Grid scan results loaded from ./fits/gg_240410_029_meK_norman_1/meK_norman_k3/Bursty_Poisson_1x1/grid_scan_results_2.res.\n",
      "INFO:root:Grid scan results loaded from ./fits/gg_240410_029_meK_norman_1/meK_norman_k5/Bursty_Poisson_1x1/grid_scan_results_0.res.\n",
      "INFO:root:Grid scan results loaded from ./fits/gg_240410_029_meK_norman_1/meK_norman_k5/Bursty_Poisson_1x1/grid_scan_results_1.res.\n",
      "INFO:root:Grid scan results loaded from ./fits/gg_240410_029_meK_norman_1/meK_norman_k5/Bursty_Poisson_1x1/grid_scan_results_2.res.\n"
     ]
    },
    {
     "data": {
      "text/plain": [
       "[[<monod.mminference.SearchResults at 0x7f831a499810>,\n",
       "  <monod.mminference.SearchResults at 0x7f79c78feed0>],\n",
       " [<monod.mminference.SearchResults at 0x7f8334420e50>,\n",
       "  <monod.mminference.SearchResults at 0x7f79c79f3450>,\n",
       "  <monod.mminference.SearchResults at 0x7f832b01fc90>]]"
      ]
     },
     "execution_count": 135,
     "metadata": {},
     "output_type": "execute_result"
    }
   ],
   "source": [
    "#DOes more genes --> more clusters? Try doubling to top 200?\n",
    "\n",
    "#Read in result files for K=1,5,7 runs\n",
    "sr = []\n",
    "for strings in result_strings:\n",
    "    sr += [[monod.analysis.load_search_results(i) for i in strings]]\n",
    "\n",
    "sr"
   ]
  },
  {
   "cell_type": "code",
   "execution_count": 136,
   "id": "1933d92e",
   "metadata": {
    "scrolled": true
   },
   "outputs": [
    {
     "name": "stdout",
     "output_type": "stream",
     "text": [
      "INFO:root:Search data loaded from ./fits/gg_240410_029_meK_norman_1/meK_norman_k3/raw.sd.\n",
      "INFO:root:Search data loaded from ./fits/gg_240410_029_meK_norman_1/meK_norman_k5/raw.sd.\n"
     ]
    },
    {
     "data": {
      "text/plain": [
       "[<monod.extract_data.SearchData at 0x7f831a00cf50>,\n",
       " <monod.extract_data.SearchData at 0x7f833443cbd0>]"
      ]
     },
     "execution_count": 136,
     "metadata": {},
     "output_type": "execute_result"
    }
   ],
   "source": [
    "raws = [d_string+'/raw.sd' for d_string in dataset_strings]\n",
    "sd = [monod.analysis.load_search_data(w) for w in raws]\n",
    "sd"
   ]
  },
  {
   "cell_type": "code",
   "execution_count": null,
   "id": "f74b3400",
   "metadata": {},
   "outputs": [],
   "source": []
  },
  {
   "cell_type": "code",
   "execution_count": 137,
   "id": "bfbca890",
   "metadata": {},
   "outputs": [
    {
     "data": {
      "image/png": "[encoded data removed]",
      "text/plain": [
       "<Figure size 1080x216 with 3 Axes>"
      ]
     },
     "metadata": {
      "image/png": {
       "height": 206,
       "width": 1072
      },
      "needs_background": "light"
     },
     "output_type": "display_data"
    }
   ],
   "source": [
    "vis_metrics(sr,'Norman_Data',Ks,figsize=(15,3),fname='norman_k_metrics.pdf')"
   ]
  },
  {
   "cell_type": "code",
   "execution_count": 102,
   "id": "94f22c7b",
   "metadata": {},
   "outputs": [
    {
     "data": {
      "image/png": "[encoded data removed]",
      "text/plain": [
       "<Figure size 720x180 with 1 Axes>"
      ]
     },
     "metadata": {
      "image/png": {
       "height": 171,
       "width": 712
      },
      "needs_background": "light"
     },
     "output_type": "display_data"
    }
   ],
   "source": [
    "vis_assign(get_assigns(sr[1]),true=true_labs,title='',figsize=(10, 2.5),fname=None)"
   ]
  },
  {
   "cell_type": "code",
   "execution_count": 103,
   "id": "ee6456ab",
   "metadata": {},
   "outputs": [],
   "source": [
    "#Hard to interpret this data, and not much to compare to in original study"
   ]
  },
  {
   "cell_type": "code",
   "execution_count": null,
   "id": "71552856",
   "metadata": {},
   "outputs": [],
   "source": []
  },
  {
   "cell_type": "code",
   "execution_count": null,
   "id": "57e0c3e9",
   "metadata": {},
   "outputs": [],
   "source": []
  },
  {
   "cell_type": "code",
   "execution_count": null,
   "id": "009a431a",
   "metadata": {},
   "outputs": [],
   "source": []
  },
  {
   "cell_type": "code",
   "execution_count": null,
   "id": "761fc3e8",
   "metadata": {},
   "outputs": [],
   "source": []
  }
 ],
 "metadata": {
  "kernelspec": {
   "display_name": "Python 3 (ipykernel)",
   "language": "python",
   "name": "python3"
  },
  "language_info": {
   "codemirror_mode": {
    "name": "ipython",
    "version": 3
   },
   "file_extension": ".py",
   "mimetype": "text/x-python",
   "name": "python",
   "nbconvert_exporter": "python",
   "pygments_lexer": "ipython3",
   "version": "3.7.11"
  }
 },
 "nbformat": 4,
 "nbformat_minor": 5
}
