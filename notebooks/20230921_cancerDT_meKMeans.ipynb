{
 "cells": [
  {
   "cell_type": "markdown",
   "id": "9630c3e8",
   "metadata": {},
   "source": [
    "## **Load *Monod*+meK-Means and Packages**"
   ]
  },
  {
   "cell_type": "code",
   "execution_count": 2,
   "id": "8e275078",
   "metadata": {},
   "outputs": [],
   "source": [
    "import sys\n",
    "sys.path.insert(0, '/home/tchari/monod/src/')"
   ]
  },
  {
   "cell_type": "code",
   "execution_count": 3,
   "id": "f15d8045",
   "metadata": {},
   "outputs": [],
   "source": [
    "import monod\n",
    "from monod import preprocess, extract_data, cme_toolbox, inference, analysis, mminference"
   ]
  },
  {
   "cell_type": "code",
   "execution_count": 4,
   "id": "da9f632f",
   "metadata": {},
   "outputs": [],
   "source": [
    "import pandas as pd\n",
    "import numpy as np\n",
    "import loompy as lp\n",
    "import matplotlib.pyplot as plt\n",
    "import scipy\n",
    "import seaborn as sns\n",
    "import scipy.stats\n",
    "\n",
    "from sklearn.ensemble import ExtraTreesClassifier, RandomForestClassifier, ExtraTreesRegressor, RandomForestRegressor\n",
    "from sklearn.model_selection import train_test_split, ShuffleSplit\n",
    "from sklearn.metrics import accuracy_score, classification_report\n",
    "\n",
    "import os\n",
    "\n",
    "import sklearn\n",
    "import scanpy as sc\n",
    "import anndata"
   ]
  },
  {
   "cell_type": "code",
   "execution_count": 5,
   "id": "93d949f4",
   "metadata": {},
   "outputs": [],
   "source": [
    "%matplotlib inline\n",
    "%config InlineBackend.figure_format = 'retina'"
   ]
  },
  {
   "cell_type": "markdown",
   "id": "264cb33a",
   "metadata": {},
   "source": [
    "## **Load Metadata and Select Genes for Inference Across Conditions**"
   ]
  },
  {
   "cell_type": "code",
   "execution_count": 6,
   "id": "de81c2ee",
   "metadata": {},
   "outputs": [],
   "source": [
    "#Load cell barcodes from original study\n",
    "\n",
    "meta_path = '/home/tchari/metadata/'\n",
    "data_path = '/home/tchari/counts/cancer_dt/'"
   ]
  },
  {
   "cell_type": "code",
   "execution_count": 8,
   "id": "e188c03e",
   "metadata": {},
   "outputs": [
    {
     "data": {
      "text/html": [
       "<div>\n",
       "<style scoped>\n",
       "    .dataframe tbody tr th:only-of-type {\n",
       "        vertical-align: middle;\n",
       "    }\n",
       "\n",
       "    .dataframe tbody tr th {\n",
       "        vertical-align: top;\n",
       "    }\n",
       "\n",
       "    .dataframe thead th {\n",
       "        text-align: right;\n",
       "    }\n",
       "</style>\n",
       "<table border=\"1\" class=\"dataframe\">\n",
       "  <thead>\n",
       "    <tr style=\"text-align: right;\">\n",
       "      <th></th>\n",
       "      <th>0</th>\n",
       "    </tr>\n",
       "  </thead>\n",
       "  <tbody>\n",
       "    <tr>\n",
       "      <th>0</th>\n",
       "      <td>AAACCCAAGCAGGCAT-1</td>\n",
       "    </tr>\n",
       "    <tr>\n",
       "      <th>1</th>\n",
       "      <td>AAACCCAAGCTGCCAC-1</td>\n",
       "    </tr>\n",
       "    <tr>\n",
       "      <th>2</th>\n",
       "      <td>AAACCCAAGGCCGCTT-1</td>\n",
       "    </tr>\n",
       "    <tr>\n",
       "      <th>3</th>\n",
       "      <td>AAACCCAAGTGACACG-1</td>\n",
       "    </tr>\n",
       "    <tr>\n",
       "      <th>4</th>\n",
       "      <td>AAACCCACACTTGGGC-1</td>\n",
       "    </tr>\n",
       "  </tbody>\n",
       "</table>\n",
       "</div>"
      ],
      "text/plain": [
       "                    0\n",
       "0  AAACCCAAGCAGGCAT-1\n",
       "1  AAACCCAAGCTGCCAC-1\n",
       "2  AAACCCAAGGCCGCTT-1\n",
       "3  AAACCCAAGTGACACG-1\n",
       "4  AAACCCACACTTGGGC-1"
      ]
     },
     "execution_count": 8,
     "metadata": {},
     "output_type": "execute_result"
    }
   ],
   "source": [
    "orig_bcs = pd.read_csv(meta_path+'home/alex/lab/drugres/10x/D0D3FullSeq/Day3/outs/filtered_feature_bc_matrix/barcodes.tsv',header=None)\n",
    "orig_bcs.head()\n"
   ]
  },
  {
   "cell_type": "code",
   "execution_count": 10,
   "id": "b2772d74",
   "metadata": {},
   "outputs": [],
   "source": [
    "#Get full count matrices and barcodes\n",
    "ds = lp.connect('/home/tchari/counts/cancer_dt/loom/all_cancer_dt.loom')\n",
    "U = ds.layers['unspliced'][:].T\n",
    "S = ds.layers['spliced'][:].T\n",
    "bars = ds.ca['barcode']\n",
    "g_names = ds.ra['gene_name']\n",
    "ds.close()"
   ]
  },
  {
   "cell_type": "code",
   "execution_count": 15,
   "id": "70b77c2b",
   "metadata": {},
   "outputs": [
    {
     "data": {
      "text/plain": [
       "0.971630015108276"
      ]
     },
     "execution_count": 15,
     "metadata": {},
     "output_type": "execute_result"
    }
   ],
   "source": [
    "len(set(orig_bcs[0]).intersection(bars))/len(set(orig_bcs[0]))"
   ]
  },
  {
   "cell_type": "code",
   "execution_count": null,
   "id": "39222504",
   "metadata": {},
   "outputs": [],
   "source": []
  },
  {
   "cell_type": "code",
   "execution_count": 1,
   "id": "76c7b760",
   "metadata": {},
   "outputs": [],
   "source": [
    "#Make anndata with conditions and get most variable\n",
    "\n",
    "adata = anndata.AnnData(S)\n",
    "adata.obs_names = [f\"Cell_{i:d}\" for i in range(adata.n_obs)]\n",
    "adata.var_names = g_names\n",
    "\n",
    "sc.pp.normalize_total(adata, target_sum=1e4)\n",
    "sc.pp.log1p(adata)\n",
    "sc.pp.highly_variable_genes(adata, min_mean=0.0125, max_mean=3, min_disp=0.5)"
   ]
  },
  {
   "cell_type": "code",
   "execution_count": null,
   "id": "38d3f531",
   "metadata": {},
   "outputs": [],
   "source": [
    "#adata.var.highly_variable"
   ]
  },
  {
   "cell_type": "code",
   "execution_count": null,
   "id": "9181e100",
   "metadata": {},
   "outputs": [],
   "source": [
    "#Literature genes?\n",
    "#Supp Fig 9\n",
    "\n",
    "lit_genes = ['CDH2','COL1A1','CALD1','TGFB2', 'INHBA','INHBB','SERPINE1',\n",
    "            'LEF1','TEAD1','SRF','FOXO4','FOXF2','FOXA1','ATF','E4F1','MAZ',\n",
    "            'AP1','SOX9','E2F1','NFY','YY1','TGFB2','WNT5A','CTNNB1','DKK1','CDH2',\n",
    "            'COL1A1','CALD1','SCD','FASN','FDFT1','LDLR','SQLE','HMGCS1','FADS2',\n",
    "            'TNFRSF12A','FDPS','IDI1','ANXA5','ACAT2','FABP5','FAM129A','MVD',\n",
    "            'TRIB3','ACSS2','DHCR7','ALCAM','SREBF2','HSD17B7','CBS',\n",
    "            'STX5','JAG1','ERRFI1','LSS','ATF3','HMGCR','MAL2','CHKA',\n",
    "            'MYL9','TAGLN','IGFBP3','TPM1','FSTL1','CALD1','FN1','GADD45A',\n",
    "            'DAB2','GLIPR1','IL32','INHBA','CYR61','THBS1','MFAP5','SPARC',\n",
    "            'SAT1','TFPI2','MGP','DKK1','FSTL3','WNT5A','SERPINH1','FERMT2',\n",
    "            'GPC1','CTGF','TPM4','PDLIM4','ITGB1','SERPINE2','SDC4','CD59',\n",
    "            'NOTCH2','COL5A1','LAMC1','PLAUR','BDNF','IGFBP3','FN1','CD24',\n",
    "            'GADD45A','TGFB2','TIMP2','PSAP','CYR61','EDN1','INHBA','THBS1',\n",
    "            'DUSP1','PINK1','GAS6','GSTP1','PDGFB','CTGF','TPD52L1','CAV2','CAV1',\n",
    "            'INHBB','IGBP1','DAG1','PTPLAD1','ITGB1','MID1','LYN','PEA15',\n",
    "            'RIPK2','RNF149','CDC42','PTPN11','EZR','TRIB1','MUC20','KRAS','RRAS',\n",
    "            'GADD45A','CYR61','EDN1','SAT1','DUSP1','FOS','PNRC1','JUNB','TIPARP',\n",
    "            'OLR1','F3','IER2','CCND1','CCNL1','NAMPT','TUBB2A','TRIB1','SDC4','BTG3',\n",
    "            'RIPK2','PTGS2','TGIF1','PLAUR','ID3','SOX4','CYP1B1','KLHL24',\n",
    "            'GSN','AHNAK2','GRN','HIST1H2AC','HIST1H2BD','HIST1H1C','HEG1','FTH1',\n",
    "            'HCFC1R1','GLUL','CTSH','BCAM','CALCOCO1','MUC1','ANXA4','EPHX1','YPEL5']"
   ]
  },
  {
   "cell_type": "code",
   "execution_count": null,
   "id": "cb502f05",
   "metadata": {},
   "outputs": [],
   "source": []
  },
  {
   "cell_type": "markdown",
   "id": "99af2da6",
   "metadata": {},
   "source": [
    "## **Set up Files for Inference and Select Cell Barcodes**"
   ]
  },
  {
   "cell_type": "code",
   "execution_count": 902,
   "id": "81188464",
   "metadata": {},
   "outputs": [],
   "source": [
    "ks = [5,10] #K options for meK-Means\n",
    "num_ks = len(ks) #Number of Ks to try"
   ]
  },
  {
   "cell_type": "code",
   "execution_count": 903,
   "id": "c465e57f",
   "metadata": {},
   "outputs": [
    {
     "name": "stdout",
     "output_type": "stream",
     "text": [
      "Runs:  ['meK_norman_k3', 'meK_norman_k5']\n"
     ]
    }
   ],
   "source": [
    "#Set  up output file names for inference run results\n",
    "\n",
    "#Make names for each of the K runs\n",
    "clus_names = ['k'+str(run_k) for run_k in ks]\n",
    "\n",
    "#Output file names\n",
    "dataset_names = ['meK_norman_'+y  for y in clus_names]\n",
    "print('Runs: ',dataset_names)"
   ]
  },
  {
   "cell_type": "code",
   "execution_count": 904,
   "id": "377541e4",
   "metadata": {},
   "outputs": [
    {
     "name": "stdout",
     "output_type": "stream",
     "text": [
      "loom_filepaths:  ['/home/tchari/counts/norman_crispr/loom/allcrispr.loom', '/home/tchari/counts/norman_crispr/loom/allcrispr.loom']\n"
     ]
    }
   ],
   "source": [
    "#Set reference data filepaths\n",
    "transcriptome_filepath = '/home/tchari/perturbCME/notebooks/gg_200525_genome_polyA_cum_3'\n",
    "\n",
    "#Attribute names in loom file, same as in standard kallisto|bustools --lamanno output\n",
    "attribute_names=[('unspliced','spliced'),'gene_name','barcode']\n",
    "\n",
    "loom_filepaths = ['/home/tchari/counts/cancer_dt/loom/all_cancer_dt.loom']*num_ks #All runs use the same loom file\n",
    "print('loom_filepaths: ',loom_filepaths)\n",
    "\n",
    "n_datasets = len(loom_filepaths)"
   ]
  },
  {
   "cell_type": "markdown",
   "id": "2042dc00",
   "metadata": {},
   "source": [
    "Filter cell barcodes"
   ]
  },
  {
   "cell_type": "code",
   "execution_count": null,
   "id": "31b1f917",
   "metadata": {},
   "outputs": [],
   "source": [
    "#Filter for cell barcodes with reasonable UMI threshold, and filter for cells in selected conditions\n",
    "cf = []\n",
    "thr_lb = [10]*num_ks #4e3,Set UMI count filter for each K run\n",
    "\n",
    "fig1,ax1 = plt.subplots(1,num_ks,figsize=(15,5))\n",
    "\n",
    "bcs = bars\n",
    "n_cells = S.shape[0]\n",
    "\n",
    "\n",
    "for k in range(num_ks):\n",
    "    filename = loom_filepaths[k]\n",
    "    dataset_name = dataset_names[k]\n",
    "\n",
    "\n",
    "    #Make knee plot with S+U counts\n",
    "    monod.preprocess.knee_plot(S.T+U.T,ax1[k],viz=True,thr=thr_lb[k])\n",
    "    cf_ = ((S.T+U.T).sum(0)>thr_lb[k])\n",
    "\n",
    "    #Make filter for low count barcodes\n",
    "    n_annot_bcs = len(meta['cell_barcode'])\n",
    "    annot_bcs_in_loom = meta['cell_barcode'].isin(bcs).sum()\n",
    "    annot_bcs_in_filt_loom = meta['cell_barcode'].isin(bcs[cf_]).sum()\n",
    "    print(f'Dataset {dataset_name}. \\n\\t{len(bcs)} barcodes in loom, {cf_.sum()} pass filter. {n_annot_bcs} in annotations; of these, {annot_bcs_in_loom} in loom and {annot_bcs_in_filt_loom} in filtered loom.')\n",
    "\n",
    "    #Select for barcodes in selected conditions, if applicable\n",
    "    annot_bcs = meta[(meta['guide_identity'].isin(conds_only))]['cell_barcode'] #previously filt_ids with ctrls\n",
    "    cf.append(np.isin(bcs,annot_bcs) & cf_)\n",
    "    print(f'{len(annot_bcs)} cells in annotations. {np.isin(bcs,annot_bcs).sum()} in loom. {cf[-1].sum()} pass filter.')\n",
    "\n",
    "\n",
    "    ax1[k].set_title(dataset_name)\n",
    "\n",
    "!mkdir ./figs\n",
    "fig_dir = './figs/'\n",
    "fig_string = fig_dir + 'kneeplots_norman_meK.png'\n",
    "fig1.tight_layout()\n",
    "plt.savefig(fig_string,dpi=450)\n",
    "\n",
    "#110,107 cells"
   ]
  },
  {
   "cell_type": "code",
   "execution_count": null,
   "id": "8f5f969d",
   "metadata": {},
   "outputs": [],
   "source": []
  },
  {
   "cell_type": "markdown",
   "id": "fa132f52",
   "metadata": {},
   "source": [
    "## **Create Output Files and Run meK-Means**"
   ]
  },
  {
   "cell_type": "code",
   "execution_count": 906,
   "id": "5bf66dbd",
   "metadata": {},
   "outputs": [],
   "source": [
    "import logging, sys\n",
    "logging.basicConfig(stream=sys.stdout)\n",
    "log = logging.getLogger()\n",
    "log.setLevel(logging.INFO)\n",
    "import warnings\n",
    "warnings.filterwarnings(\"ignore\")\n",
    "warnings.simplefilter('ignore')"
   ]
  },
  {
   "cell_type": "code",
   "execution_count": 907,
   "id": "1611e6ad",
   "metadata": {},
   "outputs": [
    {
     "name": "stdout",
     "output_type": "stream",
     "text": [
      "mkdir: cannot create directory ‘./fits’: File exists\r\n"
     ]
    }
   ],
   "source": [
    "!mkdir ./fits"
   ]
  },
  {
   "cell_type": "code",
   "execution_count": null,
   "id": "5160bef7",
   "metadata": {},
   "outputs": [],
   "source": [
    "#Select to run inference on, same genes selected across all runs\n",
    "dir_string,dataset_strings = monod.preprocess.construct_batch(loom_filepaths, \\\n",
    "                                             transcriptome_filepath, \\\n",
    "                                             dataset_names, \\\n",
    "                                             attribute_names=attribute_names,\\\n",
    "                                             batch_location='./fits',meta='meK_norman',batch_id=1,\\\n",
    "                                             datestring='230917', n_genes=len(all_gs_forinf),\\\n",
    "                                             exp_filter_threshold=None,cf=cf,\n",
    "                                                             genes_to_fit=all_gs_forinf) #len(all_gs_forinf)"
   ]
  },
  {
   "cell_type": "code",
   "execution_count": null,
   "id": "dd43a57b",
   "metadata": {},
   "outputs": [],
   "source": []
  },
  {
   "cell_type": "code",
   "execution_count": null,
   "id": "ad78c81a",
   "metadata": {},
   "outputs": [],
   "source": []
  },
  {
   "cell_type": "code",
   "execution_count": null,
   "id": "3a9025bf",
   "metadata": {},
   "outputs": [],
   "source": []
  },
  {
   "cell_type": "markdown",
   "id": "7c78bce7",
   "metadata": {},
   "source": [
    "**Run meK-Means**"
   ]
  },
  {
   "cell_type": "code",
   "execution_count": 911,
   "id": "a7822ec1",
   "metadata": {},
   "outputs": [],
   "source": [
    "#Set bounds from physical parameters search space\n",
    "phys_lb = [-2.0, -1.8, -1.8 ]\n",
    "phys_ub = [4.2, 2.5, 2.5]\n",
    "\n",
    "\n",
    "samp_lb = [-7.157894736842105, -1.525]\n",
    "samp_ub = [-7.157894736842105, -1.525]\n",
    "\n",
    "gridsize = [1,1]"
   ]
  },
  {
   "cell_type": "code",
   "execution_count": 912,
   "id": "0d76904a",
   "metadata": {},
   "outputs": [],
   "source": [
    "#Set number of epochs\n",
    "epochs = 10"
   ]
  },
  {
   "cell_type": "code",
   "execution_count": null,
   "id": "979a36a6",
   "metadata": {},
   "outputs": [],
   "source": []
  },
  {
   "cell_type": "code",
   "execution_count": null,
   "id": "9a2066a9",
   "metadata": {},
   "outputs": [],
   "source": [
    "result_strings = []\n",
    "for i in range(num_ks):\n",
    "\n",
    "    #Define model with bursty transcription and Poisson molecule capture/sampling\n",
    "    fitmodel = monod.cme_toolbox.CMEModel('Bursty','Poisson')\n",
    "\n",
    "    #Set up mminference parameters\n",
    "    inference_parameters = monod.mminference.InferenceParameters(phys_lb,phys_ub,samp_lb,samp_ub,gridsize,\\\n",
    "                dataset_strings[i],fitmodel,k=ks[i],epochs=epochs,use_lengths = True,\n",
    "                gradient_params = {'max_iterations':5,'init_pattern':'moments','num_restarts':1})\n",
    "\n",
    "    #Read in loom file with filtered barcodes\n",
    "    search_data = monod.extract_data.extract_data(loom_filepaths[i], transcriptome_filepath, dataset_names[i],\n",
    "                dataset_strings[i], dir_string, viz=False, dataset_attr_names=attribute_names,cf=cf[i])\n",
    "\n",
    "    #Run inference(fit_all_grid_points()) and Save result file strings\n",
    "    full_result_string = inference_parameters.fit_all_grid_points(30,search_data) \n",
    "\n",
    "    result_strings.append(full_result_string)\n",
    "    \n",
    "    "
   ]
  }
 ],
 "metadata": {
  "kernelspec": {
   "display_name": "Python 3 (ipykernel)",
   "language": "python",
   "name": "python3"
  },
  "language_info": {
   "codemirror_mode": {
    "name": "ipython",
    "version": 3
   },
   "file_extension": ".py",
   "mimetype": "text/x-python",
   "name": "python",
   "nbconvert_exporter": "python",
   "pygments_lexer": "ipython3",
   "version": "3.7.11"
  }
 },
 "nbformat": 4,
 "nbformat_minor": 5
}
